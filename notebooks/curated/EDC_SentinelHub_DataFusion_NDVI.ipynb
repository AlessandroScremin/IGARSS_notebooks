{
 "cells": [
  {
   "cell_type": "code",
   "execution_count": 1,
   "id": "15d3f64b",
   "metadata": {
    "execution": {
     "iopub.execute_input": "2021-12-14T12:30:45.948408Z",
     "iopub.status.busy": "2021-12-14T12:30:45.947593Z",
     "iopub.status.idle": "2021-12-14T12:30:46.015080Z",
     "shell.execute_reply": "2021-12-14T12:30:46.015568Z"
    },
    "papermill": {
     "duration": 0.141844,
     "end_time": "2021-12-14T12:30:46.015773",
     "exception": false,
     "start_time": "2021-12-14T12:30:45.873929",
     "status": "completed"
    },
    "tags": []
   },
   "outputs": [
    {
     "data": {
      "text/html": [
       "<script type=\"text/javascript\">\n",
       "        function toggle(id) {\n",
       "            el = document.getElementById(id);\n",
       "            el.style.display = el.style.display === \"none\" ? \"block\" : \"none\";\n",
       "        }\n",
       "    </script>"
      ],
      "text/plain": [
       "<IPython.core.display.HTML object>"
      ]
     },
     "metadata": {},
     "output_type": "display_data"
    },
    {
     "data": {
      "text/html": [
       "This notebook is compatible with this base image version (user-2021.12)."
      ],
      "text/plain": [
       "<IPython.core.display.HTML object>"
      ]
     },
     "metadata": {},
     "output_type": "display_data"
    },
    {
     "data": {
      "text/markdown": [
       "\n",
       "\n",
       "---------\n",
       "\n",
       "The following environment variables are available:\n",
       "\n",
       "* `SH_CLIENT_ID`, `SH_INSTANCE_ID`, `SH_CLIENT_NAME`, `SH_CLIENT_SECRET`\n"
      ],
      "text/plain": [
       "<IPython.core.display.Markdown object>"
      ]
     },
     "metadata": {},
     "output_type": "display_data"
    }
   ],
   "source": [
    "from edc import check_compatibility\n",
    "check_compatibility(\"user-2021.12\", dependencies=[\"SH\"])"
   ]
  },
  {
   "cell_type": "markdown",
   "id": "863a51cb",
   "metadata": {
    "papermill": {
     "duration": 0.074982,
     "end_time": "2021-12-14T12:30:46.162722",
     "exception": false,
     "start_time": "2021-12-14T12:30:46.087740",
     "status": "completed"
    },
    "tags": []
   },
   "source": [
    "# EDC Sentinel Hub: Data Fusion\n",
    "\n",
    "## Example 2: Mapping crop NDVI with Sentinel-1 and Sentinel-2\n",
    "\n",
    "[NDVI](https://www.sentinel-hub.com/eoproducts/ndvi-normalized-difference-vegetation-index) is a widely used vegetation index that uses Near Infra-Red (NIR) and Red wavelengths to measure the photosynthetic capacity of plant canopies. This index is a widely-used tool to assess agricultural crop conditions throughout the phenological cycle of the crops, linking chlorophyll activity to yield or canopy health [e.g. 1, 2].\n",
    "\n",
    "[Sentinel-2](https://sentinel.esa.int/web/sentinel/missions/sentinel-2) is an ideal tool to monitor NDVI based on its NIR (B08, 842 nm) and Red bands (B04, 665 nm), owing to its large coverage, high spatial resolution (10/20 m), regular overpasses (~ 5 days) in comparison to other sensors. However, depending on the region and time of year, cloud cover can lead to sparse observations with the consequence of missing key stages of vegetation growth or activity. Furthermore, a 5-day revisit-time may not be sufficient to capture rapid changes in vegetation cover.\n",
    "\n",
    "Studies have linked Synthetic Aperture Radar (SAR) backscattering data to vegetation development [e.g. 3, 4], and in particular to NDVI [5]. C-band SAR satellites such as [Sentinel-1](https://docs.sentinel-hub.com/api/latest/#/data/Sentinel-1-GRD) offer frequent (~ 6 days) high-resolution observations of the Earth's surface that have the advantage of being unaffected by cloud cover. \n",
    "\n",
    "In this Notebook, based on the relationship between radar backscatter and NDVI [5], we combine a Sentinel-2 L2A NDVI product partly occulted by clouds with Sentinel-1 GRD observation to produce a seamless NDVI product. \n",
    "\n",
    "\n",
    "<sub><sup>[1] _Quarmby et al., 1993, The use of multi-temporal NDVI measurements from AVHRR data for crop yield estimation and prediction, DOI: 10.1080/01431169308904332._</sup></sub>\n",
    "\n",
    "<sub><sup>[2] _Mazzetto et al., 2010, Integration of optical and analogue sensors for monitoring canopy health and vigour in precision viticulture, DOI: 10.1007/s11119-010-9186-1._</sup></sub>\n",
    "\n",
    "<sub><sup>[3] _Capodici et al., 2013, Investigating the Relationship between X-Band SAR Data from COSMO-SkyMed Satellite and NDVI for LAI Detection. DOI: 10.3390/rs5031389._</sup></sub>\n",
    "\n",
    "<sub><sup>[4] _Inoue et al., 2014, Capability of C-band backscattering coefficients from high-resolution satellite SAR sensors to assess biophysical variables in paddy rice, DOI: 10.1016/j.rse.2013.09.001._</sup></sub>\n",
    "\n",
    "<sub><sup>[5] _Filgueiras et al., 2019, Crop NDVI Monitoring Based on Sentinel 1, DOI: 10.3390/rs11121441._</sup></sub>\n",
    "\n",
    "### Prerequisites\n",
    "\n",
    "This notebook requires an active subscription to:\n",
    "\n",
    "-   EDC Sentinel Hub"
   ]
  },
  {
   "cell_type": "code",
   "execution_count": 2,
   "id": "21f7144d",
   "metadata": {
    "execution": {
     "iopub.execute_input": "2021-12-14T12:30:46.302591Z",
     "iopub.status.busy": "2021-12-14T12:30:46.300336Z",
     "iopub.status.idle": "2021-12-14T12:30:46.321896Z",
     "shell.execute_reply": "2021-12-14T12:30:46.321161Z"
    },
    "papermill": {
     "duration": 0.091801,
     "end_time": "2021-12-14T12:30:46.322017",
     "exception": false,
     "start_time": "2021-12-14T12:30:46.230216",
     "status": "completed"
    },
    "tags": []
   },
   "outputs": [],
   "source": [
    "# Request tools imports\n",
    "from oauthlib.oauth2 import BackendApplicationClient\n",
    "from requests_oauthlib import OAuth2Session"
   ]
  },
  {
   "cell_type": "code",
   "execution_count": 3,
   "id": "dc4ed4dd",
   "metadata": {
    "execution": {
     "iopub.execute_input": "2021-12-14T12:30:46.476288Z",
     "iopub.status.busy": "2021-12-14T12:30:46.475507Z",
     "iopub.status.idle": "2021-12-14T12:30:46.818089Z",
     "shell.execute_reply": "2021-12-14T12:30:46.817147Z"
    },
    "papermill": {
     "duration": 0.415381,
     "end_time": "2021-12-14T12:30:46.818232",
     "exception": false,
     "start_time": "2021-12-14T12:30:46.402851",
     "status": "completed"
    },
    "tags": []
   },
   "outputs": [],
   "source": [
    "# Utilities\n",
    "import shapely.geometry\n",
    "import IPython.display"
   ]
  },
  {
   "cell_type": "code",
   "execution_count": 4,
   "id": "0d4dcb37",
   "metadata": {
    "execution": {
     "iopub.execute_input": "2021-12-14T12:30:47.089435Z",
     "iopub.status.busy": "2021-12-14T12:30:47.087319Z",
     "iopub.status.idle": "2021-12-14T12:30:47.981949Z",
     "shell.execute_reply": "2021-12-14T12:30:47.981310Z"
    },
    "papermill": {
     "duration": 0.968231,
     "end_time": "2021-12-14T12:30:47.982075",
     "exception": false,
     "start_time": "2021-12-14T12:30:47.013844",
     "status": "completed"
    },
    "tags": []
   },
   "outputs": [],
   "source": [
    "%matplotlib inline"
   ]
  },
  {
   "cell_type": "markdown",
   "id": "82521063",
   "metadata": {
    "papermill": {
     "duration": 0.066896,
     "end_time": "2021-12-14T12:30:48.124369",
     "exception": false,
     "start_time": "2021-12-14T12:30:48.057473",
     "status": "completed"
    },
    "tags": []
   },
   "source": [
    "### Setup"
   ]
  },
  {
   "cell_type": "code",
   "execution_count": 5,
   "id": "aebf2485",
   "metadata": {
    "execution": {
     "iopub.execute_input": "2021-12-14T12:30:48.263250Z",
     "iopub.status.busy": "2021-12-14T12:30:48.262531Z",
     "iopub.status.idle": "2021-12-14T12:30:48.265055Z",
     "shell.execute_reply": "2021-12-14T12:30:48.264416Z"
    },
    "papermill": {
     "duration": 0.073911,
     "end_time": "2021-12-14T12:30:48.265180",
     "exception": false,
     "start_time": "2021-12-14T12:30:48.191269",
     "status": "completed"
    },
    "tags": []
   },
   "outputs": [],
   "source": [
    "# Pass the Sentinel Hub Client ID and Secret to variables to be used in the request.\n",
    "my_client_id = %env SH_CLIENT_ID\n",
    "my_client_secret = %env SH_CLIENT_SECRET"
   ]
  },
  {
   "cell_type": "code",
   "execution_count": 6,
   "id": "26dfb4ed",
   "metadata": {
    "execution": {
     "iopub.execute_input": "2021-12-14T12:30:48.411135Z",
     "iopub.status.busy": "2021-12-14T12:30:48.410164Z",
     "iopub.status.idle": "2021-12-14T12:30:48.413137Z",
     "shell.execute_reply": "2021-12-14T12:30:48.412278Z"
    },
    "papermill": {
     "duration": 0.075514,
     "end_time": "2021-12-14T12:30:48.413269",
     "exception": false,
     "start_time": "2021-12-14T12:30:48.337755",
     "status": "completed"
    },
    "tags": []
   },
   "outputs": [],
   "source": [
    "# Create an OAuth2 session based on the client ID\n",
    "client = BackendApplicationClient(client_id=my_client_id)\n",
    "oauth = OAuth2Session(client=client)"
   ]
  },
  {
   "cell_type": "markdown",
   "id": "d3ba6db3",
   "metadata": {
    "papermill": {
     "duration": 0.066565,
     "end_time": "2021-12-14T12:30:48.557269",
     "exception": false,
     "start_time": "2021-12-14T12:30:48.490704",
     "status": "completed"
    },
    "tags": []
   },
   "source": [
    "The Sentinel Hub API uses OAuth2 Authentication and requires that you have an [access token](https://docs.sentinel-hub.com/api/latest/#/API/authentication). These tokens are limited in time, but a new one can be requested with the following command."
   ]
  },
  {
   "cell_type": "code",
   "execution_count": 7,
   "id": "f35b4da2",
   "metadata": {
    "execution": {
     "iopub.execute_input": "2021-12-14T12:30:48.697207Z",
     "iopub.status.busy": "2021-12-14T12:30:48.696393Z",
     "iopub.status.idle": "2021-12-14T12:30:48.813266Z",
     "shell.execute_reply": "2021-12-14T12:30:48.812571Z"
    },
    "papermill": {
     "duration": 0.189802,
     "end_time": "2021-12-14T12:30:48.813433",
     "exception": false,
     "start_time": "2021-12-14T12:30:48.623631",
     "status": "completed"
    },
    "tags": []
   },
   "outputs": [],
   "source": [
    "# Get a token for the session\n",
    "token = oauth.fetch_token(token_url='https://services.sentinel-hub.com/oauth/token',\n",
    "                          client_id=my_client_id, client_secret=my_client_secret)"
   ]
  },
  {
   "cell_type": "markdown",
   "id": "66fcea52",
   "metadata": {
    "papermill": {
     "duration": 0.066404,
     "end_time": "2021-12-14T12:30:48.947912",
     "exception": false,
     "start_time": "2021-12-14T12:30:48.881508",
     "status": "completed"
    },
    "tags": []
   },
   "source": [
    "## Setting an area of interest\n",
    "\n",
    "We will download Sentinel-1 and Sentinel-2 imagery over cropland located to the west of Dodge City, Kansas. The region is characterised by intensive agriculture, mainly wheat and sorghum cultivated in circular crop fields.\n",
    "\n",
    "The bounding box is in the WGS84 coordinate system, and consists of the longitude and latitude coordinates of lower left and upper right corners."
   ]
  },
  {
   "cell_type": "code",
   "execution_count": 8,
   "id": "a7506d94",
   "metadata": {
    "execution": {
     "iopub.execute_input": "2021-12-14T12:30:49.085893Z",
     "iopub.status.busy": "2021-12-14T12:30:49.085180Z",
     "iopub.status.idle": "2021-12-14T12:30:49.087860Z",
     "shell.execute_reply": "2021-12-14T12:30:49.087283Z"
    },
    "papermill": {
     "duration": 0.073579,
     "end_time": "2021-12-14T12:30:49.087977",
     "exception": false,
     "start_time": "2021-12-14T12:30:49.014398",
     "status": "completed"
    },
    "tags": []
   },
   "outputs": [],
   "source": [
    "# Set bounding box coordinates for the area of interest\n",
    "bbox = (-100.9204, 37.5718, -100.4865, 37.8640)"
   ]
  },
  {
   "cell_type": "code",
   "execution_count": 9,
   "id": "e3b21e43",
   "metadata": {
    "execution": {
     "iopub.execute_input": "2021-12-14T12:30:49.227550Z",
     "iopub.status.busy": "2021-12-14T12:30:49.226837Z",
     "iopub.status.idle": "2021-12-14T12:30:49.231766Z",
     "shell.execute_reply": "2021-12-14T12:30:49.230977Z"
    },
    "papermill": {
     "duration": 0.076979,
     "end_time": "2021-12-14T12:30:49.231931",
     "exception": false,
     "start_time": "2021-12-14T12:30:49.154952",
     "status": "completed"
    },
    "tags": []
   },
   "outputs": [
    {
     "data": {
      "application/geo+json": {
       "coordinates": [
        [
         [
          -100.4865,
          37.5718
         ],
         [
          -100.4865,
          37.864
         ],
         [
          -100.9204,
          37.864
         ],
         [
          -100.9204,
          37.5718
         ],
         [
          -100.4865,
          37.5718
         ]
        ]
       ],
       "type": "Polygon"
      },
      "text/plain": [
       "<IPython.display.GeoJSON object>"
      ]
     },
     "metadata": {
      "application/geo+json": {
       "expanded": false,
       "root": "root"
      }
     },
     "output_type": "display_data"
    }
   ],
   "source": [
    "# Display the coordinates on a map\n",
    "IPython.display.GeoJSON(shapely.geometry.box(*bbox).__geo_interface__)"
   ]
  },
  {
   "cell_type": "markdown",
   "id": "5145aec2",
   "metadata": {
    "papermill": {
     "duration": 0.068924,
     "end_time": "2021-12-14T12:30:49.376894",
     "exception": false,
     "start_time": "2021-12-14T12:30:49.307970",
     "status": "completed"
    },
    "tags": []
   },
   "source": [
    "## API request\n",
    "\n",
    "We need to specify arguments to send a POST request, more information about all the availaible options [here](https://docs.sentinel-hub.com/api/latest/reference/#operation/process):\n",
    "\n",
    "-   The access point URL:  set it to `https://services.sentinel-hub.com/api/v1/process`\n",
    "\n",
    "-   `json` - the contents of the request containing:\n",
    "\t- `input`: (required) specifies the data to request:\n",
    "\t\t- `bounds`: defines the request bounds by specifying the bounding box and/or geometry for the request.\n",
    "\t\t- `data`: describes the data being requested along with certain processing and filtering parameters.\n",
    "\t- `output`: (optional) allows to set parameters for the returned data\n",
    "\t\t-  `width`: The request image width. Must be an integer between 1 and 2500. \n",
    "        -  `height`: The request image height. Must be an integer between 1 and 2500. \n",
    "\t- `evalscript`: calculates the output values for each pixel\n"
   ]
  },
  {
   "cell_type": "markdown",
   "id": "578c10cd",
   "metadata": {
    "papermill": {
     "duration": 0.071033,
     "end_time": "2021-12-14T12:30:49.517367",
     "exception": false,
     "start_time": "2021-12-14T12:30:49.446334",
     "status": "completed"
    },
    "tags": []
   },
   "source": [
    "#### Step 1\n",
    "First, set the input options. The options are set in the form of a dictionary with key/values pairs.\n",
    "\n",
    "1. Specify the bounds of your request using the bounding box previously described and specifying the [projection]( \n",
    "https://docs.sentinel-hub.com/api/latest/#/API/crs?id=crs-support) (one of the CRS supported by Sentinel Hub API).\n",
    "\n",
    "2. Specify the data to fetch. As in this example there are 2 data sources (Sentinel-1 and Sentinel-2), the options for each sensor are specified in a list of dictionaries.  "
   ]
  },
  {
   "cell_type": "code",
   "execution_count": 10,
   "id": "c4fb82e6",
   "metadata": {
    "execution": {
     "iopub.execute_input": "2021-12-14T12:30:49.662364Z",
     "iopub.status.busy": "2021-12-14T12:30:49.658439Z",
     "iopub.status.idle": "2021-12-14T12:30:49.664612Z",
     "shell.execute_reply": "2021-12-14T12:30:49.664005Z"
    },
    "papermill": {
     "duration": 0.07806,
     "end_time": "2021-12-14T12:30:49.664753",
     "exception": false,
     "start_time": "2021-12-14T12:30:49.586693",
     "status": "completed"
    },
    "tags": []
   },
   "outputs": [],
   "source": [
    "# 1. Bounds \n",
    "bounds = {\"properties\":{\"crs\":\"http://www.opengis.net/def/crs/OGC/1.3/CRS84\"}, \"bbox\": bbox}\n",
    "\n",
    "# 2. Data\n",
    "# Following Filgueiras et al. (2019), the Sentinel-1 orthorectified sigma_0 bands are returned.\n",
    "# We also use Atmospherically corrected Sentinel-2 (L2A) data\n",
    "\n",
    "data = [{\"id\": \"s1\", \n",
    "         \"type\": \"S1GRD\",\n",
    "          \"dataFilter\": {\"timeRange\": {\"from\": \"2019-04-26T00:00:00Z\",\n",
    "                                       \"to\": \"2019-04-26T23:59:00Z\"},\n",
    "                         \"mosaickingOrder\": \"mostRecent\"},\n",
    "         \"processing\": {\n",
    "                    \"orthorectify\": \"true\",\n",
    "                    \"backCoeff\": \"SIGMA0_ELLIPSOID\"\n",
    "                }},\n",
    "         {\"id\": \"l2a\",\n",
    "          \"type\": \"S2L2A\",\n",
    "          \"dataFilter\": {\"timeRange\": {\"from\": \"2019-04-26T00:00:00Z\",\n",
    "                                       \"to\": \"2019-04-26T23:59:00Z\"},\n",
    "                         \"mosaickingOrder\": \"mostRecent\"}}]\n",
    "# Set the options to the input\n",
    "input_options = {\"bounds\": bounds, \"data\": data,}"
   ]
  },
  {
   "cell_type": "markdown",
   "id": "5c244c45",
   "metadata": {
    "papermill": {
     "duration": 0.069502,
     "end_time": "2021-12-14T12:30:49.806658",
     "exception": false,
     "start_time": "2021-12-14T12:30:49.737156",
     "status": "completed"
    },
    "tags": []
   },
   "source": [
    "#### Step 2\n",
    "\n",
    "Then set the output options. The default output size of the requested image is 256x256 pixels, so here we will modify the output to be larger. The result will be displayed only, therefore we also set the output format to jpeg."
   ]
  },
  {
   "cell_type": "code",
   "execution_count": 11,
   "id": "21836ba9",
   "metadata": {
    "execution": {
     "iopub.execute_input": "2021-12-14T12:30:49.948706Z",
     "iopub.status.busy": "2021-12-14T12:30:49.948021Z",
     "iopub.status.idle": "2021-12-14T12:30:49.951067Z",
     "shell.execute_reply": "2021-12-14T12:30:49.950159Z"
    },
    "papermill": {
     "duration": 0.07627,
     "end_time": "2021-12-14T12:30:49.951220",
     "exception": false,
     "start_time": "2021-12-14T12:30:49.874950",
     "status": "completed"
    },
    "tags": []
   },
   "outputs": [],
   "source": [
    "output_options = {\"width\": 640, \"height\": 640, \"responses\": [{\"format\": {\"type\": \"image/jpeg\",\n",
    "                                                                         \"quality\": 90}}]}"
   ]
  },
  {
   "cell_type": "markdown",
   "id": "8724ca49",
   "metadata": {
    "papermill": {
     "duration": 0.069298,
     "end_time": "2021-12-14T12:30:50.095078",
     "exception": false,
     "start_time": "2021-12-14T12:30:50.025780",
     "status": "completed"
    },
    "tags": []
   },
   "source": [
    "#### Step 3\n",
    "\n",
    "The [evalscript](https://docs.sentinel-hub.com/api/latest/#/Evalscript/) is a piece of javascript code that allows to process the pixels of the images that are returned.\n",
    "\n",
    "In the current example, the S1 and S2 bands needed are called in the `setup` function of the script. \n",
    "\n",
    "To compare the results of the fused NDVI product, several requests will be run with slightly different evalscripts. We will return:\n",
    "\n",
    "1 - The S2 [True Color](https://www.sentinel-hub.com/eoproducts/true-color) visualisation (scaled by 2.5 for better viewing).\n",
    "\n",
    "2 - The S2 NDVI visualisation.\n",
    "\n",
    "3 - The merged S1-S2 NDVI visualisation. "
   ]
  },
  {
   "cell_type": "code",
   "execution_count": 12,
   "id": "820260bf",
   "metadata": {
    "execution": {
     "iopub.execute_input": "2021-12-14T12:30:50.242500Z",
     "iopub.status.busy": "2021-12-14T12:30:50.241733Z",
     "iopub.status.idle": "2021-12-14T12:30:50.244114Z",
     "shell.execute_reply": "2021-12-14T12:30:50.243416Z"
    },
    "papermill": {
     "duration": 0.077664,
     "end_time": "2021-12-14T12:30:50.244270",
     "exception": false,
     "start_time": "2021-12-14T12:30:50.166606",
     "status": "completed"
    },
    "tags": []
   },
   "outputs": [],
   "source": [
    "# 1. Evalscript returning the True Color Visualisation of S2 data\n",
    "tc_evalscript = \"\"\"\n",
    "//VERSION=3\n",
    "function setup (){\n",
    "  return {\n",
    "    input: [\n",
    "      {datasource: \"s1\", bands:[\"VV\", \"VH\"]},\n",
    "      {datasource: \"l2a\", bands:[\"B02\", \"B03\", \"B08\", \"B04\", \"SCL\"], units:\"REFLECTANCE\"}],\n",
    "    output: [\n",
    "      {id: \"default\", bands: 3, sampleType: SampleType.AUTO}\n",
    "    ]\n",
    "  }\n",
    "}\n",
    "\n",
    "function evaluatePixel(samples) {\n",
    "  var s2 = samples.l2a[0]\n",
    "  \n",
    "  return {default: [s2.B04 * 2.5, s2.B03 * 2.5, s2.B02 * 2.5]}\n",
    "  }\n",
    "\"\"\""
   ]
  },
  {
   "cell_type": "code",
   "execution_count": 13,
   "id": "e014838b",
   "metadata": {
    "execution": {
     "iopub.execute_input": "2021-12-14T12:30:50.397924Z",
     "iopub.status.busy": "2021-12-14T12:30:50.396935Z",
     "iopub.status.idle": "2021-12-14T12:30:50.398971Z",
     "shell.execute_reply": "2021-12-14T12:30:50.399418Z"
    },
    "papermill": {
     "duration": 0.081141,
     "end_time": "2021-12-14T12:30:50.399588",
     "exception": false,
     "start_time": "2021-12-14T12:30:50.318447",
     "status": "completed"
    },
    "tags": []
   },
   "outputs": [],
   "source": [
    "# 2. Evalscript returning the S2 NDVI\n",
    "s2_ndvi_evalscript = \"\"\"\n",
    "//VERSION=3\n",
    "function setup (){\n",
    "  return {\n",
    "    input: [\n",
    "      {datasource: \"s1\", bands:[\"VV\", \"VH\"]},\n",
    "      {datasource: \"l2a\", bands:[\"B02\", \"B03\", \"B08\", \"B04\", \"SCL\"], units:\"REFLECTANCE\"}],\n",
    "    output: [\n",
    "      {id: \"default\", bands: 3, sampleType: SampleType.AUTO}\n",
    "    ]\n",
    "  }\n",
    "}\n",
    "\n",
    "function evaluatePixel(samples) {\n",
    "    \n",
    "  var s2 = samples.l2a[0]\n",
    "\n",
    "  // Create an NDVI visualiser\n",
    "  var viz=new ColorMapVisualizer([[0.0,0xa50026],\n",
    "                                  [0.0,0xd73027], [0.2,0xf46d43],\n",
    "                                  [0.3,0xfdae61], [0.4,0xfee08b],\n",
    "                                  [0.5,0xffffbf], [0.6,0xd9ef8b],\n",
    "                                  [0.7,0xa6d96a], [0.8,0x66bd63],\n",
    "                                  [0.9,0x1a9850], [1.0,0x006837]]);\n",
    "  // Calculate S2 NDVI\n",
    "  let ndvi = index(s2.B08, s2.B04)\n",
    "\n",
    "  return {default: viz.process(ndvi)}\n",
    "}\n",
    "\"\"\""
   ]
  },
  {
   "cell_type": "code",
   "execution_count": 14,
   "id": "ddeaf0a8",
   "metadata": {
    "execution": {
     "iopub.execute_input": "2021-12-14T12:30:50.552000Z",
     "iopub.status.busy": "2021-12-14T12:30:50.551107Z",
     "iopub.status.idle": "2021-12-14T12:30:50.554161Z",
     "shell.execute_reply": "2021-12-14T12:30:50.553425Z"
    },
    "papermill": {
     "duration": 0.080703,
     "end_time": "2021-12-14T12:30:50.554300",
     "exception": false,
     "start_time": "2021-12-14T12:30:50.473597",
     "status": "completed"
    },
    "tags": []
   },
   "outputs": [],
   "source": [
    "s12_ndvi_evalscript = \"\"\"\n",
    "//VERSION=3\n",
    "function setup (){\n",
    "  return {\n",
    "    input: [\n",
    "      {datasource: \"s1\", bands:[\"VV\", \"VH\"]},\n",
    "      {datasource: \"l2a\", bands:[\"B02\", \"B03\", \"B08\", \"B04\", \"SCL\"], units:\"REFLECTANCE\"}],\n",
    "    output: [\n",
    "      {id: \"default\", bands: 3, sampleType: SampleType.AUTO}\n",
    "    ]\n",
    "  }\n",
    "}\n",
    "\n",
    "function toDb(linear) {\n",
    "  // Convert the linear backscatter to DB (Filgueiras et al. (2019), eq. 3)\n",
    "  return 10 * Math.LN10 * linear\n",
    "}\n",
    "\n",
    "function calc_s1_ndvi(sigmaVV, sigmaVH){\n",
    "    // Convert sigma0 to Decibels\n",
    "    let vh_Db = toDb(sigmaVH)\n",
    "    let vv_Db = toDb(sigmaVV)\n",
    "\n",
    "    // Calculate NRPB (Filgueiras et al. (2019), eq. 4)\n",
    "    let NRPB = (vh_Db - vv_Db) / (vh_Db + vv_Db)\n",
    "\n",
    "    // Calculate NDVI_nc with approach A3 (Filgueiras et al. (2019), eq. 14)\n",
    "    let NDVInc = 2.572 - 0.05047 * vh_Db + 0.176 * vv_Db + 3.422 * NRPB\n",
    "\n",
    "    return NDVInc\n",
    "}\n",
    "\n",
    "function evaluatePixel(samples) {\n",
    "  var s1 = samples.s1[0]\n",
    "  var s2 = samples.l2a[0]\n",
    "\n",
    "  // Create an NDVI visualiser\n",
    "  var viz=new ColorMapVisualizer([[0.0,0xa50026],\n",
    "                                  [0.0,0xd73027], [0.2,0xf46d43],\n",
    "                                  [0.3,0xfdae61], [0.4,0xfee08b],\n",
    "                                  [0.5,0xffffbf], [0.6,0xd9ef8b],\n",
    "                                  [0.7,0xa6d96a], [0.8,0x66bd63],\n",
    "                                  [0.9,0x1a9850], [1.0,0x006837]]);\n",
    "  // Calculate S2 NDVI\n",
    "  let ndvi = index(s2.B08, s2.B04)\n",
    "  // Calculate S1 NDVI\n",
    "  let s1_ndvi = calc_s1_ndvi(s1.VV, s1.VH)\n",
    "  \n",
    "  // Use the S2-L2A classification to identify clouds\n",
    "  if ([7, 8, 9, 10].includes(s2.SCL)) {\n",
    "    // If clouds are present use S1 NDVI\n",
    "    return {\n",
    "      default: viz.process(s1_ndvi)\n",
    "    }\n",
    "  } else {\n",
    "    // Otherwise use s2 NDVI\n",
    "    return {\n",
    "      default: viz.process(ndvi)\n",
    "    }\n",
    "  }\n",
    "}\n",
    "\"\"\""
   ]
  },
  {
   "cell_type": "markdown",
   "id": "7dbf82a6",
   "metadata": {
    "papermill": {
     "duration": 0.068502,
     "end_time": "2021-12-14T12:30:50.701791",
     "exception": false,
     "start_time": "2021-12-14T12:30:50.633289",
     "status": "completed"
    },
    "tags": []
   },
   "source": [
    "#### Step 4 (final)\n",
    "\n",
    "The different parts of the request built above are merged together in the `oauth.post` command and the request is posted. If all the elements are correct, the command should return a `200` status."
   ]
  },
  {
   "cell_type": "code",
   "execution_count": 15,
   "id": "af4750a4",
   "metadata": {
    "execution": {
     "iopub.execute_input": "2021-12-14T12:30:50.847631Z",
     "iopub.status.busy": "2021-12-14T12:30:50.846915Z",
     "iopub.status.idle": "2021-12-14T12:30:50.968241Z",
     "shell.execute_reply": "2021-12-14T12:30:50.967680Z"
    },
    "papermill": {
     "duration": 0.197605,
     "end_time": "2021-12-14T12:30:50.968361",
     "exception": false,
     "start_time": "2021-12-14T12:30:50.770756",
     "status": "completed"
    },
    "tags": []
   },
   "outputs": [
    {
     "name": "stdout",
     "output_type": "stream",
     "text": [
      "Request status: 400, Bad Request\n"
     ]
    }
   ],
   "source": [
    "# Here we call the first evalscript for a True Color visualisation of Sentinel-2. \n",
    "response_tc = oauth.post('https://services.sentinel-hub.com/api/v1/process',\n",
    "  json={\"input\": input_options,\n",
    "        \"evalscript\": tc_evalscript,\n",
    "        \"output\": output_options,\n",
    "})\n",
    "\n",
    "print(\"Request status: %s, %s\" % (response_tc.status_code, response_tc.reason))"
   ]
  },
  {
   "cell_type": "code",
   "execution_count": 16,
   "id": "728058c4",
   "metadata": {
    "execution": {
     "iopub.execute_input": "2021-12-14T12:30:51.116767Z",
     "iopub.status.busy": "2021-12-14T12:30:51.115839Z",
     "iopub.status.idle": "2021-12-14T12:30:53.897307Z",
     "shell.execute_reply": "2021-12-14T12:30:53.896626Z"
    },
    "papermill": {
     "duration": 2.859797,
     "end_time": "2021-12-14T12:30:53.897436",
     "exception": false,
     "start_time": "2021-12-14T12:30:51.037639",
     "status": "completed"
    },
    "tags": []
   },
   "outputs": [
    {
     "name": "stdout",
     "output_type": "stream",
     "text": [
      "Request status: 400, Bad Request\n"
     ]
    }
   ],
   "source": [
    "# Here we call the first evalscript for the Sentinel-2 NDVI visualisation. \n",
    "response_s2_ndvi = oauth.post('https://services.sentinel-hub.com/api/v1/process',\n",
    "  json={\"input\": input_options,\n",
    "        \"evalscript\": s2_ndvi_evalscript,\n",
    "        \"output\": output_options,\n",
    "})\n",
    "\n",
    "print(\"Request status: %s, %s\" % (response_s2_ndvi.status_code, response_s2_ndvi.reason))"
   ]
  },
  {
   "cell_type": "code",
   "execution_count": 17,
   "id": "a12fa308",
   "metadata": {
    "execution": {
     "iopub.execute_input": "2021-12-14T12:30:54.045714Z",
     "iopub.status.busy": "2021-12-14T12:30:54.044967Z",
     "iopub.status.idle": "2021-12-14T12:30:54.177427Z",
     "shell.execute_reply": "2021-12-14T12:30:54.177893Z"
    },
    "papermill": {
     "duration": 0.210815,
     "end_time": "2021-12-14T12:30:54.178038",
     "exception": false,
     "start_time": "2021-12-14T12:30:53.967223",
     "status": "completed"
    },
    "tags": []
   },
   "outputs": [
    {
     "name": "stdout",
     "output_type": "stream",
     "text": [
      "Request status: 400, Bad Request\n"
     ]
    }
   ],
   "source": [
    "# Here we call the first evalscript for the Sentinel-2 NDVI visualisation. \n",
    "response_s12_ndvi = oauth.post('https://services.sentinel-hub.com/api/v1/process',\n",
    "  json={\"input\": input_options,\n",
    "        \"evalscript\": s12_ndvi_evalscript,\n",
    "        \"output\": output_options,\n",
    "})\n",
    "\n",
    "print(\"Request status: %s, %s\" % (response_s12_ndvi.status_code, response_s12_ndvi.reason))"
   ]
  },
  {
   "cell_type": "markdown",
   "id": "4eba435e",
   "metadata": {
    "papermill": {
     "duration": 0.071804,
     "end_time": "2021-12-14T12:30:54.320501",
     "exception": false,
     "start_time": "2021-12-14T12:30:54.248697",
     "status": "completed"
    },
    "tags": []
   },
   "source": [
    "## Results\n",
    "\n",
    "Below, the True Color visualisation of the Sentinel-2 image shows the circular crop fields forming the agricultural landscape near Dodge City. The brown colored fields are most likely bare soil (i.e. the crops haven't yet emerged) given the date of the acquisition (26-04-2019). A certain number of fields appear to have crops growing (they appear green in the image). Part of the image is occulted by dense cloud cover."
   ]
  },
  {
   "cell_type": "code",
   "execution_count": 18,
   "id": "b2199e40",
   "metadata": {
    "execution": {
     "iopub.execute_input": "2021-12-14T12:30:54.468599Z",
     "iopub.status.busy": "2021-12-14T12:30:54.466161Z",
     "iopub.status.idle": "2021-12-14T12:30:54.475572Z",
     "shell.execute_reply": "2021-12-14T12:30:54.476014Z"
    },
    "papermill": {
     "duration": 0.083917,
     "end_time": "2021-12-14T12:30:54.476159",
     "exception": false,
     "start_time": "2021-12-14T12:30:54.392242",
     "status": "completed"
    },
    "tags": []
   },
   "outputs": [
    {
     "data": {
      "image/png": "[encoded data removed]",
      "text/plain": [
       "<IPython.core.display.Image object>"
      ]
     },
     "execution_count": 18,
     "metadata": {},
     "output_type": "execute_result"
    }
   ],
   "source": [
    "IPython.display.Image(response_tc.content)"
   ]
  },
  {
   "cell_type": "markdown",
   "id": "a8ce85e9",
   "metadata": {
    "papermill": {
     "duration": 0.071503,
     "end_time": "2021-12-14T12:30:54.619662",
     "exception": false,
     "start_time": "2021-12-14T12:30:54.548159",
     "status": "completed"
    },
    "tags": []
   },
   "source": [
    "Below, the Sentinel-2 NDVI product clearly highlights the fields in which crop are present (green) with varying NDVI values (represented in different shades of green, the darker the green, the higher the NDVI value). The agricultural plots where no crops are growing are shown in red in the image (NDVI < 0). However, the right part of the image is mostly cloud covered, which is clearly visible in the NDVI product. "
   ]
  },
  {
   "cell_type": "code",
   "execution_count": 19,
   "id": "5aadb343",
   "metadata": {
    "execution": {
     "iopub.execute_input": "2021-12-14T12:30:54.769706Z",
     "iopub.status.busy": "2021-12-14T12:30:54.767631Z",
     "iopub.status.idle": "2021-12-14T12:30:54.777124Z",
     "shell.execute_reply": "2021-12-14T12:30:54.777572Z"
    },
    "papermill": {
     "duration": 0.084763,
     "end_time": "2021-12-14T12:30:54.777717",
     "exception": false,
     "start_time": "2021-12-14T12:30:54.692954",
     "status": "completed"
    },
    "tags": []
   },
   "outputs": [
    {
     "data": {
      "image/png": "[encoded data removed]",
      "text/plain": [
       "<IPython.core.display.Image object>"
      ]
     },
     "execution_count": 19,
     "metadata": {},
     "output_type": "execute_result"
    }
   ],
   "source": [
    "IPython.display.Image(response_s2_ndvi.content)"
   ]
  },
  {
   "cell_type": "markdown",
   "id": "0f83b517",
   "metadata": {
    "papermill": {
     "duration": 0.078026,
     "end_time": "2021-12-14T12:30:54.929883",
     "exception": false,
     "start_time": "2021-12-14T12:30:54.851857",
     "status": "completed"
    },
    "tags": []
   },
   "source": [
    "In the image below, the Sentinel-2 NDVI values located in cloud-covered areas were replaced with NDVI calculated from the Sentinel-1 data. The fusion of the two data sources now allows showing the NDVI for the areas that were not resolved simply using Sentinel-2 data. A number of large fields, where crops are growing are now visible in the right part of the image. \n",
    "\n",
    "A few caveats remain nevertheless:\n",
    "\n",
    "-  The image is quite noisy: the noise could be removed by speckle filtering. However, Sentinel Hub only allows a pixel-per-pixel approach at the moment, and therefore filtering windows cannot be applied.\n",
    "\n",
    "-  The method developed by Filgueiras et al. (2019) is tied to the type of crop that it was calibrated for (soybean and maize). In the example shown here, the fields are mostly sorghum and wheat, thus leading to a bias in the absolute values of NDVI. This can be observed in the product, as the crops appear to have higher NDVI values in the parts of the image calculated with Sentinel-1. Applying this method to accurately analyse the NDVI in this image would require additional steps (regression over a cloud-free zone), but is out of the scope of this Notebook, whose purpose is to show the potential of data-fusion with Sentinel Hub."
   ]
  },
  {
   "cell_type": "code",
   "execution_count": 20,
   "id": "88dd5e0e",
   "metadata": {
    "execution": {
     "iopub.execute_input": "2021-12-14T12:30:55.091574Z",
     "iopub.status.busy": "2021-12-14T12:30:55.090716Z",
     "iopub.status.idle": "2021-12-14T12:30:55.095039Z",
     "shell.execute_reply": "2021-12-14T12:30:55.094445Z"
    },
    "papermill": {
     "duration": 0.085889,
     "end_time": "2021-12-14T12:30:55.095160",
     "exception": false,
     "start_time": "2021-12-14T12:30:55.009271",
     "status": "completed"
    },
    "tags": []
   },
   "outputs": [
    {
     "data": {
      "image/png": "[encoded data removed]",
      "text/plain": [
       "<IPython.core.display.Image object>"
      ]
     },
     "execution_count": 20,
     "metadata": {},
     "output_type": "execute_result"
    }
   ],
   "source": [
    "IPython.display.Image(response_s12_ndvi.content)"
   ]
  }
 ],
 "metadata": {
  "kernelspec": {
   "display_name": "Python 3",
   "language": "python",
   "name": "python3"
  },
  "language_info": {
   "codemirror_mode": {
    "name": "ipython",
    "version": 3
   },
   "file_extension": ".py",
   "mimetype": "text/x-python",
   "name": "python",
   "nbconvert_exporter": "python",
   "pygments_lexer": "ipython3",
   "version": "3.8.12"
  },
  "papermill": {
   "duration": 10.74612,
   "end_time": "2021-12-14T12:30:55.490920",
   "environment_variables": {},
   "exception": null,
   "input_path": "/tmp/tmprv0laejn",
   "output_path": "/tmp/cur_notebook.ipynb",
   "parameters": {},
   "start_time": "2021-12-14T12:30:44.744800",
   "version": "2.1.0"
  },
  "properties": {
   "description": "Demonstrating SH Data Fusion capabilities using NDVI example",
   "id": "235ca9df-b114-4ff8-b9e0-981e00daab21",
   "license": null,
   "name": "Data Fusion - NDVI example",
   "requirements": [
    "eurodatacube"
   ],
   "tags": [
    "Sentinel Hub"
   ],
   "tosAgree": true,
   "type": "Jupyter Notebook",
   "version": "0.0.1"
  }
 },
 "nbformat": 4,
 "nbformat_minor": 5
}