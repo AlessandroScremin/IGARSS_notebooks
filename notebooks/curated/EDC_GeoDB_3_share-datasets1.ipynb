{
 "cells": [
  {
   "cell_type": "code",
   "execution_count": 1,
   "id": "a7c0ae21",
   "metadata": {
    "execution": {
     "iopub.execute_input": "2022-02-23T13:57:05.568995Z",
     "iopub.status.busy": "2022-02-23T13:57:05.568494Z",
     "iopub.status.idle": "2022-02-23T13:57:05.717484Z",
     "shell.execute_reply": "2022-02-23T13:57:05.716521Z"
    },
    "papermill": {
     "duration": 0.170826,
     "end_time": "2022-02-23T13:57:05.719624",
     "exception": false,
     "start_time": "2022-02-23T13:57:05.548798",
     "status": "completed"
    },
    "tags": []
   },
   "outputs": [
    {
     "data": {
      "text/markdown": [
       "\n",
       "***Notebook Title***  \n",
       "GeoDB: Sharing Data\n",
       "\n",
       "***Notebook Description***  \n",
       "Euro Data Cube GeoDB: Sharing Data\n",
       "\n",
       "\n",
       "***Notebook Dependencies***  \n",
       "This notebook requires an active subscription to:\n",
       "* EDC GeoDB\n",
       "* EDC EOxHub Workspace\n"
      ],
      "text/plain": [
       "<IPython.core.display.Markdown object>"
      ]
     },
     "metadata": {},
     "output_type": "display_data"
    }
   ],
   "source": [
    "from edc import print_info\n",
    "print_info(\"geodb-sharing\")"
   ]
  },
  {
   "cell_type": "code",
   "execution_count": 2,
   "id": "7058232e",
   "metadata": {
    "execution": {
     "iopub.execute_input": "2022-02-23T13:57:05.756353Z",
     "iopub.status.busy": "2022-02-23T13:57:05.755697Z",
     "iopub.status.idle": "2022-02-23T13:57:05.765071Z",
     "shell.execute_reply": "2022-02-23T13:57:05.764192Z"
    },
    "papermill": {
     "duration": 0.029513,
     "end_time": "2022-02-23T13:57:05.766907",
     "exception": false,
     "start_time": "2022-02-23T13:57:05.737394",
     "status": "completed"
    },
    "tags": []
   },
   "outputs": [
    {
     "data": {
      "text/html": [
       "<script type=\"text/javascript\">\n",
       "        function toggle(id) {\n",
       "            el = document.getElementById(id);\n",
       "            el.style.display = el.style.display === \"none\" ? \"block\" : \"none\";\n",
       "        }\n",
       "    </script>"
      ],
      "text/plain": [
       "<IPython.core.display.HTML object>"
      ]
     },
     "metadata": {},
     "output_type": "display_data"
    },
    {
     "data": {
      "text/html": [
       "This notebook is compatible with this base image version (user-2022.02)."
      ],
      "text/plain": [
       "<IPython.core.display.HTML object>"
      ]
     },
     "metadata": {},
     "output_type": "display_data"
    },
    {
     "data": {
      "text/markdown": [
       "\n",
       "\n",
       "---------\n",
       "\n",
       "The following environment variables are available:\n",
       "\n",
       "* `GEODB_AUTH_AUD`, `GEODB_AUTH_CLIENT_ID`, `GEODB_AUTH_DOMAIN`, `GEODB_API_SERVER_URL`, `GEODB_AUTH_CLIENT_SECRET`, `GEODB_API_SERVER_PORT`\n"
      ],
      "text/plain": [
       "<IPython.core.display.Markdown object>"
      ]
     },
     "metadata": {},
     "output_type": "display_data"
    }
   ],
   "source": [
    "from edc import check_compatibility\n",
    "check_compatibility(\"user-2022.02\", dependencies=[\"GEODB\"])"
   ]
  },
  {
   "cell_type": "markdown",
   "id": "fd931226",
   "metadata": {
    "papermill": {
     "duration": 0.017542,
     "end_time": "2022-02-23T13:57:05.802585",
     "exception": false,
     "start_time": "2022-02-23T13:57:05.785043",
     "status": "completed"
    },
    "tags": []
   },
   "source": [
    "## Sharing Data"
   ]
  },
  {
   "cell_type": "code",
   "execution_count": 3,
   "id": "e4f50222",
   "metadata": {
    "execution": {
     "iopub.execute_input": "2022-02-23T13:57:05.839890Z",
     "iopub.status.busy": "2022-02-23T13:57:05.839660Z",
     "iopub.status.idle": "2022-02-23T13:57:06.501129Z",
     "shell.execute_reply": "2022-02-23T13:57:06.500420Z"
    },
    "papermill": {
     "duration": 0.682189,
     "end_time": "2022-02-23T13:57:06.503369",
     "exception": false,
     "start_time": "2022-02-23T13:57:05.821180",
     "status": "completed"
    },
    "tags": []
   },
   "outputs": [],
   "source": [
    "from xcube_geodb.core.geodb import GeoDBClient"
   ]
  },
  {
   "cell_type": "code",
   "execution_count": 4,
   "id": "62e0361c",
   "metadata": {
    "execution": {
     "iopub.execute_input": "2022-02-23T13:57:06.540632Z",
     "iopub.status.busy": "2022-02-23T13:57:06.539853Z",
     "iopub.status.idle": "2022-02-23T13:57:08.464332Z",
     "shell.execute_reply": "2022-02-23T13:57:08.463399Z"
    },
    "papermill": {
     "duration": 1.944875,
     "end_time": "2022-02-23T13:57:08.466351",
     "exception": false,
     "start_time": "2022-02-23T13:57:06.521476",
     "status": "completed"
    },
    "tags": []
   },
   "outputs": [
    {
     "data": {
      "text/plain": [
       "'geodb_418dfeac-15f0-4606-9edb-fd9eb722bf04'"
      ]
     },
     "execution_count": 4,
     "metadata": {},
     "output_type": "execute_result"
    }
   ],
   "source": [
    "geodb = GeoDBClient()\n",
    "geodb.whoami"
   ]
  },
  {
   "cell_type": "code",
   "execution_count": 5,
   "id": "a4511adb",
   "metadata": {
    "execution": {
     "iopub.execute_input": "2022-02-23T13:57:08.504923Z",
     "iopub.status.busy": "2022-02-23T13:57:08.504264Z",
     "iopub.status.idle": "2022-02-23T13:57:11.961096Z",
     "shell.execute_reply": "2022-02-23T13:57:11.959927Z"
    },
    "papermill": {
     "duration": 3.478154,
     "end_time": "2022-02-23T13:57:11.963085",
     "exception": false,
     "start_time": "2022-02-23T13:57:08.484931",
     "status": "completed"
    },
    "tags": []
   },
   "outputs": [],
   "source": [
    "ds = geodb.get_my_collections()\n",
    "\n",
    "if ds[(ds.database == geodb.whoami) & (ds.table_name == 'land_use')].table_name.count() == 0:\n",
    "    # Have a look at fiona feature schema\n",
    "    collections = {\n",
    "            \"land_use\": \n",
    "            {\n",
    "                \"crs\": 3794,\n",
    "                \"properties\": \n",
    "                {\n",
    "                    \"RABA_PID\": \"float\", \n",
    "                    \"RABA_ID\": \"float\", \n",
    "                    \"D_OD\": \"date\"\n",
    "                }\n",
    "            }\n",
    "        }\n",
    "\n",
    "\n",
    "    geodb.create_collections(collections)\n",
    "    import geopandas\n",
    "    import os\n",
    "    gdf = geopandas.read_file(os.path.expanduser(\"~/.shared/notebooks/eurodatacube/notebooks/curated/data/sample/land_use.shp\"))\n",
    "    geodb.insert_into_collection('land_use', gdf)"
   ]
  },
  {
   "cell_type": "markdown",
   "id": "88f209da",
   "metadata": {
    "papermill": {
     "duration": 0.017993,
     "end_time": "2022-02-23T13:57:12.000172",
     "exception": false,
     "start_time": "2022-02-23T13:57:11.982179",
     "status": "completed"
    },
    "tags": []
   },
   "source": [
    "### Publish a Collection to the World"
   ]
  },
  {
   "cell_type": "code",
   "execution_count": 6,
   "id": "650d74fc",
   "metadata": {
    "execution": {
     "iopub.execute_input": "2022-02-23T13:57:12.044932Z",
     "iopub.status.busy": "2022-02-23T13:57:12.043654Z",
     "iopub.status.idle": "2022-02-23T13:57:12.946079Z",
     "shell.execute_reply": "2022-02-23T13:57:12.945022Z"
    },
    "papermill": {
     "duration": 0.926309,
     "end_time": "2022-02-23T13:57:12.948950",
     "exception": false,
     "start_time": "2022-02-23T13:57:12.022641",
     "status": "completed"
    },
    "tags": []
   },
   "outputs": [
    {
     "data": {
      "text/html": [
       "<div>\n",
       "<style scoped>\n",
       "    .dataframe tbody tr th:only-of-type {\n",
       "        vertical-align: middle;\n",
       "    }\n",
       "\n",
       "    .dataframe tbody tr th {\n",
       "        vertical-align: top;\n",
       "    }\n",
       "\n",
       "    .dataframe thead th {\n",
       "        text-align: right;\n",
       "    }\n",
       "</style>\n",
       "<table border=\"1\" class=\"dataframe\">\n",
       "  <thead>\n",
       "    <tr style=\"text-align: right;\">\n",
       "      <th></th>\n",
       "      <th>database</th>\n",
       "      <th>table_name</th>\n",
       "      <th>grantee</th>\n",
       "      <th>privileges</th>\n",
       "    </tr>\n",
       "  </thead>\n",
       "  <tbody>\n",
       "    <tr>\n",
       "      <th>0</th>\n",
       "      <td>geodb_418dfeac-15f0-4606-9edb-fd9eb722bf04</td>\n",
       "      <td>2021-10-04-test-1234</td>\n",
       "      <td>postgres</td>\n",
       "      <td>TRIGGER,INSERT,SELECT,UPDATE,DELETE,TRUNCATE,R...</td>\n",
       "    </tr>\n",
       "    <tr>\n",
       "      <th>1</th>\n",
       "      <td>geodb_418dfeac-15f0-4606-9edb-fd9eb722bf04</td>\n",
       "      <td>2021-10-04-test-2</td>\n",
       "      <td>postgres</td>\n",
       "      <td>INSERT,SELECT,UPDATE,DELETE,TRUNCATE,REFERENCE...</td>\n",
       "    </tr>\n",
       "    <tr>\n",
       "      <th>2</th>\n",
       "      <td>geodb_418dfeac-15f0-4606-9edb-fd9eb722bf04</td>\n",
       "      <td>2021-10-04-test-3</td>\n",
       "      <td>postgres</td>\n",
       "      <td>INSERT,SELECT,UPDATE,DELETE,TRUNCATE,REFERENCE...</td>\n",
       "    </tr>\n",
       "    <tr>\n",
       "      <th>3</th>\n",
       "      <td>geodb_418dfeac-15f0-4606-9edb-fd9eb722bf04</td>\n",
       "      <td>2021-10-04-test-7</td>\n",
       "      <td>postgres</td>\n",
       "      <td>INSERT,TRIGGER,REFERENCES,TRUNCATE,DELETE,UPDA...</td>\n",
       "    </tr>\n",
       "    <tr>\n",
       "      <th>4</th>\n",
       "      <td>geodb_418dfeac-15f0-4606-9edb-fd9eb722bf04</td>\n",
       "      <td>2021-10-04-test-9876</td>\n",
       "      <td>postgres</td>\n",
       "      <td>INSERT,SELECT,UPDATE,DELETE,TRUNCATE,REFERENCE...</td>\n",
       "    </tr>\n",
       "    <tr>\n",
       "      <th>5</th>\n",
       "      <td>geodb_418dfeac-15f0-4606-9edb-fd9eb722bf04</td>\n",
       "      <td>2021-10-04-test-coll</td>\n",
       "      <td>postgres</td>\n",
       "      <td>TRIGGER,INSERT,SELECT,UPDATE,DELETE,TRUNCATE,R...</td>\n",
       "    </tr>\n",
       "    <tr>\n",
       "      <th>6</th>\n",
       "      <td>geodb_418dfeac-15f0-4606-9edb-fd9eb722bf04</td>\n",
       "      <td>alster</td>\n",
       "      <td>postgres</td>\n",
       "      <td>INSERT,SELECT,UPDATE,DELETE,TRUNCATE,REFERENCE...</td>\n",
       "    </tr>\n",
       "    <tr>\n",
       "      <th>7</th>\n",
       "      <td>geodb_418dfeac-15f0-4606-9edb-fd9eb722bf04</td>\n",
       "      <td>land_use</td>\n",
       "      <td>postgres</td>\n",
       "      <td>TRIGGER,TRUNCATE,DELETE,UPDATE,SELECT,INSERT,R...</td>\n",
       "    </tr>\n",
       "  </tbody>\n",
       "</table>\n",
       "</div>"
      ],
      "text/plain": [
       "                                     database            table_name   grantee  \\\n",
       "0  geodb_418dfeac-15f0-4606-9edb-fd9eb722bf04  2021-10-04-test-1234  postgres   \n",
       "1  geodb_418dfeac-15f0-4606-9edb-fd9eb722bf04     2021-10-04-test-2  postgres   \n",
       "2  geodb_418dfeac-15f0-4606-9edb-fd9eb722bf04     2021-10-04-test-3  postgres   \n",
       "3  geodb_418dfeac-15f0-4606-9edb-fd9eb722bf04     2021-10-04-test-7  postgres   \n",
       "4  geodb_418dfeac-15f0-4606-9edb-fd9eb722bf04  2021-10-04-test-9876  postgres   \n",
       "5  geodb_418dfeac-15f0-4606-9edb-fd9eb722bf04  2021-10-04-test-coll  postgres   \n",
       "6  geodb_418dfeac-15f0-4606-9edb-fd9eb722bf04                alster  postgres   \n",
       "7  geodb_418dfeac-15f0-4606-9edb-fd9eb722bf04              land_use  postgres   \n",
       "\n",
       "                                          privileges  \n",
       "0  TRIGGER,INSERT,SELECT,UPDATE,DELETE,TRUNCATE,R...  \n",
       "1  INSERT,SELECT,UPDATE,DELETE,TRUNCATE,REFERENCE...  \n",
       "2  INSERT,SELECT,UPDATE,DELETE,TRUNCATE,REFERENCE...  \n",
       "3  INSERT,TRIGGER,REFERENCES,TRUNCATE,DELETE,UPDA...  \n",
       "4  INSERT,SELECT,UPDATE,DELETE,TRUNCATE,REFERENCE...  \n",
       "5  TRIGGER,INSERT,SELECT,UPDATE,DELETE,TRUNCATE,R...  \n",
       "6  INSERT,SELECT,UPDATE,DELETE,TRUNCATE,REFERENCE...  \n",
       "7  TRIGGER,TRUNCATE,DELETE,UPDATE,SELECT,INSERT,R...  "
      ]
     },
     "execution_count": 6,
     "metadata": {},
     "output_type": "execute_result"
    }
   ],
   "source": [
    "geodb.list_my_grants()"
   ]
  },
  {
   "cell_type": "code",
   "execution_count": 7,
   "id": "ebc91a40",
   "metadata": {
    "execution": {
     "iopub.execute_input": "2022-02-23T13:57:12.991568Z",
     "iopub.status.busy": "2022-02-23T13:57:12.990924Z",
     "iopub.status.idle": "2022-02-23T13:57:15.762314Z",
     "shell.execute_reply": "2022-02-23T13:57:15.761586Z"
    },
    "papermill": {
     "duration": 2.794308,
     "end_time": "2022-02-23T13:57:15.764481",
     "exception": false,
     "start_time": "2022-02-23T13:57:12.970173",
     "status": "completed"
    },
    "tags": []
   },
   "outputs": [
    {
     "data": {
      "application/json": {
       "Message": "Access granted on land_use to public."
      },
      "text/plain": [
       "<xcube_geodb.core.message.Message at 0x7f752696f910>"
      ]
     },
     "execution_count": 7,
     "metadata": {},
     "output_type": "execute_result"
    }
   ],
   "source": [
    "geodb.publish_collection(\"land_use\")"
   ]
  },
  {
   "cell_type": "markdown",
   "id": "06f4e31d",
   "metadata": {
    "papermill": {
     "duration": 0.018661,
     "end_time": "2022-02-23T13:57:15.802378",
     "exception": false,
     "start_time": "2022-02-23T13:57:15.783717",
     "status": "completed"
    },
    "tags": []
   },
   "source": [
    "### Accessing Collection as a different User\n",
    "\n",
    "Please be aware that you cannot change the user easily within a Notebook. Here, we changed the credentials in the background. The following cells will not run and are for demonstration only."
   ]
  },
  {
   "cell_type": "code",
   "execution_count": 8,
   "id": "a2727e70",
   "metadata": {
    "execution": {
     "iopub.execute_input": "2022-02-23T13:57:15.841850Z",
     "iopub.status.busy": "2022-02-23T13:57:15.841427Z",
     "iopub.status.idle": "2022-02-23T13:57:17.740447Z",
     "shell.execute_reply": "2022-02-23T13:57:17.739439Z"
    },
    "papermill": {
     "duration": 1.920605,
     "end_time": "2022-02-23T13:57:17.742222",
     "exception": false,
     "start_time": "2022-02-23T13:57:15.821617",
     "status": "completed"
    },
    "tags": []
   },
   "outputs": [
    {
     "data": {
      "text/plain": [
       "'geodb_418dfeac-15f0-4606-9edb-fd9eb722bf04'"
      ]
     },
     "execution_count": 8,
     "metadata": {},
     "output_type": "execute_result"
    }
   ],
   "source": [
    "geodb = GeoDBClient()\n",
    "geodb.whoami"
   ]
  },
  {
   "cell_type": "markdown",
   "id": "dddda2d0",
   "metadata": {
    "papermill": {
     "duration": 0.019366,
     "end_time": "2022-02-23T13:57:17.781401",
     "exception": false,
     "start_time": "2022-02-23T13:57:17.762035",
     "status": "completed"
    },
    "tags": []
   },
   "source": [
    "### Revoke access"
   ]
  },
  {
   "cell_type": "code",
   "execution_count": 9,
   "id": "13ac9d7e",
   "metadata": {
    "execution": {
     "iopub.execute_input": "2022-02-23T13:57:17.822801Z",
     "iopub.status.busy": "2022-02-23T13:57:17.822201Z",
     "iopub.status.idle": "2022-02-23T13:57:18.628613Z",
     "shell.execute_reply": "2022-02-23T13:57:18.627794Z"
    },
    "papermill": {
     "duration": 0.829577,
     "end_time": "2022-02-23T13:57:18.630714",
     "exception": false,
     "start_time": "2022-02-23T13:57:17.801137",
     "status": "completed"
    },
    "tags": []
   },
   "outputs": [
    {
     "data": {
      "text/html": [
       "<div>\n",
       "<style scoped>\n",
       "    .dataframe tbody tr th:only-of-type {\n",
       "        vertical-align: middle;\n",
       "    }\n",
       "\n",
       "    .dataframe tbody tr th {\n",
       "        vertical-align: top;\n",
       "    }\n",
       "\n",
       "    .dataframe thead th {\n",
       "        text-align: right;\n",
       "    }\n",
       "</style>\n",
       "<table border=\"1\" class=\"dataframe\">\n",
       "  <thead>\n",
       "    <tr style=\"text-align: right;\">\n",
       "      <th></th>\n",
       "      <th>database</th>\n",
       "      <th>table_name</th>\n",
       "      <th>grantee</th>\n",
       "      <th>privileges</th>\n",
       "    </tr>\n",
       "  </thead>\n",
       "  <tbody>\n",
       "    <tr>\n",
       "      <th>0</th>\n",
       "      <td>geodb_418dfeac-15f0-4606-9edb-fd9eb722bf04</td>\n",
       "      <td>2021-10-04-test-1234</td>\n",
       "      <td>postgres</td>\n",
       "      <td>TRIGGER,INSERT,SELECT,UPDATE,DELETE,TRUNCATE,R...</td>\n",
       "    </tr>\n",
       "    <tr>\n",
       "      <th>1</th>\n",
       "      <td>geodb_418dfeac-15f0-4606-9edb-fd9eb722bf04</td>\n",
       "      <td>2021-10-04-test-2</td>\n",
       "      <td>postgres</td>\n",
       "      <td>INSERT,SELECT,UPDATE,DELETE,TRUNCATE,REFERENCE...</td>\n",
       "    </tr>\n",
       "    <tr>\n",
       "      <th>2</th>\n",
       "      <td>geodb_418dfeac-15f0-4606-9edb-fd9eb722bf04</td>\n",
       "      <td>2021-10-04-test-3</td>\n",
       "      <td>postgres</td>\n",
       "      <td>INSERT,SELECT,UPDATE,DELETE,TRUNCATE,REFERENCE...</td>\n",
       "    </tr>\n",
       "    <tr>\n",
       "      <th>3</th>\n",
       "      <td>geodb_418dfeac-15f0-4606-9edb-fd9eb722bf04</td>\n",
       "      <td>2021-10-04-test-7</td>\n",
       "      <td>postgres</td>\n",
       "      <td>INSERT,TRIGGER,REFERENCES,TRUNCATE,DELETE,UPDA...</td>\n",
       "    </tr>\n",
       "    <tr>\n",
       "      <th>4</th>\n",
       "      <td>geodb_418dfeac-15f0-4606-9edb-fd9eb722bf04</td>\n",
       "      <td>2021-10-04-test-9876</td>\n",
       "      <td>postgres</td>\n",
       "      <td>INSERT,SELECT,UPDATE,DELETE,TRUNCATE,REFERENCE...</td>\n",
       "    </tr>\n",
       "    <tr>\n",
       "      <th>5</th>\n",
       "      <td>geodb_418dfeac-15f0-4606-9edb-fd9eb722bf04</td>\n",
       "      <td>2021-10-04-test-coll</td>\n",
       "      <td>postgres</td>\n",
       "      <td>TRIGGER,INSERT,SELECT,UPDATE,DELETE,TRUNCATE,R...</td>\n",
       "    </tr>\n",
       "    <tr>\n",
       "      <th>6</th>\n",
       "      <td>geodb_418dfeac-15f0-4606-9edb-fd9eb722bf04</td>\n",
       "      <td>alster</td>\n",
       "      <td>postgres</td>\n",
       "      <td>TRIGGER,INSERT,SELECT,UPDATE,DELETE,TRUNCATE,R...</td>\n",
       "    </tr>\n",
       "    <tr>\n",
       "      <th>7</th>\n",
       "      <td>geodb_418dfeac-15f0-4606-9edb-fd9eb722bf04</td>\n",
       "      <td>land_use</td>\n",
       "      <td>postgres</td>\n",
       "      <td>INSERT,TRIGGER,REFERENCES,TRUNCATE,DELETE,UPDA...</td>\n",
       "    </tr>\n",
       "    <tr>\n",
       "      <th>8</th>\n",
       "      <td>geodb_418dfeac-15f0-4606-9edb-fd9eb722bf04</td>\n",
       "      <td>land_use</td>\n",
       "      <td>PUBLIC</td>\n",
       "      <td>SELECT</td>\n",
       "    </tr>\n",
       "  </tbody>\n",
       "</table>\n",
       "</div>"
      ],
      "text/plain": [
       "                                     database            table_name   grantee  \\\n",
       "0  geodb_418dfeac-15f0-4606-9edb-fd9eb722bf04  2021-10-04-test-1234  postgres   \n",
       "1  geodb_418dfeac-15f0-4606-9edb-fd9eb722bf04     2021-10-04-test-2  postgres   \n",
       "2  geodb_418dfeac-15f0-4606-9edb-fd9eb722bf04     2021-10-04-test-3  postgres   \n",
       "3  geodb_418dfeac-15f0-4606-9edb-fd9eb722bf04     2021-10-04-test-7  postgres   \n",
       "4  geodb_418dfeac-15f0-4606-9edb-fd9eb722bf04  2021-10-04-test-9876  postgres   \n",
       "5  geodb_418dfeac-15f0-4606-9edb-fd9eb722bf04  2021-10-04-test-coll  postgres   \n",
       "6  geodb_418dfeac-15f0-4606-9edb-fd9eb722bf04                alster  postgres   \n",
       "7  geodb_418dfeac-15f0-4606-9edb-fd9eb722bf04              land_use  postgres   \n",
       "8  geodb_418dfeac-15f0-4606-9edb-fd9eb722bf04              land_use    PUBLIC   \n",
       "\n",
       "                                          privileges  \n",
       "0  TRIGGER,INSERT,SELECT,UPDATE,DELETE,TRUNCATE,R...  \n",
       "1  INSERT,SELECT,UPDATE,DELETE,TRUNCATE,REFERENCE...  \n",
       "2  INSERT,SELECT,UPDATE,DELETE,TRUNCATE,REFERENCE...  \n",
       "3  INSERT,TRIGGER,REFERENCES,TRUNCATE,DELETE,UPDA...  \n",
       "4  INSERT,SELECT,UPDATE,DELETE,TRUNCATE,REFERENCE...  \n",
       "5  TRIGGER,INSERT,SELECT,UPDATE,DELETE,TRUNCATE,R...  \n",
       "6  TRIGGER,INSERT,SELECT,UPDATE,DELETE,TRUNCATE,R...  \n",
       "7  INSERT,TRIGGER,REFERENCES,TRUNCATE,DELETE,UPDA...  \n",
       "8                                             SELECT  "
      ]
     },
     "execution_count": 9,
     "metadata": {},
     "output_type": "execute_result"
    }
   ],
   "source": [
    "geodb.list_my_grants()"
   ]
  },
  {
   "cell_type": "code",
   "execution_count": 10,
   "id": "12ef6ef9",
   "metadata": {
    "execution": {
     "iopub.execute_input": "2022-02-23T13:57:18.685224Z",
     "iopub.status.busy": "2022-02-23T13:57:18.684499Z",
     "iopub.status.idle": "2022-02-23T13:57:22.907734Z",
     "shell.execute_reply": "2022-02-23T13:57:22.907045Z"
    },
    "papermill": {
     "duration": 4.252545,
     "end_time": "2022-02-23T13:57:22.909731",
     "exception": false,
     "start_time": "2022-02-23T13:57:18.657186",
     "status": "completed"
    },
    "tags": []
   },
   "outputs": [
    {
     "data": {
      "application/json": {
       "Message": "Access revoked from geodb_418dfeac-15f0-4606-9edb-fd9eb722bf04 on land_use"
      },
      "text/plain": [
       "<xcube_geodb.core.message.Message at 0x7f7524359f10>"
      ]
     },
     "execution_count": 10,
     "metadata": {},
     "output_type": "execute_result"
    }
   ],
   "source": [
    "geodb.unpublish_collection(\"land_use\")"
   ]
  },
  {
   "cell_type": "code",
   "execution_count": 11,
   "id": "bf4e8d9e",
   "metadata": {
    "execution": {
     "iopub.execute_input": "2022-02-23T13:57:22.953836Z",
     "iopub.status.busy": "2022-02-23T13:57:22.953256Z",
     "iopub.status.idle": "2022-02-23T13:57:23.866266Z",
     "shell.execute_reply": "2022-02-23T13:57:23.865412Z"
    },
    "papermill": {
     "duration": 0.936982,
     "end_time": "2022-02-23T13:57:23.868423",
     "exception": false,
     "start_time": "2022-02-23T13:57:22.931441",
     "status": "completed"
    },
    "tags": []
   },
   "outputs": [
    {
     "data": {
      "text/html": [
       "<div>\n",
       "<style scoped>\n",
       "    .dataframe tbody tr th:only-of-type {\n",
       "        vertical-align: middle;\n",
       "    }\n",
       "\n",
       "    .dataframe tbody tr th {\n",
       "        vertical-align: top;\n",
       "    }\n",
       "\n",
       "    .dataframe thead th {\n",
       "        text-align: right;\n",
       "    }\n",
       "</style>\n",
       "<table border=\"1\" class=\"dataframe\">\n",
       "  <thead>\n",
       "    <tr style=\"text-align: right;\">\n",
       "      <th></th>\n",
       "      <th>database</th>\n",
       "      <th>table_name</th>\n",
       "      <th>grantee</th>\n",
       "      <th>privileges</th>\n",
       "    </tr>\n",
       "  </thead>\n",
       "  <tbody>\n",
       "    <tr>\n",
       "      <th>0</th>\n",
       "      <td>geodb_418dfeac-15f0-4606-9edb-fd9eb722bf04</td>\n",
       "      <td>2021-10-04-test-1234</td>\n",
       "      <td>postgres</td>\n",
       "      <td>TRIGGER,INSERT,SELECT,UPDATE,DELETE,TRUNCATE,R...</td>\n",
       "    </tr>\n",
       "    <tr>\n",
       "      <th>1</th>\n",
       "      <td>geodb_418dfeac-15f0-4606-9edb-fd9eb722bf04</td>\n",
       "      <td>2021-10-04-test-2</td>\n",
       "      <td>postgres</td>\n",
       "      <td>INSERT,SELECT,UPDATE,DELETE,TRUNCATE,REFERENCE...</td>\n",
       "    </tr>\n",
       "    <tr>\n",
       "      <th>2</th>\n",
       "      <td>geodb_418dfeac-15f0-4606-9edb-fd9eb722bf04</td>\n",
       "      <td>2021-10-04-test-3</td>\n",
       "      <td>postgres</td>\n",
       "      <td>INSERT,SELECT,UPDATE,DELETE,TRUNCATE,REFERENCE...</td>\n",
       "    </tr>\n",
       "    <tr>\n",
       "      <th>3</th>\n",
       "      <td>geodb_418dfeac-15f0-4606-9edb-fd9eb722bf04</td>\n",
       "      <td>2021-10-04-test-7</td>\n",
       "      <td>postgres</td>\n",
       "      <td>INSERT,TRIGGER,REFERENCES,TRUNCATE,DELETE,UPDA...</td>\n",
       "    </tr>\n",
       "    <tr>\n",
       "      <th>4</th>\n",
       "      <td>geodb_418dfeac-15f0-4606-9edb-fd9eb722bf04</td>\n",
       "      <td>2021-10-04-test-9876</td>\n",
       "      <td>postgres</td>\n",
       "      <td>INSERT,SELECT,UPDATE,DELETE,TRUNCATE,REFERENCE...</td>\n",
       "    </tr>\n",
       "    <tr>\n",
       "      <th>5</th>\n",
       "      <td>geodb_418dfeac-15f0-4606-9edb-fd9eb722bf04</td>\n",
       "      <td>2021-10-04-test-coll</td>\n",
       "      <td>postgres</td>\n",
       "      <td>TRIGGER,INSERT,SELECT,UPDATE,DELETE,TRUNCATE,R...</td>\n",
       "    </tr>\n",
       "    <tr>\n",
       "      <th>6</th>\n",
       "      <td>geodb_418dfeac-15f0-4606-9edb-fd9eb722bf04</td>\n",
       "      <td>alster</td>\n",
       "      <td>postgres</td>\n",
       "      <td>INSERT,SELECT,UPDATE,DELETE,TRUNCATE,REFERENCE...</td>\n",
       "    </tr>\n",
       "    <tr>\n",
       "      <th>7</th>\n",
       "      <td>geodb_418dfeac-15f0-4606-9edb-fd9eb722bf04</td>\n",
       "      <td>land_use</td>\n",
       "      <td>postgres</td>\n",
       "      <td>TRIGGER,TRUNCATE,DELETE,UPDATE,SELECT,INSERT,R...</td>\n",
       "    </tr>\n",
       "  </tbody>\n",
       "</table>\n",
       "</div>"
      ],
      "text/plain": [
       "                                     database            table_name   grantee  \\\n",
       "0  geodb_418dfeac-15f0-4606-9edb-fd9eb722bf04  2021-10-04-test-1234  postgres   \n",
       "1  geodb_418dfeac-15f0-4606-9edb-fd9eb722bf04     2021-10-04-test-2  postgres   \n",
       "2  geodb_418dfeac-15f0-4606-9edb-fd9eb722bf04     2021-10-04-test-3  postgres   \n",
       "3  geodb_418dfeac-15f0-4606-9edb-fd9eb722bf04     2021-10-04-test-7  postgres   \n",
       "4  geodb_418dfeac-15f0-4606-9edb-fd9eb722bf04  2021-10-04-test-9876  postgres   \n",
       "5  geodb_418dfeac-15f0-4606-9edb-fd9eb722bf04  2021-10-04-test-coll  postgres   \n",
       "6  geodb_418dfeac-15f0-4606-9edb-fd9eb722bf04                alster  postgres   \n",
       "7  geodb_418dfeac-15f0-4606-9edb-fd9eb722bf04              land_use  postgres   \n",
       "\n",
       "                                          privileges  \n",
       "0  TRIGGER,INSERT,SELECT,UPDATE,DELETE,TRUNCATE,R...  \n",
       "1  INSERT,SELECT,UPDATE,DELETE,TRUNCATE,REFERENCE...  \n",
       "2  INSERT,SELECT,UPDATE,DELETE,TRUNCATE,REFERENCE...  \n",
       "3  INSERT,TRIGGER,REFERENCES,TRUNCATE,DELETE,UPDA...  \n",
       "4  INSERT,SELECT,UPDATE,DELETE,TRUNCATE,REFERENCE...  \n",
       "5  TRIGGER,INSERT,SELECT,UPDATE,DELETE,TRUNCATE,R...  \n",
       "6  INSERT,SELECT,UPDATE,DELETE,TRUNCATE,REFERENCE...  \n",
       "7  TRIGGER,TRUNCATE,DELETE,UPDATE,SELECT,INSERT,R...  "
      ]
     },
     "execution_count": 11,
     "metadata": {},
     "output_type": "execute_result"
    }
   ],
   "source": [
    "geodb.list_my_grants()"
   ]
  },
  {
   "cell_type": "code",
   "execution_count": 12,
   "id": "aa25661a",
   "metadata": {
    "execution": {
     "iopub.execute_input": "2022-02-23T13:57:23.913009Z",
     "iopub.status.busy": "2022-02-23T13:57:23.912367Z",
     "iopub.status.idle": "2022-02-23T13:57:36.312417Z",
     "shell.execute_reply": "2022-02-23T13:57:36.311646Z"
    },
    "papermill": {
     "duration": 12.423873,
     "end_time": "2022-02-23T13:57:36.314544",
     "exception": false,
     "start_time": "2022-02-23T13:57:23.890671",
     "status": "completed"
    },
    "tags": []
   },
   "outputs": [
    {
     "data": {
      "text/html": [
       "<div>\n",
       "<style scoped>\n",
       "    .dataframe tbody tr th:only-of-type {\n",
       "        vertical-align: middle;\n",
       "    }\n",
       "\n",
       "    .dataframe tbody tr th {\n",
       "        vertical-align: top;\n",
       "    }\n",
       "\n",
       "    .dataframe thead th {\n",
       "        text-align: right;\n",
       "    }\n",
       "</style>\n",
       "<table border=\"1\" class=\"dataframe\">\n",
       "  <thead>\n",
       "    <tr style=\"text-align: right;\">\n",
       "      <th></th>\n",
       "      <th>id</th>\n",
       "      <th>created_at</th>\n",
       "      <th>modified_at</th>\n",
       "      <th>geometry</th>\n",
       "      <th>raba_pid</th>\n",
       "      <th>raba_id</th>\n",
       "      <th>d_od</th>\n",
       "    </tr>\n",
       "  </thead>\n",
       "  <tbody>\n",
       "    <tr>\n",
       "      <th>0</th>\n",
       "      <td>11</td>\n",
       "      <td>2022-02-23T13:55:47.4589+00:00</td>\n",
       "      <td>None</td>\n",
       "      <td>POLYGON ((460137.998 95628.898, 460111.001 956...</td>\n",
       "      <td>5983161</td>\n",
       "      <td>1100</td>\n",
       "      <td>2019-03-11</td>\n",
       "    </tr>\n",
       "    <tr>\n",
       "      <th>1</th>\n",
       "      <td>12</td>\n",
       "      <td>2022-02-23T13:55:47.4589+00:00</td>\n",
       "      <td>None</td>\n",
       "      <td>POLYGON ((453673.609 91328.224, 453678.929 913...</td>\n",
       "      <td>5983074</td>\n",
       "      <td>1600</td>\n",
       "      <td>2019-03-26</td>\n",
       "    </tr>\n",
       "  </tbody>\n",
       "</table>\n",
       "</div>"
      ],
      "text/plain": [
       "   id                      created_at modified_at  \\\n",
       "0  11  2022-02-23T13:55:47.4589+00:00        None   \n",
       "1  12  2022-02-23T13:55:47.4589+00:00        None   \n",
       "\n",
       "                                            geometry  raba_pid  raba_id  \\\n",
       "0  POLYGON ((460137.998 95628.898, 460111.001 956...   5983161     1100   \n",
       "1  POLYGON ((453673.609 91328.224, 453678.929 913...   5983074     1600   \n",
       "\n",
       "         d_od  \n",
       "0  2019-03-11  \n",
       "1  2019-03-26  "
      ]
     },
     "execution_count": 12,
     "metadata": {},
     "output_type": "execute_result"
    }
   ],
   "source": [
    "gdf = geodb.get_collection_by_bbox(collection=\"land_use\", bbox=(452750.0, 88909.549, 464000.0, 102486.299),\n",
    "                comparison_mode=\"contains\", bbox_crs=3794, limit=2, offset=10)\n",
    "gdf"
   ]
  },
  {
   "cell_type": "code",
   "execution_count": null,
   "id": "7f3a346f",
   "metadata": {
    "papermill": {
     "duration": 0.021846,
     "end_time": "2022-02-23T13:57:36.358317",
     "exception": false,
     "start_time": "2022-02-23T13:57:36.336471",
     "status": "completed"
    },
    "tags": []
   },
   "outputs": [],
   "source": []
  }
 ],
 "metadata": {
  "kernelspec": {
   "display_name": "EDC 0.24.5 (Python3)",
   "language": "python",
   "name": "edc"
  },
  "language_info": {
   "codemirror_mode": {
    "name": "ipython",
    "version": 3
   },
   "file_extension": ".py",
   "mimetype": "text/x-python",
   "name": "python",
   "nbconvert_exporter": "python",
   "pygments_lexer": "ipython3",
   "version": "3.8.12"
  },
  "papermill": {
   "duration": 32.247203,
   "end_time": "2022-02-23T13:57:36.697998",
   "environment_variables": {},
   "exception": null,
   "input_path": "/tmp/tmph5tc7y12",
   "output_path": "/tmp/cur_notebook.ipynb",
   "parameters": {},
   "start_time": "2022-02-23T13:57:04.450795",
   "version": "2.1.2"
  },
  "properties": {
   "authors": [],
   "description": "Euro Data Cube GeoDB: Sharing Data",
   "id": "geodb-sharing",
   "license": null,
   "name": "GeoDB: Sharing Data",
   "requirements": [
    "eurodatacube-geodb",
    "eoxhub"
   ],
   "tags": [
    "Getting started",
    "GeoDB"
   ],
   "tosAgree": true,
   "type": "Jupyter Notebook",
   "version": "0.2.1"
  },
  "pycharm": {
   "stem_cell": {
    "cell_type": "raw",
    "metadata": {
     "collapsed": false
    },
    "source": []
   }
  }
 },
 "nbformat": 4,
 "nbformat_minor": 5
}