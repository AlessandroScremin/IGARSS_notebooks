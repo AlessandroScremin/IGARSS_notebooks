{
 "cells": [
  {
   "cell_type": "code",
   "execution_count": 1,
   "id": "a7c0ae21",
   "metadata": {
    "execution": {
     "iopub.execute_input": "2022-06-30T10:03:44.948806Z",
     "iopub.status.busy": "2022-06-30T10:03:44.948213Z",
     "iopub.status.idle": "2022-06-30T10:04:30.846845Z",
     "shell.execute_reply": "2022-06-30T10:04:30.845226Z"
    },
    "papermill": {
     "duration": 45.917376,
     "end_time": "2022-06-30T10:04:30.853514",
     "exception": false,
     "start_time": "2022-06-30T10:03:44.936138",
     "status": "completed"
    },
    "tags": []
   },
   "outputs": [
    {
     "data": {
      "text/markdown": [
       "\n",
       "***Notebook Title***  \n",
       "GeoDB: Sharing Data\n",
       "\n",
       "***Notebook Description***  \n",
       "Euro Data Cube GeoDB: Sharing Data\n",
       "\n",
       "\n",
       "***Notebook Dependencies***  \n",
       "This notebook requires an active subscription to:\n",
       "* EDC GeoDB\n",
       "* EDC EOxHub Workspace\n"
      ],
      "text/plain": [
       "<IPython.core.display.Markdown object>"
      ]
     },
     "metadata": {},
     "output_type": "display_data"
    }
   ],
   "source": [
    "from edc import print_info\n",
    "print_info(\"geodb-sharing\")"
   ]
  },
  {
   "cell_type": "code",
   "execution_count": 2,
   "id": "7058232e",
   "metadata": {
    "execution": {
     "iopub.execute_input": "2022-06-30T10:04:30.870490Z",
     "iopub.status.busy": "2022-06-30T10:04:30.869639Z",
     "iopub.status.idle": "2022-06-30T10:04:30.881750Z",
     "shell.execute_reply": "2022-06-30T10:04:30.880754Z"
    },
    "papermill": {
     "duration": 0.035209,
     "end_time": "2022-06-30T10:04:30.891782",
     "exception": false,
     "start_time": "2022-06-30T10:04:30.856573",
     "status": "completed"
    },
    "tags": []
   },
   "outputs": [
    {
     "data": {
      "text/html": [
       "<script type=\"text/javascript\">\n",
       "        function toggle(id) {\n",
       "            el = document.getElementById(id);\n",
       "            el.style.display = el.style.display === \"none\" ? \"block\" : \"none\";\n",
       "        }\n",
       "    </script>"
      ],
      "text/plain": [
       "<IPython.core.display.HTML object>"
      ]
     },
     "metadata": {},
     "output_type": "display_data"
    },
    {
     "data": {
      "text/html": [
       "This notebook is compatible with this base image version (user-2022.06-03)."
      ],
      "text/plain": [
       "<IPython.core.display.HTML object>"
      ]
     },
     "metadata": {},
     "output_type": "display_data"
    },
    {
     "data": {
      "text/markdown": [
       "\n",
       "\n",
       "---------\n",
       "\n",
       "The following environment variables are available:\n",
       "\n",
       "* `GEODB_AUTH_AUD`, `GEODB_AUTH_CLIENT_ID`, `GEODB_AUTH_DOMAIN`, `GEODB_API_SERVER_URL`, `GEODB_AUTH_CLIENT_SECRET`, `GEODB_API_SERVER_PORT`\n"
      ],
      "text/plain": [
       "<IPython.core.display.Markdown object>"
      ]
     },
     "metadata": {},
     "output_type": "display_data"
    }
   ],
   "source": [
    "from edc import check_compatibility\n",
    "check_compatibility(\"user-2022.06-03\", dependencies=[\"GEODB\"])"
   ]
  },
  {
   "cell_type": "markdown",
   "id": "fd931226",
   "metadata": {
    "papermill": {
     "duration": 0.0053,
     "end_time": "2022-06-30T10:04:30.902098",
     "exception": false,
     "start_time": "2022-06-30T10:04:30.896798",
     "status": "completed"
    },
    "tags": []
   },
   "source": [
    "## Sharing Data"
   ]
  },
  {
   "cell_type": "code",
   "execution_count": 3,
   "id": "e4f50222",
   "metadata": {
    "execution": {
     "iopub.execute_input": "2022-06-30T10:04:30.934860Z",
     "iopub.status.busy": "2022-06-30T10:04:30.933856Z",
     "iopub.status.idle": "2022-06-30T10:04:31.700151Z",
     "shell.execute_reply": "2022-06-30T10:04:31.699239Z"
    },
    "papermill": {
     "duration": 0.778926,
     "end_time": "2022-06-30T10:04:31.703192",
     "exception": false,
     "start_time": "2022-06-30T10:04:30.924266",
     "status": "completed"
    },
    "tags": []
   },
   "outputs": [],
   "source": [
    "from xcube_geodb.core.geodb import GeoDBClient"
   ]
  },
  {
   "cell_type": "code",
   "execution_count": 4,
   "id": "62e0361c",
   "metadata": {
    "execution": {
     "iopub.execute_input": "2022-06-30T10:04:31.719817Z",
     "iopub.status.busy": "2022-06-30T10:04:31.717281Z",
     "iopub.status.idle": "2022-06-30T10:04:32.921308Z",
     "shell.execute_reply": "2022-06-30T10:04:32.920217Z"
    },
    "papermill": {
     "duration": 1.22023,
     "end_time": "2022-06-30T10:04:32.928506",
     "exception": false,
     "start_time": "2022-06-30T10:04:31.708276",
     "status": "completed"
    },
    "tags": []
   },
   "outputs": [
    {
     "data": {
      "text/plain": [
       "'geodb_418dfeac-15f0-4606-9edb-fd9eb722bf04'"
      ]
     },
     "execution_count": 4,
     "metadata": {},
     "output_type": "execute_result"
    }
   ],
   "source": [
    "geodb = GeoDBClient()\n",
    "geodb.whoami"
   ]
  },
  {
   "cell_type": "code",
   "execution_count": 5,
   "id": "a4511adb",
   "metadata": {
    "execution": {
     "iopub.execute_input": "2022-06-30T10:04:32.947821Z",
     "iopub.status.busy": "2022-06-30T10:04:32.941537Z",
     "iopub.status.idle": "2022-06-30T10:04:33.312416Z",
     "shell.execute_reply": "2022-06-30T10:04:33.311218Z"
    },
    "papermill": {
     "duration": 0.38479,
     "end_time": "2022-06-30T10:04:33.317531",
     "exception": false,
     "start_time": "2022-06-30T10:04:32.932741",
     "status": "completed"
    },
    "tags": []
   },
   "outputs": [],
   "source": [
    "ds = geodb.get_my_collections()\n",
    "\n",
    "if ds[(ds.database == geodb.whoami) & (ds.table_name == 'land_use')].table_name.count() == 0:\n",
    "    # Have a look at fiona feature schema\n",
    "    collections = {\n",
    "            \"land_use\": \n",
    "            {\n",
    "                \"crs\": 3794,\n",
    "                \"properties\": \n",
    "                {\n",
    "                    \"RABA_PID\": \"float\", \n",
    "                    \"RABA_ID\": \"float\", \n",
    "                    \"D_OD\": \"date\"\n",
    "                }\n",
    "            }\n",
    "        }\n",
    "\n",
    "\n",
    "    geodb.create_collections(collections)\n",
    "    import geopandas\n",
    "    import os\n",
    "    gdf = geopandas.read_file(os.path.expanduser(\"~/.shared/notebooks/eurodatacube/notebooks/curated/data/sample/land_use.shp\"))\n",
    "    geodb.insert_into_collection('land_use', gdf)"
   ]
  },
  {
   "cell_type": "markdown",
   "id": "88f209da",
   "metadata": {
    "papermill": {
     "duration": 0.008581,
     "end_time": "2022-06-30T10:04:33.329374",
     "exception": false,
     "start_time": "2022-06-30T10:04:33.320793",
     "status": "completed"
    },
    "tags": []
   },
   "source": [
    "### Publish a Collection to the World"
   ]
  },
  {
   "cell_type": "code",
   "execution_count": 6,
   "id": "650d74fc",
   "metadata": {
    "execution": {
     "iopub.execute_input": "2022-06-30T10:04:33.352534Z",
     "iopub.status.busy": "2022-06-30T10:04:33.352188Z",
     "iopub.status.idle": "2022-06-30T10:04:33.492853Z",
     "shell.execute_reply": "2022-06-30T10:04:33.490708Z"
    },
    "papermill": {
     "duration": 0.162095,
     "end_time": "2022-06-30T10:04:33.498192",
     "exception": false,
     "start_time": "2022-06-30T10:04:33.336097",
     "status": "completed"
    },
    "tags": []
   },
   "outputs": [
    {
     "data": {
      "text/html": [
       "<div>\n",
       "<style scoped>\n",
       "    .dataframe tbody tr th:only-of-type {\n",
       "        vertical-align: middle;\n",
       "    }\n",
       "\n",
       "    .dataframe tbody tr th {\n",
       "        vertical-align: top;\n",
       "    }\n",
       "\n",
       "    .dataframe thead th {\n",
       "        text-align: right;\n",
       "    }\n",
       "</style>\n",
       "<table border=\"1\" class=\"dataframe\">\n",
       "  <thead>\n",
       "    <tr style=\"text-align: right;\">\n",
       "      <th></th>\n",
       "      <th>database</th>\n",
       "      <th>table_name</th>\n",
       "      <th>grantee</th>\n",
       "      <th>privileges</th>\n",
       "    </tr>\n",
       "  </thead>\n",
       "  <tbody>\n",
       "    <tr>\n",
       "      <th>0</th>\n",
       "      <td>geodb_418dfeac-15f0-4606-9edb-fd9eb722bf04</td>\n",
       "      <td>2021-10-04-test-1234</td>\n",
       "      <td>postgres</td>\n",
       "      <td>TRIGGER,INSERT,SELECT,UPDATE,DELETE,TRUNCATE,R...</td>\n",
       "    </tr>\n",
       "    <tr>\n",
       "      <th>1</th>\n",
       "      <td>geodb_418dfeac-15f0-4606-9edb-fd9eb722bf04</td>\n",
       "      <td>2021-10-04-test-2</td>\n",
       "      <td>postgres</td>\n",
       "      <td>INSERT,SELECT,UPDATE,DELETE,TRUNCATE,REFERENCE...</td>\n",
       "    </tr>\n",
       "    <tr>\n",
       "      <th>2</th>\n",
       "      <td>geodb_418dfeac-15f0-4606-9edb-fd9eb722bf04</td>\n",
       "      <td>2021-10-04-test-3</td>\n",
       "      <td>postgres</td>\n",
       "      <td>INSERT,SELECT,UPDATE,DELETE,TRUNCATE,REFERENCE...</td>\n",
       "    </tr>\n",
       "    <tr>\n",
       "      <th>3</th>\n",
       "      <td>geodb_418dfeac-15f0-4606-9edb-fd9eb722bf04</td>\n",
       "      <td>2021-10-04-test-7</td>\n",
       "      <td>postgres</td>\n",
       "      <td>INSERT,TRIGGER,REFERENCES,TRUNCATE,DELETE,UPDA...</td>\n",
       "    </tr>\n",
       "    <tr>\n",
       "      <th>4</th>\n",
       "      <td>geodb_418dfeac-15f0-4606-9edb-fd9eb722bf04</td>\n",
       "      <td>2021-10-04-test-9876</td>\n",
       "      <td>postgres</td>\n",
       "      <td>INSERT,SELECT,UPDATE,DELETE,TRUNCATE,REFERENCE...</td>\n",
       "    </tr>\n",
       "    <tr>\n",
       "      <th>5</th>\n",
       "      <td>geodb_418dfeac-15f0-4606-9edb-fd9eb722bf04</td>\n",
       "      <td>2021-10-04-test-coll</td>\n",
       "      <td>postgres</td>\n",
       "      <td>TRIGGER,INSERT,SELECT,UPDATE,DELETE,TRUNCATE,R...</td>\n",
       "    </tr>\n",
       "    <tr>\n",
       "      <th>6</th>\n",
       "      <td>geodb_418dfeac-15f0-4606-9edb-fd9eb722bf04</td>\n",
       "      <td>alster</td>\n",
       "      <td>postgres</td>\n",
       "      <td>REFERENCES,TRUNCATE,DELETE,UPDATE,SELECT,INSER...</td>\n",
       "    </tr>\n",
       "    <tr>\n",
       "      <th>7</th>\n",
       "      <td>geodb_418dfeac-15f0-4606-9edb-fd9eb722bf04</td>\n",
       "      <td>land_use</td>\n",
       "      <td>postgres</td>\n",
       "      <td>TRIGGER,SELECT,UPDATE,DELETE,TRUNCATE,REFERENC...</td>\n",
       "    </tr>\n",
       "  </tbody>\n",
       "</table>\n",
       "</div>"
      ],
      "text/plain": [
       "                                     database            table_name   grantee  \\\n",
       "0  geodb_418dfeac-15f0-4606-9edb-fd9eb722bf04  2021-10-04-test-1234  postgres   \n",
       "1  geodb_418dfeac-15f0-4606-9edb-fd9eb722bf04     2021-10-04-test-2  postgres   \n",
       "2  geodb_418dfeac-15f0-4606-9edb-fd9eb722bf04     2021-10-04-test-3  postgres   \n",
       "3  geodb_418dfeac-15f0-4606-9edb-fd9eb722bf04     2021-10-04-test-7  postgres   \n",
       "4  geodb_418dfeac-15f0-4606-9edb-fd9eb722bf04  2021-10-04-test-9876  postgres   \n",
       "5  geodb_418dfeac-15f0-4606-9edb-fd9eb722bf04  2021-10-04-test-coll  postgres   \n",
       "6  geodb_418dfeac-15f0-4606-9edb-fd9eb722bf04                alster  postgres   \n",
       "7  geodb_418dfeac-15f0-4606-9edb-fd9eb722bf04              land_use  postgres   \n",
       "\n",
       "                                          privileges  \n",
       "0  TRIGGER,INSERT,SELECT,UPDATE,DELETE,TRUNCATE,R...  \n",
       "1  INSERT,SELECT,UPDATE,DELETE,TRUNCATE,REFERENCE...  \n",
       "2  INSERT,SELECT,UPDATE,DELETE,TRUNCATE,REFERENCE...  \n",
       "3  INSERT,TRIGGER,REFERENCES,TRUNCATE,DELETE,UPDA...  \n",
       "4  INSERT,SELECT,UPDATE,DELETE,TRUNCATE,REFERENCE...  \n",
       "5  TRIGGER,INSERT,SELECT,UPDATE,DELETE,TRUNCATE,R...  \n",
       "6  REFERENCES,TRUNCATE,DELETE,UPDATE,SELECT,INSER...  \n",
       "7  TRIGGER,SELECT,UPDATE,DELETE,TRUNCATE,REFERENC...  "
      ]
     },
     "execution_count": 6,
     "metadata": {},
     "output_type": "execute_result"
    }
   ],
   "source": [
    "geodb.list_my_grants()"
   ]
  },
  {
   "cell_type": "code",
   "execution_count": 7,
   "id": "ebc91a40",
   "metadata": {
    "execution": {
     "iopub.execute_input": "2022-06-30T10:04:33.514959Z",
     "iopub.status.busy": "2022-06-30T10:04:33.513922Z",
     "iopub.status.idle": "2022-06-30T10:04:33.645593Z",
     "shell.execute_reply": "2022-06-30T10:04:33.644459Z"
    },
    "papermill": {
     "duration": 0.142432,
     "end_time": "2022-06-30T10:04:33.649341",
     "exception": false,
     "start_time": "2022-06-30T10:04:33.506909",
     "status": "completed"
    },
    "tags": []
   },
   "outputs": [
    {
     "data": {
      "application/json": {
       "Message": "Access granted on land_use to public."
      },
      "text/plain": [
       "<xcube_geodb.core.message.Message at 0x7f6f10047820>"
      ]
     },
     "execution_count": 7,
     "metadata": {},
     "output_type": "execute_result"
    }
   ],
   "source": [
    "geodb.publish_collection(\"land_use\")"
   ]
  },
  {
   "cell_type": "markdown",
   "id": "06f4e31d",
   "metadata": {
    "papermill": {
     "duration": 0.008406,
     "end_time": "2022-06-30T10:04:33.667257",
     "exception": false,
     "start_time": "2022-06-30T10:04:33.658851",
     "status": "completed"
    },
    "tags": []
   },
   "source": [
    "### Accessing Collection as a different User\n",
    "\n",
    "Please be aware that you cannot change the user easily within a Notebook. Here, we changed the credentials in the background. The following cells will not run and are for demonstration only."
   ]
  },
  {
   "cell_type": "code",
   "execution_count": 8,
   "id": "a2727e70",
   "metadata": {
    "execution": {
     "iopub.execute_input": "2022-06-30T10:04:33.686622Z",
     "iopub.status.busy": "2022-06-30T10:04:33.685820Z",
     "iopub.status.idle": "2022-06-30T10:04:34.644566Z",
     "shell.execute_reply": "2022-06-30T10:04:34.635154Z"
    },
    "papermill": {
     "duration": 0.972067,
     "end_time": "2022-06-30T10:04:34.646739",
     "exception": false,
     "start_time": "2022-06-30T10:04:33.674672",
     "status": "completed"
    },
    "tags": []
   },
   "outputs": [
    {
     "data": {
      "text/plain": [
       "'geodb_418dfeac-15f0-4606-9edb-fd9eb722bf04'"
      ]
     },
     "execution_count": 8,
     "metadata": {},
     "output_type": "execute_result"
    }
   ],
   "source": [
    "geodb = GeoDBClient()\n",
    "geodb.whoami"
   ]
  },
  {
   "cell_type": "markdown",
   "id": "dddda2d0",
   "metadata": {
    "papermill": {
     "duration": 0.013143,
     "end_time": "2022-06-30T10:04:34.663820",
     "exception": false,
     "start_time": "2022-06-30T10:04:34.650677",
     "status": "completed"
    },
    "tags": []
   },
   "source": [
    "### Revoke access"
   ]
  },
  {
   "cell_type": "code",
   "execution_count": 9,
   "id": "13ac9d7e",
   "metadata": {
    "execution": {
     "iopub.execute_input": "2022-06-30T10:04:34.682642Z",
     "iopub.status.busy": "2022-06-30T10:04:34.682197Z",
     "iopub.status.idle": "2022-06-30T10:04:34.802377Z",
     "shell.execute_reply": "2022-06-30T10:04:34.801223Z"
    },
    "papermill": {
     "duration": 0.136349,
     "end_time": "2022-06-30T10:04:34.804685",
     "exception": false,
     "start_time": "2022-06-30T10:04:34.668336",
     "status": "completed"
    },
    "tags": []
   },
   "outputs": [
    {
     "data": {
      "text/html": [
       "<div>\n",
       "<style scoped>\n",
       "    .dataframe tbody tr th:only-of-type {\n",
       "        vertical-align: middle;\n",
       "    }\n",
       "\n",
       "    .dataframe tbody tr th {\n",
       "        vertical-align: top;\n",
       "    }\n",
       "\n",
       "    .dataframe thead th {\n",
       "        text-align: right;\n",
       "    }\n",
       "</style>\n",
       "<table border=\"1\" class=\"dataframe\">\n",
       "  <thead>\n",
       "    <tr style=\"text-align: right;\">\n",
       "      <th></th>\n",
       "      <th>database</th>\n",
       "      <th>table_name</th>\n",
       "      <th>grantee</th>\n",
       "      <th>privileges</th>\n",
       "    </tr>\n",
       "  </thead>\n",
       "  <tbody>\n",
       "    <tr>\n",
       "      <th>0</th>\n",
       "      <td>geodb_418dfeac-15f0-4606-9edb-fd9eb722bf04</td>\n",
       "      <td>2021-10-04-test-1234</td>\n",
       "      <td>postgres</td>\n",
       "      <td>TRIGGER,INSERT,SELECT,UPDATE,DELETE,TRUNCATE,R...</td>\n",
       "    </tr>\n",
       "    <tr>\n",
       "      <th>1</th>\n",
       "      <td>geodb_418dfeac-15f0-4606-9edb-fd9eb722bf04</td>\n",
       "      <td>2021-10-04-test-2</td>\n",
       "      <td>postgres</td>\n",
       "      <td>INSERT,SELECT,UPDATE,DELETE,TRUNCATE,REFERENCE...</td>\n",
       "    </tr>\n",
       "    <tr>\n",
       "      <th>2</th>\n",
       "      <td>geodb_418dfeac-15f0-4606-9edb-fd9eb722bf04</td>\n",
       "      <td>2021-10-04-test-3</td>\n",
       "      <td>postgres</td>\n",
       "      <td>INSERT,SELECT,UPDATE,DELETE,TRUNCATE,REFERENCE...</td>\n",
       "    </tr>\n",
       "    <tr>\n",
       "      <th>3</th>\n",
       "      <td>geodb_418dfeac-15f0-4606-9edb-fd9eb722bf04</td>\n",
       "      <td>2021-10-04-test-7</td>\n",
       "      <td>postgres</td>\n",
       "      <td>INSERT,TRIGGER,REFERENCES,TRUNCATE,DELETE,UPDA...</td>\n",
       "    </tr>\n",
       "    <tr>\n",
       "      <th>4</th>\n",
       "      <td>geodb_418dfeac-15f0-4606-9edb-fd9eb722bf04</td>\n",
       "      <td>2021-10-04-test-9876</td>\n",
       "      <td>postgres</td>\n",
       "      <td>INSERT,SELECT,UPDATE,DELETE,TRUNCATE,REFERENCE...</td>\n",
       "    </tr>\n",
       "    <tr>\n",
       "      <th>5</th>\n",
       "      <td>geodb_418dfeac-15f0-4606-9edb-fd9eb722bf04</td>\n",
       "      <td>2021-10-04-test-coll</td>\n",
       "      <td>postgres</td>\n",
       "      <td>TRIGGER,INSERT,SELECT,UPDATE,DELETE,TRUNCATE,R...</td>\n",
       "    </tr>\n",
       "    <tr>\n",
       "      <th>6</th>\n",
       "      <td>geodb_418dfeac-15f0-4606-9edb-fd9eb722bf04</td>\n",
       "      <td>alster</td>\n",
       "      <td>postgres</td>\n",
       "      <td>REFERENCES,TRIGGER,TRUNCATE,DELETE,UPDATE,SELE...</td>\n",
       "    </tr>\n",
       "    <tr>\n",
       "      <th>7</th>\n",
       "      <td>geodb_418dfeac-15f0-4606-9edb-fd9eb722bf04</td>\n",
       "      <td>land_use</td>\n",
       "      <td>postgres</td>\n",
       "      <td>TRIGGER,INSERT,SELECT,UPDATE,DELETE,TRUNCATE,R...</td>\n",
       "    </tr>\n",
       "    <tr>\n",
       "      <th>8</th>\n",
       "      <td>geodb_418dfeac-15f0-4606-9edb-fd9eb722bf04</td>\n",
       "      <td>land_use</td>\n",
       "      <td>PUBLIC</td>\n",
       "      <td>SELECT</td>\n",
       "    </tr>\n",
       "  </tbody>\n",
       "</table>\n",
       "</div>"
      ],
      "text/plain": [
       "                                     database            table_name   grantee  \\\n",
       "0  geodb_418dfeac-15f0-4606-9edb-fd9eb722bf04  2021-10-04-test-1234  postgres   \n",
       "1  geodb_418dfeac-15f0-4606-9edb-fd9eb722bf04     2021-10-04-test-2  postgres   \n",
       "2  geodb_418dfeac-15f0-4606-9edb-fd9eb722bf04     2021-10-04-test-3  postgres   \n",
       "3  geodb_418dfeac-15f0-4606-9edb-fd9eb722bf04     2021-10-04-test-7  postgres   \n",
       "4  geodb_418dfeac-15f0-4606-9edb-fd9eb722bf04  2021-10-04-test-9876  postgres   \n",
       "5  geodb_418dfeac-15f0-4606-9edb-fd9eb722bf04  2021-10-04-test-coll  postgres   \n",
       "6  geodb_418dfeac-15f0-4606-9edb-fd9eb722bf04                alster  postgres   \n",
       "7  geodb_418dfeac-15f0-4606-9edb-fd9eb722bf04              land_use  postgres   \n",
       "8  geodb_418dfeac-15f0-4606-9edb-fd9eb722bf04              land_use    PUBLIC   \n",
       "\n",
       "                                          privileges  \n",
       "0  TRIGGER,INSERT,SELECT,UPDATE,DELETE,TRUNCATE,R...  \n",
       "1  INSERT,SELECT,UPDATE,DELETE,TRUNCATE,REFERENCE...  \n",
       "2  INSERT,SELECT,UPDATE,DELETE,TRUNCATE,REFERENCE...  \n",
       "3  INSERT,TRIGGER,REFERENCES,TRUNCATE,DELETE,UPDA...  \n",
       "4  INSERT,SELECT,UPDATE,DELETE,TRUNCATE,REFERENCE...  \n",
       "5  TRIGGER,INSERT,SELECT,UPDATE,DELETE,TRUNCATE,R...  \n",
       "6  REFERENCES,TRIGGER,TRUNCATE,DELETE,UPDATE,SELE...  \n",
       "7  TRIGGER,INSERT,SELECT,UPDATE,DELETE,TRUNCATE,R...  \n",
       "8                                             SELECT  "
      ]
     },
     "execution_count": 9,
     "metadata": {},
     "output_type": "execute_result"
    }
   ],
   "source": [
    "geodb.list_my_grants()"
   ]
  },
  {
   "cell_type": "code",
   "execution_count": 10,
   "id": "12ef6ef9",
   "metadata": {
    "execution": {
     "iopub.execute_input": "2022-06-30T10:04:34.836880Z",
     "iopub.status.busy": "2022-06-30T10:04:34.836436Z",
     "iopub.status.idle": "2022-06-30T10:04:35.037662Z",
     "shell.execute_reply": "2022-06-30T10:04:35.035892Z"
    },
    "papermill": {
     "duration": 0.227147,
     "end_time": "2022-06-30T10:04:35.041137",
     "exception": false,
     "start_time": "2022-06-30T10:04:34.813990",
     "status": "completed"
    },
    "tags": []
   },
   "outputs": [
    {
     "data": {
      "application/json": {
       "Message": "Access revoked from geodb_418dfeac-15f0-4606-9edb-fd9eb722bf04 on land_use"
      },
      "text/plain": [
       "<xcube_geodb.core.message.Message at 0x7f6f13164610>"
      ]
     },
     "execution_count": 10,
     "metadata": {},
     "output_type": "execute_result"
    }
   ],
   "source": [
    "geodb.unpublish_collection(\"land_use\")"
   ]
  },
  {
   "cell_type": "code",
   "execution_count": 11,
   "id": "bf4e8d9e",
   "metadata": {
    "execution": {
     "iopub.execute_input": "2022-06-30T10:04:35.064730Z",
     "iopub.status.busy": "2022-06-30T10:04:35.064101Z",
     "iopub.status.idle": "2022-06-30T10:04:35.148448Z",
     "shell.execute_reply": "2022-06-30T10:04:35.146982Z"
    },
    "papermill": {
     "duration": 0.108173,
     "end_time": "2022-06-30T10:04:35.153523",
     "exception": false,
     "start_time": "2022-06-30T10:04:35.045350",
     "status": "completed"
    },
    "tags": []
   },
   "outputs": [
    {
     "data": {
      "text/html": [
       "<div>\n",
       "<style scoped>\n",
       "    .dataframe tbody tr th:only-of-type {\n",
       "        vertical-align: middle;\n",
       "    }\n",
       "\n",
       "    .dataframe tbody tr th {\n",
       "        vertical-align: top;\n",
       "    }\n",
       "\n",
       "    .dataframe thead th {\n",
       "        text-align: right;\n",
       "    }\n",
       "</style>\n",
       "<table border=\"1\" class=\"dataframe\">\n",
       "  <thead>\n",
       "    <tr style=\"text-align: right;\">\n",
       "      <th></th>\n",
       "      <th>database</th>\n",
       "      <th>table_name</th>\n",
       "      <th>grantee</th>\n",
       "      <th>privileges</th>\n",
       "    </tr>\n",
       "  </thead>\n",
       "  <tbody>\n",
       "    <tr>\n",
       "      <th>0</th>\n",
       "      <td>geodb_418dfeac-15f0-4606-9edb-fd9eb722bf04</td>\n",
       "      <td>2021-10-04-test-1234</td>\n",
       "      <td>postgres</td>\n",
       "      <td>TRIGGER,INSERT,SELECT,UPDATE,DELETE,TRUNCATE,R...</td>\n",
       "    </tr>\n",
       "    <tr>\n",
       "      <th>1</th>\n",
       "      <td>geodb_418dfeac-15f0-4606-9edb-fd9eb722bf04</td>\n",
       "      <td>2021-10-04-test-2</td>\n",
       "      <td>postgres</td>\n",
       "      <td>INSERT,SELECT,UPDATE,DELETE,TRUNCATE,REFERENCE...</td>\n",
       "    </tr>\n",
       "    <tr>\n",
       "      <th>2</th>\n",
       "      <td>geodb_418dfeac-15f0-4606-9edb-fd9eb722bf04</td>\n",
       "      <td>2021-10-04-test-3</td>\n",
       "      <td>postgres</td>\n",
       "      <td>INSERT,SELECT,UPDATE,DELETE,TRUNCATE,REFERENCE...</td>\n",
       "    </tr>\n",
       "    <tr>\n",
       "      <th>3</th>\n",
       "      <td>geodb_418dfeac-15f0-4606-9edb-fd9eb722bf04</td>\n",
       "      <td>2021-10-04-test-7</td>\n",
       "      <td>postgres</td>\n",
       "      <td>INSERT,TRIGGER,REFERENCES,TRUNCATE,DELETE,UPDA...</td>\n",
       "    </tr>\n",
       "    <tr>\n",
       "      <th>4</th>\n",
       "      <td>geodb_418dfeac-15f0-4606-9edb-fd9eb722bf04</td>\n",
       "      <td>2021-10-04-test-9876</td>\n",
       "      <td>postgres</td>\n",
       "      <td>INSERT,SELECT,UPDATE,DELETE,TRUNCATE,REFERENCE...</td>\n",
       "    </tr>\n",
       "    <tr>\n",
       "      <th>5</th>\n",
       "      <td>geodb_418dfeac-15f0-4606-9edb-fd9eb722bf04</td>\n",
       "      <td>2021-10-04-test-coll</td>\n",
       "      <td>postgres</td>\n",
       "      <td>TRIGGER,INSERT,SELECT,UPDATE,DELETE,TRUNCATE,R...</td>\n",
       "    </tr>\n",
       "    <tr>\n",
       "      <th>6</th>\n",
       "      <td>geodb_418dfeac-15f0-4606-9edb-fd9eb722bf04</td>\n",
       "      <td>alster</td>\n",
       "      <td>postgres</td>\n",
       "      <td>REFERENCES,TRUNCATE,DELETE,UPDATE,SELECT,INSER...</td>\n",
       "    </tr>\n",
       "    <tr>\n",
       "      <th>7</th>\n",
       "      <td>geodb_418dfeac-15f0-4606-9edb-fd9eb722bf04</td>\n",
       "      <td>land_use</td>\n",
       "      <td>postgres</td>\n",
       "      <td>TRIGGER,SELECT,UPDATE,DELETE,TRUNCATE,REFERENC...</td>\n",
       "    </tr>\n",
       "  </tbody>\n",
       "</table>\n",
       "</div>"
      ],
      "text/plain": [
       "                                     database            table_name   grantee  \\\n",
       "0  geodb_418dfeac-15f0-4606-9edb-fd9eb722bf04  2021-10-04-test-1234  postgres   \n",
       "1  geodb_418dfeac-15f0-4606-9edb-fd9eb722bf04     2021-10-04-test-2  postgres   \n",
       "2  geodb_418dfeac-15f0-4606-9edb-fd9eb722bf04     2021-10-04-test-3  postgres   \n",
       "3  geodb_418dfeac-15f0-4606-9edb-fd9eb722bf04     2021-10-04-test-7  postgres   \n",
       "4  geodb_418dfeac-15f0-4606-9edb-fd9eb722bf04  2021-10-04-test-9876  postgres   \n",
       "5  geodb_418dfeac-15f0-4606-9edb-fd9eb722bf04  2021-10-04-test-coll  postgres   \n",
       "6  geodb_418dfeac-15f0-4606-9edb-fd9eb722bf04                alster  postgres   \n",
       "7  geodb_418dfeac-15f0-4606-9edb-fd9eb722bf04              land_use  postgres   \n",
       "\n",
       "                                          privileges  \n",
       "0  TRIGGER,INSERT,SELECT,UPDATE,DELETE,TRUNCATE,R...  \n",
       "1  INSERT,SELECT,UPDATE,DELETE,TRUNCATE,REFERENCE...  \n",
       "2  INSERT,SELECT,UPDATE,DELETE,TRUNCATE,REFERENCE...  \n",
       "3  INSERT,TRIGGER,REFERENCES,TRUNCATE,DELETE,UPDA...  \n",
       "4  INSERT,SELECT,UPDATE,DELETE,TRUNCATE,REFERENCE...  \n",
       "5  TRIGGER,INSERT,SELECT,UPDATE,DELETE,TRUNCATE,R...  \n",
       "6  REFERENCES,TRUNCATE,DELETE,UPDATE,SELECT,INSER...  \n",
       "7  TRIGGER,SELECT,UPDATE,DELETE,TRUNCATE,REFERENC...  "
      ]
     },
     "execution_count": 11,
     "metadata": {},
     "output_type": "execute_result"
    }
   ],
   "source": [
    "geodb.list_my_grants()"
   ]
  },
  {
   "cell_type": "code",
   "execution_count": 12,
   "id": "aa25661a",
   "metadata": {
    "execution": {
     "iopub.execute_input": "2022-06-30T10:04:35.174489Z",
     "iopub.status.busy": "2022-06-30T10:04:35.173625Z",
     "iopub.status.idle": "2022-06-30T10:04:38.465108Z",
     "shell.execute_reply": "2022-06-30T10:04:38.464216Z"
    },
    "papermill": {
     "duration": 3.310145,
     "end_time": "2022-06-30T10:04:38.470719",
     "exception": false,
     "start_time": "2022-06-30T10:04:35.160574",
     "status": "completed"
    },
    "tags": []
   },
   "outputs": [
    {
     "data": {
      "text/html": [
       "<div>\n",
       "<style scoped>\n",
       "    .dataframe tbody tr th:only-of-type {\n",
       "        vertical-align: middle;\n",
       "    }\n",
       "\n",
       "    .dataframe tbody tr th {\n",
       "        vertical-align: top;\n",
       "    }\n",
       "\n",
       "    .dataframe thead th {\n",
       "        text-align: right;\n",
       "    }\n",
       "</style>\n",
       "<table border=\"1\" class=\"dataframe\">\n",
       "  <thead>\n",
       "    <tr style=\"text-align: right;\">\n",
       "      <th></th>\n",
       "      <th>id</th>\n",
       "      <th>created_at</th>\n",
       "      <th>modified_at</th>\n",
       "      <th>geometry</th>\n",
       "      <th>raba_pid</th>\n",
       "      <th>raba_id</th>\n",
       "      <th>d_od</th>\n",
       "    </tr>\n",
       "  </thead>\n",
       "  <tbody>\n",
       "    <tr>\n",
       "      <th>0</th>\n",
       "      <td>11</td>\n",
       "      <td>2022-06-30T10:03:14.741129+00:00</td>\n",
       "      <td>None</td>\n",
       "      <td>POLYGON ((460137.998 95628.898, 460111.001 956...</td>\n",
       "      <td>5983161</td>\n",
       "      <td>1100</td>\n",
       "      <td>2019-03-11</td>\n",
       "    </tr>\n",
       "    <tr>\n",
       "      <th>1</th>\n",
       "      <td>12</td>\n",
       "      <td>2022-06-30T10:03:14.741129+00:00</td>\n",
       "      <td>None</td>\n",
       "      <td>POLYGON ((453673.609 91328.224, 453678.929 913...</td>\n",
       "      <td>5983074</td>\n",
       "      <td>1600</td>\n",
       "      <td>2019-03-26</td>\n",
       "    </tr>\n",
       "  </tbody>\n",
       "</table>\n",
       "</div>"
      ],
      "text/plain": [
       "   id                        created_at modified_at  \\\n",
       "0  11  2022-06-30T10:03:14.741129+00:00        None   \n",
       "1  12  2022-06-30T10:03:14.741129+00:00        None   \n",
       "\n",
       "                                            geometry  raba_pid  raba_id  \\\n",
       "0  POLYGON ((460137.998 95628.898, 460111.001 956...   5983161     1100   \n",
       "1  POLYGON ((453673.609 91328.224, 453678.929 913...   5983074     1600   \n",
       "\n",
       "         d_od  \n",
       "0  2019-03-11  \n",
       "1  2019-03-26  "
      ]
     },
     "execution_count": 12,
     "metadata": {},
     "output_type": "execute_result"
    }
   ],
   "source": [
    "gdf = geodb.get_collection_by_bbox(collection=\"land_use\", bbox=(452750.0, 88909.549, 464000.0, 102486.299),\n",
    "                comparison_mode=\"contains\", bbox_crs=3794, limit=2, offset=10)\n",
    "gdf"
   ]
  },
  {
   "cell_type": "code",
   "execution_count": null,
   "id": "7f3a346f",
   "metadata": {
    "papermill": {
     "duration": 0.010177,
     "end_time": "2022-06-30T10:04:38.487381",
     "exception": false,
     "start_time": "2022-06-30T10:04:38.477204",
     "status": "completed"
    },
    "tags": []
   },
   "outputs": [],
   "source": []
  }
 ],
 "metadata": {
  "kernelspec": {
   "display_name": "EDC 0.24.5 (Python3)",
   "language": "python",
   "name": "edc"
  },
  "language_info": {
   "codemirror_mode": {
    "name": "ipython",
    "version": 3
   },
   "file_extension": ".py",
   "mimetype": "text/x-python",
   "name": "python",
   "nbconvert_exporter": "python",
   "pygments_lexer": "ipython3",
   "version": "3.9.13"
  },
  "papermill": {
   "duration": 55.872497,
   "end_time": "2022-06-30T10:04:39.032281",
   "environment_variables": {},
   "exception": null,
   "input_path": "/tmp/tmp1kgc4tp7",
   "output_path": "/tmp/cur_notebook.ipynb",
   "parameters": {},
   "start_time": "2022-06-30T10:03:43.159784",
   "version": "2.1.2"
  },
  "properties": {
   "authors": [],
   "description": "Euro Data Cube GeoDB: Sharing Data",
   "id": "geodb-sharing",
   "license": null,
   "name": "GeoDB: Sharing Data",
   "requirements": [
    "eurodatacube-geodb",
    "eoxhub"
   ],
   "tags": [
    "Getting started",
    "GeoDB"
   ],
   "tosAgree": true,
   "type": "Jupyter Notebook",
   "version": "0.2.1"
  },
  "pycharm": {
   "stem_cell": {
    "cell_type": "raw",
    "metadata": {
     "collapsed": false
    },
    "source": []
   }
  }
 },
 "nbformat": 4,
 "nbformat_minor": 5
}