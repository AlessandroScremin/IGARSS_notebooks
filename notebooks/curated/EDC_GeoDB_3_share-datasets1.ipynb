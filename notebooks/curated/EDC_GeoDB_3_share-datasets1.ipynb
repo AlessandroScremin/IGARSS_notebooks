{
 "cells": [
  {
   "cell_type": "code",
   "execution_count": 1,
   "id": "a7c0ae21",
   "metadata": {
    "execution": {
     "iopub.execute_input": "2021-07-07T07:49:59.741693Z",
     "iopub.status.busy": "2021-07-07T07:49:59.741137Z",
     "iopub.status.idle": "2021-07-07T07:49:59.996590Z",
     "shell.execute_reply": "2021-07-07T07:49:59.996060Z"
    },
    "papermill": {
     "duration": 0.26812,
     "end_time": "2021-07-07T07:49:59.996705",
     "exception": false,
     "start_time": "2021-07-07T07:49:59.728585",
     "status": "completed"
    },
    "tags": []
   },
   "outputs": [
    {
     "data": {
      "text/markdown": [
       "\n",
       "***Notebook Title***  \n",
       "GeoDB: Sharing Data\n",
       "\n",
       "***Notebook Description***  \n",
       "Euro Data Cube GeoDB: Sharing Data\n",
       "\n",
       "\n",
       "***Notebook Dependencies***  \n",
       "This notebook requires an active subscription to:\n",
       "* EDC GeoDB\n"
      ],
      "text/plain": [
       "<IPython.core.display.Markdown object>"
      ]
     },
     "metadata": {},
     "output_type": "display_data"
    }
   ],
   "source": [
    "from edc import print_info\n",
    "print_info(\"geodb-sharing\")"
   ]
  },
  {
   "cell_type": "code",
   "execution_count": 2,
   "id": "7058232e",
   "metadata": {
    "execution": {
     "iopub.execute_input": "2021-07-07T07:50:00.013569Z",
     "iopub.status.busy": "2021-07-07T07:50:00.013058Z",
     "iopub.status.idle": "2021-07-07T07:50:00.016706Z",
     "shell.execute_reply": "2021-07-07T07:50:00.017079Z"
    },
    "papermill": {
     "duration": 0.013485,
     "end_time": "2021-07-07T07:50:00.017188",
     "exception": false,
     "start_time": "2021-07-07T07:50:00.003703",
     "status": "completed"
    },
    "tags": []
   },
   "outputs": [
    {
     "data": {
      "text/html": [
       "<script type=\"text/javascript\">\n",
       "        function toggle(id) {\n",
       "            el = document.getElementById(id);\n",
       "            el.style.display = el.style.display === \"none\" ? \"block\" : \"none\";\n",
       "        }\n",
       "    </script>"
      ],
      "text/plain": [
       "<IPython.core.display.HTML object>"
      ]
     },
     "metadata": {},
     "output_type": "display_data"
    },
    {
     "data": {
      "text/html": [
       "This notebook is compatible with this base image version (user-0.24.5)."
      ],
      "text/plain": [
       "<IPython.core.display.HTML object>"
      ]
     },
     "metadata": {},
     "output_type": "display_data"
    },
    {
     "data": {
      "text/markdown": [
       "\n",
       "\n",
       "---------\n",
       "\n",
       "The following environment variables are available:\n",
       "\n",
       "* `GEODB_AUTH_AUD`, `GEODB_AUTH_CLIENT_ID`, `GEODB_AUTH_DOMAIN`, `GEODB_API_SERVER_URL`, `GEODB_AUTH_CLIENT_SECRET`, `GEODB_API_SERVER_PORT`\n"
      ],
      "text/plain": [
       "<IPython.core.display.Markdown object>"
      ]
     },
     "metadata": {},
     "output_type": "display_data"
    }
   ],
   "source": [
    "from edc import check_compatibility\n",
    "check_compatibility(\"user-0.24.5\", dependencies=[\"GEODB\"])"
   ]
  },
  {
   "cell_type": "markdown",
   "id": "fd931226",
   "metadata": {
    "papermill": {
     "duration": 0.007503,
     "end_time": "2021-07-07T07:50:00.033197",
     "exception": false,
     "start_time": "2021-07-07T07:50:00.025694",
     "status": "completed"
    },
    "tags": []
   },
   "source": [
    "## Sharing Data"
   ]
  },
  {
   "cell_type": "code",
   "execution_count": 3,
   "id": "e4f50222",
   "metadata": {
    "execution": {
     "iopub.execute_input": "2021-07-07T07:50:00.051084Z",
     "iopub.status.busy": "2021-07-07T07:50:00.050559Z",
     "iopub.status.idle": "2021-07-07T07:50:00.612131Z",
     "shell.execute_reply": "2021-07-07T07:50:00.611587Z"
    },
    "papermill": {
     "duration": 0.571654,
     "end_time": "2021-07-07T07:50:00.612247",
     "exception": false,
     "start_time": "2021-07-07T07:50:00.040593",
     "status": "completed"
    },
    "tags": []
   },
   "outputs": [],
   "source": [
    "from xcube_geodb.core.geodb import GeoDBClient"
   ]
  },
  {
   "cell_type": "code",
   "execution_count": 4,
   "id": "62e0361c",
   "metadata": {
    "execution": {
     "iopub.execute_input": "2021-07-07T07:50:00.631420Z",
     "iopub.status.busy": "2021-07-07T07:50:00.630741Z",
     "iopub.status.idle": "2021-07-07T07:50:02.090269Z",
     "shell.execute_reply": "2021-07-07T07:50:02.089800Z"
    },
    "papermill": {
     "duration": 1.470365,
     "end_time": "2021-07-07T07:50:02.090376",
     "exception": false,
     "start_time": "2021-07-07T07:50:00.620011",
     "status": "completed"
    },
    "tags": []
   },
   "outputs": [
    {
     "data": {
      "text/plain": [
       "'geodb_418dfeac-15f0-4606-9edb-fd9eb722bf04'"
      ]
     },
     "execution_count": 4,
     "metadata": {},
     "output_type": "execute_result"
    }
   ],
   "source": [
    "geodb = GeoDBClient()\n",
    "geodb.whoami"
   ]
  },
  {
   "cell_type": "code",
   "execution_count": 5,
   "id": "a4511adb",
   "metadata": {
    "execution": {
     "iopub.execute_input": "2021-07-07T07:50:02.111014Z",
     "iopub.status.busy": "2021-07-07T07:50:02.109752Z",
     "iopub.status.idle": "2021-07-07T07:50:03.714489Z",
     "shell.execute_reply": "2021-07-07T07:50:03.713875Z"
    },
    "papermill": {
     "duration": 1.616295,
     "end_time": "2021-07-07T07:50:03.714603",
     "exception": false,
     "start_time": "2021-07-07T07:50:02.098308",
     "status": "completed"
    },
    "tags": []
   },
   "outputs": [],
   "source": [
    "ds = geodb.get_my_collections()\n",
    "\n",
    "if ds[(ds.database == geodb.whoami) & (ds.table_name == 'land_use')].table_name.count() == 0:\n",
    "    # Have a look at fiona feature schema\n",
    "    collections = {\n",
    "            \"land_use\": \n",
    "            {\n",
    "                \"crs\": 3794,\n",
    "                \"properties\": \n",
    "                {\n",
    "                    \"RABA_PID\": \"float\", \n",
    "                    \"RABA_ID\": \"float\", \n",
    "                    \"D_OD\": \"date\"\n",
    "                }\n",
    "            }\n",
    "        }\n",
    "\n",
    "\n",
    "    geodb.create_collections(collections)\n",
    "    import geopandas\n",
    "    import os\n",
    "    gdf = geopandas.read_file(os.path.expanduser(\"~/.shared/notebooks/eurodatacube/notebooks/curated/data/sample/land_use.shp\"))\n",
    "    geodb.insert_into_collection('land_use', gdf)"
   ]
  },
  {
   "cell_type": "markdown",
   "id": "88f209da",
   "metadata": {
    "papermill": {
     "duration": 0.00792,
     "end_time": "2021-07-07T07:50:03.730636",
     "exception": false,
     "start_time": "2021-07-07T07:50:03.722716",
     "status": "completed"
    },
    "tags": []
   },
   "source": [
    "### Publish a Collection to the World"
   ]
  },
  {
   "cell_type": "code",
   "execution_count": 6,
   "id": "650d74fc",
   "metadata": {
    "execution": {
     "iopub.execute_input": "2021-07-07T07:50:03.750910Z",
     "iopub.status.busy": "2021-07-07T07:50:03.749783Z",
     "iopub.status.idle": "2021-07-07T07:50:04.217303Z",
     "shell.execute_reply": "2021-07-07T07:50:04.216789Z"
    },
    "papermill": {
     "duration": 0.478909,
     "end_time": "2021-07-07T07:50:04.217407",
     "exception": false,
     "start_time": "2021-07-07T07:50:03.738498",
     "status": "completed"
    },
    "tags": []
   },
   "outputs": [
    {
     "data": {
      "text/html": [
       "<div>\n",
       "<style scoped>\n",
       "    .dataframe tbody tr th:only-of-type {\n",
       "        vertical-align: middle;\n",
       "    }\n",
       "\n",
       "    .dataframe tbody tr th {\n",
       "        vertical-align: top;\n",
       "    }\n",
       "\n",
       "    .dataframe thead th {\n",
       "        text-align: right;\n",
       "    }\n",
       "</style>\n",
       "<table border=\"1\" class=\"dataframe\">\n",
       "  <thead>\n",
       "    <tr style=\"text-align: right;\">\n",
       "      <th></th>\n",
       "      <th>Grants</th>\n",
       "    </tr>\n",
       "  </thead>\n",
       "  <tbody>\n",
       "    <tr>\n",
       "      <th>0</th>\n",
       "      <td>No Grants</td>\n",
       "    </tr>\n",
       "  </tbody>\n",
       "</table>\n",
       "</div>"
      ],
      "text/plain": [
       "      Grants\n",
       "0  No Grants"
      ]
     },
     "execution_count": 6,
     "metadata": {},
     "output_type": "execute_result"
    }
   ],
   "source": [
    "geodb.list_my_grants()"
   ]
  },
  {
   "cell_type": "code",
   "execution_count": 7,
   "id": "ebc91a40",
   "metadata": {
    "execution": {
     "iopub.execute_input": "2021-07-07T07:50:04.238223Z",
     "iopub.status.busy": "2021-07-07T07:50:04.237689Z",
     "iopub.status.idle": "2021-07-07T07:50:05.471599Z",
     "shell.execute_reply": "2021-07-07T07:50:05.471132Z"
    },
    "papermill": {
     "duration": 1.2459,
     "end_time": "2021-07-07T07:50:05.471705",
     "exception": false,
     "start_time": "2021-07-07T07:50:04.225805",
     "status": "completed"
    },
    "tags": []
   },
   "outputs": [
    {
     "data": {
      "text/plain": [
       "Access granted on land_use to public."
      ]
     },
     "execution_count": 7,
     "metadata": {},
     "output_type": "execute_result"
    }
   ],
   "source": [
    "geodb.publish_collection(\"land_use\")"
   ]
  },
  {
   "cell_type": "markdown",
   "id": "06f4e31d",
   "metadata": {
    "papermill": {
     "duration": 0.119971,
     "end_time": "2021-07-07T07:50:05.666115",
     "exception": false,
     "start_time": "2021-07-07T07:50:05.546144",
     "status": "completed"
    },
    "tags": []
   },
   "source": [
    "### Accessing Collection as a different User\n",
    "\n",
    "Please be aware that you cannot change the user easily within a Notebook. Here, we changed the credentials in the background. The following cells will not run and are for demonstration only."
   ]
  },
  {
   "cell_type": "code",
   "execution_count": 8,
   "id": "a2727e70",
   "metadata": {
    "execution": {
     "iopub.execute_input": "2021-07-07T07:50:05.839732Z",
     "iopub.status.busy": "2021-07-07T07:50:05.838190Z",
     "iopub.status.idle": "2021-07-07T07:50:06.723080Z",
     "shell.execute_reply": "2021-07-07T07:50:06.722617Z"
    },
    "papermill": {
     "duration": 0.974357,
     "end_time": "2021-07-07T07:50:06.723184",
     "exception": false,
     "start_time": "2021-07-07T07:50:05.748827",
     "status": "completed"
    },
    "tags": []
   },
   "outputs": [
    {
     "data": {
      "text/plain": [
       "'geodb_418dfeac-15f0-4606-9edb-fd9eb722bf04'"
      ]
     },
     "execution_count": 8,
     "metadata": {},
     "output_type": "execute_result"
    }
   ],
   "source": [
    "geodb = GeoDBClient()\n",
    "geodb.whoami"
   ]
  },
  {
   "cell_type": "markdown",
   "id": "dddda2d0",
   "metadata": {
    "papermill": {
     "duration": 0.089427,
     "end_time": "2021-07-07T07:50:06.821314",
     "exception": false,
     "start_time": "2021-07-07T07:50:06.731887",
     "status": "completed"
    },
    "tags": []
   },
   "source": [
    "### Revoke access"
   ]
  },
  {
   "cell_type": "code",
   "execution_count": 9,
   "id": "13ac9d7e",
   "metadata": {
    "execution": {
     "iopub.execute_input": "2021-07-07T07:50:07.037412Z",
     "iopub.status.busy": "2021-07-07T07:50:07.035812Z",
     "iopub.status.idle": "2021-07-07T07:50:07.418684Z",
     "shell.execute_reply": "2021-07-07T07:50:07.418162Z"
    },
    "papermill": {
     "duration": 0.469825,
     "end_time": "2021-07-07T07:50:07.418789",
     "exception": false,
     "start_time": "2021-07-07T07:50:06.948964",
     "status": "completed"
    },
    "tags": []
   },
   "outputs": [
    {
     "data": {
      "text/html": [
       "<div>\n",
       "<style scoped>\n",
       "    .dataframe tbody tr th:only-of-type {\n",
       "        vertical-align: middle;\n",
       "    }\n",
       "\n",
       "    .dataframe tbody tr th {\n",
       "        vertical-align: top;\n",
       "    }\n",
       "\n",
       "    .dataframe thead th {\n",
       "        text-align: right;\n",
       "    }\n",
       "</style>\n",
       "<table border=\"1\" class=\"dataframe\">\n",
       "  <thead>\n",
       "    <tr style=\"text-align: right;\">\n",
       "      <th></th>\n",
       "      <th>database</th>\n",
       "      <th>table_name</th>\n",
       "      <th>grantee</th>\n",
       "      <th>privileges</th>\n",
       "    </tr>\n",
       "  </thead>\n",
       "  <tbody>\n",
       "    <tr>\n",
       "      <th>0</th>\n",
       "      <td>geodb_418dfeac-15f0-4606-9edb-fd9eb722bf04</td>\n",
       "      <td>land_use</td>\n",
       "      <td>PUBLIC</td>\n",
       "      <td>SELECT</td>\n",
       "    </tr>\n",
       "  </tbody>\n",
       "</table>\n",
       "</div>"
      ],
      "text/plain": [
       "                                     database table_name grantee privileges\n",
       "0  geodb_418dfeac-15f0-4606-9edb-fd9eb722bf04   land_use  PUBLIC     SELECT"
      ]
     },
     "execution_count": 9,
     "metadata": {},
     "output_type": "execute_result"
    }
   ],
   "source": [
    "geodb.list_my_grants()"
   ]
  },
  {
   "cell_type": "code",
   "execution_count": 10,
   "id": "12ef6ef9",
   "metadata": {
    "execution": {
     "iopub.execute_input": "2021-07-07T07:50:07.442349Z",
     "iopub.status.busy": "2021-07-07T07:50:07.441789Z",
     "iopub.status.idle": "2021-07-07T07:50:10.946094Z",
     "shell.execute_reply": "2021-07-07T07:50:10.946481Z"
    },
    "papermill": {
     "duration": 3.518202,
     "end_time": "2021-07-07T07:50:10.946614",
     "exception": false,
     "start_time": "2021-07-07T07:50:07.428412",
     "status": "completed"
    },
    "tags": []
   },
   "outputs": [
    {
     "data": {
      "text/plain": [
       "Access revoked from user public on land_use"
      ]
     },
     "execution_count": 10,
     "metadata": {},
     "output_type": "execute_result"
    }
   ],
   "source": [
    "geodb.unpublish_collection(\"land_use\")"
   ]
  },
  {
   "cell_type": "code",
   "execution_count": 11,
   "id": "bf4e8d9e",
   "metadata": {
    "execution": {
     "iopub.execute_input": "2021-07-07T07:50:10.969202Z",
     "iopub.status.busy": "2021-07-07T07:50:10.967778Z",
     "iopub.status.idle": "2021-07-07T07:50:11.375708Z",
     "shell.execute_reply": "2021-07-07T07:50:11.376055Z"
    },
    "papermill": {
     "duration": 0.420203,
     "end_time": "2021-07-07T07:50:11.376182",
     "exception": false,
     "start_time": "2021-07-07T07:50:10.955979",
     "status": "completed"
    },
    "tags": []
   },
   "outputs": [
    {
     "data": {
      "text/html": [
       "<div>\n",
       "<style scoped>\n",
       "    .dataframe tbody tr th:only-of-type {\n",
       "        vertical-align: middle;\n",
       "    }\n",
       "\n",
       "    .dataframe tbody tr th {\n",
       "        vertical-align: top;\n",
       "    }\n",
       "\n",
       "    .dataframe thead th {\n",
       "        text-align: right;\n",
       "    }\n",
       "</style>\n",
       "<table border=\"1\" class=\"dataframe\">\n",
       "  <thead>\n",
       "    <tr style=\"text-align: right;\">\n",
       "      <th></th>\n",
       "      <th>Grants</th>\n",
       "    </tr>\n",
       "  </thead>\n",
       "  <tbody>\n",
       "    <tr>\n",
       "      <th>0</th>\n",
       "      <td>No Grants</td>\n",
       "    </tr>\n",
       "  </tbody>\n",
       "</table>\n",
       "</div>"
      ],
      "text/plain": [
       "      Grants\n",
       "0  No Grants"
      ]
     },
     "execution_count": 11,
     "metadata": {},
     "output_type": "execute_result"
    }
   ],
   "source": [
    "geodb.list_my_grants()"
   ]
  },
  {
   "cell_type": "code",
   "execution_count": 12,
   "id": "aa25661a",
   "metadata": {
    "execution": {
     "iopub.execute_input": "2021-07-07T07:50:11.400545Z",
     "iopub.status.busy": "2021-07-07T07:50:11.400025Z",
     "iopub.status.idle": "2021-07-07T07:50:17.352621Z",
     "shell.execute_reply": "2021-07-07T07:50:17.353033Z"
    },
    "papermill": {
     "duration": 5.967412,
     "end_time": "2021-07-07T07:50:17.353228",
     "exception": false,
     "start_time": "2021-07-07T07:50:11.385816",
     "status": "completed"
    },
    "tags": []
   },
   "outputs": [
    {
     "data": {
      "text/html": [
       "<div>\n",
       "<style scoped>\n",
       "    .dataframe tbody tr th:only-of-type {\n",
       "        vertical-align: middle;\n",
       "    }\n",
       "\n",
       "    .dataframe tbody tr th {\n",
       "        vertical-align: top;\n",
       "    }\n",
       "\n",
       "    .dataframe thead th {\n",
       "        text-align: right;\n",
       "    }\n",
       "</style>\n",
       "<table border=\"1\" class=\"dataframe\">\n",
       "  <thead>\n",
       "    <tr style=\"text-align: right;\">\n",
       "      <th></th>\n",
       "      <th>id</th>\n",
       "      <th>created_at</th>\n",
       "      <th>modified_at</th>\n",
       "      <th>geometry</th>\n",
       "      <th>raba_pid</th>\n",
       "      <th>raba_id</th>\n",
       "      <th>d_od</th>\n",
       "    </tr>\n",
       "  </thead>\n",
       "  <tbody>\n",
       "    <tr>\n",
       "      <th>0</th>\n",
       "      <td>12</td>\n",
       "      <td>2020-09-29T09:23:21.172369+00:00</td>\n",
       "      <td>None</td>\n",
       "      <td>POLYGON ((453673.609 91328.224, 453678.929 913...</td>\n",
       "      <td>5983074</td>\n",
       "      <td>1600</td>\n",
       "      <td>2019-03-26</td>\n",
       "    </tr>\n",
       "    <tr>\n",
       "      <th>1</th>\n",
       "      <td>13</td>\n",
       "      <td>2020-09-29T09:23:21.172369+00:00</td>\n",
       "      <td>None</td>\n",
       "      <td>POLYGON ((460312.295 96127.114, 460300.319 961...</td>\n",
       "      <td>5983199</td>\n",
       "      <td>1600</td>\n",
       "      <td>2019-03-11</td>\n",
       "    </tr>\n",
       "  </tbody>\n",
       "</table>\n",
       "</div>"
      ],
      "text/plain": [
       "   id                        created_at modified_at  \\\n",
       "0  12  2020-09-29T09:23:21.172369+00:00        None   \n",
       "1  13  2020-09-29T09:23:21.172369+00:00        None   \n",
       "\n",
       "                                            geometry  raba_pid  raba_id  \\\n",
       "0  POLYGON ((453673.609 91328.224, 453678.929 913...   5983074     1600   \n",
       "1  POLYGON ((460312.295 96127.114, 460300.319 961...   5983199     1600   \n",
       "\n",
       "         d_od  \n",
       "0  2019-03-26  \n",
       "1  2019-03-11  "
      ]
     },
     "execution_count": 12,
     "metadata": {},
     "output_type": "execute_result"
    }
   ],
   "source": [
    "gdf = geodb.get_collection_by_bbox(collection=\"land_use\", bbox=(452750.0, 88909.549, 464000.0, 102486.299),\n",
    "                comparison_mode=\"contains\", bbox_crs=3794, limit=2, offset=10)\n",
    "gdf"
   ]
  },
  {
   "cell_type": "code",
   "execution_count": null,
   "id": "7f3a346f",
   "metadata": {
    "papermill": {
     "duration": 0.010284,
     "end_time": "2021-07-07T07:50:17.374177",
     "exception": false,
     "start_time": "2021-07-07T07:50:17.363893",
     "status": "completed"
    },
    "tags": []
   },
   "outputs": [],
   "source": []
  }
 ],
 "metadata": {
  "kernelspec": {
   "display_name": "EDC 0.24.5 (Python3)",
   "language": "python",
   "name": "edc"
  },
  "language_info": {
   "codemirror_mode": {
    "name": "ipython",
    "version": 3
   },
   "file_extension": ".py",
   "mimetype": "text/x-python",
   "name": "python",
   "nbconvert_exporter": "python",
   "pygments_lexer": "ipython3",
   "version": "3.8.10"
  },
  "papermill": {
   "duration": 18.83651,
   "end_time": "2021-07-07T07:50:17.689625",
   "environment_variables": {},
   "exception": null,
   "input_path": "/tmp/tmpcsjuxf0u",
   "output_path": "/tmp/notebook_output.ipynb",
   "parameters": {},
   "start_time": "2021-07-07T07:49:58.853115",
   "version": "2.1.2"
  },
  "properties": {
   "authors": [
   ],
   "description": "Euro Data Cube GeoDB: Sharing Data",
   "id": "geodb-sharing",
   "license": null,
   "name": "GeoDB: Sharing Data",
   "requirements": [
    "eurodatacube-geodb",
    "eoxhub"
   ],
   "tags": [
    "Getting started",
    "GeoDB"
   ],
   "tosAgree": true,
   "type": "Jupyter Notebook",
   "version": "0.2.1"
  },
  "pycharm": {
   "stem_cell": {
    "cell_type": "raw",
    "metadata": {
     "collapsed": false
    },
    "source": []
   }
  }
 },
 "nbformat": 4,
 "nbformat_minor": 5
}
