{
 "cells": [
  {
   "cell_type": "code",
   "execution_count": 1,
   "id": "8a223c27",
   "metadata": {
    "execution": {
     "iopub.execute_input": "2021-05-11T14:42:56.035008Z",
     "iopub.status.busy": "2021-05-11T14:42:56.034152Z",
     "iopub.status.idle": "2021-05-11T14:42:56.090010Z",
     "shell.execute_reply": "2021-05-11T14:42:56.089421Z"
    },
    "papermill": {
     "duration": 0.068052,
     "end_time": "2021-05-11T14:42:56.090122",
     "exception": false,
     "start_time": "2021-05-11T14:42:56.022070",
     "status": "completed"
    },
    "tags": []
   },
   "outputs": [
    {
     "data": {
      "text/html": [
       "<script type=\"text/javascript\">\n",
       "        function toggle(id) {\n",
       "            el = document.getElementById(id);\n",
       "            el.style.display = el.style.display === \"none\" ? \"block\" : \"none\";\n",
       "        }\n",
       "    </script>"
      ],
      "text/plain": [
       "<IPython.core.display.HTML object>"
      ]
     },
     "metadata": {},
     "output_type": "display_data"
    },
    {
     "data": {
      "text/html": [
       "This notebook is compatible with this base image version (user-0.24.5)."
      ],
      "text/plain": [
       "<IPython.core.display.HTML object>"
      ]
     },
     "metadata": {},
     "output_type": "display_data"
    },
    {
     "data": {
      "text/markdown": [
       "\n",
       "\n",
       "---------\n",
       "\n",
       "The following environment variables are available:\n",
       "\n",
       "* `GEODB_AUTH_AUD`, `GEODB_AUTH_CLIENT_ID`, `GEODB_AUTH_DOMAIN`, `GEODB_API_SERVER_URL`, `GEODB_AUTH_CLIENT_SECRET`, `GEODB_API_SERVER_PORT`\n"
      ],
      "text/plain": [
       "<IPython.core.display.Markdown object>"
      ]
     },
     "metadata": {},
     "output_type": "display_data"
    }
   ],
   "source": [
    "from edc import check_compatibility\n",
    "check_compatibility(\"user-0.24.5\", dependencies=[\"GEODB\"])"
   ]
  },
  {
   "cell_type": "markdown",
   "id": "a03764cf",
   "metadata": {
    "papermill": {
     "duration": 0.007908,
     "end_time": "2021-05-11T14:42:56.106154",
     "exception": false,
     "start_time": "2021-05-11T14:42:56.098246",
     "status": "completed"
    },
    "tags": []
   },
   "source": [
    "# How to access IACS Spatial Data\n",
    "\n",
    "_Easily access publicly available georeferenced LPIS/GSAA data in a homogenised format through the [marketplace](https://eurodatacube.com/marketplace)._\n",
    "\n",
    "In this notebook, you will be guided through the steps to access LPIS/GSAA data purchased through the [IACS Spatial Data](https://eurodatacube.com/marketplace/data-products/lpis) tile in the Marketplace."
   ]
  },
  {
   "cell_type": "code",
   "execution_count": 2,
   "id": "e3666c06",
   "metadata": {
    "execution": {
     "iopub.execute_input": "2021-05-11T14:42:56.125931Z",
     "iopub.status.busy": "2021-05-11T14:42:56.125166Z",
     "iopub.status.idle": "2021-05-11T14:42:56.615033Z",
     "shell.execute_reply": "2021-05-11T14:42:56.615476Z"
    },
    "papermill": {
     "duration": 0.500841,
     "end_time": "2021-05-11T14:42:56.615625",
     "exception": false,
     "start_time": "2021-05-11T14:42:56.114784",
     "status": "completed"
    },
    "tags": []
   },
   "outputs": [],
   "source": [
    "# Import libraries\n",
    "from edc import setup_environment_variables\n",
    "from xcube_geodb.core.geodb import GeoDBClient\n",
    "import pandas as pd"
   ]
  },
  {
   "cell_type": "markdown",
   "id": "7f0d4f74",
   "metadata": {
    "papermill": {
     "duration": 0.008254,
     "end_time": "2021-05-11T14:42:56.631614",
     "exception": false,
     "start_time": "2021-05-11T14:42:56.623360",
     "status": "completed"
    },
    "tags": []
   },
   "source": [
    "## 1. List available collections\n",
    "\n",
    "In the following steps we will list the `geodb` collections that are available to you. By default, a certain number of collections are available freely for demonstration purposes. Once you have purchased the data for a or multiple EU member states, the collections will appear in the list."
   ]
  },
  {
   "cell_type": "markdown",
   "id": "e28bc680",
   "metadata": {
    "papermill": {
     "duration": 0.007533,
     "end_time": "2021-05-11T14:42:56.646825",
     "exception": false,
     "start_time": "2021-05-11T14:42:56.639292",
     "status": "completed"
    },
    "tags": []
   },
   "source": [
    "### Fetch the GeoDB client"
   ]
  },
  {
   "cell_type": "code",
   "execution_count": 3,
   "id": "689b964a",
   "metadata": {
    "execution": {
     "iopub.execute_input": "2021-05-11T14:42:56.666791Z",
     "iopub.status.busy": "2021-05-11T14:42:56.666257Z",
     "iopub.status.idle": "2021-05-11T14:42:56.668395Z",
     "shell.execute_reply": "2021-05-11T14:42:56.667953Z"
    },
    "papermill": {
     "duration": 0.012885,
     "end_time": "2021-05-11T14:42:56.668491",
     "exception": false,
     "start_time": "2021-05-11T14:42:56.655606",
     "status": "completed"
    },
    "tags": []
   },
   "outputs": [],
   "source": [
    "geodb = GeoDBClient()"
   ]
  },
  {
   "cell_type": "markdown",
   "id": "3b0eeb55",
   "metadata": {
    "papermill": {
     "duration": 0.008233,
     "end_time": "2021-05-11T14:42:56.684355",
     "exception": false,
     "start_time": "2021-05-11T14:42:56.676122",
     "status": "completed"
    },
    "tags": []
   },
   "source": [
    "### Check your username\n",
    "\n",
    "In the next cell we will print our `geodb` username."
   ]
  },
  {
   "cell_type": "code",
   "execution_count": 4,
   "id": "0e945fe9",
   "metadata": {
    "execution": {
     "iopub.execute_input": "2021-05-11T14:42:56.702307Z",
     "iopub.status.busy": "2021-05-11T14:42:56.701817Z",
     "iopub.status.idle": "2021-05-11T14:42:58.162413Z",
     "shell.execute_reply": "2021-05-11T14:42:58.161963Z"
    },
    "papermill": {
     "duration": 1.470637,
     "end_time": "2021-05-11T14:42:58.162514",
     "exception": false,
     "start_time": "2021-05-11T14:42:56.691877",
     "status": "completed"
    },
    "tags": []
   },
   "outputs": [
    {
     "data": {
      "text/plain": [
       "'geodb_418dfeac-15f0-4606-9edb-fd9eb722bf04'"
      ]
     },
     "execution_count": 4,
     "metadata": {},
     "output_type": "execute_result"
    }
   ],
   "source": [
    "geodb.whoami"
   ]
  },
  {
   "cell_type": "markdown",
   "id": "3545c157",
   "metadata": {
    "papermill": {
     "duration": 0.007759,
     "end_time": "2021-05-11T14:42:58.178019",
     "exception": false,
     "start_time": "2021-05-11T14:42:58.170260",
     "status": "completed"
    },
    "tags": []
   },
   "source": [
    "### List the collections currently accessible in the `lpis_iacs` database\n",
    "\n",
    "Even if you haven't yet purchased the access to a collection, you should be able to see the free datasets available for demonstration purposes."
   ]
  },
  {
   "cell_type": "code",
   "execution_count": 5,
   "id": "c5ee359e",
   "metadata": {
    "execution": {
     "iopub.execute_input": "2021-05-11T14:42:58.198988Z",
     "iopub.status.busy": "2021-05-11T14:42:58.198246Z",
     "iopub.status.idle": "2021-05-11T14:42:58.810389Z",
     "shell.execute_reply": "2021-05-11T14:42:58.810769Z"
    },
    "papermill": {
     "duration": 0.624266,
     "end_time": "2021-05-11T14:42:58.810895",
     "exception": false,
     "start_time": "2021-05-11T14:42:58.186629",
     "status": "completed"
    },
    "tags": []
   },
   "outputs": [
    {
     "data": {
      "text/html": [
       "<div>\n",
       "<style scoped>\n",
       "    .dataframe tbody tr th:only-of-type {\n",
       "        vertical-align: middle;\n",
       "    }\n",
       "\n",
       "    .dataframe tbody tr th {\n",
       "        vertical-align: top;\n",
       "    }\n",
       "\n",
       "    .dataframe thead th {\n",
       "        text-align: right;\n",
       "    }\n",
       "</style>\n",
       "<table border=\"1\" class=\"dataframe\">\n",
       "  <thead>\n",
       "    <tr style=\"text-align: right;\">\n",
       "      <th></th>\n",
       "      <th>owner</th>\n",
       "      <th>database</th>\n",
       "      <th>table_name</th>\n",
       "    </tr>\n",
       "  </thead>\n",
       "  <tbody>\n",
       "    <tr>\n",
       "      <th>0</th>\n",
       "      <td>geodb_lpis_iacs_admin</td>\n",
       "      <td>lpis_iacs</td>\n",
       "      <td>land_use_slo</td>\n",
       "    </tr>\n",
       "    <tr>\n",
       "      <th>1</th>\n",
       "      <td>geodb_lpis_iacs_admin</td>\n",
       "      <td>lpis_iacs</td>\n",
       "      <td>lpis_aut</td>\n",
       "    </tr>\n",
       "    <tr>\n",
       "      <th>2</th>\n",
       "      <td>geodb_lpis_iacs_admin</td>\n",
       "      <td>lpis_iacs</td>\n",
       "      <td>lpis_slo</td>\n",
       "    </tr>\n",
       "  </tbody>\n",
       "</table>\n",
       "</div>"
      ],
      "text/plain": [
       "                   owner   database    table_name\n",
       "0  geodb_lpis_iacs_admin  lpis_iacs  land_use_slo\n",
       "1  geodb_lpis_iacs_admin  lpis_iacs      lpis_aut\n",
       "2  geodb_lpis_iacs_admin  lpis_iacs      lpis_slo"
      ]
     },
     "execution_count": 5,
     "metadata": {},
     "output_type": "execute_result"
    }
   ],
   "source": [
    "my_collection = geodb.get_my_collections(database=\"lpis_iacs\")\n",
    "\n",
    "# Print list of collections accessible\n",
    "my_collection"
   ]
  },
  {
   "cell_type": "markdown",
   "id": "3a63a733",
   "metadata": {
    "papermill": {
     "duration": 0.008738,
     "end_time": "2021-05-11T14:42:58.829951",
     "exception": false,
     "start_time": "2021-05-11T14:42:58.821213",
     "status": "completed"
    },
    "tags": []
   },
   "source": [
    "## 2. Access a specific collection\n",
    "\n",
    "Now that we have listed the available collections, we will see how to access a specific collection. For further information on how to manipulate the collection, you can refer to the following tutorial notebooks:\n",
    "\n",
    "- [GeoDB: Manage Datasets](https://eurodatacube.com/marketplace/notebooks/curated/EDC_GeoDB_1_manage-datasets.ipynb)\n",
    "- [GeoDB: Explore Datasets](https://eurodatacube.com/marketplace/notebooks/curated/EDC_GeoDB_2_explore-datasets.ipynb)\n",
    "- [GeoDB: Sharing Data](https://eurodatacube.com/marketplace/notebooks/curated/EDC_GeoDB_3_share-datasets.ipynb)"
   ]
  },
  {
   "cell_type": "markdown",
   "id": "ce074133",
   "metadata": {
    "papermill": {
     "duration": 0.007959,
     "end_time": "2021-05-11T14:42:58.846168",
     "exception": false,
     "start_time": "2021-05-11T14:42:58.838209",
     "status": "completed"
    },
    "tags": []
   },
   "source": [
    "For this example, we will access a free demonstration dataset called `land_use_slo` in the `lpis_iacs` database. This dataset represents Land Use / Land Cover for Slovenia in 2018. Since it is a large collection, we will limit the request to the first 20 entries. "
   ]
  },
  {
   "cell_type": "code",
   "execution_count": 6,
   "id": "6872595e",
   "metadata": {
    "execution": {
     "iopub.execute_input": "2021-05-11T14:42:58.867059Z",
     "iopub.status.busy": "2021-05-11T14:42:58.866463Z",
     "iopub.status.idle": "2021-05-11T14:43:05.766918Z",
     "shell.execute_reply": "2021-05-11T14:43:05.766329Z"
    },
    "papermill": {
     "duration": 6.912373,
     "end_time": "2021-05-11T14:43:05.767046",
     "exception": false,
     "start_time": "2021-05-11T14:42:58.854673",
     "status": "completed"
    },
    "tags": []
   },
   "outputs": [],
   "source": [
    "gdf = geodb.get_collection_pg('land_use_slo', database='lpis_iacs', limit=20)"
   ]
  },
  {
   "cell_type": "markdown",
   "id": "4b12a22b",
   "metadata": {
    "papermill": {
     "duration": 0.008637,
     "end_time": "2021-05-11T14:43:05.784117",
     "exception": false,
     "start_time": "2021-05-11T14:43:05.775480",
     "status": "completed"
    },
    "tags": []
   },
   "source": [
    "### Print the requested dataset"
   ]
  },
  {
   "cell_type": "code",
   "execution_count": 7,
   "id": "cebca515",
   "metadata": {
    "execution": {
     "iopub.execute_input": "2021-05-11T14:43:05.805406Z",
     "iopub.status.busy": "2021-05-11T14:43:05.804885Z",
     "iopub.status.idle": "2021-05-11T14:43:05.816689Z",
     "shell.execute_reply": "2021-05-11T14:43:05.816254Z"
    },
    "papermill": {
     "duration": 0.024754,
     "end_time": "2021-05-11T14:43:05.816786",
     "exception": false,
     "start_time": "2021-05-11T14:43:05.792032",
     "status": "completed"
    },
    "tags": []
   },
   "outputs": [
    {
     "data": {
      "text/html": [
       "<div>\n",
       "<style scoped>\n",
       "    .dataframe tbody tr th:only-of-type {\n",
       "        vertical-align: middle;\n",
       "    }\n",
       "\n",
       "    .dataframe tbody tr th {\n",
       "        vertical-align: top;\n",
       "    }\n",
       "\n",
       "    .dataframe thead th {\n",
       "        text-align: right;\n",
       "    }\n",
       "</style>\n",
       "<table border=\"1\" class=\"dataframe\">\n",
       "  <thead>\n",
       "    <tr style=\"text-align: right;\">\n",
       "      <th></th>\n",
       "      <th>id</th>\n",
       "      <th>raba_pid</th>\n",
       "      <th>raba_id</th>\n",
       "      <th>d_od</th>\n",
       "      <th>d_update</th>\n",
       "      <th>geometry</th>\n",
       "    </tr>\n",
       "  </thead>\n",
       "  <tbody>\n",
       "    <tr>\n",
       "      <th>0</th>\n",
       "      <td>22471646</td>\n",
       "      <td>5459813</td>\n",
       "      <td>1410</td>\n",
       "      <td>2018-07-12</td>\n",
       "      <td>2018-09-30</td>\n",
       "      <td>POLYGON ((542311.535 123362.572, 542309.364 12...</td>\n",
       "    </tr>\n",
       "    <tr>\n",
       "      <th>1</th>\n",
       "      <td>22471647</td>\n",
       "      <td>5746220</td>\n",
       "      <td>1410</td>\n",
       "      <td>2017-12-08</td>\n",
       "      <td>2018-09-30</td>\n",
       "      <td>POLYGON ((420840.603 107075.637, 420849.287 10...</td>\n",
       "    </tr>\n",
       "    <tr>\n",
       "      <th>2</th>\n",
       "      <td>22471648</td>\n",
       "      <td>193343</td>\n",
       "      <td>3000</td>\n",
       "      <td>2018-01-16</td>\n",
       "      <td>2018-09-30</td>\n",
       "      <td>POLYGON ((442803.656 137529.248, 442804.091 13...</td>\n",
       "    </tr>\n",
       "    <tr>\n",
       "      <th>3</th>\n",
       "      <td>22471649</td>\n",
       "      <td>194873</td>\n",
       "      <td>1300</td>\n",
       "      <td>2018-01-09</td>\n",
       "      <td>2018-09-30</td>\n",
       "      <td>POLYGON ((439352.299 134305.554, 439344.578 13...</td>\n",
       "    </tr>\n",
       "    <tr>\n",
       "      <th>4</th>\n",
       "      <td>22471650</td>\n",
       "      <td>5462680</td>\n",
       "      <td>1600</td>\n",
       "      <td>2018-07-12</td>\n",
       "      <td>2018-09-30</td>\n",
       "      <td>POLYGON ((540144.148 116401.071, 540141.327 11...</td>\n",
       "    </tr>\n",
       "    <tr>\n",
       "      <th>5</th>\n",
       "      <td>22471651</td>\n",
       "      <td>193915</td>\n",
       "      <td>2000</td>\n",
       "      <td>2018-01-08</td>\n",
       "      <td>2018-09-30</td>\n",
       "      <td>POLYGON ((432152.031 135118.672, 432154.848 13...</td>\n",
       "    </tr>\n",
       "    <tr>\n",
       "      <th>6</th>\n",
       "      <td>22471652</td>\n",
       "      <td>192663</td>\n",
       "      <td>1300</td>\n",
       "      <td>2018-01-10</td>\n",
       "      <td>2018-09-30</td>\n",
       "      <td>POLYGON ((436629.587 136928.225, 436622.218 13...</td>\n",
       "    </tr>\n",
       "    <tr>\n",
       "      <th>7</th>\n",
       "      <td>22471653</td>\n",
       "      <td>5460549</td>\n",
       "      <td>3000</td>\n",
       "      <td>2017-01-23</td>\n",
       "      <td>2018-09-30</td>\n",
       "      <td>POLYGON ((511637.792 135223.281, 511645.131 13...</td>\n",
       "    </tr>\n",
       "    <tr>\n",
       "      <th>8</th>\n",
       "      <td>22471654</td>\n",
       "      <td>5746228</td>\n",
       "      <td>1410</td>\n",
       "      <td>2017-12-08</td>\n",
       "      <td>2018-09-30</td>\n",
       "      <td>POLYGON ((419813.958 106567.429, 419808.343 10...</td>\n",
       "    </tr>\n",
       "    <tr>\n",
       "      <th>9</th>\n",
       "      <td>22471655</td>\n",
       "      <td>5746274</td>\n",
       "      <td>1800</td>\n",
       "      <td>2018-02-06</td>\n",
       "      <td>2018-09-30</td>\n",
       "      <td>POLYGON ((443378.053 51641.328, 443372.860 516...</td>\n",
       "    </tr>\n",
       "    <tr>\n",
       "      <th>10</th>\n",
       "      <td>22471656</td>\n",
       "      <td>189415</td>\n",
       "      <td>1300</td>\n",
       "      <td>2018-07-12</td>\n",
       "      <td>2018-09-30</td>\n",
       "      <td>POLYGON ((448179.886 119645.381, 448176.846 11...</td>\n",
       "    </tr>\n",
       "    <tr>\n",
       "      <th>11</th>\n",
       "      <td>22471657</td>\n",
       "      <td>189416</td>\n",
       "      <td>1300</td>\n",
       "      <td>2018-07-12</td>\n",
       "      <td>2018-09-30</td>\n",
       "      <td>POLYGON ((447916.153 121487.047, 447988.815 12...</td>\n",
       "    </tr>\n",
       "    <tr>\n",
       "      <th>12</th>\n",
       "      <td>22471658</td>\n",
       "      <td>2705751</td>\n",
       "      <td>1500</td>\n",
       "      <td>2018-09-12</td>\n",
       "      <td>2018-09-30</td>\n",
       "      <td>POLYGON ((511840.215 70228.656, 511854.638 702...</td>\n",
       "    </tr>\n",
       "    <tr>\n",
       "      <th>13</th>\n",
       "      <td>22471659</td>\n",
       "      <td>5792431</td>\n",
       "      <td>1500</td>\n",
       "      <td>2018-01-03</td>\n",
       "      <td>2018-09-30</td>\n",
       "      <td>POLYGON ((422082.278 89195.979, 422088.357 891...</td>\n",
       "    </tr>\n",
       "    <tr>\n",
       "      <th>14</th>\n",
       "      <td>22471660</td>\n",
       "      <td>5792427</td>\n",
       "      <td>1500</td>\n",
       "      <td>2018-01-03</td>\n",
       "      <td>2018-09-30</td>\n",
       "      <td>POLYGON ((422400.793 89822.525, 422406.438 898...</td>\n",
       "    </tr>\n",
       "    <tr>\n",
       "      <th>15</th>\n",
       "      <td>22471661</td>\n",
       "      <td>1911468</td>\n",
       "      <td>1222</td>\n",
       "      <td>2018-07-12</td>\n",
       "      <td>2018-09-30</td>\n",
       "      <td>POLYGON ((524306.435 98711.008, 524304.047 987...</td>\n",
       "    </tr>\n",
       "    <tr>\n",
       "      <th>16</th>\n",
       "      <td>22471662</td>\n",
       "      <td>83141</td>\n",
       "      <td>5000</td>\n",
       "      <td>2018-01-18</td>\n",
       "      <td>2018-09-30</td>\n",
       "      <td>POLYGON ((405325.357 135377.213, 405324.938 13...</td>\n",
       "    </tr>\n",
       "    <tr>\n",
       "      <th>17</th>\n",
       "      <td>22472321</td>\n",
       "      <td>5672834</td>\n",
       "      <td>1410</td>\n",
       "      <td>2017-10-11</td>\n",
       "      <td>2018-09-30</td>\n",
       "      <td>POLYGON ((406063.431 84987.601, 406066.683 849...</td>\n",
       "    </tr>\n",
       "    <tr>\n",
       "      <th>18</th>\n",
       "      <td>22471664</td>\n",
       "      <td>4252301</td>\n",
       "      <td>1300</td>\n",
       "      <td>2018-09-20</td>\n",
       "      <td>2018-09-30</td>\n",
       "      <td>POLYGON ((524254.264 36552.284, 524257.102 365...</td>\n",
       "    </tr>\n",
       "    <tr>\n",
       "      <th>19</th>\n",
       "      <td>22471665</td>\n",
       "      <td>4252302</td>\n",
       "      <td>1500</td>\n",
       "      <td>2018-09-20</td>\n",
       "      <td>2018-09-30</td>\n",
       "      <td>POLYGON ((524254.264 36552.284, 524248.568 365...</td>\n",
       "    </tr>\n",
       "  </tbody>\n",
       "</table>\n",
       "</div>"
      ],
      "text/plain": [
       "          id  raba_pid  raba_id        d_od    d_update  \\\n",
       "0   22471646   5459813     1410  2018-07-12  2018-09-30   \n",
       "1   22471647   5746220     1410  2017-12-08  2018-09-30   \n",
       "2   22471648    193343     3000  2018-01-16  2018-09-30   \n",
       "3   22471649    194873     1300  2018-01-09  2018-09-30   \n",
       "4   22471650   5462680     1600  2018-07-12  2018-09-30   \n",
       "5   22471651    193915     2000  2018-01-08  2018-09-30   \n",
       "6   22471652    192663     1300  2018-01-10  2018-09-30   \n",
       "7   22471653   5460549     3000  2017-01-23  2018-09-30   \n",
       "8   22471654   5746228     1410  2017-12-08  2018-09-30   \n",
       "9   22471655   5746274     1800  2018-02-06  2018-09-30   \n",
       "10  22471656    189415     1300  2018-07-12  2018-09-30   \n",
       "11  22471657    189416     1300  2018-07-12  2018-09-30   \n",
       "12  22471658   2705751     1500  2018-09-12  2018-09-30   \n",
       "13  22471659   5792431     1500  2018-01-03  2018-09-30   \n",
       "14  22471660   5792427     1500  2018-01-03  2018-09-30   \n",
       "15  22471661   1911468     1222  2018-07-12  2018-09-30   \n",
       "16  22471662     83141     5000  2018-01-18  2018-09-30   \n",
       "17  22472321   5672834     1410  2017-10-11  2018-09-30   \n",
       "18  22471664   4252301     1300  2018-09-20  2018-09-30   \n",
       "19  22471665   4252302     1500  2018-09-20  2018-09-30   \n",
       "\n",
       "                                             geometry  \n",
       "0   POLYGON ((542311.535 123362.572, 542309.364 12...  \n",
       "1   POLYGON ((420840.603 107075.637, 420849.287 10...  \n",
       "2   POLYGON ((442803.656 137529.248, 442804.091 13...  \n",
       "3   POLYGON ((439352.299 134305.554, 439344.578 13...  \n",
       "4   POLYGON ((540144.148 116401.071, 540141.327 11...  \n",
       "5   POLYGON ((432152.031 135118.672, 432154.848 13...  \n",
       "6   POLYGON ((436629.587 136928.225, 436622.218 13...  \n",
       "7   POLYGON ((511637.792 135223.281, 511645.131 13...  \n",
       "8   POLYGON ((419813.958 106567.429, 419808.343 10...  \n",
       "9   POLYGON ((443378.053 51641.328, 443372.860 516...  \n",
       "10  POLYGON ((448179.886 119645.381, 448176.846 11...  \n",
       "11  POLYGON ((447916.153 121487.047, 447988.815 12...  \n",
       "12  POLYGON ((511840.215 70228.656, 511854.638 702...  \n",
       "13  POLYGON ((422082.278 89195.979, 422088.357 891...  \n",
       "14  POLYGON ((422400.793 89822.525, 422406.438 898...  \n",
       "15  POLYGON ((524306.435 98711.008, 524304.047 987...  \n",
       "16  POLYGON ((405325.357 135377.213, 405324.938 13...  \n",
       "17  POLYGON ((406063.431 84987.601, 406066.683 849...  \n",
       "18  POLYGON ((524254.264 36552.284, 524257.102 365...  \n",
       "19  POLYGON ((524254.264 36552.284, 524248.568 365...  "
      ]
     },
     "execution_count": 7,
     "metadata": {},
     "output_type": "execute_result"
    }
   ],
   "source": [
    "gdf"
   ]
  },
  {
   "cell_type": "markdown",
   "id": "ae64412d",
   "metadata": {
    "papermill": {
     "duration": 0.009449,
     "end_time": "2021-05-11T14:43:05.834517",
     "exception": false,
     "start_time": "2021-05-11T14:43:05.825068",
     "status": "completed"
    },
    "tags": []
   },
   "source": [
    "### Plot the collection based on a specific column\n",
    "\n",
    "First, we will query the dataset for a given area, using the `get_collection_by_bbox` method."
   ]
  },
  {
   "cell_type": "code",
   "execution_count": 8,
   "id": "eec85a49",
   "metadata": {
    "execution": {
     "iopub.execute_input": "2021-05-11T14:43:05.856316Z",
     "iopub.status.busy": "2021-05-11T14:43:05.855109Z",
     "iopub.status.idle": "2021-05-11T14:43:15.296300Z",
     "shell.execute_reply": "2021-05-11T14:43:15.295751Z"
    },
    "papermill": {
     "duration": 9.453575,
     "end_time": "2021-05-11T14:43:15.296410",
     "exception": false,
     "start_time": "2021-05-11T14:43:05.842835",
     "status": "completed"
    },
    "tags": []
   },
   "outputs": [],
   "source": [
    "# Get bounding box coordinates for Ljubljiana in EPSG: 3794\n",
    "lju_coords = (456543, 99294, 460617, 103213)\n",
    "\n",
    "\n",
    "# Fetch collection in the given bounding box\n",
    "gdf_lju = geodb.get_collection_by_bbox('land_use_slo', database='lpis_iacs', bbox = lju_coords, comparison_mode=\"contains\", bbox_crs=3794)"
   ]
  },
  {
   "cell_type": "markdown",
   "id": "90e37ad8",
   "metadata": {
    "papermill": {
     "duration": 0.008446,
     "end_time": "2021-05-11T14:43:15.313445",
     "exception": false,
     "start_time": "2021-05-11T14:43:15.304999",
     "status": "completed"
    },
    "tags": []
   },
   "source": [
    "Then we can easily plot the sampled data by one of it's attributes."
   ]
  },
  {
   "cell_type": "code",
   "execution_count": 9,
   "id": "6873787c",
   "metadata": {
    "execution": {
     "iopub.execute_input": "2021-05-11T14:43:15.335827Z",
     "iopub.status.busy": "2021-05-11T14:43:15.335248Z",
     "iopub.status.idle": "2021-05-11T14:43:20.083300Z",
     "shell.execute_reply": "2021-05-11T14:43:20.083666Z"
    },
    "papermill": {
     "duration": 4.761019,
     "end_time": "2021-05-11T14:43:20.083792",
     "exception": false,
     "start_time": "2021-05-11T14:43:15.322773",
     "status": "completed"
    },
    "tags": []
   },
   "outputs": [
    {
     "data": {
      "text/plain": [
       "<AxesSubplot:>"
      ]
     },
     "execution_count": 9,
     "metadata": {},
     "output_type": "execute_result"
    }
   ],
   "source": [
    "gdf_lju.plot(column=\"raba_id\", figsize=(15,15), cmap = 'viridis')"
   ]
  }
 ],
 "metadata": {
  "kernelspec": {
   "display_name": "Python 3",
   "language": "python",
   "name": "python3"
  },
  "language_info": {
   "codemirror_mode": {
    "name": "ipython",
    "version": 3
   },
   "file_extension": ".py",
   "mimetype": "text/x-python",
   "name": "python",
   "nbconvert_exporter": "python",
   "pygments_lexer": "ipython3",
   "version": "3.8.10"
  },
  "papermill": {
   "default_parameters": {},
   "duration": 26.224779,
   "end_time": "2021-05-11T14:43:21.251805",
   "environment_variables": {},
   "exception": null,
   "input_path": "/tmp/tmp0_29b4na",
   "output_path": "/tmp/cur_notebook.ipynb",
   "parameters": {},
   "start_time": "2021-05-11T14:42:55.027026",
   "version": "2.2.0"
  },
  "properties": {
   "authors": [],
   "description": "Learn how to access IACS LPIS/GSAA collections",
   "id": "e78fe34c-959e-4a08-ac23-8cf63156ab4d",
   "license": null,
   "name": "How to access IACS Spatial Data",
   "requirements": [
    "eurodatacube-geodb"
   ],
   "tags": [
    "GeoDB",
    "LPIS",
    "Land-Use-Classification",
    "Vector Data"
   ],
   "tosAgree": true,
   "type": "Jupyter Notebook",
   "version": "0.0.1"
  }
 },
 "nbformat": 4,
 "nbformat_minor": 5
}
