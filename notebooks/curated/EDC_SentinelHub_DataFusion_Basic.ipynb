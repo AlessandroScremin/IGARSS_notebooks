{
 "cells": [
  {
   "cell_type": "code",
   "execution_count": 1,
   "id": "69291eaf",
   "metadata": {
    "execution": {
     "iopub.execute_input": "2021-12-14T12:30:38.830200Z",
     "iopub.status.busy": "2021-12-14T12:30:38.828068Z",
     "iopub.status.idle": "2021-12-14T12:30:38.896702Z",
     "shell.execute_reply": "2021-12-14T12:30:38.897271Z"
    },
    "papermill": {
     "duration": 0.126031,
     "end_time": "2021-12-14T12:30:38.897518",
     "exception": false,
     "start_time": "2021-12-14T12:30:38.771487",
     "status": "completed"
    },
    "tags": []
   },
   "outputs": [
    {
     "data": {
      "text/html": [
       "<script type=\"text/javascript\">\n",
       "        function toggle(id) {\n",
       "            el = document.getElementById(id);\n",
       "            el.style.display = el.style.display === \"none\" ? \"block\" : \"none\";\n",
       "        }\n",
       "    </script>"
      ],
      "text/plain": [
       "<IPython.core.display.HTML object>"
      ]
     },
     "metadata": {},
     "output_type": "display_data"
    },
    {
     "data": {
      "text/html": [
       "This notebook is compatible with this base image version (user-2021.12)."
      ],
      "text/plain": [
       "<IPython.core.display.HTML object>"
      ]
     },
     "metadata": {},
     "output_type": "display_data"
    },
    {
     "data": {
      "text/markdown": [
       "\n",
       "\n",
       "---------\n",
       "\n",
       "The following environment variables are available:\n",
       "\n",
       "* `SH_CLIENT_ID`, `SH_INSTANCE_ID`, `SH_CLIENT_NAME`, `SH_CLIENT_SECRET`\n"
      ],
      "text/plain": [
       "<IPython.core.display.Markdown object>"
      ]
     },
     "metadata": {},
     "output_type": "display_data"
    }
   ],
   "source": [
    "from edc import check_compatibility\n",
    "check_compatibility(\"user-2021.12\", dependencies=[\"SH\"])"
   ]
  },
  {
   "cell_type": "markdown",
   "id": "24c95a94",
   "metadata": {
    "papermill": {
     "duration": 0.051691,
     "end_time": "2021-12-14T12:30:39.002002",
     "exception": false,
     "start_time": "2021-12-14T12:30:38.950311",
     "status": "completed"
    },
    "tags": []
   },
   "source": [
    "# EDC Sentinel Hub: Data Fusion\n",
    "\n",
    "## Example 1: Filling clouds in a Sentinel-2 image with Sentinel-1 SAR data\n",
    "\n",
    "This notebook shows how to request [S1 GRD](https://docs.sentinel-hub.com/api/latest/#/data/Sentinel-1-GRD) and [S2 L1A](https://docs.sentinel-hub.com/api/latest/#/data/Sentinel-2-L2A) from the [Sentinel Hub API](https://docs.sentinel-hub.com/api/latest/#/API/), and how to merge the data in an [evalscript](https://docs.sentinel-hub.com/api/latest/#/Evalscript/).\n",
    "\n",
    "The S2 True Color composition is returned (R: B04, G: B03, B: B02), whereas cloud covered areas are replaced by the S1 VV polarization band.\n",
    "\n",
    "### Prerequisites\n",
    "\n",
    "This notebook requires an active subscription to:\n",
    "\n",
    "-   EDC Sentinel Hub\n"
   ]
  },
  {
   "cell_type": "code",
   "execution_count": 2,
   "id": "6ef73278",
   "metadata": {
    "execution": {
     "iopub.execute_input": "2021-12-14T12:30:39.109584Z",
     "iopub.status.busy": "2021-12-14T12:30:39.108640Z",
     "iopub.status.idle": "2021-12-14T12:30:39.127799Z",
     "shell.execute_reply": "2021-12-14T12:30:39.127175Z"
    },
    "papermill": {
     "duration": 0.074861,
     "end_time": "2021-12-14T12:30:39.127940",
     "exception": false,
     "start_time": "2021-12-14T12:30:39.053079",
     "status": "completed"
    },
    "tags": []
   },
   "outputs": [],
   "source": [
    "# Request tools imports\n",
    "from oauthlib.oauth2 import BackendApplicationClient\n",
    "from requests_oauthlib import OAuth2Session"
   ]
  },
  {
   "cell_type": "code",
   "execution_count": 3,
   "id": "9fb50386",
   "metadata": {
    "execution": {
     "iopub.execute_input": "2021-12-14T12:30:39.238827Z",
     "iopub.status.busy": "2021-12-14T12:30:39.238135Z",
     "iopub.status.idle": "2021-12-14T12:30:39.524445Z",
     "shell.execute_reply": "2021-12-14T12:30:39.523540Z"
    },
    "papermill": {
     "duration": 0.341316,
     "end_time": "2021-12-14T12:30:39.524568",
     "exception": false,
     "start_time": "2021-12-14T12:30:39.183252",
     "status": "completed"
    },
    "tags": []
   },
   "outputs": [],
   "source": [
    "# Utilities\n",
    "import os\n",
    "import shapely.geometry\n",
    "import IPython.display"
   ]
  },
  {
   "cell_type": "code",
   "execution_count": 4,
   "id": "ea51c01d",
   "metadata": {
    "execution": {
     "iopub.execute_input": "2021-12-14T12:30:39.637373Z",
     "iopub.status.busy": "2021-12-14T12:30:39.636461Z",
     "iopub.status.idle": "2021-12-14T12:30:40.469134Z",
     "shell.execute_reply": "2021-12-14T12:30:40.469679Z"
    },
    "papermill": {
     "duration": 0.889137,
     "end_time": "2021-12-14T12:30:40.469835",
     "exception": false,
     "start_time": "2021-12-14T12:30:39.580698",
     "status": "completed"
    },
    "tags": []
   },
   "outputs": [],
   "source": [
    "%matplotlib inline"
   ]
  },
  {
   "cell_type": "markdown",
   "id": "e33100fe",
   "metadata": {
    "papermill": {
     "duration": 0.053908,
     "end_time": "2021-12-14T12:30:40.581427",
     "exception": false,
     "start_time": "2021-12-14T12:30:40.527519",
     "status": "completed"
    },
    "tags": []
   },
   "source": [
    "### Setup"
   ]
  },
  {
   "cell_type": "code",
   "execution_count": 5,
   "id": "24791bac",
   "metadata": {
    "execution": {
     "iopub.execute_input": "2021-12-14T12:30:40.692150Z",
     "iopub.status.busy": "2021-12-14T12:30:40.691411Z",
     "iopub.status.idle": "2021-12-14T12:30:40.693835Z",
     "shell.execute_reply": "2021-12-14T12:30:40.693289Z"
    },
    "papermill": {
     "duration": 0.060017,
     "end_time": "2021-12-14T12:30:40.693954",
     "exception": false,
     "start_time": "2021-12-14T12:30:40.633937",
     "status": "completed"
    },
    "tags": []
   },
   "outputs": [],
   "source": [
    "# Pass the Sentinel Hub Client ID and Secret to variables to be used in the request.\n",
    "my_client_id = %env SH_CLIENT_ID\n",
    "my_client_secret = %env SH_CLIENT_SECRET"
   ]
  },
  {
   "cell_type": "code",
   "execution_count": 6,
   "id": "f8a6fea6",
   "metadata": {
    "execution": {
     "iopub.execute_input": "2021-12-14T12:30:40.803747Z",
     "iopub.status.busy": "2021-12-14T12:30:40.802763Z",
     "iopub.status.idle": "2021-12-14T12:30:40.805780Z",
     "shell.execute_reply": "2021-12-14T12:30:40.805121Z"
    },
    "papermill": {
     "duration": 0.059583,
     "end_time": "2021-12-14T12:30:40.805897",
     "exception": false,
     "start_time": "2021-12-14T12:30:40.746314",
     "status": "completed"
    },
    "tags": []
   },
   "outputs": [],
   "source": [
    "# Create an OAuth2 session based on the client ID\n",
    "client = BackendApplicationClient(client_id=my_client_id)\n",
    "oauth = OAuth2Session(client=client)"
   ]
  },
  {
   "cell_type": "markdown",
   "id": "72399a30",
   "metadata": {
    "papermill": {
     "duration": 0.056905,
     "end_time": "2021-12-14T12:30:40.915816",
     "exception": false,
     "start_time": "2021-12-14T12:30:40.858911",
     "status": "completed"
    },
    "tags": []
   },
   "source": [
    "The Sentinel Hub API uses OAuth2 Authentication and requires that you have an [access token](https://docs.sentinel-hub.com/api/latest/#/API/authentication). These tokens are limited in time, but a new one can be requested with the following command."
   ]
  },
  {
   "cell_type": "code",
   "execution_count": 7,
   "id": "2e9a6a4a",
   "metadata": {
    "execution": {
     "iopub.execute_input": "2021-12-14T12:30:41.034062Z",
     "iopub.status.busy": "2021-12-14T12:30:41.032931Z",
     "iopub.status.idle": "2021-12-14T12:30:41.143474Z",
     "shell.execute_reply": "2021-12-14T12:30:41.142753Z"
    },
    "papermill": {
     "duration": 0.174253,
     "end_time": "2021-12-14T12:30:41.143594",
     "exception": false,
     "start_time": "2021-12-14T12:30:40.969341",
     "status": "completed"
    },
    "tags": []
   },
   "outputs": [],
   "source": [
    "# Get a token for the session\n",
    "token = oauth.fetch_token(token_url='https://services.sentinel-hub.com/oauth/token',\n",
    "                          client_id=my_client_id, client_secret=my_client_secret)"
   ]
  },
  {
   "cell_type": "markdown",
   "id": "1ac2dcec",
   "metadata": {
    "papermill": {
     "duration": 0.053156,
     "end_time": "2021-12-14T12:30:41.249987",
     "exception": false,
     "start_time": "2021-12-14T12:30:41.196831",
     "status": "completed"
    },
    "tags": []
   },
   "source": [
    "## Setting an area of interest\n",
    "\n",
    "We will download Sentinel-1 and Sentinel-2  imagery of the hills located to the North of # Ljubljana, Slovenia.\n",
    "The bounding box is in the WGS84 coordinate system, and consists of the longitude and latitude coordinates of lower left and upper right corners."
   ]
  },
  {
   "cell_type": "code",
   "execution_count": 8,
   "id": "bcb9d32f",
   "metadata": {
    "execution": {
     "iopub.execute_input": "2021-12-14T12:30:41.361575Z",
     "iopub.status.busy": "2021-12-14T12:30:41.360612Z",
     "iopub.status.idle": "2021-12-14T12:30:41.362743Z",
     "shell.execute_reply": "2021-12-14T12:30:41.363266Z"
    },
    "papermill": {
     "duration": 0.059792,
     "end_time": "2021-12-14T12:30:41.363441",
     "exception": false,
     "start_time": "2021-12-14T12:30:41.303649",
     "status": "completed"
    },
    "tags": []
   },
   "outputs": [],
   "source": [
    "# Set bounding box coordinates for the area of interest\n",
    "bbox = (14.37595, 46.09347, 14.56924, 46.19266)"
   ]
  },
  {
   "cell_type": "code",
   "execution_count": 9,
   "id": "08754f82",
   "metadata": {
    "execution": {
     "iopub.execute_input": "2021-12-14T12:30:41.476914Z",
     "iopub.status.busy": "2021-12-14T12:30:41.475290Z",
     "iopub.status.idle": "2021-12-14T12:30:41.482238Z",
     "shell.execute_reply": "2021-12-14T12:30:41.481442Z"
    },
    "papermill": {
     "duration": 0.061815,
     "end_time": "2021-12-14T12:30:41.482363",
     "exception": false,
     "start_time": "2021-12-14T12:30:41.420548",
     "status": "completed"
    },
    "tags": []
   },
   "outputs": [
    {
     "data": {
      "application/geo+json": {
       "coordinates": [
        [
         [
          14.56924,
          46.09347
         ],
         [
          14.56924,
          46.19266
         ],
         [
          14.37595,
          46.19266
         ],
         [
          14.37595,
          46.09347
         ],
         [
          14.56924,
          46.09347
         ]
        ]
       ],
       "type": "Polygon"
      },
      "text/plain": [
       "<IPython.display.GeoJSON object>"
      ]
     },
     "metadata": {
      "application/geo+json": {
       "expanded": false,
       "root": "root"
      }
     },
     "output_type": "display_data"
    }
   ],
   "source": [
    "# Display the coordinates on a map\n",
    "IPython.display.GeoJSON(shapely.geometry.box(*bbox).__geo_interface__)"
   ]
  },
  {
   "cell_type": "markdown",
   "id": "91363565",
   "metadata": {
    "papermill": {
     "duration": 0.053012,
     "end_time": "2021-12-14T12:30:41.588260",
     "exception": false,
     "start_time": "2021-12-14T12:30:41.535248",
     "status": "completed"
    },
    "tags": []
   },
   "source": [
    "## API request\n",
    "\n",
    "We need to specify arguments to send a POST request, more information about all the availaible options [here](https://docs.sentinel-hub.com/api/latest/reference/#operation/process):\n",
    "\n",
    "-   The access point URL:  set it to `https://services.sentinel-hub.com/api/v1/process`\n",
    "\n",
    "-   `json` - the contents of the request containing:\n",
    "\t- `input`: (required) specifies the data to request:\n",
    "\t\t- `bounds`: defines the request bounds by specifying the bounding box and/or geometry for the request.\n",
    "\t\t- `data`: describes the data being requested along with certain processing and filtering parameters.\n",
    "\t- `output`: (optional) allows to set parameters for the returned data\n",
    "\t\t-  `width`: The request image width. Must be an integer between 1 and 2500. \n",
    "        -  `height`: The request image height. Must be an integer between 1 and 2500. \n",
    "\t- `evalscript`: calculates the output values for each pixel\n"
   ]
  },
  {
   "cell_type": "markdown",
   "id": "fc64127b",
   "metadata": {
    "papermill": {
     "duration": 0.053234,
     "end_time": "2021-12-14T12:30:41.694349",
     "exception": false,
     "start_time": "2021-12-14T12:30:41.641115",
     "status": "completed"
    },
    "tags": []
   },
   "source": [
    "#### Step 1\n",
    "First, set the input options. The options are set in the form of a dictionary with key/values pairs.\n",
    "\n",
    "1. Specify the bounds of your request using the bounding box previously described and specifying the [projection]( \n",
    "https://docs.sentinel-hub.com/api/latest/#/API/crs?id=crs-support) (one of the CRS supported by Sentinel Hub API).\n",
    "\n",
    "2. Specify the data to fetch. As in this example there are 2 data sources (Sentinel-1 and Sentinel-2), the options for each sensor are specified in a list of dictionaries.  "
   ]
  },
  {
   "cell_type": "code",
   "execution_count": 10,
   "id": "0e2b0035",
   "metadata": {
    "execution": {
     "iopub.execute_input": "2021-12-14T12:30:41.806167Z",
     "iopub.status.busy": "2021-12-14T12:30:41.805110Z",
     "iopub.status.idle": "2021-12-14T12:30:41.807644Z",
     "shell.execute_reply": "2021-12-14T12:30:41.807073Z"
    },
    "papermill": {
     "duration": 0.061251,
     "end_time": "2021-12-14T12:30:41.807767",
     "exception": false,
     "start_time": "2021-12-14T12:30:41.746516",
     "status": "completed"
    },
    "tags": []
   },
   "outputs": [],
   "source": [
    "# 1. Bounds \n",
    "bounds = {\"properties\":{\"crs\":\"http://www.opengis.net/def/crs/OGC/1.3/CRS84\"}, \"bbox\": bbox}\n",
    "\n",
    "# 2. Data\n",
    "data = [{\"id\": \"s1\", \n",
    "         \"type\": \"S1GRD\",\n",
    "          \"dataFilter\": {\"timeRange\": {\"from\": \"2020-02-01T00:00:00Z\",\n",
    "                                       \"to\": \"2020-02-06T00:00:00Z\"},\n",
    "                         \"mosaickingOrder\": \"mostRecent\"}},\n",
    "         {\"id\": \"l2a\",\n",
    "          \"type\": \"S2L2A\",\n",
    "          \"dataFilter\": {\"timeRange\": {\"from\": \"2020-02-01T00:00:00Z\",\n",
    "                                       \"to\": \"2020-02-06T00:00:00Z\"},\n",
    "                         \"mosaickingOrder\": \"mostRecent\"}}]\n",
    "# Set the options to the input\n",
    "input_options = {\"bounds\": bounds, \"data\": data,}"
   ]
  },
  {
   "cell_type": "markdown",
   "id": "798dd356",
   "metadata": {
    "papermill": {
     "duration": 0.060263,
     "end_time": "2021-12-14T12:30:41.921326",
     "exception": false,
     "start_time": "2021-12-14T12:30:41.861063",
     "status": "completed"
    },
    "tags": []
   },
   "source": [
    "#### Step 2\n",
    "\n",
    "Then set the output options. The default output size of the requested image is 256x256 pixels, so here we will modify the output to be larger. The result will be displayed only, therefore we also set the output format to jpeg."
   ]
  },
  {
   "cell_type": "code",
   "execution_count": 11,
   "id": "e6a47f98",
   "metadata": {
    "execution": {
     "iopub.execute_input": "2021-12-14T12:30:42.030347Z",
     "iopub.status.busy": "2021-12-14T12:30:42.028399Z",
     "iopub.status.idle": "2021-12-14T12:30:42.032766Z",
     "shell.execute_reply": "2021-12-14T12:30:42.032140Z"
    },
    "papermill": {
     "duration": 0.059054,
     "end_time": "2021-12-14T12:30:42.032885",
     "exception": false,
     "start_time": "2021-12-14T12:30:41.973831",
     "status": "completed"
    },
    "tags": []
   },
   "outputs": [],
   "source": [
    "output_options = {\"width\": 640, \"height\": 640, \"responses\": [{\"format\": {\"type\": \"image/jpeg\",\n",
    "                                                                         \"quality\": 90}}]}"
   ]
  },
  {
   "cell_type": "markdown",
   "id": "e3e82e28",
   "metadata": {
    "papermill": {
     "duration": 0.052618,
     "end_time": "2021-12-14T12:30:42.142434",
     "exception": false,
     "start_time": "2021-12-14T12:30:42.089816",
     "status": "completed"
    },
    "tags": []
   },
   "source": [
    "#### Step 3\n",
    "\n",
    "The [evalscript](https://docs.sentinel-hub.com/api/latest/#/Evalscript/) is a piece of javascript code that allows to process the pixels of the images that are returned.\n",
    "\n",
    "In the current example, the S1 and S2 bands needed are called in the `setup` function of the script. \n",
    "\n",
    "The `evaluatePixel` function returns the S1 VV polarization band for the pixels in the S2-L2A SCL band (see [here](https://docs.sentinel-hub.com/api/latest/#/data/Sentinel-2-L2A)) classified as:\n",
    "\n",
    "-  7 - Clouds low probability / Unclassified\n",
    "-  8 - Clouds medium probability\n",
    "-  9 - Clouds high probability\n",
    "-  10 - Cirrus \n",
    "\n",
    "For all the other pixels the S2 [True Color](https://www.sentinel-hub.com/eoproducts/true-color) visualisation is returned (scaled by 2.5 for better viewing). "
   ]
  },
  {
   "cell_type": "code",
   "execution_count": 12,
   "id": "4fd4f464",
   "metadata": {
    "execution": {
     "iopub.execute_input": "2021-12-14T12:30:42.253684Z",
     "iopub.status.busy": "2021-12-14T12:30:42.252870Z",
     "iopub.status.idle": "2021-12-14T12:30:42.255191Z",
     "shell.execute_reply": "2021-12-14T12:30:42.254640Z"
    },
    "papermill": {
     "duration": 0.05943,
     "end_time": "2021-12-14T12:30:42.255314",
     "exception": false,
     "start_time": "2021-12-14T12:30:42.195884",
     "status": "completed"
    },
    "tags": []
   },
   "outputs": [],
   "source": [
    "evascript = \"\"\"\n",
    "//VERSION=3\n",
    "function setup (){\n",
    "  return {\n",
    "    input: [\n",
    "      {datasource: \"s1\", bands:[\"VV\"]},\n",
    "      {datasource: \"l2a\", bands:[\"B02\", \"B03\", \"B04\", \"SCL\"], units:\"REFLECTANCE\"}],\n",
    "    output: [\n",
    "      {id: \"default\", bands: 3, sampleType: SampleType.AUTO}\n",
    "    ]\n",
    "  }\n",
    "}\n",
    "function evaluatePixel(samples, inputData, inputMetadata, customData, outputMetadata) {\n",
    "  var sample = samples.s1[0]\n",
    "  var sample2 = samples.l2a[0]\n",
    "  \n",
    "  if ([7, 8, 9, 10].includes(sample2.SCL)) {\n",
    "    return {\n",
    "      default: [sample.VV, sample.VV, sample.VV]\n",
    "    }\n",
    "  } else {\n",
    "    return {\n",
    "      default: [sample2.B04*2.5, sample2.B03*2.5, sample2.B02*2.5]\n",
    "    }\n",
    "  }\n",
    "}\n",
    "\"\"\""
   ]
  },
  {
   "cell_type": "markdown",
   "id": "e3662fb9",
   "metadata": {
    "papermill": {
     "duration": 0.05414,
     "end_time": "2021-12-14T12:30:42.365638",
     "exception": false,
     "start_time": "2021-12-14T12:30:42.311498",
     "status": "completed"
    },
    "tags": []
   },
   "source": [
    "#### Step 4 (final)\n",
    "\n",
    "The different parts of the request built above are merged together in the `oauth.post` command and the request is posted. If all the elements are correct, the command should return a `200` status."
   ]
  },
  {
   "cell_type": "code",
   "execution_count": 13,
   "id": "20a1c2ee",
   "metadata": {
    "execution": {
     "iopub.execute_input": "2021-12-14T12:30:42.479863Z",
     "iopub.status.busy": "2021-12-14T12:30:42.479168Z",
     "iopub.status.idle": "2021-12-14T12:30:42.694120Z",
     "shell.execute_reply": "2021-12-14T12:30:42.693408Z"
    },
    "papermill": {
     "duration": 0.274851,
     "end_time": "2021-12-14T12:30:42.694263",
     "exception": false,
     "start_time": "2021-12-14T12:30:42.419412",
     "status": "completed"
    },
    "tags": []
   },
   "outputs": [
    {
     "name": "stdout",
     "output_type": "stream",
     "text": [
      "Request status: 400, Bad Request\n"
     ]
    }
   ],
   "source": [
    "response = oauth.post('https://services.sentinel-hub.com/api/v1/process',\n",
    "  json={\"input\": input_options,\n",
    "        \"evalscript\": evascript,\n",
    "        \"output\": output_options,\n",
    "})\n",
    "\n",
    "print(\"Request status: %s, %s\" % (response.status_code, response.reason))"
   ]
  },
  {
   "cell_type": "markdown",
   "id": "f80ad811",
   "metadata": {
    "papermill": {
     "duration": 0.052867,
     "end_time": "2021-12-14T12:30:42.805779",
     "exception": false,
     "start_time": "2021-12-14T12:30:42.752912",
     "status": "completed"
    },
    "tags": []
   },
   "source": [
    "If the request was successful, you can now observe the image:"
   ]
  },
  {
   "cell_type": "code",
   "execution_count": 14,
   "id": "7ed1aa9e",
   "metadata": {
    "execution": {
     "iopub.execute_input": "2021-12-14T12:30:42.916878Z",
     "iopub.status.busy": "2021-12-14T12:30:42.916051Z",
     "iopub.status.idle": "2021-12-14T12:30:42.920170Z",
     "shell.execute_reply": "2021-12-14T12:30:42.919287Z"
    },
    "papermill": {
     "duration": 0.061495,
     "end_time": "2021-12-14T12:30:42.920343",
     "exception": false,
     "start_time": "2021-12-14T12:30:42.858848",
     "status": "completed"
    },
    "tags": []
   },
   "outputs": [
    {
     "data": {
      "image/png": "[encoded data removed]",
      "text/plain": [
       "<IPython.core.display.Image object>"
      ]
     },
     "execution_count": 14,
     "metadata": {},
     "output_type": "execute_result"
    }
   ],
   "source": [
    "IPython.display.Image(response.content)"
   ]
  }
 ],
 "metadata": {
  "kernelspec": {
   "display_name": "Python 3",
   "language": "python",
   "name": "python3"
  },
  "language_info": {
   "codemirror_mode": {
    "name": "ipython",
    "version": 3
   },
   "file_extension": ".py",
   "mimetype": "text/x-python",
   "name": "python",
   "nbconvert_exporter": "python",
   "pygments_lexer": "ipython3",
   "version": "3.8.12"
  },
  "papermill": {
   "duration": 5.559475,
   "end_time": "2021-12-14T12:30:43.285519",
   "environment_variables": {},
   "exception": null,
   "input_path": "/tmp/tmpz3dwgg8h",
   "output_path": "/tmp/cur_notebook.ipynb",
   "parameters": {},
   "start_time": "2021-12-14T12:30:37.726044",
   "version": "2.1.0"
  },
  "properties": {
   "description": "EDC SentinelHub DataFusion Basic",
   "id": "cf311eec-ad0f-4ce3-91e3-220fa77b7c2d",
   "license": null,
   "name": "EDC SentinelHub DataFusion Basic",
   "requirements": [
    "eurodatacube"
   ],
   "tags": [
    "Sentinel Hub"
   ],
   "tosAgree": true,
   "type": "Jupyter Notebook",
   "version": "0.0.1"
  }
 },
 "nbformat": 4,
 "nbformat_minor": 5
}