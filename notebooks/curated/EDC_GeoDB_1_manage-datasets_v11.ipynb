{
 "cells": [
  {
   "cell_type": "code",
   "execution_count": 1,
   "id": "1bc2e278",
   "metadata": {
    "execution": {
     "iopub.execute_input": "2021-12-14T12:25:50.424638Z",
     "iopub.status.busy": "2021-12-14T12:25:50.423815Z",
     "iopub.status.idle": "2021-12-14T12:25:50.552179Z",
     "shell.execute_reply": "2021-12-14T12:25:50.551420Z"
    },
    "papermill": {
     "duration": 0.212974,
     "end_time": "2021-12-14T12:25:50.552310",
     "exception": false,
     "start_time": "2021-12-14T12:25:50.339336",
     "status": "completed"
    },
    "tags": []
   },
   "outputs": [
    {
     "data": {
      "text/markdown": [
       "\n",
       "***Notebook Title***  \n",
       "GeoDB: Manage Datasets\n",
       "\n",
       "***Notebook Description***  \n",
       "Euro Data Cube GeoDB: Manage Datasets\n",
       "\n",
       "\n",
       "***Notebook Dependencies***  \n",
       "This notebook requires an active subscription to:\n",
       "* EDC GeoDB\n",
       "* EDC EOxHub Workspace\n",
       "* EDC EOxHub Workspace\n"
      ],
      "text/plain": [
       "<IPython.core.display.Markdown object>"
      ]
     },
     "metadata": {},
     "output_type": "display_data"
    }
   ],
   "source": [
    "from edc import print_info \n",
    "print_info(\"geodb-manage\")"
   ]
  },
  {
   "cell_type": "code",
   "execution_count": 2,
   "id": "f1fdb01e",
   "metadata": {
    "execution": {
     "iopub.execute_input": "2021-12-14T12:25:50.708530Z",
     "iopub.status.busy": "2021-12-14T12:25:50.707645Z",
     "iopub.status.idle": "2021-12-14T12:25:50.714613Z",
     "shell.execute_reply": "2021-12-14T12:25:50.715141Z"
    },
    "papermill": {
     "duration": 0.087366,
     "end_time": "2021-12-14T12:25:50.715324",
     "exception": false,
     "start_time": "2021-12-14T12:25:50.627958",
     "status": "completed"
    },
    "tags": []
   },
   "outputs": [
    {
     "data": {
      "text/html": [
       "<script type=\"text/javascript\">\n",
       "        function toggle(id) {\n",
       "            el = document.getElementById(id);\n",
       "            el.style.display = el.style.display === \"none\" ? \"block\" : \"none\";\n",
       "        }\n",
       "    </script>"
      ],
      "text/plain": [
       "<IPython.core.display.HTML object>"
      ]
     },
     "metadata": {},
     "output_type": "display_data"
    },
    {
     "data": {
      "text/html": [
       "This notebook is compatible with this base image version (user-2021.12)."
      ],
      "text/plain": [
       "<IPython.core.display.HTML object>"
      ]
     },
     "metadata": {},
     "output_type": "display_data"
    },
    {
     "data": {
      "text/markdown": [
       "\n",
       "\n",
       "---------\n",
       "\n",
       "The following environment variables are available:\n",
       "\n",
       "* `GEODB_AUTH_AUD`, `GEODB_AUTH_CLIENT_ID`, `GEODB_AUTH_DOMAIN`, `GEODB_API_SERVER_URL`, `GEODB_AUTH_CLIENT_SECRET`, `GEODB_API_SERVER_PORT`\n"
      ],
      "text/plain": [
       "<IPython.core.display.Markdown object>"
      ]
     },
     "metadata": {},
     "output_type": "display_data"
    }
   ],
   "source": [
    "from edc import check_compatibility\n",
    "check_compatibility(\"user-2021.12\", dependencies=[\"GEODB\"])"
   ]
  },
  {
   "cell_type": "markdown",
   "id": "4589dc0f",
   "metadata": {
    "papermill": {
     "duration": 0.079128,
     "end_time": "2021-12-14T12:25:50.879961",
     "exception": false,
     "start_time": "2021-12-14T12:25:50.800833",
     "status": "completed"
    },
    "tags": []
   },
   "source": [
    "## Manage Collections in your GeoDB\n",
    "\n"
   ]
  },
  {
   "cell_type": "markdown",
   "id": "b700341c",
   "metadata": {
    "papermill": {
     "duration": 0.07811,
     "end_time": "2021-12-14T12:25:51.041239",
     "exception": false,
     "start_time": "2021-12-14T12:25:50.963129",
     "status": "completed"
    },
    "tags": []
   },
   "source": [
    "### Connecting to the GeoDB"
   ]
  },
  {
   "cell_type": "code",
   "execution_count": 3,
   "id": "baa87b49",
   "metadata": {
    "execution": {
     "iopub.execute_input": "2021-12-14T12:25:51.207405Z",
     "iopub.status.busy": "2021-12-14T12:25:51.206532Z",
     "iopub.status.idle": "2021-12-14T12:25:51.940565Z",
     "shell.execute_reply": "2021-12-14T12:25:51.939899Z"
    },
    "papermill": {
     "duration": 0.819361,
     "end_time": "2021-12-14T12:25:51.940741",
     "exception": false,
     "start_time": "2021-12-14T12:25:51.121380",
     "status": "completed"
    },
    "tags": []
   },
   "outputs": [],
   "source": [
    "from xcube_geodb.core.geodb import GeoDBClient"
   ]
  },
  {
   "cell_type": "code",
   "execution_count": 4,
   "id": "9baa3452",
   "metadata": {
    "execution": {
     "iopub.execute_input": "2021-12-14T12:25:52.108721Z",
     "iopub.status.busy": "2021-12-14T12:25:52.107948Z",
     "iopub.status.idle": "2021-12-14T12:25:52.110943Z",
     "shell.execute_reply": "2021-12-14T12:25:52.110184Z"
    },
    "papermill": {
     "duration": 0.090135,
     "end_time": "2021-12-14T12:25:52.111068",
     "exception": false,
     "start_time": "2021-12-14T12:25:52.020933",
     "status": "completed"
    },
    "tags": []
   },
   "outputs": [],
   "source": [
    "geodb = GeoDBClient()"
   ]
  },
  {
   "cell_type": "code",
   "execution_count": 5,
   "id": "a780e3fb",
   "metadata": {
    "execution": {
     "iopub.execute_input": "2021-12-14T12:25:52.278929Z",
     "iopub.status.busy": "2021-12-14T12:25:52.278136Z",
     "iopub.status.idle": "2021-12-14T12:25:53.341274Z",
     "shell.execute_reply": "2021-12-14T12:25:53.340477Z"
    },
    "papermill": {
     "duration": 1.148277,
     "end_time": "2021-12-14T12:25:53.341396",
     "exception": false,
     "start_time": "2021-12-14T12:25:52.193119",
     "status": "completed"
    },
    "tags": []
   },
   "outputs": [
    {
     "data": {
      "text/plain": [
       "'geodb_418dfeac-15f0-4606-9edb-fd9eb722bf04'"
      ]
     },
     "execution_count": 5,
     "metadata": {},
     "output_type": "execute_result"
    }
   ],
   "source": [
    "# If you are logged in, this will tell you what account the system currently uses\n",
    "geodb.whoami"
   ]
  },
  {
   "cell_type": "code",
   "execution_count": 6,
   "id": "f0b2b694",
   "metadata": {
    "execution": {
     "iopub.execute_input": "2021-12-14T12:25:53.508057Z",
     "iopub.status.busy": "2021-12-14T12:25:53.507297Z",
     "iopub.status.idle": "2021-12-14T12:25:54.267293Z",
     "shell.execute_reply": "2021-12-14T12:25:54.267737Z"
    },
    "papermill": {
     "duration": 0.846636,
     "end_time": "2021-12-14T12:25:54.267888",
     "exception": false,
     "start_time": "2021-12-14T12:25:53.421252",
     "status": "completed"
    },
    "tags": []
   },
   "outputs": [
    {
     "data": {
      "text/html": [
       "<div>\n",
       "<style scoped>\n",
       "    .dataframe tbody tr th:only-of-type {\n",
       "        vertical-align: middle;\n",
       "    }\n",
       "\n",
       "    .dataframe tbody tr th {\n",
       "        vertical-align: top;\n",
       "    }\n",
       "\n",
       "    .dataframe thead th {\n",
       "        text-align: right;\n",
       "    }\n",
       "</style>\n",
       "<table border=\"1\" class=\"dataframe\">\n",
       "  <thead>\n",
       "    <tr style=\"text-align: right;\">\n",
       "      <th></th>\n",
       "      <th>owner</th>\n",
       "      <th>database</th>\n",
       "      <th>collection</th>\n",
       "      <th>table_name</th>\n",
       "    </tr>\n",
       "  </thead>\n",
       "  <tbody>\n",
       "    <tr>\n",
       "      <th>0</th>\n",
       "      <td>geodb_0b01bfcd-2d09-46f8-84e8-cb5720fba14c</td>\n",
       "      <td>geodb_0b01bfcd-2d09-46f8-84e8-cb5720fba14c</td>\n",
       "      <td>delineated_parcels_s</td>\n",
       "      <td>delineated_parcels_s</td>\n",
       "    </tr>\n",
       "    <tr>\n",
       "      <th>1</th>\n",
       "      <td>geodb_0b01bfcd-2d09-46f8-84e8-cb5720fba14c</td>\n",
       "      <td>geodb_0b01bfcd-2d09-46f8-84e8-cb5720fba14c</td>\n",
       "      <td>test_batic</td>\n",
       "      <td>test_batic</td>\n",
       "    </tr>\n",
       "    <tr>\n",
       "      <th>2</th>\n",
       "      <td>geodb_0d6df427-8c09-41b9-abc9-64ce13a68125</td>\n",
       "      <td>geodb_0d6df427-8c09-41b9-abc9-64ce13a68125</td>\n",
       "      <td>land_use</td>\n",
       "      <td>land_use</td>\n",
       "    </tr>\n",
       "    <tr>\n",
       "      <th>3</th>\n",
       "      <td>geodb_0d6df427-8c09-41b9-abc9-64ce13a68125</td>\n",
       "      <td>geodb_0d6df427-8c09-41b9-abc9-64ce13a68125</td>\n",
       "      <td>lpis_aut</td>\n",
       "      <td>lpis_aut</td>\n",
       "    </tr>\n",
       "    <tr>\n",
       "      <th>4</th>\n",
       "      <td>geodb_0e5d743f-2134-4561-8946-a073b039176f</td>\n",
       "      <td>geodb_0e5d743f-2134-4561-8946-a073b039176f</td>\n",
       "      <td>ai4eo_bboxes</td>\n",
       "      <td>ai4eo_bboxes</td>\n",
       "    </tr>\n",
       "    <tr>\n",
       "      <th>...</th>\n",
       "      <td>...</td>\n",
       "      <td>...</td>\n",
       "      <td>...</td>\n",
       "      <td>...</td>\n",
       "    </tr>\n",
       "    <tr>\n",
       "      <th>882</th>\n",
       "      <td>geodb_geodb_ci</td>\n",
       "      <td>geodb_geodb_ci</td>\n",
       "      <td>land_use</td>\n",
       "      <td>land_use</td>\n",
       "    </tr>\n",
       "    <tr>\n",
       "      <th>883</th>\n",
       "      <td>geodb_lpis_iacs_admin</td>\n",
       "      <td>lpis_iacs</td>\n",
       "      <td>land_use_slo</td>\n",
       "      <td>land_use_slo</td>\n",
       "    </tr>\n",
       "    <tr>\n",
       "      <th>884</th>\n",
       "      <td>geodb_lpis_iacs_admin</td>\n",
       "      <td>lpis_iacs</td>\n",
       "      <td>lpis_aut</td>\n",
       "      <td>lpis_aut</td>\n",
       "    </tr>\n",
       "    <tr>\n",
       "      <th>885</th>\n",
       "      <td>geodb_lpis_iacs_admin</td>\n",
       "      <td>lpis_iacs</td>\n",
       "      <td>lpis_slo</td>\n",
       "      <td>lpis_slo</td>\n",
       "    </tr>\n",
       "    <tr>\n",
       "      <th>886</th>\n",
       "      <td>geodb_lpis_iacs_admin</td>\n",
       "      <td>lpis_iacs</td>\n",
       "      <td>metadata</td>\n",
       "      <td>metadata</td>\n",
       "    </tr>\n",
       "  </tbody>\n",
       "</table>\n",
       "<p>887 rows × 4 columns</p>\n",
       "</div>"
      ],
      "text/plain": [
       "                                          owner  \\\n",
       "0    geodb_0b01bfcd-2d09-46f8-84e8-cb5720fba14c   \n",
       "1    geodb_0b01bfcd-2d09-46f8-84e8-cb5720fba14c   \n",
       "2    geodb_0d6df427-8c09-41b9-abc9-64ce13a68125   \n",
       "3    geodb_0d6df427-8c09-41b9-abc9-64ce13a68125   \n",
       "4    geodb_0e5d743f-2134-4561-8946-a073b039176f   \n",
       "..                                          ...   \n",
       "882                              geodb_geodb_ci   \n",
       "883                       geodb_lpis_iacs_admin   \n",
       "884                       geodb_lpis_iacs_admin   \n",
       "885                       geodb_lpis_iacs_admin   \n",
       "886                       geodb_lpis_iacs_admin   \n",
       "\n",
       "                                       database            collection  \\\n",
       "0    geodb_0b01bfcd-2d09-46f8-84e8-cb5720fba14c  delineated_parcels_s   \n",
       "1    geodb_0b01bfcd-2d09-46f8-84e8-cb5720fba14c            test_batic   \n",
       "2    geodb_0d6df427-8c09-41b9-abc9-64ce13a68125              land_use   \n",
       "3    geodb_0d6df427-8c09-41b9-abc9-64ce13a68125              lpis_aut   \n",
       "4    geodb_0e5d743f-2134-4561-8946-a073b039176f          ai4eo_bboxes   \n",
       "..                                          ...                   ...   \n",
       "882                              geodb_geodb_ci              land_use   \n",
       "883                                   lpis_iacs          land_use_slo   \n",
       "884                                   lpis_iacs              lpis_aut   \n",
       "885                                   lpis_iacs              lpis_slo   \n",
       "886                                   lpis_iacs              metadata   \n",
       "\n",
       "               table_name  \n",
       "0    delineated_parcels_s  \n",
       "1              test_batic  \n",
       "2                land_use  \n",
       "3                lpis_aut  \n",
       "4            ai4eo_bboxes  \n",
       "..                    ...  \n",
       "882              land_use  \n",
       "883          land_use_slo  \n",
       "884              lpis_aut  \n",
       "885              lpis_slo  \n",
       "886              metadata  \n",
       "\n",
       "[887 rows x 4 columns]"
      ]
     },
     "execution_count": 6,
     "metadata": {},
     "output_type": "execute_result"
    }
   ],
   "source": [
    "# Lets get already existing collections\n",
    "ds = geodb.get_my_collections()\n",
    "ds\n"
   ]
  },
  {
   "cell_type": "markdown",
   "id": "66a44538",
   "metadata": {
    "papermill": {
     "duration": 0.080472,
     "end_time": "2021-12-14T12:25:54.428772",
     "exception": false,
     "start_time": "2021-12-14T12:25:54.348300",
     "status": "completed"
    },
    "tags": []
   },
   "source": [
    "### Creating collections\n",
    "\n",
    "Once the connection has been established you will be able to create a collection. The collection will contain standard properties (fields) plus custom properties\n",
    "which you can add at your disgretion. Please use [PostGreSQL type definitions](https://www.postgresql.org/docs/11/datatype.html). We recommend stying simple with\n",
    "your data types as we have not tested every single type."
   ]
  },
  {
   "cell_type": "code",
   "execution_count": 7,
   "id": "16370ff2",
   "metadata": {
    "execution": {
     "iopub.execute_input": "2021-12-14T12:25:54.598957Z",
     "iopub.status.busy": "2021-12-14T12:25:54.598042Z",
     "iopub.status.idle": "2021-12-14T12:25:56.363603Z",
     "shell.execute_reply": "2021-12-14T12:25:56.362857Z"
    },
    "papermill": {
     "duration": 1.855679,
     "end_time": "2021-12-14T12:25:56.363759",
     "exception": false,
     "start_time": "2021-12-14T12:25:54.508080",
     "status": "completed"
    },
    "tags": []
   },
   "outputs": [],
   "source": [
    "ds = geodb.get_my_collections()\n",
    "\n",
    "if ds[(ds.database == geodb.whoami) & (ds.collection == 'land_use')].collection.count() == 0:\n",
    "    # Have a look at fiona feature schema\n",
    "    collections = {\n",
    "            \"land_use\": \n",
    "            {\n",
    "                \"crs\": 3794,\n",
    "                \"properties\": \n",
    "                {\n",
    "                    \"RABA_PID\": \"float\", \n",
    "                    \"RABA_ID\": \"float\", \n",
    "                    \"D_OD\": \"date\"\n",
    "                }\n",
    "            }\n",
    "        }\n",
    "\n",
    "\n",
    "    geodb.create_collections(collections)\n",
    "    import geopandas\n",
    "    import os\n",
    "    gdf = geopandas.read_file(os.path.expanduser(\"~/.shared/notebooks/eurodatacube/notebooks/curated/data/sample/land_use.shp\"))\n",
    "    geodb.insert_into_collection('land_use', gdf)"
   ]
  },
  {
   "cell_type": "code",
   "execution_count": 8,
   "id": "b916f81a",
   "metadata": {
    "execution": {
     "iopub.execute_input": "2021-12-14T12:25:56.531996Z",
     "iopub.status.busy": "2021-12-14T12:25:56.531107Z",
     "iopub.status.idle": "2021-12-14T12:25:58.056641Z",
     "shell.execute_reply": "2021-12-14T12:25:58.057178Z"
    },
    "papermill": {
     "duration": 1.612247,
     "end_time": "2021-12-14T12:25:58.057325",
     "exception": false,
     "start_time": "2021-12-14T12:25:56.445078",
     "status": "completed"
    },
    "tags": []
   },
   "outputs": [
    {
     "data": {
      "text/html": [
       "<div>\n",
       "<style scoped>\n",
       "    .dataframe tbody tr th:only-of-type {\n",
       "        vertical-align: middle;\n",
       "    }\n",
       "\n",
       "    .dataframe tbody tr th {\n",
       "        vertical-align: top;\n",
       "    }\n",
       "\n",
       "    .dataframe thead th {\n",
       "        text-align: right;\n",
       "    }\n",
       "</style>\n",
       "<table border=\"1\" class=\"dataframe\">\n",
       "  <thead>\n",
       "    <tr style=\"text-align: right;\">\n",
       "      <th></th>\n",
       "      <th>owner</th>\n",
       "      <th>database</th>\n",
       "      <th>collection</th>\n",
       "      <th>table_name</th>\n",
       "    </tr>\n",
       "  </thead>\n",
       "  <tbody>\n",
       "    <tr>\n",
       "      <th>0</th>\n",
       "      <td>geodb_418dfeac-15f0-4606-9edb-fd9eb722bf04</td>\n",
       "      <td>geodb_418dfeac-15f0-4606-9edb-fd9eb722bf04</td>\n",
       "      <td>2021-10-04-test-1234</td>\n",
       "      <td>2021-10-04-test-1234</td>\n",
       "    </tr>\n",
       "    <tr>\n",
       "      <th>1</th>\n",
       "      <td>geodb_418dfeac-15f0-4606-9edb-fd9eb722bf04</td>\n",
       "      <td>geodb_418dfeac-15f0-4606-9edb-fd9eb722bf04</td>\n",
       "      <td>2021-10-04-test-2</td>\n",
       "      <td>2021-10-04-test-2</td>\n",
       "    </tr>\n",
       "    <tr>\n",
       "      <th>2</th>\n",
       "      <td>geodb_418dfeac-15f0-4606-9edb-fd9eb722bf04</td>\n",
       "      <td>geodb_418dfeac-15f0-4606-9edb-fd9eb722bf04</td>\n",
       "      <td>2021-10-04-test-3</td>\n",
       "      <td>2021-10-04-test-3</td>\n",
       "    </tr>\n",
       "    <tr>\n",
       "      <th>3</th>\n",
       "      <td>geodb_418dfeac-15f0-4606-9edb-fd9eb722bf04</td>\n",
       "      <td>geodb_418dfeac-15f0-4606-9edb-fd9eb722bf04</td>\n",
       "      <td>2021-10-04-test-7</td>\n",
       "      <td>2021-10-04-test-7</td>\n",
       "    </tr>\n",
       "    <tr>\n",
       "      <th>4</th>\n",
       "      <td>geodb_418dfeac-15f0-4606-9edb-fd9eb722bf04</td>\n",
       "      <td>geodb_418dfeac-15f0-4606-9edb-fd9eb722bf04</td>\n",
       "      <td>2021-10-04-test-9876</td>\n",
       "      <td>2021-10-04-test-9876</td>\n",
       "    </tr>\n",
       "    <tr>\n",
       "      <th>5</th>\n",
       "      <td>geodb_418dfeac-15f0-4606-9edb-fd9eb722bf04</td>\n",
       "      <td>geodb_418dfeac-15f0-4606-9edb-fd9eb722bf04</td>\n",
       "      <td>2021-10-04-test-coll</td>\n",
       "      <td>2021-10-04-test-coll</td>\n",
       "    </tr>\n",
       "    <tr>\n",
       "      <th>6</th>\n",
       "      <td>geodb_418dfeac-15f0-4606-9edb-fd9eb722bf04</td>\n",
       "      <td>geodb_418dfeac-15f0-4606-9edb-fd9eb722bf04</td>\n",
       "      <td>alster</td>\n",
       "      <td>alster</td>\n",
       "    </tr>\n",
       "    <tr>\n",
       "      <th>7</th>\n",
       "      <td>geodb_418dfeac-15f0-4606-9edb-fd9eb722bf04</td>\n",
       "      <td>geodb_418dfeac-15f0-4606-9edb-fd9eb722bf04</td>\n",
       "      <td>land_use</td>\n",
       "      <td>land_use</td>\n",
       "    </tr>\n",
       "  </tbody>\n",
       "</table>\n",
       "</div>"
      ],
      "text/plain": [
       "                                        owner  \\\n",
       "0  geodb_418dfeac-15f0-4606-9edb-fd9eb722bf04   \n",
       "1  geodb_418dfeac-15f0-4606-9edb-fd9eb722bf04   \n",
       "2  geodb_418dfeac-15f0-4606-9edb-fd9eb722bf04   \n",
       "3  geodb_418dfeac-15f0-4606-9edb-fd9eb722bf04   \n",
       "4  geodb_418dfeac-15f0-4606-9edb-fd9eb722bf04   \n",
       "5  geodb_418dfeac-15f0-4606-9edb-fd9eb722bf04   \n",
       "6  geodb_418dfeac-15f0-4606-9edb-fd9eb722bf04   \n",
       "7  geodb_418dfeac-15f0-4606-9edb-fd9eb722bf04   \n",
       "\n",
       "                                     database            collection  \\\n",
       "0  geodb_418dfeac-15f0-4606-9edb-fd9eb722bf04  2021-10-04-test-1234   \n",
       "1  geodb_418dfeac-15f0-4606-9edb-fd9eb722bf04     2021-10-04-test-2   \n",
       "2  geodb_418dfeac-15f0-4606-9edb-fd9eb722bf04     2021-10-04-test-3   \n",
       "3  geodb_418dfeac-15f0-4606-9edb-fd9eb722bf04     2021-10-04-test-7   \n",
       "4  geodb_418dfeac-15f0-4606-9edb-fd9eb722bf04  2021-10-04-test-9876   \n",
       "5  geodb_418dfeac-15f0-4606-9edb-fd9eb722bf04  2021-10-04-test-coll   \n",
       "6  geodb_418dfeac-15f0-4606-9edb-fd9eb722bf04                alster   \n",
       "7  geodb_418dfeac-15f0-4606-9edb-fd9eb722bf04              land_use   \n",
       "\n",
       "             table_name  \n",
       "0  2021-10-04-test-1234  \n",
       "1     2021-10-04-test-2  \n",
       "2     2021-10-04-test-3  \n",
       "3     2021-10-04-test-7  \n",
       "4  2021-10-04-test-9876  \n",
       "5  2021-10-04-test-coll  \n",
       "6                alster  \n",
       "7              land_use  "
      ]
     },
     "execution_count": 8,
     "metadata": {},
     "output_type": "execute_result"
    }
   ],
   "source": [
    "ds = geodb.get_my_collections(database=geodb.whoami)\n",
    "ds"
   ]
  },
  {
   "cell_type": "markdown",
   "id": "454c4c30",
   "metadata": {
    "papermill": {
     "duration": 0.087264,
     "end_time": "2021-12-14T12:25:58.226683",
     "exception": false,
     "start_time": "2021-12-14T12:25:58.139419",
     "status": "completed"
    },
    "tags": []
   },
   "source": [
    "### Loading data into a dataset\n",
    "\n",
    "Once the table has been created, you can load data into the dataset. The example below loads a shapefile. The attributes of the shapefile correspond to the dataset's properties.\n"
   ]
  },
  {
   "cell_type": "code",
   "execution_count": 9,
   "id": "35ddeb73",
   "metadata": {
    "execution": {
     "iopub.execute_input": "2021-12-14T12:25:59.142477Z",
     "iopub.status.busy": "2021-12-14T12:25:59.096323Z",
     "iopub.status.idle": "2021-12-14T12:25:59.835326Z",
     "shell.execute_reply": "2021-12-14T12:25:59.835785Z"
    },
    "papermill": {
     "duration": 1.525797,
     "end_time": "2021-12-14T12:25:59.835935",
     "exception": false,
     "start_time": "2021-12-14T12:25:58.310138",
     "status": "completed"
    },
    "tags": []
   },
   "outputs": [
    {
     "data": {
      "text/html": [
       "<div>\n",
       "<style scoped>\n",
       "    .dataframe tbody tr th:only-of-type {\n",
       "        vertical-align: middle;\n",
       "    }\n",
       "\n",
       "    .dataframe tbody tr th {\n",
       "        vertical-align: top;\n",
       "    }\n",
       "\n",
       "    .dataframe thead th {\n",
       "        text-align: right;\n",
       "    }\n",
       "</style>\n",
       "<table border=\"1\" class=\"dataframe\">\n",
       "  <thead>\n",
       "    <tr style=\"text-align: right;\">\n",
       "      <th></th>\n",
       "      <th>RABA_PID</th>\n",
       "      <th>RABA_ID</th>\n",
       "      <th>D_OD</th>\n",
       "      <th>geometry</th>\n",
       "    </tr>\n",
       "  </thead>\n",
       "  <tbody>\n",
       "    <tr>\n",
       "      <th>0</th>\n",
       "      <td>4770326.0</td>\n",
       "      <td>1410</td>\n",
       "      <td>2019-03-26</td>\n",
       "      <td>POLYGON ((453952.629 91124.177, 453952.696 911...</td>\n",
       "    </tr>\n",
       "    <tr>\n",
       "      <th>1</th>\n",
       "      <td>4770325.0</td>\n",
       "      <td>1300</td>\n",
       "      <td>2019-03-26</td>\n",
       "      <td>POLYGON ((453810.376 91150.199, 453812.552 911...</td>\n",
       "    </tr>\n",
       "    <tr>\n",
       "      <th>2</th>\n",
       "      <td>2305689.0</td>\n",
       "      <td>7000</td>\n",
       "      <td>2019-02-25</td>\n",
       "      <td>POLYGON ((456099.635 97696.070, 456112.810 976...</td>\n",
       "    </tr>\n",
       "    <tr>\n",
       "      <th>3</th>\n",
       "      <td>2305596.0</td>\n",
       "      <td>1100</td>\n",
       "      <td>2019-02-25</td>\n",
       "      <td>POLYGON ((455929.405 97963.785, 455933.284 979...</td>\n",
       "    </tr>\n",
       "    <tr>\n",
       "      <th>4</th>\n",
       "      <td>2310160.0</td>\n",
       "      <td>1100</td>\n",
       "      <td>2019-03-11</td>\n",
       "      <td>POLYGON ((461561.512 96119.256, 461632.114 960...</td>\n",
       "    </tr>\n",
       "    <tr>\n",
       "      <th>...</th>\n",
       "      <td>...</td>\n",
       "      <td>...</td>\n",
       "      <td>...</td>\n",
       "      <td>...</td>\n",
       "    </tr>\n",
       "    <tr>\n",
       "      <th>9822</th>\n",
       "      <td>6253989.0</td>\n",
       "      <td>1600</td>\n",
       "      <td>2019-03-08</td>\n",
       "      <td>POLYGON ((460637.334 96865.891, 460647.927 969...</td>\n",
       "    </tr>\n",
       "    <tr>\n",
       "      <th>9823</th>\n",
       "      <td>6252044.0</td>\n",
       "      <td>1600</td>\n",
       "      <td>2019-03-26</td>\n",
       "      <td>POLYGON ((459467.868 96839.686, 459467.770 968...</td>\n",
       "    </tr>\n",
       "    <tr>\n",
       "      <th>9824</th>\n",
       "      <td>6245985.0</td>\n",
       "      <td>2000</td>\n",
       "      <td>2019-04-08</td>\n",
       "      <td>POLYGON ((459488.998 94066.248, 459498.145 940...</td>\n",
       "    </tr>\n",
       "    <tr>\n",
       "      <th>9825</th>\n",
       "      <td>6245986.0</td>\n",
       "      <td>2000</td>\n",
       "      <td>2019-02-20</td>\n",
       "      <td>POLYGON ((459676.680 94000.000, 459672.469 939...</td>\n",
       "    </tr>\n",
       "    <tr>\n",
       "      <th>9826</th>\n",
       "      <td>6245987.0</td>\n",
       "      <td>2000</td>\n",
       "      <td>2019-03-11</td>\n",
       "      <td>POLYGON ((459690.580 94042.607, 459686.872 940...</td>\n",
       "    </tr>\n",
       "  </tbody>\n",
       "</table>\n",
       "<p>9827 rows × 4 columns</p>\n",
       "</div>"
      ],
      "text/plain": [
       "       RABA_PID  RABA_ID        D_OD  \\\n",
       "0     4770326.0     1410  2019-03-26   \n",
       "1     4770325.0     1300  2019-03-26   \n",
       "2     2305689.0     7000  2019-02-25   \n",
       "3     2305596.0     1100  2019-02-25   \n",
       "4     2310160.0     1100  2019-03-11   \n",
       "...         ...      ...         ...   \n",
       "9822  6253989.0     1600  2019-03-08   \n",
       "9823  6252044.0     1600  2019-03-26   \n",
       "9824  6245985.0     2000  2019-04-08   \n",
       "9825  6245986.0     2000  2019-02-20   \n",
       "9826  6245987.0     2000  2019-03-11   \n",
       "\n",
       "                                               geometry  \n",
       "0     POLYGON ((453952.629 91124.177, 453952.696 911...  \n",
       "1     POLYGON ((453810.376 91150.199, 453812.552 911...  \n",
       "2     POLYGON ((456099.635 97696.070, 456112.810 976...  \n",
       "3     POLYGON ((455929.405 97963.785, 455933.284 979...  \n",
       "4     POLYGON ((461561.512 96119.256, 461632.114 960...  \n",
       "...                                                 ...  \n",
       "9822  POLYGON ((460637.334 96865.891, 460647.927 969...  \n",
       "9823  POLYGON ((459467.868 96839.686, 459467.770 968...  \n",
       "9824  POLYGON ((459488.998 94066.248, 459498.145 940...  \n",
       "9825  POLYGON ((459676.680 94000.000, 459672.469 939...  \n",
       "9826  POLYGON ((459690.580 94042.607, 459686.872 940...  \n",
       "\n",
       "[9827 rows x 4 columns]"
      ]
     },
     "execution_count": 9,
     "metadata": {},
     "output_type": "execute_result"
    }
   ],
   "source": [
    "import geopandas\n",
    "import os\n",
    "gdf = geopandas.read_file(os.path.expanduser(\"~/.shared/notebooks/eurodatacube/notebooks/curated/data/sample/land_use.shp\"))\n",
    "gdf"
   ]
  },
  {
   "cell_type": "code",
   "execution_count": 10,
   "id": "582ac5f4",
   "metadata": {
    "execution": {
     "iopub.execute_input": "2021-12-14T12:26:00.018020Z",
     "iopub.status.busy": "2021-12-14T12:26:00.016532Z",
     "iopub.status.idle": "2021-12-14T12:26:10.638133Z",
     "shell.execute_reply": "2021-12-14T12:26:10.637415Z"
    },
    "papermill": {
     "duration": 10.717742,
     "end_time": "2021-12-14T12:26:10.638255",
     "exception": false,
     "start_time": "2021-12-14T12:25:59.920513",
     "status": "completed"
    },
    "tags": []
   },
   "outputs": [
    {
     "name": "stdout",
     "output_type": "stream",
     "text": [
      "Processing rows from 0 to 999\n"
     ]
    },
    {
     "name": "stdout",
     "output_type": "stream",
     "text": [
      "Processing rows from 1000 to 1999\n"
     ]
    },
    {
     "name": "stdout",
     "output_type": "stream",
     "text": [
      "Processing rows from 2000 to 2999\n"
     ]
    },
    {
     "name": "stdout",
     "output_type": "stream",
     "text": [
      "Processing rows from 3000 to 3999\n"
     ]
    },
    {
     "name": "stdout",
     "output_type": "stream",
     "text": [
      "Processing rows from 4000 to 4999\n"
     ]
    },
    {
     "name": "stdout",
     "output_type": "stream",
     "text": [
      "Processing rows from 5000 to 5999\n"
     ]
    },
    {
     "name": "stdout",
     "output_type": "stream",
     "text": [
      "Processing rows from 6000 to 6999\n"
     ]
    },
    {
     "name": "stdout",
     "output_type": "stream",
     "text": [
      "Processing rows from 7000 to 7999\n"
     ]
    },
    {
     "name": "stdout",
     "output_type": "stream",
     "text": [
      "Processing rows from 8000 to 8999\n"
     ]
    },
    {
     "name": "stdout",
     "output_type": "stream",
     "text": [
      "Processing rows from 9000 to 9827\n"
     ]
    },
    {
     "data": {
      "application/json": {
       "Message": "9827 rows inserted into land_use"
      },
      "text/plain": [
       "<xcube_geodb.core.message.Message at 0x7fd2187a40d0>"
      ]
     },
     "execution_count": 10,
     "metadata": {},
     "output_type": "execute_result"
    }
   ],
   "source": [
    "geodb.insert_into_collection('land_use', gdf)"
   ]
  },
  {
   "cell_type": "code",
   "execution_count": 11,
   "id": "20127563",
   "metadata": {
    "execution": {
     "iopub.execute_input": "2021-12-14T12:26:10.950105Z",
     "iopub.status.busy": "2021-12-14T12:26:10.949387Z",
     "iopub.status.idle": "2021-12-14T12:26:14.557375Z",
     "shell.execute_reply": "2021-12-14T12:26:14.556578Z"
    },
    "papermill": {
     "duration": 3.770818,
     "end_time": "2021-12-14T12:26:14.557504",
     "exception": false,
     "start_time": "2021-12-14T12:26:10.786686",
     "status": "completed"
    },
    "tags": []
   },
   "outputs": [
    {
     "data": {
      "text/html": [
       "<div>\n",
       "<style scoped>\n",
       "    .dataframe tbody tr th:only-of-type {\n",
       "        vertical-align: middle;\n",
       "    }\n",
       "\n",
       "    .dataframe tbody tr th {\n",
       "        vertical-align: top;\n",
       "    }\n",
       "\n",
       "    .dataframe thead th {\n",
       "        text-align: right;\n",
       "    }\n",
       "</style>\n",
       "<table border=\"1\" class=\"dataframe\">\n",
       "  <thead>\n",
       "    <tr style=\"text-align: right;\">\n",
       "      <th></th>\n",
       "      <th>id</th>\n",
       "      <th>created_at</th>\n",
       "      <th>modified_at</th>\n",
       "      <th>geometry</th>\n",
       "      <th>raba_pid</th>\n",
       "      <th>raba_id</th>\n",
       "      <th>d_od</th>\n",
       "    </tr>\n",
       "  </thead>\n",
       "  <tbody>\n",
       "    <tr>\n",
       "      <th>0</th>\n",
       "      <td>3</td>\n",
       "      <td>2021-12-13T16:17:02.093608+00:00</td>\n",
       "      <td>None</td>\n",
       "      <td>POLYGON ((456099.635 97696.070, 456112.810 976...</td>\n",
       "      <td>2305689</td>\n",
       "      <td>7000</td>\n",
       "      <td>2019-02-25</td>\n",
       "    </tr>\n",
       "    <tr>\n",
       "      <th>1</th>\n",
       "      <td>26</td>\n",
       "      <td>2021-12-13T16:17:02.093608+00:00</td>\n",
       "      <td>None</td>\n",
       "      <td>POLYGON ((459898.930 100306.841, 459906.288 10...</td>\n",
       "      <td>2301992</td>\n",
       "      <td>7000</td>\n",
       "      <td>2019-04-06</td>\n",
       "    </tr>\n",
       "    <tr>\n",
       "      <th>2</th>\n",
       "      <td>95</td>\n",
       "      <td>2021-12-13T16:17:02.093608+00:00</td>\n",
       "      <td>None</td>\n",
       "      <td>POLYGON ((459591.248 92619.056, 459592.745 926...</td>\n",
       "      <td>2333229</td>\n",
       "      <td>7000</td>\n",
       "      <td>2019-02-20</td>\n",
       "    </tr>\n",
       "    <tr>\n",
       "      <th>3</th>\n",
       "      <td>115</td>\n",
       "      <td>2021-12-13T16:17:02.093608+00:00</td>\n",
       "      <td>None</td>\n",
       "      <td>POLYGON ((459013.303 100354.458, 459022.756 10...</td>\n",
       "      <td>2336738</td>\n",
       "      <td>7000</td>\n",
       "      <td>2019-03-15</td>\n",
       "    </tr>\n",
       "    <tr>\n",
       "      <th>4</th>\n",
       "      <td>129</td>\n",
       "      <td>2021-12-13T16:17:02.093608+00:00</td>\n",
       "      <td>None</td>\n",
       "      <td>POLYGON ((460851.200 93442.039, 460846.405 934...</td>\n",
       "      <td>6292562</td>\n",
       "      <td>7000</td>\n",
       "      <td>2019-02-21</td>\n",
       "    </tr>\n",
       "    <tr>\n",
       "      <th>...</th>\n",
       "      <td>...</td>\n",
       "      <td>...</td>\n",
       "      <td>...</td>\n",
       "      <td>...</td>\n",
       "      <td>...</td>\n",
       "      <td>...</td>\n",
       "      <td>...</td>\n",
       "    </tr>\n",
       "    <tr>\n",
       "      <th>763</th>\n",
       "      <td>19246</td>\n",
       "      <td>2021-12-14T12:26:10.458963+00:00</td>\n",
       "      <td>None</td>\n",
       "      <td>POLYGON ((456523.670 94000.000, 456550.368 939...</td>\n",
       "      <td>6187993</td>\n",
       "      <td>7000</td>\n",
       "      <td>2019-03-13</td>\n",
       "    </tr>\n",
       "    <tr>\n",
       "      <th>764</th>\n",
       "      <td>19373</td>\n",
       "      <td>2021-12-14T12:26:10.458963+00:00</td>\n",
       "      <td>None</td>\n",
       "      <td>POLYGON ((460793.279 94000.000, 460797.466 939...</td>\n",
       "      <td>6219403</td>\n",
       "      <td>7000</td>\n",
       "      <td>2019-02-21</td>\n",
       "    </tr>\n",
       "    <tr>\n",
       "      <th>765</th>\n",
       "      <td>19387</td>\n",
       "      <td>2021-12-14T12:26:10.458963+00:00</td>\n",
       "      <td>None</td>\n",
       "      <td>POLYGON ((461750.000 98434.292, 461750.000 984...</td>\n",
       "      <td>6219602</td>\n",
       "      <td>7000</td>\n",
       "      <td>2019-03-20</td>\n",
       "    </tr>\n",
       "    <tr>\n",
       "      <th>766</th>\n",
       "      <td>19451</td>\n",
       "      <td>2021-12-14T12:26:10.458963+00:00</td>\n",
       "      <td>None</td>\n",
       "      <td>POLYGON ((463628.912 97501.218, 463636.859 975...</td>\n",
       "      <td>6215237</td>\n",
       "      <td>7000</td>\n",
       "      <td>2019-03-20</td>\n",
       "    </tr>\n",
       "    <tr>\n",
       "      <th>767</th>\n",
       "      <td>19471</td>\n",
       "      <td>2021-12-14T12:26:10.458963+00:00</td>\n",
       "      <td>None</td>\n",
       "      <td>POLYGON ((462450.205 94000.000, 462457.333 940...</td>\n",
       "      <td>6213419</td>\n",
       "      <td>7000</td>\n",
       "      <td>2019-03-21</td>\n",
       "    </tr>\n",
       "  </tbody>\n",
       "</table>\n",
       "<p>768 rows × 7 columns</p>\n",
       "</div>"
      ],
      "text/plain": [
       "        id                        created_at modified_at  \\\n",
       "0        3  2021-12-13T16:17:02.093608+00:00        None   \n",
       "1       26  2021-12-13T16:17:02.093608+00:00        None   \n",
       "2       95  2021-12-13T16:17:02.093608+00:00        None   \n",
       "3      115  2021-12-13T16:17:02.093608+00:00        None   \n",
       "4      129  2021-12-13T16:17:02.093608+00:00        None   \n",
       "..     ...                               ...         ...   \n",
       "763  19246  2021-12-14T12:26:10.458963+00:00        None   \n",
       "764  19373  2021-12-14T12:26:10.458963+00:00        None   \n",
       "765  19387  2021-12-14T12:26:10.458963+00:00        None   \n",
       "766  19451  2021-12-14T12:26:10.458963+00:00        None   \n",
       "767  19471  2021-12-14T12:26:10.458963+00:00        None   \n",
       "\n",
       "                                              geometry  raba_pid  raba_id  \\\n",
       "0    POLYGON ((456099.635 97696.070, 456112.810 976...   2305689     7000   \n",
       "1    POLYGON ((459898.930 100306.841, 459906.288 10...   2301992     7000   \n",
       "2    POLYGON ((459591.248 92619.056, 459592.745 926...   2333229     7000   \n",
       "3    POLYGON ((459013.303 100354.458, 459022.756 10...   2336738     7000   \n",
       "4    POLYGON ((460851.200 93442.039, 460846.405 934...   6292562     7000   \n",
       "..                                                 ...       ...      ...   \n",
       "763  POLYGON ((456523.670 94000.000, 456550.368 939...   6187993     7000   \n",
       "764  POLYGON ((460793.279 94000.000, 460797.466 939...   6219403     7000   \n",
       "765  POLYGON ((461750.000 98434.292, 461750.000 984...   6219602     7000   \n",
       "766  POLYGON ((463628.912 97501.218, 463636.859 975...   6215237     7000   \n",
       "767  POLYGON ((462450.205 94000.000, 462457.333 940...   6213419     7000   \n",
       "\n",
       "           d_od  \n",
       "0    2019-02-25  \n",
       "1    2019-04-06  \n",
       "2    2019-02-20  \n",
       "3    2019-03-15  \n",
       "4    2019-02-21  \n",
       "..          ...  \n",
       "763  2019-03-13  \n",
       "764  2019-02-21  \n",
       "765  2019-03-20  \n",
       "766  2019-03-20  \n",
       "767  2019-03-21  \n",
       "\n",
       "[768 rows x 7 columns]"
      ]
     },
     "execution_count": 11,
     "metadata": {},
     "output_type": "execute_result"
    }
   ],
   "source": [
    "geodb.get_collection('land_use', query=\"raba_id=eq.7000\")"
   ]
  },
  {
   "cell_type": "markdown",
   "id": "1ae225fe",
   "metadata": {
    "papermill": {
     "duration": 0.095116,
     "end_time": "2021-12-14T12:26:14.749915",
     "exception": false,
     "start_time": "2021-12-14T12:26:14.654799",
     "status": "completed"
    },
    "tags": []
   },
   "source": [
    "### Delete from a Collection"
   ]
  },
  {
   "cell_type": "code",
   "execution_count": 12,
   "id": "ba7e7a44",
   "metadata": {
    "execution": {
     "iopub.execute_input": "2021-12-14T12:26:14.949331Z",
     "iopub.status.busy": "2021-12-14T12:26:14.948577Z",
     "iopub.status.idle": "2021-12-14T12:26:16.838046Z",
     "shell.execute_reply": "2021-12-14T12:26:16.837166Z"
    },
    "papermill": {
     "duration": 1.994597,
     "end_time": "2021-12-14T12:26:16.838196",
     "exception": false,
     "start_time": "2021-12-14T12:26:14.843599",
     "status": "completed"
    },
    "tags": []
   },
   "outputs": [
    {
     "data": {
      "application/json": {
       "Message": "Data from land_use deleted"
      },
      "text/plain": [
       "<xcube_geodb.core.message.Message at 0x7fd1b05a73a0>"
      ]
     },
     "execution_count": 12,
     "metadata": {},
     "output_type": "execute_result"
    }
   ],
   "source": [
    "geodb.delete_from_collection('land_use', query=\"raba_id=eq.7000\")"
   ]
  },
  {
   "cell_type": "code",
   "execution_count": 13,
   "id": "b99b8942",
   "metadata": {
    "execution": {
     "iopub.execute_input": "2021-12-14T12:26:17.035244Z",
     "iopub.status.busy": "2021-12-14T12:26:17.030748Z",
     "iopub.status.idle": "2021-12-14T12:26:20.408079Z",
     "shell.execute_reply": "2021-12-14T12:26:20.407306Z"
    },
    "papermill": {
     "duration": 3.473795,
     "end_time": "2021-12-14T12:26:20.408203",
     "exception": false,
     "start_time": "2021-12-14T12:26:16.934408",
     "status": "completed"
    },
    "tags": []
   },
   "outputs": [
    {
     "data": {
      "text/html": [
       "<div>\n",
       "<style scoped>\n",
       "    .dataframe tbody tr th:only-of-type {\n",
       "        vertical-align: middle;\n",
       "    }\n",
       "\n",
       "    .dataframe tbody tr th {\n",
       "        vertical-align: top;\n",
       "    }\n",
       "\n",
       "    .dataframe thead th {\n",
       "        text-align: right;\n",
       "    }\n",
       "</style>\n",
       "<table border=\"1\" class=\"dataframe\">\n",
       "  <thead>\n",
       "    <tr style=\"text-align: right;\">\n",
       "      <th></th>\n",
       "      <th>Empty Result</th>\n",
       "    </tr>\n",
       "  </thead>\n",
       "  <tbody>\n",
       "  </tbody>\n",
       "</table>\n",
       "</div>"
      ],
      "text/plain": [
       "Empty DataFrame\n",
       "Columns: [Empty Result]\n",
       "Index: []"
      ]
     },
     "execution_count": 13,
     "metadata": {},
     "output_type": "execute_result"
    }
   ],
   "source": [
    "geodb.get_collection('land_use', query=\"raba_id=eq.7000\")"
   ]
  },
  {
   "cell_type": "markdown",
   "id": "1545a8f9",
   "metadata": {
    "papermill": {
     "duration": 0.096835,
     "end_time": "2021-12-14T12:26:20.607418",
     "exception": false,
     "start_time": "2021-12-14T12:26:20.510583",
     "status": "completed"
    },
    "tags": []
   },
   "source": [
    "### Updating a Collection"
   ]
  },
  {
   "cell_type": "code",
   "execution_count": 14,
   "id": "292b9530",
   "metadata": {
    "execution": {
     "iopub.execute_input": "2021-12-14T12:26:20.804126Z",
     "iopub.status.busy": "2021-12-14T12:26:20.801157Z",
     "iopub.status.idle": "2021-12-14T12:26:24.526200Z",
     "shell.execute_reply": "2021-12-14T12:26:24.525320Z"
    },
    "papermill": {
     "duration": 3.824186,
     "end_time": "2021-12-14T12:26:24.526337",
     "exception": false,
     "start_time": "2021-12-14T12:26:20.702151",
     "status": "completed"
    },
    "tags": []
   },
   "outputs": [
    {
     "data": {
      "text/html": [
       "<div>\n",
       "<style scoped>\n",
       "    .dataframe tbody tr th:only-of-type {\n",
       "        vertical-align: middle;\n",
       "    }\n",
       "\n",
       "    .dataframe tbody tr th {\n",
       "        vertical-align: top;\n",
       "    }\n",
       "\n",
       "    .dataframe thead th {\n",
       "        text-align: right;\n",
       "    }\n",
       "</style>\n",
       "<table border=\"1\" class=\"dataframe\">\n",
       "  <thead>\n",
       "    <tr style=\"text-align: right;\">\n",
       "      <th></th>\n",
       "      <th>id</th>\n",
       "      <th>created_at</th>\n",
       "      <th>modified_at</th>\n",
       "      <th>geometry</th>\n",
       "      <th>raba_pid</th>\n",
       "      <th>raba_id</th>\n",
       "      <th>d_od</th>\n",
       "    </tr>\n",
       "  </thead>\n",
       "  <tbody>\n",
       "    <tr>\n",
       "      <th>0</th>\n",
       "      <td>2</td>\n",
       "      <td>2021-12-13T16:17:02.093608+00:00</td>\n",
       "      <td>None</td>\n",
       "      <td>POLYGON ((453810.376 91150.199, 453812.552 911...</td>\n",
       "      <td>4770325</td>\n",
       "      <td>1300</td>\n",
       "      <td>2019-03-26</td>\n",
       "    </tr>\n",
       "    <tr>\n",
       "      <th>1</th>\n",
       "      <td>10</td>\n",
       "      <td>2021-12-13T16:17:02.093608+00:00</td>\n",
       "      <td>None</td>\n",
       "      <td>POLYGON ((456547.427 91543.640, 456544.255 915...</td>\n",
       "      <td>2318555</td>\n",
       "      <td>1300</td>\n",
       "      <td>2019-03-14</td>\n",
       "    </tr>\n",
       "    <tr>\n",
       "      <th>2</th>\n",
       "      <td>63</td>\n",
       "      <td>2021-12-13T16:17:02.093608+00:00</td>\n",
       "      <td>None</td>\n",
       "      <td>POLYGON ((456201.531 98685.274, 456199.109 986...</td>\n",
       "      <td>2304287</td>\n",
       "      <td>1300</td>\n",
       "      <td>2019-02-25</td>\n",
       "    </tr>\n",
       "    <tr>\n",
       "      <th>3</th>\n",
       "      <td>86</td>\n",
       "      <td>2021-12-13T16:17:02.093608+00:00</td>\n",
       "      <td>None</td>\n",
       "      <td>POLYGON ((454709.766 97354.278, 454704.878 973...</td>\n",
       "      <td>2331038</td>\n",
       "      <td>1300</td>\n",
       "      <td>2019-01-05</td>\n",
       "    </tr>\n",
       "    <tr>\n",
       "      <th>4</th>\n",
       "      <td>87</td>\n",
       "      <td>2021-12-13T16:17:02.093608+00:00</td>\n",
       "      <td>None</td>\n",
       "      <td>POLYGON ((453820.737 98574.017, 453816.740 985...</td>\n",
       "      <td>2357574</td>\n",
       "      <td>1300</td>\n",
       "      <td>2019-01-16</td>\n",
       "    </tr>\n",
       "    <tr>\n",
       "      <th>...</th>\n",
       "      <td>...</td>\n",
       "      <td>...</td>\n",
       "      <td>...</td>\n",
       "      <td>...</td>\n",
       "      <td>...</td>\n",
       "      <td>...</td>\n",
       "      <td>...</td>\n",
       "    </tr>\n",
       "    <tr>\n",
       "      <th>1785</th>\n",
       "      <td>19593</td>\n",
       "      <td>2021-12-14T12:26:10.458963+00:00</td>\n",
       "      <td>None</td>\n",
       "      <td>POLYGON ((458247.583 99746.065, 458245.202 997...</td>\n",
       "      <td>6268059</td>\n",
       "      <td>1300</td>\n",
       "      <td>2019-03-04</td>\n",
       "    </tr>\n",
       "    <tr>\n",
       "      <th>1786</th>\n",
       "      <td>19594</td>\n",
       "      <td>2021-12-14T12:26:10.458963+00:00</td>\n",
       "      <td>None</td>\n",
       "      <td>POLYGON ((461932.283 90520.703, 461931.619 905...</td>\n",
       "      <td>6263561</td>\n",
       "      <td>1300</td>\n",
       "      <td>2019-04-01</td>\n",
       "    </tr>\n",
       "    <tr>\n",
       "      <th>1787</th>\n",
       "      <td>19625</td>\n",
       "      <td>2021-12-14T12:26:10.458963+00:00</td>\n",
       "      <td>None</td>\n",
       "      <td>POLYGON ((457231.170 90902.256, 457234.861 909...</td>\n",
       "      <td>6264862</td>\n",
       "      <td>1300</td>\n",
       "      <td>2019-01-05</td>\n",
       "    </tr>\n",
       "    <tr>\n",
       "      <th>1788</th>\n",
       "      <td>19626</td>\n",
       "      <td>2021-12-14T12:26:10.458963+00:00</td>\n",
       "      <td>None</td>\n",
       "      <td>POLYGON ((461378.845 91124.318, 461490.224 911...</td>\n",
       "      <td>6264865</td>\n",
       "      <td>1300</td>\n",
       "      <td>2019-02-21</td>\n",
       "    </tr>\n",
       "    <tr>\n",
       "      <th>1789</th>\n",
       "      <td>19648</td>\n",
       "      <td>2021-12-14T12:26:10.458963+00:00</td>\n",
       "      <td>None</td>\n",
       "      <td>POLYGON ((457450.306 97213.244, 457490.521 972...</td>\n",
       "      <td>6263915</td>\n",
       "      <td>1300</td>\n",
       "      <td>2019-01-05</td>\n",
       "    </tr>\n",
       "  </tbody>\n",
       "</table>\n",
       "<p>1790 rows × 7 columns</p>\n",
       "</div>"
      ],
      "text/plain": [
       "         id                        created_at modified_at  \\\n",
       "0         2  2021-12-13T16:17:02.093608+00:00        None   \n",
       "1        10  2021-12-13T16:17:02.093608+00:00        None   \n",
       "2        63  2021-12-13T16:17:02.093608+00:00        None   \n",
       "3        86  2021-12-13T16:17:02.093608+00:00        None   \n",
       "4        87  2021-12-13T16:17:02.093608+00:00        None   \n",
       "...     ...                               ...         ...   \n",
       "1785  19593  2021-12-14T12:26:10.458963+00:00        None   \n",
       "1786  19594  2021-12-14T12:26:10.458963+00:00        None   \n",
       "1787  19625  2021-12-14T12:26:10.458963+00:00        None   \n",
       "1788  19626  2021-12-14T12:26:10.458963+00:00        None   \n",
       "1789  19648  2021-12-14T12:26:10.458963+00:00        None   \n",
       "\n",
       "                                               geometry  raba_pid  raba_id  \\\n",
       "0     POLYGON ((453810.376 91150.199, 453812.552 911...   4770325     1300   \n",
       "1     POLYGON ((456547.427 91543.640, 456544.255 915...   2318555     1300   \n",
       "2     POLYGON ((456201.531 98685.274, 456199.109 986...   2304287     1300   \n",
       "3     POLYGON ((454709.766 97354.278, 454704.878 973...   2331038     1300   \n",
       "4     POLYGON ((453820.737 98574.017, 453816.740 985...   2357574     1300   \n",
       "...                                                 ...       ...      ...   \n",
       "1785  POLYGON ((458247.583 99746.065, 458245.202 997...   6268059     1300   \n",
       "1786  POLYGON ((461932.283 90520.703, 461931.619 905...   6263561     1300   \n",
       "1787  POLYGON ((457231.170 90902.256, 457234.861 909...   6264862     1300   \n",
       "1788  POLYGON ((461378.845 91124.318, 461490.224 911...   6264865     1300   \n",
       "1789  POLYGON ((457450.306 97213.244, 457490.521 972...   6263915     1300   \n",
       "\n",
       "            d_od  \n",
       "0     2019-03-26  \n",
       "1     2019-03-14  \n",
       "2     2019-02-25  \n",
       "3     2019-01-05  \n",
       "4     2019-01-16  \n",
       "...          ...  \n",
       "1785  2019-03-04  \n",
       "1786  2019-04-01  \n",
       "1787  2019-01-05  \n",
       "1788  2019-02-21  \n",
       "1789  2019-01-05  \n",
       "\n",
       "[1790 rows x 7 columns]"
      ]
     },
     "execution_count": 14,
     "metadata": {},
     "output_type": "execute_result"
    }
   ],
   "source": [
    "geodb.get_collection('land_use', query=\"raba_id=eq.1300\")"
   ]
  },
  {
   "cell_type": "code",
   "execution_count": 15,
   "id": "8cfc5ba7",
   "metadata": {
    "execution": {
     "iopub.execute_input": "2021-12-14T12:26:24.733121Z",
     "iopub.status.busy": "2021-12-14T12:26:24.732287Z",
     "iopub.status.idle": "2021-12-14T12:26:28.374559Z",
     "shell.execute_reply": "2021-12-14T12:26:28.375136Z"
    },
    "papermill": {
     "duration": 3.751145,
     "end_time": "2021-12-14T12:26:28.375291",
     "exception": false,
     "start_time": "2021-12-14T12:26:24.624146",
     "status": "completed"
    },
    "tags": []
   },
   "outputs": [
    {
     "data": {
      "application/json": {
       "Message": "land_use updated"
      },
      "text/plain": [
       "<xcube_geodb.core.message.Message at 0x7fd2187a4250>"
      ]
     },
     "execution_count": 15,
     "metadata": {},
     "output_type": "execute_result"
    }
   ],
   "source": [
    "geodb.update_collection('land_use', query=\"raba_id=eq.1300\", values={'d_od': '2000-01-01'})"
   ]
  },
  {
   "cell_type": "code",
   "execution_count": 16,
   "id": "b32cc2e6",
   "metadata": {
    "execution": {
     "iopub.execute_input": "2021-12-14T12:26:28.621826Z",
     "iopub.status.busy": "2021-12-14T12:26:28.621049Z",
     "iopub.status.idle": "2021-12-14T12:26:32.530610Z",
     "shell.execute_reply": "2021-12-14T12:26:32.531174Z"
    },
    "papermill": {
     "duration": 4.034741,
     "end_time": "2021-12-14T12:26:32.531352",
     "exception": false,
     "start_time": "2021-12-14T12:26:28.496611",
     "status": "completed"
    },
    "tags": []
   },
   "outputs": [
    {
     "data": {
      "text/html": [
       "<div>\n",
       "<style scoped>\n",
       "    .dataframe tbody tr th:only-of-type {\n",
       "        vertical-align: middle;\n",
       "    }\n",
       "\n",
       "    .dataframe tbody tr th {\n",
       "        vertical-align: top;\n",
       "    }\n",
       "\n",
       "    .dataframe thead th {\n",
       "        text-align: right;\n",
       "    }\n",
       "</style>\n",
       "<table border=\"1\" class=\"dataframe\">\n",
       "  <thead>\n",
       "    <tr style=\"text-align: right;\">\n",
       "      <th></th>\n",
       "      <th>id</th>\n",
       "      <th>created_at</th>\n",
       "      <th>modified_at</th>\n",
       "      <th>geometry</th>\n",
       "      <th>raba_pid</th>\n",
       "      <th>raba_id</th>\n",
       "      <th>d_od</th>\n",
       "    </tr>\n",
       "  </thead>\n",
       "  <tbody>\n",
       "    <tr>\n",
       "      <th>0</th>\n",
       "      <td>10</td>\n",
       "      <td>2021-12-13T16:17:02.093608+00:00</td>\n",
       "      <td>2021-12-14T12:26:28.207509+00:00</td>\n",
       "      <td>POLYGON ((456547.427 91543.640, 456544.255 915...</td>\n",
       "      <td>2318555</td>\n",
       "      <td>1300</td>\n",
       "      <td>2000-01-01</td>\n",
       "    </tr>\n",
       "    <tr>\n",
       "      <th>1</th>\n",
       "      <td>103</td>\n",
       "      <td>2021-12-13T16:17:02.093608+00:00</td>\n",
       "      <td>2021-12-14T12:26:28.207509+00:00</td>\n",
       "      <td>POLYGON ((456100.880 96973.323, 456111.084 969...</td>\n",
       "      <td>2332420</td>\n",
       "      <td>1300</td>\n",
       "      <td>2000-01-01</td>\n",
       "    </tr>\n",
       "    <tr>\n",
       "      <th>2</th>\n",
       "      <td>108</td>\n",
       "      <td>2021-12-13T16:17:02.093608+00:00</td>\n",
       "      <td>2021-12-14T12:26:28.207509+00:00</td>\n",
       "      <td>POLYGON ((454070.991 90528.946, 454064.259 905...</td>\n",
       "      <td>4674624</td>\n",
       "      <td>1300</td>\n",
       "      <td>2000-01-01</td>\n",
       "    </tr>\n",
       "    <tr>\n",
       "      <th>3</th>\n",
       "      <td>117</td>\n",
       "      <td>2021-12-13T16:17:02.093608+00:00</td>\n",
       "      <td>2021-12-14T12:26:28.207509+00:00</td>\n",
       "      <td>POLYGON ((454637.692 96679.827, 454630.584 966...</td>\n",
       "      <td>2336101</td>\n",
       "      <td>1300</td>\n",
       "      <td>2000-01-01</td>\n",
       "    </tr>\n",
       "    <tr>\n",
       "      <th>4</th>\n",
       "      <td>136</td>\n",
       "      <td>2021-12-13T16:17:02.093608+00:00</td>\n",
       "      <td>2021-12-14T12:26:28.207509+00:00</td>\n",
       "      <td>POLYGON ((462781.112 100486.430, 462803.178 10...</td>\n",
       "      <td>2334416</td>\n",
       "      <td>1300</td>\n",
       "      <td>2000-01-01</td>\n",
       "    </tr>\n",
       "    <tr>\n",
       "      <th>...</th>\n",
       "      <td>...</td>\n",
       "      <td>...</td>\n",
       "      <td>...</td>\n",
       "      <td>...</td>\n",
       "      <td>...</td>\n",
       "      <td>...</td>\n",
       "      <td>...</td>\n",
       "    </tr>\n",
       "    <tr>\n",
       "      <th>1785</th>\n",
       "      <td>19592</td>\n",
       "      <td>2021-12-14T12:26:10.458963+00:00</td>\n",
       "      <td>2021-12-14T12:26:28.207509+00:00</td>\n",
       "      <td>POLYGON ((458304.555 100146.103, 458306.726 10...</td>\n",
       "      <td>6268058</td>\n",
       "      <td>1300</td>\n",
       "      <td>2000-01-01</td>\n",
       "    </tr>\n",
       "    <tr>\n",
       "      <th>1786</th>\n",
       "      <td>19593</td>\n",
       "      <td>2021-12-14T12:26:10.458963+00:00</td>\n",
       "      <td>2021-12-14T12:26:28.207509+00:00</td>\n",
       "      <td>POLYGON ((458247.583 99746.065, 458245.202 997...</td>\n",
       "      <td>6268059</td>\n",
       "      <td>1300</td>\n",
       "      <td>2000-01-01</td>\n",
       "    </tr>\n",
       "    <tr>\n",
       "      <th>1787</th>\n",
       "      <td>19594</td>\n",
       "      <td>2021-12-14T12:26:10.458963+00:00</td>\n",
       "      <td>2021-12-14T12:26:28.207509+00:00</td>\n",
       "      <td>POLYGON ((461932.283 90520.703, 461931.619 905...</td>\n",
       "      <td>6263561</td>\n",
       "      <td>1300</td>\n",
       "      <td>2000-01-01</td>\n",
       "    </tr>\n",
       "    <tr>\n",
       "      <th>1788</th>\n",
       "      <td>19625</td>\n",
       "      <td>2021-12-14T12:26:10.458963+00:00</td>\n",
       "      <td>2021-12-14T12:26:28.207509+00:00</td>\n",
       "      <td>POLYGON ((457231.170 90902.256, 457234.861 909...</td>\n",
       "      <td>6264862</td>\n",
       "      <td>1300</td>\n",
       "      <td>2000-01-01</td>\n",
       "    </tr>\n",
       "    <tr>\n",
       "      <th>1789</th>\n",
       "      <td>19626</td>\n",
       "      <td>2021-12-14T12:26:10.458963+00:00</td>\n",
       "      <td>2021-12-14T12:26:28.207509+00:00</td>\n",
       "      <td>POLYGON ((461378.845 91124.318, 461490.224 911...</td>\n",
       "      <td>6264865</td>\n",
       "      <td>1300</td>\n",
       "      <td>2000-01-01</td>\n",
       "    </tr>\n",
       "  </tbody>\n",
       "</table>\n",
       "<p>1790 rows × 7 columns</p>\n",
       "</div>"
      ],
      "text/plain": [
       "         id                        created_at  \\\n",
       "0        10  2021-12-13T16:17:02.093608+00:00   \n",
       "1       103  2021-12-13T16:17:02.093608+00:00   \n",
       "2       108  2021-12-13T16:17:02.093608+00:00   \n",
       "3       117  2021-12-13T16:17:02.093608+00:00   \n",
       "4       136  2021-12-13T16:17:02.093608+00:00   \n",
       "...     ...                               ...   \n",
       "1785  19592  2021-12-14T12:26:10.458963+00:00   \n",
       "1786  19593  2021-12-14T12:26:10.458963+00:00   \n",
       "1787  19594  2021-12-14T12:26:10.458963+00:00   \n",
       "1788  19625  2021-12-14T12:26:10.458963+00:00   \n",
       "1789  19626  2021-12-14T12:26:10.458963+00:00   \n",
       "\n",
       "                           modified_at  \\\n",
       "0     2021-12-14T12:26:28.207509+00:00   \n",
       "1     2021-12-14T12:26:28.207509+00:00   \n",
       "2     2021-12-14T12:26:28.207509+00:00   \n",
       "3     2021-12-14T12:26:28.207509+00:00   \n",
       "4     2021-12-14T12:26:28.207509+00:00   \n",
       "...                                ...   \n",
       "1785  2021-12-14T12:26:28.207509+00:00   \n",
       "1786  2021-12-14T12:26:28.207509+00:00   \n",
       "1787  2021-12-14T12:26:28.207509+00:00   \n",
       "1788  2021-12-14T12:26:28.207509+00:00   \n",
       "1789  2021-12-14T12:26:28.207509+00:00   \n",
       "\n",
       "                                               geometry  raba_pid  raba_id  \\\n",
       "0     POLYGON ((456547.427 91543.640, 456544.255 915...   2318555     1300   \n",
       "1     POLYGON ((456100.880 96973.323, 456111.084 969...   2332420     1300   \n",
       "2     POLYGON ((454070.991 90528.946, 454064.259 905...   4674624     1300   \n",
       "3     POLYGON ((454637.692 96679.827, 454630.584 966...   2336101     1300   \n",
       "4     POLYGON ((462781.112 100486.430, 462803.178 10...   2334416     1300   \n",
       "...                                                 ...       ...      ...   \n",
       "1785  POLYGON ((458304.555 100146.103, 458306.726 10...   6268058     1300   \n",
       "1786  POLYGON ((458247.583 99746.065, 458245.202 997...   6268059     1300   \n",
       "1787  POLYGON ((461932.283 90520.703, 461931.619 905...   6263561     1300   \n",
       "1788  POLYGON ((457231.170 90902.256, 457234.861 909...   6264862     1300   \n",
       "1789  POLYGON ((461378.845 91124.318, 461490.224 911...   6264865     1300   \n",
       "\n",
       "            d_od  \n",
       "0     2000-01-01  \n",
       "1     2000-01-01  \n",
       "2     2000-01-01  \n",
       "3     2000-01-01  \n",
       "4     2000-01-01  \n",
       "...          ...  \n",
       "1785  2000-01-01  \n",
       "1786  2000-01-01  \n",
       "1787  2000-01-01  \n",
       "1788  2000-01-01  \n",
       "1789  2000-01-01  \n",
       "\n",
       "[1790 rows x 7 columns]"
      ]
     },
     "execution_count": 16,
     "metadata": {},
     "output_type": "execute_result"
    }
   ],
   "source": [
    "geodb.get_collection('land_use', query=\"raba_id=eq.1300\")"
   ]
  },
  {
   "cell_type": "markdown",
   "id": "3a0f67d3",
   "metadata": {
    "papermill": {
     "duration": 0.102994,
     "end_time": "2021-12-14T12:26:32.736008",
     "exception": false,
     "start_time": "2021-12-14T12:26:32.633014",
     "status": "completed"
    },
    "tags": []
   },
   "source": [
    "### Managing Properties of a Collection"
   ]
  },
  {
   "cell_type": "code",
   "execution_count": 17,
   "id": "c864fbd2",
   "metadata": {
    "execution": {
     "iopub.execute_input": "2021-12-14T12:26:32.947789Z",
     "iopub.status.busy": "2021-12-14T12:26:32.944426Z",
     "iopub.status.idle": "2021-12-14T12:26:33.510228Z",
     "shell.execute_reply": "2021-12-14T12:26:33.510889Z"
    },
    "papermill": {
     "duration": 0.674813,
     "end_time": "2021-12-14T12:26:33.511085",
     "exception": false,
     "start_time": "2021-12-14T12:26:32.836272",
     "status": "completed"
    },
    "tags": []
   },
   "outputs": [
    {
     "data": {
      "text/html": [
       "<div>\n",
       "<style scoped>\n",
       "    .dataframe tbody tr th:only-of-type {\n",
       "        vertical-align: middle;\n",
       "    }\n",
       "\n",
       "    .dataframe tbody tr th {\n",
       "        vertical-align: top;\n",
       "    }\n",
       "\n",
       "    .dataframe thead th {\n",
       "        text-align: right;\n",
       "    }\n",
       "</style>\n",
       "<table border=\"1\" class=\"dataframe\">\n",
       "  <thead>\n",
       "    <tr style=\"text-align: right;\">\n",
       "      <th></th>\n",
       "      <th>owner</th>\n",
       "      <th>database</th>\n",
       "      <th>collection</th>\n",
       "      <th>table_name</th>\n",
       "    </tr>\n",
       "  </thead>\n",
       "  <tbody>\n",
       "    <tr>\n",
       "      <th>0</th>\n",
       "      <td>geodb_0b01bfcd-2d09-46f8-84e8-cb5720fba14c</td>\n",
       "      <td>geodb_0b01bfcd-2d09-46f8-84e8-cb5720fba14c</td>\n",
       "      <td>delineated_parcels_s</td>\n",
       "      <td>delineated_parcels_s</td>\n",
       "    </tr>\n",
       "    <tr>\n",
       "      <th>1</th>\n",
       "      <td>geodb_0b01bfcd-2d09-46f8-84e8-cb5720fba14c</td>\n",
       "      <td>geodb_0b01bfcd-2d09-46f8-84e8-cb5720fba14c</td>\n",
       "      <td>test_batic</td>\n",
       "      <td>test_batic</td>\n",
       "    </tr>\n",
       "    <tr>\n",
       "      <th>2</th>\n",
       "      <td>geodb_0d6df427-8c09-41b9-abc9-64ce13a68125</td>\n",
       "      <td>geodb_0d6df427-8c09-41b9-abc9-64ce13a68125</td>\n",
       "      <td>land_use</td>\n",
       "      <td>land_use</td>\n",
       "    </tr>\n",
       "    <tr>\n",
       "      <th>3</th>\n",
       "      <td>geodb_0d6df427-8c09-41b9-abc9-64ce13a68125</td>\n",
       "      <td>geodb_0d6df427-8c09-41b9-abc9-64ce13a68125</td>\n",
       "      <td>lpis_aut</td>\n",
       "      <td>lpis_aut</td>\n",
       "    </tr>\n",
       "    <tr>\n",
       "      <th>4</th>\n",
       "      <td>geodb_0e5d743f-2134-4561-8946-a073b039176f</td>\n",
       "      <td>geodb_0e5d743f-2134-4561-8946-a073b039176f</td>\n",
       "      <td>ai4eo_bboxes</td>\n",
       "      <td>ai4eo_bboxes</td>\n",
       "    </tr>\n",
       "    <tr>\n",
       "      <th>...</th>\n",
       "      <td>...</td>\n",
       "      <td>...</td>\n",
       "      <td>...</td>\n",
       "      <td>...</td>\n",
       "    </tr>\n",
       "    <tr>\n",
       "      <th>882</th>\n",
       "      <td>geodb_geodb_ci</td>\n",
       "      <td>geodb_geodb_ci</td>\n",
       "      <td>land_use</td>\n",
       "      <td>land_use</td>\n",
       "    </tr>\n",
       "    <tr>\n",
       "      <th>883</th>\n",
       "      <td>geodb_lpis_iacs_admin</td>\n",
       "      <td>lpis_iacs</td>\n",
       "      <td>land_use_slo</td>\n",
       "      <td>land_use_slo</td>\n",
       "    </tr>\n",
       "    <tr>\n",
       "      <th>884</th>\n",
       "      <td>geodb_lpis_iacs_admin</td>\n",
       "      <td>lpis_iacs</td>\n",
       "      <td>lpis_aut</td>\n",
       "      <td>lpis_aut</td>\n",
       "    </tr>\n",
       "    <tr>\n",
       "      <th>885</th>\n",
       "      <td>geodb_lpis_iacs_admin</td>\n",
       "      <td>lpis_iacs</td>\n",
       "      <td>lpis_slo</td>\n",
       "      <td>lpis_slo</td>\n",
       "    </tr>\n",
       "    <tr>\n",
       "      <th>886</th>\n",
       "      <td>geodb_lpis_iacs_admin</td>\n",
       "      <td>lpis_iacs</td>\n",
       "      <td>metadata</td>\n",
       "      <td>metadata</td>\n",
       "    </tr>\n",
       "  </tbody>\n",
       "</table>\n",
       "<p>887 rows × 4 columns</p>\n",
       "</div>"
      ],
      "text/plain": [
       "                                          owner  \\\n",
       "0    geodb_0b01bfcd-2d09-46f8-84e8-cb5720fba14c   \n",
       "1    geodb_0b01bfcd-2d09-46f8-84e8-cb5720fba14c   \n",
       "2    geodb_0d6df427-8c09-41b9-abc9-64ce13a68125   \n",
       "3    geodb_0d6df427-8c09-41b9-abc9-64ce13a68125   \n",
       "4    geodb_0e5d743f-2134-4561-8946-a073b039176f   \n",
       "..                                          ...   \n",
       "882                              geodb_geodb_ci   \n",
       "883                       geodb_lpis_iacs_admin   \n",
       "884                       geodb_lpis_iacs_admin   \n",
       "885                       geodb_lpis_iacs_admin   \n",
       "886                       geodb_lpis_iacs_admin   \n",
       "\n",
       "                                       database            collection  \\\n",
       "0    geodb_0b01bfcd-2d09-46f8-84e8-cb5720fba14c  delineated_parcels_s   \n",
       "1    geodb_0b01bfcd-2d09-46f8-84e8-cb5720fba14c            test_batic   \n",
       "2    geodb_0d6df427-8c09-41b9-abc9-64ce13a68125              land_use   \n",
       "3    geodb_0d6df427-8c09-41b9-abc9-64ce13a68125              lpis_aut   \n",
       "4    geodb_0e5d743f-2134-4561-8946-a073b039176f          ai4eo_bboxes   \n",
       "..                                          ...                   ...   \n",
       "882                              geodb_geodb_ci              land_use   \n",
       "883                                   lpis_iacs          land_use_slo   \n",
       "884                                   lpis_iacs              lpis_aut   \n",
       "885                                   lpis_iacs              lpis_slo   \n",
       "886                                   lpis_iacs              metadata   \n",
       "\n",
       "               table_name  \n",
       "0    delineated_parcels_s  \n",
       "1              test_batic  \n",
       "2                land_use  \n",
       "3                lpis_aut  \n",
       "4            ai4eo_bboxes  \n",
       "..                    ...  \n",
       "882              land_use  \n",
       "883          land_use_slo  \n",
       "884              lpis_aut  \n",
       "885              lpis_slo  \n",
       "886              metadata  \n",
       "\n",
       "[887 rows x 4 columns]"
      ]
     },
     "execution_count": 17,
     "metadata": {},
     "output_type": "execute_result"
    }
   ],
   "source": [
    "geodb.get_my_collections()"
   ]
  },
  {
   "cell_type": "code",
   "execution_count": 18,
   "id": "8d33a09b",
   "metadata": {
    "execution": {
     "iopub.execute_input": "2021-12-14T12:26:33.724494Z",
     "iopub.status.busy": "2021-12-14T12:26:33.723796Z",
     "iopub.status.idle": "2021-12-14T12:26:35.172093Z",
     "shell.execute_reply": "2021-12-14T12:26:35.171404Z"
    },
    "papermill": {
     "duration": 1.554997,
     "end_time": "2021-12-14T12:26:35.172211",
     "exception": false,
     "start_time": "2021-12-14T12:26:33.617214",
     "status": "completed"
    },
    "tags": []
   },
   "outputs": [
    {
     "data": {
      "text/html": [
       "<div>\n",
       "<style scoped>\n",
       "    .dataframe tbody tr th:only-of-type {\n",
       "        vertical-align: middle;\n",
       "    }\n",
       "\n",
       "    .dataframe tbody tr th {\n",
       "        vertical-align: top;\n",
       "    }\n",
       "\n",
       "    .dataframe thead th {\n",
       "        text-align: right;\n",
       "    }\n",
       "</style>\n",
       "<table border=\"1\" class=\"dataframe\">\n",
       "  <thead>\n",
       "    <tr style=\"text-align: right;\">\n",
       "      <th></th>\n",
       "      <th>collection</th>\n",
       "      <th>column_name</th>\n",
       "      <th>data_type</th>\n",
       "    </tr>\n",
       "  </thead>\n",
       "  <tbody>\n",
       "  </tbody>\n",
       "</table>\n",
       "</div>"
      ],
      "text/plain": [
       "Empty DataFrame\n",
       "Columns: [collection, column_name, data_type]\n",
       "Index: []"
      ]
     },
     "execution_count": 18,
     "metadata": {},
     "output_type": "execute_result"
    }
   ],
   "source": [
    "geodb.get_properties('land_use')"
   ]
  },
  {
   "cell_type": "code",
   "execution_count": 19,
   "id": "41bf8173",
   "metadata": {
    "execution": {
     "iopub.execute_input": "2021-12-14T12:26:35.393999Z",
     "iopub.status.busy": "2021-12-14T12:26:35.393056Z",
     "iopub.status.idle": "2021-12-14T12:26:36.882883Z",
     "shell.execute_reply": "2021-12-14T12:26:36.882210Z"
    },
    "papermill": {
     "duration": 1.606413,
     "end_time": "2021-12-14T12:26:36.883037",
     "exception": false,
     "start_time": "2021-12-14T12:26:35.276624",
     "status": "completed"
    },
    "tags": []
   },
   "outputs": [
    {
     "data": {
      "application/json": {
       "Message": "Properties added"
      },
      "text/plain": [
       "<xcube_geodb.core.message.Message at 0x7fd1b058fa90>"
      ]
     },
     "execution_count": 19,
     "metadata": {},
     "output_type": "execute_result"
    }
   ],
   "source": [
    "geodb.add_property('land_use', \"test_prop\", 'integer')"
   ]
  },
  {
   "cell_type": "code",
   "execution_count": 20,
   "id": "f95a80bc",
   "metadata": {
    "execution": {
     "iopub.execute_input": "2021-12-14T12:26:37.100955Z",
     "iopub.status.busy": "2021-12-14T12:26:37.100070Z",
     "iopub.status.idle": "2021-12-14T12:26:38.523270Z",
     "shell.execute_reply": "2021-12-14T12:26:38.523755Z"
    },
    "papermill": {
     "duration": 1.53222,
     "end_time": "2021-12-14T12:26:38.523965",
     "exception": false,
     "start_time": "2021-12-14T12:26:36.991745",
     "status": "completed"
    },
    "tags": []
   },
   "outputs": [
    {
     "data": {
      "text/html": [
       "<div>\n",
       "<style scoped>\n",
       "    .dataframe tbody tr th:only-of-type {\n",
       "        vertical-align: middle;\n",
       "    }\n",
       "\n",
       "    .dataframe tbody tr th {\n",
       "        vertical-align: top;\n",
       "    }\n",
       "\n",
       "    .dataframe thead th {\n",
       "        text-align: right;\n",
       "    }\n",
       "</style>\n",
       "<table border=\"1\" class=\"dataframe\">\n",
       "  <thead>\n",
       "    <tr style=\"text-align: right;\">\n",
       "      <th></th>\n",
       "      <th>collection</th>\n",
       "      <th>column_name</th>\n",
       "      <th>data_type</th>\n",
       "    </tr>\n",
       "  </thead>\n",
       "  <tbody>\n",
       "  </tbody>\n",
       "</table>\n",
       "</div>"
      ],
      "text/plain": [
       "Empty DataFrame\n",
       "Columns: [collection, column_name, data_type]\n",
       "Index: []"
      ]
     },
     "execution_count": 20,
     "metadata": {},
     "output_type": "execute_result"
    }
   ],
   "source": [
    "geodb.get_properties('land_use')"
   ]
  },
  {
   "cell_type": "code",
   "execution_count": 21,
   "id": "489c6225",
   "metadata": {
    "execution": {
     "iopub.execute_input": "2021-12-14T12:26:38.744063Z",
     "iopub.status.busy": "2021-12-14T12:26:38.743255Z",
     "iopub.status.idle": "2021-12-14T12:26:45.776493Z",
     "shell.execute_reply": "2021-12-14T12:26:45.775680Z"
    },
    "papermill": {
     "duration": 7.145428,
     "end_time": "2021-12-14T12:26:45.776636",
     "exception": false,
     "start_time": "2021-12-14T12:26:38.631208",
     "status": "completed"
    },
    "tags": []
   },
   "outputs": [
    {
     "data": {
      "application/json": {
       "Message": "Properties ['test_prop'] dropped from geodb_418dfeac-15f0-4606-9edb-fd9eb722bf04_land_use"
      },
      "text/plain": [
       "<xcube_geodb.core.message.Message at 0x7fd218779e80>"
      ]
     },
     "execution_count": 21,
     "metadata": {},
     "output_type": "execute_result"
    }
   ],
   "source": [
    "geodb.drop_property('land_use', 'test_prop')"
   ]
  },
  {
   "cell_type": "code",
   "execution_count": 22,
   "id": "29ea7224",
   "metadata": {
    "execution": {
     "iopub.execute_input": "2021-12-14T12:26:46.017526Z",
     "iopub.status.busy": "2021-12-14T12:26:46.016580Z",
     "iopub.status.idle": "2021-12-14T12:26:47.347415Z",
     "shell.execute_reply": "2021-12-14T12:26:47.347893Z"
    },
    "papermill": {
     "duration": 1.452704,
     "end_time": "2021-12-14T12:26:47.348040",
     "exception": false,
     "start_time": "2021-12-14T12:26:45.895336",
     "status": "completed"
    },
    "tags": []
   },
   "outputs": [
    {
     "data": {
      "text/html": [
       "<div>\n",
       "<style scoped>\n",
       "    .dataframe tbody tr th:only-of-type {\n",
       "        vertical-align: middle;\n",
       "    }\n",
       "\n",
       "    .dataframe tbody tr th {\n",
       "        vertical-align: top;\n",
       "    }\n",
       "\n",
       "    .dataframe thead th {\n",
       "        text-align: right;\n",
       "    }\n",
       "</style>\n",
       "<table border=\"1\" class=\"dataframe\">\n",
       "  <thead>\n",
       "    <tr style=\"text-align: right;\">\n",
       "      <th></th>\n",
       "      <th>collection</th>\n",
       "      <th>column_name</th>\n",
       "      <th>data_type</th>\n",
       "    </tr>\n",
       "  </thead>\n",
       "  <tbody>\n",
       "  </tbody>\n",
       "</table>\n",
       "</div>"
      ],
      "text/plain": [
       "Empty DataFrame\n",
       "Columns: [collection, column_name, data_type]\n",
       "Index: []"
      ]
     },
     "execution_count": 22,
     "metadata": {},
     "output_type": "execute_result"
    }
   ],
   "source": [
    "geodb.get_properties('land_use')"
   ]
  },
  {
   "cell_type": "code",
   "execution_count": 23,
   "id": "5ac6b44c",
   "metadata": {
    "execution": {
     "iopub.execute_input": "2021-12-14T12:26:47.580618Z",
     "iopub.status.busy": "2021-12-14T12:26:47.579833Z",
     "iopub.status.idle": "2021-12-14T12:26:49.082940Z",
     "shell.execute_reply": "2021-12-14T12:26:49.082331Z"
    },
    "papermill": {
     "duration": 1.623618,
     "end_time": "2021-12-14T12:26:49.083067",
     "exception": false,
     "start_time": "2021-12-14T12:26:47.459449",
     "status": "completed"
    },
    "tags": []
   },
   "outputs": [
    {
     "data": {
      "application/json": {
       "Message": "Properties added"
      },
      "text/plain": [
       "<xcube_geodb.core.message.Message at 0x7fd21839e340>"
      ]
     },
     "execution_count": 23,
     "metadata": {},
     "output_type": "execute_result"
    }
   ],
   "source": [
    "geodb.add_properties('land_use', properties={'test1': 'integer', 'test2': 'date'})"
   ]
  },
  {
   "cell_type": "code",
   "execution_count": 24,
   "id": "ff58d13e",
   "metadata": {
    "execution": {
     "iopub.execute_input": "2021-12-14T12:26:49.304316Z",
     "iopub.status.busy": "2021-12-14T12:26:49.303613Z",
     "iopub.status.idle": "2021-12-14T12:26:50.697723Z",
     "shell.execute_reply": "2021-12-14T12:26:50.698230Z"
    },
    "papermill": {
     "duration": 1.507613,
     "end_time": "2021-12-14T12:26:50.698384",
     "exception": false,
     "start_time": "2021-12-14T12:26:49.190771",
     "status": "completed"
    },
    "tags": []
   },
   "outputs": [
    {
     "data": {
      "text/html": [
       "<div>\n",
       "<style scoped>\n",
       "    .dataframe tbody tr th:only-of-type {\n",
       "        vertical-align: middle;\n",
       "    }\n",
       "\n",
       "    .dataframe tbody tr th {\n",
       "        vertical-align: top;\n",
       "    }\n",
       "\n",
       "    .dataframe thead th {\n",
       "        text-align: right;\n",
       "    }\n",
       "</style>\n",
       "<table border=\"1\" class=\"dataframe\">\n",
       "  <thead>\n",
       "    <tr style=\"text-align: right;\">\n",
       "      <th></th>\n",
       "      <th>collection</th>\n",
       "      <th>column_name</th>\n",
       "      <th>data_type</th>\n",
       "    </tr>\n",
       "  </thead>\n",
       "  <tbody>\n",
       "  </tbody>\n",
       "</table>\n",
       "</div>"
      ],
      "text/plain": [
       "Empty DataFrame\n",
       "Columns: [collection, column_name, data_type]\n",
       "Index: []"
      ]
     },
     "execution_count": 24,
     "metadata": {},
     "output_type": "execute_result"
    }
   ],
   "source": [
    "geodb.get_properties('land_use')"
   ]
  },
  {
   "cell_type": "code",
   "execution_count": 25,
   "id": "d78c16c0",
   "metadata": {
    "execution": {
     "iopub.execute_input": "2021-12-14T12:26:50.964279Z",
     "iopub.status.busy": "2021-12-14T12:26:50.962822Z",
     "iopub.status.idle": "2021-12-14T12:26:56.061064Z",
     "shell.execute_reply": "2021-12-14T12:26:56.060289Z"
    },
    "papermill": {
     "duration": 5.249575,
     "end_time": "2021-12-14T12:26:56.061212",
     "exception": false,
     "start_time": "2021-12-14T12:26:50.811637",
     "status": "completed"
    },
    "tags": []
   },
   "outputs": [
    {
     "data": {
      "application/json": {
       "Message": "Properties ['test1', 'test2'] dropped from geodb_418dfeac-15f0-4606-9edb-fd9eb722bf04_land_use"
      },
      "text/plain": [
       "<xcube_geodb.core.message.Message at 0x7fd2187a42b0>"
      ]
     },
     "execution_count": 25,
     "metadata": {},
     "output_type": "execute_result"
    }
   ],
   "source": [
    "geodb.drop_properties('land_use', properties=['test1', 'test2'])"
   ]
  },
  {
   "cell_type": "code",
   "execution_count": 26,
   "id": "f065e1cd",
   "metadata": {
    "execution": {
     "iopub.execute_input": "2021-12-14T12:26:56.306954Z",
     "iopub.status.busy": "2021-12-14T12:26:56.306160Z",
     "iopub.status.idle": "2021-12-14T12:26:57.924723Z",
     "shell.execute_reply": "2021-12-14T12:26:57.924033Z"
    },
    "papermill": {
     "duration": 1.748808,
     "end_time": "2021-12-14T12:26:57.924862",
     "exception": false,
     "start_time": "2021-12-14T12:26:56.176054",
     "status": "completed"
    },
    "tags": []
   },
   "outputs": [
    {
     "data": {
      "text/html": [
       "<div>\n",
       "<style scoped>\n",
       "    .dataframe tbody tr th:only-of-type {\n",
       "        vertical-align: middle;\n",
       "    }\n",
       "\n",
       "    .dataframe tbody tr th {\n",
       "        vertical-align: top;\n",
       "    }\n",
       "\n",
       "    .dataframe thead th {\n",
       "        text-align: right;\n",
       "    }\n",
       "</style>\n",
       "<table border=\"1\" class=\"dataframe\">\n",
       "  <thead>\n",
       "    <tr style=\"text-align: right;\">\n",
       "      <th></th>\n",
       "      <th>collection</th>\n",
       "      <th>column_name</th>\n",
       "      <th>data_type</th>\n",
       "    </tr>\n",
       "  </thead>\n",
       "  <tbody>\n",
       "  </tbody>\n",
       "</table>\n",
       "</div>"
      ],
      "text/plain": [
       "Empty DataFrame\n",
       "Columns: [collection, column_name, data_type]\n",
       "Index: []"
      ]
     },
     "execution_count": 26,
     "metadata": {},
     "output_type": "execute_result"
    }
   ],
   "source": [
    "geodb.get_properties('land_use')"
   ]
  },
  {
   "cell_type": "code",
   "execution_count": 27,
   "id": "12bba166",
   "metadata": {
    "execution": {
     "iopub.execute_input": "2021-12-14T12:26:58.156773Z",
     "iopub.status.busy": "2021-12-14T12:26:58.156051Z",
     "iopub.status.idle": "2021-12-14T12:26:59.605982Z",
     "shell.execute_reply": "2021-12-14T12:26:59.605273Z"
    },
    "papermill": {
     "duration": 1.568013,
     "end_time": "2021-12-14T12:26:59.606114",
     "exception": false,
     "start_time": "2021-12-14T12:26:58.038101",
     "status": "completed"
    },
    "tags": []
   },
   "outputs": [
    {
     "data": {
      "application/json": {
       "Message": "Collection ['geodb_418dfeac-15f0-4606-9edb-fd9eb722bf04_land_use'] deleted"
      },
      "text/plain": [
       "<xcube_geodb.core.message.Message at 0x7fd1b05a7820>"
      ]
     },
     "execution_count": 27,
     "metadata": {},
     "output_type": "execute_result"
    }
   ],
   "source": [
    "geodb.drop_collection('land_use')"
   ]
  },
  {
   "cell_type": "code",
   "execution_count": null,
   "id": "93e62f0f",
   "metadata": {
    "papermill": {
     "duration": 0.111196,
     "end_time": "2021-12-14T12:26:59.829658",
     "exception": false,
     "start_time": "2021-12-14T12:26:59.718462",
     "status": "completed"
    },
    "tags": []
   },
   "outputs": [],
   "source": []
  }
 ],
 "metadata": {
  "kernelspec": {
   "display_name": "EDC 0.24.5 (Python3)",
   "language": "python",
   "name": "edc"
  },
  "language_info": {
   "codemirror_mode": {
    "name": "ipython",
    "version": 3
   },
   "file_extension": ".py",
   "mimetype": "text/x-python",
   "name": "python",
   "nbconvert_exporter": "python",
   "pygments_lexer": "ipython3",
   "version": "3.8.12"
  },
  "papermill": {
   "duration": 71.005301,
   "end_time": "2021-12-14T12:27:00.254143",
   "environment_variables": {},
   "exception": null,
   "input_path": "/tmp/tmpp12q3wrh",
   "output_path": "/tmp/cur_notebook.ipynb",
   "parameters": {},
   "start_time": "2021-12-14T12:25:49.248842",
   "version": "2.1.2"
  },
  "properties": {
   "authors": [],
   "description": "Euro Data Cube GeoDB: Manage Datasets",
   "id": "geodb-manage",
   "license": null,
   "name": "GeoDB: Manage Datasets",
   "requirements": [
    "eurodatacube-geodb",
    "eoxhub",
    "eoxhub"
   ],
   "tags": [
    "Getting started",
    "GeoDB"
   ],
   "tosAgree": true,
   "type": "Jupyter Notebook",
   "version": "0.2.2"
  },
  "pycharm": {
   "stem_cell": {
    "cell_type": "raw",
    "metadata": {
     "collapsed": false
    },
    "source": []
   }
  }
 },
 "nbformat": 4,
 "nbformat_minor": 5
}