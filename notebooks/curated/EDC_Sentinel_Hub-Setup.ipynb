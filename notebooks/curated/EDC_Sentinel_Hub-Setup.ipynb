{
 "cells": [
  {
   "cell_type": "code",
   "execution_count": 1,
   "id": "f58b546a",
   "metadata": {
    "execution": {
     "iopub.execute_input": "2021-12-14T12:32:40.017955Z",
     "iopub.status.busy": "2021-12-14T12:32:40.017260Z",
     "iopub.status.idle": "2021-12-14T12:32:40.156513Z",
     "shell.execute_reply": "2021-12-14T12:32:40.155591Z"
    },
    "papermill": {
     "duration": 0.164588,
     "end_time": "2021-12-14T12:32:40.156666",
     "exception": false,
     "start_time": "2021-12-14T12:32:39.992078",
     "status": "completed"
    },
    "tags": []
   },
   "outputs": [
    {
     "data": {
      "text/markdown": [
       "\n",
       "***Notebook Title***  \n",
       "EDC core API access setup\n",
       "\n",
       "***Notebook Description***  \n",
       "Euro Data Cube core API access setup\n",
       "\n",
       "\n",
       "***Notebook Dependencies***  \n",
       "This notebook requires an active subscription to:\n",
       "* EDC Sentinel Hub\n"
      ],
      "text/plain": [
       "<IPython.core.display.Markdown object>"
      ]
     },
     "metadata": {},
     "output_type": "display_data"
    }
   ],
   "source": [
    "from edc import print_info\n",
    "print_info(\"sh-setup\")"
   ]
  },
  {
   "cell_type": "code",
   "execution_count": 2,
   "id": "0ac56e84",
   "metadata": {
    "execution": {
     "iopub.execute_input": "2021-12-14T12:32:40.194562Z",
     "iopub.status.busy": "2021-12-14T12:32:40.193696Z",
     "iopub.status.idle": "2021-12-14T12:32:40.201438Z",
     "shell.execute_reply": "2021-12-14T12:32:40.200697Z"
    },
    "papermill": {
     "duration": 0.028687,
     "end_time": "2021-12-14T12:32:40.201588",
     "exception": false,
     "start_time": "2021-12-14T12:32:40.172901",
     "status": "completed"
    },
    "tags": []
   },
   "outputs": [
    {
     "data": {
      "text/html": [
       "<script type=\"text/javascript\">\n",
       "        function toggle(id) {\n",
       "            el = document.getElementById(id);\n",
       "            el.style.display = el.style.display === \"none\" ? \"block\" : \"none\";\n",
       "        }\n",
       "    </script>"
      ],
      "text/plain": [
       "<IPython.core.display.HTML object>"
      ]
     },
     "metadata": {},
     "output_type": "display_data"
    },
    {
     "data": {
      "text/html": [
       "This notebook is compatible with this base image version (user-2021.12)."
      ],
      "text/plain": [
       "<IPython.core.display.HTML object>"
      ]
     },
     "metadata": {},
     "output_type": "display_data"
    },
    {
     "data": {
      "text/markdown": [
       "\n",
       "\n",
       "---------\n",
       "\n",
       "The following environment variables are available:\n",
       "\n",
       "* `SH_CLIENT_ID`, `SH_INSTANCE_ID`, `SH_CLIENT_NAME`, `SH_CLIENT_SECRET`\n"
      ],
      "text/plain": [
       "<IPython.core.display.Markdown object>"
      ]
     },
     "metadata": {},
     "output_type": "display_data"
    }
   ],
   "source": [
    "from edc import check_compatibility\n",
    "check_compatibility(\"user-2021.12\", dependencies=[\"SH\"])"
   ]
  },
  {
   "cell_type": "markdown",
   "id": "1c74162f",
   "metadata": {
    "papermill": {
     "duration": 0.019174,
     "end_time": "2021-12-14T12:32:40.240523",
     "exception": false,
     "start_time": "2021-12-14T12:32:40.221349",
     "status": "completed"
    },
    "tags": []
   },
   "source": [
    "## Setup for EDC core API access using xcube client library\n",
    "\n",
    "### Installation\n",
    "\n",
    "For creating an `xcube` Python environment and installing `xcube` follow the instructions given in the [xcube's README](https://github.com/dcs4cop/xcube/blob/master/README.md).\n",
    "For installing the `xcube_sh` plugin follow the instructions given in the [xcube-sh's README](https://github.com/dcs4cop/xcube-sh/blob/master/README.md).\n",
    "\n",
    "Before using Jupyter Lab for the first time install the `jupyterlab` package and make sure the \n",
    "[Jupyter GeoJSON extension](https://www.npmjs.com/package/@jupyterlab/geojson-extension) is installed too:\n",
    "\n",
    "```bash\n",
    "(xcube) conda install -c conda-forge jupyterlab\n",
    "(xcube) jupyter labextension install @jupyterlab/geojson-extension\n",
    "```\n",
    "\n",
    "### API access (OAuth2)\n",
    "\n",
    "For API access the following environment variables must be provided via a .env file\n",
    "\n",
    "```\n",
    "SH_CLIENT_ID=\n",
    "SH_CLIENT_SECRET=\n",
    "SH_INSTANCE_ID=\n",
    "```\n",
    "\n",
    "You can find these values in your Euro Data Cube Dashboard in the API Access (OAuth2) section of the Euro Data Cube service.\n",
    "\n",
    "### Test Setup\n",
    "\n",
    "Test whether setup was successfull by importing some important `xcube_sh` exports:"
   ]
  },
  {
   "cell_type": "code",
   "execution_count": 3,
   "id": "e9ffdeea",
   "metadata": {
    "execution": {
     "iopub.execute_input": "2021-12-14T12:32:40.290058Z",
     "iopub.status.busy": "2021-12-14T12:32:40.289277Z",
     "iopub.status.idle": "2021-12-14T12:32:42.298158Z",
     "shell.execute_reply": "2021-12-14T12:32:42.297427Z"
    },
    "papermill": {
     "duration": 2.037639,
     "end_time": "2021-12-14T12:32:42.298301",
     "exception": false,
     "start_time": "2021-12-14T12:32:40.260662",
     "status": "completed"
    },
    "tags": []
   },
   "outputs": [],
   "source": [
    "# Configure data cubes using CubeConfig\n",
    "from xcube_sh.config import CubeConfig\n",
    "# Open data cubes from SH with given CubeConfig\n",
    "from xcube_sh.cube import open_cube\n",
    "# Observe SH requests made open_cube()\n",
    "from xcube_sh.observers import Observers\n",
    "# View stored cubes\n",
    "from xcube_sh.viewer import ViewerServer"
   ]
  },
  {
   "cell_type": "code",
   "execution_count": 4,
   "id": "1fb62e15",
   "metadata": {
    "execution": {
     "iopub.execute_input": "2021-12-14T12:32:42.343570Z",
     "iopub.status.busy": "2021-12-14T12:32:42.342785Z",
     "iopub.status.idle": "2021-12-14T12:32:42.346564Z",
     "shell.execute_reply": "2021-12-14T12:32:42.345858Z"
    },
    "papermill": {
     "duration": 0.028724,
     "end_time": "2021-12-14T12:32:42.346706",
     "exception": false,
     "start_time": "2021-12-14T12:32:42.317982",
     "status": "completed"
    },
    "tags": []
   },
   "outputs": [
    {
     "data": {
      "text/plain": [
       "'0.9.2'"
      ]
     },
     "execution_count": 4,
     "metadata": {},
     "output_type": "execute_result"
    }
   ],
   "source": [
    "from xcube_sh.version import version\n",
    "version"
   ]
  },
  {
   "cell_type": "markdown",
   "id": "e190d83f",
   "metadata": {
    "papermill": {
     "duration": 0.020693,
     "end_time": "2021-12-14T12:32:42.395994",
     "exception": false,
     "start_time": "2021-12-14T12:32:42.375301",
     "status": "completed"
    },
    "tags": []
   },
   "source": [
    "## Setup for Euro Data Cube geoDB\n",
    "\n",
    "### Installation\n",
    "\n",
    "For installing the `xcube_geodb` plugin follow the instructions given in the [xcube-geodb's README](https://github.com/dcs4cop/xcube-geodb/blob/master/README.md).\n",
    "\n",
    "Before using Jupyter Lab for the first time install the `jupyterlab` package and make sure the \n",
    "[Jupyter GeoJSON extension](https://www.npmjs.com/package/@jupyterlab/geojson-extension) is installed too:\n",
    "\n",
    "```bash\n",
    "conda install -c conda-forge jupyterlab\n",
    "jupyter labextension install @jupyterlab/geojson-extension\n",
    "```\n",
    "\n",
    "### API access (OAuth2)\n",
    "\n",
    "For API access the following environment variables must be provided via a .env file\n",
    "\n",
    "```\n",
    "GEODB_API_SERVER_URL=\n",
    "GEODB_AUTH_CLIENT_ID=\n",
    "GEODB_AUTH_CLIENT_SECRET=\n",
    "GEODB_AUTH_AUD=\n",
    "GEODB_API_SERVER_PORT=\n",
    "GEODB_AUTH_DOMAIN=\n",
    "```\n",
    "\n",
    "You can find these values in your Euro Data Cube Dashboard in the API Access (OAuth2) section of the `Euro Data Cube - geoDB` service.\n",
    "\n"
   ]
  }
 ],
 "metadata": {
  "kernelspec": {
   "display_name": "Python 3",
   "language": "python",
   "name": "python3"
  },
  "language_info": {
   "codemirror_mode": {
    "name": "ipython",
    "version": 3
   },
   "file_extension": ".py",
   "mimetype": "text/x-python",
   "name": "python",
   "nbconvert_exporter": "python",
   "pygments_lexer": "ipython3",
   "version": "3.8.12"
  },
  "papermill": {
   "duration": 3.852437,
   "end_time": "2021-12-14T12:32:42.824283",
   "environment_variables": {},
   "exception": null,
   "input_path": "/tmp/tmplj020twx",
   "output_path": "/tmp/cur_notebook.ipynb",
   "parameters": {},
   "start_time": "2021-12-14T12:32:38.971846",
   "version": "2.1.0"
  },
  "properties": {
   "description": "Euro Data Cube core API access setup",
   "id": "sh-setup",
   "name": "EDC core API access setup",
   "requirements": [
    "eurodatacube"
   ],
   "tags": [
    "Getting started",
    "GeoDB",
    "xcube"
   ],
   "version": "0.1"
  }
 },
 "nbformat": 4,
 "nbformat_minor": 5
}