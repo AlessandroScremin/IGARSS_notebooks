{
 "cells": [
  {
   "cell_type": "code",
   "execution_count": 1,
   "id": "f58b546a",
   "metadata": {
    "execution": {
     "iopub.execute_input": "2022-06-30T10:10:20.499191Z",
     "iopub.status.busy": "2022-06-30T10:10:20.498478Z",
     "iopub.status.idle": "2022-06-30T10:10:55.750312Z",
     "shell.execute_reply": "2022-06-30T10:10:55.749454Z"
    },
    "papermill": {
     "duration": 35.262289,
     "end_time": "2022-06-30T10:10:55.754389",
     "exception": false,
     "start_time": "2022-06-30T10:10:20.492100",
     "status": "completed"
    },
    "tags": []
   },
   "outputs": [
    {
     "data": {
      "text/markdown": [
       "\n",
       "***Notebook Title***  \n",
       "EDC core API access setup\n",
       "\n",
       "***Notebook Description***  \n",
       "Euro Data Cube core API access setup\n",
       "\n",
       "\n",
       "***Notebook Dependencies***  \n",
       "This notebook requires an active subscription to:\n",
       "* EDC Sentinel Hub\n"
      ],
      "text/plain": [
       "<IPython.core.display.Markdown object>"
      ]
     },
     "metadata": {},
     "output_type": "display_data"
    }
   ],
   "source": [
    "from edc import print_info\n",
    "print_info(\"sh-setup\")"
   ]
  },
  {
   "cell_type": "code",
   "execution_count": 2,
   "id": "0ac56e84",
   "metadata": {
    "execution": {
     "iopub.execute_input": "2022-06-30T10:10:55.766176Z",
     "iopub.status.busy": "2022-06-30T10:10:55.765610Z",
     "iopub.status.idle": "2022-06-30T10:10:55.780148Z",
     "shell.execute_reply": "2022-06-30T10:10:55.779454Z"
    },
    "papermill": {
     "duration": 0.024944,
     "end_time": "2022-06-30T10:10:55.786058",
     "exception": false,
     "start_time": "2022-06-30T10:10:55.761114",
     "status": "completed"
    },
    "tags": []
   },
   "outputs": [
    {
     "data": {
      "text/html": [
       "<script type=\"text/javascript\">\n",
       "        function toggle(id) {\n",
       "            el = document.getElementById(id);\n",
       "            el.style.display = el.style.display === \"none\" ? \"block\" : \"none\";\n",
       "        }\n",
       "    </script>"
      ],
      "text/plain": [
       "<IPython.core.display.HTML object>"
      ]
     },
     "metadata": {},
     "output_type": "display_data"
    },
    {
     "data": {
      "text/html": [
       "This notebook is compatible with this base image version (user-2022.07-00)."
      ],
      "text/plain": [
       "<IPython.core.display.HTML object>"
      ]
     },
     "metadata": {},
     "output_type": "display_data"
    },
    {
     "data": {
      "text/markdown": [
       "\n",
       "\n",
       "---------\n",
       "\n",
       "The following environment variables are available:\n",
       "\n",
       "* `SH_CLIENT_ID`, `SH_INSTANCE_ID`, `SH_CLIENT_NAME`, `SH_CLIENT_SECRET`\n"
      ],
      "text/plain": [
       "<IPython.core.display.Markdown object>"
      ]
     },
     "metadata": {},
     "output_type": "display_data"
    }
   ],
   "source": [
    "from edc import check_compatibility\n",
    "check_compatibility(\"user-2022.07-00\", dependencies=[\"SH\"])"
   ]
  },
  {
   "cell_type": "markdown",
   "id": "1c74162f",
   "metadata": {
    "papermill": {
     "duration": 0.003261,
     "end_time": "2022-06-30T10:10:55.794416",
     "exception": false,
     "start_time": "2022-06-30T10:10:55.791155",
     "status": "completed"
    },
    "tags": []
   },
   "source": [
    "## Setup for EDC core API access using xcube client library\n",
    "\n",
    "### Installation\n",
    "\n",
    "For creating an `xcube` Python environment and installing `xcube` follow the instructions given in the [xcube's README](https://github.com/dcs4cop/xcube/blob/master/README.md).\n",
    "For installing the `xcube_sh` plugin follow the instructions given in the [xcube-sh's README](https://github.com/dcs4cop/xcube-sh/blob/master/README.md).\n",
    "\n",
    "Before using Jupyter Lab for the first time install the `jupyterlab` package and make sure the \n",
    "[Jupyter GeoJSON extension](https://www.npmjs.com/package/@jupyterlab/geojson-extension) is installed too:\n",
    "\n",
    "```bash\n",
    "(xcube) conda install -c conda-forge jupyterlab\n",
    "(xcube) jupyter labextension install @jupyterlab/geojson-extension\n",
    "```\n",
    "\n",
    "### API access (OAuth2)\n",
    "\n",
    "For API access the following environment variables must be provided via a .env file\n",
    "\n",
    "```\n",
    "SH_CLIENT_ID=\n",
    "SH_CLIENT_SECRET=\n",
    "SH_INSTANCE_ID=\n",
    "```\n",
    "\n",
    "You can find these values in your Euro Data Cube Dashboard in the API Access (OAuth2) section of the Euro Data Cube service.\n",
    "\n",
    "### Test Setup\n",
    "\n",
    "Test whether setup was successfull by importing some important `xcube_sh` exports:"
   ]
  },
  {
   "cell_type": "code",
   "execution_count": 3,
   "id": "e9ffdeea",
   "metadata": {
    "execution": {
     "iopub.execute_input": "2022-06-30T10:10:55.805879Z",
     "iopub.status.busy": "2022-06-30T10:10:55.805252Z",
     "iopub.status.idle": "2022-06-30T10:10:58.299370Z",
     "shell.execute_reply": "2022-06-30T10:10:58.291258Z"
    },
    "papermill": {
     "duration": 2.503845,
     "end_time": "2022-06-30T10:10:58.304068",
     "exception": false,
     "start_time": "2022-06-30T10:10:55.800223",
     "status": "completed"
    },
    "tags": []
   },
   "outputs": [],
   "source": [
    "# Configure data cubes using CubeConfig\n",
    "from xcube_sh.config import CubeConfig\n",
    "# Open data cubes from SH with given CubeConfig\n",
    "from xcube_sh.cube import open_cube\n",
    "# Observe SH requests made open_cube()\n",
    "from xcube_sh.observers import Observers\n",
    "# View stored cubes\n",
    "from xcube_sh.viewer import ViewerServer"
   ]
  },
  {
   "cell_type": "code",
   "execution_count": 4,
   "id": "1fb62e15",
   "metadata": {
    "execution": {
     "iopub.execute_input": "2022-06-30T10:10:58.320595Z",
     "iopub.status.busy": "2022-06-30T10:10:58.320242Z",
     "iopub.status.idle": "2022-06-30T10:10:58.340844Z",
     "shell.execute_reply": "2022-06-30T10:10:58.337209Z"
    },
    "papermill": {
     "duration": 0.041406,
     "end_time": "2022-06-30T10:10:58.347647",
     "exception": false,
     "start_time": "2022-06-30T10:10:58.306241",
     "status": "completed"
    },
    "tags": []
   },
   "outputs": [
    {
     "data": {
      "text/plain": [
       "'0.9.5'"
      ]
     },
     "execution_count": 4,
     "metadata": {},
     "output_type": "execute_result"
    }
   ],
   "source": [
    "from xcube_sh.version import version\n",
    "version"
   ]
  },
  {
   "cell_type": "markdown",
   "id": "e190d83f",
   "metadata": {
    "papermill": {
     "duration": 0.003417,
     "end_time": "2022-06-30T10:10:58.353310",
     "exception": false,
     "start_time": "2022-06-30T10:10:58.349893",
     "status": "completed"
    },
    "tags": []
   },
   "source": [
    "## Setup for Euro Data Cube geoDB\n",
    "\n",
    "### Installation\n",
    "\n",
    "For installing the `xcube_geodb` plugin follow the instructions given in the [xcube-geodb's README](https://github.com/dcs4cop/xcube-geodb/blob/master/README.md).\n",
    "\n",
    "Before using Jupyter Lab for the first time install the `jupyterlab` package and make sure the \n",
    "[Jupyter GeoJSON extension](https://www.npmjs.com/package/@jupyterlab/geojson-extension) is installed too:\n",
    "\n",
    "```bash\n",
    "conda install -c conda-forge jupyterlab\n",
    "jupyter labextension install @jupyterlab/geojson-extension\n",
    "```\n",
    "\n",
    "### API access (OAuth2)\n",
    "\n",
    "For API access the following environment variables must be provided via a .env file\n",
    "\n",
    "```\n",
    "GEODB_API_SERVER_URL=\n",
    "GEODB_AUTH_CLIENT_ID=\n",
    "GEODB_AUTH_CLIENT_SECRET=\n",
    "GEODB_AUTH_AUD=\n",
    "GEODB_API_SERVER_PORT=\n",
    "GEODB_AUTH_DOMAIN=\n",
    "```\n",
    "\n",
    "You can find these values in your Euro Data Cube Dashboard in the API Access (OAuth2) section of the `Euro Data Cube - geoDB` service.\n",
    "\n"
   ]
  }
 ],
 "metadata": {
  "kernelspec": {
   "display_name": "Python 3",
   "language": "python",
   "name": "python3"
  },
  "language_info": {
   "codemirror_mode": {
    "name": "ipython",
    "version": 3
   },
   "file_extension": ".py",
   "mimetype": "text/x-python",
   "name": "python",
   "nbconvert_exporter": "python",
   "pygments_lexer": "ipython3",
   "version": "3.9.13"
  },
  "papermill": {
   "duration": 41.174454,
   "end_time": "2022-06-30T10:10:59.427892",
   "environment_variables": {},
   "exception": null,
   "input_path": "/tmp/tmpt_w1giec",
   "output_path": "/tmp/cur_notebook.ipynb",
   "parameters": {},
   "start_time": "2022-06-30T10:10:18.253438",
   "version": "2.1.0"
  },
  "properties": {
   "description": "Euro Data Cube core API access setup",
   "id": "sh-setup",
   "name": "EDC core API access setup",
   "requirements": [
    "eurodatacube"
   ],
   "tags": [
    "Getting started",
    "GeoDB",
    "xcube"
   ],
   "version": "0.1"
  }
 },
 "nbformat": 4,
 "nbformat_minor": 5
}