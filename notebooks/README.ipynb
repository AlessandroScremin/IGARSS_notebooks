{
 "cells": [
  {
   "cell_type": "code",
   "execution_count": 1,
   "id": "7bfc7b44",
   "metadata": {
    "execution": {
     "iopub.execute_input": "2021-12-14T12:25:10.554616Z",
     "iopub.status.busy": "2021-12-14T12:25:10.553485Z",
     "iopub.status.idle": "2021-12-14T12:25:10.624510Z",
     "shell.execute_reply": "2021-12-14T12:25:10.625078Z"
    },
    "papermill": {
     "duration": 0.148787,
     "end_time": "2021-12-14T12:25:10.625325",
     "exception": false,
     "start_time": "2021-12-14T12:25:10.476538",
     "status": "completed"
    },
    "tags": []
   },
   "outputs": [
    {
     "data": {
      "text/html": [
       "<script type=\"text/javascript\">\n",
       "        function toggle(id) {\n",
       "            el = document.getElementById(id);\n",
       "            el.style.display = el.style.display === \"none\" ? \"block\" : \"none\";\n",
       "        }\n",
       "    </script>"
      ],
      "text/plain": [
       "<IPython.core.display.HTML object>"
      ]
     },
     "metadata": {},
     "output_type": "display_data"
    },
    {
     "data": {
      "text/html": [
       "This notebook is compatible with this base image version (user-2021.12)."
      ],
      "text/plain": [
       "<IPython.core.display.HTML object>"
      ]
     },
     "metadata": {},
     "output_type": "display_data"
    }
   ],
   "source": [
    "from edc import check_compatibility\n",
    "check_compatibility(\"user-2021.12\", dependencies=[])"
   ]
  },
  {
   "cell_type": "markdown",
   "id": "a28d20b5",
   "metadata": {
    "papermill": {
     "duration": 0.114154,
     "end_time": "2021-12-14T12:25:10.828000",
     "exception": false,
     "start_time": "2021-12-14T12:25:10.713846",
     "status": "completed"
    },
    "tags": []
   },
   "source": [
    "# Euro Data Cube Notebooks\n",
    "\n",
    "https://www.eurodatacube.com"
   ]
  }
 ],
 "metadata": {
  "kernelspec": {
   "display_name": "Python 3",
   "language": "python",
   "name": "python3"
  },
  "language_info": {
   "codemirror_mode": {
    "name": "ipython",
    "version": 3
   },
   "file_extension": ".py",
   "mimetype": "text/x-python",
   "name": "python",
   "nbconvert_exporter": "python",
   "pygments_lexer": "ipython3",
   "version": "3.8.12"
  },
  "papermill": {
   "default_parameters": {},
   "duration": 3.491805,
   "end_time": "2021-12-14T12:25:11.349801",
   "environment_variables": {},
   "exception": null,
   "input_path": "/tmp/tmpkkkib2b1",
   "output_path": "/tmp/cur_notebook.ipynb",
   "parameters": {},
   "start_time": "2021-12-14T12:25:07.857996",
   "version": "2.3.3"
  },
  "properties": {
   "ignore": true
  }
 },
 "nbformat": 4,
 "nbformat_minor": 5
}