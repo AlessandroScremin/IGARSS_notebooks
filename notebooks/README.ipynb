{
 "cells": [
  {
   "cell_type": "markdown",
   "id": "a28d20b5",
   "metadata": {
    "papermill": {
     "duration": 0.114154,
     "end_time": "2021-12-14T12:25:10.828000",
     "exception": false,
     "start_time": "2021-12-14T12:25:10.713846",
     "status": "completed"
    },
    "tags": []
   },
   "source": [
    "# Euro Data Cube Notebooks\n",
    "\n",
    "https://www.eurodatacube.com"
   ]
  }
 ],
 "metadata": {
  "kernelspec": {
   "display_name": "EDC 2022.02 (Python3)",
   "language": "python",
   "name": "edc"
  },
  "language_info": {
   "codemirror_mode": {
    "name": "ipython",
    "version": 3
   },
   "file_extension": ".py",
   "mimetype": "text/x-python",
   "name": "python",
   "nbconvert_exporter": "python",
   "pygments_lexer": "ipython3",
   "version": "3.8.12"
  },
  "papermill": {
   "default_parameters": {},
   "duration": 3.491805,
   "end_time": "2021-12-14T12:25:11.349801",
   "environment_variables": {},
   "exception": null,
   "input_path": "/tmp/tmpkkkib2b1",
   "output_path": "/tmp/cur_notebook.ipynb",
   "parameters": {},
   "start_time": "2021-12-14T12:25:07.857996",
   "version": "2.3.3"
  },
  "properties": {
   "ignore": true
  }
 },
 "nbformat": 4,
 "nbformat_minor": 5
}
