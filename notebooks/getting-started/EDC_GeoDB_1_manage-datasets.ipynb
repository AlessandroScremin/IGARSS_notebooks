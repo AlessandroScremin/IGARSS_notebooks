{
 "cells": [
  {
   "cell_type": "code",
   "execution_count": 1,
   "id": "1bc2e278",
   "metadata": {
    "execution": {
     "iopub.execute_input": "2021-05-11T14:51:57.470648Z",
     "iopub.status.busy": "2021-05-11T14:51:57.469994Z",
     "iopub.status.idle": "2021-05-11T14:52:00.113312Z",
     "shell.execute_reply": "2021-05-11T14:52:00.112693Z"
    },
    "papermill": {
     "duration": 2.662328,
     "end_time": "2021-05-11T14:52:00.113432",
     "exception": false,
     "start_time": "2021-05-11T14:51:57.451104",
     "status": "completed"
    },
    "tags": []
   },
   "outputs": [
    {
     "data": {
      "text/markdown": [
       "\n",
       "***Notebook Title***  \n",
       "GeoDB: Manage Datasets\n",
       "\n",
       "***Notebook Description***  \n",
       "Euro Data Cube GeoDB: Manage Datasets\n",
       "\n",
       "\n",
       "***Notebook Dependencies***  \n",
       "This notebook requires an active subscription to:\n",
       "* EDC GeoDB\n"
      ],
      "text/plain": [
       "<IPython.core.display.Markdown object>"
      ]
     },
     "metadata": {},
     "output_type": "display_data"
    }
   ],
   "source": [
    "from edc import print_info \n",
    "print_info(\"geodb-manage\")"
   ]
  },
  {
   "cell_type": "code",
   "execution_count": 2,
   "id": "f1fdb01e",
   "metadata": {
    "execution": {
     "iopub.execute_input": "2021-05-11T14:52:00.146098Z",
     "iopub.status.busy": "2021-05-11T14:52:00.145414Z",
     "iopub.status.idle": "2021-05-11T14:52:00.150069Z",
     "shell.execute_reply": "2021-05-11T14:52:00.149418Z"
    },
    "papermill": {
     "duration": 0.022698,
     "end_time": "2021-05-11T14:52:00.150183",
     "exception": false,
     "start_time": "2021-05-11T14:52:00.127485",
     "status": "completed"
    },
    "tags": []
   },
   "outputs": [
    {
     "data": {
      "text/html": [
       "<script type=\"text/javascript\">\n",
       "        function toggle(id) {\n",
       "            el = document.getElementById(id);\n",
       "            el.style.display = el.style.display === \"none\" ? \"block\" : \"none\";\n",
       "        }\n",
       "    </script>"
      ],
      "text/plain": [
       "<IPython.core.display.HTML object>"
      ]
     },
     "metadata": {},
     "output_type": "display_data"
    },
    {
     "data": {
      "text/html": [
       "This notebook is compatible with this base image version (user-0.24.5)."
      ],
      "text/plain": [
       "<IPython.core.display.HTML object>"
      ]
     },
     "metadata": {},
     "output_type": "display_data"
    },
    {
     "data": {
      "text/markdown": [
       "\n",
       "\n",
       "---------\n",
       "\n",
       "The following environment variables are available:\n",
       "\n",
       "* `GEODB_AUTH_AUD`, `GEODB_AUTH_CLIENT_ID`, `GEODB_AUTH_DOMAIN`, `GEODB_API_SERVER_URL`, `GEODB_AUTH_CLIENT_SECRET`, `GEODB_API_SERVER_PORT`\n"
      ],
      "text/plain": [
       "<IPython.core.display.Markdown object>"
      ]
     },
     "metadata": {},
     "output_type": "display_data"
    }
   ],
   "source": [
    "from edc import check_compatibility\n",
    "check_compatibility(\"user-0.24.5\", dependencies=[\"GEODB\"])"
   ]
  },
  {
   "cell_type": "markdown",
   "id": "4589dc0f",
   "metadata": {
    "papermill": {
     "duration": 0.014394,
     "end_time": "2021-05-11T14:52:00.182832",
     "exception": false,
     "start_time": "2021-05-11T14:52:00.168438",
     "status": "completed"
    },
    "tags": []
   },
   "source": [
    "## Manage Collections in your GeoDB\n",
    "\n"
   ]
  },
  {
   "cell_type": "markdown",
   "id": "b700341c",
   "metadata": {
    "papermill": {
     "duration": 0.014744,
     "end_time": "2021-05-11T14:52:00.212259",
     "exception": false,
     "start_time": "2021-05-11T14:52:00.197515",
     "status": "completed"
    },
    "tags": []
   },
   "source": [
    "### Connecting to the GeoDB"
   ]
  },
  {
   "cell_type": "code",
   "execution_count": 3,
   "id": "baa87b49",
   "metadata": {
    "execution": {
     "iopub.execute_input": "2021-05-11T14:52:00.251584Z",
     "iopub.status.busy": "2021-05-11T14:52:00.250888Z",
     "iopub.status.idle": "2021-05-11T14:52:00.767567Z",
     "shell.execute_reply": "2021-05-11T14:52:00.766988Z"
    },
    "papermill": {
     "duration": 0.539825,
     "end_time": "2021-05-11T14:52:00.767682",
     "exception": false,
     "start_time": "2021-05-11T14:52:00.227857",
     "status": "completed"
    },
    "tags": []
   },
   "outputs": [],
   "source": [
    "from xcube_geodb.core.geodb import GeoDBClient"
   ]
  },
  {
   "cell_type": "code",
   "execution_count": 4,
   "id": "9baa3452",
   "metadata": {
    "execution": {
     "iopub.execute_input": "2021-05-11T14:52:00.801138Z",
     "iopub.status.busy": "2021-05-11T14:52:00.800608Z",
     "iopub.status.idle": "2021-05-11T14:52:00.802377Z",
     "shell.execute_reply": "2021-05-11T14:52:00.802701Z"
    },
    "papermill": {
     "duration": 0.019925,
     "end_time": "2021-05-11T14:52:00.802801",
     "exception": false,
     "start_time": "2021-05-11T14:52:00.782876",
     "status": "completed"
    },
    "tags": []
   },
   "outputs": [],
   "source": [
    "geodb = GeoDBClient()"
   ]
  },
  {
   "cell_type": "code",
   "execution_count": 5,
   "id": "a780e3fb",
   "metadata": {
    "execution": {
     "iopub.execute_input": "2021-05-11T14:52:00.835665Z",
     "iopub.status.busy": "2021-05-11T14:52:00.833630Z",
     "iopub.status.idle": "2021-05-11T14:52:02.584340Z",
     "shell.execute_reply": "2021-05-11T14:52:02.583873Z"
    },
    "papermill": {
     "duration": 1.767111,
     "end_time": "2021-05-11T14:52:02.584446",
     "exception": false,
     "start_time": "2021-05-11T14:52:00.817335",
     "status": "completed"
    },
    "tags": []
   },
   "outputs": [
    {
     "data": {
      "text/plain": [
       "'geodb_418dfeac-15f0-4606-9edb-fd9eb722bf04'"
      ]
     },
     "execution_count": 5,
     "metadata": {},
     "output_type": "execute_result"
    }
   ],
   "source": [
    "# If you are logged in, this will tell you what account the system currently uses\n",
    "geodb.whoami"
   ]
  },
  {
   "cell_type": "code",
   "execution_count": 6,
   "id": "f0b2b694",
   "metadata": {
    "execution": {
     "iopub.execute_input": "2021-05-11T14:52:02.617760Z",
     "iopub.status.busy": "2021-05-11T14:52:02.616505Z",
     "iopub.status.idle": "2021-05-11T14:52:03.320753Z",
     "shell.execute_reply": "2021-05-11T14:52:03.320211Z"
    },
    "papermill": {
     "duration": 0.721748,
     "end_time": "2021-05-11T14:52:03.320859",
     "exception": false,
     "start_time": "2021-05-11T14:52:02.599111",
     "status": "completed"
    },
    "tags": []
   },
   "outputs": [
    {
     "data": {
      "text/plain": [
       "False"
      ]
     },
     "execution_count": 6,
     "metadata": {},
     "output_type": "execute_result"
    }
   ],
   "source": [
    "# Lets get already existing collections\n",
    "ds = geodb.get_my_collections()\n",
    "ds\n",
    "ds[(ds.database == 'geodb_admin') & (ds.table_name == 'land_use')].table_name.count() == 1"
   ]
  },
  {
   "cell_type": "markdown",
   "id": "66a44538",
   "metadata": {
    "papermill": {
     "duration": 0.014822,
     "end_time": "2021-05-11T14:52:03.351058",
     "exception": false,
     "start_time": "2021-05-11T14:52:03.336236",
     "status": "completed"
    },
    "tags": []
   },
   "source": [
    "### Creating collections\n",
    "\n",
    "Once the connection has been established you will be able to create a collection. The collection will contain standard properties (fields) plus custom properties\n",
    "which you can add at your disgretion. Please use [PostGreSQL type definitions](https://www.postgresql.org/docs/11/datatype.html). We recommend stying simple with\n",
    "your data types as we have not tested every single type."
   ]
  },
  {
   "cell_type": "code",
   "execution_count": 7,
   "id": "16370ff2",
   "metadata": {
    "execution": {
     "iopub.execute_input": "2021-05-11T14:52:03.385318Z",
     "iopub.status.busy": "2021-05-11T14:52:03.383987Z",
     "iopub.status.idle": "2021-05-11T14:52:05.206497Z",
     "shell.execute_reply": "2021-05-11T14:52:05.205887Z"
    },
    "papermill": {
     "duration": 1.840789,
     "end_time": "2021-05-11T14:52:05.206611",
     "exception": false,
     "start_time": "2021-05-11T14:52:03.365822",
     "status": "completed"
    },
    "tags": []
   },
   "outputs": [],
   "source": [
    "ds = geodb.get_my_collections()\n",
    "\n",
    "if ds[(ds.database == geodb.whoami) & (ds.table_name == 'land_use')].table_name.count() == 0:\n",
    "    # Have a look at fiona feature schema\n",
    "    collections = {\n",
    "            \"land_use\": \n",
    "            {\n",
    "                \"crs\": 3794,\n",
    "                \"properties\": \n",
    "                {\n",
    "                    \"RABA_PID\": \"float\", \n",
    "                    \"RABA_ID\": \"float\", \n",
    "                    \"D_OD\": \"date\"\n",
    "                }\n",
    "            }\n",
    "        }\n",
    "\n",
    "\n",
    "    geodb.create_collections(collections)\n",
    "    import geopandas\n",
    "    import os\n",
    "    gdf = geopandas.read_file(os.path.expanduser(\"~/.shared/notebooks/eurodatacube/notebooks/getting-started/data/sample/land_use.shp\"))\n",
    "    geodb.insert_into_collection('land_use', gdf)"
   ]
  },
  {
   "cell_type": "code",
   "execution_count": 8,
   "id": "b916f81a",
   "metadata": {
    "execution": {
     "iopub.execute_input": "2021-05-11T14:52:05.240485Z",
     "iopub.status.busy": "2021-05-11T14:52:05.239405Z",
     "iopub.status.idle": "2021-05-11T14:52:05.858039Z",
     "shell.execute_reply": "2021-05-11T14:52:05.857517Z"
    },
    "papermill": {
     "duration": 0.635939,
     "end_time": "2021-05-11T14:52:05.858142",
     "exception": false,
     "start_time": "2021-05-11T14:52:05.222203",
     "status": "completed"
    },
    "tags": []
   },
   "outputs": [
    {
     "data": {
      "text/html": [
       "<div>\n",
       "<style scoped>\n",
       "    .dataframe tbody tr th:only-of-type {\n",
       "        vertical-align: middle;\n",
       "    }\n",
       "\n",
       "    .dataframe tbody tr th {\n",
       "        vertical-align: top;\n",
       "    }\n",
       "\n",
       "    .dataframe thead th {\n",
       "        text-align: right;\n",
       "    }\n",
       "</style>\n",
       "<table border=\"1\" class=\"dataframe\">\n",
       "  <thead>\n",
       "    <tr style=\"text-align: right;\">\n",
       "      <th></th>\n",
       "      <th>owner</th>\n",
       "      <th>database</th>\n",
       "      <th>table_name</th>\n",
       "    </tr>\n",
       "  </thead>\n",
       "  <tbody>\n",
       "    <tr>\n",
       "      <th>0</th>\n",
       "      <td>geodb_0b01bfcd-2d09-46f8-84e8-cb5720fba14c</td>\n",
       "      <td>geodb_0b01bfcd-2d09-46f8-84e8-cb5720fba14c</td>\n",
       "      <td>delineated_parcels_s</td>\n",
       "    </tr>\n",
       "    <tr>\n",
       "      <th>1</th>\n",
       "      <td>geodb_0b01bfcd-2d09-46f8-84e8-cb5720fba14c</td>\n",
       "      <td>geodb_0b01bfcd-2d09-46f8-84e8-cb5720fba14c</td>\n",
       "      <td>test_batic</td>\n",
       "    </tr>\n",
       "    <tr>\n",
       "      <th>2</th>\n",
       "      <td>geodb_0b01bfcd-2d09-46f8-84e8-cb5720fba14c</td>\n",
       "      <td>phi_week</td>\n",
       "      <td>alster</td>\n",
       "    </tr>\n",
       "    <tr>\n",
       "      <th>3</th>\n",
       "      <td>geodb_0b01bfcd-2d09-46f8-84e8-cb5720fba14c</td>\n",
       "      <td>phi_week</td>\n",
       "      <td>gran_chaco</td>\n",
       "    </tr>\n",
       "    <tr>\n",
       "      <th>4</th>\n",
       "      <td>geodb_0d6df427-8c09-41b9-abc9-64ce13a68125</td>\n",
       "      <td>geodb_0d6df427-8c09-41b9-abc9-64ce13a68125</td>\n",
       "      <td>land_use</td>\n",
       "    </tr>\n",
       "    <tr>\n",
       "      <th>...</th>\n",
       "      <td>...</td>\n",
       "      <td>...</td>\n",
       "      <td>...</td>\n",
       "    </tr>\n",
       "    <tr>\n",
       "      <th>862</th>\n",
       "      <td>geodb_lpis_iacs_admin</td>\n",
       "      <td>anja</td>\n",
       "      <td>N4a</td>\n",
       "    </tr>\n",
       "    <tr>\n",
       "      <th>863</th>\n",
       "      <td>geodb_lpis_iacs_admin</td>\n",
       "      <td>anja</td>\n",
       "      <td>race_indicators</td>\n",
       "    </tr>\n",
       "    <tr>\n",
       "      <th>864</th>\n",
       "      <td>geodb_lpis_iacs_admin</td>\n",
       "      <td>lpis_iacs</td>\n",
       "      <td>land_use_slo</td>\n",
       "    </tr>\n",
       "    <tr>\n",
       "      <th>865</th>\n",
       "      <td>geodb_lpis_iacs_admin</td>\n",
       "      <td>lpis_iacs</td>\n",
       "      <td>lpis_aut</td>\n",
       "    </tr>\n",
       "    <tr>\n",
       "      <th>866</th>\n",
       "      <td>geodb_lpis_iacs_admin</td>\n",
       "      <td>lpis_iacs</td>\n",
       "      <td>lpis_slo</td>\n",
       "    </tr>\n",
       "  </tbody>\n",
       "</table>\n",
       "<p>867 rows × 3 columns</p>\n",
       "</div>"
      ],
      "text/plain": [
       "                                          owner  \\\n",
       "0    geodb_0b01bfcd-2d09-46f8-84e8-cb5720fba14c   \n",
       "1    geodb_0b01bfcd-2d09-46f8-84e8-cb5720fba14c   \n",
       "2    geodb_0b01bfcd-2d09-46f8-84e8-cb5720fba14c   \n",
       "3    geodb_0b01bfcd-2d09-46f8-84e8-cb5720fba14c   \n",
       "4    geodb_0d6df427-8c09-41b9-abc9-64ce13a68125   \n",
       "..                                          ...   \n",
       "862                       geodb_lpis_iacs_admin   \n",
       "863                       geodb_lpis_iacs_admin   \n",
       "864                       geodb_lpis_iacs_admin   \n",
       "865                       geodb_lpis_iacs_admin   \n",
       "866                       geodb_lpis_iacs_admin   \n",
       "\n",
       "                                       database            table_name  \n",
       "0    geodb_0b01bfcd-2d09-46f8-84e8-cb5720fba14c  delineated_parcels_s  \n",
       "1    geodb_0b01bfcd-2d09-46f8-84e8-cb5720fba14c            test_batic  \n",
       "2                                      phi_week                alster  \n",
       "3                                      phi_week            gran_chaco  \n",
       "4    geodb_0d6df427-8c09-41b9-abc9-64ce13a68125              land_use  \n",
       "..                                          ...                   ...  \n",
       "862                                        anja                   N4a  \n",
       "863                                        anja       race_indicators  \n",
       "864                                   lpis_iacs          land_use_slo  \n",
       "865                                   lpis_iacs              lpis_aut  \n",
       "866                                   lpis_iacs              lpis_slo  \n",
       "\n",
       "[867 rows x 3 columns]"
      ]
     },
     "execution_count": 8,
     "metadata": {},
     "output_type": "execute_result"
    }
   ],
   "source": [
    "ds = geodb.get_my_collections()\n",
    "ds"
   ]
  },
  {
   "cell_type": "markdown",
   "id": "454c4c30",
   "metadata": {
    "papermill": {
     "duration": 0.01525,
     "end_time": "2021-05-11T14:52:05.889328",
     "exception": false,
     "start_time": "2021-05-11T14:52:05.874078",
     "status": "completed"
    },
    "tags": []
   },
   "source": [
    "### Loading data into a dataset\n",
    "\n",
    "Once the table has been created, you can load data into the dataset. The example below loads a shapefile. The attributes of the shapefile correspond to the dataset's properties.\n"
   ]
  },
  {
   "cell_type": "code",
   "execution_count": 9,
   "id": "35ddeb73",
   "metadata": {
    "execution": {
     "iopub.execute_input": "2021-05-11T14:52:06.450941Z",
     "iopub.status.busy": "2021-05-11T14:52:06.396728Z",
     "iopub.status.idle": "2021-05-11T14:52:06.792435Z",
     "shell.execute_reply": "2021-05-11T14:52:06.791927Z"
    },
    "papermill": {
     "duration": 0.887949,
     "end_time": "2021-05-11T14:52:06.792541",
     "exception": false,
     "start_time": "2021-05-11T14:52:05.904592",
     "status": "completed"
    },
    "tags": []
   },
   "outputs": [
    {
     "data": {
      "text/html": [
       "<div>\n",
       "<style scoped>\n",
       "    .dataframe tbody tr th:only-of-type {\n",
       "        vertical-align: middle;\n",
       "    }\n",
       "\n",
       "    .dataframe tbody tr th {\n",
       "        vertical-align: top;\n",
       "    }\n",
       "\n",
       "    .dataframe thead th {\n",
       "        text-align: right;\n",
       "    }\n",
       "</style>\n",
       "<table border=\"1\" class=\"dataframe\">\n",
       "  <thead>\n",
       "    <tr style=\"text-align: right;\">\n",
       "      <th></th>\n",
       "      <th>RABA_PID</th>\n",
       "      <th>RABA_ID</th>\n",
       "      <th>D_OD</th>\n",
       "      <th>geometry</th>\n",
       "    </tr>\n",
       "  </thead>\n",
       "  <tbody>\n",
       "    <tr>\n",
       "      <th>0</th>\n",
       "      <td>4770326.0</td>\n",
       "      <td>1410</td>\n",
       "      <td>2019-03-26</td>\n",
       "      <td>POLYGON ((453952.629 91124.177, 453952.696 911...</td>\n",
       "    </tr>\n",
       "    <tr>\n",
       "      <th>1</th>\n",
       "      <td>4770325.0</td>\n",
       "      <td>1300</td>\n",
       "      <td>2019-03-26</td>\n",
       "      <td>POLYGON ((453810.376 91150.199, 453812.552 911...</td>\n",
       "    </tr>\n",
       "    <tr>\n",
       "      <th>2</th>\n",
       "      <td>2305689.0</td>\n",
       "      <td>7000</td>\n",
       "      <td>2019-02-25</td>\n",
       "      <td>POLYGON ((456099.635 97696.070, 456112.810 976...</td>\n",
       "    </tr>\n",
       "    <tr>\n",
       "      <th>3</th>\n",
       "      <td>2305596.0</td>\n",
       "      <td>1100</td>\n",
       "      <td>2019-02-25</td>\n",
       "      <td>POLYGON ((455929.405 97963.785, 455933.284 979...</td>\n",
       "    </tr>\n",
       "    <tr>\n",
       "      <th>4</th>\n",
       "      <td>2310160.0</td>\n",
       "      <td>1100</td>\n",
       "      <td>2019-03-11</td>\n",
       "      <td>POLYGON ((461561.512 96119.256, 461632.114 960...</td>\n",
       "    </tr>\n",
       "    <tr>\n",
       "      <th>...</th>\n",
       "      <td>...</td>\n",
       "      <td>...</td>\n",
       "      <td>...</td>\n",
       "      <td>...</td>\n",
       "    </tr>\n",
       "    <tr>\n",
       "      <th>9822</th>\n",
       "      <td>6253989.0</td>\n",
       "      <td>1600</td>\n",
       "      <td>2019-03-08</td>\n",
       "      <td>POLYGON ((460637.334 96865.891, 460647.927 969...</td>\n",
       "    </tr>\n",
       "    <tr>\n",
       "      <th>9823</th>\n",
       "      <td>6252044.0</td>\n",
       "      <td>1600</td>\n",
       "      <td>2019-03-26</td>\n",
       "      <td>POLYGON ((459467.868 96839.686, 459467.770 968...</td>\n",
       "    </tr>\n",
       "    <tr>\n",
       "      <th>9824</th>\n",
       "      <td>6245985.0</td>\n",
       "      <td>2000</td>\n",
       "      <td>2019-04-08</td>\n",
       "      <td>POLYGON ((459488.998 94066.248, 459498.145 940...</td>\n",
       "    </tr>\n",
       "    <tr>\n",
       "      <th>9825</th>\n",
       "      <td>6245986.0</td>\n",
       "      <td>2000</td>\n",
       "      <td>2019-02-20</td>\n",
       "      <td>POLYGON ((459676.680 94000.000, 459672.469 939...</td>\n",
       "    </tr>\n",
       "    <tr>\n",
       "      <th>9826</th>\n",
       "      <td>6245987.0</td>\n",
       "      <td>2000</td>\n",
       "      <td>2019-03-11</td>\n",
       "      <td>POLYGON ((459690.580 94042.607, 459686.872 940...</td>\n",
       "    </tr>\n",
       "  </tbody>\n",
       "</table>\n",
       "<p>9827 rows × 4 columns</p>\n",
       "</div>"
      ],
      "text/plain": [
       "       RABA_PID  RABA_ID        D_OD  \\\n",
       "0     4770326.0     1410  2019-03-26   \n",
       "1     4770325.0     1300  2019-03-26   \n",
       "2     2305689.0     7000  2019-02-25   \n",
       "3     2305596.0     1100  2019-02-25   \n",
       "4     2310160.0     1100  2019-03-11   \n",
       "...         ...      ...         ...   \n",
       "9822  6253989.0     1600  2019-03-08   \n",
       "9823  6252044.0     1600  2019-03-26   \n",
       "9824  6245985.0     2000  2019-04-08   \n",
       "9825  6245986.0     2000  2019-02-20   \n",
       "9826  6245987.0     2000  2019-03-11   \n",
       "\n",
       "                                               geometry  \n",
       "0     POLYGON ((453952.629 91124.177, 453952.696 911...  \n",
       "1     POLYGON ((453810.376 91150.199, 453812.552 911...  \n",
       "2     POLYGON ((456099.635 97696.070, 456112.810 976...  \n",
       "3     POLYGON ((455929.405 97963.785, 455933.284 979...  \n",
       "4     POLYGON ((461561.512 96119.256, 461632.114 960...  \n",
       "...                                                 ...  \n",
       "9822  POLYGON ((460637.334 96865.891, 460647.927 969...  \n",
       "9823  POLYGON ((459467.868 96839.686, 459467.770 968...  \n",
       "9824  POLYGON ((459488.998 94066.248, 459498.145 940...  \n",
       "9825  POLYGON ((459676.680 94000.000, 459672.469 939...  \n",
       "9826  POLYGON ((459690.580 94042.607, 459686.872 940...  \n",
       "\n",
       "[9827 rows x 4 columns]"
      ]
     },
     "execution_count": 9,
     "metadata": {},
     "output_type": "execute_result"
    }
   ],
   "source": [
    "import geopandas\n",
    "import os\n",
    "gdf = geopandas.read_file(os.path.expanduser(\"~/.shared/notebooks/eurodatacube/notebooks/getting-started/data/sample/land_use.shp\"))\n",
    "gdf"
   ]
  },
  {
   "cell_type": "code",
   "execution_count": 10,
   "id": "582ac5f4",
   "metadata": {
    "execution": {
     "iopub.execute_input": "2021-05-11T14:52:06.826794Z",
     "iopub.status.busy": "2021-05-11T14:52:06.826302Z",
     "iopub.status.idle": "2021-05-11T14:52:19.208915Z",
     "shell.execute_reply": "2021-05-11T14:52:19.208459Z"
    },
    "papermill": {
     "duration": 12.400723,
     "end_time": "2021-05-11T14:52:19.209031",
     "exception": false,
     "start_time": "2021-05-11T14:52:06.808308",
     "status": "completed"
    },
    "tags": []
   },
   "outputs": [
    {
     "name": "stdout",
     "output_type": "stream",
     "text": [
      "Processing rows from 0 to 999\n"
     ]
    },
    {
     "name": "stdout",
     "output_type": "stream",
     "text": [
      "Processing rows from 1000 to 1999\n"
     ]
    },
    {
     "name": "stdout",
     "output_type": "stream",
     "text": [
      "Processing rows from 2000 to 2999\n"
     ]
    },
    {
     "name": "stdout",
     "output_type": "stream",
     "text": [
      "Processing rows from 3000 to 3999\n"
     ]
    },
    {
     "name": "stdout",
     "output_type": "stream",
     "text": [
      "Processing rows from 4000 to 4999\n"
     ]
    },
    {
     "name": "stdout",
     "output_type": "stream",
     "text": [
      "Processing rows from 5000 to 5999\n"
     ]
    },
    {
     "name": "stdout",
     "output_type": "stream",
     "text": [
      "Processing rows from 6000 to 6999\n"
     ]
    },
    {
     "name": "stdout",
     "output_type": "stream",
     "text": [
      "Processing rows from 7000 to 7999\n"
     ]
    },
    {
     "name": "stdout",
     "output_type": "stream",
     "text": [
      "Processing rows from 8000 to 8999\n"
     ]
    },
    {
     "name": "stdout",
     "output_type": "stream",
     "text": [
      "Processing rows from 9000 to 9827\n"
     ]
    },
    {
     "data": {
      "text/plain": [
       "9827 rows inserted into land_use"
      ]
     },
     "execution_count": 10,
     "metadata": {},
     "output_type": "execute_result"
    }
   ],
   "source": [
    "geodb.insert_into_collection('land_use', gdf)"
   ]
  },
  {
   "cell_type": "code",
   "execution_count": 11,
   "id": "20127563",
   "metadata": {
    "execution": {
     "iopub.execute_input": "2021-05-11T14:52:19.248184Z",
     "iopub.status.busy": "2021-05-11T14:52:19.247623Z",
     "iopub.status.idle": "2021-05-11T14:52:23.181984Z",
     "shell.execute_reply": "2021-05-11T14:52:23.182316Z"
    },
    "papermill": {
     "duration": 3.955882,
     "end_time": "2021-05-11T14:52:23.182440",
     "exception": false,
     "start_time": "2021-05-11T14:52:19.226558",
     "status": "completed"
    },
    "tags": []
   },
   "outputs": [
    {
     "data": {
      "text/html": [
       "<div>\n",
       "<style scoped>\n",
       "    .dataframe tbody tr th:only-of-type {\n",
       "        vertical-align: middle;\n",
       "    }\n",
       "\n",
       "    .dataframe tbody tr th {\n",
       "        vertical-align: top;\n",
       "    }\n",
       "\n",
       "    .dataframe thead th {\n",
       "        text-align: right;\n",
       "    }\n",
       "</style>\n",
       "<table border=\"1\" class=\"dataframe\">\n",
       "  <thead>\n",
       "    <tr style=\"text-align: right;\">\n",
       "      <th></th>\n",
       "      <th>id</th>\n",
       "      <th>created_at</th>\n",
       "      <th>modified_at</th>\n",
       "      <th>geometry</th>\n",
       "      <th>raba_pid</th>\n",
       "      <th>raba_id</th>\n",
       "      <th>d_od</th>\n",
       "    </tr>\n",
       "  </thead>\n",
       "  <tbody>\n",
       "    <tr>\n",
       "      <th>0</th>\n",
       "      <td>98273</td>\n",
       "      <td>2021-05-11T14:52:10.298876+00:00</td>\n",
       "      <td>None</td>\n",
       "      <td>POLYGON ((456099.635 97696.070, 456112.810 976...</td>\n",
       "      <td>2305689</td>\n",
       "      <td>7000</td>\n",
       "      <td>2019-02-25</td>\n",
       "    </tr>\n",
       "    <tr>\n",
       "      <th>1</th>\n",
       "      <td>98296</td>\n",
       "      <td>2021-05-11T14:52:10.298876+00:00</td>\n",
       "      <td>None</td>\n",
       "      <td>POLYGON ((459898.930 100306.841, 459906.288 10...</td>\n",
       "      <td>2301992</td>\n",
       "      <td>7000</td>\n",
       "      <td>2019-04-06</td>\n",
       "    </tr>\n",
       "    <tr>\n",
       "      <th>2</th>\n",
       "      <td>98365</td>\n",
       "      <td>2021-05-11T14:52:10.298876+00:00</td>\n",
       "      <td>None</td>\n",
       "      <td>POLYGON ((459591.248 92619.056, 459592.745 926...</td>\n",
       "      <td>2333229</td>\n",
       "      <td>7000</td>\n",
       "      <td>2019-02-20</td>\n",
       "    </tr>\n",
       "    <tr>\n",
       "      <th>3</th>\n",
       "      <td>98385</td>\n",
       "      <td>2021-05-11T14:52:10.298876+00:00</td>\n",
       "      <td>None</td>\n",
       "      <td>POLYGON ((459013.303 100354.458, 459022.756 10...</td>\n",
       "      <td>2336738</td>\n",
       "      <td>7000</td>\n",
       "      <td>2019-03-15</td>\n",
       "    </tr>\n",
       "    <tr>\n",
       "      <th>4</th>\n",
       "      <td>98399</td>\n",
       "      <td>2021-05-11T14:52:10.298876+00:00</td>\n",
       "      <td>None</td>\n",
       "      <td>POLYGON ((460851.200 93442.039, 460846.405 934...</td>\n",
       "      <td>6292562</td>\n",
       "      <td>7000</td>\n",
       "      <td>2019-02-21</td>\n",
       "    </tr>\n",
       "    <tr>\n",
       "      <th>...</th>\n",
       "      <td>...</td>\n",
       "      <td>...</td>\n",
       "      <td>...</td>\n",
       "      <td>...</td>\n",
       "      <td>...</td>\n",
       "      <td>...</td>\n",
       "      <td>...</td>\n",
       "    </tr>\n",
       "    <tr>\n",
       "      <th>379</th>\n",
       "      <td>107689</td>\n",
       "      <td>2021-05-11T14:52:19.040319+00:00</td>\n",
       "      <td>None</td>\n",
       "      <td>POLYGON ((456523.670 94000.000, 456550.368 939...</td>\n",
       "      <td>6187993</td>\n",
       "      <td>7000</td>\n",
       "      <td>2019-03-13</td>\n",
       "    </tr>\n",
       "    <tr>\n",
       "      <th>380</th>\n",
       "      <td>107816</td>\n",
       "      <td>2021-05-11T14:52:19.040319+00:00</td>\n",
       "      <td>None</td>\n",
       "      <td>POLYGON ((460793.279 94000.000, 460797.466 939...</td>\n",
       "      <td>6219403</td>\n",
       "      <td>7000</td>\n",
       "      <td>2019-02-21</td>\n",
       "    </tr>\n",
       "    <tr>\n",
       "      <th>381</th>\n",
       "      <td>107830</td>\n",
       "      <td>2021-05-11T14:52:19.040319+00:00</td>\n",
       "      <td>None</td>\n",
       "      <td>POLYGON ((461750.000 98434.292, 461750.000 984...</td>\n",
       "      <td>6219602</td>\n",
       "      <td>7000</td>\n",
       "      <td>2019-03-20</td>\n",
       "    </tr>\n",
       "    <tr>\n",
       "      <th>382</th>\n",
       "      <td>107894</td>\n",
       "      <td>2021-05-11T14:52:19.040319+00:00</td>\n",
       "      <td>None</td>\n",
       "      <td>POLYGON ((463628.912 97501.218, 463636.859 975...</td>\n",
       "      <td>6215237</td>\n",
       "      <td>7000</td>\n",
       "      <td>2019-03-20</td>\n",
       "    </tr>\n",
       "    <tr>\n",
       "      <th>383</th>\n",
       "      <td>107914</td>\n",
       "      <td>2021-05-11T14:52:19.040319+00:00</td>\n",
       "      <td>None</td>\n",
       "      <td>POLYGON ((462450.205 94000.000, 462457.333 940...</td>\n",
       "      <td>6213419</td>\n",
       "      <td>7000</td>\n",
       "      <td>2019-03-21</td>\n",
       "    </tr>\n",
       "  </tbody>\n",
       "</table>\n",
       "<p>384 rows × 7 columns</p>\n",
       "</div>"
      ],
      "text/plain": [
       "         id                        created_at modified_at  \\\n",
       "0     98273  2021-05-11T14:52:10.298876+00:00        None   \n",
       "1     98296  2021-05-11T14:52:10.298876+00:00        None   \n",
       "2     98365  2021-05-11T14:52:10.298876+00:00        None   \n",
       "3     98385  2021-05-11T14:52:10.298876+00:00        None   \n",
       "4     98399  2021-05-11T14:52:10.298876+00:00        None   \n",
       "..      ...                               ...         ...   \n",
       "379  107689  2021-05-11T14:52:19.040319+00:00        None   \n",
       "380  107816  2021-05-11T14:52:19.040319+00:00        None   \n",
       "381  107830  2021-05-11T14:52:19.040319+00:00        None   \n",
       "382  107894  2021-05-11T14:52:19.040319+00:00        None   \n",
       "383  107914  2021-05-11T14:52:19.040319+00:00        None   \n",
       "\n",
       "                                              geometry  raba_pid  raba_id  \\\n",
       "0    POLYGON ((456099.635 97696.070, 456112.810 976...   2305689     7000   \n",
       "1    POLYGON ((459898.930 100306.841, 459906.288 10...   2301992     7000   \n",
       "2    POLYGON ((459591.248 92619.056, 459592.745 926...   2333229     7000   \n",
       "3    POLYGON ((459013.303 100354.458, 459022.756 10...   2336738     7000   \n",
       "4    POLYGON ((460851.200 93442.039, 460846.405 934...   6292562     7000   \n",
       "..                                                 ...       ...      ...   \n",
       "379  POLYGON ((456523.670 94000.000, 456550.368 939...   6187993     7000   \n",
       "380  POLYGON ((460793.279 94000.000, 460797.466 939...   6219403     7000   \n",
       "381  POLYGON ((461750.000 98434.292, 461750.000 984...   6219602     7000   \n",
       "382  POLYGON ((463628.912 97501.218, 463636.859 975...   6215237     7000   \n",
       "383  POLYGON ((462450.205 94000.000, 462457.333 940...   6213419     7000   \n",
       "\n",
       "           d_od  \n",
       "0    2019-02-25  \n",
       "1    2019-04-06  \n",
       "2    2019-02-20  \n",
       "3    2019-03-15  \n",
       "4    2019-02-21  \n",
       "..          ...  \n",
       "379  2019-03-13  \n",
       "380  2019-02-21  \n",
       "381  2019-03-20  \n",
       "382  2019-03-20  \n",
       "383  2019-03-21  \n",
       "\n",
       "[384 rows x 7 columns]"
      ]
     },
     "execution_count": 11,
     "metadata": {},
     "output_type": "execute_result"
    }
   ],
   "source": [
    "geodb.get_collection('land_use', query=\"raba_id=eq.7000\")"
   ]
  },
  {
   "cell_type": "markdown",
   "id": "1ae225fe",
   "metadata": {
    "papermill": {
     "duration": 0.017716,
     "end_time": "2021-05-11T14:52:23.220917",
     "exception": false,
     "start_time": "2021-05-11T14:52:23.203201",
     "status": "completed"
    },
    "tags": []
   },
   "source": [
    "### Delete from a Collection"
   ]
  },
  {
   "cell_type": "code",
   "execution_count": 12,
   "id": "ba7e7a44",
   "metadata": {
    "execution": {
     "iopub.execute_input": "2021-05-11T14:52:23.260260Z",
     "iopub.status.busy": "2021-05-11T14:52:23.259704Z",
     "iopub.status.idle": "2021-05-11T14:52:25.528721Z",
     "shell.execute_reply": "2021-05-11T14:52:25.528021Z"
    },
    "papermill": {
     "duration": 2.290338,
     "end_time": "2021-05-11T14:52:25.528867",
     "exception": false,
     "start_time": "2021-05-11T14:52:23.238529",
     "status": "completed"
    },
    "tags": []
   },
   "outputs": [
    {
     "data": {
      "text/plain": [
       "Data from land_use deleted"
      ]
     },
     "execution_count": 12,
     "metadata": {},
     "output_type": "execute_result"
    }
   ],
   "source": [
    "geodb.delete_from_collection('land_use', query=\"raba_id=eq.7000\")"
   ]
  },
  {
   "cell_type": "code",
   "execution_count": 13,
   "id": "b99b8942",
   "metadata": {
    "execution": {
     "iopub.execute_input": "2021-05-11T14:52:25.571484Z",
     "iopub.status.busy": "2021-05-11T14:52:25.570904Z",
     "iopub.status.idle": "2021-05-11T14:52:29.297055Z",
     "shell.execute_reply": "2021-05-11T14:52:29.297557Z"
    },
    "papermill": {
     "duration": 3.74866,
     "end_time": "2021-05-11T14:52:29.297730",
     "exception": false,
     "start_time": "2021-05-11T14:52:25.549070",
     "status": "completed"
    },
    "tags": []
   },
   "outputs": [
    {
     "data": {
      "text/html": [
       "<div>\n",
       "<style scoped>\n",
       "    .dataframe tbody tr th:only-of-type {\n",
       "        vertical-align: middle;\n",
       "    }\n",
       "\n",
       "    .dataframe tbody tr th {\n",
       "        vertical-align: top;\n",
       "    }\n",
       "\n",
       "    .dataframe thead th {\n",
       "        text-align: right;\n",
       "    }\n",
       "</style>\n",
       "<table border=\"1\" class=\"dataframe\">\n",
       "  <thead>\n",
       "    <tr style=\"text-align: right;\">\n",
       "      <th></th>\n",
       "      <th>Empty Result</th>\n",
       "    </tr>\n",
       "  </thead>\n",
       "  <tbody>\n",
       "  </tbody>\n",
       "</table>\n",
       "</div>"
      ],
      "text/plain": [
       "Empty DataFrame\n",
       "Columns: [Empty Result]\n",
       "Index: []"
      ]
     },
     "execution_count": 13,
     "metadata": {},
     "output_type": "execute_result"
    }
   ],
   "source": [
    "geodb.get_collection('land_use', query=\"raba_id=eq.7000\")"
   ]
  },
  {
   "cell_type": "markdown",
   "id": "1545a8f9",
   "metadata": {
    "papermill": {
     "duration": 0.02128,
     "end_time": "2021-05-11T14:52:29.338098",
     "exception": false,
     "start_time": "2021-05-11T14:52:29.316818",
     "status": "completed"
    },
    "tags": []
   },
   "source": [
    "### Updating a Collection"
   ]
  },
  {
   "cell_type": "code",
   "execution_count": 14,
   "id": "292b9530",
   "metadata": {
    "execution": {
     "iopub.execute_input": "2021-05-11T14:52:29.379622Z",
     "iopub.status.busy": "2021-05-11T14:52:29.378985Z",
     "iopub.status.idle": "2021-05-11T14:52:34.558479Z",
     "shell.execute_reply": "2021-05-11T14:52:34.557949Z"
    },
    "papermill": {
     "duration": 5.202121,
     "end_time": "2021-05-11T14:52:34.558584",
     "exception": false,
     "start_time": "2021-05-11T14:52:29.356463",
     "status": "completed"
    },
    "tags": []
   },
   "outputs": [
    {
     "data": {
      "text/html": [
       "<div>\n",
       "<style scoped>\n",
       "    .dataframe tbody tr th:only-of-type {\n",
       "        vertical-align: middle;\n",
       "    }\n",
       "\n",
       "    .dataframe tbody tr th {\n",
       "        vertical-align: top;\n",
       "    }\n",
       "\n",
       "    .dataframe thead th {\n",
       "        text-align: right;\n",
       "    }\n",
       "</style>\n",
       "<table border=\"1\" class=\"dataframe\">\n",
       "  <thead>\n",
       "    <tr style=\"text-align: right;\">\n",
       "      <th></th>\n",
       "      <th>id</th>\n",
       "      <th>created_at</th>\n",
       "      <th>modified_at</th>\n",
       "      <th>geometry</th>\n",
       "      <th>raba_pid</th>\n",
       "      <th>raba_id</th>\n",
       "      <th>d_od</th>\n",
       "    </tr>\n",
       "  </thead>\n",
       "  <tbody>\n",
       "    <tr>\n",
       "      <th>0</th>\n",
       "      <td>14019</td>\n",
       "      <td>2020-09-29T12:37:37.136218+00:00</td>\n",
       "      <td>2021-05-11T13:54:50.772978+00:00</td>\n",
       "      <td>POLYGON ((455586.504 98506.640, 455570.758 985...</td>\n",
       "      <td>6294574</td>\n",
       "      <td>1300</td>\n",
       "      <td>2000-01-01</td>\n",
       "    </tr>\n",
       "    <tr>\n",
       "      <th>1</th>\n",
       "      <td>17500</td>\n",
       "      <td>2020-09-29T12:37:37.136218+00:00</td>\n",
       "      <td>2021-05-11T13:54:50.772978+00:00</td>\n",
       "      <td>POLYGON ((454279.064 97000.000, 454277.758 969...</td>\n",
       "      <td>4684059</td>\n",
       "      <td>1300</td>\n",
       "      <td>2000-01-01</td>\n",
       "    </tr>\n",
       "    <tr>\n",
       "      <th>2</th>\n",
       "      <td>18687</td>\n",
       "      <td>2020-09-29T12:37:37.136218+00:00</td>\n",
       "      <td>2021-05-11T13:54:50.772978+00:00</td>\n",
       "      <td>POLYGON ((457250.000 97350.271, 457257.420 973...</td>\n",
       "      <td>5996126</td>\n",
       "      <td>1300</td>\n",
       "      <td>2000-01-01</td>\n",
       "    </tr>\n",
       "    <tr>\n",
       "      <th>3</th>\n",
       "      <td>39977</td>\n",
       "      <td>2020-12-01T13:40:18.246639+00:00</td>\n",
       "      <td>2021-05-11T13:54:50.772978+00:00</td>\n",
       "      <td>POLYGON ((462355.376 91003.570, 462362.891 910...</td>\n",
       "      <td>2324928</td>\n",
       "      <td>1300</td>\n",
       "      <td>2000-01-01</td>\n",
       "    </tr>\n",
       "    <tr>\n",
       "      <th>4</th>\n",
       "      <td>49390</td>\n",
       "      <td>2020-12-15T11:01:52.113704+00:00</td>\n",
       "      <td>2021-05-11T13:54:50.772978+00:00</td>\n",
       "      <td>POLYGON ((461167.931 92179.419, 461152.747 921...</td>\n",
       "      <td>6292140</td>\n",
       "      <td>1300</td>\n",
       "      <td>2000-01-01</td>\n",
       "    </tr>\n",
       "    <tr>\n",
       "      <th>...</th>\n",
       "      <td>...</td>\n",
       "      <td>...</td>\n",
       "      <td>...</td>\n",
       "      <td>...</td>\n",
       "      <td>...</td>\n",
       "      <td>...</td>\n",
       "      <td>...</td>\n",
       "    </tr>\n",
       "    <tr>\n",
       "      <th>9840</th>\n",
       "      <td>98208</td>\n",
       "      <td>2021-05-11T13:54:31.276633+00:00</td>\n",
       "      <td>2021-05-11T13:54:50.772978+00:00</td>\n",
       "      <td>POLYGON ((458304.555 100146.103, 458306.726 10...</td>\n",
       "      <td>6268058</td>\n",
       "      <td>1300</td>\n",
       "      <td>2000-01-01</td>\n",
       "    </tr>\n",
       "    <tr>\n",
       "      <th>9841</th>\n",
       "      <td>98209</td>\n",
       "      <td>2021-05-11T13:54:31.276633+00:00</td>\n",
       "      <td>2021-05-11T13:54:50.772978+00:00</td>\n",
       "      <td>POLYGON ((458247.583 99746.065, 458245.202 997...</td>\n",
       "      <td>6268059</td>\n",
       "      <td>1300</td>\n",
       "      <td>2000-01-01</td>\n",
       "    </tr>\n",
       "    <tr>\n",
       "      <th>9842</th>\n",
       "      <td>98210</td>\n",
       "      <td>2021-05-11T13:54:31.276633+00:00</td>\n",
       "      <td>2021-05-11T13:54:50.772978+00:00</td>\n",
       "      <td>POLYGON ((461932.283 90520.703, 461931.619 905...</td>\n",
       "      <td>6263561</td>\n",
       "      <td>1300</td>\n",
       "      <td>2000-01-01</td>\n",
       "    </tr>\n",
       "    <tr>\n",
       "      <th>9843</th>\n",
       "      <td>98241</td>\n",
       "      <td>2021-05-11T13:54:31.276633+00:00</td>\n",
       "      <td>2021-05-11T13:54:50.772978+00:00</td>\n",
       "      <td>POLYGON ((457231.170 90902.256, 457234.861 909...</td>\n",
       "      <td>6264862</td>\n",
       "      <td>1300</td>\n",
       "      <td>2000-01-01</td>\n",
       "    </tr>\n",
       "    <tr>\n",
       "      <th>9844</th>\n",
       "      <td>98242</td>\n",
       "      <td>2021-05-11T13:54:31.276633+00:00</td>\n",
       "      <td>2021-05-11T13:54:50.772978+00:00</td>\n",
       "      <td>POLYGON ((461378.845 91124.318, 461490.224 911...</td>\n",
       "      <td>6264865</td>\n",
       "      <td>1300</td>\n",
       "      <td>2000-01-01</td>\n",
       "    </tr>\n",
       "  </tbody>\n",
       "</table>\n",
       "<p>9845 rows × 7 columns</p>\n",
       "</div>"
      ],
      "text/plain": [
       "         id                        created_at  \\\n",
       "0     14019  2020-09-29T12:37:37.136218+00:00   \n",
       "1     17500  2020-09-29T12:37:37.136218+00:00   \n",
       "2     18687  2020-09-29T12:37:37.136218+00:00   \n",
       "3     39977  2020-12-01T13:40:18.246639+00:00   \n",
       "4     49390  2020-12-15T11:01:52.113704+00:00   \n",
       "...     ...                               ...   \n",
       "9840  98208  2021-05-11T13:54:31.276633+00:00   \n",
       "9841  98209  2021-05-11T13:54:31.276633+00:00   \n",
       "9842  98210  2021-05-11T13:54:31.276633+00:00   \n",
       "9843  98241  2021-05-11T13:54:31.276633+00:00   \n",
       "9844  98242  2021-05-11T13:54:31.276633+00:00   \n",
       "\n",
       "                           modified_at  \\\n",
       "0     2021-05-11T13:54:50.772978+00:00   \n",
       "1     2021-05-11T13:54:50.772978+00:00   \n",
       "2     2021-05-11T13:54:50.772978+00:00   \n",
       "3     2021-05-11T13:54:50.772978+00:00   \n",
       "4     2021-05-11T13:54:50.772978+00:00   \n",
       "...                                ...   \n",
       "9840  2021-05-11T13:54:50.772978+00:00   \n",
       "9841  2021-05-11T13:54:50.772978+00:00   \n",
       "9842  2021-05-11T13:54:50.772978+00:00   \n",
       "9843  2021-05-11T13:54:50.772978+00:00   \n",
       "9844  2021-05-11T13:54:50.772978+00:00   \n",
       "\n",
       "                                               geometry  raba_pid  raba_id  \\\n",
       "0     POLYGON ((455586.504 98506.640, 455570.758 985...   6294574     1300   \n",
       "1     POLYGON ((454279.064 97000.000, 454277.758 969...   4684059     1300   \n",
       "2     POLYGON ((457250.000 97350.271, 457257.420 973...   5996126     1300   \n",
       "3     POLYGON ((462355.376 91003.570, 462362.891 910...   2324928     1300   \n",
       "4     POLYGON ((461167.931 92179.419, 461152.747 921...   6292140     1300   \n",
       "...                                                 ...       ...      ...   \n",
       "9840  POLYGON ((458304.555 100146.103, 458306.726 10...   6268058     1300   \n",
       "9841  POLYGON ((458247.583 99746.065, 458245.202 997...   6268059     1300   \n",
       "9842  POLYGON ((461932.283 90520.703, 461931.619 905...   6263561     1300   \n",
       "9843  POLYGON ((457231.170 90902.256, 457234.861 909...   6264862     1300   \n",
       "9844  POLYGON ((461378.845 91124.318, 461490.224 911...   6264865     1300   \n",
       "\n",
       "            d_od  \n",
       "0     2000-01-01  \n",
       "1     2000-01-01  \n",
       "2     2000-01-01  \n",
       "3     2000-01-01  \n",
       "4     2000-01-01  \n",
       "...          ...  \n",
       "9840  2000-01-01  \n",
       "9841  2000-01-01  \n",
       "9842  2000-01-01  \n",
       "9843  2000-01-01  \n",
       "9844  2000-01-01  \n",
       "\n",
       "[9845 rows x 7 columns]"
      ]
     },
     "execution_count": 14,
     "metadata": {},
     "output_type": "execute_result"
    }
   ],
   "source": [
    "geodb.get_collection('land_use', query=\"raba_id=eq.1300\")"
   ]
  },
  {
   "cell_type": "code",
   "execution_count": 15,
   "id": "8cfc5ba7",
   "metadata": {
    "execution": {
     "iopub.execute_input": "2021-05-11T14:52:34.600772Z",
     "iopub.status.busy": "2021-05-11T14:52:34.599199Z",
     "iopub.status.idle": "2021-05-11T14:52:39.411945Z",
     "shell.execute_reply": "2021-05-11T14:52:39.411408Z"
    },
    "papermill": {
     "duration": 4.834222,
     "end_time": "2021-05-11T14:52:39.412048",
     "exception": false,
     "start_time": "2021-05-11T14:52:34.577826",
     "status": "completed"
    },
    "tags": []
   },
   "outputs": [
    {
     "data": {
      "text/plain": [
       "land_use updated"
      ]
     },
     "execution_count": 15,
     "metadata": {},
     "output_type": "execute_result"
    }
   ],
   "source": [
    "geodb.update_collection('land_use', query=\"raba_id=eq.1300\", values={'d_od': '2000-01-01'})"
   ]
  },
  {
   "cell_type": "code",
   "execution_count": 16,
   "id": "b32cc2e6",
   "metadata": {
    "execution": {
     "iopub.execute_input": "2021-05-11T14:52:39.454278Z",
     "iopub.status.busy": "2021-05-11T14:52:39.453786Z",
     "iopub.status.idle": "2021-05-11T14:52:45.209419Z",
     "shell.execute_reply": "2021-05-11T14:52:45.208884Z"
    },
    "papermill": {
     "duration": 5.778574,
     "end_time": "2021-05-11T14:52:45.209525",
     "exception": false,
     "start_time": "2021-05-11T14:52:39.430951",
     "status": "completed"
    },
    "tags": []
   },
   "outputs": [
    {
     "data": {
      "text/html": [
       "<div>\n",
       "<style scoped>\n",
       "    .dataframe tbody tr th:only-of-type {\n",
       "        vertical-align: middle;\n",
       "    }\n",
       "\n",
       "    .dataframe tbody tr th {\n",
       "        vertical-align: top;\n",
       "    }\n",
       "\n",
       "    .dataframe thead th {\n",
       "        text-align: right;\n",
       "    }\n",
       "</style>\n",
       "<table border=\"1\" class=\"dataframe\">\n",
       "  <thead>\n",
       "    <tr style=\"text-align: right;\">\n",
       "      <th></th>\n",
       "      <th>id</th>\n",
       "      <th>created_at</th>\n",
       "      <th>modified_at</th>\n",
       "      <th>geometry</th>\n",
       "      <th>raba_pid</th>\n",
       "      <th>raba_id</th>\n",
       "      <th>d_od</th>\n",
       "    </tr>\n",
       "  </thead>\n",
       "  <tbody>\n",
       "    <tr>\n",
       "      <th>0</th>\n",
       "      <td>14019</td>\n",
       "      <td>2020-09-29T12:37:37.136218+00:00</td>\n",
       "      <td>2021-05-11T14:52:38.339957+00:00</td>\n",
       "      <td>POLYGON ((455586.504 98506.640, 455570.758 985...</td>\n",
       "      <td>6294574</td>\n",
       "      <td>1300</td>\n",
       "      <td>2000-01-01</td>\n",
       "    </tr>\n",
       "    <tr>\n",
       "      <th>1</th>\n",
       "      <td>17500</td>\n",
       "      <td>2020-09-29T12:37:37.136218+00:00</td>\n",
       "      <td>2021-05-11T14:52:38.339957+00:00</td>\n",
       "      <td>POLYGON ((454279.064 97000.000, 454277.758 969...</td>\n",
       "      <td>4684059</td>\n",
       "      <td>1300</td>\n",
       "      <td>2000-01-01</td>\n",
       "    </tr>\n",
       "    <tr>\n",
       "      <th>2</th>\n",
       "      <td>18687</td>\n",
       "      <td>2020-09-29T12:37:37.136218+00:00</td>\n",
       "      <td>2021-05-11T14:52:38.339957+00:00</td>\n",
       "      <td>POLYGON ((457250.000 97350.271, 457257.420 973...</td>\n",
       "      <td>5996126</td>\n",
       "      <td>1300</td>\n",
       "      <td>2000-01-01</td>\n",
       "    </tr>\n",
       "    <tr>\n",
       "      <th>3</th>\n",
       "      <td>39977</td>\n",
       "      <td>2020-12-01T13:40:18.246639+00:00</td>\n",
       "      <td>2021-05-11T14:52:38.339957+00:00</td>\n",
       "      <td>POLYGON ((462355.376 91003.570, 462362.891 910...</td>\n",
       "      <td>2324928</td>\n",
       "      <td>1300</td>\n",
       "      <td>2000-01-01</td>\n",
       "    </tr>\n",
       "    <tr>\n",
       "      <th>4</th>\n",
       "      <td>49390</td>\n",
       "      <td>2020-12-15T11:01:52.113704+00:00</td>\n",
       "      <td>2021-05-11T14:52:38.339957+00:00</td>\n",
       "      <td>POLYGON ((461167.931 92179.419, 461152.747 921...</td>\n",
       "      <td>6292140</td>\n",
       "      <td>1300</td>\n",
       "      <td>2000-01-01</td>\n",
       "    </tr>\n",
       "    <tr>\n",
       "      <th>...</th>\n",
       "      <td>...</td>\n",
       "      <td>...</td>\n",
       "      <td>...</td>\n",
       "      <td>...</td>\n",
       "      <td>...</td>\n",
       "      <td>...</td>\n",
       "      <td>...</td>\n",
       "    </tr>\n",
       "    <tr>\n",
       "      <th>9840</th>\n",
       "      <td>97915</td>\n",
       "      <td>2021-05-11T13:54:31.276633+00:00</td>\n",
       "      <td>2021-05-11T14:52:38.339957+00:00</td>\n",
       "      <td>POLYGON ((458067.069 99989.370, 458078.176 999...</td>\n",
       "      <td>6185548</td>\n",
       "      <td>1300</td>\n",
       "      <td>2000-01-01</td>\n",
       "    </tr>\n",
       "    <tr>\n",
       "      <th>9841</th>\n",
       "      <td>98004</td>\n",
       "      <td>2021-05-11T13:54:31.276633+00:00</td>\n",
       "      <td>2021-05-11T14:52:38.339957+00:00</td>\n",
       "      <td>POLYGON ((460118.865 91020.360, 460121.357 910...</td>\n",
       "      <td>6220218</td>\n",
       "      <td>1300</td>\n",
       "      <td>2000-01-01</td>\n",
       "    </tr>\n",
       "    <tr>\n",
       "      <th>9842</th>\n",
       "      <td>98085</td>\n",
       "      <td>2021-05-11T13:54:31.276633+00:00</td>\n",
       "      <td>2021-05-11T14:52:38.339957+00:00</td>\n",
       "      <td>POLYGON ((455094.819 91063.303, 455098.945 910...</td>\n",
       "      <td>6213647</td>\n",
       "      <td>1300</td>\n",
       "      <td>2000-01-01</td>\n",
       "    </tr>\n",
       "    <tr>\n",
       "      <th>9843</th>\n",
       "      <td>98060</td>\n",
       "      <td>2021-05-11T13:54:31.276633+00:00</td>\n",
       "      <td>2021-05-11T14:52:38.339957+00:00</td>\n",
       "      <td>POLYGON ((456566.075 100012.840, 456567.401 10...</td>\n",
       "      <td>6213354</td>\n",
       "      <td>1300</td>\n",
       "      <td>2000-01-01</td>\n",
       "    </tr>\n",
       "    <tr>\n",
       "      <th>9844</th>\n",
       "      <td>98068</td>\n",
       "      <td>2021-05-11T13:54:31.276633+00:00</td>\n",
       "      <td>2021-05-11T14:52:38.339957+00:00</td>\n",
       "      <td>POLYGON ((454867.572 90806.124, 454873.251 908...</td>\n",
       "      <td>6216240</td>\n",
       "      <td>1300</td>\n",
       "      <td>2000-01-01</td>\n",
       "    </tr>\n",
       "  </tbody>\n",
       "</table>\n",
       "<p>9845 rows × 7 columns</p>\n",
       "</div>"
      ],
      "text/plain": [
       "         id                        created_at  \\\n",
       "0     14019  2020-09-29T12:37:37.136218+00:00   \n",
       "1     17500  2020-09-29T12:37:37.136218+00:00   \n",
       "2     18687  2020-09-29T12:37:37.136218+00:00   \n",
       "3     39977  2020-12-01T13:40:18.246639+00:00   \n",
       "4     49390  2020-12-15T11:01:52.113704+00:00   \n",
       "...     ...                               ...   \n",
       "9840  97915  2021-05-11T13:54:31.276633+00:00   \n",
       "9841  98004  2021-05-11T13:54:31.276633+00:00   \n",
       "9842  98085  2021-05-11T13:54:31.276633+00:00   \n",
       "9843  98060  2021-05-11T13:54:31.276633+00:00   \n",
       "9844  98068  2021-05-11T13:54:31.276633+00:00   \n",
       "\n",
       "                           modified_at  \\\n",
       "0     2021-05-11T14:52:38.339957+00:00   \n",
       "1     2021-05-11T14:52:38.339957+00:00   \n",
       "2     2021-05-11T14:52:38.339957+00:00   \n",
       "3     2021-05-11T14:52:38.339957+00:00   \n",
       "4     2021-05-11T14:52:38.339957+00:00   \n",
       "...                                ...   \n",
       "9840  2021-05-11T14:52:38.339957+00:00   \n",
       "9841  2021-05-11T14:52:38.339957+00:00   \n",
       "9842  2021-05-11T14:52:38.339957+00:00   \n",
       "9843  2021-05-11T14:52:38.339957+00:00   \n",
       "9844  2021-05-11T14:52:38.339957+00:00   \n",
       "\n",
       "                                               geometry  raba_pid  raba_id  \\\n",
       "0     POLYGON ((455586.504 98506.640, 455570.758 985...   6294574     1300   \n",
       "1     POLYGON ((454279.064 97000.000, 454277.758 969...   4684059     1300   \n",
       "2     POLYGON ((457250.000 97350.271, 457257.420 973...   5996126     1300   \n",
       "3     POLYGON ((462355.376 91003.570, 462362.891 910...   2324928     1300   \n",
       "4     POLYGON ((461167.931 92179.419, 461152.747 921...   6292140     1300   \n",
       "...                                                 ...       ...      ...   \n",
       "9840  POLYGON ((458067.069 99989.370, 458078.176 999...   6185548     1300   \n",
       "9841  POLYGON ((460118.865 91020.360, 460121.357 910...   6220218     1300   \n",
       "9842  POLYGON ((455094.819 91063.303, 455098.945 910...   6213647     1300   \n",
       "9843  POLYGON ((456566.075 100012.840, 456567.401 10...   6213354     1300   \n",
       "9844  POLYGON ((454867.572 90806.124, 454873.251 908...   6216240     1300   \n",
       "\n",
       "            d_od  \n",
       "0     2000-01-01  \n",
       "1     2000-01-01  \n",
       "2     2000-01-01  \n",
       "3     2000-01-01  \n",
       "4     2000-01-01  \n",
       "...          ...  \n",
       "9840  2000-01-01  \n",
       "9841  2000-01-01  \n",
       "9842  2000-01-01  \n",
       "9843  2000-01-01  \n",
       "9844  2000-01-01  \n",
       "\n",
       "[9845 rows x 7 columns]"
      ]
     },
     "execution_count": 16,
     "metadata": {},
     "output_type": "execute_result"
    }
   ],
   "source": [
    "geodb.get_collection('land_use', query=\"raba_id=eq.1300\")"
   ]
  },
  {
   "cell_type": "markdown",
   "id": "3a0f67d3",
   "metadata": {
    "papermill": {
     "duration": 0.023136,
     "end_time": "2021-05-11T14:52:45.252803",
     "exception": false,
     "start_time": "2021-05-11T14:52:45.229667",
     "status": "completed"
    },
    "tags": []
   },
   "source": [
    "### Managing Properties of a Collection"
   ]
  },
  {
   "cell_type": "code",
   "execution_count": 17,
   "id": "c864fbd2",
   "metadata": {
    "execution": {
     "iopub.execute_input": "2021-05-11T14:52:45.293935Z",
     "iopub.status.busy": "2021-05-11T14:52:45.293422Z",
     "iopub.status.idle": "2021-05-11T14:52:45.972967Z",
     "shell.execute_reply": "2021-05-11T14:52:45.972525Z"
    },
    "papermill": {
     "duration": 0.701402,
     "end_time": "2021-05-11T14:52:45.973076",
     "exception": false,
     "start_time": "2021-05-11T14:52:45.271674",
     "status": "completed"
    },
    "tags": []
   },
   "outputs": [
    {
     "data": {
      "text/html": [
       "<div>\n",
       "<style scoped>\n",
       "    .dataframe tbody tr th:only-of-type {\n",
       "        vertical-align: middle;\n",
       "    }\n",
       "\n",
       "    .dataframe tbody tr th {\n",
       "        vertical-align: top;\n",
       "    }\n",
       "\n",
       "    .dataframe thead th {\n",
       "        text-align: right;\n",
       "    }\n",
       "</style>\n",
       "<table border=\"1\" class=\"dataframe\">\n",
       "  <thead>\n",
       "    <tr style=\"text-align: right;\">\n",
       "      <th></th>\n",
       "      <th>owner</th>\n",
       "      <th>database</th>\n",
       "      <th>table_name</th>\n",
       "    </tr>\n",
       "  </thead>\n",
       "  <tbody>\n",
       "    <tr>\n",
       "      <th>0</th>\n",
       "      <td>geodb_0b01bfcd-2d09-46f8-84e8-cb5720fba14c</td>\n",
       "      <td>geodb_0b01bfcd-2d09-46f8-84e8-cb5720fba14c</td>\n",
       "      <td>delineated_parcels_s</td>\n",
       "    </tr>\n",
       "    <tr>\n",
       "      <th>1</th>\n",
       "      <td>geodb_0b01bfcd-2d09-46f8-84e8-cb5720fba14c</td>\n",
       "      <td>geodb_0b01bfcd-2d09-46f8-84e8-cb5720fba14c</td>\n",
       "      <td>test_batic</td>\n",
       "    </tr>\n",
       "    <tr>\n",
       "      <th>2</th>\n",
       "      <td>geodb_0b01bfcd-2d09-46f8-84e8-cb5720fba14c</td>\n",
       "      <td>phi_week</td>\n",
       "      <td>alster</td>\n",
       "    </tr>\n",
       "    <tr>\n",
       "      <th>3</th>\n",
       "      <td>geodb_0b01bfcd-2d09-46f8-84e8-cb5720fba14c</td>\n",
       "      <td>phi_week</td>\n",
       "      <td>gran_chaco</td>\n",
       "    </tr>\n",
       "    <tr>\n",
       "      <th>4</th>\n",
       "      <td>geodb_0d6df427-8c09-41b9-abc9-64ce13a68125</td>\n",
       "      <td>geodb_0d6df427-8c09-41b9-abc9-64ce13a68125</td>\n",
       "      <td>land_use</td>\n",
       "    </tr>\n",
       "    <tr>\n",
       "      <th>...</th>\n",
       "      <td>...</td>\n",
       "      <td>...</td>\n",
       "      <td>...</td>\n",
       "    </tr>\n",
       "    <tr>\n",
       "      <th>862</th>\n",
       "      <td>geodb_lpis_iacs_admin</td>\n",
       "      <td>anja</td>\n",
       "      <td>N4a</td>\n",
       "    </tr>\n",
       "    <tr>\n",
       "      <th>863</th>\n",
       "      <td>geodb_lpis_iacs_admin</td>\n",
       "      <td>anja</td>\n",
       "      <td>race_indicators</td>\n",
       "    </tr>\n",
       "    <tr>\n",
       "      <th>864</th>\n",
       "      <td>geodb_lpis_iacs_admin</td>\n",
       "      <td>lpis_iacs</td>\n",
       "      <td>land_use_slo</td>\n",
       "    </tr>\n",
       "    <tr>\n",
       "      <th>865</th>\n",
       "      <td>geodb_lpis_iacs_admin</td>\n",
       "      <td>lpis_iacs</td>\n",
       "      <td>lpis_aut</td>\n",
       "    </tr>\n",
       "    <tr>\n",
       "      <th>866</th>\n",
       "      <td>geodb_lpis_iacs_admin</td>\n",
       "      <td>lpis_iacs</td>\n",
       "      <td>lpis_slo</td>\n",
       "    </tr>\n",
       "  </tbody>\n",
       "</table>\n",
       "<p>867 rows × 3 columns</p>\n",
       "</div>"
      ],
      "text/plain": [
       "                                          owner  \\\n",
       "0    geodb_0b01bfcd-2d09-46f8-84e8-cb5720fba14c   \n",
       "1    geodb_0b01bfcd-2d09-46f8-84e8-cb5720fba14c   \n",
       "2    geodb_0b01bfcd-2d09-46f8-84e8-cb5720fba14c   \n",
       "3    geodb_0b01bfcd-2d09-46f8-84e8-cb5720fba14c   \n",
       "4    geodb_0d6df427-8c09-41b9-abc9-64ce13a68125   \n",
       "..                                          ...   \n",
       "862                       geodb_lpis_iacs_admin   \n",
       "863                       geodb_lpis_iacs_admin   \n",
       "864                       geodb_lpis_iacs_admin   \n",
       "865                       geodb_lpis_iacs_admin   \n",
       "866                       geodb_lpis_iacs_admin   \n",
       "\n",
       "                                       database            table_name  \n",
       "0    geodb_0b01bfcd-2d09-46f8-84e8-cb5720fba14c  delineated_parcels_s  \n",
       "1    geodb_0b01bfcd-2d09-46f8-84e8-cb5720fba14c            test_batic  \n",
       "2                                      phi_week                alster  \n",
       "3                                      phi_week            gran_chaco  \n",
       "4    geodb_0d6df427-8c09-41b9-abc9-64ce13a68125              land_use  \n",
       "..                                          ...                   ...  \n",
       "862                                        anja                   N4a  \n",
       "863                                        anja       race_indicators  \n",
       "864                                   lpis_iacs          land_use_slo  \n",
       "865                                   lpis_iacs              lpis_aut  \n",
       "866                                   lpis_iacs              lpis_slo  \n",
       "\n",
       "[867 rows x 3 columns]"
      ]
     },
     "execution_count": 17,
     "metadata": {},
     "output_type": "execute_result"
    }
   ],
   "source": [
    "geodb.get_my_collections()"
   ]
  },
  {
   "cell_type": "code",
   "execution_count": 18,
   "id": "8d33a09b",
   "metadata": {
    "execution": {
     "iopub.execute_input": "2021-05-11T14:52:46.015873Z",
     "iopub.status.busy": "2021-05-11T14:52:46.014455Z",
     "iopub.status.idle": "2021-05-11T14:52:47.584713Z",
     "shell.execute_reply": "2021-05-11T14:52:47.584184Z"
    },
    "papermill": {
     "duration": 1.592171,
     "end_time": "2021-05-11T14:52:47.584814",
     "exception": false,
     "start_time": "2021-05-11T14:52:45.992643",
     "status": "completed"
    },
    "tags": []
   },
   "outputs": [
    {
     "data": {
      "text/html": [
       "<div>\n",
       "<style scoped>\n",
       "    .dataframe tbody tr th:only-of-type {\n",
       "        vertical-align: middle;\n",
       "    }\n",
       "\n",
       "    .dataframe tbody tr th {\n",
       "        vertical-align: top;\n",
       "    }\n",
       "\n",
       "    .dataframe thead th {\n",
       "        text-align: right;\n",
       "    }\n",
       "</style>\n",
       "<table border=\"1\" class=\"dataframe\">\n",
       "  <thead>\n",
       "    <tr style=\"text-align: right;\">\n",
       "      <th></th>\n",
       "      <th>table_name</th>\n",
       "      <th>column_name</th>\n",
       "      <th>data_type</th>\n",
       "    </tr>\n",
       "  </thead>\n",
       "  <tbody>\n",
       "  </tbody>\n",
       "</table>\n",
       "</div>"
      ],
      "text/plain": [
       "Empty DataFrame\n",
       "Columns: [table_name, column_name, data_type]\n",
       "Index: []"
      ]
     },
     "execution_count": 18,
     "metadata": {},
     "output_type": "execute_result"
    }
   ],
   "source": [
    "geodb.get_properties('land_use')"
   ]
  },
  {
   "cell_type": "code",
   "execution_count": 19,
   "id": "41bf8173",
   "metadata": {
    "execution": {
     "iopub.execute_input": "2021-05-11T14:52:47.627560Z",
     "iopub.status.busy": "2021-05-11T14:52:47.626778Z",
     "iopub.status.idle": "2021-05-11T14:52:49.210801Z",
     "shell.execute_reply": "2021-05-11T14:52:49.211218Z"
    },
    "papermill": {
     "duration": 1.606622,
     "end_time": "2021-05-11T14:52:49.211358",
     "exception": false,
     "start_time": "2021-05-11T14:52:47.604736",
     "status": "completed"
    },
    "tags": []
   },
   "outputs": [
    {
     "data": {
      "text/plain": [
       "Properties added"
      ]
     },
     "execution_count": 19,
     "metadata": {},
     "output_type": "execute_result"
    }
   ],
   "source": [
    "geodb.add_property('land_use', \"test_prop\", 'integer')"
   ]
  },
  {
   "cell_type": "code",
   "execution_count": 20,
   "id": "f95a80bc",
   "metadata": {
    "execution": {
     "iopub.execute_input": "2021-05-11T14:52:49.254478Z",
     "iopub.status.busy": "2021-05-11T14:52:49.253945Z",
     "iopub.status.idle": "2021-05-11T14:52:50.720349Z",
     "shell.execute_reply": "2021-05-11T14:52:50.720744Z"
    },
    "papermill": {
     "duration": 1.489172,
     "end_time": "2021-05-11T14:52:50.720877",
     "exception": false,
     "start_time": "2021-05-11T14:52:49.231705",
     "status": "completed"
    },
    "tags": []
   },
   "outputs": [
    {
     "data": {
      "text/html": [
       "<div>\n",
       "<style scoped>\n",
       "    .dataframe tbody tr th:only-of-type {\n",
       "        vertical-align: middle;\n",
       "    }\n",
       "\n",
       "    .dataframe tbody tr th {\n",
       "        vertical-align: top;\n",
       "    }\n",
       "\n",
       "    .dataframe thead th {\n",
       "        text-align: right;\n",
       "    }\n",
       "</style>\n",
       "<table border=\"1\" class=\"dataframe\">\n",
       "  <thead>\n",
       "    <tr style=\"text-align: right;\">\n",
       "      <th></th>\n",
       "      <th>table_name</th>\n",
       "      <th>column_name</th>\n",
       "      <th>data_type</th>\n",
       "    </tr>\n",
       "  </thead>\n",
       "  <tbody>\n",
       "  </tbody>\n",
       "</table>\n",
       "</div>"
      ],
      "text/plain": [
       "Empty DataFrame\n",
       "Columns: [table_name, column_name, data_type]\n",
       "Index: []"
      ]
     },
     "execution_count": 20,
     "metadata": {},
     "output_type": "execute_result"
    }
   ],
   "source": [
    "geodb.get_properties('land_use')"
   ]
  },
  {
   "cell_type": "code",
   "execution_count": 21,
   "id": "489c6225",
   "metadata": {
    "execution": {
     "iopub.execute_input": "2021-05-11T14:52:50.766797Z",
     "iopub.status.busy": "2021-05-11T14:52:50.765429Z",
     "iopub.status.idle": "2021-05-11T14:52:55.619332Z",
     "shell.execute_reply": "2021-05-11T14:52:55.619707Z"
    },
    "papermill": {
     "duration": 4.877474,
     "end_time": "2021-05-11T14:52:55.619836",
     "exception": false,
     "start_time": "2021-05-11T14:52:50.742362",
     "status": "completed"
    },
    "tags": []
   },
   "outputs": [
    {
     "data": {
      "text/plain": [
       "Properties ['test_prop'] dropped from geodb_418dfeac-15f0-4606-9edb-fd9eb722bf04_land_use"
      ]
     },
     "execution_count": 21,
     "metadata": {},
     "output_type": "execute_result"
    }
   ],
   "source": [
    "geodb.drop_property('land_use', 'test_prop')"
   ]
  },
  {
   "cell_type": "code",
   "execution_count": 22,
   "id": "29ea7224",
   "metadata": {
    "execution": {
     "iopub.execute_input": "2021-05-11T14:52:55.667975Z",
     "iopub.status.busy": "2021-05-11T14:52:55.665872Z",
     "iopub.status.idle": "2021-05-11T14:52:57.098329Z",
     "shell.execute_reply": "2021-05-11T14:52:57.097736Z"
    },
    "papermill": {
     "duration": 1.458116,
     "end_time": "2021-05-11T14:52:57.098445",
     "exception": false,
     "start_time": "2021-05-11T14:52:55.640329",
     "status": "completed"
    },
    "tags": []
   },
   "outputs": [
    {
     "data": {
      "text/html": [
       "<div>\n",
       "<style scoped>\n",
       "    .dataframe tbody tr th:only-of-type {\n",
       "        vertical-align: middle;\n",
       "    }\n",
       "\n",
       "    .dataframe tbody tr th {\n",
       "        vertical-align: top;\n",
       "    }\n",
       "\n",
       "    .dataframe thead th {\n",
       "        text-align: right;\n",
       "    }\n",
       "</style>\n",
       "<table border=\"1\" class=\"dataframe\">\n",
       "  <thead>\n",
       "    <tr style=\"text-align: right;\">\n",
       "      <th></th>\n",
       "      <th>table_name</th>\n",
       "      <th>column_name</th>\n",
       "      <th>data_type</th>\n",
       "    </tr>\n",
       "  </thead>\n",
       "  <tbody>\n",
       "  </tbody>\n",
       "</table>\n",
       "</div>"
      ],
      "text/plain": [
       "Empty DataFrame\n",
       "Columns: [table_name, column_name, data_type]\n",
       "Index: []"
      ]
     },
     "execution_count": 22,
     "metadata": {},
     "output_type": "execute_result"
    }
   ],
   "source": [
    "geodb.get_properties('land_use')"
   ]
  },
  {
   "cell_type": "code",
   "execution_count": 23,
   "id": "5ac6b44c",
   "metadata": {
    "execution": {
     "iopub.execute_input": "2021-05-11T14:52:57.144044Z",
     "iopub.status.busy": "2021-05-11T14:52:57.143525Z",
     "iopub.status.idle": "2021-05-11T14:52:58.738704Z",
     "shell.execute_reply": "2021-05-11T14:52:58.739058Z"
    },
    "papermill": {
     "duration": 1.619738,
     "end_time": "2021-05-11T14:52:58.739220",
     "exception": false,
     "start_time": "2021-05-11T14:52:57.119482",
     "status": "completed"
    },
    "tags": []
   },
   "outputs": [
    {
     "data": {
      "text/plain": [
       "Properties added"
      ]
     },
     "execution_count": 23,
     "metadata": {},
     "output_type": "execute_result"
    }
   ],
   "source": [
    "geodb.add_properties('land_use', properties={'test1': 'integer', 'test2': 'date'})"
   ]
  },
  {
   "cell_type": "code",
   "execution_count": 24,
   "id": "ff58d13e",
   "metadata": {
    "execution": {
     "iopub.execute_input": "2021-05-11T14:52:58.786680Z",
     "iopub.status.busy": "2021-05-11T14:52:58.786183Z",
     "iopub.status.idle": "2021-05-11T14:53:00.332526Z",
     "shell.execute_reply": "2021-05-11T14:53:00.332007Z"
    },
    "papermill": {
     "duration": 1.570765,
     "end_time": "2021-05-11T14:53:00.332629",
     "exception": false,
     "start_time": "2021-05-11T14:52:58.761864",
     "status": "completed"
    },
    "tags": []
   },
   "outputs": [
    {
     "data": {
      "text/html": [
       "<div>\n",
       "<style scoped>\n",
       "    .dataframe tbody tr th:only-of-type {\n",
       "        vertical-align: middle;\n",
       "    }\n",
       "\n",
       "    .dataframe tbody tr th {\n",
       "        vertical-align: top;\n",
       "    }\n",
       "\n",
       "    .dataframe thead th {\n",
       "        text-align: right;\n",
       "    }\n",
       "</style>\n",
       "<table border=\"1\" class=\"dataframe\">\n",
       "  <thead>\n",
       "    <tr style=\"text-align: right;\">\n",
       "      <th></th>\n",
       "      <th>table_name</th>\n",
       "      <th>column_name</th>\n",
       "      <th>data_type</th>\n",
       "    </tr>\n",
       "  </thead>\n",
       "  <tbody>\n",
       "  </tbody>\n",
       "</table>\n",
       "</div>"
      ],
      "text/plain": [
       "Empty DataFrame\n",
       "Columns: [table_name, column_name, data_type]\n",
       "Index: []"
      ]
     },
     "execution_count": 24,
     "metadata": {},
     "output_type": "execute_result"
    }
   ],
   "source": [
    "geodb.get_properties('land_use')"
   ]
  },
  {
   "cell_type": "code",
   "execution_count": 25,
   "id": "d78c16c0",
   "metadata": {
    "execution": {
     "iopub.execute_input": "2021-05-11T14:53:00.378732Z",
     "iopub.status.busy": "2021-05-11T14:53:00.378242Z",
     "iopub.status.idle": "2021-05-11T14:53:06.573140Z",
     "shell.execute_reply": "2021-05-11T14:53:06.572623Z"
    },
    "papermill": {
     "duration": 6.219793,
     "end_time": "2021-05-11T14:53:06.573242",
     "exception": false,
     "start_time": "2021-05-11T14:53:00.353449",
     "status": "completed"
    },
    "tags": []
   },
   "outputs": [
    {
     "data": {
      "text/plain": [
       "Properties ['test1', 'test2'] dropped from geodb_418dfeac-15f0-4606-9edb-fd9eb722bf04_land_use"
      ]
     },
     "execution_count": 25,
     "metadata": {},
     "output_type": "execute_result"
    }
   ],
   "source": [
    "geodb.drop_properties('land_use', properties=['test1', 'test2'])"
   ]
  },
  {
   "cell_type": "code",
   "execution_count": 26,
   "id": "f065e1cd",
   "metadata": {
    "execution": {
     "iopub.execute_input": "2021-05-11T14:53:06.619659Z",
     "iopub.status.busy": "2021-05-11T14:53:06.618078Z",
     "iopub.status.idle": "2021-05-11T14:53:08.265952Z",
     "shell.execute_reply": "2021-05-11T14:53:08.265431Z"
    },
    "papermill": {
     "duration": 1.67148,
     "end_time": "2021-05-11T14:53:08.266065",
     "exception": false,
     "start_time": "2021-05-11T14:53:06.594585",
     "status": "completed"
    },
    "tags": []
   },
   "outputs": [
    {
     "data": {
      "text/html": [
       "<div>\n",
       "<style scoped>\n",
       "    .dataframe tbody tr th:only-of-type {\n",
       "        vertical-align: middle;\n",
       "    }\n",
       "\n",
       "    .dataframe tbody tr th {\n",
       "        vertical-align: top;\n",
       "    }\n",
       "\n",
       "    .dataframe thead th {\n",
       "        text-align: right;\n",
       "    }\n",
       "</style>\n",
       "<table border=\"1\" class=\"dataframe\">\n",
       "  <thead>\n",
       "    <tr style=\"text-align: right;\">\n",
       "      <th></th>\n",
       "      <th>table_name</th>\n",
       "      <th>column_name</th>\n",
       "      <th>data_type</th>\n",
       "    </tr>\n",
       "  </thead>\n",
       "  <tbody>\n",
       "  </tbody>\n",
       "</table>\n",
       "</div>"
      ],
      "text/plain": [
       "Empty DataFrame\n",
       "Columns: [table_name, column_name, data_type]\n",
       "Index: []"
      ]
     },
     "execution_count": 26,
     "metadata": {},
     "output_type": "execute_result"
    }
   ],
   "source": [
    "geodb.get_properties('land_use')"
   ]
  },
  {
   "cell_type": "code",
   "execution_count": 27,
   "id": "12bba166",
   "metadata": {
    "execution": {
     "iopub.execute_input": "2021-05-11T14:53:08.311729Z",
     "iopub.status.busy": "2021-05-11T14:53:08.311157Z",
     "iopub.status.idle": "2021-05-11T14:53:08.313300Z",
     "shell.execute_reply": "2021-05-11T14:53:08.312821Z"
    },
    "papermill": {
     "duration": 0.025839,
     "end_time": "2021-05-11T14:53:08.313395",
     "exception": false,
     "start_time": "2021-05-11T14:53:08.287556",
     "status": "completed"
    },
    "tags": []
   },
   "outputs": [],
   "source": [
    "#geodb.drop_collection('land_use')"
   ]
  },
  {
   "cell_type": "code",
   "execution_count": null,
   "id": "93e62f0f",
   "metadata": {
    "papermill": {
     "duration": 0.020909,
     "end_time": "2021-05-11T14:53:08.355795",
     "exception": false,
     "start_time": "2021-05-11T14:53:08.334886",
     "status": "completed"
    },
    "tags": []
   },
   "outputs": [],
   "source": []
  }
 ],
 "metadata": {
  "kernelspec": {
   "display_name": "Python 3",
   "language": "python",
   "name": "python3"
  },
  "language_info": {
   "codemirror_mode": {
    "name": "ipython",
    "version": 3
   },
   "file_extension": ".py",
   "mimetype": "text/x-python",
   "name": "python",
   "nbconvert_exporter": "python",
   "pygments_lexer": "ipython3",
   "version": "3.8.10"
  },
  "papermill": {
   "duration": 71.872324,
   "end_time": "2021-05-11T14:53:08.681622",
   "environment_variables": {},
   "exception": null,
   "input_path": "/tmp/tmp4vn1vh86",
   "output_path": "/tmp/cur_notebook.ipynb",
   "parameters": {},
   "start_time": "2021-05-11T14:51:56.809298",
   "version": "2.1.2"
  },
  "properties": {
   "description": "Euro Data Cube GeoDB: Manage Datasets",
   "id": "geodb-manage",
   "license": null,
   "name": "GeoDB: Manage Datasets",
   "requirements": [
    "eurodatacube-geodb"
   ],
   "tags": [
    "Getting started",
    "GeoDB"
   ],
   "version": "0.2"
  },
  "pycharm": {
   "stem_cell": {
    "cell_type": "raw",
    "metadata": {
     "collapsed": false
    },
    "source": []
   }
  }
 },
 "nbformat": 4,
 "nbformat_minor": 5
}