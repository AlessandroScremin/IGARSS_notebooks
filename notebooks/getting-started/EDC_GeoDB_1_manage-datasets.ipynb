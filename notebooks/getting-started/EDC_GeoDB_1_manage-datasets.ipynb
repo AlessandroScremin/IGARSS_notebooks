{
 "cells": [
  {
   "cell_type": "code",
   "execution_count": 1,
   "metadata": {
    "execution": {
     "iopub.execute_input": "2020-08-31T12:12:08.140703Z",
     "iopub.status.busy": "2020-08-31T12:12:08.140013Z",
     "iopub.status.idle": "2020-08-31T12:12:08.307373Z",
     "shell.execute_reply": "2020-08-31T12:12:08.306717Z"
    },
    "papermill": {
     "duration": 0.190503,
     "end_time": "2020-08-31T12:12:08.307662",
     "exception": false,
     "start_time": "2020-08-31T12:12:08.117159",
     "status": "completed"
    },
    "tags": []
   },
   "outputs": [
    {
     "data": {
      "text/markdown": [
       "\n",
       "***Notebook Title***  \n",
       "GeoDB: Manage Datasets\n",
       "\n",
       "***Notebook Description***  \n",
       "Euro Data Cube GeoDB: Manage Datasets\n",
       "\n",
       "\n",
       "***Notebook Dependencies***  \n",
       "This notebook requires an active subscription to:\n",
       "* EDC GeoDB\n"
      ],
      "text/plain": [
       "<IPython.core.display.Markdown object>"
      ]
     },
     "metadata": {},
     "output_type": "display_data"
    }
   ],
   "source": [
    "from edc import print_info \n",
    "print_info(\"geodb-manage\")"
   ]
  },
  {
   "cell_type": "code",
   "execution_count": 2,
   "metadata": {
    "execution": {
     "iopub.execute_input": "2020-08-31T12:12:08.351311Z",
     "iopub.status.busy": "2020-08-31T12:12:08.350642Z",
     "iopub.status.idle": "2020-08-31T12:12:08.353807Z",
     "shell.execute_reply": "2020-08-31T12:12:08.353169Z"
    },
    "papermill": {
     "duration": 0.026697,
     "end_time": "2020-08-31T12:12:08.353923",
     "exception": false,
     "start_time": "2020-08-31T12:12:08.327226",
     "status": "completed"
    },
    "tags": []
   },
   "outputs": [
    {
     "data": {
      "text/markdown": [
       "API credentials have automatically been injected for your active subscriptions.  \n",
       "The following environment variables are now available:\n",
       "* `GEODB_API_SERVER_PORT`, `GEODB_API_SERVER_URL`, `GEODB_AUTH_AUD`, `GEODB_AUTH_CLIENT_ID`, `GEODB_AUTH_CLIENT_SECRET`, `GEODB_AUTH_DOMAIN`\n",
       "\n",
       "The following additional environment variables have been loaded from `~/custom.env`:\n",
       "* `AWS_BUCKET`\n",
       "* `DAPA_URL`\n",
       "* `DB_HOST`, `DB_NAME`, `DB_PASSWORD`, `DB_USER`\n",
       "* `OGC_EDC_URL`\n",
       "* `REFERENCE_DATA`\n"
      ],
      "text/plain": [
       "<IPython.core.display.Markdown object>"
      ]
     },
     "metadata": {},
     "output_type": "display_data"
    }
   ],
   "source": [
    "from edc import setup_environment_variables\n",
    "setup_environment_variables()"
   ]
  },
  {
   "cell_type": "code",
   "execution_count": 3,
   "metadata": {
    "execution": {
     "iopub.execute_input": "2020-08-31T12:12:08.397558Z",
     "iopub.status.busy": "2020-08-31T12:12:08.396777Z",
     "iopub.status.idle": "2020-08-31T12:12:08.400547Z",
     "shell.execute_reply": "2020-08-31T12:12:08.399872Z"
    },
    "papermill": {
     "duration": 0.02709,
     "end_time": "2020-08-31T12:12:08.400668",
     "exception": false,
     "start_time": "2020-08-31T12:12:08.373578",
     "status": "completed"
    },
    "tags": []
   },
   "outputs": [
    {
     "data": {
      "text/markdown": [
       "This notebook is compatible with this base image version (user-0.19.6)."
      ],
      "text/plain": [
       "<IPython.core.display.Markdown object>"
      ]
     },
     "metadata": {},
     "output_type": "display_data"
    }
   ],
   "source": [
    "from edc import check_compatibility\n",
    "check_compatibility(\"user-0.19.6\")"
   ]
  },
  {
   "cell_type": "markdown",
   "metadata": {
    "papermill": {
     "duration": 0.019811,
     "end_time": "2020-08-31T12:12:08.440623",
     "exception": false,
     "start_time": "2020-08-31T12:12:08.420812",
     "status": "completed"
    },
    "tags": []
   },
   "source": [
    "## Manage Collections in your GeoDB\n",
    "\n"
   ]
  },
  {
   "cell_type": "markdown",
   "metadata": {
    "papermill": {
     "duration": 0.027656,
     "end_time": "2020-08-31T12:12:08.488081",
     "exception": false,
     "start_time": "2020-08-31T12:12:08.460425",
     "status": "completed"
    },
    "tags": []
   },
   "source": [
    "### Connecting to the GeoDB"
   ]
  },
  {
   "cell_type": "code",
   "execution_count": 4,
   "metadata": {
    "execution": {
     "iopub.execute_input": "2020-08-31T12:12:08.533340Z",
     "iopub.status.busy": "2020-08-31T12:12:08.532674Z",
     "iopub.status.idle": "2020-08-31T12:12:09.073004Z",
     "shell.execute_reply": "2020-08-31T12:12:09.072334Z"
    },
    "papermill": {
     "duration": 0.564504,
     "end_time": "2020-08-31T12:12:09.073135",
     "exception": false,
     "start_time": "2020-08-31T12:12:08.508631",
     "status": "completed"
    },
    "tags": []
   },
   "outputs": [],
   "source": [
    "from xcube_geodb.core.geodb import GeoDBClient"
   ]
  },
  {
   "cell_type": "code",
   "execution_count": 5,
   "metadata": {
    "execution": {
     "iopub.execute_input": "2020-08-31T12:12:09.117758Z",
     "iopub.status.busy": "2020-08-31T12:12:09.116822Z",
     "iopub.status.idle": "2020-08-31T12:12:09.120152Z",
     "shell.execute_reply": "2020-08-31T12:12:09.119580Z"
    },
    "papermill": {
     "duration": 0.026958,
     "end_time": "2020-08-31T12:12:09.120272",
     "exception": false,
     "start_time": "2020-08-31T12:12:09.093314",
     "status": "completed"
    },
    "tags": []
   },
   "outputs": [],
   "source": [
    "geodb = GeoDBClient()"
   ]
  },
  {
   "cell_type": "code",
   "execution_count": 6,
   "metadata": {
    "execution": {
     "iopub.execute_input": "2020-08-31T12:12:09.166577Z",
     "iopub.status.busy": "2020-08-31T12:12:09.163614Z",
     "iopub.status.idle": "2020-08-31T12:12:09.987070Z",
     "shell.execute_reply": "2020-08-31T12:12:09.986489Z"
    },
    "papermill": {
     "duration": 0.846829,
     "end_time": "2020-08-31T12:12:09.987242",
     "exception": false,
     "start_time": "2020-08-31T12:12:09.140413",
     "status": "completed"
    },
    "tags": []
   },
   "outputs": [
    {
     "data": {
      "text/plain": [
       "'geodb_418dfeac-15f0-4606-9edb-fd9eb722bf04'"
      ]
     },
     "execution_count": 6,
     "metadata": {},
     "output_type": "execute_result"
    }
   ],
   "source": [
    "# If you are logged in, this will tell you what account the system currently uses\n",
    "geodb.whoami"
   ]
  },
  {
   "cell_type": "code",
   "execution_count": 7,
   "metadata": {
    "execution": {
     "iopub.execute_input": "2020-08-31T12:12:10.040688Z",
     "iopub.status.busy": "2020-08-31T12:12:10.039958Z",
     "iopub.status.idle": "2020-08-31T12:12:10.208848Z",
     "shell.execute_reply": "2020-08-31T12:12:10.208250Z"
    },
    "papermill": {
     "duration": 0.198569,
     "end_time": "2020-08-31T12:12:10.209006",
     "exception": false,
     "start_time": "2020-08-31T12:12:10.010437",
     "status": "completed"
    },
    "tags": []
   },
   "outputs": [
    {
     "data": {
      "text/html": [
       "<div>\n",
       "<style scoped>\n",
       "    .dataframe tbody tr th:only-of-type {\n",
       "        vertical-align: middle;\n",
       "    }\n",
       "\n",
       "    .dataframe tbody tr th {\n",
       "        vertical-align: top;\n",
       "    }\n",
       "\n",
       "    .dataframe thead th {\n",
       "        text-align: right;\n",
       "    }\n",
       "</style>\n",
       "<table border=\"1\" class=\"dataframe\">\n",
       "  <thead>\n",
       "    <tr style=\"text-align: right;\">\n",
       "      <th></th>\n",
       "      <th>table_name</th>\n",
       "    </tr>\n",
       "  </thead>\n",
       "  <tbody>\n",
       "  </tbody>\n",
       "</table>\n",
       "</div>"
      ],
      "text/plain": [
       "Empty DataFrame\n",
       "Columns: [table_name]\n",
       "Index: []"
      ]
     },
     "execution_count": 7,
     "metadata": {},
     "output_type": "execute_result"
    }
   ],
   "source": [
    "# Lets get already existing collections\n",
    "ds = geodb.get_my_collections()\n",
    "ds"
   ]
  },
  {
   "cell_type": "markdown",
   "metadata": {
    "papermill": {
     "duration": 0.021129,
     "end_time": "2020-08-31T12:12:10.251831",
     "exception": false,
     "start_time": "2020-08-31T12:12:10.230702",
     "status": "completed"
    },
    "tags": []
   },
   "source": [
    "### Creating collections\n",
    "\n",
    "Once the connection has been established you will be able to create a collection. The collection will contain standard properties (fields) plus custom properties\n",
    "which you can add at your disgretion. Please use [PostGreSQL type definitions](https://www.postgresql.org/docs/11/datatype.html). We recommend stying simple with\n",
    "your data types as we have not tested every single type."
   ]
  },
  {
   "cell_type": "code",
   "execution_count": 8,
   "metadata": {
    "execution": {
     "iopub.execute_input": "2020-08-31T12:12:10.301577Z",
     "iopub.status.busy": "2020-08-31T12:12:10.300816Z",
     "iopub.status.idle": "2020-08-31T12:12:10.811792Z",
     "shell.execute_reply": "2020-08-31T12:12:10.810994Z"
    },
    "papermill": {
     "duration": 0.539317,
     "end_time": "2020-08-31T12:12:10.811978",
     "exception": false,
     "start_time": "2020-08-31T12:12:10.272661",
     "status": "completed"
    },
    "tags": []
   },
   "outputs": [
    {
     "data": {
      "text/plain": [
       "{'collections': {'geodb_418dfeac-15f0-4606-9edb-fd9eb722bf04_land_use': {'crs': 3794,\n",
       "                                                                         'properties': {'D_OD': 'date',\n",
       "                                                                                        'RABA_ID': 'float',\n",
       "                                                                                        'RABA_PID': 'float'}}}}"
      ]
     },
     "execution_count": 8,
     "metadata": {},
     "output_type": "execute_result"
    }
   ],
   "source": [
    "# geodb.drop_collection('land_use')\n",
    "\n",
    "# Have a look at fiona feature schema\n",
    "collections = {\n",
    "        \"land_use\": \n",
    "        {\n",
    "            \"crs\": 3794,\n",
    "            \"properties\": \n",
    "            {\n",
    "                \"RABA_PID\": \"float\", \n",
    "                \"RABA_ID\": \"float\", \n",
    "                \"D_OD\": \"date\"\n",
    "            }\n",
    "        }\n",
    "    }\n",
    "\n",
    "\n",
    "geodb.create_collections(collections)"
   ]
  },
  {
   "cell_type": "code",
   "execution_count": 9,
   "metadata": {
    "execution": {
     "iopub.execute_input": "2020-08-31T12:12:10.862974Z",
     "iopub.status.busy": "2020-08-31T12:12:10.862253Z",
     "iopub.status.idle": "2020-08-31T12:12:11.021584Z",
     "shell.execute_reply": "2020-08-31T12:12:11.020924Z"
    },
    "papermill": {
     "duration": 0.187658,
     "end_time": "2020-08-31T12:12:11.021719",
     "exception": false,
     "start_time": "2020-08-31T12:12:10.834061",
     "status": "completed"
    },
    "tags": []
   },
   "outputs": [
    {
     "data": {
      "text/html": [
       "<div>\n",
       "<style scoped>\n",
       "    .dataframe tbody tr th:only-of-type {\n",
       "        vertical-align: middle;\n",
       "    }\n",
       "\n",
       "    .dataframe tbody tr th {\n",
       "        vertical-align: top;\n",
       "    }\n",
       "\n",
       "    .dataframe thead th {\n",
       "        text-align: right;\n",
       "    }\n",
       "</style>\n",
       "<table border=\"1\" class=\"dataframe\">\n",
       "  <thead>\n",
       "    <tr style=\"text-align: right;\">\n",
       "      <th></th>\n",
       "      <th>table_name</th>\n",
       "    </tr>\n",
       "  </thead>\n",
       "  <tbody>\n",
       "    <tr>\n",
       "      <th>0</th>\n",
       "      <td>land_use</td>\n",
       "    </tr>\n",
       "  </tbody>\n",
       "</table>\n",
       "</div>"
      ],
      "text/plain": [
       "  table_name\n",
       "0   land_use"
      ]
     },
     "execution_count": 9,
     "metadata": {},
     "output_type": "execute_result"
    }
   ],
   "source": [
    "ds = geodb.get_my_collections()\n",
    "ds"
   ]
  },
  {
   "cell_type": "markdown",
   "metadata": {
    "papermill": {
     "duration": 0.022696,
     "end_time": "2020-08-31T12:12:11.067207",
     "exception": false,
     "start_time": "2020-08-31T12:12:11.044511",
     "status": "completed"
    },
    "tags": []
   },
   "source": [
    "### Loading data into a dataset\n",
    "\n",
    "Once the table has been created, you can load data into the dataset. The example below loads a shapefile. The attributes of the shapefile correspond to the dataset's properties.\n"
   ]
  },
  {
   "cell_type": "code",
   "execution_count": 10,
   "metadata": {
    "execution": {
     "iopub.execute_input": "2020-08-31T12:12:11.209592Z",
     "iopub.status.busy": "2020-08-31T12:12:11.196246Z",
     "iopub.status.idle": "2020-08-31T12:12:11.822833Z",
     "shell.execute_reply": "2020-08-31T12:12:11.822153Z"
    },
    "papermill": {
     "duration": 0.732708,
     "end_time": "2020-08-31T12:12:11.822956",
     "exception": false,
     "start_time": "2020-08-31T12:12:11.090248",
     "status": "completed"
    },
    "tags": []
   },
   "outputs": [
    {
     "data": {
      "text/html": [
       "<div>\n",
       "<style scoped>\n",
       "    .dataframe tbody tr th:only-of-type {\n",
       "        vertical-align: middle;\n",
       "    }\n",
       "\n",
       "    .dataframe tbody tr th {\n",
       "        vertical-align: top;\n",
       "    }\n",
       "\n",
       "    .dataframe thead th {\n",
       "        text-align: right;\n",
       "    }\n",
       "</style>\n",
       "<table border=\"1\" class=\"dataframe\">\n",
       "  <thead>\n",
       "    <tr style=\"text-align: right;\">\n",
       "      <th></th>\n",
       "      <th>RABA_PID</th>\n",
       "      <th>RABA_ID</th>\n",
       "      <th>D_OD</th>\n",
       "      <th>geometry</th>\n",
       "    </tr>\n",
       "  </thead>\n",
       "  <tbody>\n",
       "    <tr>\n",
       "      <th>0</th>\n",
       "      <td>4770326.0</td>\n",
       "      <td>1410</td>\n",
       "      <td>2019-03-26</td>\n",
       "      <td>POLYGON ((453952.629 91124.177, 453952.696 911...</td>\n",
       "    </tr>\n",
       "    <tr>\n",
       "      <th>1</th>\n",
       "      <td>4770325.0</td>\n",
       "      <td>1300</td>\n",
       "      <td>2019-03-26</td>\n",
       "      <td>POLYGON ((453810.376 91150.199, 453812.552 911...</td>\n",
       "    </tr>\n",
       "    <tr>\n",
       "      <th>2</th>\n",
       "      <td>2305689.0</td>\n",
       "      <td>7000</td>\n",
       "      <td>2019-02-25</td>\n",
       "      <td>POLYGON ((456099.635 97696.070, 456112.810 976...</td>\n",
       "    </tr>\n",
       "    <tr>\n",
       "      <th>3</th>\n",
       "      <td>2305596.0</td>\n",
       "      <td>1100</td>\n",
       "      <td>2019-02-25</td>\n",
       "      <td>POLYGON ((455929.405 97963.785, 455933.284 979...</td>\n",
       "    </tr>\n",
       "    <tr>\n",
       "      <th>4</th>\n",
       "      <td>2310160.0</td>\n",
       "      <td>1100</td>\n",
       "      <td>2019-03-11</td>\n",
       "      <td>POLYGON ((461561.512 96119.256, 461632.114 960...</td>\n",
       "    </tr>\n",
       "    <tr>\n",
       "      <th>...</th>\n",
       "      <td>...</td>\n",
       "      <td>...</td>\n",
       "      <td>...</td>\n",
       "      <td>...</td>\n",
       "    </tr>\n",
       "    <tr>\n",
       "      <th>9822</th>\n",
       "      <td>6253989.0</td>\n",
       "      <td>1600</td>\n",
       "      <td>2019-03-08</td>\n",
       "      <td>POLYGON ((460637.334 96865.891, 460647.927 969...</td>\n",
       "    </tr>\n",
       "    <tr>\n",
       "      <th>9823</th>\n",
       "      <td>6252044.0</td>\n",
       "      <td>1600</td>\n",
       "      <td>2019-03-26</td>\n",
       "      <td>POLYGON ((459467.868 96839.686, 459467.770 968...</td>\n",
       "    </tr>\n",
       "    <tr>\n",
       "      <th>9824</th>\n",
       "      <td>6245985.0</td>\n",
       "      <td>2000</td>\n",
       "      <td>2019-04-08</td>\n",
       "      <td>POLYGON ((459488.998 94066.248, 459498.145 940...</td>\n",
       "    </tr>\n",
       "    <tr>\n",
       "      <th>9825</th>\n",
       "      <td>6245986.0</td>\n",
       "      <td>2000</td>\n",
       "      <td>2019-02-20</td>\n",
       "      <td>POLYGON ((459676.680 94000.000, 459672.469 939...</td>\n",
       "    </tr>\n",
       "    <tr>\n",
       "      <th>9826</th>\n",
       "      <td>6245987.0</td>\n",
       "      <td>2000</td>\n",
       "      <td>2019-03-11</td>\n",
       "      <td>POLYGON ((459690.580 94042.607, 459686.872 940...</td>\n",
       "    </tr>\n",
       "  </tbody>\n",
       "</table>\n",
       "<p>9827 rows × 4 columns</p>\n",
       "</div>"
      ],
      "text/plain": [
       "       RABA_PID  RABA_ID        D_OD  \\\n",
       "0     4770326.0     1410  2019-03-26   \n",
       "1     4770325.0     1300  2019-03-26   \n",
       "2     2305689.0     7000  2019-02-25   \n",
       "3     2305596.0     1100  2019-02-25   \n",
       "4     2310160.0     1100  2019-03-11   \n",
       "...         ...      ...         ...   \n",
       "9822  6253989.0     1600  2019-03-08   \n",
       "9823  6252044.0     1600  2019-03-26   \n",
       "9824  6245985.0     2000  2019-04-08   \n",
       "9825  6245986.0     2000  2019-02-20   \n",
       "9826  6245987.0     2000  2019-03-11   \n",
       "\n",
       "                                               geometry  \n",
       "0     POLYGON ((453952.629 91124.177, 453952.696 911...  \n",
       "1     POLYGON ((453810.376 91150.199, 453812.552 911...  \n",
       "2     POLYGON ((456099.635 97696.070, 456112.810 976...  \n",
       "3     POLYGON ((455929.405 97963.785, 455933.284 979...  \n",
       "4     POLYGON ((461561.512 96119.256, 461632.114 960...  \n",
       "...                                                 ...  \n",
       "9822  POLYGON ((460637.334 96865.891, 460647.927 969...  \n",
       "9823  POLYGON ((459467.868 96839.686, 459467.770 968...  \n",
       "9824  POLYGON ((459488.998 94066.248, 459498.145 940...  \n",
       "9825  POLYGON ((459676.680 94000.000, 459672.469 939...  \n",
       "9826  POLYGON ((459690.580 94042.607, 459686.872 940...  \n",
       "\n",
       "[9827 rows x 4 columns]"
      ]
     },
     "execution_count": 10,
     "metadata": {},
     "output_type": "execute_result"
    }
   ],
   "source": [
    "import geopandas\n",
    "import os\n",
    "gdf = geopandas.read_file(os.path.expanduser(\"~/.shared/notebooks/getting-started/data/sample/land_use.shp\"))\n",
    "gdf"
   ]
  },
  {
   "cell_type": "code",
   "execution_count": 11,
   "metadata": {
    "execution": {
     "iopub.execute_input": "2020-08-31T12:12:11.874806Z",
     "iopub.status.busy": "2020-08-31T12:12:11.874120Z",
     "iopub.status.idle": "2020-08-31T12:12:18.941723Z",
     "shell.execute_reply": "2020-08-31T12:12:18.941100Z"
    },
    "papermill": {
     "duration": 7.096199,
     "end_time": "2020-08-31T12:12:18.941848",
     "exception": false,
     "start_time": "2020-08-31T12:12:11.845649",
     "status": "completed"
    },
    "tags": []
   },
   "outputs": [
    {
     "data": {
      "text/plain": [
       "Data inserted into land_use"
      ]
     },
     "execution_count": 11,
     "metadata": {},
     "output_type": "execute_result"
    }
   ],
   "source": [
    "geodb.insert_into_collection('land_use', gdf)"
   ]
  },
  {
   "cell_type": "code",
   "execution_count": 12,
   "metadata": {
    "execution": {
     "iopub.execute_input": "2020-08-31T12:12:18.994279Z",
     "iopub.status.busy": "2020-08-31T12:12:18.991566Z",
     "iopub.status.idle": "2020-08-31T12:12:19.658929Z",
     "shell.execute_reply": "2020-08-31T12:12:19.658210Z"
    },
    "papermill": {
     "duration": 0.694212,
     "end_time": "2020-08-31T12:12:19.659056",
     "exception": false,
     "start_time": "2020-08-31T12:12:18.964844",
     "status": "completed"
    },
    "tags": []
   },
   "outputs": [
    {
     "data": {
      "text/html": [
       "<div>\n",
       "<style scoped>\n",
       "    .dataframe tbody tr th:only-of-type {\n",
       "        vertical-align: middle;\n",
       "    }\n",
       "\n",
       "    .dataframe tbody tr th {\n",
       "        vertical-align: top;\n",
       "    }\n",
       "\n",
       "    .dataframe thead th {\n",
       "        text-align: right;\n",
       "    }\n",
       "</style>\n",
       "<table border=\"1\" class=\"dataframe\">\n",
       "  <thead>\n",
       "    <tr style=\"text-align: right;\">\n",
       "      <th></th>\n",
       "      <th>id</th>\n",
       "      <th>created_at</th>\n",
       "      <th>modified_at</th>\n",
       "      <th>geometry</th>\n",
       "      <th>raba_pid</th>\n",
       "      <th>raba_id</th>\n",
       "      <th>d_od</th>\n",
       "    </tr>\n",
       "  </thead>\n",
       "  <tbody>\n",
       "    <tr>\n",
       "      <th>0</th>\n",
       "      <td>3</td>\n",
       "      <td>2020-08-31T12:12:17.782577+00:00</td>\n",
       "      <td>None</td>\n",
       "      <td>POLYGON ((456099.635 97696.070, 456112.810 976...</td>\n",
       "      <td>2305689</td>\n",
       "      <td>7000</td>\n",
       "      <td>2019-02-25</td>\n",
       "    </tr>\n",
       "    <tr>\n",
       "      <th>1</th>\n",
       "      <td>26</td>\n",
       "      <td>2020-08-31T12:12:17.782577+00:00</td>\n",
       "      <td>None</td>\n",
       "      <td>POLYGON ((459898.930 100306.841, 459906.288 10...</td>\n",
       "      <td>2301992</td>\n",
       "      <td>7000</td>\n",
       "      <td>2019-04-06</td>\n",
       "    </tr>\n",
       "    <tr>\n",
       "      <th>2</th>\n",
       "      <td>95</td>\n",
       "      <td>2020-08-31T12:12:17.782577+00:00</td>\n",
       "      <td>None</td>\n",
       "      <td>POLYGON ((459591.248 92619.056, 459592.745 926...</td>\n",
       "      <td>2333229</td>\n",
       "      <td>7000</td>\n",
       "      <td>2019-02-20</td>\n",
       "    </tr>\n",
       "    <tr>\n",
       "      <th>3</th>\n",
       "      <td>115</td>\n",
       "      <td>2020-08-31T12:12:17.782577+00:00</td>\n",
       "      <td>None</td>\n",
       "      <td>POLYGON ((459013.303 100354.458, 459022.756 10...</td>\n",
       "      <td>2336738</td>\n",
       "      <td>7000</td>\n",
       "      <td>2019-03-15</td>\n",
       "    </tr>\n",
       "    <tr>\n",
       "      <th>4</th>\n",
       "      <td>129</td>\n",
       "      <td>2020-08-31T12:12:17.782577+00:00</td>\n",
       "      <td>None</td>\n",
       "      <td>POLYGON ((460851.200 93442.039, 460846.405 934...</td>\n",
       "      <td>6292562</td>\n",
       "      <td>7000</td>\n",
       "      <td>2019-02-21</td>\n",
       "    </tr>\n",
       "    <tr>\n",
       "      <th>...</th>\n",
       "      <td>...</td>\n",
       "      <td>...</td>\n",
       "      <td>...</td>\n",
       "      <td>...</td>\n",
       "      <td>...</td>\n",
       "      <td>...</td>\n",
       "      <td>...</td>\n",
       "    </tr>\n",
       "    <tr>\n",
       "      <th>379</th>\n",
       "      <td>9419</td>\n",
       "      <td>2020-08-31T12:12:17.782577+00:00</td>\n",
       "      <td>None</td>\n",
       "      <td>POLYGON ((456523.670 94000.000, 456550.368 939...</td>\n",
       "      <td>6187993</td>\n",
       "      <td>7000</td>\n",
       "      <td>2019-03-13</td>\n",
       "    </tr>\n",
       "    <tr>\n",
       "      <th>380</th>\n",
       "      <td>9546</td>\n",
       "      <td>2020-08-31T12:12:17.782577+00:00</td>\n",
       "      <td>None</td>\n",
       "      <td>POLYGON ((460793.279 94000.000, 460797.466 939...</td>\n",
       "      <td>6219403</td>\n",
       "      <td>7000</td>\n",
       "      <td>2019-02-21</td>\n",
       "    </tr>\n",
       "    <tr>\n",
       "      <th>381</th>\n",
       "      <td>9560</td>\n",
       "      <td>2020-08-31T12:12:17.782577+00:00</td>\n",
       "      <td>None</td>\n",
       "      <td>POLYGON ((461750.000 98434.292, 461750.000 984...</td>\n",
       "      <td>6219602</td>\n",
       "      <td>7000</td>\n",
       "      <td>2019-03-20</td>\n",
       "    </tr>\n",
       "    <tr>\n",
       "      <th>382</th>\n",
       "      <td>9624</td>\n",
       "      <td>2020-08-31T12:12:17.782577+00:00</td>\n",
       "      <td>None</td>\n",
       "      <td>POLYGON ((463628.912 97501.218, 463636.859 975...</td>\n",
       "      <td>6215237</td>\n",
       "      <td>7000</td>\n",
       "      <td>2019-03-20</td>\n",
       "    </tr>\n",
       "    <tr>\n",
       "      <th>383</th>\n",
       "      <td>9644</td>\n",
       "      <td>2020-08-31T12:12:17.782577+00:00</td>\n",
       "      <td>None</td>\n",
       "      <td>POLYGON ((462450.205 94000.000, 462457.333 940...</td>\n",
       "      <td>6213419</td>\n",
       "      <td>7000</td>\n",
       "      <td>2019-03-21</td>\n",
       "    </tr>\n",
       "  </tbody>\n",
       "</table>\n",
       "<p>384 rows × 7 columns</p>\n",
       "</div>"
      ],
      "text/plain": [
       "       id                        created_at modified_at  \\\n",
       "0       3  2020-08-31T12:12:17.782577+00:00        None   \n",
       "1      26  2020-08-31T12:12:17.782577+00:00        None   \n",
       "2      95  2020-08-31T12:12:17.782577+00:00        None   \n",
       "3     115  2020-08-31T12:12:17.782577+00:00        None   \n",
       "4     129  2020-08-31T12:12:17.782577+00:00        None   \n",
       "..    ...                               ...         ...   \n",
       "379  9419  2020-08-31T12:12:17.782577+00:00        None   \n",
       "380  9546  2020-08-31T12:12:17.782577+00:00        None   \n",
       "381  9560  2020-08-31T12:12:17.782577+00:00        None   \n",
       "382  9624  2020-08-31T12:12:17.782577+00:00        None   \n",
       "383  9644  2020-08-31T12:12:17.782577+00:00        None   \n",
       "\n",
       "                                              geometry  raba_pid  raba_id  \\\n",
       "0    POLYGON ((456099.635 97696.070, 456112.810 976...   2305689     7000   \n",
       "1    POLYGON ((459898.930 100306.841, 459906.288 10...   2301992     7000   \n",
       "2    POLYGON ((459591.248 92619.056, 459592.745 926...   2333229     7000   \n",
       "3    POLYGON ((459013.303 100354.458, 459022.756 10...   2336738     7000   \n",
       "4    POLYGON ((460851.200 93442.039, 460846.405 934...   6292562     7000   \n",
       "..                                                 ...       ...      ...   \n",
       "379  POLYGON ((456523.670 94000.000, 456550.368 939...   6187993     7000   \n",
       "380  POLYGON ((460793.279 94000.000, 460797.466 939...   6219403     7000   \n",
       "381  POLYGON ((461750.000 98434.292, 461750.000 984...   6219602     7000   \n",
       "382  POLYGON ((463628.912 97501.218, 463636.859 975...   6215237     7000   \n",
       "383  POLYGON ((462450.205 94000.000, 462457.333 940...   6213419     7000   \n",
       "\n",
       "           d_od  \n",
       "0    2019-02-25  \n",
       "1    2019-04-06  \n",
       "2    2019-02-20  \n",
       "3    2019-03-15  \n",
       "4    2019-02-21  \n",
       "..          ...  \n",
       "379  2019-03-13  \n",
       "380  2019-02-21  \n",
       "381  2019-03-20  \n",
       "382  2019-03-20  \n",
       "383  2019-03-21  \n",
       "\n",
       "[384 rows x 7 columns]"
      ]
     },
     "execution_count": 12,
     "metadata": {},
     "output_type": "execute_result"
    }
   ],
   "source": [
    "geodb.get_collection('land_use', query=\"raba_id=eq.7000\")"
   ]
  },
  {
   "cell_type": "markdown",
   "metadata": {
    "papermill": {
     "duration": 0.024539,
     "end_time": "2020-08-31T12:12:19.707535",
     "exception": false,
     "start_time": "2020-08-31T12:12:19.682996",
     "status": "completed"
    },
    "tags": []
   },
   "source": [
    "### Delete from a Collection"
   ]
  },
  {
   "cell_type": "code",
   "execution_count": 13,
   "metadata": {
    "execution": {
     "iopub.execute_input": "2020-08-31T12:12:19.762864Z",
     "iopub.status.busy": "2020-08-31T12:12:19.762165Z",
     "iopub.status.idle": "2020-08-31T12:12:20.415386Z",
     "shell.execute_reply": "2020-08-31T12:12:20.414708Z"
    },
    "papermill": {
     "duration": 0.684111,
     "end_time": "2020-08-31T12:12:20.415532",
     "exception": false,
     "start_time": "2020-08-31T12:12:19.731421",
     "status": "completed"
    },
    "tags": []
   },
   "outputs": [
    {
     "data": {
      "text/plain": [
       "Data from land_use deleted"
      ]
     },
     "execution_count": 13,
     "metadata": {},
     "output_type": "execute_result"
    }
   ],
   "source": [
    "geodb.delete_from_collection('land_use', query=\"raba_id=eq.7000\")"
   ]
  },
  {
   "cell_type": "code",
   "execution_count": 14,
   "metadata": {
    "execution": {
     "iopub.execute_input": "2020-08-31T12:12:20.472138Z",
     "iopub.status.busy": "2020-08-31T12:12:20.471316Z",
     "iopub.status.idle": "2020-08-31T12:12:21.043033Z",
     "shell.execute_reply": "2020-08-31T12:12:21.043490Z"
    },
    "papermill": {
     "duration": 0.603441,
     "end_time": "2020-08-31T12:12:21.043650",
     "exception": false,
     "start_time": "2020-08-31T12:12:20.440209",
     "status": "completed"
    },
    "tags": []
   },
   "outputs": [
    {
     "data": {
      "text/html": [
       "<div>\n",
       "<style scoped>\n",
       "    .dataframe tbody tr th:only-of-type {\n",
       "        vertical-align: middle;\n",
       "    }\n",
       "\n",
       "    .dataframe tbody tr th {\n",
       "        vertical-align: top;\n",
       "    }\n",
       "\n",
       "    .dataframe thead th {\n",
       "        text-align: right;\n",
       "    }\n",
       "</style>\n",
       "<table border=\"1\" class=\"dataframe\">\n",
       "  <thead>\n",
       "    <tr style=\"text-align: right;\">\n",
       "      <th></th>\n",
       "      <th>Empty Result</th>\n",
       "    </tr>\n",
       "  </thead>\n",
       "  <tbody>\n",
       "  </tbody>\n",
       "</table>\n",
       "</div>"
      ],
      "text/plain": [
       "Empty DataFrame\n",
       "Columns: [Empty Result]\n",
       "Index: []"
      ]
     },
     "execution_count": 14,
     "metadata": {},
     "output_type": "execute_result"
    }
   ],
   "source": [
    "geodb.get_collection('land_use', query=\"raba_id=eq.7000\")"
   ]
  },
  {
   "cell_type": "markdown",
   "metadata": {
    "papermill": {
     "duration": 0.025321,
     "end_time": "2020-08-31T12:12:21.093759",
     "exception": false,
     "start_time": "2020-08-31T12:12:21.068438",
     "status": "completed"
    },
    "tags": []
   },
   "source": [
    "### Updating a Collection"
   ]
  },
  {
   "cell_type": "code",
   "execution_count": 15,
   "metadata": {
    "execution": {
     "iopub.execute_input": "2020-08-31T12:12:21.150524Z",
     "iopub.status.busy": "2020-08-31T12:12:21.149815Z",
     "iopub.status.idle": "2020-08-31T12:12:21.755787Z",
     "shell.execute_reply": "2020-08-31T12:12:21.754983Z"
    },
    "papermill": {
     "duration": 0.637388,
     "end_time": "2020-08-31T12:12:21.755912",
     "exception": false,
     "start_time": "2020-08-31T12:12:21.118524",
     "status": "completed"
    },
    "tags": []
   },
   "outputs": [
    {
     "data": {
      "text/html": [
       "<div>\n",
       "<style scoped>\n",
       "    .dataframe tbody tr th:only-of-type {\n",
       "        vertical-align: middle;\n",
       "    }\n",
       "\n",
       "    .dataframe tbody tr th {\n",
       "        vertical-align: top;\n",
       "    }\n",
       "\n",
       "    .dataframe thead th {\n",
       "        text-align: right;\n",
       "    }\n",
       "</style>\n",
       "<table border=\"1\" class=\"dataframe\">\n",
       "  <thead>\n",
       "    <tr style=\"text-align: right;\">\n",
       "      <th></th>\n",
       "      <th>id</th>\n",
       "      <th>created_at</th>\n",
       "      <th>modified_at</th>\n",
       "      <th>geometry</th>\n",
       "      <th>raba_pid</th>\n",
       "      <th>raba_id</th>\n",
       "      <th>d_od</th>\n",
       "    </tr>\n",
       "  </thead>\n",
       "  <tbody>\n",
       "    <tr>\n",
       "      <th>0</th>\n",
       "      <td>2</td>\n",
       "      <td>2020-08-31T12:12:17.782577+00:00</td>\n",
       "      <td>None</td>\n",
       "      <td>POLYGON ((453810.376 91150.199, 453812.552 911...</td>\n",
       "      <td>4770325</td>\n",
       "      <td>1300</td>\n",
       "      <td>2019-03-26</td>\n",
       "    </tr>\n",
       "    <tr>\n",
       "      <th>1</th>\n",
       "      <td>10</td>\n",
       "      <td>2020-08-31T12:12:17.782577+00:00</td>\n",
       "      <td>None</td>\n",
       "      <td>POLYGON ((456547.427 91543.640, 456544.255 915...</td>\n",
       "      <td>2318555</td>\n",
       "      <td>1300</td>\n",
       "      <td>2019-03-14</td>\n",
       "    </tr>\n",
       "    <tr>\n",
       "      <th>2</th>\n",
       "      <td>63</td>\n",
       "      <td>2020-08-31T12:12:17.782577+00:00</td>\n",
       "      <td>None</td>\n",
       "      <td>POLYGON ((456201.531 98685.274, 456199.109 986...</td>\n",
       "      <td>2304287</td>\n",
       "      <td>1300</td>\n",
       "      <td>2019-02-25</td>\n",
       "    </tr>\n",
       "    <tr>\n",
       "      <th>3</th>\n",
       "      <td>86</td>\n",
       "      <td>2020-08-31T12:12:17.782577+00:00</td>\n",
       "      <td>None</td>\n",
       "      <td>POLYGON ((454709.766 97354.278, 454704.878 973...</td>\n",
       "      <td>2331038</td>\n",
       "      <td>1300</td>\n",
       "      <td>2019-01-05</td>\n",
       "    </tr>\n",
       "    <tr>\n",
       "      <th>4</th>\n",
       "      <td>87</td>\n",
       "      <td>2020-08-31T12:12:17.782577+00:00</td>\n",
       "      <td>None</td>\n",
       "      <td>POLYGON ((453820.737 98574.017, 453816.740 985...</td>\n",
       "      <td>2357574</td>\n",
       "      <td>1300</td>\n",
       "      <td>2019-01-16</td>\n",
       "    </tr>\n",
       "    <tr>\n",
       "      <th>...</th>\n",
       "      <td>...</td>\n",
       "      <td>...</td>\n",
       "      <td>...</td>\n",
       "      <td>...</td>\n",
       "      <td>...</td>\n",
       "      <td>...</td>\n",
       "      <td>...</td>\n",
       "    </tr>\n",
       "    <tr>\n",
       "      <th>890</th>\n",
       "      <td>9766</td>\n",
       "      <td>2020-08-31T12:12:17.782577+00:00</td>\n",
       "      <td>None</td>\n",
       "      <td>POLYGON ((458247.583 99746.065, 458245.202 997...</td>\n",
       "      <td>6268059</td>\n",
       "      <td>1300</td>\n",
       "      <td>2019-03-04</td>\n",
       "    </tr>\n",
       "    <tr>\n",
       "      <th>891</th>\n",
       "      <td>9767</td>\n",
       "      <td>2020-08-31T12:12:17.782577+00:00</td>\n",
       "      <td>None</td>\n",
       "      <td>POLYGON ((461932.283 90520.703, 461931.619 905...</td>\n",
       "      <td>6263561</td>\n",
       "      <td>1300</td>\n",
       "      <td>2019-04-01</td>\n",
       "    </tr>\n",
       "    <tr>\n",
       "      <th>892</th>\n",
       "      <td>9798</td>\n",
       "      <td>2020-08-31T12:12:17.782577+00:00</td>\n",
       "      <td>None</td>\n",
       "      <td>POLYGON ((457231.170 90902.256, 457234.861 909...</td>\n",
       "      <td>6264862</td>\n",
       "      <td>1300</td>\n",
       "      <td>2019-01-05</td>\n",
       "    </tr>\n",
       "    <tr>\n",
       "      <th>893</th>\n",
       "      <td>9799</td>\n",
       "      <td>2020-08-31T12:12:17.782577+00:00</td>\n",
       "      <td>None</td>\n",
       "      <td>POLYGON ((461378.845 91124.318, 461490.224 911...</td>\n",
       "      <td>6264865</td>\n",
       "      <td>1300</td>\n",
       "      <td>2019-02-21</td>\n",
       "    </tr>\n",
       "    <tr>\n",
       "      <th>894</th>\n",
       "      <td>9821</td>\n",
       "      <td>2020-08-31T12:12:17.782577+00:00</td>\n",
       "      <td>None</td>\n",
       "      <td>POLYGON ((457450.306 97213.244, 457490.521 972...</td>\n",
       "      <td>6263915</td>\n",
       "      <td>1300</td>\n",
       "      <td>2019-01-05</td>\n",
       "    </tr>\n",
       "  </tbody>\n",
       "</table>\n",
       "<p>895 rows × 7 columns</p>\n",
       "</div>"
      ],
      "text/plain": [
       "       id                        created_at modified_at  \\\n",
       "0       2  2020-08-31T12:12:17.782577+00:00        None   \n",
       "1      10  2020-08-31T12:12:17.782577+00:00        None   \n",
       "2      63  2020-08-31T12:12:17.782577+00:00        None   \n",
       "3      86  2020-08-31T12:12:17.782577+00:00        None   \n",
       "4      87  2020-08-31T12:12:17.782577+00:00        None   \n",
       "..    ...                               ...         ...   \n",
       "890  9766  2020-08-31T12:12:17.782577+00:00        None   \n",
       "891  9767  2020-08-31T12:12:17.782577+00:00        None   \n",
       "892  9798  2020-08-31T12:12:17.782577+00:00        None   \n",
       "893  9799  2020-08-31T12:12:17.782577+00:00        None   \n",
       "894  9821  2020-08-31T12:12:17.782577+00:00        None   \n",
       "\n",
       "                                              geometry  raba_pid  raba_id  \\\n",
       "0    POLYGON ((453810.376 91150.199, 453812.552 911...   4770325     1300   \n",
       "1    POLYGON ((456547.427 91543.640, 456544.255 915...   2318555     1300   \n",
       "2    POLYGON ((456201.531 98685.274, 456199.109 986...   2304287     1300   \n",
       "3    POLYGON ((454709.766 97354.278, 454704.878 973...   2331038     1300   \n",
       "4    POLYGON ((453820.737 98574.017, 453816.740 985...   2357574     1300   \n",
       "..                                                 ...       ...      ...   \n",
       "890  POLYGON ((458247.583 99746.065, 458245.202 997...   6268059     1300   \n",
       "891  POLYGON ((461932.283 90520.703, 461931.619 905...   6263561     1300   \n",
       "892  POLYGON ((457231.170 90902.256, 457234.861 909...   6264862     1300   \n",
       "893  POLYGON ((461378.845 91124.318, 461490.224 911...   6264865     1300   \n",
       "894  POLYGON ((457450.306 97213.244, 457490.521 972...   6263915     1300   \n",
       "\n",
       "           d_od  \n",
       "0    2019-03-26  \n",
       "1    2019-03-14  \n",
       "2    2019-02-25  \n",
       "3    2019-01-05  \n",
       "4    2019-01-16  \n",
       "..          ...  \n",
       "890  2019-03-04  \n",
       "891  2019-04-01  \n",
       "892  2019-01-05  \n",
       "893  2019-02-21  \n",
       "894  2019-01-05  \n",
       "\n",
       "[895 rows x 7 columns]"
      ]
     },
     "execution_count": 15,
     "metadata": {},
     "output_type": "execute_result"
    }
   ],
   "source": [
    "geodb.get_collection('land_use', query=\"raba_id=eq.1300\")"
   ]
  },
  {
   "cell_type": "code",
   "execution_count": 16,
   "metadata": {
    "execution": {
     "iopub.execute_input": "2020-08-31T12:12:21.815078Z",
     "iopub.status.busy": "2020-08-31T12:12:21.814377Z",
     "iopub.status.idle": "2020-08-31T12:12:22.862473Z",
     "shell.execute_reply": "2020-08-31T12:12:22.861890Z"
    },
    "papermill": {
     "duration": 1.080278,
     "end_time": "2020-08-31T12:12:22.862602",
     "exception": false,
     "start_time": "2020-08-31T12:12:21.782324",
     "status": "completed"
    },
    "tags": []
   },
   "outputs": [
    {
     "data": {
      "text/plain": [
       "land_use updated"
      ]
     },
     "execution_count": 16,
     "metadata": {},
     "output_type": "execute_result"
    }
   ],
   "source": [
    "geodb.update_collection('land_use', query=\"raba_id=eq.1300\", values={'d_od': '2000-01-01'})"
   ]
  },
  {
   "cell_type": "code",
   "execution_count": 17,
   "metadata": {
    "execution": {
     "iopub.execute_input": "2020-08-31T12:12:22.923394Z",
     "iopub.status.busy": "2020-08-31T12:12:22.922620Z",
     "iopub.status.idle": "2020-08-31T12:12:23.602248Z",
     "shell.execute_reply": "2020-08-31T12:12:23.601649Z"
    },
    "papermill": {
     "duration": 0.711939,
     "end_time": "2020-08-31T12:12:23.602399",
     "exception": false,
     "start_time": "2020-08-31T12:12:22.890460",
     "status": "completed"
    },
    "tags": []
   },
   "outputs": [
    {
     "data": {
      "text/html": [
       "<div>\n",
       "<style scoped>\n",
       "    .dataframe tbody tr th:only-of-type {\n",
       "        vertical-align: middle;\n",
       "    }\n",
       "\n",
       "    .dataframe tbody tr th {\n",
       "        vertical-align: top;\n",
       "    }\n",
       "\n",
       "    .dataframe thead th {\n",
       "        text-align: right;\n",
       "    }\n",
       "</style>\n",
       "<table border=\"1\" class=\"dataframe\">\n",
       "  <thead>\n",
       "    <tr style=\"text-align: right;\">\n",
       "      <th></th>\n",
       "      <th>id</th>\n",
       "      <th>created_at</th>\n",
       "      <th>modified_at</th>\n",
       "      <th>geometry</th>\n",
       "      <th>raba_pid</th>\n",
       "      <th>raba_id</th>\n",
       "      <th>d_od</th>\n",
       "    </tr>\n",
       "  </thead>\n",
       "  <tbody>\n",
       "    <tr>\n",
       "      <th>0</th>\n",
       "      <td>10</td>\n",
       "      <td>2020-08-31T12:12:17.782577+00:00</td>\n",
       "      <td>2020-08-31T12:12:22.782479+00:00</td>\n",
       "      <td>POLYGON ((456547.427 91543.640, 456544.255 915...</td>\n",
       "      <td>2318555</td>\n",
       "      <td>1300</td>\n",
       "      <td>2000-01-01</td>\n",
       "    </tr>\n",
       "    <tr>\n",
       "      <th>1</th>\n",
       "      <td>103</td>\n",
       "      <td>2020-08-31T12:12:17.782577+00:00</td>\n",
       "      <td>2020-08-31T12:12:22.782479+00:00</td>\n",
       "      <td>POLYGON ((456100.880 96973.323, 456111.084 969...</td>\n",
       "      <td>2332420</td>\n",
       "      <td>1300</td>\n",
       "      <td>2000-01-01</td>\n",
       "    </tr>\n",
       "    <tr>\n",
       "      <th>2</th>\n",
       "      <td>108</td>\n",
       "      <td>2020-08-31T12:12:17.782577+00:00</td>\n",
       "      <td>2020-08-31T12:12:22.782479+00:00</td>\n",
       "      <td>POLYGON ((454070.991 90528.946, 454064.259 905...</td>\n",
       "      <td>4674624</td>\n",
       "      <td>1300</td>\n",
       "      <td>2000-01-01</td>\n",
       "    </tr>\n",
       "    <tr>\n",
       "      <th>3</th>\n",
       "      <td>117</td>\n",
       "      <td>2020-08-31T12:12:17.782577+00:00</td>\n",
       "      <td>2020-08-31T12:12:22.782479+00:00</td>\n",
       "      <td>POLYGON ((454637.692 96679.827, 454630.584 966...</td>\n",
       "      <td>2336101</td>\n",
       "      <td>1300</td>\n",
       "      <td>2000-01-01</td>\n",
       "    </tr>\n",
       "    <tr>\n",
       "      <th>4</th>\n",
       "      <td>136</td>\n",
       "      <td>2020-08-31T12:12:17.782577+00:00</td>\n",
       "      <td>2020-08-31T12:12:22.782479+00:00</td>\n",
       "      <td>POLYGON ((462781.112 100486.430, 462803.178 10...</td>\n",
       "      <td>2334416</td>\n",
       "      <td>1300</td>\n",
       "      <td>2000-01-01</td>\n",
       "    </tr>\n",
       "    <tr>\n",
       "      <th>...</th>\n",
       "      <td>...</td>\n",
       "      <td>...</td>\n",
       "      <td>...</td>\n",
       "      <td>...</td>\n",
       "      <td>...</td>\n",
       "      <td>...</td>\n",
       "      <td>...</td>\n",
       "    </tr>\n",
       "    <tr>\n",
       "      <th>890</th>\n",
       "      <td>9765</td>\n",
       "      <td>2020-08-31T12:12:17.782577+00:00</td>\n",
       "      <td>2020-08-31T12:12:22.782479+00:00</td>\n",
       "      <td>POLYGON ((458304.555 100146.103, 458306.726 10...</td>\n",
       "      <td>6268058</td>\n",
       "      <td>1300</td>\n",
       "      <td>2000-01-01</td>\n",
       "    </tr>\n",
       "    <tr>\n",
       "      <th>891</th>\n",
       "      <td>9766</td>\n",
       "      <td>2020-08-31T12:12:17.782577+00:00</td>\n",
       "      <td>2020-08-31T12:12:22.782479+00:00</td>\n",
       "      <td>POLYGON ((458247.583 99746.065, 458245.202 997...</td>\n",
       "      <td>6268059</td>\n",
       "      <td>1300</td>\n",
       "      <td>2000-01-01</td>\n",
       "    </tr>\n",
       "    <tr>\n",
       "      <th>892</th>\n",
       "      <td>9767</td>\n",
       "      <td>2020-08-31T12:12:17.782577+00:00</td>\n",
       "      <td>2020-08-31T12:12:22.782479+00:00</td>\n",
       "      <td>POLYGON ((461932.283 90520.703, 461931.619 905...</td>\n",
       "      <td>6263561</td>\n",
       "      <td>1300</td>\n",
       "      <td>2000-01-01</td>\n",
       "    </tr>\n",
       "    <tr>\n",
       "      <th>893</th>\n",
       "      <td>9798</td>\n",
       "      <td>2020-08-31T12:12:17.782577+00:00</td>\n",
       "      <td>2020-08-31T12:12:22.782479+00:00</td>\n",
       "      <td>POLYGON ((457231.170 90902.256, 457234.861 909...</td>\n",
       "      <td>6264862</td>\n",
       "      <td>1300</td>\n",
       "      <td>2000-01-01</td>\n",
       "    </tr>\n",
       "    <tr>\n",
       "      <th>894</th>\n",
       "      <td>9799</td>\n",
       "      <td>2020-08-31T12:12:17.782577+00:00</td>\n",
       "      <td>2020-08-31T12:12:22.782479+00:00</td>\n",
       "      <td>POLYGON ((461378.845 91124.318, 461490.224 911...</td>\n",
       "      <td>6264865</td>\n",
       "      <td>1300</td>\n",
       "      <td>2000-01-01</td>\n",
       "    </tr>\n",
       "  </tbody>\n",
       "</table>\n",
       "<p>895 rows × 7 columns</p>\n",
       "</div>"
      ],
      "text/plain": [
       "       id                        created_at                       modified_at  \\\n",
       "0      10  2020-08-31T12:12:17.782577+00:00  2020-08-31T12:12:22.782479+00:00   \n",
       "1     103  2020-08-31T12:12:17.782577+00:00  2020-08-31T12:12:22.782479+00:00   \n",
       "2     108  2020-08-31T12:12:17.782577+00:00  2020-08-31T12:12:22.782479+00:00   \n",
       "3     117  2020-08-31T12:12:17.782577+00:00  2020-08-31T12:12:22.782479+00:00   \n",
       "4     136  2020-08-31T12:12:17.782577+00:00  2020-08-31T12:12:22.782479+00:00   \n",
       "..    ...                               ...                               ...   \n",
       "890  9765  2020-08-31T12:12:17.782577+00:00  2020-08-31T12:12:22.782479+00:00   \n",
       "891  9766  2020-08-31T12:12:17.782577+00:00  2020-08-31T12:12:22.782479+00:00   \n",
       "892  9767  2020-08-31T12:12:17.782577+00:00  2020-08-31T12:12:22.782479+00:00   \n",
       "893  9798  2020-08-31T12:12:17.782577+00:00  2020-08-31T12:12:22.782479+00:00   \n",
       "894  9799  2020-08-31T12:12:17.782577+00:00  2020-08-31T12:12:22.782479+00:00   \n",
       "\n",
       "                                              geometry  raba_pid  raba_id  \\\n",
       "0    POLYGON ((456547.427 91543.640, 456544.255 915...   2318555     1300   \n",
       "1    POLYGON ((456100.880 96973.323, 456111.084 969...   2332420     1300   \n",
       "2    POLYGON ((454070.991 90528.946, 454064.259 905...   4674624     1300   \n",
       "3    POLYGON ((454637.692 96679.827, 454630.584 966...   2336101     1300   \n",
       "4    POLYGON ((462781.112 100486.430, 462803.178 10...   2334416     1300   \n",
       "..                                                 ...       ...      ...   \n",
       "890  POLYGON ((458304.555 100146.103, 458306.726 10...   6268058     1300   \n",
       "891  POLYGON ((458247.583 99746.065, 458245.202 997...   6268059     1300   \n",
       "892  POLYGON ((461932.283 90520.703, 461931.619 905...   6263561     1300   \n",
       "893  POLYGON ((457231.170 90902.256, 457234.861 909...   6264862     1300   \n",
       "894  POLYGON ((461378.845 91124.318, 461490.224 911...   6264865     1300   \n",
       "\n",
       "           d_od  \n",
       "0    2000-01-01  \n",
       "1    2000-01-01  \n",
       "2    2000-01-01  \n",
       "3    2000-01-01  \n",
       "4    2000-01-01  \n",
       "..          ...  \n",
       "890  2000-01-01  \n",
       "891  2000-01-01  \n",
       "892  2000-01-01  \n",
       "893  2000-01-01  \n",
       "894  2000-01-01  \n",
       "\n",
       "[895 rows x 7 columns]"
      ]
     },
     "execution_count": 17,
     "metadata": {},
     "output_type": "execute_result"
    }
   ],
   "source": [
    "geodb.get_collection('land_use', query=\"raba_id=eq.1300\")"
   ]
  },
  {
   "cell_type": "markdown",
   "metadata": {
    "papermill": {
     "duration": 0.026931,
     "end_time": "2020-08-31T12:12:23.656143",
     "exception": false,
     "start_time": "2020-08-31T12:12:23.629212",
     "status": "completed"
    },
    "tags": []
   },
   "source": [
    "### Managing Properties of a Collection"
   ]
  },
  {
   "cell_type": "code",
   "execution_count": 18,
   "metadata": {
    "execution": {
     "iopub.execute_input": "2020-08-31T12:12:23.716483Z",
     "iopub.status.busy": "2020-08-31T12:12:23.715684Z",
     "iopub.status.idle": "2020-08-31T12:12:23.849583Z",
     "shell.execute_reply": "2020-08-31T12:12:23.849000Z"
    },
    "papermill": {
     "duration": 0.167059,
     "end_time": "2020-08-31T12:12:23.849712",
     "exception": false,
     "start_time": "2020-08-31T12:12:23.682653",
     "status": "completed"
    },
    "tags": []
   },
   "outputs": [
    {
     "data": {
      "text/html": [
       "<div>\n",
       "<style scoped>\n",
       "    .dataframe tbody tr th:only-of-type {\n",
       "        vertical-align: middle;\n",
       "    }\n",
       "\n",
       "    .dataframe tbody tr th {\n",
       "        vertical-align: top;\n",
       "    }\n",
       "\n",
       "    .dataframe thead th {\n",
       "        text-align: right;\n",
       "    }\n",
       "</style>\n",
       "<table border=\"1\" class=\"dataframe\">\n",
       "  <thead>\n",
       "    <tr style=\"text-align: right;\">\n",
       "      <th></th>\n",
       "      <th>table_name</th>\n",
       "    </tr>\n",
       "  </thead>\n",
       "  <tbody>\n",
       "    <tr>\n",
       "      <th>0</th>\n",
       "      <td>land_use</td>\n",
       "    </tr>\n",
       "  </tbody>\n",
       "</table>\n",
       "</div>"
      ],
      "text/plain": [
       "  table_name\n",
       "0   land_use"
      ]
     },
     "execution_count": 18,
     "metadata": {},
     "output_type": "execute_result"
    }
   ],
   "source": [
    "geodb.get_my_collections()"
   ]
  },
  {
   "cell_type": "code",
   "execution_count": 19,
   "metadata": {
    "execution": {
     "iopub.execute_input": "2020-08-31T12:12:23.917063Z",
     "iopub.status.busy": "2020-08-31T12:12:23.916024Z",
     "iopub.status.idle": "2020-08-31T12:12:24.323664Z",
     "shell.execute_reply": "2020-08-31T12:12:24.322947Z"
    },
    "papermill": {
     "duration": 0.446027,
     "end_time": "2020-08-31T12:12:24.323812",
     "exception": false,
     "start_time": "2020-08-31T12:12:23.877785",
     "status": "completed"
    },
    "tags": []
   },
   "outputs": [
    {
     "data": {
      "text/html": [
       "<div>\n",
       "<style scoped>\n",
       "    .dataframe tbody tr th:only-of-type {\n",
       "        vertical-align: middle;\n",
       "    }\n",
       "\n",
       "    .dataframe tbody tr th {\n",
       "        vertical-align: top;\n",
       "    }\n",
       "\n",
       "    .dataframe thead th {\n",
       "        text-align: right;\n",
       "    }\n",
       "</style>\n",
       "<table border=\"1\" class=\"dataframe\">\n",
       "  <thead>\n",
       "    <tr style=\"text-align: right;\">\n",
       "      <th></th>\n",
       "      <th>table_name</th>\n",
       "      <th>column_name</th>\n",
       "      <th>data_type</th>\n",
       "    </tr>\n",
       "  </thead>\n",
       "  <tbody>\n",
       "    <tr>\n",
       "      <th>0</th>\n",
       "      <td>geodb_418dfeac-15f0-4606-9edb-fd9eb722bf04_lan...</td>\n",
       "      <td>id</td>\n",
       "      <td>integer</td>\n",
       "    </tr>\n",
       "    <tr>\n",
       "      <th>1</th>\n",
       "      <td>geodb_418dfeac-15f0-4606-9edb-fd9eb722bf04_lan...</td>\n",
       "      <td>created_at</td>\n",
       "      <td>timestamp with time zone</td>\n",
       "    </tr>\n",
       "    <tr>\n",
       "      <th>2</th>\n",
       "      <td>geodb_418dfeac-15f0-4606-9edb-fd9eb722bf04_lan...</td>\n",
       "      <td>modified_at</td>\n",
       "      <td>timestamp with time zone</td>\n",
       "    </tr>\n",
       "    <tr>\n",
       "      <th>3</th>\n",
       "      <td>geodb_418dfeac-15f0-4606-9edb-fd9eb722bf04_lan...</td>\n",
       "      <td>geometry</td>\n",
       "      <td>USER-DEFINED</td>\n",
       "    </tr>\n",
       "    <tr>\n",
       "      <th>4</th>\n",
       "      <td>geodb_418dfeac-15f0-4606-9edb-fd9eb722bf04_lan...</td>\n",
       "      <td>raba_pid</td>\n",
       "      <td>double precision</td>\n",
       "    </tr>\n",
       "    <tr>\n",
       "      <th>5</th>\n",
       "      <td>geodb_418dfeac-15f0-4606-9edb-fd9eb722bf04_lan...</td>\n",
       "      <td>raba_id</td>\n",
       "      <td>double precision</td>\n",
       "    </tr>\n",
       "    <tr>\n",
       "      <th>6</th>\n",
       "      <td>geodb_418dfeac-15f0-4606-9edb-fd9eb722bf04_lan...</td>\n",
       "      <td>d_od</td>\n",
       "      <td>date</td>\n",
       "    </tr>\n",
       "  </tbody>\n",
       "</table>\n",
       "</div>"
      ],
      "text/plain": [
       "                                          table_name  column_name  \\\n",
       "0  geodb_418dfeac-15f0-4606-9edb-fd9eb722bf04_lan...           id   \n",
       "1  geodb_418dfeac-15f0-4606-9edb-fd9eb722bf04_lan...   created_at   \n",
       "2  geodb_418dfeac-15f0-4606-9edb-fd9eb722bf04_lan...  modified_at   \n",
       "3  geodb_418dfeac-15f0-4606-9edb-fd9eb722bf04_lan...     geometry   \n",
       "4  geodb_418dfeac-15f0-4606-9edb-fd9eb722bf04_lan...     raba_pid   \n",
       "5  geodb_418dfeac-15f0-4606-9edb-fd9eb722bf04_lan...      raba_id   \n",
       "6  geodb_418dfeac-15f0-4606-9edb-fd9eb722bf04_lan...         d_od   \n",
       "\n",
       "                  data_type  \n",
       "0                   integer  \n",
       "1  timestamp with time zone  \n",
       "2  timestamp with time zone  \n",
       "3              USER-DEFINED  \n",
       "4          double precision  \n",
       "5          double precision  \n",
       "6                      date  "
      ]
     },
     "execution_count": 19,
     "metadata": {},
     "output_type": "execute_result"
    }
   ],
   "source": [
    "geodb.get_properties('land_use')"
   ]
  },
  {
   "cell_type": "code",
   "execution_count": 20,
   "metadata": {
    "execution": {
     "iopub.execute_input": "2020-08-31T12:12:24.387334Z",
     "iopub.status.busy": "2020-08-31T12:12:24.386602Z",
     "iopub.status.idle": "2020-08-31T12:12:24.762706Z",
     "shell.execute_reply": "2020-08-31T12:12:24.762130Z"
    },
    "papermill": {
     "duration": 0.410508,
     "end_time": "2020-08-31T12:12:24.762830",
     "exception": false,
     "start_time": "2020-08-31T12:12:24.352322",
     "status": "completed"
    },
    "tags": []
   },
   "outputs": [
    {
     "data": {
      "text/plain": [
       "Properties added"
      ]
     },
     "execution_count": 20,
     "metadata": {},
     "output_type": "execute_result"
    }
   ],
   "source": [
    "geodb.add_property('land_use', \"test_prop\", 'integer')"
   ]
  },
  {
   "cell_type": "code",
   "execution_count": 21,
   "metadata": {
    "execution": {
     "iopub.execute_input": "2020-08-31T12:12:24.826478Z",
     "iopub.status.busy": "2020-08-31T12:12:24.825524Z",
     "iopub.status.idle": "2020-08-31T12:12:25.323643Z",
     "shell.execute_reply": "2020-08-31T12:12:25.322891Z"
    },
    "papermill": {
     "duration": 0.532156,
     "end_time": "2020-08-31T12:12:25.323787",
     "exception": false,
     "start_time": "2020-08-31T12:12:24.791631",
     "status": "completed"
    },
    "tags": []
   },
   "outputs": [
    {
     "data": {
      "text/html": [
       "<div>\n",
       "<style scoped>\n",
       "    .dataframe tbody tr th:only-of-type {\n",
       "        vertical-align: middle;\n",
       "    }\n",
       "\n",
       "    .dataframe tbody tr th {\n",
       "        vertical-align: top;\n",
       "    }\n",
       "\n",
       "    .dataframe thead th {\n",
       "        text-align: right;\n",
       "    }\n",
       "</style>\n",
       "<table border=\"1\" class=\"dataframe\">\n",
       "  <thead>\n",
       "    <tr style=\"text-align: right;\">\n",
       "      <th></th>\n",
       "      <th>table_name</th>\n",
       "      <th>column_name</th>\n",
       "      <th>data_type</th>\n",
       "    </tr>\n",
       "  </thead>\n",
       "  <tbody>\n",
       "    <tr>\n",
       "      <th>0</th>\n",
       "      <td>geodb_418dfeac-15f0-4606-9edb-fd9eb722bf04_lan...</td>\n",
       "      <td>id</td>\n",
       "      <td>integer</td>\n",
       "    </tr>\n",
       "    <tr>\n",
       "      <th>1</th>\n",
       "      <td>geodb_418dfeac-15f0-4606-9edb-fd9eb722bf04_lan...</td>\n",
       "      <td>created_at</td>\n",
       "      <td>timestamp with time zone</td>\n",
       "    </tr>\n",
       "    <tr>\n",
       "      <th>2</th>\n",
       "      <td>geodb_418dfeac-15f0-4606-9edb-fd9eb722bf04_lan...</td>\n",
       "      <td>modified_at</td>\n",
       "      <td>timestamp with time zone</td>\n",
       "    </tr>\n",
       "    <tr>\n",
       "      <th>3</th>\n",
       "      <td>geodb_418dfeac-15f0-4606-9edb-fd9eb722bf04_lan...</td>\n",
       "      <td>geometry</td>\n",
       "      <td>USER-DEFINED</td>\n",
       "    </tr>\n",
       "    <tr>\n",
       "      <th>4</th>\n",
       "      <td>geodb_418dfeac-15f0-4606-9edb-fd9eb722bf04_lan...</td>\n",
       "      <td>raba_pid</td>\n",
       "      <td>double precision</td>\n",
       "    </tr>\n",
       "    <tr>\n",
       "      <th>5</th>\n",
       "      <td>geodb_418dfeac-15f0-4606-9edb-fd9eb722bf04_lan...</td>\n",
       "      <td>raba_id</td>\n",
       "      <td>double precision</td>\n",
       "    </tr>\n",
       "    <tr>\n",
       "      <th>6</th>\n",
       "      <td>geodb_418dfeac-15f0-4606-9edb-fd9eb722bf04_lan...</td>\n",
       "      <td>d_od</td>\n",
       "      <td>date</td>\n",
       "    </tr>\n",
       "    <tr>\n",
       "      <th>7</th>\n",
       "      <td>geodb_418dfeac-15f0-4606-9edb-fd9eb722bf04_lan...</td>\n",
       "      <td>test_prop</td>\n",
       "      <td>integer</td>\n",
       "    </tr>\n",
       "  </tbody>\n",
       "</table>\n",
       "</div>"
      ],
      "text/plain": [
       "                                          table_name  column_name  \\\n",
       "0  geodb_418dfeac-15f0-4606-9edb-fd9eb722bf04_lan...           id   \n",
       "1  geodb_418dfeac-15f0-4606-9edb-fd9eb722bf04_lan...   created_at   \n",
       "2  geodb_418dfeac-15f0-4606-9edb-fd9eb722bf04_lan...  modified_at   \n",
       "3  geodb_418dfeac-15f0-4606-9edb-fd9eb722bf04_lan...     geometry   \n",
       "4  geodb_418dfeac-15f0-4606-9edb-fd9eb722bf04_lan...     raba_pid   \n",
       "5  geodb_418dfeac-15f0-4606-9edb-fd9eb722bf04_lan...      raba_id   \n",
       "6  geodb_418dfeac-15f0-4606-9edb-fd9eb722bf04_lan...         d_od   \n",
       "7  geodb_418dfeac-15f0-4606-9edb-fd9eb722bf04_lan...    test_prop   \n",
       "\n",
       "                  data_type  \n",
       "0                   integer  \n",
       "1  timestamp with time zone  \n",
       "2  timestamp with time zone  \n",
       "3              USER-DEFINED  \n",
       "4          double precision  \n",
       "5          double precision  \n",
       "6                      date  \n",
       "7                   integer  "
      ]
     },
     "execution_count": 21,
     "metadata": {},
     "output_type": "execute_result"
    }
   ],
   "source": [
    "geodb.get_properties('land_use')"
   ]
  },
  {
   "cell_type": "code",
   "execution_count": 22,
   "metadata": {
    "execution": {
     "iopub.execute_input": "2020-08-31T12:12:25.389398Z",
     "iopub.status.busy": "2020-08-31T12:12:25.386739Z",
     "iopub.status.idle": "2020-08-31T12:12:26.165085Z",
     "shell.execute_reply": "2020-08-31T12:12:26.165531Z"
    },
    "papermill": {
     "duration": 0.812028,
     "end_time": "2020-08-31T12:12:26.165694",
     "exception": false,
     "start_time": "2020-08-31T12:12:25.353666",
     "status": "completed"
    },
    "tags": []
   },
   "outputs": [
    {
     "data": {
      "text/plain": [
       "Properties ['test_prop'] dropped from geodb_418dfeac-15f0-4606-9edb-fd9eb722bf04_land_use"
      ]
     },
     "execution_count": 22,
     "metadata": {},
     "output_type": "execute_result"
    }
   ],
   "source": [
    "geodb.drop_property('land_use', 'test_prop')"
   ]
  },
  {
   "cell_type": "code",
   "execution_count": 23,
   "metadata": {
    "execution": {
     "iopub.execute_input": "2020-08-31T12:12:26.234608Z",
     "iopub.status.busy": "2020-08-31T12:12:26.233793Z",
     "iopub.status.idle": "2020-08-31T12:12:26.603753Z",
     "shell.execute_reply": "2020-08-31T12:12:26.603078Z"
    },
    "papermill": {
     "duration": 0.407269,
     "end_time": "2020-08-31T12:12:26.603884",
     "exception": false,
     "start_time": "2020-08-31T12:12:26.196615",
     "status": "completed"
    },
    "tags": []
   },
   "outputs": [
    {
     "data": {
      "text/html": [
       "<div>\n",
       "<style scoped>\n",
       "    .dataframe tbody tr th:only-of-type {\n",
       "        vertical-align: middle;\n",
       "    }\n",
       "\n",
       "    .dataframe tbody tr th {\n",
       "        vertical-align: top;\n",
       "    }\n",
       "\n",
       "    .dataframe thead th {\n",
       "        text-align: right;\n",
       "    }\n",
       "</style>\n",
       "<table border=\"1\" class=\"dataframe\">\n",
       "  <thead>\n",
       "    <tr style=\"text-align: right;\">\n",
       "      <th></th>\n",
       "      <th>table_name</th>\n",
       "      <th>column_name</th>\n",
       "      <th>data_type</th>\n",
       "    </tr>\n",
       "  </thead>\n",
       "  <tbody>\n",
       "    <tr>\n",
       "      <th>0</th>\n",
       "      <td>geodb_418dfeac-15f0-4606-9edb-fd9eb722bf04_lan...</td>\n",
       "      <td>id</td>\n",
       "      <td>integer</td>\n",
       "    </tr>\n",
       "    <tr>\n",
       "      <th>1</th>\n",
       "      <td>geodb_418dfeac-15f0-4606-9edb-fd9eb722bf04_lan...</td>\n",
       "      <td>created_at</td>\n",
       "      <td>timestamp with time zone</td>\n",
       "    </tr>\n",
       "    <tr>\n",
       "      <th>2</th>\n",
       "      <td>geodb_418dfeac-15f0-4606-9edb-fd9eb722bf04_lan...</td>\n",
       "      <td>modified_at</td>\n",
       "      <td>timestamp with time zone</td>\n",
       "    </tr>\n",
       "    <tr>\n",
       "      <th>3</th>\n",
       "      <td>geodb_418dfeac-15f0-4606-9edb-fd9eb722bf04_lan...</td>\n",
       "      <td>geometry</td>\n",
       "      <td>USER-DEFINED</td>\n",
       "    </tr>\n",
       "    <tr>\n",
       "      <th>4</th>\n",
       "      <td>geodb_418dfeac-15f0-4606-9edb-fd9eb722bf04_lan...</td>\n",
       "      <td>raba_pid</td>\n",
       "      <td>double precision</td>\n",
       "    </tr>\n",
       "    <tr>\n",
       "      <th>5</th>\n",
       "      <td>geodb_418dfeac-15f0-4606-9edb-fd9eb722bf04_lan...</td>\n",
       "      <td>raba_id</td>\n",
       "      <td>double precision</td>\n",
       "    </tr>\n",
       "    <tr>\n",
       "      <th>6</th>\n",
       "      <td>geodb_418dfeac-15f0-4606-9edb-fd9eb722bf04_lan...</td>\n",
       "      <td>d_od</td>\n",
       "      <td>date</td>\n",
       "    </tr>\n",
       "  </tbody>\n",
       "</table>\n",
       "</div>"
      ],
      "text/plain": [
       "                                          table_name  column_name  \\\n",
       "0  geodb_418dfeac-15f0-4606-9edb-fd9eb722bf04_lan...           id   \n",
       "1  geodb_418dfeac-15f0-4606-9edb-fd9eb722bf04_lan...   created_at   \n",
       "2  geodb_418dfeac-15f0-4606-9edb-fd9eb722bf04_lan...  modified_at   \n",
       "3  geodb_418dfeac-15f0-4606-9edb-fd9eb722bf04_lan...     geometry   \n",
       "4  geodb_418dfeac-15f0-4606-9edb-fd9eb722bf04_lan...     raba_pid   \n",
       "5  geodb_418dfeac-15f0-4606-9edb-fd9eb722bf04_lan...      raba_id   \n",
       "6  geodb_418dfeac-15f0-4606-9edb-fd9eb722bf04_lan...         d_od   \n",
       "\n",
       "                  data_type  \n",
       "0                   integer  \n",
       "1  timestamp with time zone  \n",
       "2  timestamp with time zone  \n",
       "3              USER-DEFINED  \n",
       "4          double precision  \n",
       "5          double precision  \n",
       "6                      date  "
      ]
     },
     "execution_count": 23,
     "metadata": {},
     "output_type": "execute_result"
    }
   ],
   "source": [
    "geodb.get_properties('land_use')"
   ]
  },
  {
   "cell_type": "code",
   "execution_count": 24,
   "metadata": {
    "execution": {
     "iopub.execute_input": "2020-08-31T12:12:26.669512Z",
     "iopub.status.busy": "2020-08-31T12:12:26.668763Z",
     "iopub.status.idle": "2020-08-31T12:12:27.095081Z",
     "shell.execute_reply": "2020-08-31T12:12:27.095848Z"
    },
    "papermill": {
     "duration": 0.462949,
     "end_time": "2020-08-31T12:12:27.096069",
     "exception": false,
     "start_time": "2020-08-31T12:12:26.633120",
     "status": "completed"
    },
    "tags": []
   },
   "outputs": [
    {
     "data": {
      "text/plain": [
       "Properties added"
      ]
     },
     "execution_count": 24,
     "metadata": {},
     "output_type": "execute_result"
    }
   ],
   "source": [
    "geodb.add_properties('land_use', properties={'test1': 'integer', 'test2': 'date'})"
   ]
  },
  {
   "cell_type": "code",
   "execution_count": 25,
   "metadata": {
    "execution": {
     "iopub.execute_input": "2020-08-31T12:12:27.190666Z",
     "iopub.status.busy": "2020-08-31T12:12:27.189736Z",
     "iopub.status.idle": "2020-08-31T12:12:27.649243Z",
     "shell.execute_reply": "2020-08-31T12:12:27.649701Z"
    },
    "papermill": {
     "duration": 0.510662,
     "end_time": "2020-08-31T12:12:27.649856",
     "exception": false,
     "start_time": "2020-08-31T12:12:27.139194",
     "status": "completed"
    },
    "tags": []
   },
   "outputs": [
    {
     "data": {
      "text/html": [
       "<div>\n",
       "<style scoped>\n",
       "    .dataframe tbody tr th:only-of-type {\n",
       "        vertical-align: middle;\n",
       "    }\n",
       "\n",
       "    .dataframe tbody tr th {\n",
       "        vertical-align: top;\n",
       "    }\n",
       "\n",
       "    .dataframe thead th {\n",
       "        text-align: right;\n",
       "    }\n",
       "</style>\n",
       "<table border=\"1\" class=\"dataframe\">\n",
       "  <thead>\n",
       "    <tr style=\"text-align: right;\">\n",
       "      <th></th>\n",
       "      <th>table_name</th>\n",
       "      <th>column_name</th>\n",
       "      <th>data_type</th>\n",
       "    </tr>\n",
       "  </thead>\n",
       "  <tbody>\n",
       "    <tr>\n",
       "      <th>0</th>\n",
       "      <td>geodb_418dfeac-15f0-4606-9edb-fd9eb722bf04_lan...</td>\n",
       "      <td>id</td>\n",
       "      <td>integer</td>\n",
       "    </tr>\n",
       "    <tr>\n",
       "      <th>1</th>\n",
       "      <td>geodb_418dfeac-15f0-4606-9edb-fd9eb722bf04_lan...</td>\n",
       "      <td>created_at</td>\n",
       "      <td>timestamp with time zone</td>\n",
       "    </tr>\n",
       "    <tr>\n",
       "      <th>2</th>\n",
       "      <td>geodb_418dfeac-15f0-4606-9edb-fd9eb722bf04_lan...</td>\n",
       "      <td>modified_at</td>\n",
       "      <td>timestamp with time zone</td>\n",
       "    </tr>\n",
       "    <tr>\n",
       "      <th>3</th>\n",
       "      <td>geodb_418dfeac-15f0-4606-9edb-fd9eb722bf04_lan...</td>\n",
       "      <td>geometry</td>\n",
       "      <td>USER-DEFINED</td>\n",
       "    </tr>\n",
       "    <tr>\n",
       "      <th>4</th>\n",
       "      <td>geodb_418dfeac-15f0-4606-9edb-fd9eb722bf04_lan...</td>\n",
       "      <td>raba_pid</td>\n",
       "      <td>double precision</td>\n",
       "    </tr>\n",
       "    <tr>\n",
       "      <th>5</th>\n",
       "      <td>geodb_418dfeac-15f0-4606-9edb-fd9eb722bf04_lan...</td>\n",
       "      <td>raba_id</td>\n",
       "      <td>double precision</td>\n",
       "    </tr>\n",
       "    <tr>\n",
       "      <th>6</th>\n",
       "      <td>geodb_418dfeac-15f0-4606-9edb-fd9eb722bf04_lan...</td>\n",
       "      <td>d_od</td>\n",
       "      <td>date</td>\n",
       "    </tr>\n",
       "    <tr>\n",
       "      <th>7</th>\n",
       "      <td>geodb_418dfeac-15f0-4606-9edb-fd9eb722bf04_lan...</td>\n",
       "      <td>test1</td>\n",
       "      <td>integer</td>\n",
       "    </tr>\n",
       "    <tr>\n",
       "      <th>8</th>\n",
       "      <td>geodb_418dfeac-15f0-4606-9edb-fd9eb722bf04_lan...</td>\n",
       "      <td>test2</td>\n",
       "      <td>date</td>\n",
       "    </tr>\n",
       "  </tbody>\n",
       "</table>\n",
       "</div>"
      ],
      "text/plain": [
       "                                          table_name  column_name  \\\n",
       "0  geodb_418dfeac-15f0-4606-9edb-fd9eb722bf04_lan...           id   \n",
       "1  geodb_418dfeac-15f0-4606-9edb-fd9eb722bf04_lan...   created_at   \n",
       "2  geodb_418dfeac-15f0-4606-9edb-fd9eb722bf04_lan...  modified_at   \n",
       "3  geodb_418dfeac-15f0-4606-9edb-fd9eb722bf04_lan...     geometry   \n",
       "4  geodb_418dfeac-15f0-4606-9edb-fd9eb722bf04_lan...     raba_pid   \n",
       "5  geodb_418dfeac-15f0-4606-9edb-fd9eb722bf04_lan...      raba_id   \n",
       "6  geodb_418dfeac-15f0-4606-9edb-fd9eb722bf04_lan...         d_od   \n",
       "7  geodb_418dfeac-15f0-4606-9edb-fd9eb722bf04_lan...        test1   \n",
       "8  geodb_418dfeac-15f0-4606-9edb-fd9eb722bf04_lan...        test2   \n",
       "\n",
       "                  data_type  \n",
       "0                   integer  \n",
       "1  timestamp with time zone  \n",
       "2  timestamp with time zone  \n",
       "3              USER-DEFINED  \n",
       "4          double precision  \n",
       "5          double precision  \n",
       "6                      date  \n",
       "7                   integer  \n",
       "8                      date  "
      ]
     },
     "execution_count": 25,
     "metadata": {},
     "output_type": "execute_result"
    }
   ],
   "source": [
    "geodb.get_properties('land_use')"
   ]
  },
  {
   "cell_type": "code",
   "execution_count": 26,
   "metadata": {
    "execution": {
     "iopub.execute_input": "2020-08-31T12:12:27.718639Z",
     "iopub.status.busy": "2020-08-31T12:12:27.717937Z",
     "iopub.status.idle": "2020-08-31T12:12:28.516173Z",
     "shell.execute_reply": "2020-08-31T12:12:28.515585Z"
    },
    "papermill": {
     "duration": 0.835697,
     "end_time": "2020-08-31T12:12:28.516301",
     "exception": false,
     "start_time": "2020-08-31T12:12:27.680604",
     "status": "completed"
    },
    "tags": []
   },
   "outputs": [
    {
     "data": {
      "text/plain": [
       "Properties ['test1', 'test2'] dropped from geodb_418dfeac-15f0-4606-9edb-fd9eb722bf04_land_use"
      ]
     },
     "execution_count": 26,
     "metadata": {},
     "output_type": "execute_result"
    }
   ],
   "source": [
    "geodb.drop_properties('land_use', properties=['test1', 'test2'])"
   ]
  },
  {
   "cell_type": "code",
   "execution_count": 27,
   "metadata": {
    "execution": {
     "iopub.execute_input": "2020-08-31T12:12:28.585225Z",
     "iopub.status.busy": "2020-08-31T12:12:28.584472Z",
     "iopub.status.idle": "2020-08-31T12:12:28.965592Z",
     "shell.execute_reply": "2020-08-31T12:12:28.964786Z"
    },
    "papermill": {
     "duration": 0.418489,
     "end_time": "2020-08-31T12:12:28.965719",
     "exception": false,
     "start_time": "2020-08-31T12:12:28.547230",
     "status": "completed"
    },
    "tags": []
   },
   "outputs": [
    {
     "data": {
      "text/html": [
       "<div>\n",
       "<style scoped>\n",
       "    .dataframe tbody tr th:only-of-type {\n",
       "        vertical-align: middle;\n",
       "    }\n",
       "\n",
       "    .dataframe tbody tr th {\n",
       "        vertical-align: top;\n",
       "    }\n",
       "\n",
       "    .dataframe thead th {\n",
       "        text-align: right;\n",
       "    }\n",
       "</style>\n",
       "<table border=\"1\" class=\"dataframe\">\n",
       "  <thead>\n",
       "    <tr style=\"text-align: right;\">\n",
       "      <th></th>\n",
       "      <th>table_name</th>\n",
       "      <th>column_name</th>\n",
       "      <th>data_type</th>\n",
       "    </tr>\n",
       "  </thead>\n",
       "  <tbody>\n",
       "    <tr>\n",
       "      <th>0</th>\n",
       "      <td>geodb_418dfeac-15f0-4606-9edb-fd9eb722bf04_lan...</td>\n",
       "      <td>id</td>\n",
       "      <td>integer</td>\n",
       "    </tr>\n",
       "    <tr>\n",
       "      <th>1</th>\n",
       "      <td>geodb_418dfeac-15f0-4606-9edb-fd9eb722bf04_lan...</td>\n",
       "      <td>created_at</td>\n",
       "      <td>timestamp with time zone</td>\n",
       "    </tr>\n",
       "    <tr>\n",
       "      <th>2</th>\n",
       "      <td>geodb_418dfeac-15f0-4606-9edb-fd9eb722bf04_lan...</td>\n",
       "      <td>modified_at</td>\n",
       "      <td>timestamp with time zone</td>\n",
       "    </tr>\n",
       "    <tr>\n",
       "      <th>3</th>\n",
       "      <td>geodb_418dfeac-15f0-4606-9edb-fd9eb722bf04_lan...</td>\n",
       "      <td>geometry</td>\n",
       "      <td>USER-DEFINED</td>\n",
       "    </tr>\n",
       "    <tr>\n",
       "      <th>4</th>\n",
       "      <td>geodb_418dfeac-15f0-4606-9edb-fd9eb722bf04_lan...</td>\n",
       "      <td>raba_pid</td>\n",
       "      <td>double precision</td>\n",
       "    </tr>\n",
       "    <tr>\n",
       "      <th>5</th>\n",
       "      <td>geodb_418dfeac-15f0-4606-9edb-fd9eb722bf04_lan...</td>\n",
       "      <td>raba_id</td>\n",
       "      <td>double precision</td>\n",
       "    </tr>\n",
       "    <tr>\n",
       "      <th>6</th>\n",
       "      <td>geodb_418dfeac-15f0-4606-9edb-fd9eb722bf04_lan...</td>\n",
       "      <td>d_od</td>\n",
       "      <td>date</td>\n",
       "    </tr>\n",
       "  </tbody>\n",
       "</table>\n",
       "</div>"
      ],
      "text/plain": [
       "                                          table_name  column_name  \\\n",
       "0  geodb_418dfeac-15f0-4606-9edb-fd9eb722bf04_lan...           id   \n",
       "1  geodb_418dfeac-15f0-4606-9edb-fd9eb722bf04_lan...   created_at   \n",
       "2  geodb_418dfeac-15f0-4606-9edb-fd9eb722bf04_lan...  modified_at   \n",
       "3  geodb_418dfeac-15f0-4606-9edb-fd9eb722bf04_lan...     geometry   \n",
       "4  geodb_418dfeac-15f0-4606-9edb-fd9eb722bf04_lan...     raba_pid   \n",
       "5  geodb_418dfeac-15f0-4606-9edb-fd9eb722bf04_lan...      raba_id   \n",
       "6  geodb_418dfeac-15f0-4606-9edb-fd9eb722bf04_lan...         d_od   \n",
       "\n",
       "                  data_type  \n",
       "0                   integer  \n",
       "1  timestamp with time zone  \n",
       "2  timestamp with time zone  \n",
       "3              USER-DEFINED  \n",
       "4          double precision  \n",
       "5          double precision  \n",
       "6                      date  "
      ]
     },
     "execution_count": 27,
     "metadata": {},
     "output_type": "execute_result"
    }
   ],
   "source": [
    "geodb.get_properties('land_use')"
   ]
  },
  {
   "cell_type": "code",
   "execution_count": 28,
   "metadata": {
    "execution": {
     "iopub.execute_input": "2020-08-31T12:12:29.035705Z",
     "iopub.status.busy": "2020-08-31T12:12:29.034854Z",
     "iopub.status.idle": "2020-08-31T12:12:29.400359Z",
     "shell.execute_reply": "2020-08-31T12:12:29.399656Z"
    },
    "papermill": {
     "duration": 0.402644,
     "end_time": "2020-08-31T12:12:29.400483",
     "exception": false,
     "start_time": "2020-08-31T12:12:28.997839",
     "status": "completed"
    },
    "tags": []
   },
   "outputs": [
    {
     "data": {
      "text/plain": [
       "Collection ['geodb_418dfeac-15f0-4606-9edb-fd9eb722bf04_land_use'] deleted"
      ]
     },
     "execution_count": 28,
     "metadata": {},
     "output_type": "execute_result"
    }
   ],
   "source": [
    "geodb.drop_collection('land_use')"
   ]
  },
  {
   "cell_type": "code",
   "execution_count": null,
   "metadata": {
    "papermill": {
     "duration": 0.031532,
     "end_time": "2020-08-31T12:12:29.463952",
     "exception": false,
     "start_time": "2020-08-31T12:12:29.432420",
     "status": "completed"
    },
    "tags": []
   },
   "outputs": [],
   "source": []
  }
 ],
 "metadata": {
  "kernelspec": {
   "display_name": "EDC 0.19.6 (Python3)",
   "language": "python",
   "name": "edc"
  },
  "language_info": {
   "codemirror_mode": {
    "name": "ipython",
    "version": 3
   },
   "file_extension": ".py",
   "mimetype": "text/x-python",
   "name": "python",
   "nbconvert_exporter": "python",
   "pygments_lexer": "ipython3",
   "version": "3.8.4"
  },
  "papermill": {
   "duration": 22.694128,
   "end_time": "2020-08-31T12:12:29.802141",
   "environment_variables": {},
   "exception": null,
   "input_path": "/tmp/tmp8ozn_fk1",
   "output_path": "/tmp/notebook_output.ipynb",
   "parameters": {},
   "start_time": "2020-08-31T12:12:07.108013",
   "version": "2.1.2"
  },
  "properties": {
   "description": "Euro Data Cube GeoDB: Manage Datasets",
   "id": "geodb-manage",
   "license": null,
   "name": "GeoDB: Manage Datasets",
   "requirements": [
    "eurodatacube-geodb"
   ],
   "tags": [
    "Getting started",
    "GeoDB"
   ],
   "version": "0.2"
  },
  "pycharm": {
   "stem_cell": {
    "cell_type": "raw",
    "metadata": {
     "collapsed": false
    },
    "source": []
   }
  }
 },
 "nbformat": 4,
 "nbformat_minor": 4
}