{
 "cells": [
  {
   "cell_type": "code",
   "execution_count": 1,
   "metadata": {
    "execution": {
     "iopub.execute_input": "2020-12-15T11:01:42.364720Z",
     "iopub.status.busy": "2020-12-15T11:01:42.364190Z",
     "iopub.status.idle": "2020-12-15T11:01:45.466859Z",
     "shell.execute_reply": "2020-12-15T11:01:45.466352Z"
    },
    "papermill": {
     "duration": 3.120649,
     "end_time": "2020-12-15T11:01:45.467016",
     "exception": false,
     "start_time": "2020-12-15T11:01:42.346367",
     "status": "completed"
    },
    "tags": []
   },
   "outputs": [
    {
     "data": {
      "text/markdown": [
       "\n",
       "***Notebook Title***  \n",
       "GeoDB: Manage Datasets\n",
       "\n",
       "***Notebook Description***  \n",
       "Euro Data Cube GeoDB: Manage Datasets\n",
       "\n",
       "\n",
       "***Notebook Dependencies***  \n",
       "This notebook requires an active subscription to:\n",
       "* EDC GeoDB\n"
      ],
      "text/plain": [
       "<IPython.core.display.Markdown object>"
      ]
     },
     "metadata": {},
     "output_type": "display_data"
    }
   ],
   "source": [
    "from edc import print_info \n",
    "print_info(\"geodb-manage\")"
   ]
  },
  {
   "cell_type": "code",
   "execution_count": 2,
   "metadata": {
    "execution": {
     "iopub.execute_input": "2020-12-15T11:01:45.495304Z",
     "iopub.status.busy": "2020-12-15T11:01:45.494775Z",
     "iopub.status.idle": "2020-12-15T11:01:45.498336Z",
     "shell.execute_reply": "2020-12-15T11:01:45.497835Z"
    },
    "papermill": {
     "duration": 0.01855,
     "end_time": "2020-12-15T11:01:45.498429",
     "exception": false,
     "start_time": "2020-12-15T11:01:45.479879",
     "status": "completed"
    },
    "tags": []
   },
   "outputs": [
    {
     "data": {
      "text/markdown": [
       "API credentials have automatically been injected for your active subscriptions.  \n",
       "The following environment variables are now available:\n",
       "* `GEODB_API_SERVER_PORT`, `GEODB_API_SERVER_URL`, `GEODB_AUTH_AUD`, `GEODB_AUTH_CLIENT_ID`, `GEODB_AUTH_CLIENT_SECRET`, `GEODB_AUTH_DOMAIN`\n",
       "\n",
       "The following additional environment variables have been loaded from `~/custom.env`:\n",
       "* `AWS_BUCKET`\n",
       "* `DAPA_URL`\n",
       "* `DB_HOST`, `DB_NAME`, `DB_PASSWORD`, `DB_USER`\n",
       "* `OGC_EDC_URL`\n",
       "* `REFERENCE_DATA`\n"
      ],
      "text/plain": [
       "<IPython.core.display.Markdown object>"
      ]
     },
     "metadata": {},
     "output_type": "display_data"
    }
   ],
   "source": [
    "from edc import setup_environment_variables\n",
    "setup_environment_variables()"
   ]
  },
  {
   "cell_type": "code",
   "execution_count": 3,
   "metadata": {
    "execution": {
     "iopub.execute_input": "2020-12-15T11:01:45.527206Z",
     "iopub.status.busy": "2020-12-15T11:01:45.526666Z",
     "iopub.status.idle": "2020-12-15T11:01:45.529763Z",
     "shell.execute_reply": "2020-12-15T11:01:45.529251Z"
    },
    "papermill": {
     "duration": 0.018544,
     "end_time": "2020-12-15T11:01:45.529858",
     "exception": false,
     "start_time": "2020-12-15T11:01:45.511314",
     "status": "completed"
    },
    "tags": []
   },
   "outputs": [
    {
     "data": {
      "text/html": [
       "<script type=\"text/javascript\">\n",
       "        function toggle(id) {\n",
       "            el = document.getElementById(id);\n",
       "            el.style.display = el.style.display === \"none\" ? \"block\" : \"none\";\n",
       "        }\n",
       "    </script>"
      ],
      "text/plain": [
       "<IPython.core.display.HTML object>"
      ]
     },
     "metadata": {},
     "output_type": "display_data"
    },
    {
     "data": {
      "text/html": [
       "This notebook is compatible with this base image version (user-0.22.3)."
      ],
      "text/plain": [
       "<IPython.core.display.HTML object>"
      ]
     },
     "metadata": {},
     "output_type": "display_data"
    }
   ],
   "source": [
    "from edc import check_compatibility\n",
    "check_compatibility(\"user-0.22.3\")"
   ]
  },
  {
   "cell_type": "markdown",
   "metadata": {
    "papermill": {
     "duration": 0.013933,
     "end_time": "2020-12-15T11:01:45.557057",
     "exception": false,
     "start_time": "2020-12-15T11:01:45.543124",
     "status": "completed"
    },
    "tags": []
   },
   "source": [
    "## Manage Collections in your GeoDB\n",
    "\n"
   ]
  },
  {
   "cell_type": "markdown",
   "metadata": {
    "papermill": {
     "duration": 0.013327,
     "end_time": "2020-12-15T11:01:45.583780",
     "exception": false,
     "start_time": "2020-12-15T11:01:45.570453",
     "status": "completed"
    },
    "tags": []
   },
   "source": [
    "### Connecting to the GeoDB"
   ]
  },
  {
   "cell_type": "code",
   "execution_count": 4,
   "metadata": {
    "execution": {
     "iopub.execute_input": "2020-12-15T11:01:45.614869Z",
     "iopub.status.busy": "2020-12-15T11:01:45.614090Z",
     "iopub.status.idle": "2020-12-15T11:01:46.134273Z",
     "shell.execute_reply": "2020-12-15T11:01:46.133745Z"
    },
    "papermill": {
     "duration": 0.536688,
     "end_time": "2020-12-15T11:01:46.134398",
     "exception": false,
     "start_time": "2020-12-15T11:01:45.597710",
     "status": "completed"
    },
    "tags": []
   },
   "outputs": [],
   "source": [
    "from xcube_geodb.core.geodb import GeoDBClient"
   ]
  },
  {
   "cell_type": "code",
   "execution_count": 5,
   "metadata": {
    "execution": {
     "iopub.execute_input": "2020-12-15T11:01:46.165839Z",
     "iopub.status.busy": "2020-12-15T11:01:46.165331Z",
     "iopub.status.idle": "2020-12-15T11:01:46.167151Z",
     "shell.execute_reply": "2020-12-15T11:01:46.166671Z"
    },
    "papermill": {
     "duration": 0.019222,
     "end_time": "2020-12-15T11:01:46.167249",
     "exception": false,
     "start_time": "2020-12-15T11:01:46.148027",
     "status": "completed"
    },
    "tags": []
   },
   "outputs": [],
   "source": [
    "geodb = GeoDBClient()"
   ]
  },
  {
   "cell_type": "code",
   "execution_count": 6,
   "metadata": {
    "execution": {
     "iopub.execute_input": "2020-12-15T11:01:46.198289Z",
     "iopub.status.busy": "2020-12-15T11:01:46.197778Z",
     "iopub.status.idle": "2020-12-15T11:01:46.722193Z",
     "shell.execute_reply": "2020-12-15T11:01:46.721681Z"
    },
    "papermill": {
     "duration": 0.541586,
     "end_time": "2020-12-15T11:01:46.722305",
     "exception": false,
     "start_time": "2020-12-15T11:01:46.180719",
     "status": "completed"
    },
    "tags": []
   },
   "outputs": [
    {
     "data": {
      "text/plain": [
       "'geodb_418dfeac-15f0-4606-9edb-fd9eb722bf04'"
      ]
     },
     "execution_count": 6,
     "metadata": {},
     "output_type": "execute_result"
    }
   ],
   "source": [
    "# If you are logged in, this will tell you what account the system currently uses\n",
    "geodb.whoami"
   ]
  },
  {
   "cell_type": "code",
   "execution_count": 7,
   "metadata": {
    "execution": {
     "iopub.execute_input": "2020-12-15T11:01:46.754569Z",
     "iopub.status.busy": "2020-12-15T11:01:46.754059Z",
     "iopub.status.idle": "2020-12-15T11:01:46.950290Z",
     "shell.execute_reply": "2020-12-15T11:01:46.949857Z"
    },
    "papermill": {
     "duration": 0.214401,
     "end_time": "2020-12-15T11:01:46.950402",
     "exception": false,
     "start_time": "2020-12-15T11:01:46.736001",
     "status": "completed"
    },
    "tags": []
   },
   "outputs": [
    {
     "data": {
      "text/plain": [
       "False"
      ]
     },
     "execution_count": 7,
     "metadata": {},
     "output_type": "execute_result"
    }
   ],
   "source": [
    "# Lets get already existing collections\n",
    "ds = geodb.get_my_collections()\n",
    "ds\n",
    "ds[(ds.database == 'geodb_admin') & (ds.table_name == 'land_use')].table_name.count() == 1"
   ]
  },
  {
   "cell_type": "markdown",
   "metadata": {
    "papermill": {
     "duration": 0.013753,
     "end_time": "2020-12-15T11:01:46.978169",
     "exception": false,
     "start_time": "2020-12-15T11:01:46.964416",
     "status": "completed"
    },
    "tags": []
   },
   "source": [
    "### Creating collections\n",
    "\n",
    "Once the connection has been established you will be able to create a collection. The collection will contain standard properties (fields) plus custom properties\n",
    "which you can add at your disgretion. Please use [PostGreSQL type definitions](https://www.postgresql.org/docs/11/datatype.html). We recommend stying simple with\n",
    "your data types as we have not tested every single type."
   ]
  },
  {
   "cell_type": "code",
   "execution_count": 8,
   "metadata": {
    "execution": {
     "iopub.execute_input": "2020-12-15T11:01:47.012852Z",
     "iopub.status.busy": "2020-12-15T11:01:47.012263Z",
     "iopub.status.idle": "2020-12-15T11:01:47.447266Z",
     "shell.execute_reply": "2020-12-15T11:01:47.447708Z"
    },
    "papermill": {
     "duration": 0.455418,
     "end_time": "2020-12-15T11:01:47.447848",
     "exception": false,
     "start_time": "2020-12-15T11:01:46.992430",
     "status": "completed"
    },
    "tags": []
   },
   "outputs": [],
   "source": [
    "ds = geodb.get_my_collections()\n",
    "\n",
    "if ds[(ds.database == geodb.whoami) & (ds.table_name == 'land_use')].table_name.count() == 0:\n",
    "    # Have a look at fiona feature schema\n",
    "    collections = {\n",
    "            \"land_use\": \n",
    "            {\n",
    "                \"crs\": 3794,\n",
    "                \"properties\": \n",
    "                {\n",
    "                    \"RABA_PID\": \"float\", \n",
    "                    \"RABA_ID\": \"float\", \n",
    "                    \"D_OD\": \"date\"\n",
    "                }\n",
    "            }\n",
    "        }\n",
    "\n",
    "\n",
    "    geodb.create_collections(collections)\n",
    "    import geopandas\n",
    "    import os\n",
    "    gdf = geopandas.read_file(os.path.expanduser(\"~/.shared/notebooks/eurodatacube/notebooks/getting-started/data/sample/land_use.shp\"))\n",
    "    geodb.insert_into_collection('land_use', gdf)"
   ]
  },
  {
   "cell_type": "code",
   "execution_count": 9,
   "metadata": {
    "execution": {
     "iopub.execute_input": "2020-12-15T11:01:47.481306Z",
     "iopub.status.busy": "2020-12-15T11:01:47.480769Z",
     "iopub.status.idle": "2020-12-15T11:01:47.608520Z",
     "shell.execute_reply": "2020-12-15T11:01:47.608083Z"
    },
    "papermill": {
     "duration": 0.146326,
     "end_time": "2020-12-15T11:01:47.608643",
     "exception": false,
     "start_time": "2020-12-15T11:01:47.462317",
     "status": "completed"
    },
    "tags": []
   },
   "outputs": [
    {
     "data": {
      "text/html": [
       "<div>\n",
       "<style scoped>\n",
       "    .dataframe tbody tr th:only-of-type {\n",
       "        vertical-align: middle;\n",
       "    }\n",
       "\n",
       "    .dataframe tbody tr th {\n",
       "        vertical-align: top;\n",
       "    }\n",
       "\n",
       "    .dataframe thead th {\n",
       "        text-align: right;\n",
       "    }\n",
       "</style>\n",
       "<table border=\"1\" class=\"dataframe\">\n",
       "  <thead>\n",
       "    <tr style=\"text-align: right;\">\n",
       "      <th></th>\n",
       "      <th>owner</th>\n",
       "      <th>database</th>\n",
       "      <th>table_name</th>\n",
       "    </tr>\n",
       "  </thead>\n",
       "  <tbody>\n",
       "    <tr>\n",
       "      <th>0</th>\n",
       "      <td>anja</td>\n",
       "      <td>anja</td>\n",
       "      <td>E1</td>\n",
       "    </tr>\n",
       "    <tr>\n",
       "      <th>1</th>\n",
       "      <td>anja</td>\n",
       "      <td>anja</td>\n",
       "      <td>E10a1</td>\n",
       "    </tr>\n",
       "    <tr>\n",
       "      <th>2</th>\n",
       "      <td>anja</td>\n",
       "      <td>anja</td>\n",
       "      <td>E10a2</td>\n",
       "    </tr>\n",
       "    <tr>\n",
       "      <th>3</th>\n",
       "      <td>anja</td>\n",
       "      <td>anja</td>\n",
       "      <td>E11</td>\n",
       "    </tr>\n",
       "    <tr>\n",
       "      <th>4</th>\n",
       "      <td>anja</td>\n",
       "      <td>anja</td>\n",
       "      <td>E1a</td>\n",
       "    </tr>\n",
       "    <tr>\n",
       "      <th>...</th>\n",
       "      <td>...</td>\n",
       "      <td>...</td>\n",
       "      <td>...</td>\n",
       "    </tr>\n",
       "    <tr>\n",
       "      <th>58</th>\n",
       "      <td>geodb_admin</td>\n",
       "      <td>phi_week</td>\n",
       "      <td>gran_chaco</td>\n",
       "    </tr>\n",
       "    <tr>\n",
       "      <th>59</th>\n",
       "      <td>geodb_admin</td>\n",
       "      <td>public</td>\n",
       "      <td>land_use</td>\n",
       "    </tr>\n",
       "    <tr>\n",
       "      <th>60</th>\n",
       "      <td>geodb_ciuser</td>\n",
       "      <td>geodb_ciuser</td>\n",
       "      <td>land_use</td>\n",
       "    </tr>\n",
       "    <tr>\n",
       "      <th>61</th>\n",
       "      <td>geodb_d2c4722a-cc19-4ec1-b575-0cdb6876d4a7</td>\n",
       "      <td>lpis_iacs</td>\n",
       "      <td>land_use_slo</td>\n",
       "    </tr>\n",
       "    <tr>\n",
       "      <th>62</th>\n",
       "      <td>geodb_d2c4722a-cc19-4ec1-b575-0cdb6876d4a7</td>\n",
       "      <td>lpis_iacs</td>\n",
       "      <td>lpis_slo</td>\n",
       "    </tr>\n",
       "  </tbody>\n",
       "</table>\n",
       "<p>63 rows × 3 columns</p>\n",
       "</div>"
      ],
      "text/plain": [
       "                                         owner      database    table_name\n",
       "0                                         anja          anja            E1\n",
       "1                                         anja          anja         E10a1\n",
       "2                                         anja          anja         E10a2\n",
       "3                                         anja          anja           E11\n",
       "4                                         anja          anja           E1a\n",
       "..                                         ...           ...           ...\n",
       "58                                 geodb_admin      phi_week    gran_chaco\n",
       "59                                 geodb_admin        public      land_use\n",
       "60                                geodb_ciuser  geodb_ciuser      land_use\n",
       "61  geodb_d2c4722a-cc19-4ec1-b575-0cdb6876d4a7     lpis_iacs  land_use_slo\n",
       "62  geodb_d2c4722a-cc19-4ec1-b575-0cdb6876d4a7     lpis_iacs      lpis_slo\n",
       "\n",
       "[63 rows x 3 columns]"
      ]
     },
     "execution_count": 9,
     "metadata": {},
     "output_type": "execute_result"
    }
   ],
   "source": [
    "ds = geodb.get_my_collections()\n",
    "ds"
   ]
  },
  {
   "cell_type": "markdown",
   "metadata": {
    "papermill": {
     "duration": 0.014267,
     "end_time": "2020-12-15T11:01:47.637115",
     "exception": false,
     "start_time": "2020-12-15T11:01:47.622848",
     "status": "completed"
    },
    "tags": []
   },
   "source": [
    "### Loading data into a dataset\n",
    "\n",
    "Once the table has been created, you can load data into the dataset. The example below loads a shapefile. The attributes of the shapefile correspond to the dataset's properties.\n"
   ]
  },
  {
   "cell_type": "code",
   "execution_count": 10,
   "metadata": {
    "execution": {
     "iopub.execute_input": "2020-12-15T11:01:48.455069Z",
     "iopub.status.busy": "2020-12-15T11:01:48.444329Z",
     "iopub.status.idle": "2020-12-15T11:01:48.745782Z",
     "shell.execute_reply": "2020-12-15T11:01:48.745271Z"
    },
    "papermill": {
     "duration": 1.094804,
     "end_time": "2020-12-15T11:01:48.745902",
     "exception": false,
     "start_time": "2020-12-15T11:01:47.651098",
     "status": "completed"
    },
    "tags": []
   },
   "outputs": [
    {
     "data": {
      "text/html": [
       "<div>\n",
       "<style scoped>\n",
       "    .dataframe tbody tr th:only-of-type {\n",
       "        vertical-align: middle;\n",
       "    }\n",
       "\n",
       "    .dataframe tbody tr th {\n",
       "        vertical-align: top;\n",
       "    }\n",
       "\n",
       "    .dataframe thead th {\n",
       "        text-align: right;\n",
       "    }\n",
       "</style>\n",
       "<table border=\"1\" class=\"dataframe\">\n",
       "  <thead>\n",
       "    <tr style=\"text-align: right;\">\n",
       "      <th></th>\n",
       "      <th>RABA_PID</th>\n",
       "      <th>RABA_ID</th>\n",
       "      <th>D_OD</th>\n",
       "      <th>geometry</th>\n",
       "    </tr>\n",
       "  </thead>\n",
       "  <tbody>\n",
       "    <tr>\n",
       "      <th>0</th>\n",
       "      <td>4770326.0</td>\n",
       "      <td>1410</td>\n",
       "      <td>2019-03-26</td>\n",
       "      <td>POLYGON ((453952.629 91124.177, 453952.696 911...</td>\n",
       "    </tr>\n",
       "    <tr>\n",
       "      <th>1</th>\n",
       "      <td>4770325.0</td>\n",
       "      <td>1300</td>\n",
       "      <td>2019-03-26</td>\n",
       "      <td>POLYGON ((453810.376 91150.199, 453812.552 911...</td>\n",
       "    </tr>\n",
       "    <tr>\n",
       "      <th>2</th>\n",
       "      <td>2305689.0</td>\n",
       "      <td>7000</td>\n",
       "      <td>2019-02-25</td>\n",
       "      <td>POLYGON ((456099.635 97696.070, 456112.810 976...</td>\n",
       "    </tr>\n",
       "    <tr>\n",
       "      <th>3</th>\n",
       "      <td>2305596.0</td>\n",
       "      <td>1100</td>\n",
       "      <td>2019-02-25</td>\n",
       "      <td>POLYGON ((455929.405 97963.785, 455933.284 979...</td>\n",
       "    </tr>\n",
       "    <tr>\n",
       "      <th>4</th>\n",
       "      <td>2310160.0</td>\n",
       "      <td>1100</td>\n",
       "      <td>2019-03-11</td>\n",
       "      <td>POLYGON ((461561.512 96119.256, 461632.114 960...</td>\n",
       "    </tr>\n",
       "    <tr>\n",
       "      <th>...</th>\n",
       "      <td>...</td>\n",
       "      <td>...</td>\n",
       "      <td>...</td>\n",
       "      <td>...</td>\n",
       "    </tr>\n",
       "    <tr>\n",
       "      <th>9822</th>\n",
       "      <td>6253989.0</td>\n",
       "      <td>1600</td>\n",
       "      <td>2019-03-08</td>\n",
       "      <td>POLYGON ((460637.334 96865.891, 460647.927 969...</td>\n",
       "    </tr>\n",
       "    <tr>\n",
       "      <th>9823</th>\n",
       "      <td>6252044.0</td>\n",
       "      <td>1600</td>\n",
       "      <td>2019-03-26</td>\n",
       "      <td>POLYGON ((459467.868 96839.686, 459467.770 968...</td>\n",
       "    </tr>\n",
       "    <tr>\n",
       "      <th>9824</th>\n",
       "      <td>6245985.0</td>\n",
       "      <td>2000</td>\n",
       "      <td>2019-04-08</td>\n",
       "      <td>POLYGON ((459488.998 94066.248, 459498.145 940...</td>\n",
       "    </tr>\n",
       "    <tr>\n",
       "      <th>9825</th>\n",
       "      <td>6245986.0</td>\n",
       "      <td>2000</td>\n",
       "      <td>2019-02-20</td>\n",
       "      <td>POLYGON ((459676.680 94000.000, 459672.469 939...</td>\n",
       "    </tr>\n",
       "    <tr>\n",
       "      <th>9826</th>\n",
       "      <td>6245987.0</td>\n",
       "      <td>2000</td>\n",
       "      <td>2019-03-11</td>\n",
       "      <td>POLYGON ((459690.580 94042.607, 459686.872 940...</td>\n",
       "    </tr>\n",
       "  </tbody>\n",
       "</table>\n",
       "<p>9827 rows × 4 columns</p>\n",
       "</div>"
      ],
      "text/plain": [
       "       RABA_PID  RABA_ID        D_OD  \\\n",
       "0     4770326.0     1410  2019-03-26   \n",
       "1     4770325.0     1300  2019-03-26   \n",
       "2     2305689.0     7000  2019-02-25   \n",
       "3     2305596.0     1100  2019-02-25   \n",
       "4     2310160.0     1100  2019-03-11   \n",
       "...         ...      ...         ...   \n",
       "9822  6253989.0     1600  2019-03-08   \n",
       "9823  6252044.0     1600  2019-03-26   \n",
       "9824  6245985.0     2000  2019-04-08   \n",
       "9825  6245986.0     2000  2019-02-20   \n",
       "9826  6245987.0     2000  2019-03-11   \n",
       "\n",
       "                                               geometry  \n",
       "0     POLYGON ((453952.629 91124.177, 453952.696 911...  \n",
       "1     POLYGON ((453810.376 91150.199, 453812.552 911...  \n",
       "2     POLYGON ((456099.635 97696.070, 456112.810 976...  \n",
       "3     POLYGON ((455929.405 97963.785, 455933.284 979...  \n",
       "4     POLYGON ((461561.512 96119.256, 461632.114 960...  \n",
       "...                                                 ...  \n",
       "9822  POLYGON ((460637.334 96865.891, 460647.927 969...  \n",
       "9823  POLYGON ((459467.868 96839.686, 459467.770 968...  \n",
       "9824  POLYGON ((459488.998 94066.248, 459498.145 940...  \n",
       "9825  POLYGON ((459676.680 94000.000, 459672.469 939...  \n",
       "9826  POLYGON ((459690.580 94042.607, 459686.872 940...  \n",
       "\n",
       "[9827 rows x 4 columns]"
      ]
     },
     "execution_count": 10,
     "metadata": {},
     "output_type": "execute_result"
    }
   ],
   "source": [
    "import geopandas\n",
    "import os\n",
    "gdf = geopandas.read_file(os.path.expanduser(\"~/.shared/notebooks/eurodatacube/notebooks/getting-started/data/sample/land_use.shp\"))\n",
    "gdf"
   ]
  },
  {
   "cell_type": "code",
   "execution_count": 11,
   "metadata": {
    "execution": {
     "iopub.execute_input": "2020-12-15T11:01:48.779144Z",
     "iopub.status.busy": "2020-12-15T11:01:48.777844Z",
     "iopub.status.idle": "2020-12-15T11:01:53.613108Z",
     "shell.execute_reply": "2020-12-15T11:01:53.613456Z"
    },
    "papermill": {
     "duration": 4.852569,
     "end_time": "2020-12-15T11:01:53.613588",
     "exception": false,
     "start_time": "2020-12-15T11:01:48.761019",
     "status": "completed"
    },
    "tags": []
   },
   "outputs": [
    {
     "name": "stdout",
     "output_type": "stream",
     "text": [
      "Processing rows from 0 to 9827\n"
     ]
    },
    {
     "data": {
      "text/plain": [
       "9827 rows inserted into land_use"
      ]
     },
     "execution_count": 11,
     "metadata": {},
     "output_type": "execute_result"
    }
   ],
   "source": [
    "geodb.insert_into_collection('land_use', gdf)"
   ]
  },
  {
   "cell_type": "code",
   "execution_count": 12,
   "metadata": {
    "execution": {
     "iopub.execute_input": "2020-12-15T11:01:53.647915Z",
     "iopub.status.busy": "2020-12-15T11:01:53.646431Z",
     "iopub.status.idle": "2020-12-15T11:01:54.610096Z",
     "shell.execute_reply": "2020-12-15T11:01:54.609652Z"
    },
    "papermill": {
     "duration": 0.981499,
     "end_time": "2020-12-15T11:01:54.610204",
     "exception": false,
     "start_time": "2020-12-15T11:01:53.628705",
     "status": "completed"
    },
    "tags": []
   },
   "outputs": [
    {
     "data": {
      "text/html": [
       "<div>\n",
       "<style scoped>\n",
       "    .dataframe tbody tr th:only-of-type {\n",
       "        vertical-align: middle;\n",
       "    }\n",
       "\n",
       "    .dataframe tbody tr th {\n",
       "        vertical-align: top;\n",
       "    }\n",
       "\n",
       "    .dataframe thead th {\n",
       "        text-align: right;\n",
       "    }\n",
       "</style>\n",
       "<table border=\"1\" class=\"dataframe\">\n",
       "  <thead>\n",
       "    <tr style=\"text-align: right;\">\n",
       "      <th></th>\n",
       "      <th>id</th>\n",
       "      <th>created_at</th>\n",
       "      <th>modified_at</th>\n",
       "      <th>geometry</th>\n",
       "      <th>raba_pid</th>\n",
       "      <th>raba_id</th>\n",
       "      <th>d_od</th>\n",
       "    </tr>\n",
       "  </thead>\n",
       "  <tbody>\n",
       "    <tr>\n",
       "      <th>0</th>\n",
       "      <td>49138</td>\n",
       "      <td>2020-12-15T11:01:52.113704+00:00</td>\n",
       "      <td>None</td>\n",
       "      <td>POLYGON ((456099.635 97696.070, 456112.810 976...</td>\n",
       "      <td>2305689</td>\n",
       "      <td>7000</td>\n",
       "      <td>2019-02-25</td>\n",
       "    </tr>\n",
       "    <tr>\n",
       "      <th>1</th>\n",
       "      <td>49161</td>\n",
       "      <td>2020-12-15T11:01:52.113704+00:00</td>\n",
       "      <td>None</td>\n",
       "      <td>POLYGON ((459898.930 100306.841, 459906.288 10...</td>\n",
       "      <td>2301992</td>\n",
       "      <td>7000</td>\n",
       "      <td>2019-04-06</td>\n",
       "    </tr>\n",
       "    <tr>\n",
       "      <th>2</th>\n",
       "      <td>49230</td>\n",
       "      <td>2020-12-15T11:01:52.113704+00:00</td>\n",
       "      <td>None</td>\n",
       "      <td>POLYGON ((459591.248 92619.056, 459592.745 926...</td>\n",
       "      <td>2333229</td>\n",
       "      <td>7000</td>\n",
       "      <td>2019-02-20</td>\n",
       "    </tr>\n",
       "    <tr>\n",
       "      <th>3</th>\n",
       "      <td>49250</td>\n",
       "      <td>2020-12-15T11:01:52.113704+00:00</td>\n",
       "      <td>None</td>\n",
       "      <td>POLYGON ((459013.303 100354.458, 459022.756 10...</td>\n",
       "      <td>2336738</td>\n",
       "      <td>7000</td>\n",
       "      <td>2019-03-15</td>\n",
       "    </tr>\n",
       "    <tr>\n",
       "      <th>4</th>\n",
       "      <td>49264</td>\n",
       "      <td>2020-12-15T11:01:52.113704+00:00</td>\n",
       "      <td>None</td>\n",
       "      <td>POLYGON ((460851.200 93442.039, 460846.405 934...</td>\n",
       "      <td>6292562</td>\n",
       "      <td>7000</td>\n",
       "      <td>2019-02-21</td>\n",
       "    </tr>\n",
       "    <tr>\n",
       "      <th>...</th>\n",
       "      <td>...</td>\n",
       "      <td>...</td>\n",
       "      <td>...</td>\n",
       "      <td>...</td>\n",
       "      <td>...</td>\n",
       "      <td>...</td>\n",
       "      <td>...</td>\n",
       "    </tr>\n",
       "    <tr>\n",
       "      <th>379</th>\n",
       "      <td>58554</td>\n",
       "      <td>2020-12-15T11:01:52.113704+00:00</td>\n",
       "      <td>None</td>\n",
       "      <td>POLYGON ((456523.670 94000.000, 456550.368 939...</td>\n",
       "      <td>6187993</td>\n",
       "      <td>7000</td>\n",
       "      <td>2019-03-13</td>\n",
       "    </tr>\n",
       "    <tr>\n",
       "      <th>380</th>\n",
       "      <td>58681</td>\n",
       "      <td>2020-12-15T11:01:52.113704+00:00</td>\n",
       "      <td>None</td>\n",
       "      <td>POLYGON ((460793.279 94000.000, 460797.466 939...</td>\n",
       "      <td>6219403</td>\n",
       "      <td>7000</td>\n",
       "      <td>2019-02-21</td>\n",
       "    </tr>\n",
       "    <tr>\n",
       "      <th>381</th>\n",
       "      <td>58695</td>\n",
       "      <td>2020-12-15T11:01:52.113704+00:00</td>\n",
       "      <td>None</td>\n",
       "      <td>POLYGON ((461750.000 98434.292, 461750.000 984...</td>\n",
       "      <td>6219602</td>\n",
       "      <td>7000</td>\n",
       "      <td>2019-03-20</td>\n",
       "    </tr>\n",
       "    <tr>\n",
       "      <th>382</th>\n",
       "      <td>58759</td>\n",
       "      <td>2020-12-15T11:01:52.113704+00:00</td>\n",
       "      <td>None</td>\n",
       "      <td>POLYGON ((463628.912 97501.218, 463636.859 975...</td>\n",
       "      <td>6215237</td>\n",
       "      <td>7000</td>\n",
       "      <td>2019-03-20</td>\n",
       "    </tr>\n",
       "    <tr>\n",
       "      <th>383</th>\n",
       "      <td>58779</td>\n",
       "      <td>2020-12-15T11:01:52.113704+00:00</td>\n",
       "      <td>None</td>\n",
       "      <td>POLYGON ((462450.205 94000.000, 462457.333 940...</td>\n",
       "      <td>6213419</td>\n",
       "      <td>7000</td>\n",
       "      <td>2019-03-21</td>\n",
       "    </tr>\n",
       "  </tbody>\n",
       "</table>\n",
       "<p>384 rows × 7 columns</p>\n",
       "</div>"
      ],
      "text/plain": [
       "        id                        created_at modified_at  \\\n",
       "0    49138  2020-12-15T11:01:52.113704+00:00        None   \n",
       "1    49161  2020-12-15T11:01:52.113704+00:00        None   \n",
       "2    49230  2020-12-15T11:01:52.113704+00:00        None   \n",
       "3    49250  2020-12-15T11:01:52.113704+00:00        None   \n",
       "4    49264  2020-12-15T11:01:52.113704+00:00        None   \n",
       "..     ...                               ...         ...   \n",
       "379  58554  2020-12-15T11:01:52.113704+00:00        None   \n",
       "380  58681  2020-12-15T11:01:52.113704+00:00        None   \n",
       "381  58695  2020-12-15T11:01:52.113704+00:00        None   \n",
       "382  58759  2020-12-15T11:01:52.113704+00:00        None   \n",
       "383  58779  2020-12-15T11:01:52.113704+00:00        None   \n",
       "\n",
       "                                              geometry  raba_pid  raba_id  \\\n",
       "0    POLYGON ((456099.635 97696.070, 456112.810 976...   2305689     7000   \n",
       "1    POLYGON ((459898.930 100306.841, 459906.288 10...   2301992     7000   \n",
       "2    POLYGON ((459591.248 92619.056, 459592.745 926...   2333229     7000   \n",
       "3    POLYGON ((459013.303 100354.458, 459022.756 10...   2336738     7000   \n",
       "4    POLYGON ((460851.200 93442.039, 460846.405 934...   6292562     7000   \n",
       "..                                                 ...       ...      ...   \n",
       "379  POLYGON ((456523.670 94000.000, 456550.368 939...   6187993     7000   \n",
       "380  POLYGON ((460793.279 94000.000, 460797.466 939...   6219403     7000   \n",
       "381  POLYGON ((461750.000 98434.292, 461750.000 984...   6219602     7000   \n",
       "382  POLYGON ((463628.912 97501.218, 463636.859 975...   6215237     7000   \n",
       "383  POLYGON ((462450.205 94000.000, 462457.333 940...   6213419     7000   \n",
       "\n",
       "           d_od  \n",
       "0    2019-02-25  \n",
       "1    2019-04-06  \n",
       "2    2019-02-20  \n",
       "3    2019-03-15  \n",
       "4    2019-02-21  \n",
       "..          ...  \n",
       "379  2019-03-13  \n",
       "380  2019-02-21  \n",
       "381  2019-03-20  \n",
       "382  2019-03-20  \n",
       "383  2019-03-21  \n",
       "\n",
       "[384 rows x 7 columns]"
      ]
     },
     "execution_count": 12,
     "metadata": {},
     "output_type": "execute_result"
    }
   ],
   "source": [
    "geodb.get_collection('land_use', query=\"raba_id=eq.7000\")"
   ]
  },
  {
   "cell_type": "markdown",
   "metadata": {
    "papermill": {
     "duration": 0.015514,
     "end_time": "2020-12-15T11:01:54.641237",
     "exception": false,
     "start_time": "2020-12-15T11:01:54.625723",
     "status": "completed"
    },
    "tags": []
   },
   "source": [
    "### Delete from a Collection"
   ]
  },
  {
   "cell_type": "code",
   "execution_count": 13,
   "metadata": {
    "execution": {
     "iopub.execute_input": "2020-12-15T11:01:54.675577Z",
     "iopub.status.busy": "2020-12-15T11:01:54.675041Z",
     "iopub.status.idle": "2020-12-15T11:01:55.213089Z",
     "shell.execute_reply": "2020-12-15T11:01:55.213437Z"
    },
    "papermill": {
     "duration": 0.557281,
     "end_time": "2020-12-15T11:01:55.213571",
     "exception": false,
     "start_time": "2020-12-15T11:01:54.656290",
     "status": "completed"
    },
    "tags": []
   },
   "outputs": [
    {
     "data": {
      "text/plain": [
       "Data from land_use deleted"
      ]
     },
     "execution_count": 13,
     "metadata": {},
     "output_type": "execute_result"
    }
   ],
   "source": [
    "geodb.delete_from_collection('land_use', query=\"raba_id=eq.7000\")"
   ]
  },
  {
   "cell_type": "code",
   "execution_count": 14,
   "metadata": {
    "execution": {
     "iopub.execute_input": "2020-12-15T11:01:55.249003Z",
     "iopub.status.busy": "2020-12-15T11:01:55.248468Z",
     "iopub.status.idle": "2020-12-15T11:01:56.111249Z",
     "shell.execute_reply": "2020-12-15T11:01:56.110738Z"
    },
    "papermill": {
     "duration": 0.882266,
     "end_time": "2020-12-15T11:01:56.111404",
     "exception": false,
     "start_time": "2020-12-15T11:01:55.229138",
     "status": "completed"
    },
    "tags": []
   },
   "outputs": [
    {
     "data": {
      "text/html": [
       "<div>\n",
       "<style scoped>\n",
       "    .dataframe tbody tr th:only-of-type {\n",
       "        vertical-align: middle;\n",
       "    }\n",
       "\n",
       "    .dataframe tbody tr th {\n",
       "        vertical-align: top;\n",
       "    }\n",
       "\n",
       "    .dataframe thead th {\n",
       "        text-align: right;\n",
       "    }\n",
       "</style>\n",
       "<table border=\"1\" class=\"dataframe\">\n",
       "  <thead>\n",
       "    <tr style=\"text-align: right;\">\n",
       "      <th></th>\n",
       "      <th>Empty Result</th>\n",
       "    </tr>\n",
       "  </thead>\n",
       "  <tbody>\n",
       "  </tbody>\n",
       "</table>\n",
       "</div>"
      ],
      "text/plain": [
       "Empty DataFrame\n",
       "Columns: [Empty Result]\n",
       "Index: []"
      ]
     },
     "execution_count": 14,
     "metadata": {},
     "output_type": "execute_result"
    }
   ],
   "source": [
    "geodb.get_collection('land_use', query=\"raba_id=eq.7000\")"
   ]
  },
  {
   "cell_type": "markdown",
   "metadata": {
    "papermill": {
     "duration": 0.016238,
     "end_time": "2020-12-15T11:01:56.143310",
     "exception": false,
     "start_time": "2020-12-15T11:01:56.127072",
     "status": "completed"
    },
    "tags": []
   },
   "source": [
    "### Updating a Collection"
   ]
  },
  {
   "cell_type": "code",
   "execution_count": 15,
   "metadata": {
    "execution": {
     "iopub.execute_input": "2020-12-15T11:01:56.178234Z",
     "iopub.status.busy": "2020-12-15T11:01:56.177668Z",
     "iopub.status.idle": "2020-12-15T11:01:57.662263Z",
     "shell.execute_reply": "2020-12-15T11:01:57.661811Z"
    },
    "papermill": {
     "duration": 1.503607,
     "end_time": "2020-12-15T11:01:57.662373",
     "exception": false,
     "start_time": "2020-12-15T11:01:56.158766",
     "status": "completed"
    },
    "tags": []
   },
   "outputs": [
    {
     "data": {
      "text/html": [
       "<div>\n",
       "<style scoped>\n",
       "    .dataframe tbody tr th:only-of-type {\n",
       "        vertical-align: middle;\n",
       "    }\n",
       "\n",
       "    .dataframe tbody tr th {\n",
       "        vertical-align: top;\n",
       "    }\n",
       "\n",
       "    .dataframe thead th {\n",
       "        text-align: right;\n",
       "    }\n",
       "</style>\n",
       "<table border=\"1\" class=\"dataframe\">\n",
       "  <thead>\n",
       "    <tr style=\"text-align: right;\">\n",
       "      <th></th>\n",
       "      <th>id</th>\n",
       "      <th>created_at</th>\n",
       "      <th>modified_at</th>\n",
       "      <th>geometry</th>\n",
       "      <th>raba_pid</th>\n",
       "      <th>raba_id</th>\n",
       "      <th>d_od</th>\n",
       "    </tr>\n",
       "  </thead>\n",
       "  <tbody>\n",
       "    <tr>\n",
       "      <th>0</th>\n",
       "      <td>54133</td>\n",
       "      <td>2020-12-15T11:01:52.113704+00:00</td>\n",
       "      <td>None</td>\n",
       "      <td>POLYGON ((463238.956 98792.104, 463240.676 987...</td>\n",
       "      <td>4652174</td>\n",
       "      <td>1300</td>\n",
       "      <td>2019-03-20</td>\n",
       "    </tr>\n",
       "    <tr>\n",
       "      <th>1</th>\n",
       "      <td>22180</td>\n",
       "      <td>2020-09-30T07:49:51.801876+00:00</td>\n",
       "      <td>2020-12-01T13:40:24.535816+00:00</td>\n",
       "      <td>POLYGON ((460531.574 92742.682, 460526.492 927...</td>\n",
       "      <td>5957238</td>\n",
       "      <td>1300</td>\n",
       "      <td>2000-01-01</td>\n",
       "    </tr>\n",
       "    <tr>\n",
       "      <th>2</th>\n",
       "      <td>45722</td>\n",
       "      <td>2020-12-01T13:40:18.246639+00:00</td>\n",
       "      <td>2020-12-01T13:40:24.535816+00:00</td>\n",
       "      <td>POLYGON ((453563.075 94486.526, 453559.758 944...</td>\n",
       "      <td>3546031</td>\n",
       "      <td>1300</td>\n",
       "      <td>2000-01-01</td>\n",
       "    </tr>\n",
       "    <tr>\n",
       "      <th>3</th>\n",
       "      <td>49137</td>\n",
       "      <td>2020-12-15T11:01:52.113704+00:00</td>\n",
       "      <td>None</td>\n",
       "      <td>POLYGON ((453810.376 91150.199, 453812.552 911...</td>\n",
       "      <td>4770325</td>\n",
       "      <td>1300</td>\n",
       "      <td>2019-03-26</td>\n",
       "    </tr>\n",
       "    <tr>\n",
       "      <th>4</th>\n",
       "      <td>49145</td>\n",
       "      <td>2020-12-15T11:01:52.113704+00:00</td>\n",
       "      <td>None</td>\n",
       "      <td>POLYGON ((456547.427 91543.640, 456544.255 915...</td>\n",
       "      <td>2318555</td>\n",
       "      <td>1300</td>\n",
       "      <td>2019-03-14</td>\n",
       "    </tr>\n",
       "    <tr>\n",
       "      <th>...</th>\n",
       "      <td>...</td>\n",
       "      <td>...</td>\n",
       "      <td>...</td>\n",
       "      <td>...</td>\n",
       "      <td>...</td>\n",
       "      <td>...</td>\n",
       "      <td>...</td>\n",
       "    </tr>\n",
       "    <tr>\n",
       "      <th>5365</th>\n",
       "      <td>58901</td>\n",
       "      <td>2020-12-15T11:01:52.113704+00:00</td>\n",
       "      <td>None</td>\n",
       "      <td>POLYGON ((458247.583 99746.065, 458245.202 997...</td>\n",
       "      <td>6268059</td>\n",
       "      <td>1300</td>\n",
       "      <td>2019-03-04</td>\n",
       "    </tr>\n",
       "    <tr>\n",
       "      <th>5366</th>\n",
       "      <td>58902</td>\n",
       "      <td>2020-12-15T11:01:52.113704+00:00</td>\n",
       "      <td>None</td>\n",
       "      <td>POLYGON ((461932.283 90520.703, 461931.619 905...</td>\n",
       "      <td>6263561</td>\n",
       "      <td>1300</td>\n",
       "      <td>2019-04-01</td>\n",
       "    </tr>\n",
       "    <tr>\n",
       "      <th>5367</th>\n",
       "      <td>58933</td>\n",
       "      <td>2020-12-15T11:01:52.113704+00:00</td>\n",
       "      <td>None</td>\n",
       "      <td>POLYGON ((457231.170 90902.256, 457234.861 909...</td>\n",
       "      <td>6264862</td>\n",
       "      <td>1300</td>\n",
       "      <td>2019-01-05</td>\n",
       "    </tr>\n",
       "    <tr>\n",
       "      <th>5368</th>\n",
       "      <td>58934</td>\n",
       "      <td>2020-12-15T11:01:52.113704+00:00</td>\n",
       "      <td>None</td>\n",
       "      <td>POLYGON ((461378.845 91124.318, 461490.224 911...</td>\n",
       "      <td>6264865</td>\n",
       "      <td>1300</td>\n",
       "      <td>2019-02-21</td>\n",
       "    </tr>\n",
       "    <tr>\n",
       "      <th>5369</th>\n",
       "      <td>58956</td>\n",
       "      <td>2020-12-15T11:01:52.113704+00:00</td>\n",
       "      <td>None</td>\n",
       "      <td>POLYGON ((457450.306 97213.244, 457490.521 972...</td>\n",
       "      <td>6263915</td>\n",
       "      <td>1300</td>\n",
       "      <td>2019-01-05</td>\n",
       "    </tr>\n",
       "  </tbody>\n",
       "</table>\n",
       "<p>5370 rows × 7 columns</p>\n",
       "</div>"
      ],
      "text/plain": [
       "         id                        created_at  \\\n",
       "0     54133  2020-12-15T11:01:52.113704+00:00   \n",
       "1     22180  2020-09-30T07:49:51.801876+00:00   \n",
       "2     45722  2020-12-01T13:40:18.246639+00:00   \n",
       "3     49137  2020-12-15T11:01:52.113704+00:00   \n",
       "4     49145  2020-12-15T11:01:52.113704+00:00   \n",
       "...     ...                               ...   \n",
       "5365  58901  2020-12-15T11:01:52.113704+00:00   \n",
       "5366  58902  2020-12-15T11:01:52.113704+00:00   \n",
       "5367  58933  2020-12-15T11:01:52.113704+00:00   \n",
       "5368  58934  2020-12-15T11:01:52.113704+00:00   \n",
       "5369  58956  2020-12-15T11:01:52.113704+00:00   \n",
       "\n",
       "                           modified_at  \\\n",
       "0                                 None   \n",
       "1     2020-12-01T13:40:24.535816+00:00   \n",
       "2     2020-12-01T13:40:24.535816+00:00   \n",
       "3                                 None   \n",
       "4                                 None   \n",
       "...                                ...   \n",
       "5365                              None   \n",
       "5366                              None   \n",
       "5367                              None   \n",
       "5368                              None   \n",
       "5369                              None   \n",
       "\n",
       "                                               geometry  raba_pid  raba_id  \\\n",
       "0     POLYGON ((463238.956 98792.104, 463240.676 987...   4652174     1300   \n",
       "1     POLYGON ((460531.574 92742.682, 460526.492 927...   5957238     1300   \n",
       "2     POLYGON ((453563.075 94486.526, 453559.758 944...   3546031     1300   \n",
       "3     POLYGON ((453810.376 91150.199, 453812.552 911...   4770325     1300   \n",
       "4     POLYGON ((456547.427 91543.640, 456544.255 915...   2318555     1300   \n",
       "...                                                 ...       ...      ...   \n",
       "5365  POLYGON ((458247.583 99746.065, 458245.202 997...   6268059     1300   \n",
       "5366  POLYGON ((461932.283 90520.703, 461931.619 905...   6263561     1300   \n",
       "5367  POLYGON ((457231.170 90902.256, 457234.861 909...   6264862     1300   \n",
       "5368  POLYGON ((461378.845 91124.318, 461490.224 911...   6264865     1300   \n",
       "5369  POLYGON ((457450.306 97213.244, 457490.521 972...   6263915     1300   \n",
       "\n",
       "            d_od  \n",
       "0     2019-03-20  \n",
       "1     2000-01-01  \n",
       "2     2000-01-01  \n",
       "3     2019-03-26  \n",
       "4     2019-03-14  \n",
       "...          ...  \n",
       "5365  2019-03-04  \n",
       "5366  2019-04-01  \n",
       "5367  2019-01-05  \n",
       "5368  2019-02-21  \n",
       "5369  2019-01-05  \n",
       "\n",
       "[5370 rows x 7 columns]"
      ]
     },
     "execution_count": 15,
     "metadata": {},
     "output_type": "execute_result"
    }
   ],
   "source": [
    "geodb.get_collection('land_use', query=\"raba_id=eq.1300\")"
   ]
  },
  {
   "cell_type": "code",
   "execution_count": 16,
   "metadata": {
    "execution": {
     "iopub.execute_input": "2020-12-15T11:01:57.700005Z",
     "iopub.status.busy": "2020-12-15T11:01:57.699317Z",
     "iopub.status.idle": "2020-12-15T11:01:59.087884Z",
     "shell.execute_reply": "2020-12-15T11:01:59.087279Z"
    },
    "papermill": {
     "duration": 1.409419,
     "end_time": "2020-12-15T11:01:59.088000",
     "exception": false,
     "start_time": "2020-12-15T11:01:57.678581",
     "status": "completed"
    },
    "tags": []
   },
   "outputs": [
    {
     "data": {
      "text/plain": [
       "land_use updated"
      ]
     },
     "execution_count": 16,
     "metadata": {},
     "output_type": "execute_result"
    }
   ],
   "source": [
    "geodb.update_collection('land_use', query=\"raba_id=eq.1300\", values={'d_od': '2000-01-01'})"
   ]
  },
  {
   "cell_type": "code",
   "execution_count": 17,
   "metadata": {
    "execution": {
     "iopub.execute_input": "2020-12-15T11:01:59.124425Z",
     "iopub.status.busy": "2020-12-15T11:01:59.123862Z",
     "iopub.status.idle": "2020-12-15T11:02:00.884123Z",
     "shell.execute_reply": "2020-12-15T11:02:00.883568Z"
    },
    "papermill": {
     "duration": 1.780099,
     "end_time": "2020-12-15T11:02:00.884241",
     "exception": false,
     "start_time": "2020-12-15T11:01:59.104142",
     "status": "completed"
    },
    "tags": []
   },
   "outputs": [
    {
     "data": {
      "text/html": [
       "<div>\n",
       "<style scoped>\n",
       "    .dataframe tbody tr th:only-of-type {\n",
       "        vertical-align: middle;\n",
       "    }\n",
       "\n",
       "    .dataframe tbody tr th {\n",
       "        vertical-align: top;\n",
       "    }\n",
       "\n",
       "    .dataframe thead th {\n",
       "        text-align: right;\n",
       "    }\n",
       "</style>\n",
       "<table border=\"1\" class=\"dataframe\">\n",
       "  <thead>\n",
       "    <tr style=\"text-align: right;\">\n",
       "      <th></th>\n",
       "      <th>id</th>\n",
       "      <th>created_at</th>\n",
       "      <th>modified_at</th>\n",
       "      <th>geometry</th>\n",
       "      <th>raba_pid</th>\n",
       "      <th>raba_id</th>\n",
       "      <th>d_od</th>\n",
       "    </tr>\n",
       "  </thead>\n",
       "  <tbody>\n",
       "    <tr>\n",
       "      <th>0</th>\n",
       "      <td>20323</td>\n",
       "      <td>2020-09-30T07:49:51.801876+00:00</td>\n",
       "      <td>2020-12-15T11:01:58.538283+00:00</td>\n",
       "      <td>POLYGON ((462355.376 91003.570, 462362.891 910...</td>\n",
       "      <td>2324928</td>\n",
       "      <td>1300</td>\n",
       "      <td>2000-01-01</td>\n",
       "    </tr>\n",
       "    <tr>\n",
       "      <th>1</th>\n",
       "      <td>14019</td>\n",
       "      <td>2020-09-29T12:37:37.136218+00:00</td>\n",
       "      <td>2020-12-15T11:01:58.538283+00:00</td>\n",
       "      <td>POLYGON ((455586.504 98506.640, 455570.758 985...</td>\n",
       "      <td>6294574</td>\n",
       "      <td>1300</td>\n",
       "      <td>2000-01-01</td>\n",
       "    </tr>\n",
       "    <tr>\n",
       "      <th>2</th>\n",
       "      <td>17500</td>\n",
       "      <td>2020-09-29T12:37:37.136218+00:00</td>\n",
       "      <td>2020-12-15T11:01:58.538283+00:00</td>\n",
       "      <td>POLYGON ((454279.064 97000.000, 454277.758 969...</td>\n",
       "      <td>4684059</td>\n",
       "      <td>1300</td>\n",
       "      <td>2000-01-01</td>\n",
       "    </tr>\n",
       "    <tr>\n",
       "      <th>3</th>\n",
       "      <td>18687</td>\n",
       "      <td>2020-09-29T12:37:37.136218+00:00</td>\n",
       "      <td>2020-12-15T11:01:58.538283+00:00</td>\n",
       "      <td>POLYGON ((457250.000 97350.271, 457257.420 973...</td>\n",
       "      <td>5996126</td>\n",
       "      <td>1300</td>\n",
       "      <td>2000-01-01</td>\n",
       "    </tr>\n",
       "    <tr>\n",
       "      <th>4</th>\n",
       "      <td>39810</td>\n",
       "      <td>2020-12-01T13:40:18.246639+00:00</td>\n",
       "      <td>2020-12-15T11:01:58.538283+00:00</td>\n",
       "      <td>POLYGON ((453875.163 92135.129, 453856.852 921...</td>\n",
       "      <td>5989421</td>\n",
       "      <td>1300</td>\n",
       "      <td>2000-01-01</td>\n",
       "    </tr>\n",
       "    <tr>\n",
       "      <th>...</th>\n",
       "      <td>...</td>\n",
       "      <td>...</td>\n",
       "      <td>...</td>\n",
       "      <td>...</td>\n",
       "      <td>...</td>\n",
       "      <td>...</td>\n",
       "      <td>...</td>\n",
       "    </tr>\n",
       "    <tr>\n",
       "      <th>5365</th>\n",
       "      <td>58901</td>\n",
       "      <td>2020-12-15T11:01:52.113704+00:00</td>\n",
       "      <td>2020-12-15T11:01:58.538283+00:00</td>\n",
       "      <td>POLYGON ((458247.583 99746.065, 458245.202 997...</td>\n",
       "      <td>6268059</td>\n",
       "      <td>1300</td>\n",
       "      <td>2000-01-01</td>\n",
       "    </tr>\n",
       "    <tr>\n",
       "      <th>5366</th>\n",
       "      <td>58902</td>\n",
       "      <td>2020-12-15T11:01:52.113704+00:00</td>\n",
       "      <td>2020-12-15T11:01:58.538283+00:00</td>\n",
       "      <td>POLYGON ((461932.283 90520.703, 461931.619 905...</td>\n",
       "      <td>6263561</td>\n",
       "      <td>1300</td>\n",
       "      <td>2000-01-01</td>\n",
       "    </tr>\n",
       "    <tr>\n",
       "      <th>5367</th>\n",
       "      <td>58933</td>\n",
       "      <td>2020-12-15T11:01:52.113704+00:00</td>\n",
       "      <td>2020-12-15T11:01:58.538283+00:00</td>\n",
       "      <td>POLYGON ((457231.170 90902.256, 457234.861 909...</td>\n",
       "      <td>6264862</td>\n",
       "      <td>1300</td>\n",
       "      <td>2000-01-01</td>\n",
       "    </tr>\n",
       "    <tr>\n",
       "      <th>5368</th>\n",
       "      <td>58934</td>\n",
       "      <td>2020-12-15T11:01:52.113704+00:00</td>\n",
       "      <td>2020-12-15T11:01:58.538283+00:00</td>\n",
       "      <td>POLYGON ((461378.845 91124.318, 461490.224 911...</td>\n",
       "      <td>6264865</td>\n",
       "      <td>1300</td>\n",
       "      <td>2000-01-01</td>\n",
       "    </tr>\n",
       "    <tr>\n",
       "      <th>5369</th>\n",
       "      <td>58956</td>\n",
       "      <td>2020-12-15T11:01:52.113704+00:00</td>\n",
       "      <td>2020-12-15T11:01:58.538283+00:00</td>\n",
       "      <td>POLYGON ((457450.306 97213.244, 457490.521 972...</td>\n",
       "      <td>6263915</td>\n",
       "      <td>1300</td>\n",
       "      <td>2000-01-01</td>\n",
       "    </tr>\n",
       "  </tbody>\n",
       "</table>\n",
       "<p>5370 rows × 7 columns</p>\n",
       "</div>"
      ],
      "text/plain": [
       "         id                        created_at  \\\n",
       "0     20323  2020-09-30T07:49:51.801876+00:00   \n",
       "1     14019  2020-09-29T12:37:37.136218+00:00   \n",
       "2     17500  2020-09-29T12:37:37.136218+00:00   \n",
       "3     18687  2020-09-29T12:37:37.136218+00:00   \n",
       "4     39810  2020-12-01T13:40:18.246639+00:00   \n",
       "...     ...                               ...   \n",
       "5365  58901  2020-12-15T11:01:52.113704+00:00   \n",
       "5366  58902  2020-12-15T11:01:52.113704+00:00   \n",
       "5367  58933  2020-12-15T11:01:52.113704+00:00   \n",
       "5368  58934  2020-12-15T11:01:52.113704+00:00   \n",
       "5369  58956  2020-12-15T11:01:52.113704+00:00   \n",
       "\n",
       "                           modified_at  \\\n",
       "0     2020-12-15T11:01:58.538283+00:00   \n",
       "1     2020-12-15T11:01:58.538283+00:00   \n",
       "2     2020-12-15T11:01:58.538283+00:00   \n",
       "3     2020-12-15T11:01:58.538283+00:00   \n",
       "4     2020-12-15T11:01:58.538283+00:00   \n",
       "...                                ...   \n",
       "5365  2020-12-15T11:01:58.538283+00:00   \n",
       "5366  2020-12-15T11:01:58.538283+00:00   \n",
       "5367  2020-12-15T11:01:58.538283+00:00   \n",
       "5368  2020-12-15T11:01:58.538283+00:00   \n",
       "5369  2020-12-15T11:01:58.538283+00:00   \n",
       "\n",
       "                                               geometry  raba_pid  raba_id  \\\n",
       "0     POLYGON ((462355.376 91003.570, 462362.891 910...   2324928     1300   \n",
       "1     POLYGON ((455586.504 98506.640, 455570.758 985...   6294574     1300   \n",
       "2     POLYGON ((454279.064 97000.000, 454277.758 969...   4684059     1300   \n",
       "3     POLYGON ((457250.000 97350.271, 457257.420 973...   5996126     1300   \n",
       "4     POLYGON ((453875.163 92135.129, 453856.852 921...   5989421     1300   \n",
       "...                                                 ...       ...      ...   \n",
       "5365  POLYGON ((458247.583 99746.065, 458245.202 997...   6268059     1300   \n",
       "5366  POLYGON ((461932.283 90520.703, 461931.619 905...   6263561     1300   \n",
       "5367  POLYGON ((457231.170 90902.256, 457234.861 909...   6264862     1300   \n",
       "5368  POLYGON ((461378.845 91124.318, 461490.224 911...   6264865     1300   \n",
       "5369  POLYGON ((457450.306 97213.244, 457490.521 972...   6263915     1300   \n",
       "\n",
       "            d_od  \n",
       "0     2000-01-01  \n",
       "1     2000-01-01  \n",
       "2     2000-01-01  \n",
       "3     2000-01-01  \n",
       "4     2000-01-01  \n",
       "...          ...  \n",
       "5365  2000-01-01  \n",
       "5366  2000-01-01  \n",
       "5367  2000-01-01  \n",
       "5368  2000-01-01  \n",
       "5369  2000-01-01  \n",
       "\n",
       "[5370 rows x 7 columns]"
      ]
     },
     "execution_count": 17,
     "metadata": {},
     "output_type": "execute_result"
    }
   ],
   "source": [
    "geodb.get_collection('land_use', query=\"raba_id=eq.1300\")"
   ]
  },
  {
   "cell_type": "markdown",
   "metadata": {
    "papermill": {
     "duration": 0.017152,
     "end_time": "2020-12-15T11:02:00.918124",
     "exception": false,
     "start_time": "2020-12-15T11:02:00.900972",
     "status": "completed"
    },
    "tags": []
   },
   "source": [
    "### Managing Properties of a Collection"
   ]
  },
  {
   "cell_type": "code",
   "execution_count": 18,
   "metadata": {
    "execution": {
     "iopub.execute_input": "2020-12-15T11:02:00.960013Z",
     "iopub.status.busy": "2020-12-15T11:02:00.959451Z",
     "iopub.status.idle": "2020-12-15T11:02:01.125420Z",
     "shell.execute_reply": "2020-12-15T11:02:01.124965Z"
    },
    "papermill": {
     "duration": 0.190232,
     "end_time": "2020-12-15T11:02:01.125542",
     "exception": false,
     "start_time": "2020-12-15T11:02:00.935310",
     "status": "completed"
    },
    "tags": []
   },
   "outputs": [
    {
     "data": {
      "text/html": [
       "<div>\n",
       "<style scoped>\n",
       "    .dataframe tbody tr th:only-of-type {\n",
       "        vertical-align: middle;\n",
       "    }\n",
       "\n",
       "    .dataframe tbody tr th {\n",
       "        vertical-align: top;\n",
       "    }\n",
       "\n",
       "    .dataframe thead th {\n",
       "        text-align: right;\n",
       "    }\n",
       "</style>\n",
       "<table border=\"1\" class=\"dataframe\">\n",
       "  <thead>\n",
       "    <tr style=\"text-align: right;\">\n",
       "      <th></th>\n",
       "      <th>owner</th>\n",
       "      <th>database</th>\n",
       "      <th>table_name</th>\n",
       "    </tr>\n",
       "  </thead>\n",
       "  <tbody>\n",
       "    <tr>\n",
       "      <th>0</th>\n",
       "      <td>anja</td>\n",
       "      <td>anja</td>\n",
       "      <td>E1</td>\n",
       "    </tr>\n",
       "    <tr>\n",
       "      <th>1</th>\n",
       "      <td>anja</td>\n",
       "      <td>anja</td>\n",
       "      <td>E10a1</td>\n",
       "    </tr>\n",
       "    <tr>\n",
       "      <th>2</th>\n",
       "      <td>anja</td>\n",
       "      <td>anja</td>\n",
       "      <td>E10a2</td>\n",
       "    </tr>\n",
       "    <tr>\n",
       "      <th>3</th>\n",
       "      <td>anja</td>\n",
       "      <td>anja</td>\n",
       "      <td>E11</td>\n",
       "    </tr>\n",
       "    <tr>\n",
       "      <th>4</th>\n",
       "      <td>anja</td>\n",
       "      <td>anja</td>\n",
       "      <td>E1a</td>\n",
       "    </tr>\n",
       "    <tr>\n",
       "      <th>...</th>\n",
       "      <td>...</td>\n",
       "      <td>...</td>\n",
       "      <td>...</td>\n",
       "    </tr>\n",
       "    <tr>\n",
       "      <th>58</th>\n",
       "      <td>geodb_admin</td>\n",
       "      <td>phi_week</td>\n",
       "      <td>gran_chaco</td>\n",
       "    </tr>\n",
       "    <tr>\n",
       "      <th>59</th>\n",
       "      <td>geodb_admin</td>\n",
       "      <td>public</td>\n",
       "      <td>land_use</td>\n",
       "    </tr>\n",
       "    <tr>\n",
       "      <th>60</th>\n",
       "      <td>geodb_ciuser</td>\n",
       "      <td>geodb_ciuser</td>\n",
       "      <td>land_use</td>\n",
       "    </tr>\n",
       "    <tr>\n",
       "      <th>61</th>\n",
       "      <td>geodb_d2c4722a-cc19-4ec1-b575-0cdb6876d4a7</td>\n",
       "      <td>lpis_iacs</td>\n",
       "      <td>land_use_slo</td>\n",
       "    </tr>\n",
       "    <tr>\n",
       "      <th>62</th>\n",
       "      <td>geodb_d2c4722a-cc19-4ec1-b575-0cdb6876d4a7</td>\n",
       "      <td>lpis_iacs</td>\n",
       "      <td>lpis_slo</td>\n",
       "    </tr>\n",
       "  </tbody>\n",
       "</table>\n",
       "<p>63 rows × 3 columns</p>\n",
       "</div>"
      ],
      "text/plain": [
       "                                         owner      database    table_name\n",
       "0                                         anja          anja            E1\n",
       "1                                         anja          anja         E10a1\n",
       "2                                         anja          anja         E10a2\n",
       "3                                         anja          anja           E11\n",
       "4                                         anja          anja           E1a\n",
       "..                                         ...           ...           ...\n",
       "58                                 geodb_admin      phi_week    gran_chaco\n",
       "59                                 geodb_admin        public      land_use\n",
       "60                                geodb_ciuser  geodb_ciuser      land_use\n",
       "61  geodb_d2c4722a-cc19-4ec1-b575-0cdb6876d4a7     lpis_iacs  land_use_slo\n",
       "62  geodb_d2c4722a-cc19-4ec1-b575-0cdb6876d4a7     lpis_iacs      lpis_slo\n",
       "\n",
       "[63 rows x 3 columns]"
      ]
     },
     "execution_count": 18,
     "metadata": {},
     "output_type": "execute_result"
    }
   ],
   "source": [
    "geodb.get_my_collections()"
   ]
  },
  {
   "cell_type": "code",
   "execution_count": 19,
   "metadata": {
    "execution": {
     "iopub.execute_input": "2020-12-15T11:02:01.163954Z",
     "iopub.status.busy": "2020-12-15T11:02:01.163402Z",
     "iopub.status.idle": "2020-12-15T11:02:01.479746Z",
     "shell.execute_reply": "2020-12-15T11:02:01.480094Z"
    },
    "papermill": {
     "duration": 0.337727,
     "end_time": "2020-12-15T11:02:01.480228",
     "exception": false,
     "start_time": "2020-12-15T11:02:01.142501",
     "status": "completed"
    },
    "tags": []
   },
   "outputs": [
    {
     "data": {
      "text/html": [
       "<div>\n",
       "<style scoped>\n",
       "    .dataframe tbody tr th:only-of-type {\n",
       "        vertical-align: middle;\n",
       "    }\n",
       "\n",
       "    .dataframe tbody tr th {\n",
       "        vertical-align: top;\n",
       "    }\n",
       "\n",
       "    .dataframe thead th {\n",
       "        text-align: right;\n",
       "    }\n",
       "</style>\n",
       "<table border=\"1\" class=\"dataframe\">\n",
       "  <thead>\n",
       "    <tr style=\"text-align: right;\">\n",
       "      <th></th>\n",
       "      <th>database</th>\n",
       "      <th>table_name</th>\n",
       "      <th>column_name</th>\n",
       "      <th>data_type</th>\n",
       "    </tr>\n",
       "  </thead>\n",
       "  <tbody>\n",
       "    <tr>\n",
       "      <th>0</th>\n",
       "      <td>geodb_418dfeac-15f0-4606-9edb-fd9eb722bf04</td>\n",
       "      <td>land_use</td>\n",
       "      <td>id</td>\n",
       "      <td>integer</td>\n",
       "    </tr>\n",
       "    <tr>\n",
       "      <th>1</th>\n",
       "      <td>geodb_418dfeac-15f0-4606-9edb-fd9eb722bf04</td>\n",
       "      <td>land_use</td>\n",
       "      <td>created_at</td>\n",
       "      <td>timestamp with time zone</td>\n",
       "    </tr>\n",
       "    <tr>\n",
       "      <th>2</th>\n",
       "      <td>geodb_418dfeac-15f0-4606-9edb-fd9eb722bf04</td>\n",
       "      <td>land_use</td>\n",
       "      <td>modified_at</td>\n",
       "      <td>timestamp with time zone</td>\n",
       "    </tr>\n",
       "    <tr>\n",
       "      <th>3</th>\n",
       "      <td>geodb_418dfeac-15f0-4606-9edb-fd9eb722bf04</td>\n",
       "      <td>land_use</td>\n",
       "      <td>geometry</td>\n",
       "      <td>USER-DEFINED</td>\n",
       "    </tr>\n",
       "    <tr>\n",
       "      <th>4</th>\n",
       "      <td>geodb_418dfeac-15f0-4606-9edb-fd9eb722bf04</td>\n",
       "      <td>land_use</td>\n",
       "      <td>raba_pid</td>\n",
       "      <td>double precision</td>\n",
       "    </tr>\n",
       "    <tr>\n",
       "      <th>5</th>\n",
       "      <td>geodb_418dfeac-15f0-4606-9edb-fd9eb722bf04</td>\n",
       "      <td>land_use</td>\n",
       "      <td>raba_id</td>\n",
       "      <td>double precision</td>\n",
       "    </tr>\n",
       "    <tr>\n",
       "      <th>6</th>\n",
       "      <td>geodb_418dfeac-15f0-4606-9edb-fd9eb722bf04</td>\n",
       "      <td>land_use</td>\n",
       "      <td>d_od</td>\n",
       "      <td>date</td>\n",
       "    </tr>\n",
       "  </tbody>\n",
       "</table>\n",
       "</div>"
      ],
      "text/plain": [
       "                                     database table_name  column_name  \\\n",
       "0  geodb_418dfeac-15f0-4606-9edb-fd9eb722bf04   land_use           id   \n",
       "1  geodb_418dfeac-15f0-4606-9edb-fd9eb722bf04   land_use   created_at   \n",
       "2  geodb_418dfeac-15f0-4606-9edb-fd9eb722bf04   land_use  modified_at   \n",
       "3  geodb_418dfeac-15f0-4606-9edb-fd9eb722bf04   land_use     geometry   \n",
       "4  geodb_418dfeac-15f0-4606-9edb-fd9eb722bf04   land_use     raba_pid   \n",
       "5  geodb_418dfeac-15f0-4606-9edb-fd9eb722bf04   land_use      raba_id   \n",
       "6  geodb_418dfeac-15f0-4606-9edb-fd9eb722bf04   land_use         d_od   \n",
       "\n",
       "                  data_type  \n",
       "0                   integer  \n",
       "1  timestamp with time zone  \n",
       "2  timestamp with time zone  \n",
       "3              USER-DEFINED  \n",
       "4          double precision  \n",
       "5          double precision  \n",
       "6                      date  "
      ]
     },
     "execution_count": 19,
     "metadata": {},
     "output_type": "execute_result"
    }
   ],
   "source": [
    "geodb.get_properties('land_use')"
   ]
  },
  {
   "cell_type": "code",
   "execution_count": 20,
   "metadata": {
    "execution": {
     "iopub.execute_input": "2020-12-15T11:02:01.518775Z",
     "iopub.status.busy": "2020-12-15T11:02:01.518240Z",
     "iopub.status.idle": "2020-12-15T11:02:01.872997Z",
     "shell.execute_reply": "2020-12-15T11:02:01.872496Z"
    },
    "papermill": {
     "duration": 0.375654,
     "end_time": "2020-12-15T11:02:01.873108",
     "exception": false,
     "start_time": "2020-12-15T11:02:01.497454",
     "status": "completed"
    },
    "tags": []
   },
   "outputs": [
    {
     "data": {
      "text/plain": [
       "Properties added"
      ]
     },
     "execution_count": 20,
     "metadata": {},
     "output_type": "execute_result"
    }
   ],
   "source": [
    "geodb.add_property('land_use', \"test_prop\", 'integer')"
   ]
  },
  {
   "cell_type": "code",
   "execution_count": 21,
   "metadata": {
    "execution": {
     "iopub.execute_input": "2020-12-15T11:02:01.912347Z",
     "iopub.status.busy": "2020-12-15T11:02:01.911836Z",
     "iopub.status.idle": "2020-12-15T11:02:02.322490Z",
     "shell.execute_reply": "2020-12-15T11:02:02.321995Z"
    },
    "papermill": {
     "duration": 0.43223,
     "end_time": "2020-12-15T11:02:02.322598",
     "exception": false,
     "start_time": "2020-12-15T11:02:01.890368",
     "status": "completed"
    },
    "tags": []
   },
   "outputs": [
    {
     "data": {
      "text/html": [
       "<div>\n",
       "<style scoped>\n",
       "    .dataframe tbody tr th:only-of-type {\n",
       "        vertical-align: middle;\n",
       "    }\n",
       "\n",
       "    .dataframe tbody tr th {\n",
       "        vertical-align: top;\n",
       "    }\n",
       "\n",
       "    .dataframe thead th {\n",
       "        text-align: right;\n",
       "    }\n",
       "</style>\n",
       "<table border=\"1\" class=\"dataframe\">\n",
       "  <thead>\n",
       "    <tr style=\"text-align: right;\">\n",
       "      <th></th>\n",
       "      <th>database</th>\n",
       "      <th>table_name</th>\n",
       "      <th>column_name</th>\n",
       "      <th>data_type</th>\n",
       "    </tr>\n",
       "  </thead>\n",
       "  <tbody>\n",
       "    <tr>\n",
       "      <th>0</th>\n",
       "      <td>geodb_418dfeac-15f0-4606-9edb-fd9eb722bf04</td>\n",
       "      <td>land_use</td>\n",
       "      <td>id</td>\n",
       "      <td>integer</td>\n",
       "    </tr>\n",
       "    <tr>\n",
       "      <th>1</th>\n",
       "      <td>geodb_418dfeac-15f0-4606-9edb-fd9eb722bf04</td>\n",
       "      <td>land_use</td>\n",
       "      <td>created_at</td>\n",
       "      <td>timestamp with time zone</td>\n",
       "    </tr>\n",
       "    <tr>\n",
       "      <th>2</th>\n",
       "      <td>geodb_418dfeac-15f0-4606-9edb-fd9eb722bf04</td>\n",
       "      <td>land_use</td>\n",
       "      <td>modified_at</td>\n",
       "      <td>timestamp with time zone</td>\n",
       "    </tr>\n",
       "    <tr>\n",
       "      <th>3</th>\n",
       "      <td>geodb_418dfeac-15f0-4606-9edb-fd9eb722bf04</td>\n",
       "      <td>land_use</td>\n",
       "      <td>geometry</td>\n",
       "      <td>USER-DEFINED</td>\n",
       "    </tr>\n",
       "    <tr>\n",
       "      <th>4</th>\n",
       "      <td>geodb_418dfeac-15f0-4606-9edb-fd9eb722bf04</td>\n",
       "      <td>land_use</td>\n",
       "      <td>raba_pid</td>\n",
       "      <td>double precision</td>\n",
       "    </tr>\n",
       "    <tr>\n",
       "      <th>5</th>\n",
       "      <td>geodb_418dfeac-15f0-4606-9edb-fd9eb722bf04</td>\n",
       "      <td>land_use</td>\n",
       "      <td>raba_id</td>\n",
       "      <td>double precision</td>\n",
       "    </tr>\n",
       "    <tr>\n",
       "      <th>6</th>\n",
       "      <td>geodb_418dfeac-15f0-4606-9edb-fd9eb722bf04</td>\n",
       "      <td>land_use</td>\n",
       "      <td>d_od</td>\n",
       "      <td>date</td>\n",
       "    </tr>\n",
       "    <tr>\n",
       "      <th>7</th>\n",
       "      <td>geodb_418dfeac-15f0-4606-9edb-fd9eb722bf04</td>\n",
       "      <td>land_use</td>\n",
       "      <td>test_prop</td>\n",
       "      <td>integer</td>\n",
       "    </tr>\n",
       "  </tbody>\n",
       "</table>\n",
       "</div>"
      ],
      "text/plain": [
       "                                     database table_name  column_name  \\\n",
       "0  geodb_418dfeac-15f0-4606-9edb-fd9eb722bf04   land_use           id   \n",
       "1  geodb_418dfeac-15f0-4606-9edb-fd9eb722bf04   land_use   created_at   \n",
       "2  geodb_418dfeac-15f0-4606-9edb-fd9eb722bf04   land_use  modified_at   \n",
       "3  geodb_418dfeac-15f0-4606-9edb-fd9eb722bf04   land_use     geometry   \n",
       "4  geodb_418dfeac-15f0-4606-9edb-fd9eb722bf04   land_use     raba_pid   \n",
       "5  geodb_418dfeac-15f0-4606-9edb-fd9eb722bf04   land_use      raba_id   \n",
       "6  geodb_418dfeac-15f0-4606-9edb-fd9eb722bf04   land_use         d_od   \n",
       "7  geodb_418dfeac-15f0-4606-9edb-fd9eb722bf04   land_use    test_prop   \n",
       "\n",
       "                  data_type  \n",
       "0                   integer  \n",
       "1  timestamp with time zone  \n",
       "2  timestamp with time zone  \n",
       "3              USER-DEFINED  \n",
       "4          double precision  \n",
       "5          double precision  \n",
       "6                      date  \n",
       "7                   integer  "
      ]
     },
     "execution_count": 21,
     "metadata": {},
     "output_type": "execute_result"
    }
   ],
   "source": [
    "geodb.get_properties('land_use')"
   ]
  },
  {
   "cell_type": "code",
   "execution_count": 22,
   "metadata": {
    "execution": {
     "iopub.execute_input": "2020-12-15T11:02:02.361581Z",
     "iopub.status.busy": "2020-12-15T11:02:02.360125Z",
     "iopub.status.idle": "2020-12-15T11:02:03.902848Z",
     "shell.execute_reply": "2020-12-15T11:02:03.902306Z"
    },
    "papermill": {
     "duration": 1.562787,
     "end_time": "2020-12-15T11:02:03.902959",
     "exception": false,
     "start_time": "2020-12-15T11:02:02.340172",
     "status": "completed"
    },
    "tags": []
   },
   "outputs": [
    {
     "data": {
      "text/plain": [
       "Properties ['test_prop'] dropped from geodb_418dfeac-15f0-4606-9edb-fd9eb722bf04_land_use"
      ]
     },
     "execution_count": 22,
     "metadata": {},
     "output_type": "execute_result"
    }
   ],
   "source": [
    "geodb.drop_property('land_use', 'test_prop')"
   ]
  },
  {
   "cell_type": "code",
   "execution_count": 23,
   "metadata": {
    "execution": {
     "iopub.execute_input": "2020-12-15T11:02:03.943328Z",
     "iopub.status.busy": "2020-12-15T11:02:03.942804Z",
     "iopub.status.idle": "2020-12-15T11:02:04.273819Z",
     "shell.execute_reply": "2020-12-15T11:02:04.273322Z"
    },
    "papermill": {
     "duration": 0.352966,
     "end_time": "2020-12-15T11:02:04.273925",
     "exception": false,
     "start_time": "2020-12-15T11:02:03.920959",
     "status": "completed"
    },
    "tags": []
   },
   "outputs": [
    {
     "data": {
      "text/html": [
       "<div>\n",
       "<style scoped>\n",
       "    .dataframe tbody tr th:only-of-type {\n",
       "        vertical-align: middle;\n",
       "    }\n",
       "\n",
       "    .dataframe tbody tr th {\n",
       "        vertical-align: top;\n",
       "    }\n",
       "\n",
       "    .dataframe thead th {\n",
       "        text-align: right;\n",
       "    }\n",
       "</style>\n",
       "<table border=\"1\" class=\"dataframe\">\n",
       "  <thead>\n",
       "    <tr style=\"text-align: right;\">\n",
       "      <th></th>\n",
       "      <th>database</th>\n",
       "      <th>table_name</th>\n",
       "      <th>column_name</th>\n",
       "      <th>data_type</th>\n",
       "    </tr>\n",
       "  </thead>\n",
       "  <tbody>\n",
       "    <tr>\n",
       "      <th>0</th>\n",
       "      <td>geodb_418dfeac-15f0-4606-9edb-fd9eb722bf04</td>\n",
       "      <td>land_use</td>\n",
       "      <td>id</td>\n",
       "      <td>integer</td>\n",
       "    </tr>\n",
       "    <tr>\n",
       "      <th>1</th>\n",
       "      <td>geodb_418dfeac-15f0-4606-9edb-fd9eb722bf04</td>\n",
       "      <td>land_use</td>\n",
       "      <td>created_at</td>\n",
       "      <td>timestamp with time zone</td>\n",
       "    </tr>\n",
       "    <tr>\n",
       "      <th>2</th>\n",
       "      <td>geodb_418dfeac-15f0-4606-9edb-fd9eb722bf04</td>\n",
       "      <td>land_use</td>\n",
       "      <td>modified_at</td>\n",
       "      <td>timestamp with time zone</td>\n",
       "    </tr>\n",
       "    <tr>\n",
       "      <th>3</th>\n",
       "      <td>geodb_418dfeac-15f0-4606-9edb-fd9eb722bf04</td>\n",
       "      <td>land_use</td>\n",
       "      <td>geometry</td>\n",
       "      <td>USER-DEFINED</td>\n",
       "    </tr>\n",
       "    <tr>\n",
       "      <th>4</th>\n",
       "      <td>geodb_418dfeac-15f0-4606-9edb-fd9eb722bf04</td>\n",
       "      <td>land_use</td>\n",
       "      <td>raba_pid</td>\n",
       "      <td>double precision</td>\n",
       "    </tr>\n",
       "    <tr>\n",
       "      <th>5</th>\n",
       "      <td>geodb_418dfeac-15f0-4606-9edb-fd9eb722bf04</td>\n",
       "      <td>land_use</td>\n",
       "      <td>raba_id</td>\n",
       "      <td>double precision</td>\n",
       "    </tr>\n",
       "    <tr>\n",
       "      <th>6</th>\n",
       "      <td>geodb_418dfeac-15f0-4606-9edb-fd9eb722bf04</td>\n",
       "      <td>land_use</td>\n",
       "      <td>d_od</td>\n",
       "      <td>date</td>\n",
       "    </tr>\n",
       "  </tbody>\n",
       "</table>\n",
       "</div>"
      ],
      "text/plain": [
       "                                     database table_name  column_name  \\\n",
       "0  geodb_418dfeac-15f0-4606-9edb-fd9eb722bf04   land_use           id   \n",
       "1  geodb_418dfeac-15f0-4606-9edb-fd9eb722bf04   land_use   created_at   \n",
       "2  geodb_418dfeac-15f0-4606-9edb-fd9eb722bf04   land_use  modified_at   \n",
       "3  geodb_418dfeac-15f0-4606-9edb-fd9eb722bf04   land_use     geometry   \n",
       "4  geodb_418dfeac-15f0-4606-9edb-fd9eb722bf04   land_use     raba_pid   \n",
       "5  geodb_418dfeac-15f0-4606-9edb-fd9eb722bf04   land_use      raba_id   \n",
       "6  geodb_418dfeac-15f0-4606-9edb-fd9eb722bf04   land_use         d_od   \n",
       "\n",
       "                  data_type  \n",
       "0                   integer  \n",
       "1  timestamp with time zone  \n",
       "2  timestamp with time zone  \n",
       "3              USER-DEFINED  \n",
       "4          double precision  \n",
       "5          double precision  \n",
       "6                      date  "
      ]
     },
     "execution_count": 23,
     "metadata": {},
     "output_type": "execute_result"
    }
   ],
   "source": [
    "geodb.get_properties('land_use')"
   ]
  },
  {
   "cell_type": "code",
   "execution_count": 24,
   "metadata": {
    "execution": {
     "iopub.execute_input": "2020-12-15T11:02:04.313818Z",
     "iopub.status.busy": "2020-12-15T11:02:04.313301Z",
     "iopub.status.idle": "2020-12-15T11:02:04.743576Z",
     "shell.execute_reply": "2020-12-15T11:02:04.743921Z"
    },
    "papermill": {
     "duration": 0.452113,
     "end_time": "2020-12-15T11:02:04.744050",
     "exception": false,
     "start_time": "2020-12-15T11:02:04.291937",
     "status": "completed"
    },
    "tags": []
   },
   "outputs": [
    {
     "data": {
      "text/plain": [
       "Properties added"
      ]
     },
     "execution_count": 24,
     "metadata": {},
     "output_type": "execute_result"
    }
   ],
   "source": [
    "geodb.add_properties('land_use', properties={'test1': 'integer', 'test2': 'date'})"
   ]
  },
  {
   "cell_type": "code",
   "execution_count": 25,
   "metadata": {
    "execution": {
     "iopub.execute_input": "2020-12-15T11:02:04.785002Z",
     "iopub.status.busy": "2020-12-15T11:02:04.784487Z",
     "iopub.status.idle": "2020-12-15T11:02:05.132274Z",
     "shell.execute_reply": "2020-12-15T11:02:05.131723Z"
    },
    "papermill": {
     "duration": 0.37024,
     "end_time": "2020-12-15T11:02:05.132397",
     "exception": false,
     "start_time": "2020-12-15T11:02:04.762157",
     "status": "completed"
    },
    "tags": []
   },
   "outputs": [
    {
     "data": {
      "text/html": [
       "<div>\n",
       "<style scoped>\n",
       "    .dataframe tbody tr th:only-of-type {\n",
       "        vertical-align: middle;\n",
       "    }\n",
       "\n",
       "    .dataframe tbody tr th {\n",
       "        vertical-align: top;\n",
       "    }\n",
       "\n",
       "    .dataframe thead th {\n",
       "        text-align: right;\n",
       "    }\n",
       "</style>\n",
       "<table border=\"1\" class=\"dataframe\">\n",
       "  <thead>\n",
       "    <tr style=\"text-align: right;\">\n",
       "      <th></th>\n",
       "      <th>database</th>\n",
       "      <th>table_name</th>\n",
       "      <th>column_name</th>\n",
       "      <th>data_type</th>\n",
       "    </tr>\n",
       "  </thead>\n",
       "  <tbody>\n",
       "    <tr>\n",
       "      <th>0</th>\n",
       "      <td>geodb_418dfeac-15f0-4606-9edb-fd9eb722bf04</td>\n",
       "      <td>land_use</td>\n",
       "      <td>id</td>\n",
       "      <td>integer</td>\n",
       "    </tr>\n",
       "    <tr>\n",
       "      <th>1</th>\n",
       "      <td>geodb_418dfeac-15f0-4606-9edb-fd9eb722bf04</td>\n",
       "      <td>land_use</td>\n",
       "      <td>created_at</td>\n",
       "      <td>timestamp with time zone</td>\n",
       "    </tr>\n",
       "    <tr>\n",
       "      <th>2</th>\n",
       "      <td>geodb_418dfeac-15f0-4606-9edb-fd9eb722bf04</td>\n",
       "      <td>land_use</td>\n",
       "      <td>modified_at</td>\n",
       "      <td>timestamp with time zone</td>\n",
       "    </tr>\n",
       "    <tr>\n",
       "      <th>3</th>\n",
       "      <td>geodb_418dfeac-15f0-4606-9edb-fd9eb722bf04</td>\n",
       "      <td>land_use</td>\n",
       "      <td>geometry</td>\n",
       "      <td>USER-DEFINED</td>\n",
       "    </tr>\n",
       "    <tr>\n",
       "      <th>4</th>\n",
       "      <td>geodb_418dfeac-15f0-4606-9edb-fd9eb722bf04</td>\n",
       "      <td>land_use</td>\n",
       "      <td>raba_pid</td>\n",
       "      <td>double precision</td>\n",
       "    </tr>\n",
       "    <tr>\n",
       "      <th>5</th>\n",
       "      <td>geodb_418dfeac-15f0-4606-9edb-fd9eb722bf04</td>\n",
       "      <td>land_use</td>\n",
       "      <td>raba_id</td>\n",
       "      <td>double precision</td>\n",
       "    </tr>\n",
       "    <tr>\n",
       "      <th>6</th>\n",
       "      <td>geodb_418dfeac-15f0-4606-9edb-fd9eb722bf04</td>\n",
       "      <td>land_use</td>\n",
       "      <td>d_od</td>\n",
       "      <td>date</td>\n",
       "    </tr>\n",
       "    <tr>\n",
       "      <th>7</th>\n",
       "      <td>geodb_418dfeac-15f0-4606-9edb-fd9eb722bf04</td>\n",
       "      <td>land_use</td>\n",
       "      <td>test1</td>\n",
       "      <td>integer</td>\n",
       "    </tr>\n",
       "    <tr>\n",
       "      <th>8</th>\n",
       "      <td>geodb_418dfeac-15f0-4606-9edb-fd9eb722bf04</td>\n",
       "      <td>land_use</td>\n",
       "      <td>test2</td>\n",
       "      <td>date</td>\n",
       "    </tr>\n",
       "  </tbody>\n",
       "</table>\n",
       "</div>"
      ],
      "text/plain": [
       "                                     database table_name  column_name  \\\n",
       "0  geodb_418dfeac-15f0-4606-9edb-fd9eb722bf04   land_use           id   \n",
       "1  geodb_418dfeac-15f0-4606-9edb-fd9eb722bf04   land_use   created_at   \n",
       "2  geodb_418dfeac-15f0-4606-9edb-fd9eb722bf04   land_use  modified_at   \n",
       "3  geodb_418dfeac-15f0-4606-9edb-fd9eb722bf04   land_use     geometry   \n",
       "4  geodb_418dfeac-15f0-4606-9edb-fd9eb722bf04   land_use     raba_pid   \n",
       "5  geodb_418dfeac-15f0-4606-9edb-fd9eb722bf04   land_use      raba_id   \n",
       "6  geodb_418dfeac-15f0-4606-9edb-fd9eb722bf04   land_use         d_od   \n",
       "7  geodb_418dfeac-15f0-4606-9edb-fd9eb722bf04   land_use        test1   \n",
       "8  geodb_418dfeac-15f0-4606-9edb-fd9eb722bf04   land_use        test2   \n",
       "\n",
       "                  data_type  \n",
       "0                   integer  \n",
       "1  timestamp with time zone  \n",
       "2  timestamp with time zone  \n",
       "3              USER-DEFINED  \n",
       "4          double precision  \n",
       "5          double precision  \n",
       "6                      date  \n",
       "7                   integer  \n",
       "8                      date  "
      ]
     },
     "execution_count": 25,
     "metadata": {},
     "output_type": "execute_result"
    }
   ],
   "source": [
    "geodb.get_properties('land_use')"
   ]
  },
  {
   "cell_type": "code",
   "execution_count": 26,
   "metadata": {
    "execution": {
     "iopub.execute_input": "2020-12-15T11:02:05.173473Z",
     "iopub.status.busy": "2020-12-15T11:02:05.172897Z",
     "iopub.status.idle": "2020-12-15T11:02:05.820845Z",
     "shell.execute_reply": "2020-12-15T11:02:05.820366Z"
    },
    "papermill": {
     "duration": 0.670138,
     "end_time": "2020-12-15T11:02:05.820958",
     "exception": false,
     "start_time": "2020-12-15T11:02:05.150820",
     "status": "completed"
    },
    "tags": []
   },
   "outputs": [
    {
     "data": {
      "text/plain": [
       "Properties ['test1', 'test2'] dropped from geodb_418dfeac-15f0-4606-9edb-fd9eb722bf04_land_use"
      ]
     },
     "execution_count": 26,
     "metadata": {},
     "output_type": "execute_result"
    }
   ],
   "source": [
    "geodb.drop_properties('land_use', properties=['test1', 'test2'])"
   ]
  },
  {
   "cell_type": "code",
   "execution_count": 27,
   "metadata": {
    "execution": {
     "iopub.execute_input": "2020-12-15T11:02:05.866455Z",
     "iopub.status.busy": "2020-12-15T11:02:05.865935Z",
     "iopub.status.idle": "2020-12-15T11:02:06.545382Z",
     "shell.execute_reply": "2020-12-15T11:02:06.545730Z"
    },
    "papermill": {
     "duration": 0.702318,
     "end_time": "2020-12-15T11:02:06.545865",
     "exception": false,
     "start_time": "2020-12-15T11:02:05.843547",
     "status": "completed"
    },
    "tags": []
   },
   "outputs": [
    {
     "data": {
      "text/html": [
       "<div>\n",
       "<style scoped>\n",
       "    .dataframe tbody tr th:only-of-type {\n",
       "        vertical-align: middle;\n",
       "    }\n",
       "\n",
       "    .dataframe tbody tr th {\n",
       "        vertical-align: top;\n",
       "    }\n",
       "\n",
       "    .dataframe thead th {\n",
       "        text-align: right;\n",
       "    }\n",
       "</style>\n",
       "<table border=\"1\" class=\"dataframe\">\n",
       "  <thead>\n",
       "    <tr style=\"text-align: right;\">\n",
       "      <th></th>\n",
       "      <th>database</th>\n",
       "      <th>table_name</th>\n",
       "      <th>column_name</th>\n",
       "      <th>data_type</th>\n",
       "    </tr>\n",
       "  </thead>\n",
       "  <tbody>\n",
       "    <tr>\n",
       "      <th>0</th>\n",
       "      <td>geodb_418dfeac-15f0-4606-9edb-fd9eb722bf04</td>\n",
       "      <td>land_use</td>\n",
       "      <td>id</td>\n",
       "      <td>integer</td>\n",
       "    </tr>\n",
       "    <tr>\n",
       "      <th>1</th>\n",
       "      <td>geodb_418dfeac-15f0-4606-9edb-fd9eb722bf04</td>\n",
       "      <td>land_use</td>\n",
       "      <td>created_at</td>\n",
       "      <td>timestamp with time zone</td>\n",
       "    </tr>\n",
       "    <tr>\n",
       "      <th>2</th>\n",
       "      <td>geodb_418dfeac-15f0-4606-9edb-fd9eb722bf04</td>\n",
       "      <td>land_use</td>\n",
       "      <td>modified_at</td>\n",
       "      <td>timestamp with time zone</td>\n",
       "    </tr>\n",
       "    <tr>\n",
       "      <th>3</th>\n",
       "      <td>geodb_418dfeac-15f0-4606-9edb-fd9eb722bf04</td>\n",
       "      <td>land_use</td>\n",
       "      <td>geometry</td>\n",
       "      <td>USER-DEFINED</td>\n",
       "    </tr>\n",
       "    <tr>\n",
       "      <th>4</th>\n",
       "      <td>geodb_418dfeac-15f0-4606-9edb-fd9eb722bf04</td>\n",
       "      <td>land_use</td>\n",
       "      <td>raba_pid</td>\n",
       "      <td>double precision</td>\n",
       "    </tr>\n",
       "    <tr>\n",
       "      <th>5</th>\n",
       "      <td>geodb_418dfeac-15f0-4606-9edb-fd9eb722bf04</td>\n",
       "      <td>land_use</td>\n",
       "      <td>raba_id</td>\n",
       "      <td>double precision</td>\n",
       "    </tr>\n",
       "    <tr>\n",
       "      <th>6</th>\n",
       "      <td>geodb_418dfeac-15f0-4606-9edb-fd9eb722bf04</td>\n",
       "      <td>land_use</td>\n",
       "      <td>d_od</td>\n",
       "      <td>date</td>\n",
       "    </tr>\n",
       "  </tbody>\n",
       "</table>\n",
       "</div>"
      ],
      "text/plain": [
       "                                     database table_name  column_name  \\\n",
       "0  geodb_418dfeac-15f0-4606-9edb-fd9eb722bf04   land_use           id   \n",
       "1  geodb_418dfeac-15f0-4606-9edb-fd9eb722bf04   land_use   created_at   \n",
       "2  geodb_418dfeac-15f0-4606-9edb-fd9eb722bf04   land_use  modified_at   \n",
       "3  geodb_418dfeac-15f0-4606-9edb-fd9eb722bf04   land_use     geometry   \n",
       "4  geodb_418dfeac-15f0-4606-9edb-fd9eb722bf04   land_use     raba_pid   \n",
       "5  geodb_418dfeac-15f0-4606-9edb-fd9eb722bf04   land_use      raba_id   \n",
       "6  geodb_418dfeac-15f0-4606-9edb-fd9eb722bf04   land_use         d_od   \n",
       "\n",
       "                  data_type  \n",
       "0                   integer  \n",
       "1  timestamp with time zone  \n",
       "2  timestamp with time zone  \n",
       "3              USER-DEFINED  \n",
       "4          double precision  \n",
       "5          double precision  \n",
       "6                      date  "
      ]
     },
     "execution_count": 27,
     "metadata": {},
     "output_type": "execute_result"
    }
   ],
   "source": [
    "geodb.get_properties('land_use')"
   ]
  },
  {
   "cell_type": "code",
   "execution_count": 28,
   "metadata": {
    "execution": {
     "iopub.execute_input": "2020-12-15T11:02:06.587994Z",
     "iopub.status.busy": "2020-12-15T11:02:06.587401Z",
     "iopub.status.idle": "2020-12-15T11:02:06.589408Z",
     "shell.execute_reply": "2020-12-15T11:02:06.588892Z"
    },
    "papermill": {
     "duration": 0.024019,
     "end_time": "2020-12-15T11:02:06.589511",
     "exception": false,
     "start_time": "2020-12-15T11:02:06.565492",
     "status": "completed"
    },
    "tags": []
   },
   "outputs": [],
   "source": [
    "#geodb.drop_collection('land_use')"
   ]
  },
  {
   "cell_type": "code",
   "execution_count": null,
   "metadata": {
    "papermill": {
     "duration": 0.019055,
     "end_time": "2020-12-15T11:02:06.627528",
     "exception": false,
     "start_time": "2020-12-15T11:02:06.608473",
     "status": "completed"
    },
    "tags": []
   },
   "outputs": [],
   "source": []
  }
 ],
 "metadata": {
  "kernelspec": {
   "display_name": "EDC 0.21.0 (Python3)",
   "language": "python",
   "name": "edc"
  },
  "language_info": {
   "codemirror_mode": {
    "name": "ipython",
    "version": 3
   },
   "file_extension": ".py",
   "mimetype": "text/x-python",
   "name": "python",
   "nbconvert_exporter": "python",
   "pygments_lexer": "ipython3",
   "version": "3.8.6"
  },
  "papermill": {
   "duration": 25.235874,
   "end_time": "2020-12-15T11:02:06.957012",
   "environment_variables": {},
   "exception": null,
   "input_path": "/tmp/tmp_5l5om31",
   "output_path": "/tmp/cur_notebook.ipynb",
   "parameters": {},
   "start_time": "2020-12-15T11:01:41.721138",
   "version": "2.1.2"
  },
  "properties": {
   "description": "Euro Data Cube GeoDB: Manage Datasets",
   "id": "geodb-manage",
   "license": null,
   "name": "GeoDB: Manage Datasets",
   "requirements": [
    "eurodatacube-geodb"
   ],
   "tags": [
    "Getting started",
    "GeoDB"
   ],
   "version": "0.2"
  },
  "pycharm": {
   "stem_cell": {
    "cell_type": "raw",
    "metadata": {
     "collapsed": false
    },
    "source": []
   }
  }
 },
 "nbformat": 4,
 "nbformat_minor": 4
}