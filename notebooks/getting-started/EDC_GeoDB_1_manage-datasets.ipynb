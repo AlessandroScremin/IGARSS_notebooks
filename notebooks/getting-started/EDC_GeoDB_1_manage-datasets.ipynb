{
 "cells": [
  {
   "cell_type": "code",
   "execution_count": 1,
   "metadata": {
    "execution": {
     "iopub.execute_input": "2020-05-18T08:11:11.843622Z",
     "iopub.status.busy": "2020-05-18T08:11:11.842840Z",
     "iopub.status.idle": "2020-05-18T08:11:12.065228Z",
     "shell.execute_reply": "2020-05-18T08:11:12.065652Z"
    },
    "papermill": {
     "duration": 0.274181,
     "end_time": "2020-05-18T08:11:12.065817",
     "exception": false,
     "start_time": "2020-05-18T08:11:11.791636",
     "status": "completed"
    },
    "tags": []
   },
   "outputs": [
    {
     "data": {
      "text/markdown": [
       "\n",
       "***Notebook Title***  \n",
       "GeoDB: Manage Datasets\n",
       "\n",
       "***Notebook Description***  \n",
       "Euro Data Cube GeoDB: Manage Datasets\n",
       "\n",
       "\n",
       "***Notebook Dependencies***  \n",
       "This notebook requires an active subscription to:\n",
       "* EDC GeoDB\n",
       "\n",
       "---------\n",
       "\n",
       "*API credentials have automatically been injected for your active subscriptions.*\n",
       "\n",
       "The following environment variables are now available:\n",
       "* `SH_INSTANCE_ID`\n",
       "* `SH_CLIENT_ID`\n",
       "* `SH_CLIENT_SECRET`\n",
       "* `SH_CLIENT_NAME`\n",
       "* `GEODB_API_SERVER_URL`\n",
       "* `GEODB_AUTH_CLIENT_ID`\n",
       "* `GEODB_AUTH_AUD`\n",
       "* `GEODB_AUTH_CLIENT_SECRET`\n",
       "* `GEODB_API_SERVER_PORT`\n",
       "* `GEODB_AUTH_DOMAIN`\n",
       "\n",
       "-------------\n"
      ],
      "text/plain": [
       "<IPython.core.display.Markdown object>"
      ]
     },
     "metadata": {},
     "output_type": "display_data"
    }
   ],
   "source": [
    "# load notebook details and inject API credentials (if available)\n",
    "from edc import prepare; prepare(\"geodb-manage\")"
   ]
  },
  {
   "cell_type": "markdown",
   "metadata": {
    "papermill": {
     "duration": 0.049019,
     "end_time": "2020-05-18T08:11:12.163655",
     "exception": false,
     "start_time": "2020-05-18T08:11:12.114636",
     "status": "completed"
    },
    "tags": []
   },
   "source": [
    "## Manage Collections in your GeoDB\n",
    "\n"
   ]
  },
  {
   "cell_type": "markdown",
   "metadata": {
    "papermill": {
     "duration": 0.052537,
     "end_time": "2020-05-18T08:11:12.263391",
     "exception": false,
     "start_time": "2020-05-18T08:11:12.210854",
     "status": "completed"
    },
    "tags": []
   },
   "source": [
    "### Connecting to the GeoDB"
   ]
  },
  {
   "cell_type": "code",
   "execution_count": 2,
   "metadata": {
    "execution": {
     "iopub.execute_input": "2020-05-18T08:11:12.371401Z",
     "iopub.status.busy": "2020-05-18T08:11:12.370667Z",
     "iopub.status.idle": "2020-05-18T08:11:13.078816Z",
     "shell.execute_reply": "2020-05-18T08:11:13.078221Z"
    },
    "papermill": {
     "duration": 0.768009,
     "end_time": "2020-05-18T08:11:13.078916",
     "exception": false,
     "start_time": "2020-05-18T08:11:12.310907",
     "status": "completed"
    },
    "tags": []
   },
   "outputs": [],
   "source": [
    "from xcube_geodb.core.geodb import GeoDBClient"
   ]
  },
  {
   "cell_type": "code",
   "execution_count": 3,
   "metadata": {
    "execution": {
     "iopub.execute_input": "2020-05-18T08:11:13.190379Z",
     "iopub.status.busy": "2020-05-18T08:11:13.189817Z",
     "iopub.status.idle": "2020-05-18T08:11:13.200421Z",
     "shell.execute_reply": "2020-05-18T08:11:13.200879Z"
    },
    "papermill": {
     "duration": 0.072124,
     "end_time": "2020-05-18T08:11:13.201009",
     "exception": false,
     "start_time": "2020-05-18T08:11:13.128885",
     "status": "completed"
    },
    "tags": []
   },
   "outputs": [],
   "source": [
    "geodb = GeoDBClient()"
   ]
  },
  {
   "cell_type": "code",
   "execution_count": 4,
   "metadata": {
    "execution": {
     "iopub.execute_input": "2020-05-18T08:11:13.307540Z",
     "iopub.status.busy": "2020-05-18T08:11:13.306672Z",
     "iopub.status.idle": "2020-05-18T08:11:13.600154Z",
     "shell.execute_reply": "2020-05-18T08:11:13.599487Z"
    },
    "papermill": {
     "duration": 0.350936,
     "end_time": "2020-05-18T08:11:13.600345",
     "exception": false,
     "start_time": "2020-05-18T08:11:13.249409",
     "status": "completed"
    },
    "tags": []
   },
   "outputs": [
    {
     "data": {
      "text/plain": [
       "'geodb_0c0a0ef4-8d0d-4e70-b002-033c7cbb41fd'"
      ]
     },
     "execution_count": 4,
     "metadata": {},
     "output_type": "execute_result"
    }
   ],
   "source": [
    "# This will tell you what account the system currently uses\n",
    "geodb.whoami"
   ]
  },
  {
   "cell_type": "code",
   "execution_count": 5,
   "metadata": {
    "execution": {
     "iopub.execute_input": "2020-05-18T08:11:13.718419Z",
     "iopub.status.busy": "2020-05-18T08:11:13.714460Z",
     "iopub.status.idle": "2020-05-18T08:11:13.838902Z",
     "shell.execute_reply": "2020-05-18T08:11:13.838250Z"
    },
    "papermill": {
     "duration": 0.185345,
     "end_time": "2020-05-18T08:11:13.839016",
     "exception": false,
     "start_time": "2020-05-18T08:11:13.653671",
     "status": "completed"
    },
    "tags": []
   },
   "outputs": [
    {
     "data": {
      "text/html": [
       "<div>\n",
       "<style scoped>\n",
       "    .dataframe tbody tr th:only-of-type {\n",
       "        vertical-align: middle;\n",
       "    }\n",
       "\n",
       "    .dataframe tbody tr th {\n",
       "        vertical-align: top;\n",
       "    }\n",
       "\n",
       "    .dataframe thead th {\n",
       "        text-align: right;\n",
       "    }\n",
       "</style>\n",
       "<table border=\"1\" class=\"dataframe\">\n",
       "  <thead>\n",
       "    <tr style=\"text-align: right;\">\n",
       "      <th></th>\n",
       "      <th>table_name</th>\n",
       "    </tr>\n",
       "  </thead>\n",
       "  <tbody>\n",
       "    <tr>\n",
       "      <th>0</th>\n",
       "      <td>land_use</td>\n",
       "    </tr>\n",
       "  </tbody>\n",
       "</table>\n",
       "</div>"
      ],
      "text/plain": [
       "  table_name\n",
       "0   land_use"
      ]
     },
     "execution_count": 5,
     "metadata": {},
     "output_type": "execute_result"
    }
   ],
   "source": [
    "# Lets get already existing collections\n",
    "ds = geodb.get_collections()\n",
    "ds"
   ]
  },
  {
   "cell_type": "markdown",
   "metadata": {
    "papermill": {
     "duration": 0.060024,
     "end_time": "2020-05-18T08:11:13.951093",
     "exception": false,
     "start_time": "2020-05-18T08:11:13.891069",
     "status": "completed"
    },
    "tags": []
   },
   "source": [
    "### Creating collections\n",
    "\n",
    "Once the connection has been established you will be able to create a collection. The collection will contain standard properties (fields) plus custom properties\n",
    "which you can add at your disgretion. Please use [PostGreSQL type definitions](https://www.postgresql.org/docs/11/datatype.html). We recommend stying simple with\n",
    "your data types as we have not tested every single type."
   ]
  },
  {
   "cell_type": "code",
   "execution_count": 6,
   "metadata": {
    "execution": {
     "iopub.execute_input": "2020-05-18T08:11:14.077453Z",
     "iopub.status.busy": "2020-05-18T08:11:14.074266Z",
     "iopub.status.idle": "2020-05-18T08:11:14.388155Z",
     "shell.execute_reply": "2020-05-18T08:11:14.388616Z"
    },
    "papermill": {
     "duration": 0.385223,
     "end_time": "2020-05-18T08:11:14.388764",
     "exception": false,
     "start_time": "2020-05-18T08:11:14.003541",
     "status": "completed"
    },
    "tags": []
   },
   "outputs": [
    {
     "data": {
      "text/plain": [
       "{'collections': {'geodb_0c0a0ef4-8d0d-4e70-b002-033c7cbb41fd_land_use': {'crs': 3794,\n",
       "                                                                         'properties': {'D_OD': 'date',\n",
       "                                                                                        'RABA_ID': 'float',\n",
       "                                                                                        'RABA_PID': 'float'}}}}"
      ]
     },
     "execution_count": 6,
     "metadata": {},
     "output_type": "execute_result"
    }
   ],
   "source": [
    "# geodb.drop_collection('land_use')\n",
    "\n",
    "# Have a look at fiona feature schema\n",
    "collections = {\n",
    "        \"land_use\": \n",
    "        {\n",
    "            \"crs\": 3794,\n",
    "            \"properties\": \n",
    "            {\n",
    "                \"RABA_PID\": \"float\", \n",
    "                \"RABA_ID\": \"float\", \n",
    "                \"D_OD\": \"date\"\n",
    "            }\n",
    "        }\n",
    "    }\n",
    "\n",
    "\n",
    "geodb.create_collections(collections)"
   ]
  },
  {
   "cell_type": "code",
   "execution_count": 7,
   "metadata": {
    "execution": {
     "iopub.execute_input": "2020-05-18T08:11:14.506459Z",
     "iopub.status.busy": "2020-05-18T08:11:14.504399Z",
     "iopub.status.idle": "2020-05-18T08:11:14.620789Z",
     "shell.execute_reply": "2020-05-18T08:11:14.620259Z"
    },
    "papermill": {
     "duration": 0.167515,
     "end_time": "2020-05-18T08:11:14.620891",
     "exception": false,
     "start_time": "2020-05-18T08:11:14.453376",
     "status": "completed"
    },
    "tags": []
   },
   "outputs": [
    {
     "data": {
      "text/html": [
       "<div>\n",
       "<style scoped>\n",
       "    .dataframe tbody tr th:only-of-type {\n",
       "        vertical-align: middle;\n",
       "    }\n",
       "\n",
       "    .dataframe tbody tr th {\n",
       "        vertical-align: top;\n",
       "    }\n",
       "\n",
       "    .dataframe thead th {\n",
       "        text-align: right;\n",
       "    }\n",
       "</style>\n",
       "<table border=\"1\" class=\"dataframe\">\n",
       "  <thead>\n",
       "    <tr style=\"text-align: right;\">\n",
       "      <th></th>\n",
       "      <th>table_name</th>\n",
       "    </tr>\n",
       "  </thead>\n",
       "  <tbody>\n",
       "    <tr>\n",
       "      <th>0</th>\n",
       "      <td>land_use</td>\n",
       "    </tr>\n",
       "    <tr>\n",
       "      <th>1</th>\n",
       "      <td>geodb_0c0a0ef4-8d0d-</td>\n",
       "    </tr>\n",
       "  </tbody>\n",
       "</table>\n",
       "</div>"
      ],
      "text/plain": [
       "             table_name\n",
       "0              land_use\n",
       "1  geodb_0c0a0ef4-8d0d-"
      ]
     },
     "execution_count": 7,
     "metadata": {},
     "output_type": "execute_result"
    }
   ],
   "source": [
    "ds = geodb.get_collections()\n",
    "ds"
   ]
  },
  {
   "cell_type": "markdown",
   "metadata": {
    "papermill": {
     "duration": 0.051288,
     "end_time": "2020-05-18T08:11:14.722277",
     "exception": false,
     "start_time": "2020-05-18T08:11:14.670989",
     "status": "completed"
    },
    "tags": []
   },
   "source": [
    "### Loading data into a dataset\n",
    "\n",
    "Once the table has been created, you can load data into the dataset. The example below loads a shapefile. The attributes of the shapefile correspond to the dataset's properties.\n"
   ]
  },
  {
   "cell_type": "code",
   "execution_count": 8,
   "metadata": {
    "execution": {
     "iopub.execute_input": "2020-05-18T08:11:14.973613Z",
     "iopub.status.busy": "2020-05-18T08:11:14.860232Z",
     "iopub.status.idle": "2020-05-18T08:11:15.454546Z",
     "shell.execute_reply": "2020-05-18T08:11:15.453835Z"
    },
    "papermill": {
     "duration": 0.680473,
     "end_time": "2020-05-18T08:11:15.454662",
     "exception": false,
     "start_time": "2020-05-18T08:11:14.774189",
     "status": "completed"
    },
    "tags": []
   },
   "outputs": [
    {
     "data": {
      "text/html": [
       "<div>\n",
       "<style scoped>\n",
       "    .dataframe tbody tr th:only-of-type {\n",
       "        vertical-align: middle;\n",
       "    }\n",
       "\n",
       "    .dataframe tbody tr th {\n",
       "        vertical-align: top;\n",
       "    }\n",
       "\n",
       "    .dataframe thead th {\n",
       "        text-align: right;\n",
       "    }\n",
       "</style>\n",
       "<table border=\"1\" class=\"dataframe\">\n",
       "  <thead>\n",
       "    <tr style=\"text-align: right;\">\n",
       "      <th></th>\n",
       "      <th>RABA_PID</th>\n",
       "      <th>RABA_ID</th>\n",
       "      <th>D_OD</th>\n",
       "      <th>geometry</th>\n",
       "    </tr>\n",
       "  </thead>\n",
       "  <tbody>\n",
       "    <tr>\n",
       "      <th>0</th>\n",
       "      <td>4770326.0</td>\n",
       "      <td>1410</td>\n",
       "      <td>2019-03-26</td>\n",
       "      <td>POLYGON ((453952.629 91124.177, 453952.696 911...</td>\n",
       "    </tr>\n",
       "    <tr>\n",
       "      <th>1</th>\n",
       "      <td>4770325.0</td>\n",
       "      <td>1300</td>\n",
       "      <td>2019-03-26</td>\n",
       "      <td>POLYGON ((453810.376 91150.199, 453812.552 911...</td>\n",
       "    </tr>\n",
       "    <tr>\n",
       "      <th>2</th>\n",
       "      <td>2305689.0</td>\n",
       "      <td>7000</td>\n",
       "      <td>2019-02-25</td>\n",
       "      <td>POLYGON ((456099.635 97696.070, 456112.810 976...</td>\n",
       "    </tr>\n",
       "    <tr>\n",
       "      <th>3</th>\n",
       "      <td>2305596.0</td>\n",
       "      <td>1100</td>\n",
       "      <td>2019-02-25</td>\n",
       "      <td>POLYGON ((455929.405 97963.785, 455933.284 979...</td>\n",
       "    </tr>\n",
       "    <tr>\n",
       "      <th>4</th>\n",
       "      <td>2310160.0</td>\n",
       "      <td>1100</td>\n",
       "      <td>2019-03-11</td>\n",
       "      <td>POLYGON ((461561.512 96119.256, 461632.114 960...</td>\n",
       "    </tr>\n",
       "    <tr>\n",
       "      <th>...</th>\n",
       "      <td>...</td>\n",
       "      <td>...</td>\n",
       "      <td>...</td>\n",
       "      <td>...</td>\n",
       "    </tr>\n",
       "    <tr>\n",
       "      <th>9822</th>\n",
       "      <td>6253989.0</td>\n",
       "      <td>1600</td>\n",
       "      <td>2019-03-08</td>\n",
       "      <td>POLYGON ((460637.334 96865.891, 460647.927 969...</td>\n",
       "    </tr>\n",
       "    <tr>\n",
       "      <th>9823</th>\n",
       "      <td>6252044.0</td>\n",
       "      <td>1600</td>\n",
       "      <td>2019-03-26</td>\n",
       "      <td>POLYGON ((459467.868 96839.686, 459467.770 968...</td>\n",
       "    </tr>\n",
       "    <tr>\n",
       "      <th>9824</th>\n",
       "      <td>6245985.0</td>\n",
       "      <td>2000</td>\n",
       "      <td>2019-04-08</td>\n",
       "      <td>POLYGON ((459488.998 94066.248, 459498.145 940...</td>\n",
       "    </tr>\n",
       "    <tr>\n",
       "      <th>9825</th>\n",
       "      <td>6245986.0</td>\n",
       "      <td>2000</td>\n",
       "      <td>2019-02-20</td>\n",
       "      <td>POLYGON ((459676.680 94000.000, 459672.469 939...</td>\n",
       "    </tr>\n",
       "    <tr>\n",
       "      <th>9826</th>\n",
       "      <td>6245987.0</td>\n",
       "      <td>2000</td>\n",
       "      <td>2019-03-11</td>\n",
       "      <td>POLYGON ((459690.580 94042.607, 459686.872 940...</td>\n",
       "    </tr>\n",
       "  </tbody>\n",
       "</table>\n",
       "<p>9827 rows × 4 columns</p>\n",
       "</div>"
      ],
      "text/plain": [
       "       RABA_PID  RABA_ID        D_OD  \\\n",
       "0     4770326.0     1410  2019-03-26   \n",
       "1     4770325.0     1300  2019-03-26   \n",
       "2     2305689.0     7000  2019-02-25   \n",
       "3     2305596.0     1100  2019-02-25   \n",
       "4     2310160.0     1100  2019-03-11   \n",
       "...         ...      ...         ...   \n",
       "9822  6253989.0     1600  2019-03-08   \n",
       "9823  6252044.0     1600  2019-03-26   \n",
       "9824  6245985.0     2000  2019-04-08   \n",
       "9825  6245986.0     2000  2019-02-20   \n",
       "9826  6245987.0     2000  2019-03-11   \n",
       "\n",
       "                                               geometry  \n",
       "0     POLYGON ((453952.629 91124.177, 453952.696 911...  \n",
       "1     POLYGON ((453810.376 91150.199, 453812.552 911...  \n",
       "2     POLYGON ((456099.635 97696.070, 456112.810 976...  \n",
       "3     POLYGON ((455929.405 97963.785, 455933.284 979...  \n",
       "4     POLYGON ((461561.512 96119.256, 461632.114 960...  \n",
       "...                                                 ...  \n",
       "9822  POLYGON ((460637.334 96865.891, 460647.927 969...  \n",
       "9823  POLYGON ((459467.868 96839.686, 459467.770 968...  \n",
       "9824  POLYGON ((459488.998 94066.248, 459498.145 940...  \n",
       "9825  POLYGON ((459676.680 94000.000, 459672.469 939...  \n",
       "9826  POLYGON ((459690.580 94042.607, 459686.872 940...  \n",
       "\n",
       "[9827 rows x 4 columns]"
      ]
     },
     "execution_count": 8,
     "metadata": {},
     "output_type": "execute_result"
    }
   ],
   "source": [
    "import geopandas\n",
    "gdf = geopandas.read_file(os.path.expanduser(\"~/.shared/notebooks/getting-started/data/sample/land_use.shp\"))\n",
    "gdf"
   ]
  },
  {
   "cell_type": "code",
   "execution_count": 9,
   "metadata": {
    "execution": {
     "iopub.execute_input": "2020-05-18T08:11:15.569324Z",
     "iopub.status.busy": "2020-05-18T08:11:15.568403Z",
     "iopub.status.idle": "2020-05-18T08:11:18.906107Z",
     "shell.execute_reply": "2020-05-18T08:11:18.906628Z"
    },
    "papermill": {
     "duration": 3.396572,
     "end_time": "2020-05-18T08:11:18.906807",
     "exception": false,
     "start_time": "2020-05-18T08:11:15.510235",
     "status": "completed"
    },
    "tags": []
   },
   "outputs": [
    {
     "data": {
      "text/plain": [
       "Data inserted into land_use"
      ]
     },
     "execution_count": 9,
     "metadata": {},
     "output_type": "execute_result"
    }
   ],
   "source": [
    "geodb.insert_into_collection('land_use', gdf)"
   ]
  },
  {
   "cell_type": "code",
   "execution_count": 10,
   "metadata": {
    "execution": {
     "iopub.execute_input": "2020-05-18T08:11:19.077390Z",
     "iopub.status.busy": "2020-05-18T08:11:19.074397Z",
     "iopub.status.idle": "2020-05-18T08:11:19.587124Z",
     "shell.execute_reply": "2020-05-18T08:11:19.587610Z"
    },
    "papermill": {
     "duration": 0.594546,
     "end_time": "2020-05-18T08:11:19.587782",
     "exception": false,
     "start_time": "2020-05-18T08:11:18.993236",
     "status": "completed"
    },
    "tags": []
   },
   "outputs": [
    {
     "data": {
      "text/html": [
       "<div>\n",
       "<style scoped>\n",
       "    .dataframe tbody tr th:only-of-type {\n",
       "        vertical-align: middle;\n",
       "    }\n",
       "\n",
       "    .dataframe tbody tr th {\n",
       "        vertical-align: top;\n",
       "    }\n",
       "\n",
       "    .dataframe thead th {\n",
       "        text-align: right;\n",
       "    }\n",
       "</style>\n",
       "<table border=\"1\" class=\"dataframe\">\n",
       "  <thead>\n",
       "    <tr style=\"text-align: right;\">\n",
       "      <th></th>\n",
       "      <th>id</th>\n",
       "      <th>created_at</th>\n",
       "      <th>modified_at</th>\n",
       "      <th>geometry</th>\n",
       "      <th>raba_pid</th>\n",
       "      <th>raba_id</th>\n",
       "      <th>d_od</th>\n",
       "    </tr>\n",
       "  </thead>\n",
       "  <tbody>\n",
       "    <tr>\n",
       "      <th>0</th>\n",
       "      <td>19657</td>\n",
       "      <td>2020-05-18T08:11:17.715062+00:00</td>\n",
       "      <td>None</td>\n",
       "      <td>POLYGON ((456099.635 97696.070, 456112.810 976...</td>\n",
       "      <td>2305689</td>\n",
       "      <td>7000</td>\n",
       "      <td>2019-02-25</td>\n",
       "    </tr>\n",
       "    <tr>\n",
       "      <th>1</th>\n",
       "      <td>22176</td>\n",
       "      <td>2020-05-18T08:11:17.715062+00:00</td>\n",
       "      <td>None</td>\n",
       "      <td>POLYGON ((458591.057 95186.079, 458602.066 951...</td>\n",
       "      <td>3600556</td>\n",
       "      <td>7000</td>\n",
       "      <td>2019-01-05</td>\n",
       "    </tr>\n",
       "    <tr>\n",
       "      <th>2</th>\n",
       "      <td>19680</td>\n",
       "      <td>2020-05-18T08:11:17.715062+00:00</td>\n",
       "      <td>None</td>\n",
       "      <td>POLYGON ((459898.930 100306.841, 459906.288 10...</td>\n",
       "      <td>2301992</td>\n",
       "      <td>7000</td>\n",
       "      <td>2019-04-06</td>\n",
       "    </tr>\n",
       "    <tr>\n",
       "      <th>3</th>\n",
       "      <td>27199</td>\n",
       "      <td>2020-05-18T08:11:17.715062+00:00</td>\n",
       "      <td>None</td>\n",
       "      <td>POLYGON ((462269.994 97038.778, 462266.715 970...</td>\n",
       "      <td>4674866</td>\n",
       "      <td>7000</td>\n",
       "      <td>2019-03-20</td>\n",
       "    </tr>\n",
       "    <tr>\n",
       "      <th>4</th>\n",
       "      <td>19749</td>\n",
       "      <td>2020-05-18T08:11:17.715062+00:00</td>\n",
       "      <td>None</td>\n",
       "      <td>POLYGON ((459591.248 92619.056, 459592.745 926...</td>\n",
       "      <td>2333229</td>\n",
       "      <td>7000</td>\n",
       "      <td>2019-02-20</td>\n",
       "    </tr>\n",
       "    <tr>\n",
       "      <th>...</th>\n",
       "      <td>...</td>\n",
       "      <td>...</td>\n",
       "      <td>...</td>\n",
       "      <td>...</td>\n",
       "      <td>...</td>\n",
       "      <td>...</td>\n",
       "      <td>...</td>\n",
       "    </tr>\n",
       "    <tr>\n",
       "      <th>379</th>\n",
       "      <td>29073</td>\n",
       "      <td>2020-05-18T08:11:17.715062+00:00</td>\n",
       "      <td>None</td>\n",
       "      <td>POLYGON ((456523.670 94000.000, 456550.368 939...</td>\n",
       "      <td>6187993</td>\n",
       "      <td>7000</td>\n",
       "      <td>2019-03-13</td>\n",
       "    </tr>\n",
       "    <tr>\n",
       "      <th>380</th>\n",
       "      <td>29200</td>\n",
       "      <td>2020-05-18T08:11:17.715062+00:00</td>\n",
       "      <td>None</td>\n",
       "      <td>POLYGON ((460793.279 94000.000, 460797.466 939...</td>\n",
       "      <td>6219403</td>\n",
       "      <td>7000</td>\n",
       "      <td>2019-02-21</td>\n",
       "    </tr>\n",
       "    <tr>\n",
       "      <th>381</th>\n",
       "      <td>29214</td>\n",
       "      <td>2020-05-18T08:11:17.715062+00:00</td>\n",
       "      <td>None</td>\n",
       "      <td>POLYGON ((461750.000 98434.292, 461750.000 984...</td>\n",
       "      <td>6219602</td>\n",
       "      <td>7000</td>\n",
       "      <td>2019-03-20</td>\n",
       "    </tr>\n",
       "    <tr>\n",
       "      <th>382</th>\n",
       "      <td>29278</td>\n",
       "      <td>2020-05-18T08:11:17.715062+00:00</td>\n",
       "      <td>None</td>\n",
       "      <td>POLYGON ((463628.912 97501.218, 463636.859 975...</td>\n",
       "      <td>6215237</td>\n",
       "      <td>7000</td>\n",
       "      <td>2019-03-20</td>\n",
       "    </tr>\n",
       "    <tr>\n",
       "      <th>383</th>\n",
       "      <td>29298</td>\n",
       "      <td>2020-05-18T08:11:17.715062+00:00</td>\n",
       "      <td>None</td>\n",
       "      <td>POLYGON ((462450.205 94000.000, 462457.333 940...</td>\n",
       "      <td>6213419</td>\n",
       "      <td>7000</td>\n",
       "      <td>2019-03-21</td>\n",
       "    </tr>\n",
       "  </tbody>\n",
       "</table>\n",
       "<p>384 rows × 7 columns</p>\n",
       "</div>"
      ],
      "text/plain": [
       "        id                        created_at modified_at  \\\n",
       "0    19657  2020-05-18T08:11:17.715062+00:00        None   \n",
       "1    22176  2020-05-18T08:11:17.715062+00:00        None   \n",
       "2    19680  2020-05-18T08:11:17.715062+00:00        None   \n",
       "3    27199  2020-05-18T08:11:17.715062+00:00        None   \n",
       "4    19749  2020-05-18T08:11:17.715062+00:00        None   \n",
       "..     ...                               ...         ...   \n",
       "379  29073  2020-05-18T08:11:17.715062+00:00        None   \n",
       "380  29200  2020-05-18T08:11:17.715062+00:00        None   \n",
       "381  29214  2020-05-18T08:11:17.715062+00:00        None   \n",
       "382  29278  2020-05-18T08:11:17.715062+00:00        None   \n",
       "383  29298  2020-05-18T08:11:17.715062+00:00        None   \n",
       "\n",
       "                                              geometry  raba_pid  raba_id  \\\n",
       "0    POLYGON ((456099.635 97696.070, 456112.810 976...   2305689     7000   \n",
       "1    POLYGON ((458591.057 95186.079, 458602.066 951...   3600556     7000   \n",
       "2    POLYGON ((459898.930 100306.841, 459906.288 10...   2301992     7000   \n",
       "3    POLYGON ((462269.994 97038.778, 462266.715 970...   4674866     7000   \n",
       "4    POLYGON ((459591.248 92619.056, 459592.745 926...   2333229     7000   \n",
       "..                                                 ...       ...      ...   \n",
       "379  POLYGON ((456523.670 94000.000, 456550.368 939...   6187993     7000   \n",
       "380  POLYGON ((460793.279 94000.000, 460797.466 939...   6219403     7000   \n",
       "381  POLYGON ((461750.000 98434.292, 461750.000 984...   6219602     7000   \n",
       "382  POLYGON ((463628.912 97501.218, 463636.859 975...   6215237     7000   \n",
       "383  POLYGON ((462450.205 94000.000, 462457.333 940...   6213419     7000   \n",
       "\n",
       "           d_od  \n",
       "0    2019-02-25  \n",
       "1    2019-01-05  \n",
       "2    2019-04-06  \n",
       "3    2019-03-20  \n",
       "4    2019-02-20  \n",
       "..          ...  \n",
       "379  2019-03-13  \n",
       "380  2019-02-21  \n",
       "381  2019-03-20  \n",
       "382  2019-03-20  \n",
       "383  2019-03-21  \n",
       "\n",
       "[384 rows x 7 columns]"
      ]
     },
     "execution_count": 10,
     "metadata": {},
     "output_type": "execute_result"
    }
   ],
   "source": [
    "geodb.get_collection('land_use', query=\"raba_id=eq.7000\")"
   ]
  },
  {
   "cell_type": "markdown",
   "metadata": {
    "papermill": {
     "duration": 0.052453,
     "end_time": "2020-05-18T08:11:19.697275",
     "exception": false,
     "start_time": "2020-05-18T08:11:19.644822",
     "status": "completed"
    },
    "tags": []
   },
   "source": [
    "### Delete from a Collection"
   ]
  },
  {
   "cell_type": "code",
   "execution_count": 11,
   "metadata": {
    "execution": {
     "iopub.execute_input": "2020-05-18T08:11:19.883988Z",
     "iopub.status.busy": "2020-05-18T08:11:19.880892Z",
     "iopub.status.idle": "2020-05-18T08:11:20.271113Z",
     "shell.execute_reply": "2020-05-18T08:11:20.270615Z"
    },
    "papermill": {
     "duration": 0.46305,
     "end_time": "2020-05-18T08:11:20.271235",
     "exception": false,
     "start_time": "2020-05-18T08:11:19.808185",
     "status": "completed"
    },
    "tags": []
   },
   "outputs": [
    {
     "data": {
      "text/plain": [
       "Data from land_use deleted"
      ]
     },
     "execution_count": 11,
     "metadata": {},
     "output_type": "execute_result"
    }
   ],
   "source": [
    "geodb.delete_from_collection('land_use', query=\"raba_id=eq.7000\")"
   ]
  },
  {
   "cell_type": "code",
   "execution_count": 12,
   "metadata": {
    "execution": {
     "iopub.execute_input": "2020-05-18T08:11:20.409927Z",
     "iopub.status.busy": "2020-05-18T08:11:20.404761Z",
     "iopub.status.idle": "2020-05-18T08:11:20.752876Z",
     "shell.execute_reply": "2020-05-18T08:11:20.752386Z"
    },
    "papermill": {
     "duration": 0.411128,
     "end_time": "2020-05-18T08:11:20.752978",
     "exception": false,
     "start_time": "2020-05-18T08:11:20.341850",
     "status": "completed"
    },
    "tags": []
   },
   "outputs": [
    {
     "data": {
      "text/html": [
       "<div>\n",
       "<style scoped>\n",
       "    .dataframe tbody tr th:only-of-type {\n",
       "        vertical-align: middle;\n",
       "    }\n",
       "\n",
       "    .dataframe tbody tr th {\n",
       "        vertical-align: top;\n",
       "    }\n",
       "\n",
       "    .dataframe thead th {\n",
       "        text-align: right;\n",
       "    }\n",
       "</style>\n",
       "<table border=\"1\" class=\"dataframe\">\n",
       "  <thead>\n",
       "    <tr style=\"text-align: right;\">\n",
       "      <th></th>\n",
       "      <th>Empty Result</th>\n",
       "    </tr>\n",
       "  </thead>\n",
       "  <tbody>\n",
       "  </tbody>\n",
       "</table>\n",
       "</div>"
      ],
      "text/plain": [
       "Empty DataFrame\n",
       "Columns: [Empty Result]\n",
       "Index: []"
      ]
     },
     "execution_count": 12,
     "metadata": {},
     "output_type": "execute_result"
    }
   ],
   "source": [
    "geodb.get_collection('land_use', query=\"raba_id=eq.7000\")"
   ]
  },
  {
   "cell_type": "markdown",
   "metadata": {
    "papermill": {
     "duration": 0.056556,
     "end_time": "2020-05-18T08:11:20.865794",
     "exception": false,
     "start_time": "2020-05-18T08:11:20.809238",
     "status": "completed"
    },
    "tags": []
   },
   "source": [
    "### Updating a Collection"
   ]
  },
  {
   "cell_type": "code",
   "execution_count": 13,
   "metadata": {
    "execution": {
     "iopub.execute_input": "2020-05-18T08:11:21.006957Z",
     "iopub.status.busy": "2020-05-18T08:11:21.006139Z",
     "iopub.status.idle": "2020-05-18T08:11:21.912089Z",
     "shell.execute_reply": "2020-05-18T08:11:21.914658Z"
    },
    "papermill": {
     "duration": 0.986903,
     "end_time": "2020-05-18T08:11:21.914928",
     "exception": false,
     "start_time": "2020-05-18T08:11:20.928025",
     "status": "completed"
    },
    "tags": []
   },
   "outputs": [
    {
     "data": {
      "text/html": [
       "<div>\n",
       "<style scoped>\n",
       "    .dataframe tbody tr th:only-of-type {\n",
       "        vertical-align: middle;\n",
       "    }\n",
       "\n",
       "    .dataframe tbody tr th {\n",
       "        vertical-align: top;\n",
       "    }\n",
       "\n",
       "    .dataframe thead th {\n",
       "        text-align: right;\n",
       "    }\n",
       "</style>\n",
       "<table border=\"1\" class=\"dataframe\">\n",
       "  <thead>\n",
       "    <tr style=\"text-align: right;\">\n",
       "      <th></th>\n",
       "      <th>id</th>\n",
       "      <th>created_at</th>\n",
       "      <th>modified_at</th>\n",
       "      <th>geometry</th>\n",
       "      <th>raba_pid</th>\n",
       "      <th>raba_id</th>\n",
       "      <th>d_od</th>\n",
       "    </tr>\n",
       "  </thead>\n",
       "  <tbody>\n",
       "    <tr>\n",
       "      <th>0</th>\n",
       "      <td>19656</td>\n",
       "      <td>2020-05-18T08:11:17.715062+00:00</td>\n",
       "      <td>None</td>\n",
       "      <td>POLYGON ((453810.376 91150.199, 453812.552 911...</td>\n",
       "      <td>4770325</td>\n",
       "      <td>1300</td>\n",
       "      <td>2019-03-26</td>\n",
       "    </tr>\n",
       "    <tr>\n",
       "      <th>1</th>\n",
       "      <td>9919</td>\n",
       "      <td>2020-05-18T07:57:40.617849+00:00</td>\n",
       "      <td>2020-05-18T07:57:43.934943+00:00</td>\n",
       "      <td>POLYGON ((461723.552 99635.913, 461729.649 996...</td>\n",
       "      <td>2332405</td>\n",
       "      <td>1300</td>\n",
       "      <td>2000-01-01</td>\n",
       "    </tr>\n",
       "    <tr>\n",
       "      <th>2</th>\n",
       "      <td>9930</td>\n",
       "      <td>2020-05-18T07:57:40.617849+00:00</td>\n",
       "      <td>2020-05-18T07:57:43.934943+00:00</td>\n",
       "      <td>POLYGON ((456100.880 96973.323, 456111.084 969...</td>\n",
       "      <td>2332420</td>\n",
       "      <td>1300</td>\n",
       "      <td>2000-01-01</td>\n",
       "    </tr>\n",
       "    <tr>\n",
       "      <th>3</th>\n",
       "      <td>22648</td>\n",
       "      <td>2020-05-18T08:11:17.715062+00:00</td>\n",
       "      <td>None</td>\n",
       "      <td>POLYGON ((458519.781 93017.846, 458530.784 930...</td>\n",
       "      <td>4643283</td>\n",
       "      <td>1300</td>\n",
       "      <td>2019-01-11</td>\n",
       "    </tr>\n",
       "    <tr>\n",
       "      <th>4</th>\n",
       "      <td>19664</td>\n",
       "      <td>2020-05-18T08:11:17.715062+00:00</td>\n",
       "      <td>None</td>\n",
       "      <td>POLYGON ((456547.427 91543.640, 456544.255 915...</td>\n",
       "      <td>2318555</td>\n",
       "      <td>1300</td>\n",
       "      <td>2019-03-14</td>\n",
       "    </tr>\n",
       "    <tr>\n",
       "      <th>...</th>\n",
       "      <td>...</td>\n",
       "      <td>...</td>\n",
       "      <td>...</td>\n",
       "      <td>...</td>\n",
       "      <td>...</td>\n",
       "      <td>...</td>\n",
       "      <td>...</td>\n",
       "    </tr>\n",
       "    <tr>\n",
       "      <th>2680</th>\n",
       "      <td>29420</td>\n",
       "      <td>2020-05-18T08:11:17.715062+00:00</td>\n",
       "      <td>None</td>\n",
       "      <td>POLYGON ((458247.583 99746.065, 458245.202 997...</td>\n",
       "      <td>6268059</td>\n",
       "      <td>1300</td>\n",
       "      <td>2019-03-04</td>\n",
       "    </tr>\n",
       "    <tr>\n",
       "      <th>2681</th>\n",
       "      <td>29421</td>\n",
       "      <td>2020-05-18T08:11:17.715062+00:00</td>\n",
       "      <td>None</td>\n",
       "      <td>POLYGON ((461932.283 90520.703, 461931.619 905...</td>\n",
       "      <td>6263561</td>\n",
       "      <td>1300</td>\n",
       "      <td>2019-04-01</td>\n",
       "    </tr>\n",
       "    <tr>\n",
       "      <th>2682</th>\n",
       "      <td>29452</td>\n",
       "      <td>2020-05-18T08:11:17.715062+00:00</td>\n",
       "      <td>None</td>\n",
       "      <td>POLYGON ((457231.170 90902.256, 457234.861 909...</td>\n",
       "      <td>6264862</td>\n",
       "      <td>1300</td>\n",
       "      <td>2019-01-05</td>\n",
       "    </tr>\n",
       "    <tr>\n",
       "      <th>2683</th>\n",
       "      <td>29453</td>\n",
       "      <td>2020-05-18T08:11:17.715062+00:00</td>\n",
       "      <td>None</td>\n",
       "      <td>POLYGON ((461378.845 91124.318, 461490.224 911...</td>\n",
       "      <td>6264865</td>\n",
       "      <td>1300</td>\n",
       "      <td>2019-02-21</td>\n",
       "    </tr>\n",
       "    <tr>\n",
       "      <th>2684</th>\n",
       "      <td>29475</td>\n",
       "      <td>2020-05-18T08:11:17.715062+00:00</td>\n",
       "      <td>None</td>\n",
       "      <td>POLYGON ((457450.306 97213.244, 457490.521 972...</td>\n",
       "      <td>6263915</td>\n",
       "      <td>1300</td>\n",
       "      <td>2019-01-05</td>\n",
       "    </tr>\n",
       "  </tbody>\n",
       "</table>\n",
       "<p>2685 rows × 7 columns</p>\n",
       "</div>"
      ],
      "text/plain": [
       "         id                        created_at  \\\n",
       "0     19656  2020-05-18T08:11:17.715062+00:00   \n",
       "1      9919  2020-05-18T07:57:40.617849+00:00   \n",
       "2      9930  2020-05-18T07:57:40.617849+00:00   \n",
       "3     22648  2020-05-18T08:11:17.715062+00:00   \n",
       "4     19664  2020-05-18T08:11:17.715062+00:00   \n",
       "...     ...                               ...   \n",
       "2680  29420  2020-05-18T08:11:17.715062+00:00   \n",
       "2681  29421  2020-05-18T08:11:17.715062+00:00   \n",
       "2682  29452  2020-05-18T08:11:17.715062+00:00   \n",
       "2683  29453  2020-05-18T08:11:17.715062+00:00   \n",
       "2684  29475  2020-05-18T08:11:17.715062+00:00   \n",
       "\n",
       "                           modified_at  \\\n",
       "0                                 None   \n",
       "1     2020-05-18T07:57:43.934943+00:00   \n",
       "2     2020-05-18T07:57:43.934943+00:00   \n",
       "3                                 None   \n",
       "4                                 None   \n",
       "...                                ...   \n",
       "2680                              None   \n",
       "2681                              None   \n",
       "2682                              None   \n",
       "2683                              None   \n",
       "2684                              None   \n",
       "\n",
       "                                               geometry  raba_pid  raba_id  \\\n",
       "0     POLYGON ((453810.376 91150.199, 453812.552 911...   4770325     1300   \n",
       "1     POLYGON ((461723.552 99635.913, 461729.649 996...   2332405     1300   \n",
       "2     POLYGON ((456100.880 96973.323, 456111.084 969...   2332420     1300   \n",
       "3     POLYGON ((458519.781 93017.846, 458530.784 930...   4643283     1300   \n",
       "4     POLYGON ((456547.427 91543.640, 456544.255 915...   2318555     1300   \n",
       "...                                                 ...       ...      ...   \n",
       "2680  POLYGON ((458247.583 99746.065, 458245.202 997...   6268059     1300   \n",
       "2681  POLYGON ((461932.283 90520.703, 461931.619 905...   6263561     1300   \n",
       "2682  POLYGON ((457231.170 90902.256, 457234.861 909...   6264862     1300   \n",
       "2683  POLYGON ((461378.845 91124.318, 461490.224 911...   6264865     1300   \n",
       "2684  POLYGON ((457450.306 97213.244, 457490.521 972...   6263915     1300   \n",
       "\n",
       "            d_od  \n",
       "0     2019-03-26  \n",
       "1     2000-01-01  \n",
       "2     2000-01-01  \n",
       "3     2019-01-11  \n",
       "4     2019-03-14  \n",
       "...          ...  \n",
       "2680  2019-03-04  \n",
       "2681  2019-04-01  \n",
       "2682  2019-01-05  \n",
       "2683  2019-02-21  \n",
       "2684  2019-01-05  \n",
       "\n",
       "[2685 rows x 7 columns]"
      ]
     },
     "execution_count": 13,
     "metadata": {},
     "output_type": "execute_result"
    }
   ],
   "source": [
    "geodb.get_collection('land_use', query=\"raba_id=eq.1300\")"
   ]
  },
  {
   "cell_type": "code",
   "execution_count": 14,
   "metadata": {
    "execution": {
     "iopub.execute_input": "2020-05-18T08:11:22.067836Z",
     "iopub.status.busy": "2020-05-18T08:11:22.067194Z",
     "iopub.status.idle": "2020-05-18T08:11:23.077002Z",
     "shell.execute_reply": "2020-05-18T08:11:23.077768Z"
    },
    "papermill": {
     "duration": 1.078678,
     "end_time": "2020-05-18T08:11:23.077958",
     "exception": false,
     "start_time": "2020-05-18T08:11:21.999280",
     "status": "completed"
    },
    "tags": []
   },
   "outputs": [
    {
     "data": {
      "text/plain": [
       "land_use updated"
      ]
     },
     "execution_count": 14,
     "metadata": {},
     "output_type": "execute_result"
    }
   ],
   "source": [
    "geodb.update_collection('land_use', query=\"raba_id=eq.1300\", values={'d_od': '2000-01-01'})"
   ]
  },
  {
   "cell_type": "code",
   "execution_count": 15,
   "metadata": {
    "execution": {
     "iopub.execute_input": "2020-05-18T08:11:23.209791Z",
     "iopub.status.busy": "2020-05-18T08:11:23.204223Z",
     "iopub.status.idle": "2020-05-18T08:11:24.098495Z",
     "shell.execute_reply": "2020-05-18T08:11:24.098950Z"
    },
    "papermill": {
     "duration": 0.962714,
     "end_time": "2020-05-18T08:11:24.099084",
     "exception": false,
     "start_time": "2020-05-18T08:11:23.136370",
     "status": "completed"
    },
    "tags": []
   },
   "outputs": [
    {
     "data": {
      "text/html": [
       "<div>\n",
       "<style scoped>\n",
       "    .dataframe tbody tr th:only-of-type {\n",
       "        vertical-align: middle;\n",
       "    }\n",
       "\n",
       "    .dataframe tbody tr th {\n",
       "        vertical-align: top;\n",
       "    }\n",
       "\n",
       "    .dataframe thead th {\n",
       "        text-align: right;\n",
       "    }\n",
       "</style>\n",
       "<table border=\"1\" class=\"dataframe\">\n",
       "  <thead>\n",
       "    <tr style=\"text-align: right;\">\n",
       "      <th></th>\n",
       "      <th>id</th>\n",
       "      <th>created_at</th>\n",
       "      <th>modified_at</th>\n",
       "      <th>geometry</th>\n",
       "      <th>raba_pid</th>\n",
       "      <th>raba_id</th>\n",
       "      <th>d_od</th>\n",
       "    </tr>\n",
       "  </thead>\n",
       "  <tbody>\n",
       "    <tr>\n",
       "      <th>0</th>\n",
       "      <td>9919</td>\n",
       "      <td>2020-05-18T07:57:40.617849+00:00</td>\n",
       "      <td>2020-05-18T08:11:22.848066+00:00</td>\n",
       "      <td>POLYGON ((461723.552 99635.913, 461729.649 996...</td>\n",
       "      <td>2332405</td>\n",
       "      <td>1300</td>\n",
       "      <td>2000-01-01</td>\n",
       "    </tr>\n",
       "    <tr>\n",
       "      <th>1</th>\n",
       "      <td>19771</td>\n",
       "      <td>2020-05-18T08:11:17.715062+00:00</td>\n",
       "      <td>2020-05-18T08:11:22.848066+00:00</td>\n",
       "      <td>POLYGON ((454637.692 96679.827, 454630.584 966...</td>\n",
       "      <td>2336101</td>\n",
       "      <td>1300</td>\n",
       "      <td>2000-01-01</td>\n",
       "    </tr>\n",
       "    <tr>\n",
       "      <th>2</th>\n",
       "      <td>22180</td>\n",
       "      <td>2020-05-18T08:11:17.715062+00:00</td>\n",
       "      <td>2020-05-18T08:11:22.848066+00:00</td>\n",
       "      <td>POLYGON ((460531.574 92742.682, 460526.492 927...</td>\n",
       "      <td>5957238</td>\n",
       "      <td>1300</td>\n",
       "      <td>2000-01-01</td>\n",
       "    </tr>\n",
       "    <tr>\n",
       "      <th>3</th>\n",
       "      <td>21698</td>\n",
       "      <td>2020-05-18T08:11:17.715062+00:00</td>\n",
       "      <td>2020-05-18T08:11:22.848066+00:00</td>\n",
       "      <td>POLYGON ((459601.292 99268.197, 459599.578 992...</td>\n",
       "      <td>4657846</td>\n",
       "      <td>1300</td>\n",
       "      <td>2000-01-01</td>\n",
       "    </tr>\n",
       "    <tr>\n",
       "      <th>4</th>\n",
       "      <td>25628</td>\n",
       "      <td>2020-05-18T08:11:17.715062+00:00</td>\n",
       "      <td>2020-05-18T08:11:22.848066+00:00</td>\n",
       "      <td>POLYGON ((459500.000 95703.100, 459470.722 957...</td>\n",
       "      <td>6302937</td>\n",
       "      <td>1300</td>\n",
       "      <td>2000-01-01</td>\n",
       "    </tr>\n",
       "    <tr>\n",
       "      <th>...</th>\n",
       "      <td>...</td>\n",
       "      <td>...</td>\n",
       "      <td>...</td>\n",
       "      <td>...</td>\n",
       "      <td>...</td>\n",
       "      <td>...</td>\n",
       "      <td>...</td>\n",
       "    </tr>\n",
       "    <tr>\n",
       "      <th>2680</th>\n",
       "      <td>29419</td>\n",
       "      <td>2020-05-18T08:11:17.715062+00:00</td>\n",
       "      <td>2020-05-18T08:11:22.848066+00:00</td>\n",
       "      <td>POLYGON ((458304.555 100146.103, 458306.726 10...</td>\n",
       "      <td>6268058</td>\n",
       "      <td>1300</td>\n",
       "      <td>2000-01-01</td>\n",
       "    </tr>\n",
       "    <tr>\n",
       "      <th>2681</th>\n",
       "      <td>29420</td>\n",
       "      <td>2020-05-18T08:11:17.715062+00:00</td>\n",
       "      <td>2020-05-18T08:11:22.848066+00:00</td>\n",
       "      <td>POLYGON ((458247.583 99746.065, 458245.202 997...</td>\n",
       "      <td>6268059</td>\n",
       "      <td>1300</td>\n",
       "      <td>2000-01-01</td>\n",
       "    </tr>\n",
       "    <tr>\n",
       "      <th>2682</th>\n",
       "      <td>29421</td>\n",
       "      <td>2020-05-18T08:11:17.715062+00:00</td>\n",
       "      <td>2020-05-18T08:11:22.848066+00:00</td>\n",
       "      <td>POLYGON ((461932.283 90520.703, 461931.619 905...</td>\n",
       "      <td>6263561</td>\n",
       "      <td>1300</td>\n",
       "      <td>2000-01-01</td>\n",
       "    </tr>\n",
       "    <tr>\n",
       "      <th>2683</th>\n",
       "      <td>29452</td>\n",
       "      <td>2020-05-18T08:11:17.715062+00:00</td>\n",
       "      <td>2020-05-18T08:11:22.848066+00:00</td>\n",
       "      <td>POLYGON ((457231.170 90902.256, 457234.861 909...</td>\n",
       "      <td>6264862</td>\n",
       "      <td>1300</td>\n",
       "      <td>2000-01-01</td>\n",
       "    </tr>\n",
       "    <tr>\n",
       "      <th>2684</th>\n",
       "      <td>29453</td>\n",
       "      <td>2020-05-18T08:11:17.715062+00:00</td>\n",
       "      <td>2020-05-18T08:11:22.848066+00:00</td>\n",
       "      <td>POLYGON ((461378.845 91124.318, 461490.224 911...</td>\n",
       "      <td>6264865</td>\n",
       "      <td>1300</td>\n",
       "      <td>2000-01-01</td>\n",
       "    </tr>\n",
       "  </tbody>\n",
       "</table>\n",
       "<p>2685 rows × 7 columns</p>\n",
       "</div>"
      ],
      "text/plain": [
       "         id                        created_at  \\\n",
       "0      9919  2020-05-18T07:57:40.617849+00:00   \n",
       "1     19771  2020-05-18T08:11:17.715062+00:00   \n",
       "2     22180  2020-05-18T08:11:17.715062+00:00   \n",
       "3     21698  2020-05-18T08:11:17.715062+00:00   \n",
       "4     25628  2020-05-18T08:11:17.715062+00:00   \n",
       "...     ...                               ...   \n",
       "2680  29419  2020-05-18T08:11:17.715062+00:00   \n",
       "2681  29420  2020-05-18T08:11:17.715062+00:00   \n",
       "2682  29421  2020-05-18T08:11:17.715062+00:00   \n",
       "2683  29452  2020-05-18T08:11:17.715062+00:00   \n",
       "2684  29453  2020-05-18T08:11:17.715062+00:00   \n",
       "\n",
       "                           modified_at  \\\n",
       "0     2020-05-18T08:11:22.848066+00:00   \n",
       "1     2020-05-18T08:11:22.848066+00:00   \n",
       "2     2020-05-18T08:11:22.848066+00:00   \n",
       "3     2020-05-18T08:11:22.848066+00:00   \n",
       "4     2020-05-18T08:11:22.848066+00:00   \n",
       "...                                ...   \n",
       "2680  2020-05-18T08:11:22.848066+00:00   \n",
       "2681  2020-05-18T08:11:22.848066+00:00   \n",
       "2682  2020-05-18T08:11:22.848066+00:00   \n",
       "2683  2020-05-18T08:11:22.848066+00:00   \n",
       "2684  2020-05-18T08:11:22.848066+00:00   \n",
       "\n",
       "                                               geometry  raba_pid  raba_id  \\\n",
       "0     POLYGON ((461723.552 99635.913, 461729.649 996...   2332405     1300   \n",
       "1     POLYGON ((454637.692 96679.827, 454630.584 966...   2336101     1300   \n",
       "2     POLYGON ((460531.574 92742.682, 460526.492 927...   5957238     1300   \n",
       "3     POLYGON ((459601.292 99268.197, 459599.578 992...   4657846     1300   \n",
       "4     POLYGON ((459500.000 95703.100, 459470.722 957...   6302937     1300   \n",
       "...                                                 ...       ...      ...   \n",
       "2680  POLYGON ((458304.555 100146.103, 458306.726 10...   6268058     1300   \n",
       "2681  POLYGON ((458247.583 99746.065, 458245.202 997...   6268059     1300   \n",
       "2682  POLYGON ((461932.283 90520.703, 461931.619 905...   6263561     1300   \n",
       "2683  POLYGON ((457231.170 90902.256, 457234.861 909...   6264862     1300   \n",
       "2684  POLYGON ((461378.845 91124.318, 461490.224 911...   6264865     1300   \n",
       "\n",
       "            d_od  \n",
       "0     2000-01-01  \n",
       "1     2000-01-01  \n",
       "2     2000-01-01  \n",
       "3     2000-01-01  \n",
       "4     2000-01-01  \n",
       "...          ...  \n",
       "2680  2000-01-01  \n",
       "2681  2000-01-01  \n",
       "2682  2000-01-01  \n",
       "2683  2000-01-01  \n",
       "2684  2000-01-01  \n",
       "\n",
       "[2685 rows x 7 columns]"
      ]
     },
     "execution_count": 15,
     "metadata": {},
     "output_type": "execute_result"
    }
   ],
   "source": [
    "geodb.get_collection('land_use', query=\"raba_id=eq.1300\")"
   ]
  },
  {
   "cell_type": "markdown",
   "metadata": {
    "papermill": {
     "duration": 0.093962,
     "end_time": "2020-05-18T08:11:24.274188",
     "exception": false,
     "start_time": "2020-05-18T08:11:24.180226",
     "status": "completed"
    },
    "tags": []
   },
   "source": [
    "### Managing Properties of a Collection"
   ]
  },
  {
   "cell_type": "code",
   "execution_count": 16,
   "metadata": {
    "execution": {
     "iopub.execute_input": "2020-05-18T08:11:24.527531Z",
     "iopub.status.busy": "2020-05-18T08:11:24.523945Z",
     "iopub.status.idle": "2020-05-18T08:11:24.648762Z",
     "shell.execute_reply": "2020-05-18T08:11:24.647986Z"
    },
    "papermill": {
     "duration": 0.220628,
     "end_time": "2020-05-18T08:11:24.650165",
     "exception": false,
     "start_time": "2020-05-18T08:11:24.429537",
     "status": "completed"
    },
    "tags": []
   },
   "outputs": [
    {
     "data": {
      "text/html": [
       "<div>\n",
       "<style scoped>\n",
       "    .dataframe tbody tr th:only-of-type {\n",
       "        vertical-align: middle;\n",
       "    }\n",
       "\n",
       "    .dataframe tbody tr th {\n",
       "        vertical-align: top;\n",
       "    }\n",
       "\n",
       "    .dataframe thead th {\n",
       "        text-align: right;\n",
       "    }\n",
       "</style>\n",
       "<table border=\"1\" class=\"dataframe\">\n",
       "  <thead>\n",
       "    <tr style=\"text-align: right;\">\n",
       "      <th></th>\n",
       "      <th>table_name</th>\n",
       "    </tr>\n",
       "  </thead>\n",
       "  <tbody>\n",
       "    <tr>\n",
       "      <th>0</th>\n",
       "      <td>land_use</td>\n",
       "    </tr>\n",
       "    <tr>\n",
       "      <th>1</th>\n",
       "      <td>geodb_0c0a0ef4-8d0d-</td>\n",
       "    </tr>\n",
       "  </tbody>\n",
       "</table>\n",
       "</div>"
      ],
      "text/plain": [
       "             table_name\n",
       "0              land_use\n",
       "1  geodb_0c0a0ef4-8d0d-"
      ]
     },
     "execution_count": 16,
     "metadata": {},
     "output_type": "execute_result"
    }
   ],
   "source": [
    "geodb.get_collections()"
   ]
  },
  {
   "cell_type": "code",
   "execution_count": 17,
   "metadata": {
    "execution": {
     "iopub.execute_input": "2020-05-18T08:11:24.802236Z",
     "iopub.status.busy": "2020-05-18T08:11:24.800447Z",
     "iopub.status.idle": "2020-05-18T08:11:24.938908Z",
     "shell.execute_reply": "2020-05-18T08:11:24.937739Z"
    },
    "papermill": {
     "duration": 0.21808,
     "end_time": "2020-05-18T08:11:24.939061",
     "exception": false,
     "start_time": "2020-05-18T08:11:24.720981",
     "status": "completed"
    },
    "tags": []
   },
   "outputs": [
    {
     "data": {
      "text/html": [
       "<div>\n",
       "<style scoped>\n",
       "    .dataframe tbody tr th:only-of-type {\n",
       "        vertical-align: middle;\n",
       "    }\n",
       "\n",
       "    .dataframe tbody tr th {\n",
       "        vertical-align: top;\n",
       "    }\n",
       "\n",
       "    .dataframe thead th {\n",
       "        text-align: right;\n",
       "    }\n",
       "</style>\n",
       "<table border=\"1\" class=\"dataframe\">\n",
       "  <thead>\n",
       "    <tr style=\"text-align: right;\">\n",
       "      <th></th>\n",
       "      <th>table_name</th>\n",
       "      <th>column_name</th>\n",
       "      <th>data_type</th>\n",
       "    </tr>\n",
       "  </thead>\n",
       "  <tbody>\n",
       "    <tr>\n",
       "      <th>0</th>\n",
       "      <td>land_use</td>\n",
       "      <td>id</td>\n",
       "      <td>integer</td>\n",
       "    </tr>\n",
       "    <tr>\n",
       "      <th>1</th>\n",
       "      <td>land_use</td>\n",
       "      <td>created_at</td>\n",
       "      <td>timestamp with time zone</td>\n",
       "    </tr>\n",
       "    <tr>\n",
       "      <th>2</th>\n",
       "      <td>land_use</td>\n",
       "      <td>modified_at</td>\n",
       "      <td>timestamp with time zone</td>\n",
       "    </tr>\n",
       "    <tr>\n",
       "      <th>3</th>\n",
       "      <td>land_use</td>\n",
       "      <td>geometry</td>\n",
       "      <td>USER-DEFINED</td>\n",
       "    </tr>\n",
       "    <tr>\n",
       "      <th>4</th>\n",
       "      <td>land_use</td>\n",
       "      <td>raba_pid</td>\n",
       "      <td>double precision</td>\n",
       "    </tr>\n",
       "    <tr>\n",
       "      <th>5</th>\n",
       "      <td>land_use</td>\n",
       "      <td>raba_id</td>\n",
       "      <td>double precision</td>\n",
       "    </tr>\n",
       "    <tr>\n",
       "      <th>6</th>\n",
       "      <td>land_use</td>\n",
       "      <td>d_od</td>\n",
       "      <td>date</td>\n",
       "    </tr>\n",
       "  </tbody>\n",
       "</table>\n",
       "</div>"
      ],
      "text/plain": [
       "  table_name  column_name                 data_type\n",
       "0   land_use           id                   integer\n",
       "1   land_use   created_at  timestamp with time zone\n",
       "2   land_use  modified_at  timestamp with time zone\n",
       "3   land_use     geometry              USER-DEFINED\n",
       "4   land_use     raba_pid          double precision\n",
       "5   land_use      raba_id          double precision\n",
       "6   land_use         d_od                      date"
      ]
     },
     "execution_count": 17,
     "metadata": {},
     "output_type": "execute_result"
    }
   ],
   "source": [
    "geodb.get_properties('land_use')"
   ]
  },
  {
   "cell_type": "code",
   "execution_count": 18,
   "metadata": {
    "execution": {
     "iopub.execute_input": "2020-05-18T08:11:25.080250Z",
     "iopub.status.busy": "2020-05-18T08:11:25.077081Z",
     "iopub.status.idle": "2020-05-18T08:11:25.449857Z",
     "shell.execute_reply": "2020-05-18T08:11:25.449137Z"
    },
    "papermill": {
     "duration": 0.443837,
     "end_time": "2020-05-18T08:11:25.449965",
     "exception": false,
     "start_time": "2020-05-18T08:11:25.006128",
     "status": "completed"
    },
    "tags": []
   },
   "outputs": [
    {
     "data": {
      "text/plain": [
       "Properties added"
      ]
     },
     "execution_count": 18,
     "metadata": {},
     "output_type": "execute_result"
    }
   ],
   "source": [
    "geodb.add_property('land_use', \"test_prop\", 'integer')"
   ]
  },
  {
   "cell_type": "code",
   "execution_count": 19,
   "metadata": {
    "execution": {
     "iopub.execute_input": "2020-05-18T08:11:25.599954Z",
     "iopub.status.busy": "2020-05-18T08:11:25.599166Z",
     "iopub.status.idle": "2020-05-18T08:11:25.719135Z",
     "shell.execute_reply": "2020-05-18T08:11:25.719597Z"
    },
    "papermill": {
     "duration": 0.196398,
     "end_time": "2020-05-18T08:11:25.719728",
     "exception": false,
     "start_time": "2020-05-18T08:11:25.523330",
     "status": "completed"
    },
    "tags": []
   },
   "outputs": [
    {
     "data": {
      "text/html": [
       "<div>\n",
       "<style scoped>\n",
       "    .dataframe tbody tr th:only-of-type {\n",
       "        vertical-align: middle;\n",
       "    }\n",
       "\n",
       "    .dataframe tbody tr th {\n",
       "        vertical-align: top;\n",
       "    }\n",
       "\n",
       "    .dataframe thead th {\n",
       "        text-align: right;\n",
       "    }\n",
       "</style>\n",
       "<table border=\"1\" class=\"dataframe\">\n",
       "  <thead>\n",
       "    <tr style=\"text-align: right;\">\n",
       "      <th></th>\n",
       "      <th>table_name</th>\n",
       "      <th>column_name</th>\n",
       "      <th>data_type</th>\n",
       "    </tr>\n",
       "  </thead>\n",
       "  <tbody>\n",
       "    <tr>\n",
       "      <th>0</th>\n",
       "      <td>land_use</td>\n",
       "      <td>id</td>\n",
       "      <td>integer</td>\n",
       "    </tr>\n",
       "    <tr>\n",
       "      <th>1</th>\n",
       "      <td>land_use</td>\n",
       "      <td>created_at</td>\n",
       "      <td>timestamp with time zone</td>\n",
       "    </tr>\n",
       "    <tr>\n",
       "      <th>2</th>\n",
       "      <td>land_use</td>\n",
       "      <td>modified_at</td>\n",
       "      <td>timestamp with time zone</td>\n",
       "    </tr>\n",
       "    <tr>\n",
       "      <th>3</th>\n",
       "      <td>land_use</td>\n",
       "      <td>geometry</td>\n",
       "      <td>USER-DEFINED</td>\n",
       "    </tr>\n",
       "    <tr>\n",
       "      <th>4</th>\n",
       "      <td>land_use</td>\n",
       "      <td>raba_pid</td>\n",
       "      <td>double precision</td>\n",
       "    </tr>\n",
       "    <tr>\n",
       "      <th>5</th>\n",
       "      <td>land_use</td>\n",
       "      <td>raba_id</td>\n",
       "      <td>double precision</td>\n",
       "    </tr>\n",
       "    <tr>\n",
       "      <th>6</th>\n",
       "      <td>land_use</td>\n",
       "      <td>d_od</td>\n",
       "      <td>date</td>\n",
       "    </tr>\n",
       "  </tbody>\n",
       "</table>\n",
       "</div>"
      ],
      "text/plain": [
       "  table_name  column_name                 data_type\n",
       "0   land_use           id                   integer\n",
       "1   land_use   created_at  timestamp with time zone\n",
       "2   land_use  modified_at  timestamp with time zone\n",
       "3   land_use     geometry              USER-DEFINED\n",
       "4   land_use     raba_pid          double precision\n",
       "5   land_use      raba_id          double precision\n",
       "6   land_use         d_od                      date"
      ]
     },
     "execution_count": 19,
     "metadata": {},
     "output_type": "execute_result"
    }
   ],
   "source": [
    "geodb.get_properties('land_use')"
   ]
  },
  {
   "cell_type": "code",
   "execution_count": 20,
   "metadata": {
    "execution": {
     "iopub.execute_input": "2020-05-18T08:11:25.874600Z",
     "iopub.status.busy": "2020-05-18T08:11:25.871037Z",
     "iopub.status.idle": "2020-05-18T08:11:26.458508Z",
     "shell.execute_reply": "2020-05-18T08:11:26.457963Z"
    },
    "papermill": {
     "duration": 0.664307,
     "end_time": "2020-05-18T08:11:26.458622",
     "exception": false,
     "start_time": "2020-05-18T08:11:25.794315",
     "status": "completed"
    },
    "tags": []
   },
   "outputs": [
    {
     "data": {
      "text/plain": [
       "Properties ['test_prop'] dropped from geodb_0c0a0ef4-8d0d-4e70-b002-033c7cbb41fd_land_use"
      ]
     },
     "execution_count": 20,
     "metadata": {},
     "output_type": "execute_result"
    }
   ],
   "source": [
    "geodb.drop_property('land_use', 'test_prop')"
   ]
  },
  {
   "cell_type": "code",
   "execution_count": 21,
   "metadata": {
    "execution": {
     "iopub.execute_input": "2020-05-18T08:11:26.639703Z",
     "iopub.status.busy": "2020-05-18T08:11:26.639069Z",
     "iopub.status.idle": "2020-05-18T08:11:26.729962Z",
     "shell.execute_reply": "2020-05-18T08:11:26.730385Z"
    },
    "papermill": {
     "duration": 0.161888,
     "end_time": "2020-05-18T08:11:26.730515",
     "exception": false,
     "start_time": "2020-05-18T08:11:26.568627",
     "status": "completed"
    },
    "tags": []
   },
   "outputs": [
    {
     "data": {
      "text/html": [
       "<div>\n",
       "<style scoped>\n",
       "    .dataframe tbody tr th:only-of-type {\n",
       "        vertical-align: middle;\n",
       "    }\n",
       "\n",
       "    .dataframe tbody tr th {\n",
       "        vertical-align: top;\n",
       "    }\n",
       "\n",
       "    .dataframe thead th {\n",
       "        text-align: right;\n",
       "    }\n",
       "</style>\n",
       "<table border=\"1\" class=\"dataframe\">\n",
       "  <thead>\n",
       "    <tr style=\"text-align: right;\">\n",
       "      <th></th>\n",
       "      <th>table_name</th>\n",
       "      <th>column_name</th>\n",
       "      <th>data_type</th>\n",
       "    </tr>\n",
       "  </thead>\n",
       "  <tbody>\n",
       "    <tr>\n",
       "      <th>0</th>\n",
       "      <td>land_use</td>\n",
       "      <td>id</td>\n",
       "      <td>integer</td>\n",
       "    </tr>\n",
       "    <tr>\n",
       "      <th>1</th>\n",
       "      <td>land_use</td>\n",
       "      <td>created_at</td>\n",
       "      <td>timestamp with time zone</td>\n",
       "    </tr>\n",
       "    <tr>\n",
       "      <th>2</th>\n",
       "      <td>land_use</td>\n",
       "      <td>modified_at</td>\n",
       "      <td>timestamp with time zone</td>\n",
       "    </tr>\n",
       "    <tr>\n",
       "      <th>3</th>\n",
       "      <td>land_use</td>\n",
       "      <td>geometry</td>\n",
       "      <td>USER-DEFINED</td>\n",
       "    </tr>\n",
       "    <tr>\n",
       "      <th>4</th>\n",
       "      <td>land_use</td>\n",
       "      <td>raba_pid</td>\n",
       "      <td>double precision</td>\n",
       "    </tr>\n",
       "    <tr>\n",
       "      <th>5</th>\n",
       "      <td>land_use</td>\n",
       "      <td>raba_id</td>\n",
       "      <td>double precision</td>\n",
       "    </tr>\n",
       "    <tr>\n",
       "      <th>6</th>\n",
       "      <td>land_use</td>\n",
       "      <td>d_od</td>\n",
       "      <td>date</td>\n",
       "    </tr>\n",
       "  </tbody>\n",
       "</table>\n",
       "</div>"
      ],
      "text/plain": [
       "  table_name  column_name                 data_type\n",
       "0   land_use           id                   integer\n",
       "1   land_use   created_at  timestamp with time zone\n",
       "2   land_use  modified_at  timestamp with time zone\n",
       "3   land_use     geometry              USER-DEFINED\n",
       "4   land_use     raba_pid          double precision\n",
       "5   land_use      raba_id          double precision\n",
       "6   land_use         d_od                      date"
      ]
     },
     "execution_count": 21,
     "metadata": {},
     "output_type": "execute_result"
    }
   ],
   "source": [
    "geodb.get_properties('land_use')"
   ]
  },
  {
   "cell_type": "code",
   "execution_count": 22,
   "metadata": {
    "execution": {
     "iopub.execute_input": "2020-05-18T08:11:26.868181Z",
     "iopub.status.busy": "2020-05-18T08:11:26.867650Z",
     "iopub.status.idle": "2020-05-18T08:11:27.197602Z",
     "shell.execute_reply": "2020-05-18T08:11:27.196826Z"
    },
    "papermill": {
     "duration": 0.410194,
     "end_time": "2020-05-18T08:11:27.197822",
     "exception": false,
     "start_time": "2020-05-18T08:11:26.787628",
     "status": "completed"
    },
    "tags": []
   },
   "outputs": [
    {
     "data": {
      "text/plain": [
       "Properties added"
      ]
     },
     "execution_count": 22,
     "metadata": {},
     "output_type": "execute_result"
    }
   ],
   "source": [
    "geodb.add_properties('land_use', properties={'test1': 'integer', 'test2': 'date'})"
   ]
  },
  {
   "cell_type": "code",
   "execution_count": 23,
   "metadata": {
    "execution": {
     "iopub.execute_input": "2020-05-18T08:11:27.358144Z",
     "iopub.status.busy": "2020-05-18T08:11:27.357303Z",
     "iopub.status.idle": "2020-05-18T08:11:27.505933Z",
     "shell.execute_reply": "2020-05-18T08:11:27.506832Z"
    },
    "papermill": {
     "duration": 0.240562,
     "end_time": "2020-05-18T08:11:27.507145",
     "exception": false,
     "start_time": "2020-05-18T08:11:27.266583",
     "status": "completed"
    },
    "tags": []
   },
   "outputs": [
    {
     "data": {
      "text/html": [
       "<div>\n",
       "<style scoped>\n",
       "    .dataframe tbody tr th:only-of-type {\n",
       "        vertical-align: middle;\n",
       "    }\n",
       "\n",
       "    .dataframe tbody tr th {\n",
       "        vertical-align: top;\n",
       "    }\n",
       "\n",
       "    .dataframe thead th {\n",
       "        text-align: right;\n",
       "    }\n",
       "</style>\n",
       "<table border=\"1\" class=\"dataframe\">\n",
       "  <thead>\n",
       "    <tr style=\"text-align: right;\">\n",
       "      <th></th>\n",
       "      <th>table_name</th>\n",
       "      <th>column_name</th>\n",
       "      <th>data_type</th>\n",
       "    </tr>\n",
       "  </thead>\n",
       "  <tbody>\n",
       "    <tr>\n",
       "      <th>0</th>\n",
       "      <td>land_use</td>\n",
       "      <td>id</td>\n",
       "      <td>integer</td>\n",
       "    </tr>\n",
       "    <tr>\n",
       "      <th>1</th>\n",
       "      <td>land_use</td>\n",
       "      <td>created_at</td>\n",
       "      <td>timestamp with time zone</td>\n",
       "    </tr>\n",
       "    <tr>\n",
       "      <th>2</th>\n",
       "      <td>land_use</td>\n",
       "      <td>modified_at</td>\n",
       "      <td>timestamp with time zone</td>\n",
       "    </tr>\n",
       "    <tr>\n",
       "      <th>3</th>\n",
       "      <td>land_use</td>\n",
       "      <td>geometry</td>\n",
       "      <td>USER-DEFINED</td>\n",
       "    </tr>\n",
       "    <tr>\n",
       "      <th>4</th>\n",
       "      <td>land_use</td>\n",
       "      <td>raba_pid</td>\n",
       "      <td>double precision</td>\n",
       "    </tr>\n",
       "    <tr>\n",
       "      <th>5</th>\n",
       "      <td>land_use</td>\n",
       "      <td>raba_id</td>\n",
       "      <td>double precision</td>\n",
       "    </tr>\n",
       "    <tr>\n",
       "      <th>6</th>\n",
       "      <td>land_use</td>\n",
       "      <td>d_od</td>\n",
       "      <td>date</td>\n",
       "    </tr>\n",
       "  </tbody>\n",
       "</table>\n",
       "</div>"
      ],
      "text/plain": [
       "  table_name  column_name                 data_type\n",
       "0   land_use           id                   integer\n",
       "1   land_use   created_at  timestamp with time zone\n",
       "2   land_use  modified_at  timestamp with time zone\n",
       "3   land_use     geometry              USER-DEFINED\n",
       "4   land_use     raba_pid          double precision\n",
       "5   land_use      raba_id          double precision\n",
       "6   land_use         d_od                      date"
      ]
     },
     "execution_count": 23,
     "metadata": {},
     "output_type": "execute_result"
    }
   ],
   "source": [
    "geodb.get_properties('land_use')"
   ]
  },
  {
   "cell_type": "code",
   "execution_count": 24,
   "metadata": {
    "execution": {
     "iopub.execute_input": "2020-05-18T08:11:27.808025Z",
     "iopub.status.busy": "2020-05-18T08:11:27.804521Z",
     "iopub.status.idle": "2020-05-18T08:11:28.414566Z",
     "shell.execute_reply": "2020-05-18T08:11:28.413664Z"
    },
    "papermill": {
     "duration": 0.7712,
     "end_time": "2020-05-18T08:11:28.414754",
     "exception": false,
     "start_time": "2020-05-18T08:11:27.643554",
     "status": "completed"
    },
    "tags": []
   },
   "outputs": [
    {
     "data": {
      "text/plain": [
       "Properties ['test1', 'test2'] dropped from geodb_0c0a0ef4-8d0d-4e70-b002-033c7cbb41fd_land_use"
      ]
     },
     "execution_count": 24,
     "metadata": {},
     "output_type": "execute_result"
    }
   ],
   "source": [
    "geodb.drop_properties('land_use', properties=['test1', 'test2'])"
   ]
  },
  {
   "cell_type": "code",
   "execution_count": 25,
   "metadata": {
    "execution": {
     "iopub.execute_input": "2020-05-18T08:11:28.556923Z",
     "iopub.status.busy": "2020-05-18T08:11:28.556233Z",
     "iopub.status.idle": "2020-05-18T08:11:28.663236Z",
     "shell.execute_reply": "2020-05-18T08:11:28.663715Z"
    },
    "papermill": {
     "duration": 0.182398,
     "end_time": "2020-05-18T08:11:28.663845",
     "exception": false,
     "start_time": "2020-05-18T08:11:28.481447",
     "status": "completed"
    },
    "tags": []
   },
   "outputs": [
    {
     "data": {
      "text/html": [
       "<div>\n",
       "<style scoped>\n",
       "    .dataframe tbody tr th:only-of-type {\n",
       "        vertical-align: middle;\n",
       "    }\n",
       "\n",
       "    .dataframe tbody tr th {\n",
       "        vertical-align: top;\n",
       "    }\n",
       "\n",
       "    .dataframe thead th {\n",
       "        text-align: right;\n",
       "    }\n",
       "</style>\n",
       "<table border=\"1\" class=\"dataframe\">\n",
       "  <thead>\n",
       "    <tr style=\"text-align: right;\">\n",
       "      <th></th>\n",
       "      <th>table_name</th>\n",
       "      <th>column_name</th>\n",
       "      <th>data_type</th>\n",
       "    </tr>\n",
       "  </thead>\n",
       "  <tbody>\n",
       "    <tr>\n",
       "      <th>0</th>\n",
       "      <td>land_use</td>\n",
       "      <td>id</td>\n",
       "      <td>integer</td>\n",
       "    </tr>\n",
       "    <tr>\n",
       "      <th>1</th>\n",
       "      <td>land_use</td>\n",
       "      <td>created_at</td>\n",
       "      <td>timestamp with time zone</td>\n",
       "    </tr>\n",
       "    <tr>\n",
       "      <th>2</th>\n",
       "      <td>land_use</td>\n",
       "      <td>modified_at</td>\n",
       "      <td>timestamp with time zone</td>\n",
       "    </tr>\n",
       "    <tr>\n",
       "      <th>3</th>\n",
       "      <td>land_use</td>\n",
       "      <td>geometry</td>\n",
       "      <td>USER-DEFINED</td>\n",
       "    </tr>\n",
       "    <tr>\n",
       "      <th>4</th>\n",
       "      <td>land_use</td>\n",
       "      <td>raba_pid</td>\n",
       "      <td>double precision</td>\n",
       "    </tr>\n",
       "    <tr>\n",
       "      <th>5</th>\n",
       "      <td>land_use</td>\n",
       "      <td>raba_id</td>\n",
       "      <td>double precision</td>\n",
       "    </tr>\n",
       "    <tr>\n",
       "      <th>6</th>\n",
       "      <td>land_use</td>\n",
       "      <td>d_od</td>\n",
       "      <td>date</td>\n",
       "    </tr>\n",
       "  </tbody>\n",
       "</table>\n",
       "</div>"
      ],
      "text/plain": [
       "  table_name  column_name                 data_type\n",
       "0   land_use           id                   integer\n",
       "1   land_use   created_at  timestamp with time zone\n",
       "2   land_use  modified_at  timestamp with time zone\n",
       "3   land_use     geometry              USER-DEFINED\n",
       "4   land_use     raba_pid          double precision\n",
       "5   land_use      raba_id          double precision\n",
       "6   land_use         d_od                      date"
      ]
     },
     "execution_count": 25,
     "metadata": {},
     "output_type": "execute_result"
    }
   ],
   "source": [
    "geodb.get_properties('land_use')"
   ]
  },
  {
   "cell_type": "code",
   "execution_count": 26,
   "metadata": {
    "execution": {
     "iopub.execute_input": "2020-05-18T08:11:28.812967Z",
     "iopub.status.busy": "2020-05-18T08:11:28.812047Z",
     "iopub.status.idle": "2020-05-18T08:11:29.082184Z",
     "shell.execute_reply": "2020-05-18T08:11:29.081641Z"
    },
    "papermill": {
     "duration": 0.34822,
     "end_time": "2020-05-18T08:11:29.082285",
     "exception": false,
     "start_time": "2020-05-18T08:11:28.734065",
     "status": "completed"
    },
    "tags": []
   },
   "outputs": [
    {
     "data": {
      "text/plain": [
       "Collection ['geodb_0c0a0ef4-8d0d-4e70-b002-033c7cbb41fd_land_use'] deleted"
      ]
     },
     "execution_count": 26,
     "metadata": {},
     "output_type": "execute_result"
    }
   ],
   "source": [
    "geodb.drop_collection('land_use')"
   ]
  }
 ],
 "metadata": {
  "kernelspec": {
   "display_name": "Python 3",
   "language": "python",
   "name": "python3"
  },
  "language_info": {
   "codemirror_mode": {
    "name": "ipython",
    "version": 3
   },
   "file_extension": ".py",
   "mimetype": "text/x-python",
   "name": "python",
   "nbconvert_exporter": "python",
   "pygments_lexer": "ipython3",
   "version": "3.7.6"
  },
  "papermill": {
   "duration": 18.340949,
   "end_time": "2020-05-18T08:11:29.267537",
   "environment_variables": {},
   "exception": null,
   "input_path": "EDC_GeoDB_1_manage-datasets.ipynb",
   "output_path": "out.ipynb",
   "parameters": {},
   "start_time": "2020-05-18T08:11:10.926588",
   "version": "2.1.0"
  },
  "properties": {
   "description": "Euro Data Cube GeoDB: Manage Datasets",
   "id": "geodb-manage",
   "name": "GeoDB: Manage Datasets",
   "requirements": [
    "eurodatacube-geodb"
   ],
   "tags": [
    "Getting started",
    "GeoDB"
   ],
   "version": "0.2"
  },
  "pycharm": {
   "stem_cell": {
    "cell_type": "raw",
    "metadata": {
     "collapsed": false
    },
    "source": []
   }
  }
 },
 "nbformat": 4,
 "nbformat_minor": 4
}
