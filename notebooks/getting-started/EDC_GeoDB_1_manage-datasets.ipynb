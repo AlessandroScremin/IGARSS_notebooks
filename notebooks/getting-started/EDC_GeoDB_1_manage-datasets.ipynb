{
 "cells": [
  {
   "cell_type": "code",
   "execution_count": 1,
   "metadata": {
    "execution": {
     "iopub.execute_input": "2020-07-13T12:52:24.705182Z",
     "iopub.status.busy": "2020-07-13T12:52:24.704110Z",
     "iopub.status.idle": "2020-07-13T12:52:24.874847Z",
     "shell.execute_reply": "2020-07-13T12:52:24.874016Z"
    },
    "papermill": {
     "duration": 0.204901,
     "end_time": "2020-07-13T12:52:24.874967",
     "exception": false,
     "start_time": "2020-07-13T12:52:24.670066",
     "status": "completed"
    },
    "tags": []
   },
   "outputs": [
    {
     "data": {
      "text/markdown": [
       "\n",
       "***Notebook Title***  \n",
       "GeoDB: Manage Datasets\n",
       "\n",
       "***Notebook Description***  \n",
       "Euro Data Cube GeoDB: Manage Datasets\n",
       "\n",
       "\n",
       "***Notebook Dependencies***  \n",
       "This notebook requires an active subscription to:\n",
       "* EDC GeoDB\n"
      ],
      "text/plain": [
       "<IPython.core.display.Markdown object>"
      ]
     },
     "metadata": {},
     "output_type": "display_data"
    }
   ],
   "source": [
    "from edc import print_info \n",
    "print_info(\"geodb-manage\")"
   ]
  },
  {
   "cell_type": "code",
   "execution_count": 2,
   "metadata": {
    "execution": {
     "iopub.execute_input": "2020-07-13T12:52:24.932711Z",
     "iopub.status.busy": "2020-07-13T12:52:24.931869Z",
     "iopub.status.idle": "2020-07-13T12:52:24.942603Z",
     "shell.execute_reply": "2020-07-13T12:52:24.941582Z"
    },
    "papermill": {
     "duration": 0.040019,
     "end_time": "2020-07-13T12:52:24.942940",
     "exception": false,
     "start_time": "2020-07-13T12:52:24.902921",
     "status": "completed"
    },
    "tags": []
   },
   "outputs": [
    {
     "data": {
      "text/markdown": [
       "API credentials have automatically been injected for your active subscriptions.  \n",
       "The following environment variables are now available:\n",
       "* `GEODB_API_SERVER_PORT`, `GEODB_API_SERVER_URL`, `GEODB_AUTH_AUD`, `GEODB_AUTH_CLIENT_ID`, `GEODB_AUTH_CLIENT_SECRET`, `GEODB_AUTH_DOMAIN`\n",
       "\n",
       "The following additional environment variables have been loaded from `~/custom.env`:\n",
       "* `AWS_BUCKET`\n",
       "* `DAPA_URL`\n",
       "* `DB_HOST`, `DB_NAME`, `DB_PASSWORD`, `DB_USER`\n",
       "* `OGC_EDC_URL`\n",
       "* `REFERENCE_DATA`\n"
      ],
      "text/plain": [
       "<IPython.core.display.Markdown object>"
      ]
     },
     "metadata": {},
     "output_type": "display_data"
    }
   ],
   "source": [
    "from edc import setup_environment_variables\n",
    "setup_environment_variables()"
   ]
  },
  {
   "cell_type": "code",
   "execution_count": 3,
   "metadata": {
    "execution": {
     "iopub.execute_input": "2020-07-13T12:52:25.001833Z",
     "iopub.status.busy": "2020-07-13T12:52:25.000536Z",
     "iopub.status.idle": "2020-07-13T12:52:25.006594Z",
     "shell.execute_reply": "2020-07-13T12:52:25.005051Z"
    },
    "papermill": {
     "duration": 0.037306,
     "end_time": "2020-07-13T12:52:25.006906",
     "exception": false,
     "start_time": "2020-07-13T12:52:24.969600",
     "status": "completed"
    },
    "tags": []
   },
   "outputs": [
    {
     "data": {
      "text/markdown": [
       "This notebook is compatible with this base image version (user-0.19.5)."
      ],
      "text/plain": [
       "<IPython.core.display.Markdown object>"
      ]
     },
     "metadata": {},
     "output_type": "display_data"
    }
   ],
   "source": [
    "from edc import check_compatibility\n",
    "check_compatibility(\"user-0.19.5\")"
   ]
  },
  {
   "cell_type": "markdown",
   "metadata": {
    "papermill": {
     "duration": 0.034596,
     "end_time": "2020-07-13T12:52:25.068299",
     "exception": false,
     "start_time": "2020-07-13T12:52:25.033703",
     "status": "completed"
    },
    "tags": []
   },
   "source": [
    "## Manage Collections in your GeoDB\n",
    "\n"
   ]
  },
  {
   "cell_type": "markdown",
   "metadata": {
    "papermill": {
     "duration": 0.025153,
     "end_time": "2020-07-13T12:52:25.117493",
     "exception": false,
     "start_time": "2020-07-13T12:52:25.092340",
     "status": "completed"
    },
    "tags": []
   },
   "source": [
    "### Connecting to the GeoDB"
   ]
  },
  {
   "cell_type": "code",
   "execution_count": 4,
   "metadata": {
    "execution": {
     "iopub.execute_input": "2020-07-13T12:52:25.178905Z",
     "iopub.status.busy": "2020-07-13T12:52:25.177919Z",
     "iopub.status.idle": "2020-07-13T12:52:25.654073Z",
     "shell.execute_reply": "2020-07-13T12:52:25.654607Z"
    },
    "papermill": {
     "duration": 0.511167,
     "end_time": "2020-07-13T12:52:25.654795",
     "exception": false,
     "start_time": "2020-07-13T12:52:25.143628",
     "status": "completed"
    },
    "tags": []
   },
   "outputs": [],
   "source": [
    "from xcube_geodb.core.geodb import GeoDBClient"
   ]
  },
  {
   "cell_type": "code",
   "execution_count": 5,
   "metadata": {
    "execution": {
     "iopub.execute_input": "2020-07-13T12:52:25.710890Z",
     "iopub.status.busy": "2020-07-13T12:52:25.710005Z",
     "iopub.status.idle": "2020-07-13T12:52:25.713771Z",
     "shell.execute_reply": "2020-07-13T12:52:25.714227Z"
    },
    "papermill": {
     "duration": 0.032563,
     "end_time": "2020-07-13T12:52:25.714369",
     "exception": false,
     "start_time": "2020-07-13T12:52:25.681806",
     "status": "completed"
    },
    "tags": []
   },
   "outputs": [],
   "source": [
    "geodb = GeoDBClient()"
   ]
  },
  {
   "cell_type": "code",
   "execution_count": 6,
   "metadata": {
    "execution": {
     "iopub.execute_input": "2020-07-13T12:52:25.773072Z",
     "iopub.status.busy": "2020-07-13T12:52:25.772271Z",
     "iopub.status.idle": "2020-07-13T12:52:26.096935Z",
     "shell.execute_reply": "2020-07-13T12:52:26.097422Z"
    },
    "papermill": {
     "duration": 0.358997,
     "end_time": "2020-07-13T12:52:26.097557",
     "exception": false,
     "start_time": "2020-07-13T12:52:25.738560",
     "status": "completed"
    },
    "tags": []
   },
   "outputs": [
    {
     "data": {
      "text/plain": [
       "'geodb_418dfeac-15f0-4606-9edb-fd9eb722bf04'"
      ]
     },
     "execution_count": 6,
     "metadata": {},
     "output_type": "execute_result"
    }
   ],
   "source": [
    "# This will tell you what account the system currently uses\n",
    "geodb.whoami"
   ]
  },
  {
   "cell_type": "code",
   "execution_count": 7,
   "metadata": {
    "execution": {
     "iopub.execute_input": "2020-07-13T12:52:26.155153Z",
     "iopub.status.busy": "2020-07-13T12:52:26.151945Z",
     "iopub.status.idle": "2020-07-13T12:52:26.315879Z",
     "shell.execute_reply": "2020-07-13T12:52:26.316570Z"
    },
    "papermill": {
     "duration": 0.194758,
     "end_time": "2020-07-13T12:52:26.316777",
     "exception": false,
     "start_time": "2020-07-13T12:52:26.122019",
     "status": "completed"
    },
    "tags": []
   },
   "outputs": [
    {
     "data": {
      "text/html": [
       "<div>\n",
       "<style scoped>\n",
       "    .dataframe tbody tr th:only-of-type {\n",
       "        vertical-align: middle;\n",
       "    }\n",
       "\n",
       "    .dataframe tbody tr th {\n",
       "        vertical-align: top;\n",
       "    }\n",
       "\n",
       "    .dataframe thead th {\n",
       "        text-align: right;\n",
       "    }\n",
       "</style>\n",
       "<table border=\"1\" class=\"dataframe\">\n",
       "  <thead>\n",
       "    <tr style=\"text-align: right;\">\n",
       "      <th></th>\n",
       "      <th>table_name</th>\n",
       "    </tr>\n",
       "  </thead>\n",
       "  <tbody>\n",
       "  </tbody>\n",
       "</table>\n",
       "</div>"
      ],
      "text/plain": [
       "Empty DataFrame\n",
       "Columns: [table_name]\n",
       "Index: []"
      ]
     },
     "execution_count": 7,
     "metadata": {},
     "output_type": "execute_result"
    }
   ],
   "source": [
    "# Lets get already existing collections\n",
    "ds = geodb.get_collections()\n",
    "ds"
   ]
  },
  {
   "cell_type": "markdown",
   "metadata": {
    "papermill": {
     "duration": 0.025556,
     "end_time": "2020-07-13T12:52:26.368605",
     "exception": false,
     "start_time": "2020-07-13T12:52:26.343049",
     "status": "completed"
    },
    "tags": []
   },
   "source": [
    "### Creating collections\n",
    "\n",
    "Once the connection has been established you will be able to create a collection. The collection will contain standard properties (fields) plus custom properties\n",
    "which you can add at your disgretion. Please use [PostGreSQL type definitions](https://www.postgresql.org/docs/11/datatype.html). We recommend stying simple with\n",
    "your data types as we have not tested every single type."
   ]
  },
  {
   "cell_type": "code",
   "execution_count": 8,
   "metadata": {
    "execution": {
     "iopub.execute_input": "2020-07-13T12:52:26.428437Z",
     "iopub.status.busy": "2020-07-13T12:52:26.427462Z",
     "iopub.status.idle": "2020-07-13T12:52:26.831283Z",
     "shell.execute_reply": "2020-07-13T12:52:26.830511Z"
    },
    "papermill": {
     "duration": 0.437092,
     "end_time": "2020-07-13T12:52:26.831414",
     "exception": false,
     "start_time": "2020-07-13T12:52:26.394322",
     "status": "completed"
    },
    "tags": []
   },
   "outputs": [
    {
     "data": {
      "text/plain": [
       "{'collections': {'geodb_418dfeac-15f0-4606-9edb-fd9eb722bf04_land_use': {'crs': 3794,\n",
       "                                                                         'properties': {'D_OD': 'date',\n",
       "                                                                                        'RABA_ID': 'float',\n",
       "                                                                                        'RABA_PID': 'float'}}}}"
      ]
     },
     "execution_count": 8,
     "metadata": {},
     "output_type": "execute_result"
    }
   ],
   "source": [
    "# geodb.drop_collection('land_use')\n",
    "\n",
    "# Have a look at fiona feature schema\n",
    "collections = {\n",
    "        \"land_use\": \n",
    "        {\n",
    "            \"crs\": 3794,\n",
    "            \"properties\": \n",
    "            {\n",
    "                \"RABA_PID\": \"float\", \n",
    "                \"RABA_ID\": \"float\", \n",
    "                \"D_OD\": \"date\"\n",
    "            }\n",
    "        }\n",
    "    }\n",
    "\n",
    "\n",
    "geodb.create_collections(collections)"
   ]
  },
  {
   "cell_type": "code",
   "execution_count": 9,
   "metadata": {
    "execution": {
     "iopub.execute_input": "2020-07-13T12:52:26.888495Z",
     "iopub.status.busy": "2020-07-13T12:52:26.887700Z",
     "iopub.status.idle": "2020-07-13T12:52:27.007957Z",
     "shell.execute_reply": "2020-07-13T12:52:27.007220Z"
    },
    "papermill": {
     "duration": 0.152084,
     "end_time": "2020-07-13T12:52:27.008060",
     "exception": false,
     "start_time": "2020-07-13T12:52:26.855976",
     "status": "completed"
    },
    "tags": []
   },
   "outputs": [
    {
     "data": {
      "text/html": [
       "<div>\n",
       "<style scoped>\n",
       "    .dataframe tbody tr th:only-of-type {\n",
       "        vertical-align: middle;\n",
       "    }\n",
       "\n",
       "    .dataframe tbody tr th {\n",
       "        vertical-align: top;\n",
       "    }\n",
       "\n",
       "    .dataframe thead th {\n",
       "        text-align: right;\n",
       "    }\n",
       "</style>\n",
       "<table border=\"1\" class=\"dataframe\">\n",
       "  <thead>\n",
       "    <tr style=\"text-align: right;\">\n",
       "      <th></th>\n",
       "      <th>table_name</th>\n",
       "    </tr>\n",
       "  </thead>\n",
       "  <tbody>\n",
       "    <tr>\n",
       "      <th>0</th>\n",
       "      <td>land_use</td>\n",
       "    </tr>\n",
       "  </tbody>\n",
       "</table>\n",
       "</div>"
      ],
      "text/plain": [
       "  table_name\n",
       "0   land_use"
      ]
     },
     "execution_count": 9,
     "metadata": {},
     "output_type": "execute_result"
    }
   ],
   "source": [
    "ds = geodb.get_collections()\n",
    "ds"
   ]
  },
  {
   "cell_type": "markdown",
   "metadata": {
    "papermill": {
     "duration": 0.024287,
     "end_time": "2020-07-13T12:52:27.057820",
     "exception": false,
     "start_time": "2020-07-13T12:52:27.033533",
     "status": "completed"
    },
    "tags": []
   },
   "source": [
    "### Loading data into a dataset\n",
    "\n",
    "Once the table has been created, you can load data into the dataset. The example below loads a shapefile. The attributes of the shapefile correspond to the dataset's properties.\n"
   ]
  },
  {
   "cell_type": "code",
   "execution_count": 10,
   "metadata": {
    "execution": {
     "iopub.execute_input": "2020-07-13T12:52:28.815536Z",
     "iopub.status.busy": "2020-07-13T12:52:28.789021Z",
     "iopub.status.idle": "2020-07-13T12:52:29.534694Z",
     "shell.execute_reply": "2020-07-13T12:52:29.533712Z"
    },
    "papermill": {
     "duration": 2.451921,
     "end_time": "2020-07-13T12:52:29.534861",
     "exception": false,
     "start_time": "2020-07-13T12:52:27.082940",
     "status": "completed"
    },
    "tags": []
   },
   "outputs": [
    {
     "data": {
      "text/html": [
       "<div>\n",
       "<style scoped>\n",
       "    .dataframe tbody tr th:only-of-type {\n",
       "        vertical-align: middle;\n",
       "    }\n",
       "\n",
       "    .dataframe tbody tr th {\n",
       "        vertical-align: top;\n",
       "    }\n",
       "\n",
       "    .dataframe thead th {\n",
       "        text-align: right;\n",
       "    }\n",
       "</style>\n",
       "<table border=\"1\" class=\"dataframe\">\n",
       "  <thead>\n",
       "    <tr style=\"text-align: right;\">\n",
       "      <th></th>\n",
       "      <th>RABA_PID</th>\n",
       "      <th>RABA_ID</th>\n",
       "      <th>D_OD</th>\n",
       "      <th>geometry</th>\n",
       "    </tr>\n",
       "  </thead>\n",
       "  <tbody>\n",
       "    <tr>\n",
       "      <th>0</th>\n",
       "      <td>4770326.0</td>\n",
       "      <td>1410</td>\n",
       "      <td>2019-03-26</td>\n",
       "      <td>POLYGON ((453952.629 91124.177, 453952.696 911...</td>\n",
       "    </tr>\n",
       "    <tr>\n",
       "      <th>1</th>\n",
       "      <td>4770325.0</td>\n",
       "      <td>1300</td>\n",
       "      <td>2019-03-26</td>\n",
       "      <td>POLYGON ((453810.376 91150.199, 453812.552 911...</td>\n",
       "    </tr>\n",
       "    <tr>\n",
       "      <th>2</th>\n",
       "      <td>2305689.0</td>\n",
       "      <td>7000</td>\n",
       "      <td>2019-02-25</td>\n",
       "      <td>POLYGON ((456099.635 97696.070, 456112.810 976...</td>\n",
       "    </tr>\n",
       "    <tr>\n",
       "      <th>3</th>\n",
       "      <td>2305596.0</td>\n",
       "      <td>1100</td>\n",
       "      <td>2019-02-25</td>\n",
       "      <td>POLYGON ((455929.405 97963.785, 455933.284 979...</td>\n",
       "    </tr>\n",
       "    <tr>\n",
       "      <th>4</th>\n",
       "      <td>2310160.0</td>\n",
       "      <td>1100</td>\n",
       "      <td>2019-03-11</td>\n",
       "      <td>POLYGON ((461561.512 96119.256, 461632.114 960...</td>\n",
       "    </tr>\n",
       "    <tr>\n",
       "      <th>...</th>\n",
       "      <td>...</td>\n",
       "      <td>...</td>\n",
       "      <td>...</td>\n",
       "      <td>...</td>\n",
       "    </tr>\n",
       "    <tr>\n",
       "      <th>9822</th>\n",
       "      <td>6253989.0</td>\n",
       "      <td>1600</td>\n",
       "      <td>2019-03-08</td>\n",
       "      <td>POLYGON ((460637.334 96865.891, 460647.927 969...</td>\n",
       "    </tr>\n",
       "    <tr>\n",
       "      <th>9823</th>\n",
       "      <td>6252044.0</td>\n",
       "      <td>1600</td>\n",
       "      <td>2019-03-26</td>\n",
       "      <td>POLYGON ((459467.868 96839.686, 459467.770 968...</td>\n",
       "    </tr>\n",
       "    <tr>\n",
       "      <th>9824</th>\n",
       "      <td>6245985.0</td>\n",
       "      <td>2000</td>\n",
       "      <td>2019-04-08</td>\n",
       "      <td>POLYGON ((459488.998 94066.248, 459498.145 940...</td>\n",
       "    </tr>\n",
       "    <tr>\n",
       "      <th>9825</th>\n",
       "      <td>6245986.0</td>\n",
       "      <td>2000</td>\n",
       "      <td>2019-02-20</td>\n",
       "      <td>POLYGON ((459676.680 94000.000, 459672.469 939...</td>\n",
       "    </tr>\n",
       "    <tr>\n",
       "      <th>9826</th>\n",
       "      <td>6245987.0</td>\n",
       "      <td>2000</td>\n",
       "      <td>2019-03-11</td>\n",
       "      <td>POLYGON ((459690.580 94042.607, 459686.872 940...</td>\n",
       "    </tr>\n",
       "  </tbody>\n",
       "</table>\n",
       "<p>9827 rows × 4 columns</p>\n",
       "</div>"
      ],
      "text/plain": [
       "       RABA_PID  RABA_ID        D_OD  \\\n",
       "0     4770326.0     1410  2019-03-26   \n",
       "1     4770325.0     1300  2019-03-26   \n",
       "2     2305689.0     7000  2019-02-25   \n",
       "3     2305596.0     1100  2019-02-25   \n",
       "4     2310160.0     1100  2019-03-11   \n",
       "...         ...      ...         ...   \n",
       "9822  6253989.0     1600  2019-03-08   \n",
       "9823  6252044.0     1600  2019-03-26   \n",
       "9824  6245985.0     2000  2019-04-08   \n",
       "9825  6245986.0     2000  2019-02-20   \n",
       "9826  6245987.0     2000  2019-03-11   \n",
       "\n",
       "                                               geometry  \n",
       "0     POLYGON ((453952.629 91124.177, 453952.696 911...  \n",
       "1     POLYGON ((453810.376 91150.199, 453812.552 911...  \n",
       "2     POLYGON ((456099.635 97696.070, 456112.810 976...  \n",
       "3     POLYGON ((455929.405 97963.785, 455933.284 979...  \n",
       "4     POLYGON ((461561.512 96119.256, 461632.114 960...  \n",
       "...                                                 ...  \n",
       "9822  POLYGON ((460637.334 96865.891, 460647.927 969...  \n",
       "9823  POLYGON ((459467.868 96839.686, 459467.770 968...  \n",
       "9824  POLYGON ((459488.998 94066.248, 459498.145 940...  \n",
       "9825  POLYGON ((459676.680 94000.000, 459672.469 939...  \n",
       "9826  POLYGON ((459690.580 94042.607, 459686.872 940...  \n",
       "\n",
       "[9827 rows x 4 columns]"
      ]
     },
     "execution_count": 10,
     "metadata": {},
     "output_type": "execute_result"
    }
   ],
   "source": [
    "import geopandas\n",
    "import os\n",
    "gdf = geopandas.read_file(os.path.expanduser(\"~/.shared/notebooks/getting-started/data/sample/land_use.shp\"))\n",
    "gdf"
   ]
  },
  {
   "cell_type": "code",
   "execution_count": 11,
   "metadata": {
    "execution": {
     "iopub.execute_input": "2020-07-13T12:52:29.596875Z",
     "iopub.status.busy": "2020-07-13T12:52:29.595880Z",
     "iopub.status.idle": "2020-07-13T12:52:33.028995Z",
     "shell.execute_reply": "2020-07-13T12:52:33.028273Z"
    },
    "papermill": {
     "duration": 3.465778,
     "end_time": "2020-07-13T12:52:33.029127",
     "exception": false,
     "start_time": "2020-07-13T12:52:29.563349",
     "status": "completed"
    },
    "tags": []
   },
   "outputs": [
    {
     "data": {
      "text/plain": [
       "Data inserted into land_use"
      ]
     },
     "execution_count": 11,
     "metadata": {},
     "output_type": "execute_result"
    }
   ],
   "source": [
    "geodb.insert_into_collection('land_use', gdf)"
   ]
  },
  {
   "cell_type": "code",
   "execution_count": 12,
   "metadata": {
    "execution": {
     "iopub.execute_input": "2020-07-13T12:52:33.089248Z",
     "iopub.status.busy": "2020-07-13T12:52:33.088243Z",
     "iopub.status.idle": "2020-07-13T12:52:33.564088Z",
     "shell.execute_reply": "2020-07-13T12:52:33.563387Z"
    },
    "papermill": {
     "duration": 0.509052,
     "end_time": "2020-07-13T12:52:33.564226",
     "exception": false,
     "start_time": "2020-07-13T12:52:33.055174",
     "status": "completed"
    },
    "tags": []
   },
   "outputs": [
    {
     "data": {
      "text/html": [
       "<div>\n",
       "<style scoped>\n",
       "    .dataframe tbody tr th:only-of-type {\n",
       "        vertical-align: middle;\n",
       "    }\n",
       "\n",
       "    .dataframe tbody tr th {\n",
       "        vertical-align: top;\n",
       "    }\n",
       "\n",
       "    .dataframe thead th {\n",
       "        text-align: right;\n",
       "    }\n",
       "</style>\n",
       "<table border=\"1\" class=\"dataframe\">\n",
       "  <thead>\n",
       "    <tr style=\"text-align: right;\">\n",
       "      <th></th>\n",
       "      <th>id</th>\n",
       "      <th>created_at</th>\n",
       "      <th>modified_at</th>\n",
       "      <th>geometry</th>\n",
       "      <th>raba_pid</th>\n",
       "      <th>raba_id</th>\n",
       "      <th>d_od</th>\n",
       "    </tr>\n",
       "  </thead>\n",
       "  <tbody>\n",
       "    <tr>\n",
       "      <th>0</th>\n",
       "      <td>3</td>\n",
       "      <td>2020-07-13T12:52:31.864886+00:00</td>\n",
       "      <td>None</td>\n",
       "      <td>POLYGON ((456099.635 97696.070, 456112.810 976...</td>\n",
       "      <td>2305689</td>\n",
       "      <td>7000</td>\n",
       "      <td>2019-02-25</td>\n",
       "    </tr>\n",
       "    <tr>\n",
       "      <th>1</th>\n",
       "      <td>26</td>\n",
       "      <td>2020-07-13T12:52:31.864886+00:00</td>\n",
       "      <td>None</td>\n",
       "      <td>POLYGON ((459898.930 100306.841, 459906.288 10...</td>\n",
       "      <td>2301992</td>\n",
       "      <td>7000</td>\n",
       "      <td>2019-04-06</td>\n",
       "    </tr>\n",
       "    <tr>\n",
       "      <th>2</th>\n",
       "      <td>95</td>\n",
       "      <td>2020-07-13T12:52:31.864886+00:00</td>\n",
       "      <td>None</td>\n",
       "      <td>POLYGON ((459591.248 92619.056, 459592.745 926...</td>\n",
       "      <td>2333229</td>\n",
       "      <td>7000</td>\n",
       "      <td>2019-02-20</td>\n",
       "    </tr>\n",
       "    <tr>\n",
       "      <th>3</th>\n",
       "      <td>115</td>\n",
       "      <td>2020-07-13T12:52:31.864886+00:00</td>\n",
       "      <td>None</td>\n",
       "      <td>POLYGON ((459013.303 100354.458, 459022.756 10...</td>\n",
       "      <td>2336738</td>\n",
       "      <td>7000</td>\n",
       "      <td>2019-03-15</td>\n",
       "    </tr>\n",
       "    <tr>\n",
       "      <th>4</th>\n",
       "      <td>129</td>\n",
       "      <td>2020-07-13T12:52:31.864886+00:00</td>\n",
       "      <td>None</td>\n",
       "      <td>POLYGON ((460851.200 93442.039, 460846.405 934...</td>\n",
       "      <td>6292562</td>\n",
       "      <td>7000</td>\n",
       "      <td>2019-02-21</td>\n",
       "    </tr>\n",
       "    <tr>\n",
       "      <th>...</th>\n",
       "      <td>...</td>\n",
       "      <td>...</td>\n",
       "      <td>...</td>\n",
       "      <td>...</td>\n",
       "      <td>...</td>\n",
       "      <td>...</td>\n",
       "      <td>...</td>\n",
       "    </tr>\n",
       "    <tr>\n",
       "      <th>379</th>\n",
       "      <td>9419</td>\n",
       "      <td>2020-07-13T12:52:31.864886+00:00</td>\n",
       "      <td>None</td>\n",
       "      <td>POLYGON ((456523.670 94000.000, 456550.368 939...</td>\n",
       "      <td>6187993</td>\n",
       "      <td>7000</td>\n",
       "      <td>2019-03-13</td>\n",
       "    </tr>\n",
       "    <tr>\n",
       "      <th>380</th>\n",
       "      <td>9546</td>\n",
       "      <td>2020-07-13T12:52:31.864886+00:00</td>\n",
       "      <td>None</td>\n",
       "      <td>POLYGON ((460793.279 94000.000, 460797.466 939...</td>\n",
       "      <td>6219403</td>\n",
       "      <td>7000</td>\n",
       "      <td>2019-02-21</td>\n",
       "    </tr>\n",
       "    <tr>\n",
       "      <th>381</th>\n",
       "      <td>9560</td>\n",
       "      <td>2020-07-13T12:52:31.864886+00:00</td>\n",
       "      <td>None</td>\n",
       "      <td>POLYGON ((461750.000 98434.292, 461750.000 984...</td>\n",
       "      <td>6219602</td>\n",
       "      <td>7000</td>\n",
       "      <td>2019-03-20</td>\n",
       "    </tr>\n",
       "    <tr>\n",
       "      <th>382</th>\n",
       "      <td>9624</td>\n",
       "      <td>2020-07-13T12:52:31.864886+00:00</td>\n",
       "      <td>None</td>\n",
       "      <td>POLYGON ((463628.912 97501.218, 463636.859 975...</td>\n",
       "      <td>6215237</td>\n",
       "      <td>7000</td>\n",
       "      <td>2019-03-20</td>\n",
       "    </tr>\n",
       "    <tr>\n",
       "      <th>383</th>\n",
       "      <td>9644</td>\n",
       "      <td>2020-07-13T12:52:31.864886+00:00</td>\n",
       "      <td>None</td>\n",
       "      <td>POLYGON ((462450.205 94000.000, 462457.333 940...</td>\n",
       "      <td>6213419</td>\n",
       "      <td>7000</td>\n",
       "      <td>2019-03-21</td>\n",
       "    </tr>\n",
       "  </tbody>\n",
       "</table>\n",
       "<p>384 rows × 7 columns</p>\n",
       "</div>"
      ],
      "text/plain": [
       "       id                        created_at modified_at  \\\n",
       "0       3  2020-07-13T12:52:31.864886+00:00        None   \n",
       "1      26  2020-07-13T12:52:31.864886+00:00        None   \n",
       "2      95  2020-07-13T12:52:31.864886+00:00        None   \n",
       "3     115  2020-07-13T12:52:31.864886+00:00        None   \n",
       "4     129  2020-07-13T12:52:31.864886+00:00        None   \n",
       "..    ...                               ...         ...   \n",
       "379  9419  2020-07-13T12:52:31.864886+00:00        None   \n",
       "380  9546  2020-07-13T12:52:31.864886+00:00        None   \n",
       "381  9560  2020-07-13T12:52:31.864886+00:00        None   \n",
       "382  9624  2020-07-13T12:52:31.864886+00:00        None   \n",
       "383  9644  2020-07-13T12:52:31.864886+00:00        None   \n",
       "\n",
       "                                              geometry  raba_pid  raba_id  \\\n",
       "0    POLYGON ((456099.635 97696.070, 456112.810 976...   2305689     7000   \n",
       "1    POLYGON ((459898.930 100306.841, 459906.288 10...   2301992     7000   \n",
       "2    POLYGON ((459591.248 92619.056, 459592.745 926...   2333229     7000   \n",
       "3    POLYGON ((459013.303 100354.458, 459022.756 10...   2336738     7000   \n",
       "4    POLYGON ((460851.200 93442.039, 460846.405 934...   6292562     7000   \n",
       "..                                                 ...       ...      ...   \n",
       "379  POLYGON ((456523.670 94000.000, 456550.368 939...   6187993     7000   \n",
       "380  POLYGON ((460793.279 94000.000, 460797.466 939...   6219403     7000   \n",
       "381  POLYGON ((461750.000 98434.292, 461750.000 984...   6219602     7000   \n",
       "382  POLYGON ((463628.912 97501.218, 463636.859 975...   6215237     7000   \n",
       "383  POLYGON ((462450.205 94000.000, 462457.333 940...   6213419     7000   \n",
       "\n",
       "           d_od  \n",
       "0    2019-02-25  \n",
       "1    2019-04-06  \n",
       "2    2019-02-20  \n",
       "3    2019-03-15  \n",
       "4    2019-02-21  \n",
       "..          ...  \n",
       "379  2019-03-13  \n",
       "380  2019-02-21  \n",
       "381  2019-03-20  \n",
       "382  2019-03-20  \n",
       "383  2019-03-21  \n",
       "\n",
       "[384 rows x 7 columns]"
      ]
     },
     "execution_count": 12,
     "metadata": {},
     "output_type": "execute_result"
    }
   ],
   "source": [
    "geodb.get_collection('land_use', query=\"raba_id=eq.7000\")"
   ]
  },
  {
   "cell_type": "markdown",
   "metadata": {
    "papermill": {
     "duration": 0.02709,
     "end_time": "2020-07-13T12:52:33.619229",
     "exception": false,
     "start_time": "2020-07-13T12:52:33.592139",
     "status": "completed"
    },
    "tags": []
   },
   "source": [
    "### Delete from a Collection"
   ]
  },
  {
   "cell_type": "code",
   "execution_count": 13,
   "metadata": {
    "execution": {
     "iopub.execute_input": "2020-07-13T12:52:33.680858Z",
     "iopub.status.busy": "2020-07-13T12:52:33.680078Z",
     "iopub.status.idle": "2020-07-13T12:52:34.060266Z",
     "shell.execute_reply": "2020-07-13T12:52:34.059604Z"
    },
    "papermill": {
     "duration": 0.414559,
     "end_time": "2020-07-13T12:52:34.060370",
     "exception": false,
     "start_time": "2020-07-13T12:52:33.645811",
     "status": "completed"
    },
    "tags": []
   },
   "outputs": [
    {
     "data": {
      "text/plain": [
       "Data from land_use deleted"
      ]
     },
     "execution_count": 13,
     "metadata": {},
     "output_type": "execute_result"
    }
   ],
   "source": [
    "geodb.delete_from_collection('land_use', query=\"raba_id=eq.7000\")"
   ]
  },
  {
   "cell_type": "code",
   "execution_count": 14,
   "metadata": {
    "execution": {
     "iopub.execute_input": "2020-07-13T12:52:34.124001Z",
     "iopub.status.busy": "2020-07-13T12:52:34.122938Z",
     "iopub.status.idle": "2020-07-13T12:52:34.542183Z",
     "shell.execute_reply": "2020-07-13T12:52:34.541416Z"
    },
    "papermill": {
     "duration": 0.455123,
     "end_time": "2020-07-13T12:52:34.542343",
     "exception": false,
     "start_time": "2020-07-13T12:52:34.087220",
     "status": "completed"
    },
    "tags": []
   },
   "outputs": [
    {
     "data": {
      "text/html": [
       "<div>\n",
       "<style scoped>\n",
       "    .dataframe tbody tr th:only-of-type {\n",
       "        vertical-align: middle;\n",
       "    }\n",
       "\n",
       "    .dataframe tbody tr th {\n",
       "        vertical-align: top;\n",
       "    }\n",
       "\n",
       "    .dataframe thead th {\n",
       "        text-align: right;\n",
       "    }\n",
       "</style>\n",
       "<table border=\"1\" class=\"dataframe\">\n",
       "  <thead>\n",
       "    <tr style=\"text-align: right;\">\n",
       "      <th></th>\n",
       "      <th>Empty Result</th>\n",
       "    </tr>\n",
       "  </thead>\n",
       "  <tbody>\n",
       "  </tbody>\n",
       "</table>\n",
       "</div>"
      ],
      "text/plain": [
       "Empty DataFrame\n",
       "Columns: [Empty Result]\n",
       "Index: []"
      ]
     },
     "execution_count": 14,
     "metadata": {},
     "output_type": "execute_result"
    }
   ],
   "source": [
    "geodb.get_collection('land_use', query=\"raba_id=eq.7000\")"
   ]
  },
  {
   "cell_type": "markdown",
   "metadata": {
    "papermill": {
     "duration": 0.027451,
     "end_time": "2020-07-13T12:52:34.596904",
     "exception": false,
     "start_time": "2020-07-13T12:52:34.569453",
     "status": "completed"
    },
    "tags": []
   },
   "source": [
    "### Updating a Collection"
   ]
  },
  {
   "cell_type": "code",
   "execution_count": 15,
   "metadata": {
    "execution": {
     "iopub.execute_input": "2020-07-13T12:52:34.658869Z",
     "iopub.status.busy": "2020-07-13T12:52:34.658048Z",
     "iopub.status.idle": "2020-07-13T12:52:35.127750Z",
     "shell.execute_reply": "2020-07-13T12:52:35.127140Z"
    },
    "papermill": {
     "duration": 0.503178,
     "end_time": "2020-07-13T12:52:35.127855",
     "exception": false,
     "start_time": "2020-07-13T12:52:34.624677",
     "status": "completed"
    },
    "tags": []
   },
   "outputs": [
    {
     "data": {
      "text/html": [
       "<div>\n",
       "<style scoped>\n",
       "    .dataframe tbody tr th:only-of-type {\n",
       "        vertical-align: middle;\n",
       "    }\n",
       "\n",
       "    .dataframe tbody tr th {\n",
       "        vertical-align: top;\n",
       "    }\n",
       "\n",
       "    .dataframe thead th {\n",
       "        text-align: right;\n",
       "    }\n",
       "</style>\n",
       "<table border=\"1\" class=\"dataframe\">\n",
       "  <thead>\n",
       "    <tr style=\"text-align: right;\">\n",
       "      <th></th>\n",
       "      <th>id</th>\n",
       "      <th>created_at</th>\n",
       "      <th>modified_at</th>\n",
       "      <th>geometry</th>\n",
       "      <th>raba_pid</th>\n",
       "      <th>raba_id</th>\n",
       "      <th>d_od</th>\n",
       "    </tr>\n",
       "  </thead>\n",
       "  <tbody>\n",
       "    <tr>\n",
       "      <th>0</th>\n",
       "      <td>2</td>\n",
       "      <td>2020-07-13T12:52:31.864886+00:00</td>\n",
       "      <td>None</td>\n",
       "      <td>POLYGON ((453810.376 91150.199, 453812.552 911...</td>\n",
       "      <td>4770325</td>\n",
       "      <td>1300</td>\n",
       "      <td>2019-03-26</td>\n",
       "    </tr>\n",
       "    <tr>\n",
       "      <th>1</th>\n",
       "      <td>10</td>\n",
       "      <td>2020-07-13T12:52:31.864886+00:00</td>\n",
       "      <td>None</td>\n",
       "      <td>POLYGON ((456547.427 91543.640, 456544.255 915...</td>\n",
       "      <td>2318555</td>\n",
       "      <td>1300</td>\n",
       "      <td>2019-03-14</td>\n",
       "    </tr>\n",
       "    <tr>\n",
       "      <th>2</th>\n",
       "      <td>63</td>\n",
       "      <td>2020-07-13T12:52:31.864886+00:00</td>\n",
       "      <td>None</td>\n",
       "      <td>POLYGON ((456201.531 98685.274, 456199.109 986...</td>\n",
       "      <td>2304287</td>\n",
       "      <td>1300</td>\n",
       "      <td>2019-02-25</td>\n",
       "    </tr>\n",
       "    <tr>\n",
       "      <th>3</th>\n",
       "      <td>86</td>\n",
       "      <td>2020-07-13T12:52:31.864886+00:00</td>\n",
       "      <td>None</td>\n",
       "      <td>POLYGON ((454709.766 97354.278, 454704.878 973...</td>\n",
       "      <td>2331038</td>\n",
       "      <td>1300</td>\n",
       "      <td>2019-01-05</td>\n",
       "    </tr>\n",
       "    <tr>\n",
       "      <th>4</th>\n",
       "      <td>87</td>\n",
       "      <td>2020-07-13T12:52:31.864886+00:00</td>\n",
       "      <td>None</td>\n",
       "      <td>POLYGON ((453820.737 98574.017, 453816.740 985...</td>\n",
       "      <td>2357574</td>\n",
       "      <td>1300</td>\n",
       "      <td>2019-01-16</td>\n",
       "    </tr>\n",
       "    <tr>\n",
       "      <th>...</th>\n",
       "      <td>...</td>\n",
       "      <td>...</td>\n",
       "      <td>...</td>\n",
       "      <td>...</td>\n",
       "      <td>...</td>\n",
       "      <td>...</td>\n",
       "      <td>...</td>\n",
       "    </tr>\n",
       "    <tr>\n",
       "      <th>890</th>\n",
       "      <td>9766</td>\n",
       "      <td>2020-07-13T12:52:31.864886+00:00</td>\n",
       "      <td>None</td>\n",
       "      <td>POLYGON ((458247.583 99746.065, 458245.202 997...</td>\n",
       "      <td>6268059</td>\n",
       "      <td>1300</td>\n",
       "      <td>2019-03-04</td>\n",
       "    </tr>\n",
       "    <tr>\n",
       "      <th>891</th>\n",
       "      <td>9767</td>\n",
       "      <td>2020-07-13T12:52:31.864886+00:00</td>\n",
       "      <td>None</td>\n",
       "      <td>POLYGON ((461932.283 90520.703, 461931.619 905...</td>\n",
       "      <td>6263561</td>\n",
       "      <td>1300</td>\n",
       "      <td>2019-04-01</td>\n",
       "    </tr>\n",
       "    <tr>\n",
       "      <th>892</th>\n",
       "      <td>9798</td>\n",
       "      <td>2020-07-13T12:52:31.864886+00:00</td>\n",
       "      <td>None</td>\n",
       "      <td>POLYGON ((457231.170 90902.256, 457234.861 909...</td>\n",
       "      <td>6264862</td>\n",
       "      <td>1300</td>\n",
       "      <td>2019-01-05</td>\n",
       "    </tr>\n",
       "    <tr>\n",
       "      <th>893</th>\n",
       "      <td>9799</td>\n",
       "      <td>2020-07-13T12:52:31.864886+00:00</td>\n",
       "      <td>None</td>\n",
       "      <td>POLYGON ((461378.845 91124.318, 461490.224 911...</td>\n",
       "      <td>6264865</td>\n",
       "      <td>1300</td>\n",
       "      <td>2019-02-21</td>\n",
       "    </tr>\n",
       "    <tr>\n",
       "      <th>894</th>\n",
       "      <td>9821</td>\n",
       "      <td>2020-07-13T12:52:31.864886+00:00</td>\n",
       "      <td>None</td>\n",
       "      <td>POLYGON ((457450.306 97213.244, 457490.521 972...</td>\n",
       "      <td>6263915</td>\n",
       "      <td>1300</td>\n",
       "      <td>2019-01-05</td>\n",
       "    </tr>\n",
       "  </tbody>\n",
       "</table>\n",
       "<p>895 rows × 7 columns</p>\n",
       "</div>"
      ],
      "text/plain": [
       "       id                        created_at modified_at  \\\n",
       "0       2  2020-07-13T12:52:31.864886+00:00        None   \n",
       "1      10  2020-07-13T12:52:31.864886+00:00        None   \n",
       "2      63  2020-07-13T12:52:31.864886+00:00        None   \n",
       "3      86  2020-07-13T12:52:31.864886+00:00        None   \n",
       "4      87  2020-07-13T12:52:31.864886+00:00        None   \n",
       "..    ...                               ...         ...   \n",
       "890  9766  2020-07-13T12:52:31.864886+00:00        None   \n",
       "891  9767  2020-07-13T12:52:31.864886+00:00        None   \n",
       "892  9798  2020-07-13T12:52:31.864886+00:00        None   \n",
       "893  9799  2020-07-13T12:52:31.864886+00:00        None   \n",
       "894  9821  2020-07-13T12:52:31.864886+00:00        None   \n",
       "\n",
       "                                              geometry  raba_pid  raba_id  \\\n",
       "0    POLYGON ((453810.376 91150.199, 453812.552 911...   4770325     1300   \n",
       "1    POLYGON ((456547.427 91543.640, 456544.255 915...   2318555     1300   \n",
       "2    POLYGON ((456201.531 98685.274, 456199.109 986...   2304287     1300   \n",
       "3    POLYGON ((454709.766 97354.278, 454704.878 973...   2331038     1300   \n",
       "4    POLYGON ((453820.737 98574.017, 453816.740 985...   2357574     1300   \n",
       "..                                                 ...       ...      ...   \n",
       "890  POLYGON ((458247.583 99746.065, 458245.202 997...   6268059     1300   \n",
       "891  POLYGON ((461932.283 90520.703, 461931.619 905...   6263561     1300   \n",
       "892  POLYGON ((457231.170 90902.256, 457234.861 909...   6264862     1300   \n",
       "893  POLYGON ((461378.845 91124.318, 461490.224 911...   6264865     1300   \n",
       "894  POLYGON ((457450.306 97213.244, 457490.521 972...   6263915     1300   \n",
       "\n",
       "           d_od  \n",
       "0    2019-03-26  \n",
       "1    2019-03-14  \n",
       "2    2019-02-25  \n",
       "3    2019-01-05  \n",
       "4    2019-01-16  \n",
       "..          ...  \n",
       "890  2019-03-04  \n",
       "891  2019-04-01  \n",
       "892  2019-01-05  \n",
       "893  2019-02-21  \n",
       "894  2019-01-05  \n",
       "\n",
       "[895 rows x 7 columns]"
      ]
     },
     "execution_count": 15,
     "metadata": {},
     "output_type": "execute_result"
    }
   ],
   "source": [
    "geodb.get_collection('land_use', query=\"raba_id=eq.1300\")"
   ]
  },
  {
   "cell_type": "code",
   "execution_count": 16,
   "metadata": {
    "execution": {
     "iopub.execute_input": "2020-07-13T12:52:35.193160Z",
     "iopub.status.busy": "2020-07-13T12:52:35.192315Z",
     "iopub.status.idle": "2020-07-13T12:52:35.941511Z",
     "shell.execute_reply": "2020-07-13T12:52:35.940766Z"
    },
    "papermill": {
     "duration": 0.784991,
     "end_time": "2020-07-13T12:52:35.941673",
     "exception": false,
     "start_time": "2020-07-13T12:52:35.156682",
     "status": "completed"
    },
    "tags": []
   },
   "outputs": [
    {
     "data": {
      "text/plain": [
       "land_use updated"
      ]
     },
     "execution_count": 16,
     "metadata": {},
     "output_type": "execute_result"
    }
   ],
   "source": [
    "geodb.update_collection('land_use', query=\"raba_id=eq.1300\", values={'d_od': '2000-01-01'})"
   ]
  },
  {
   "cell_type": "code",
   "execution_count": 17,
   "metadata": {
    "execution": {
     "iopub.execute_input": "2020-07-13T12:52:36.012127Z",
     "iopub.status.busy": "2020-07-13T12:52:36.010972Z",
     "iopub.status.idle": "2020-07-13T12:52:36.473796Z",
     "shell.execute_reply": "2020-07-13T12:52:36.473085Z"
    },
    "papermill": {
     "duration": 0.503029,
     "end_time": "2020-07-13T12:52:36.473896",
     "exception": false,
     "start_time": "2020-07-13T12:52:35.970867",
     "status": "completed"
    },
    "tags": []
   },
   "outputs": [
    {
     "data": {
      "text/html": [
       "<div>\n",
       "<style scoped>\n",
       "    .dataframe tbody tr th:only-of-type {\n",
       "        vertical-align: middle;\n",
       "    }\n",
       "\n",
       "    .dataframe tbody tr th {\n",
       "        vertical-align: top;\n",
       "    }\n",
       "\n",
       "    .dataframe thead th {\n",
       "        text-align: right;\n",
       "    }\n",
       "</style>\n",
       "<table border=\"1\" class=\"dataframe\">\n",
       "  <thead>\n",
       "    <tr style=\"text-align: right;\">\n",
       "      <th></th>\n",
       "      <th>id</th>\n",
       "      <th>created_at</th>\n",
       "      <th>modified_at</th>\n",
       "      <th>geometry</th>\n",
       "      <th>raba_pid</th>\n",
       "      <th>raba_id</th>\n",
       "      <th>d_od</th>\n",
       "    </tr>\n",
       "  </thead>\n",
       "  <tbody>\n",
       "    <tr>\n",
       "      <th>0</th>\n",
       "      <td>10</td>\n",
       "      <td>2020-07-13T12:52:31.864886+00:00</td>\n",
       "      <td>2020-07-13T12:52:35.856905+00:00</td>\n",
       "      <td>POLYGON ((456547.427 91543.640, 456544.255 915...</td>\n",
       "      <td>2318555</td>\n",
       "      <td>1300</td>\n",
       "      <td>2000-01-01</td>\n",
       "    </tr>\n",
       "    <tr>\n",
       "      <th>1</th>\n",
       "      <td>103</td>\n",
       "      <td>2020-07-13T12:52:31.864886+00:00</td>\n",
       "      <td>2020-07-13T12:52:35.856905+00:00</td>\n",
       "      <td>POLYGON ((456100.880 96973.323, 456111.084 969...</td>\n",
       "      <td>2332420</td>\n",
       "      <td>1300</td>\n",
       "      <td>2000-01-01</td>\n",
       "    </tr>\n",
       "    <tr>\n",
       "      <th>2</th>\n",
       "      <td>108</td>\n",
       "      <td>2020-07-13T12:52:31.864886+00:00</td>\n",
       "      <td>2020-07-13T12:52:35.856905+00:00</td>\n",
       "      <td>POLYGON ((454070.991 90528.946, 454064.259 905...</td>\n",
       "      <td>4674624</td>\n",
       "      <td>1300</td>\n",
       "      <td>2000-01-01</td>\n",
       "    </tr>\n",
       "    <tr>\n",
       "      <th>3</th>\n",
       "      <td>117</td>\n",
       "      <td>2020-07-13T12:52:31.864886+00:00</td>\n",
       "      <td>2020-07-13T12:52:35.856905+00:00</td>\n",
       "      <td>POLYGON ((454637.692 96679.827, 454630.584 966...</td>\n",
       "      <td>2336101</td>\n",
       "      <td>1300</td>\n",
       "      <td>2000-01-01</td>\n",
       "    </tr>\n",
       "    <tr>\n",
       "      <th>4</th>\n",
       "      <td>136</td>\n",
       "      <td>2020-07-13T12:52:31.864886+00:00</td>\n",
       "      <td>2020-07-13T12:52:35.856905+00:00</td>\n",
       "      <td>POLYGON ((462781.112 100486.430, 462803.178 10...</td>\n",
       "      <td>2334416</td>\n",
       "      <td>1300</td>\n",
       "      <td>2000-01-01</td>\n",
       "    </tr>\n",
       "    <tr>\n",
       "      <th>...</th>\n",
       "      <td>...</td>\n",
       "      <td>...</td>\n",
       "      <td>...</td>\n",
       "      <td>...</td>\n",
       "      <td>...</td>\n",
       "      <td>...</td>\n",
       "      <td>...</td>\n",
       "    </tr>\n",
       "    <tr>\n",
       "      <th>890</th>\n",
       "      <td>9765</td>\n",
       "      <td>2020-07-13T12:52:31.864886+00:00</td>\n",
       "      <td>2020-07-13T12:52:35.856905+00:00</td>\n",
       "      <td>POLYGON ((458304.555 100146.103, 458306.726 10...</td>\n",
       "      <td>6268058</td>\n",
       "      <td>1300</td>\n",
       "      <td>2000-01-01</td>\n",
       "    </tr>\n",
       "    <tr>\n",
       "      <th>891</th>\n",
       "      <td>9766</td>\n",
       "      <td>2020-07-13T12:52:31.864886+00:00</td>\n",
       "      <td>2020-07-13T12:52:35.856905+00:00</td>\n",
       "      <td>POLYGON ((458247.583 99746.065, 458245.202 997...</td>\n",
       "      <td>6268059</td>\n",
       "      <td>1300</td>\n",
       "      <td>2000-01-01</td>\n",
       "    </tr>\n",
       "    <tr>\n",
       "      <th>892</th>\n",
       "      <td>9767</td>\n",
       "      <td>2020-07-13T12:52:31.864886+00:00</td>\n",
       "      <td>2020-07-13T12:52:35.856905+00:00</td>\n",
       "      <td>POLYGON ((461932.283 90520.703, 461931.619 905...</td>\n",
       "      <td>6263561</td>\n",
       "      <td>1300</td>\n",
       "      <td>2000-01-01</td>\n",
       "    </tr>\n",
       "    <tr>\n",
       "      <th>893</th>\n",
       "      <td>9798</td>\n",
       "      <td>2020-07-13T12:52:31.864886+00:00</td>\n",
       "      <td>2020-07-13T12:52:35.856905+00:00</td>\n",
       "      <td>POLYGON ((457231.170 90902.256, 457234.861 909...</td>\n",
       "      <td>6264862</td>\n",
       "      <td>1300</td>\n",
       "      <td>2000-01-01</td>\n",
       "    </tr>\n",
       "    <tr>\n",
       "      <th>894</th>\n",
       "      <td>9799</td>\n",
       "      <td>2020-07-13T12:52:31.864886+00:00</td>\n",
       "      <td>2020-07-13T12:52:35.856905+00:00</td>\n",
       "      <td>POLYGON ((461378.845 91124.318, 461490.224 911...</td>\n",
       "      <td>6264865</td>\n",
       "      <td>1300</td>\n",
       "      <td>2000-01-01</td>\n",
       "    </tr>\n",
       "  </tbody>\n",
       "</table>\n",
       "<p>895 rows × 7 columns</p>\n",
       "</div>"
      ],
      "text/plain": [
       "       id                        created_at                       modified_at  \\\n",
       "0      10  2020-07-13T12:52:31.864886+00:00  2020-07-13T12:52:35.856905+00:00   \n",
       "1     103  2020-07-13T12:52:31.864886+00:00  2020-07-13T12:52:35.856905+00:00   \n",
       "2     108  2020-07-13T12:52:31.864886+00:00  2020-07-13T12:52:35.856905+00:00   \n",
       "3     117  2020-07-13T12:52:31.864886+00:00  2020-07-13T12:52:35.856905+00:00   \n",
       "4     136  2020-07-13T12:52:31.864886+00:00  2020-07-13T12:52:35.856905+00:00   \n",
       "..    ...                               ...                               ...   \n",
       "890  9765  2020-07-13T12:52:31.864886+00:00  2020-07-13T12:52:35.856905+00:00   \n",
       "891  9766  2020-07-13T12:52:31.864886+00:00  2020-07-13T12:52:35.856905+00:00   \n",
       "892  9767  2020-07-13T12:52:31.864886+00:00  2020-07-13T12:52:35.856905+00:00   \n",
       "893  9798  2020-07-13T12:52:31.864886+00:00  2020-07-13T12:52:35.856905+00:00   \n",
       "894  9799  2020-07-13T12:52:31.864886+00:00  2020-07-13T12:52:35.856905+00:00   \n",
       "\n",
       "                                              geometry  raba_pid  raba_id  \\\n",
       "0    POLYGON ((456547.427 91543.640, 456544.255 915...   2318555     1300   \n",
       "1    POLYGON ((456100.880 96973.323, 456111.084 969...   2332420     1300   \n",
       "2    POLYGON ((454070.991 90528.946, 454064.259 905...   4674624     1300   \n",
       "3    POLYGON ((454637.692 96679.827, 454630.584 966...   2336101     1300   \n",
       "4    POLYGON ((462781.112 100486.430, 462803.178 10...   2334416     1300   \n",
       "..                                                 ...       ...      ...   \n",
       "890  POLYGON ((458304.555 100146.103, 458306.726 10...   6268058     1300   \n",
       "891  POLYGON ((458247.583 99746.065, 458245.202 997...   6268059     1300   \n",
       "892  POLYGON ((461932.283 90520.703, 461931.619 905...   6263561     1300   \n",
       "893  POLYGON ((457231.170 90902.256, 457234.861 909...   6264862     1300   \n",
       "894  POLYGON ((461378.845 91124.318, 461490.224 911...   6264865     1300   \n",
       "\n",
       "           d_od  \n",
       "0    2000-01-01  \n",
       "1    2000-01-01  \n",
       "2    2000-01-01  \n",
       "3    2000-01-01  \n",
       "4    2000-01-01  \n",
       "..          ...  \n",
       "890  2000-01-01  \n",
       "891  2000-01-01  \n",
       "892  2000-01-01  \n",
       "893  2000-01-01  \n",
       "894  2000-01-01  \n",
       "\n",
       "[895 rows x 7 columns]"
      ]
     },
     "execution_count": 17,
     "metadata": {},
     "output_type": "execute_result"
    }
   ],
   "source": [
    "geodb.get_collection('land_use', query=\"raba_id=eq.1300\")"
   ]
  },
  {
   "cell_type": "markdown",
   "metadata": {
    "papermill": {
     "duration": 0.03805,
     "end_time": "2020-07-13T12:52:36.542962",
     "exception": false,
     "start_time": "2020-07-13T12:52:36.504912",
     "status": "completed"
    },
    "tags": []
   },
   "source": [
    "### Managing Properties of a Collection"
   ]
  },
  {
   "cell_type": "code",
   "execution_count": 18,
   "metadata": {
    "execution": {
     "iopub.execute_input": "2020-07-13T12:52:36.609504Z",
     "iopub.status.busy": "2020-07-13T12:52:36.605855Z",
     "iopub.status.idle": "2020-07-13T12:52:36.711178Z",
     "shell.execute_reply": "2020-07-13T12:52:36.710447Z"
    },
    "papermill": {
     "duration": 0.137196,
     "end_time": "2020-07-13T12:52:36.711283",
     "exception": false,
     "start_time": "2020-07-13T12:52:36.574087",
     "status": "completed"
    },
    "tags": []
   },
   "outputs": [
    {
     "data": {
      "text/html": [
       "<div>\n",
       "<style scoped>\n",
       "    .dataframe tbody tr th:only-of-type {\n",
       "        vertical-align: middle;\n",
       "    }\n",
       "\n",
       "    .dataframe tbody tr th {\n",
       "        vertical-align: top;\n",
       "    }\n",
       "\n",
       "    .dataframe thead th {\n",
       "        text-align: right;\n",
       "    }\n",
       "</style>\n",
       "<table border=\"1\" class=\"dataframe\">\n",
       "  <thead>\n",
       "    <tr style=\"text-align: right;\">\n",
       "      <th></th>\n",
       "      <th>table_name</th>\n",
       "    </tr>\n",
       "  </thead>\n",
       "  <tbody>\n",
       "    <tr>\n",
       "      <th>0</th>\n",
       "      <td>land_use</td>\n",
       "    </tr>\n",
       "  </tbody>\n",
       "</table>\n",
       "</div>"
      ],
      "text/plain": [
       "  table_name\n",
       "0   land_use"
      ]
     },
     "execution_count": 18,
     "metadata": {},
     "output_type": "execute_result"
    }
   ],
   "source": [
    "geodb.get_collections()"
   ]
  },
  {
   "cell_type": "code",
   "execution_count": 19,
   "metadata": {
    "execution": {
     "iopub.execute_input": "2020-07-13T12:52:36.777452Z",
     "iopub.status.busy": "2020-07-13T12:52:36.776712Z",
     "iopub.status.idle": "2020-07-13T12:52:37.034898Z",
     "shell.execute_reply": "2020-07-13T12:52:37.035577Z"
    },
    "papermill": {
     "duration": 0.295616,
     "end_time": "2020-07-13T12:52:37.035713",
     "exception": false,
     "start_time": "2020-07-13T12:52:36.740097",
     "status": "completed"
    },
    "tags": []
   },
   "outputs": [
    {
     "data": {
      "text/html": [
       "<div>\n",
       "<style scoped>\n",
       "    .dataframe tbody tr th:only-of-type {\n",
       "        vertical-align: middle;\n",
       "    }\n",
       "\n",
       "    .dataframe tbody tr th {\n",
       "        vertical-align: top;\n",
       "    }\n",
       "\n",
       "    .dataframe thead th {\n",
       "        text-align: right;\n",
       "    }\n",
       "</style>\n",
       "<table border=\"1\" class=\"dataframe\">\n",
       "  <thead>\n",
       "    <tr style=\"text-align: right;\">\n",
       "      <th></th>\n",
       "      <th>table_name</th>\n",
       "      <th>column_name</th>\n",
       "      <th>data_type</th>\n",
       "    </tr>\n",
       "  </thead>\n",
       "  <tbody>\n",
       "    <tr>\n",
       "      <th>0</th>\n",
       "      <td>geodb_418dfeac-15f0-4606-9edb-fd9eb722bf04_lan...</td>\n",
       "      <td>id</td>\n",
       "      <td>integer</td>\n",
       "    </tr>\n",
       "    <tr>\n",
       "      <th>1</th>\n",
       "      <td>geodb_418dfeac-15f0-4606-9edb-fd9eb722bf04_lan...</td>\n",
       "      <td>created_at</td>\n",
       "      <td>timestamp with time zone</td>\n",
       "    </tr>\n",
       "    <tr>\n",
       "      <th>2</th>\n",
       "      <td>geodb_418dfeac-15f0-4606-9edb-fd9eb722bf04_lan...</td>\n",
       "      <td>modified_at</td>\n",
       "      <td>timestamp with time zone</td>\n",
       "    </tr>\n",
       "    <tr>\n",
       "      <th>3</th>\n",
       "      <td>geodb_418dfeac-15f0-4606-9edb-fd9eb722bf04_lan...</td>\n",
       "      <td>geometry</td>\n",
       "      <td>USER-DEFINED</td>\n",
       "    </tr>\n",
       "    <tr>\n",
       "      <th>4</th>\n",
       "      <td>geodb_418dfeac-15f0-4606-9edb-fd9eb722bf04_lan...</td>\n",
       "      <td>raba_pid</td>\n",
       "      <td>double precision</td>\n",
       "    </tr>\n",
       "    <tr>\n",
       "      <th>5</th>\n",
       "      <td>geodb_418dfeac-15f0-4606-9edb-fd9eb722bf04_lan...</td>\n",
       "      <td>raba_id</td>\n",
       "      <td>double precision</td>\n",
       "    </tr>\n",
       "    <tr>\n",
       "      <th>6</th>\n",
       "      <td>geodb_418dfeac-15f0-4606-9edb-fd9eb722bf04_lan...</td>\n",
       "      <td>d_od</td>\n",
       "      <td>date</td>\n",
       "    </tr>\n",
       "  </tbody>\n",
       "</table>\n",
       "</div>"
      ],
      "text/plain": [
       "                                          table_name  column_name  \\\n",
       "0  geodb_418dfeac-15f0-4606-9edb-fd9eb722bf04_lan...           id   \n",
       "1  geodb_418dfeac-15f0-4606-9edb-fd9eb722bf04_lan...   created_at   \n",
       "2  geodb_418dfeac-15f0-4606-9edb-fd9eb722bf04_lan...  modified_at   \n",
       "3  geodb_418dfeac-15f0-4606-9edb-fd9eb722bf04_lan...     geometry   \n",
       "4  geodb_418dfeac-15f0-4606-9edb-fd9eb722bf04_lan...     raba_pid   \n",
       "5  geodb_418dfeac-15f0-4606-9edb-fd9eb722bf04_lan...      raba_id   \n",
       "6  geodb_418dfeac-15f0-4606-9edb-fd9eb722bf04_lan...         d_od   \n",
       "\n",
       "                  data_type  \n",
       "0                   integer  \n",
       "1  timestamp with time zone  \n",
       "2  timestamp with time zone  \n",
       "3              USER-DEFINED  \n",
       "4          double precision  \n",
       "5          double precision  \n",
       "6                      date  "
      ]
     },
     "execution_count": 19,
     "metadata": {},
     "output_type": "execute_result"
    }
   ],
   "source": [
    "geodb.get_properties('land_use')"
   ]
  },
  {
   "cell_type": "code",
   "execution_count": 20,
   "metadata": {
    "execution": {
     "iopub.execute_input": "2020-07-13T12:52:37.112000Z",
     "iopub.status.busy": "2020-07-13T12:52:37.111099Z",
     "iopub.status.idle": "2020-07-13T12:52:37.419158Z",
     "shell.execute_reply": "2020-07-13T12:52:37.418496Z"
    },
    "papermill": {
     "duration": 0.345995,
     "end_time": "2020-07-13T12:52:37.419266",
     "exception": false,
     "start_time": "2020-07-13T12:52:37.073271",
     "status": "completed"
    },
    "tags": []
   },
   "outputs": [
    {
     "data": {
      "text/plain": [
       "Properties added"
      ]
     },
     "execution_count": 20,
     "metadata": {},
     "output_type": "execute_result"
    }
   ],
   "source": [
    "geodb.add_property('land_use', \"test_prop\", 'integer')"
   ]
  },
  {
   "cell_type": "code",
   "execution_count": 21,
   "metadata": {
    "execution": {
     "iopub.execute_input": "2020-07-13T12:52:37.483425Z",
     "iopub.status.busy": "2020-07-13T12:52:37.482650Z",
     "iopub.status.idle": "2020-07-13T12:52:37.719748Z",
     "shell.execute_reply": "2020-07-13T12:52:37.720216Z"
    },
    "papermill": {
     "duration": 0.271252,
     "end_time": "2020-07-13T12:52:37.720379",
     "exception": false,
     "start_time": "2020-07-13T12:52:37.449127",
     "status": "completed"
    },
    "tags": []
   },
   "outputs": [
    {
     "data": {
      "text/html": [
       "<div>\n",
       "<style scoped>\n",
       "    .dataframe tbody tr th:only-of-type {\n",
       "        vertical-align: middle;\n",
       "    }\n",
       "\n",
       "    .dataframe tbody tr th {\n",
       "        vertical-align: top;\n",
       "    }\n",
       "\n",
       "    .dataframe thead th {\n",
       "        text-align: right;\n",
       "    }\n",
       "</style>\n",
       "<table border=\"1\" class=\"dataframe\">\n",
       "  <thead>\n",
       "    <tr style=\"text-align: right;\">\n",
       "      <th></th>\n",
       "      <th>table_name</th>\n",
       "      <th>column_name</th>\n",
       "      <th>data_type</th>\n",
       "    </tr>\n",
       "  </thead>\n",
       "  <tbody>\n",
       "    <tr>\n",
       "      <th>0</th>\n",
       "      <td>geodb_418dfeac-15f0-4606-9edb-fd9eb722bf04_lan...</td>\n",
       "      <td>id</td>\n",
       "      <td>integer</td>\n",
       "    </tr>\n",
       "    <tr>\n",
       "      <th>1</th>\n",
       "      <td>geodb_418dfeac-15f0-4606-9edb-fd9eb722bf04_lan...</td>\n",
       "      <td>created_at</td>\n",
       "      <td>timestamp with time zone</td>\n",
       "    </tr>\n",
       "    <tr>\n",
       "      <th>2</th>\n",
       "      <td>geodb_418dfeac-15f0-4606-9edb-fd9eb722bf04_lan...</td>\n",
       "      <td>modified_at</td>\n",
       "      <td>timestamp with time zone</td>\n",
       "    </tr>\n",
       "    <tr>\n",
       "      <th>3</th>\n",
       "      <td>geodb_418dfeac-15f0-4606-9edb-fd9eb722bf04_lan...</td>\n",
       "      <td>geometry</td>\n",
       "      <td>USER-DEFINED</td>\n",
       "    </tr>\n",
       "    <tr>\n",
       "      <th>4</th>\n",
       "      <td>geodb_418dfeac-15f0-4606-9edb-fd9eb722bf04_lan...</td>\n",
       "      <td>raba_pid</td>\n",
       "      <td>double precision</td>\n",
       "    </tr>\n",
       "    <tr>\n",
       "      <th>5</th>\n",
       "      <td>geodb_418dfeac-15f0-4606-9edb-fd9eb722bf04_lan...</td>\n",
       "      <td>raba_id</td>\n",
       "      <td>double precision</td>\n",
       "    </tr>\n",
       "    <tr>\n",
       "      <th>6</th>\n",
       "      <td>geodb_418dfeac-15f0-4606-9edb-fd9eb722bf04_lan...</td>\n",
       "      <td>d_od</td>\n",
       "      <td>date</td>\n",
       "    </tr>\n",
       "    <tr>\n",
       "      <th>7</th>\n",
       "      <td>geodb_418dfeac-15f0-4606-9edb-fd9eb722bf04_lan...</td>\n",
       "      <td>test_prop</td>\n",
       "      <td>integer</td>\n",
       "    </tr>\n",
       "  </tbody>\n",
       "</table>\n",
       "</div>"
      ],
      "text/plain": [
       "                                          table_name  column_name  \\\n",
       "0  geodb_418dfeac-15f0-4606-9edb-fd9eb722bf04_lan...           id   \n",
       "1  geodb_418dfeac-15f0-4606-9edb-fd9eb722bf04_lan...   created_at   \n",
       "2  geodb_418dfeac-15f0-4606-9edb-fd9eb722bf04_lan...  modified_at   \n",
       "3  geodb_418dfeac-15f0-4606-9edb-fd9eb722bf04_lan...     geometry   \n",
       "4  geodb_418dfeac-15f0-4606-9edb-fd9eb722bf04_lan...     raba_pid   \n",
       "5  geodb_418dfeac-15f0-4606-9edb-fd9eb722bf04_lan...      raba_id   \n",
       "6  geodb_418dfeac-15f0-4606-9edb-fd9eb722bf04_lan...         d_od   \n",
       "7  geodb_418dfeac-15f0-4606-9edb-fd9eb722bf04_lan...    test_prop   \n",
       "\n",
       "                  data_type  \n",
       "0                   integer  \n",
       "1  timestamp with time zone  \n",
       "2  timestamp with time zone  \n",
       "3              USER-DEFINED  \n",
       "4          double precision  \n",
       "5          double precision  \n",
       "6                      date  \n",
       "7                   integer  "
      ]
     },
     "execution_count": 21,
     "metadata": {},
     "output_type": "execute_result"
    }
   ],
   "source": [
    "geodb.get_properties('land_use')"
   ]
  },
  {
   "cell_type": "code",
   "execution_count": 22,
   "metadata": {
    "execution": {
     "iopub.execute_input": "2020-07-13T12:52:37.787849Z",
     "iopub.status.busy": "2020-07-13T12:52:37.787107Z",
     "iopub.status.idle": "2020-07-13T12:52:38.376567Z",
     "shell.execute_reply": "2020-07-13T12:52:38.377094Z"
    },
    "papermill": {
     "duration": 0.627553,
     "end_time": "2020-07-13T12:52:38.377230",
     "exception": false,
     "start_time": "2020-07-13T12:52:37.749677",
     "status": "completed"
    },
    "tags": []
   },
   "outputs": [
    {
     "data": {
      "text/plain": [
       "Properties ['test_prop'] dropped from geodb_418dfeac-15f0-4606-9edb-fd9eb722bf04_land_use"
      ]
     },
     "execution_count": 22,
     "metadata": {},
     "output_type": "execute_result"
    }
   ],
   "source": [
    "geodb.drop_property('land_use', 'test_prop')"
   ]
  },
  {
   "cell_type": "code",
   "execution_count": 23,
   "metadata": {
    "execution": {
     "iopub.execute_input": "2020-07-13T12:52:38.442802Z",
     "iopub.status.busy": "2020-07-13T12:52:38.441940Z",
     "iopub.status.idle": "2020-07-13T12:52:38.675172Z",
     "shell.execute_reply": "2020-07-13T12:52:38.674332Z"
    },
    "papermill": {
     "duration": 0.267652,
     "end_time": "2020-07-13T12:52:38.675302",
     "exception": false,
     "start_time": "2020-07-13T12:52:38.407650",
     "status": "completed"
    },
    "tags": []
   },
   "outputs": [
    {
     "data": {
      "text/html": [
       "<div>\n",
       "<style scoped>\n",
       "    .dataframe tbody tr th:only-of-type {\n",
       "        vertical-align: middle;\n",
       "    }\n",
       "\n",
       "    .dataframe tbody tr th {\n",
       "        vertical-align: top;\n",
       "    }\n",
       "\n",
       "    .dataframe thead th {\n",
       "        text-align: right;\n",
       "    }\n",
       "</style>\n",
       "<table border=\"1\" class=\"dataframe\">\n",
       "  <thead>\n",
       "    <tr style=\"text-align: right;\">\n",
       "      <th></th>\n",
       "      <th>table_name</th>\n",
       "      <th>column_name</th>\n",
       "      <th>data_type</th>\n",
       "    </tr>\n",
       "  </thead>\n",
       "  <tbody>\n",
       "    <tr>\n",
       "      <th>0</th>\n",
       "      <td>geodb_418dfeac-15f0-4606-9edb-fd9eb722bf04_lan...</td>\n",
       "      <td>id</td>\n",
       "      <td>integer</td>\n",
       "    </tr>\n",
       "    <tr>\n",
       "      <th>1</th>\n",
       "      <td>geodb_418dfeac-15f0-4606-9edb-fd9eb722bf04_lan...</td>\n",
       "      <td>created_at</td>\n",
       "      <td>timestamp with time zone</td>\n",
       "    </tr>\n",
       "    <tr>\n",
       "      <th>2</th>\n",
       "      <td>geodb_418dfeac-15f0-4606-9edb-fd9eb722bf04_lan...</td>\n",
       "      <td>modified_at</td>\n",
       "      <td>timestamp with time zone</td>\n",
       "    </tr>\n",
       "    <tr>\n",
       "      <th>3</th>\n",
       "      <td>geodb_418dfeac-15f0-4606-9edb-fd9eb722bf04_lan...</td>\n",
       "      <td>geometry</td>\n",
       "      <td>USER-DEFINED</td>\n",
       "    </tr>\n",
       "    <tr>\n",
       "      <th>4</th>\n",
       "      <td>geodb_418dfeac-15f0-4606-9edb-fd9eb722bf04_lan...</td>\n",
       "      <td>raba_pid</td>\n",
       "      <td>double precision</td>\n",
       "    </tr>\n",
       "    <tr>\n",
       "      <th>5</th>\n",
       "      <td>geodb_418dfeac-15f0-4606-9edb-fd9eb722bf04_lan...</td>\n",
       "      <td>raba_id</td>\n",
       "      <td>double precision</td>\n",
       "    </tr>\n",
       "    <tr>\n",
       "      <th>6</th>\n",
       "      <td>geodb_418dfeac-15f0-4606-9edb-fd9eb722bf04_lan...</td>\n",
       "      <td>d_od</td>\n",
       "      <td>date</td>\n",
       "    </tr>\n",
       "  </tbody>\n",
       "</table>\n",
       "</div>"
      ],
      "text/plain": [
       "                                          table_name  column_name  \\\n",
       "0  geodb_418dfeac-15f0-4606-9edb-fd9eb722bf04_lan...           id   \n",
       "1  geodb_418dfeac-15f0-4606-9edb-fd9eb722bf04_lan...   created_at   \n",
       "2  geodb_418dfeac-15f0-4606-9edb-fd9eb722bf04_lan...  modified_at   \n",
       "3  geodb_418dfeac-15f0-4606-9edb-fd9eb722bf04_lan...     geometry   \n",
       "4  geodb_418dfeac-15f0-4606-9edb-fd9eb722bf04_lan...     raba_pid   \n",
       "5  geodb_418dfeac-15f0-4606-9edb-fd9eb722bf04_lan...      raba_id   \n",
       "6  geodb_418dfeac-15f0-4606-9edb-fd9eb722bf04_lan...         d_od   \n",
       "\n",
       "                  data_type  \n",
       "0                   integer  \n",
       "1  timestamp with time zone  \n",
       "2  timestamp with time zone  \n",
       "3              USER-DEFINED  \n",
       "4          double precision  \n",
       "5          double precision  \n",
       "6                      date  "
      ]
     },
     "execution_count": 23,
     "metadata": {},
     "output_type": "execute_result"
    }
   ],
   "source": [
    "geodb.get_properties('land_use')"
   ]
  },
  {
   "cell_type": "code",
   "execution_count": 24,
   "metadata": {
    "execution": {
     "iopub.execute_input": "2020-07-13T12:52:38.748319Z",
     "iopub.status.busy": "2020-07-13T12:52:38.747438Z",
     "iopub.status.idle": "2020-07-13T12:52:38.991893Z",
     "shell.execute_reply": "2020-07-13T12:52:38.990869Z"
    },
    "papermill": {
     "duration": 0.284621,
     "end_time": "2020-07-13T12:52:38.992032",
     "exception": false,
     "start_time": "2020-07-13T12:52:38.707411",
     "status": "completed"
    },
    "tags": []
   },
   "outputs": [
    {
     "data": {
      "text/plain": [
       "Properties added"
      ]
     },
     "execution_count": 24,
     "metadata": {},
     "output_type": "execute_result"
    }
   ],
   "source": [
    "geodb.add_properties('land_use', properties={'test1': 'integer', 'test2': 'date'})"
   ]
  },
  {
   "cell_type": "code",
   "execution_count": 25,
   "metadata": {
    "execution": {
     "iopub.execute_input": "2020-07-13T12:52:39.075991Z",
     "iopub.status.busy": "2020-07-13T12:52:39.075285Z",
     "iopub.status.idle": "2020-07-13T12:52:39.359088Z",
     "shell.execute_reply": "2020-07-13T12:52:39.358067Z"
    },
    "papermill": {
     "duration": 0.319177,
     "end_time": "2020-07-13T12:52:39.359224",
     "exception": false,
     "start_time": "2020-07-13T12:52:39.040047",
     "status": "completed"
    },
    "tags": []
   },
   "outputs": [
    {
     "data": {
      "text/html": [
       "<div>\n",
       "<style scoped>\n",
       "    .dataframe tbody tr th:only-of-type {\n",
       "        vertical-align: middle;\n",
       "    }\n",
       "\n",
       "    .dataframe tbody tr th {\n",
       "        vertical-align: top;\n",
       "    }\n",
       "\n",
       "    .dataframe thead th {\n",
       "        text-align: right;\n",
       "    }\n",
       "</style>\n",
       "<table border=\"1\" class=\"dataframe\">\n",
       "  <thead>\n",
       "    <tr style=\"text-align: right;\">\n",
       "      <th></th>\n",
       "      <th>table_name</th>\n",
       "      <th>column_name</th>\n",
       "      <th>data_type</th>\n",
       "    </tr>\n",
       "  </thead>\n",
       "  <tbody>\n",
       "    <tr>\n",
       "      <th>0</th>\n",
       "      <td>geodb_418dfeac-15f0-4606-9edb-fd9eb722bf04_lan...</td>\n",
       "      <td>id</td>\n",
       "      <td>integer</td>\n",
       "    </tr>\n",
       "    <tr>\n",
       "      <th>1</th>\n",
       "      <td>geodb_418dfeac-15f0-4606-9edb-fd9eb722bf04_lan...</td>\n",
       "      <td>created_at</td>\n",
       "      <td>timestamp with time zone</td>\n",
       "    </tr>\n",
       "    <tr>\n",
       "      <th>2</th>\n",
       "      <td>geodb_418dfeac-15f0-4606-9edb-fd9eb722bf04_lan...</td>\n",
       "      <td>modified_at</td>\n",
       "      <td>timestamp with time zone</td>\n",
       "    </tr>\n",
       "    <tr>\n",
       "      <th>3</th>\n",
       "      <td>geodb_418dfeac-15f0-4606-9edb-fd9eb722bf04_lan...</td>\n",
       "      <td>geometry</td>\n",
       "      <td>USER-DEFINED</td>\n",
       "    </tr>\n",
       "    <tr>\n",
       "      <th>4</th>\n",
       "      <td>geodb_418dfeac-15f0-4606-9edb-fd9eb722bf04_lan...</td>\n",
       "      <td>raba_pid</td>\n",
       "      <td>double precision</td>\n",
       "    </tr>\n",
       "    <tr>\n",
       "      <th>5</th>\n",
       "      <td>geodb_418dfeac-15f0-4606-9edb-fd9eb722bf04_lan...</td>\n",
       "      <td>raba_id</td>\n",
       "      <td>double precision</td>\n",
       "    </tr>\n",
       "    <tr>\n",
       "      <th>6</th>\n",
       "      <td>geodb_418dfeac-15f0-4606-9edb-fd9eb722bf04_lan...</td>\n",
       "      <td>d_od</td>\n",
       "      <td>date</td>\n",
       "    </tr>\n",
       "    <tr>\n",
       "      <th>7</th>\n",
       "      <td>geodb_418dfeac-15f0-4606-9edb-fd9eb722bf04_lan...</td>\n",
       "      <td>test1</td>\n",
       "      <td>integer</td>\n",
       "    </tr>\n",
       "    <tr>\n",
       "      <th>8</th>\n",
       "      <td>geodb_418dfeac-15f0-4606-9edb-fd9eb722bf04_lan...</td>\n",
       "      <td>test2</td>\n",
       "      <td>date</td>\n",
       "    </tr>\n",
       "  </tbody>\n",
       "</table>\n",
       "</div>"
      ],
      "text/plain": [
       "                                          table_name  column_name  \\\n",
       "0  geodb_418dfeac-15f0-4606-9edb-fd9eb722bf04_lan...           id   \n",
       "1  geodb_418dfeac-15f0-4606-9edb-fd9eb722bf04_lan...   created_at   \n",
       "2  geodb_418dfeac-15f0-4606-9edb-fd9eb722bf04_lan...  modified_at   \n",
       "3  geodb_418dfeac-15f0-4606-9edb-fd9eb722bf04_lan...     geometry   \n",
       "4  geodb_418dfeac-15f0-4606-9edb-fd9eb722bf04_lan...     raba_pid   \n",
       "5  geodb_418dfeac-15f0-4606-9edb-fd9eb722bf04_lan...      raba_id   \n",
       "6  geodb_418dfeac-15f0-4606-9edb-fd9eb722bf04_lan...         d_od   \n",
       "7  geodb_418dfeac-15f0-4606-9edb-fd9eb722bf04_lan...        test1   \n",
       "8  geodb_418dfeac-15f0-4606-9edb-fd9eb722bf04_lan...        test2   \n",
       "\n",
       "                  data_type  \n",
       "0                   integer  \n",
       "1  timestamp with time zone  \n",
       "2  timestamp with time zone  \n",
       "3              USER-DEFINED  \n",
       "4          double precision  \n",
       "5          double precision  \n",
       "6                      date  \n",
       "7                   integer  \n",
       "8                      date  "
      ]
     },
     "execution_count": 25,
     "metadata": {},
     "output_type": "execute_result"
    }
   ],
   "source": [
    "geodb.get_properties('land_use')"
   ]
  },
  {
   "cell_type": "code",
   "execution_count": 26,
   "metadata": {
    "execution": {
     "iopub.execute_input": "2020-07-13T12:52:39.431792Z",
     "iopub.status.busy": "2020-07-13T12:52:39.431045Z",
     "iopub.status.idle": "2020-07-13T12:52:40.033953Z",
     "shell.execute_reply": "2020-07-13T12:52:40.032967Z"
    },
    "papermill": {
     "duration": 0.640668,
     "end_time": "2020-07-13T12:52:40.034115",
     "exception": false,
     "start_time": "2020-07-13T12:52:39.393447",
     "status": "completed"
    },
    "tags": []
   },
   "outputs": [
    {
     "data": {
      "text/plain": [
       "Properties ['test1', 'test2'] dropped from geodb_418dfeac-15f0-4606-9edb-fd9eb722bf04_land_use"
      ]
     },
     "execution_count": 26,
     "metadata": {},
     "output_type": "execute_result"
    }
   ],
   "source": [
    "geodb.drop_properties('land_use', properties=['test1', 'test2'])"
   ]
  },
  {
   "cell_type": "code",
   "execution_count": 27,
   "metadata": {
    "execution": {
     "iopub.execute_input": "2020-07-13T12:52:40.107063Z",
     "iopub.status.busy": "2020-07-13T12:52:40.106319Z",
     "iopub.status.idle": "2020-07-13T12:52:40.347254Z",
     "shell.execute_reply": "2020-07-13T12:52:40.346461Z"
    },
    "papermill": {
     "duration": 0.280207,
     "end_time": "2020-07-13T12:52:40.347356",
     "exception": false,
     "start_time": "2020-07-13T12:52:40.067149",
     "status": "completed"
    },
    "tags": []
   },
   "outputs": [
    {
     "data": {
      "text/html": [
       "<div>\n",
       "<style scoped>\n",
       "    .dataframe tbody tr th:only-of-type {\n",
       "        vertical-align: middle;\n",
       "    }\n",
       "\n",
       "    .dataframe tbody tr th {\n",
       "        vertical-align: top;\n",
       "    }\n",
       "\n",
       "    .dataframe thead th {\n",
       "        text-align: right;\n",
       "    }\n",
       "</style>\n",
       "<table border=\"1\" class=\"dataframe\">\n",
       "  <thead>\n",
       "    <tr style=\"text-align: right;\">\n",
       "      <th></th>\n",
       "      <th>table_name</th>\n",
       "      <th>column_name</th>\n",
       "      <th>data_type</th>\n",
       "    </tr>\n",
       "  </thead>\n",
       "  <tbody>\n",
       "    <tr>\n",
       "      <th>0</th>\n",
       "      <td>geodb_418dfeac-15f0-4606-9edb-fd9eb722bf04_lan...</td>\n",
       "      <td>id</td>\n",
       "      <td>integer</td>\n",
       "    </tr>\n",
       "    <tr>\n",
       "      <th>1</th>\n",
       "      <td>geodb_418dfeac-15f0-4606-9edb-fd9eb722bf04_lan...</td>\n",
       "      <td>created_at</td>\n",
       "      <td>timestamp with time zone</td>\n",
       "    </tr>\n",
       "    <tr>\n",
       "      <th>2</th>\n",
       "      <td>geodb_418dfeac-15f0-4606-9edb-fd9eb722bf04_lan...</td>\n",
       "      <td>modified_at</td>\n",
       "      <td>timestamp with time zone</td>\n",
       "    </tr>\n",
       "    <tr>\n",
       "      <th>3</th>\n",
       "      <td>geodb_418dfeac-15f0-4606-9edb-fd9eb722bf04_lan...</td>\n",
       "      <td>geometry</td>\n",
       "      <td>USER-DEFINED</td>\n",
       "    </tr>\n",
       "    <tr>\n",
       "      <th>4</th>\n",
       "      <td>geodb_418dfeac-15f0-4606-9edb-fd9eb722bf04_lan...</td>\n",
       "      <td>raba_pid</td>\n",
       "      <td>double precision</td>\n",
       "    </tr>\n",
       "    <tr>\n",
       "      <th>5</th>\n",
       "      <td>geodb_418dfeac-15f0-4606-9edb-fd9eb722bf04_lan...</td>\n",
       "      <td>raba_id</td>\n",
       "      <td>double precision</td>\n",
       "    </tr>\n",
       "    <tr>\n",
       "      <th>6</th>\n",
       "      <td>geodb_418dfeac-15f0-4606-9edb-fd9eb722bf04_lan...</td>\n",
       "      <td>d_od</td>\n",
       "      <td>date</td>\n",
       "    </tr>\n",
       "  </tbody>\n",
       "</table>\n",
       "</div>"
      ],
      "text/plain": [
       "                                          table_name  column_name  \\\n",
       "0  geodb_418dfeac-15f0-4606-9edb-fd9eb722bf04_lan...           id   \n",
       "1  geodb_418dfeac-15f0-4606-9edb-fd9eb722bf04_lan...   created_at   \n",
       "2  geodb_418dfeac-15f0-4606-9edb-fd9eb722bf04_lan...  modified_at   \n",
       "3  geodb_418dfeac-15f0-4606-9edb-fd9eb722bf04_lan...     geometry   \n",
       "4  geodb_418dfeac-15f0-4606-9edb-fd9eb722bf04_lan...     raba_pid   \n",
       "5  geodb_418dfeac-15f0-4606-9edb-fd9eb722bf04_lan...      raba_id   \n",
       "6  geodb_418dfeac-15f0-4606-9edb-fd9eb722bf04_lan...         d_od   \n",
       "\n",
       "                  data_type  \n",
       "0                   integer  \n",
       "1  timestamp with time zone  \n",
       "2  timestamp with time zone  \n",
       "3              USER-DEFINED  \n",
       "4          double precision  \n",
       "5          double precision  \n",
       "6                      date  "
      ]
     },
     "execution_count": 27,
     "metadata": {},
     "output_type": "execute_result"
    }
   ],
   "source": [
    "geodb.get_properties('land_use')"
   ]
  },
  {
   "cell_type": "code",
   "execution_count": 28,
   "metadata": {
    "execution": {
     "iopub.execute_input": "2020-07-13T12:52:40.417555Z",
     "iopub.status.busy": "2020-07-13T12:52:40.416700Z",
     "iopub.status.idle": "2020-07-13T12:52:40.663730Z",
     "shell.execute_reply": "2020-07-13T12:52:40.662775Z"
    },
    "papermill": {
     "duration": 0.286293,
     "end_time": "2020-07-13T12:52:40.663874",
     "exception": false,
     "start_time": "2020-07-13T12:52:40.377581",
     "status": "completed"
    },
    "tags": []
   },
   "outputs": [
    {
     "data": {
      "text/plain": [
       "Collection ['geodb_418dfeac-15f0-4606-9edb-fd9eb722bf04_land_use'] deleted"
      ]
     },
     "execution_count": 28,
     "metadata": {},
     "output_type": "execute_result"
    }
   ],
   "source": [
    "geodb.drop_collection('land_use')"
   ]
  }
 ],
 "metadata": {
  "kernelspec": {
   "display_name": "Python 3",
   "language": "python",
   "name": "python3"
  },
  "language_info": {
   "codemirror_mode": {
    "name": "ipython",
    "version": 3
   },
   "file_extension": ".py",
   "mimetype": "text/x-python",
   "name": "python",
   "nbconvert_exporter": "python",
   "pygments_lexer": "ipython3",
   "version": "3.8.3"
  },
  "papermill": {
   "duration": 17.265431,
   "end_time": "2020-07-13T12:52:41.005929",
   "environment_variables": {},
   "exception": null,
   "input_path": "/tmp/tmp63ky4vc5",
   "output_path": "/tmp/cur_notebook.ipynb",
   "parameters": {},
   "start_time": "2020-07-13T12:52:23.740498",
   "version": "2.1.0"
  },
  "properties": {
   "description": "Euro Data Cube GeoDB: Manage Datasets",
   "id": "geodb-manage",
   "name": "GeoDB: Manage Datasets",
   "requirements": [
    "eurodatacube-geodb"
   ],
   "tags": [
    "Getting started",
    "GeoDB"
   ],
   "version": "0.2"
  },
  "pycharm": {
   "stem_cell": {
    "cell_type": "raw",
    "metadata": {
     "collapsed": false
    },
    "source": []
   }
  }
 },
 "nbformat": 4,
 "nbformat_minor": 4
}