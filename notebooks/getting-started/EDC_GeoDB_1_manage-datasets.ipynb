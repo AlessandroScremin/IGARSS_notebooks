{
 "cells": [
  {
   "cell_type": "code",
   "execution_count": 1,
   "id": "metric-windsor",
   "metadata": {
    "execution": {
     "iopub.execute_input": "2021-05-11T13:54:07.257375Z",
     "iopub.status.busy": "2021-05-11T13:54:07.256552Z",
     "iopub.status.idle": "2021-05-11T13:54:10.875025Z",
     "shell.execute_reply": "2021-05-11T13:54:10.874162Z"
    },
    "papermill": {
     "duration": 3.648518,
     "end_time": "2021-05-11T13:54:10.875201",
     "exception": false,
     "start_time": "2021-05-11T13:54:07.226683",
     "status": "completed"
    },
    "tags": []
   },
   "outputs": [
    {
     "data": {
      "text/markdown": [
       "\n",
       "***Notebook Title***  \n",
       "GeoDB: Manage Datasets\n",
       "\n",
       "***Notebook Description***  \n",
       "Euro Data Cube GeoDB: Manage Datasets\n",
       "\n",
       "\n",
       "***Notebook Dependencies***  \n",
       "This notebook requires an active subscription to:\n",
       "* EDC GeoDB\n"
      ],
      "text/plain": [
       "<IPython.core.display.Markdown object>"
      ]
     },
     "metadata": {},
     "output_type": "display_data"
    }
   ],
   "source": [
    "from edc import print_info \n",
    "print_info(\"geodb-manage\")"
   ]
  },
  {
   "cell_type": "code",
   "execution_count": 2,
   "id": "surface-observer",
   "metadata": {
    "execution": {
     "iopub.execute_input": "2021-05-11T13:54:10.931946Z",
     "iopub.status.busy": "2021-05-11T13:54:10.930187Z",
     "iopub.status.idle": "2021-05-11T13:54:10.935743Z",
     "shell.execute_reply": "2021-05-11T13:54:10.932800Z"
    },
    "papermill": {
     "duration": 0.039967,
     "end_time": "2021-05-11T13:54:10.935993",
     "exception": false,
     "start_time": "2021-05-11T13:54:10.896026",
     "status": "completed"
    },
    "tags": []
   },
   "outputs": [
    {
     "data": {
      "text/markdown": [
       "API credentials have automatically been injected for your active subscriptions.  \n",
       "The following environment variables are now available:\n",
       "\n",
       "The following additional environment variables have been loaded from `~/custom.env`:\n",
       "* `AWS_BUCKET`\n",
       "* `DAPA_URL`\n",
       "* `DB_HOST`, `DB_NAME`, `DB_PASSWORD`, `DB_USER`\n",
       "* `OGC_EDC_URL`\n",
       "* `REFERENCE_DATA`\n"
      ],
      "text/plain": [
       "<IPython.core.display.Markdown object>"
      ]
     },
     "metadata": {},
     "output_type": "display_data"
    }
   ],
   "source": [
    "from edc import setup_environment_variables\n",
    "setup_environment_variables()"
   ]
  },
  {
   "cell_type": "code",
   "execution_count": 3,
   "id": "oriental-flight",
   "metadata": {
    "execution": {
     "iopub.execute_input": "2021-05-11T13:54:11.008942Z",
     "iopub.status.busy": "2021-05-11T13:54:11.007861Z",
     "iopub.status.idle": "2021-05-11T13:54:11.017810Z",
     "shell.execute_reply": "2021-05-11T13:54:11.014494Z"
    },
    "papermill": {
     "duration": 0.049959,
     "end_time": "2021-05-11T13:54:11.018005",
     "exception": false,
     "start_time": "2021-05-11T13:54:10.968046",
     "status": "completed"
    },
    "tags": []
   },
   "outputs": [
    {
     "data": {
      "text/html": [
       "<script type=\"text/javascript\">\n",
       "        function toggle(id) {\n",
       "            el = document.getElementById(id);\n",
       "            el.style.display = el.style.display === \"none\" ? \"block\" : \"none\";\n",
       "        }\n",
       "    </script>"
      ],
      "text/plain": [
       "<IPython.core.display.HTML object>"
      ]
     },
     "metadata": {},
     "output_type": "display_data"
    },
    {
     "data": {
      "text/html": [
       "This notebook is compatible with this base image version (user-0.24.5)."
      ],
      "text/plain": [
       "<IPython.core.display.HTML object>"
      ]
     },
     "metadata": {},
     "output_type": "display_data"
    },
    {
     "data": {
      "text/markdown": [
       "\n",
       "\n",
       "---------\n",
       "\n",
       "The following environment variables are available:\n",
       "\n",
       "* `GEODB_AUTH_AUD`, `GEODB_AUTH_CLIENT_ID`, `GEODB_AUTH_DOMAIN`, `GEODB_API_SERVER_URL`, `GEODB_AUTH_CLIENT_SECRET`, `GEODB_API_SERVER_PORT`\n"
      ],
      "text/plain": [
       "<IPython.core.display.Markdown object>"
      ]
     },
     "metadata": {},
     "output_type": "display_data"
    }
   ],
   "source": [
    "from edc import check_compatibility\n",
    "check_compatibility(\"user-0.24.5\", dependencies=[\"GEODB\"])"
   ]
  },
  {
   "cell_type": "markdown",
   "id": "imperial-tract",
   "metadata": {
    "papermill": {
     "duration": 0.019681,
     "end_time": "2021-05-11T13:54:11.079735",
     "exception": false,
     "start_time": "2021-05-11T13:54:11.060054",
     "status": "completed"
    },
    "tags": []
   },
   "source": [
    "## Manage Collections in your GeoDB\n",
    "\n"
   ]
  },
  {
   "cell_type": "markdown",
   "id": "constant-enterprise",
   "metadata": {
    "papermill": {
     "duration": 0.025321,
     "end_time": "2021-05-11T13:54:11.125451",
     "exception": false,
     "start_time": "2021-05-11T13:54:11.100130",
     "status": "completed"
    },
    "tags": []
   },
   "source": [
    "### Connecting to the GeoDB"
   ]
  },
  {
   "cell_type": "code",
   "execution_count": 4,
   "id": "ready-veteran",
   "metadata": {
    "execution": {
     "iopub.execute_input": "2021-05-11T13:54:11.177463Z",
     "iopub.status.busy": "2021-05-11T13:54:11.176601Z",
     "iopub.status.idle": "2021-05-11T13:54:11.759508Z",
     "shell.execute_reply": "2021-05-11T13:54:11.760194Z"
    },
    "papermill": {
     "duration": 0.609524,
     "end_time": "2021-05-11T13:54:11.760488",
     "exception": false,
     "start_time": "2021-05-11T13:54:11.150964",
     "status": "completed"
    },
    "tags": []
   },
   "outputs": [],
   "source": [
    "from xcube_geodb.core.geodb import GeoDBClient"
   ]
  },
  {
   "cell_type": "code",
   "execution_count": 5,
   "id": "czech-switch",
   "metadata": {
    "execution": {
     "iopub.execute_input": "2021-05-11T13:54:11.811100Z",
     "iopub.status.busy": "2021-05-11T13:54:11.805130Z",
     "iopub.status.idle": "2021-05-11T13:54:11.812639Z",
     "shell.execute_reply": "2021-05-11T13:54:11.811876Z"
    },
    "papermill": {
     "duration": 0.031764,
     "end_time": "2021-05-11T13:54:11.812825",
     "exception": false,
     "start_time": "2021-05-11T13:54:11.781061",
     "status": "completed"
    },
    "tags": []
   },
   "outputs": [],
   "source": [
    "geodb = GeoDBClient()"
   ]
  },
  {
   "cell_type": "code",
   "execution_count": 6,
   "id": "pediatric-light",
   "metadata": {
    "execution": {
     "iopub.execute_input": "2021-05-11T13:54:11.874720Z",
     "iopub.status.busy": "2021-05-11T13:54:11.873672Z",
     "iopub.status.idle": "2021-05-11T13:54:13.285707Z",
     "shell.execute_reply": "2021-05-11T13:54:13.287410Z"
    },
    "papermill": {
     "duration": 1.438853,
     "end_time": "2021-05-11T13:54:13.287719",
     "exception": false,
     "start_time": "2021-05-11T13:54:11.848866",
     "status": "completed"
    },
    "tags": []
   },
   "outputs": [
    {
     "data": {
      "text/plain": [
       "'geodb_418dfeac-15f0-4606-9edb-fd9eb722bf04'"
      ]
     },
     "execution_count": 6,
     "metadata": {},
     "output_type": "execute_result"
    }
   ],
   "source": [
    "# If you are logged in, this will tell you what account the system currently uses\n",
    "geodb.whoami"
   ]
  },
  {
   "cell_type": "code",
   "execution_count": 7,
   "id": "convertible-steps",
   "metadata": {
    "execution": {
     "iopub.execute_input": "2021-05-11T13:54:13.344901Z",
     "iopub.status.busy": "2021-05-11T13:54:13.342763Z",
     "iopub.status.idle": "2021-05-11T13:54:14.120543Z",
     "shell.execute_reply": "2021-05-11T13:54:14.121267Z"
    },
    "papermill": {
     "duration": 0.80921,
     "end_time": "2021-05-11T13:54:14.121502",
     "exception": false,
     "start_time": "2021-05-11T13:54:13.312292",
     "status": "completed"
    },
    "tags": []
   },
   "outputs": [
    {
     "data": {
      "text/plain": [
       "False"
      ]
     },
     "execution_count": 7,
     "metadata": {},
     "output_type": "execute_result"
    }
   ],
   "source": [
    "# Lets get already existing collections\n",
    "ds = geodb.get_my_collections()\n",
    "ds\n",
    "ds[(ds.database == 'geodb_admin') & (ds.table_name == 'land_use')].table_name.count() == 1"
   ]
  },
  {
   "cell_type": "markdown",
   "id": "talented-carol",
   "metadata": {
    "papermill": {
     "duration": 0.020482,
     "end_time": "2021-05-11T13:54:14.175992",
     "exception": false,
     "start_time": "2021-05-11T13:54:14.155510",
     "status": "completed"
    },
    "tags": []
   },
   "source": [
    "### Creating collections\n",
    "\n",
    "Once the connection has been established you will be able to create a collection. The collection will contain standard properties (fields) plus custom properties\n",
    "which you can add at your disgretion. Please use [PostGreSQL type definitions](https://www.postgresql.org/docs/11/datatype.html). We recommend stying simple with\n",
    "your data types as we have not tested every single type."
   ]
  },
  {
   "cell_type": "code",
   "execution_count": 8,
   "id": "sacred-demand",
   "metadata": {
    "execution": {
     "iopub.execute_input": "2021-05-11T13:54:14.232133Z",
     "iopub.status.busy": "2021-05-11T13:54:14.231112Z",
     "iopub.status.idle": "2021-05-11T13:54:16.275838Z",
     "shell.execute_reply": "2021-05-11T13:54:16.274734Z"
    },
    "papermill": {
     "duration": 2.07937,
     "end_time": "2021-05-11T13:54:16.275992",
     "exception": false,
     "start_time": "2021-05-11T13:54:14.196622",
     "status": "completed"
    },
    "tags": []
   },
   "outputs": [],
   "source": [
    "ds = geodb.get_my_collections()\n",
    "\n",
    "if ds[(ds.database == geodb.whoami) & (ds.table_name == 'land_use')].table_name.count() == 0:\n",
    "    # Have a look at fiona feature schema\n",
    "    collections = {\n",
    "            \"land_use\": \n",
    "            {\n",
    "                \"crs\": 3794,\n",
    "                \"properties\": \n",
    "                {\n",
    "                    \"RABA_PID\": \"float\", \n",
    "                    \"RABA_ID\": \"float\", \n",
    "                    \"D_OD\": \"date\"\n",
    "                }\n",
    "            }\n",
    "        }\n",
    "\n",
    "\n",
    "    geodb.create_collections(collections)\n",
    "    import geopandas\n",
    "    import os\n",
    "    gdf = geopandas.read_file(os.path.expanduser(\"~/.shared/notebooks/eurodatacube/notebooks/getting-started/data/sample/land_use.shp\"))\n",
    "    geodb.insert_into_collection('land_use', gdf)"
   ]
  },
  {
   "cell_type": "code",
   "execution_count": 9,
   "id": "dressed-album",
   "metadata": {
    "execution": {
     "iopub.execute_input": "2021-05-11T13:54:16.328849Z",
     "iopub.status.busy": "2021-05-11T13:54:16.326933Z",
     "iopub.status.idle": "2021-05-11T13:54:16.954017Z",
     "shell.execute_reply": "2021-05-11T13:54:16.953121Z"
    },
    "papermill": {
     "duration": 0.657899,
     "end_time": "2021-05-11T13:54:16.954177",
     "exception": false,
     "start_time": "2021-05-11T13:54:16.296278",
     "status": "completed"
    },
    "tags": []
   },
   "outputs": [
    {
     "data": {
      "text/html": [
       "<div>\n",
       "<style scoped>\n",
       "    .dataframe tbody tr th:only-of-type {\n",
       "        vertical-align: middle;\n",
       "    }\n",
       "\n",
       "    .dataframe tbody tr th {\n",
       "        vertical-align: top;\n",
       "    }\n",
       "\n",
       "    .dataframe thead th {\n",
       "        text-align: right;\n",
       "    }\n",
       "</style>\n",
       "<table border=\"1\" class=\"dataframe\">\n",
       "  <thead>\n",
       "    <tr style=\"text-align: right;\">\n",
       "      <th></th>\n",
       "      <th>owner</th>\n",
       "      <th>database</th>\n",
       "      <th>table_name</th>\n",
       "    </tr>\n",
       "  </thead>\n",
       "  <tbody>\n",
       "    <tr>\n",
       "      <th>0</th>\n",
       "      <td>geodb_0b01bfcd-2d09-46f8-84e8-cb5720fba14c</td>\n",
       "      <td>geodb_0b01bfcd-2d09-46f8-84e8-cb5720fba14c</td>\n",
       "      <td>delineated_parcels_s</td>\n",
       "    </tr>\n",
       "    <tr>\n",
       "      <th>1</th>\n",
       "      <td>geodb_0b01bfcd-2d09-46f8-84e8-cb5720fba14c</td>\n",
       "      <td>geodb_0b01bfcd-2d09-46f8-84e8-cb5720fba14c</td>\n",
       "      <td>test_batic</td>\n",
       "    </tr>\n",
       "    <tr>\n",
       "      <th>2</th>\n",
       "      <td>geodb_0b01bfcd-2d09-46f8-84e8-cb5720fba14c</td>\n",
       "      <td>phi_week</td>\n",
       "      <td>alster</td>\n",
       "    </tr>\n",
       "    <tr>\n",
       "      <th>3</th>\n",
       "      <td>geodb_0b01bfcd-2d09-46f8-84e8-cb5720fba14c</td>\n",
       "      <td>phi_week</td>\n",
       "      <td>gran_chaco</td>\n",
       "    </tr>\n",
       "    <tr>\n",
       "      <th>4</th>\n",
       "      <td>geodb_0d6df427-8c09-41b9-abc9-64ce13a68125</td>\n",
       "      <td>geodb_0d6df427-8c09-41b9-abc9-64ce13a68125</td>\n",
       "      <td>land_use</td>\n",
       "    </tr>\n",
       "    <tr>\n",
       "      <th>...</th>\n",
       "      <td>...</td>\n",
       "      <td>...</td>\n",
       "      <td>...</td>\n",
       "    </tr>\n",
       "    <tr>\n",
       "      <th>862</th>\n",
       "      <td>geodb_lpis_iacs_admin</td>\n",
       "      <td>anja</td>\n",
       "      <td>N4a</td>\n",
       "    </tr>\n",
       "    <tr>\n",
       "      <th>863</th>\n",
       "      <td>geodb_lpis_iacs_admin</td>\n",
       "      <td>anja</td>\n",
       "      <td>race_indicators</td>\n",
       "    </tr>\n",
       "    <tr>\n",
       "      <th>864</th>\n",
       "      <td>geodb_lpis_iacs_admin</td>\n",
       "      <td>lpis_iacs</td>\n",
       "      <td>land_use_slo</td>\n",
       "    </tr>\n",
       "    <tr>\n",
       "      <th>865</th>\n",
       "      <td>geodb_lpis_iacs_admin</td>\n",
       "      <td>lpis_iacs</td>\n",
       "      <td>lpis_aut</td>\n",
       "    </tr>\n",
       "    <tr>\n",
       "      <th>866</th>\n",
       "      <td>geodb_lpis_iacs_admin</td>\n",
       "      <td>lpis_iacs</td>\n",
       "      <td>lpis_slo</td>\n",
       "    </tr>\n",
       "  </tbody>\n",
       "</table>\n",
       "<p>867 rows × 3 columns</p>\n",
       "</div>"
      ],
      "text/plain": [
       "                                          owner  \\\n",
       "0    geodb_0b01bfcd-2d09-46f8-84e8-cb5720fba14c   \n",
       "1    geodb_0b01bfcd-2d09-46f8-84e8-cb5720fba14c   \n",
       "2    geodb_0b01bfcd-2d09-46f8-84e8-cb5720fba14c   \n",
       "3    geodb_0b01bfcd-2d09-46f8-84e8-cb5720fba14c   \n",
       "4    geodb_0d6df427-8c09-41b9-abc9-64ce13a68125   \n",
       "..                                          ...   \n",
       "862                       geodb_lpis_iacs_admin   \n",
       "863                       geodb_lpis_iacs_admin   \n",
       "864                       geodb_lpis_iacs_admin   \n",
       "865                       geodb_lpis_iacs_admin   \n",
       "866                       geodb_lpis_iacs_admin   \n",
       "\n",
       "                                       database            table_name  \n",
       "0    geodb_0b01bfcd-2d09-46f8-84e8-cb5720fba14c  delineated_parcels_s  \n",
       "1    geodb_0b01bfcd-2d09-46f8-84e8-cb5720fba14c            test_batic  \n",
       "2                                      phi_week                alster  \n",
       "3                                      phi_week            gran_chaco  \n",
       "4    geodb_0d6df427-8c09-41b9-abc9-64ce13a68125              land_use  \n",
       "..                                          ...                   ...  \n",
       "862                                        anja                   N4a  \n",
       "863                                        anja       race_indicators  \n",
       "864                                   lpis_iacs          land_use_slo  \n",
       "865                                   lpis_iacs              lpis_aut  \n",
       "866                                   lpis_iacs              lpis_slo  \n",
       "\n",
       "[867 rows x 3 columns]"
      ]
     },
     "execution_count": 9,
     "metadata": {},
     "output_type": "execute_result"
    }
   ],
   "source": [
    "ds = geodb.get_my_collections()\n",
    "ds"
   ]
  },
  {
   "cell_type": "markdown",
   "id": "north-interview",
   "metadata": {
    "papermill": {
     "duration": 0.028476,
     "end_time": "2021-05-11T13:54:17.013919",
     "exception": false,
     "start_time": "2021-05-11T13:54:16.985443",
     "status": "completed"
    },
    "tags": []
   },
   "source": [
    "### Loading data into a dataset\n",
    "\n",
    "Once the table has been created, you can load data into the dataset. The example below loads a shapefile. The attributes of the shapefile correspond to the dataset's properties.\n"
   ]
  },
  {
   "cell_type": "code",
   "execution_count": 10,
   "id": "light-mapping",
   "metadata": {
    "execution": {
     "iopub.execute_input": "2021-05-11T13:54:17.629154Z",
     "iopub.status.busy": "2021-05-11T13:54:17.626526Z",
     "iopub.status.idle": "2021-05-11T13:54:18.212429Z",
     "shell.execute_reply": "2021-05-11T13:54:18.213594Z"
    },
    "papermill": {
     "duration": 1.167727,
     "end_time": "2021-05-11T13:54:18.213791",
     "exception": false,
     "start_time": "2021-05-11T13:54:17.046064",
     "status": "completed"
    },
    "tags": []
   },
   "outputs": [
    {
     "data": {
      "text/html": [
       "<div>\n",
       "<style scoped>\n",
       "    .dataframe tbody tr th:only-of-type {\n",
       "        vertical-align: middle;\n",
       "    }\n",
       "\n",
       "    .dataframe tbody tr th {\n",
       "        vertical-align: top;\n",
       "    }\n",
       "\n",
       "    .dataframe thead th {\n",
       "        text-align: right;\n",
       "    }\n",
       "</style>\n",
       "<table border=\"1\" class=\"dataframe\">\n",
       "  <thead>\n",
       "    <tr style=\"text-align: right;\">\n",
       "      <th></th>\n",
       "      <th>RABA_PID</th>\n",
       "      <th>RABA_ID</th>\n",
       "      <th>D_OD</th>\n",
       "      <th>geometry</th>\n",
       "    </tr>\n",
       "  </thead>\n",
       "  <tbody>\n",
       "    <tr>\n",
       "      <th>0</th>\n",
       "      <td>4770326.0</td>\n",
       "      <td>1410</td>\n",
       "      <td>2019-03-26</td>\n",
       "      <td>POLYGON ((453952.629 91124.177, 453952.696 911...</td>\n",
       "    </tr>\n",
       "    <tr>\n",
       "      <th>1</th>\n",
       "      <td>4770325.0</td>\n",
       "      <td>1300</td>\n",
       "      <td>2019-03-26</td>\n",
       "      <td>POLYGON ((453810.376 91150.199, 453812.552 911...</td>\n",
       "    </tr>\n",
       "    <tr>\n",
       "      <th>2</th>\n",
       "      <td>2305689.0</td>\n",
       "      <td>7000</td>\n",
       "      <td>2019-02-25</td>\n",
       "      <td>POLYGON ((456099.635 97696.070, 456112.810 976...</td>\n",
       "    </tr>\n",
       "    <tr>\n",
       "      <th>3</th>\n",
       "      <td>2305596.0</td>\n",
       "      <td>1100</td>\n",
       "      <td>2019-02-25</td>\n",
       "      <td>POLYGON ((455929.405 97963.785, 455933.284 979...</td>\n",
       "    </tr>\n",
       "    <tr>\n",
       "      <th>4</th>\n",
       "      <td>2310160.0</td>\n",
       "      <td>1100</td>\n",
       "      <td>2019-03-11</td>\n",
       "      <td>POLYGON ((461561.512 96119.256, 461632.114 960...</td>\n",
       "    </tr>\n",
       "    <tr>\n",
       "      <th>...</th>\n",
       "      <td>...</td>\n",
       "      <td>...</td>\n",
       "      <td>...</td>\n",
       "      <td>...</td>\n",
       "    </tr>\n",
       "    <tr>\n",
       "      <th>9822</th>\n",
       "      <td>6253989.0</td>\n",
       "      <td>1600</td>\n",
       "      <td>2019-03-08</td>\n",
       "      <td>POLYGON ((460637.334 96865.891, 460647.927 969...</td>\n",
       "    </tr>\n",
       "    <tr>\n",
       "      <th>9823</th>\n",
       "      <td>6252044.0</td>\n",
       "      <td>1600</td>\n",
       "      <td>2019-03-26</td>\n",
       "      <td>POLYGON ((459467.868 96839.686, 459467.770 968...</td>\n",
       "    </tr>\n",
       "    <tr>\n",
       "      <th>9824</th>\n",
       "      <td>6245985.0</td>\n",
       "      <td>2000</td>\n",
       "      <td>2019-04-08</td>\n",
       "      <td>POLYGON ((459488.998 94066.248, 459498.145 940...</td>\n",
       "    </tr>\n",
       "    <tr>\n",
       "      <th>9825</th>\n",
       "      <td>6245986.0</td>\n",
       "      <td>2000</td>\n",
       "      <td>2019-02-20</td>\n",
       "      <td>POLYGON ((459676.680 94000.000, 459672.469 939...</td>\n",
       "    </tr>\n",
       "    <tr>\n",
       "      <th>9826</th>\n",
       "      <td>6245987.0</td>\n",
       "      <td>2000</td>\n",
       "      <td>2019-03-11</td>\n",
       "      <td>POLYGON ((459690.580 94042.607, 459686.872 940...</td>\n",
       "    </tr>\n",
       "  </tbody>\n",
       "</table>\n",
       "<p>9827 rows × 4 columns</p>\n",
       "</div>"
      ],
      "text/plain": [
       "       RABA_PID  RABA_ID        D_OD  \\\n",
       "0     4770326.0     1410  2019-03-26   \n",
       "1     4770325.0     1300  2019-03-26   \n",
       "2     2305689.0     7000  2019-02-25   \n",
       "3     2305596.0     1100  2019-02-25   \n",
       "4     2310160.0     1100  2019-03-11   \n",
       "...         ...      ...         ...   \n",
       "9822  6253989.0     1600  2019-03-08   \n",
       "9823  6252044.0     1600  2019-03-26   \n",
       "9824  6245985.0     2000  2019-04-08   \n",
       "9825  6245986.0     2000  2019-02-20   \n",
       "9826  6245987.0     2000  2019-03-11   \n",
       "\n",
       "                                               geometry  \n",
       "0     POLYGON ((453952.629 91124.177, 453952.696 911...  \n",
       "1     POLYGON ((453810.376 91150.199, 453812.552 911...  \n",
       "2     POLYGON ((456099.635 97696.070, 456112.810 976...  \n",
       "3     POLYGON ((455929.405 97963.785, 455933.284 979...  \n",
       "4     POLYGON ((461561.512 96119.256, 461632.114 960...  \n",
       "...                                                 ...  \n",
       "9822  POLYGON ((460637.334 96865.891, 460647.927 969...  \n",
       "9823  POLYGON ((459467.868 96839.686, 459467.770 968...  \n",
       "9824  POLYGON ((459488.998 94066.248, 459498.145 940...  \n",
       "9825  POLYGON ((459676.680 94000.000, 459672.469 939...  \n",
       "9826  POLYGON ((459690.580 94042.607, 459686.872 940...  \n",
       "\n",
       "[9827 rows x 4 columns]"
      ]
     },
     "execution_count": 10,
     "metadata": {},
     "output_type": "execute_result"
    }
   ],
   "source": [
    "import geopandas\n",
    "import os\n",
    "gdf = geopandas.read_file(os.path.expanduser(\"~/.shared/notebooks/eurodatacube/notebooks/getting-started/data/sample/land_use.shp\"))\n",
    "gdf"
   ]
  },
  {
   "cell_type": "code",
   "execution_count": 11,
   "id": "sunset-mouse",
   "metadata": {
    "execution": {
     "iopub.execute_input": "2021-05-11T13:54:18.277149Z",
     "iopub.status.busy": "2021-05-11T13:54:18.276250Z",
     "iopub.status.idle": "2021-05-11T13:54:31.457959Z",
     "shell.execute_reply": "2021-05-11T13:54:31.457150Z"
    },
    "papermill": {
     "duration": 13.209293,
     "end_time": "2021-05-11T13:54:31.458324",
     "exception": false,
     "start_time": "2021-05-11T13:54:18.249031",
     "status": "completed"
    },
    "tags": []
   },
   "outputs": [
    {
     "name": "stdout",
     "output_type": "stream",
     "text": [
      "Processing rows from 0 to 999\n"
     ]
    },
    {
     "name": "stdout",
     "output_type": "stream",
     "text": [
      "Processing rows from 1000 to 1999\n"
     ]
    },
    {
     "name": "stdout",
     "output_type": "stream",
     "text": [
      "Processing rows from 2000 to 2999\n"
     ]
    },
    {
     "name": "stdout",
     "output_type": "stream",
     "text": [
      "Processing rows from 3000 to 3999\n"
     ]
    },
    {
     "name": "stdout",
     "output_type": "stream",
     "text": [
      "Processing rows from 4000 to 4999\n"
     ]
    },
    {
     "name": "stdout",
     "output_type": "stream",
     "text": [
      "Processing rows from 5000 to 5999\n"
     ]
    },
    {
     "name": "stdout",
     "output_type": "stream",
     "text": [
      "Processing rows from 6000 to 6999\n"
     ]
    },
    {
     "name": "stdout",
     "output_type": "stream",
     "text": [
      "Processing rows from 7000 to 7999\n"
     ]
    },
    {
     "name": "stdout",
     "output_type": "stream",
     "text": [
      "Processing rows from 8000 to 8999\n"
     ]
    },
    {
     "name": "stdout",
     "output_type": "stream",
     "text": [
      "Processing rows from 9000 to 9827\n"
     ]
    },
    {
     "data": {
      "text/plain": [
       "9827 rows inserted into land_use"
      ]
     },
     "execution_count": 11,
     "metadata": {},
     "output_type": "execute_result"
    }
   ],
   "source": [
    "geodb.insert_into_collection('land_use', gdf)"
   ]
  },
  {
   "cell_type": "code",
   "execution_count": 12,
   "id": "tired-tamil",
   "metadata": {
    "execution": {
     "iopub.execute_input": "2021-05-11T13:54:31.533222Z",
     "iopub.status.busy": "2021-05-11T13:54:31.532228Z",
     "iopub.status.idle": "2021-05-11T13:54:35.391104Z",
     "shell.execute_reply": "2021-05-11T13:54:35.392078Z"
    },
    "papermill": {
     "duration": 3.894573,
     "end_time": "2021-05-11T13:54:35.392334",
     "exception": false,
     "start_time": "2021-05-11T13:54:31.497761",
     "status": "completed"
    },
    "tags": []
   },
   "outputs": [
    {
     "data": {
      "text/html": [
       "<div>\n",
       "<style scoped>\n",
       "    .dataframe tbody tr th:only-of-type {\n",
       "        vertical-align: middle;\n",
       "    }\n",
       "\n",
       "    .dataframe tbody tr th {\n",
       "        vertical-align: top;\n",
       "    }\n",
       "\n",
       "    .dataframe thead th {\n",
       "        text-align: right;\n",
       "    }\n",
       "</style>\n",
       "<table border=\"1\" class=\"dataframe\">\n",
       "  <thead>\n",
       "    <tr style=\"text-align: right;\">\n",
       "      <th></th>\n",
       "      <th>id</th>\n",
       "      <th>created_at</th>\n",
       "      <th>modified_at</th>\n",
       "      <th>geometry</th>\n",
       "      <th>raba_pid</th>\n",
       "      <th>raba_id</th>\n",
       "      <th>d_od</th>\n",
       "    </tr>\n",
       "  </thead>\n",
       "  <tbody>\n",
       "    <tr>\n",
       "      <th>0</th>\n",
       "      <td>91133</td>\n",
       "      <td>2021-05-11T13:54:23.853823+00:00</td>\n",
       "      <td>None</td>\n",
       "      <td>POLYGON ((454269.760 91321.671, 454267.890 913...</td>\n",
       "      <td>175487</td>\n",
       "      <td>7000</td>\n",
       "      <td>2019-03-26</td>\n",
       "    </tr>\n",
       "    <tr>\n",
       "      <th>1</th>\n",
       "      <td>91136</td>\n",
       "      <td>2021-05-11T13:54:23.853823+00:00</td>\n",
       "      <td>None</td>\n",
       "      <td>POLYGON ((459954.754 92885.139, 459949.777 928...</td>\n",
       "      <td>6291671</td>\n",
       "      <td>7000</td>\n",
       "      <td>2019-02-20</td>\n",
       "    </tr>\n",
       "    <tr>\n",
       "      <th>2</th>\n",
       "      <td>95934</td>\n",
       "      <td>2021-05-11T13:54:29.027073+00:00</td>\n",
       "      <td>None</td>\n",
       "      <td>POLYGON ((459013.956 95399.150, 459021.801 953...</td>\n",
       "      <td>3599669</td>\n",
       "      <td>7000</td>\n",
       "      <td>2019-01-05</td>\n",
       "    </tr>\n",
       "    <tr>\n",
       "      <th>3</th>\n",
       "      <td>95988</td>\n",
       "      <td>2021-05-11T13:54:29.027073+00:00</td>\n",
       "      <td>None</td>\n",
       "      <td>POLYGON ((462269.994 97038.778, 462266.715 970...</td>\n",
       "      <td>4674866</td>\n",
       "      <td>7000</td>\n",
       "      <td>2019-03-20</td>\n",
       "    </tr>\n",
       "    <tr>\n",
       "      <th>4</th>\n",
       "      <td>95989</td>\n",
       "      <td>2021-05-11T13:54:29.027073+00:00</td>\n",
       "      <td>None</td>\n",
       "      <td>POLYGON ((462274.282 97032.864, 462281.536 970...</td>\n",
       "      <td>4674869</td>\n",
       "      <td>7000</td>\n",
       "      <td>2019-03-20</td>\n",
       "    </tr>\n",
       "    <tr>\n",
       "      <th>...</th>\n",
       "      <td>...</td>\n",
       "      <td>...</td>\n",
       "      <td>...</td>\n",
       "      <td>...</td>\n",
       "      <td>...</td>\n",
       "      <td>...</td>\n",
       "      <td>...</td>\n",
       "    </tr>\n",
       "    <tr>\n",
       "      <th>379</th>\n",
       "      <td>97862</td>\n",
       "      <td>2021-05-11T13:54:31.276633+00:00</td>\n",
       "      <td>None</td>\n",
       "      <td>POLYGON ((456523.670 94000.000, 456550.368 939...</td>\n",
       "      <td>6187993</td>\n",
       "      <td>7000</td>\n",
       "      <td>2019-03-13</td>\n",
       "    </tr>\n",
       "    <tr>\n",
       "      <th>380</th>\n",
       "      <td>97989</td>\n",
       "      <td>2021-05-11T13:54:31.276633+00:00</td>\n",
       "      <td>None</td>\n",
       "      <td>POLYGON ((460793.279 94000.000, 460797.466 939...</td>\n",
       "      <td>6219403</td>\n",
       "      <td>7000</td>\n",
       "      <td>2019-02-21</td>\n",
       "    </tr>\n",
       "    <tr>\n",
       "      <th>381</th>\n",
       "      <td>98003</td>\n",
       "      <td>2021-05-11T13:54:31.276633+00:00</td>\n",
       "      <td>None</td>\n",
       "      <td>POLYGON ((461750.000 98434.292, 461750.000 984...</td>\n",
       "      <td>6219602</td>\n",
       "      <td>7000</td>\n",
       "      <td>2019-03-20</td>\n",
       "    </tr>\n",
       "    <tr>\n",
       "      <th>382</th>\n",
       "      <td>98067</td>\n",
       "      <td>2021-05-11T13:54:31.276633+00:00</td>\n",
       "      <td>None</td>\n",
       "      <td>POLYGON ((463628.912 97501.218, 463636.859 975...</td>\n",
       "      <td>6215237</td>\n",
       "      <td>7000</td>\n",
       "      <td>2019-03-20</td>\n",
       "    </tr>\n",
       "    <tr>\n",
       "      <th>383</th>\n",
       "      <td>98087</td>\n",
       "      <td>2021-05-11T13:54:31.276633+00:00</td>\n",
       "      <td>None</td>\n",
       "      <td>POLYGON ((462450.205 94000.000, 462457.333 940...</td>\n",
       "      <td>6213419</td>\n",
       "      <td>7000</td>\n",
       "      <td>2019-03-21</td>\n",
       "    </tr>\n",
       "  </tbody>\n",
       "</table>\n",
       "<p>384 rows × 7 columns</p>\n",
       "</div>"
      ],
      "text/plain": [
       "        id                        created_at modified_at  \\\n",
       "0    91133  2021-05-11T13:54:23.853823+00:00        None   \n",
       "1    91136  2021-05-11T13:54:23.853823+00:00        None   \n",
       "2    95934  2021-05-11T13:54:29.027073+00:00        None   \n",
       "3    95988  2021-05-11T13:54:29.027073+00:00        None   \n",
       "4    95989  2021-05-11T13:54:29.027073+00:00        None   \n",
       "..     ...                               ...         ...   \n",
       "379  97862  2021-05-11T13:54:31.276633+00:00        None   \n",
       "380  97989  2021-05-11T13:54:31.276633+00:00        None   \n",
       "381  98003  2021-05-11T13:54:31.276633+00:00        None   \n",
       "382  98067  2021-05-11T13:54:31.276633+00:00        None   \n",
       "383  98087  2021-05-11T13:54:31.276633+00:00        None   \n",
       "\n",
       "                                              geometry  raba_pid  raba_id  \\\n",
       "0    POLYGON ((454269.760 91321.671, 454267.890 913...    175487     7000   \n",
       "1    POLYGON ((459954.754 92885.139, 459949.777 928...   6291671     7000   \n",
       "2    POLYGON ((459013.956 95399.150, 459021.801 953...   3599669     7000   \n",
       "3    POLYGON ((462269.994 97038.778, 462266.715 970...   4674866     7000   \n",
       "4    POLYGON ((462274.282 97032.864, 462281.536 970...   4674869     7000   \n",
       "..                                                 ...       ...      ...   \n",
       "379  POLYGON ((456523.670 94000.000, 456550.368 939...   6187993     7000   \n",
       "380  POLYGON ((460793.279 94000.000, 460797.466 939...   6219403     7000   \n",
       "381  POLYGON ((461750.000 98434.292, 461750.000 984...   6219602     7000   \n",
       "382  POLYGON ((463628.912 97501.218, 463636.859 975...   6215237     7000   \n",
       "383  POLYGON ((462450.205 94000.000, 462457.333 940...   6213419     7000   \n",
       "\n",
       "           d_od  \n",
       "0    2019-03-26  \n",
       "1    2019-02-20  \n",
       "2    2019-01-05  \n",
       "3    2019-03-20  \n",
       "4    2019-03-20  \n",
       "..          ...  \n",
       "379  2019-03-13  \n",
       "380  2019-02-21  \n",
       "381  2019-03-20  \n",
       "382  2019-03-20  \n",
       "383  2019-03-21  \n",
       "\n",
       "[384 rows x 7 columns]"
      ]
     },
     "execution_count": 12,
     "metadata": {},
     "output_type": "execute_result"
    }
   ],
   "source": [
    "geodb.get_collection('land_use', query=\"raba_id=eq.7000\")"
   ]
  },
  {
   "cell_type": "markdown",
   "id": "manual-skiing",
   "metadata": {
    "papermill": {
     "duration": 0.021599,
     "end_time": "2021-05-11T13:54:35.439613",
     "exception": false,
     "start_time": "2021-05-11T13:54:35.418014",
     "status": "completed"
    },
    "tags": []
   },
   "source": [
    "### Delete from a Collection"
   ]
  },
  {
   "cell_type": "code",
   "execution_count": 13,
   "id": "selected-franchise",
   "metadata": {
    "execution": {
     "iopub.execute_input": "2021-05-11T13:54:35.493229Z",
     "iopub.status.busy": "2021-05-11T13:54:35.491957Z",
     "iopub.status.idle": "2021-05-11T13:54:37.511412Z",
     "shell.execute_reply": "2021-05-11T13:54:37.511818Z"
    },
    "papermill": {
     "duration": 2.050713,
     "end_time": "2021-05-11T13:54:37.511961",
     "exception": false,
     "start_time": "2021-05-11T13:54:35.461248",
     "status": "completed"
    },
    "tags": []
   },
   "outputs": [
    {
     "data": {
      "text/plain": [
       "Data from land_use deleted"
      ]
     },
     "execution_count": 13,
     "metadata": {},
     "output_type": "execute_result"
    }
   ],
   "source": [
    "geodb.delete_from_collection('land_use', query=\"raba_id=eq.7000\")"
   ]
  },
  {
   "cell_type": "code",
   "execution_count": 14,
   "id": "spanish-jordan",
   "metadata": {
    "execution": {
     "iopub.execute_input": "2021-05-11T13:54:37.577078Z",
     "iopub.status.busy": "2021-05-11T13:54:37.571918Z",
     "iopub.status.idle": "2021-05-11T13:54:41.250576Z",
     "shell.execute_reply": "2021-05-11T13:54:41.251682Z"
    },
    "papermill": {
     "duration": 3.714212,
     "end_time": "2021-05-11T13:54:41.252039",
     "exception": false,
     "start_time": "2021-05-11T13:54:37.537827",
     "status": "completed"
    },
    "tags": []
   },
   "outputs": [
    {
     "data": {
      "text/html": [
       "<div>\n",
       "<style scoped>\n",
       "    .dataframe tbody tr th:only-of-type {\n",
       "        vertical-align: middle;\n",
       "    }\n",
       "\n",
       "    .dataframe tbody tr th {\n",
       "        vertical-align: top;\n",
       "    }\n",
       "\n",
       "    .dataframe thead th {\n",
       "        text-align: right;\n",
       "    }\n",
       "</style>\n",
       "<table border=\"1\" class=\"dataframe\">\n",
       "  <thead>\n",
       "    <tr style=\"text-align: right;\">\n",
       "      <th></th>\n",
       "      <th>Empty Result</th>\n",
       "    </tr>\n",
       "  </thead>\n",
       "  <tbody>\n",
       "  </tbody>\n",
       "</table>\n",
       "</div>"
      ],
      "text/plain": [
       "Empty DataFrame\n",
       "Columns: [Empty Result]\n",
       "Index: []"
      ]
     },
     "execution_count": 14,
     "metadata": {},
     "output_type": "execute_result"
    }
   ],
   "source": [
    "geodb.get_collection('land_use', query=\"raba_id=eq.7000\")"
   ]
  },
  {
   "cell_type": "markdown",
   "id": "retired-measure",
   "metadata": {
    "papermill": {
     "duration": 0.036654,
     "end_time": "2021-05-11T13:54:41.330627",
     "exception": false,
     "start_time": "2021-05-11T13:54:41.293973",
     "status": "completed"
    },
    "tags": []
   },
   "source": [
    "### Updating a Collection"
   ]
  },
  {
   "cell_type": "code",
   "execution_count": 15,
   "id": "hawaiian-tuner",
   "metadata": {
    "execution": {
     "iopub.execute_input": "2021-05-11T13:54:41.413852Z",
     "iopub.status.busy": "2021-05-11T13:54:41.412561Z",
     "iopub.status.idle": "2021-05-11T13:54:46.783533Z",
     "shell.execute_reply": "2021-05-11T13:54:46.784313Z"
    },
    "papermill": {
     "duration": 5.407987,
     "end_time": "2021-05-11T13:54:46.784606",
     "exception": false,
     "start_time": "2021-05-11T13:54:41.376619",
     "status": "completed"
    },
    "tags": []
   },
   "outputs": [
    {
     "data": {
      "text/html": [
       "<div>\n",
       "<style scoped>\n",
       "    .dataframe tbody tr th:only-of-type {\n",
       "        vertical-align: middle;\n",
       "    }\n",
       "\n",
       "    .dataframe tbody tr th {\n",
       "        vertical-align: top;\n",
       "    }\n",
       "\n",
       "    .dataframe thead th {\n",
       "        text-align: right;\n",
       "    }\n",
       "</style>\n",
       "<table border=\"1\" class=\"dataframe\">\n",
       "  <thead>\n",
       "    <tr style=\"text-align: right;\">\n",
       "      <th></th>\n",
       "      <th>id</th>\n",
       "      <th>created_at</th>\n",
       "      <th>modified_at</th>\n",
       "      <th>geometry</th>\n",
       "      <th>raba_pid</th>\n",
       "      <th>raba_id</th>\n",
       "      <th>d_od</th>\n",
       "    </tr>\n",
       "  </thead>\n",
       "  <tbody>\n",
       "    <tr>\n",
       "      <th>0</th>\n",
       "      <td>14019</td>\n",
       "      <td>2020-09-29T12:37:37.136218+00:00</td>\n",
       "      <td>2021-05-10T13:22:53.656906+00:00</td>\n",
       "      <td>POLYGON ((455586.504 98506.640, 455570.758 985...</td>\n",
       "      <td>6294574</td>\n",
       "      <td>1300</td>\n",
       "      <td>2000-01-01</td>\n",
       "    </tr>\n",
       "    <tr>\n",
       "      <th>1</th>\n",
       "      <td>17500</td>\n",
       "      <td>2020-09-29T12:37:37.136218+00:00</td>\n",
       "      <td>2021-05-10T13:22:53.656906+00:00</td>\n",
       "      <td>POLYGON ((454279.064 97000.000, 454277.758 969...</td>\n",
       "      <td>4684059</td>\n",
       "      <td>1300</td>\n",
       "      <td>2000-01-01</td>\n",
       "    </tr>\n",
       "    <tr>\n",
       "      <th>2</th>\n",
       "      <td>18687</td>\n",
       "      <td>2020-09-29T12:37:37.136218+00:00</td>\n",
       "      <td>2021-05-10T13:22:53.656906+00:00</td>\n",
       "      <td>POLYGON ((457250.000 97350.271, 457257.420 973...</td>\n",
       "      <td>5996126</td>\n",
       "      <td>1300</td>\n",
       "      <td>2000-01-01</td>\n",
       "    </tr>\n",
       "    <tr>\n",
       "      <th>3</th>\n",
       "      <td>39977</td>\n",
       "      <td>2020-12-01T13:40:18.246639+00:00</td>\n",
       "      <td>2021-05-10T13:22:53.656906+00:00</td>\n",
       "      <td>POLYGON ((462355.376 91003.570, 462362.891 910...</td>\n",
       "      <td>2324928</td>\n",
       "      <td>1300</td>\n",
       "      <td>2000-01-01</td>\n",
       "    </tr>\n",
       "    <tr>\n",
       "      <th>4</th>\n",
       "      <td>49390</td>\n",
       "      <td>2020-12-15T11:01:52.113704+00:00</td>\n",
       "      <td>2021-05-10T13:22:53.656906+00:00</td>\n",
       "      <td>POLYGON ((461167.931 92179.419, 461152.747 921...</td>\n",
       "      <td>6292140</td>\n",
       "      <td>1300</td>\n",
       "      <td>2000-01-01</td>\n",
       "    </tr>\n",
       "    <tr>\n",
       "      <th>...</th>\n",
       "      <td>...</td>\n",
       "      <td>...</td>\n",
       "      <td>...</td>\n",
       "      <td>...</td>\n",
       "      <td>...</td>\n",
       "      <td>...</td>\n",
       "      <td>...</td>\n",
       "    </tr>\n",
       "    <tr>\n",
       "      <th>8945</th>\n",
       "      <td>98209</td>\n",
       "      <td>2021-05-11T13:54:31.276633+00:00</td>\n",
       "      <td>None</td>\n",
       "      <td>POLYGON ((458247.583 99746.065, 458245.202 997...</td>\n",
       "      <td>6268059</td>\n",
       "      <td>1300</td>\n",
       "      <td>2019-03-04</td>\n",
       "    </tr>\n",
       "    <tr>\n",
       "      <th>8946</th>\n",
       "      <td>98210</td>\n",
       "      <td>2021-05-11T13:54:31.276633+00:00</td>\n",
       "      <td>None</td>\n",
       "      <td>POLYGON ((461932.283 90520.703, 461931.619 905...</td>\n",
       "      <td>6263561</td>\n",
       "      <td>1300</td>\n",
       "      <td>2019-04-01</td>\n",
       "    </tr>\n",
       "    <tr>\n",
       "      <th>8947</th>\n",
       "      <td>98241</td>\n",
       "      <td>2021-05-11T13:54:31.276633+00:00</td>\n",
       "      <td>None</td>\n",
       "      <td>POLYGON ((457231.170 90902.256, 457234.861 909...</td>\n",
       "      <td>6264862</td>\n",
       "      <td>1300</td>\n",
       "      <td>2019-01-05</td>\n",
       "    </tr>\n",
       "    <tr>\n",
       "      <th>8948</th>\n",
       "      <td>98242</td>\n",
       "      <td>2021-05-11T13:54:31.276633+00:00</td>\n",
       "      <td>None</td>\n",
       "      <td>POLYGON ((461378.845 91124.318, 461490.224 911...</td>\n",
       "      <td>6264865</td>\n",
       "      <td>1300</td>\n",
       "      <td>2019-02-21</td>\n",
       "    </tr>\n",
       "    <tr>\n",
       "      <th>8949</th>\n",
       "      <td>98264</td>\n",
       "      <td>2021-05-11T13:54:31.276633+00:00</td>\n",
       "      <td>None</td>\n",
       "      <td>POLYGON ((457450.306 97213.244, 457490.521 972...</td>\n",
       "      <td>6263915</td>\n",
       "      <td>1300</td>\n",
       "      <td>2019-01-05</td>\n",
       "    </tr>\n",
       "  </tbody>\n",
       "</table>\n",
       "<p>8950 rows × 7 columns</p>\n",
       "</div>"
      ],
      "text/plain": [
       "         id                        created_at  \\\n",
       "0     14019  2020-09-29T12:37:37.136218+00:00   \n",
       "1     17500  2020-09-29T12:37:37.136218+00:00   \n",
       "2     18687  2020-09-29T12:37:37.136218+00:00   \n",
       "3     39977  2020-12-01T13:40:18.246639+00:00   \n",
       "4     49390  2020-12-15T11:01:52.113704+00:00   \n",
       "...     ...                               ...   \n",
       "8945  98209  2021-05-11T13:54:31.276633+00:00   \n",
       "8946  98210  2021-05-11T13:54:31.276633+00:00   \n",
       "8947  98241  2021-05-11T13:54:31.276633+00:00   \n",
       "8948  98242  2021-05-11T13:54:31.276633+00:00   \n",
       "8949  98264  2021-05-11T13:54:31.276633+00:00   \n",
       "\n",
       "                           modified_at  \\\n",
       "0     2021-05-10T13:22:53.656906+00:00   \n",
       "1     2021-05-10T13:22:53.656906+00:00   \n",
       "2     2021-05-10T13:22:53.656906+00:00   \n",
       "3     2021-05-10T13:22:53.656906+00:00   \n",
       "4     2021-05-10T13:22:53.656906+00:00   \n",
       "...                                ...   \n",
       "8945                              None   \n",
       "8946                              None   \n",
       "8947                              None   \n",
       "8948                              None   \n",
       "8949                              None   \n",
       "\n",
       "                                               geometry  raba_pid  raba_id  \\\n",
       "0     POLYGON ((455586.504 98506.640, 455570.758 985...   6294574     1300   \n",
       "1     POLYGON ((454279.064 97000.000, 454277.758 969...   4684059     1300   \n",
       "2     POLYGON ((457250.000 97350.271, 457257.420 973...   5996126     1300   \n",
       "3     POLYGON ((462355.376 91003.570, 462362.891 910...   2324928     1300   \n",
       "4     POLYGON ((461167.931 92179.419, 461152.747 921...   6292140     1300   \n",
       "...                                                 ...       ...      ...   \n",
       "8945  POLYGON ((458247.583 99746.065, 458245.202 997...   6268059     1300   \n",
       "8946  POLYGON ((461932.283 90520.703, 461931.619 905...   6263561     1300   \n",
       "8947  POLYGON ((457231.170 90902.256, 457234.861 909...   6264862     1300   \n",
       "8948  POLYGON ((461378.845 91124.318, 461490.224 911...   6264865     1300   \n",
       "8949  POLYGON ((457450.306 97213.244, 457490.521 972...   6263915     1300   \n",
       "\n",
       "            d_od  \n",
       "0     2000-01-01  \n",
       "1     2000-01-01  \n",
       "2     2000-01-01  \n",
       "3     2000-01-01  \n",
       "4     2000-01-01  \n",
       "...          ...  \n",
       "8945  2019-03-04  \n",
       "8946  2019-04-01  \n",
       "8947  2019-01-05  \n",
       "8948  2019-02-21  \n",
       "8949  2019-01-05  \n",
       "\n",
       "[8950 rows x 7 columns]"
      ]
     },
     "execution_count": 15,
     "metadata": {},
     "output_type": "execute_result"
    }
   ],
   "source": [
    "geodb.get_collection('land_use', query=\"raba_id=eq.1300\")"
   ]
  },
  {
   "cell_type": "code",
   "execution_count": 16,
   "id": "centered-guard",
   "metadata": {
    "execution": {
     "iopub.execute_input": "2021-05-11T13:54:46.864224Z",
     "iopub.status.busy": "2021-05-11T13:54:46.863365Z",
     "iopub.status.idle": "2021-05-11T13:54:51.797208Z",
     "shell.execute_reply": "2021-05-11T13:54:51.798767Z"
    },
    "papermill": {
     "duration": 4.975903,
     "end_time": "2021-05-11T13:54:51.799061",
     "exception": false,
     "start_time": "2021-05-11T13:54:46.823158",
     "status": "completed"
    },
    "tags": []
   },
   "outputs": [
    {
     "data": {
      "text/plain": [
       "land_use updated"
      ]
     },
     "execution_count": 16,
     "metadata": {},
     "output_type": "execute_result"
    }
   ],
   "source": [
    "geodb.update_collection('land_use', query=\"raba_id=eq.1300\", values={'d_od': '2000-01-01'})"
   ]
  },
  {
   "cell_type": "code",
   "execution_count": 17,
   "id": "difficult-dominant",
   "metadata": {
    "execution": {
     "iopub.execute_input": "2021-05-11T13:54:51.854196Z",
     "iopub.status.busy": "2021-05-11T13:54:51.852412Z",
     "iopub.status.idle": "2021-05-11T13:54:56.854508Z",
     "shell.execute_reply": "2021-05-11T13:54:56.852701Z"
    },
    "papermill": {
     "duration": 5.031617,
     "end_time": "2021-05-11T13:54:56.854687",
     "exception": false,
     "start_time": "2021-05-11T13:54:51.823070",
     "status": "completed"
    },
    "tags": []
   },
   "outputs": [
    {
     "data": {
      "text/html": [
       "<div>\n",
       "<style scoped>\n",
       "    .dataframe tbody tr th:only-of-type {\n",
       "        vertical-align: middle;\n",
       "    }\n",
       "\n",
       "    .dataframe tbody tr th {\n",
       "        vertical-align: top;\n",
       "    }\n",
       "\n",
       "    .dataframe thead th {\n",
       "        text-align: right;\n",
       "    }\n",
       "</style>\n",
       "<table border=\"1\" class=\"dataframe\">\n",
       "  <thead>\n",
       "    <tr style=\"text-align: right;\">\n",
       "      <th></th>\n",
       "      <th>id</th>\n",
       "      <th>created_at</th>\n",
       "      <th>modified_at</th>\n",
       "      <th>geometry</th>\n",
       "      <th>raba_pid</th>\n",
       "      <th>raba_id</th>\n",
       "      <th>d_od</th>\n",
       "    </tr>\n",
       "  </thead>\n",
       "  <tbody>\n",
       "    <tr>\n",
       "      <th>0</th>\n",
       "      <td>14019</td>\n",
       "      <td>2020-09-29T12:37:37.136218+00:00</td>\n",
       "      <td>2021-05-11T13:54:50.772978+00:00</td>\n",
       "      <td>POLYGON ((455586.504 98506.640, 455570.758 985...</td>\n",
       "      <td>6294574</td>\n",
       "      <td>1300</td>\n",
       "      <td>2000-01-01</td>\n",
       "    </tr>\n",
       "    <tr>\n",
       "      <th>1</th>\n",
       "      <td>17500</td>\n",
       "      <td>2020-09-29T12:37:37.136218+00:00</td>\n",
       "      <td>2021-05-11T13:54:50.772978+00:00</td>\n",
       "      <td>POLYGON ((454279.064 97000.000, 454277.758 969...</td>\n",
       "      <td>4684059</td>\n",
       "      <td>1300</td>\n",
       "      <td>2000-01-01</td>\n",
       "    </tr>\n",
       "    <tr>\n",
       "      <th>2</th>\n",
       "      <td>18687</td>\n",
       "      <td>2020-09-29T12:37:37.136218+00:00</td>\n",
       "      <td>2021-05-11T13:54:50.772978+00:00</td>\n",
       "      <td>POLYGON ((457250.000 97350.271, 457257.420 973...</td>\n",
       "      <td>5996126</td>\n",
       "      <td>1300</td>\n",
       "      <td>2000-01-01</td>\n",
       "    </tr>\n",
       "    <tr>\n",
       "      <th>3</th>\n",
       "      <td>39977</td>\n",
       "      <td>2020-12-01T13:40:18.246639+00:00</td>\n",
       "      <td>2021-05-11T13:54:50.772978+00:00</td>\n",
       "      <td>POLYGON ((462355.376 91003.570, 462362.891 910...</td>\n",
       "      <td>2324928</td>\n",
       "      <td>1300</td>\n",
       "      <td>2000-01-01</td>\n",
       "    </tr>\n",
       "    <tr>\n",
       "      <th>4</th>\n",
       "      <td>49390</td>\n",
       "      <td>2020-12-15T11:01:52.113704+00:00</td>\n",
       "      <td>2021-05-11T13:54:50.772978+00:00</td>\n",
       "      <td>POLYGON ((461167.931 92179.419, 461152.747 921...</td>\n",
       "      <td>6292140</td>\n",
       "      <td>1300</td>\n",
       "      <td>2000-01-01</td>\n",
       "    </tr>\n",
       "    <tr>\n",
       "      <th>...</th>\n",
       "      <td>...</td>\n",
       "      <td>...</td>\n",
       "      <td>...</td>\n",
       "      <td>...</td>\n",
       "      <td>...</td>\n",
       "      <td>...</td>\n",
       "      <td>...</td>\n",
       "    </tr>\n",
       "    <tr>\n",
       "      <th>8945</th>\n",
       "      <td>98208</td>\n",
       "      <td>2021-05-11T13:54:31.276633+00:00</td>\n",
       "      <td>2021-05-11T13:54:50.772978+00:00</td>\n",
       "      <td>POLYGON ((458304.555 100146.103, 458306.726 10...</td>\n",
       "      <td>6268058</td>\n",
       "      <td>1300</td>\n",
       "      <td>2000-01-01</td>\n",
       "    </tr>\n",
       "    <tr>\n",
       "      <th>8946</th>\n",
       "      <td>98209</td>\n",
       "      <td>2021-05-11T13:54:31.276633+00:00</td>\n",
       "      <td>2021-05-11T13:54:50.772978+00:00</td>\n",
       "      <td>POLYGON ((458247.583 99746.065, 458245.202 997...</td>\n",
       "      <td>6268059</td>\n",
       "      <td>1300</td>\n",
       "      <td>2000-01-01</td>\n",
       "    </tr>\n",
       "    <tr>\n",
       "      <th>8947</th>\n",
       "      <td>98210</td>\n",
       "      <td>2021-05-11T13:54:31.276633+00:00</td>\n",
       "      <td>2021-05-11T13:54:50.772978+00:00</td>\n",
       "      <td>POLYGON ((461932.283 90520.703, 461931.619 905...</td>\n",
       "      <td>6263561</td>\n",
       "      <td>1300</td>\n",
       "      <td>2000-01-01</td>\n",
       "    </tr>\n",
       "    <tr>\n",
       "      <th>8948</th>\n",
       "      <td>98241</td>\n",
       "      <td>2021-05-11T13:54:31.276633+00:00</td>\n",
       "      <td>2021-05-11T13:54:50.772978+00:00</td>\n",
       "      <td>POLYGON ((457231.170 90902.256, 457234.861 909...</td>\n",
       "      <td>6264862</td>\n",
       "      <td>1300</td>\n",
       "      <td>2000-01-01</td>\n",
       "    </tr>\n",
       "    <tr>\n",
       "      <th>8949</th>\n",
       "      <td>98242</td>\n",
       "      <td>2021-05-11T13:54:31.276633+00:00</td>\n",
       "      <td>2021-05-11T13:54:50.772978+00:00</td>\n",
       "      <td>POLYGON ((461378.845 91124.318, 461490.224 911...</td>\n",
       "      <td>6264865</td>\n",
       "      <td>1300</td>\n",
       "      <td>2000-01-01</td>\n",
       "    </tr>\n",
       "  </tbody>\n",
       "</table>\n",
       "<p>8950 rows × 7 columns</p>\n",
       "</div>"
      ],
      "text/plain": [
       "         id                        created_at  \\\n",
       "0     14019  2020-09-29T12:37:37.136218+00:00   \n",
       "1     17500  2020-09-29T12:37:37.136218+00:00   \n",
       "2     18687  2020-09-29T12:37:37.136218+00:00   \n",
       "3     39977  2020-12-01T13:40:18.246639+00:00   \n",
       "4     49390  2020-12-15T11:01:52.113704+00:00   \n",
       "...     ...                               ...   \n",
       "8945  98208  2021-05-11T13:54:31.276633+00:00   \n",
       "8946  98209  2021-05-11T13:54:31.276633+00:00   \n",
       "8947  98210  2021-05-11T13:54:31.276633+00:00   \n",
       "8948  98241  2021-05-11T13:54:31.276633+00:00   \n",
       "8949  98242  2021-05-11T13:54:31.276633+00:00   \n",
       "\n",
       "                           modified_at  \\\n",
       "0     2021-05-11T13:54:50.772978+00:00   \n",
       "1     2021-05-11T13:54:50.772978+00:00   \n",
       "2     2021-05-11T13:54:50.772978+00:00   \n",
       "3     2021-05-11T13:54:50.772978+00:00   \n",
       "4     2021-05-11T13:54:50.772978+00:00   \n",
       "...                                ...   \n",
       "8945  2021-05-11T13:54:50.772978+00:00   \n",
       "8946  2021-05-11T13:54:50.772978+00:00   \n",
       "8947  2021-05-11T13:54:50.772978+00:00   \n",
       "8948  2021-05-11T13:54:50.772978+00:00   \n",
       "8949  2021-05-11T13:54:50.772978+00:00   \n",
       "\n",
       "                                               geometry  raba_pid  raba_id  \\\n",
       "0     POLYGON ((455586.504 98506.640, 455570.758 985...   6294574     1300   \n",
       "1     POLYGON ((454279.064 97000.000, 454277.758 969...   4684059     1300   \n",
       "2     POLYGON ((457250.000 97350.271, 457257.420 973...   5996126     1300   \n",
       "3     POLYGON ((462355.376 91003.570, 462362.891 910...   2324928     1300   \n",
       "4     POLYGON ((461167.931 92179.419, 461152.747 921...   6292140     1300   \n",
       "...                                                 ...       ...      ...   \n",
       "8945  POLYGON ((458304.555 100146.103, 458306.726 10...   6268058     1300   \n",
       "8946  POLYGON ((458247.583 99746.065, 458245.202 997...   6268059     1300   \n",
       "8947  POLYGON ((461932.283 90520.703, 461931.619 905...   6263561     1300   \n",
       "8948  POLYGON ((457231.170 90902.256, 457234.861 909...   6264862     1300   \n",
       "8949  POLYGON ((461378.845 91124.318, 461490.224 911...   6264865     1300   \n",
       "\n",
       "            d_od  \n",
       "0     2000-01-01  \n",
       "1     2000-01-01  \n",
       "2     2000-01-01  \n",
       "3     2000-01-01  \n",
       "4     2000-01-01  \n",
       "...          ...  \n",
       "8945  2000-01-01  \n",
       "8946  2000-01-01  \n",
       "8947  2000-01-01  \n",
       "8948  2000-01-01  \n",
       "8949  2000-01-01  \n",
       "\n",
       "[8950 rows x 7 columns]"
      ]
     },
     "execution_count": 17,
     "metadata": {},
     "output_type": "execute_result"
    }
   ],
   "source": [
    "geodb.get_collection('land_use', query=\"raba_id=eq.1300\")"
   ]
  },
  {
   "cell_type": "markdown",
   "id": "acoustic-railway",
   "metadata": {
    "papermill": {
     "duration": 0.023012,
     "end_time": "2021-05-11T13:54:56.906765",
     "exception": false,
     "start_time": "2021-05-11T13:54:56.883753",
     "status": "completed"
    },
    "tags": []
   },
   "source": [
    "### Managing Properties of a Collection"
   ]
  },
  {
   "cell_type": "code",
   "execution_count": 18,
   "id": "latin-quantum",
   "metadata": {
    "execution": {
     "iopub.execute_input": "2021-05-11T13:54:56.962593Z",
     "iopub.status.busy": "2021-05-11T13:54:56.961695Z",
     "iopub.status.idle": "2021-05-11T13:54:57.584925Z",
     "shell.execute_reply": "2021-05-11T13:54:57.583978Z"
    },
    "papermill": {
     "duration": 0.654078,
     "end_time": "2021-05-11T13:54:57.585125",
     "exception": false,
     "start_time": "2021-05-11T13:54:56.931047",
     "status": "completed"
    },
    "tags": []
   },
   "outputs": [
    {
     "data": {
      "text/html": [
       "<div>\n",
       "<style scoped>\n",
       "    .dataframe tbody tr th:only-of-type {\n",
       "        vertical-align: middle;\n",
       "    }\n",
       "\n",
       "    .dataframe tbody tr th {\n",
       "        vertical-align: top;\n",
       "    }\n",
       "\n",
       "    .dataframe thead th {\n",
       "        text-align: right;\n",
       "    }\n",
       "</style>\n",
       "<table border=\"1\" class=\"dataframe\">\n",
       "  <thead>\n",
       "    <tr style=\"text-align: right;\">\n",
       "      <th></th>\n",
       "      <th>owner</th>\n",
       "      <th>database</th>\n",
       "      <th>table_name</th>\n",
       "    </tr>\n",
       "  </thead>\n",
       "  <tbody>\n",
       "    <tr>\n",
       "      <th>0</th>\n",
       "      <td>geodb_0b01bfcd-2d09-46f8-84e8-cb5720fba14c</td>\n",
       "      <td>geodb_0b01bfcd-2d09-46f8-84e8-cb5720fba14c</td>\n",
       "      <td>delineated_parcels_s</td>\n",
       "    </tr>\n",
       "    <tr>\n",
       "      <th>1</th>\n",
       "      <td>geodb_0b01bfcd-2d09-46f8-84e8-cb5720fba14c</td>\n",
       "      <td>geodb_0b01bfcd-2d09-46f8-84e8-cb5720fba14c</td>\n",
       "      <td>test_batic</td>\n",
       "    </tr>\n",
       "    <tr>\n",
       "      <th>2</th>\n",
       "      <td>geodb_0b01bfcd-2d09-46f8-84e8-cb5720fba14c</td>\n",
       "      <td>phi_week</td>\n",
       "      <td>alster</td>\n",
       "    </tr>\n",
       "    <tr>\n",
       "      <th>3</th>\n",
       "      <td>geodb_0b01bfcd-2d09-46f8-84e8-cb5720fba14c</td>\n",
       "      <td>phi_week</td>\n",
       "      <td>gran_chaco</td>\n",
       "    </tr>\n",
       "    <tr>\n",
       "      <th>4</th>\n",
       "      <td>geodb_0d6df427-8c09-41b9-abc9-64ce13a68125</td>\n",
       "      <td>geodb_0d6df427-8c09-41b9-abc9-64ce13a68125</td>\n",
       "      <td>land_use</td>\n",
       "    </tr>\n",
       "    <tr>\n",
       "      <th>...</th>\n",
       "      <td>...</td>\n",
       "      <td>...</td>\n",
       "      <td>...</td>\n",
       "    </tr>\n",
       "    <tr>\n",
       "      <th>862</th>\n",
       "      <td>geodb_lpis_iacs_admin</td>\n",
       "      <td>anja</td>\n",
       "      <td>N4a</td>\n",
       "    </tr>\n",
       "    <tr>\n",
       "      <th>863</th>\n",
       "      <td>geodb_lpis_iacs_admin</td>\n",
       "      <td>anja</td>\n",
       "      <td>race_indicators</td>\n",
       "    </tr>\n",
       "    <tr>\n",
       "      <th>864</th>\n",
       "      <td>geodb_lpis_iacs_admin</td>\n",
       "      <td>lpis_iacs</td>\n",
       "      <td>land_use_slo</td>\n",
       "    </tr>\n",
       "    <tr>\n",
       "      <th>865</th>\n",
       "      <td>geodb_lpis_iacs_admin</td>\n",
       "      <td>lpis_iacs</td>\n",
       "      <td>lpis_aut</td>\n",
       "    </tr>\n",
       "    <tr>\n",
       "      <th>866</th>\n",
       "      <td>geodb_lpis_iacs_admin</td>\n",
       "      <td>lpis_iacs</td>\n",
       "      <td>lpis_slo</td>\n",
       "    </tr>\n",
       "  </tbody>\n",
       "</table>\n",
       "<p>867 rows × 3 columns</p>\n",
       "</div>"
      ],
      "text/plain": [
       "                                          owner  \\\n",
       "0    geodb_0b01bfcd-2d09-46f8-84e8-cb5720fba14c   \n",
       "1    geodb_0b01bfcd-2d09-46f8-84e8-cb5720fba14c   \n",
       "2    geodb_0b01bfcd-2d09-46f8-84e8-cb5720fba14c   \n",
       "3    geodb_0b01bfcd-2d09-46f8-84e8-cb5720fba14c   \n",
       "4    geodb_0d6df427-8c09-41b9-abc9-64ce13a68125   \n",
       "..                                          ...   \n",
       "862                       geodb_lpis_iacs_admin   \n",
       "863                       geodb_lpis_iacs_admin   \n",
       "864                       geodb_lpis_iacs_admin   \n",
       "865                       geodb_lpis_iacs_admin   \n",
       "866                       geodb_lpis_iacs_admin   \n",
       "\n",
       "                                       database            table_name  \n",
       "0    geodb_0b01bfcd-2d09-46f8-84e8-cb5720fba14c  delineated_parcels_s  \n",
       "1    geodb_0b01bfcd-2d09-46f8-84e8-cb5720fba14c            test_batic  \n",
       "2                                      phi_week                alster  \n",
       "3                                      phi_week            gran_chaco  \n",
       "4    geodb_0d6df427-8c09-41b9-abc9-64ce13a68125              land_use  \n",
       "..                                          ...                   ...  \n",
       "862                                        anja                   N4a  \n",
       "863                                        anja       race_indicators  \n",
       "864                                   lpis_iacs          land_use_slo  \n",
       "865                                   lpis_iacs              lpis_aut  \n",
       "866                                   lpis_iacs              lpis_slo  \n",
       "\n",
       "[867 rows x 3 columns]"
      ]
     },
     "execution_count": 18,
     "metadata": {},
     "output_type": "execute_result"
    }
   ],
   "source": [
    "geodb.get_my_collections()"
   ]
  },
  {
   "cell_type": "code",
   "execution_count": 19,
   "id": "relative-fifty",
   "metadata": {
    "execution": {
     "iopub.execute_input": "2021-05-11T13:54:57.646427Z",
     "iopub.status.busy": "2021-05-11T13:54:57.644681Z",
     "iopub.status.idle": "2021-05-11T13:54:59.185534Z",
     "shell.execute_reply": "2021-05-11T13:54:59.186128Z"
    },
    "papermill": {
     "duration": 1.573626,
     "end_time": "2021-05-11T13:54:59.186320",
     "exception": false,
     "start_time": "2021-05-11T13:54:57.612694",
     "status": "completed"
    },
    "tags": []
   },
   "outputs": [
    {
     "data": {
      "text/html": [
       "<div>\n",
       "<style scoped>\n",
       "    .dataframe tbody tr th:only-of-type {\n",
       "        vertical-align: middle;\n",
       "    }\n",
       "\n",
       "    .dataframe tbody tr th {\n",
       "        vertical-align: top;\n",
       "    }\n",
       "\n",
       "    .dataframe thead th {\n",
       "        text-align: right;\n",
       "    }\n",
       "</style>\n",
       "<table border=\"1\" class=\"dataframe\">\n",
       "  <thead>\n",
       "    <tr style=\"text-align: right;\">\n",
       "      <th></th>\n",
       "      <th>table_name</th>\n",
       "      <th>column_name</th>\n",
       "      <th>data_type</th>\n",
       "    </tr>\n",
       "  </thead>\n",
       "  <tbody>\n",
       "  </tbody>\n",
       "</table>\n",
       "</div>"
      ],
      "text/plain": [
       "Empty DataFrame\n",
       "Columns: [table_name, column_name, data_type]\n",
       "Index: []"
      ]
     },
     "execution_count": 19,
     "metadata": {},
     "output_type": "execute_result"
    }
   ],
   "source": [
    "geodb.get_properties('land_use')"
   ]
  },
  {
   "cell_type": "code",
   "execution_count": 20,
   "id": "closed-notebook",
   "metadata": {
    "execution": {
     "iopub.execute_input": "2021-05-11T13:54:59.248173Z",
     "iopub.status.busy": "2021-05-11T13:54:59.246733Z",
     "iopub.status.idle": "2021-05-11T13:55:00.708422Z",
     "shell.execute_reply": "2021-05-11T13:55:00.708951Z"
    },
    "papermill": {
     "duration": 1.495215,
     "end_time": "2021-05-11T13:55:00.709149",
     "exception": false,
     "start_time": "2021-05-11T13:54:59.213934",
     "status": "completed"
    },
    "tags": []
   },
   "outputs": [
    {
     "data": {
      "text/plain": [
       "Properties added"
      ]
     },
     "execution_count": 20,
     "metadata": {},
     "output_type": "execute_result"
    }
   ],
   "source": [
    "geodb.add_property('land_use', \"test_prop\", 'integer')"
   ]
  },
  {
   "cell_type": "code",
   "execution_count": 21,
   "id": "extended-rescue",
   "metadata": {
    "execution": {
     "iopub.execute_input": "2021-05-11T13:55:00.769787Z",
     "iopub.status.busy": "2021-05-11T13:55:00.768910Z",
     "iopub.status.idle": "2021-05-11T13:55:02.459795Z",
     "shell.execute_reply": "2021-05-11T13:55:02.459110Z"
    },
    "papermill": {
     "duration": 1.720784,
     "end_time": "2021-05-11T13:55:02.459926",
     "exception": false,
     "start_time": "2021-05-11T13:55:00.739142",
     "status": "completed"
    },
    "tags": []
   },
   "outputs": [
    {
     "data": {
      "text/html": [
       "<div>\n",
       "<style scoped>\n",
       "    .dataframe tbody tr th:only-of-type {\n",
       "        vertical-align: middle;\n",
       "    }\n",
       "\n",
       "    .dataframe tbody tr th {\n",
       "        vertical-align: top;\n",
       "    }\n",
       "\n",
       "    .dataframe thead th {\n",
       "        text-align: right;\n",
       "    }\n",
       "</style>\n",
       "<table border=\"1\" class=\"dataframe\">\n",
       "  <thead>\n",
       "    <tr style=\"text-align: right;\">\n",
       "      <th></th>\n",
       "      <th>table_name</th>\n",
       "      <th>column_name</th>\n",
       "      <th>data_type</th>\n",
       "    </tr>\n",
       "  </thead>\n",
       "  <tbody>\n",
       "  </tbody>\n",
       "</table>\n",
       "</div>"
      ],
      "text/plain": [
       "Empty DataFrame\n",
       "Columns: [table_name, column_name, data_type]\n",
       "Index: []"
      ]
     },
     "execution_count": 21,
     "metadata": {},
     "output_type": "execute_result"
    }
   ],
   "source": [
    "geodb.get_properties('land_use')"
   ]
  },
  {
   "cell_type": "code",
   "execution_count": 22,
   "id": "early-gilbert",
   "metadata": {
    "execution": {
     "iopub.execute_input": "2021-05-11T13:55:02.516204Z",
     "iopub.status.busy": "2021-05-11T13:55:02.515324Z",
     "iopub.status.idle": "2021-05-11T13:55:07.395473Z",
     "shell.execute_reply": "2021-05-11T13:55:07.394779Z"
    },
    "papermill": {
     "duration": 4.908887,
     "end_time": "2021-05-11T13:55:07.395763",
     "exception": false,
     "start_time": "2021-05-11T13:55:02.486876",
     "status": "completed"
    },
    "tags": []
   },
   "outputs": [
    {
     "data": {
      "text/plain": [
       "Properties ['test_prop'] dropped from geodb_418dfeac-15f0-4606-9edb-fd9eb722bf04_land_use"
      ]
     },
     "execution_count": 22,
     "metadata": {},
     "output_type": "execute_result"
    }
   ],
   "source": [
    "geodb.drop_property('land_use', 'test_prop')"
   ]
  },
  {
   "cell_type": "code",
   "execution_count": 23,
   "id": "southern-designer",
   "metadata": {
    "execution": {
     "iopub.execute_input": "2021-05-11T13:55:07.456851Z",
     "iopub.status.busy": "2021-05-11T13:55:07.455711Z",
     "iopub.status.idle": "2021-05-11T13:55:08.927472Z",
     "shell.execute_reply": "2021-05-11T13:55:08.927834Z"
    },
    "papermill": {
     "duration": 1.503388,
     "end_time": "2021-05-11T13:55:08.927970",
     "exception": false,
     "start_time": "2021-05-11T13:55:07.424582",
     "status": "completed"
    },
    "tags": []
   },
   "outputs": [
    {
     "data": {
      "text/html": [
       "<div>\n",
       "<style scoped>\n",
       "    .dataframe tbody tr th:only-of-type {\n",
       "        vertical-align: middle;\n",
       "    }\n",
       "\n",
       "    .dataframe tbody tr th {\n",
       "        vertical-align: top;\n",
       "    }\n",
       "\n",
       "    .dataframe thead th {\n",
       "        text-align: right;\n",
       "    }\n",
       "</style>\n",
       "<table border=\"1\" class=\"dataframe\">\n",
       "  <thead>\n",
       "    <tr style=\"text-align: right;\">\n",
       "      <th></th>\n",
       "      <th>table_name</th>\n",
       "      <th>column_name</th>\n",
       "      <th>data_type</th>\n",
       "    </tr>\n",
       "  </thead>\n",
       "  <tbody>\n",
       "  </tbody>\n",
       "</table>\n",
       "</div>"
      ],
      "text/plain": [
       "Empty DataFrame\n",
       "Columns: [table_name, column_name, data_type]\n",
       "Index: []"
      ]
     },
     "execution_count": 23,
     "metadata": {},
     "output_type": "execute_result"
    }
   ],
   "source": [
    "geodb.get_properties('land_use')"
   ]
  },
  {
   "cell_type": "code",
   "execution_count": 24,
   "id": "insured-pledge",
   "metadata": {
    "execution": {
     "iopub.execute_input": "2021-05-11T13:55:08.985278Z",
     "iopub.status.busy": "2021-05-11T13:55:08.984134Z",
     "iopub.status.idle": "2021-05-11T13:55:10.554070Z",
     "shell.execute_reply": "2021-05-11T13:55:10.554675Z"
    },
    "papermill": {
     "duration": 1.601987,
     "end_time": "2021-05-11T13:55:10.554872",
     "exception": false,
     "start_time": "2021-05-11T13:55:08.952885",
     "status": "completed"
    },
    "tags": []
   },
   "outputs": [
    {
     "data": {
      "text/plain": [
       "Properties added"
      ]
     },
     "execution_count": 24,
     "metadata": {},
     "output_type": "execute_result"
    }
   ],
   "source": [
    "geodb.add_properties('land_use', properties={'test1': 'integer', 'test2': 'date'})"
   ]
  },
  {
   "cell_type": "code",
   "execution_count": 25,
   "id": "manual-musical",
   "metadata": {
    "execution": {
     "iopub.execute_input": "2021-05-11T13:55:10.616001Z",
     "iopub.status.busy": "2021-05-11T13:55:10.613106Z",
     "iopub.status.idle": "2021-05-11T13:55:12.427761Z",
     "shell.execute_reply": "2021-05-11T13:55:12.426834Z"
    },
    "papermill": {
     "duration": 1.847228,
     "end_time": "2021-05-11T13:55:12.427924",
     "exception": false,
     "start_time": "2021-05-11T13:55:10.580696",
     "status": "completed"
    },
    "tags": []
   },
   "outputs": [
    {
     "data": {
      "text/html": [
       "<div>\n",
       "<style scoped>\n",
       "    .dataframe tbody tr th:only-of-type {\n",
       "        vertical-align: middle;\n",
       "    }\n",
       "\n",
       "    .dataframe tbody tr th {\n",
       "        vertical-align: top;\n",
       "    }\n",
       "\n",
       "    .dataframe thead th {\n",
       "        text-align: right;\n",
       "    }\n",
       "</style>\n",
       "<table border=\"1\" class=\"dataframe\">\n",
       "  <thead>\n",
       "    <tr style=\"text-align: right;\">\n",
       "      <th></th>\n",
       "      <th>table_name</th>\n",
       "      <th>column_name</th>\n",
       "      <th>data_type</th>\n",
       "    </tr>\n",
       "  </thead>\n",
       "  <tbody>\n",
       "  </tbody>\n",
       "</table>\n",
       "</div>"
      ],
      "text/plain": [
       "Empty DataFrame\n",
       "Columns: [table_name, column_name, data_type]\n",
       "Index: []"
      ]
     },
     "execution_count": 25,
     "metadata": {},
     "output_type": "execute_result"
    }
   ],
   "source": [
    "geodb.get_properties('land_use')"
   ]
  },
  {
   "cell_type": "code",
   "execution_count": 26,
   "id": "czech-disclaimer",
   "metadata": {
    "execution": {
     "iopub.execute_input": "2021-05-11T13:55:12.505594Z",
     "iopub.status.busy": "2021-05-11T13:55:12.504415Z",
     "iopub.status.idle": "2021-05-11T13:55:17.285665Z",
     "shell.execute_reply": "2021-05-11T13:55:17.286760Z"
    },
    "papermill": {
     "duration": 4.816398,
     "end_time": "2021-05-11T13:55:17.286974",
     "exception": false,
     "start_time": "2021-05-11T13:55:12.470576",
     "status": "completed"
    },
    "tags": []
   },
   "outputs": [
    {
     "data": {
      "text/plain": [
       "Properties ['test1', 'test2'] dropped from geodb_418dfeac-15f0-4606-9edb-fd9eb722bf04_land_use"
      ]
     },
     "execution_count": 26,
     "metadata": {},
     "output_type": "execute_result"
    }
   ],
   "source": [
    "geodb.drop_properties('land_use', properties=['test1', 'test2'])"
   ]
  },
  {
   "cell_type": "code",
   "execution_count": 27,
   "id": "superior-payroll",
   "metadata": {
    "execution": {
     "iopub.execute_input": "2021-05-11T13:55:17.348640Z",
     "iopub.status.busy": "2021-05-11T13:55:17.346450Z",
     "iopub.status.idle": "2021-05-11T13:55:18.981903Z",
     "shell.execute_reply": "2021-05-11T13:55:18.981220Z"
    },
    "papermill": {
     "duration": 1.668085,
     "end_time": "2021-05-11T13:55:18.982091",
     "exception": false,
     "start_time": "2021-05-11T13:55:17.314006",
     "status": "completed"
    },
    "tags": []
   },
   "outputs": [
    {
     "data": {
      "text/html": [
       "<div>\n",
       "<style scoped>\n",
       "    .dataframe tbody tr th:only-of-type {\n",
       "        vertical-align: middle;\n",
       "    }\n",
       "\n",
       "    .dataframe tbody tr th {\n",
       "        vertical-align: top;\n",
       "    }\n",
       "\n",
       "    .dataframe thead th {\n",
       "        text-align: right;\n",
       "    }\n",
       "</style>\n",
       "<table border=\"1\" class=\"dataframe\">\n",
       "  <thead>\n",
       "    <tr style=\"text-align: right;\">\n",
       "      <th></th>\n",
       "      <th>table_name</th>\n",
       "      <th>column_name</th>\n",
       "      <th>data_type</th>\n",
       "    </tr>\n",
       "  </thead>\n",
       "  <tbody>\n",
       "  </tbody>\n",
       "</table>\n",
       "</div>"
      ],
      "text/plain": [
       "Empty DataFrame\n",
       "Columns: [table_name, column_name, data_type]\n",
       "Index: []"
      ]
     },
     "execution_count": 27,
     "metadata": {},
     "output_type": "execute_result"
    }
   ],
   "source": [
    "geodb.get_properties('land_use')"
   ]
  },
  {
   "cell_type": "code",
   "execution_count": 28,
   "id": "amended-boundary",
   "metadata": {
    "execution": {
     "iopub.execute_input": "2021-05-11T13:55:19.046365Z",
     "iopub.status.busy": "2021-05-11T13:55:19.045296Z",
     "iopub.status.idle": "2021-05-11T13:55:19.047723Z",
     "shell.execute_reply": "2021-05-11T13:55:19.047021Z"
    },
    "papermill": {
     "duration": 0.034153,
     "end_time": "2021-05-11T13:55:19.047874",
     "exception": false,
     "start_time": "2021-05-11T13:55:19.013721",
     "status": "completed"
    },
    "tags": []
   },
   "outputs": [],
   "source": [
    "#geodb.drop_collection('land_use')"
   ]
  },
  {
   "cell_type": "code",
   "execution_count": null,
   "id": "careful-aircraft",
   "metadata": {
    "papermill": {
     "duration": 0.025134,
     "end_time": "2021-05-11T13:55:19.103758",
     "exception": false,
     "start_time": "2021-05-11T13:55:19.078624",
     "status": "completed"
    },
    "tags": []
   },
   "outputs": [],
   "source": []
  }
 ],
 "metadata": {
  "kernelspec": {
   "display_name": "EDC 0.21.0 (Python3)",
   "language": "python",
   "name": "edc"
  },
  "language_info": {
   "codemirror_mode": {
    "name": "ipython",
    "version": 3
   },
   "file_extension": ".py",
   "mimetype": "text/x-python",
   "name": "python",
   "nbconvert_exporter": "python",
   "pygments_lexer": "ipython3",
   "version": "3.8.10"
  },
  "papermill": {
   "duration": 74.115228,
   "end_time": "2021-05-11T13:55:20.462922",
   "environment_variables": {},
   "exception": null,
   "input_path": "/tmp/tmpl0m3n1co",
   "output_path": "/tmp/cur_notebook.ipynb",
   "parameters": {},
   "start_time": "2021-05-11T13:54:06.347694",
   "version": "2.1.2"
  },
  "properties": {
   "description": "Euro Data Cube GeoDB: Manage Datasets",
   "id": "geodb-manage",
   "license": null,
   "name": "GeoDB: Manage Datasets",
   "requirements": [
    "eurodatacube-geodb"
   ],
   "tags": [
    "Getting started",
    "GeoDB"
   ],
   "version": "0.2"
  },
  "pycharm": {
   "stem_cell": {
    "cell_type": "raw",
    "metadata": {
     "collapsed": false
    },
    "source": []
   }
  }
 },
 "nbformat": 4,
 "nbformat_minor": 5
}