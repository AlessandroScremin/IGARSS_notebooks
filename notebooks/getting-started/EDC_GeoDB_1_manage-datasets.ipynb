{
 "cells": [
  {
   "cell_type": "code",
   "execution_count": 1,
   "id": "metric-windsor",
   "metadata": {
    "execution": {
     "iopub.execute_input": "2021-03-15T09:16:26.882572Z",
     "iopub.status.busy": "2021-03-15T09:16:26.880525Z",
     "iopub.status.idle": "2021-03-15T09:16:29.676013Z",
     "shell.execute_reply": "2021-03-15T09:16:29.673726Z"
    },
    "papermill": {
     "duration": 2.838431,
     "end_time": "2021-03-15T09:16:29.676404",
     "exception": false,
     "start_time": "2021-03-15T09:16:26.837973",
     "status": "completed"
    },
    "tags": []
   },
   "outputs": [
    {
     "data": {
      "text/markdown": [
       "\n",
       "***Notebook Title***  \n",
       "GeoDB: Manage Datasets\n",
       "\n",
       "***Notebook Description***  \n",
       "Euro Data Cube GeoDB: Manage Datasets\n",
       "\n",
       "\n",
       "***Notebook Dependencies***  \n",
       "This notebook requires an active subscription to:\n",
       "* EDC GeoDB\n"
      ],
      "text/plain": [
       "<IPython.core.display.Markdown object>"
      ]
     },
     "metadata": {},
     "output_type": "display_data"
    }
   ],
   "source": [
    "from edc import print_info \n",
    "print_info(\"geodb-manage\")"
   ]
  },
  {
   "cell_type": "code",
   "execution_count": 2,
   "id": "surface-observer",
   "metadata": {
    "execution": {
     "iopub.execute_input": "2021-03-15T09:16:29.763145Z",
     "iopub.status.busy": "2021-03-15T09:16:29.761180Z",
     "iopub.status.idle": "2021-03-15T09:16:29.777490Z",
     "shell.execute_reply": "2021-03-15T09:16:29.776411Z"
    },
    "papermill": {
     "duration": 0.05977,
     "end_time": "2021-03-15T09:16:29.777662",
     "exception": false,
     "start_time": "2021-03-15T09:16:29.717892",
     "status": "completed"
    },
    "tags": []
   },
   "outputs": [
    {
     "data": {
      "text/markdown": [
       "API credentials have automatically been injected for your active subscriptions.  \n",
       "The following environment variables are now available:\n",
       "* `GEODB_API_SERVER_PORT`, `GEODB_API_SERVER_URL`, `GEODB_AUTH_AUD`, `GEODB_AUTH_CLIENT_ID`, `GEODB_AUTH_CLIENT_SECRET`, `GEODB_AUTH_DOMAIN`\n",
       "\n",
       "The following additional environment variables have been loaded from `~/custom.env`:\n",
       "* `AWS_BUCKET`\n",
       "* `DAPA_URL`\n",
       "* `DB_HOST`, `DB_NAME`, `DB_PASSWORD`, `DB_USER`\n",
       "* `OGC_EDC_URL`\n",
       "* `REFERENCE_DATA`\n"
      ],
      "text/plain": [
       "<IPython.core.display.Markdown object>"
      ]
     },
     "metadata": {},
     "output_type": "display_data"
    }
   ],
   "source": [
    "from edc import setup_environment_variables\n",
    "setup_environment_variables()"
   ]
  },
  {
   "cell_type": "code",
   "execution_count": 3,
   "id": "oriental-flight",
   "metadata": {
    "execution": {
     "iopub.execute_input": "2021-03-15T09:16:29.855499Z",
     "iopub.status.busy": "2021-03-15T09:16:29.853567Z",
     "iopub.status.idle": "2021-03-15T09:16:29.861310Z",
     "shell.execute_reply": "2021-03-15T09:16:29.860418Z"
    },
    "papermill": {
     "duration": 0.050151,
     "end_time": "2021-03-15T09:16:29.861496",
     "exception": false,
     "start_time": "2021-03-15T09:16:29.811345",
     "status": "completed"
    },
    "tags": []
   },
   "outputs": [
    {
     "data": {
      "text/html": [
       "<script type=\"text/javascript\">\n",
       "        function toggle(id) {\n",
       "            el = document.getElementById(id);\n",
       "            el.style.display = el.style.display === \"none\" ? \"block\" : \"none\";\n",
       "        }\n",
       "    </script>"
      ],
      "text/plain": [
       "<IPython.core.display.HTML object>"
      ]
     },
     "metadata": {},
     "output_type": "display_data"
    },
    {
     "data": {
      "text/html": [
       "This notebook is compatible with this base image version (user-0.23.2)."
      ],
      "text/plain": [
       "<IPython.core.display.HTML object>"
      ]
     },
     "metadata": {},
     "output_type": "display_data"
    }
   ],
   "source": [
    "from edc import check_compatibility\n",
    "check_compatibility(\"user-0.23.2\")"
   ]
  },
  {
   "cell_type": "markdown",
   "id": "imperial-tract",
   "metadata": {
    "papermill": {
     "duration": 0.036424,
     "end_time": "2021-03-15T09:16:29.941774",
     "exception": false,
     "start_time": "2021-03-15T09:16:29.905350",
     "status": "completed"
    },
    "tags": []
   },
   "source": [
    "## Manage Collections in your GeoDB\n",
    "\n"
   ]
  },
  {
   "cell_type": "markdown",
   "id": "constant-enterprise",
   "metadata": {
    "papermill": {
     "duration": 0.033634,
     "end_time": "2021-03-15T09:16:30.008977",
     "exception": false,
     "start_time": "2021-03-15T09:16:29.975343",
     "status": "completed"
    },
    "tags": []
   },
   "source": [
    "### Connecting to the GeoDB"
   ]
  },
  {
   "cell_type": "code",
   "execution_count": 4,
   "id": "ready-veteran",
   "metadata": {
    "execution": {
     "iopub.execute_input": "2021-03-15T09:16:30.093670Z",
     "iopub.status.busy": "2021-03-15T09:16:30.092617Z",
     "iopub.status.idle": "2021-03-15T09:16:31.009633Z",
     "shell.execute_reply": "2021-03-15T09:16:31.010162Z"
    },
    "papermill": {
     "duration": 0.962997,
     "end_time": "2021-03-15T09:16:31.010363",
     "exception": false,
     "start_time": "2021-03-15T09:16:30.047366",
     "status": "completed"
    },
    "tags": []
   },
   "outputs": [],
   "source": [
    "from xcube_geodb.core.geodb import GeoDBClient"
   ]
  },
  {
   "cell_type": "code",
   "execution_count": 5,
   "id": "czech-switch",
   "metadata": {
    "execution": {
     "iopub.execute_input": "2021-03-15T09:16:31.092125Z",
     "iopub.status.busy": "2021-03-15T09:16:31.089953Z",
     "iopub.status.idle": "2021-03-15T09:16:31.095446Z",
     "shell.execute_reply": "2021-03-15T09:16:31.096180Z"
    },
    "papermill": {
     "duration": 0.050861,
     "end_time": "2021-03-15T09:16:31.096390",
     "exception": false,
     "start_time": "2021-03-15T09:16:31.045529",
     "status": "completed"
    },
    "tags": []
   },
   "outputs": [],
   "source": [
    "geodb = GeoDBClient()"
   ]
  },
  {
   "cell_type": "code",
   "execution_count": 6,
   "id": "pediatric-light",
   "metadata": {
    "execution": {
     "iopub.execute_input": "2021-03-15T09:16:31.188640Z",
     "iopub.status.busy": "2021-03-15T09:16:31.187332Z",
     "iopub.status.idle": "2021-03-15T09:16:31.621627Z",
     "shell.execute_reply": "2021-03-15T09:16:31.622400Z"
    },
    "papermill": {
     "duration": 0.488666,
     "end_time": "2021-03-15T09:16:31.622945",
     "exception": false,
     "start_time": "2021-03-15T09:16:31.134279",
     "status": "completed"
    },
    "tags": []
   },
   "outputs": [
    {
     "data": {
      "text/plain": [
       "'geodb_418dfeac-15f0-4606-9edb-fd9eb722bf04'"
      ]
     },
     "execution_count": 6,
     "metadata": {},
     "output_type": "execute_result"
    }
   ],
   "source": [
    "# If you are logged in, this will tell you what account the system currently uses\n",
    "geodb.whoami"
   ]
  },
  {
   "cell_type": "code",
   "execution_count": 7,
   "id": "convertible-steps",
   "metadata": {
    "execution": {
     "iopub.execute_input": "2021-03-15T09:16:31.719472Z",
     "iopub.status.busy": "2021-03-15T09:16:31.717652Z",
     "iopub.status.idle": "2021-03-15T09:16:32.059464Z",
     "shell.execute_reply": "2021-03-15T09:16:32.060366Z"
    },
    "papermill": {
     "duration": 0.392706,
     "end_time": "2021-03-15T09:16:32.060637",
     "exception": false,
     "start_time": "2021-03-15T09:16:31.667931",
     "status": "completed"
    },
    "tags": []
   },
   "outputs": [
    {
     "data": {
      "text/plain": [
       "False"
      ]
     },
     "execution_count": 7,
     "metadata": {},
     "output_type": "execute_result"
    }
   ],
   "source": [
    "# Lets get already existing collections\n",
    "ds = geodb.get_my_collections()\n",
    "ds\n",
    "ds[(ds.database == 'geodb_admin') & (ds.table_name == 'land_use')].table_name.count() == 1"
   ]
  },
  {
   "cell_type": "markdown",
   "id": "talented-carol",
   "metadata": {
    "papermill": {
     "duration": 0.038364,
     "end_time": "2021-03-15T09:16:32.144011",
     "exception": false,
     "start_time": "2021-03-15T09:16:32.105647",
     "status": "completed"
    },
    "tags": []
   },
   "source": [
    "### Creating collections\n",
    "\n",
    "Once the connection has been established you will be able to create a collection. The collection will contain standard properties (fields) plus custom properties\n",
    "which you can add at your disgretion. Please use [PostGreSQL type definitions](https://www.postgresql.org/docs/11/datatype.html). We recommend stying simple with\n",
    "your data types as we have not tested every single type."
   ]
  },
  {
   "cell_type": "code",
   "execution_count": 8,
   "id": "sacred-demand",
   "metadata": {
    "execution": {
     "iopub.execute_input": "2021-03-15T09:16:32.236515Z",
     "iopub.status.busy": "2021-03-15T09:16:32.234122Z",
     "iopub.status.idle": "2021-03-15T09:16:32.773827Z",
     "shell.execute_reply": "2021-03-15T09:16:32.774831Z"
    },
    "papermill": {
     "duration": 0.595894,
     "end_time": "2021-03-15T09:16:32.775132",
     "exception": false,
     "start_time": "2021-03-15T09:16:32.179238",
     "status": "completed"
    },
    "tags": []
   },
   "outputs": [],
   "source": [
    "ds = geodb.get_my_collections()\n",
    "\n",
    "if ds[(ds.database == geodb.whoami) & (ds.table_name == 'land_use')].table_name.count() == 0:\n",
    "    # Have a look at fiona feature schema\n",
    "    collections = {\n",
    "            \"land_use\": \n",
    "            {\n",
    "                \"crs\": 3794,\n",
    "                \"properties\": \n",
    "                {\n",
    "                    \"RABA_PID\": \"float\", \n",
    "                    \"RABA_ID\": \"float\", \n",
    "                    \"D_OD\": \"date\"\n",
    "                }\n",
    "            }\n",
    "        }\n",
    "\n",
    "\n",
    "    geodb.create_collections(collections)\n",
    "    import geopandas\n",
    "    import os\n",
    "    gdf = geopandas.read_file(os.path.expanduser(\"~/.shared/notebooks/eurodatacube/notebooks/getting-started/data/sample/land_use.shp\"))\n",
    "    geodb.insert_into_collection('land_use', gdf)"
   ]
  },
  {
   "cell_type": "code",
   "execution_count": 9,
   "id": "dressed-album",
   "metadata": {
    "execution": {
     "iopub.execute_input": "2021-03-15T09:16:32.870267Z",
     "iopub.status.busy": "2021-03-15T09:16:32.864840Z",
     "iopub.status.idle": "2021-03-15T09:16:33.093175Z",
     "shell.execute_reply": "2021-03-15T09:16:33.091912Z"
    },
    "papermill": {
     "duration": 0.275928,
     "end_time": "2021-03-15T09:16:33.093360",
     "exception": false,
     "start_time": "2021-03-15T09:16:32.817432",
     "status": "completed"
    },
    "tags": []
   },
   "outputs": [
    {
     "data": {
      "text/html": [
       "<div>\n",
       "<style scoped>\n",
       "    .dataframe tbody tr th:only-of-type {\n",
       "        vertical-align: middle;\n",
       "    }\n",
       "\n",
       "    .dataframe tbody tr th {\n",
       "        vertical-align: top;\n",
       "    }\n",
       "\n",
       "    .dataframe thead th {\n",
       "        text-align: right;\n",
       "    }\n",
       "</style>\n",
       "<table border=\"1\" class=\"dataframe\">\n",
       "  <thead>\n",
       "    <tr style=\"text-align: right;\">\n",
       "      <th></th>\n",
       "      <th>owner</th>\n",
       "      <th>database</th>\n",
       "      <th>table_name</th>\n",
       "    </tr>\n",
       "  </thead>\n",
       "  <tbody>\n",
       "    <tr>\n",
       "      <th>0</th>\n",
       "      <td>geodb_0b01bfcd-2d09-46f8-84e8-cb5720fba14c</td>\n",
       "      <td>geodb_0b01bfcd-2d09-46f8-84e8-cb5720fba14c</td>\n",
       "      <td>delineated_parcels_s</td>\n",
       "    </tr>\n",
       "    <tr>\n",
       "      <th>1</th>\n",
       "      <td>geodb_0b01bfcd-2d09-46f8-84e8-cb5720fba14c</td>\n",
       "      <td>phi_week</td>\n",
       "      <td>alster</td>\n",
       "    </tr>\n",
       "    <tr>\n",
       "      <th>2</th>\n",
       "      <td>geodb_0b01bfcd-2d09-46f8-84e8-cb5720fba14c</td>\n",
       "      <td>phi_week</td>\n",
       "      <td>gran_chaco</td>\n",
       "    </tr>\n",
       "    <tr>\n",
       "      <th>3</th>\n",
       "      <td>geodb_0d6df427-8c09-41b9-abc9-64ce13a68125</td>\n",
       "      <td>geodb_0d6df427-8c09-41b9-abc9-64ce13a68125</td>\n",
       "      <td>land_use</td>\n",
       "    </tr>\n",
       "    <tr>\n",
       "      <th>4</th>\n",
       "      <td>geodb_0d6df427-8c09-41b9-abc9-64ce13a68125</td>\n",
       "      <td>geodb_0d6df427-8c09-41b9-abc9-64ce13a68125</td>\n",
       "      <td>lpis_aut</td>\n",
       "    </tr>\n",
       "    <tr>\n",
       "      <th>...</th>\n",
       "      <td>...</td>\n",
       "      <td>...</td>\n",
       "      <td>...</td>\n",
       "    </tr>\n",
       "    <tr>\n",
       "      <th>858</th>\n",
       "      <td>lpis_iacs_admin</td>\n",
       "      <td>anja</td>\n",
       "      <td>N4a</td>\n",
       "    </tr>\n",
       "    <tr>\n",
       "      <th>859</th>\n",
       "      <td>lpis_iacs_admin</td>\n",
       "      <td>anja</td>\n",
       "      <td>race_indicators</td>\n",
       "    </tr>\n",
       "    <tr>\n",
       "      <th>860</th>\n",
       "      <td>lpis_iacs_admin</td>\n",
       "      <td>lpis_iacs</td>\n",
       "      <td>land_use_slo</td>\n",
       "    </tr>\n",
       "    <tr>\n",
       "      <th>861</th>\n",
       "      <td>lpis_iacs_admin</td>\n",
       "      <td>lpis_iacs</td>\n",
       "      <td>lpis_aut</td>\n",
       "    </tr>\n",
       "    <tr>\n",
       "      <th>862</th>\n",
       "      <td>lpis_iacs_admin</td>\n",
       "      <td>lpis_iacs</td>\n",
       "      <td>lpis_slo</td>\n",
       "    </tr>\n",
       "  </tbody>\n",
       "</table>\n",
       "<p>863 rows × 3 columns</p>\n",
       "</div>"
      ],
      "text/plain": [
       "                                          owner  \\\n",
       "0    geodb_0b01bfcd-2d09-46f8-84e8-cb5720fba14c   \n",
       "1    geodb_0b01bfcd-2d09-46f8-84e8-cb5720fba14c   \n",
       "2    geodb_0b01bfcd-2d09-46f8-84e8-cb5720fba14c   \n",
       "3    geodb_0d6df427-8c09-41b9-abc9-64ce13a68125   \n",
       "4    geodb_0d6df427-8c09-41b9-abc9-64ce13a68125   \n",
       "..                                          ...   \n",
       "858                             lpis_iacs_admin   \n",
       "859                             lpis_iacs_admin   \n",
       "860                             lpis_iacs_admin   \n",
       "861                             lpis_iacs_admin   \n",
       "862                             lpis_iacs_admin   \n",
       "\n",
       "                                       database            table_name  \n",
       "0    geodb_0b01bfcd-2d09-46f8-84e8-cb5720fba14c  delineated_parcels_s  \n",
       "1                                      phi_week                alster  \n",
       "2                                      phi_week            gran_chaco  \n",
       "3    geodb_0d6df427-8c09-41b9-abc9-64ce13a68125              land_use  \n",
       "4    geodb_0d6df427-8c09-41b9-abc9-64ce13a68125              lpis_aut  \n",
       "..                                          ...                   ...  \n",
       "858                                        anja                   N4a  \n",
       "859                                        anja       race_indicators  \n",
       "860                                   lpis_iacs          land_use_slo  \n",
       "861                                   lpis_iacs              lpis_aut  \n",
       "862                                   lpis_iacs              lpis_slo  \n",
       "\n",
       "[863 rows x 3 columns]"
      ]
     },
     "execution_count": 9,
     "metadata": {},
     "output_type": "execute_result"
    }
   ],
   "source": [
    "ds = geodb.get_my_collections()\n",
    "ds"
   ]
  },
  {
   "cell_type": "markdown",
   "id": "north-interview",
   "metadata": {
    "papermill": {
     "duration": 0.036702,
     "end_time": "2021-03-15T09:16:33.169264",
     "exception": false,
     "start_time": "2021-03-15T09:16:33.132562",
     "status": "completed"
    },
    "tags": []
   },
   "source": [
    "### Loading data into a dataset\n",
    "\n",
    "Once the table has been created, you can load data into the dataset. The example below loads a shapefile. The attributes of the shapefile correspond to the dataset's properties.\n"
   ]
  },
  {
   "cell_type": "code",
   "execution_count": 10,
   "id": "light-mapping",
   "metadata": {
    "execution": {
     "iopub.execute_input": "2021-03-15T09:16:34.205934Z",
     "iopub.status.busy": "2021-03-15T09:16:34.204650Z",
     "iopub.status.idle": "2021-03-15T09:16:35.227437Z",
     "shell.execute_reply": "2021-03-15T09:16:35.226101Z"
    },
    "papermill": {
     "duration": 2.021361,
     "end_time": "2021-03-15T09:16:35.227641",
     "exception": false,
     "start_time": "2021-03-15T09:16:33.206280",
     "status": "completed"
    },
    "tags": []
   },
   "outputs": [
    {
     "data": {
      "text/html": [
       "<div>\n",
       "<style scoped>\n",
       "    .dataframe tbody tr th:only-of-type {\n",
       "        vertical-align: middle;\n",
       "    }\n",
       "\n",
       "    .dataframe tbody tr th {\n",
       "        vertical-align: top;\n",
       "    }\n",
       "\n",
       "    .dataframe thead th {\n",
       "        text-align: right;\n",
       "    }\n",
       "</style>\n",
       "<table border=\"1\" class=\"dataframe\">\n",
       "  <thead>\n",
       "    <tr style=\"text-align: right;\">\n",
       "      <th></th>\n",
       "      <th>RABA_PID</th>\n",
       "      <th>RABA_ID</th>\n",
       "      <th>D_OD</th>\n",
       "      <th>geometry</th>\n",
       "    </tr>\n",
       "  </thead>\n",
       "  <tbody>\n",
       "    <tr>\n",
       "      <th>0</th>\n",
       "      <td>4770326.0</td>\n",
       "      <td>1410</td>\n",
       "      <td>2019-03-26</td>\n",
       "      <td>POLYGON ((453952.629 91124.177, 453952.696 911...</td>\n",
       "    </tr>\n",
       "    <tr>\n",
       "      <th>1</th>\n",
       "      <td>4770325.0</td>\n",
       "      <td>1300</td>\n",
       "      <td>2019-03-26</td>\n",
       "      <td>POLYGON ((453810.376 91150.199, 453812.552 911...</td>\n",
       "    </tr>\n",
       "    <tr>\n",
       "      <th>2</th>\n",
       "      <td>2305689.0</td>\n",
       "      <td>7000</td>\n",
       "      <td>2019-02-25</td>\n",
       "      <td>POLYGON ((456099.635 97696.070, 456112.810 976...</td>\n",
       "    </tr>\n",
       "    <tr>\n",
       "      <th>3</th>\n",
       "      <td>2305596.0</td>\n",
       "      <td>1100</td>\n",
       "      <td>2019-02-25</td>\n",
       "      <td>POLYGON ((455929.405 97963.785, 455933.284 979...</td>\n",
       "    </tr>\n",
       "    <tr>\n",
       "      <th>4</th>\n",
       "      <td>2310160.0</td>\n",
       "      <td>1100</td>\n",
       "      <td>2019-03-11</td>\n",
       "      <td>POLYGON ((461561.512 96119.256, 461632.114 960...</td>\n",
       "    </tr>\n",
       "    <tr>\n",
       "      <th>...</th>\n",
       "      <td>...</td>\n",
       "      <td>...</td>\n",
       "      <td>...</td>\n",
       "      <td>...</td>\n",
       "    </tr>\n",
       "    <tr>\n",
       "      <th>9822</th>\n",
       "      <td>6253989.0</td>\n",
       "      <td>1600</td>\n",
       "      <td>2019-03-08</td>\n",
       "      <td>POLYGON ((460637.334 96865.891, 460647.927 969...</td>\n",
       "    </tr>\n",
       "    <tr>\n",
       "      <th>9823</th>\n",
       "      <td>6252044.0</td>\n",
       "      <td>1600</td>\n",
       "      <td>2019-03-26</td>\n",
       "      <td>POLYGON ((459467.868 96839.686, 459467.770 968...</td>\n",
       "    </tr>\n",
       "    <tr>\n",
       "      <th>9824</th>\n",
       "      <td>6245985.0</td>\n",
       "      <td>2000</td>\n",
       "      <td>2019-04-08</td>\n",
       "      <td>POLYGON ((459488.998 94066.248, 459498.145 940...</td>\n",
       "    </tr>\n",
       "    <tr>\n",
       "      <th>9825</th>\n",
       "      <td>6245986.0</td>\n",
       "      <td>2000</td>\n",
       "      <td>2019-02-20</td>\n",
       "      <td>POLYGON ((459676.680 94000.000, 459672.469 939...</td>\n",
       "    </tr>\n",
       "    <tr>\n",
       "      <th>9826</th>\n",
       "      <td>6245987.0</td>\n",
       "      <td>2000</td>\n",
       "      <td>2019-03-11</td>\n",
       "      <td>POLYGON ((459690.580 94042.607, 459686.872 940...</td>\n",
       "    </tr>\n",
       "  </tbody>\n",
       "</table>\n",
       "<p>9827 rows × 4 columns</p>\n",
       "</div>"
      ],
      "text/plain": [
       "       RABA_PID  RABA_ID        D_OD  \\\n",
       "0     4770326.0     1410  2019-03-26   \n",
       "1     4770325.0     1300  2019-03-26   \n",
       "2     2305689.0     7000  2019-02-25   \n",
       "3     2305596.0     1100  2019-02-25   \n",
       "4     2310160.0     1100  2019-03-11   \n",
       "...         ...      ...         ...   \n",
       "9822  6253989.0     1600  2019-03-08   \n",
       "9823  6252044.0     1600  2019-03-26   \n",
       "9824  6245985.0     2000  2019-04-08   \n",
       "9825  6245986.0     2000  2019-02-20   \n",
       "9826  6245987.0     2000  2019-03-11   \n",
       "\n",
       "                                               geometry  \n",
       "0     POLYGON ((453952.629 91124.177, 453952.696 911...  \n",
       "1     POLYGON ((453810.376 91150.199, 453812.552 911...  \n",
       "2     POLYGON ((456099.635 97696.070, 456112.810 976...  \n",
       "3     POLYGON ((455929.405 97963.785, 455933.284 979...  \n",
       "4     POLYGON ((461561.512 96119.256, 461632.114 960...  \n",
       "...                                                 ...  \n",
       "9822  POLYGON ((460637.334 96865.891, 460647.927 969...  \n",
       "9823  POLYGON ((459467.868 96839.686, 459467.770 968...  \n",
       "9824  POLYGON ((459488.998 94066.248, 459498.145 940...  \n",
       "9825  POLYGON ((459676.680 94000.000, 459672.469 939...  \n",
       "9826  POLYGON ((459690.580 94042.607, 459686.872 940...  \n",
       "\n",
       "[9827 rows x 4 columns]"
      ]
     },
     "execution_count": 10,
     "metadata": {},
     "output_type": "execute_result"
    }
   ],
   "source": [
    "import geopandas\n",
    "import os\n",
    "gdf = geopandas.read_file(os.path.expanduser(\"~/.shared/notebooks/eurodatacube/notebooks/getting-started/data/sample/land_use.shp\"))\n",
    "gdf"
   ]
  },
  {
   "cell_type": "code",
   "execution_count": 11,
   "id": "sunset-mouse",
   "metadata": {
    "execution": {
     "iopub.execute_input": "2021-03-15T09:16:35.317124Z",
     "iopub.status.busy": "2021-03-15T09:16:35.316270Z",
     "iopub.status.idle": "2021-03-15T09:16:44.124910Z",
     "shell.execute_reply": "2021-03-15T09:16:44.119898Z"
    },
    "papermill": {
     "duration": 8.862063,
     "end_time": "2021-03-15T09:16:44.125153",
     "exception": false,
     "start_time": "2021-03-15T09:16:35.263090",
     "status": "completed"
    },
    "tags": []
   },
   "outputs": [
    {
     "name": "stdout",
     "output_type": "stream",
     "text": [
      "Processing rows from 0 to 999\n"
     ]
    },
    {
     "name": "stdout",
     "output_type": "stream",
     "text": [
      "Processing rows from 1000 to 1999\n"
     ]
    },
    {
     "name": "stdout",
     "output_type": "stream",
     "text": [
      "Processing rows from 2000 to 2999\n"
     ]
    },
    {
     "name": "stdout",
     "output_type": "stream",
     "text": [
      "Processing rows from 3000 to 3999\n"
     ]
    },
    {
     "name": "stdout",
     "output_type": "stream",
     "text": [
      "Processing rows from 4000 to 4999\n"
     ]
    },
    {
     "name": "stdout",
     "output_type": "stream",
     "text": [
      "Processing rows from 5000 to 5999\n"
     ]
    },
    {
     "name": "stdout",
     "output_type": "stream",
     "text": [
      "Processing rows from 6000 to 6999\n"
     ]
    },
    {
     "name": "stdout",
     "output_type": "stream",
     "text": [
      "Processing rows from 7000 to 7999\n"
     ]
    },
    {
     "name": "stdout",
     "output_type": "stream",
     "text": [
      "Processing rows from 8000 to 8999\n"
     ]
    },
    {
     "name": "stdout",
     "output_type": "stream",
     "text": [
      "Processing rows from 9000 to 9827\n"
     ]
    },
    {
     "data": {
      "text/plain": [
       "9827 rows inserted into land_use"
      ]
     },
     "execution_count": 11,
     "metadata": {},
     "output_type": "execute_result"
    }
   ],
   "source": [
    "geodb.insert_into_collection('land_use', gdf)"
   ]
  },
  {
   "cell_type": "code",
   "execution_count": 12,
   "id": "tired-tamil",
   "metadata": {
    "execution": {
     "iopub.execute_input": "2021-03-15T09:16:44.236451Z",
     "iopub.status.busy": "2021-03-15T09:16:44.235470Z",
     "iopub.status.idle": "2021-03-15T09:16:45.507104Z",
     "shell.execute_reply": "2021-03-15T09:16:45.507794Z"
    },
    "papermill": {
     "duration": 1.324875,
     "end_time": "2021-03-15T09:16:45.507969",
     "exception": false,
     "start_time": "2021-03-15T09:16:44.183094",
     "status": "completed"
    },
    "tags": []
   },
   "outputs": [
    {
     "data": {
      "text/html": [
       "<div>\n",
       "<style scoped>\n",
       "    .dataframe tbody tr th:only-of-type {\n",
       "        vertical-align: middle;\n",
       "    }\n",
       "\n",
       "    .dataframe tbody tr th {\n",
       "        vertical-align: top;\n",
       "    }\n",
       "\n",
       "    .dataframe thead th {\n",
       "        text-align: right;\n",
       "    }\n",
       "</style>\n",
       "<table border=\"1\" class=\"dataframe\">\n",
       "  <thead>\n",
       "    <tr style=\"text-align: right;\">\n",
       "      <th></th>\n",
       "      <th>id</th>\n",
       "      <th>created_at</th>\n",
       "      <th>modified_at</th>\n",
       "      <th>geometry</th>\n",
       "      <th>raba_pid</th>\n",
       "      <th>raba_id</th>\n",
       "      <th>d_od</th>\n",
       "    </tr>\n",
       "  </thead>\n",
       "  <tbody>\n",
       "    <tr>\n",
       "      <th>0</th>\n",
       "      <td>58965</td>\n",
       "      <td>2021-03-15T09:16:36.59214+00:00</td>\n",
       "      <td>None</td>\n",
       "      <td>POLYGON ((456099.635 97696.070, 456112.810 976...</td>\n",
       "      <td>2305689</td>\n",
       "      <td>7000</td>\n",
       "      <td>2019-02-25</td>\n",
       "    </tr>\n",
       "    <tr>\n",
       "      <th>1</th>\n",
       "      <td>58988</td>\n",
       "      <td>2021-03-15T09:16:36.59214+00:00</td>\n",
       "      <td>None</td>\n",
       "      <td>POLYGON ((459898.930 100306.841, 459906.288 10...</td>\n",
       "      <td>2301992</td>\n",
       "      <td>7000</td>\n",
       "      <td>2019-04-06</td>\n",
       "    </tr>\n",
       "    <tr>\n",
       "      <th>2</th>\n",
       "      <td>59057</td>\n",
       "      <td>2021-03-15T09:16:36.59214+00:00</td>\n",
       "      <td>None</td>\n",
       "      <td>POLYGON ((459591.248 92619.056, 459592.745 926...</td>\n",
       "      <td>2333229</td>\n",
       "      <td>7000</td>\n",
       "      <td>2019-02-20</td>\n",
       "    </tr>\n",
       "    <tr>\n",
       "      <th>3</th>\n",
       "      <td>59077</td>\n",
       "      <td>2021-03-15T09:16:36.59214+00:00</td>\n",
       "      <td>None</td>\n",
       "      <td>POLYGON ((459013.303 100354.458, 459022.756 10...</td>\n",
       "      <td>2336738</td>\n",
       "      <td>7000</td>\n",
       "      <td>2019-03-15</td>\n",
       "    </tr>\n",
       "    <tr>\n",
       "      <th>4</th>\n",
       "      <td>66772</td>\n",
       "      <td>2021-03-15T09:16:41.827246+00:00</td>\n",
       "      <td>None</td>\n",
       "      <td>POLYGON ((461378.963 98699.333, 461404.889 987...</td>\n",
       "      <td>4650900</td>\n",
       "      <td>7000</td>\n",
       "      <td>2019-03-27</td>\n",
       "    </tr>\n",
       "    <tr>\n",
       "      <th>...</th>\n",
       "      <td>...</td>\n",
       "      <td>...</td>\n",
       "      <td>...</td>\n",
       "      <td>...</td>\n",
       "      <td>...</td>\n",
       "      <td>...</td>\n",
       "      <td>...</td>\n",
       "    </tr>\n",
       "    <tr>\n",
       "      <th>379</th>\n",
       "      <td>68381</td>\n",
       "      <td>2021-03-15T09:16:43.900706+00:00</td>\n",
       "      <td>None</td>\n",
       "      <td>POLYGON ((456523.670 94000.000, 456550.368 939...</td>\n",
       "      <td>6187993</td>\n",
       "      <td>7000</td>\n",
       "      <td>2019-03-13</td>\n",
       "    </tr>\n",
       "    <tr>\n",
       "      <th>380</th>\n",
       "      <td>68508</td>\n",
       "      <td>2021-03-15T09:16:43.900706+00:00</td>\n",
       "      <td>None</td>\n",
       "      <td>POLYGON ((460793.279 94000.000, 460797.466 939...</td>\n",
       "      <td>6219403</td>\n",
       "      <td>7000</td>\n",
       "      <td>2019-02-21</td>\n",
       "    </tr>\n",
       "    <tr>\n",
       "      <th>381</th>\n",
       "      <td>68522</td>\n",
       "      <td>2021-03-15T09:16:43.900706+00:00</td>\n",
       "      <td>None</td>\n",
       "      <td>POLYGON ((461750.000 98434.292, 461750.000 984...</td>\n",
       "      <td>6219602</td>\n",
       "      <td>7000</td>\n",
       "      <td>2019-03-20</td>\n",
       "    </tr>\n",
       "    <tr>\n",
       "      <th>382</th>\n",
       "      <td>68586</td>\n",
       "      <td>2021-03-15T09:16:43.900706+00:00</td>\n",
       "      <td>None</td>\n",
       "      <td>POLYGON ((463628.912 97501.218, 463636.859 975...</td>\n",
       "      <td>6215237</td>\n",
       "      <td>7000</td>\n",
       "      <td>2019-03-20</td>\n",
       "    </tr>\n",
       "    <tr>\n",
       "      <th>383</th>\n",
       "      <td>68606</td>\n",
       "      <td>2021-03-15T09:16:43.900706+00:00</td>\n",
       "      <td>None</td>\n",
       "      <td>POLYGON ((462450.205 94000.000, 462457.333 940...</td>\n",
       "      <td>6213419</td>\n",
       "      <td>7000</td>\n",
       "      <td>2019-03-21</td>\n",
       "    </tr>\n",
       "  </tbody>\n",
       "</table>\n",
       "<p>384 rows × 7 columns</p>\n",
       "</div>"
      ],
      "text/plain": [
       "        id                        created_at modified_at  \\\n",
       "0    58965   2021-03-15T09:16:36.59214+00:00        None   \n",
       "1    58988   2021-03-15T09:16:36.59214+00:00        None   \n",
       "2    59057   2021-03-15T09:16:36.59214+00:00        None   \n",
       "3    59077   2021-03-15T09:16:36.59214+00:00        None   \n",
       "4    66772  2021-03-15T09:16:41.827246+00:00        None   \n",
       "..     ...                               ...         ...   \n",
       "379  68381  2021-03-15T09:16:43.900706+00:00        None   \n",
       "380  68508  2021-03-15T09:16:43.900706+00:00        None   \n",
       "381  68522  2021-03-15T09:16:43.900706+00:00        None   \n",
       "382  68586  2021-03-15T09:16:43.900706+00:00        None   \n",
       "383  68606  2021-03-15T09:16:43.900706+00:00        None   \n",
       "\n",
       "                                              geometry  raba_pid  raba_id  \\\n",
       "0    POLYGON ((456099.635 97696.070, 456112.810 976...   2305689     7000   \n",
       "1    POLYGON ((459898.930 100306.841, 459906.288 10...   2301992     7000   \n",
       "2    POLYGON ((459591.248 92619.056, 459592.745 926...   2333229     7000   \n",
       "3    POLYGON ((459013.303 100354.458, 459022.756 10...   2336738     7000   \n",
       "4    POLYGON ((461378.963 98699.333, 461404.889 987...   4650900     7000   \n",
       "..                                                 ...       ...      ...   \n",
       "379  POLYGON ((456523.670 94000.000, 456550.368 939...   6187993     7000   \n",
       "380  POLYGON ((460793.279 94000.000, 460797.466 939...   6219403     7000   \n",
       "381  POLYGON ((461750.000 98434.292, 461750.000 984...   6219602     7000   \n",
       "382  POLYGON ((463628.912 97501.218, 463636.859 975...   6215237     7000   \n",
       "383  POLYGON ((462450.205 94000.000, 462457.333 940...   6213419     7000   \n",
       "\n",
       "           d_od  \n",
       "0    2019-02-25  \n",
       "1    2019-04-06  \n",
       "2    2019-02-20  \n",
       "3    2019-03-15  \n",
       "4    2019-03-27  \n",
       "..          ...  \n",
       "379  2019-03-13  \n",
       "380  2019-02-21  \n",
       "381  2019-03-20  \n",
       "382  2019-03-20  \n",
       "383  2019-03-21  \n",
       "\n",
       "[384 rows x 7 columns]"
      ]
     },
     "execution_count": 12,
     "metadata": {},
     "output_type": "execute_result"
    }
   ],
   "source": [
    "geodb.get_collection('land_use', query=\"raba_id=eq.7000\")"
   ]
  },
  {
   "cell_type": "markdown",
   "id": "manual-skiing",
   "metadata": {
    "papermill": {
     "duration": 0.058327,
     "end_time": "2021-03-15T09:16:45.609299",
     "exception": false,
     "start_time": "2021-03-15T09:16:45.550972",
     "status": "completed"
    },
    "tags": []
   },
   "source": [
    "### Delete from a Collection"
   ]
  },
  {
   "cell_type": "code",
   "execution_count": 13,
   "id": "selected-franchise",
   "metadata": {
    "execution": {
     "iopub.execute_input": "2021-03-15T09:16:45.703915Z",
     "iopub.status.busy": "2021-03-15T09:16:45.701934Z",
     "iopub.status.idle": "2021-03-15T09:16:46.321666Z",
     "shell.execute_reply": "2021-03-15T09:16:46.322304Z"
    },
    "papermill": {
     "duration": 0.674954,
     "end_time": "2021-03-15T09:16:46.322482",
     "exception": false,
     "start_time": "2021-03-15T09:16:45.647528",
     "status": "completed"
    },
    "tags": []
   },
   "outputs": [
    {
     "data": {
      "text/plain": [
       "Data from land_use deleted"
      ]
     },
     "execution_count": 13,
     "metadata": {},
     "output_type": "execute_result"
    }
   ],
   "source": [
    "geodb.delete_from_collection('land_use', query=\"raba_id=eq.7000\")"
   ]
  },
  {
   "cell_type": "code",
   "execution_count": 14,
   "id": "spanish-jordan",
   "metadata": {
    "execution": {
     "iopub.execute_input": "2021-03-15T09:16:46.422395Z",
     "iopub.status.busy": "2021-03-15T09:16:46.420988Z",
     "iopub.status.idle": "2021-03-15T09:16:47.434402Z",
     "shell.execute_reply": "2021-03-15T09:16:47.433478Z"
    },
    "papermill": {
     "duration": 1.068613,
     "end_time": "2021-03-15T09:16:47.434580",
     "exception": false,
     "start_time": "2021-03-15T09:16:46.365967",
     "status": "completed"
    },
    "tags": []
   },
   "outputs": [
    {
     "data": {
      "text/html": [
       "<div>\n",
       "<style scoped>\n",
       "    .dataframe tbody tr th:only-of-type {\n",
       "        vertical-align: middle;\n",
       "    }\n",
       "\n",
       "    .dataframe tbody tr th {\n",
       "        vertical-align: top;\n",
       "    }\n",
       "\n",
       "    .dataframe thead th {\n",
       "        text-align: right;\n",
       "    }\n",
       "</style>\n",
       "<table border=\"1\" class=\"dataframe\">\n",
       "  <thead>\n",
       "    <tr style=\"text-align: right;\">\n",
       "      <th></th>\n",
       "      <th>Empty Result</th>\n",
       "    </tr>\n",
       "  </thead>\n",
       "  <tbody>\n",
       "  </tbody>\n",
       "</table>\n",
       "</div>"
      ],
      "text/plain": [
       "Empty DataFrame\n",
       "Columns: [Empty Result]\n",
       "Index: []"
      ]
     },
     "execution_count": 14,
     "metadata": {},
     "output_type": "execute_result"
    }
   ],
   "source": [
    "geodb.get_collection('land_use', query=\"raba_id=eq.7000\")"
   ]
  },
  {
   "cell_type": "markdown",
   "id": "retired-measure",
   "metadata": {
    "papermill": {
     "duration": 0.046774,
     "end_time": "2021-03-15T09:16:47.528229",
     "exception": false,
     "start_time": "2021-03-15T09:16:47.481455",
     "status": "completed"
    },
    "tags": []
   },
   "source": [
    "### Updating a Collection"
   ]
  },
  {
   "cell_type": "code",
   "execution_count": 15,
   "id": "hawaiian-tuner",
   "metadata": {
    "execution": {
     "iopub.execute_input": "2021-03-15T09:16:47.630048Z",
     "iopub.status.busy": "2021-03-15T09:16:47.628830Z",
     "iopub.status.idle": "2021-03-15T09:16:49.909808Z",
     "shell.execute_reply": "2021-03-15T09:16:49.907989Z"
    },
    "papermill": {
     "duration": 2.338683,
     "end_time": "2021-03-15T09:16:49.910069",
     "exception": false,
     "start_time": "2021-03-15T09:16:47.571386",
     "status": "completed"
    },
    "tags": []
   },
   "outputs": [
    {
     "data": {
      "text/html": [
       "<div>\n",
       "<style scoped>\n",
       "    .dataframe tbody tr th:only-of-type {\n",
       "        vertical-align: middle;\n",
       "    }\n",
       "\n",
       "    .dataframe tbody tr th {\n",
       "        vertical-align: top;\n",
       "    }\n",
       "\n",
       "    .dataframe thead th {\n",
       "        text-align: right;\n",
       "    }\n",
       "</style>\n",
       "<table border=\"1\" class=\"dataframe\">\n",
       "  <thead>\n",
       "    <tr style=\"text-align: right;\">\n",
       "      <th></th>\n",
       "      <th>id</th>\n",
       "      <th>created_at</th>\n",
       "      <th>modified_at</th>\n",
       "      <th>geometry</th>\n",
       "      <th>raba_pid</th>\n",
       "      <th>raba_id</th>\n",
       "      <th>d_od</th>\n",
       "    </tr>\n",
       "  </thead>\n",
       "  <tbody>\n",
       "    <tr>\n",
       "      <th>0</th>\n",
       "      <td>58964</td>\n",
       "      <td>2021-03-15T09:16:36.59214+00:00</td>\n",
       "      <td>None</td>\n",
       "      <td>POLYGON ((453810.376 91150.199, 453812.552 911...</td>\n",
       "      <td>4770325</td>\n",
       "      <td>1300</td>\n",
       "      <td>2019-03-26</td>\n",
       "    </tr>\n",
       "    <tr>\n",
       "      <th>1</th>\n",
       "      <td>20323</td>\n",
       "      <td>2020-09-30T07:49:51.801876+00:00</td>\n",
       "      <td>2020-12-15T11:01:58.538283+00:00</td>\n",
       "      <td>POLYGON ((462355.376 91003.570, 462362.891 910...</td>\n",
       "      <td>2324928</td>\n",
       "      <td>1300</td>\n",
       "      <td>2000-01-01</td>\n",
       "    </tr>\n",
       "    <tr>\n",
       "      <th>2</th>\n",
       "      <td>14019</td>\n",
       "      <td>2020-09-29T12:37:37.136218+00:00</td>\n",
       "      <td>2020-12-15T11:01:58.538283+00:00</td>\n",
       "      <td>POLYGON ((455586.504 98506.640, 455570.758 985...</td>\n",
       "      <td>6294574</td>\n",
       "      <td>1300</td>\n",
       "      <td>2000-01-01</td>\n",
       "    </tr>\n",
       "    <tr>\n",
       "      <th>3</th>\n",
       "      <td>17500</td>\n",
       "      <td>2020-09-29T12:37:37.136218+00:00</td>\n",
       "      <td>2020-12-15T11:01:58.538283+00:00</td>\n",
       "      <td>POLYGON ((454279.064 97000.000, 454277.758 969...</td>\n",
       "      <td>4684059</td>\n",
       "      <td>1300</td>\n",
       "      <td>2000-01-01</td>\n",
       "    </tr>\n",
       "    <tr>\n",
       "      <th>4</th>\n",
       "      <td>18687</td>\n",
       "      <td>2020-09-29T12:37:37.136218+00:00</td>\n",
       "      <td>2020-12-15T11:01:58.538283+00:00</td>\n",
       "      <td>POLYGON ((457250.000 97350.271, 457257.420 973...</td>\n",
       "      <td>5996126</td>\n",
       "      <td>1300</td>\n",
       "      <td>2000-01-01</td>\n",
       "    </tr>\n",
       "    <tr>\n",
       "      <th>...</th>\n",
       "      <td>...</td>\n",
       "      <td>...</td>\n",
       "      <td>...</td>\n",
       "      <td>...</td>\n",
       "      <td>...</td>\n",
       "      <td>...</td>\n",
       "      <td>...</td>\n",
       "    </tr>\n",
       "    <tr>\n",
       "      <th>6260</th>\n",
       "      <td>68728</td>\n",
       "      <td>2021-03-15T09:16:43.900706+00:00</td>\n",
       "      <td>None</td>\n",
       "      <td>POLYGON ((458247.583 99746.065, 458245.202 997...</td>\n",
       "      <td>6268059</td>\n",
       "      <td>1300</td>\n",
       "      <td>2019-03-04</td>\n",
       "    </tr>\n",
       "    <tr>\n",
       "      <th>6261</th>\n",
       "      <td>68729</td>\n",
       "      <td>2021-03-15T09:16:43.900706+00:00</td>\n",
       "      <td>None</td>\n",
       "      <td>POLYGON ((461932.283 90520.703, 461931.619 905...</td>\n",
       "      <td>6263561</td>\n",
       "      <td>1300</td>\n",
       "      <td>2019-04-01</td>\n",
       "    </tr>\n",
       "    <tr>\n",
       "      <th>6262</th>\n",
       "      <td>68760</td>\n",
       "      <td>2021-03-15T09:16:43.900706+00:00</td>\n",
       "      <td>None</td>\n",
       "      <td>POLYGON ((457231.170 90902.256, 457234.861 909...</td>\n",
       "      <td>6264862</td>\n",
       "      <td>1300</td>\n",
       "      <td>2019-01-05</td>\n",
       "    </tr>\n",
       "    <tr>\n",
       "      <th>6263</th>\n",
       "      <td>68761</td>\n",
       "      <td>2021-03-15T09:16:43.900706+00:00</td>\n",
       "      <td>None</td>\n",
       "      <td>POLYGON ((461378.845 91124.318, 461490.224 911...</td>\n",
       "      <td>6264865</td>\n",
       "      <td>1300</td>\n",
       "      <td>2019-02-21</td>\n",
       "    </tr>\n",
       "    <tr>\n",
       "      <th>6264</th>\n",
       "      <td>68783</td>\n",
       "      <td>2021-03-15T09:16:43.900706+00:00</td>\n",
       "      <td>None</td>\n",
       "      <td>POLYGON ((457450.306 97213.244, 457490.521 972...</td>\n",
       "      <td>6263915</td>\n",
       "      <td>1300</td>\n",
       "      <td>2019-01-05</td>\n",
       "    </tr>\n",
       "  </tbody>\n",
       "</table>\n",
       "<p>6265 rows × 7 columns</p>\n",
       "</div>"
      ],
      "text/plain": [
       "         id                        created_at  \\\n",
       "0     58964   2021-03-15T09:16:36.59214+00:00   \n",
       "1     20323  2020-09-30T07:49:51.801876+00:00   \n",
       "2     14019  2020-09-29T12:37:37.136218+00:00   \n",
       "3     17500  2020-09-29T12:37:37.136218+00:00   \n",
       "4     18687  2020-09-29T12:37:37.136218+00:00   \n",
       "...     ...                               ...   \n",
       "6260  68728  2021-03-15T09:16:43.900706+00:00   \n",
       "6261  68729  2021-03-15T09:16:43.900706+00:00   \n",
       "6262  68760  2021-03-15T09:16:43.900706+00:00   \n",
       "6263  68761  2021-03-15T09:16:43.900706+00:00   \n",
       "6264  68783  2021-03-15T09:16:43.900706+00:00   \n",
       "\n",
       "                           modified_at  \\\n",
       "0                                 None   \n",
       "1     2020-12-15T11:01:58.538283+00:00   \n",
       "2     2020-12-15T11:01:58.538283+00:00   \n",
       "3     2020-12-15T11:01:58.538283+00:00   \n",
       "4     2020-12-15T11:01:58.538283+00:00   \n",
       "...                                ...   \n",
       "6260                              None   \n",
       "6261                              None   \n",
       "6262                              None   \n",
       "6263                              None   \n",
       "6264                              None   \n",
       "\n",
       "                                               geometry  raba_pid  raba_id  \\\n",
       "0     POLYGON ((453810.376 91150.199, 453812.552 911...   4770325     1300   \n",
       "1     POLYGON ((462355.376 91003.570, 462362.891 910...   2324928     1300   \n",
       "2     POLYGON ((455586.504 98506.640, 455570.758 985...   6294574     1300   \n",
       "3     POLYGON ((454279.064 97000.000, 454277.758 969...   4684059     1300   \n",
       "4     POLYGON ((457250.000 97350.271, 457257.420 973...   5996126     1300   \n",
       "...                                                 ...       ...      ...   \n",
       "6260  POLYGON ((458247.583 99746.065, 458245.202 997...   6268059     1300   \n",
       "6261  POLYGON ((461932.283 90520.703, 461931.619 905...   6263561     1300   \n",
       "6262  POLYGON ((457231.170 90902.256, 457234.861 909...   6264862     1300   \n",
       "6263  POLYGON ((461378.845 91124.318, 461490.224 911...   6264865     1300   \n",
       "6264  POLYGON ((457450.306 97213.244, 457490.521 972...   6263915     1300   \n",
       "\n",
       "            d_od  \n",
       "0     2019-03-26  \n",
       "1     2000-01-01  \n",
       "2     2000-01-01  \n",
       "3     2000-01-01  \n",
       "4     2000-01-01  \n",
       "...          ...  \n",
       "6260  2019-03-04  \n",
       "6261  2019-04-01  \n",
       "6262  2019-01-05  \n",
       "6263  2019-02-21  \n",
       "6264  2019-01-05  \n",
       "\n",
       "[6265 rows x 7 columns]"
      ]
     },
     "execution_count": 15,
     "metadata": {},
     "output_type": "execute_result"
    }
   ],
   "source": [
    "geodb.get_collection('land_use', query=\"raba_id=eq.1300\")"
   ]
  },
  {
   "cell_type": "code",
   "execution_count": 16,
   "id": "centered-guard",
   "metadata": {
    "execution": {
     "iopub.execute_input": "2021-03-15T09:16:50.016425Z",
     "iopub.status.busy": "2021-03-15T09:16:50.015422Z",
     "iopub.status.idle": "2021-03-15T09:16:51.939590Z",
     "shell.execute_reply": "2021-03-15T09:16:51.938129Z"
    },
    "papermill": {
     "duration": 1.984215,
     "end_time": "2021-03-15T09:16:51.939764",
     "exception": false,
     "start_time": "2021-03-15T09:16:49.955549",
     "status": "completed"
    },
    "tags": []
   },
   "outputs": [
    {
     "data": {
      "text/plain": [
       "land_use updated"
      ]
     },
     "execution_count": 16,
     "metadata": {},
     "output_type": "execute_result"
    }
   ],
   "source": [
    "geodb.update_collection('land_use', query=\"raba_id=eq.1300\", values={'d_od': '2000-01-01'})"
   ]
  },
  {
   "cell_type": "code",
   "execution_count": 17,
   "id": "difficult-dominant",
   "metadata": {
    "execution": {
     "iopub.execute_input": "2021-03-15T09:16:52.044715Z",
     "iopub.status.busy": "2021-03-15T09:16:52.043746Z",
     "iopub.status.idle": "2021-03-15T09:16:54.426456Z",
     "shell.execute_reply": "2021-03-15T09:16:54.425510Z"
    },
    "papermill": {
     "duration": 2.439821,
     "end_time": "2021-03-15T09:16:54.427351",
     "exception": false,
     "start_time": "2021-03-15T09:16:51.987530",
     "status": "completed"
    },
    "tags": []
   },
   "outputs": [
    {
     "data": {
      "text/html": [
       "<div>\n",
       "<style scoped>\n",
       "    .dataframe tbody tr th:only-of-type {\n",
       "        vertical-align: middle;\n",
       "    }\n",
       "\n",
       "    .dataframe tbody tr th {\n",
       "        vertical-align: top;\n",
       "    }\n",
       "\n",
       "    .dataframe thead th {\n",
       "        text-align: right;\n",
       "    }\n",
       "</style>\n",
       "<table border=\"1\" class=\"dataframe\">\n",
       "  <thead>\n",
       "    <tr style=\"text-align: right;\">\n",
       "      <th></th>\n",
       "      <th>id</th>\n",
       "      <th>created_at</th>\n",
       "      <th>modified_at</th>\n",
       "      <th>geometry</th>\n",
       "      <th>raba_pid</th>\n",
       "      <th>raba_id</th>\n",
       "      <th>d_od</th>\n",
       "    </tr>\n",
       "  </thead>\n",
       "  <tbody>\n",
       "    <tr>\n",
       "      <th>0</th>\n",
       "      <td>14019</td>\n",
       "      <td>2020-09-29T12:37:37.136218+00:00</td>\n",
       "      <td>2021-03-15T09:16:50.976003+00:00</td>\n",
       "      <td>POLYGON ((455586.504 98506.640, 455570.758 985...</td>\n",
       "      <td>6294574</td>\n",
       "      <td>1300</td>\n",
       "      <td>2000-01-01</td>\n",
       "    </tr>\n",
       "    <tr>\n",
       "      <th>1</th>\n",
       "      <td>17500</td>\n",
       "      <td>2020-09-29T12:37:37.136218+00:00</td>\n",
       "      <td>2021-03-15T09:16:50.976003+00:00</td>\n",
       "      <td>POLYGON ((454279.064 97000.000, 454277.758 969...</td>\n",
       "      <td>4684059</td>\n",
       "      <td>1300</td>\n",
       "      <td>2000-01-01</td>\n",
       "    </tr>\n",
       "    <tr>\n",
       "      <th>2</th>\n",
       "      <td>18687</td>\n",
       "      <td>2020-09-29T12:37:37.136218+00:00</td>\n",
       "      <td>2021-03-15T09:16:50.976003+00:00</td>\n",
       "      <td>POLYGON ((457250.000 97350.271, 457257.420 973...</td>\n",
       "      <td>5996126</td>\n",
       "      <td>1300</td>\n",
       "      <td>2000-01-01</td>\n",
       "    </tr>\n",
       "    <tr>\n",
       "      <th>3</th>\n",
       "      <td>39977</td>\n",
       "      <td>2020-12-01T13:40:18.246639+00:00</td>\n",
       "      <td>2021-03-15T09:16:50.976003+00:00</td>\n",
       "      <td>POLYGON ((462355.376 91003.570, 462362.891 910...</td>\n",
       "      <td>2324928</td>\n",
       "      <td>1300</td>\n",
       "      <td>2000-01-01</td>\n",
       "    </tr>\n",
       "    <tr>\n",
       "      <th>4</th>\n",
       "      <td>51725</td>\n",
       "      <td>2020-12-15T11:01:52.113704+00:00</td>\n",
       "      <td>2021-03-15T09:16:50.976003+00:00</td>\n",
       "      <td>POLYGON ((455000.000 93308.744, 455003.931 933...</td>\n",
       "      <td>6115215</td>\n",
       "      <td>1300</td>\n",
       "      <td>2000-01-01</td>\n",
       "    </tr>\n",
       "    <tr>\n",
       "      <th>...</th>\n",
       "      <td>...</td>\n",
       "      <td>...</td>\n",
       "      <td>...</td>\n",
       "      <td>...</td>\n",
       "      <td>...</td>\n",
       "      <td>...</td>\n",
       "      <td>...</td>\n",
       "    </tr>\n",
       "    <tr>\n",
       "      <th>6260</th>\n",
       "      <td>68727</td>\n",
       "      <td>2021-03-15T09:16:43.900706+00:00</td>\n",
       "      <td>2021-03-15T09:16:50.976003+00:00</td>\n",
       "      <td>POLYGON ((458304.555 100146.103, 458306.726 10...</td>\n",
       "      <td>6268058</td>\n",
       "      <td>1300</td>\n",
       "      <td>2000-01-01</td>\n",
       "    </tr>\n",
       "    <tr>\n",
       "      <th>6261</th>\n",
       "      <td>68728</td>\n",
       "      <td>2021-03-15T09:16:43.900706+00:00</td>\n",
       "      <td>2021-03-15T09:16:50.976003+00:00</td>\n",
       "      <td>POLYGON ((458247.583 99746.065, 458245.202 997...</td>\n",
       "      <td>6268059</td>\n",
       "      <td>1300</td>\n",
       "      <td>2000-01-01</td>\n",
       "    </tr>\n",
       "    <tr>\n",
       "      <th>6262</th>\n",
       "      <td>68729</td>\n",
       "      <td>2021-03-15T09:16:43.900706+00:00</td>\n",
       "      <td>2021-03-15T09:16:50.976003+00:00</td>\n",
       "      <td>POLYGON ((461932.283 90520.703, 461931.619 905...</td>\n",
       "      <td>6263561</td>\n",
       "      <td>1300</td>\n",
       "      <td>2000-01-01</td>\n",
       "    </tr>\n",
       "    <tr>\n",
       "      <th>6263</th>\n",
       "      <td>68760</td>\n",
       "      <td>2021-03-15T09:16:43.900706+00:00</td>\n",
       "      <td>2021-03-15T09:16:50.976003+00:00</td>\n",
       "      <td>POLYGON ((457231.170 90902.256, 457234.861 909...</td>\n",
       "      <td>6264862</td>\n",
       "      <td>1300</td>\n",
       "      <td>2000-01-01</td>\n",
       "    </tr>\n",
       "    <tr>\n",
       "      <th>6264</th>\n",
       "      <td>68761</td>\n",
       "      <td>2021-03-15T09:16:43.900706+00:00</td>\n",
       "      <td>2021-03-15T09:16:50.976003+00:00</td>\n",
       "      <td>POLYGON ((461378.845 91124.318, 461490.224 911...</td>\n",
       "      <td>6264865</td>\n",
       "      <td>1300</td>\n",
       "      <td>2000-01-01</td>\n",
       "    </tr>\n",
       "  </tbody>\n",
       "</table>\n",
       "<p>6265 rows × 7 columns</p>\n",
       "</div>"
      ],
      "text/plain": [
       "         id                        created_at  \\\n",
       "0     14019  2020-09-29T12:37:37.136218+00:00   \n",
       "1     17500  2020-09-29T12:37:37.136218+00:00   \n",
       "2     18687  2020-09-29T12:37:37.136218+00:00   \n",
       "3     39977  2020-12-01T13:40:18.246639+00:00   \n",
       "4     51725  2020-12-15T11:01:52.113704+00:00   \n",
       "...     ...                               ...   \n",
       "6260  68727  2021-03-15T09:16:43.900706+00:00   \n",
       "6261  68728  2021-03-15T09:16:43.900706+00:00   \n",
       "6262  68729  2021-03-15T09:16:43.900706+00:00   \n",
       "6263  68760  2021-03-15T09:16:43.900706+00:00   \n",
       "6264  68761  2021-03-15T09:16:43.900706+00:00   \n",
       "\n",
       "                           modified_at  \\\n",
       "0     2021-03-15T09:16:50.976003+00:00   \n",
       "1     2021-03-15T09:16:50.976003+00:00   \n",
       "2     2021-03-15T09:16:50.976003+00:00   \n",
       "3     2021-03-15T09:16:50.976003+00:00   \n",
       "4     2021-03-15T09:16:50.976003+00:00   \n",
       "...                                ...   \n",
       "6260  2021-03-15T09:16:50.976003+00:00   \n",
       "6261  2021-03-15T09:16:50.976003+00:00   \n",
       "6262  2021-03-15T09:16:50.976003+00:00   \n",
       "6263  2021-03-15T09:16:50.976003+00:00   \n",
       "6264  2021-03-15T09:16:50.976003+00:00   \n",
       "\n",
       "                                               geometry  raba_pid  raba_id  \\\n",
       "0     POLYGON ((455586.504 98506.640, 455570.758 985...   6294574     1300   \n",
       "1     POLYGON ((454279.064 97000.000, 454277.758 969...   4684059     1300   \n",
       "2     POLYGON ((457250.000 97350.271, 457257.420 973...   5996126     1300   \n",
       "3     POLYGON ((462355.376 91003.570, 462362.891 910...   2324928     1300   \n",
       "4     POLYGON ((455000.000 93308.744, 455003.931 933...   6115215     1300   \n",
       "...                                                 ...       ...      ...   \n",
       "6260  POLYGON ((458304.555 100146.103, 458306.726 10...   6268058     1300   \n",
       "6261  POLYGON ((458247.583 99746.065, 458245.202 997...   6268059     1300   \n",
       "6262  POLYGON ((461932.283 90520.703, 461931.619 905...   6263561     1300   \n",
       "6263  POLYGON ((457231.170 90902.256, 457234.861 909...   6264862     1300   \n",
       "6264  POLYGON ((461378.845 91124.318, 461490.224 911...   6264865     1300   \n",
       "\n",
       "            d_od  \n",
       "0     2000-01-01  \n",
       "1     2000-01-01  \n",
       "2     2000-01-01  \n",
       "3     2000-01-01  \n",
       "4     2000-01-01  \n",
       "...          ...  \n",
       "6260  2000-01-01  \n",
       "6261  2000-01-01  \n",
       "6262  2000-01-01  \n",
       "6263  2000-01-01  \n",
       "6264  2000-01-01  \n",
       "\n",
       "[6265 rows x 7 columns]"
      ]
     },
     "execution_count": 17,
     "metadata": {},
     "output_type": "execute_result"
    }
   ],
   "source": [
    "geodb.get_collection('land_use', query=\"raba_id=eq.1300\")"
   ]
  },
  {
   "cell_type": "markdown",
   "id": "acoustic-railway",
   "metadata": {
    "papermill": {
     "duration": 0.048567,
     "end_time": "2021-03-15T09:16:54.532672",
     "exception": false,
     "start_time": "2021-03-15T09:16:54.484105",
     "status": "completed"
    },
    "tags": []
   },
   "source": [
    "### Managing Properties of a Collection"
   ]
  },
  {
   "cell_type": "code",
   "execution_count": 18,
   "id": "latin-quantum",
   "metadata": {
    "execution": {
     "iopub.execute_input": "2021-03-15T09:16:54.637470Z",
     "iopub.status.busy": "2021-03-15T09:16:54.636274Z",
     "iopub.status.idle": "2021-03-15T09:16:54.826129Z",
     "shell.execute_reply": "2021-03-15T09:16:54.825454Z"
    },
    "papermill": {
     "duration": 0.247342,
     "end_time": "2021-03-15T09:16:54.826307",
     "exception": false,
     "start_time": "2021-03-15T09:16:54.578965",
     "status": "completed"
    },
    "tags": []
   },
   "outputs": [
    {
     "data": {
      "text/html": [
       "<div>\n",
       "<style scoped>\n",
       "    .dataframe tbody tr th:only-of-type {\n",
       "        vertical-align: middle;\n",
       "    }\n",
       "\n",
       "    .dataframe tbody tr th {\n",
       "        vertical-align: top;\n",
       "    }\n",
       "\n",
       "    .dataframe thead th {\n",
       "        text-align: right;\n",
       "    }\n",
       "</style>\n",
       "<table border=\"1\" class=\"dataframe\">\n",
       "  <thead>\n",
       "    <tr style=\"text-align: right;\">\n",
       "      <th></th>\n",
       "      <th>owner</th>\n",
       "      <th>database</th>\n",
       "      <th>table_name</th>\n",
       "    </tr>\n",
       "  </thead>\n",
       "  <tbody>\n",
       "    <tr>\n",
       "      <th>0</th>\n",
       "      <td>geodb_0b01bfcd-2d09-46f8-84e8-cb5720fba14c</td>\n",
       "      <td>geodb_0b01bfcd-2d09-46f8-84e8-cb5720fba14c</td>\n",
       "      <td>delineated_parcels_s</td>\n",
       "    </tr>\n",
       "    <tr>\n",
       "      <th>1</th>\n",
       "      <td>geodb_0b01bfcd-2d09-46f8-84e8-cb5720fba14c</td>\n",
       "      <td>phi_week</td>\n",
       "      <td>alster</td>\n",
       "    </tr>\n",
       "    <tr>\n",
       "      <th>2</th>\n",
       "      <td>geodb_0b01bfcd-2d09-46f8-84e8-cb5720fba14c</td>\n",
       "      <td>phi_week</td>\n",
       "      <td>gran_chaco</td>\n",
       "    </tr>\n",
       "    <tr>\n",
       "      <th>3</th>\n",
       "      <td>geodb_0d6df427-8c09-41b9-abc9-64ce13a68125</td>\n",
       "      <td>geodb_0d6df427-8c09-41b9-abc9-64ce13a68125</td>\n",
       "      <td>land_use</td>\n",
       "    </tr>\n",
       "    <tr>\n",
       "      <th>4</th>\n",
       "      <td>geodb_0d6df427-8c09-41b9-abc9-64ce13a68125</td>\n",
       "      <td>geodb_0d6df427-8c09-41b9-abc9-64ce13a68125</td>\n",
       "      <td>lpis_aut</td>\n",
       "    </tr>\n",
       "    <tr>\n",
       "      <th>...</th>\n",
       "      <td>...</td>\n",
       "      <td>...</td>\n",
       "      <td>...</td>\n",
       "    </tr>\n",
       "    <tr>\n",
       "      <th>858</th>\n",
       "      <td>lpis_iacs_admin</td>\n",
       "      <td>anja</td>\n",
       "      <td>N4a</td>\n",
       "    </tr>\n",
       "    <tr>\n",
       "      <th>859</th>\n",
       "      <td>lpis_iacs_admin</td>\n",
       "      <td>anja</td>\n",
       "      <td>race_indicators</td>\n",
       "    </tr>\n",
       "    <tr>\n",
       "      <th>860</th>\n",
       "      <td>lpis_iacs_admin</td>\n",
       "      <td>lpis_iacs</td>\n",
       "      <td>land_use_slo</td>\n",
       "    </tr>\n",
       "    <tr>\n",
       "      <th>861</th>\n",
       "      <td>lpis_iacs_admin</td>\n",
       "      <td>lpis_iacs</td>\n",
       "      <td>lpis_aut</td>\n",
       "    </tr>\n",
       "    <tr>\n",
       "      <th>862</th>\n",
       "      <td>lpis_iacs_admin</td>\n",
       "      <td>lpis_iacs</td>\n",
       "      <td>lpis_slo</td>\n",
       "    </tr>\n",
       "  </tbody>\n",
       "</table>\n",
       "<p>863 rows × 3 columns</p>\n",
       "</div>"
      ],
      "text/plain": [
       "                                          owner  \\\n",
       "0    geodb_0b01bfcd-2d09-46f8-84e8-cb5720fba14c   \n",
       "1    geodb_0b01bfcd-2d09-46f8-84e8-cb5720fba14c   \n",
       "2    geodb_0b01bfcd-2d09-46f8-84e8-cb5720fba14c   \n",
       "3    geodb_0d6df427-8c09-41b9-abc9-64ce13a68125   \n",
       "4    geodb_0d6df427-8c09-41b9-abc9-64ce13a68125   \n",
       "..                                          ...   \n",
       "858                             lpis_iacs_admin   \n",
       "859                             lpis_iacs_admin   \n",
       "860                             lpis_iacs_admin   \n",
       "861                             lpis_iacs_admin   \n",
       "862                             lpis_iacs_admin   \n",
       "\n",
       "                                       database            table_name  \n",
       "0    geodb_0b01bfcd-2d09-46f8-84e8-cb5720fba14c  delineated_parcels_s  \n",
       "1                                      phi_week                alster  \n",
       "2                                      phi_week            gran_chaco  \n",
       "3    geodb_0d6df427-8c09-41b9-abc9-64ce13a68125              land_use  \n",
       "4    geodb_0d6df427-8c09-41b9-abc9-64ce13a68125              lpis_aut  \n",
       "..                                          ...                   ...  \n",
       "858                                        anja                   N4a  \n",
       "859                                        anja       race_indicators  \n",
       "860                                   lpis_iacs          land_use_slo  \n",
       "861                                   lpis_iacs              lpis_aut  \n",
       "862                                   lpis_iacs              lpis_slo  \n",
       "\n",
       "[863 rows x 3 columns]"
      ]
     },
     "execution_count": 18,
     "metadata": {},
     "output_type": "execute_result"
    }
   ],
   "source": [
    "geodb.get_my_collections()"
   ]
  },
  {
   "cell_type": "code",
   "execution_count": 19,
   "id": "relative-fifty",
   "metadata": {
    "execution": {
     "iopub.execute_input": "2021-03-15T09:16:54.945953Z",
     "iopub.status.busy": "2021-03-15T09:16:54.944946Z",
     "iopub.status.idle": "2021-03-15T09:16:55.381398Z",
     "shell.execute_reply": "2021-03-15T09:16:55.380369Z"
    },
    "papermill": {
     "duration": 0.498363,
     "end_time": "2021-03-15T09:16:55.381541",
     "exception": false,
     "start_time": "2021-03-15T09:16:54.883178",
     "status": "completed"
    },
    "tags": []
   },
   "outputs": [
    {
     "data": {
      "text/html": [
       "<div>\n",
       "<style scoped>\n",
       "    .dataframe tbody tr th:only-of-type {\n",
       "        vertical-align: middle;\n",
       "    }\n",
       "\n",
       "    .dataframe tbody tr th {\n",
       "        vertical-align: top;\n",
       "    }\n",
       "\n",
       "    .dataframe thead th {\n",
       "        text-align: right;\n",
       "    }\n",
       "</style>\n",
       "<table border=\"1\" class=\"dataframe\">\n",
       "  <thead>\n",
       "    <tr style=\"text-align: right;\">\n",
       "      <th></th>\n",
       "      <th>table_name</th>\n",
       "      <th>column_name</th>\n",
       "      <th>data_type</th>\n",
       "    </tr>\n",
       "  </thead>\n",
       "  <tbody>\n",
       "  </tbody>\n",
       "</table>\n",
       "</div>"
      ],
      "text/plain": [
       "Empty DataFrame\n",
       "Columns: [table_name, column_name, data_type]\n",
       "Index: []"
      ]
     },
     "execution_count": 19,
     "metadata": {},
     "output_type": "execute_result"
    }
   ],
   "source": [
    "geodb.get_properties('land_use')"
   ]
  },
  {
   "cell_type": "code",
   "execution_count": 20,
   "id": "closed-notebook",
   "metadata": {
    "execution": {
     "iopub.execute_input": "2021-03-15T09:16:55.482594Z",
     "iopub.status.busy": "2021-03-15T09:16:55.481465Z",
     "iopub.status.idle": "2021-03-15T09:16:55.921851Z",
     "shell.execute_reply": "2021-03-15T09:16:55.922266Z"
    },
    "papermill": {
     "duration": 0.495208,
     "end_time": "2021-03-15T09:16:55.922427",
     "exception": false,
     "start_time": "2021-03-15T09:16:55.427219",
     "status": "completed"
    },
    "tags": []
   },
   "outputs": [
    {
     "data": {
      "text/plain": [
       "Properties added"
      ]
     },
     "execution_count": 20,
     "metadata": {},
     "output_type": "execute_result"
    }
   ],
   "source": [
    "geodb.add_property('land_use', \"test_prop\", 'integer')"
   ]
  },
  {
   "cell_type": "code",
   "execution_count": 21,
   "id": "extended-rescue",
   "metadata": {
    "execution": {
     "iopub.execute_input": "2021-03-15T09:16:56.025396Z",
     "iopub.status.busy": "2021-03-15T09:16:56.024591Z",
     "iopub.status.idle": "2021-03-15T09:16:56.436719Z",
     "shell.execute_reply": "2021-03-15T09:16:56.435927Z"
    },
    "papermill": {
     "duration": 0.468333,
     "end_time": "2021-03-15T09:16:56.436890",
     "exception": false,
     "start_time": "2021-03-15T09:16:55.968557",
     "status": "completed"
    },
    "tags": []
   },
   "outputs": [
    {
     "data": {
      "text/html": [
       "<div>\n",
       "<style scoped>\n",
       "    .dataframe tbody tr th:only-of-type {\n",
       "        vertical-align: middle;\n",
       "    }\n",
       "\n",
       "    .dataframe tbody tr th {\n",
       "        vertical-align: top;\n",
       "    }\n",
       "\n",
       "    .dataframe thead th {\n",
       "        text-align: right;\n",
       "    }\n",
       "</style>\n",
       "<table border=\"1\" class=\"dataframe\">\n",
       "  <thead>\n",
       "    <tr style=\"text-align: right;\">\n",
       "      <th></th>\n",
       "      <th>table_name</th>\n",
       "      <th>column_name</th>\n",
       "      <th>data_type</th>\n",
       "    </tr>\n",
       "  </thead>\n",
       "  <tbody>\n",
       "  </tbody>\n",
       "</table>\n",
       "</div>"
      ],
      "text/plain": [
       "Empty DataFrame\n",
       "Columns: [table_name, column_name, data_type]\n",
       "Index: []"
      ]
     },
     "execution_count": 21,
     "metadata": {},
     "output_type": "execute_result"
    }
   ],
   "source": [
    "geodb.get_properties('land_use')"
   ]
  },
  {
   "cell_type": "code",
   "execution_count": 22,
   "id": "early-gilbert",
   "metadata": {
    "execution": {
     "iopub.execute_input": "2021-03-15T09:16:56.548937Z",
     "iopub.status.busy": "2021-03-15T09:16:56.547394Z",
     "iopub.status.idle": "2021-03-15T09:16:59.801307Z",
     "shell.execute_reply": "2021-03-15T09:16:59.800319Z"
    },
    "papermill": {
     "duration": 3.313084,
     "end_time": "2021-03-15T09:16:59.801493",
     "exception": false,
     "start_time": "2021-03-15T09:16:56.488409",
     "status": "completed"
    },
    "tags": []
   },
   "outputs": [
    {
     "data": {
      "text/plain": [
       "Properties ['test_prop'] dropped from geodb_418dfeac-15f0-4606-9edb-fd9eb722bf04_land_use"
      ]
     },
     "execution_count": 22,
     "metadata": {},
     "output_type": "execute_result"
    }
   ],
   "source": [
    "geodb.drop_property('land_use', 'test_prop')"
   ]
  },
  {
   "cell_type": "code",
   "execution_count": 23,
   "id": "southern-designer",
   "metadata": {
    "execution": {
     "iopub.execute_input": "2021-03-15T09:16:59.907350Z",
     "iopub.status.busy": "2021-03-15T09:16:59.905736Z",
     "iopub.status.idle": "2021-03-15T09:17:00.308046Z",
     "shell.execute_reply": "2021-03-15T09:17:00.306478Z"
    },
    "papermill": {
     "duration": 0.460659,
     "end_time": "2021-03-15T09:17:00.308461",
     "exception": false,
     "start_time": "2021-03-15T09:16:59.847802",
     "status": "completed"
    },
    "tags": []
   },
   "outputs": [
    {
     "data": {
      "text/html": [
       "<div>\n",
       "<style scoped>\n",
       "    .dataframe tbody tr th:only-of-type {\n",
       "        vertical-align: middle;\n",
       "    }\n",
       "\n",
       "    .dataframe tbody tr th {\n",
       "        vertical-align: top;\n",
       "    }\n",
       "\n",
       "    .dataframe thead th {\n",
       "        text-align: right;\n",
       "    }\n",
       "</style>\n",
       "<table border=\"1\" class=\"dataframe\">\n",
       "  <thead>\n",
       "    <tr style=\"text-align: right;\">\n",
       "      <th></th>\n",
       "      <th>table_name</th>\n",
       "      <th>column_name</th>\n",
       "      <th>data_type</th>\n",
       "    </tr>\n",
       "  </thead>\n",
       "  <tbody>\n",
       "  </tbody>\n",
       "</table>\n",
       "</div>"
      ],
      "text/plain": [
       "Empty DataFrame\n",
       "Columns: [table_name, column_name, data_type]\n",
       "Index: []"
      ]
     },
     "execution_count": 23,
     "metadata": {},
     "output_type": "execute_result"
    }
   ],
   "source": [
    "geodb.get_properties('land_use')"
   ]
  },
  {
   "cell_type": "code",
   "execution_count": 24,
   "id": "insured-pledge",
   "metadata": {
    "execution": {
     "iopub.execute_input": "2021-03-15T09:17:00.431171Z",
     "iopub.status.busy": "2021-03-15T09:17:00.428896Z",
     "iopub.status.idle": "2021-03-15T09:17:00.807461Z",
     "shell.execute_reply": "2021-03-15T09:17:00.805652Z"
    },
    "papermill": {
     "duration": 0.455377,
     "end_time": "2021-03-15T09:17:00.807794",
     "exception": false,
     "start_time": "2021-03-15T09:17:00.352417",
     "status": "completed"
    },
    "tags": []
   },
   "outputs": [
    {
     "data": {
      "text/plain": [
       "Properties added"
      ]
     },
     "execution_count": 24,
     "metadata": {},
     "output_type": "execute_result"
    }
   ],
   "source": [
    "geodb.add_properties('land_use', properties={'test1': 'integer', 'test2': 'date'})"
   ]
  },
  {
   "cell_type": "code",
   "execution_count": 25,
   "id": "manual-musical",
   "metadata": {
    "execution": {
     "iopub.execute_input": "2021-03-15T09:17:00.933610Z",
     "iopub.status.busy": "2021-03-15T09:17:00.932508Z",
     "iopub.status.idle": "2021-03-15T09:17:01.348137Z",
     "shell.execute_reply": "2021-03-15T09:17:01.346403Z"
    },
    "papermill": {
     "duration": 0.490081,
     "end_time": "2021-03-15T09:17:01.348390",
     "exception": false,
     "start_time": "2021-03-15T09:17:00.858309",
     "status": "completed"
    },
    "tags": []
   },
   "outputs": [
    {
     "data": {
      "text/html": [
       "<div>\n",
       "<style scoped>\n",
       "    .dataframe tbody tr th:only-of-type {\n",
       "        vertical-align: middle;\n",
       "    }\n",
       "\n",
       "    .dataframe tbody tr th {\n",
       "        vertical-align: top;\n",
       "    }\n",
       "\n",
       "    .dataframe thead th {\n",
       "        text-align: right;\n",
       "    }\n",
       "</style>\n",
       "<table border=\"1\" class=\"dataframe\">\n",
       "  <thead>\n",
       "    <tr style=\"text-align: right;\">\n",
       "      <th></th>\n",
       "      <th>table_name</th>\n",
       "      <th>column_name</th>\n",
       "      <th>data_type</th>\n",
       "    </tr>\n",
       "  </thead>\n",
       "  <tbody>\n",
       "  </tbody>\n",
       "</table>\n",
       "</div>"
      ],
      "text/plain": [
       "Empty DataFrame\n",
       "Columns: [table_name, column_name, data_type]\n",
       "Index: []"
      ]
     },
     "execution_count": 25,
     "metadata": {},
     "output_type": "execute_result"
    }
   ],
   "source": [
    "geodb.get_properties('land_use')"
   ]
  },
  {
   "cell_type": "code",
   "execution_count": 26,
   "id": "czech-disclaimer",
   "metadata": {
    "execution": {
     "iopub.execute_input": "2021-03-15T09:17:01.481578Z",
     "iopub.status.busy": "2021-03-15T09:17:01.480298Z",
     "iopub.status.idle": "2021-03-15T09:17:04.801549Z",
     "shell.execute_reply": "2021-03-15T09:17:04.800111Z"
    },
    "papermill": {
     "duration": 3.403982,
     "end_time": "2021-03-15T09:17:04.801803",
     "exception": false,
     "start_time": "2021-03-15T09:17:01.397821",
     "status": "completed"
    },
    "tags": []
   },
   "outputs": [
    {
     "data": {
      "text/plain": [
       "Properties ['test1', 'test2'] dropped from geodb_418dfeac-15f0-4606-9edb-fd9eb722bf04_land_use"
      ]
     },
     "execution_count": 26,
     "metadata": {},
     "output_type": "execute_result"
    }
   ],
   "source": [
    "geodb.drop_properties('land_use', properties=['test1', 'test2'])"
   ]
  },
  {
   "cell_type": "code",
   "execution_count": 27,
   "id": "superior-payroll",
   "metadata": {
    "execution": {
     "iopub.execute_input": "2021-03-15T09:17:04.923475Z",
     "iopub.status.busy": "2021-03-15T09:17:04.920219Z",
     "iopub.status.idle": "2021-03-15T09:17:05.304441Z",
     "shell.execute_reply": "2021-03-15T09:17:05.305235Z"
    },
    "papermill": {
     "duration": 0.445144,
     "end_time": "2021-03-15T09:17:05.305447",
     "exception": false,
     "start_time": "2021-03-15T09:17:04.860303",
     "status": "completed"
    },
    "tags": []
   },
   "outputs": [
    {
     "data": {
      "text/html": [
       "<div>\n",
       "<style scoped>\n",
       "    .dataframe tbody tr th:only-of-type {\n",
       "        vertical-align: middle;\n",
       "    }\n",
       "\n",
       "    .dataframe tbody tr th {\n",
       "        vertical-align: top;\n",
       "    }\n",
       "\n",
       "    .dataframe thead th {\n",
       "        text-align: right;\n",
       "    }\n",
       "</style>\n",
       "<table border=\"1\" class=\"dataframe\">\n",
       "  <thead>\n",
       "    <tr style=\"text-align: right;\">\n",
       "      <th></th>\n",
       "      <th>table_name</th>\n",
       "      <th>column_name</th>\n",
       "      <th>data_type</th>\n",
       "    </tr>\n",
       "  </thead>\n",
       "  <tbody>\n",
       "  </tbody>\n",
       "</table>\n",
       "</div>"
      ],
      "text/plain": [
       "Empty DataFrame\n",
       "Columns: [table_name, column_name, data_type]\n",
       "Index: []"
      ]
     },
     "execution_count": 27,
     "metadata": {},
     "output_type": "execute_result"
    }
   ],
   "source": [
    "geodb.get_properties('land_use')"
   ]
  },
  {
   "cell_type": "code",
   "execution_count": 28,
   "id": "amended-boundary",
   "metadata": {
    "execution": {
     "iopub.execute_input": "2021-03-15T09:17:05.421989Z",
     "iopub.status.busy": "2021-03-15T09:17:05.421036Z",
     "iopub.status.idle": "2021-03-15T09:17:05.427903Z",
     "shell.execute_reply": "2021-03-15T09:17:05.426230Z"
    },
    "papermill": {
     "duration": 0.067251,
     "end_time": "2021-03-15T09:17:05.428126",
     "exception": false,
     "start_time": "2021-03-15T09:17:05.360875",
     "status": "completed"
    },
    "tags": []
   },
   "outputs": [],
   "source": [
    "#geodb.drop_collection('land_use')"
   ]
  },
  {
   "cell_type": "code",
   "execution_count": null,
   "id": "careful-aircraft",
   "metadata": {
    "papermill": {
     "duration": 0.052288,
     "end_time": "2021-03-15T09:17:05.536833",
     "exception": false,
     "start_time": "2021-03-15T09:17:05.484545",
     "status": "completed"
    },
    "tags": []
   },
   "outputs": [],
   "source": []
  }
 ],
 "metadata": {
  "kernelspec": {
   "display_name": "EDC 0.21.0 (Python3)",
   "language": "python",
   "name": "edc"
  },
  "language_info": {
   "codemirror_mode": {
    "name": "ipython",
    "version": 3
   },
   "file_extension": ".py",
   "mimetype": "text/x-python",
   "name": "python",
   "nbconvert_exporter": "python",
   "pygments_lexer": "ipython3",
   "version": "3.8.8"
  },
  "papermill": {
   "duration": 40.457174,
   "end_time": "2021-03-15T09:17:06.097705",
   "environment_variables": {},
   "exception": null,
   "input_path": "/tmp/tmpvijd6u1c",
   "output_path": "/tmp/cur_notebook.ipynb",
   "parameters": {},
   "start_time": "2021-03-15T09:16:25.640531",
   "version": "2.1.2"
  },
  "properties": {
   "description": "Euro Data Cube GeoDB: Manage Datasets",
   "id": "geodb-manage",
   "license": null,
   "name": "GeoDB: Manage Datasets",
   "requirements": [
    "eurodatacube-geodb"
   ],
   "tags": [
    "Getting started",
    "GeoDB"
   ],
   "version": "0.2"
  },
  "pycharm": {
   "stem_cell": {
    "cell_type": "raw",
    "metadata": {
     "collapsed": false
    },
    "source": []
   }
  }
 },
 "nbformat": 4,
 "nbformat_minor": 5
}