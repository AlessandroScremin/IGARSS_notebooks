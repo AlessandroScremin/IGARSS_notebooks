{
 "cells": [
  {
   "cell_type": "code",
   "execution_count": 1,
   "id": "1bc2e278",
   "metadata": {
    "execution": {
     "iopub.execute_input": "2021-10-04T15:42:03.127598Z",
     "iopub.status.busy": "2021-10-04T15:42:03.127032Z",
     "iopub.status.idle": "2021-10-04T15:42:03.712849Z",
     "shell.execute_reply": "2021-10-04T15:42:03.712212Z"
    },
    "papermill": {
     "duration": 0.603156,
     "end_time": "2021-10-04T15:42:03.712973",
     "exception": false,
     "start_time": "2021-10-04T15:42:03.109817",
     "status": "completed"
    },
    "tags": []
   },
   "outputs": [
    {
     "data": {
      "text/markdown": [
       "\n",
       "***Notebook Title***  \n",
       "GeoDB: Manage Datasets\n",
       "\n",
       "***Notebook Description***  \n",
       "Euro Data Cube GeoDB: Manage Datasets\n",
       "\n",
       "\n",
       "***Notebook Dependencies***  \n",
       "This notebook requires an active subscription to:\n",
       "* EDC GeoDB\n",
       "* EDC EOxHub Workspace\n"
      ],
      "text/plain": [
       "<IPython.core.display.Markdown object>"
      ]
     },
     "metadata": {},
     "output_type": "display_data"
    }
   ],
   "source": [
    "from edc import print_info \n",
    "print_info(\"geodb-manage\")"
   ]
  },
  {
   "cell_type": "code",
   "execution_count": 2,
   "id": "f1fdb01e",
   "metadata": {
    "execution": {
     "iopub.execute_input": "2021-10-04T15:42:03.742167Z",
     "iopub.status.busy": "2021-10-04T15:42:03.741643Z",
     "iopub.status.idle": "2021-10-04T15:42:03.745837Z",
     "shell.execute_reply": "2021-10-04T15:42:03.745349Z"
    },
    "papermill": {
     "duration": 0.020089,
     "end_time": "2021-10-04T15:42:03.745928",
     "exception": false,
     "start_time": "2021-10-04T15:42:03.725839",
     "status": "completed"
    },
    "tags": []
   },
   "outputs": [
    {
     "data": {
      "text/html": [
       "<script type=\"text/javascript\">\n",
       "        function toggle(id) {\n",
       "            el = document.getElementById(id);\n",
       "            el.style.display = el.style.display === \"none\" ? \"block\" : \"none\";\n",
       "        }\n",
       "    </script>"
      ],
      "text/plain": [
       "<IPython.core.display.HTML object>"
      ]
     },
     "metadata": {},
     "output_type": "display_data"
    },
    {
     "data": {
      "text/html": [
       "This notebook is compatible with this base image version (user-0.24.5)."
      ],
      "text/plain": [
       "<IPython.core.display.HTML object>"
      ]
     },
     "metadata": {},
     "output_type": "display_data"
    },
    {
     "data": {
      "text/markdown": [
       "\n",
       "\n",
       "---------\n",
       "\n",
       "The following environment variables are available:\n",
       "\n",
       "* `GEODB_AUTH_AUD`, `GEODB_AUTH_CLIENT_ID`, `GEODB_AUTH_DOMAIN`, `GEODB_API_SERVER_URL`, `GEODB_AUTH_CLIENT_SECRET`, `GEODB_API_SERVER_PORT`\n"
      ],
      "text/plain": [
       "<IPython.core.display.Markdown object>"
      ]
     },
     "metadata": {},
     "output_type": "display_data"
    }
   ],
   "source": [
    "from edc import check_compatibility\n",
    "check_compatibility(\"user-0.24.5\", dependencies=[\"GEODB\"])"
   ]
  },
  {
   "cell_type": "markdown",
   "id": "4589dc0f",
   "metadata": {
    "papermill": {
     "duration": 0.013189,
     "end_time": "2021-10-04T15:42:03.772209",
     "exception": false,
     "start_time": "2021-10-04T15:42:03.759020",
     "status": "completed"
    },
    "tags": []
   },
   "source": [
    "## Manage Collections in your GeoDB\n",
    "\n"
   ]
  },
  {
   "cell_type": "markdown",
   "id": "b700341c",
   "metadata": {
    "papermill": {
     "duration": 0.013017,
     "end_time": "2021-10-04T15:42:03.798253",
     "exception": false,
     "start_time": "2021-10-04T15:42:03.785236",
     "status": "completed"
    },
    "tags": []
   },
   "source": [
    "### Connecting to the GeoDB"
   ]
  },
  {
   "cell_type": "code",
   "execution_count": 3,
   "id": "baa87b49",
   "metadata": {
    "execution": {
     "iopub.execute_input": "2021-10-04T15:42:03.828641Z",
     "iopub.status.busy": "2021-10-04T15:42:03.828051Z",
     "iopub.status.idle": "2021-10-04T15:42:04.367387Z",
     "shell.execute_reply": "2021-10-04T15:42:04.366843Z"
    },
    "papermill": {
     "duration": 0.555451,
     "end_time": "2021-10-04T15:42:04.367521",
     "exception": false,
     "start_time": "2021-10-04T15:42:03.812070",
     "status": "completed"
    },
    "tags": []
   },
   "outputs": [],
   "source": [
    "from xcube_geodb.core.geodb import GeoDBClient"
   ]
  },
  {
   "cell_type": "code",
   "execution_count": 4,
   "id": "9baa3452",
   "metadata": {
    "execution": {
     "iopub.execute_input": "2021-10-04T15:42:04.398870Z",
     "iopub.status.busy": "2021-10-04T15:42:04.398318Z",
     "iopub.status.idle": "2021-10-04T15:42:04.400090Z",
     "shell.execute_reply": "2021-10-04T15:42:04.400430Z"
    },
    "papermill": {
     "duration": 0.019784,
     "end_time": "2021-10-04T15:42:04.400585",
     "exception": false,
     "start_time": "2021-10-04T15:42:04.380801",
     "status": "completed"
    },
    "tags": []
   },
   "outputs": [],
   "source": [
    "geodb = GeoDBClient()"
   ]
  },
  {
   "cell_type": "code",
   "execution_count": 5,
   "id": "a780e3fb",
   "metadata": {
    "execution": {
     "iopub.execute_input": "2021-10-04T15:42:04.431823Z",
     "iopub.status.busy": "2021-10-04T15:42:04.431266Z",
     "iopub.status.idle": "2021-10-04T15:42:05.521484Z",
     "shell.execute_reply": "2021-10-04T15:42:05.520950Z"
    },
    "papermill": {
     "duration": 1.107721,
     "end_time": "2021-10-04T15:42:05.521608",
     "exception": false,
     "start_time": "2021-10-04T15:42:04.413887",
     "status": "completed"
    },
    "tags": []
   },
   "outputs": [
    {
     "data": {
      "text/plain": [
       "'geodb_418dfeac-15f0-4606-9edb-fd9eb722bf04'"
      ]
     },
     "execution_count": 5,
     "metadata": {},
     "output_type": "execute_result"
    }
   ],
   "source": [
    "# If you are logged in, this will tell you what account the system currently uses\n",
    "geodb.whoami"
   ]
  },
  {
   "cell_type": "code",
   "execution_count": 6,
   "id": "f0b2b694",
   "metadata": {
    "execution": {
     "iopub.execute_input": "2021-10-04T15:42:05.556767Z",
     "iopub.status.busy": "2021-10-04T15:42:05.556163Z",
     "iopub.status.idle": "2021-10-04T15:42:06.171961Z",
     "shell.execute_reply": "2021-10-04T15:42:06.171487Z"
    },
    "papermill": {
     "duration": 0.633062,
     "end_time": "2021-10-04T15:42:06.172073",
     "exception": false,
     "start_time": "2021-10-04T15:42:05.539011",
     "status": "completed"
    },
    "tags": []
   },
   "outputs": [
    {
     "data": {
      "text/html": [
       "<div>\n",
       "<style scoped>\n",
       "    .dataframe tbody tr th:only-of-type {\n",
       "        vertical-align: middle;\n",
       "    }\n",
       "\n",
       "    .dataframe tbody tr th {\n",
       "        vertical-align: top;\n",
       "    }\n",
       "\n",
       "    .dataframe thead th {\n",
       "        text-align: right;\n",
       "    }\n",
       "</style>\n",
       "<table border=\"1\" class=\"dataframe\">\n",
       "  <thead>\n",
       "    <tr style=\"text-align: right;\">\n",
       "      <th></th>\n",
       "      <th>owner</th>\n",
       "      <th>database</th>\n",
       "      <th>collection</th>\n",
       "      <th>table_name</th>\n",
       "    </tr>\n",
       "  </thead>\n",
       "  <tbody>\n",
       "    <tr>\n",
       "      <th>0</th>\n",
       "      <td>geodb_0b01bfcd-2d09-46f8-84e8-cb5720fba14c</td>\n",
       "      <td>geodb_0b01bfcd-2d09-46f8-84e8-cb5720fba14c</td>\n",
       "      <td>delineated_parcels_s</td>\n",
       "      <td>delineated_parcels_s</td>\n",
       "    </tr>\n",
       "    <tr>\n",
       "      <th>1</th>\n",
       "      <td>geodb_0b01bfcd-2d09-46f8-84e8-cb5720fba14c</td>\n",
       "      <td>geodb_0b01bfcd-2d09-46f8-84e8-cb5720fba14c</td>\n",
       "      <td>test_batic</td>\n",
       "      <td>test_batic</td>\n",
       "    </tr>\n",
       "    <tr>\n",
       "      <th>2</th>\n",
       "      <td>geodb_0d6df427-8c09-41b9-abc9-64ce13a68125</td>\n",
       "      <td>geodb_0d6df427-8c09-41b9-abc9-64ce13a68125</td>\n",
       "      <td>land_use</td>\n",
       "      <td>land_use</td>\n",
       "    </tr>\n",
       "    <tr>\n",
       "      <th>3</th>\n",
       "      <td>geodb_0d6df427-8c09-41b9-abc9-64ce13a68125</td>\n",
       "      <td>geodb_0d6df427-8c09-41b9-abc9-64ce13a68125</td>\n",
       "      <td>lpis_aut</td>\n",
       "      <td>lpis_aut</td>\n",
       "    </tr>\n",
       "    <tr>\n",
       "      <th>4</th>\n",
       "      <td>geodb_0e5d743f-2134-4561-8946-a073b039176f</td>\n",
       "      <td>geodb_0e5d743f-2134-4561-8946-a073b039176f</td>\n",
       "      <td>ai4eo_bboxes</td>\n",
       "      <td>ai4eo_bboxes</td>\n",
       "    </tr>\n",
       "    <tr>\n",
       "      <th>...</th>\n",
       "      <td>...</td>\n",
       "      <td>...</td>\n",
       "      <td>...</td>\n",
       "      <td>...</td>\n",
       "    </tr>\n",
       "    <tr>\n",
       "      <th>878</th>\n",
       "      <td>geodb_geodb_ci</td>\n",
       "      <td>geodb_geodb_ci</td>\n",
       "      <td>land_use</td>\n",
       "      <td>land_use</td>\n",
       "    </tr>\n",
       "    <tr>\n",
       "      <th>879</th>\n",
       "      <td>geodb_lpis_iacs_admin</td>\n",
       "      <td>lpis_iacs</td>\n",
       "      <td>land_use_slo</td>\n",
       "      <td>land_use_slo</td>\n",
       "    </tr>\n",
       "    <tr>\n",
       "      <th>880</th>\n",
       "      <td>geodb_lpis_iacs_admin</td>\n",
       "      <td>lpis_iacs</td>\n",
       "      <td>lpis_aut</td>\n",
       "      <td>lpis_aut</td>\n",
       "    </tr>\n",
       "    <tr>\n",
       "      <th>881</th>\n",
       "      <td>geodb_lpis_iacs_admin</td>\n",
       "      <td>lpis_iacs</td>\n",
       "      <td>lpis_slo</td>\n",
       "      <td>lpis_slo</td>\n",
       "    </tr>\n",
       "    <tr>\n",
       "      <th>882</th>\n",
       "      <td>geodb_lpis_iacs_admin</td>\n",
       "      <td>lpis_iacs</td>\n",
       "      <td>metadata</td>\n",
       "      <td>metadata</td>\n",
       "    </tr>\n",
       "  </tbody>\n",
       "</table>\n",
       "<p>883 rows × 4 columns</p>\n",
       "</div>"
      ],
      "text/plain": [
       "                                          owner  \\\n",
       "0    geodb_0b01bfcd-2d09-46f8-84e8-cb5720fba14c   \n",
       "1    geodb_0b01bfcd-2d09-46f8-84e8-cb5720fba14c   \n",
       "2    geodb_0d6df427-8c09-41b9-abc9-64ce13a68125   \n",
       "3    geodb_0d6df427-8c09-41b9-abc9-64ce13a68125   \n",
       "4    geodb_0e5d743f-2134-4561-8946-a073b039176f   \n",
       "..                                          ...   \n",
       "878                              geodb_geodb_ci   \n",
       "879                       geodb_lpis_iacs_admin   \n",
       "880                       geodb_lpis_iacs_admin   \n",
       "881                       geodb_lpis_iacs_admin   \n",
       "882                       geodb_lpis_iacs_admin   \n",
       "\n",
       "                                       database            collection  \\\n",
       "0    geodb_0b01bfcd-2d09-46f8-84e8-cb5720fba14c  delineated_parcels_s   \n",
       "1    geodb_0b01bfcd-2d09-46f8-84e8-cb5720fba14c            test_batic   \n",
       "2    geodb_0d6df427-8c09-41b9-abc9-64ce13a68125              land_use   \n",
       "3    geodb_0d6df427-8c09-41b9-abc9-64ce13a68125              lpis_aut   \n",
       "4    geodb_0e5d743f-2134-4561-8946-a073b039176f          ai4eo_bboxes   \n",
       "..                                          ...                   ...   \n",
       "878                              geodb_geodb_ci              land_use   \n",
       "879                                   lpis_iacs          land_use_slo   \n",
       "880                                   lpis_iacs              lpis_aut   \n",
       "881                                   lpis_iacs              lpis_slo   \n",
       "882                                   lpis_iacs              metadata   \n",
       "\n",
       "               table_name  \n",
       "0    delineated_parcels_s  \n",
       "1              test_batic  \n",
       "2                land_use  \n",
       "3                lpis_aut  \n",
       "4            ai4eo_bboxes  \n",
       "..                    ...  \n",
       "878              land_use  \n",
       "879          land_use_slo  \n",
       "880              lpis_aut  \n",
       "881              lpis_slo  \n",
       "882              metadata  \n",
       "\n",
       "[883 rows x 4 columns]"
      ]
     },
     "execution_count": 6,
     "metadata": {},
     "output_type": "execute_result"
    }
   ],
   "source": [
    "# Lets get already existing collections\n",
    "ds = geodb.get_my_collections()\n",
    "ds\n"
   ]
  },
  {
   "cell_type": "markdown",
   "id": "66a44538",
   "metadata": {
    "papermill": {
     "duration": 0.013932,
     "end_time": "2021-10-04T15:42:06.200276",
     "exception": false,
     "start_time": "2021-10-04T15:42:06.186344",
     "status": "completed"
    },
    "tags": []
   },
   "source": [
    "### Creating collections\n",
    "\n",
    "Once the connection has been established you will be able to create a collection. The collection will contain standard properties (fields) plus custom properties\n",
    "which you can add at your disgretion. Please use [PostGreSQL type definitions](https://www.postgresql.org/docs/11/datatype.html). We recommend stying simple with\n",
    "your data types as we have not tested every single type."
   ]
  },
  {
   "cell_type": "code",
   "execution_count": 7,
   "id": "16370ff2",
   "metadata": {
    "execution": {
     "iopub.execute_input": "2021-10-04T15:42:06.234285Z",
     "iopub.status.busy": "2021-10-04T15:42:06.232371Z",
     "iopub.status.idle": "2021-10-04T15:42:07.776868Z",
     "shell.execute_reply": "2021-10-04T15:42:07.777264Z"
    },
    "papermill": {
     "duration": 1.563338,
     "end_time": "2021-10-04T15:42:07.777400",
     "exception": false,
     "start_time": "2021-10-04T15:42:06.214062",
     "status": "completed"
    },
    "tags": []
   },
   "outputs": [],
   "source": [
    "ds = geodb.get_my_collections()\n",
    "\n",
    "if ds[(ds.database == geodb.whoami) & (ds.collection == 'land_use')].collection.count() == 0:\n",
    "    # Have a look at fiona feature schema\n",
    "    collections = {\n",
    "            \"land_use\": \n",
    "            {\n",
    "                \"crs\": 3794,\n",
    "                \"properties\": \n",
    "                {\n",
    "                    \"RABA_PID\": \"float\", \n",
    "                    \"RABA_ID\": \"float\", \n",
    "                    \"D_OD\": \"date\"\n",
    "                }\n",
    "            }\n",
    "        }\n",
    "\n",
    "\n",
    "    geodb.create_collections(collections)\n",
    "    import geopandas\n",
    "    import os\n",
    "    gdf = geopandas.read_file(os.path.expanduser(\"~/.shared/notebooks/eurodatacube/notebooks/getting-started/data/sample/land_use.shp\"))\n",
    "    geodb.insert_into_collection('land_use', gdf)"
   ]
  },
  {
   "cell_type": "code",
   "execution_count": 8,
   "id": "b916f81a",
   "metadata": {
    "execution": {
     "iopub.execute_input": "2021-10-04T15:42:07.810048Z",
     "iopub.status.busy": "2021-10-04T15:42:07.808955Z",
     "iopub.status.idle": "2021-10-04T15:42:08.997001Z",
     "shell.execute_reply": "2021-10-04T15:42:08.996432Z"
    },
    "papermill": {
     "duration": 1.204888,
     "end_time": "2021-10-04T15:42:08.997108",
     "exception": false,
     "start_time": "2021-10-04T15:42:07.792220",
     "status": "completed"
    },
    "tags": []
   },
   "outputs": [
    {
     "data": {
      "text/html": [
       "<div>\n",
       "<style scoped>\n",
       "    .dataframe tbody tr th:only-of-type {\n",
       "        vertical-align: middle;\n",
       "    }\n",
       "\n",
       "    .dataframe tbody tr th {\n",
       "        vertical-align: top;\n",
       "    }\n",
       "\n",
       "    .dataframe thead th {\n",
       "        text-align: right;\n",
       "    }\n",
       "</style>\n",
       "<table border=\"1\" class=\"dataframe\">\n",
       "  <thead>\n",
       "    <tr style=\"text-align: right;\">\n",
       "      <th></th>\n",
       "      <th>owner</th>\n",
       "      <th>database</th>\n",
       "      <th>collection</th>\n",
       "      <th>table_name</th>\n",
       "    </tr>\n",
       "  </thead>\n",
       "  <tbody>\n",
       "    <tr>\n",
       "      <th>0</th>\n",
       "      <td>geodb_418dfeac-15f0-4606-9edb-fd9eb722bf04</td>\n",
       "      <td>geodb_418dfeac-15f0-4606-9edb-fd9eb722bf04</td>\n",
       "      <td>2021-10-04-test-2</td>\n",
       "      <td>2021-10-04-test-2</td>\n",
       "    </tr>\n",
       "    <tr>\n",
       "      <th>1</th>\n",
       "      <td>geodb_418dfeac-15f0-4606-9edb-fd9eb722bf04</td>\n",
       "      <td>geodb_418dfeac-15f0-4606-9edb-fd9eb722bf04</td>\n",
       "      <td>2021-10-04-test-coll</td>\n",
       "      <td>2021-10-04-test-coll</td>\n",
       "    </tr>\n",
       "    <tr>\n",
       "      <th>2</th>\n",
       "      <td>geodb_418dfeac-15f0-4606-9edb-fd9eb722bf04</td>\n",
       "      <td>geodb_418dfeac-15f0-4606-9edb-fd9eb722bf04</td>\n",
       "      <td>alster</td>\n",
       "      <td>alster</td>\n",
       "    </tr>\n",
       "    <tr>\n",
       "      <th>3</th>\n",
       "      <td>geodb_418dfeac-15f0-4606-9edb-fd9eb722bf04</td>\n",
       "      <td>geodb_418dfeac-15f0-4606-9edb-fd9eb722bf04</td>\n",
       "      <td>land_use</td>\n",
       "      <td>land_use</td>\n",
       "    </tr>\n",
       "  </tbody>\n",
       "</table>\n",
       "</div>"
      ],
      "text/plain": [
       "                                        owner  \\\n",
       "0  geodb_418dfeac-15f0-4606-9edb-fd9eb722bf04   \n",
       "1  geodb_418dfeac-15f0-4606-9edb-fd9eb722bf04   \n",
       "2  geodb_418dfeac-15f0-4606-9edb-fd9eb722bf04   \n",
       "3  geodb_418dfeac-15f0-4606-9edb-fd9eb722bf04   \n",
       "\n",
       "                                     database            collection  \\\n",
       "0  geodb_418dfeac-15f0-4606-9edb-fd9eb722bf04     2021-10-04-test-2   \n",
       "1  geodb_418dfeac-15f0-4606-9edb-fd9eb722bf04  2021-10-04-test-coll   \n",
       "2  geodb_418dfeac-15f0-4606-9edb-fd9eb722bf04                alster   \n",
       "3  geodb_418dfeac-15f0-4606-9edb-fd9eb722bf04              land_use   \n",
       "\n",
       "             table_name  \n",
       "0     2021-10-04-test-2  \n",
       "1  2021-10-04-test-coll  \n",
       "2                alster  \n",
       "3              land_use  "
      ]
     },
     "execution_count": 8,
     "metadata": {},
     "output_type": "execute_result"
    }
   ],
   "source": [
    "ds = geodb.get_my_collections(database=geodb.whoami)\n",
    "ds"
   ]
  },
  {
   "cell_type": "markdown",
   "id": "454c4c30",
   "metadata": {
    "papermill": {
     "duration": 0.014072,
     "end_time": "2021-10-04T15:42:09.025398",
     "exception": false,
     "start_time": "2021-10-04T15:42:09.011326",
     "status": "completed"
    },
    "tags": []
   },
   "source": [
    "### Loading data into a dataset\n",
    "\n",
    "Once the table has been created, you can load data into the dataset. The example below loads a shapefile. The attributes of the shapefile correspond to the dataset's properties.\n"
   ]
  },
  {
   "cell_type": "code",
   "execution_count": 9,
   "id": "35ddeb73",
   "metadata": {
    "execution": {
     "iopub.execute_input": "2021-10-04T15:42:09.797102Z",
     "iopub.status.busy": "2021-10-04T15:42:09.773440Z",
     "iopub.status.idle": "2021-10-04T15:42:10.207095Z",
     "shell.execute_reply": "2021-10-04T15:42:10.206571Z"
    },
    "papermill": {
     "duration": 1.167823,
     "end_time": "2021-10-04T15:42:10.207215",
     "exception": false,
     "start_time": "2021-10-04T15:42:09.039392",
     "status": "completed"
    },
    "tags": []
   },
   "outputs": [
    {
     "data": {
      "text/html": [
       "<div>\n",
       "<style scoped>\n",
       "    .dataframe tbody tr th:only-of-type {\n",
       "        vertical-align: middle;\n",
       "    }\n",
       "\n",
       "    .dataframe tbody tr th {\n",
       "        vertical-align: top;\n",
       "    }\n",
       "\n",
       "    .dataframe thead th {\n",
       "        text-align: right;\n",
       "    }\n",
       "</style>\n",
       "<table border=\"1\" class=\"dataframe\">\n",
       "  <thead>\n",
       "    <tr style=\"text-align: right;\">\n",
       "      <th></th>\n",
       "      <th>RABA_PID</th>\n",
       "      <th>RABA_ID</th>\n",
       "      <th>D_OD</th>\n",
       "      <th>geometry</th>\n",
       "    </tr>\n",
       "  </thead>\n",
       "  <tbody>\n",
       "    <tr>\n",
       "      <th>0</th>\n",
       "      <td>4770326.0</td>\n",
       "      <td>1410</td>\n",
       "      <td>2019-03-26</td>\n",
       "      <td>POLYGON ((453952.629 91124.177, 453952.696 911...</td>\n",
       "    </tr>\n",
       "    <tr>\n",
       "      <th>1</th>\n",
       "      <td>4770325.0</td>\n",
       "      <td>1300</td>\n",
       "      <td>2019-03-26</td>\n",
       "      <td>POLYGON ((453810.376 91150.199, 453812.552 911...</td>\n",
       "    </tr>\n",
       "    <tr>\n",
       "      <th>2</th>\n",
       "      <td>2305689.0</td>\n",
       "      <td>7000</td>\n",
       "      <td>2019-02-25</td>\n",
       "      <td>POLYGON ((456099.635 97696.070, 456112.810 976...</td>\n",
       "    </tr>\n",
       "    <tr>\n",
       "      <th>3</th>\n",
       "      <td>2305596.0</td>\n",
       "      <td>1100</td>\n",
       "      <td>2019-02-25</td>\n",
       "      <td>POLYGON ((455929.405 97963.785, 455933.284 979...</td>\n",
       "    </tr>\n",
       "    <tr>\n",
       "      <th>4</th>\n",
       "      <td>2310160.0</td>\n",
       "      <td>1100</td>\n",
       "      <td>2019-03-11</td>\n",
       "      <td>POLYGON ((461561.512 96119.256, 461632.114 960...</td>\n",
       "    </tr>\n",
       "    <tr>\n",
       "      <th>...</th>\n",
       "      <td>...</td>\n",
       "      <td>...</td>\n",
       "      <td>...</td>\n",
       "      <td>...</td>\n",
       "    </tr>\n",
       "    <tr>\n",
       "      <th>9822</th>\n",
       "      <td>6253989.0</td>\n",
       "      <td>1600</td>\n",
       "      <td>2019-03-08</td>\n",
       "      <td>POLYGON ((460637.334 96865.891, 460647.927 969...</td>\n",
       "    </tr>\n",
       "    <tr>\n",
       "      <th>9823</th>\n",
       "      <td>6252044.0</td>\n",
       "      <td>1600</td>\n",
       "      <td>2019-03-26</td>\n",
       "      <td>POLYGON ((459467.868 96839.686, 459467.770 968...</td>\n",
       "    </tr>\n",
       "    <tr>\n",
       "      <th>9824</th>\n",
       "      <td>6245985.0</td>\n",
       "      <td>2000</td>\n",
       "      <td>2019-04-08</td>\n",
       "      <td>POLYGON ((459488.998 94066.248, 459498.145 940...</td>\n",
       "    </tr>\n",
       "    <tr>\n",
       "      <th>9825</th>\n",
       "      <td>6245986.0</td>\n",
       "      <td>2000</td>\n",
       "      <td>2019-02-20</td>\n",
       "      <td>POLYGON ((459676.680 94000.000, 459672.469 939...</td>\n",
       "    </tr>\n",
       "    <tr>\n",
       "      <th>9826</th>\n",
       "      <td>6245987.0</td>\n",
       "      <td>2000</td>\n",
       "      <td>2019-03-11</td>\n",
       "      <td>POLYGON ((459690.580 94042.607, 459686.872 940...</td>\n",
       "    </tr>\n",
       "  </tbody>\n",
       "</table>\n",
       "<p>9827 rows × 4 columns</p>\n",
       "</div>"
      ],
      "text/plain": [
       "       RABA_PID  RABA_ID        D_OD  \\\n",
       "0     4770326.0     1410  2019-03-26   \n",
       "1     4770325.0     1300  2019-03-26   \n",
       "2     2305689.0     7000  2019-02-25   \n",
       "3     2305596.0     1100  2019-02-25   \n",
       "4     2310160.0     1100  2019-03-11   \n",
       "...         ...      ...         ...   \n",
       "9822  6253989.0     1600  2019-03-08   \n",
       "9823  6252044.0     1600  2019-03-26   \n",
       "9824  6245985.0     2000  2019-04-08   \n",
       "9825  6245986.0     2000  2019-02-20   \n",
       "9826  6245987.0     2000  2019-03-11   \n",
       "\n",
       "                                               geometry  \n",
       "0     POLYGON ((453952.629 91124.177, 453952.696 911...  \n",
       "1     POLYGON ((453810.376 91150.199, 453812.552 911...  \n",
       "2     POLYGON ((456099.635 97696.070, 456112.810 976...  \n",
       "3     POLYGON ((455929.405 97963.785, 455933.284 979...  \n",
       "4     POLYGON ((461561.512 96119.256, 461632.114 960...  \n",
       "...                                                 ...  \n",
       "9822  POLYGON ((460637.334 96865.891, 460647.927 969...  \n",
       "9823  POLYGON ((459467.868 96839.686, 459467.770 968...  \n",
       "9824  POLYGON ((459488.998 94066.248, 459498.145 940...  \n",
       "9825  POLYGON ((459676.680 94000.000, 459672.469 939...  \n",
       "9826  POLYGON ((459690.580 94042.607, 459686.872 940...  \n",
       "\n",
       "[9827 rows x 4 columns]"
      ]
     },
     "execution_count": 9,
     "metadata": {},
     "output_type": "execute_result"
    }
   ],
   "source": [
    "import geopandas\n",
    "import os\n",
    "gdf = geopandas.read_file(os.path.expanduser(\"~/.shared/notebooks/eurodatacube/notebooks/getting-started/data/sample/land_use.shp\"))\n",
    "gdf"
   ]
  },
  {
   "cell_type": "code",
   "execution_count": 10,
   "id": "582ac5f4",
   "metadata": {
    "execution": {
     "iopub.execute_input": "2021-10-04T15:42:10.240705Z",
     "iopub.status.busy": "2021-10-04T15:42:10.240128Z",
     "iopub.status.idle": "2021-10-04T15:42:20.881847Z",
     "shell.execute_reply": "2021-10-04T15:42:20.882199Z"
    },
    "papermill": {
     "duration": 10.660495,
     "end_time": "2021-10-04T15:42:20.882328",
     "exception": false,
     "start_time": "2021-10-04T15:42:10.221833",
     "status": "completed"
    },
    "tags": []
   },
   "outputs": [
    {
     "name": "stdout",
     "output_type": "stream",
     "text": [
      "Processing rows from 0 to 999\n"
     ]
    },
    {
     "name": "stdout",
     "output_type": "stream",
     "text": [
      "Processing rows from 1000 to 1999\n"
     ]
    },
    {
     "name": "stdout",
     "output_type": "stream",
     "text": [
      "Processing rows from 2000 to 2999\n"
     ]
    },
    {
     "name": "stdout",
     "output_type": "stream",
     "text": [
      "Processing rows from 3000 to 3999\n"
     ]
    },
    {
     "name": "stdout",
     "output_type": "stream",
     "text": [
      "Processing rows from 4000 to 4999\n"
     ]
    },
    {
     "name": "stdout",
     "output_type": "stream",
     "text": [
      "Processing rows from 5000 to 5999\n"
     ]
    },
    {
     "name": "stdout",
     "output_type": "stream",
     "text": [
      "Processing rows from 6000 to 6999\n"
     ]
    },
    {
     "name": "stdout",
     "output_type": "stream",
     "text": [
      "Processing rows from 7000 to 7999\n"
     ]
    },
    {
     "name": "stdout",
     "output_type": "stream",
     "text": [
      "Processing rows from 8000 to 8999\n"
     ]
    },
    {
     "name": "stdout",
     "output_type": "stream",
     "text": [
      "Processing rows from 9000 to 9827\n"
     ]
    },
    {
     "data": {
      "text/plain": [
       "9827 rows inserted into land_use"
      ]
     },
     "execution_count": 10,
     "metadata": {},
     "output_type": "execute_result"
    }
   ],
   "source": [
    "geodb.insert_into_collection('land_use', gdf)"
   ]
  },
  {
   "cell_type": "code",
   "execution_count": 11,
   "id": "20127563",
   "metadata": {
    "execution": {
     "iopub.execute_input": "2021-10-04T15:42:20.919795Z",
     "iopub.status.busy": "2021-10-04T15:42:20.919294Z",
     "iopub.status.idle": "2021-10-04T15:42:23.881632Z",
     "shell.execute_reply": "2021-10-04T15:42:23.881990Z"
    },
    "papermill": {
     "duration": 2.983108,
     "end_time": "2021-10-04T15:42:23.882124",
     "exception": false,
     "start_time": "2021-10-04T15:42:20.899016",
     "status": "completed"
    },
    "tags": []
   },
   "outputs": [
    {
     "data": {
      "text/html": [
       "<div>\n",
       "<style scoped>\n",
       "    .dataframe tbody tr th:only-of-type {\n",
       "        vertical-align: middle;\n",
       "    }\n",
       "\n",
       "    .dataframe tbody tr th {\n",
       "        vertical-align: top;\n",
       "    }\n",
       "\n",
       "    .dataframe thead th {\n",
       "        text-align: right;\n",
       "    }\n",
       "</style>\n",
       "<table border=\"1\" class=\"dataframe\">\n",
       "  <thead>\n",
       "    <tr style=\"text-align: right;\">\n",
       "      <th></th>\n",
       "      <th>id</th>\n",
       "      <th>created_at</th>\n",
       "      <th>modified_at</th>\n",
       "      <th>geometry</th>\n",
       "      <th>raba_pid</th>\n",
       "      <th>raba_id</th>\n",
       "      <th>d_od</th>\n",
       "    </tr>\n",
       "  </thead>\n",
       "  <tbody>\n",
       "    <tr>\n",
       "      <th>0</th>\n",
       "      <td>3</td>\n",
       "      <td>2021-10-04T15:42:13.022875+00:00</td>\n",
       "      <td>None</td>\n",
       "      <td>POLYGON ((456099.635 97696.070, 456112.810 976...</td>\n",
       "      <td>2305689</td>\n",
       "      <td>7000</td>\n",
       "      <td>2019-02-25</td>\n",
       "    </tr>\n",
       "    <tr>\n",
       "      <th>1</th>\n",
       "      <td>26</td>\n",
       "      <td>2021-10-04T15:42:13.022875+00:00</td>\n",
       "      <td>None</td>\n",
       "      <td>POLYGON ((459898.930 100306.841, 459906.288 10...</td>\n",
       "      <td>2301992</td>\n",
       "      <td>7000</td>\n",
       "      <td>2019-04-06</td>\n",
       "    </tr>\n",
       "    <tr>\n",
       "      <th>2</th>\n",
       "      <td>95</td>\n",
       "      <td>2021-10-04T15:42:13.022875+00:00</td>\n",
       "      <td>None</td>\n",
       "      <td>POLYGON ((459591.248 92619.056, 459592.745 926...</td>\n",
       "      <td>2333229</td>\n",
       "      <td>7000</td>\n",
       "      <td>2019-02-20</td>\n",
       "    </tr>\n",
       "    <tr>\n",
       "      <th>3</th>\n",
       "      <td>115</td>\n",
       "      <td>2021-10-04T15:42:13.022875+00:00</td>\n",
       "      <td>None</td>\n",
       "      <td>POLYGON ((459013.303 100354.458, 459022.756 10...</td>\n",
       "      <td>2336738</td>\n",
       "      <td>7000</td>\n",
       "      <td>2019-03-15</td>\n",
       "    </tr>\n",
       "    <tr>\n",
       "      <th>4</th>\n",
       "      <td>129</td>\n",
       "      <td>2021-10-04T15:42:13.022875+00:00</td>\n",
       "      <td>None</td>\n",
       "      <td>POLYGON ((460851.200 93442.039, 460846.405 934...</td>\n",
       "      <td>6292562</td>\n",
       "      <td>7000</td>\n",
       "      <td>2019-02-21</td>\n",
       "    </tr>\n",
       "    <tr>\n",
       "      <th>...</th>\n",
       "      <td>...</td>\n",
       "      <td>...</td>\n",
       "      <td>...</td>\n",
       "      <td>...</td>\n",
       "      <td>...</td>\n",
       "      <td>...</td>\n",
       "      <td>...</td>\n",
       "    </tr>\n",
       "    <tr>\n",
       "      <th>379</th>\n",
       "      <td>9419</td>\n",
       "      <td>2021-10-04T15:42:20.636567+00:00</td>\n",
       "      <td>None</td>\n",
       "      <td>POLYGON ((456523.670 94000.000, 456550.368 939...</td>\n",
       "      <td>6187993</td>\n",
       "      <td>7000</td>\n",
       "      <td>2019-03-13</td>\n",
       "    </tr>\n",
       "    <tr>\n",
       "      <th>380</th>\n",
       "      <td>9546</td>\n",
       "      <td>2021-10-04T15:42:20.636567+00:00</td>\n",
       "      <td>None</td>\n",
       "      <td>POLYGON ((460793.279 94000.000, 460797.466 939...</td>\n",
       "      <td>6219403</td>\n",
       "      <td>7000</td>\n",
       "      <td>2019-02-21</td>\n",
       "    </tr>\n",
       "    <tr>\n",
       "      <th>381</th>\n",
       "      <td>9560</td>\n",
       "      <td>2021-10-04T15:42:20.636567+00:00</td>\n",
       "      <td>None</td>\n",
       "      <td>POLYGON ((461750.000 98434.292, 461750.000 984...</td>\n",
       "      <td>6219602</td>\n",
       "      <td>7000</td>\n",
       "      <td>2019-03-20</td>\n",
       "    </tr>\n",
       "    <tr>\n",
       "      <th>382</th>\n",
       "      <td>9624</td>\n",
       "      <td>2021-10-04T15:42:20.636567+00:00</td>\n",
       "      <td>None</td>\n",
       "      <td>POLYGON ((463628.912 97501.218, 463636.859 975...</td>\n",
       "      <td>6215237</td>\n",
       "      <td>7000</td>\n",
       "      <td>2019-03-20</td>\n",
       "    </tr>\n",
       "    <tr>\n",
       "      <th>383</th>\n",
       "      <td>9644</td>\n",
       "      <td>2021-10-04T15:42:20.636567+00:00</td>\n",
       "      <td>None</td>\n",
       "      <td>POLYGON ((462450.205 94000.000, 462457.333 940...</td>\n",
       "      <td>6213419</td>\n",
       "      <td>7000</td>\n",
       "      <td>2019-03-21</td>\n",
       "    </tr>\n",
       "  </tbody>\n",
       "</table>\n",
       "<p>384 rows × 7 columns</p>\n",
       "</div>"
      ],
      "text/plain": [
       "       id                        created_at modified_at  \\\n",
       "0       3  2021-10-04T15:42:13.022875+00:00        None   \n",
       "1      26  2021-10-04T15:42:13.022875+00:00        None   \n",
       "2      95  2021-10-04T15:42:13.022875+00:00        None   \n",
       "3     115  2021-10-04T15:42:13.022875+00:00        None   \n",
       "4     129  2021-10-04T15:42:13.022875+00:00        None   \n",
       "..    ...                               ...         ...   \n",
       "379  9419  2021-10-04T15:42:20.636567+00:00        None   \n",
       "380  9546  2021-10-04T15:42:20.636567+00:00        None   \n",
       "381  9560  2021-10-04T15:42:20.636567+00:00        None   \n",
       "382  9624  2021-10-04T15:42:20.636567+00:00        None   \n",
       "383  9644  2021-10-04T15:42:20.636567+00:00        None   \n",
       "\n",
       "                                              geometry  raba_pid  raba_id  \\\n",
       "0    POLYGON ((456099.635 97696.070, 456112.810 976...   2305689     7000   \n",
       "1    POLYGON ((459898.930 100306.841, 459906.288 10...   2301992     7000   \n",
       "2    POLYGON ((459591.248 92619.056, 459592.745 926...   2333229     7000   \n",
       "3    POLYGON ((459013.303 100354.458, 459022.756 10...   2336738     7000   \n",
       "4    POLYGON ((460851.200 93442.039, 460846.405 934...   6292562     7000   \n",
       "..                                                 ...       ...      ...   \n",
       "379  POLYGON ((456523.670 94000.000, 456550.368 939...   6187993     7000   \n",
       "380  POLYGON ((460793.279 94000.000, 460797.466 939...   6219403     7000   \n",
       "381  POLYGON ((461750.000 98434.292, 461750.000 984...   6219602     7000   \n",
       "382  POLYGON ((463628.912 97501.218, 463636.859 975...   6215237     7000   \n",
       "383  POLYGON ((462450.205 94000.000, 462457.333 940...   6213419     7000   \n",
       "\n",
       "           d_od  \n",
       "0    2019-02-25  \n",
       "1    2019-04-06  \n",
       "2    2019-02-20  \n",
       "3    2019-03-15  \n",
       "4    2019-02-21  \n",
       "..          ...  \n",
       "379  2019-03-13  \n",
       "380  2019-02-21  \n",
       "381  2019-03-20  \n",
       "382  2019-03-20  \n",
       "383  2019-03-21  \n",
       "\n",
       "[384 rows x 7 columns]"
      ]
     },
     "execution_count": 11,
     "metadata": {},
     "output_type": "execute_result"
    }
   ],
   "source": [
    "geodb.get_collection('land_use', query=\"raba_id=eq.7000\")"
   ]
  },
  {
   "cell_type": "markdown",
   "id": "1ae225fe",
   "metadata": {
    "papermill": {
     "duration": 0.017202,
     "end_time": "2021-10-04T15:42:23.916583",
     "exception": false,
     "start_time": "2021-10-04T15:42:23.899381",
     "status": "completed"
    },
    "tags": []
   },
   "source": [
    "### Delete from a Collection"
   ]
  },
  {
   "cell_type": "code",
   "execution_count": 12,
   "id": "ba7e7a44",
   "metadata": {
    "execution": {
     "iopub.execute_input": "2021-10-04T15:42:23.957235Z",
     "iopub.status.busy": "2021-10-04T15:42:23.956695Z",
     "iopub.status.idle": "2021-10-04T15:42:25.386821Z",
     "shell.execute_reply": "2021-10-04T15:42:25.386364Z"
    },
    "papermill": {
     "duration": 1.451462,
     "end_time": "2021-10-04T15:42:25.386930",
     "exception": false,
     "start_time": "2021-10-04T15:42:23.935468",
     "status": "completed"
    },
    "tags": []
   },
   "outputs": [
    {
     "data": {
      "text/plain": [
       "Data from land_use deleted"
      ]
     },
     "execution_count": 12,
     "metadata": {},
     "output_type": "execute_result"
    }
   ],
   "source": [
    "geodb.delete_from_collection('land_use', query=\"raba_id=eq.7000\")"
   ]
  },
  {
   "cell_type": "code",
   "execution_count": 13,
   "id": "b99b8942",
   "metadata": {
    "execution": {
     "iopub.execute_input": "2021-10-04T15:42:25.426155Z",
     "iopub.status.busy": "2021-10-04T15:42:25.425639Z",
     "iopub.status.idle": "2021-10-04T15:42:28.108919Z",
     "shell.execute_reply": "2021-10-04T15:42:28.108409Z"
    },
    "papermill": {
     "duration": 2.704627,
     "end_time": "2021-10-04T15:42:28.109041",
     "exception": false,
     "start_time": "2021-10-04T15:42:25.404414",
     "status": "completed"
    },
    "tags": []
   },
   "outputs": [
    {
     "data": {
      "text/html": [
       "<div>\n",
       "<style scoped>\n",
       "    .dataframe tbody tr th:only-of-type {\n",
       "        vertical-align: middle;\n",
       "    }\n",
       "\n",
       "    .dataframe tbody tr th {\n",
       "        vertical-align: top;\n",
       "    }\n",
       "\n",
       "    .dataframe thead th {\n",
       "        text-align: right;\n",
       "    }\n",
       "</style>\n",
       "<table border=\"1\" class=\"dataframe\">\n",
       "  <thead>\n",
       "    <tr style=\"text-align: right;\">\n",
       "      <th></th>\n",
       "      <th>Empty Result</th>\n",
       "    </tr>\n",
       "  </thead>\n",
       "  <tbody>\n",
       "  </tbody>\n",
       "</table>\n",
       "</div>"
      ],
      "text/plain": [
       "Empty DataFrame\n",
       "Columns: [Empty Result]\n",
       "Index: []"
      ]
     },
     "execution_count": 13,
     "metadata": {},
     "output_type": "execute_result"
    }
   ],
   "source": [
    "geodb.get_collection('land_use', query=\"raba_id=eq.7000\")"
   ]
  },
  {
   "cell_type": "markdown",
   "id": "1545a8f9",
   "metadata": {
    "papermill": {
     "duration": 0.017358,
     "end_time": "2021-10-04T15:42:28.143880",
     "exception": false,
     "start_time": "2021-10-04T15:42:28.126522",
     "status": "completed"
    },
    "tags": []
   },
   "source": [
    "### Updating a Collection"
   ]
  },
  {
   "cell_type": "code",
   "execution_count": 14,
   "id": "292b9530",
   "metadata": {
    "execution": {
     "iopub.execute_input": "2021-10-04T15:42:28.184653Z",
     "iopub.status.busy": "2021-10-04T15:42:28.184093Z",
     "iopub.status.idle": "2021-10-04T15:42:30.952929Z",
     "shell.execute_reply": "2021-10-04T15:42:30.952369Z"
    },
    "papermill": {
     "duration": 2.79035,
     "end_time": "2021-10-04T15:42:30.953039",
     "exception": false,
     "start_time": "2021-10-04T15:42:28.162689",
     "status": "completed"
    },
    "tags": []
   },
   "outputs": [
    {
     "data": {
      "text/html": [
       "<div>\n",
       "<style scoped>\n",
       "    .dataframe tbody tr th:only-of-type {\n",
       "        vertical-align: middle;\n",
       "    }\n",
       "\n",
       "    .dataframe tbody tr th {\n",
       "        vertical-align: top;\n",
       "    }\n",
       "\n",
       "    .dataframe thead th {\n",
       "        text-align: right;\n",
       "    }\n",
       "</style>\n",
       "<table border=\"1\" class=\"dataframe\">\n",
       "  <thead>\n",
       "    <tr style=\"text-align: right;\">\n",
       "      <th></th>\n",
       "      <th>id</th>\n",
       "      <th>created_at</th>\n",
       "      <th>modified_at</th>\n",
       "      <th>geometry</th>\n",
       "      <th>raba_pid</th>\n",
       "      <th>raba_id</th>\n",
       "      <th>d_od</th>\n",
       "    </tr>\n",
       "  </thead>\n",
       "  <tbody>\n",
       "    <tr>\n",
       "      <th>0</th>\n",
       "      <td>2</td>\n",
       "      <td>2021-10-04T15:42:13.022875+00:00</td>\n",
       "      <td>None</td>\n",
       "      <td>POLYGON ((453810.376 91150.199, 453812.552 911...</td>\n",
       "      <td>4770325</td>\n",
       "      <td>1300</td>\n",
       "      <td>2019-03-26</td>\n",
       "    </tr>\n",
       "    <tr>\n",
       "      <th>1</th>\n",
       "      <td>10</td>\n",
       "      <td>2021-10-04T15:42:13.022875+00:00</td>\n",
       "      <td>None</td>\n",
       "      <td>POLYGON ((456547.427 91543.640, 456544.255 915...</td>\n",
       "      <td>2318555</td>\n",
       "      <td>1300</td>\n",
       "      <td>2019-03-14</td>\n",
       "    </tr>\n",
       "    <tr>\n",
       "      <th>2</th>\n",
       "      <td>63</td>\n",
       "      <td>2021-10-04T15:42:13.022875+00:00</td>\n",
       "      <td>None</td>\n",
       "      <td>POLYGON ((456201.531 98685.274, 456199.109 986...</td>\n",
       "      <td>2304287</td>\n",
       "      <td>1300</td>\n",
       "      <td>2019-02-25</td>\n",
       "    </tr>\n",
       "    <tr>\n",
       "      <th>3</th>\n",
       "      <td>86</td>\n",
       "      <td>2021-10-04T15:42:13.022875+00:00</td>\n",
       "      <td>None</td>\n",
       "      <td>POLYGON ((454709.766 97354.278, 454704.878 973...</td>\n",
       "      <td>2331038</td>\n",
       "      <td>1300</td>\n",
       "      <td>2019-01-05</td>\n",
       "    </tr>\n",
       "    <tr>\n",
       "      <th>4</th>\n",
       "      <td>87</td>\n",
       "      <td>2021-10-04T15:42:13.022875+00:00</td>\n",
       "      <td>None</td>\n",
       "      <td>POLYGON ((453820.737 98574.017, 453816.740 985...</td>\n",
       "      <td>2357574</td>\n",
       "      <td>1300</td>\n",
       "      <td>2019-01-16</td>\n",
       "    </tr>\n",
       "    <tr>\n",
       "      <th>...</th>\n",
       "      <td>...</td>\n",
       "      <td>...</td>\n",
       "      <td>...</td>\n",
       "      <td>...</td>\n",
       "      <td>...</td>\n",
       "      <td>...</td>\n",
       "      <td>...</td>\n",
       "    </tr>\n",
       "    <tr>\n",
       "      <th>890</th>\n",
       "      <td>9766</td>\n",
       "      <td>2021-10-04T15:42:20.636567+00:00</td>\n",
       "      <td>None</td>\n",
       "      <td>POLYGON ((458247.583 99746.065, 458245.202 997...</td>\n",
       "      <td>6268059</td>\n",
       "      <td>1300</td>\n",
       "      <td>2019-03-04</td>\n",
       "    </tr>\n",
       "    <tr>\n",
       "      <th>891</th>\n",
       "      <td>9767</td>\n",
       "      <td>2021-10-04T15:42:20.636567+00:00</td>\n",
       "      <td>None</td>\n",
       "      <td>POLYGON ((461932.283 90520.703, 461931.619 905...</td>\n",
       "      <td>6263561</td>\n",
       "      <td>1300</td>\n",
       "      <td>2019-04-01</td>\n",
       "    </tr>\n",
       "    <tr>\n",
       "      <th>892</th>\n",
       "      <td>9798</td>\n",
       "      <td>2021-10-04T15:42:20.636567+00:00</td>\n",
       "      <td>None</td>\n",
       "      <td>POLYGON ((457231.170 90902.256, 457234.861 909...</td>\n",
       "      <td>6264862</td>\n",
       "      <td>1300</td>\n",
       "      <td>2019-01-05</td>\n",
       "    </tr>\n",
       "    <tr>\n",
       "      <th>893</th>\n",
       "      <td>9799</td>\n",
       "      <td>2021-10-04T15:42:20.636567+00:00</td>\n",
       "      <td>None</td>\n",
       "      <td>POLYGON ((461378.845 91124.318, 461490.224 911...</td>\n",
       "      <td>6264865</td>\n",
       "      <td>1300</td>\n",
       "      <td>2019-02-21</td>\n",
       "    </tr>\n",
       "    <tr>\n",
       "      <th>894</th>\n",
       "      <td>9821</td>\n",
       "      <td>2021-10-04T15:42:20.636567+00:00</td>\n",
       "      <td>None</td>\n",
       "      <td>POLYGON ((457450.306 97213.244, 457490.521 972...</td>\n",
       "      <td>6263915</td>\n",
       "      <td>1300</td>\n",
       "      <td>2019-01-05</td>\n",
       "    </tr>\n",
       "  </tbody>\n",
       "</table>\n",
       "<p>895 rows × 7 columns</p>\n",
       "</div>"
      ],
      "text/plain": [
       "       id                        created_at modified_at  \\\n",
       "0       2  2021-10-04T15:42:13.022875+00:00        None   \n",
       "1      10  2021-10-04T15:42:13.022875+00:00        None   \n",
       "2      63  2021-10-04T15:42:13.022875+00:00        None   \n",
       "3      86  2021-10-04T15:42:13.022875+00:00        None   \n",
       "4      87  2021-10-04T15:42:13.022875+00:00        None   \n",
       "..    ...                               ...         ...   \n",
       "890  9766  2021-10-04T15:42:20.636567+00:00        None   \n",
       "891  9767  2021-10-04T15:42:20.636567+00:00        None   \n",
       "892  9798  2021-10-04T15:42:20.636567+00:00        None   \n",
       "893  9799  2021-10-04T15:42:20.636567+00:00        None   \n",
       "894  9821  2021-10-04T15:42:20.636567+00:00        None   \n",
       "\n",
       "                                              geometry  raba_pid  raba_id  \\\n",
       "0    POLYGON ((453810.376 91150.199, 453812.552 911...   4770325     1300   \n",
       "1    POLYGON ((456547.427 91543.640, 456544.255 915...   2318555     1300   \n",
       "2    POLYGON ((456201.531 98685.274, 456199.109 986...   2304287     1300   \n",
       "3    POLYGON ((454709.766 97354.278, 454704.878 973...   2331038     1300   \n",
       "4    POLYGON ((453820.737 98574.017, 453816.740 985...   2357574     1300   \n",
       "..                                                 ...       ...      ...   \n",
       "890  POLYGON ((458247.583 99746.065, 458245.202 997...   6268059     1300   \n",
       "891  POLYGON ((461932.283 90520.703, 461931.619 905...   6263561     1300   \n",
       "892  POLYGON ((457231.170 90902.256, 457234.861 909...   6264862     1300   \n",
       "893  POLYGON ((461378.845 91124.318, 461490.224 911...   6264865     1300   \n",
       "894  POLYGON ((457450.306 97213.244, 457490.521 972...   6263915     1300   \n",
       "\n",
       "           d_od  \n",
       "0    2019-03-26  \n",
       "1    2019-03-14  \n",
       "2    2019-02-25  \n",
       "3    2019-01-05  \n",
       "4    2019-01-16  \n",
       "..          ...  \n",
       "890  2019-03-04  \n",
       "891  2019-04-01  \n",
       "892  2019-01-05  \n",
       "893  2019-02-21  \n",
       "894  2019-01-05  \n",
       "\n",
       "[895 rows x 7 columns]"
      ]
     },
     "execution_count": 14,
     "metadata": {},
     "output_type": "execute_result"
    }
   ],
   "source": [
    "geodb.get_collection('land_use', query=\"raba_id=eq.1300\")"
   ]
  },
  {
   "cell_type": "code",
   "execution_count": 15,
   "id": "8cfc5ba7",
   "metadata": {
    "execution": {
     "iopub.execute_input": "2021-10-04T15:42:30.993982Z",
     "iopub.status.busy": "2021-10-04T15:42:30.993469Z",
     "iopub.status.idle": "2021-10-04T15:42:33.781348Z",
     "shell.execute_reply": "2021-10-04T15:42:33.780822Z"
    },
    "papermill": {
     "duration": 2.81022,
     "end_time": "2021-10-04T15:42:33.781467",
     "exception": false,
     "start_time": "2021-10-04T15:42:30.971247",
     "status": "completed"
    },
    "tags": []
   },
   "outputs": [
    {
     "data": {
      "text/plain": [
       "land_use updated"
      ]
     },
     "execution_count": 15,
     "metadata": {},
     "output_type": "execute_result"
    }
   ],
   "source": [
    "geodb.update_collection('land_use', query=\"raba_id=eq.1300\", values={'d_od': '2000-01-01'})"
   ]
  },
  {
   "cell_type": "code",
   "execution_count": 16,
   "id": "b32cc2e6",
   "metadata": {
    "execution": {
     "iopub.execute_input": "2021-10-04T15:42:33.822421Z",
     "iopub.status.busy": "2021-10-04T15:42:33.820977Z",
     "iopub.status.idle": "2021-10-04T15:42:36.534257Z",
     "shell.execute_reply": "2021-10-04T15:42:36.533589Z"
    },
    "papermill": {
     "duration": 2.734539,
     "end_time": "2021-10-04T15:42:36.534379",
     "exception": false,
     "start_time": "2021-10-04T15:42:33.799840",
     "status": "completed"
    },
    "tags": []
   },
   "outputs": [
    {
     "data": {
      "text/html": [
       "<div>\n",
       "<style scoped>\n",
       "    .dataframe tbody tr th:only-of-type {\n",
       "        vertical-align: middle;\n",
       "    }\n",
       "\n",
       "    .dataframe tbody tr th {\n",
       "        vertical-align: top;\n",
       "    }\n",
       "\n",
       "    .dataframe thead th {\n",
       "        text-align: right;\n",
       "    }\n",
       "</style>\n",
       "<table border=\"1\" class=\"dataframe\">\n",
       "  <thead>\n",
       "    <tr style=\"text-align: right;\">\n",
       "      <th></th>\n",
       "      <th>id</th>\n",
       "      <th>created_at</th>\n",
       "      <th>modified_at</th>\n",
       "      <th>geometry</th>\n",
       "      <th>raba_pid</th>\n",
       "      <th>raba_id</th>\n",
       "      <th>d_od</th>\n",
       "    </tr>\n",
       "  </thead>\n",
       "  <tbody>\n",
       "    <tr>\n",
       "      <th>0</th>\n",
       "      <td>10</td>\n",
       "      <td>2021-10-04T15:42:13.022875+00:00</td>\n",
       "      <td>2021-10-04T15:42:33.656162+00:00</td>\n",
       "      <td>POLYGON ((456547.427 91543.640, 456544.255 915...</td>\n",
       "      <td>2318555</td>\n",
       "      <td>1300</td>\n",
       "      <td>2000-01-01</td>\n",
       "    </tr>\n",
       "    <tr>\n",
       "      <th>1</th>\n",
       "      <td>103</td>\n",
       "      <td>2021-10-04T15:42:13.022875+00:00</td>\n",
       "      <td>2021-10-04T15:42:33.656162+00:00</td>\n",
       "      <td>POLYGON ((456100.880 96973.323, 456111.084 969...</td>\n",
       "      <td>2332420</td>\n",
       "      <td>1300</td>\n",
       "      <td>2000-01-01</td>\n",
       "    </tr>\n",
       "    <tr>\n",
       "      <th>2</th>\n",
       "      <td>108</td>\n",
       "      <td>2021-10-04T15:42:13.022875+00:00</td>\n",
       "      <td>2021-10-04T15:42:33.656162+00:00</td>\n",
       "      <td>POLYGON ((454070.991 90528.946, 454064.259 905...</td>\n",
       "      <td>4674624</td>\n",
       "      <td>1300</td>\n",
       "      <td>2000-01-01</td>\n",
       "    </tr>\n",
       "    <tr>\n",
       "      <th>3</th>\n",
       "      <td>117</td>\n",
       "      <td>2021-10-04T15:42:13.022875+00:00</td>\n",
       "      <td>2021-10-04T15:42:33.656162+00:00</td>\n",
       "      <td>POLYGON ((454637.692 96679.827, 454630.584 966...</td>\n",
       "      <td>2336101</td>\n",
       "      <td>1300</td>\n",
       "      <td>2000-01-01</td>\n",
       "    </tr>\n",
       "    <tr>\n",
       "      <th>4</th>\n",
       "      <td>136</td>\n",
       "      <td>2021-10-04T15:42:13.022875+00:00</td>\n",
       "      <td>2021-10-04T15:42:33.656162+00:00</td>\n",
       "      <td>POLYGON ((462781.112 100486.430, 462803.178 10...</td>\n",
       "      <td>2334416</td>\n",
       "      <td>1300</td>\n",
       "      <td>2000-01-01</td>\n",
       "    </tr>\n",
       "    <tr>\n",
       "      <th>...</th>\n",
       "      <td>...</td>\n",
       "      <td>...</td>\n",
       "      <td>...</td>\n",
       "      <td>...</td>\n",
       "      <td>...</td>\n",
       "      <td>...</td>\n",
       "      <td>...</td>\n",
       "    </tr>\n",
       "    <tr>\n",
       "      <th>890</th>\n",
       "      <td>9765</td>\n",
       "      <td>2021-10-04T15:42:20.636567+00:00</td>\n",
       "      <td>2021-10-04T15:42:33.656162+00:00</td>\n",
       "      <td>POLYGON ((458304.555 100146.103, 458306.726 10...</td>\n",
       "      <td>6268058</td>\n",
       "      <td>1300</td>\n",
       "      <td>2000-01-01</td>\n",
       "    </tr>\n",
       "    <tr>\n",
       "      <th>891</th>\n",
       "      <td>9766</td>\n",
       "      <td>2021-10-04T15:42:20.636567+00:00</td>\n",
       "      <td>2021-10-04T15:42:33.656162+00:00</td>\n",
       "      <td>POLYGON ((458247.583 99746.065, 458245.202 997...</td>\n",
       "      <td>6268059</td>\n",
       "      <td>1300</td>\n",
       "      <td>2000-01-01</td>\n",
       "    </tr>\n",
       "    <tr>\n",
       "      <th>892</th>\n",
       "      <td>9767</td>\n",
       "      <td>2021-10-04T15:42:20.636567+00:00</td>\n",
       "      <td>2021-10-04T15:42:33.656162+00:00</td>\n",
       "      <td>POLYGON ((461932.283 90520.703, 461931.619 905...</td>\n",
       "      <td>6263561</td>\n",
       "      <td>1300</td>\n",
       "      <td>2000-01-01</td>\n",
       "    </tr>\n",
       "    <tr>\n",
       "      <th>893</th>\n",
       "      <td>9798</td>\n",
       "      <td>2021-10-04T15:42:20.636567+00:00</td>\n",
       "      <td>2021-10-04T15:42:33.656162+00:00</td>\n",
       "      <td>POLYGON ((457231.170 90902.256, 457234.861 909...</td>\n",
       "      <td>6264862</td>\n",
       "      <td>1300</td>\n",
       "      <td>2000-01-01</td>\n",
       "    </tr>\n",
       "    <tr>\n",
       "      <th>894</th>\n",
       "      <td>9799</td>\n",
       "      <td>2021-10-04T15:42:20.636567+00:00</td>\n",
       "      <td>2021-10-04T15:42:33.656162+00:00</td>\n",
       "      <td>POLYGON ((461378.845 91124.318, 461490.224 911...</td>\n",
       "      <td>6264865</td>\n",
       "      <td>1300</td>\n",
       "      <td>2000-01-01</td>\n",
       "    </tr>\n",
       "  </tbody>\n",
       "</table>\n",
       "<p>895 rows × 7 columns</p>\n",
       "</div>"
      ],
      "text/plain": [
       "       id                        created_at                       modified_at  \\\n",
       "0      10  2021-10-04T15:42:13.022875+00:00  2021-10-04T15:42:33.656162+00:00   \n",
       "1     103  2021-10-04T15:42:13.022875+00:00  2021-10-04T15:42:33.656162+00:00   \n",
       "2     108  2021-10-04T15:42:13.022875+00:00  2021-10-04T15:42:33.656162+00:00   \n",
       "3     117  2021-10-04T15:42:13.022875+00:00  2021-10-04T15:42:33.656162+00:00   \n",
       "4     136  2021-10-04T15:42:13.022875+00:00  2021-10-04T15:42:33.656162+00:00   \n",
       "..    ...                               ...                               ...   \n",
       "890  9765  2021-10-04T15:42:20.636567+00:00  2021-10-04T15:42:33.656162+00:00   \n",
       "891  9766  2021-10-04T15:42:20.636567+00:00  2021-10-04T15:42:33.656162+00:00   \n",
       "892  9767  2021-10-04T15:42:20.636567+00:00  2021-10-04T15:42:33.656162+00:00   \n",
       "893  9798  2021-10-04T15:42:20.636567+00:00  2021-10-04T15:42:33.656162+00:00   \n",
       "894  9799  2021-10-04T15:42:20.636567+00:00  2021-10-04T15:42:33.656162+00:00   \n",
       "\n",
       "                                              geometry  raba_pid  raba_id  \\\n",
       "0    POLYGON ((456547.427 91543.640, 456544.255 915...   2318555     1300   \n",
       "1    POLYGON ((456100.880 96973.323, 456111.084 969...   2332420     1300   \n",
       "2    POLYGON ((454070.991 90528.946, 454064.259 905...   4674624     1300   \n",
       "3    POLYGON ((454637.692 96679.827, 454630.584 966...   2336101     1300   \n",
       "4    POLYGON ((462781.112 100486.430, 462803.178 10...   2334416     1300   \n",
       "..                                                 ...       ...      ...   \n",
       "890  POLYGON ((458304.555 100146.103, 458306.726 10...   6268058     1300   \n",
       "891  POLYGON ((458247.583 99746.065, 458245.202 997...   6268059     1300   \n",
       "892  POLYGON ((461932.283 90520.703, 461931.619 905...   6263561     1300   \n",
       "893  POLYGON ((457231.170 90902.256, 457234.861 909...   6264862     1300   \n",
       "894  POLYGON ((461378.845 91124.318, 461490.224 911...   6264865     1300   \n",
       "\n",
       "           d_od  \n",
       "0    2000-01-01  \n",
       "1    2000-01-01  \n",
       "2    2000-01-01  \n",
       "3    2000-01-01  \n",
       "4    2000-01-01  \n",
       "..          ...  \n",
       "890  2000-01-01  \n",
       "891  2000-01-01  \n",
       "892  2000-01-01  \n",
       "893  2000-01-01  \n",
       "894  2000-01-01  \n",
       "\n",
       "[895 rows x 7 columns]"
      ]
     },
     "execution_count": 16,
     "metadata": {},
     "output_type": "execute_result"
    }
   ],
   "source": [
    "geodb.get_collection('land_use', query=\"raba_id=eq.1300\")"
   ]
  },
  {
   "cell_type": "markdown",
   "id": "3a0f67d3",
   "metadata": {
    "papermill": {
     "duration": 0.021347,
     "end_time": "2021-10-04T15:42:36.577974",
     "exception": false,
     "start_time": "2021-10-04T15:42:36.556627",
     "status": "completed"
    },
    "tags": []
   },
   "source": [
    "### Managing Properties of a Collection"
   ]
  },
  {
   "cell_type": "code",
   "execution_count": 17,
   "id": "c864fbd2",
   "metadata": {
    "execution": {
     "iopub.execute_input": "2021-10-04T15:42:36.619966Z",
     "iopub.status.busy": "2021-10-04T15:42:36.619437Z",
     "iopub.status.idle": "2021-10-04T15:42:37.162318Z",
     "shell.execute_reply": "2021-10-04T15:42:37.162660Z"
    },
    "papermill": {
     "duration": 0.566066,
     "end_time": "2021-10-04T15:42:37.162792",
     "exception": false,
     "start_time": "2021-10-04T15:42:36.596726",
     "status": "completed"
    },
    "tags": []
   },
   "outputs": [
    {
     "data": {
      "text/html": [
       "<div>\n",
       "<style scoped>\n",
       "    .dataframe tbody tr th:only-of-type {\n",
       "        vertical-align: middle;\n",
       "    }\n",
       "\n",
       "    .dataframe tbody tr th {\n",
       "        vertical-align: top;\n",
       "    }\n",
       "\n",
       "    .dataframe thead th {\n",
       "        text-align: right;\n",
       "    }\n",
       "</style>\n",
       "<table border=\"1\" class=\"dataframe\">\n",
       "  <thead>\n",
       "    <tr style=\"text-align: right;\">\n",
       "      <th></th>\n",
       "      <th>owner</th>\n",
       "      <th>database</th>\n",
       "      <th>collection</th>\n",
       "      <th>table_name</th>\n",
       "    </tr>\n",
       "  </thead>\n",
       "  <tbody>\n",
       "    <tr>\n",
       "      <th>0</th>\n",
       "      <td>geodb_0b01bfcd-2d09-46f8-84e8-cb5720fba14c</td>\n",
       "      <td>geodb_0b01bfcd-2d09-46f8-84e8-cb5720fba14c</td>\n",
       "      <td>delineated_parcels_s</td>\n",
       "      <td>delineated_parcels_s</td>\n",
       "    </tr>\n",
       "    <tr>\n",
       "      <th>1</th>\n",
       "      <td>geodb_0b01bfcd-2d09-46f8-84e8-cb5720fba14c</td>\n",
       "      <td>geodb_0b01bfcd-2d09-46f8-84e8-cb5720fba14c</td>\n",
       "      <td>test_batic</td>\n",
       "      <td>test_batic</td>\n",
       "    </tr>\n",
       "    <tr>\n",
       "      <th>2</th>\n",
       "      <td>geodb_0d6df427-8c09-41b9-abc9-64ce13a68125</td>\n",
       "      <td>geodb_0d6df427-8c09-41b9-abc9-64ce13a68125</td>\n",
       "      <td>land_use</td>\n",
       "      <td>land_use</td>\n",
       "    </tr>\n",
       "    <tr>\n",
       "      <th>3</th>\n",
       "      <td>geodb_0d6df427-8c09-41b9-abc9-64ce13a68125</td>\n",
       "      <td>geodb_0d6df427-8c09-41b9-abc9-64ce13a68125</td>\n",
       "      <td>lpis_aut</td>\n",
       "      <td>lpis_aut</td>\n",
       "    </tr>\n",
       "    <tr>\n",
       "      <th>4</th>\n",
       "      <td>geodb_0e5d743f-2134-4561-8946-a073b039176f</td>\n",
       "      <td>geodb_0e5d743f-2134-4561-8946-a073b039176f</td>\n",
       "      <td>ai4eo_bboxes</td>\n",
       "      <td>ai4eo_bboxes</td>\n",
       "    </tr>\n",
       "    <tr>\n",
       "      <th>...</th>\n",
       "      <td>...</td>\n",
       "      <td>...</td>\n",
       "      <td>...</td>\n",
       "      <td>...</td>\n",
       "    </tr>\n",
       "    <tr>\n",
       "      <th>878</th>\n",
       "      <td>geodb_geodb_ci</td>\n",
       "      <td>geodb_geodb_ci</td>\n",
       "      <td>land_use</td>\n",
       "      <td>land_use</td>\n",
       "    </tr>\n",
       "    <tr>\n",
       "      <th>879</th>\n",
       "      <td>geodb_lpis_iacs_admin</td>\n",
       "      <td>lpis_iacs</td>\n",
       "      <td>land_use_slo</td>\n",
       "      <td>land_use_slo</td>\n",
       "    </tr>\n",
       "    <tr>\n",
       "      <th>880</th>\n",
       "      <td>geodb_lpis_iacs_admin</td>\n",
       "      <td>lpis_iacs</td>\n",
       "      <td>lpis_aut</td>\n",
       "      <td>lpis_aut</td>\n",
       "    </tr>\n",
       "    <tr>\n",
       "      <th>881</th>\n",
       "      <td>geodb_lpis_iacs_admin</td>\n",
       "      <td>lpis_iacs</td>\n",
       "      <td>lpis_slo</td>\n",
       "      <td>lpis_slo</td>\n",
       "    </tr>\n",
       "    <tr>\n",
       "      <th>882</th>\n",
       "      <td>geodb_lpis_iacs_admin</td>\n",
       "      <td>lpis_iacs</td>\n",
       "      <td>metadata</td>\n",
       "      <td>metadata</td>\n",
       "    </tr>\n",
       "  </tbody>\n",
       "</table>\n",
       "<p>883 rows × 4 columns</p>\n",
       "</div>"
      ],
      "text/plain": [
       "                                          owner  \\\n",
       "0    geodb_0b01bfcd-2d09-46f8-84e8-cb5720fba14c   \n",
       "1    geodb_0b01bfcd-2d09-46f8-84e8-cb5720fba14c   \n",
       "2    geodb_0d6df427-8c09-41b9-abc9-64ce13a68125   \n",
       "3    geodb_0d6df427-8c09-41b9-abc9-64ce13a68125   \n",
       "4    geodb_0e5d743f-2134-4561-8946-a073b039176f   \n",
       "..                                          ...   \n",
       "878                              geodb_geodb_ci   \n",
       "879                       geodb_lpis_iacs_admin   \n",
       "880                       geodb_lpis_iacs_admin   \n",
       "881                       geodb_lpis_iacs_admin   \n",
       "882                       geodb_lpis_iacs_admin   \n",
       "\n",
       "                                       database            collection  \\\n",
       "0    geodb_0b01bfcd-2d09-46f8-84e8-cb5720fba14c  delineated_parcels_s   \n",
       "1    geodb_0b01bfcd-2d09-46f8-84e8-cb5720fba14c            test_batic   \n",
       "2    geodb_0d6df427-8c09-41b9-abc9-64ce13a68125              land_use   \n",
       "3    geodb_0d6df427-8c09-41b9-abc9-64ce13a68125              lpis_aut   \n",
       "4    geodb_0e5d743f-2134-4561-8946-a073b039176f          ai4eo_bboxes   \n",
       "..                                          ...                   ...   \n",
       "878                              geodb_geodb_ci              land_use   \n",
       "879                                   lpis_iacs          land_use_slo   \n",
       "880                                   lpis_iacs              lpis_aut   \n",
       "881                                   lpis_iacs              lpis_slo   \n",
       "882                                   lpis_iacs              metadata   \n",
       "\n",
       "               table_name  \n",
       "0    delineated_parcels_s  \n",
       "1              test_batic  \n",
       "2                land_use  \n",
       "3                lpis_aut  \n",
       "4            ai4eo_bboxes  \n",
       "..                    ...  \n",
       "878              land_use  \n",
       "879          land_use_slo  \n",
       "880              lpis_aut  \n",
       "881              lpis_slo  \n",
       "882              metadata  \n",
       "\n",
       "[883 rows x 4 columns]"
      ]
     },
     "execution_count": 17,
     "metadata": {},
     "output_type": "execute_result"
    }
   ],
   "source": [
    "geodb.get_my_collections()"
   ]
  },
  {
   "cell_type": "code",
   "execution_count": 18,
   "id": "8d33a09b",
   "metadata": {
    "execution": {
     "iopub.execute_input": "2021-10-04T15:42:37.205107Z",
     "iopub.status.busy": "2021-10-04T15:42:37.204572Z",
     "iopub.status.idle": "2021-10-04T15:42:38.317416Z",
     "shell.execute_reply": "2021-10-04T15:42:38.316897Z"
    },
    "papermill": {
     "duration": 1.135565,
     "end_time": "2021-10-04T15:42:38.317522",
     "exception": false,
     "start_time": "2021-10-04T15:42:37.181957",
     "status": "completed"
    },
    "tags": []
   },
   "outputs": [
    {
     "data": {
      "text/html": [
       "<div>\n",
       "<style scoped>\n",
       "    .dataframe tbody tr th:only-of-type {\n",
       "        vertical-align: middle;\n",
       "    }\n",
       "\n",
       "    .dataframe tbody tr th {\n",
       "        vertical-align: top;\n",
       "    }\n",
       "\n",
       "    .dataframe thead th {\n",
       "        text-align: right;\n",
       "    }\n",
       "</style>\n",
       "<table border=\"1\" class=\"dataframe\">\n",
       "  <thead>\n",
       "    <tr style=\"text-align: right;\">\n",
       "      <th></th>\n",
       "      <th>table_name</th>\n",
       "      <th>column_name</th>\n",
       "      <th>data_type</th>\n",
       "    </tr>\n",
       "  </thead>\n",
       "  <tbody>\n",
       "  </tbody>\n",
       "</table>\n",
       "</div>"
      ],
      "text/plain": [
       "Empty DataFrame\n",
       "Columns: [table_name, column_name, data_type]\n",
       "Index: []"
      ]
     },
     "execution_count": 18,
     "metadata": {},
     "output_type": "execute_result"
    }
   ],
   "source": [
    "geodb.get_properties('land_use')"
   ]
  },
  {
   "cell_type": "code",
   "execution_count": 19,
   "id": "41bf8173",
   "metadata": {
    "execution": {
     "iopub.execute_input": "2021-10-04T15:42:38.362792Z",
     "iopub.status.busy": "2021-10-04T15:42:38.361438Z",
     "iopub.status.idle": "2021-10-04T15:42:39.636882Z",
     "shell.execute_reply": "2021-10-04T15:42:39.636317Z"
    },
    "papermill": {
     "duration": 1.299823,
     "end_time": "2021-10-04T15:42:39.637000",
     "exception": false,
     "start_time": "2021-10-04T15:42:38.337177",
     "status": "completed"
    },
    "tags": []
   },
   "outputs": [
    {
     "data": {
      "text/plain": [
       "Properties added"
      ]
     },
     "execution_count": 19,
     "metadata": {},
     "output_type": "execute_result"
    }
   ],
   "source": [
    "geodb.add_property('land_use', \"test_prop\", 'integer')"
   ]
  },
  {
   "cell_type": "code",
   "execution_count": 20,
   "id": "f95a80bc",
   "metadata": {
    "execution": {
     "iopub.execute_input": "2021-10-04T15:42:39.680995Z",
     "iopub.status.busy": "2021-10-04T15:42:39.680410Z",
     "iopub.status.idle": "2021-10-04T15:42:40.802327Z",
     "shell.execute_reply": "2021-10-04T15:42:40.801818Z"
    },
    "papermill": {
     "duration": 1.145635,
     "end_time": "2021-10-04T15:42:40.802432",
     "exception": false,
     "start_time": "2021-10-04T15:42:39.656797",
     "status": "completed"
    },
    "tags": []
   },
   "outputs": [
    {
     "data": {
      "text/html": [
       "<div>\n",
       "<style scoped>\n",
       "    .dataframe tbody tr th:only-of-type {\n",
       "        vertical-align: middle;\n",
       "    }\n",
       "\n",
       "    .dataframe tbody tr th {\n",
       "        vertical-align: top;\n",
       "    }\n",
       "\n",
       "    .dataframe thead th {\n",
       "        text-align: right;\n",
       "    }\n",
       "</style>\n",
       "<table border=\"1\" class=\"dataframe\">\n",
       "  <thead>\n",
       "    <tr style=\"text-align: right;\">\n",
       "      <th></th>\n",
       "      <th>table_name</th>\n",
       "      <th>column_name</th>\n",
       "      <th>data_type</th>\n",
       "    </tr>\n",
       "  </thead>\n",
       "  <tbody>\n",
       "  </tbody>\n",
       "</table>\n",
       "</div>"
      ],
      "text/plain": [
       "Empty DataFrame\n",
       "Columns: [table_name, column_name, data_type]\n",
       "Index: []"
      ]
     },
     "execution_count": 20,
     "metadata": {},
     "output_type": "execute_result"
    }
   ],
   "source": [
    "geodb.get_properties('land_use')"
   ]
  },
  {
   "cell_type": "code",
   "execution_count": 21,
   "id": "489c6225",
   "metadata": {
    "execution": {
     "iopub.execute_input": "2021-10-04T15:42:40.851065Z",
     "iopub.status.busy": "2021-10-04T15:42:40.850519Z",
     "iopub.status.idle": "2021-10-04T15:42:45.377336Z",
     "shell.execute_reply": "2021-10-04T15:42:45.377690Z"
    },
    "papermill": {
     "duration": 4.554232,
     "end_time": "2021-10-04T15:42:45.377824",
     "exception": false,
     "start_time": "2021-10-04T15:42:40.823592",
     "status": "completed"
    },
    "tags": []
   },
   "outputs": [
    {
     "data": {
      "text/plain": [
       "Properties ['test_prop'] dropped from geodb_418dfeac-15f0-4606-9edb-fd9eb722bf04_land_use"
      ]
     },
     "execution_count": 21,
     "metadata": {},
     "output_type": "execute_result"
    }
   ],
   "source": [
    "geodb.drop_property('land_use', 'test_prop')"
   ]
  },
  {
   "cell_type": "code",
   "execution_count": 22,
   "id": "29ea7224",
   "metadata": {
    "execution": {
     "iopub.execute_input": "2021-10-04T15:42:45.422714Z",
     "iopub.status.busy": "2021-10-04T15:42:45.421359Z",
     "iopub.status.idle": "2021-10-04T15:42:46.598511Z",
     "shell.execute_reply": "2021-10-04T15:42:46.597916Z"
    },
    "papermill": {
     "duration": 1.200138,
     "end_time": "2021-10-04T15:42:46.598622",
     "exception": false,
     "start_time": "2021-10-04T15:42:45.398484",
     "status": "completed"
    },
    "tags": []
   },
   "outputs": [
    {
     "data": {
      "text/html": [
       "<div>\n",
       "<style scoped>\n",
       "    .dataframe tbody tr th:only-of-type {\n",
       "        vertical-align: middle;\n",
       "    }\n",
       "\n",
       "    .dataframe tbody tr th {\n",
       "        vertical-align: top;\n",
       "    }\n",
       "\n",
       "    .dataframe thead th {\n",
       "        text-align: right;\n",
       "    }\n",
       "</style>\n",
       "<table border=\"1\" class=\"dataframe\">\n",
       "  <thead>\n",
       "    <tr style=\"text-align: right;\">\n",
       "      <th></th>\n",
       "      <th>table_name</th>\n",
       "      <th>column_name</th>\n",
       "      <th>data_type</th>\n",
       "    </tr>\n",
       "  </thead>\n",
       "  <tbody>\n",
       "  </tbody>\n",
       "</table>\n",
       "</div>"
      ],
      "text/plain": [
       "Empty DataFrame\n",
       "Columns: [table_name, column_name, data_type]\n",
       "Index: []"
      ]
     },
     "execution_count": 22,
     "metadata": {},
     "output_type": "execute_result"
    }
   ],
   "source": [
    "geodb.get_properties('land_use')"
   ]
  },
  {
   "cell_type": "code",
   "execution_count": 23,
   "id": "5ac6b44c",
   "metadata": {
    "execution": {
     "iopub.execute_input": "2021-10-04T15:42:46.644394Z",
     "iopub.status.busy": "2021-10-04T15:42:46.643039Z",
     "iopub.status.idle": "2021-10-04T15:42:47.815346Z",
     "shell.execute_reply": "2021-10-04T15:42:47.815692Z"
    },
    "papermill": {
     "duration": 1.196389,
     "end_time": "2021-10-04T15:42:47.815824",
     "exception": false,
     "start_time": "2021-10-04T15:42:46.619435",
     "status": "completed"
    },
    "tags": []
   },
   "outputs": [
    {
     "data": {
      "text/plain": [
       "Properties added"
      ]
     },
     "execution_count": 23,
     "metadata": {},
     "output_type": "execute_result"
    }
   ],
   "source": [
    "geodb.add_properties('land_use', properties={'test1': 'integer', 'test2': 'date'})"
   ]
  },
  {
   "cell_type": "code",
   "execution_count": 24,
   "id": "ff58d13e",
   "metadata": {
    "execution": {
     "iopub.execute_input": "2021-10-04T15:42:47.862882Z",
     "iopub.status.busy": "2021-10-04T15:42:47.862364Z",
     "iopub.status.idle": "2021-10-04T15:42:49.050305Z",
     "shell.execute_reply": "2021-10-04T15:42:49.050649Z"
    },
    "papermill": {
     "duration": 1.214108,
     "end_time": "2021-10-04T15:42:49.050779",
     "exception": false,
     "start_time": "2021-10-04T15:42:47.836671",
     "status": "completed"
    },
    "tags": []
   },
   "outputs": [
    {
     "data": {
      "text/html": [
       "<div>\n",
       "<style scoped>\n",
       "    .dataframe tbody tr th:only-of-type {\n",
       "        vertical-align: middle;\n",
       "    }\n",
       "\n",
       "    .dataframe tbody tr th {\n",
       "        vertical-align: top;\n",
       "    }\n",
       "\n",
       "    .dataframe thead th {\n",
       "        text-align: right;\n",
       "    }\n",
       "</style>\n",
       "<table border=\"1\" class=\"dataframe\">\n",
       "  <thead>\n",
       "    <tr style=\"text-align: right;\">\n",
       "      <th></th>\n",
       "      <th>table_name</th>\n",
       "      <th>column_name</th>\n",
       "      <th>data_type</th>\n",
       "    </tr>\n",
       "  </thead>\n",
       "  <tbody>\n",
       "  </tbody>\n",
       "</table>\n",
       "</div>"
      ],
      "text/plain": [
       "Empty DataFrame\n",
       "Columns: [table_name, column_name, data_type]\n",
       "Index: []"
      ]
     },
     "execution_count": 24,
     "metadata": {},
     "output_type": "execute_result"
    }
   ],
   "source": [
    "geodb.get_properties('land_use')"
   ]
  },
  {
   "cell_type": "code",
   "execution_count": 25,
   "id": "d78c16c0",
   "metadata": {
    "execution": {
     "iopub.execute_input": "2021-10-04T15:42:49.098032Z",
     "iopub.status.busy": "2021-10-04T15:42:49.096767Z",
     "iopub.status.idle": "2021-10-04T15:42:53.521742Z",
     "shell.execute_reply": "2021-10-04T15:42:53.522109Z"
    },
    "papermill": {
     "duration": 4.450451,
     "end_time": "2021-10-04T15:42:53.522245",
     "exception": false,
     "start_time": "2021-10-04T15:42:49.071794",
     "status": "completed"
    },
    "tags": []
   },
   "outputs": [
    {
     "data": {
      "text/plain": [
       "Properties ['test1', 'test2'] dropped from geodb_418dfeac-15f0-4606-9edb-fd9eb722bf04_land_use"
      ]
     },
     "execution_count": 25,
     "metadata": {},
     "output_type": "execute_result"
    }
   ],
   "source": [
    "geodb.drop_properties('land_use', properties=['test1', 'test2'])"
   ]
  },
  {
   "cell_type": "code",
   "execution_count": 26,
   "id": "f065e1cd",
   "metadata": {
    "execution": {
     "iopub.execute_input": "2021-10-04T15:42:53.569919Z",
     "iopub.status.busy": "2021-10-04T15:42:53.569384Z",
     "iopub.status.idle": "2021-10-04T15:42:54.776720Z",
     "shell.execute_reply": "2021-10-04T15:42:54.776209Z"
    },
    "papermill": {
     "duration": 1.233246,
     "end_time": "2021-10-04T15:42:54.776834",
     "exception": false,
     "start_time": "2021-10-04T15:42:53.543588",
     "status": "completed"
    },
    "tags": []
   },
   "outputs": [
    {
     "data": {
      "text/html": [
       "<div>\n",
       "<style scoped>\n",
       "    .dataframe tbody tr th:only-of-type {\n",
       "        vertical-align: middle;\n",
       "    }\n",
       "\n",
       "    .dataframe tbody tr th {\n",
       "        vertical-align: top;\n",
       "    }\n",
       "\n",
       "    .dataframe thead th {\n",
       "        text-align: right;\n",
       "    }\n",
       "</style>\n",
       "<table border=\"1\" class=\"dataframe\">\n",
       "  <thead>\n",
       "    <tr style=\"text-align: right;\">\n",
       "      <th></th>\n",
       "      <th>table_name</th>\n",
       "      <th>column_name</th>\n",
       "      <th>data_type</th>\n",
       "    </tr>\n",
       "  </thead>\n",
       "  <tbody>\n",
       "  </tbody>\n",
       "</table>\n",
       "</div>"
      ],
      "text/plain": [
       "Empty DataFrame\n",
       "Columns: [table_name, column_name, data_type]\n",
       "Index: []"
      ]
     },
     "execution_count": 26,
     "metadata": {},
     "output_type": "execute_result"
    }
   ],
   "source": [
    "geodb.get_properties('land_use')"
   ]
  },
  {
   "cell_type": "code",
   "execution_count": 27,
   "id": "12bba166",
   "metadata": {
    "execution": {
     "iopub.execute_input": "2021-10-04T15:42:54.825571Z",
     "iopub.status.busy": "2021-10-04T15:42:54.824979Z",
     "iopub.status.idle": "2021-10-04T15:42:55.943175Z",
     "shell.execute_reply": "2021-10-04T15:42:55.942620Z"
    },
    "papermill": {
     "duration": 1.144575,
     "end_time": "2021-10-04T15:42:55.943324",
     "exception": false,
     "start_time": "2021-10-04T15:42:54.798749",
     "status": "completed"
    },
    "tags": []
   },
   "outputs": [
    {
     "data": {
      "text/plain": [
       "Collection ['geodb_418dfeac-15f0-4606-9edb-fd9eb722bf04_land_use'] deleted"
      ]
     },
     "execution_count": 27,
     "metadata": {},
     "output_type": "execute_result"
    }
   ],
   "source": [
    "geodb.drop_collection('land_use')"
   ]
  },
  {
   "cell_type": "code",
   "execution_count": null,
   "id": "93e62f0f",
   "metadata": {
    "papermill": {
     "duration": 0.021767,
     "end_time": "2021-10-04T15:42:55.989052",
     "exception": false,
     "start_time": "2021-10-04T15:42:55.967285",
     "status": "completed"
    },
    "tags": []
   },
   "outputs": [],
   "source": []
  }
 ],
 "metadata": {
  "kernelspec": {
   "display_name": "EDC 0.24.5 (Python3)",
   "language": "python",
   "name": "edc"
  },
  "language_info": {
   "codemirror_mode": {
    "name": "ipython",
    "version": 3
   },
   "file_extension": ".py",
   "mimetype": "text/x-python",
   "name": "python",
   "nbconvert_exporter": "python",
   "pygments_lexer": "ipython3",
   "version": "3.8.10"
  },
  "papermill": {
   "duration": 54.033538,
   "end_time": "2021-10-04T15:42:56.317147",
   "environment_variables": {},
   "exception": null,
   "input_path": "/tmp/tmpyznq8kap",
   "output_path": "/tmp/notebook_output.ipynb",
   "parameters": {},
   "start_time": "2021-10-04T15:42:02.283609",
   "version": "2.1.2"
  },
  "properties": {
   "authors": [
    {
     "id": "139b9f28-6757-4ffa-8345-3f658eb33850",
     "name": "alicja.balfanz@brockmann-consult.de"
    }
   ],
   "description": "Euro Data Cube GeoDB: Manage Datasets",
   "id": "geodb-manage",
   "license": null,
   "name": "GeoDB: Manage Datasets",
   "requirements": [
    "eurodatacube-geodb",
    "eoxhub",
    "eoxhub"
   ],
   "tags": [
    "Getting started",
    "GeoDB"
   ],
   "tosAgree": true,
   "type": "Jupyter Notebook",
   "version": "0.2.2"
  },
  "pycharm": {
   "stem_cell": {
    "cell_type": "raw",
    "metadata": {
     "collapsed": false
    },
    "source": []
   }
  }
 },
 "nbformat": 4,
 "nbformat_minor": 5
}