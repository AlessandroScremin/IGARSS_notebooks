{
 "cells": [
  {
   "cell_type": "code",
   "execution_count": 1,
   "metadata": {
    "execution": {
     "iopub.execute_input": "2020-08-31T12:31:33.925746Z",
     "iopub.status.busy": "2020-08-31T12:31:33.924655Z",
     "iopub.status.idle": "2020-08-31T12:31:34.080636Z",
     "shell.execute_reply": "2020-08-31T12:31:34.081132Z"
    },
    "papermill": {
     "duration": 0.174715,
     "end_time": "2020-08-31T12:31:34.081304",
     "exception": false,
     "start_time": "2020-08-31T12:31:33.906589",
     "status": "completed"
    },
    "tags": []
   },
   "outputs": [
    {
     "data": {
      "text/markdown": [
       "\n",
       "***Notebook Title***  \n",
       "GeoDB: Sharing Data\n",
       "\n",
       "***Notebook Description***  \n",
       "Euro Data Cube GeoDB: Sharing Data\n",
       "\n",
       "\n",
       "***Notebook Dependencies***  \n",
       "This notebook requires an active subscription to:\n",
       "* EDC GeoDB\n"
      ],
      "text/plain": [
       "<IPython.core.display.Markdown object>"
      ]
     },
     "metadata": {},
     "output_type": "display_data"
    }
   ],
   "source": [
    "from edc import print_info\n",
    "print_info(\"geodb-sharing\")"
   ]
  },
  {
   "cell_type": "code",
   "execution_count": 2,
   "metadata": {
    "execution": {
     "iopub.execute_input": "2020-08-31T12:31:34.113846Z",
     "iopub.status.busy": "2020-08-31T12:31:34.112801Z",
     "iopub.status.idle": "2020-08-31T12:31:34.119842Z",
     "shell.execute_reply": "2020-08-31T12:31:34.118978Z"
    },
    "papermill": {
     "duration": 0.02508,
     "end_time": "2020-08-31T12:31:34.120056",
     "exception": false,
     "start_time": "2020-08-31T12:31:34.094976",
     "status": "completed"
    },
    "tags": []
   },
   "outputs": [
    {
     "data": {
      "text/markdown": [
       "API credentials have automatically been injected for your active subscriptions.  \n",
       "The following environment variables are now available:\n",
       "* `GEODB_API_SERVER_PORT`, `GEODB_API_SERVER_URL`, `GEODB_AUTH_AUD`, `GEODB_AUTH_CLIENT_ID`, `GEODB_AUTH_CLIENT_SECRET`, `GEODB_AUTH_DOMAIN`\n",
       "\n",
       "The following additional environment variables have been loaded from `~/custom.env`:\n",
       "* `AWS_BUCKET`\n",
       "* `DAPA_URL`\n",
       "* `DB_HOST`, `DB_NAME`, `DB_PASSWORD`, `DB_USER`\n",
       "* `OGC_EDC_URL`\n",
       "* `REFERENCE_DATA`\n"
      ],
      "text/plain": [
       "<IPython.core.display.Markdown object>"
      ]
     },
     "metadata": {},
     "output_type": "display_data"
    }
   ],
   "source": [
    "from edc import setup_environment_variables\n",
    "setup_environment_variables()"
   ]
  },
  {
   "cell_type": "code",
   "execution_count": 3,
   "metadata": {
    "execution": {
     "iopub.execute_input": "2020-08-31T12:31:34.154901Z",
     "iopub.status.busy": "2020-08-31T12:31:34.153819Z",
     "iopub.status.idle": "2020-08-31T12:31:34.159264Z",
     "shell.execute_reply": "2020-08-31T12:31:34.159848Z"
    },
    "papermill": {
     "duration": 0.025539,
     "end_time": "2020-08-31T12:31:34.160009",
     "exception": false,
     "start_time": "2020-08-31T12:31:34.134470",
     "status": "completed"
    },
    "tags": []
   },
   "outputs": [
    {
     "data": {
      "text/html": [
       "<script type=\"text/javascript\">\n",
       "        function toggle(id) {\n",
       "            el = document.getElementById(id);\n",
       "            el.style.display = el.style.display === \"none\" ? \"block\" : \"none\";\n",
       "        }\n",
       "    </script>"
      ],
      "text/plain": [
       "<IPython.core.display.HTML object>"
      ]
     },
     "metadata": {},
     "output_type": "display_data"
    },
    {
     "data": {
      "text/html": [
       "This notebook is compatible with this base image version (user-0.20.1)."
      ],
      "text/plain": [
       "<IPython.core.display.HTML object>"
      ]
     },
     "metadata": {},
     "output_type": "display_data"
    }
   ],
   "source": [
    "from edc import check_compatibility\n",
    "check_compatibility(\"user-0.20.1\")"
   ]
  },
  {
   "cell_type": "markdown",
   "metadata": {
    "papermill": {
     "duration": 0.015394,
     "end_time": "2020-08-31T12:31:34.190936",
     "exception": false,
     "start_time": "2020-08-31T12:31:34.175542",
     "status": "completed"
    },
    "tags": []
   },
   "source": [
    "## Sharing Data"
   ]
  },
  {
   "cell_type": "code",
   "execution_count": 4,
   "metadata": {
    "execution": {
     "iopub.execute_input": "2020-08-31T12:31:34.228547Z",
     "iopub.status.busy": "2020-08-31T12:31:34.227142Z",
     "iopub.status.idle": "2020-08-31T12:31:34.718204Z",
     "shell.execute_reply": "2020-08-31T12:31:34.717208Z"
    },
    "papermill": {
     "duration": 0.511658,
     "end_time": "2020-08-31T12:31:34.718391",
     "exception": false,
     "start_time": "2020-08-31T12:31:34.206733",
     "status": "completed"
    },
    "tags": []
   },
   "outputs": [],
   "source": [
    "from xcube_geodb.core.geodb import GeoDBClient"
   ]
  },
  {
   "cell_type": "code",
   "execution_count": 5,
   "metadata": {
    "execution": {
     "iopub.execute_input": "2020-08-31T12:31:34.760152Z",
     "iopub.status.busy": "2020-08-31T12:31:34.759094Z",
     "iopub.status.idle": "2020-08-31T12:31:35.066485Z",
     "shell.execute_reply": "2020-08-31T12:31:35.065827Z"
    },
    "papermill": {
     "duration": 0.332536,
     "end_time": "2020-08-31T12:31:35.066685",
     "exception": false,
     "start_time": "2020-08-31T12:31:34.734149",
     "status": "completed"
    },
    "tags": []
   },
   "outputs": [
    {
     "data": {
      "text/plain": [
       "'geodb_418dfeac-15f0-4606-9edb-fd9eb722bf04'"
      ]
     },
     "execution_count": 5,
     "metadata": {},
     "output_type": "execute_result"
    }
   ],
   "source": [
    "geodb = GeoDBClient()\n",
    "geodb.whoami"
   ]
  },
  {
   "cell_type": "markdown",
   "metadata": {
    "papermill": {
     "duration": 0.015858,
     "end_time": "2020-08-31T12:31:35.098281",
     "exception": false,
     "start_time": "2020-08-31T12:31:35.082423",
     "status": "completed"
    },
    "tags": []
   },
   "source": [
    "### Publish a Collection to the World"
   ]
  },
  {
   "cell_type": "code",
   "execution_count": 6,
   "metadata": {
    "execution": {
     "iopub.execute_input": "2020-08-31T12:31:35.138193Z",
     "iopub.status.busy": "2020-08-31T12:31:35.137234Z",
     "iopub.status.idle": "2020-08-31T12:31:35.277116Z",
     "shell.execute_reply": "2020-08-31T12:31:35.276353Z"
    },
    "papermill": {
     "duration": 0.163509,
     "end_time": "2020-08-31T12:31:35.277317",
     "exception": false,
     "start_time": "2020-08-31T12:31:35.113808",
     "status": "completed"
    },
    "tags": []
   },
   "outputs": [
    {
     "data": {
      "text/html": [
       "<div>\n",
       "<style scoped>\n",
       "    .dataframe tbody tr th:only-of-type {\n",
       "        vertical-align: middle;\n",
       "    }\n",
       "\n",
       "    .dataframe tbody tr th {\n",
       "        vertical-align: top;\n",
       "    }\n",
       "\n",
       "    .dataframe thead th {\n",
       "        text-align: right;\n",
       "    }\n",
       "</style>\n",
       "<table border=\"1\" class=\"dataframe\">\n",
       "  <thead>\n",
       "    <tr style=\"text-align: right;\">\n",
       "      <th></th>\n",
       "      <th>Grants</th>\n",
       "    </tr>\n",
       "  </thead>\n",
       "  <tbody>\n",
       "    <tr>\n",
       "      <th>0</th>\n",
       "      <td>No Grants</td>\n",
       "    </tr>\n",
       "  </tbody>\n",
       "</table>\n",
       "</div>"
      ],
      "text/plain": [
       "      Grants\n",
       "0  No Grants"
      ]
     },
     "execution_count": 6,
     "metadata": {},
     "output_type": "execute_result"
    }
   ],
   "source": [
    "geodb.list_my_grants()"
   ]
  },
  {
   "cell_type": "code",
   "execution_count": 7,
   "metadata": {
    "execution": {
     "iopub.execute_input": "2020-08-31T12:31:35.315677Z",
     "iopub.status.busy": "2020-08-31T12:31:35.314570Z",
     "iopub.status.idle": "2020-08-31T12:31:35.926063Z",
     "shell.execute_reply": "2020-08-31T12:31:35.925355Z"
    },
    "papermill": {
     "duration": 0.632402,
     "end_time": "2020-08-31T12:31:35.926249",
     "exception": false,
     "start_time": "2020-08-31T12:31:35.293847",
     "status": "completed"
    },
    "tags": []
   },
   "outputs": [
    {
     "data": {
      "text/plain": [
       "Access could not be granted. List grants with geodb.list_grants(){\"hint\":null,\"details\":null,\"code\":\"42P01\",\"message\":\"relation \\\"geodb_418dfeac-15f0-4606-9edb-fd9eb722bf04_land_use\\\" does not exist\"}"
      ]
     },
     "execution_count": 7,
     "metadata": {},
     "output_type": "execute_result"
    }
   ],
   "source": [
    "geodb.publish_collection(\"land_use\")"
   ]
  },
  {
   "cell_type": "markdown",
   "metadata": {
    "papermill": {
     "duration": 0.016455,
     "end_time": "2020-08-31T12:31:35.959281",
     "exception": false,
     "start_time": "2020-08-31T12:31:35.942826",
     "status": "completed"
    },
    "tags": []
   },
   "source": [
    "### Accessing Collection as a different User\n",
    "\n",
    "Please be aware that you cannot change the user easily within a Notebook. Here, we changed the credentials in the background. The following cells will not run and are for demonstration only."
   ]
  },
  {
   "cell_type": "code",
   "execution_count": 8,
   "metadata": {
    "execution": {
     "iopub.execute_input": "2020-08-31T12:31:35.997417Z",
     "iopub.status.busy": "2020-08-31T12:31:35.996289Z",
     "iopub.status.idle": "2020-08-31T12:31:36.228866Z",
     "shell.execute_reply": "2020-08-31T12:31:36.228128Z"
    },
    "papermill": {
     "duration": 0.25336,
     "end_time": "2020-08-31T12:31:36.229064",
     "exception": false,
     "start_time": "2020-08-31T12:31:35.975704",
     "status": "completed"
    },
    "tags": []
   },
   "outputs": [
    {
     "data": {
      "text/plain": [
       "'geodb_418dfeac-15f0-4606-9edb-fd9eb722bf04'"
      ]
     },
     "execution_count": 8,
     "metadata": {},
     "output_type": "execute_result"
    }
   ],
   "source": [
    "geodb = GeoDBClient()\n",
    "geodb.whoami"
   ]
  },
  {
   "cell_type": "code",
   "execution_count": 9,
   "metadata": {
    "execution": {
     "iopub.execute_input": "2020-08-31T12:31:36.273722Z",
     "iopub.status.busy": "2020-08-31T12:31:36.272772Z",
     "iopub.status.idle": "2020-08-31T12:31:37.888470Z",
     "shell.execute_reply": "2020-08-31T12:31:37.887431Z"
    },
    "papermill": {
     "duration": 1.641646,
     "end_time": "2020-08-31T12:31:37.888712",
     "exception": false,
     "start_time": "2020-08-31T12:31:36.247066",
     "status": "completed"
    },
    "tags": []
   },
   "outputs": [
    {
     "data": {
      "text/html": [
       "<div>\n",
       "<style scoped>\n",
       "    .dataframe tbody tr th:only-of-type {\n",
       "        vertical-align: middle;\n",
       "    }\n",
       "\n",
       "    .dataframe tbody tr th {\n",
       "        vertical-align: top;\n",
       "    }\n",
       "\n",
       "    .dataframe thead th {\n",
       "        text-align: right;\n",
       "    }\n",
       "</style>\n",
       "<table border=\"1\" class=\"dataframe\">\n",
       "  <thead>\n",
       "    <tr style=\"text-align: right;\">\n",
       "      <th></th>\n",
       "      <th>id</th>\n",
       "      <th>created_at</th>\n",
       "      <th>modified_at</th>\n",
       "      <th>geometry</th>\n",
       "      <th>raba_pid</th>\n",
       "      <th>raba_id</th>\n",
       "      <th>d_od</th>\n",
       "    </tr>\n",
       "  </thead>\n",
       "  <tbody>\n",
       "    <tr>\n",
       "      <th>0</th>\n",
       "      <td>1</td>\n",
       "      <td>2020-08-21T11:56:35.961115+00:00</td>\n",
       "      <td>None</td>\n",
       "      <td>POLYGON ((453952.629 91124.177, 453952.696 911...</td>\n",
       "      <td>4770326</td>\n",
       "      <td>1410</td>\n",
       "      <td>2019-03-26</td>\n",
       "    </tr>\n",
       "    <tr>\n",
       "      <th>1</th>\n",
       "      <td>2</td>\n",
       "      <td>2020-08-21T11:56:35.961115+00:00</td>\n",
       "      <td>None</td>\n",
       "      <td>POLYGON ((453810.376 91150.199, 453812.552 911...</td>\n",
       "      <td>4770325</td>\n",
       "      <td>1300</td>\n",
       "      <td>2019-03-26</td>\n",
       "    </tr>\n",
       "    <tr>\n",
       "      <th>2</th>\n",
       "      <td>3</td>\n",
       "      <td>2020-08-21T11:56:35.961115+00:00</td>\n",
       "      <td>None</td>\n",
       "      <td>POLYGON ((456099.635 97696.070, 456112.810 976...</td>\n",
       "      <td>2305689</td>\n",
       "      <td>7000</td>\n",
       "      <td>2019-02-25</td>\n",
       "    </tr>\n",
       "    <tr>\n",
       "      <th>3</th>\n",
       "      <td>4</td>\n",
       "      <td>2020-08-21T11:56:35.961115+00:00</td>\n",
       "      <td>None</td>\n",
       "      <td>POLYGON ((455929.405 97963.785, 455933.284 979...</td>\n",
       "      <td>2305596</td>\n",
       "      <td>1100</td>\n",
       "      <td>2019-02-25</td>\n",
       "    </tr>\n",
       "    <tr>\n",
       "      <th>4</th>\n",
       "      <td>5</td>\n",
       "      <td>2020-08-21T11:56:35.961115+00:00</td>\n",
       "      <td>None</td>\n",
       "      <td>POLYGON ((461561.512 96119.256, 461632.114 960...</td>\n",
       "      <td>2310160</td>\n",
       "      <td>1100</td>\n",
       "      <td>2019-03-11</td>\n",
       "    </tr>\n",
       "    <tr>\n",
       "      <th>...</th>\n",
       "      <td>...</td>\n",
       "      <td>...</td>\n",
       "      <td>...</td>\n",
       "      <td>...</td>\n",
       "      <td>...</td>\n",
       "      <td>...</td>\n",
       "      <td>...</td>\n",
       "    </tr>\n",
       "    <tr>\n",
       "      <th>9822</th>\n",
       "      <td>9823</td>\n",
       "      <td>2020-08-21T11:56:35.961115+00:00</td>\n",
       "      <td>None</td>\n",
       "      <td>POLYGON ((460637.334 96865.891, 460647.927 969...</td>\n",
       "      <td>6253989</td>\n",
       "      <td>1600</td>\n",
       "      <td>2019-03-08</td>\n",
       "    </tr>\n",
       "    <tr>\n",
       "      <th>9823</th>\n",
       "      <td>9824</td>\n",
       "      <td>2020-08-21T11:56:35.961115+00:00</td>\n",
       "      <td>None</td>\n",
       "      <td>POLYGON ((459467.868 96839.686, 459467.770 968...</td>\n",
       "      <td>6252044</td>\n",
       "      <td>1600</td>\n",
       "      <td>2019-03-26</td>\n",
       "    </tr>\n",
       "    <tr>\n",
       "      <th>9824</th>\n",
       "      <td>9825</td>\n",
       "      <td>2020-08-21T11:56:35.961115+00:00</td>\n",
       "      <td>None</td>\n",
       "      <td>POLYGON ((459488.998 94066.248, 459498.145 940...</td>\n",
       "      <td>6245985</td>\n",
       "      <td>2000</td>\n",
       "      <td>2019-04-08</td>\n",
       "    </tr>\n",
       "    <tr>\n",
       "      <th>9825</th>\n",
       "      <td>9826</td>\n",
       "      <td>2020-08-21T11:56:35.961115+00:00</td>\n",
       "      <td>None</td>\n",
       "      <td>POLYGON ((459676.680 94000.000, 459672.469 939...</td>\n",
       "      <td>6245986</td>\n",
       "      <td>2000</td>\n",
       "      <td>2019-02-20</td>\n",
       "    </tr>\n",
       "    <tr>\n",
       "      <th>9826</th>\n",
       "      <td>9827</td>\n",
       "      <td>2020-08-21T11:56:35.961115+00:00</td>\n",
       "      <td>None</td>\n",
       "      <td>POLYGON ((459690.580 94042.607, 459686.872 940...</td>\n",
       "      <td>6245987</td>\n",
       "      <td>2000</td>\n",
       "      <td>2019-03-11</td>\n",
       "    </tr>\n",
       "  </tbody>\n",
       "</table>\n",
       "<p>9827 rows × 7 columns</p>\n",
       "</div>"
      ],
      "text/plain": [
       "        id                        created_at modified_at  \\\n",
       "0        1  2020-08-21T11:56:35.961115+00:00        None   \n",
       "1        2  2020-08-21T11:56:35.961115+00:00        None   \n",
       "2        3  2020-08-21T11:56:35.961115+00:00        None   \n",
       "3        4  2020-08-21T11:56:35.961115+00:00        None   \n",
       "4        5  2020-08-21T11:56:35.961115+00:00        None   \n",
       "...    ...                               ...         ...   \n",
       "9822  9823  2020-08-21T11:56:35.961115+00:00        None   \n",
       "9823  9824  2020-08-21T11:56:35.961115+00:00        None   \n",
       "9824  9825  2020-08-21T11:56:35.961115+00:00        None   \n",
       "9825  9826  2020-08-21T11:56:35.961115+00:00        None   \n",
       "9826  9827  2020-08-21T11:56:35.961115+00:00        None   \n",
       "\n",
       "                                               geometry  raba_pid  raba_id  \\\n",
       "0     POLYGON ((453952.629 91124.177, 453952.696 911...   4770326     1410   \n",
       "1     POLYGON ((453810.376 91150.199, 453812.552 911...   4770325     1300   \n",
       "2     POLYGON ((456099.635 97696.070, 456112.810 976...   2305689     7000   \n",
       "3     POLYGON ((455929.405 97963.785, 455933.284 979...   2305596     1100   \n",
       "4     POLYGON ((461561.512 96119.256, 461632.114 960...   2310160     1100   \n",
       "...                                                 ...       ...      ...   \n",
       "9822  POLYGON ((460637.334 96865.891, 460647.927 969...   6253989     1600   \n",
       "9823  POLYGON ((459467.868 96839.686, 459467.770 968...   6252044     1600   \n",
       "9824  POLYGON ((459488.998 94066.248, 459498.145 940...   6245985     2000   \n",
       "9825  POLYGON ((459676.680 94000.000, 459672.469 939...   6245986     2000   \n",
       "9826  POLYGON ((459690.580 94042.607, 459686.872 940...   6245987     2000   \n",
       "\n",
       "            d_od  \n",
       "0     2019-03-26  \n",
       "1     2019-03-26  \n",
       "2     2019-02-25  \n",
       "3     2019-02-25  \n",
       "4     2019-03-11  \n",
       "...          ...  \n",
       "9822  2019-03-08  \n",
       "9823  2019-03-26  \n",
       "9824  2019-04-08  \n",
       "9825  2019-02-20  \n",
       "9826  2019-03-11  \n",
       "\n",
       "[9827 rows x 7 columns]"
      ]
     },
     "execution_count": 9,
     "metadata": {},
     "output_type": "execute_result"
    }
   ],
   "source": [
    "geodb.get_collection('land_use', database='geodb_admin')"
   ]
  },
  {
   "cell_type": "markdown",
   "metadata": {
    "papermill": {
     "duration": 0.018319,
     "end_time": "2020-08-31T12:31:37.924941",
     "exception": false,
     "start_time": "2020-08-31T12:31:37.906622",
     "status": "completed"
    },
    "tags": []
   },
   "source": [
    "### Revoke access"
   ]
  },
  {
   "cell_type": "code",
   "execution_count": 10,
   "metadata": {
    "execution": {
     "iopub.execute_input": "2020-08-31T12:31:37.969934Z",
     "iopub.status.busy": "2020-08-31T12:31:37.968975Z",
     "iopub.status.idle": "2020-08-31T12:31:38.094804Z",
     "shell.execute_reply": "2020-08-31T12:31:38.095367Z"
    },
    "papermill": {
     "duration": 0.152356,
     "end_time": "2020-08-31T12:31:38.095524",
     "exception": false,
     "start_time": "2020-08-31T12:31:37.943168",
     "status": "completed"
    },
    "tags": []
   },
   "outputs": [
    {
     "data": {
      "text/html": [
       "<div>\n",
       "<style scoped>\n",
       "    .dataframe tbody tr th:only-of-type {\n",
       "        vertical-align: middle;\n",
       "    }\n",
       "\n",
       "    .dataframe tbody tr th {\n",
       "        vertical-align: top;\n",
       "    }\n",
       "\n",
       "    .dataframe thead th {\n",
       "        text-align: right;\n",
       "    }\n",
       "</style>\n",
       "<table border=\"1\" class=\"dataframe\">\n",
       "  <thead>\n",
       "    <tr style=\"text-align: right;\">\n",
       "      <th></th>\n",
       "      <th>Grants</th>\n",
       "    </tr>\n",
       "  </thead>\n",
       "  <tbody>\n",
       "    <tr>\n",
       "      <th>0</th>\n",
       "      <td>No Grants</td>\n",
       "    </tr>\n",
       "  </tbody>\n",
       "</table>\n",
       "</div>"
      ],
      "text/plain": [
       "      Grants\n",
       "0  No Grants"
      ]
     },
     "execution_count": 10,
     "metadata": {},
     "output_type": "execute_result"
    }
   ],
   "source": [
    "geodb.list_my_grants()"
   ]
  },
  {
   "cell_type": "code",
   "execution_count": 11,
   "metadata": {
    "execution": {
     "iopub.execute_input": "2020-08-31T12:31:38.141813Z",
     "iopub.status.busy": "2020-08-31T12:31:38.140476Z",
     "iopub.status.idle": "2020-08-31T12:31:38.507095Z",
     "shell.execute_reply": "2020-08-31T12:31:38.506067Z"
    },
    "papermill": {
     "duration": 0.393565,
     "end_time": "2020-08-31T12:31:38.507324",
     "exception": false,
     "start_time": "2020-08-31T12:31:38.113759",
     "status": "completed"
    },
    "tags": []
   },
   "outputs": [
    {
     "data": {
      "text/plain": [
       "Collection already unpublished{\"hint\":null,\"details\":null,\"code\":\"42P01\",\"message\":\"relation \\\"geodb_418dfeac-15f0-4606-9edb-fd9eb722bf04_land_use\\\" does not exist\"}"
      ]
     },
     "execution_count": 11,
     "metadata": {},
     "output_type": "execute_result"
    }
   ],
   "source": [
    "geodb.unpublish_collection(\"land_use\")"
   ]
  },
  {
   "cell_type": "code",
   "execution_count": 12,
   "metadata": {
    "execution": {
     "iopub.execute_input": "2020-08-31T12:31:38.554481Z",
     "iopub.status.busy": "2020-08-31T12:31:38.553279Z",
     "iopub.status.idle": "2020-08-31T12:31:38.729110Z",
     "shell.execute_reply": "2020-08-31T12:31:38.729606Z"
    },
    "papermill": {
     "duration": 0.203033,
     "end_time": "2020-08-31T12:31:38.729768",
     "exception": false,
     "start_time": "2020-08-31T12:31:38.526735",
     "status": "completed"
    },
    "tags": []
   },
   "outputs": [
    {
     "data": {
      "text/html": [
       "<div>\n",
       "<style scoped>\n",
       "    .dataframe tbody tr th:only-of-type {\n",
       "        vertical-align: middle;\n",
       "    }\n",
       "\n",
       "    .dataframe tbody tr th {\n",
       "        vertical-align: top;\n",
       "    }\n",
       "\n",
       "    .dataframe thead th {\n",
       "        text-align: right;\n",
       "    }\n",
       "</style>\n",
       "<table border=\"1\" class=\"dataframe\">\n",
       "  <thead>\n",
       "    <tr style=\"text-align: right;\">\n",
       "      <th></th>\n",
       "      <th>Grants</th>\n",
       "    </tr>\n",
       "  </thead>\n",
       "  <tbody>\n",
       "    <tr>\n",
       "      <th>0</th>\n",
       "      <td>No Grants</td>\n",
       "    </tr>\n",
       "  </tbody>\n",
       "</table>\n",
       "</div>"
      ],
      "text/plain": [
       "      Grants\n",
       "0  No Grants"
      ]
     },
     "execution_count": 12,
     "metadata": {},
     "output_type": "execute_result"
    }
   ],
   "source": [
    "geodb.list_my_grants()"
   ]
  },
  {
   "cell_type": "code",
   "execution_count": 13,
   "metadata": {
    "execution": {
     "iopub.execute_input": "2020-08-31T12:31:38.778057Z",
     "iopub.status.busy": "2020-08-31T12:31:38.777103Z",
     "iopub.status.idle": "2020-08-31T12:31:39.763621Z",
     "shell.execute_reply": "2020-08-31T12:31:39.762928Z"
    },
    "papermill": {
     "duration": 1.014319,
     "end_time": "2020-08-31T12:31:39.763815",
     "exception": false,
     "start_time": "2020-08-31T12:31:38.749496",
     "status": "completed"
    },
    "tags": []
   },
   "outputs": [
    {
     "data": {
      "text/html": [
       "<div>\n",
       "<style scoped>\n",
       "    .dataframe tbody tr th:only-of-type {\n",
       "        vertical-align: middle;\n",
       "    }\n",
       "\n",
       "    .dataframe tbody tr th {\n",
       "        vertical-align: top;\n",
       "    }\n",
       "\n",
       "    .dataframe thead th {\n",
       "        text-align: right;\n",
       "    }\n",
       "</style>\n",
       "<table border=\"1\" class=\"dataframe\">\n",
       "  <thead>\n",
       "    <tr style=\"text-align: right;\">\n",
       "      <th></th>\n",
       "      <th>id</th>\n",
       "      <th>created_at</th>\n",
       "      <th>modified_at</th>\n",
       "      <th>geometry</th>\n",
       "      <th>raba_pid</th>\n",
       "      <th>raba_id</th>\n",
       "      <th>d_od</th>\n",
       "    </tr>\n",
       "  </thead>\n",
       "  <tbody>\n",
       "    <tr>\n",
       "      <th>0</th>\n",
       "      <td>11</td>\n",
       "      <td>2020-08-21T11:56:35.961115+00:00</td>\n",
       "      <td>None</td>\n",
       "      <td>POLYGON ((460137.998 95628.898, 460111.001 956...</td>\n",
       "      <td>5983161</td>\n",
       "      <td>1100</td>\n",
       "      <td>2019-03-11</td>\n",
       "    </tr>\n",
       "    <tr>\n",
       "      <th>1</th>\n",
       "      <td>12</td>\n",
       "      <td>2020-08-21T11:56:35.961115+00:00</td>\n",
       "      <td>None</td>\n",
       "      <td>POLYGON ((453673.609 91328.224, 453678.929 913...</td>\n",
       "      <td>5983074</td>\n",
       "      <td>1600</td>\n",
       "      <td>2019-03-26</td>\n",
       "    </tr>\n",
       "  </tbody>\n",
       "</table>\n",
       "</div>"
      ],
      "text/plain": [
       "   id                        created_at modified_at  \\\n",
       "0  11  2020-08-21T11:56:35.961115+00:00        None   \n",
       "1  12  2020-08-21T11:56:35.961115+00:00        None   \n",
       "\n",
       "                                            geometry  raba_pid  raba_id  \\\n",
       "0  POLYGON ((460137.998 95628.898, 460111.001 956...   5983161     1100   \n",
       "1  POLYGON ((453673.609 91328.224, 453678.929 913...   5983074     1600   \n",
       "\n",
       "         d_od  \n",
       "0  2019-03-11  \n",
       "1  2019-03-26  "
      ]
     },
     "execution_count": 13,
     "metadata": {},
     "output_type": "execute_result"
    }
   ],
   "source": [
    "gdf = geodb.get_collection_by_bbox(collection=\"land_use\", database=\"geodb_admin\", bbox=(452750.0, 88909.549, 464000.0, 102486.299),\n",
    "                comparison_mode=\"contains\", bbox_crs=3794, limit=2, offset=10)\n",
    "gdf"
   ]
  },
  {
   "cell_type": "markdown",
   "metadata": {
    "papermill": {
     "duration": 0.019666,
     "end_time": "2020-08-31T12:31:39.803834",
     "exception": false,
     "start_time": "2020-08-31T12:31:39.784168",
     "status": "completed"
    },
    "tags": []
   },
   "source": [
    "### Accessing Collection as a different User\n",
    "\n",
    "Please be aware that you cannot change the user easily within a Notebook. Here, we changed the credentials in the background. The following cells will not run and are for demonstration only."
   ]
  },
  {
   "cell_type": "code",
   "execution_count": 14,
   "metadata": {
    "execution": {
     "iopub.execute_input": "2020-08-31T12:31:39.852862Z",
     "iopub.status.busy": "2020-08-31T12:31:39.851907Z",
     "iopub.status.idle": "2020-08-31T12:31:40.129453Z",
     "shell.execute_reply": "2020-08-31T12:31:40.130045Z"
    },
    "papermill": {
     "duration": 0.30632,
     "end_time": "2020-08-31T12:31:40.130206",
     "exception": false,
     "start_time": "2020-08-31T12:31:39.823886",
     "status": "completed"
    },
    "tags": []
   },
   "outputs": [
    {
     "data": {
      "text/plain": [
       "'geodb_418dfeac-15f0-4606-9edb-fd9eb722bf04'"
      ]
     },
     "execution_count": 14,
     "metadata": {},
     "output_type": "execute_result"
    }
   ],
   "source": [
    "geodb = GeoDBClient()\n",
    "geodb.whoami"
   ]
  },
  {
   "cell_type": "code",
   "execution_count": 15,
   "metadata": {
    "execution": {
     "iopub.execute_input": "2020-08-31T12:31:40.180474Z",
     "iopub.status.busy": "2020-08-31T12:31:40.179468Z",
     "iopub.status.idle": "2020-08-31T12:31:41.773716Z",
     "shell.execute_reply": "2020-08-31T12:31:41.774403Z"
    },
    "papermill": {
     "duration": 1.623483,
     "end_time": "2020-08-31T12:31:41.774582",
     "exception": false,
     "start_time": "2020-08-31T12:31:40.151099",
     "status": "completed"
    },
    "tags": []
   },
   "outputs": [
    {
     "data": {
      "text/html": [
       "<div>\n",
       "<style scoped>\n",
       "    .dataframe tbody tr th:only-of-type {\n",
       "        vertical-align: middle;\n",
       "    }\n",
       "\n",
       "    .dataframe tbody tr th {\n",
       "        vertical-align: top;\n",
       "    }\n",
       "\n",
       "    .dataframe thead th {\n",
       "        text-align: right;\n",
       "    }\n",
       "</style>\n",
       "<table border=\"1\" class=\"dataframe\">\n",
       "  <thead>\n",
       "    <tr style=\"text-align: right;\">\n",
       "      <th></th>\n",
       "      <th>id</th>\n",
       "      <th>created_at</th>\n",
       "      <th>modified_at</th>\n",
       "      <th>geometry</th>\n",
       "      <th>raba_pid</th>\n",
       "      <th>raba_id</th>\n",
       "      <th>d_od</th>\n",
       "    </tr>\n",
       "  </thead>\n",
       "  <tbody>\n",
       "    <tr>\n",
       "      <th>0</th>\n",
       "      <td>1</td>\n",
       "      <td>2020-08-21T11:56:35.961115+00:00</td>\n",
       "      <td>None</td>\n",
       "      <td>POLYGON ((453952.629 91124.177, 453952.696 911...</td>\n",
       "      <td>4770326</td>\n",
       "      <td>1410</td>\n",
       "      <td>2019-03-26</td>\n",
       "    </tr>\n",
       "    <tr>\n",
       "      <th>1</th>\n",
       "      <td>2</td>\n",
       "      <td>2020-08-21T11:56:35.961115+00:00</td>\n",
       "      <td>None</td>\n",
       "      <td>POLYGON ((453810.376 91150.199, 453812.552 911...</td>\n",
       "      <td>4770325</td>\n",
       "      <td>1300</td>\n",
       "      <td>2019-03-26</td>\n",
       "    </tr>\n",
       "    <tr>\n",
       "      <th>2</th>\n",
       "      <td>3</td>\n",
       "      <td>2020-08-21T11:56:35.961115+00:00</td>\n",
       "      <td>None</td>\n",
       "      <td>POLYGON ((456099.635 97696.070, 456112.810 976...</td>\n",
       "      <td>2305689</td>\n",
       "      <td>7000</td>\n",
       "      <td>2019-02-25</td>\n",
       "    </tr>\n",
       "    <tr>\n",
       "      <th>3</th>\n",
       "      <td>4</td>\n",
       "      <td>2020-08-21T11:56:35.961115+00:00</td>\n",
       "      <td>None</td>\n",
       "      <td>POLYGON ((455929.405 97963.785, 455933.284 979...</td>\n",
       "      <td>2305596</td>\n",
       "      <td>1100</td>\n",
       "      <td>2019-02-25</td>\n",
       "    </tr>\n",
       "    <tr>\n",
       "      <th>4</th>\n",
       "      <td>5</td>\n",
       "      <td>2020-08-21T11:56:35.961115+00:00</td>\n",
       "      <td>None</td>\n",
       "      <td>POLYGON ((461561.512 96119.256, 461632.114 960...</td>\n",
       "      <td>2310160</td>\n",
       "      <td>1100</td>\n",
       "      <td>2019-03-11</td>\n",
       "    </tr>\n",
       "    <tr>\n",
       "      <th>...</th>\n",
       "      <td>...</td>\n",
       "      <td>...</td>\n",
       "      <td>...</td>\n",
       "      <td>...</td>\n",
       "      <td>...</td>\n",
       "      <td>...</td>\n",
       "      <td>...</td>\n",
       "    </tr>\n",
       "    <tr>\n",
       "      <th>9822</th>\n",
       "      <td>9823</td>\n",
       "      <td>2020-08-21T11:56:35.961115+00:00</td>\n",
       "      <td>None</td>\n",
       "      <td>POLYGON ((460637.334 96865.891, 460647.927 969...</td>\n",
       "      <td>6253989</td>\n",
       "      <td>1600</td>\n",
       "      <td>2019-03-08</td>\n",
       "    </tr>\n",
       "    <tr>\n",
       "      <th>9823</th>\n",
       "      <td>9824</td>\n",
       "      <td>2020-08-21T11:56:35.961115+00:00</td>\n",
       "      <td>None</td>\n",
       "      <td>POLYGON ((459467.868 96839.686, 459467.770 968...</td>\n",
       "      <td>6252044</td>\n",
       "      <td>1600</td>\n",
       "      <td>2019-03-26</td>\n",
       "    </tr>\n",
       "    <tr>\n",
       "      <th>9824</th>\n",
       "      <td>9825</td>\n",
       "      <td>2020-08-21T11:56:35.961115+00:00</td>\n",
       "      <td>None</td>\n",
       "      <td>POLYGON ((459488.998 94066.248, 459498.145 940...</td>\n",
       "      <td>6245985</td>\n",
       "      <td>2000</td>\n",
       "      <td>2019-04-08</td>\n",
       "    </tr>\n",
       "    <tr>\n",
       "      <th>9825</th>\n",
       "      <td>9826</td>\n",
       "      <td>2020-08-21T11:56:35.961115+00:00</td>\n",
       "      <td>None</td>\n",
       "      <td>POLYGON ((459676.680 94000.000, 459672.469 939...</td>\n",
       "      <td>6245986</td>\n",
       "      <td>2000</td>\n",
       "      <td>2019-02-20</td>\n",
       "    </tr>\n",
       "    <tr>\n",
       "      <th>9826</th>\n",
       "      <td>9827</td>\n",
       "      <td>2020-08-21T11:56:35.961115+00:00</td>\n",
       "      <td>None</td>\n",
       "      <td>POLYGON ((459690.580 94042.607, 459686.872 940...</td>\n",
       "      <td>6245987</td>\n",
       "      <td>2000</td>\n",
       "      <td>2019-03-11</td>\n",
       "    </tr>\n",
       "  </tbody>\n",
       "</table>\n",
       "<p>9827 rows × 7 columns</p>\n",
       "</div>"
      ],
      "text/plain": [
       "        id                        created_at modified_at  \\\n",
       "0        1  2020-08-21T11:56:35.961115+00:00        None   \n",
       "1        2  2020-08-21T11:56:35.961115+00:00        None   \n",
       "2        3  2020-08-21T11:56:35.961115+00:00        None   \n",
       "3        4  2020-08-21T11:56:35.961115+00:00        None   \n",
       "4        5  2020-08-21T11:56:35.961115+00:00        None   \n",
       "...    ...                               ...         ...   \n",
       "9822  9823  2020-08-21T11:56:35.961115+00:00        None   \n",
       "9823  9824  2020-08-21T11:56:35.961115+00:00        None   \n",
       "9824  9825  2020-08-21T11:56:35.961115+00:00        None   \n",
       "9825  9826  2020-08-21T11:56:35.961115+00:00        None   \n",
       "9826  9827  2020-08-21T11:56:35.961115+00:00        None   \n",
       "\n",
       "                                               geometry  raba_pid  raba_id  \\\n",
       "0     POLYGON ((453952.629 91124.177, 453952.696 911...   4770326     1410   \n",
       "1     POLYGON ((453810.376 91150.199, 453812.552 911...   4770325     1300   \n",
       "2     POLYGON ((456099.635 97696.070, 456112.810 976...   2305689     7000   \n",
       "3     POLYGON ((455929.405 97963.785, 455933.284 979...   2305596     1100   \n",
       "4     POLYGON ((461561.512 96119.256, 461632.114 960...   2310160     1100   \n",
       "...                                                 ...       ...      ...   \n",
       "9822  POLYGON ((460637.334 96865.891, 460647.927 969...   6253989     1600   \n",
       "9823  POLYGON ((459467.868 96839.686, 459467.770 968...   6252044     1600   \n",
       "9824  POLYGON ((459488.998 94066.248, 459498.145 940...   6245985     2000   \n",
       "9825  POLYGON ((459676.680 94000.000, 459672.469 939...   6245986     2000   \n",
       "9826  POLYGON ((459690.580 94042.607, 459686.872 940...   6245987     2000   \n",
       "\n",
       "            d_od  \n",
       "0     2019-03-26  \n",
       "1     2019-03-26  \n",
       "2     2019-02-25  \n",
       "3     2019-02-25  \n",
       "4     2019-03-11  \n",
       "...          ...  \n",
       "9822  2019-03-08  \n",
       "9823  2019-03-26  \n",
       "9824  2019-04-08  \n",
       "9825  2019-02-20  \n",
       "9826  2019-03-11  \n",
       "\n",
       "[9827 rows x 7 columns]"
      ]
     },
     "execution_count": 15,
     "metadata": {},
     "output_type": "execute_result"
    }
   ],
   "source": [
    "geodb.get_collection('land_use', database='geodb_admin')"
   ]
  },
  {
   "cell_type": "code",
   "execution_count": null,
   "metadata": {
    "papermill": {
     "duration": 0.025039,
     "end_time": "2020-08-31T12:31:41.820966",
     "exception": false,
     "start_time": "2020-08-31T12:31:41.795927",
     "status": "completed"
    },
    "tags": []
   },
   "outputs": [],
   "source": []
  }
 ],
 "metadata": {
  "kernelspec": {
   "display_name": "EDC 0.19.6 (Python3)",
   "language": "python",
   "name": "edc"
  },
  "language_info": {
   "codemirror_mode": {
    "name": "ipython",
    "version": 3
   },
   "file_extension": ".py",
   "mimetype": "text/x-python",
   "name": "python",
   "nbconvert_exporter": "python",
   "pygments_lexer": "ipython3",
   "version": "3.7.8"
  },
  "papermill": {
   "duration": 8.937829,
   "end_time": "2020-08-31T12:31:42.149568",
   "environment_variables": {},
   "exception": null,
   "input_path": "/tmp/tmpaqn_z872",
   "output_path": "/tmp/cur_notebook.ipynb",
   "parameters": {},
   "start_time": "2020-08-31T12:31:33.211739",
   "version": "2.1.2"
  },
  "properties": {
   "description": "Euro Data Cube GeoDB: Sharing Data",
   "id": "geodb-sharing",
   "license": null,
   "name": "GeoDB: Sharing Data",
   "requirements": [
    "eurodatacube-geodb"
   ],
   "tags": [
    "Getting started",
    "GeoDB"
   ],
   "version": "0.2"
  },
  "pycharm": {
   "stem_cell": {
    "cell_type": "raw",
    "metadata": {
     "collapsed": false
    },
    "source": []
   }
  }
 },
 "nbformat": 4,
 "nbformat_minor": 4
}