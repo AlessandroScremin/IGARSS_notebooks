{
 "cells": [
  {
   "cell_type": "code",
   "execution_count": 1,
   "metadata": {
    "execution": {
     "iopub.execute_input": "2020-09-29T12:38:08.158398Z",
     "iopub.status.busy": "2020-09-29T12:38:08.157800Z",
     "iopub.status.idle": "2020-09-29T12:38:08.260926Z",
     "shell.execute_reply": "2020-09-29T12:38:08.261329Z"
    },
    "papermill": {
     "duration": 0.115176,
     "end_time": "2020-09-29T12:38:08.261586",
     "exception": false,
     "start_time": "2020-09-29T12:38:08.146410",
     "status": "completed"
    },
    "tags": []
   },
   "outputs": [
    {
     "data": {
      "text/markdown": [
       "\n",
       "***Notebook Title***  \n",
       "GeoDB: Sharing Data\n",
       "\n",
       "***Notebook Description***  \n",
       "Euro Data Cube GeoDB: Sharing Data\n",
       "\n",
       "\n",
       "***Notebook Dependencies***  \n",
       "This notebook requires an active subscription to:\n",
       "* EDC GeoDB\n"
      ],
      "text/plain": [
       "<IPython.core.display.Markdown object>"
      ]
     },
     "metadata": {},
     "output_type": "display_data"
    }
   ],
   "source": [
    "from edc import print_info\n",
    "print_info(\"geodb-sharing\")"
   ]
  },
  {
   "cell_type": "code",
   "execution_count": 2,
   "metadata": {
    "execution": {
     "iopub.execute_input": "2020-09-29T12:38:08.281400Z",
     "iopub.status.busy": "2020-09-29T12:38:08.280782Z",
     "iopub.status.idle": "2020-09-29T12:38:08.284984Z",
     "shell.execute_reply": "2020-09-29T12:38:08.284395Z"
    },
    "papermill": {
     "duration": 0.014973,
     "end_time": "2020-09-29T12:38:08.285105",
     "exception": false,
     "start_time": "2020-09-29T12:38:08.270132",
     "status": "completed"
    },
    "tags": []
   },
   "outputs": [
    {
     "data": {
      "text/markdown": [
       "API credentials have automatically been injected for your active subscriptions.  \n",
       "The following environment variables are now available:\n",
       "* `GEODB_API_SERVER_PORT`, `GEODB_API_SERVER_URL`, `GEODB_AUTH_AUD`, `GEODB_AUTH_CLIENT_ID`, `GEODB_AUTH_CLIENT_SECRET`, `GEODB_AUTH_DOMAIN`\n",
       "\n",
       "The following additional environment variables have been loaded from `~/custom.env`:\n",
       "* `AWS_BUCKET`\n",
       "* `DAPA_URL`\n",
       "* `DB_HOST`, `DB_NAME`, `DB_PASSWORD`, `DB_USER`\n",
       "* `OGC_EDC_URL`\n",
       "* `REFERENCE_DATA`\n"
      ],
      "text/plain": [
       "<IPython.core.display.Markdown object>"
      ]
     },
     "metadata": {},
     "output_type": "display_data"
    }
   ],
   "source": [
    "from edc import setup_environment_variables\n",
    "setup_environment_variables()"
   ]
  },
  {
   "cell_type": "code",
   "execution_count": 3,
   "metadata": {
    "execution": {
     "iopub.execute_input": "2020-09-29T12:38:08.306427Z",
     "iopub.status.busy": "2020-09-29T12:38:08.305776Z",
     "iopub.status.idle": "2020-09-29T12:38:08.309132Z",
     "shell.execute_reply": "2020-09-29T12:38:08.309524Z"
    },
    "papermill": {
     "duration": 0.015868,
     "end_time": "2020-09-29T12:38:08.309654",
     "exception": false,
     "start_time": "2020-09-29T12:38:08.293786",
     "status": "completed"
    },
    "tags": []
   },
   "outputs": [
    {
     "data": {
      "text/html": [
       "<script type=\"text/javascript\">\n",
       "        function toggle(id) {\n",
       "            el = document.getElementById(id);\n",
       "            el.style.display = el.style.display === \"none\" ? \"block\" : \"none\";\n",
       "        }\n",
       "    </script>"
      ],
      "text/plain": [
       "<IPython.core.display.HTML object>"
      ]
     },
     "metadata": {},
     "output_type": "display_data"
    },
    {
     "data": {
      "text/html": [
       "This notebook is compatible with this base image version (user-0.21.2)."
      ],
      "text/plain": [
       "<IPython.core.display.HTML object>"
      ]
     },
     "metadata": {},
     "output_type": "display_data"
    }
   ],
   "source": [
    "from edc import check_compatibility\n",
    "check_compatibility(\"user-0.21.2\")"
   ]
  },
  {
   "cell_type": "markdown",
   "metadata": {
    "papermill": {
     "duration": 0.008795,
     "end_time": "2020-09-29T12:38:08.327810",
     "exception": false,
     "start_time": "2020-09-29T12:38:08.319015",
     "status": "completed"
    },
    "tags": []
   },
   "source": [
    "## Sharing Data"
   ]
  },
  {
   "cell_type": "code",
   "execution_count": 4,
   "metadata": {
    "execution": {
     "iopub.execute_input": "2020-09-29T12:38:08.349640Z",
     "iopub.status.busy": "2020-09-29T12:38:08.349025Z",
     "iopub.status.idle": "2020-09-29T12:38:08.872566Z",
     "shell.execute_reply": "2020-09-29T12:38:08.873055Z"
    },
    "papermill": {
     "duration": 0.53637,
     "end_time": "2020-09-29T12:38:08.873205",
     "exception": false,
     "start_time": "2020-09-29T12:38:08.336835",
     "status": "completed"
    },
    "tags": []
   },
   "outputs": [],
   "source": [
    "from xcube_geodb.core.geodb import GeoDBClient"
   ]
  },
  {
   "cell_type": "code",
   "execution_count": 5,
   "metadata": {
    "execution": {
     "iopub.execute_input": "2020-09-29T12:38:08.898266Z",
     "iopub.status.busy": "2020-09-29T12:38:08.895261Z",
     "iopub.status.idle": "2020-09-29T12:38:09.169733Z",
     "shell.execute_reply": "2020-09-29T12:38:09.169243Z"
    },
    "papermill": {
     "duration": 0.286933,
     "end_time": "2020-09-29T12:38:09.169848",
     "exception": false,
     "start_time": "2020-09-29T12:38:08.882915",
     "status": "completed"
    },
    "tags": []
   },
   "outputs": [
    {
     "data": {
      "text/plain": [
       "'geodb_418dfeac-15f0-4606-9edb-fd9eb722bf04'"
      ]
     },
     "execution_count": 5,
     "metadata": {},
     "output_type": "execute_result"
    }
   ],
   "source": [
    "geodb = GeoDBClient()\n",
    "geodb.whoami"
   ]
  },
  {
   "cell_type": "code",
   "execution_count": 6,
   "metadata": {
    "execution": {
     "iopub.execute_input": "2020-09-29T12:38:09.194127Z",
     "iopub.status.busy": "2020-09-29T12:38:09.191895Z",
     "iopub.status.idle": "2020-09-29T12:38:09.510445Z",
     "shell.execute_reply": "2020-09-29T12:38:09.509822Z"
    },
    "papermill": {
     "duration": 0.331626,
     "end_time": "2020-09-29T12:38:09.510575",
     "exception": false,
     "start_time": "2020-09-29T12:38:09.178949",
     "status": "completed"
    },
    "tags": []
   },
   "outputs": [],
   "source": [
    "ds = geodb.get_my_collections()\n",
    "\n",
    "if ds[(ds.database == geodb.whoami) & (ds.table_name == 'land_use')].table_name.count() == 0:\n",
    "    # Have a look at fiona feature schema\n",
    "    collections = {\n",
    "            \"land_use\": \n",
    "            {\n",
    "                \"crs\": 3794,\n",
    "                \"properties\": \n",
    "                {\n",
    "                    \"RABA_PID\": \"float\", \n",
    "                    \"RABA_ID\": \"float\", \n",
    "                    \"D_OD\": \"date\"\n",
    "                }\n",
    "            }\n",
    "        }\n",
    "\n",
    "\n",
    "    geodb.create_collections(collections)\n",
    "    import geopandas\n",
    "    import os\n",
    "    gdf = geopandas.read_file(os.path.expanduser(\"~/.shared/notebooks/getting-started/data/sample/land_use.shp\"))\n",
    "    geodb.insert_into_collection('land_use', gdf)"
   ]
  },
  {
   "cell_type": "markdown",
   "metadata": {
    "papermill": {
     "duration": 0.009107,
     "end_time": "2020-09-29T12:38:09.528828",
     "exception": false,
     "start_time": "2020-09-29T12:38:09.519721",
     "status": "completed"
    },
    "tags": []
   },
   "source": [
    "### Publish a Collection to the World"
   ]
  },
  {
   "cell_type": "code",
   "execution_count": 7,
   "metadata": {
    "execution": {
     "iopub.execute_input": "2020-09-29T12:38:09.552497Z",
     "iopub.status.busy": "2020-09-29T12:38:09.549980Z",
     "iopub.status.idle": "2020-09-29T12:38:09.687850Z",
     "shell.execute_reply": "2020-09-29T12:38:09.687289Z"
    },
    "papermill": {
     "duration": 0.150126,
     "end_time": "2020-09-29T12:38:09.687966",
     "exception": false,
     "start_time": "2020-09-29T12:38:09.537840",
     "status": "completed"
    },
    "tags": []
   },
   "outputs": [
    {
     "data": {
      "text/html": [
       "<div>\n",
       "<style scoped>\n",
       "    .dataframe tbody tr th:only-of-type {\n",
       "        vertical-align: middle;\n",
       "    }\n",
       "\n",
       "    .dataframe tbody tr th {\n",
       "        vertical-align: top;\n",
       "    }\n",
       "\n",
       "    .dataframe thead th {\n",
       "        text-align: right;\n",
       "    }\n",
       "</style>\n",
       "<table border=\"1\" class=\"dataframe\">\n",
       "  <thead>\n",
       "    <tr style=\"text-align: right;\">\n",
       "      <th></th>\n",
       "      <th>database</th>\n",
       "      <th>table_name</th>\n",
       "      <th>grantee</th>\n",
       "      <th>privileges</th>\n",
       "    </tr>\n",
       "  </thead>\n",
       "  <tbody>\n",
       "    <tr>\n",
       "      <th>0</th>\n",
       "      <td>geodb_418dfeac-15f0-4606-9edb-fd9eb722bf04</td>\n",
       "      <td>land_use</td>\n",
       "      <td>PUBLIC</td>\n",
       "      <td>SELECT</td>\n",
       "    </tr>\n",
       "  </tbody>\n",
       "</table>\n",
       "</div>"
      ],
      "text/plain": [
       "                                     database table_name grantee privileges\n",
       "0  geodb_418dfeac-15f0-4606-9edb-fd9eb722bf04   land_use  PUBLIC     SELECT"
      ]
     },
     "execution_count": 7,
     "metadata": {},
     "output_type": "execute_result"
    }
   ],
   "source": [
    "geodb.list_my_grants()"
   ]
  },
  {
   "cell_type": "code",
   "execution_count": 8,
   "metadata": {
    "execution": {
     "iopub.execute_input": "2020-09-29T12:38:09.712247Z",
     "iopub.status.busy": "2020-09-29T12:38:09.711683Z",
     "iopub.status.idle": "2020-09-29T12:38:10.028315Z",
     "shell.execute_reply": "2020-09-29T12:38:10.027493Z"
    },
    "papermill": {
     "duration": 0.330953,
     "end_time": "2020-09-29T12:38:10.028440",
     "exception": false,
     "start_time": "2020-09-29T12:38:09.697487",
     "status": "completed"
    },
    "tags": []
   },
   "outputs": [
    {
     "data": {
      "text/plain": [
       "Access granted on land_use to public."
      ]
     },
     "execution_count": 8,
     "metadata": {},
     "output_type": "execute_result"
    }
   ],
   "source": [
    "geodb.publish_collection(\"land_use\")"
   ]
  },
  {
   "cell_type": "markdown",
   "metadata": {
    "papermill": {
     "duration": 0.009593,
     "end_time": "2020-09-29T12:38:10.048140",
     "exception": false,
     "start_time": "2020-09-29T12:38:10.038547",
     "status": "completed"
    },
    "tags": []
   },
   "source": [
    "### Accessing Collection as a different User\n",
    "\n",
    "Please be aware that you cannot change the user easily within a Notebook. Here, we changed the credentials in the background. The following cells will not run and are for demonstration only."
   ]
  },
  {
   "cell_type": "code",
   "execution_count": 9,
   "metadata": {
    "execution": {
     "iopub.execute_input": "2020-09-29T12:38:10.074528Z",
     "iopub.status.busy": "2020-09-29T12:38:10.073785Z",
     "iopub.status.idle": "2020-09-29T12:38:10.261883Z",
     "shell.execute_reply": "2020-09-29T12:38:10.261286Z"
    },
    "papermill": {
     "duration": 0.203608,
     "end_time": "2020-09-29T12:38:10.262018",
     "exception": false,
     "start_time": "2020-09-29T12:38:10.058410",
     "status": "completed"
    },
    "tags": []
   },
   "outputs": [
    {
     "data": {
      "text/plain": [
       "'geodb_418dfeac-15f0-4606-9edb-fd9eb722bf04'"
      ]
     },
     "execution_count": 9,
     "metadata": {},
     "output_type": "execute_result"
    }
   ],
   "source": [
    "geodb = GeoDBClient()\n",
    "geodb.whoami"
   ]
  },
  {
   "cell_type": "code",
   "execution_count": 10,
   "metadata": {
    "execution": {
     "iopub.execute_input": "2020-09-29T12:38:10.287575Z",
     "iopub.status.busy": "2020-09-29T12:38:10.287010Z",
     "iopub.status.idle": "2020-09-29T12:38:12.884433Z",
     "shell.execute_reply": "2020-09-29T12:38:12.883927Z"
    },
    "papermill": {
     "duration": 2.612623,
     "end_time": "2020-09-29T12:38:12.884562",
     "exception": false,
     "start_time": "2020-09-29T12:38:10.271939",
     "status": "completed"
    },
    "tags": []
   },
   "outputs": [
    {
     "data": {
      "text/html": [
       "<div>\n",
       "<style scoped>\n",
       "    .dataframe tbody tr th:only-of-type {\n",
       "        vertical-align: middle;\n",
       "    }\n",
       "\n",
       "    .dataframe tbody tr th {\n",
       "        vertical-align: top;\n",
       "    }\n",
       "\n",
       "    .dataframe thead th {\n",
       "        text-align: right;\n",
       "    }\n",
       "</style>\n",
       "<table border=\"1\" class=\"dataframe\">\n",
       "  <thead>\n",
       "    <tr style=\"text-align: right;\">\n",
       "      <th></th>\n",
       "      <th>id</th>\n",
       "      <th>created_at</th>\n",
       "      <th>modified_at</th>\n",
       "      <th>geometry</th>\n",
       "      <th>raba_pid</th>\n",
       "      <th>raba_id</th>\n",
       "      <th>d_od</th>\n",
       "    </tr>\n",
       "  </thead>\n",
       "  <tbody>\n",
       "    <tr>\n",
       "      <th>0</th>\n",
       "      <td>1</td>\n",
       "      <td>2020-09-25T08:53:24.471636+00:00</td>\n",
       "      <td>None</td>\n",
       "      <td>POLYGON ((453952.629 91124.177, 453952.696 911...</td>\n",
       "      <td>4770326</td>\n",
       "      <td>1410</td>\n",
       "      <td>2019-03-26</td>\n",
       "    </tr>\n",
       "    <tr>\n",
       "      <th>1</th>\n",
       "      <td>2</td>\n",
       "      <td>2020-09-25T08:53:24.471636+00:00</td>\n",
       "      <td>None</td>\n",
       "      <td>POLYGON ((453810.376 91150.199, 453812.552 911...</td>\n",
       "      <td>4770325</td>\n",
       "      <td>1300</td>\n",
       "      <td>2019-03-26</td>\n",
       "    </tr>\n",
       "    <tr>\n",
       "      <th>2</th>\n",
       "      <td>3</td>\n",
       "      <td>2020-09-25T08:53:24.471636+00:00</td>\n",
       "      <td>None</td>\n",
       "      <td>POLYGON ((456099.635 97696.070, 456112.810 976...</td>\n",
       "      <td>2305689</td>\n",
       "      <td>7000</td>\n",
       "      <td>2019-02-25</td>\n",
       "    </tr>\n",
       "    <tr>\n",
       "      <th>3</th>\n",
       "      <td>4</td>\n",
       "      <td>2020-09-25T08:53:24.471636+00:00</td>\n",
       "      <td>None</td>\n",
       "      <td>POLYGON ((455929.405 97963.785, 455933.284 979...</td>\n",
       "      <td>2305596</td>\n",
       "      <td>1100</td>\n",
       "      <td>2019-02-25</td>\n",
       "    </tr>\n",
       "    <tr>\n",
       "      <th>4</th>\n",
       "      <td>5</td>\n",
       "      <td>2020-09-25T08:53:24.471636+00:00</td>\n",
       "      <td>None</td>\n",
       "      <td>POLYGON ((461561.512 96119.256, 461632.114 960...</td>\n",
       "      <td>2310160</td>\n",
       "      <td>1100</td>\n",
       "      <td>2019-03-11</td>\n",
       "    </tr>\n",
       "    <tr>\n",
       "      <th>...</th>\n",
       "      <td>...</td>\n",
       "      <td>...</td>\n",
       "      <td>...</td>\n",
       "      <td>...</td>\n",
       "      <td>...</td>\n",
       "      <td>...</td>\n",
       "      <td>...</td>\n",
       "    </tr>\n",
       "    <tr>\n",
       "      <th>19649</th>\n",
       "      <td>19650</td>\n",
       "      <td>2020-09-29T08:59:47.435084+00:00</td>\n",
       "      <td>None</td>\n",
       "      <td>POLYGON ((460637.334 96865.891, 460647.927 969...</td>\n",
       "      <td>6253989</td>\n",
       "      <td>1600</td>\n",
       "      <td>2019-03-08</td>\n",
       "    </tr>\n",
       "    <tr>\n",
       "      <th>19650</th>\n",
       "      <td>19651</td>\n",
       "      <td>2020-09-29T08:59:47.435084+00:00</td>\n",
       "      <td>None</td>\n",
       "      <td>POLYGON ((459467.868 96839.686, 459467.770 968...</td>\n",
       "      <td>6252044</td>\n",
       "      <td>1600</td>\n",
       "      <td>2019-03-26</td>\n",
       "    </tr>\n",
       "    <tr>\n",
       "      <th>19651</th>\n",
       "      <td>19652</td>\n",
       "      <td>2020-09-29T08:59:47.435084+00:00</td>\n",
       "      <td>None</td>\n",
       "      <td>POLYGON ((459488.998 94066.248, 459498.145 940...</td>\n",
       "      <td>6245985</td>\n",
       "      <td>2000</td>\n",
       "      <td>2019-04-08</td>\n",
       "    </tr>\n",
       "    <tr>\n",
       "      <th>19652</th>\n",
       "      <td>19653</td>\n",
       "      <td>2020-09-29T08:59:47.435084+00:00</td>\n",
       "      <td>None</td>\n",
       "      <td>POLYGON ((459676.680 94000.000, 459672.469 939...</td>\n",
       "      <td>6245986</td>\n",
       "      <td>2000</td>\n",
       "      <td>2019-02-20</td>\n",
       "    </tr>\n",
       "    <tr>\n",
       "      <th>19653</th>\n",
       "      <td>19654</td>\n",
       "      <td>2020-09-29T08:59:47.435084+00:00</td>\n",
       "      <td>None</td>\n",
       "      <td>POLYGON ((459690.580 94042.607, 459686.872 940...</td>\n",
       "      <td>6245987</td>\n",
       "      <td>2000</td>\n",
       "      <td>2019-03-11</td>\n",
       "    </tr>\n",
       "  </tbody>\n",
       "</table>\n",
       "<p>19654 rows × 7 columns</p>\n",
       "</div>"
      ],
      "text/plain": [
       "          id                        created_at modified_at  \\\n",
       "0          1  2020-09-25T08:53:24.471636+00:00        None   \n",
       "1          2  2020-09-25T08:53:24.471636+00:00        None   \n",
       "2          3  2020-09-25T08:53:24.471636+00:00        None   \n",
       "3          4  2020-09-25T08:53:24.471636+00:00        None   \n",
       "4          5  2020-09-25T08:53:24.471636+00:00        None   \n",
       "...      ...                               ...         ...   \n",
       "19649  19650  2020-09-29T08:59:47.435084+00:00        None   \n",
       "19650  19651  2020-09-29T08:59:47.435084+00:00        None   \n",
       "19651  19652  2020-09-29T08:59:47.435084+00:00        None   \n",
       "19652  19653  2020-09-29T08:59:47.435084+00:00        None   \n",
       "19653  19654  2020-09-29T08:59:47.435084+00:00        None   \n",
       "\n",
       "                                                geometry  raba_pid  raba_id  \\\n",
       "0      POLYGON ((453952.629 91124.177, 453952.696 911...   4770326     1410   \n",
       "1      POLYGON ((453810.376 91150.199, 453812.552 911...   4770325     1300   \n",
       "2      POLYGON ((456099.635 97696.070, 456112.810 976...   2305689     7000   \n",
       "3      POLYGON ((455929.405 97963.785, 455933.284 979...   2305596     1100   \n",
       "4      POLYGON ((461561.512 96119.256, 461632.114 960...   2310160     1100   \n",
       "...                                                  ...       ...      ...   \n",
       "19649  POLYGON ((460637.334 96865.891, 460647.927 969...   6253989     1600   \n",
       "19650  POLYGON ((459467.868 96839.686, 459467.770 968...   6252044     1600   \n",
       "19651  POLYGON ((459488.998 94066.248, 459498.145 940...   6245985     2000   \n",
       "19652  POLYGON ((459676.680 94000.000, 459672.469 939...   6245986     2000   \n",
       "19653  POLYGON ((459690.580 94042.607, 459686.872 940...   6245987     2000   \n",
       "\n",
       "             d_od  \n",
       "0      2019-03-26  \n",
       "1      2019-03-26  \n",
       "2      2019-02-25  \n",
       "3      2019-02-25  \n",
       "4      2019-03-11  \n",
       "...           ...  \n",
       "19649  2019-03-08  \n",
       "19650  2019-03-26  \n",
       "19651  2019-04-08  \n",
       "19652  2019-02-20  \n",
       "19653  2019-03-11  \n",
       "\n",
       "[19654 rows x 7 columns]"
      ]
     },
     "execution_count": 10,
     "metadata": {},
     "output_type": "execute_result"
    }
   ],
   "source": [
    "geodb.get_collection('land_use', database='geodb_admin')"
   ]
  },
  {
   "cell_type": "markdown",
   "metadata": {
    "papermill": {
     "duration": 0.010048,
     "end_time": "2020-09-29T12:38:12.904958",
     "exception": false,
     "start_time": "2020-09-29T12:38:12.894910",
     "status": "completed"
    },
    "tags": []
   },
   "source": [
    "### Revoke access"
   ]
  },
  {
   "cell_type": "code",
   "execution_count": 11,
   "metadata": {
    "execution": {
     "iopub.execute_input": "2020-09-29T12:38:12.930142Z",
     "iopub.status.busy": "2020-09-29T12:38:12.929569Z",
     "iopub.status.idle": "2020-09-29T12:38:13.050663Z",
     "shell.execute_reply": "2020-09-29T12:38:13.050146Z"
    },
    "papermill": {
     "duration": 0.13589,
     "end_time": "2020-09-29T12:38:13.050795",
     "exception": false,
     "start_time": "2020-09-29T12:38:12.914905",
     "status": "completed"
    },
    "tags": []
   },
   "outputs": [
    {
     "data": {
      "text/html": [
       "<div>\n",
       "<style scoped>\n",
       "    .dataframe tbody tr th:only-of-type {\n",
       "        vertical-align: middle;\n",
       "    }\n",
       "\n",
       "    .dataframe tbody tr th {\n",
       "        vertical-align: top;\n",
       "    }\n",
       "\n",
       "    .dataframe thead th {\n",
       "        text-align: right;\n",
       "    }\n",
       "</style>\n",
       "<table border=\"1\" class=\"dataframe\">\n",
       "  <thead>\n",
       "    <tr style=\"text-align: right;\">\n",
       "      <th></th>\n",
       "      <th>database</th>\n",
       "      <th>table_name</th>\n",
       "      <th>grantee</th>\n",
       "      <th>privileges</th>\n",
       "    </tr>\n",
       "  </thead>\n",
       "  <tbody>\n",
       "    <tr>\n",
       "      <th>0</th>\n",
       "      <td>geodb_418dfeac-15f0-4606-9edb-fd9eb722bf04</td>\n",
       "      <td>land_use</td>\n",
       "      <td>PUBLIC</td>\n",
       "      <td>SELECT</td>\n",
       "    </tr>\n",
       "  </tbody>\n",
       "</table>\n",
       "</div>"
      ],
      "text/plain": [
       "                                     database table_name grantee privileges\n",
       "0  geodb_418dfeac-15f0-4606-9edb-fd9eb722bf04   land_use  PUBLIC     SELECT"
      ]
     },
     "execution_count": 11,
     "metadata": {},
     "output_type": "execute_result"
    }
   ],
   "source": [
    "geodb.list_my_grants()"
   ]
  },
  {
   "cell_type": "code",
   "execution_count": 12,
   "metadata": {
    "execution": {
     "iopub.execute_input": "2020-09-29T12:38:13.077177Z",
     "iopub.status.busy": "2020-09-29T12:38:13.076589Z",
     "iopub.status.idle": "2020-09-29T12:38:13.725654Z",
     "shell.execute_reply": "2020-09-29T12:38:13.725151Z"
    },
    "papermill": {
     "duration": 0.664528,
     "end_time": "2020-09-29T12:38:13.725782",
     "exception": false,
     "start_time": "2020-09-29T12:38:13.061254",
     "status": "completed"
    },
    "tags": []
   },
   "outputs": [
    {
     "data": {
      "text/plain": [
       "Error: {\"hint\":null,\"details\":null,\"code\":\"42P01\",\"message\":\"relation \\\"\\\"geodb_418dfeac-15f0-4606-9edb-fd9eb722bf04_land_use_id_seq\\\"\\\" does not exist\"}"
      ]
     },
     "execution_count": 12,
     "metadata": {},
     "output_type": "execute_result"
    }
   ],
   "source": [
    "geodb.unpublish_collection(\"land_use\")"
   ]
  },
  {
   "cell_type": "code",
   "execution_count": 13,
   "metadata": {
    "execution": {
     "iopub.execute_input": "2020-09-29T12:38:13.752625Z",
     "iopub.status.busy": "2020-09-29T12:38:13.750543Z",
     "iopub.status.idle": "2020-09-29T12:38:13.866026Z",
     "shell.execute_reply": "2020-09-29T12:38:13.865273Z"
    },
    "papermill": {
     "duration": 0.129641,
     "end_time": "2020-09-29T12:38:13.866161",
     "exception": false,
     "start_time": "2020-09-29T12:38:13.736520",
     "status": "completed"
    },
    "tags": []
   },
   "outputs": [
    {
     "data": {
      "text/html": [
       "<div>\n",
       "<style scoped>\n",
       "    .dataframe tbody tr th:only-of-type {\n",
       "        vertical-align: middle;\n",
       "    }\n",
       "\n",
       "    .dataframe tbody tr th {\n",
       "        vertical-align: top;\n",
       "    }\n",
       "\n",
       "    .dataframe thead th {\n",
       "        text-align: right;\n",
       "    }\n",
       "</style>\n",
       "<table border=\"1\" class=\"dataframe\">\n",
       "  <thead>\n",
       "    <tr style=\"text-align: right;\">\n",
       "      <th></th>\n",
       "      <th>database</th>\n",
       "      <th>table_name</th>\n",
       "      <th>grantee</th>\n",
       "      <th>privileges</th>\n",
       "    </tr>\n",
       "  </thead>\n",
       "  <tbody>\n",
       "    <tr>\n",
       "      <th>0</th>\n",
       "      <td>geodb_418dfeac-15f0-4606-9edb-fd9eb722bf04</td>\n",
       "      <td>land_use</td>\n",
       "      <td>PUBLIC</td>\n",
       "      <td>SELECT</td>\n",
       "    </tr>\n",
       "  </tbody>\n",
       "</table>\n",
       "</div>"
      ],
      "text/plain": [
       "                                     database table_name grantee privileges\n",
       "0  geodb_418dfeac-15f0-4606-9edb-fd9eb722bf04   land_use  PUBLIC     SELECT"
      ]
     },
     "execution_count": 13,
     "metadata": {},
     "output_type": "execute_result"
    }
   ],
   "source": [
    "geodb.list_my_grants()"
   ]
  },
  {
   "cell_type": "code",
   "execution_count": 14,
   "metadata": {
    "execution": {
     "iopub.execute_input": "2020-09-29T12:38:13.892963Z",
     "iopub.status.busy": "2020-09-29T12:38:13.892366Z",
     "iopub.status.idle": "2020-09-29T12:38:14.862868Z",
     "shell.execute_reply": "2020-09-29T12:38:14.862222Z"
    },
    "papermill": {
     "duration": 0.985691,
     "end_time": "2020-09-29T12:38:14.862988",
     "exception": false,
     "start_time": "2020-09-29T12:38:13.877297",
     "status": "completed"
    },
    "tags": []
   },
   "outputs": [
    {
     "data": {
      "text/html": [
       "<div>\n",
       "<style scoped>\n",
       "    .dataframe tbody tr th:only-of-type {\n",
       "        vertical-align: middle;\n",
       "    }\n",
       "\n",
       "    .dataframe tbody tr th {\n",
       "        vertical-align: top;\n",
       "    }\n",
       "\n",
       "    .dataframe thead th {\n",
       "        text-align: right;\n",
       "    }\n",
       "</style>\n",
       "<table border=\"1\" class=\"dataframe\">\n",
       "  <thead>\n",
       "    <tr style=\"text-align: right;\">\n",
       "      <th></th>\n",
       "      <th>id</th>\n",
       "      <th>created_at</th>\n",
       "      <th>modified_at</th>\n",
       "      <th>geometry</th>\n",
       "      <th>raba_pid</th>\n",
       "      <th>raba_id</th>\n",
       "      <th>d_od</th>\n",
       "    </tr>\n",
       "  </thead>\n",
       "  <tbody>\n",
       "    <tr>\n",
       "      <th>0</th>\n",
       "      <td>11</td>\n",
       "      <td>2020-09-25T08:53:24.471636+00:00</td>\n",
       "      <td>None</td>\n",
       "      <td>POLYGON ((460137.998 95628.898, 460111.001 956...</td>\n",
       "      <td>5983161</td>\n",
       "      <td>1100</td>\n",
       "      <td>2019-03-11</td>\n",
       "    </tr>\n",
       "    <tr>\n",
       "      <th>1</th>\n",
       "      <td>12</td>\n",
       "      <td>2020-09-25T08:53:24.471636+00:00</td>\n",
       "      <td>None</td>\n",
       "      <td>POLYGON ((453673.609 91328.224, 453678.929 913...</td>\n",
       "      <td>5983074</td>\n",
       "      <td>1600</td>\n",
       "      <td>2019-03-26</td>\n",
       "    </tr>\n",
       "  </tbody>\n",
       "</table>\n",
       "</div>"
      ],
      "text/plain": [
       "   id                        created_at modified_at  \\\n",
       "0  11  2020-09-25T08:53:24.471636+00:00        None   \n",
       "1  12  2020-09-25T08:53:24.471636+00:00        None   \n",
       "\n",
       "                                            geometry  raba_pid  raba_id  \\\n",
       "0  POLYGON ((460137.998 95628.898, 460111.001 956...   5983161     1100   \n",
       "1  POLYGON ((453673.609 91328.224, 453678.929 913...   5983074     1600   \n",
       "\n",
       "         d_od  \n",
       "0  2019-03-11  \n",
       "1  2019-03-26  "
      ]
     },
     "execution_count": 14,
     "metadata": {},
     "output_type": "execute_result"
    }
   ],
   "source": [
    "gdf = geodb.get_collection_by_bbox(collection=\"land_use\", database=\"geodb_admin\", bbox=(452750.0, 88909.549, 464000.0, 102486.299),\n",
    "                comparison_mode=\"contains\", bbox_crs=3794, limit=2, offset=10)\n",
    "gdf"
   ]
  },
  {
   "cell_type": "code",
   "execution_count": null,
   "metadata": {
    "papermill": {
     "duration": 0.011995,
     "end_time": "2020-09-29T12:38:14.886329",
     "exception": false,
     "start_time": "2020-09-29T12:38:14.874334",
     "status": "completed"
    },
    "tags": []
   },
   "outputs": [],
   "source": []
  }
 ],
 "metadata": {
  "kernelspec": {
   "display_name": "EDC 0.21.0 (Python3)",
   "language": "python",
   "name": "edc"
  },
  "language_info": {
   "codemirror_mode": {
    "name": "ipython",
    "version": 3
   },
   "file_extension": ".py",
   "mimetype": "text/x-python",
   "name": "python",
   "nbconvert_exporter": "python",
   "pygments_lexer": "ipython3",
   "version": "3.7.8"
  },
  "papermill": {
   "duration": 7.662415,
   "end_time": "2020-09-29T12:38:15.203291",
   "environment_variables": {},
   "exception": null,
   "input_path": "/tmp/tmpmb6lim2q",
   "output_path": "/tmp/cur_notebook.ipynb",
   "parameters": {},
   "start_time": "2020-09-29T12:38:07.540876",
   "version": "2.1.2"
  },
  "properties": {
   "description": "Euro Data Cube GeoDB: Sharing Data",
   "id": "geodb-sharing",
   "license": null,
   "name": "GeoDB: Sharing Data",
   "requirements": [
    "eurodatacube-geodb"
   ],
   "tags": [
    "Getting started",
    "GeoDB"
   ],
   "version": "0.2"
  },
  "pycharm": {
   "stem_cell": {
    "cell_type": "raw",
    "metadata": {
     "collapsed": false
    },
    "source": []
   }
  }
 },
 "nbformat": 4,
 "nbformat_minor": 4
}