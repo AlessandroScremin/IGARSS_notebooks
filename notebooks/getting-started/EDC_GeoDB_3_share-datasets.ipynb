{
 "cells": [
  {
   "cell_type": "code",
   "execution_count": 1,
   "metadata": {
    "execution": {
     "iopub.execute_input": "2020-05-26T10:41:54.437811Z",
     "iopub.status.busy": "2020-05-26T10:41:54.436740Z",
     "iopub.status.idle": "2020-05-26T10:41:54.621555Z",
     "shell.execute_reply": "2020-05-26T10:41:54.622099Z"
    },
    "papermill": {
     "duration": 0.201977,
     "end_time": "2020-05-26T10:41:54.622265",
     "exception": false,
     "start_time": "2020-05-26T10:41:54.420288",
     "status": "completed"
    },
    "tags": []
   },
   "outputs": [
    {
     "data": {
      "text/markdown": [
       "\n",
       "***Notebook Title***  \n",
       "GeoDB: Sharing Data\n",
       "\n",
       "***Notebook Description***  \n",
       "Euro Data Cube GeoDB: Sharing Data\n",
       "\n",
       "\n",
       "***Notebook Dependencies***  \n",
       "This notebook requires an active subscription to:\n",
       "* EDC GeoDB\n"
      ],
      "text/plain": [
       "<IPython.core.display.Markdown object>"
      ]
     },
     "metadata": {},
     "output_type": "display_data"
    }
   ],
   "source": [
    "from edc import print_info\n",
    "print_info(\"geodb-sharing\")"
   ]
  },
  {
   "cell_type": "code",
   "execution_count": 2,
   "metadata": {
    "execution": {
     "iopub.execute_input": "2020-05-26T10:41:54.649032Z",
     "iopub.status.busy": "2020-05-26T10:41:54.648008Z",
     "iopub.status.idle": "2020-05-26T10:41:54.652913Z",
     "shell.execute_reply": "2020-05-26T10:41:54.653397Z"
    },
    "papermill": {
     "duration": 0.019854,
     "end_time": "2020-05-26T10:41:54.653536",
     "exception": false,
     "start_time": "2020-05-26T10:41:54.633682",
     "status": "completed"
    },
    "tags": []
   },
   "outputs": [
    {
     "data": {
      "text/markdown": [
       "API credentials have automatically been injected for your active subscriptions.  \n",
       "The following environment variables are now available:\n",
       "* `GEODB_API_SERVER_URL`\n",
       "* `GEODB_AUTH_CLIENT_ID`\n",
       "* `GEODB_AUTH_AUD`\n",
       "* `GEODB_AUTH_CLIENT_SECRET`\n",
       "* `GEODB_API_SERVER_PORT`\n",
       "* `GEODB_AUTH_DOMAIN`\n",
       "\n",
       "------\n"
      ],
      "text/plain": [
       "<IPython.core.display.Markdown object>"
      ]
     },
     "metadata": {},
     "output_type": "display_data"
    }
   ],
   "source": [
    "from edc import setup_environment_variables\n",
    "setup_environment_variables()"
   ]
  },
  {
   "cell_type": "code",
   "execution_count": 3,
   "metadata": {
    "execution": {
     "iopub.execute_input": "2020-05-26T10:41:54.683673Z",
     "iopub.status.busy": "2020-05-26T10:41:54.682628Z",
     "iopub.status.idle": "2020-05-26T10:41:54.685776Z",
     "shell.execute_reply": "2020-05-26T10:41:54.686318Z"
    },
    "papermill": {
     "duration": 0.020408,
     "end_time": "2020-05-26T10:41:54.686477",
     "exception": false,
     "start_time": "2020-05-26T10:41:54.666069",
     "status": "completed"
    },
    "tags": []
   },
   "outputs": [
    {
     "name": "stdout",
     "output_type": "stream",
     "text": [
      "Notebook is compatible\n"
     ]
    }
   ],
   "source": [
    "from edc import check_compatibility\n",
    "check_compatibility(\"v0.18.4\")"
   ]
  },
  {
   "cell_type": "markdown",
   "metadata": {
    "papermill": {
     "duration": 0.011443,
     "end_time": "2020-05-26T10:41:54.710677",
     "exception": false,
     "start_time": "2020-05-26T10:41:54.699234",
     "status": "completed"
    },
    "tags": []
   },
   "source": [
    "## Sharing Data"
   ]
  },
  {
   "cell_type": "code",
   "execution_count": 4,
   "metadata": {
    "execution": {
     "iopub.execute_input": "2020-05-26T10:41:54.741113Z",
     "iopub.status.busy": "2020-05-26T10:41:54.740147Z",
     "iopub.status.idle": "2020-05-26T10:41:55.296860Z",
     "shell.execute_reply": "2020-05-26T10:41:55.297437Z"
    },
    "papermill": {
     "duration": 0.573436,
     "end_time": "2020-05-26T10:41:55.297700",
     "exception": false,
     "start_time": "2020-05-26T10:41:54.724264",
     "status": "completed"
    },
    "tags": []
   },
   "outputs": [],
   "source": [
    "from xcube_geodb.core.geodb import GeoDBClient"
   ]
  },
  {
   "cell_type": "code",
   "execution_count": 5,
   "metadata": {
    "execution": {
     "iopub.execute_input": "2020-05-26T10:41:55.328359Z",
     "iopub.status.busy": "2020-05-26T10:41:55.327453Z",
     "iopub.status.idle": "2020-05-26T10:41:55.479962Z",
     "shell.execute_reply": "2020-05-26T10:41:55.480651Z"
    },
    "papermill": {
     "duration": 0.170264,
     "end_time": "2020-05-26T10:41:55.480850",
     "exception": false,
     "start_time": "2020-05-26T10:41:55.310586",
     "status": "completed"
    },
    "tags": []
   },
   "outputs": [
    {
     "data": {
      "text/plain": [
       "'geodb_0c0a0ef4-8d0d-4e70-b002-033c7cbb41fd'"
      ]
     },
     "execution_count": 5,
     "metadata": {},
     "output_type": "execute_result"
    }
   ],
   "source": [
    "geodb = GeoDBClient()\n",
    "geodb.whoami"
   ]
  },
  {
   "cell_type": "markdown",
   "metadata": {
    "papermill": {
     "duration": 0.013084,
     "end_time": "2020-05-26T10:41:55.507292",
     "exception": false,
     "start_time": "2020-05-26T10:41:55.494208",
     "status": "completed"
    },
    "tags": []
   },
   "source": [
    "### Publish Dataset to the world"
   ]
  },
  {
   "cell_type": "code",
   "execution_count": 6,
   "metadata": {
    "execution": {
     "iopub.execute_input": "2020-05-26T10:41:55.537549Z",
     "iopub.status.busy": "2020-05-26T10:41:55.536436Z",
     "iopub.status.idle": "2020-05-26T10:41:55.663919Z",
     "shell.execute_reply": "2020-05-26T10:41:55.664993Z"
    },
    "papermill": {
     "duration": 0.145444,
     "end_time": "2020-05-26T10:41:55.665193",
     "exception": false,
     "start_time": "2020-05-26T10:41:55.519749",
     "status": "completed"
    },
    "tags": []
   },
   "outputs": [
    {
     "data": {
      "text/html": [
       "<div>\n",
       "<style scoped>\n",
       "    .dataframe tbody tr th:only-of-type {\n",
       "        vertical-align: middle;\n",
       "    }\n",
       "\n",
       "    .dataframe tbody tr th {\n",
       "        vertical-align: top;\n",
       "    }\n",
       "\n",
       "    .dataframe thead th {\n",
       "        text-align: right;\n",
       "    }\n",
       "</style>\n",
       "<table border=\"1\" class=\"dataframe\">\n",
       "  <thead>\n",
       "    <tr style=\"text-align: right;\">\n",
       "      <th></th>\n",
       "      <th>table_name</th>\n",
       "    </tr>\n",
       "  </thead>\n",
       "  <tbody>\n",
       "  </tbody>\n",
       "</table>\n",
       "</div>"
      ],
      "text/plain": [
       "Empty DataFrame\n",
       "Columns: [table_name]\n",
       "Index: []"
      ]
     },
     "execution_count": 6,
     "metadata": {},
     "output_type": "execute_result"
    }
   ],
   "source": [
    "geodb.list_grants()"
   ]
  },
  {
   "cell_type": "code",
   "execution_count": 7,
   "metadata": {
    "execution": {
     "iopub.execute_input": "2020-05-26T10:41:55.704947Z",
     "iopub.status.busy": "2020-05-26T10:41:55.699340Z",
     "iopub.status.idle": "2020-05-26T10:41:55.970337Z",
     "shell.execute_reply": "2020-05-26T10:41:55.969470Z"
    },
    "papermill": {
     "duration": 0.291448,
     "end_time": "2020-05-26T10:41:55.970502",
     "exception": false,
     "start_time": "2020-05-26T10:41:55.679054",
     "status": "completed"
    },
    "tags": []
   },
   "outputs": [
    {
     "data": {
      "text/plain": [
       "Access could not be granted. List grants with geodb.list_grants(){\"hint\":null,\"details\":null,\"code\":\"42P01\",\"message\":\"relation \\\"geodb_0c0a0ef4-8d0d-4e70-b002-033c7cbb41fd_land_use\\\" does not exist\"}"
      ]
     },
     "execution_count": 7,
     "metadata": {},
     "output_type": "execute_result"
    }
   ],
   "source": [
    "geodb.publish_collection(\"land_use\")"
   ]
  },
  {
   "cell_type": "code",
   "execution_count": 8,
   "metadata": {
    "execution": {
     "iopub.execute_input": "2020-05-26T10:41:56.004029Z",
     "iopub.status.busy": "2020-05-26T10:41:56.002916Z",
     "iopub.status.idle": "2020-05-26T10:41:56.115002Z",
     "shell.execute_reply": "2020-05-26T10:41:56.114243Z"
    },
    "papermill": {
     "duration": 0.131956,
     "end_time": "2020-05-26T10:41:56.115140",
     "exception": false,
     "start_time": "2020-05-26T10:41:55.983184",
     "status": "completed"
    },
    "tags": []
   },
   "outputs": [
    {
     "data": {
      "text/html": [
       "<div>\n",
       "<style scoped>\n",
       "    .dataframe tbody tr th:only-of-type {\n",
       "        vertical-align: middle;\n",
       "    }\n",
       "\n",
       "    .dataframe tbody tr th {\n",
       "        vertical-align: top;\n",
       "    }\n",
       "\n",
       "    .dataframe thead th {\n",
       "        text-align: right;\n",
       "    }\n",
       "</style>\n",
       "<table border=\"1\" class=\"dataframe\">\n",
       "  <thead>\n",
       "    <tr style=\"text-align: right;\">\n",
       "      <th></th>\n",
       "      <th>table_name</th>\n",
       "    </tr>\n",
       "  </thead>\n",
       "  <tbody>\n",
       "  </tbody>\n",
       "</table>\n",
       "</div>"
      ],
      "text/plain": [
       "Empty DataFrame\n",
       "Columns: [table_name]\n",
       "Index: []"
      ]
     },
     "execution_count": 8,
     "metadata": {},
     "output_type": "execute_result"
    }
   ],
   "source": [
    "geodb.list_grants()"
   ]
  },
  {
   "cell_type": "code",
   "execution_count": 9,
   "metadata": {
    "execution": {
     "iopub.execute_input": "2020-05-26T10:41:56.150322Z",
     "iopub.status.busy": "2020-05-26T10:41:56.149382Z",
     "iopub.status.idle": "2020-05-26T10:41:58.956855Z",
     "shell.execute_reply": "2020-05-26T10:41:58.947855Z"
    },
    "papermill": {
     "duration": 2.828154,
     "end_time": "2020-05-26T10:41:58.957059",
     "exception": false,
     "start_time": "2020-05-26T10:41:56.128905",
     "status": "completed"
    },
    "tags": []
   },
   "outputs": [
    {
     "data": {
      "text/html": [
       "<div>\n",
       "<style scoped>\n",
       "    .dataframe tbody tr th:only-of-type {\n",
       "        vertical-align: middle;\n",
       "    }\n",
       "\n",
       "    .dataframe tbody tr th {\n",
       "        vertical-align: top;\n",
       "    }\n",
       "\n",
       "    .dataframe thead th {\n",
       "        text-align: right;\n",
       "    }\n",
       "</style>\n",
       "<table border=\"1\" class=\"dataframe\">\n",
       "  <thead>\n",
       "    <tr style=\"text-align: right;\">\n",
       "      <th></th>\n",
       "      <th>id</th>\n",
       "      <th>created_at</th>\n",
       "      <th>modified_at</th>\n",
       "      <th>geometry</th>\n",
       "      <th>raba_pid</th>\n",
       "      <th>raba_id</th>\n",
       "      <th>d_od</th>\n",
       "    </tr>\n",
       "  </thead>\n",
       "  <tbody>\n",
       "    <tr>\n",
       "      <th>0</th>\n",
       "      <td>1</td>\n",
       "      <td>2020-05-11T09:05:01.715069+00:00</td>\n",
       "      <td>None</td>\n",
       "      <td>POLYGON ((453952.629 91124.177, 453952.696 911...</td>\n",
       "      <td>4770326</td>\n",
       "      <td>1410</td>\n",
       "      <td>2019-03-26</td>\n",
       "    </tr>\n",
       "    <tr>\n",
       "      <th>1</th>\n",
       "      <td>2</td>\n",
       "      <td>2020-05-11T09:05:01.715069+00:00</td>\n",
       "      <td>None</td>\n",
       "      <td>POLYGON ((453810.376 91150.199, 453812.552 911...</td>\n",
       "      <td>4770325</td>\n",
       "      <td>1300</td>\n",
       "      <td>2019-03-26</td>\n",
       "    </tr>\n",
       "    <tr>\n",
       "      <th>2</th>\n",
       "      <td>4</td>\n",
       "      <td>2020-05-11T09:05:01.715069+00:00</td>\n",
       "      <td>None</td>\n",
       "      <td>POLYGON ((455929.405 97963.785, 455933.284 979...</td>\n",
       "      <td>2305596</td>\n",
       "      <td>1100</td>\n",
       "      <td>2019-02-25</td>\n",
       "    </tr>\n",
       "    <tr>\n",
       "      <th>3</th>\n",
       "      <td>5</td>\n",
       "      <td>2020-05-11T09:05:01.715069+00:00</td>\n",
       "      <td>None</td>\n",
       "      <td>POLYGON ((461561.512 96119.256, 461632.114 960...</td>\n",
       "      <td>2310160</td>\n",
       "      <td>1100</td>\n",
       "      <td>2019-03-11</td>\n",
       "    </tr>\n",
       "    <tr>\n",
       "      <th>4</th>\n",
       "      <td>6</td>\n",
       "      <td>2020-05-11T09:05:01.715069+00:00</td>\n",
       "      <td>None</td>\n",
       "      <td>POLYGON ((458139.092 95583.227, 458136.249 955...</td>\n",
       "      <td>3602865</td>\n",
       "      <td>1500</td>\n",
       "      <td>2019-01-05</td>\n",
       "    </tr>\n",
       "    <tr>\n",
       "      <th>...</th>\n",
       "      <td>...</td>\n",
       "      <td>...</td>\n",
       "      <td>...</td>\n",
       "      <td>...</td>\n",
       "      <td>...</td>\n",
       "      <td>...</td>\n",
       "      <td>...</td>\n",
       "    </tr>\n",
       "    <tr>\n",
       "      <th>18881</th>\n",
       "      <td>19650</td>\n",
       "      <td>2020-05-18T06:23:25.019586+00:00</td>\n",
       "      <td>None</td>\n",
       "      <td>POLYGON ((460637.334 96865.891, 460647.927 969...</td>\n",
       "      <td>6253989</td>\n",
       "      <td>1600</td>\n",
       "      <td>2019-03-08</td>\n",
       "    </tr>\n",
       "    <tr>\n",
       "      <th>18882</th>\n",
       "      <td>19651</td>\n",
       "      <td>2020-05-18T06:23:25.019586+00:00</td>\n",
       "      <td>None</td>\n",
       "      <td>POLYGON ((459467.868 96839.686, 459467.770 968...</td>\n",
       "      <td>6252044</td>\n",
       "      <td>1600</td>\n",
       "      <td>2019-03-26</td>\n",
       "    </tr>\n",
       "    <tr>\n",
       "      <th>18883</th>\n",
       "      <td>19652</td>\n",
       "      <td>2020-05-18T06:23:25.019586+00:00</td>\n",
       "      <td>None</td>\n",
       "      <td>POLYGON ((459488.998 94066.248, 459498.145 940...</td>\n",
       "      <td>6245985</td>\n",
       "      <td>2000</td>\n",
       "      <td>2019-04-08</td>\n",
       "    </tr>\n",
       "    <tr>\n",
       "      <th>18884</th>\n",
       "      <td>19653</td>\n",
       "      <td>2020-05-18T06:23:25.019586+00:00</td>\n",
       "      <td>None</td>\n",
       "      <td>POLYGON ((459676.680 94000.000, 459672.469 939...</td>\n",
       "      <td>6245986</td>\n",
       "      <td>2000</td>\n",
       "      <td>2019-02-20</td>\n",
       "    </tr>\n",
       "    <tr>\n",
       "      <th>18885</th>\n",
       "      <td>19654</td>\n",
       "      <td>2020-05-18T06:23:25.019586+00:00</td>\n",
       "      <td>None</td>\n",
       "      <td>POLYGON ((459690.580 94042.607, 459686.872 940...</td>\n",
       "      <td>6245987</td>\n",
       "      <td>2000</td>\n",
       "      <td>2019-03-11</td>\n",
       "    </tr>\n",
       "  </tbody>\n",
       "</table>\n",
       "<p>18886 rows × 7 columns</p>\n",
       "</div>"
      ],
      "text/plain": [
       "          id                        created_at modified_at  \\\n",
       "0          1  2020-05-11T09:05:01.715069+00:00        None   \n",
       "1          2  2020-05-11T09:05:01.715069+00:00        None   \n",
       "2          4  2020-05-11T09:05:01.715069+00:00        None   \n",
       "3          5  2020-05-11T09:05:01.715069+00:00        None   \n",
       "4          6  2020-05-11T09:05:01.715069+00:00        None   \n",
       "...      ...                               ...         ...   \n",
       "18881  19650  2020-05-18T06:23:25.019586+00:00        None   \n",
       "18882  19651  2020-05-18T06:23:25.019586+00:00        None   \n",
       "18883  19652  2020-05-18T06:23:25.019586+00:00        None   \n",
       "18884  19653  2020-05-18T06:23:25.019586+00:00        None   \n",
       "18885  19654  2020-05-18T06:23:25.019586+00:00        None   \n",
       "\n",
       "                                                geometry  raba_pid  raba_id  \\\n",
       "0      POLYGON ((453952.629 91124.177, 453952.696 911...   4770326     1410   \n",
       "1      POLYGON ((453810.376 91150.199, 453812.552 911...   4770325     1300   \n",
       "2      POLYGON ((455929.405 97963.785, 455933.284 979...   2305596     1100   \n",
       "3      POLYGON ((461561.512 96119.256, 461632.114 960...   2310160     1100   \n",
       "4      POLYGON ((458139.092 95583.227, 458136.249 955...   3602865     1500   \n",
       "...                                                  ...       ...      ...   \n",
       "18881  POLYGON ((460637.334 96865.891, 460647.927 969...   6253989     1600   \n",
       "18882  POLYGON ((459467.868 96839.686, 459467.770 968...   6252044     1600   \n",
       "18883  POLYGON ((459488.998 94066.248, 459498.145 940...   6245985     2000   \n",
       "18884  POLYGON ((459676.680 94000.000, 459672.469 939...   6245986     2000   \n",
       "18885  POLYGON ((459690.580 94042.607, 459686.872 940...   6245987     2000   \n",
       "\n",
       "             d_od  \n",
       "0      2019-03-26  \n",
       "1      2019-03-26  \n",
       "2      2019-02-25  \n",
       "3      2019-03-11  \n",
       "4      2019-01-05  \n",
       "...           ...  \n",
       "18881  2019-03-08  \n",
       "18882  2019-03-26  \n",
       "18883  2019-04-08  \n",
       "18884  2019-02-20  \n",
       "18885  2019-03-11  \n",
       "\n",
       "[18886 rows x 7 columns]"
      ]
     },
     "execution_count": 9,
     "metadata": {},
     "output_type": "execute_result"
    }
   ],
   "source": [
    "geodb.get_collection('land_use', database='public')"
   ]
  },
  {
   "cell_type": "markdown",
   "metadata": {
    "papermill": {
     "duration": 0.017688,
     "end_time": "2020-05-26T10:41:58.994820",
     "exception": false,
     "start_time": "2020-05-26T10:41:58.977132",
     "status": "completed"
    },
    "tags": []
   },
   "source": [
    "### Revoke access"
   ]
  },
  {
   "cell_type": "code",
   "execution_count": 10,
   "metadata": {
    "execution": {
     "iopub.execute_input": "2020-05-26T10:41:59.041498Z",
     "iopub.status.busy": "2020-05-26T10:41:59.040297Z",
     "iopub.status.idle": "2020-05-26T10:41:59.168395Z",
     "shell.execute_reply": "2020-05-26T10:41:59.169215Z"
    },
    "papermill": {
     "duration": 0.154252,
     "end_time": "2020-05-26T10:41:59.169419",
     "exception": false,
     "start_time": "2020-05-26T10:41:59.015167",
     "status": "completed"
    },
    "tags": []
   },
   "outputs": [
    {
     "data": {
      "text/html": [
       "<div>\n",
       "<style scoped>\n",
       "    .dataframe tbody tr th:only-of-type {\n",
       "        vertical-align: middle;\n",
       "    }\n",
       "\n",
       "    .dataframe tbody tr th {\n",
       "        vertical-align: top;\n",
       "    }\n",
       "\n",
       "    .dataframe thead th {\n",
       "        text-align: right;\n",
       "    }\n",
       "</style>\n",
       "<table border=\"1\" class=\"dataframe\">\n",
       "  <thead>\n",
       "    <tr style=\"text-align: right;\">\n",
       "      <th></th>\n",
       "      <th>table_name</th>\n",
       "    </tr>\n",
       "  </thead>\n",
       "  <tbody>\n",
       "  </tbody>\n",
       "</table>\n",
       "</div>"
      ],
      "text/plain": [
       "Empty DataFrame\n",
       "Columns: [table_name]\n",
       "Index: []"
      ]
     },
     "execution_count": 10,
     "metadata": {},
     "output_type": "execute_result"
    }
   ],
   "source": [
    "geodb.list_grants()"
   ]
  },
  {
   "cell_type": "code",
   "execution_count": 11,
   "metadata": {
    "execution": {
     "iopub.execute_input": "2020-05-26T10:41:59.206599Z",
     "iopub.status.busy": "2020-05-26T10:41:59.205660Z",
     "iopub.status.idle": "2020-05-26T10:41:59.501334Z",
     "shell.execute_reply": "2020-05-26T10:41:59.500389Z"
    },
    "papermill": {
     "duration": 0.316709,
     "end_time": "2020-05-26T10:41:59.501492",
     "exception": false,
     "start_time": "2020-05-26T10:41:59.184783",
     "status": "completed"
    },
    "tags": []
   },
   "outputs": [
    {
     "data": {
      "text/plain": [
       "Collection already unpublished"
      ]
     },
     "execution_count": 11,
     "metadata": {},
     "output_type": "execute_result"
    }
   ],
   "source": [
    "geodb.unpublish_collection(\"land_use\")"
   ]
  },
  {
   "cell_type": "code",
   "execution_count": 12,
   "metadata": {
    "execution": {
     "iopub.execute_input": "2020-05-26T10:41:59.538727Z",
     "iopub.status.busy": "2020-05-26T10:41:59.537606Z",
     "iopub.status.idle": "2020-05-26T10:41:59.650085Z",
     "shell.execute_reply": "2020-05-26T10:41:59.649242Z"
    },
    "papermill": {
     "duration": 0.134123,
     "end_time": "2020-05-26T10:41:59.650236",
     "exception": false,
     "start_time": "2020-05-26T10:41:59.516113",
     "status": "completed"
    },
    "tags": []
   },
   "outputs": [
    {
     "data": {
      "text/html": [
       "<div>\n",
       "<style scoped>\n",
       "    .dataframe tbody tr th:only-of-type {\n",
       "        vertical-align: middle;\n",
       "    }\n",
       "\n",
       "    .dataframe tbody tr th {\n",
       "        vertical-align: top;\n",
       "    }\n",
       "\n",
       "    .dataframe thead th {\n",
       "        text-align: right;\n",
       "    }\n",
       "</style>\n",
       "<table border=\"1\" class=\"dataframe\">\n",
       "  <thead>\n",
       "    <tr style=\"text-align: right;\">\n",
       "      <th></th>\n",
       "      <th>table_name</th>\n",
       "    </tr>\n",
       "  </thead>\n",
       "  <tbody>\n",
       "  </tbody>\n",
       "</table>\n",
       "</div>"
      ],
      "text/plain": [
       "Empty DataFrame\n",
       "Columns: [table_name]\n",
       "Index: []"
      ]
     },
     "execution_count": 12,
     "metadata": {},
     "output_type": "execute_result"
    }
   ],
   "source": [
    "geodb.list_grants()"
   ]
  }
 ],
 "metadata": {
  "kernelspec": {
   "display_name": "Python 3",
   "language": "python",
   "name": "python3"
  },
  "language_info": {
   "codemirror_mode": {
    "name": "ipython",
    "version": 3
   },
   "file_extension": ".py",
   "mimetype": "text/x-python",
   "name": "python",
   "nbconvert_exporter": "python",
   "pygments_lexer": "ipython3",
   "version": "3.7.6"
  },
  "papermill": {
   "duration": 7.044631,
   "end_time": "2020-05-26T10:42:00.678041",
   "environment_variables": {},
   "exception": null,
   "input_path": "/tmp/tmp70iqfp22",
   "output_path": "/tmp/cur_notebook.ipynb",
   "parameters": {},
   "start_time": "2020-05-26T10:41:53.633410",
   "version": "2.1.0"
  },
  "properties": {
   "description": "Euro Data Cube GeoDB: Sharing Data",
   "id": "geodb-sharing",
   "name": "GeoDB: Sharing Data",
   "requirements": [
    "eurodatacube-geodb"
   ],
   "tags": [
    "Getting started",
    "GeoDB"
   ],
   "version": "0.2"
  },
  "pycharm": {
   "stem_cell": {
    "cell_type": "raw",
    "metadata": {
     "collapsed": false
    },
    "source": []
   }
  }
 },
 "nbformat": 4,
 "nbformat_minor": 4
}