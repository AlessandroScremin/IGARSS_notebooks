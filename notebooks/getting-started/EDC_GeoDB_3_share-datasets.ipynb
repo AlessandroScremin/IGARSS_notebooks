{
 "cells": [
  {
   "cell_type": "code",
   "execution_count": 1,
   "metadata": {
    "execution": {
     "iopub.execute_input": "2020-12-15T11:02:42.888188Z",
     "iopub.status.busy": "2020-12-15T11:02:42.887654Z",
     "iopub.status.idle": "2020-12-15T11:02:43.296327Z",
     "shell.execute_reply": "2020-12-15T11:02:43.296674Z"
    },
    "papermill": {
     "duration": 0.419875,
     "end_time": "2020-12-15T11:02:43.296880",
     "exception": false,
     "start_time": "2020-12-15T11:02:42.877005",
     "status": "completed"
    },
    "tags": []
   },
   "outputs": [
    {
     "data": {
      "text/markdown": [
       "\n",
       "***Notebook Title***  \n",
       "GeoDB: Sharing Data\n",
       "\n",
       "***Notebook Description***  \n",
       "Euro Data Cube GeoDB: Sharing Data\n",
       "\n",
       "\n",
       "***Notebook Dependencies***  \n",
       "This notebook requires an active subscription to:\n",
       "* EDC GeoDB\n"
      ],
      "text/plain": [
       "<IPython.core.display.Markdown object>"
      ]
     },
     "metadata": {},
     "output_type": "display_data"
    }
   ],
   "source": [
    "from edc import print_info\n",
    "print_info(\"geodb-sharing\")"
   ]
  },
  {
   "cell_type": "code",
   "execution_count": 2,
   "metadata": {
    "execution": {
     "iopub.execute_input": "2020-12-15T11:02:43.314129Z",
     "iopub.status.busy": "2020-12-15T11:02:43.313629Z",
     "iopub.status.idle": "2020-12-15T11:02:43.317097Z",
     "shell.execute_reply": "2020-12-15T11:02:43.317430Z"
    },
    "papermill": {
     "duration": 0.013332,
     "end_time": "2020-12-15T11:02:43.317542",
     "exception": false,
     "start_time": "2020-12-15T11:02:43.304210",
     "status": "completed"
    },
    "tags": []
   },
   "outputs": [
    {
     "data": {
      "text/markdown": [
       "API credentials have automatically been injected for your active subscriptions.  \n",
       "The following environment variables are now available:\n",
       "* `GEODB_API_SERVER_PORT`, `GEODB_API_SERVER_URL`, `GEODB_AUTH_AUD`, `GEODB_AUTH_CLIENT_ID`, `GEODB_AUTH_CLIENT_SECRET`, `GEODB_AUTH_DOMAIN`\n",
       "\n",
       "The following additional environment variables have been loaded from `~/custom.env`:\n",
       "* `AWS_BUCKET`\n",
       "* `DAPA_URL`\n",
       "* `DB_HOST`, `DB_NAME`, `DB_PASSWORD`, `DB_USER`\n",
       "* `OGC_EDC_URL`\n",
       "* `REFERENCE_DATA`\n"
      ],
      "text/plain": [
       "<IPython.core.display.Markdown object>"
      ]
     },
     "metadata": {},
     "output_type": "display_data"
    }
   ],
   "source": [
    "from edc import setup_environment_variables\n",
    "setup_environment_variables()"
   ]
  },
  {
   "cell_type": "code",
   "execution_count": 3,
   "metadata": {
    "execution": {
     "iopub.execute_input": "2020-12-15T11:02:43.335754Z",
     "iopub.status.busy": "2020-12-15T11:02:43.335214Z",
     "iopub.status.idle": "2020-12-15T11:02:43.338020Z",
     "shell.execute_reply": "2020-12-15T11:02:43.338352Z"
    },
    "papermill": {
     "duration": 0.013592,
     "end_time": "2020-12-15T11:02:43.338457",
     "exception": false,
     "start_time": "2020-12-15T11:02:43.324865",
     "status": "completed"
    },
    "tags": []
   },
   "outputs": [
    {
     "data": {
      "text/html": [
       "<script type=\"text/javascript\">\n",
       "        function toggle(id) {\n",
       "            el = document.getElementById(id);\n",
       "            el.style.display = el.style.display === \"none\" ? \"block\" : \"none\";\n",
       "        }\n",
       "    </script>"
      ],
      "text/plain": [
       "<IPython.core.display.HTML object>"
      ]
     },
     "metadata": {},
     "output_type": "display_data"
    },
    {
     "data": {
      "text/html": [
       "This notebook is compatible with this base image version (user-0.22.3)."
      ],
      "text/plain": [
       "<IPython.core.display.HTML object>"
      ]
     },
     "metadata": {},
     "output_type": "display_data"
    }
   ],
   "source": [
    "from edc import check_compatibility\n",
    "check_compatibility(\"user-0.22.3\")"
   ]
  },
  {
   "cell_type": "markdown",
   "metadata": {
    "papermill": {
     "duration": 0.007895,
     "end_time": "2020-12-15T11:02:43.354228",
     "exception": false,
     "start_time": "2020-12-15T11:02:43.346333",
     "status": "completed"
    },
    "tags": []
   },
   "source": [
    "## Sharing Data"
   ]
  },
  {
   "cell_type": "code",
   "execution_count": 4,
   "metadata": {
    "execution": {
     "iopub.execute_input": "2020-12-15T11:02:43.373934Z",
     "iopub.status.busy": "2020-12-15T11:02:43.373162Z",
     "iopub.status.idle": "2020-12-15T11:02:43.880153Z",
     "shell.execute_reply": "2020-12-15T11:02:43.880520Z"
    },
    "papermill": {
     "duration": 0.51812,
     "end_time": "2020-12-15T11:02:43.880668",
     "exception": false,
     "start_time": "2020-12-15T11:02:43.362548",
     "status": "completed"
    },
    "tags": []
   },
   "outputs": [],
   "source": [
    "from xcube_geodb.core.geodb import GeoDBClient"
   ]
  },
  {
   "cell_type": "code",
   "execution_count": 5,
   "metadata": {
    "execution": {
     "iopub.execute_input": "2020-12-15T11:02:43.902919Z",
     "iopub.status.busy": "2020-12-15T11:02:43.902402Z",
     "iopub.status.idle": "2020-12-15T11:02:44.125072Z",
     "shell.execute_reply": "2020-12-15T11:02:44.124539Z"
    },
    "papermill": {
     "duration": 0.236329,
     "end_time": "2020-12-15T11:02:44.125181",
     "exception": false,
     "start_time": "2020-12-15T11:02:43.888852",
     "status": "completed"
    },
    "tags": []
   },
   "outputs": [
    {
     "data": {
      "text/plain": [
       "'geodb_418dfeac-15f0-4606-9edb-fd9eb722bf04'"
      ]
     },
     "execution_count": 5,
     "metadata": {},
     "output_type": "execute_result"
    }
   ],
   "source": [
    "geodb = GeoDBClient()\n",
    "geodb.whoami"
   ]
  },
  {
   "cell_type": "code",
   "execution_count": 6,
   "metadata": {
    "execution": {
     "iopub.execute_input": "2020-12-15T11:02:44.147444Z",
     "iopub.status.busy": "2020-12-15T11:02:44.146880Z",
     "iopub.status.idle": "2020-12-15T11:02:44.469993Z",
     "shell.execute_reply": "2020-12-15T11:02:44.469453Z"
    },
    "papermill": {
     "duration": 0.336493,
     "end_time": "2020-12-15T11:02:44.470112",
     "exception": false,
     "start_time": "2020-12-15T11:02:44.133619",
     "status": "completed"
    },
    "tags": []
   },
   "outputs": [],
   "source": [
    "ds = geodb.get_my_collections()\n",
    "\n",
    "if ds[(ds.database == geodb.whoami) & (ds.table_name == 'land_use')].table_name.count() == 0:\n",
    "    # Have a look at fiona feature schema\n",
    "    collections = {\n",
    "            \"land_use\": \n",
    "            {\n",
    "                \"crs\": 3794,\n",
    "                \"properties\": \n",
    "                {\n",
    "                    \"RABA_PID\": \"float\", \n",
    "                    \"RABA_ID\": \"float\", \n",
    "                    \"D_OD\": \"date\"\n",
    "                }\n",
    "            }\n",
    "        }\n",
    "\n",
    "\n",
    "    geodb.create_collections(collections)\n",
    "    import geopandas\n",
    "    import os\n",
    "    gdf = geopandas.read_file(os.path.expanduser(\"~/.shared/notebooks/eurodatacube/notebooks/getting-started/data/sample/land_use.shp\"))\n",
    "    geodb.insert_into_collection('land_use', gdf)"
   ]
  },
  {
   "cell_type": "markdown",
   "metadata": {
    "papermill": {
     "duration": 0.00828,
     "end_time": "2020-12-15T11:02:44.486758",
     "exception": false,
     "start_time": "2020-12-15T11:02:44.478478",
     "status": "completed"
    },
    "tags": []
   },
   "source": [
    "### Publish a Collection to the World"
   ]
  },
  {
   "cell_type": "code",
   "execution_count": 7,
   "metadata": {
    "execution": {
     "iopub.execute_input": "2020-12-15T11:02:44.508180Z",
     "iopub.status.busy": "2020-12-15T11:02:44.507651Z",
     "iopub.status.idle": "2020-12-15T11:02:44.636751Z",
     "shell.execute_reply": "2020-12-15T11:02:44.636245Z"
    },
    "papermill": {
     "duration": 0.141377,
     "end_time": "2020-12-15T11:02:44.636861",
     "exception": false,
     "start_time": "2020-12-15T11:02:44.495484",
     "status": "completed"
    },
    "tags": []
   },
   "outputs": [
    {
     "data": {
      "text/html": [
       "<div>\n",
       "<style scoped>\n",
       "    .dataframe tbody tr th:only-of-type {\n",
       "        vertical-align: middle;\n",
       "    }\n",
       "\n",
       "    .dataframe tbody tr th {\n",
       "        vertical-align: top;\n",
       "    }\n",
       "\n",
       "    .dataframe thead th {\n",
       "        text-align: right;\n",
       "    }\n",
       "</style>\n",
       "<table border=\"1\" class=\"dataframe\">\n",
       "  <thead>\n",
       "    <tr style=\"text-align: right;\">\n",
       "      <th></th>\n",
       "      <th>database</th>\n",
       "      <th>table_name</th>\n",
       "      <th>grantee</th>\n",
       "      <th>privileges</th>\n",
       "    </tr>\n",
       "  </thead>\n",
       "  <tbody>\n",
       "    <tr>\n",
       "      <th>0</th>\n",
       "      <td>geodb_418dfeac-15f0-4606-9edb-fd9eb722bf04</td>\n",
       "      <td>land_use</td>\n",
       "      <td>PUBLIC</td>\n",
       "      <td>SELECT</td>\n",
       "    </tr>\n",
       "  </tbody>\n",
       "</table>\n",
       "</div>"
      ],
      "text/plain": [
       "                                     database table_name grantee privileges\n",
       "0  geodb_418dfeac-15f0-4606-9edb-fd9eb722bf04   land_use  PUBLIC     SELECT"
      ]
     },
     "execution_count": 7,
     "metadata": {},
     "output_type": "execute_result"
    }
   ],
   "source": [
    "geodb.list_my_grants()"
   ]
  },
  {
   "cell_type": "code",
   "execution_count": 8,
   "metadata": {
    "execution": {
     "iopub.execute_input": "2020-12-15T11:02:44.657980Z",
     "iopub.status.busy": "2020-12-15T11:02:44.656531Z",
     "iopub.status.idle": "2020-12-15T11:02:44.964078Z",
     "shell.execute_reply": "2020-12-15T11:02:44.964458Z"
    },
    "papermill": {
     "duration": 0.319205,
     "end_time": "2020-12-15T11:02:44.964596",
     "exception": false,
     "start_time": "2020-12-15T11:02:44.645391",
     "status": "completed"
    },
    "tags": []
   },
   "outputs": [
    {
     "data": {
      "text/plain": [
       "Access granted on land_use to public."
      ]
     },
     "execution_count": 8,
     "metadata": {},
     "output_type": "execute_result"
    }
   ],
   "source": [
    "geodb.publish_collection(\"land_use\")"
   ]
  },
  {
   "cell_type": "markdown",
   "metadata": {
    "papermill": {
     "duration": 0.008596,
     "end_time": "2020-12-15T11:02:44.982029",
     "exception": false,
     "start_time": "2020-12-15T11:02:44.973433",
     "status": "completed"
    },
    "tags": []
   },
   "source": [
    "### Accessing Collection as a different User\n",
    "\n",
    "Please be aware that you cannot change the user easily within a Notebook. Here, we changed the credentials in the background. The following cells will not run and are for demonstration only."
   ]
  },
  {
   "cell_type": "code",
   "execution_count": 9,
   "metadata": {
    "execution": {
     "iopub.execute_input": "2020-12-15T11:02:45.003258Z",
     "iopub.status.busy": "2020-12-15T11:02:45.002709Z",
     "iopub.status.idle": "2020-12-15T11:02:45.219826Z",
     "shell.execute_reply": "2020-12-15T11:02:45.219257Z"
    },
    "papermill": {
     "duration": 0.229438,
     "end_time": "2020-12-15T11:02:45.219935",
     "exception": false,
     "start_time": "2020-12-15T11:02:44.990497",
     "status": "completed"
    },
    "tags": []
   },
   "outputs": [
    {
     "data": {
      "text/plain": [
       "'geodb_418dfeac-15f0-4606-9edb-fd9eb722bf04'"
      ]
     },
     "execution_count": 9,
     "metadata": {},
     "output_type": "execute_result"
    }
   ],
   "source": [
    "geodb = GeoDBClient()\n",
    "geodb.whoami"
   ]
  },
  {
   "cell_type": "code",
   "execution_count": 10,
   "metadata": {
    "execution": {
     "iopub.execute_input": "2020-12-15T11:02:45.240285Z",
     "iopub.status.busy": "2020-12-15T11:02:45.239793Z",
     "iopub.status.idle": "2020-12-15T11:02:45.241785Z",
     "shell.execute_reply": "2020-12-15T11:02:45.241373Z"
    },
    "papermill": {
     "duration": 0.013094,
     "end_time": "2020-12-15T11:02:45.241875",
     "exception": false,
     "start_time": "2020-12-15T11:02:45.228781",
     "status": "completed"
    },
    "tags": []
   },
   "outputs": [],
   "source": [
    "# geodb.get_collection('land_use', database='geodb_admin')"
   ]
  },
  {
   "cell_type": "markdown",
   "metadata": {
    "papermill": {
     "duration": 0.009237,
     "end_time": "2020-12-15T11:02:45.259726",
     "exception": false,
     "start_time": "2020-12-15T11:02:45.250489",
     "status": "completed"
    },
    "tags": []
   },
   "source": [
    "### Revoke access"
   ]
  },
  {
   "cell_type": "code",
   "execution_count": 11,
   "metadata": {
    "execution": {
     "iopub.execute_input": "2020-12-15T11:02:45.281527Z",
     "iopub.status.busy": "2020-12-15T11:02:45.280977Z",
     "iopub.status.idle": "2020-12-15T11:02:45.387216Z",
     "shell.execute_reply": "2020-12-15T11:02:45.386775Z"
    },
    "papermill": {
     "duration": 0.118873,
     "end_time": "2020-12-15T11:02:45.387324",
     "exception": false,
     "start_time": "2020-12-15T11:02:45.268451",
     "status": "completed"
    },
    "tags": []
   },
   "outputs": [
    {
     "data": {
      "text/html": [
       "<div>\n",
       "<style scoped>\n",
       "    .dataframe tbody tr th:only-of-type {\n",
       "        vertical-align: middle;\n",
       "    }\n",
       "\n",
       "    .dataframe tbody tr th {\n",
       "        vertical-align: top;\n",
       "    }\n",
       "\n",
       "    .dataframe thead th {\n",
       "        text-align: right;\n",
       "    }\n",
       "</style>\n",
       "<table border=\"1\" class=\"dataframe\">\n",
       "  <thead>\n",
       "    <tr style=\"text-align: right;\">\n",
       "      <th></th>\n",
       "      <th>database</th>\n",
       "      <th>table_name</th>\n",
       "      <th>grantee</th>\n",
       "      <th>privileges</th>\n",
       "    </tr>\n",
       "  </thead>\n",
       "  <tbody>\n",
       "    <tr>\n",
       "      <th>0</th>\n",
       "      <td>geodb_418dfeac-15f0-4606-9edb-fd9eb722bf04</td>\n",
       "      <td>land_use</td>\n",
       "      <td>PUBLIC</td>\n",
       "      <td>SELECT</td>\n",
       "    </tr>\n",
       "  </tbody>\n",
       "</table>\n",
       "</div>"
      ],
      "text/plain": [
       "                                     database table_name grantee privileges\n",
       "0  geodb_418dfeac-15f0-4606-9edb-fd9eb722bf04   land_use  PUBLIC     SELECT"
      ]
     },
     "execution_count": 11,
     "metadata": {},
     "output_type": "execute_result"
    }
   ],
   "source": [
    "geodb.list_my_grants()"
   ]
  },
  {
   "cell_type": "code",
   "execution_count": 12,
   "metadata": {
    "execution": {
     "iopub.execute_input": "2020-12-15T11:02:45.408149Z",
     "iopub.status.busy": "2020-12-15T11:02:45.407648Z",
     "iopub.status.idle": "2020-12-15T11:02:46.144399Z",
     "shell.execute_reply": "2020-12-15T11:02:46.143933Z"
    },
    "papermill": {
     "duration": 0.748075,
     "end_time": "2020-12-15T11:02:46.144510",
     "exception": false,
     "start_time": "2020-12-15T11:02:45.396435",
     "status": "completed"
    },
    "tags": []
   },
   "outputs": [
    {
     "data": {
      "text/plain": [
       "Error: {\"hint\":null,\"details\":null,\"code\":\"42P01\",\"message\":\"relation \\\"\\\"geodb_418dfeac-15f0-4606-9edb-fd9eb722bf04_land_use_id_seq\\\"\\\" does not exist\"}"
      ]
     },
     "execution_count": 12,
     "metadata": {},
     "output_type": "execute_result"
    }
   ],
   "source": [
    "geodb.unpublish_collection(\"land_use\")"
   ]
  },
  {
   "cell_type": "code",
   "execution_count": 13,
   "metadata": {
    "execution": {
     "iopub.execute_input": "2020-12-15T11:02:46.167816Z",
     "iopub.status.busy": "2020-12-15T11:02:46.167254Z",
     "iopub.status.idle": "2020-12-15T11:02:46.299745Z",
     "shell.execute_reply": "2020-12-15T11:02:46.299244Z"
    },
    "papermill": {
     "duration": 0.146024,
     "end_time": "2020-12-15T11:02:46.299852",
     "exception": false,
     "start_time": "2020-12-15T11:02:46.153828",
     "status": "completed"
    },
    "tags": []
   },
   "outputs": [
    {
     "data": {
      "text/html": [
       "<div>\n",
       "<style scoped>\n",
       "    .dataframe tbody tr th:only-of-type {\n",
       "        vertical-align: middle;\n",
       "    }\n",
       "\n",
       "    .dataframe tbody tr th {\n",
       "        vertical-align: top;\n",
       "    }\n",
       "\n",
       "    .dataframe thead th {\n",
       "        text-align: right;\n",
       "    }\n",
       "</style>\n",
       "<table border=\"1\" class=\"dataframe\">\n",
       "  <thead>\n",
       "    <tr style=\"text-align: right;\">\n",
       "      <th></th>\n",
       "      <th>database</th>\n",
       "      <th>table_name</th>\n",
       "      <th>grantee</th>\n",
       "      <th>privileges</th>\n",
       "    </tr>\n",
       "  </thead>\n",
       "  <tbody>\n",
       "    <tr>\n",
       "      <th>0</th>\n",
       "      <td>geodb_418dfeac-15f0-4606-9edb-fd9eb722bf04</td>\n",
       "      <td>land_use</td>\n",
       "      <td>PUBLIC</td>\n",
       "      <td>SELECT</td>\n",
       "    </tr>\n",
       "  </tbody>\n",
       "</table>\n",
       "</div>"
      ],
      "text/plain": [
       "                                     database table_name grantee privileges\n",
       "0  geodb_418dfeac-15f0-4606-9edb-fd9eb722bf04   land_use  PUBLIC     SELECT"
      ]
     },
     "execution_count": 13,
     "metadata": {},
     "output_type": "execute_result"
    }
   ],
   "source": [
    "geodb.list_my_grants()"
   ]
  },
  {
   "cell_type": "code",
   "execution_count": 14,
   "metadata": {
    "execution": {
     "iopub.execute_input": "2020-12-15T11:02:46.322832Z",
     "iopub.status.busy": "2020-12-15T11:02:46.321475Z",
     "iopub.status.idle": "2020-12-15T11:02:47.614970Z",
     "shell.execute_reply": "2020-12-15T11:02:47.615311Z"
    },
    "papermill": {
     "duration": 1.305993,
     "end_time": "2020-12-15T11:02:47.615477",
     "exception": false,
     "start_time": "2020-12-15T11:02:46.309484",
     "status": "completed"
    },
    "tags": []
   },
   "outputs": [
    {
     "data": {
      "text/html": [
       "<div>\n",
       "<style scoped>\n",
       "    .dataframe tbody tr th:only-of-type {\n",
       "        vertical-align: middle;\n",
       "    }\n",
       "\n",
       "    .dataframe tbody tr th {\n",
       "        vertical-align: top;\n",
       "    }\n",
       "\n",
       "    .dataframe thead th {\n",
       "        text-align: right;\n",
       "    }\n",
       "</style>\n",
       "<table border=\"1\" class=\"dataframe\">\n",
       "  <thead>\n",
       "    <tr style=\"text-align: right;\">\n",
       "      <th></th>\n",
       "      <th>id</th>\n",
       "      <th>created_at</th>\n",
       "      <th>modified_at</th>\n",
       "      <th>geometry</th>\n",
       "      <th>raba_pid</th>\n",
       "      <th>raba_id</th>\n",
       "      <th>d_od</th>\n",
       "    </tr>\n",
       "  </thead>\n",
       "  <tbody>\n",
       "    <tr>\n",
       "      <th>0</th>\n",
       "      <td>12</td>\n",
       "      <td>2020-09-29T09:23:21.172369+00:00</td>\n",
       "      <td>None</td>\n",
       "      <td>POLYGON ((453673.609 91328.224, 453678.929 913...</td>\n",
       "      <td>5983074</td>\n",
       "      <td>1600</td>\n",
       "      <td>2019-03-26</td>\n",
       "    </tr>\n",
       "    <tr>\n",
       "      <th>1</th>\n",
       "      <td>13</td>\n",
       "      <td>2020-09-29T09:23:21.172369+00:00</td>\n",
       "      <td>None</td>\n",
       "      <td>POLYGON ((460312.295 96127.114, 460300.319 961...</td>\n",
       "      <td>5983199</td>\n",
       "      <td>1600</td>\n",
       "      <td>2019-03-11</td>\n",
       "    </tr>\n",
       "  </tbody>\n",
       "</table>\n",
       "</div>"
      ],
      "text/plain": [
       "   id                        created_at modified_at  \\\n",
       "0  12  2020-09-29T09:23:21.172369+00:00        None   \n",
       "1  13  2020-09-29T09:23:21.172369+00:00        None   \n",
       "\n",
       "                                            geometry  raba_pid  raba_id  \\\n",
       "0  POLYGON ((453673.609 91328.224, 453678.929 913...   5983074     1600   \n",
       "1  POLYGON ((460312.295 96127.114, 460300.319 961...   5983199     1600   \n",
       "\n",
       "         d_od  \n",
       "0  2019-03-26  \n",
       "1  2019-03-11  "
      ]
     },
     "execution_count": 14,
     "metadata": {},
     "output_type": "execute_result"
    }
   ],
   "source": [
    "gdf = geodb.get_collection_by_bbox(collection=\"land_use\", bbox=(452750.0, 88909.549, 464000.0, 102486.299),\n",
    "                comparison_mode=\"contains\", bbox_crs=3794, limit=2, offset=10)\n",
    "gdf"
   ]
  },
  {
   "cell_type": "code",
   "execution_count": null,
   "metadata": {
    "papermill": {
     "duration": 0.010521,
     "end_time": "2020-12-15T11:02:47.635827",
     "exception": false,
     "start_time": "2020-12-15T11:02:47.625306",
     "status": "completed"
    },
    "tags": []
   },
   "outputs": [],
   "source": []
  }
 ],
 "metadata": {
  "kernelspec": {
   "display_name": "EDC 0.21.0 (Python3)",
   "language": "python",
   "name": "edc"
  },
  "language_info": {
   "codemirror_mode": {
    "name": "ipython",
    "version": 3
   },
   "file_extension": ".py",
   "mimetype": "text/x-python",
   "name": "python",
   "nbconvert_exporter": "python",
   "pygments_lexer": "ipython3",
   "version": "3.8.6"
  },
  "papermill": {
   "duration": 5.699401,
   "end_time": "2020-12-15T11:02:47.950908",
   "environment_variables": {},
   "exception": null,
   "input_path": "/tmp/tmp3nu1pb03",
   "output_path": "/tmp/cur_notebook.ipynb",
   "parameters": {},
   "start_time": "2020-12-15T11:02:42.251507",
   "version": "2.1.2"
  },
  "properties": {
   "description": "Euro Data Cube GeoDB: Sharing Data",
   "id": "geodb-sharing",
   "license": null,
   "name": "GeoDB: Sharing Data",
   "requirements": [
    "eurodatacube-geodb"
   ],
   "tags": [
    "Getting started",
    "GeoDB"
   ],
   "version": "0.2"
  },
  "pycharm": {
   "stem_cell": {
    "cell_type": "raw",
    "metadata": {
     "collapsed": false
    },
    "source": []
   }
  }
 },
 "nbformat": 4,
 "nbformat_minor": 4
}