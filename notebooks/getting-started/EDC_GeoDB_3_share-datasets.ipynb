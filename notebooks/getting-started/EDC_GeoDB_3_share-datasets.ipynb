{
 "cells": [
  {
   "cell_type": "code",
   "execution_count": 1,
   "id": "committed-point",
   "metadata": {
    "execution": {
     "iopub.execute_input": "2021-05-11T13:56:52.448635Z",
     "iopub.status.busy": "2021-05-11T13:56:52.447743Z",
     "iopub.status.idle": "2021-05-11T13:56:52.777023Z",
     "shell.execute_reply": "2021-05-11T13:56:52.777911Z"
    },
    "papermill": {
     "duration": 0.347327,
     "end_time": "2021-05-11T13:56:52.778198",
     "exception": false,
     "start_time": "2021-05-11T13:56:52.430871",
     "status": "completed"
    },
    "tags": []
   },
   "outputs": [
    {
     "data": {
      "text/markdown": [
       "\n",
       "***Notebook Title***  \n",
       "GeoDB: Sharing Data\n",
       "\n",
       "***Notebook Description***  \n",
       "Euro Data Cube GeoDB: Sharing Data\n",
       "\n",
       "\n",
       "***Notebook Dependencies***  \n",
       "This notebook requires an active subscription to:\n",
       "* EDC GeoDB\n"
      ],
      "text/plain": [
       "<IPython.core.display.Markdown object>"
      ]
     },
     "metadata": {},
     "output_type": "display_data"
    }
   ],
   "source": [
    "from edc import print_info\n",
    "print_info(\"geodb-sharing\")"
   ]
  },
  {
   "cell_type": "code",
   "execution_count": 2,
   "id": "exceptional-cologne",
   "metadata": {
    "execution": {
     "iopub.execute_input": "2021-05-11T13:56:52.807789Z",
     "iopub.status.busy": "2021-05-11T13:56:52.806396Z",
     "iopub.status.idle": "2021-05-11T13:56:52.811005Z",
     "shell.execute_reply": "2021-05-11T13:56:52.813664Z"
    },
    "papermill": {
     "duration": 0.023176,
     "end_time": "2021-05-11T13:56:52.813836",
     "exception": false,
     "start_time": "2021-05-11T13:56:52.790660",
     "status": "completed"
    },
    "tags": []
   },
   "outputs": [
    {
     "data": {
      "text/markdown": [
       "API credentials have automatically been injected for your active subscriptions.  \n",
       "The following environment variables are now available:\n",
       "\n",
       "The following additional environment variables have been loaded from `~/custom.env`:\n",
       "* `AWS_BUCKET`\n",
       "* `DAPA_URL`\n",
       "* `DB_HOST`, `DB_NAME`, `DB_PASSWORD`, `DB_USER`\n",
       "* `OGC_EDC_URL`\n",
       "* `REFERENCE_DATA`\n"
      ],
      "text/plain": [
       "<IPython.core.display.Markdown object>"
      ]
     },
     "metadata": {},
     "output_type": "display_data"
    }
   ],
   "source": [
    "from edc import setup_environment_variables\n",
    "setup_environment_variables()"
   ]
  },
  {
   "cell_type": "code",
   "execution_count": 3,
   "id": "brief-prisoner",
   "metadata": {
    "execution": {
     "iopub.execute_input": "2021-05-11T13:56:52.845028Z",
     "iopub.status.busy": "2021-05-11T13:56:52.844169Z",
     "iopub.status.idle": "2021-05-11T13:56:52.851524Z",
     "shell.execute_reply": "2021-05-11T13:56:52.852260Z"
    },
    "papermill": {
     "duration": 0.025348,
     "end_time": "2021-05-11T13:56:52.852476",
     "exception": false,
     "start_time": "2021-05-11T13:56:52.827128",
     "status": "completed"
    },
    "tags": []
   },
   "outputs": [
    {
     "data": {
      "text/html": [
       "<script type=\"text/javascript\">\n",
       "        function toggle(id) {\n",
       "            el = document.getElementById(id);\n",
       "            el.style.display = el.style.display === \"none\" ? \"block\" : \"none\";\n",
       "        }\n",
       "    </script>"
      ],
      "text/plain": [
       "<IPython.core.display.HTML object>"
      ]
     },
     "metadata": {},
     "output_type": "display_data"
    },
    {
     "data": {
      "text/html": [
       "This notebook is compatible with this base image version (user-0.24.5)."
      ],
      "text/plain": [
       "<IPython.core.display.HTML object>"
      ]
     },
     "metadata": {},
     "output_type": "display_data"
    },
    {
     "data": {
      "text/markdown": [
       "\n",
       "\n",
       "---------\n",
       "\n",
       "The following environment variables are available:\n",
       "\n",
       "* `GEODB_AUTH_AUD`, `GEODB_AUTH_CLIENT_ID`, `GEODB_AUTH_DOMAIN`, `GEODB_API_SERVER_URL`, `GEODB_AUTH_CLIENT_SECRET`, `GEODB_API_SERVER_PORT`\n"
      ],
      "text/plain": [
       "<IPython.core.display.Markdown object>"
      ]
     },
     "metadata": {},
     "output_type": "display_data"
    }
   ],
   "source": [
    "from edc import check_compatibility\n",
    "check_compatibility(\"user-0.24.5\", dependencies=[\"GEODB\"])"
   ]
  },
  {
   "cell_type": "markdown",
   "id": "unknown-romantic",
   "metadata": {
    "papermill": {
     "duration": 0.021313,
     "end_time": "2021-05-11T13:56:52.891895",
     "exception": false,
     "start_time": "2021-05-11T13:56:52.870582",
     "status": "completed"
    },
    "tags": []
   },
   "source": [
    "## Sharing Data"
   ]
  },
  {
   "cell_type": "code",
   "execution_count": 4,
   "id": "loose-mercury",
   "metadata": {
    "execution": {
     "iopub.execute_input": "2021-05-11T13:56:52.932339Z",
     "iopub.status.busy": "2021-05-11T13:56:52.931494Z",
     "iopub.status.idle": "2021-05-11T13:56:53.502265Z",
     "shell.execute_reply": "2021-05-11T13:56:53.503280Z"
    },
    "papermill": {
     "duration": 0.594778,
     "end_time": "2021-05-11T13:56:53.503933",
     "exception": false,
     "start_time": "2021-05-11T13:56:52.909155",
     "status": "completed"
    },
    "tags": []
   },
   "outputs": [],
   "source": [
    "from xcube_geodb.core.geodb import GeoDBClient"
   ]
  },
  {
   "cell_type": "code",
   "execution_count": 5,
   "id": "similar-emission",
   "metadata": {
    "execution": {
     "iopub.execute_input": "2021-05-11T13:56:53.553048Z",
     "iopub.status.busy": "2021-05-11T13:56:53.548676Z",
     "iopub.status.idle": "2021-05-11T13:56:54.571865Z",
     "shell.execute_reply": "2021-05-11T13:56:54.572407Z"
    },
    "papermill": {
     "duration": 1.050331,
     "end_time": "2021-05-11T13:56:54.572596",
     "exception": false,
     "start_time": "2021-05-11T13:56:53.522265",
     "status": "completed"
    },
    "tags": []
   },
   "outputs": [
    {
     "data": {
      "text/plain": [
       "'geodb_418dfeac-15f0-4606-9edb-fd9eb722bf04'"
      ]
     },
     "execution_count": 5,
     "metadata": {},
     "output_type": "execute_result"
    }
   ],
   "source": [
    "geodb = GeoDBClient()\n",
    "geodb.whoami"
   ]
  },
  {
   "cell_type": "code",
   "execution_count": 6,
   "id": "bacterial-python",
   "metadata": {
    "execution": {
     "iopub.execute_input": "2021-05-11T13:56:54.606682Z",
     "iopub.status.busy": "2021-05-11T13:56:54.605687Z",
     "iopub.status.idle": "2021-05-11T13:56:56.498907Z",
     "shell.execute_reply": "2021-05-11T13:56:56.498198Z"
    },
    "papermill": {
     "duration": 1.912797,
     "end_time": "2021-05-11T13:56:56.499540",
     "exception": false,
     "start_time": "2021-05-11T13:56:54.586743",
     "status": "completed"
    },
    "tags": []
   },
   "outputs": [],
   "source": [
    "ds = geodb.get_my_collections()\n",
    "\n",
    "if ds[(ds.database == geodb.whoami) & (ds.table_name == 'land_use')].table_name.count() == 0:\n",
    "    # Have a look at fiona feature schema\n",
    "    collections = {\n",
    "            \"land_use\": \n",
    "            {\n",
    "                \"crs\": 3794,\n",
    "                \"properties\": \n",
    "                {\n",
    "                    \"RABA_PID\": \"float\", \n",
    "                    \"RABA_ID\": \"float\", \n",
    "                    \"D_OD\": \"date\"\n",
    "                }\n",
    "            }\n",
    "        }\n",
    "\n",
    "\n",
    "    geodb.create_collections(collections)\n",
    "    import geopandas\n",
    "    import os\n",
    "    gdf = geopandas.read_file(os.path.expanduser(\"~/.shared/notebooks/eurodatacube/notebooks/getting-started/data/sample/land_use.shp\"))\n",
    "    geodb.insert_into_collection('land_use', gdf)"
   ]
  },
  {
   "cell_type": "markdown",
   "id": "prospective-portsmouth",
   "metadata": {
    "papermill": {
     "duration": 0.017889,
     "end_time": "2021-05-11T13:56:56.537992",
     "exception": false,
     "start_time": "2021-05-11T13:56:56.520103",
     "status": "completed"
    },
    "tags": []
   },
   "source": [
    "### Publish a Collection to the World"
   ]
  },
  {
   "cell_type": "code",
   "execution_count": 7,
   "id": "supreme-contractor",
   "metadata": {
    "execution": {
     "iopub.execute_input": "2021-05-11T13:56:56.586569Z",
     "iopub.status.busy": "2021-05-11T13:56:56.584428Z",
     "iopub.status.idle": "2021-05-11T13:56:57.139659Z",
     "shell.execute_reply": "2021-05-11T13:56:57.138968Z"
    },
    "papermill": {
     "duration": 0.585117,
     "end_time": "2021-05-11T13:56:57.139810",
     "exception": false,
     "start_time": "2021-05-11T13:56:56.554693",
     "status": "completed"
    },
    "tags": []
   },
   "outputs": [
    {
     "data": {
      "text/html": [
       "<div>\n",
       "<style scoped>\n",
       "    .dataframe tbody tr th:only-of-type {\n",
       "        vertical-align: middle;\n",
       "    }\n",
       "\n",
       "    .dataframe tbody tr th {\n",
       "        vertical-align: top;\n",
       "    }\n",
       "\n",
       "    .dataframe thead th {\n",
       "        text-align: right;\n",
       "    }\n",
       "</style>\n",
       "<table border=\"1\" class=\"dataframe\">\n",
       "  <thead>\n",
       "    <tr style=\"text-align: right;\">\n",
       "      <th></th>\n",
       "      <th>Grants</th>\n",
       "    </tr>\n",
       "  </thead>\n",
       "  <tbody>\n",
       "    <tr>\n",
       "      <th>0</th>\n",
       "      <td>No Grants</td>\n",
       "    </tr>\n",
       "  </tbody>\n",
       "</table>\n",
       "</div>"
      ],
      "text/plain": [
       "      Grants\n",
       "0  No Grants"
      ]
     },
     "execution_count": 7,
     "metadata": {},
     "output_type": "execute_result"
    }
   ],
   "source": [
    "geodb.list_my_grants()"
   ]
  },
  {
   "cell_type": "code",
   "execution_count": 8,
   "id": "metallic-mathematics",
   "metadata": {
    "execution": {
     "iopub.execute_input": "2021-05-11T13:56:57.173404Z",
     "iopub.status.busy": "2021-05-11T13:56:57.171958Z",
     "iopub.status.idle": "2021-05-11T13:56:58.765126Z",
     "shell.execute_reply": "2021-05-11T13:56:58.765923Z"
    },
    "papermill": {
     "duration": 1.613686,
     "end_time": "2021-05-11T13:56:58.766224",
     "exception": false,
     "start_time": "2021-05-11T13:56:57.152538",
     "status": "completed"
    },
    "tags": []
   },
   "outputs": [
    {
     "data": {
      "text/plain": [
       "Access granted on land_use to public."
      ]
     },
     "execution_count": 8,
     "metadata": {},
     "output_type": "execute_result"
    }
   ],
   "source": [
    "geodb.publish_collection(\"land_use\")"
   ]
  },
  {
   "cell_type": "markdown",
   "id": "entitled-kansas",
   "metadata": {
    "papermill": {
     "duration": 0.011389,
     "end_time": "2021-05-11T13:56:58.790737",
     "exception": false,
     "start_time": "2021-05-11T13:56:58.779348",
     "status": "completed"
    },
    "tags": []
   },
   "source": [
    "### Accessing Collection as a different User\n",
    "\n",
    "Please be aware that you cannot change the user easily within a Notebook. Here, we changed the credentials in the background. The following cells will not run and are for demonstration only."
   ]
  },
  {
   "cell_type": "code",
   "execution_count": 9,
   "id": "criminal-homeless",
   "metadata": {
    "execution": {
     "iopub.execute_input": "2021-05-11T13:56:58.833212Z",
     "iopub.status.busy": "2021-05-11T13:56:58.828757Z",
     "iopub.status.idle": "2021-05-11T13:56:59.836504Z",
     "shell.execute_reply": "2021-05-11T13:56:59.835862Z"
    },
    "papermill": {
     "duration": 1.030043,
     "end_time": "2021-05-11T13:56:59.836668",
     "exception": false,
     "start_time": "2021-05-11T13:56:58.806625",
     "status": "completed"
    },
    "tags": []
   },
   "outputs": [
    {
     "data": {
      "text/plain": [
       "'geodb_418dfeac-15f0-4606-9edb-fd9eb722bf04'"
      ]
     },
     "execution_count": 9,
     "metadata": {},
     "output_type": "execute_result"
    }
   ],
   "source": [
    "geodb = GeoDBClient()\n",
    "geodb.whoami"
   ]
  },
  {
   "cell_type": "code",
   "execution_count": 10,
   "id": "anticipated-redhead",
   "metadata": {
    "execution": {
     "iopub.execute_input": "2021-05-11T13:56:59.871673Z",
     "iopub.status.busy": "2021-05-11T13:56:59.868824Z",
     "iopub.status.idle": "2021-05-11T13:56:59.872978Z",
     "shell.execute_reply": "2021-05-11T13:56:59.872286Z"
    },
    "papermill": {
     "duration": 0.021251,
     "end_time": "2021-05-11T13:56:59.873132",
     "exception": false,
     "start_time": "2021-05-11T13:56:59.851881",
     "status": "completed"
    },
    "tags": []
   },
   "outputs": [],
   "source": [
    "# geodb.get_collection('land_use', database='geodb_admin')"
   ]
  },
  {
   "cell_type": "markdown",
   "id": "judicial-shipping",
   "metadata": {
    "papermill": {
     "duration": 0.015894,
     "end_time": "2021-05-11T13:56:59.911383",
     "exception": false,
     "start_time": "2021-05-11T13:56:59.895489",
     "status": "completed"
    },
    "tags": []
   },
   "source": [
    "### Revoke access"
   ]
  },
  {
   "cell_type": "code",
   "execution_count": 11,
   "id": "undefined-speaking",
   "metadata": {
    "execution": {
     "iopub.execute_input": "2021-05-11T13:56:59.956055Z",
     "iopub.status.busy": "2021-05-11T13:56:59.955072Z",
     "iopub.status.idle": "2021-05-11T13:57:00.462002Z",
     "shell.execute_reply": "2021-05-11T13:57:00.462695Z"
    },
    "papermill": {
     "duration": 0.533372,
     "end_time": "2021-05-11T13:57:00.462900",
     "exception": false,
     "start_time": "2021-05-11T13:56:59.929528",
     "status": "completed"
    },
    "tags": []
   },
   "outputs": [
    {
     "data": {
      "text/html": [
       "<div>\n",
       "<style scoped>\n",
       "    .dataframe tbody tr th:only-of-type {\n",
       "        vertical-align: middle;\n",
       "    }\n",
       "\n",
       "    .dataframe tbody tr th {\n",
       "        vertical-align: top;\n",
       "    }\n",
       "\n",
       "    .dataframe thead th {\n",
       "        text-align: right;\n",
       "    }\n",
       "</style>\n",
       "<table border=\"1\" class=\"dataframe\">\n",
       "  <thead>\n",
       "    <tr style=\"text-align: right;\">\n",
       "      <th></th>\n",
       "      <th>database</th>\n",
       "      <th>table_name</th>\n",
       "      <th>grantee</th>\n",
       "      <th>privileges</th>\n",
       "    </tr>\n",
       "  </thead>\n",
       "  <tbody>\n",
       "    <tr>\n",
       "      <th>0</th>\n",
       "      <td>geodb_418dfeac-15f0-4606-9edb-fd9eb722bf04</td>\n",
       "      <td>land_use</td>\n",
       "      <td>PUBLIC</td>\n",
       "      <td>SELECT</td>\n",
       "    </tr>\n",
       "  </tbody>\n",
       "</table>\n",
       "</div>"
      ],
      "text/plain": [
       "                                     database table_name grantee privileges\n",
       "0  geodb_418dfeac-15f0-4606-9edb-fd9eb722bf04   land_use  PUBLIC     SELECT"
      ]
     },
     "execution_count": 11,
     "metadata": {},
     "output_type": "execute_result"
    }
   ],
   "source": [
    "geodb.list_my_grants()"
   ]
  },
  {
   "cell_type": "code",
   "execution_count": 12,
   "id": "particular-pendant",
   "metadata": {
    "execution": {
     "iopub.execute_input": "2021-05-11T13:57:00.496762Z",
     "iopub.status.busy": "2021-05-11T13:57:00.495440Z",
     "iopub.status.idle": "2021-05-11T13:57:05.628612Z",
     "shell.execute_reply": "2021-05-11T13:57:05.629264Z"
    },
    "papermill": {
     "duration": 5.151546,
     "end_time": "2021-05-11T13:57:05.629484",
     "exception": false,
     "start_time": "2021-05-11T13:57:00.477938",
     "status": "completed"
    },
    "tags": []
   },
   "outputs": [
    {
     "data": {
      "text/plain": [
       "Access revoked from user public on land_use"
      ]
     },
     "execution_count": 12,
     "metadata": {},
     "output_type": "execute_result"
    }
   ],
   "source": [
    "geodb.unpublish_collection(\"land_use\")"
   ]
  },
  {
   "cell_type": "code",
   "execution_count": 13,
   "id": "recovered-nepal",
   "metadata": {
    "execution": {
     "iopub.execute_input": "2021-05-11T13:57:05.668825Z",
     "iopub.status.busy": "2021-05-11T13:57:05.665558Z",
     "iopub.status.idle": "2021-05-11T13:57:06.205951Z",
     "shell.execute_reply": "2021-05-11T13:57:06.209873Z"
    },
    "papermill": {
     "duration": 0.566125,
     "end_time": "2021-05-11T13:57:06.213310",
     "exception": false,
     "start_time": "2021-05-11T13:57:05.647185",
     "status": "completed"
    },
    "tags": []
   },
   "outputs": [
    {
     "data": {
      "text/html": [
       "<div>\n",
       "<style scoped>\n",
       "    .dataframe tbody tr th:only-of-type {\n",
       "        vertical-align: middle;\n",
       "    }\n",
       "\n",
       "    .dataframe tbody tr th {\n",
       "        vertical-align: top;\n",
       "    }\n",
       "\n",
       "    .dataframe thead th {\n",
       "        text-align: right;\n",
       "    }\n",
       "</style>\n",
       "<table border=\"1\" class=\"dataframe\">\n",
       "  <thead>\n",
       "    <tr style=\"text-align: right;\">\n",
       "      <th></th>\n",
       "      <th>Grants</th>\n",
       "    </tr>\n",
       "  </thead>\n",
       "  <tbody>\n",
       "    <tr>\n",
       "      <th>0</th>\n",
       "      <td>No Grants</td>\n",
       "    </tr>\n",
       "  </tbody>\n",
       "</table>\n",
       "</div>"
      ],
      "text/plain": [
       "      Grants\n",
       "0  No Grants"
      ]
     },
     "execution_count": 13,
     "metadata": {},
     "output_type": "execute_result"
    }
   ],
   "source": [
    "geodb.list_my_grants()"
   ]
  },
  {
   "cell_type": "code",
   "execution_count": 14,
   "id": "proprietary-poultry",
   "metadata": {
    "execution": {
     "iopub.execute_input": "2021-05-11T13:57:06.276210Z",
     "iopub.status.busy": "2021-05-11T13:57:06.275033Z",
     "iopub.status.idle": "2021-05-11T13:57:14.755736Z",
     "shell.execute_reply": "2021-05-11T13:57:14.756418Z"
    },
    "papermill": {
     "duration": 8.514165,
     "end_time": "2021-05-11T13:57:14.756616",
     "exception": false,
     "start_time": "2021-05-11T13:57:06.242451",
     "status": "completed"
    },
    "tags": []
   },
   "outputs": [
    {
     "data": {
      "text/html": [
       "<div>\n",
       "<style scoped>\n",
       "    .dataframe tbody tr th:only-of-type {\n",
       "        vertical-align: middle;\n",
       "    }\n",
       "\n",
       "    .dataframe tbody tr th {\n",
       "        vertical-align: top;\n",
       "    }\n",
       "\n",
       "    .dataframe thead th {\n",
       "        text-align: right;\n",
       "    }\n",
       "</style>\n",
       "<table border=\"1\" class=\"dataframe\">\n",
       "  <thead>\n",
       "    <tr style=\"text-align: right;\">\n",
       "      <th></th>\n",
       "      <th>id</th>\n",
       "      <th>created_at</th>\n",
       "      <th>modified_at</th>\n",
       "      <th>geometry</th>\n",
       "      <th>raba_pid</th>\n",
       "      <th>raba_id</th>\n",
       "      <th>d_od</th>\n",
       "    </tr>\n",
       "  </thead>\n",
       "  <tbody>\n",
       "    <tr>\n",
       "      <th>0</th>\n",
       "      <td>12</td>\n",
       "      <td>2020-09-29T09:23:21.172369+00:00</td>\n",
       "      <td>None</td>\n",
       "      <td>POLYGON ((453673.609 91328.224, 453678.929 913...</td>\n",
       "      <td>5983074</td>\n",
       "      <td>1600</td>\n",
       "      <td>2019-03-26</td>\n",
       "    </tr>\n",
       "    <tr>\n",
       "      <th>1</th>\n",
       "      <td>13</td>\n",
       "      <td>2020-09-29T09:23:21.172369+00:00</td>\n",
       "      <td>None</td>\n",
       "      <td>POLYGON ((460312.295 96127.114, 460300.319 961...</td>\n",
       "      <td>5983199</td>\n",
       "      <td>1600</td>\n",
       "      <td>2019-03-11</td>\n",
       "    </tr>\n",
       "  </tbody>\n",
       "</table>\n",
       "</div>"
      ],
      "text/plain": [
       "   id                        created_at modified_at  \\\n",
       "0  12  2020-09-29T09:23:21.172369+00:00        None   \n",
       "1  13  2020-09-29T09:23:21.172369+00:00        None   \n",
       "\n",
       "                                            geometry  raba_pid  raba_id  \\\n",
       "0  POLYGON ((453673.609 91328.224, 453678.929 913...   5983074     1600   \n",
       "1  POLYGON ((460312.295 96127.114, 460300.319 961...   5983199     1600   \n",
       "\n",
       "         d_od  \n",
       "0  2019-03-26  \n",
       "1  2019-03-11  "
      ]
     },
     "execution_count": 14,
     "metadata": {},
     "output_type": "execute_result"
    }
   ],
   "source": [
    "gdf = geodb.get_collection_by_bbox(collection=\"land_use\", bbox=(452750.0, 88909.549, 464000.0, 102486.299),\n",
    "                comparison_mode=\"contains\", bbox_crs=3794, limit=2, offset=10)\n",
    "gdf"
   ]
  },
  {
   "cell_type": "code",
   "execution_count": null,
   "id": "adopted-protection",
   "metadata": {
    "papermill": {
     "duration": 0.026842,
     "end_time": "2021-05-11T13:57:14.807908",
     "exception": false,
     "start_time": "2021-05-11T13:57:14.781066",
     "status": "completed"
    },
    "tags": []
   },
   "outputs": [],
   "source": []
  }
 ],
 "metadata": {
  "kernelspec": {
   "display_name": "EDC 0.21.0 (Python3)",
   "language": "python",
   "name": "edc"
  },
  "language_info": {
   "codemirror_mode": {
    "name": "ipython",
    "version": 3
   },
   "file_extension": ".py",
   "mimetype": "text/x-python",
   "name": "python",
   "nbconvert_exporter": "python",
   "pygments_lexer": "ipython3",
   "version": "3.8.10"
  },
  "papermill": {
   "duration": 23.733962,
   "end_time": "2021-05-11T13:57:15.255939",
   "environment_variables": {},
   "exception": null,
   "input_path": "/tmp/tmpktzamnwi",
   "output_path": "/tmp/cur_notebook.ipynb",
   "parameters": {},
   "start_time": "2021-05-11T13:56:51.521977",
   "version": "2.1.2"
  },
  "properties": {
   "description": "Euro Data Cube GeoDB: Sharing Data",
   "id": "geodb-sharing",
   "license": null,
   "name": "GeoDB: Sharing Data",
   "requirements": [
    "eurodatacube-geodb"
   ],
   "tags": [
    "Getting started",
    "GeoDB"
   ],
   "version": "0.2"
  },
  "pycharm": {
   "stem_cell": {
    "cell_type": "raw",
    "metadata": {
     "collapsed": false
    },
    "source": []
   }
  }
 },
 "nbformat": 4,
 "nbformat_minor": 5
}