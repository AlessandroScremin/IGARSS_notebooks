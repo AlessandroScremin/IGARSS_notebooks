{
 "cells": [
  {
   "cell_type": "code",
   "execution_count": 1,
   "id": "committed-point",
   "metadata": {
    "execution": {
     "iopub.execute_input": "2021-03-15T09:18:20.385974Z",
     "iopub.status.busy": "2021-03-15T09:18:20.384963Z",
     "iopub.status.idle": "2021-03-15T09:18:20.780996Z",
     "shell.execute_reply": "2021-03-15T09:18:20.779700Z"
    },
    "papermill": {
     "duration": 0.424626,
     "end_time": "2021-03-15T09:18:20.781230",
     "exception": false,
     "start_time": "2021-03-15T09:18:20.356604",
     "status": "completed"
    },
    "tags": []
   },
   "outputs": [
    {
     "data": {
      "text/markdown": [
       "\n",
       "***Notebook Title***  \n",
       "GeoDB: Sharing Data\n",
       "\n",
       "***Notebook Description***  \n",
       "Euro Data Cube GeoDB: Sharing Data\n",
       "\n",
       "\n",
       "***Notebook Dependencies***  \n",
       "This notebook requires an active subscription to:\n",
       "* EDC GeoDB\n"
      ],
      "text/plain": [
       "<IPython.core.display.Markdown object>"
      ]
     },
     "metadata": {},
     "output_type": "display_data"
    }
   ],
   "source": [
    "from edc import print_info\n",
    "print_info(\"geodb-sharing\")"
   ]
  },
  {
   "cell_type": "code",
   "execution_count": 2,
   "id": "exceptional-cologne",
   "metadata": {
    "execution": {
     "iopub.execute_input": "2021-03-15T09:18:20.827901Z",
     "iopub.status.busy": "2021-03-15T09:18:20.826381Z",
     "iopub.status.idle": "2021-03-15T09:18:20.834410Z",
     "shell.execute_reply": "2021-03-15T09:18:20.833498Z"
    },
    "papermill": {
     "duration": 0.035071,
     "end_time": "2021-03-15T09:18:20.834590",
     "exception": false,
     "start_time": "2021-03-15T09:18:20.799519",
     "status": "completed"
    },
    "tags": []
   },
   "outputs": [
    {
     "data": {
      "text/markdown": [
       "API credentials have automatically been injected for your active subscriptions.  \n",
       "The following environment variables are now available:\n",
       "* `GEODB_API_SERVER_PORT`, `GEODB_API_SERVER_URL`, `GEODB_AUTH_AUD`, `GEODB_AUTH_CLIENT_ID`, `GEODB_AUTH_CLIENT_SECRET`, `GEODB_AUTH_DOMAIN`\n",
       "\n",
       "The following additional environment variables have been loaded from `~/custom.env`:\n",
       "* `AWS_BUCKET`\n",
       "* `DAPA_URL`\n",
       "* `DB_HOST`, `DB_NAME`, `DB_PASSWORD`, `DB_USER`\n",
       "* `OGC_EDC_URL`\n",
       "* `REFERENCE_DATA`\n"
      ],
      "text/plain": [
       "<IPython.core.display.Markdown object>"
      ]
     },
     "metadata": {},
     "output_type": "display_data"
    }
   ],
   "source": [
    "from edc import setup_environment_variables\n",
    "setup_environment_variables()"
   ]
  },
  {
   "cell_type": "code",
   "execution_count": 3,
   "id": "brief-prisoner",
   "metadata": {
    "execution": {
     "iopub.execute_input": "2021-03-15T09:18:20.898259Z",
     "iopub.status.busy": "2021-03-15T09:18:20.896953Z",
     "iopub.status.idle": "2021-03-15T09:18:20.909299Z",
     "shell.execute_reply": "2021-03-15T09:18:20.910149Z"
    },
    "papermill": {
     "duration": 0.057852,
     "end_time": "2021-03-15T09:18:20.910446",
     "exception": false,
     "start_time": "2021-03-15T09:18:20.852594",
     "status": "completed"
    },
    "tags": []
   },
   "outputs": [
    {
     "data": {
      "text/html": [
       "<script type=\"text/javascript\">\n",
       "        function toggle(id) {\n",
       "            el = document.getElementById(id);\n",
       "            el.style.display = el.style.display === \"none\" ? \"block\" : \"none\";\n",
       "        }\n",
       "    </script>"
      ],
      "text/plain": [
       "<IPython.core.display.HTML object>"
      ]
     },
     "metadata": {},
     "output_type": "display_data"
    },
    {
     "data": {
      "text/html": [
       "This notebook is compatible with this base image version (user-0.23.1)."
      ],
      "text/plain": [
       "<IPython.core.display.HTML object>"
      ]
     },
     "metadata": {},
     "output_type": "display_data"
    }
   ],
   "source": [
    "from edc import check_compatibility\n",
    "check_compatibility(\"user-0.23.1\")"
   ]
  },
  {
   "cell_type": "markdown",
   "id": "unknown-romantic",
   "metadata": {
    "papermill": {
     "duration": 0.022535,
     "end_time": "2021-03-15T09:18:20.958667",
     "exception": false,
     "start_time": "2021-03-15T09:18:20.936132",
     "status": "completed"
    },
    "tags": []
   },
   "source": [
    "## Sharing Data"
   ]
  },
  {
   "cell_type": "code",
   "execution_count": 4,
   "id": "loose-mercury",
   "metadata": {
    "execution": {
     "iopub.execute_input": "2021-03-15T09:18:21.019477Z",
     "iopub.status.busy": "2021-03-15T09:18:21.017755Z",
     "iopub.status.idle": "2021-03-15T09:18:21.908468Z",
     "shell.execute_reply": "2021-03-15T09:18:21.909595Z"
    },
    "papermill": {
     "duration": 0.920186,
     "end_time": "2021-03-15T09:18:21.910059",
     "exception": false,
     "start_time": "2021-03-15T09:18:20.989873",
     "status": "completed"
    },
    "tags": []
   },
   "outputs": [],
   "source": [
    "from xcube_geodb.core.geodb import GeoDBClient"
   ]
  },
  {
   "cell_type": "code",
   "execution_count": 5,
   "id": "similar-emission",
   "metadata": {
    "execution": {
     "iopub.execute_input": "2021-03-15T09:18:21.983860Z",
     "iopub.status.busy": "2021-03-15T09:18:21.981919Z",
     "iopub.status.idle": "2021-03-15T09:18:22.280647Z",
     "shell.execute_reply": "2021-03-15T09:18:22.279521Z"
    },
    "papermill": {
     "duration": 0.3429,
     "end_time": "2021-03-15T09:18:22.280831",
     "exception": false,
     "start_time": "2021-03-15T09:18:21.937931",
     "status": "completed"
    },
    "tags": []
   },
   "outputs": [
    {
     "data": {
      "text/plain": [
       "'geodb_418dfeac-15f0-4606-9edb-fd9eb722bf04'"
      ]
     },
     "execution_count": 5,
     "metadata": {},
     "output_type": "execute_result"
    }
   ],
   "source": [
    "geodb = GeoDBClient()\n",
    "geodb.whoami"
   ]
  },
  {
   "cell_type": "code",
   "execution_count": 6,
   "id": "bacterial-python",
   "metadata": {
    "execution": {
     "iopub.execute_input": "2021-03-15T09:18:22.339772Z",
     "iopub.status.busy": "2021-03-15T09:18:22.336706Z",
     "iopub.status.idle": "2021-03-15T09:18:22.788989Z",
     "shell.execute_reply": "2021-03-15T09:18:22.789563Z"
    },
    "papermill": {
     "duration": 0.483757,
     "end_time": "2021-03-15T09:18:22.789835",
     "exception": false,
     "start_time": "2021-03-15T09:18:22.306078",
     "status": "completed"
    },
    "tags": []
   },
   "outputs": [],
   "source": [
    "ds = geodb.get_my_collections()\n",
    "\n",
    "if ds[(ds.database == geodb.whoami) & (ds.table_name == 'land_use')].table_name.count() == 0:\n",
    "    # Have a look at fiona feature schema\n",
    "    collections = {\n",
    "            \"land_use\": \n",
    "            {\n",
    "                \"crs\": 3794,\n",
    "                \"properties\": \n",
    "                {\n",
    "                    \"RABA_PID\": \"float\", \n",
    "                    \"RABA_ID\": \"float\", \n",
    "                    \"D_OD\": \"date\"\n",
    "                }\n",
    "            }\n",
    "        }\n",
    "\n",
    "\n",
    "    geodb.create_collections(collections)\n",
    "    import geopandas\n",
    "    import os\n",
    "    gdf = geopandas.read_file(os.path.expanduser(\"~/.shared/notebooks/eurodatacube/notebooks/getting-started/data/sample/land_use.shp\"))\n",
    "    geodb.insert_into_collection('land_use', gdf)"
   ]
  },
  {
   "cell_type": "markdown",
   "id": "prospective-portsmouth",
   "metadata": {
    "papermill": {
     "duration": 0.022343,
     "end_time": "2021-03-15T09:18:22.831889",
     "exception": false,
     "start_time": "2021-03-15T09:18:22.809546",
     "status": "completed"
    },
    "tags": []
   },
   "source": [
    "### Publish a Collection to the World"
   ]
  },
  {
   "cell_type": "code",
   "execution_count": 7,
   "id": "supreme-contractor",
   "metadata": {
    "execution": {
     "iopub.execute_input": "2021-03-15T09:18:22.899512Z",
     "iopub.status.busy": "2021-03-15T09:18:22.897213Z",
     "iopub.status.idle": "2021-03-15T09:18:23.065375Z",
     "shell.execute_reply": "2021-03-15T09:18:23.066062Z"
    },
    "papermill": {
     "duration": 0.203686,
     "end_time": "2021-03-15T09:18:23.066268",
     "exception": false,
     "start_time": "2021-03-15T09:18:22.862582",
     "status": "completed"
    },
    "tags": []
   },
   "outputs": [
    {
     "data": {
      "text/html": [
       "<div>\n",
       "<style scoped>\n",
       "    .dataframe tbody tr th:only-of-type {\n",
       "        vertical-align: middle;\n",
       "    }\n",
       "\n",
       "    .dataframe tbody tr th {\n",
       "        vertical-align: top;\n",
       "    }\n",
       "\n",
       "    .dataframe thead th {\n",
       "        text-align: right;\n",
       "    }\n",
       "</style>\n",
       "<table border=\"1\" class=\"dataframe\">\n",
       "  <thead>\n",
       "    <tr style=\"text-align: right;\">\n",
       "      <th></th>\n",
       "      <th>database</th>\n",
       "      <th>table_name</th>\n",
       "      <th>grantee</th>\n",
       "      <th>privileges</th>\n",
       "    </tr>\n",
       "  </thead>\n",
       "  <tbody>\n",
       "    <tr>\n",
       "      <th>0</th>\n",
       "      <td>geodb_418dfeac-15f0-4606-9edb-fd9eb722bf04</td>\n",
       "      <td>land_use</td>\n",
       "      <td>PUBLIC</td>\n",
       "      <td>SELECT</td>\n",
       "    </tr>\n",
       "  </tbody>\n",
       "</table>\n",
       "</div>"
      ],
      "text/plain": [
       "                                     database table_name grantee privileges\n",
       "0  geodb_418dfeac-15f0-4606-9edb-fd9eb722bf04   land_use  PUBLIC     SELECT"
      ]
     },
     "execution_count": 7,
     "metadata": {},
     "output_type": "execute_result"
    }
   ],
   "source": [
    "geodb.list_my_grants()"
   ]
  },
  {
   "cell_type": "code",
   "execution_count": 8,
   "id": "metallic-mathematics",
   "metadata": {
    "execution": {
     "iopub.execute_input": "2021-03-15T09:18:23.120107Z",
     "iopub.status.busy": "2021-03-15T09:18:23.118353Z",
     "iopub.status.idle": "2021-03-15T09:18:23.513415Z",
     "shell.execute_reply": "2021-03-15T09:18:23.512696Z"
    },
    "papermill": {
     "duration": 0.424818,
     "end_time": "2021-03-15T09:18:23.513928",
     "exception": false,
     "start_time": "2021-03-15T09:18:23.089110",
     "status": "completed"
    },
    "tags": []
   },
   "outputs": [
    {
     "data": {
      "text/plain": [
       "Access granted on land_use to public."
      ]
     },
     "execution_count": 8,
     "metadata": {},
     "output_type": "execute_result"
    }
   ],
   "source": [
    "geodb.publish_collection(\"land_use\")"
   ]
  },
  {
   "cell_type": "markdown",
   "id": "entitled-kansas",
   "metadata": {
    "papermill": {
     "duration": 0.018353,
     "end_time": "2021-03-15T09:18:23.557890",
     "exception": false,
     "start_time": "2021-03-15T09:18:23.539537",
     "status": "completed"
    },
    "tags": []
   },
   "source": [
    "### Accessing Collection as a different User\n",
    "\n",
    "Please be aware that you cannot change the user easily within a Notebook. Here, we changed the credentials in the background. The following cells will not run and are for demonstration only."
   ]
  },
  {
   "cell_type": "code",
   "execution_count": 9,
   "id": "criminal-homeless",
   "metadata": {
    "execution": {
     "iopub.execute_input": "2021-03-15T09:18:23.612878Z",
     "iopub.status.busy": "2021-03-15T09:18:23.611751Z",
     "iopub.status.idle": "2021-03-15T09:18:23.866485Z",
     "shell.execute_reply": "2021-03-15T09:18:23.865651Z"
    },
    "papermill": {
     "duration": 0.285507,
     "end_time": "2021-03-15T09:18:23.867240",
     "exception": false,
     "start_time": "2021-03-15T09:18:23.581733",
     "status": "completed"
    },
    "tags": []
   },
   "outputs": [
    {
     "data": {
      "text/plain": [
       "'geodb_418dfeac-15f0-4606-9edb-fd9eb722bf04'"
      ]
     },
     "execution_count": 9,
     "metadata": {},
     "output_type": "execute_result"
    }
   ],
   "source": [
    "geodb = GeoDBClient()\n",
    "geodb.whoami"
   ]
  },
  {
   "cell_type": "code",
   "execution_count": 10,
   "id": "anticipated-redhead",
   "metadata": {
    "execution": {
     "iopub.execute_input": "2021-03-15T09:18:23.920507Z",
     "iopub.status.busy": "2021-03-15T09:18:23.918567Z",
     "iopub.status.idle": "2021-03-15T09:18:23.922557Z",
     "shell.execute_reply": "2021-03-15T09:18:23.921888Z"
    },
    "papermill": {
     "duration": 0.033448,
     "end_time": "2021-03-15T09:18:23.923312",
     "exception": false,
     "start_time": "2021-03-15T09:18:23.889864",
     "status": "completed"
    },
    "tags": []
   },
   "outputs": [],
   "source": [
    "# geodb.get_collection('land_use', database='geodb_admin')"
   ]
  },
  {
   "cell_type": "markdown",
   "id": "judicial-shipping",
   "metadata": {
    "papermill": {
     "duration": 0.024694,
     "end_time": "2021-03-15T09:18:23.969998",
     "exception": false,
     "start_time": "2021-03-15T09:18:23.945304",
     "status": "completed"
    },
    "tags": []
   },
   "source": [
    "### Revoke access"
   ]
  },
  {
   "cell_type": "code",
   "execution_count": 11,
   "id": "undefined-speaking",
   "metadata": {
    "execution": {
     "iopub.execute_input": "2021-03-15T09:18:24.027553Z",
     "iopub.status.busy": "2021-03-15T09:18:24.025989Z",
     "iopub.status.idle": "2021-03-15T09:18:24.182472Z",
     "shell.execute_reply": "2021-03-15T09:18:24.180993Z"
    },
    "papermill": {
     "duration": 0.187977,
     "end_time": "2021-03-15T09:18:24.183285",
     "exception": false,
     "start_time": "2021-03-15T09:18:23.995308",
     "status": "completed"
    },
    "tags": []
   },
   "outputs": [
    {
     "data": {
      "text/html": [
       "<div>\n",
       "<style scoped>\n",
       "    .dataframe tbody tr th:only-of-type {\n",
       "        vertical-align: middle;\n",
       "    }\n",
       "\n",
       "    .dataframe tbody tr th {\n",
       "        vertical-align: top;\n",
       "    }\n",
       "\n",
       "    .dataframe thead th {\n",
       "        text-align: right;\n",
       "    }\n",
       "</style>\n",
       "<table border=\"1\" class=\"dataframe\">\n",
       "  <thead>\n",
       "    <tr style=\"text-align: right;\">\n",
       "      <th></th>\n",
       "      <th>database</th>\n",
       "      <th>table_name</th>\n",
       "      <th>grantee</th>\n",
       "      <th>privileges</th>\n",
       "    </tr>\n",
       "  </thead>\n",
       "  <tbody>\n",
       "    <tr>\n",
       "      <th>0</th>\n",
       "      <td>geodb_418dfeac-15f0-4606-9edb-fd9eb722bf04</td>\n",
       "      <td>land_use</td>\n",
       "      <td>PUBLIC</td>\n",
       "      <td>SELECT</td>\n",
       "    </tr>\n",
       "  </tbody>\n",
       "</table>\n",
       "</div>"
      ],
      "text/plain": [
       "                                     database table_name grantee privileges\n",
       "0  geodb_418dfeac-15f0-4606-9edb-fd9eb722bf04   land_use  PUBLIC     SELECT"
      ]
     },
     "execution_count": 11,
     "metadata": {},
     "output_type": "execute_result"
    }
   ],
   "source": [
    "geodb.list_my_grants()"
   ]
  },
  {
   "cell_type": "code",
   "execution_count": 12,
   "id": "particular-pendant",
   "metadata": {
    "execution": {
     "iopub.execute_input": "2021-03-15T09:18:24.244857Z",
     "iopub.status.busy": "2021-03-15T09:18:24.243578Z",
     "iopub.status.idle": "2021-03-15T09:18:25.431958Z",
     "shell.execute_reply": "2021-03-15T09:18:25.430512Z"
    },
    "papermill": {
     "duration": 1.225672,
     "end_time": "2021-03-15T09:18:25.432172",
     "exception": false,
     "start_time": "2021-03-15T09:18:24.206500",
     "status": "completed"
    },
    "tags": []
   },
   "outputs": [
    {
     "data": {
      "text/plain": [
       "Access revoked from user public on land_use"
      ]
     },
     "execution_count": 12,
     "metadata": {},
     "output_type": "execute_result"
    }
   ],
   "source": [
    "geodb.unpublish_collection(\"land_use\")"
   ]
  },
  {
   "cell_type": "code",
   "execution_count": 13,
   "id": "recovered-nepal",
   "metadata": {
    "execution": {
     "iopub.execute_input": "2021-03-15T09:18:25.486503Z",
     "iopub.status.busy": "2021-03-15T09:18:25.485478Z",
     "iopub.status.idle": "2021-03-15T09:18:25.629910Z",
     "shell.execute_reply": "2021-03-15T09:18:25.630422Z"
    },
    "papermill": {
     "duration": 0.17849,
     "end_time": "2021-03-15T09:18:25.630585",
     "exception": false,
     "start_time": "2021-03-15T09:18:25.452095",
     "status": "completed"
    },
    "tags": []
   },
   "outputs": [
    {
     "data": {
      "text/html": [
       "<div>\n",
       "<style scoped>\n",
       "    .dataframe tbody tr th:only-of-type {\n",
       "        vertical-align: middle;\n",
       "    }\n",
       "\n",
       "    .dataframe tbody tr th {\n",
       "        vertical-align: top;\n",
       "    }\n",
       "\n",
       "    .dataframe thead th {\n",
       "        text-align: right;\n",
       "    }\n",
       "</style>\n",
       "<table border=\"1\" class=\"dataframe\">\n",
       "  <thead>\n",
       "    <tr style=\"text-align: right;\">\n",
       "      <th></th>\n",
       "      <th>Grants</th>\n",
       "    </tr>\n",
       "  </thead>\n",
       "  <tbody>\n",
       "    <tr>\n",
       "      <th>0</th>\n",
       "      <td>No Grants</td>\n",
       "    </tr>\n",
       "  </tbody>\n",
       "</table>\n",
       "</div>"
      ],
      "text/plain": [
       "      Grants\n",
       "0  No Grants"
      ]
     },
     "execution_count": 13,
     "metadata": {},
     "output_type": "execute_result"
    }
   ],
   "source": [
    "geodb.list_my_grants()"
   ]
  },
  {
   "cell_type": "code",
   "execution_count": 14,
   "id": "proprietary-poultry",
   "metadata": {
    "execution": {
     "iopub.execute_input": "2021-03-15T09:18:25.687346Z",
     "iopub.status.busy": "2021-03-15T09:18:25.685702Z",
     "iopub.status.idle": "2021-03-15T09:18:29.693805Z",
     "shell.execute_reply": "2021-03-15T09:18:29.694502Z"
    },
    "papermill": {
     "duration": 4.042988,
     "end_time": "2021-03-15T09:18:29.695461",
     "exception": false,
     "start_time": "2021-03-15T09:18:25.652473",
     "status": "completed"
    },
    "tags": []
   },
   "outputs": [
    {
     "data": {
      "text/html": [
       "<div>\n",
       "<style scoped>\n",
       "    .dataframe tbody tr th:only-of-type {\n",
       "        vertical-align: middle;\n",
       "    }\n",
       "\n",
       "    .dataframe tbody tr th {\n",
       "        vertical-align: top;\n",
       "    }\n",
       "\n",
       "    .dataframe thead th {\n",
       "        text-align: right;\n",
       "    }\n",
       "</style>\n",
       "<table border=\"1\" class=\"dataframe\">\n",
       "  <thead>\n",
       "    <tr style=\"text-align: right;\">\n",
       "      <th></th>\n",
       "      <th>id</th>\n",
       "      <th>created_at</th>\n",
       "      <th>modified_at</th>\n",
       "      <th>geometry</th>\n",
       "      <th>raba_pid</th>\n",
       "      <th>raba_id</th>\n",
       "      <th>d_od</th>\n",
       "    </tr>\n",
       "  </thead>\n",
       "  <tbody>\n",
       "    <tr>\n",
       "      <th>0</th>\n",
       "      <td>12</td>\n",
       "      <td>2020-09-29T09:23:21.172369+00:00</td>\n",
       "      <td>None</td>\n",
       "      <td>POLYGON ((453673.609 91328.224, 453678.929 913...</td>\n",
       "      <td>5983074</td>\n",
       "      <td>1600</td>\n",
       "      <td>2019-03-26</td>\n",
       "    </tr>\n",
       "    <tr>\n",
       "      <th>1</th>\n",
       "      <td>13</td>\n",
       "      <td>2020-09-29T09:23:21.172369+00:00</td>\n",
       "      <td>None</td>\n",
       "      <td>POLYGON ((460312.295 96127.114, 460300.319 961...</td>\n",
       "      <td>5983199</td>\n",
       "      <td>1600</td>\n",
       "      <td>2019-03-11</td>\n",
       "    </tr>\n",
       "  </tbody>\n",
       "</table>\n",
       "</div>"
      ],
      "text/plain": [
       "   id                        created_at modified_at  \\\n",
       "0  12  2020-09-29T09:23:21.172369+00:00        None   \n",
       "1  13  2020-09-29T09:23:21.172369+00:00        None   \n",
       "\n",
       "                                            geometry  raba_pid  raba_id  \\\n",
       "0  POLYGON ((453673.609 91328.224, 453678.929 913...   5983074     1600   \n",
       "1  POLYGON ((460312.295 96127.114, 460300.319 961...   5983199     1600   \n",
       "\n",
       "         d_od  \n",
       "0  2019-03-26  \n",
       "1  2019-03-11  "
      ]
     },
     "execution_count": 14,
     "metadata": {},
     "output_type": "execute_result"
    }
   ],
   "source": [
    "gdf = geodb.get_collection_by_bbox(collection=\"land_use\", bbox=(452750.0, 88909.549, 464000.0, 102486.299),\n",
    "                comparison_mode=\"contains\", bbox_crs=3794, limit=2, offset=10)\n",
    "gdf"
   ]
  },
  {
   "cell_type": "code",
   "execution_count": null,
   "id": "adopted-protection",
   "metadata": {
    "papermill": {
     "duration": 0.026587,
     "end_time": "2021-03-15T09:18:29.748305",
     "exception": false,
     "start_time": "2021-03-15T09:18:29.721718",
     "status": "completed"
    },
    "tags": []
   },
   "outputs": [],
   "source": []
  }
 ],
 "metadata": {
  "kernelspec": {
   "display_name": "EDC 0.21.0 (Python3)",
   "language": "python",
   "name": "edc"
  },
  "language_info": {
   "codemirror_mode": {
    "name": "ipython",
    "version": 3
   },
   "file_extension": ".py",
   "mimetype": "text/x-python",
   "name": "python",
   "nbconvert_exporter": "python",
   "pygments_lexer": "ipython3",
   "version": "3.8.8"
  },
  "papermill": {
   "duration": 11.001493,
   "end_time": "2021-03-15T09:18:30.188413",
   "environment_variables": {},
   "exception": null,
   "input_path": "/tmp/tmp19xxnmip",
   "output_path": "/tmp/cur_notebook.ipynb",
   "parameters": {},
   "start_time": "2021-03-15T09:18:19.186920",
   "version": "2.1.2"
  },
  "properties": {
   "description": "Euro Data Cube GeoDB: Sharing Data",
   "id": "geodb-sharing",
   "license": null,
   "name": "GeoDB: Sharing Data",
   "requirements": [
    "eurodatacube-geodb"
   ],
   "tags": [
    "Getting started",
    "GeoDB"
   ],
   "version": "0.2"
  },
  "pycharm": {
   "stem_cell": {
    "cell_type": "raw",
    "metadata": {
     "collapsed": false
    },
    "source": []
   }
  }
 },
 "nbformat": 4,
 "nbformat_minor": 5
}