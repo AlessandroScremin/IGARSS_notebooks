{
 "cells": [
  {
   "cell_type": "code",
   "execution_count": 1,
   "metadata": {
    "execution": {
     "iopub.execute_input": "2020-05-18T08:20:22.962673Z",
     "iopub.status.busy": "2020-05-18T08:20:22.962087Z",
     "iopub.status.idle": "2020-05-18T08:20:23.192282Z",
     "shell.execute_reply": "2020-05-18T08:20:23.193167Z"
    },
    "papermill": {
     "duration": 0.288685,
     "end_time": "2020-05-18T08:20:23.193431",
     "exception": false,
     "start_time": "2020-05-18T08:20:22.904746",
     "status": "completed"
    },
    "tags": []
   },
   "outputs": [
    {
     "data": {
      "text/markdown": [
       "\n",
       "***Notebook Title***  \n",
       "GeoDB: Sharing Data\n",
       "\n",
       "***Notebook Description***  \n",
       "Euro Data Cube GeoDB: Sharing Data\n",
       "\n",
       "\n",
       "***Notebook Dependencies***  \n",
       "This notebook requires an active subscription to:\n",
       "* EDC GeoDB\n",
       "\n",
       "---------\n",
       "\n",
       "*API credentials have automatically been injected for your active subscriptions.*\n",
       "\n",
       "The following environment variables are now available:\n",
       "* `SH_INSTANCE_ID`\n",
       "* `SH_CLIENT_ID`\n",
       "* `SH_CLIENT_SECRET`\n",
       "* `SH_CLIENT_NAME`\n",
       "* `GEODB_API_SERVER_URL`\n",
       "* `GEODB_AUTH_CLIENT_ID`\n",
       "* `GEODB_AUTH_AUD`\n",
       "* `GEODB_AUTH_CLIENT_SECRET`\n",
       "* `GEODB_API_SERVER_PORT`\n",
       "* `GEODB_AUTH_DOMAIN`\n",
       "\n",
       "-------------\n"
      ],
      "text/plain": [
       "<IPython.core.display.Markdown object>"
      ]
     },
     "metadata": {},
     "output_type": "display_data"
    }
   ],
   "source": [
    "# load notebook details and inject API credentials (if available)\n",
    "from edc import prepare; prepare(\"geodb-sharing\")"
   ]
  },
  {
   "cell_type": "markdown",
   "metadata": {
    "papermill": {
     "duration": 0.041676,
     "end_time": "2020-05-18T08:20:23.280503",
     "exception": false,
     "start_time": "2020-05-18T08:20:23.238827",
     "status": "completed"
    },
    "tags": []
   },
   "source": [
    "## Sharing Data"
   ]
  },
  {
   "cell_type": "code",
   "execution_count": 2,
   "metadata": {
    "execution": {
     "iopub.execute_input": "2020-05-18T08:20:23.378191Z",
     "iopub.status.busy": "2020-05-18T08:20:23.377658Z",
     "iopub.status.idle": "2020-05-18T08:20:24.272821Z",
     "shell.execute_reply": "2020-05-18T08:20:24.273549Z"
    },
    "papermill": {
     "duration": 0.949939,
     "end_time": "2020-05-18T08:20:24.273766",
     "exception": false,
     "start_time": "2020-05-18T08:20:23.323827",
     "status": "completed"
    },
    "tags": []
   },
   "outputs": [],
   "source": [
    "from xcube_geodb.core.geodb import GeoDBClient"
   ]
  },
  {
   "cell_type": "code",
   "execution_count": 3,
   "metadata": {
    "execution": {
     "iopub.execute_input": "2020-05-18T08:20:24.367245Z",
     "iopub.status.busy": "2020-05-18T08:20:24.366528Z",
     "iopub.status.idle": "2020-05-18T08:20:24.688027Z",
     "shell.execute_reply": "2020-05-18T08:20:24.687228Z"
    },
    "papermill": {
     "duration": 0.367756,
     "end_time": "2020-05-18T08:20:24.688142",
     "exception": false,
     "start_time": "2020-05-18T08:20:24.320386",
     "status": "completed"
    },
    "tags": []
   },
   "outputs": [
    {
     "data": {
      "text/plain": [
       "'geodb_0c0a0ef4-8d0d-4e70-b002-033c7cbb41fd'"
      ]
     },
     "execution_count": 3,
     "metadata": {},
     "output_type": "execute_result"
    }
   ],
   "source": [
    "geodb = GeoDBClient()\n",
    "geodb.whoami"
   ]
  },
  {
   "cell_type": "markdown",
   "metadata": {
    "papermill": {
     "duration": 0.039933,
     "end_time": "2020-05-18T08:20:24.773337",
     "exception": false,
     "start_time": "2020-05-18T08:20:24.733404",
     "status": "completed"
    },
    "tags": []
   },
   "source": [
    "### Publish Dataset to the world"
   ]
  },
  {
   "cell_type": "code",
   "execution_count": 4,
   "metadata": {
    "execution": {
     "iopub.execute_input": "2020-05-18T08:20:24.863097Z",
     "iopub.status.busy": "2020-05-18T08:20:24.862558Z",
     "iopub.status.idle": "2020-05-18T08:20:25.006176Z",
     "shell.execute_reply": "2020-05-18T08:20:25.007075Z"
    },
    "papermill": {
     "duration": 0.195427,
     "end_time": "2020-05-18T08:20:25.007304",
     "exception": false,
     "start_time": "2020-05-18T08:20:24.811877",
     "status": "completed"
    },
    "tags": []
   },
   "outputs": [
    {
     "data": {
      "text/html": [
       "<div>\n",
       "<style scoped>\n",
       "    .dataframe tbody tr th:only-of-type {\n",
       "        vertical-align: middle;\n",
       "    }\n",
       "\n",
       "    .dataframe tbody tr th {\n",
       "        vertical-align: top;\n",
       "    }\n",
       "\n",
       "    .dataframe thead th {\n",
       "        text-align: right;\n",
       "    }\n",
       "</style>\n",
       "<table border=\"1\" class=\"dataframe\">\n",
       "  <thead>\n",
       "    <tr style=\"text-align: right;\">\n",
       "      <th></th>\n",
       "      <th>table_name</th>\n",
       "      <th>grantee</th>\n",
       "    </tr>\n",
       "  </thead>\n",
       "  <tbody>\n",
       "    <tr>\n",
       "      <th>0</th>\n",
       "      <td>geodb_0c0a0ef4-8d0d-4e70-b002-033c7cbb41fd_lan...</td>\n",
       "      <td>PUBLIC</td>\n",
       "    </tr>\n",
       "    <tr>\n",
       "      <th>1</th>\n",
       "      <td>geodb_0c0a0ef4-8d0d-4e70-b002-033c7cbb41fd_lan...</td>\n",
       "      <td>PUBLIC</td>\n",
       "    </tr>\n",
       "    <tr>\n",
       "      <th>2</th>\n",
       "      <td>geodb_0c0a0ef4-8d0d-4e70-b002-033c7cbb41fd_lan...</td>\n",
       "      <td>PUBLIC</td>\n",
       "    </tr>\n",
       "    <tr>\n",
       "      <th>3</th>\n",
       "      <td>geodb_0c0a0ef4-8d0d-4e70-b002-033c7cbb41fd_lan...</td>\n",
       "      <td>PUBLIC</td>\n",
       "    </tr>\n",
       "  </tbody>\n",
       "</table>\n",
       "</div>"
      ],
      "text/plain": [
       "                                          table_name grantee\n",
       "0  geodb_0c0a0ef4-8d0d-4e70-b002-033c7cbb41fd_lan...  PUBLIC\n",
       "1  geodb_0c0a0ef4-8d0d-4e70-b002-033c7cbb41fd_lan...  PUBLIC\n",
       "2  geodb_0c0a0ef4-8d0d-4e70-b002-033c7cbb41fd_lan...  PUBLIC\n",
       "3  geodb_0c0a0ef4-8d0d-4e70-b002-033c7cbb41fd_lan...  PUBLIC"
      ]
     },
     "execution_count": 4,
     "metadata": {},
     "output_type": "execute_result"
    }
   ],
   "source": [
    "geodb.list_grants()"
   ]
  },
  {
   "cell_type": "code",
   "execution_count": 5,
   "metadata": {
    "execution": {
     "iopub.execute_input": "2020-05-18T08:20:25.106311Z",
     "iopub.status.busy": "2020-05-18T08:20:25.102056Z",
     "iopub.status.idle": "2020-05-18T08:20:25.851769Z",
     "shell.execute_reply": "2020-05-18T08:20:25.851319Z"
    },
    "papermill": {
     "duration": 0.800987,
     "end_time": "2020-05-18T08:20:25.851879",
     "exception": false,
     "start_time": "2020-05-18T08:20:25.050892",
     "status": "completed"
    },
    "tags": []
   },
   "outputs": [
    {
     "data": {
      "text/plain": [
       "Access granted on land_use to public"
      ]
     },
     "execution_count": 5,
     "metadata": {},
     "output_type": "execute_result"
    }
   ],
   "source": [
    "geodb.publish_collection(\"land_use\")"
   ]
  },
  {
   "cell_type": "code",
   "execution_count": 6,
   "metadata": {
    "execution": {
     "iopub.execute_input": "2020-05-18T08:20:25.943857Z",
     "iopub.status.busy": "2020-05-18T08:20:25.943089Z",
     "iopub.status.idle": "2020-05-18T08:20:26.069221Z",
     "shell.execute_reply": "2020-05-18T08:20:26.069667Z"
    },
    "papermill": {
     "duration": 0.172546,
     "end_time": "2020-05-18T08:20:26.069801",
     "exception": false,
     "start_time": "2020-05-18T08:20:25.897255",
     "status": "completed"
    },
    "tags": []
   },
   "outputs": [
    {
     "data": {
      "text/html": [
       "<div>\n",
       "<style scoped>\n",
       "    .dataframe tbody tr th:only-of-type {\n",
       "        vertical-align: middle;\n",
       "    }\n",
       "\n",
       "    .dataframe tbody tr th {\n",
       "        vertical-align: top;\n",
       "    }\n",
       "\n",
       "    .dataframe thead th {\n",
       "        text-align: right;\n",
       "    }\n",
       "</style>\n",
       "<table border=\"1\" class=\"dataframe\">\n",
       "  <thead>\n",
       "    <tr style=\"text-align: right;\">\n",
       "      <th></th>\n",
       "      <th>table_name</th>\n",
       "      <th>grantee</th>\n",
       "    </tr>\n",
       "  </thead>\n",
       "  <tbody>\n",
       "    <tr>\n",
       "      <th>0</th>\n",
       "      <td>public_land_use</td>\n",
       "      <td>PUBLIC</td>\n",
       "    </tr>\n",
       "    <tr>\n",
       "      <th>1</th>\n",
       "      <td>public_land_use</td>\n",
       "      <td>PUBLIC</td>\n",
       "    </tr>\n",
       "    <tr>\n",
       "      <th>2</th>\n",
       "      <td>public_land_use</td>\n",
       "      <td>PUBLIC</td>\n",
       "    </tr>\n",
       "    <tr>\n",
       "      <th>3</th>\n",
       "      <td>public_land_use</td>\n",
       "      <td>PUBLIC</td>\n",
       "    </tr>\n",
       "  </tbody>\n",
       "</table>\n",
       "</div>"
      ],
      "text/plain": [
       "        table_name grantee\n",
       "0  public_land_use  PUBLIC\n",
       "1  public_land_use  PUBLIC\n",
       "2  public_land_use  PUBLIC\n",
       "3  public_land_use  PUBLIC"
      ]
     },
     "execution_count": 6,
     "metadata": {},
     "output_type": "execute_result"
    }
   ],
   "source": [
    "geodb.list_grants()"
   ]
  },
  {
   "cell_type": "code",
   "execution_count": 7,
   "metadata": {
    "execution": {
     "iopub.execute_input": "2020-05-18T08:20:26.170584Z",
     "iopub.status.busy": "2020-05-18T08:20:26.169828Z",
     "iopub.status.idle": "2020-05-18T08:20:30.355026Z",
     "shell.execute_reply": "2020-05-18T08:20:30.355552Z"
    },
    "papermill": {
     "duration": 4.246086,
     "end_time": "2020-05-18T08:20:30.355737",
     "exception": false,
     "start_time": "2020-05-18T08:20:26.109651",
     "status": "completed"
    },
    "tags": []
   },
   "outputs": [
    {
     "data": {
      "text/html": [
       "<div>\n",
       "<style scoped>\n",
       "    .dataframe tbody tr th:only-of-type {\n",
       "        vertical-align: middle;\n",
       "    }\n",
       "\n",
       "    .dataframe tbody tr th {\n",
       "        vertical-align: top;\n",
       "    }\n",
       "\n",
       "    .dataframe thead th {\n",
       "        text-align: right;\n",
       "    }\n",
       "</style>\n",
       "<table border=\"1\" class=\"dataframe\">\n",
       "  <thead>\n",
       "    <tr style=\"text-align: right;\">\n",
       "      <th></th>\n",
       "      <th>id</th>\n",
       "      <th>created_at</th>\n",
       "      <th>modified_at</th>\n",
       "      <th>geometry</th>\n",
       "      <th>raba_pid</th>\n",
       "      <th>raba_id</th>\n",
       "      <th>d_od</th>\n",
       "    </tr>\n",
       "  </thead>\n",
       "  <tbody>\n",
       "    <tr>\n",
       "      <th>0</th>\n",
       "      <td>1</td>\n",
       "      <td>2020-04-23T14:25:57.670808+00:00</td>\n",
       "      <td>None</td>\n",
       "      <td>POLYGON ((453952.629 91124.177, 453952.696 911...</td>\n",
       "      <td>4770326</td>\n",
       "      <td>1410</td>\n",
       "      <td>2019-03-26</td>\n",
       "    </tr>\n",
       "    <tr>\n",
       "      <th>1</th>\n",
       "      <td>9828</td>\n",
       "      <td>2020-05-18T07:57:40.617849+00:00</td>\n",
       "      <td>None</td>\n",
       "      <td>POLYGON ((453952.629 91124.177, 453952.696 911...</td>\n",
       "      <td>4770326</td>\n",
       "      <td>1410</td>\n",
       "      <td>2019-03-26</td>\n",
       "    </tr>\n",
       "    <tr>\n",
       "      <th>2</th>\n",
       "      <td>19655</td>\n",
       "      <td>2020-05-18T08:11:17.715062+00:00</td>\n",
       "      <td>None</td>\n",
       "      <td>POLYGON ((453952.629 91124.177, 453952.696 911...</td>\n",
       "      <td>4770326</td>\n",
       "      <td>1410</td>\n",
       "      <td>2019-03-26</td>\n",
       "    </tr>\n",
       "    <tr>\n",
       "      <th>3</th>\n",
       "      <td>4</td>\n",
       "      <td>2020-04-23T14:25:57.670808+00:00</td>\n",
       "      <td>None</td>\n",
       "      <td>POLYGON ((455929.405 97963.785, 455933.284 979...</td>\n",
       "      <td>2305596</td>\n",
       "      <td>1100</td>\n",
       "      <td>2019-02-25</td>\n",
       "    </tr>\n",
       "    <tr>\n",
       "      <th>4</th>\n",
       "      <td>5</td>\n",
       "      <td>2020-04-23T14:25:57.670808+00:00</td>\n",
       "      <td>None</td>\n",
       "      <td>POLYGON ((461561.512 96119.256, 461632.114 960...</td>\n",
       "      <td>2310160</td>\n",
       "      <td>1100</td>\n",
       "      <td>2019-03-11</td>\n",
       "    </tr>\n",
       "    <tr>\n",
       "      <th>...</th>\n",
       "      <td>...</td>\n",
       "      <td>...</td>\n",
       "      <td>...</td>\n",
       "      <td>...</td>\n",
       "      <td>...</td>\n",
       "      <td>...</td>\n",
       "      <td>...</td>\n",
       "    </tr>\n",
       "    <tr>\n",
       "      <th>28324</th>\n",
       "      <td>29419</td>\n",
       "      <td>2020-05-18T08:11:17.715062+00:00</td>\n",
       "      <td>2020-05-18T08:11:22.848066+00:00</td>\n",
       "      <td>POLYGON ((458304.555 100146.103, 458306.726 10...</td>\n",
       "      <td>6268058</td>\n",
       "      <td>1300</td>\n",
       "      <td>2000-01-01</td>\n",
       "    </tr>\n",
       "    <tr>\n",
       "      <th>28325</th>\n",
       "      <td>29420</td>\n",
       "      <td>2020-05-18T08:11:17.715062+00:00</td>\n",
       "      <td>2020-05-18T08:11:22.848066+00:00</td>\n",
       "      <td>POLYGON ((458247.583 99746.065, 458245.202 997...</td>\n",
       "      <td>6268059</td>\n",
       "      <td>1300</td>\n",
       "      <td>2000-01-01</td>\n",
       "    </tr>\n",
       "    <tr>\n",
       "      <th>28326</th>\n",
       "      <td>29421</td>\n",
       "      <td>2020-05-18T08:11:17.715062+00:00</td>\n",
       "      <td>2020-05-18T08:11:22.848066+00:00</td>\n",
       "      <td>POLYGON ((461932.283 90520.703, 461931.619 905...</td>\n",
       "      <td>6263561</td>\n",
       "      <td>1300</td>\n",
       "      <td>2000-01-01</td>\n",
       "    </tr>\n",
       "    <tr>\n",
       "      <th>28327</th>\n",
       "      <td>29452</td>\n",
       "      <td>2020-05-18T08:11:17.715062+00:00</td>\n",
       "      <td>2020-05-18T08:11:22.848066+00:00</td>\n",
       "      <td>POLYGON ((457231.170 90902.256, 457234.861 909...</td>\n",
       "      <td>6264862</td>\n",
       "      <td>1300</td>\n",
       "      <td>2000-01-01</td>\n",
       "    </tr>\n",
       "    <tr>\n",
       "      <th>28328</th>\n",
       "      <td>29453</td>\n",
       "      <td>2020-05-18T08:11:17.715062+00:00</td>\n",
       "      <td>2020-05-18T08:11:22.848066+00:00</td>\n",
       "      <td>POLYGON ((461378.845 91124.318, 461490.224 911...</td>\n",
       "      <td>6264865</td>\n",
       "      <td>1300</td>\n",
       "      <td>2000-01-01</td>\n",
       "    </tr>\n",
       "  </tbody>\n",
       "</table>\n",
       "<p>28329 rows × 7 columns</p>\n",
       "</div>"
      ],
      "text/plain": [
       "          id                        created_at  \\\n",
       "0          1  2020-04-23T14:25:57.670808+00:00   \n",
       "1       9828  2020-05-18T07:57:40.617849+00:00   \n",
       "2      19655  2020-05-18T08:11:17.715062+00:00   \n",
       "3          4  2020-04-23T14:25:57.670808+00:00   \n",
       "4          5  2020-04-23T14:25:57.670808+00:00   \n",
       "...      ...                               ...   \n",
       "28324  29419  2020-05-18T08:11:17.715062+00:00   \n",
       "28325  29420  2020-05-18T08:11:17.715062+00:00   \n",
       "28326  29421  2020-05-18T08:11:17.715062+00:00   \n",
       "28327  29452  2020-05-18T08:11:17.715062+00:00   \n",
       "28328  29453  2020-05-18T08:11:17.715062+00:00   \n",
       "\n",
       "                            modified_at  \\\n",
       "0                                  None   \n",
       "1                                  None   \n",
       "2                                  None   \n",
       "3                                  None   \n",
       "4                                  None   \n",
       "...                                 ...   \n",
       "28324  2020-05-18T08:11:22.848066+00:00   \n",
       "28325  2020-05-18T08:11:22.848066+00:00   \n",
       "28326  2020-05-18T08:11:22.848066+00:00   \n",
       "28327  2020-05-18T08:11:22.848066+00:00   \n",
       "28328  2020-05-18T08:11:22.848066+00:00   \n",
       "\n",
       "                                                geometry  raba_pid  raba_id  \\\n",
       "0      POLYGON ((453952.629 91124.177, 453952.696 911...   4770326     1410   \n",
       "1      POLYGON ((453952.629 91124.177, 453952.696 911...   4770326     1410   \n",
       "2      POLYGON ((453952.629 91124.177, 453952.696 911...   4770326     1410   \n",
       "3      POLYGON ((455929.405 97963.785, 455933.284 979...   2305596     1100   \n",
       "4      POLYGON ((461561.512 96119.256, 461632.114 960...   2310160     1100   \n",
       "...                                                  ...       ...      ...   \n",
       "28324  POLYGON ((458304.555 100146.103, 458306.726 10...   6268058     1300   \n",
       "28325  POLYGON ((458247.583 99746.065, 458245.202 997...   6268059     1300   \n",
       "28326  POLYGON ((461932.283 90520.703, 461931.619 905...   6263561     1300   \n",
       "28327  POLYGON ((457231.170 90902.256, 457234.861 909...   6264862     1300   \n",
       "28328  POLYGON ((461378.845 91124.318, 461490.224 911...   6264865     1300   \n",
       "\n",
       "             d_od  \n",
       "0      2019-03-26  \n",
       "1      2019-03-26  \n",
       "2      2019-03-26  \n",
       "3      2019-02-25  \n",
       "4      2019-03-11  \n",
       "...           ...  \n",
       "28324  2000-01-01  \n",
       "28325  2000-01-01  \n",
       "28326  2000-01-01  \n",
       "28327  2000-01-01  \n",
       "28328  2000-01-01  \n",
       "\n",
       "[28329 rows x 7 columns]"
      ]
     },
     "execution_count": 7,
     "metadata": {},
     "output_type": "execute_result"
    }
   ],
   "source": [
    "geodb.get_collection('land_use', database='public')"
   ]
  },
  {
   "cell_type": "markdown",
   "metadata": {
    "papermill": {
     "duration": 0.044297,
     "end_time": "2020-05-18T08:20:30.443644",
     "exception": false,
     "start_time": "2020-05-18T08:20:30.399347",
     "status": "completed"
    },
    "tags": []
   },
   "source": [
    "### Revoke access"
   ]
  },
  {
   "cell_type": "code",
   "execution_count": 8,
   "metadata": {
    "execution": {
     "iopub.execute_input": "2020-05-18T08:20:30.541053Z",
     "iopub.status.busy": "2020-05-18T08:20:30.540359Z",
     "iopub.status.idle": "2020-05-18T08:20:30.657662Z",
     "shell.execute_reply": "2020-05-18T08:20:30.658056Z"
    },
    "papermill": {
     "duration": 0.170451,
     "end_time": "2020-05-18T08:20:30.658192",
     "exception": false,
     "start_time": "2020-05-18T08:20:30.487741",
     "status": "completed"
    },
    "tags": []
   },
   "outputs": [
    {
     "data": {
      "text/html": [
       "<div>\n",
       "<style scoped>\n",
       "    .dataframe tbody tr th:only-of-type {\n",
       "        vertical-align: middle;\n",
       "    }\n",
       "\n",
       "    .dataframe tbody tr th {\n",
       "        vertical-align: top;\n",
       "    }\n",
       "\n",
       "    .dataframe thead th {\n",
       "        text-align: right;\n",
       "    }\n",
       "</style>\n",
       "<table border=\"1\" class=\"dataframe\">\n",
       "  <thead>\n",
       "    <tr style=\"text-align: right;\">\n",
       "      <th></th>\n",
       "      <th>table_name</th>\n",
       "      <th>grantee</th>\n",
       "    </tr>\n",
       "  </thead>\n",
       "  <tbody>\n",
       "    <tr>\n",
       "      <th>0</th>\n",
       "      <td>public_land_use</td>\n",
       "      <td>PUBLIC</td>\n",
       "    </tr>\n",
       "    <tr>\n",
       "      <th>1</th>\n",
       "      <td>public_land_use</td>\n",
       "      <td>PUBLIC</td>\n",
       "    </tr>\n",
       "    <tr>\n",
       "      <th>2</th>\n",
       "      <td>public_land_use</td>\n",
       "      <td>PUBLIC</td>\n",
       "    </tr>\n",
       "    <tr>\n",
       "      <th>3</th>\n",
       "      <td>public_land_use</td>\n",
       "      <td>PUBLIC</td>\n",
       "    </tr>\n",
       "  </tbody>\n",
       "</table>\n",
       "</div>"
      ],
      "text/plain": [
       "        table_name grantee\n",
       "0  public_land_use  PUBLIC\n",
       "1  public_land_use  PUBLIC\n",
       "2  public_land_use  PUBLIC\n",
       "3  public_land_use  PUBLIC"
      ]
     },
     "execution_count": 8,
     "metadata": {},
     "output_type": "execute_result"
    }
   ],
   "source": [
    "geodb.list_grants()"
   ]
  },
  {
   "cell_type": "code",
   "execution_count": 9,
   "metadata": {
    "execution": {
     "iopub.execute_input": "2020-05-18T08:20:30.807821Z",
     "iopub.status.busy": "2020-05-18T08:20:30.803906Z",
     "iopub.status.idle": "2020-05-18T08:20:31.251641Z",
     "shell.execute_reply": "2020-05-18T08:20:31.251120Z"
    },
    "papermill": {
     "duration": 0.549935,
     "end_time": "2020-05-18T08:20:31.251748",
     "exception": false,
     "start_time": "2020-05-18T08:20:30.701813",
     "status": "completed"
    },
    "tags": []
   },
   "outputs": [
    {
     "data": {
      "text/plain": [
       "Access revoked for land_use from public"
      ]
     },
     "execution_count": 9,
     "metadata": {},
     "output_type": "execute_result"
    }
   ],
   "source": [
    "geodb.unpublish_collection(\"land_use\")"
   ]
  },
  {
   "cell_type": "code",
   "execution_count": 10,
   "metadata": {
    "execution": {
     "iopub.execute_input": "2020-05-18T08:20:31.366729Z",
     "iopub.status.busy": "2020-05-18T08:20:31.363576Z",
     "iopub.status.idle": "2020-05-18T08:20:31.479335Z",
     "shell.execute_reply": "2020-05-18T08:20:31.479773Z"
    },
    "papermill": {
     "duration": 0.180629,
     "end_time": "2020-05-18T08:20:31.479909",
     "exception": false,
     "start_time": "2020-05-18T08:20:31.299280",
     "status": "completed"
    },
    "tags": []
   },
   "outputs": [
    {
     "data": {
      "text/html": [
       "<div>\n",
       "<style scoped>\n",
       "    .dataframe tbody tr th:only-of-type {\n",
       "        vertical-align: middle;\n",
       "    }\n",
       "\n",
       "    .dataframe tbody tr th {\n",
       "        vertical-align: top;\n",
       "    }\n",
       "\n",
       "    .dataframe thead th {\n",
       "        text-align: right;\n",
       "    }\n",
       "</style>\n",
       "<table border=\"1\" class=\"dataframe\">\n",
       "  <thead>\n",
       "    <tr style=\"text-align: right;\">\n",
       "      <th></th>\n",
       "      <th>table_name</th>\n",
       "      <th>grantee</th>\n",
       "    </tr>\n",
       "  </thead>\n",
       "  <tbody>\n",
       "    <tr>\n",
       "      <th>0</th>\n",
       "      <td>geodb_0c0a0ef4-8d0d-4e70-b002-033c7cbb41fd_lan...</td>\n",
       "      <td>PUBLIC</td>\n",
       "    </tr>\n",
       "    <tr>\n",
       "      <th>1</th>\n",
       "      <td>geodb_0c0a0ef4-8d0d-4e70-b002-033c7cbb41fd_lan...</td>\n",
       "      <td>PUBLIC</td>\n",
       "    </tr>\n",
       "    <tr>\n",
       "      <th>2</th>\n",
       "      <td>geodb_0c0a0ef4-8d0d-4e70-b002-033c7cbb41fd_lan...</td>\n",
       "      <td>PUBLIC</td>\n",
       "    </tr>\n",
       "  </tbody>\n",
       "</table>\n",
       "</div>"
      ],
      "text/plain": [
       "                                          table_name grantee\n",
       "0  geodb_0c0a0ef4-8d0d-4e70-b002-033c7cbb41fd_lan...  PUBLIC\n",
       "1  geodb_0c0a0ef4-8d0d-4e70-b002-033c7cbb41fd_lan...  PUBLIC\n",
       "2  geodb_0c0a0ef4-8d0d-4e70-b002-033c7cbb41fd_lan...  PUBLIC"
      ]
     },
     "execution_count": 10,
     "metadata": {},
     "output_type": "execute_result"
    }
   ],
   "source": [
    "geodb.list_grants()"
   ]
  }
 ],
 "metadata": {
  "kernelspec": {
   "display_name": "Python 3",
   "language": "python",
   "name": "python3"
  },
  "language_info": {
   "codemirror_mode": {
    "name": "ipython",
    "version": 3
   },
   "file_extension": ".py",
   "mimetype": "text/x-python",
   "name": "python",
   "nbconvert_exporter": "python",
   "pygments_lexer": "ipython3",
   "version": "3.7.6"
  },
  "papermill": {
   "duration": 9.591962,
   "end_time": "2020-05-18T08:20:31.639165",
   "environment_variables": {},
   "exception": null,
   "input_path": "EDC_GeoDB_3_share-datasets.ipynb",
   "output_path": "out.ipynb",
   "parameters": {},
   "start_time": "2020-05-18T08:20:22.047203",
   "version": "2.1.0"
  },
  "properties": {
   "description": "Euro Data Cube GeoDB: Sharing Data",
   "id": "geodb-sharing",
   "name": "GeoDB: Sharing Data",
   "requirements": [
    "eurodatacube-geodb"
   ],
   "tags": [
    "Getting started",
    "GeoDB"
   ],
   "version": "0.2"
  },
  "pycharm": {
   "stem_cell": {
    "cell_type": "raw",
    "metadata": {
     "collapsed": false
    },
    "source": []
   }
  }
 },
 "nbformat": 4,
 "nbformat_minor": 4
}