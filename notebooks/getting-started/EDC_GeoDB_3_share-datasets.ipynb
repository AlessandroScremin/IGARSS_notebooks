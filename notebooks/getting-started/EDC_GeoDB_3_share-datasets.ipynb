{
 "cells": [
  {
   "cell_type": "code",
   "execution_count": 1,
   "metadata": {
    "execution": {
     "iopub.execute_input": "2020-07-09T08:49:23.495243Z",
     "iopub.status.busy": "2020-07-09T08:49:23.493688Z",
     "iopub.status.idle": "2020-07-09T08:49:23.705775Z",
     "shell.execute_reply": "2020-07-09T08:49:23.706883Z"
    },
    "papermill": {
     "duration": 0.24008,
     "end_time": "2020-07-09T08:49:23.707235",
     "exception": false,
     "start_time": "2020-07-09T08:49:23.467155",
     "status": "completed"
    },
    "tags": []
   },
   "outputs": [
    {
     "data": {
      "text/markdown": [
       "\n",
       "***Notebook Title***  \n",
       "GeoDB: Sharing Data\n",
       "\n",
       "***Notebook Description***  \n",
       "Euro Data Cube GeoDB: Sharing Data\n",
       "\n",
       "\n",
       "***Notebook Dependencies***  \n",
       "This notebook requires an active subscription to:\n",
       "* EDC GeoDB\n"
      ],
      "text/plain": [
       "<IPython.core.display.Markdown object>"
      ]
     },
     "metadata": {},
     "output_type": "display_data"
    }
   ],
   "source": [
    "from edc import print_info\n",
    "print_info(\"geodb-sharing\")"
   ]
  },
  {
   "cell_type": "code",
   "execution_count": 2,
   "metadata": {
    "execution": {
     "iopub.execute_input": "2020-07-09T08:49:23.738831Z",
     "iopub.status.busy": "2020-07-09T08:49:23.738083Z",
     "iopub.status.idle": "2020-07-09T08:49:23.742440Z",
     "shell.execute_reply": "2020-07-09T08:49:23.741833Z"
    },
    "papermill": {
     "duration": 0.01886,
     "end_time": "2020-07-09T08:49:23.742553",
     "exception": false,
     "start_time": "2020-07-09T08:49:23.723693",
     "status": "completed"
    },
    "tags": []
   },
   "outputs": [
    {
     "data": {
      "text/markdown": [
       "API credentials have automatically been injected for your active subscriptions.  \n",
       "The following environment variables are now available:\n",
       "* `GEODB_API_SERVER_PORT`, `GEODB_API_SERVER_URL`, `GEODB_AUTH_AUD`, `GEODB_AUTH_CLIENT_ID`, `GEODB_AUTH_CLIENT_SECRET`, `GEODB_AUTH_DOMAIN`\n",
       "\n"
      ],
      "text/plain": [
       "<IPython.core.display.Markdown object>"
      ]
     },
     "metadata": {},
     "output_type": "display_data"
    }
   ],
   "source": [
    "from edc import setup_environment_variables\n",
    "setup_environment_variables()"
   ]
  },
  {
   "cell_type": "code",
   "execution_count": 3,
   "metadata": {
    "execution": {
     "iopub.execute_input": "2020-07-09T08:49:23.781959Z",
     "iopub.status.busy": "2020-07-09T08:49:23.779931Z",
     "iopub.status.idle": "2020-07-09T08:49:23.787499Z",
     "shell.execute_reply": "2020-07-09T08:49:23.788904Z"
    },
    "papermill": {
     "duration": 0.035464,
     "end_time": "2020-07-09T08:49:23.789181",
     "exception": false,
     "start_time": "2020-07-09T08:49:23.753717",
     "status": "completed"
    },
    "tags": []
   },
   "outputs": [
    {
     "data": {
      "text/markdown": [
       "This notebook is compatible with this base image version (user-0.19.3)."
      ],
      "text/plain": [
       "<IPython.core.display.Markdown object>"
      ]
     },
     "metadata": {},
     "output_type": "display_data"
    }
   ],
   "source": [
    "from edc import check_compatibility\n",
    "check_compatibility(\"user-0.19.3\")"
   ]
  },
  {
   "cell_type": "markdown",
   "metadata": {
    "papermill": {
     "duration": 0.017135,
     "end_time": "2020-07-09T08:49:23.826019",
     "exception": false,
     "start_time": "2020-07-09T08:49:23.808884",
     "status": "completed"
    },
    "tags": []
   },
   "source": [
    "## Sharing Data"
   ]
  },
  {
   "cell_type": "code",
   "execution_count": 4,
   "metadata": {
    "execution": {
     "iopub.execute_input": "2020-07-09T08:49:23.857956Z",
     "iopub.status.busy": "2020-07-09T08:49:23.856571Z",
     "iopub.status.idle": "2020-07-09T08:49:24.595208Z",
     "shell.execute_reply": "2020-07-09T08:49:24.593829Z"
    },
    "papermill": {
     "duration": 0.756863,
     "end_time": "2020-07-09T08:49:24.595408",
     "exception": false,
     "start_time": "2020-07-09T08:49:23.838545",
     "status": "completed"
    },
    "tags": []
   },
   "outputs": [],
   "source": [
    "from xcube_geodb.core.geodb import GeoDBClient"
   ]
  },
  {
   "cell_type": "code",
   "execution_count": 5,
   "metadata": {
    "execution": {
     "iopub.execute_input": "2020-07-09T08:49:24.636333Z",
     "iopub.status.busy": "2020-07-09T08:49:24.635533Z",
     "iopub.status.idle": "2020-07-09T08:49:24.831058Z",
     "shell.execute_reply": "2020-07-09T08:49:24.831514Z"
    },
    "papermill": {
     "duration": 0.215901,
     "end_time": "2020-07-09T08:49:24.831670",
     "exception": false,
     "start_time": "2020-07-09T08:49:24.615769",
     "status": "completed"
    },
    "tags": []
   },
   "outputs": [
    {
     "data": {
      "text/plain": [
       "'geodb_0c0a0ef4-8d0d-4e70-b002-033c7cbb41fd'"
      ]
     },
     "execution_count": 5,
     "metadata": {},
     "output_type": "execute_result"
    }
   ],
   "source": [
    "geodb = GeoDBClient()\n",
    "geodb.whoami"
   ]
  },
  {
   "cell_type": "markdown",
   "metadata": {
    "papermill": {
     "duration": 0.013807,
     "end_time": "2020-07-09T08:49:24.857787",
     "exception": false,
     "start_time": "2020-07-09T08:49:24.843980",
     "status": "completed"
    },
    "tags": []
   },
   "source": [
    "### Publish Dataset to the world"
   ]
  },
  {
   "cell_type": "code",
   "execution_count": 6,
   "metadata": {
    "execution": {
     "iopub.execute_input": "2020-07-09T08:49:24.905183Z",
     "iopub.status.busy": "2020-07-09T08:49:24.903797Z",
     "iopub.status.idle": "2020-07-09T08:49:25.031000Z",
     "shell.execute_reply": "2020-07-09T08:49:25.030241Z"
    },
    "papermill": {
     "duration": 0.154702,
     "end_time": "2020-07-09T08:49:25.031121",
     "exception": false,
     "start_time": "2020-07-09T08:49:24.876419",
     "status": "completed"
    },
    "tags": []
   },
   "outputs": [
    {
     "data": {
      "text/html": [
       "<div>\n",
       "<style scoped>\n",
       "    .dataframe tbody tr th:only-of-type {\n",
       "        vertical-align: middle;\n",
       "    }\n",
       "\n",
       "    .dataframe tbody tr th {\n",
       "        vertical-align: top;\n",
       "    }\n",
       "\n",
       "    .dataframe thead th {\n",
       "        text-align: right;\n",
       "    }\n",
       "</style>\n",
       "<table border=\"1\" class=\"dataframe\">\n",
       "  <thead>\n",
       "    <tr style=\"text-align: right;\">\n",
       "      <th></th>\n",
       "      <th>table_name</th>\n",
       "    </tr>\n",
       "  </thead>\n",
       "  <tbody>\n",
       "  </tbody>\n",
       "</table>\n",
       "</div>"
      ],
      "text/plain": [
       "Empty DataFrame\n",
       "Columns: [table_name]\n",
       "Index: []"
      ]
     },
     "execution_count": 6,
     "metadata": {},
     "output_type": "execute_result"
    }
   ],
   "source": [
    "geodb.list_grants()"
   ]
  },
  {
   "cell_type": "code",
   "execution_count": 7,
   "metadata": {
    "execution": {
     "iopub.execute_input": "2020-07-09T08:49:25.071333Z",
     "iopub.status.busy": "2020-07-09T08:49:25.069588Z",
     "iopub.status.idle": "2020-07-09T08:49:25.361785Z",
     "shell.execute_reply": "2020-07-09T08:49:25.360910Z"
    },
    "papermill": {
     "duration": 0.318543,
     "end_time": "2020-07-09T08:49:25.361944",
     "exception": false,
     "start_time": "2020-07-09T08:49:25.043401",
     "status": "completed"
    },
    "tags": []
   },
   "outputs": [
    {
     "data": {
      "text/plain": [
       "Access could not be granted. List grants with geodb.list_grants(){\"hint\":null,\"details\":null,\"code\":\"42P01\",\"message\":\"relation \\\"geodb_0c0a0ef4-8d0d-4e70-b002-033c7cbb41fd_land_use\\\" does not exist\"}"
      ]
     },
     "execution_count": 7,
     "metadata": {},
     "output_type": "execute_result"
    }
   ],
   "source": [
    "geodb.publish_collection(\"land_use\")"
   ]
  },
  {
   "cell_type": "code",
   "execution_count": 8,
   "metadata": {
    "execution": {
     "iopub.execute_input": "2020-07-09T08:49:25.409026Z",
     "iopub.status.busy": "2020-07-09T08:49:25.407677Z",
     "iopub.status.idle": "2020-07-09T08:49:25.531391Z",
     "shell.execute_reply": "2020-07-09T08:49:25.529992Z"
    },
    "papermill": {
     "duration": 0.150911,
     "end_time": "2020-07-09T08:49:25.531635",
     "exception": false,
     "start_time": "2020-07-09T08:49:25.380724",
     "status": "completed"
    },
    "tags": []
   },
   "outputs": [
    {
     "data": {
      "text/html": [
       "<div>\n",
       "<style scoped>\n",
       "    .dataframe tbody tr th:only-of-type {\n",
       "        vertical-align: middle;\n",
       "    }\n",
       "\n",
       "    .dataframe tbody tr th {\n",
       "        vertical-align: top;\n",
       "    }\n",
       "\n",
       "    .dataframe thead th {\n",
       "        text-align: right;\n",
       "    }\n",
       "</style>\n",
       "<table border=\"1\" class=\"dataframe\">\n",
       "  <thead>\n",
       "    <tr style=\"text-align: right;\">\n",
       "      <th></th>\n",
       "      <th>table_name</th>\n",
       "    </tr>\n",
       "  </thead>\n",
       "  <tbody>\n",
       "  </tbody>\n",
       "</table>\n",
       "</div>"
      ],
      "text/plain": [
       "Empty DataFrame\n",
       "Columns: [table_name]\n",
       "Index: []"
      ]
     },
     "execution_count": 8,
     "metadata": {},
     "output_type": "execute_result"
    }
   ],
   "source": [
    "geodb.list_grants()"
   ]
  },
  {
   "cell_type": "code",
   "execution_count": 9,
   "metadata": {
    "execution": {
     "iopub.execute_input": "2020-07-09T08:49:25.571552Z",
     "iopub.status.busy": "2020-07-09T08:49:25.568203Z",
     "iopub.status.idle": "2020-07-09T08:49:28.763267Z",
     "shell.execute_reply": "2020-07-09T08:49:28.764171Z"
    },
    "papermill": {
     "duration": 3.219133,
     "end_time": "2020-07-09T08:49:28.764456",
     "exception": false,
     "start_time": "2020-07-09T08:49:25.545323",
     "status": "completed"
    },
    "tags": []
   },
   "outputs": [
    {
     "data": {
      "text/html": [
       "<div>\n",
       "<style scoped>\n",
       "    .dataframe tbody tr th:only-of-type {\n",
       "        vertical-align: middle;\n",
       "    }\n",
       "\n",
       "    .dataframe tbody tr th {\n",
       "        vertical-align: top;\n",
       "    }\n",
       "\n",
       "    .dataframe thead th {\n",
       "        text-align: right;\n",
       "    }\n",
       "</style>\n",
       "<table border=\"1\" class=\"dataframe\">\n",
       "  <thead>\n",
       "    <tr style=\"text-align: right;\">\n",
       "      <th></th>\n",
       "      <th>id</th>\n",
       "      <th>created_at</th>\n",
       "      <th>modified_at</th>\n",
       "      <th>geometry</th>\n",
       "      <th>raba_pid</th>\n",
       "      <th>raba_id</th>\n",
       "      <th>d_od</th>\n",
       "    </tr>\n",
       "  </thead>\n",
       "  <tbody>\n",
       "    <tr>\n",
       "      <th>0</th>\n",
       "      <td>1</td>\n",
       "      <td>2020-05-11T09:05:01.715069+00:00</td>\n",
       "      <td>None</td>\n",
       "      <td>POLYGON ((453952.629 91124.177, 453952.696 911...</td>\n",
       "      <td>4770326</td>\n",
       "      <td>1410</td>\n",
       "      <td>2019-03-26</td>\n",
       "    </tr>\n",
       "    <tr>\n",
       "      <th>1</th>\n",
       "      <td>2</td>\n",
       "      <td>2020-05-11T09:05:01.715069+00:00</td>\n",
       "      <td>None</td>\n",
       "      <td>POLYGON ((453810.376 91150.199, 453812.552 911...</td>\n",
       "      <td>4770325</td>\n",
       "      <td>1300</td>\n",
       "      <td>2019-03-26</td>\n",
       "    </tr>\n",
       "    <tr>\n",
       "      <th>2</th>\n",
       "      <td>4</td>\n",
       "      <td>2020-05-11T09:05:01.715069+00:00</td>\n",
       "      <td>None</td>\n",
       "      <td>POLYGON ((455929.405 97963.785, 455933.284 979...</td>\n",
       "      <td>2305596</td>\n",
       "      <td>1100</td>\n",
       "      <td>2019-02-25</td>\n",
       "    </tr>\n",
       "    <tr>\n",
       "      <th>3</th>\n",
       "      <td>5</td>\n",
       "      <td>2020-05-11T09:05:01.715069+00:00</td>\n",
       "      <td>None</td>\n",
       "      <td>POLYGON ((461561.512 96119.256, 461632.114 960...</td>\n",
       "      <td>2310160</td>\n",
       "      <td>1100</td>\n",
       "      <td>2019-03-11</td>\n",
       "    </tr>\n",
       "    <tr>\n",
       "      <th>4</th>\n",
       "      <td>6</td>\n",
       "      <td>2020-05-11T09:05:01.715069+00:00</td>\n",
       "      <td>None</td>\n",
       "      <td>POLYGON ((458139.092 95583.227, 458136.249 955...</td>\n",
       "      <td>3602865</td>\n",
       "      <td>1500</td>\n",
       "      <td>2019-01-05</td>\n",
       "    </tr>\n",
       "    <tr>\n",
       "      <th>...</th>\n",
       "      <td>...</td>\n",
       "      <td>...</td>\n",
       "      <td>...</td>\n",
       "      <td>...</td>\n",
       "      <td>...</td>\n",
       "      <td>...</td>\n",
       "      <td>...</td>\n",
       "    </tr>\n",
       "    <tr>\n",
       "      <th>18881</th>\n",
       "      <td>19650</td>\n",
       "      <td>2020-05-18T06:23:25.019586+00:00</td>\n",
       "      <td>None</td>\n",
       "      <td>POLYGON ((460637.334 96865.891, 460647.927 969...</td>\n",
       "      <td>6253989</td>\n",
       "      <td>1600</td>\n",
       "      <td>2019-03-08</td>\n",
       "    </tr>\n",
       "    <tr>\n",
       "      <th>18882</th>\n",
       "      <td>19651</td>\n",
       "      <td>2020-05-18T06:23:25.019586+00:00</td>\n",
       "      <td>None</td>\n",
       "      <td>POLYGON ((459467.868 96839.686, 459467.770 968...</td>\n",
       "      <td>6252044</td>\n",
       "      <td>1600</td>\n",
       "      <td>2019-03-26</td>\n",
       "    </tr>\n",
       "    <tr>\n",
       "      <th>18883</th>\n",
       "      <td>19652</td>\n",
       "      <td>2020-05-18T06:23:25.019586+00:00</td>\n",
       "      <td>None</td>\n",
       "      <td>POLYGON ((459488.998 94066.248, 459498.145 940...</td>\n",
       "      <td>6245985</td>\n",
       "      <td>2000</td>\n",
       "      <td>2019-04-08</td>\n",
       "    </tr>\n",
       "    <tr>\n",
       "      <th>18884</th>\n",
       "      <td>19653</td>\n",
       "      <td>2020-05-18T06:23:25.019586+00:00</td>\n",
       "      <td>None</td>\n",
       "      <td>POLYGON ((459676.680 94000.000, 459672.469 939...</td>\n",
       "      <td>6245986</td>\n",
       "      <td>2000</td>\n",
       "      <td>2019-02-20</td>\n",
       "    </tr>\n",
       "    <tr>\n",
       "      <th>18885</th>\n",
       "      <td>19654</td>\n",
       "      <td>2020-05-18T06:23:25.019586+00:00</td>\n",
       "      <td>None</td>\n",
       "      <td>POLYGON ((459690.580 94042.607, 459686.872 940...</td>\n",
       "      <td>6245987</td>\n",
       "      <td>2000</td>\n",
       "      <td>2019-03-11</td>\n",
       "    </tr>\n",
       "  </tbody>\n",
       "</table>\n",
       "<p>18886 rows × 7 columns</p>\n",
       "</div>"
      ],
      "text/plain": [
       "          id                        created_at modified_at  \\\n",
       "0          1  2020-05-11T09:05:01.715069+00:00        None   \n",
       "1          2  2020-05-11T09:05:01.715069+00:00        None   \n",
       "2          4  2020-05-11T09:05:01.715069+00:00        None   \n",
       "3          5  2020-05-11T09:05:01.715069+00:00        None   \n",
       "4          6  2020-05-11T09:05:01.715069+00:00        None   \n",
       "...      ...                               ...         ...   \n",
       "18881  19650  2020-05-18T06:23:25.019586+00:00        None   \n",
       "18882  19651  2020-05-18T06:23:25.019586+00:00        None   \n",
       "18883  19652  2020-05-18T06:23:25.019586+00:00        None   \n",
       "18884  19653  2020-05-18T06:23:25.019586+00:00        None   \n",
       "18885  19654  2020-05-18T06:23:25.019586+00:00        None   \n",
       "\n",
       "                                                geometry  raba_pid  raba_id  \\\n",
       "0      POLYGON ((453952.629 91124.177, 453952.696 911...   4770326     1410   \n",
       "1      POLYGON ((453810.376 91150.199, 453812.552 911...   4770325     1300   \n",
       "2      POLYGON ((455929.405 97963.785, 455933.284 979...   2305596     1100   \n",
       "3      POLYGON ((461561.512 96119.256, 461632.114 960...   2310160     1100   \n",
       "4      POLYGON ((458139.092 95583.227, 458136.249 955...   3602865     1500   \n",
       "...                                                  ...       ...      ...   \n",
       "18881  POLYGON ((460637.334 96865.891, 460647.927 969...   6253989     1600   \n",
       "18882  POLYGON ((459467.868 96839.686, 459467.770 968...   6252044     1600   \n",
       "18883  POLYGON ((459488.998 94066.248, 459498.145 940...   6245985     2000   \n",
       "18884  POLYGON ((459676.680 94000.000, 459672.469 939...   6245986     2000   \n",
       "18885  POLYGON ((459690.580 94042.607, 459686.872 940...   6245987     2000   \n",
       "\n",
       "             d_od  \n",
       "0      2019-03-26  \n",
       "1      2019-03-26  \n",
       "2      2019-02-25  \n",
       "3      2019-03-11  \n",
       "4      2019-01-05  \n",
       "...           ...  \n",
       "18881  2019-03-08  \n",
       "18882  2019-03-26  \n",
       "18883  2019-04-08  \n",
       "18884  2019-02-20  \n",
       "18885  2019-03-11  \n",
       "\n",
       "[18886 rows x 7 columns]"
      ]
     },
     "execution_count": 9,
     "metadata": {},
     "output_type": "execute_result"
    }
   ],
   "source": [
    "geodb.get_collection('land_use', database='public')"
   ]
  },
  {
   "cell_type": "markdown",
   "metadata": {
    "papermill": {
     "duration": 0.019778,
     "end_time": "2020-07-09T08:49:28.805758",
     "exception": false,
     "start_time": "2020-07-09T08:49:28.785980",
     "status": "completed"
    },
    "tags": []
   },
   "source": [
    "### Revoke access"
   ]
  },
  {
   "cell_type": "code",
   "execution_count": 10,
   "metadata": {
    "execution": {
     "iopub.execute_input": "2020-07-09T08:49:28.850278Z",
     "iopub.status.busy": "2020-07-09T08:49:28.849468Z",
     "iopub.status.idle": "2020-07-09T08:49:28.960403Z",
     "shell.execute_reply": "2020-07-09T08:49:28.958500Z"
    },
    "papermill": {
     "duration": 0.132639,
     "end_time": "2020-07-09T08:49:28.961034",
     "exception": false,
     "start_time": "2020-07-09T08:49:28.828395",
     "status": "completed"
    },
    "tags": []
   },
   "outputs": [
    {
     "data": {
      "text/html": [
       "<div>\n",
       "<style scoped>\n",
       "    .dataframe tbody tr th:only-of-type {\n",
       "        vertical-align: middle;\n",
       "    }\n",
       "\n",
       "    .dataframe tbody tr th {\n",
       "        vertical-align: top;\n",
       "    }\n",
       "\n",
       "    .dataframe thead th {\n",
       "        text-align: right;\n",
       "    }\n",
       "</style>\n",
       "<table border=\"1\" class=\"dataframe\">\n",
       "  <thead>\n",
       "    <tr style=\"text-align: right;\">\n",
       "      <th></th>\n",
       "      <th>table_name</th>\n",
       "    </tr>\n",
       "  </thead>\n",
       "  <tbody>\n",
       "  </tbody>\n",
       "</table>\n",
       "</div>"
      ],
      "text/plain": [
       "Empty DataFrame\n",
       "Columns: [table_name]\n",
       "Index: []"
      ]
     },
     "execution_count": 10,
     "metadata": {},
     "output_type": "execute_result"
    }
   ],
   "source": [
    "geodb.list_grants()"
   ]
  },
  {
   "cell_type": "code",
   "execution_count": 11,
   "metadata": {
    "execution": {
     "iopub.execute_input": "2020-07-09T08:49:29.028343Z",
     "iopub.status.busy": "2020-07-09T08:49:29.026458Z",
     "iopub.status.idle": "2020-07-09T08:49:29.460400Z",
     "shell.execute_reply": "2020-07-09T08:49:29.458944Z"
    },
    "papermill": {
     "duration": 0.473624,
     "end_time": "2020-07-09T08:49:29.460621",
     "exception": false,
     "start_time": "2020-07-09T08:49:28.986997",
     "status": "completed"
    },
    "tags": []
   },
   "outputs": [
    {
     "data": {
      "text/plain": [
       "Collection already unpublished"
      ]
     },
     "execution_count": 11,
     "metadata": {},
     "output_type": "execute_result"
    }
   ],
   "source": [
    "geodb.unpublish_collection(\"land_use\")"
   ]
  },
  {
   "cell_type": "code",
   "execution_count": 12,
   "metadata": {
    "execution": {
     "iopub.execute_input": "2020-07-09T08:49:29.512968Z",
     "iopub.status.busy": "2020-07-09T08:49:29.509417Z",
     "iopub.status.idle": "2020-07-09T08:49:29.620309Z",
     "shell.execute_reply": "2020-07-09T08:49:29.619038Z"
    },
    "papermill": {
     "duration": 0.13748,
     "end_time": "2020-07-09T08:49:29.620514",
     "exception": false,
     "start_time": "2020-07-09T08:49:29.483034",
     "status": "completed"
    },
    "tags": []
   },
   "outputs": [
    {
     "data": {
      "text/html": [
       "<div>\n",
       "<style scoped>\n",
       "    .dataframe tbody tr th:only-of-type {\n",
       "        vertical-align: middle;\n",
       "    }\n",
       "\n",
       "    .dataframe tbody tr th {\n",
       "        vertical-align: top;\n",
       "    }\n",
       "\n",
       "    .dataframe thead th {\n",
       "        text-align: right;\n",
       "    }\n",
       "</style>\n",
       "<table border=\"1\" class=\"dataframe\">\n",
       "  <thead>\n",
       "    <tr style=\"text-align: right;\">\n",
       "      <th></th>\n",
       "      <th>table_name</th>\n",
       "    </tr>\n",
       "  </thead>\n",
       "  <tbody>\n",
       "  </tbody>\n",
       "</table>\n",
       "</div>"
      ],
      "text/plain": [
       "Empty DataFrame\n",
       "Columns: [table_name]\n",
       "Index: []"
      ]
     },
     "execution_count": 12,
     "metadata": {},
     "output_type": "execute_result"
    }
   ],
   "source": [
    "geodb.list_grants()"
   ]
  }
 ],
 "metadata": {
  "kernelspec": {
   "display_name": "Python 3",
   "language": "python",
   "name": "python3"
  },
  "language_info": {
   "codemirror_mode": {
    "name": "ipython",
    "version": 3
   },
   "file_extension": ".py",
   "mimetype": "text/x-python",
   "name": "python",
   "nbconvert_exporter": "python",
   "pygments_lexer": "ipython3",
   "version": "3.8.3"
  },
  "papermill": {
   "duration": 7.615845,
   "end_time": "2020-07-09T08:49:30.147981",
   "environment_variables": {},
   "exception": null,
   "input_path": "/tmp/tmpava7gczi",
   "output_path": "/tmp/cur_notebook.ipynb",
   "parameters": {},
   "start_time": "2020-07-09T08:49:22.532136",
   "version": "2.1.0"
  },
  "properties": {
   "description": "Euro Data Cube GeoDB: Sharing Data",
   "id": "geodb-sharing",
   "name": "GeoDB: Sharing Data",
   "requirements": [
    "eurodatacube-geodb"
   ],
   "tags": [
    "Getting started",
    "GeoDB"
   ],
   "version": "0.2"
  },
  "pycharm": {
   "stem_cell": {
    "cell_type": "raw",
    "metadata": {
     "collapsed": false
    },
    "source": []
   }
  }
 },
 "nbformat": 4,
 "nbformat_minor": 4
}