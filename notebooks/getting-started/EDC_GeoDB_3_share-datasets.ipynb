{
 "cells": [
  {
   "cell_type": "code",
   "execution_count": 1,
   "metadata": {
    "execution": {
     "iopub.execute_input": "2020-07-13T12:52:42.433866Z",
     "iopub.status.busy": "2020-07-13T12:52:42.433026Z",
     "iopub.status.idle": "2020-07-13T12:52:42.587113Z",
     "shell.execute_reply": "2020-07-13T12:52:42.586263Z"
    },
    "papermill": {
     "duration": 0.170163,
     "end_time": "2020-07-13T12:52:42.587291",
     "exception": false,
     "start_time": "2020-07-13T12:52:42.417128",
     "status": "completed"
    },
    "tags": []
   },
   "outputs": [
    {
     "data": {
      "text/markdown": [
       "\n",
       "***Notebook Title***  \n",
       "GeoDB: Sharing Data\n",
       "\n",
       "***Notebook Description***  \n",
       "Euro Data Cube GeoDB: Sharing Data\n",
       "\n",
       "\n",
       "***Notebook Dependencies***  \n",
       "This notebook requires an active subscription to:\n",
       "* EDC GeoDB\n"
      ],
      "text/plain": [
       "<IPython.core.display.Markdown object>"
      ]
     },
     "metadata": {},
     "output_type": "display_data"
    }
   ],
   "source": [
    "from edc import print_info\n",
    "print_info(\"geodb-sharing\")"
   ]
  },
  {
   "cell_type": "code",
   "execution_count": 2,
   "metadata": {
    "execution": {
     "iopub.execute_input": "2020-07-13T12:52:42.617868Z",
     "iopub.status.busy": "2020-07-13T12:52:42.616180Z",
     "iopub.status.idle": "2020-07-13T12:52:42.622411Z",
     "shell.execute_reply": "2020-07-13T12:52:42.621452Z"
    },
    "papermill": {
     "duration": 0.023139,
     "end_time": "2020-07-13T12:52:42.622561",
     "exception": false,
     "start_time": "2020-07-13T12:52:42.599422",
     "status": "completed"
    },
    "tags": []
   },
   "outputs": [
    {
     "data": {
      "text/markdown": [
       "API credentials have automatically been injected for your active subscriptions.  \n",
       "The following environment variables are now available:\n",
       "* `GEODB_API_SERVER_PORT`, `GEODB_API_SERVER_URL`, `GEODB_AUTH_AUD`, `GEODB_AUTH_CLIENT_ID`, `GEODB_AUTH_CLIENT_SECRET`, `GEODB_AUTH_DOMAIN`\n",
       "\n",
       "The following additional environment variables have been loaded from `~/custom.env`:\n",
       "* `AWS_BUCKET`\n",
       "* `DAPA_URL`\n",
       "* `DB_HOST`, `DB_NAME`, `DB_PASSWORD`, `DB_USER`\n",
       "* `OGC_EDC_URL`\n",
       "* `REFERENCE_DATA`\n"
      ],
      "text/plain": [
       "<IPython.core.display.Markdown object>"
      ]
     },
     "metadata": {},
     "output_type": "display_data"
    }
   ],
   "source": [
    "from edc import setup_environment_variables\n",
    "setup_environment_variables()"
   ]
  },
  {
   "cell_type": "code",
   "execution_count": 3,
   "metadata": {
    "execution": {
     "iopub.execute_input": "2020-07-13T12:52:42.652515Z",
     "iopub.status.busy": "2020-07-13T12:52:42.651630Z",
     "iopub.status.idle": "2020-07-13T12:52:42.654699Z",
     "shell.execute_reply": "2020-07-13T12:52:42.655457Z"
    },
    "papermill": {
     "duration": 0.020342,
     "end_time": "2020-07-13T12:52:42.655647",
     "exception": false,
     "start_time": "2020-07-13T12:52:42.635305",
     "status": "completed"
    },
    "tags": []
   },
   "outputs": [
    {
     "data": {
      "text/markdown": [
       "This notebook is compatible with this base image version (user-0.19.6)."
      ],
      "text/plain": [
       "<IPython.core.display.Markdown object>"
      ]
     },
     "metadata": {},
     "output_type": "display_data"
    }
   ],
   "source": [
    "from edc import check_compatibility\n",
    "check_compatibility(\"user-0.19.6\")"
   ]
  },
  {
   "cell_type": "markdown",
   "metadata": {
    "papermill": {
     "duration": 0.015893,
     "end_time": "2020-07-13T12:52:42.685302",
     "exception": false,
     "start_time": "2020-07-13T12:52:42.669409",
     "status": "completed"
    },
    "tags": []
   },
   "source": [
    "## Sharing Data"
   ]
  },
  {
   "cell_type": "code",
   "execution_count": 4,
   "metadata": {
    "execution": {
     "iopub.execute_input": "2020-07-13T12:52:42.714607Z",
     "iopub.status.busy": "2020-07-13T12:52:42.713878Z",
     "iopub.status.idle": "2020-07-13T12:52:43.164437Z",
     "shell.execute_reply": "2020-07-13T12:52:43.163634Z"
    },
    "papermill": {
     "duration": 0.466114,
     "end_time": "2020-07-13T12:52:43.164548",
     "exception": false,
     "start_time": "2020-07-13T12:52:42.698434",
     "status": "completed"
    },
    "tags": []
   },
   "outputs": [],
   "source": [
    "from xcube_geodb.core.geodb import GeoDBClient"
   ]
  },
  {
   "cell_type": "code",
   "execution_count": 5,
   "metadata": {
    "execution": {
     "iopub.execute_input": "2020-07-13T12:52:43.197675Z",
     "iopub.status.busy": "2020-07-13T12:52:43.196814Z",
     "iopub.status.idle": "2020-07-13T12:52:43.372391Z",
     "shell.execute_reply": "2020-07-13T12:52:43.371609Z"
    },
    "papermill": {
     "duration": 0.195667,
     "end_time": "2020-07-13T12:52:43.372497",
     "exception": false,
     "start_time": "2020-07-13T12:52:43.176830",
     "status": "completed"
    },
    "tags": []
   },
   "outputs": [
    {
     "data": {
      "text/plain": [
       "'geodb_418dfeac-15f0-4606-9edb-fd9eb722bf04'"
      ]
     },
     "execution_count": 5,
     "metadata": {},
     "output_type": "execute_result"
    }
   ],
   "source": [
    "geodb = GeoDBClient()\n",
    "geodb.whoami"
   ]
  },
  {
   "cell_type": "markdown",
   "metadata": {
    "papermill": {
     "duration": 0.012137,
     "end_time": "2020-07-13T12:52:43.396914",
     "exception": false,
     "start_time": "2020-07-13T12:52:43.384777",
     "status": "completed"
    },
    "tags": []
   },
   "source": [
    "### Publish Dataset to the world"
   ]
  },
  {
   "cell_type": "code",
   "execution_count": 6,
   "metadata": {
    "execution": {
     "iopub.execute_input": "2020-07-13T12:52:43.428964Z",
     "iopub.status.busy": "2020-07-13T12:52:43.428014Z",
     "iopub.status.idle": "2020-07-13T12:52:43.531764Z",
     "shell.execute_reply": "2020-07-13T12:52:43.530866Z"
    },
    "papermill": {
     "duration": 0.122825,
     "end_time": "2020-07-13T12:52:43.531885",
     "exception": false,
     "start_time": "2020-07-13T12:52:43.409060",
     "status": "completed"
    },
    "tags": []
   },
   "outputs": [
    {
     "data": {
      "text/html": [
       "<div>\n",
       "<style scoped>\n",
       "    .dataframe tbody tr th:only-of-type {\n",
       "        vertical-align: middle;\n",
       "    }\n",
       "\n",
       "    .dataframe tbody tr th {\n",
       "        vertical-align: top;\n",
       "    }\n",
       "\n",
       "    .dataframe thead th {\n",
       "        text-align: right;\n",
       "    }\n",
       "</style>\n",
       "<table border=\"1\" class=\"dataframe\">\n",
       "  <thead>\n",
       "    <tr style=\"text-align: right;\">\n",
       "      <th></th>\n",
       "      <th>table_name</th>\n",
       "    </tr>\n",
       "  </thead>\n",
       "  <tbody>\n",
       "  </tbody>\n",
       "</table>\n",
       "</div>"
      ],
      "text/plain": [
       "Empty DataFrame\n",
       "Columns: [table_name]\n",
       "Index: []"
      ]
     },
     "execution_count": 6,
     "metadata": {},
     "output_type": "execute_result"
    }
   ],
   "source": [
    "geodb.list_grants()"
   ]
  },
  {
   "cell_type": "code",
   "execution_count": 7,
   "metadata": {
    "execution": {
     "iopub.execute_input": "2020-07-13T12:52:43.564536Z",
     "iopub.status.busy": "2020-07-13T12:52:43.563811Z",
     "iopub.status.idle": "2020-07-13T12:52:43.815958Z",
     "shell.execute_reply": "2020-07-13T12:52:43.815245Z"
    },
    "papermill": {
     "duration": 0.271619,
     "end_time": "2020-07-13T12:52:43.816063",
     "exception": false,
     "start_time": "2020-07-13T12:52:43.544444",
     "status": "completed"
    },
    "tags": []
   },
   "outputs": [
    {
     "data": {
      "text/plain": [
       "Access could not be granted. List grants with geodb.list_grants(){\"hint\":null,\"details\":null,\"code\":\"42P01\",\"message\":\"relation \\\"geodb_418dfeac-15f0-4606-9edb-fd9eb722bf04_land_use\\\" does not exist\"}"
      ]
     },
     "execution_count": 7,
     "metadata": {},
     "output_type": "execute_result"
    }
   ],
   "source": [
    "geodb.publish_collection(\"land_use\")"
   ]
  },
  {
   "cell_type": "code",
   "execution_count": 8,
   "metadata": {
    "execution": {
     "iopub.execute_input": "2020-07-13T12:52:43.849424Z",
     "iopub.status.busy": "2020-07-13T12:52:43.848706Z",
     "iopub.status.idle": "2020-07-13T12:52:43.950668Z",
     "shell.execute_reply": "2020-07-13T12:52:43.951167Z"
    },
    "papermill": {
     "duration": 0.122328,
     "end_time": "2020-07-13T12:52:43.951305",
     "exception": false,
     "start_time": "2020-07-13T12:52:43.828977",
     "status": "completed"
    },
    "tags": []
   },
   "outputs": [
    {
     "data": {
      "text/html": [
       "<div>\n",
       "<style scoped>\n",
       "    .dataframe tbody tr th:only-of-type {\n",
       "        vertical-align: middle;\n",
       "    }\n",
       "\n",
       "    .dataframe tbody tr th {\n",
       "        vertical-align: top;\n",
       "    }\n",
       "\n",
       "    .dataframe thead th {\n",
       "        text-align: right;\n",
       "    }\n",
       "</style>\n",
       "<table border=\"1\" class=\"dataframe\">\n",
       "  <thead>\n",
       "    <tr style=\"text-align: right;\">\n",
       "      <th></th>\n",
       "      <th>table_name</th>\n",
       "    </tr>\n",
       "  </thead>\n",
       "  <tbody>\n",
       "  </tbody>\n",
       "</table>\n",
       "</div>"
      ],
      "text/plain": [
       "Empty DataFrame\n",
       "Columns: [table_name]\n",
       "Index: []"
      ]
     },
     "execution_count": 8,
     "metadata": {},
     "output_type": "execute_result"
    }
   ],
   "source": [
    "geodb.list_grants()"
   ]
  },
  {
   "cell_type": "code",
   "execution_count": 9,
   "metadata": {
    "execution": {
     "iopub.execute_input": "2020-07-13T12:52:43.985257Z",
     "iopub.status.busy": "2020-07-13T12:52:43.984391Z",
     "iopub.status.idle": "2020-07-13T12:52:46.749285Z",
     "shell.execute_reply": "2020-07-13T12:52:46.748278Z"
    },
    "papermill": {
     "duration": 2.784521,
     "end_time": "2020-07-13T12:52:46.749423",
     "exception": false,
     "start_time": "2020-07-13T12:52:43.964902",
     "status": "completed"
    },
    "tags": []
   },
   "outputs": [
    {
     "data": {
      "text/html": [
       "<div>\n",
       "<style scoped>\n",
       "    .dataframe tbody tr th:only-of-type {\n",
       "        vertical-align: middle;\n",
       "    }\n",
       "\n",
       "    .dataframe tbody tr th {\n",
       "        vertical-align: top;\n",
       "    }\n",
       "\n",
       "    .dataframe thead th {\n",
       "        text-align: right;\n",
       "    }\n",
       "</style>\n",
       "<table border=\"1\" class=\"dataframe\">\n",
       "  <thead>\n",
       "    <tr style=\"text-align: right;\">\n",
       "      <th></th>\n",
       "      <th>id</th>\n",
       "      <th>created_at</th>\n",
       "      <th>modified_at</th>\n",
       "      <th>geometry</th>\n",
       "      <th>raba_pid</th>\n",
       "      <th>raba_id</th>\n",
       "      <th>d_od</th>\n",
       "    </tr>\n",
       "  </thead>\n",
       "  <tbody>\n",
       "    <tr>\n",
       "      <th>0</th>\n",
       "      <td>1</td>\n",
       "      <td>2020-05-11T09:05:01.715069+00:00</td>\n",
       "      <td>None</td>\n",
       "      <td>POLYGON ((453952.629 91124.177, 453952.696 911...</td>\n",
       "      <td>4770326</td>\n",
       "      <td>1410</td>\n",
       "      <td>2019-03-26</td>\n",
       "    </tr>\n",
       "    <tr>\n",
       "      <th>1</th>\n",
       "      <td>2</td>\n",
       "      <td>2020-05-11T09:05:01.715069+00:00</td>\n",
       "      <td>None</td>\n",
       "      <td>POLYGON ((453810.376 91150.199, 453812.552 911...</td>\n",
       "      <td>4770325</td>\n",
       "      <td>1300</td>\n",
       "      <td>2019-03-26</td>\n",
       "    </tr>\n",
       "    <tr>\n",
       "      <th>2</th>\n",
       "      <td>4</td>\n",
       "      <td>2020-05-11T09:05:01.715069+00:00</td>\n",
       "      <td>None</td>\n",
       "      <td>POLYGON ((455929.405 97963.785, 455933.284 979...</td>\n",
       "      <td>2305596</td>\n",
       "      <td>1100</td>\n",
       "      <td>2019-02-25</td>\n",
       "    </tr>\n",
       "    <tr>\n",
       "      <th>3</th>\n",
       "      <td>5</td>\n",
       "      <td>2020-05-11T09:05:01.715069+00:00</td>\n",
       "      <td>None</td>\n",
       "      <td>POLYGON ((461561.512 96119.256, 461632.114 960...</td>\n",
       "      <td>2310160</td>\n",
       "      <td>1100</td>\n",
       "      <td>2019-03-11</td>\n",
       "    </tr>\n",
       "    <tr>\n",
       "      <th>4</th>\n",
       "      <td>6</td>\n",
       "      <td>2020-05-11T09:05:01.715069+00:00</td>\n",
       "      <td>None</td>\n",
       "      <td>POLYGON ((458139.092 95583.227, 458136.249 955...</td>\n",
       "      <td>3602865</td>\n",
       "      <td>1500</td>\n",
       "      <td>2019-01-05</td>\n",
       "    </tr>\n",
       "    <tr>\n",
       "      <th>...</th>\n",
       "      <td>...</td>\n",
       "      <td>...</td>\n",
       "      <td>...</td>\n",
       "      <td>...</td>\n",
       "      <td>...</td>\n",
       "      <td>...</td>\n",
       "      <td>...</td>\n",
       "    </tr>\n",
       "    <tr>\n",
       "      <th>18881</th>\n",
       "      <td>19650</td>\n",
       "      <td>2020-05-18T06:23:25.019586+00:00</td>\n",
       "      <td>None</td>\n",
       "      <td>POLYGON ((460637.334 96865.891, 460647.927 969...</td>\n",
       "      <td>6253989</td>\n",
       "      <td>1600</td>\n",
       "      <td>2019-03-08</td>\n",
       "    </tr>\n",
       "    <tr>\n",
       "      <th>18882</th>\n",
       "      <td>19651</td>\n",
       "      <td>2020-05-18T06:23:25.019586+00:00</td>\n",
       "      <td>None</td>\n",
       "      <td>POLYGON ((459467.868 96839.686, 459467.770 968...</td>\n",
       "      <td>6252044</td>\n",
       "      <td>1600</td>\n",
       "      <td>2019-03-26</td>\n",
       "    </tr>\n",
       "    <tr>\n",
       "      <th>18883</th>\n",
       "      <td>19652</td>\n",
       "      <td>2020-05-18T06:23:25.019586+00:00</td>\n",
       "      <td>None</td>\n",
       "      <td>POLYGON ((459488.998 94066.248, 459498.145 940...</td>\n",
       "      <td>6245985</td>\n",
       "      <td>2000</td>\n",
       "      <td>2019-04-08</td>\n",
       "    </tr>\n",
       "    <tr>\n",
       "      <th>18884</th>\n",
       "      <td>19653</td>\n",
       "      <td>2020-05-18T06:23:25.019586+00:00</td>\n",
       "      <td>None</td>\n",
       "      <td>POLYGON ((459676.680 94000.000, 459672.469 939...</td>\n",
       "      <td>6245986</td>\n",
       "      <td>2000</td>\n",
       "      <td>2019-02-20</td>\n",
       "    </tr>\n",
       "    <tr>\n",
       "      <th>18885</th>\n",
       "      <td>19654</td>\n",
       "      <td>2020-05-18T06:23:25.019586+00:00</td>\n",
       "      <td>None</td>\n",
       "      <td>POLYGON ((459690.580 94042.607, 459686.872 940...</td>\n",
       "      <td>6245987</td>\n",
       "      <td>2000</td>\n",
       "      <td>2019-03-11</td>\n",
       "    </tr>\n",
       "  </tbody>\n",
       "</table>\n",
       "<p>18886 rows × 7 columns</p>\n",
       "</div>"
      ],
      "text/plain": [
       "          id                        created_at modified_at  \\\n",
       "0          1  2020-05-11T09:05:01.715069+00:00        None   \n",
       "1          2  2020-05-11T09:05:01.715069+00:00        None   \n",
       "2          4  2020-05-11T09:05:01.715069+00:00        None   \n",
       "3          5  2020-05-11T09:05:01.715069+00:00        None   \n",
       "4          6  2020-05-11T09:05:01.715069+00:00        None   \n",
       "...      ...                               ...         ...   \n",
       "18881  19650  2020-05-18T06:23:25.019586+00:00        None   \n",
       "18882  19651  2020-05-18T06:23:25.019586+00:00        None   \n",
       "18883  19652  2020-05-18T06:23:25.019586+00:00        None   \n",
       "18884  19653  2020-05-18T06:23:25.019586+00:00        None   \n",
       "18885  19654  2020-05-18T06:23:25.019586+00:00        None   \n",
       "\n",
       "                                                geometry  raba_pid  raba_id  \\\n",
       "0      POLYGON ((453952.629 91124.177, 453952.696 911...   4770326     1410   \n",
       "1      POLYGON ((453810.376 91150.199, 453812.552 911...   4770325     1300   \n",
       "2      POLYGON ((455929.405 97963.785, 455933.284 979...   2305596     1100   \n",
       "3      POLYGON ((461561.512 96119.256, 461632.114 960...   2310160     1100   \n",
       "4      POLYGON ((458139.092 95583.227, 458136.249 955...   3602865     1500   \n",
       "...                                                  ...       ...      ...   \n",
       "18881  POLYGON ((460637.334 96865.891, 460647.927 969...   6253989     1600   \n",
       "18882  POLYGON ((459467.868 96839.686, 459467.770 968...   6252044     1600   \n",
       "18883  POLYGON ((459488.998 94066.248, 459498.145 940...   6245985     2000   \n",
       "18884  POLYGON ((459676.680 94000.000, 459672.469 939...   6245986     2000   \n",
       "18885  POLYGON ((459690.580 94042.607, 459686.872 940...   6245987     2000   \n",
       "\n",
       "             d_od  \n",
       "0      2019-03-26  \n",
       "1      2019-03-26  \n",
       "2      2019-02-25  \n",
       "3      2019-03-11  \n",
       "4      2019-01-05  \n",
       "...           ...  \n",
       "18881  2019-03-08  \n",
       "18882  2019-03-26  \n",
       "18883  2019-04-08  \n",
       "18884  2019-02-20  \n",
       "18885  2019-03-11  \n",
       "\n",
       "[18886 rows x 7 columns]"
      ]
     },
     "execution_count": 9,
     "metadata": {},
     "output_type": "execute_result"
    }
   ],
   "source": [
    "geodb.get_collection('land_use', database='public')"
   ]
  },
  {
   "cell_type": "markdown",
   "metadata": {
    "papermill": {
     "duration": 0.01739,
     "end_time": "2020-07-13T12:52:46.786637",
     "exception": false,
     "start_time": "2020-07-13T12:52:46.769247",
     "status": "completed"
    },
    "tags": []
   },
   "source": [
    "### Revoke access"
   ]
  },
  {
   "cell_type": "code",
   "execution_count": 10,
   "metadata": {
    "execution": {
     "iopub.execute_input": "2020-07-13T12:52:46.824049Z",
     "iopub.status.busy": "2020-07-13T12:52:46.822996Z",
     "iopub.status.idle": "2020-07-13T12:52:46.913550Z",
     "shell.execute_reply": "2020-07-13T12:52:46.912743Z"
    },
    "papermill": {
     "duration": 0.112461,
     "end_time": "2020-07-13T12:52:46.913695",
     "exception": false,
     "start_time": "2020-07-13T12:52:46.801234",
     "status": "completed"
    },
    "tags": []
   },
   "outputs": [
    {
     "data": {
      "text/html": [
       "<div>\n",
       "<style scoped>\n",
       "    .dataframe tbody tr th:only-of-type {\n",
       "        vertical-align: middle;\n",
       "    }\n",
       "\n",
       "    .dataframe tbody tr th {\n",
       "        vertical-align: top;\n",
       "    }\n",
       "\n",
       "    .dataframe thead th {\n",
       "        text-align: right;\n",
       "    }\n",
       "</style>\n",
       "<table border=\"1\" class=\"dataframe\">\n",
       "  <thead>\n",
       "    <tr style=\"text-align: right;\">\n",
       "      <th></th>\n",
       "      <th>table_name</th>\n",
       "    </tr>\n",
       "  </thead>\n",
       "  <tbody>\n",
       "  </tbody>\n",
       "</table>\n",
       "</div>"
      ],
      "text/plain": [
       "Empty DataFrame\n",
       "Columns: [table_name]\n",
       "Index: []"
      ]
     },
     "execution_count": 10,
     "metadata": {},
     "output_type": "execute_result"
    }
   ],
   "source": [
    "geodb.list_grants()"
   ]
  },
  {
   "cell_type": "code",
   "execution_count": 11,
   "metadata": {
    "execution": {
     "iopub.execute_input": "2020-07-13T12:52:46.954512Z",
     "iopub.status.busy": "2020-07-13T12:52:46.953659Z",
     "iopub.status.idle": "2020-07-13T12:52:47.344266Z",
     "shell.execute_reply": "2020-07-13T12:52:47.343446Z"
    },
    "papermill": {
     "duration": 0.415537,
     "end_time": "2020-07-13T12:52:47.344395",
     "exception": false,
     "start_time": "2020-07-13T12:52:46.928858",
     "status": "completed"
    },
    "tags": []
   },
   "outputs": [
    {
     "data": {
      "text/plain": [
       "Collection already unpublished"
      ]
     },
     "execution_count": 11,
     "metadata": {},
     "output_type": "execute_result"
    }
   ],
   "source": [
    "geodb.unpublish_collection(\"land_use\")"
   ]
  },
  {
   "cell_type": "code",
   "execution_count": 12,
   "metadata": {
    "execution": {
     "iopub.execute_input": "2020-07-13T12:52:47.380361Z",
     "iopub.status.busy": "2020-07-13T12:52:47.379559Z",
     "iopub.status.idle": "2020-07-13T12:52:47.496136Z",
     "shell.execute_reply": "2020-07-13T12:52:47.495387Z"
    },
    "papermill": {
     "duration": 0.13736,
     "end_time": "2020-07-13T12:52:47.496263",
     "exception": false,
     "start_time": "2020-07-13T12:52:47.358903",
     "status": "completed"
    },
    "tags": []
   },
   "outputs": [
    {
     "data": {
      "text/html": [
       "<div>\n",
       "<style scoped>\n",
       "    .dataframe tbody tr th:only-of-type {\n",
       "        vertical-align: middle;\n",
       "    }\n",
       "\n",
       "    .dataframe tbody tr th {\n",
       "        vertical-align: top;\n",
       "    }\n",
       "\n",
       "    .dataframe thead th {\n",
       "        text-align: right;\n",
       "    }\n",
       "</style>\n",
       "<table border=\"1\" class=\"dataframe\">\n",
       "  <thead>\n",
       "    <tr style=\"text-align: right;\">\n",
       "      <th></th>\n",
       "      <th>table_name</th>\n",
       "    </tr>\n",
       "  </thead>\n",
       "  <tbody>\n",
       "  </tbody>\n",
       "</table>\n",
       "</div>"
      ],
      "text/plain": [
       "Empty DataFrame\n",
       "Columns: [table_name]\n",
       "Index: []"
      ]
     },
     "execution_count": 12,
     "metadata": {},
     "output_type": "execute_result"
    }
   ],
   "source": [
    "geodb.list_grants()"
   ]
  }
 ],
 "metadata": {
  "kernelspec": {
   "display_name": "Python 3",
   "language": "python",
   "name": "python3"
  },
  "language_info": {
   "codemirror_mode": {
    "name": "ipython",
    "version": 3
   },
   "file_extension": ".py",
   "mimetype": "text/x-python",
   "name": "python",
   "nbconvert_exporter": "python",
   "pygments_lexer": "ipython3",
   "version": "3.8.3"
  },
  "papermill": {
   "duration": 7.029394,
   "end_time": "2020-07-13T12:52:48.717625",
   "environment_variables": {},
   "exception": null,
   "input_path": "/tmp/tmp7n3r_43u",
   "output_path": "/tmp/cur_notebook.ipynb",
   "parameters": {},
   "start_time": "2020-07-13T12:52:41.688231",
   "version": "2.1.0"
  },
  "properties": {
   "description": "Euro Data Cube GeoDB: Sharing Data",
   "id": "geodb-sharing",
   "name": "GeoDB: Sharing Data",
   "requirements": [
    "eurodatacube-geodb"
   ],
   "tags": [
    "Getting started",
    "GeoDB"
   ],
   "version": "0.2"
  },
  "pycharm": {
   "stem_cell": {
    "cell_type": "raw",
    "metadata": {
     "collapsed": false
    },
    "source": []
   }
  }
 },
 "nbformat": 4,
 "nbformat_minor": 4
}