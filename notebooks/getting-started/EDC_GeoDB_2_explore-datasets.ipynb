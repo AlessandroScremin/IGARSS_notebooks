{
 "cells": [
  {
   "cell_type": "code",
   "execution_count": 1,
   "metadata": {
    "execution": {
     "iopub.execute_input": "2021-05-11T13:55:22.842539Z",
     "iopub.status.busy": "2021-05-11T13:55:22.841536Z",
     "iopub.status.idle": "2021-05-11T13:55:23.260910Z",
     "shell.execute_reply": "2021-05-11T13:55:23.260306Z"
    },
    "papermill": {
     "duration": 0.443024,
     "end_time": "2021-05-11T13:55:23.261823",
     "exception": false,
     "start_time": "2021-05-11T13:55:22.818799",
     "status": "completed"
    },
    "tags": []
   },
   "outputs": [
    {
     "data": {
      "text/markdown": [
       "\n",
       "***Notebook Title***  \n",
       "GeoDB: Explore Datasets\n",
       "\n",
       "***Notebook Description***  \n",
       "Euro Data Cube GeoDB: Explore Datasets\n",
       "\n",
       "\n",
       "***Notebook Dependencies***  \n",
       "This notebook requires an active subscription to:\n",
       "* EDC GeoDB\n"
      ],
      "text/plain": [
       "<IPython.core.display.Markdown object>"
      ]
     },
     "metadata": {},
     "output_type": "display_data"
    }
   ],
   "source": [
    "from edc import print_info\n",
    "print_info(\"geodb-explore\")"
   ]
  },
  {
   "cell_type": "code",
   "execution_count": 3,
   "metadata": {
    "execution": {
     "iopub.execute_input": "2021-05-11T13:55:23.343464Z",
     "iopub.status.busy": "2021-05-11T13:55:23.342629Z",
     "iopub.status.idle": "2021-05-11T13:55:23.353273Z",
     "shell.execute_reply": "2021-05-11T13:55:23.353882Z"
    },
    "papermill": {
     "duration": 0.031769,
     "end_time": "2021-05-11T13:55:23.354096",
     "exception": false,
     "start_time": "2021-05-11T13:55:23.322327",
     "status": "completed"
    },
    "tags": []
   },
   "outputs": [
    {
     "data": {
      "text/html": [
       "<script type=\"text/javascript\">\n",
       "        function toggle(id) {\n",
       "            el = document.getElementById(id);\n",
       "            el.style.display = el.style.display === \"none\" ? \"block\" : \"none\";\n",
       "        }\n",
       "    </script>"
      ],
      "text/plain": [
       "<IPython.core.display.HTML object>"
      ]
     },
     "metadata": {},
     "output_type": "display_data"
    },
    {
     "data": {
      "text/html": [
       "This notebook is compatible with this base image version (user-0.24.5)."
      ],
      "text/plain": [
       "<IPython.core.display.HTML object>"
      ]
     },
     "metadata": {},
     "output_type": "display_data"
    },
    {
     "data": {
      "text/markdown": [
       "\n",
       "\n",
       "---------\n",
       "\n",
       "The following environment variables are available:\n",
       "\n",
       "* `GEODB_AUTH_AUD`, `GEODB_AUTH_CLIENT_ID`, `GEODB_AUTH_DOMAIN`, `GEODB_API_SERVER_URL`, `GEODB_AUTH_CLIENT_SECRET`, `GEODB_API_SERVER_PORT`\n"
      ],
      "text/plain": [
       "<IPython.core.display.Markdown object>"
      ]
     },
     "metadata": {},
     "output_type": "display_data"
    }
   ],
   "source": [
    "from edc import check_compatibility\n",
    "check_compatibility(\"user-0.24.5\", dependencies=[\"GEODB\"])"
   ]
  },
  {
   "cell_type": "markdown",
   "metadata": {
    "papermill": {
     "duration": 0.014412,
     "end_time": "2021-05-11T13:55:23.386466",
     "exception": false,
     "start_time": "2021-05-11T13:55:23.372054",
     "status": "completed"
    },
    "tags": []
   },
   "source": [
    "## Exploring Data\n",
    "\n",
    "\n"
   ]
  },
  {
   "cell_type": "code",
   "execution_count": 4,
   "metadata": {
    "execution": {
     "iopub.execute_input": "2021-05-11T13:55:23.421546Z",
     "iopub.status.busy": "2021-05-11T13:55:23.420694Z",
     "iopub.status.idle": "2021-05-11T13:55:23.937875Z",
     "shell.execute_reply": "2021-05-11T13:55:23.938990Z"
    },
    "papermill": {
     "duration": 0.537694,
     "end_time": "2021-05-11T13:55:23.939867",
     "exception": false,
     "start_time": "2021-05-11T13:55:23.402173",
     "status": "completed"
    },
    "tags": []
   },
   "outputs": [],
   "source": [
    "from xcube_geodb.core.geodb import GeoDBClient"
   ]
  },
  {
   "cell_type": "code",
   "execution_count": 5,
   "metadata": {
    "execution": {
     "iopub.execute_input": "2021-05-11T13:55:23.977009Z",
     "iopub.status.busy": "2021-05-11T13:55:23.976175Z",
     "iopub.status.idle": "2021-05-11T13:55:23.980412Z",
     "shell.execute_reply": "2021-05-11T13:55:23.981011Z"
    },
    "papermill": {
     "duration": 0.024745,
     "end_time": "2021-05-11T13:55:23.981213",
     "exception": false,
     "start_time": "2021-05-11T13:55:23.956468",
     "status": "completed"
    },
    "tags": []
   },
   "outputs": [],
   "source": [
    "geodb = GeoDBClient()"
   ]
  },
  {
   "cell_type": "markdown",
   "metadata": {
    "papermill": {
     "duration": 0.01344,
     "end_time": "2021-05-11T13:55:24.011426",
     "exception": false,
     "start_time": "2021-05-11T13:55:23.997986",
     "status": "completed"
    },
    "tags": []
   },
   "source": [
    "### Get your user name"
   ]
  },
  {
   "cell_type": "code",
   "execution_count": 6,
   "metadata": {
    "execution": {
     "iopub.execute_input": "2021-05-11T13:55:24.048201Z",
     "iopub.status.busy": "2021-05-11T13:55:24.047288Z",
     "iopub.status.idle": "2021-05-11T13:55:25.085961Z",
     "shell.execute_reply": "2021-05-11T13:55:25.083797Z"
    },
    "papermill": {
     "duration": 1.059349,
     "end_time": "2021-05-11T13:55:25.086140",
     "exception": false,
     "start_time": "2021-05-11T13:55:24.026791",
     "status": "completed"
    },
    "tags": []
   },
   "outputs": [
    {
     "data": {
      "text/plain": [
       "'geodb_418dfeac-15f0-4606-9edb-fd9eb722bf04'"
      ]
     },
     "execution_count": 6,
     "metadata": {},
     "output_type": "execute_result"
    }
   ],
   "source": [
    "geodb.whoami"
   ]
  },
  {
   "cell_type": "code",
   "execution_count": 7,
   "metadata": {
    "execution": {
     "iopub.execute_input": "2021-05-11T13:55:25.126866Z",
     "iopub.status.busy": "2021-05-11T13:55:25.125493Z",
     "iopub.status.idle": "2021-05-11T13:55:26.766082Z",
     "shell.execute_reply": "2021-05-11T13:55:26.765327Z"
    },
    "papermill": {
     "duration": 1.664431,
     "end_time": "2021-05-11T13:55:26.766366",
     "exception": false,
     "start_time": "2021-05-11T13:55:25.101935",
     "status": "completed"
    },
    "tags": []
   },
   "outputs": [],
   "source": [
    "ds = geodb.get_my_collections()\n",
    "\n",
    "if ds[(ds.database == geodb.whoami) & (ds.table_name == 'land_use')].table_name.count() == 0:\n",
    "    # Have a look at fiona feature schema\n",
    "    collections = {\n",
    "            \"land_use\": \n",
    "            {\n",
    "                \"crs\": 3794,\n",
    "                \"properties\": \n",
    "                {\n",
    "                    \"RABA_PID\": \"float\", \n",
    "                    \"RABA_ID\": \"float\", \n",
    "                    \"D_OD\": \"date\"\n",
    "                }\n",
    "            }\n",
    "        }\n",
    "\n",
    "\n",
    "    geodb.create_collections(collections)\n",
    "    import geopandas\n",
    "    import os\n",
    "    gdf = geopandas.read_file(os.path.expanduser(\"~/.shared/notebooks/eurodatacube/notebooks/getting-started/data/sample/land_use.shp\"))\n",
    "    geodb.insert_into_collection('land_use', gdf)"
   ]
  },
  {
   "cell_type": "markdown",
   "metadata": {
    "papermill": {
     "duration": 0.013818,
     "end_time": "2021-05-11T13:55:26.799277",
     "exception": false,
     "start_time": "2021-05-11T13:55:26.785459",
     "status": "completed"
    },
    "pycharm": {
     "is_executing": false
    },
    "tags": []
   },
   "source": [
    "### List Datasets\n",
    "\n",
    "__Step 1__: List all datasets a user has access to."
   ]
  },
  {
   "cell_type": "code",
   "execution_count": 8,
   "metadata": {
    "execution": {
     "iopub.execute_input": "2021-05-11T13:55:26.837163Z",
     "iopub.status.busy": "2021-05-11T13:55:26.836194Z",
     "iopub.status.idle": "2021-05-11T13:55:27.419513Z",
     "shell.execute_reply": "2021-05-11T13:55:27.418481Z"
    },
    "papermill": {
     "duration": 0.603323,
     "end_time": "2021-05-11T13:55:27.419733",
     "exception": false,
     "start_time": "2021-05-11T13:55:26.816410",
     "status": "completed"
    },
    "tags": []
   },
   "outputs": [
    {
     "data": {
      "text/plain": [
       "{'usage': None}"
      ]
     },
     "execution_count": 8,
     "metadata": {},
     "output_type": "execute_result"
    }
   ],
   "source": [
    "geodb.get_my_usage() # to be updated so that all available collections are displayed includign sensible information ont heir availability, e.g. public, purchased, etc.."
   ]
  },
  {
   "cell_type": "code",
   "execution_count": 9,
   "metadata": {
    "execution": {
     "iopub.execute_input": "2021-05-11T13:55:27.462180Z",
     "iopub.status.busy": "2021-05-11T13:55:27.461296Z",
     "iopub.status.idle": "2021-05-11T13:55:28.185524Z",
     "shell.execute_reply": "2021-05-11T13:55:28.183201Z"
    },
    "papermill": {
     "duration": 0.747357,
     "end_time": "2021-05-11T13:55:28.185808",
     "exception": false,
     "start_time": "2021-05-11T13:55:27.438451",
     "status": "completed"
    },
    "tags": []
   },
   "outputs": [
    {
     "data": {
      "text/html": [
       "<div>\n",
       "<style scoped>\n",
       "    .dataframe tbody tr th:only-of-type {\n",
       "        vertical-align: middle;\n",
       "    }\n",
       "\n",
       "    .dataframe tbody tr th {\n",
       "        vertical-align: top;\n",
       "    }\n",
       "\n",
       "    .dataframe thead th {\n",
       "        text-align: right;\n",
       "    }\n",
       "</style>\n",
       "<table border=\"1\" class=\"dataframe\">\n",
       "  <thead>\n",
       "    <tr style=\"text-align: right;\">\n",
       "      <th></th>\n",
       "      <th>owner</th>\n",
       "      <th>database</th>\n",
       "      <th>table_name</th>\n",
       "    </tr>\n",
       "  </thead>\n",
       "  <tbody>\n",
       "    <tr>\n",
       "      <th>0</th>\n",
       "      <td>geodb_0b01bfcd-2d09-46f8-84e8-cb5720fba14c</td>\n",
       "      <td>geodb_0b01bfcd-2d09-46f8-84e8-cb5720fba14c</td>\n",
       "      <td>delineated_parcels_s</td>\n",
       "    </tr>\n",
       "    <tr>\n",
       "      <th>1</th>\n",
       "      <td>geodb_0b01bfcd-2d09-46f8-84e8-cb5720fba14c</td>\n",
       "      <td>geodb_0b01bfcd-2d09-46f8-84e8-cb5720fba14c</td>\n",
       "      <td>test_batic</td>\n",
       "    </tr>\n",
       "    <tr>\n",
       "      <th>2</th>\n",
       "      <td>geodb_0b01bfcd-2d09-46f8-84e8-cb5720fba14c</td>\n",
       "      <td>phi_week</td>\n",
       "      <td>alster</td>\n",
       "    </tr>\n",
       "    <tr>\n",
       "      <th>3</th>\n",
       "      <td>geodb_0b01bfcd-2d09-46f8-84e8-cb5720fba14c</td>\n",
       "      <td>phi_week</td>\n",
       "      <td>gran_chaco</td>\n",
       "    </tr>\n",
       "    <tr>\n",
       "      <th>4</th>\n",
       "      <td>geodb_0d6df427-8c09-41b9-abc9-64ce13a68125</td>\n",
       "      <td>geodb_0d6df427-8c09-41b9-abc9-64ce13a68125</td>\n",
       "      <td>land_use</td>\n",
       "    </tr>\n",
       "    <tr>\n",
       "      <th>...</th>\n",
       "      <td>...</td>\n",
       "      <td>...</td>\n",
       "      <td>...</td>\n",
       "    </tr>\n",
       "    <tr>\n",
       "      <th>862</th>\n",
       "      <td>geodb_lpis_iacs_admin</td>\n",
       "      <td>anja</td>\n",
       "      <td>N4a</td>\n",
       "    </tr>\n",
       "    <tr>\n",
       "      <th>863</th>\n",
       "      <td>geodb_lpis_iacs_admin</td>\n",
       "      <td>anja</td>\n",
       "      <td>race_indicators</td>\n",
       "    </tr>\n",
       "    <tr>\n",
       "      <th>864</th>\n",
       "      <td>geodb_lpis_iacs_admin</td>\n",
       "      <td>lpis_iacs</td>\n",
       "      <td>land_use_slo</td>\n",
       "    </tr>\n",
       "    <tr>\n",
       "      <th>865</th>\n",
       "      <td>geodb_lpis_iacs_admin</td>\n",
       "      <td>lpis_iacs</td>\n",
       "      <td>lpis_aut</td>\n",
       "    </tr>\n",
       "    <tr>\n",
       "      <th>866</th>\n",
       "      <td>geodb_lpis_iacs_admin</td>\n",
       "      <td>lpis_iacs</td>\n",
       "      <td>lpis_slo</td>\n",
       "    </tr>\n",
       "  </tbody>\n",
       "</table>\n",
       "<p>867 rows × 3 columns</p>\n",
       "</div>"
      ],
      "text/plain": [
       "                                          owner  \\\n",
       "0    geodb_0b01bfcd-2d09-46f8-84e8-cb5720fba14c   \n",
       "1    geodb_0b01bfcd-2d09-46f8-84e8-cb5720fba14c   \n",
       "2    geodb_0b01bfcd-2d09-46f8-84e8-cb5720fba14c   \n",
       "3    geodb_0b01bfcd-2d09-46f8-84e8-cb5720fba14c   \n",
       "4    geodb_0d6df427-8c09-41b9-abc9-64ce13a68125   \n",
       "..                                          ...   \n",
       "862                       geodb_lpis_iacs_admin   \n",
       "863                       geodb_lpis_iacs_admin   \n",
       "864                       geodb_lpis_iacs_admin   \n",
       "865                       geodb_lpis_iacs_admin   \n",
       "866                       geodb_lpis_iacs_admin   \n",
       "\n",
       "                                       database            table_name  \n",
       "0    geodb_0b01bfcd-2d09-46f8-84e8-cb5720fba14c  delineated_parcels_s  \n",
       "1    geodb_0b01bfcd-2d09-46f8-84e8-cb5720fba14c            test_batic  \n",
       "2                                      phi_week                alster  \n",
       "3                                      phi_week            gran_chaco  \n",
       "4    geodb_0d6df427-8c09-41b9-abc9-64ce13a68125              land_use  \n",
       "..                                          ...                   ...  \n",
       "862                                        anja                   N4a  \n",
       "863                                        anja       race_indicators  \n",
       "864                                   lpis_iacs          land_use_slo  \n",
       "865                                   lpis_iacs              lpis_aut  \n",
       "866                                   lpis_iacs              lpis_slo  \n",
       "\n",
       "[867 rows x 3 columns]"
      ]
     },
     "execution_count": 9,
     "metadata": {},
     "output_type": "execute_result"
    }
   ],
   "source": [
    "geodb.get_my_collections()"
   ]
  },
  {
   "cell_type": "markdown",
   "metadata": {
    "papermill": {
     "duration": 0.017031,
     "end_time": "2021-05-11T13:55:28.222435",
     "exception": false,
     "start_time": "2021-05-11T13:55:28.205404",
     "status": "completed"
    },
    "tags": []
   },
   "source": [
    "__Step 2__: Let's get the whole content of a particular data set."
   ]
  },
  {
   "cell_type": "code",
   "execution_count": 10,
   "metadata": {
    "execution": {
     "iopub.execute_input": "2021-05-11T13:55:28.266638Z",
     "iopub.status.busy": "2021-05-11T13:55:28.265594Z",
     "iopub.status.idle": "2021-05-11T13:55:45.026638Z",
     "shell.execute_reply": "2021-05-11T13:55:45.027466Z"
    },
    "papermill": {
     "duration": 16.785692,
     "end_time": "2021-05-11T13:55:45.027725",
     "exception": false,
     "start_time": "2021-05-11T13:55:28.242033",
     "status": "completed"
    },
    "tags": []
   },
   "outputs": [
    {
     "data": {
      "text/html": [
       "<div>\n",
       "<style scoped>\n",
       "    .dataframe tbody tr th:only-of-type {\n",
       "        vertical-align: middle;\n",
       "    }\n",
       "\n",
       "    .dataframe tbody tr th {\n",
       "        vertical-align: top;\n",
       "    }\n",
       "\n",
       "    .dataframe thead th {\n",
       "        text-align: right;\n",
       "    }\n",
       "</style>\n",
       "<table border=\"1\" class=\"dataframe\">\n",
       "  <thead>\n",
       "    <tr style=\"text-align: right;\">\n",
       "      <th></th>\n",
       "      <th>id</th>\n",
       "      <th>created_at</th>\n",
       "      <th>modified_at</th>\n",
       "      <th>geometry</th>\n",
       "      <th>raba_pid</th>\n",
       "      <th>raba_id</th>\n",
       "      <th>d_od</th>\n",
       "    </tr>\n",
       "  </thead>\n",
       "  <tbody>\n",
       "    <tr>\n",
       "      <th>0</th>\n",
       "      <td>1</td>\n",
       "      <td>2020-09-29T09:23:21.172369+00:00</td>\n",
       "      <td>None</td>\n",
       "      <td>POLYGON ((453952.629 91124.177, 453952.696 911...</td>\n",
       "      <td>4770326</td>\n",
       "      <td>1410</td>\n",
       "      <td>2019-03-26</td>\n",
       "    </tr>\n",
       "    <tr>\n",
       "      <th>1</th>\n",
       "      <td>9828</td>\n",
       "      <td>2020-09-29T12:37:37.136218+00:00</td>\n",
       "      <td>None</td>\n",
       "      <td>POLYGON ((453952.629 91124.177, 453952.696 911...</td>\n",
       "      <td>4770326</td>\n",
       "      <td>1410</td>\n",
       "      <td>2019-03-26</td>\n",
       "    </tr>\n",
       "    <tr>\n",
       "      <th>2</th>\n",
       "      <td>19655</td>\n",
       "      <td>2020-09-30T07:49:51.801876+00:00</td>\n",
       "      <td>None</td>\n",
       "      <td>POLYGON ((453952.629 91124.177, 453952.696 911...</td>\n",
       "      <td>4770326</td>\n",
       "      <td>1410</td>\n",
       "      <td>2019-03-26</td>\n",
       "    </tr>\n",
       "    <tr>\n",
       "      <th>3</th>\n",
       "      <td>4</td>\n",
       "      <td>2020-09-29T09:23:21.172369+00:00</td>\n",
       "      <td>None</td>\n",
       "      <td>POLYGON ((455929.405 97963.785, 455933.284 979...</td>\n",
       "      <td>2305596</td>\n",
       "      <td>1100</td>\n",
       "      <td>2019-02-25</td>\n",
       "    </tr>\n",
       "    <tr>\n",
       "      <th>4</th>\n",
       "      <td>5</td>\n",
       "      <td>2020-09-29T09:23:21.172369+00:00</td>\n",
       "      <td>None</td>\n",
       "      <td>POLYGON ((461561.512 96119.256, 461632.114 960...</td>\n",
       "      <td>2310160</td>\n",
       "      <td>1100</td>\n",
       "      <td>2019-03-11</td>\n",
       "    </tr>\n",
       "    <tr>\n",
       "      <th>...</th>\n",
       "      <td>...</td>\n",
       "      <td>...</td>\n",
       "      <td>...</td>\n",
       "      <td>...</td>\n",
       "      <td>...</td>\n",
       "      <td>...</td>\n",
       "      <td>...</td>\n",
       "    </tr>\n",
       "    <tr>\n",
       "      <th>94425</th>\n",
       "      <td>98208</td>\n",
       "      <td>2021-05-11T13:54:31.276633+00:00</td>\n",
       "      <td>2021-05-11T13:54:50.772978+00:00</td>\n",
       "      <td>POLYGON ((458304.555 100146.103, 458306.726 10...</td>\n",
       "      <td>6268058</td>\n",
       "      <td>1300</td>\n",
       "      <td>2000-01-01</td>\n",
       "    </tr>\n",
       "    <tr>\n",
       "      <th>94426</th>\n",
       "      <td>98209</td>\n",
       "      <td>2021-05-11T13:54:31.276633+00:00</td>\n",
       "      <td>2021-05-11T13:54:50.772978+00:00</td>\n",
       "      <td>POLYGON ((458247.583 99746.065, 458245.202 997...</td>\n",
       "      <td>6268059</td>\n",
       "      <td>1300</td>\n",
       "      <td>2000-01-01</td>\n",
       "    </tr>\n",
       "    <tr>\n",
       "      <th>94427</th>\n",
       "      <td>98210</td>\n",
       "      <td>2021-05-11T13:54:31.276633+00:00</td>\n",
       "      <td>2021-05-11T13:54:50.772978+00:00</td>\n",
       "      <td>POLYGON ((461932.283 90520.703, 461931.619 905...</td>\n",
       "      <td>6263561</td>\n",
       "      <td>1300</td>\n",
       "      <td>2000-01-01</td>\n",
       "    </tr>\n",
       "    <tr>\n",
       "      <th>94428</th>\n",
       "      <td>98241</td>\n",
       "      <td>2021-05-11T13:54:31.276633+00:00</td>\n",
       "      <td>2021-05-11T13:54:50.772978+00:00</td>\n",
       "      <td>POLYGON ((457231.170 90902.256, 457234.861 909...</td>\n",
       "      <td>6264862</td>\n",
       "      <td>1300</td>\n",
       "      <td>2000-01-01</td>\n",
       "    </tr>\n",
       "    <tr>\n",
       "      <th>94429</th>\n",
       "      <td>98242</td>\n",
       "      <td>2021-05-11T13:54:31.276633+00:00</td>\n",
       "      <td>2021-05-11T13:54:50.772978+00:00</td>\n",
       "      <td>POLYGON ((461378.845 91124.318, 461490.224 911...</td>\n",
       "      <td>6264865</td>\n",
       "      <td>1300</td>\n",
       "      <td>2000-01-01</td>\n",
       "    </tr>\n",
       "  </tbody>\n",
       "</table>\n",
       "<p>94430 rows × 7 columns</p>\n",
       "</div>"
      ],
      "text/plain": [
       "          id                        created_at  \\\n",
       "0          1  2020-09-29T09:23:21.172369+00:00   \n",
       "1       9828  2020-09-29T12:37:37.136218+00:00   \n",
       "2      19655  2020-09-30T07:49:51.801876+00:00   \n",
       "3          4  2020-09-29T09:23:21.172369+00:00   \n",
       "4          5  2020-09-29T09:23:21.172369+00:00   \n",
       "...      ...                               ...   \n",
       "94425  98208  2021-05-11T13:54:31.276633+00:00   \n",
       "94426  98209  2021-05-11T13:54:31.276633+00:00   \n",
       "94427  98210  2021-05-11T13:54:31.276633+00:00   \n",
       "94428  98241  2021-05-11T13:54:31.276633+00:00   \n",
       "94429  98242  2021-05-11T13:54:31.276633+00:00   \n",
       "\n",
       "                            modified_at  \\\n",
       "0                                  None   \n",
       "1                                  None   \n",
       "2                                  None   \n",
       "3                                  None   \n",
       "4                                  None   \n",
       "...                                 ...   \n",
       "94425  2021-05-11T13:54:50.772978+00:00   \n",
       "94426  2021-05-11T13:54:50.772978+00:00   \n",
       "94427  2021-05-11T13:54:50.772978+00:00   \n",
       "94428  2021-05-11T13:54:50.772978+00:00   \n",
       "94429  2021-05-11T13:54:50.772978+00:00   \n",
       "\n",
       "                                                geometry  raba_pid  raba_id  \\\n",
       "0      POLYGON ((453952.629 91124.177, 453952.696 911...   4770326     1410   \n",
       "1      POLYGON ((453952.629 91124.177, 453952.696 911...   4770326     1410   \n",
       "2      POLYGON ((453952.629 91124.177, 453952.696 911...   4770326     1410   \n",
       "3      POLYGON ((455929.405 97963.785, 455933.284 979...   2305596     1100   \n",
       "4      POLYGON ((461561.512 96119.256, 461632.114 960...   2310160     1100   \n",
       "...                                                  ...       ...      ...   \n",
       "94425  POLYGON ((458304.555 100146.103, 458306.726 10...   6268058     1300   \n",
       "94426  POLYGON ((458247.583 99746.065, 458245.202 997...   6268059     1300   \n",
       "94427  POLYGON ((461932.283 90520.703, 461931.619 905...   6263561     1300   \n",
       "94428  POLYGON ((457231.170 90902.256, 457234.861 909...   6264862     1300   \n",
       "94429  POLYGON ((461378.845 91124.318, 461490.224 911...   6264865     1300   \n",
       "\n",
       "             d_od  \n",
       "0      2019-03-26  \n",
       "1      2019-03-26  \n",
       "2      2019-03-26  \n",
       "3      2019-02-25  \n",
       "4      2019-03-11  \n",
       "...           ...  \n",
       "94425  2000-01-01  \n",
       "94426  2000-01-01  \n",
       "94427  2000-01-01  \n",
       "94428  2000-01-01  \n",
       "94429  2000-01-01  \n",
       "\n",
       "[94430 rows x 7 columns]"
      ]
     },
     "execution_count": 10,
     "metadata": {},
     "output_type": "execute_result"
    }
   ],
   "source": [
    "gdf = geodb.get_collection('land_use') # to be updated, so that namespace is not needed or something more suitable, e.g. 'public'\n",
    "gdf"
   ]
  },
  {
   "cell_type": "markdown",
   "metadata": {
    "papermill": {
     "duration": 0.016095,
     "end_time": "2021-05-11T13:55:45.073476",
     "exception": false,
     "start_time": "2021-05-11T13:55:45.057381",
     "status": "completed"
    },
    "tags": []
   },
   "source": [
    "__Step 3__: Plot the GeoDataframe, select a reasonable column to diplay"
   ]
  },
  {
   "cell_type": "code",
   "execution_count": 11,
   "metadata": {
    "execution": {
     "iopub.execute_input": "2021-05-11T13:55:45.150728Z",
     "iopub.status.busy": "2021-05-11T13:55:45.149258Z",
     "iopub.status.idle": "2021-05-11T13:56:08.601751Z",
     "shell.execute_reply": "2021-05-11T13:56:08.602181Z"
    },
    "papermill": {
     "duration": 23.50203,
     "end_time": "2021-05-11T13:56:08.602391",
     "exception": false,
     "start_time": "2021-05-11T13:55:45.100361",
     "status": "completed"
    },
    "pycharm": {
     "is_executing": false
    },
    "tags": []
   },
   "outputs": [
    {
     "data": {
      "text/plain": [
       "<AxesSubplot:>"
      ]
     },
     "execution_count": 11,
     "metadata": {},
     "output_type": "execute_result"
    }
   ],
   "source": [
    "gdf.plot(column=\"raba_id\", figsize=(15,15), cmap = 'jet')"
   ]
  },
  {
   "cell_type": "markdown",
   "metadata": {
    "papermill": {
     "duration": 0.0156,
     "end_time": "2021-05-11T13:56:08.636011",
     "exception": false,
     "start_time": "2021-05-11T13:56:08.620411",
     "status": "completed"
    },
    "tags": []
   },
   "source": [
    "__Step 5__: Subselect the data. Here: Select a specific use by defining an ID value to choose "
   ]
  },
  {
   "cell_type": "code",
   "execution_count": 12,
   "metadata": {
    "execution": {
     "iopub.execute_input": "2021-05-11T13:56:08.678732Z",
     "iopub.status.busy": "2021-05-11T13:56:08.677819Z",
     "iopub.status.idle": "2021-05-11T13:56:13.967822Z",
     "shell.execute_reply": "2021-05-11T13:56:13.966677Z"
    },
    "papermill": {
     "duration": 5.31471,
     "end_time": "2021-05-11T13:56:13.968046",
     "exception": false,
     "start_time": "2021-05-11T13:56:08.653336",
     "status": "completed"
    },
    "tags": []
   },
   "outputs": [
    {
     "data": {
      "text/html": [
       "<div>\n",
       "<style scoped>\n",
       "    .dataframe tbody tr th:only-of-type {\n",
       "        vertical-align: middle;\n",
       "    }\n",
       "\n",
       "    .dataframe tbody tr th {\n",
       "        vertical-align: top;\n",
       "    }\n",
       "\n",
       "    .dataframe thead th {\n",
       "        text-align: right;\n",
       "    }\n",
       "</style>\n",
       "<table border=\"1\" class=\"dataframe\">\n",
       "  <thead>\n",
       "    <tr style=\"text-align: right;\">\n",
       "      <th></th>\n",
       "      <th>id</th>\n",
       "      <th>created_at</th>\n",
       "      <th>modified_at</th>\n",
       "      <th>geometry</th>\n",
       "      <th>raba_pid</th>\n",
       "      <th>raba_id</th>\n",
       "      <th>d_od</th>\n",
       "    </tr>\n",
       "  </thead>\n",
       "  <tbody>\n",
       "    <tr>\n",
       "      <th>0</th>\n",
       "      <td>1</td>\n",
       "      <td>2020-09-29T09:23:21.172369+00:00</td>\n",
       "      <td>None</td>\n",
       "      <td>POLYGON ((453952.629 91124.177, 453952.696 911...</td>\n",
       "      <td>4770326</td>\n",
       "      <td>1410</td>\n",
       "      <td>2019-03-26</td>\n",
       "    </tr>\n",
       "    <tr>\n",
       "      <th>1</th>\n",
       "      <td>9828</td>\n",
       "      <td>2020-09-29T12:37:37.136218+00:00</td>\n",
       "      <td>None</td>\n",
       "      <td>POLYGON ((453952.629 91124.177, 453952.696 911...</td>\n",
       "      <td>4770326</td>\n",
       "      <td>1410</td>\n",
       "      <td>2019-03-26</td>\n",
       "    </tr>\n",
       "    <tr>\n",
       "      <th>2</th>\n",
       "      <td>19655</td>\n",
       "      <td>2020-09-30T07:49:51.801876+00:00</td>\n",
       "      <td>None</td>\n",
       "      <td>POLYGON ((453952.629 91124.177, 453952.696 911...</td>\n",
       "      <td>4770326</td>\n",
       "      <td>1410</td>\n",
       "      <td>2019-03-26</td>\n",
       "    </tr>\n",
       "    <tr>\n",
       "      <th>3</th>\n",
       "      <td>39309</td>\n",
       "      <td>2020-12-01T13:40:18.246639+00:00</td>\n",
       "      <td>None</td>\n",
       "      <td>POLYGON ((453952.629 91124.177, 453952.696 911...</td>\n",
       "      <td>4770326</td>\n",
       "      <td>1410</td>\n",
       "      <td>2019-03-26</td>\n",
       "    </tr>\n",
       "    <tr>\n",
       "      <th>4</th>\n",
       "      <td>62</td>\n",
       "      <td>2020-09-29T09:23:21.172369+00:00</td>\n",
       "      <td>None</td>\n",
       "      <td>POLYGON ((457261.001 96349.254, 457256.831 963...</td>\n",
       "      <td>3596498</td>\n",
       "      <td>1410</td>\n",
       "      <td>2019-01-05</td>\n",
       "    </tr>\n",
       "  </tbody>\n",
       "</table>\n",
       "</div>"
      ],
      "text/plain": [
       "      id                        created_at modified_at  \\\n",
       "0      1  2020-09-29T09:23:21.172369+00:00        None   \n",
       "1   9828  2020-09-29T12:37:37.136218+00:00        None   \n",
       "2  19655  2020-09-30T07:49:51.801876+00:00        None   \n",
       "3  39309  2020-12-01T13:40:18.246639+00:00        None   \n",
       "4     62  2020-09-29T09:23:21.172369+00:00        None   \n",
       "\n",
       "                                            geometry  raba_pid  raba_id  \\\n",
       "0  POLYGON ((453952.629 91124.177, 453952.696 911...   4770326     1410   \n",
       "1  POLYGON ((453952.629 91124.177, 453952.696 911...   4770326     1410   \n",
       "2  POLYGON ((453952.629 91124.177, 453952.696 911...   4770326     1410   \n",
       "3  POLYGON ((453952.629 91124.177, 453952.696 911...   4770326     1410   \n",
       "4  POLYGON ((457261.001 96349.254, 457256.831 963...   3596498     1410   \n",
       "\n",
       "         d_od  \n",
       "0  2019-03-26  \n",
       "1  2019-03-26  \n",
       "2  2019-03-26  \n",
       "3  2019-03-26  \n",
       "4  2019-01-05  "
      ]
     },
     "execution_count": 12,
     "metadata": {},
     "output_type": "execute_result"
    }
   ],
   "source": [
    "gdfsub = geodb.get_collection('land_use', query='raba_id=eq.1410')\n",
    "gdfsub.head()"
   ]
  },
  {
   "cell_type": "code",
   "execution_count": 13,
   "metadata": {
    "execution": {
     "iopub.execute_input": "2021-05-11T13:56:14.024375Z",
     "iopub.status.busy": "2021-05-11T13:56:14.023481Z",
     "iopub.status.idle": "2021-05-11T13:56:16.166152Z",
     "shell.execute_reply": "2021-05-11T13:56:16.165376Z"
    },
    "papermill": {
     "duration": 2.170491,
     "end_time": "2021-05-11T13:56:16.166493",
     "exception": false,
     "start_time": "2021-05-11T13:56:13.996002",
     "status": "completed"
    },
    "tags": []
   },
   "outputs": [
    {
     "data": {
      "text/plain": [
       "<AxesSubplot:>"
      ]
     },
     "execution_count": 13,
     "metadata": {},
     "output_type": "execute_result"
    }
   ],
   "source": [
    "gdfsub.plot(column=\"raba_id\", figsize=(15,15), cmap = 'jet')"
   ]
  },
  {
   "cell_type": "markdown",
   "metadata": {
    "papermill": {
     "duration": 0.017083,
     "end_time": "2021-05-11T13:56:16.205281",
     "exception": false,
     "start_time": "2021-05-11T13:56:16.188198",
     "status": "completed"
    },
    "tags": []
   },
   "source": [
    "__Step 6__: Filter by bbox, limit it to 200 entries"
   ]
  },
  {
   "cell_type": "code",
   "execution_count": 14,
   "metadata": {
    "execution": {
     "iopub.execute_input": "2021-05-11T13:56:16.247859Z",
     "iopub.status.busy": "2021-05-11T13:56:16.246744Z",
     "iopub.status.idle": "2021-05-11T13:56:25.481631Z",
     "shell.execute_reply": "2021-05-11T13:56:25.482577Z"
    },
    "papermill": {
     "duration": 9.259597,
     "end_time": "2021-05-11T13:56:25.482903",
     "exception": false,
     "start_time": "2021-05-11T13:56:16.223306",
     "status": "completed"
    },
    "tags": []
   },
   "outputs": [
    {
     "data": {
      "text/html": [
       "<div>\n",
       "<style scoped>\n",
       "    .dataframe tbody tr th:only-of-type {\n",
       "        vertical-align: middle;\n",
       "    }\n",
       "\n",
       "    .dataframe tbody tr th {\n",
       "        vertical-align: top;\n",
       "    }\n",
       "\n",
       "    .dataframe thead th {\n",
       "        text-align: right;\n",
       "    }\n",
       "</style>\n",
       "<table border=\"1\" class=\"dataframe\">\n",
       "  <thead>\n",
       "    <tr style=\"text-align: right;\">\n",
       "      <th></th>\n",
       "      <th>id</th>\n",
       "      <th>created_at</th>\n",
       "      <th>modified_at</th>\n",
       "      <th>geometry</th>\n",
       "      <th>raba_pid</th>\n",
       "      <th>raba_id</th>\n",
       "      <th>d_od</th>\n",
       "    </tr>\n",
       "  </thead>\n",
       "  <tbody>\n",
       "    <tr>\n",
       "      <th>0</th>\n",
       "      <td>12</td>\n",
       "      <td>2020-09-29T09:23:21.172369+00:00</td>\n",
       "      <td>None</td>\n",
       "      <td>POLYGON ((453673.609 91328.224, 453678.929 913...</td>\n",
       "      <td>5983074</td>\n",
       "      <td>1600</td>\n",
       "      <td>2019-03-26</td>\n",
       "    </tr>\n",
       "    <tr>\n",
       "      <th>1</th>\n",
       "      <td>13</td>\n",
       "      <td>2020-09-29T09:23:21.172369+00:00</td>\n",
       "      <td>None</td>\n",
       "      <td>POLYGON ((460312.295 96127.114, 460300.319 961...</td>\n",
       "      <td>5983199</td>\n",
       "      <td>1600</td>\n",
       "      <td>2019-03-11</td>\n",
       "    </tr>\n",
       "    <tr>\n",
       "      <th>2</th>\n",
       "      <td>14</td>\n",
       "      <td>2020-09-29T09:23:21.172369+00:00</td>\n",
       "      <td>None</td>\n",
       "      <td>POLYGON ((460459.445 96117.356, 460470.516 961...</td>\n",
       "      <td>5983217</td>\n",
       "      <td>1100</td>\n",
       "      <td>2019-03-11</td>\n",
       "    </tr>\n",
       "    <tr>\n",
       "      <th>3</th>\n",
       "      <td>15</td>\n",
       "      <td>2020-09-29T09:23:21.172369+00:00</td>\n",
       "      <td>None</td>\n",
       "      <td>POLYGON ((457798.753 99628.982, 457783.076 996...</td>\n",
       "      <td>6299143</td>\n",
       "      <td>1600</td>\n",
       "      <td>2019-03-04</td>\n",
       "    </tr>\n",
       "    <tr>\n",
       "      <th>4</th>\n",
       "      <td>16</td>\n",
       "      <td>2020-09-29T09:23:21.172369+00:00</td>\n",
       "      <td>None</td>\n",
       "      <td>POLYGON ((461439.703 92137.401, 461436.166 921...</td>\n",
       "      <td>4643632</td>\n",
       "      <td>1600</td>\n",
       "      <td>2019-02-21</td>\n",
       "    </tr>\n",
       "    <tr>\n",
       "      <th>...</th>\n",
       "      <td>...</td>\n",
       "      <td>...</td>\n",
       "      <td>...</td>\n",
       "      <td>...</td>\n",
       "      <td>...</td>\n",
       "      <td>...</td>\n",
       "      <td>...</td>\n",
       "    </tr>\n",
       "    <tr>\n",
       "      <th>195</th>\n",
       "      <td>215</td>\n",
       "      <td>2020-09-29T09:23:21.172369+00:00</td>\n",
       "      <td>None</td>\n",
       "      <td>POLYGON ((458934.146 95656.658, 458932.345 956...</td>\n",
       "      <td>5966575</td>\n",
       "      <td>1222</td>\n",
       "      <td>2019-01-05</td>\n",
       "    </tr>\n",
       "    <tr>\n",
       "      <th>196</th>\n",
       "      <td>216</td>\n",
       "      <td>2020-09-29T09:23:21.172369+00:00</td>\n",
       "      <td>None</td>\n",
       "      <td>POLYGON ((458934.146 95656.658, 458935.525 956...</td>\n",
       "      <td>5966577</td>\n",
       "      <td>1100</td>\n",
       "      <td>2019-01-05</td>\n",
       "    </tr>\n",
       "    <tr>\n",
       "      <th>197</th>\n",
       "      <td>217</td>\n",
       "      <td>2020-09-29T09:23:21.172369+00:00</td>\n",
       "      <td>None</td>\n",
       "      <td>POLYGON ((455301.879 91279.877, 455302.373 912...</td>\n",
       "      <td>2594677</td>\n",
       "      <td>1100</td>\n",
       "      <td>2019-03-14</td>\n",
       "    </tr>\n",
       "    <tr>\n",
       "      <th>198</th>\n",
       "      <td>218</td>\n",
       "      <td>2020-09-29T09:23:21.172369+00:00</td>\n",
       "      <td>None</td>\n",
       "      <td>POLYGON ((455207.927 91222.221, 455193.596 912...</td>\n",
       "      <td>2594678</td>\n",
       "      <td>1100</td>\n",
       "      <td>2019-03-14</td>\n",
       "    </tr>\n",
       "    <tr>\n",
       "      <th>199</th>\n",
       "      <td>219</td>\n",
       "      <td>2020-09-29T09:23:21.172369+00:00</td>\n",
       "      <td>None</td>\n",
       "      <td>POLYGON ((456955.636 98474.696, 456952.435 984...</td>\n",
       "      <td>2960296</td>\n",
       "      <td>1500</td>\n",
       "      <td>2019-02-26</td>\n",
       "    </tr>\n",
       "  </tbody>\n",
       "</table>\n",
       "<p>200 rows × 7 columns</p>\n",
       "</div>"
      ],
      "text/plain": [
       "      id                        created_at modified_at  \\\n",
       "0     12  2020-09-29T09:23:21.172369+00:00        None   \n",
       "1     13  2020-09-29T09:23:21.172369+00:00        None   \n",
       "2     14  2020-09-29T09:23:21.172369+00:00        None   \n",
       "3     15  2020-09-29T09:23:21.172369+00:00        None   \n",
       "4     16  2020-09-29T09:23:21.172369+00:00        None   \n",
       "..   ...                               ...         ...   \n",
       "195  215  2020-09-29T09:23:21.172369+00:00        None   \n",
       "196  216  2020-09-29T09:23:21.172369+00:00        None   \n",
       "197  217  2020-09-29T09:23:21.172369+00:00        None   \n",
       "198  218  2020-09-29T09:23:21.172369+00:00        None   \n",
       "199  219  2020-09-29T09:23:21.172369+00:00        None   \n",
       "\n",
       "                                              geometry  raba_pid  raba_id  \\\n",
       "0    POLYGON ((453673.609 91328.224, 453678.929 913...   5983074     1600   \n",
       "1    POLYGON ((460312.295 96127.114, 460300.319 961...   5983199     1600   \n",
       "2    POLYGON ((460459.445 96117.356, 460470.516 961...   5983217     1100   \n",
       "3    POLYGON ((457798.753 99628.982, 457783.076 996...   6299143     1600   \n",
       "4    POLYGON ((461439.703 92137.401, 461436.166 921...   4643632     1600   \n",
       "..                                                 ...       ...      ...   \n",
       "195  POLYGON ((458934.146 95656.658, 458932.345 956...   5966575     1222   \n",
       "196  POLYGON ((458934.146 95656.658, 458935.525 956...   5966577     1100   \n",
       "197  POLYGON ((455301.879 91279.877, 455302.373 912...   2594677     1100   \n",
       "198  POLYGON ((455207.927 91222.221, 455193.596 912...   2594678     1100   \n",
       "199  POLYGON ((456955.636 98474.696, 456952.435 984...   2960296     1500   \n",
       "\n",
       "           d_od  \n",
       "0    2019-03-26  \n",
       "1    2019-03-11  \n",
       "2    2019-03-11  \n",
       "3    2019-03-04  \n",
       "4    2019-02-21  \n",
       "..          ...  \n",
       "195  2019-01-05  \n",
       "196  2019-01-05  \n",
       "197  2019-03-14  \n",
       "198  2019-03-14  \n",
       "199  2019-02-26  \n",
       "\n",
       "[200 rows x 7 columns]"
      ]
     },
     "execution_count": 14,
     "metadata": {},
     "output_type": "execute_result"
    }
   ],
   "source": [
    "gdf = geodb.get_collection_by_bbox(collection=\"land_use\", bbox = (452750.0, 88909.549, 464000.0, 102486.299), comparison_mode=\"contains\", bbox_crs=3794, limit=200, offset=10)\n",
    "gdf"
   ]
  },
  {
   "cell_type": "code",
   "execution_count": 15,
   "metadata": {
    "execution": {
     "iopub.execute_input": "2021-05-11T13:56:25.528421Z",
     "iopub.status.busy": "2021-05-11T13:56:25.527521Z",
     "iopub.status.idle": "2021-05-11T13:56:25.651143Z",
     "shell.execute_reply": "2021-05-11T13:56:25.651868Z"
    },
    "papermill": {
     "duration": 0.151734,
     "end_time": "2021-05-11T13:56:25.652065",
     "exception": false,
     "start_time": "2021-05-11T13:56:25.500331",
     "status": "completed"
    },
    "tags": []
   },
   "outputs": [
    {
     "data": {
      "text/plain": [
       "<AxesSubplot:>"
      ]
     },
     "execution_count": 15,
     "metadata": {},
     "output_type": "execute_result"
    }
   ],
   "source": [
    "gdf.plot(column=\"raba_pid\", figsize=(15,15), cmap = 'jet')"
   ]
  },
  {
   "cell_type": "markdown",
   "metadata": {
    "papermill": {
     "duration": 0.01681,
     "end_time": "2021-05-11T13:56:25.689929",
     "exception": false,
     "start_time": "2021-05-11T13:56:25.673119",
     "status": "completed"
    },
    "tags": []
   },
   "source": [
    "__Step 6__: Fltering using PostGres Syntax; see https://www.postgresql.org/docs/9.1/index.html for details"
   ]
  },
  {
   "cell_type": "code",
   "execution_count": 16,
   "metadata": {
    "execution": {
     "iopub.execute_input": "2021-05-11T13:56:25.738054Z",
     "iopub.status.busy": "2021-05-11T13:56:25.736270Z",
     "iopub.status.idle": "2021-05-11T13:56:36.989740Z",
     "shell.execute_reply": "2021-05-11T13:56:36.990654Z"
    },
    "papermill": {
     "duration": 11.281332,
     "end_time": "2021-05-11T13:56:36.990928",
     "exception": false,
     "start_time": "2021-05-11T13:56:25.709596",
     "status": "completed"
    },
    "tags": []
   },
   "outputs": [
    {
     "data": {
      "text/html": [
       "<div>\n",
       "<style scoped>\n",
       "    .dataframe tbody tr th:only-of-type {\n",
       "        vertical-align: middle;\n",
       "    }\n",
       "\n",
       "    .dataframe tbody tr th {\n",
       "        vertical-align: top;\n",
       "    }\n",
       "\n",
       "    .dataframe thead th {\n",
       "        text-align: right;\n",
       "    }\n",
       "</style>\n",
       "<table border=\"1\" class=\"dataframe\">\n",
       "  <thead>\n",
       "    <tr style=\"text-align: right;\">\n",
       "      <th></th>\n",
       "      <th>id</th>\n",
       "      <th>created_at</th>\n",
       "      <th>modified_at</th>\n",
       "      <th>geometry</th>\n",
       "      <th>raba_pid</th>\n",
       "      <th>raba_id</th>\n",
       "      <th>d_od</th>\n",
       "    </tr>\n",
       "  </thead>\n",
       "  <tbody>\n",
       "    <tr>\n",
       "      <th>0</th>\n",
       "      <td>1</td>\n",
       "      <td>2020-09-29T09:23:21.172369+00:00</td>\n",
       "      <td>None</td>\n",
       "      <td>POLYGON ((453952.629 91124.177, 453952.696 911...</td>\n",
       "      <td>4770326</td>\n",
       "      <td>1410</td>\n",
       "      <td>2019-03-26</td>\n",
       "    </tr>\n",
       "    <tr>\n",
       "      <th>1</th>\n",
       "      <td>9828</td>\n",
       "      <td>2020-09-29T12:37:37.136218+00:00</td>\n",
       "      <td>None</td>\n",
       "      <td>POLYGON ((453952.629 91124.177, 453952.696 911...</td>\n",
       "      <td>4770326</td>\n",
       "      <td>1410</td>\n",
       "      <td>2019-03-26</td>\n",
       "    </tr>\n",
       "    <tr>\n",
       "      <th>2</th>\n",
       "      <td>19655</td>\n",
       "      <td>2020-09-30T07:49:51.801876+00:00</td>\n",
       "      <td>None</td>\n",
       "      <td>POLYGON ((453952.629 91124.177, 453952.696 911...</td>\n",
       "      <td>4770326</td>\n",
       "      <td>1410</td>\n",
       "      <td>2019-03-26</td>\n",
       "    </tr>\n",
       "    <tr>\n",
       "      <th>3</th>\n",
       "      <td>39309</td>\n",
       "      <td>2020-12-01T13:40:18.246639+00:00</td>\n",
       "      <td>None</td>\n",
       "      <td>POLYGON ((453952.629 91124.177, 453952.696 911...</td>\n",
       "      <td>4770326</td>\n",
       "      <td>1410</td>\n",
       "      <td>2019-03-26</td>\n",
       "    </tr>\n",
       "    <tr>\n",
       "      <th>4</th>\n",
       "      <td>62</td>\n",
       "      <td>2020-09-29T09:23:21.172369+00:00</td>\n",
       "      <td>None</td>\n",
       "      <td>POLYGON ((457261.001 96349.254, 457256.831 963...</td>\n",
       "      <td>3596498</td>\n",
       "      <td>1410</td>\n",
       "      <td>2019-01-05</td>\n",
       "    </tr>\n",
       "  </tbody>\n",
       "</table>\n",
       "</div>"
      ],
      "text/plain": [
       "      id                        created_at modified_at  \\\n",
       "0      1  2020-09-29T09:23:21.172369+00:00        None   \n",
       "1   9828  2020-09-29T12:37:37.136218+00:00        None   \n",
       "2  19655  2020-09-30T07:49:51.801876+00:00        None   \n",
       "3  39309  2020-12-01T13:40:18.246639+00:00        None   \n",
       "4     62  2020-09-29T09:23:21.172369+00:00        None   \n",
       "\n",
       "                                            geometry  raba_pid  raba_id  \\\n",
       "0  POLYGON ((453952.629 91124.177, 453952.696 911...   4770326     1410   \n",
       "1  POLYGON ((453952.629 91124.177, 453952.696 911...   4770326     1410   \n",
       "2  POLYGON ((453952.629 91124.177, 453952.696 911...   4770326     1410   \n",
       "3  POLYGON ((453952.629 91124.177, 453952.696 911...   4770326     1410   \n",
       "4  POLYGON ((457261.001 96349.254, 457256.831 963...   3596498     1410   \n",
       "\n",
       "         d_od  \n",
       "0  2019-03-26  \n",
       "1  2019-03-26  \n",
       "2  2019-03-26  \n",
       "3  2019-03-26  \n",
       "4  2019-01-05  "
      ]
     },
     "execution_count": 16,
     "metadata": {},
     "output_type": "execute_result"
    }
   ],
   "source": [
    "gdf = geodb.get_collection_pg(collection='land_use', where='raba_id=1410')\n",
    "gdf.head()"
   ]
  },
  {
   "cell_type": "code",
   "execution_count": 17,
   "metadata": {
    "execution": {
     "iopub.execute_input": "2021-05-11T13:56:37.041542Z",
     "iopub.status.busy": "2021-05-11T13:56:37.040110Z",
     "iopub.status.idle": "2021-05-11T13:56:39.361181Z",
     "shell.execute_reply": "2021-05-11T13:56:39.362665Z"
    },
    "papermill": {
     "duration": 2.352168,
     "end_time": "2021-05-11T13:56:39.362923",
     "exception": false,
     "start_time": "2021-05-11T13:56:37.010755",
     "status": "completed"
    },
    "tags": []
   },
   "outputs": [
    {
     "data": {
      "text/plain": [
       "<AxesSubplot:>"
      ]
     },
     "execution_count": 17,
     "metadata": {},
     "output_type": "execute_result"
    }
   ],
   "source": [
    "gdf.plot(column=\"raba_pid\", figsize=(15,15), cmap = 'jet')"
   ]
  },
  {
   "cell_type": "markdown",
   "metadata": {
    "papermill": {
     "duration": 0.017262,
     "end_time": "2021-05-11T13:56:39.402075",
     "exception": false,
     "start_time": "2021-05-11T13:56:39.384813",
     "status": "completed"
    },
    "tags": []
   },
   "source": [
    "__Step 7__: Fltering using PostGres Syntax Allowing Aggregation\n",
    "Here according to data, note that the data set has been reduced to 200 entries above"
   ]
  },
  {
   "cell_type": "code",
   "execution_count": 18,
   "metadata": {
    "execution": {
     "iopub.execute_input": "2021-05-11T13:56:39.450738Z",
     "iopub.status.busy": "2021-05-11T13:56:39.449884Z",
     "iopub.status.idle": "2021-05-11T13:56:48.270094Z",
     "shell.execute_reply": "2021-05-11T13:56:48.269454Z"
    },
    "papermill": {
     "duration": 8.848016,
     "end_time": "2021-05-11T13:56:48.270256",
     "exception": false,
     "start_time": "2021-05-11T13:56:39.422240",
     "status": "completed"
    },
    "tags": []
   },
   "outputs": [
    {
     "data": {
      "text/html": [
       "<div>\n",
       "<style scoped>\n",
       "    .dataframe tbody tr th:only-of-type {\n",
       "        vertical-align: middle;\n",
       "    }\n",
       "\n",
       "    .dataframe tbody tr th {\n",
       "        vertical-align: top;\n",
       "    }\n",
       "\n",
       "    .dataframe thead th {\n",
       "        text-align: right;\n",
       "    }\n",
       "</style>\n",
       "<table border=\"1\" class=\"dataframe\">\n",
       "  <thead>\n",
       "    <tr style=\"text-align: right;\">\n",
       "      <th></th>\n",
       "      <th>ct</th>\n",
       "      <th>d_od</th>\n",
       "    </tr>\n",
       "  </thead>\n",
       "  <tbody>\n",
       "    <tr>\n",
       "      <th>0</th>\n",
       "      <td>120</td>\n",
       "      <td>2019-03-21</td>\n",
       "    </tr>\n",
       "    <tr>\n",
       "      <th>1</th>\n",
       "      <td>470</td>\n",
       "      <td>2019-02-25</td>\n",
       "    </tr>\n",
       "    <tr>\n",
       "      <th>2</th>\n",
       "      <td>170</td>\n",
       "      <td>2019-03-13</td>\n",
       "    </tr>\n",
       "    <tr>\n",
       "      <th>3</th>\n",
       "      <td>260</td>\n",
       "      <td>2019-02-20</td>\n",
       "    </tr>\n",
       "    <tr>\n",
       "      <th>4</th>\n",
       "      <td>20</td>\n",
       "      <td>2019-04-29</td>\n",
       "    </tr>\n",
       "  </tbody>\n",
       "</table>\n",
       "</div>"
      ],
      "text/plain": [
       "    ct        d_od\n",
       "0  120  2019-03-21\n",
       "1  470  2019-02-25\n",
       "2  170  2019-03-13\n",
       "3  260  2019-02-20\n",
       "4   20  2019-04-29"
      ]
     },
     "execution_count": 18,
     "metadata": {},
     "output_type": "execute_result"
    }
   ],
   "source": [
    "df = geodb.get_collection_pg('land_use', where='raba_id=1410', group='d_od', select='COUNT(d_od) as ct, d_od')\n",
    "df.head()"
   ]
  },
  {
   "cell_type": "code",
   "execution_count": null,
   "metadata": {
    "jupyter": {
     "outputs_hidden": false
    },
    "papermill": {
     "duration": 0.017414,
     "end_time": "2021-05-11T13:56:48.307147",
     "exception": false,
     "start_time": "2021-05-11T13:56:48.289733",
     "status": "completed"
    },
    "pycharm": {
     "name": "#%%\n"
    },
    "tags": []
   },
   "outputs": [],
   "source": []
  },
  {
   "cell_type": "code",
   "execution_count": null,
   "metadata": {
    "papermill": {
     "duration": 0.016853,
     "end_time": "2021-05-11T13:56:48.344475",
     "exception": false,
     "start_time": "2021-05-11T13:56:48.327622",
     "status": "completed"
    },
    "tags": []
   },
   "outputs": [],
   "source": []
  },
  {
   "cell_type": "code",
   "execution_count": null,
   "metadata": {
    "papermill": {
     "duration": 0.016478,
     "end_time": "2021-05-11T13:56:48.379735",
     "exception": false,
     "start_time": "2021-05-11T13:56:48.363257",
     "status": "completed"
    },
    "tags": []
   },
   "outputs": [],
   "source": []
  }
 ],
 "metadata": {
  "kernelspec": {
   "display_name": "Python 3",
   "language": "python",
   "name": "python3"
  },
  "language_info": {
   "codemirror_mode": {
    "name": "ipython",
    "version": 3
   },
   "file_extension": ".py",
   "mimetype": "text/x-python",
   "name": "python",
   "nbconvert_exporter": "python",
   "pygments_lexer": "ipython3",
   "version": "3.8.5"
  },
  "papermill": {
   "duration": 88.069372,
   "end_time": "2021-05-11T13:56:50.075622",
   "environment_variables": {},
   "exception": null,
   "input_path": "/tmp/tmpiydx40s5",
   "output_path": "/tmp/cur_notebook.ipynb",
   "parameters": {},
   "start_time": "2021-05-11T13:55:22.006250",
   "version": "2.1.2"
  },
  "properties": {
   "description": "Euro Data Cube GeoDB: Explore Datasets",
   "id": "geodb-explore",
   "license": null,
   "name": "GeoDB: Explore Datasets",
   "requirements": [
    "eurodatacube-geodb"
   ],
   "tags": [
    "Getting started",
    "GeoDB"
   ],
   "version": "0.2"
  },
  "pycharm": {
   "stem_cell": {
    "cell_type": "raw",
    "metadata": {
     "collapsed": false
    },
    "source": []
   }
  }
 },
 "nbformat": 4,
 "nbformat_minor": 5
}
