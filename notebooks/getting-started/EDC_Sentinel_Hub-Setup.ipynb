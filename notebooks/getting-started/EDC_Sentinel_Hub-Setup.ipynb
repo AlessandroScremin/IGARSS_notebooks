{
 "cells": [
  {
   "cell_type": "code",
   "execution_count": 1,
   "id": "comprehensive-payroll",
   "metadata": {
    "execution": {
     "iopub.execute_input": "2021-03-15T09:20:25.620457Z",
     "iopub.status.busy": "2021-03-15T09:20:25.618072Z",
     "iopub.status.idle": "2021-03-15T09:20:25.978007Z",
     "shell.execute_reply": "2021-03-15T09:20:25.976443Z"
    },
    "papermill": {
     "duration": 0.377045,
     "end_time": "2021-03-15T09:20:25.978304",
     "exception": false,
     "start_time": "2021-03-15T09:20:25.601259",
     "status": "completed"
    },
    "tags": []
   },
   "outputs": [
    {
     "data": {
      "text/markdown": [
       "\n",
       "***Notebook Title***  \n",
       "EDC core API access setup\n",
       "\n",
       "***Notebook Description***  \n",
       "Euro Data Cube core API access setup\n",
       "\n",
       "\n",
       "***Notebook Dependencies***  \n",
       "This notebook requires an active subscription to:\n",
       "* EDC Sentinel Hub\n"
      ],
      "text/plain": [
       "<IPython.core.display.Markdown object>"
      ]
     },
     "metadata": {},
     "output_type": "display_data"
    }
   ],
   "source": [
    "from edc import print_info\n",
    "print_info(\"sh-setup\")"
   ]
  },
  {
   "cell_type": "code",
   "execution_count": 2,
   "id": "vital-apple",
   "metadata": {
    "execution": {
     "iopub.execute_input": "2021-03-15T09:20:26.010495Z",
     "iopub.status.busy": "2021-03-15T09:20:26.008718Z",
     "iopub.status.idle": "2021-03-15T09:20:26.025393Z",
     "shell.execute_reply": "2021-03-15T09:20:26.024579Z"
    },
    "papermill": {
     "duration": 0.035529,
     "end_time": "2021-03-15T09:20:26.025634",
     "exception": false,
     "start_time": "2021-03-15T09:20:25.990105",
     "status": "completed"
    },
    "tags": []
   },
   "outputs": [
    {
     "data": {
      "text/markdown": [
       "API credentials have automatically been injected for your active subscriptions.  \n",
       "The following environment variables are now available:\n",
       "* `SH_CLIENT_ID`, `SH_CLIENT_NAME`, `SH_CLIENT_SECRET`, `SH_INSTANCE_ID`\n",
       "\n",
       "The following additional environment variables have been loaded from `~/custom.env`:\n",
       "* `AWS_BUCKET`\n",
       "* `DAPA_URL`\n",
       "* `DB_HOST`, `DB_NAME`, `DB_PASSWORD`, `DB_USER`\n",
       "* `OGC_EDC_URL`\n",
       "* `REFERENCE_DATA`\n"
      ],
      "text/plain": [
       "<IPython.core.display.Markdown object>"
      ]
     },
     "metadata": {},
     "output_type": "display_data"
    }
   ],
   "source": [
    "from edc import setup_environment_variables\n",
    "setup_environment_variables()"
   ]
  },
  {
   "cell_type": "code",
   "execution_count": 3,
   "id": "introductory-string",
   "metadata": {
    "execution": {
     "iopub.execute_input": "2021-03-15T09:20:26.056786Z",
     "iopub.status.busy": "2021-03-15T09:20:26.055664Z",
     "iopub.status.idle": "2021-03-15T09:20:26.080583Z",
     "shell.execute_reply": "2021-03-15T09:20:26.081014Z"
    },
    "papermill": {
     "duration": 0.044724,
     "end_time": "2021-03-15T09:20:26.081390",
     "exception": false,
     "start_time": "2021-03-15T09:20:26.036666",
     "status": "completed"
    },
    "tags": []
   },
   "outputs": [
    {
     "data": {
      "text/html": [
       "<script type=\"text/javascript\">\n",
       "        function toggle(id) {\n",
       "            el = document.getElementById(id);\n",
       "            el.style.display = el.style.display === \"none\" ? \"block\" : \"none\";\n",
       "        }\n",
       "    </script>"
      ],
      "text/plain": [
       "<IPython.core.display.HTML object>"
      ]
     },
     "metadata": {},
     "output_type": "display_data"
    },
    {
     "data": {
      "text/html": [
       "This notebook is compatible with this base image version (user-0.23.1)."
      ],
      "text/plain": [
       "<IPython.core.display.HTML object>"
      ]
     },
     "metadata": {},
     "output_type": "display_data"
    }
   ],
   "source": [
    "from edc import check_compatibility\n",
    "check_compatibility(\"user-0.23.1\")"
   ]
  },
  {
   "cell_type": "markdown",
   "id": "featured-aside",
   "metadata": {
    "papermill": {
     "duration": 0.009826,
     "end_time": "2021-03-15T09:20:26.102470",
     "exception": false,
     "start_time": "2021-03-15T09:20:26.092644",
     "status": "completed"
    },
    "tags": []
   },
   "source": [
    "## Setup for EDC core API access using xcube client library\n",
    "\n",
    "### Installation\n",
    "\n",
    "For creating an `xcube` Python environment and installing `xcube` follow the instructions given in the [xcube's README](https://github.com/dcs4cop/xcube/blob/master/README.md).\n",
    "For installing the `xcube_sh` plugin follow the instructions given in the [xcube-sh's README](https://github.com/dcs4cop/xcube-sh/blob/master/README.md).\n",
    "\n",
    "Before using Jupyter Lab for the first time install the `jupyterlab` package and make sure the \n",
    "[Jupyter GeoJSON extension](https://www.npmjs.com/package/@jupyterlab/geojson-extension) is installed too:\n",
    "\n",
    "```bash\n",
    "(xcube) conda install -c conda-forge jupyterlab\n",
    "(xcube) jupyter labextension install @jupyterlab/geojson-extension\n",
    "```\n",
    "\n",
    "### API access (OAuth2)\n",
    "\n",
    "For API access the following environment variables must be provided via a .env file\n",
    "\n",
    "```\n",
    "SH_CLIENT_ID=\n",
    "SH_CLIENT_SECRET=\n",
    "SH_INSTANCE_ID=\n",
    "```\n",
    "\n",
    "You can find these values in your Euro Data Cube Dashboard in the API Access (OAuth2) section of the Euro Data Cube service.\n",
    "\n",
    "### Test Setup\n",
    "\n",
    "Test whether setup was successfull by importing some important `xcube_sh` exports:"
   ]
  },
  {
   "cell_type": "code",
   "execution_count": 4,
   "id": "corporate-lighter",
   "metadata": {
    "execution": {
     "iopub.execute_input": "2021-03-15T09:20:26.133394Z",
     "iopub.status.busy": "2021-03-15T09:20:26.132606Z",
     "iopub.status.idle": "2021-03-15T09:20:27.899576Z",
     "shell.execute_reply": "2021-03-15T09:20:27.897865Z"
    },
    "papermill": {
     "duration": 1.786202,
     "end_time": "2021-03-15T09:20:27.899776",
     "exception": false,
     "start_time": "2021-03-15T09:20:26.113574",
     "status": "completed"
    },
    "tags": []
   },
   "outputs": [],
   "source": [
    "# Configure data cubes using CubeConfig\n",
    "from xcube_sh.config import CubeConfig\n",
    "# Open data cubes from SH with given CubeConfig\n",
    "from xcube_sh.cube import open_cube\n",
    "# Observe SH requests made open_cube()\n",
    "from xcube_sh.observers import Observers\n",
    "# View stored cubes\n",
    "from xcube_sh.viewer import ViewerServer"
   ]
  },
  {
   "cell_type": "code",
   "execution_count": 5,
   "id": "fleet-marketing",
   "metadata": {
    "execution": {
     "iopub.execute_input": "2021-03-15T09:20:27.929629Z",
     "iopub.status.busy": "2021-03-15T09:20:27.928663Z",
     "iopub.status.idle": "2021-03-15T09:20:27.935406Z",
     "shell.execute_reply": "2021-03-15T09:20:27.933960Z"
    },
    "papermill": {
     "duration": 0.025509,
     "end_time": "2021-03-15T09:20:27.935672",
     "exception": false,
     "start_time": "2021-03-15T09:20:27.910163",
     "status": "completed"
    },
    "tags": []
   },
   "outputs": [
    {
     "data": {
      "text/plain": [
       "'0.7.0'"
      ]
     },
     "execution_count": 5,
     "metadata": {},
     "output_type": "execute_result"
    }
   ],
   "source": [
    "from xcube_sh.version import version\n",
    "version"
   ]
  },
  {
   "cell_type": "markdown",
   "id": "thorough-newport",
   "metadata": {
    "papermill": {
     "duration": 0.010342,
     "end_time": "2021-03-15T09:20:27.957515",
     "exception": false,
     "start_time": "2021-03-15T09:20:27.947173",
     "status": "completed"
    },
    "tags": []
   },
   "source": [
    "## Setup for Euro Data Cube geoDB\n",
    "\n",
    "### Installation\n",
    "\n",
    "For installing the `xcube_geodb` plugin follow the instructions given in the [xcube-geodb's README](https://github.com/dcs4cop/xcube-geodb/blob/master/README.md).\n",
    "\n",
    "Before using Jupyter Lab for the first time install the `jupyterlab` package and make sure the \n",
    "[Jupyter GeoJSON extension](https://www.npmjs.com/package/@jupyterlab/geojson-extension) is installed too:\n",
    "\n",
    "```bash\n",
    "conda install -c conda-forge jupyterlab\n",
    "jupyter labextension install @jupyterlab/geojson-extension\n",
    "```\n",
    "\n",
    "### API access (OAuth2)\n",
    "\n",
    "For API access the following environment variables must be provided via a .env file\n",
    "\n",
    "```\n",
    "GEODB_API_SERVER_URL=\n",
    "GEODB_AUTH_CLIENT_ID=\n",
    "GEODB_AUTH_CLIENT_SECRET=\n",
    "GEODB_AUTH_AUD=\n",
    "GEODB_API_SERVER_PORT=\n",
    "GEODB_AUTH_DOMAIN=\n",
    "```\n",
    "\n",
    "You can find these values in your Euro Data Cube Dashboard in the API Access (OAuth2) section of the `Euro Data Cube - geoDB` service.\n",
    "\n"
   ]
  }
 ],
 "metadata": {
  "kernelspec": {
   "display_name": "Python 3",
   "language": "python",
   "name": "python3"
  },
  "language_info": {
   "codemirror_mode": {
    "name": "ipython",
    "version": 3
   },
   "file_extension": ".py",
   "mimetype": "text/x-python",
   "name": "python",
   "nbconvert_exporter": "python",
   "pygments_lexer": "ipython3",
   "version": "3.8.8"
  },
  "papermill": {
   "duration": 3.976309,
   "end_time": "2021-03-15T09:20:28.592386",
   "environment_variables": {},
   "exception": null,
   "input_path": "/tmp/tmpod1xgecp",
   "output_path": "/tmp/cur_notebook.ipynb",
   "parameters": {},
   "start_time": "2021-03-15T09:20:24.616077",
   "version": "2.1.0"
  },
  "properties": {
   "description": "Euro Data Cube core API access setup",
   "id": "sh-setup",
   "name": "EDC core API access setup",
   "requirements": [
    "eurodatacube"
   ],
   "tags": [
    "Getting started",
    "GeoDB",
    "xcube"
   ],
   "version": "0.1"
  }
 },
 "nbformat": 4,
 "nbformat_minor": 5
}