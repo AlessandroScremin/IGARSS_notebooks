{
 "cells": [
  {
   "cell_type": "code",
   "execution_count": 1,
   "metadata": {
    "execution": {
     "iopub.execute_input": "2020-07-13T12:56:24.043994Z",
     "iopub.status.busy": "2020-07-13T12:56:24.043107Z",
     "iopub.status.idle": "2020-07-13T12:56:24.277208Z",
     "shell.execute_reply": "2020-07-13T12:56:24.278084Z"
    },
    "papermill": {
     "duration": 0.249559,
     "end_time": "2020-07-13T12:56:24.278335",
     "exception": false,
     "start_time": "2020-07-13T12:56:24.028776",
     "status": "completed"
    },
    "tags": []
   },
   "outputs": [
    {
     "data": {
      "text/markdown": [
       "\n",
       "***Notebook Title***  \n",
       "EDC core API access setup\n",
       "\n",
       "***Notebook Description***  \n",
       "Euro Data Cube core API access setup\n",
       "\n",
       "\n",
       "***Notebook Dependencies***  \n",
       "This notebook requires an active subscription to:\n",
       "* EDC Sentinel Hub\n"
      ],
      "text/plain": [
       "<IPython.core.display.Markdown object>"
      ]
     },
     "metadata": {},
     "output_type": "display_data"
    }
   ],
   "source": [
    "from edc import print_info\n",
    "print_info(\"sh-setup\")"
   ]
  },
  {
   "cell_type": "code",
   "execution_count": 2,
   "metadata": {
    "execution": {
     "iopub.execute_input": "2020-07-13T12:56:24.301267Z",
     "iopub.status.busy": "2020-07-13T12:56:24.300174Z",
     "iopub.status.idle": "2020-07-13T12:56:24.307232Z",
     "shell.execute_reply": "2020-07-13T12:56:24.308268Z"
    },
    "papermill": {
     "duration": 0.021784,
     "end_time": "2020-07-13T12:56:24.308568",
     "exception": false,
     "start_time": "2020-07-13T12:56:24.286784",
     "status": "completed"
    },
    "tags": []
   },
   "outputs": [
    {
     "data": {
      "text/markdown": [
       "API credentials have automatically been injected for your active subscriptions.  \n",
       "The following environment variables are now available:\n",
       "* `SH_CLIENT_ID`, `SH_CLIENT_NAME`, `SH_CLIENT_SECRET`, `SH_INSTANCE_ID`\n",
       "\n",
       "The following additional environment variables have been loaded from `~/custom.env`:\n",
       "* `AWS_BUCKET`\n",
       "* `DAPA_URL`\n",
       "* `DB_HOST`, `DB_NAME`, `DB_PASSWORD`, `DB_USER`\n",
       "* `OGC_EDC_URL`\n",
       "* `REFERENCE_DATA`\n"
      ],
      "text/plain": [
       "<IPython.core.display.Markdown object>"
      ]
     },
     "metadata": {},
     "output_type": "display_data"
    }
   ],
   "source": [
    "from edc import setup_environment_variables\n",
    "setup_environment_variables()"
   ]
  },
  {
   "cell_type": "code",
   "execution_count": 3,
   "metadata": {
    "execution": {
     "iopub.execute_input": "2020-07-13T12:56:24.331694Z",
     "iopub.status.busy": "2020-07-13T12:56:24.330126Z",
     "iopub.status.idle": "2020-07-13T12:56:24.336122Z",
     "shell.execute_reply": "2020-07-13T12:56:24.335074Z"
    },
    "papermill": {
     "duration": 0.018586,
     "end_time": "2020-07-13T12:56:24.336319",
     "exception": false,
     "start_time": "2020-07-13T12:56:24.317733",
     "status": "completed"
    },
    "tags": []
   },
   "outputs": [
    {
     "data": {
      "text/markdown": [
       "This notebook is compatible with this base image version (user-0.19.4)."
      ],
      "text/plain": [
       "<IPython.core.display.Markdown object>"
      ]
     },
     "metadata": {},
     "output_type": "display_data"
    }
   ],
   "source": [
    "from edc import check_compatibility\n",
    "check_compatibility(\"user-0.19.4\")"
   ]
  },
  {
   "cell_type": "markdown",
   "metadata": {
    "papermill": {
     "duration": 0.008244,
     "end_time": "2020-07-13T12:56:24.363191",
     "exception": false,
     "start_time": "2020-07-13T12:56:24.354947",
     "status": "completed"
    },
    "tags": []
   },
   "source": [
    "## Setup for EDC core API access using xcube client library\n",
    "\n",
    "### Installation\n",
    "\n",
    "For creating an `xcube` Python environment and installing `xcube` follow the instructions given in the [xcube's README](https://github.com/dcs4cop/xcube/blob/master/README.md).\n",
    "For installing the `xcube_sh` plugin follow the instructions given in the [xcube-sh's README](https://github.com/dcs4cop/xcube-sh/blob/master/README.md).\n",
    "\n",
    "Before using Jupyter Lab for the first time install the `jupyterlab` package and make sure the \n",
    "[Jupyter GeoJSON extension](https://www.npmjs.com/package/@jupyterlab/geojson-extension) is installed too:\n",
    "\n",
    "```bash\n",
    "(xcube) conda install -c conda-forge jupyterlab\n",
    "(xcube) jupyter labextension install @jupyterlab/geojson-extension\n",
    "```\n",
    "\n",
    "### API access (OAuth2)\n",
    "\n",
    "For API access the following environment variables must be provided via a .env file\n",
    "\n",
    "```\n",
    "SH_CLIENT_ID=\n",
    "SH_CLIENT_SECRET=\n",
    "SH_INSTANCE_ID=\n",
    "```\n",
    "\n",
    "You can find these values in your Euro Data Cube Dashboard in the API Access (OAuth2) section of the Euro Data Cube service.\n",
    "\n",
    "### Test Setup\n",
    "\n",
    "Test whether setup was successfull by importing some important `xcube_sh` exports:"
   ]
  },
  {
   "cell_type": "code",
   "execution_count": 4,
   "metadata": {
    "execution": {
     "iopub.execute_input": "2020-07-13T12:56:24.386456Z",
     "iopub.status.busy": "2020-07-13T12:56:24.385258Z",
     "iopub.status.idle": "2020-07-13T12:56:25.461417Z",
     "shell.execute_reply": "2020-07-13T12:56:25.459909Z"
    },
    "papermill": {
     "duration": 1.090518,
     "end_time": "2020-07-13T12:56:25.461632",
     "exception": false,
     "start_time": "2020-07-13T12:56:24.371114",
     "status": "completed"
    },
    "tags": []
   },
   "outputs": [],
   "source": [
    "# Configure data cubes using CubeConfig\n",
    "from xcube_sh.config import CubeConfig\n",
    "# Open data cubes from SH with given CubeConfig\n",
    "from xcube_sh.cube import open_cube\n",
    "# Observe SH requests made open_cube()\n",
    "from xcube_sh.observers import Observers\n",
    "# View stored cubes\n",
    "from xcube_sh.viewer import ViewerServer"
   ]
  },
  {
   "cell_type": "code",
   "execution_count": 5,
   "metadata": {
    "execution": {
     "iopub.execute_input": "2020-07-13T12:56:25.487707Z",
     "iopub.status.busy": "2020-07-13T12:56:25.486442Z",
     "iopub.status.idle": "2020-07-13T12:56:25.492022Z",
     "shell.execute_reply": "2020-07-13T12:56:25.491014Z"
    },
    "papermill": {
     "duration": 0.020094,
     "end_time": "2020-07-13T12:56:25.492247",
     "exception": false,
     "start_time": "2020-07-13T12:56:25.472153",
     "status": "completed"
    },
    "tags": []
   },
   "outputs": [
    {
     "data": {
      "text/plain": [
       "'0.3.0.dev1'"
      ]
     },
     "execution_count": 5,
     "metadata": {},
     "output_type": "execute_result"
    }
   ],
   "source": [
    "from xcube_sh.version import version\n",
    "version"
   ]
  },
  {
   "cell_type": "markdown",
   "metadata": {
    "papermill": {
     "duration": 0.009225,
     "end_time": "2020-07-13T12:56:25.511450",
     "exception": false,
     "start_time": "2020-07-13T12:56:25.502225",
     "status": "completed"
    },
    "tags": []
   },
   "source": [
    "## Setup for Euro Data Cube geoDB\n",
    "\n",
    "### Installation\n",
    "\n",
    "For installing the `xcube_geodb` plugin follow the instructions given in the [xcube-geodb's README](https://github.com/dcs4cop/xcube-geodb/blob/master/README.md).\n",
    "\n",
    "Before using Jupyter Lab for the first time install the `jupyterlab` package and make sure the \n",
    "[Jupyter GeoJSON extension](https://www.npmjs.com/package/@jupyterlab/geojson-extension) is installed too:\n",
    "\n",
    "```bash\n",
    "conda install -c conda-forge jupyterlab\n",
    "jupyter labextension install @jupyterlab/geojson-extension\n",
    "```\n",
    "\n",
    "### API access (OAuth2)\n",
    "\n",
    "For API access the following environment variables must be provided via a .env file\n",
    "\n",
    "```\n",
    "GEODB_API_SERVER_URL=\n",
    "GEODB_AUTH_CLIENT_ID=\n",
    "GEODB_AUTH_CLIENT_SECRET=\n",
    "GEODB_AUTH_AUD=\n",
    "GEODB_API_SERVER_PORT=\n",
    "GEODB_AUTH_DOMAIN=\n",
    "```\n",
    "\n",
    "You can find these values in your Euro Data Cube Dashboard in the API Access (OAuth2) section of the `Euro Data Cube - geoDB` service.\n",
    "\n"
   ]
  }
 ],
 "metadata": {
  "kernelspec": {
   "display_name": "Python 3",
   "language": "python",
   "name": "python3"
  },
  "language_info": {
   "codemirror_mode": {
    "name": "ipython",
    "version": 3
   },
   "file_extension": ".py",
   "mimetype": "text/x-python",
   "name": "python",
   "nbconvert_exporter": "python",
   "pygments_lexer": "ipython3",
   "version": "3.8.3"
  },
  "papermill": {
   "duration": 2.810515,
   "end_time": "2020-07-13T12:56:26.029137",
   "environment_variables": {},
   "exception": null,
   "input_path": "/tmp/tmp2vgen1sa",
   "output_path": "/tmp/cur_notebook.ipynb",
   "parameters": {},
   "start_time": "2020-07-13T12:56:23.218622",
   "version": "2.1.0"
  },
  "properties": {
   "description": "Euro Data Cube core API access setup",
   "id": "sh-setup",
   "name": "EDC core API access setup",
   "requirements": [
    "eurodatacube"
   ],
   "tags": [
    "Getting started",
    "GeoDB",
    "xcube"
   ],
   "version": "0.1"
  }
 },
 "nbformat": 4,
 "nbformat_minor": 4
}