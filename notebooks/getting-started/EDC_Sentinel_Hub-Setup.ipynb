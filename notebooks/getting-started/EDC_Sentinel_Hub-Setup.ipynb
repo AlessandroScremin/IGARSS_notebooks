{
 "cells": [
  {
   "cell_type": "code",
   "execution_count": 1,
   "metadata": {
    "execution": {
     "iopub.execute_input": "2020-05-26T10:43:38.324179Z",
     "iopub.status.busy": "2020-05-26T10:43:38.323474Z",
     "iopub.status.idle": "2020-05-26T10:43:38.564633Z",
     "shell.execute_reply": "2020-05-26T10:43:38.565747Z"
    },
    "papermill": {
     "duration": 0.253332,
     "end_time": "2020-05-26T10:43:38.565948",
     "exception": false,
     "start_time": "2020-05-26T10:43:38.312616",
     "status": "completed"
    },
    "tags": []
   },
   "outputs": [
    {
     "data": {
      "text/markdown": [
       "\n",
       "***Notebook Title***  \n",
       "EDC core API access setup\n",
       "\n",
       "***Notebook Description***  \n",
       "Euro Data Cube core API access setup\n",
       "\n",
       "\n",
       "***Notebook Dependencies***  \n",
       "This notebook requires an active subscription to:\n",
       "* EDC Sentinel Hub\n"
      ],
      "text/plain": [
       "<IPython.core.display.Markdown object>"
      ]
     },
     "metadata": {},
     "output_type": "display_data"
    }
   ],
   "source": [
    "from edc import print_info\n",
    "print_info(\"sh-setup\")"
   ]
  },
  {
   "cell_type": "code",
   "execution_count": 2,
   "metadata": {
    "execution": {
     "iopub.execute_input": "2020-05-26T10:43:38.587043Z",
     "iopub.status.busy": "2020-05-26T10:43:38.585351Z",
     "iopub.status.idle": "2020-05-26T10:43:38.590037Z",
     "shell.execute_reply": "2020-05-26T10:43:38.590732Z"
    },
    "papermill": {
     "duration": 0.016175,
     "end_time": "2020-05-26T10:43:38.590908",
     "exception": false,
     "start_time": "2020-05-26T10:43:38.574733",
     "status": "completed"
    },
    "tags": []
   },
   "outputs": [
    {
     "data": {
      "text/markdown": [
       "API credentials have automatically been injected for your active subscriptions.  \n",
       "The following environment variables are now available:\n",
       "* `SH_INSTANCE_ID`\n",
       "* `SH_CLIENT_ID`\n",
       "* `SH_CLIENT_SECRET`\n",
       "* `SH_CLIENT_NAME`\n",
       "\n",
       "------\n"
      ],
      "text/plain": [
       "<IPython.core.display.Markdown object>"
      ]
     },
     "metadata": {},
     "output_type": "display_data"
    }
   ],
   "source": [
    "from edc import setup_environment_variables\n",
    "setup_environment_variables()"
   ]
  },
  {
   "cell_type": "code",
   "execution_count": 3,
   "metadata": {
    "execution": {
     "iopub.execute_input": "2020-05-26T10:43:38.613738Z",
     "iopub.status.busy": "2020-05-26T10:43:38.612732Z",
     "iopub.status.idle": "2020-05-26T10:43:38.616480Z",
     "shell.execute_reply": "2020-05-26T10:43:38.615669Z"
    },
    "papermill": {
     "duration": 0.017462,
     "end_time": "2020-05-26T10:43:38.616706",
     "exception": false,
     "start_time": "2020-05-26T10:43:38.599244",
     "status": "completed"
    },
    "tags": []
   },
   "outputs": [
    {
     "name": "stdout",
     "output_type": "stream",
     "text": [
      "Notebook is compatible\n"
     ]
    }
   ],
   "source": [
    "from edc import check_compatibility\n",
    "check_compatibility(\"v0.18.4\")"
   ]
  },
  {
   "cell_type": "markdown",
   "metadata": {
    "papermill": {
     "duration": 0.007092,
     "end_time": "2020-05-26T10:43:38.632340",
     "exception": false,
     "start_time": "2020-05-26T10:43:38.625248",
     "status": "completed"
    },
    "tags": []
   },
   "source": [
    "## Setup for EDC core API access using xcube client library\n",
    "\n",
    "### Installation\n",
    "\n",
    "For creating an `xcube` Python environment and installing `xcube` follow the instructions given in the [xcube's README](https://github.com/dcs4cop/xcube/blob/master/README.md).\n",
    "For installing the `xcube_sh` plugin follow the instructions given in the [xcube-sh's README](https://github.com/dcs4cop/xcube-sh/blob/master/README.md).\n",
    "\n",
    "Before using Jupyter Lab for the first time install the `jupyterlab` package and make sure the \n",
    "[Jupyter GeoJSON extension](https://www.npmjs.com/package/@jupyterlab/geojson-extension) is installed too:\n",
    "\n",
    "```bash\n",
    "(xcube) conda install -c conda-forge jupyterlab\n",
    "(xcube) jupyter labextension install @jupyterlab/geojson-extension\n",
    "```\n",
    "\n",
    "### API access (OAuth2)\n",
    "\n",
    "For API access the following environment variables must be provided via a .env file\n",
    "\n",
    "```\n",
    "SH_CLIENT_ID=\n",
    "SH_CLIENT_SECRET=\n",
    "SH_INSTANCE_ID=\n",
    "```\n",
    "\n",
    "You can find these values in your Euro Data Cube Dashboard in the API Access (OAuth2) section of the Euro Data Cube service.\n",
    "\n",
    "### Test Setup\n",
    "\n",
    "Test whether setup was successfull by importing some important `xcube_sh` exports:"
   ]
  },
  {
   "cell_type": "code",
   "execution_count": 4,
   "metadata": {
    "execution": {
     "iopub.execute_input": "2020-05-26T10:43:38.655437Z",
     "iopub.status.busy": "2020-05-26T10:43:38.654202Z",
     "iopub.status.idle": "2020-05-26T10:43:39.725416Z",
     "shell.execute_reply": "2020-05-26T10:43:39.724306Z"
    },
    "papermill": {
     "duration": 1.084123,
     "end_time": "2020-05-26T10:43:39.725568",
     "exception": false,
     "start_time": "2020-05-26T10:43:38.641445",
     "status": "completed"
    },
    "tags": []
   },
   "outputs": [],
   "source": [
    "# Configure data cubes using CubeConfig\n",
    "from xcube_sh.config import CubeConfig\n",
    "# Open data cubes from SH with given CubeConfig\n",
    "from xcube_sh.cube import open_cube\n",
    "# Observe SH requests made open_cube()\n",
    "from xcube_sh.observers import Observers\n",
    "# View stored cubes\n",
    "from xcube_sh.viewer import ViewerServer"
   ]
  },
  {
   "cell_type": "code",
   "execution_count": 5,
   "metadata": {
    "execution": {
     "iopub.execute_input": "2020-05-26T10:43:39.749342Z",
     "iopub.status.busy": "2020-05-26T10:43:39.748095Z",
     "iopub.status.idle": "2020-05-26T10:43:39.752420Z",
     "shell.execute_reply": "2020-05-26T10:43:39.751614Z"
    },
    "papermill": {
     "duration": 0.017557,
     "end_time": "2020-05-26T10:43:39.752630",
     "exception": false,
     "start_time": "2020-05-26T10:43:39.735073",
     "status": "completed"
    },
    "tags": []
   },
   "outputs": [
    {
     "data": {
      "text/plain": [
       "'0.3.0.dev1'"
      ]
     },
     "execution_count": 5,
     "metadata": {},
     "output_type": "execute_result"
    }
   ],
   "source": [
    "from xcube_sh.version import version\n",
    "version"
   ]
  },
  {
   "cell_type": "markdown",
   "metadata": {
    "papermill": {
     "duration": 0.006797,
     "end_time": "2020-05-26T10:43:39.767446",
     "exception": false,
     "start_time": "2020-05-26T10:43:39.760649",
     "status": "completed"
    },
    "tags": []
   },
   "source": [
    "## Setup for Euro Data Cube geoDB\n",
    "\n",
    "### Installation\n",
    "\n",
    "For installing the `xcube_geodb` plugin follow the instructions given in the [xcube-geodb's README](https://github.com/dcs4cop/xcube-geodb/blob/master/README.md).\n",
    "\n",
    "Before using Jupyter Lab for the first time install the `jupyterlab` package and make sure the \n",
    "[Jupyter GeoJSON extension](https://www.npmjs.com/package/@jupyterlab/geojson-extension) is installed too:\n",
    "\n",
    "```bash\n",
    "conda install -c conda-forge jupyterlab\n",
    "jupyter labextension install @jupyterlab/geojson-extension\n",
    "```\n",
    "\n",
    "### API access (OAuth2)\n",
    "\n",
    "For API access the following environment variables must be provided via a .env file\n",
    "\n",
    "```\n",
    "GEODB_API_SERVER_URL=\n",
    "GEODB_AUTH_CLIENT_ID=\n",
    "GEODB_AUTH_CLIENT_SECRET=\n",
    "GEODB_AUTH_AUD=\n",
    "GEODB_API_SERVER_PORT=\n",
    "GEODB_AUTH_DOMAIN=\n",
    "```\n",
    "\n",
    "You can find these values in your Euro Data Cube Dashboard in the API Access (OAuth2) section of the `Euro Data Cube - geoDB` service.\n",
    "\n"
   ]
  }
 ],
 "metadata": {
  "kernelspec": {
   "display_name": "Python 3",
   "language": "python",
   "name": "python3"
  },
  "language_info": {
   "codemirror_mode": {
    "name": "ipython",
    "version": 3
   },
   "file_extension": ".py",
   "mimetype": "text/x-python",
   "name": "python",
   "nbconvert_exporter": "python",
   "pygments_lexer": "ipython3",
   "version": "3.7.6"
  },
  "papermill": {
   "duration": 2.297081,
   "end_time": "2020-05-26T10:43:39.883578",
   "environment_variables": {},
   "exception": null,
   "input_path": "/tmp/tmp8qlo4pjw",
   "output_path": "/tmp/cur_notebook.ipynb",
   "parameters": {},
   "start_time": "2020-05-26T10:43:37.586497",
   "version": "2.1.0"
  },
  "properties": {
   "description": "Euro Data Cube core API access setup",
   "id": "sh-setup",
   "name": "EDC core API access setup",
   "requirements": [
    "eurodatacube"
   ],
   "tags": [
    "Getting started",
    "GeoDB",
    "xcube"
   ],
   "version": "0.1"
  }
 },
 "nbformat": 4,
 "nbformat_minor": 4
}