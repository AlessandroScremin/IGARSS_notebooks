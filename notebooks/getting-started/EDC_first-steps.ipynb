{
 "cells": [
  {
   "cell_type": "code",
   "execution_count": 1,
   "metadata": {
    "execution": {
     "iopub.execute_input": "2020-07-09T08:51:38.281644Z",
     "iopub.status.busy": "2020-07-09T08:51:38.277325Z",
     "iopub.status.idle": "2020-07-09T08:51:38.393160Z",
     "shell.execute_reply": "2020-07-09T08:51:38.394490Z"
    },
    "papermill": {
     "duration": 0.15275,
     "end_time": "2020-07-09T08:51:38.395028",
     "exception": false,
     "start_time": "2020-07-09T08:51:38.242278",
     "status": "completed"
    },
    "tags": []
   },
   "outputs": [
    {
     "data": {
      "text/markdown": [
       "This notebook is compatible with this base image version (user-0.19.3)."
      ],
      "text/plain": [
       "<IPython.core.display.Markdown object>"
      ]
     },
     "metadata": {},
     "output_type": "display_data"
    }
   ],
   "source": [
    "from edc import check_compatibility\n",
    "check_compatibility(\"user-0.19.3\")"
   ]
  },
  {
   "cell_type": "markdown",
   "metadata": {
    "papermill": {
     "duration": 0.011739,
     "end_time": "2020-07-09T08:51:38.427272",
     "exception": false,
     "start_time": "2020-07-09T08:51:38.415533",
     "status": "completed"
    },
    "tags": []
   },
   "source": [
    "# First steps on the Euro Data Cube platform\n",
    "\n",
    "Euro Data Cube provides a JupyterLab environment, which automatically provides **credentials** for services with **active subscriptions** as **environment variables.**"
   ]
  },
  {
   "cell_type": "markdown",
   "metadata": {
    "papermill": {
     "duration": 0.010414,
     "end_time": "2020-07-09T08:51:38.449433",
     "exception": false,
     "start_time": "2020-07-09T08:51:38.439019",
     "status": "completed"
    },
    "tags": []
   },
   "source": [
    "## Setup\n",
    "The following platform setup function takes care of initializing your environment. It needs to be **called in every notebook**:"
   ]
  },
  {
   "cell_type": "code",
   "execution_count": 2,
   "metadata": {
    "execution": {
     "iopub.execute_input": "2020-07-09T08:51:38.499571Z",
     "iopub.status.busy": "2020-07-09T08:51:38.497337Z",
     "iopub.status.idle": "2020-07-09T08:51:38.506383Z",
     "shell.execute_reply": "2020-07-09T08:51:38.507747Z"
    },
    "papermill": {
     "duration": 0.041443,
     "end_time": "2020-07-09T08:51:38.508535",
     "exception": false,
     "start_time": "2020-07-09T08:51:38.467092",
     "status": "completed"
    },
    "tags": []
   },
   "outputs": [
    {
     "data": {
      "text/markdown": [
       "API credentials have automatically been injected for your active subscriptions.  \n",
       "The following environment variables are now available:\n",
       "* `SH_CLIENT_ID`, `SH_CLIENT_NAME`, `SH_CLIENT_SECRET`, `SH_INSTANCE_ID`\n",
       "\n"
      ],
      "text/plain": [
       "<IPython.core.display.Markdown object>"
      ]
     },
     "metadata": {},
     "output_type": "display_data"
    }
   ],
   "source": [
    "from edc import setup_environment_variables\n",
    "setup_environment_variables()"
   ]
  },
  {
   "cell_type": "markdown",
   "metadata": {
    "papermill": {
     "duration": 0.011855,
     "end_time": "2020-07-09T08:51:38.543720",
     "exception": false,
     "start_time": "2020-07-09T08:51:38.531865",
     "status": "completed"
    },
    "tags": []
   },
   "source": [
    "As you can see here, the credentials mentioned above are now part of your environment variables.  \n",
    "You can also print them, but make sure to **keep them confidential**!\n"
   ]
  },
  {
   "cell_type": "code",
   "execution_count": 3,
   "metadata": {
    "execution": {
     "iopub.execute_input": "2020-07-09T08:51:38.615601Z",
     "iopub.status.busy": "2020-07-09T08:51:38.614713Z",
     "iopub.status.idle": "2020-07-09T08:51:38.617817Z",
     "shell.execute_reply": "2020-07-09T08:51:38.618253Z"
    },
    "papermill": {
     "duration": 0.025535,
     "end_time": "2020-07-09T08:51:38.618382",
     "exception": false,
     "start_time": "2020-07-09T08:51:38.592847",
     "status": "completed"
    },
    "tags": []
   },
   "outputs": [
    {
     "data": {
      "text/plain": [
       "True"
      ]
     },
     "execution_count": 3,
     "metadata": {},
     "output_type": "execute_result"
    }
   ],
   "source": [
    "import os\n",
    "'SH_CLIENT_SECRET' in os.environ"
   ]
  },
  {
   "cell_type": "markdown",
   "metadata": {
    "papermill": {
     "duration": 0.012468,
     "end_time": "2020-07-09T08:51:38.642838",
     "exception": false,
     "start_time": "2020-07-09T08:51:38.630370",
     "status": "completed"
    },
    "tags": []
   },
   "source": [
    "Usually, it is not even necessary to access the credentials.  \n",
    "Many libraries such as `xcube_sh` or `xcube_geodb` load them directly from the environment by default.\n",
    "\n",
    "## Retrieving data\n",
    "\n",
    "Let's say you want to retrieve some Sentinel Data as defined by the following cube (don't worry if you don't understand all the details here, it will be explained <a target=\"_blank\" href=\"https://eurodatacube.com/marketplace/notebooks/getting-started/EDC_Sentinel_Hub-XCUBE_integration.ipynb\">here</a>):"
   ]
  },
  {
   "cell_type": "code",
   "execution_count": 4,
   "metadata": {
    "execution": {
     "iopub.execute_input": "2020-07-09T08:51:38.698619Z",
     "iopub.status.busy": "2020-07-09T08:51:38.696644Z",
     "iopub.status.idle": "2020-07-09T08:51:39.108317Z",
     "shell.execute_reply": "2020-07-09T08:51:39.107116Z"
    },
    "papermill": {
     "duration": 0.453614,
     "end_time": "2020-07-09T08:51:39.108512",
     "exception": false,
     "start_time": "2020-07-09T08:51:38.654898",
     "status": "completed"
    },
    "tags": []
   },
   "outputs": [],
   "source": [
    "from xcube_sh.config import CubeConfig\n",
    "cube_config = CubeConfig(\n",
    "    dataset_name=\"S2L2A\",\n",
    "    band_names=[\"B04\", \"B08\"],\n",
    "    tile_size=[512, 512],\n",
    "    geometry=(10.00, 54.27, 10.30, 54.50),\n",
    "    spatial_res=0.00018,\n",
    "    time_range=[\"2018-05-02\", \"2018-05-26\"],\n",
    "    time_period=\"3D\",\n",
    ")"
   ]
  },
  {
   "cell_type": "markdown",
   "metadata": {
    "papermill": {
     "duration": 0.012508,
     "end_time": "2020-07-09T08:51:39.133968",
     "exception": false,
     "start_time": "2020-07-09T08:51:39.121460",
     "status": "completed"
    },
    "tags": []
   },
   "source": [
    "The following `xcube` call will fetch the data using your active SentinelHub subscription automatically using the credentials from the environment variables:"
   ]
  },
  {
   "cell_type": "code",
   "execution_count": 5,
   "metadata": {
    "execution": {
     "iopub.execute_input": "2020-07-09T08:51:39.177914Z",
     "iopub.status.busy": "2020-07-09T08:51:39.173992Z",
     "iopub.status.idle": "2020-07-09T08:51:40.431179Z",
     "shell.execute_reply": "2020-07-09T08:51:40.430313Z"
    },
    "papermill": {
     "duration": 1.286057,
     "end_time": "2020-07-09T08:51:40.431333",
     "exception": false,
     "start_time": "2020-07-09T08:51:39.145276",
     "status": "completed"
    },
    "tags": []
   },
   "outputs": [
    {
     "data": {
      "text/html": [
       "<pre>&lt;xarray.DataArray &#x27;lat&#x27; (lat: 1536)&gt;\n",
       "array([54.54639, 54.54621, 54.54603, ..., 54.27045, 54.27027, 54.27009])\n",
       "Coordinates:\n",
       "  * lat      (lat) float64 54.55 54.55 54.55 54.55 ... 54.27 54.27 54.27 54.27\n",
       "Attributes:\n",
       "    units:          decimal_degrees\n",
       "    long_name:      longitude\n",
       "    standard_name:  latitude</pre>"
      ],
      "text/plain": [
       "<xarray.DataArray 'lat' (lat: 1536)>\n",
       "array([54.54639, 54.54621, 54.54603, ..., 54.27045, 54.27027, 54.27009])\n",
       "Coordinates:\n",
       "  * lat      (lat) float64 54.55 54.55 54.55 54.55 ... 54.27 54.27 54.27 54.27\n",
       "Attributes:\n",
       "    units:          decimal_degrees\n",
       "    long_name:      longitude\n",
       "    standard_name:  latitude"
      ]
     },
     "execution_count": 5,
     "metadata": {},
     "output_type": "execute_result"
    }
   ],
   "source": [
    "from xcube_sh.cube import open_cube\n",
    "cube = open_cube(cube_config)\n",
    "cube.B04.lat"
   ]
  },
  {
   "cell_type": "markdown",
   "metadata": {
    "papermill": {
     "duration": 0.017107,
     "end_time": "2020-07-09T08:51:40.465856",
     "exception": false,
     "start_time": "2020-07-09T08:51:40.448749",
     "status": "completed"
    },
    "tags": []
   },
   "source": [
    "## Explicit credential handling for advanced libraries\n",
    "\n",
    "Some libraries such as the EO-Learn ML library do require you to set up credentials manually. Since the credentials are available using environment variables, there are different means of using them.\n",
    "\n",
    "If you plan to use for instance the SentinelHub command line configuration tool (as recommended by EO-learn), you can make use of the environment variable expansion of the shell:"
   ]
  },
  {
   "cell_type": "code",
   "execution_count": 6,
   "metadata": {
    "execution": {
     "iopub.execute_input": "2020-07-09T08:51:40.524650Z",
     "iopub.status.busy": "2020-07-09T08:51:40.516994Z",
     "iopub.status.idle": "2020-07-09T08:51:40.649158Z",
     "shell.execute_reply": "2020-07-09T08:51:40.648264Z"
    },
    "papermill": {
     "duration": 0.161577,
     "end_time": "2020-07-09T08:51:40.649396",
     "exception": false,
     "start_time": "2020-07-09T08:51:40.487819",
     "status": "completed"
    },
    "tags": []
   },
   "outputs": [
    {
     "name": "stdout",
     "output_type": "stream",
     "text": [
      "/bin/bash: sentinelhub.config: command not found\r\n"
     ]
    }
   ],
   "source": [
    "!sentinelhub.config --sh_client_id $SH_CLIENT_ID > /dev/null"
   ]
  },
  {
   "cell_type": "markdown",
   "metadata": {
    "papermill": {
     "duration": 0.020336,
     "end_time": "2020-07-09T08:51:40.687852",
     "exception": false,
     "start_time": "2020-07-09T08:51:40.667516",
     "status": "completed"
    },
    "tags": []
   },
   "source": [
    "See <a target=\"_blank\" href=\"https://eurodatacube.com/marketplace/notebooks/contributions/EDC_Usecase-LPIS_Crop-Type-Classification.ipynb\">this notebook</a> for a complete example.\n",
    "\n",
    "If you need to pass the credentials in Python, the IPython magic command `%env` is a means of achieving that:"
   ]
  },
  {
   "cell_type": "code",
   "execution_count": 7,
   "metadata": {
    "execution": {
     "iopub.execute_input": "2020-07-09T08:51:40.739932Z",
     "iopub.status.busy": "2020-07-09T08:51:40.737945Z",
     "iopub.status.idle": "2020-07-09T08:51:40.741887Z",
     "shell.execute_reply": "2020-07-09T08:51:40.743129Z"
    },
    "papermill": {
     "duration": 0.035616,
     "end_time": "2020-07-09T08:51:40.743474",
     "exception": false,
     "start_time": "2020-07-09T08:51:40.707858",
     "status": "completed"
    },
    "tags": []
   },
   "outputs": [],
   "source": [
    "client_id = %env SH_CLIENT_ID"
   ]
  },
  {
   "cell_type": "markdown",
   "metadata": {
    "papermill": {
     "duration": 0.020177,
     "end_time": "2020-07-09T08:51:40.793356",
     "exception": false,
     "start_time": "2020-07-09T08:51:40.773179",
     "status": "completed"
    },
    "tags": []
   },
   "source": [
    "You can however also access the credentials using idiomatic python:"
   ]
  },
  {
   "cell_type": "code",
   "execution_count": 8,
   "metadata": {
    "execution": {
     "iopub.execute_input": "2020-07-09T08:51:40.835386Z",
     "iopub.status.busy": "2020-07-09T08:51:40.834031Z",
     "iopub.status.idle": "2020-07-09T08:51:40.837023Z",
     "shell.execute_reply": "2020-07-09T08:51:40.837638Z"
    },
    "papermill": {
     "duration": 0.024525,
     "end_time": "2020-07-09T08:51:40.837848",
     "exception": false,
     "start_time": "2020-07-09T08:51:40.813323",
     "status": "completed"
    },
    "tags": []
   },
   "outputs": [],
   "source": [
    "client_id = os.environ['SH_CLIENT_ID']"
   ]
  },
  {
   "cell_type": "markdown",
   "metadata": {
    "papermill": {
     "duration": 0.018996,
     "end_time": "2020-07-09T08:51:40.878011",
     "exception": false,
     "start_time": "2020-07-09T08:51:40.859015",
     "status": "completed"
    },
    "tags": []
   },
   "source": [
    "## Adding custom credentials e.g. for S3 buckets\n",
    "\n",
    "Up until now, we have seen how to use credentials from services activated via Euro Data Cube. If you want to use external services, such as Amazon S3 buckets, you can add the relevant credentials and configuration to a custom environment variable file.\n",
    "\n",
    "This will allow you to use them in all of your notebooks and also to share the notebooks without publishing sensitive information. Users who install your contributed notebook enter their respective credentials in their respective file.\n",
    "\n",
    "To create the your custom environment variable file, just create a text file called `custom.env` in your JupyterLab home directory and add your custom content as shown in this example:\n",
    "```\n",
    "# file contents of \"custom.env\"\n",
    "AWS_BUCKET=foo_bar\n",
    "OTHER_EXTERNAL_SERVICE_CONFIG=3\n",
    "```\n",
    "\n",
    "Now this file will automatically be included in the `setup_environment_variables()` as shown by its output:\n",
    "> ```python\n",
    "> from edc import setup_environment_variables\n",
    "> setup_environment_variables()\n",
    "> ```\n",
    "\n",
    "> API credentials have automatically been injected for your active subscriptions.\n",
    "> The following environment variables are now available:\n",
    ">\n",
    "> *   `SH_INSTANCE_ID`\n",
    "> *   `SH_CLIENT_ID`\n",
    "> *   `SH_CLIENT_SECRET`\n",
    "> *   `SH_CLIENT_NAME`\n",
    ">\n",
    "> The following additional environment variables have been loaded from ~/custom.env:\n",
    ">\n",
    "> *   `AWS_BUCKET`\n",
    "> *   `OTHER_EXTERNAL_SERVICE_CONFIG`\n",
    " \n"
   ]
  },
  {
   "cell_type": "markdown",
   "metadata": {
    "papermill": {
     "duration": 0.017235,
     "end_time": "2020-07-09T08:51:40.911280",
     "exception": false,
     "start_time": "2020-07-09T08:51:40.894045",
     "status": "completed"
    },
    "tags": []
   },
   "source": [
    "## Additional reference data and resources\n",
    "\n",
    "Some notebooks require reference data like geojson files\n",
    "> *   `REFERENCE_DATA`\n",
    "\n",
    "use resources like a POSTGIS database for data management \n",
    "> *   `DB_HOST`\n",
    "> *   `DB_NAME`\n",
    "> *   `DB_USER`\n",
    "> *   `DB_PASSWORD`\n",
    "\n",
    "or need AWS credentials for accessing S3 buckets\n",
    "> *   `AWS_BUCKET`\n",
    "\n",
    "Such requirements are indicated by the use of environment variables within the notebook code and require addition **manual** setup upfront. Relevant artifacts (e.g. database creation scripts) are provided here **<a target=\"_blank\" href=\"https://github.com/eurodatacube/notebooks/tree/master/artifacts\">here</a>**."
   ]
  },
  {
   "cell_type": "markdown",
   "metadata": {
    "papermill": {
     "duration": 0.016103,
     "end_time": "2020-07-09T08:51:40.945641",
     "exception": false,
     "start_time": "2020-07-09T08:51:40.929538",
     "status": "completed"
    },
    "tags": []
   },
   "source": [
    "## Conclusion\n",
    "\n",
    "The Euro Data Cube platform allows you to focus on your data without needing to think about authentication and login credentials.\n",
    "\n",
    "You can even **share notebooks** in the Euro Data Cube marketplace without any changes required. If anyone else runs this notebook on this platform, their respective API service credentials will be used automatically."
   ]
  },
  {
   "cell_type": "markdown",
   "metadata": {
    "papermill": {
     "duration": 0.017344,
     "end_time": "2020-07-09T08:51:40.980026",
     "exception": false,
     "start_time": "2020-07-09T08:51:40.962682",
     "status": "completed"
    },
    "tags": []
   },
   "source": [
    "To learn more about using **SentinelHub** or **GeoDB** on the Euro Data Cube platform, check out **<a target=\"_blank\" href=\"https://eurodatacube.com/marketplace/notebooks?tag=Getting%20started\">these notebooks</a>** in the marketplace."
   ]
  }
 ],
 "metadata": {
  "kernelspec": {
   "display_name": "Python 3",
   "language": "python",
   "name": "python3"
  },
  "language_info": {
   "codemirror_mode": {
    "name": "ipython",
    "version": 3
   },
   "file_extension": ".py",
   "mimetype": "text/x-python",
   "name": "python",
   "nbconvert_exporter": "python",
   "pygments_lexer": "ipython3",
   "version": "3.8.3"
  },
  "papermill": {
   "duration": 5.815814,
   "end_time": "2020-07-09T08:51:42.343568",
   "environment_variables": {},
   "exception": null,
   "input_path": "/tmp/tmp7251w5vs",
   "output_path": "/tmp/cur_notebook.ipynb",
   "parameters": {},
   "start_time": "2020-07-09T08:51:36.527754",
   "version": "2.1.0"
  },
  "properties": {
   "description": "First steps on the Euro Data Cube platform",
   "id": "4a7cae13-d390-48db-950a-397452c25a03",
   "license": null,
   "name": "EDC First Steps",
   "requirements": [
    "eurodatacube"
   ],
   "tags": [
    "EO Data",
    "Getting started",
    "Sentinel Hub",
    "xcube"
   ],
   "tosAgree": true,
   "type": "Jupyter Notebook",
   "version": "0.2.0"
  },
  "pycharm": {
   "stem_cell": {
    "cell_type": "raw",
    "metadata": {
     "collapsed": false
    },
    "source": []
   }
  }
 },
 "nbformat": 4,
 "nbformat_minor": 4
}