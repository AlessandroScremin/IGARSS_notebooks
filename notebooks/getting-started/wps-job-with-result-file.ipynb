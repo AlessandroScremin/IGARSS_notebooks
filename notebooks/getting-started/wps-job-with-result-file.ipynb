{
 "cells": [
  {
   "cell_type": "code",
   "execution_count": 8,
   "metadata": {},
   "outputs": [],
   "source": [
    "import pathlib\n",
    "import scrapbook\n",
    "import random\n",
    "import uuid\n",
    "import json"
   ]
  },
  {
   "cell_type": "code",
   "execution_count": 10,
   "metadata": {},
   "outputs": [
    {
     "data": {
      "application/scrapbook.scrap.text+json": {
       "data": "/home/jovyan/s3/example-output-068f9334-7d68-46b4-a89c-f6f8ac2670df.txt",
       "encoder": "text",
       "name": "result-file",
       "version": 1
      }
     },
     "metadata": {
      "scrapbook": {
       "data": true,
       "display": false,
       "name": "result-file"
      }
     },
     "output_type": "display_data"
    }
   ],
   "source": [
    "output_filepath = pathlib.Path(f\"/home/jovyan/s3/example-output-{uuid.uuid4()}.txt\")\n",
    "\n",
    "number = random.randint(0, 10000)\n",
    "output_filepath.write_text(str(number))\n",
    "\n",
    "scrapbook.glue(\"result-file\", str(output_filepath))"
   ]
  }
 ],
 "metadata": {
  "kernelspec": {
   "display_name": "EDC 0.22.3 (Python3)",
   "language": "python",
   "name": "edc"
  },
  "language_info": {
   "codemirror_mode": {
    "name": "ipython",
    "version": 3
   },
   "file_extension": ".py",
   "mimetype": "text/x-python",
   "name": "python",
   "nbconvert_exporter": "python",
   "pygments_lexer": "ipython3",
   "version": "3.8.6"
  }
 },
 "nbformat": 4,
 "nbformat_minor": 4
}
