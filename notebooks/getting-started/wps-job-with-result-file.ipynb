{
 "cells": [
  {
   "cell_type": "code",
   "execution_count": 5,
   "metadata": {},
   "outputs": [],
   "source": [
    "import pathlib\n",
    "import scrapbook\n",
    "import random\n",
    "import uuid\n",
    "import json"
   ]
  },
  {
   "cell_type": "code",
   "execution_count": 7,
   "metadata": {},
   "outputs": [
    {
     "data": {
      "application/scrapbook.scrap.text+json": {
       "data": "/home/jovyan/s3/example-output-fdd3b823-50be-4539-bf7e-9f084873f3e0.json",
       "encoder": "text",
       "name": "result-file",
       "version": 1
      }
     },
     "metadata": {
      "scrapbook": {
       "data": true,
       "display": false,
       "name": "result-file"
      }
     },
     "output_type": "display_data"
    }
   ],
   "source": [
    "output_filepath = pathlib.Path(f\"/home/jovyan/s3/example-output-{uuid.uuid4()}.data\")\n",
    "\n",
    "number = random.randint(0, 10000)\n",
    "output_filepath.write_text(str(number))\n",
    "\n",
    "scrapbook.glue(\"result-file\", str(output_filepath))"
   ]
  }
 ],
 "metadata": {
  "kernelspec": {
   "display_name": "EDC 0.22.3 (Python3)",
   "language": "python",
   "name": "edc"
  },
  "language_info": {
   "codemirror_mode": {
    "name": "ipython",
    "version": 3
   },
   "file_extension": ".py",
   "mimetype": "text/x-python",
   "name": "python",
   "nbconvert_exporter": "python",
   "pygments_lexer": "ipython3",
   "version": "3.8.6"
  }
 },
 "nbformat": 4,
 "nbformat_minor": 4
}
