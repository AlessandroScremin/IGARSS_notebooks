{
 "cells": [
  {
   "cell_type": "code",
   "execution_count": 1,
   "metadata": {
    "execution": {
     "iopub.execute_input": "2020-12-15T11:00:40.683339Z",
     "iopub.status.busy": "2020-12-15T11:00:40.682776Z",
     "iopub.status.idle": "2020-12-15T11:00:40.732068Z",
     "shell.execute_reply": "2020-12-15T11:00:40.731565Z"
    },
    "papermill": {
     "duration": 0.05874,
     "end_time": "2020-12-15T11:00:40.732214",
     "exception": false,
     "start_time": "2020-12-15T11:00:40.673474",
     "status": "completed"
    },
    "tags": []
   },
   "outputs": [
    {
     "data": {
      "text/markdown": [
       "API credentials have automatically been injected for your active subscriptions.  \n",
       "The following environment variables are now available:\n",
       "* `AWS_ACCESS_KEY_ID`, `AWS_BUCKET`, `AWS_SECRET_ACCESS_KEY`\n",
       "* `XCUBE_GEN_API_SERVER_PORT`, `XCUBE_GEN_API_SERVER_URL`, `XCUBE_GEN_API_USER_NAME`, `XCUBE_GEN_AUTH_AUD`, `XCUBE_GEN_AUTH_CLIENT_ID`, `XCUBE_GEN_AUTH_CLIENT_SECRET`, `XCUBE_GEN_AUTH_DOMAIN`\n",
       "\n",
       "The following additional environment variables have been loaded from `~/custom.env`:\n",
       "* `AWS_BUCKET`\n",
       "* `DAPA_URL`\n",
       "* `DB_HOST`, `DB_NAME`, `DB_PASSWORD`, `DB_USER`\n",
       "* `OGC_EDC_URL`\n",
       "* `REFERENCE_DATA`\n"
      ],
      "text/plain": [
       "<IPython.core.display.Markdown object>"
      ]
     },
     "metadata": {},
     "output_type": "display_data"
    }
   ],
   "source": [
    "from edc import setup_environment_variables\n",
    "setup_environment_variables()"
   ]
  },
  {
   "cell_type": "code",
   "execution_count": 2,
   "metadata": {
    "execution": {
     "iopub.execute_input": "2020-12-15T11:00:40.746562Z",
     "iopub.status.busy": "2020-12-15T11:00:40.746059Z",
     "iopub.status.idle": "2020-12-15T11:00:40.748826Z",
     "shell.execute_reply": "2020-12-15T11:00:40.749177Z"
    },
    "papermill": {
     "duration": 0.011273,
     "end_time": "2020-12-15T11:00:40.749283",
     "exception": false,
     "start_time": "2020-12-15T11:00:40.738010",
     "status": "completed"
    },
    "tags": []
   },
   "outputs": [
    {
     "data": {
      "text/html": [
       "<script type=\"text/javascript\">\n",
       "        function toggle(id) {\n",
       "            el = document.getElementById(id);\n",
       "            el.style.display = el.style.display === \"none\" ? \"block\" : \"none\";\n",
       "        }\n",
       "    </script>"
      ],
      "text/plain": [
       "<IPython.core.display.HTML object>"
      ]
     },
     "metadata": {},
     "output_type": "display_data"
    },
    {
     "data": {
      "text/html": [
       "This notebook is compatible with this base image version (user-0.22.3)."
      ],
      "text/plain": [
       "<IPython.core.display.HTML object>"
      ]
     },
     "metadata": {},
     "output_type": "display_data"
    }
   ],
   "source": [
    "from edc import check_compatibility\n",
    "check_compatibility(\"user-0.22.3\")"
   ]
  },
  {
   "cell_type": "markdown",
   "metadata": {
    "papermill": {
     "duration": 0.006374,
     "end_time": "2020-12-15T11:00:40.761960",
     "exception": false,
     "start_time": "2020-12-15T11:00:40.755586",
     "status": "completed"
    },
    "tags": []
   },
   "source": [
    "## xcube Generator Python Access Library\n",
    "\n",
    "This notebook shows how to generate xcube cube using the xcube-gen web service [xcube-gen.brockmann-consult.de](https://xcube-gen.brockmann-consult.de).\n",
    "Please be aware, this notebook will not run unless you have access to the xcube-gen service as well as a bucket on AWS."
   ]
  },
  {
   "cell_type": "code",
   "execution_count": 3,
   "metadata": {
    "execution": {
     "iopub.execute_input": "2020-12-15T11:00:40.778429Z",
     "iopub.status.busy": "2020-12-15T11:00:40.777879Z",
     "iopub.status.idle": "2020-12-15T11:00:40.952027Z",
     "shell.execute_reply": "2020-12-15T11:00:40.951582Z"
    },
    "papermill": {
     "duration": 0.183222,
     "end_time": "2020-12-15T11:00:40.952146",
     "exception": false,
     "start_time": "2020-12-15T11:00:40.768924",
     "status": "completed"
    },
    "tags": []
   },
   "outputs": [
    {
     "data": {
      "text/plain": [
       "'hub@eox.at'"
      ]
     },
     "execution_count": 3,
     "metadata": {},
     "output_type": "execute_result"
    }
   ],
   "source": [
    "from job_api import JobApi\n",
    "api = JobApi()\n",
    "api.whoami"
   ]
  },
  {
   "cell_type": "markdown",
   "metadata": {
    "papermill": {
     "duration": 0.006498,
     "end_time": "2020-12-15T11:00:40.965224",
     "exception": false,
     "start_time": "2020-12-15T11:00:40.958726",
     "status": "completed"
    },
    "pycharm": {
     "name": "#%% md\n"
    },
    "tags": []
   },
   "source": [
    "## Generate a config"
   ]
  },
  {
   "cell_type": "code",
   "execution_count": 4,
   "metadata": {
    "execution": {
     "iopub.execute_input": "2020-12-15T11:00:40.982512Z",
     "iopub.status.busy": "2020-12-15T11:00:40.981932Z",
     "iopub.status.idle": "2020-12-15T11:00:40.983478Z",
     "shell.execute_reply": "2020-12-15T11:00:40.983848Z"
    },
    "papermill": {
     "duration": 0.012329,
     "end_time": "2020-12-15T11:00:40.983958",
     "exception": false,
     "start_time": "2020-12-15T11:00:40.971629",
     "status": "completed"
    },
    "tags": []
   },
   "outputs": [],
   "source": [
    "import os\n",
    "cfg = {\n",
    "  \"input_configs\": [\n",
    "    {\n",
    "      \"store_id\": \"@sentinelhub\",\n",
    "      \"data_id\": \"S2L2A\",\n",
    "      \"open_params\": {\n",
    "        \"tile_size\": [\n",
    "          1000,\n",
    "          1000\n",
    "        ]\n",
    "      }\n",
    "    }\n",
    "  ],\n",
    "  \"cube_config\": {\n",
    "    \"variable_names\": [\n",
    "      \"B01\",\n",
    "      \"B02\"\n",
    "    ],\n",
    "    \"bbox\": [\n",
    "      7,\n",
    "      53,\n",
    "      9,\n",
    "      55\n",
    "    ],\n",
    "    \"spatial_res\": 0.001,\n",
    "    \"crs\": \"WGS84\",\n",
    "    \"time_range\": [\n",
    "      \"2000-06-20\",\n",
    "      \"2000-06-22\"\n",
    "    ],\n",
    "    \"time_period\": \"1D\"\n",
    "  },\n",
    "  \"output_config\": {\n",
    "    \"store_id\": \"s3\",\n",
    "    \"store_params\": {\n",
    "      \"bucket_name\": os.environ[\"AWS_BUCKET\"],\n",
    "      \"aws_access_key_id\": os.environ[\"AWS_ACCESS_KEY_ID\"],\n",
    "      \"aws_secret_access_key\": os.environ[\"AWS_SECRET_ACCESS_KEY\"],\n",
    "    }\n",
    "  }\n",
    "}"
   ]
  },
  {
   "cell_type": "markdown",
   "metadata": {
    "papermill": {
     "duration": 0.006405,
     "end_time": "2020-12-15T11:00:40.996770",
     "exception": false,
     "start_time": "2020-12-15T11:00:40.990365",
     "status": "completed"
    },
    "pycharm": {
     "name": "#%% md\n"
    },
    "tags": []
   },
   "source": [
    "## Generating an xcube"
   ]
  },
  {
   "cell_type": "code",
   "execution_count": 5,
   "metadata": {
    "execution": {
     "iopub.execute_input": "2020-12-15T11:00:41.014340Z",
     "iopub.status.busy": "2020-12-15T11:00:41.013816Z",
     "iopub.status.idle": "2020-12-15T11:00:41.125737Z",
     "shell.execute_reply": "2020-12-15T11:00:41.125224Z"
    },
    "papermill": {
     "duration": 0.122229,
     "end_time": "2020-12-15T11:00:41.125855",
     "exception": false,
     "start_time": "2020-12-15T11:00:41.003626",
     "status": "completed"
    },
    "tags": []
   },
   "outputs": [
    {
     "data": {
      "text/plain": [
       "{'result': {'job_id': 'xcube-gen-d3b2ee9b-ee72-4a4d-9a5d-88a811cbe5dc',\n",
       "  'status': {'active': None,\n",
       "   'completion_time': None,\n",
       "   'conditions': None,\n",
       "   'failed': None,\n",
       "   'start_time': None,\n",
       "   'succeeded': None}},\n",
       " 'status': 'ok'}"
      ]
     },
     "execution_count": 5,
     "metadata": {},
     "output_type": "execute_result"
    }
   ],
   "source": [
    "response = api.create(cfg=cfg)\n",
    "job_id = response['result']['job_id']\n",
    "response"
   ]
  },
  {
   "cell_type": "markdown",
   "metadata": {
    "papermill": {
     "duration": 0.007213,
     "end_time": "2020-12-15T11:00:41.139786",
     "exception": false,
     "start_time": "2020-12-15T11:00:41.132573",
     "status": "completed"
    },
    "pycharm": {
     "name": "#%% md\n"
    },
    "tags": []
   },
   "source": [
    "## Getting the Status of a Generation Job"
   ]
  },
  {
   "cell_type": "code",
   "execution_count": 6,
   "metadata": {
    "collapsed": false,
    "execution": {
     "iopub.execute_input": "2020-12-15T11:00:41.155636Z",
     "iopub.status.busy": "2020-12-15T11:00:41.155098Z",
     "iopub.status.idle": "2020-12-15T11:00:49.165720Z",
     "shell.execute_reply": "2020-12-15T11:00:49.165116Z"
    },
    "jupyter": {
     "outputs_hidden": false
    },
    "papermill": {
     "duration": 8.019438,
     "end_time": "2020-12-15T11:00:49.165837",
     "exception": false,
     "start_time": "2020-12-15T11:00:41.146399",
     "status": "completed"
    },
    "pycharm": {
     "name": "#%%\n"
    },
    "tags": []
   },
   "outputs": [],
   "source": [
    "# wait until job has been created\n",
    "import time\n",
    "time.sleep(8)"
   ]
  },
  {
   "cell_type": "code",
   "execution_count": 7,
   "metadata": {
    "execution": {
     "iopub.execute_input": "2020-12-15T11:00:49.184681Z",
     "iopub.status.busy": "2020-12-15T11:00:49.184178Z",
     "iopub.status.idle": "2020-12-15T11:00:49.276647Z",
     "shell.execute_reply": "2020-12-15T11:00:49.277015Z"
    },
    "papermill": {
     "duration": 0.104386,
     "end_time": "2020-12-15T11:00:49.277153",
     "exception": false,
     "start_time": "2020-12-15T11:00:49.172767",
     "status": "completed"
    },
    "tags": []
   },
   "outputs": [
    {
     "data": {
      "text/plain": [
       "{'result': {'job_id': 'xcube-gen-d3b2ee9b-ee72-4a4d-9a5d-88a811cbe5dc',\n",
       "  'output': [],\n",
       "  'status': {'active': 1,\n",
       "   'completion_time': None,\n",
       "   'conditions': None,\n",
       "   'failed': None,\n",
       "   'start_time': 'Tue, 15 Dec 2020 11:00:41 GMT',\n",
       "   'succeeded': None}},\n",
       " 'status': 'ok'}"
      ]
     },
     "execution_count": 7,
     "metadata": {},
     "output_type": "execute_result"
    }
   ],
   "source": [
    "api.status(job_id)"
   ]
  },
  {
   "cell_type": "markdown",
   "metadata": {
    "papermill": {
     "duration": 0.006837,
     "end_time": "2020-12-15T11:00:49.290927",
     "exception": false,
     "start_time": "2020-12-15T11:00:49.284090",
     "status": "completed"
    },
    "pycharm": {
     "name": "#%% md\n"
    },
    "tags": []
   },
   "source": [
    "## Listing my Jobs"
   ]
  },
  {
   "cell_type": "code",
   "execution_count": 8,
   "metadata": {
    "collapsed": false,
    "execution": {
     "iopub.execute_input": "2020-12-15T11:00:49.309136Z",
     "iopub.status.busy": "2020-12-15T11:00:49.308619Z",
     "iopub.status.idle": "2020-12-15T11:00:49.380889Z",
     "shell.execute_reply": "2020-12-15T11:00:49.380472Z"
    },
    "jupyter": {
     "outputs_hidden": false
    },
    "papermill": {
     "duration": 0.082733,
     "end_time": "2020-12-15T11:00:49.380995",
     "exception": false,
     "start_time": "2020-12-15T11:00:49.298262",
     "status": "completed"
    },
    "pycharm": {
     "name": "#%%\n"
    },
    "tags": []
   },
   "outputs": [
    {
     "data": {
      "text/plain": [
       "{'result': [{'job_id': 'xcube-gen-d3b2ee9b-ee72-4a4d-9a5d-88a811cbe5dc',\n",
       "   'status': {'active': 1,\n",
       "    'completion_time': None,\n",
       "    'failed': None,\n",
       "    'start_time': 'Tue, 15 Dec 2020 11:00:41 GMT',\n",
       "    'succeeded': None}}],\n",
       " 'status': 'ok'}"
      ]
     },
     "execution_count": 8,
     "metadata": {},
     "output_type": "execute_result"
    }
   ],
   "source": [
    "api.list()"
   ]
  },
  {
   "cell_type": "markdown",
   "metadata": {
    "papermill": {
     "duration": 0.00751,
     "end_time": "2020-12-15T11:00:49.395591",
     "exception": false,
     "start_time": "2020-12-15T11:00:49.388081",
     "status": "completed"
    },
    "pycharm": {
     "name": "#%% md\n"
    },
    "tags": []
   },
   "source": [
    "## Deleting a job"
   ]
  },
  {
   "cell_type": "code",
   "execution_count": 9,
   "metadata": {
    "collapsed": false,
    "execution": {
     "iopub.execute_input": "2020-12-15T11:00:49.413521Z",
     "iopub.status.busy": "2020-12-15T11:00:49.412977Z",
     "iopub.status.idle": "2020-12-15T11:00:49.510867Z",
     "shell.execute_reply": "2020-12-15T11:00:49.510408Z"
    },
    "jupyter": {
     "outputs_hidden": false
    },
    "papermill": {
     "duration": 0.108431,
     "end_time": "2020-12-15T11:00:49.510985",
     "exception": false,
     "start_time": "2020-12-15T11:00:49.402554",
     "status": "completed"
    },
    "pycharm": {
     "name": "#%%\n"
    },
    "tags": []
   },
   "outputs": [
    {
     "data": {
      "text/plain": [
       "{'result': 'Success', 'status': 'ok'}"
      ]
     },
     "execution_count": 9,
     "metadata": {},
     "output_type": "execute_result"
    }
   ],
   "source": [
    "api.delete(job_id)"
   ]
  }
 ],
 "metadata": {
  "kernelspec": {
   "display_name": "EDC 0.19.6 (Python 3)",
   "language": "python",
   "name": "eurodatacube-0.19.6"
  },
  "language_info": {
   "codemirror_mode": {
    "name": "ipython",
    "version": 3
   },
   "file_extension": ".py",
   "mimetype": "text/x-python",
   "name": "python",
   "nbconvert_exporter": "python",
   "pygments_lexer": "ipython3",
   "version": "3.8.6"
  },
  "papermill": {
   "duration": 9.634482,
   "end_time": "2020-12-15T11:00:49.722716",
   "environment_variables": {},
   "exception": null,
   "input_path": "/tmp/tmpz_0o87ng",
   "output_path": "/tmp/cur_notebook.ipynb",
   "parameters": {},
   "start_time": "2020-12-15T11:00:40.088234",
   "version": "2.1.0"
  },
  "properties": {
   "description": "xcube Generator Python Access Library ",
   "id": "f0a95ae8-27d0-4d0e-b5db-0a97e53926dd",
   "license": null,
   "name": "xcube Generator Python Access Library",
   "requirements": [
    "eurodatacube-xcube-gen"
   ],
   "tags": [
    "xcube"
   ],
   "tosAgree": true,
   "type": "Jupyter Notebook",
   "version": "0.0.1"
  }
 },
 "nbformat": 4,
 "nbformat_minor": 4
}