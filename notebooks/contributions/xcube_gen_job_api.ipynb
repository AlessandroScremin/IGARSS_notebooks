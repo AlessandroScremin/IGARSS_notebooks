{
 "cells": [
  {
   "cell_type": "code",
   "execution_count": 1,
   "metadata": {
    "papermill": {
     "duration": 0.059121,
     "end_time": "2020-07-09T09:02:41.105602",
     "exception": false,
     "start_time": "2020-07-09T09:02:41.046481",
     "status": "completed"
    },
    "tags": []
   },
   "outputs": [
    {
     "data": {
      "text/markdown": [
       "API credentials have automatically been injected for your active subscriptions.  \n",
       "The following environment variables are now available:\n",
       "* `GEODB_API_SERVER_PORT`, `GEODB_API_SERVER_URL`, `GEODB_AUTH_AUD`, `GEODB_AUTH_CLIENT_ID`, `GEODB_AUTH_CLIENT_SECRET`, `GEODB_AUTH_DOMAIN`\n",
       "* `SH_CLIENT_ID`, `SH_CLIENT_NAME`, `SH_CLIENT_SECRET`, `SH_INSTANCE_ID`\n",
       "* `XCUBE_GEN_API_SERVER_PORT`, `XCUBE_GEN_API_SERVER_URL`, `XCUBE_GEN_AUTH_AUD`, `XCUBE_GEN_AUTH_CLIENT_ID`, `XCUBE_GEN_AUTH_CLIENT_SECRET`, `XCUBE_GEN_AUTH_DOMAIN`, `XCUBE_GEN_USER`\n",
       "\n",
       "The following additional environment variables have been loaded from `~/custom.env`:\n",
       "* `AWS_ACCESS_KEY_ID`, `AWS_BUCKET`, `AWS_SECRET_ACCESS_KEY`\n",
       "* `DAPA_URL`\n"
      ],
      "text/plain": [
       "<IPython.core.display.Markdown object>"
      ]
     },
     "metadata": {},
     "output_type": "display_data"
    }
   ],
   "source": [
    "from edc import setup_environment_variables\n",
    "setup_environment_variables()"
   ]
  },
  {
   "cell_type": "code",
   "execution_count": 2,
   "metadata": {
    "papermill": {
     "duration": 0.010067,
     "end_time": "2020-07-09T09:02:41.122976",
     "exception": false,
     "start_time": "2020-07-09T09:02:41.112909",
     "status": "completed"
    },
    "tags": []
   },
   "outputs": [],
   "source": [
    "import os\n",
    "os.environ[\"XCUBE_GEN_API_USER_NAME\"] = os.environ[\"XCUBE_GEN_USER\"]"
   ]
  },
  {
   "cell_type": "code",
   "execution_count": 3,
   "metadata": {
    "papermill": {
     "duration": 0.010389,
     "end_time": "2020-07-09T09:02:41.138981",
     "exception": false,
     "start_time": "2020-07-09T09:02:41.128592",
     "status": "completed"
    },
    "tags": []
   },
   "outputs": [
    {
     "data": {
      "text/markdown": [
       "This notebook is compatible with this base image version (user-0.19.3)."
      ],
      "text/plain": [
       "<IPython.core.display.Markdown object>"
      ]
     },
     "metadata": {},
     "output_type": "display_data"
    }
   ],
   "source": [
    "from edc import check_compatibility\n",
    "check_compatibility(\"user-0.19.3\")"
   ]
  },
  {
   "cell_type": "markdown",
   "metadata": {
    "papermill": {
     "duration": 0.009846,
     "end_time": "2020-07-09T09:02:41.154749",
     "exception": false,
     "start_time": "2020-07-09T09:02:41.144903",
     "status": "completed"
    },
    "tags": []
   },
   "source": [
    "## xcube Generator Python Access Library\n",
    "\n",
    "This notebook shows how to generate xcube cube using the xcube-gen web service [xcube-gen.brockmann-consult.de](https://xcube-gen.brockmann-consult.de).\n",
    "Please be aware, this notebook will not run unless you have access to the xcube-gen service as well as a bucket on AWS."
   ]
  },
  {
   "cell_type": "code",
   "execution_count": 4,
   "metadata": {
    "papermill": {
     "duration": 0.134485,
     "end_time": "2020-07-09T09:02:41.295215",
     "exception": false,
     "start_time": "2020-07-09T09:02:41.160730",
     "status": "completed"
    },
    "tags": []
   },
   "outputs": [
    {
     "data": {
      "text/plain": [
       "'mallinger.bernhard@eox.at'"
      ]
     },
     "execution_count": 4,
     "metadata": {},
     "output_type": "execute_result"
    }
   ],
   "source": [
    "from job_api import JobApi\n",
    "api = JobApi()\n",
    "api.whoami"
   ]
  },
  {
   "cell_type": "markdown",
   "metadata": {
    "papermill": {
     "duration": 0.00742,
     "end_time": "2020-07-09T09:02:41.309008",
     "exception": false,
     "start_time": "2020-07-09T09:02:41.301588",
     "status": "completed"
    },
    "pycharm": {
     "name": "#%% md\n"
    },
    "tags": []
   },
   "source": [
    "## Generate a config"
   ]
  },
  {
   "cell_type": "code",
   "execution_count": 5,
   "metadata": {
    "papermill": {
     "duration": 0.01196,
     "end_time": "2020-07-09T09:02:41.326884",
     "exception": false,
     "start_time": "2020-07-09T09:02:41.314924",
     "status": "completed"
    },
    "tags": []
   },
   "outputs": [],
   "source": [
    "import os\n",
    "cfg = {\n",
    "  \"input_configs\": [\n",
    "    {\n",
    "      \"store_id\": \"@sentinelhub\",\n",
    "      \"data_id\": \"S2L2A\",\n",
    "      \"open_params\": {\n",
    "        \"tile_size\": [\n",
    "          1000,\n",
    "          1000\n",
    "        ]\n",
    "      }\n",
    "    }\n",
    "  ],\n",
    "  \"cube_config\": {\n",
    "    \"variable_names\": [\n",
    "      \"B01\",\n",
    "      \"B02\"\n",
    "    ],\n",
    "    \"bbox\": [\n",
    "      7,\n",
    "      53,\n",
    "      9,\n",
    "      55\n",
    "    ],\n",
    "    \"spatial_res\": 0.001,\n",
    "    \"crs\": \"WGS84\",\n",
    "    \"time_range\": [\n",
    "      \"2000-06-20\",\n",
    "      \"2000-06-22\"\n",
    "    ],\n",
    "    \"time_period\": \"1D\"\n",
    "  },\n",
    "  \"output_config\": {\n",
    "    \"store_id\": \"s3\",\n",
    "    \"store_params\": {\n",
    "      \"bucket_name\": os.environ[\"AWS_BUCKET\"],\n",
    "      \"aws_access_key_id\": os.environ[\"AWS_ACCESS_KEY_ID\"],\n",
    "      \"aws_secret_access_key\": os.environ[\"AWS_SECRET_ACCESS_KEY\"],\n",
    "    }\n",
    "  }\n",
    "}"
   ]
  },
  {
   "cell_type": "markdown",
   "metadata": {
    "papermill": {
     "duration": 0.006328,
     "end_time": "2020-07-09T09:02:41.339444",
     "exception": false,
     "start_time": "2020-07-09T09:02:41.333116",
     "status": "completed"
    },
    "pycharm": {
     "name": "#%% md\n"
    },
    "tags": []
   },
   "source": [
    "## Generating an xcube"
   ]
  },
  {
   "cell_type": "code",
   "execution_count": 6,
   "metadata": {
    "papermill": {
     "duration": 0.093468,
     "end_time": "2020-07-09T09:02:41.438981",
     "exception": false,
     "start_time": "2020-07-09T09:02:41.345513",
     "status": "completed"
    },
    "tags": []
   },
   "outputs": [
    {
     "data": {
      "text/plain": [
       "{'result': {'job_id': 'xcube-gen-f394e898-fa88-4d96-8531-fcf346fee5e1',\n",
       "  'status': {'active': None,\n",
       "   'completion_time': None,\n",
       "   'conditions': None,\n",
       "   'failed': None,\n",
       "   'start_time': None,\n",
       "   'succeeded': None}},\n",
       " 'status': 'ok'}"
      ]
     },
     "execution_count": 6,
     "metadata": {},
     "output_type": "execute_result"
    }
   ],
   "source": [
    "response = api.create(cfg=cfg)\n",
    "job_id = response['result']['job_id']\n",
    "response"
   ]
  },
  {
   "cell_type": "markdown",
   "metadata": {
    "papermill": {
     "duration": 0.006256,
     "end_time": "2020-07-09T09:02:41.451425",
     "exception": false,
     "start_time": "2020-07-09T09:02:41.445169",
     "status": "completed"
    },
    "pycharm": {
     "name": "#%% md\n"
    },
    "tags": []
   },
   "source": [
    "## Getting the Status of a Generation Job"
   ]
  },
  {
   "cell_type": "code",
   "execution_count": 7,
   "metadata": {
    "collapsed": false,
    "jupyter": {
     "outputs_hidden": false
    },
    "papermill": {
     "duration": 0.097754,
     "end_time": "2020-07-09T09:02:41.555296",
     "exception": false,
     "start_time": "2020-07-09T09:02:41.457542",
     "status": "completed"
    },
    "pycharm": {
     "name": "#%%\n"
    },
    "tags": []
   },
   "outputs": [],
   "source": [
    "# wait until job has been created\n",
    "import time\n",
    "time.sleep(3)"
   ]
  },
  {
   "cell_type": "code",
   "execution_count": 8,
   "metadata": {},
   "outputs": [
    {
     "data": {
      "text/plain": [
       "{'result': {'job_id': 'xcube-gen-f394e898-fa88-4d96-8531-fcf346fee5e1',\n",
       "  'output': [],\n",
       "  'status': {'active': 1,\n",
       "   'completion_time': None,\n",
       "   'conditions': None,\n",
       "   'failed': None,\n",
       "   'start_time': 'Mon, 13 Jul 2020 10:55:45 GMT',\n",
       "   'succeeded': None}},\n",
       " 'status': 'ok'}"
      ]
     },
     "execution_count": 8,
     "metadata": {},
     "output_type": "execute_result"
    }
   ],
   "source": [
    "api.status(job_id)"
   ]
  },
  {
   "cell_type": "markdown",
   "metadata": {
    "papermill": {
     "duration": 0.006277,
     "end_time": "2020-07-09T09:02:41.568149",
     "exception": false,
     "start_time": "2020-07-09T09:02:41.561872",
     "status": "completed"
    },
    "pycharm": {
     "name": "#%% md\n"
    },
    "tags": []
   },
   "source": [
    "## Listing my Jobs"
   ]
  },
  {
   "cell_type": "code",
   "execution_count": 9,
   "metadata": {
    "collapsed": false,
    "jupyter": {
     "outputs_hidden": false
    },
    "papermill": {
     "duration": 0.081412,
     "end_time": "2020-07-09T09:02:41.656000",
     "exception": false,
     "start_time": "2020-07-09T09:02:41.574588",
     "status": "completed"
    },
    "pycharm": {
     "name": "#%%\n"
    },
    "tags": []
   },
   "outputs": [
    {
     "data": {
      "text/plain": [
       "{'result': [{'job_id': 'xcube-gen-913db810-7d40-4159-a921-d6aaa8ecadd9',\n",
       "   'status': {'active': None,\n",
       "    'completion_time': 'Mon, 13 Jul 2020 10:54:18 GMT',\n",
       "    'failed': None,\n",
       "    'start_time': 'Mon, 13 Jul 2020 10:54:03 GMT',\n",
       "    'succeeded': 1}},\n",
       "  {'job_id': 'xcube-gen-c885581a-141e-41b1-9585-36228fc4ae2b',\n",
       "   'status': {'active': None,\n",
       "    'completion_time': 'Mon, 13 Jul 2020 10:52:20 GMT',\n",
       "    'failed': None,\n",
       "    'start_time': 'Mon, 13 Jul 2020 10:52:06 GMT',\n",
       "    'succeeded': 1}},\n",
       "  {'job_id': 'xcube-gen-e2c90e1d-f304-4d65-ad48-5fd083e2ca46',\n",
       "   'status': {'active': None,\n",
       "    'completion_time': 'Mon, 13 Jul 2020 10:53:48 GMT',\n",
       "    'failed': None,\n",
       "    'start_time': 'Mon, 13 Jul 2020 10:53:36 GMT',\n",
       "    'succeeded': 1}},\n",
       "  {'job_id': 'xcube-gen-f394e898-fa88-4d96-8531-fcf346fee5e1',\n",
       "   'status': {'active': 1,\n",
       "    'completion_time': None,\n",
       "    'failed': None,\n",
       "    'start_time': 'Mon, 13 Jul 2020 10:55:45 GMT',\n",
       "    'succeeded': None}}],\n",
       " 'status': 'ok'}"
      ]
     },
     "execution_count": 9,
     "metadata": {},
     "output_type": "execute_result"
    }
   ],
   "source": [
    "api.list()"
   ]
  },
  {
   "cell_type": "markdown",
   "metadata": {
    "papermill": {
     "duration": 0.0066,
     "end_time": "2020-07-09T09:02:41.669464",
     "exception": false,
     "start_time": "2020-07-09T09:02:41.662864",
     "status": "completed"
    },
    "pycharm": {
     "name": "#%% md\n"
    },
    "tags": []
   },
   "source": [
    "## Deleting a job"
   ]
  },
  {
   "cell_type": "code",
   "execution_count": 10,
   "metadata": {
    "collapsed": false,
    "jupyter": {
     "outputs_hidden": false
    },
    "papermill": {
     "duration": 0.075457,
     "end_time": "2020-07-09T09:02:41.751437",
     "exception": false,
     "start_time": "2020-07-09T09:02:41.675980",
     "status": "completed"
    },
    "pycharm": {
     "name": "#%%\n"
    },
    "tags": []
   },
   "outputs": [
    {
     "data": {
      "text/plain": [
       "{'result': 'Success', 'status': 'ok'}"
      ]
     },
     "execution_count": 10,
     "metadata": {},
     "output_type": "execute_result"
    }
   ],
   "source": [
    "api.delete(job_id)"
   ]
  }
 ],
 "metadata": {
  "kernelspec": {
   "display_name": "EuroDataCube 0.19.3 (Python 3)",
   "language": "python",
   "name": "eurodatacube-0.19.3"
  },
  "language_info": {
   "codemirror_mode": {
    "name": "ipython",
    "version": 3
   },
   "file_extension": ".py",
   "mimetype": "text/x-python",
   "name": "python",
   "nbconvert_exporter": "python",
   "pygments_lexer": "ipython3",
   "version": "3.8.3"
  },
  "papermill": {
   "duration": 1.692052,
   "end_time": "2020-07-09T09:02:41.962614",
   "environment_variables": {},
   "exception": null,
   "input_path": "/tmp/tmp_vze3wp8",
   "output_path": "/tmp/notebook_output.ipynb",
   "parameters": {},
   "start_time": "2020-07-09T09:02:40.270562",
   "version": "2.1.0"
  },
  "properties": {
   "description": "xcube Generator Python Access Library ",
   "id": "f0a95ae8-27d0-4d0e-b5db-0a97e53926dd",
   "license": null,
   "name": "xcube Generator Python Access Library",
   "requirements": [
    "eurodatacube-xcube-gen"
   ],
   "tags": [
    "xcube"
   ],
   "tosAgree": true,
   "type": "Jupyter Notebook",
   "version": "0.0.1"
  }
 },
 "nbformat": 4,
 "nbformat_minor": 4
}
