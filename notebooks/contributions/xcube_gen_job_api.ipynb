{
 "cells": [
  {
   "cell_type": "code",
   "execution_count": 1,
   "metadata": {
    "execution": {
     "iopub.execute_input": "2020-07-13T11:34:29.895165Z",
     "iopub.status.busy": "2020-07-13T11:34:29.894592Z",
     "iopub.status.idle": "2020-07-13T11:34:29.944326Z",
     "shell.execute_reply": "2020-07-13T11:34:29.943820Z"
    },
    "papermill": {
     "duration": 0.059293,
     "end_time": "2020-07-13T11:34:29.944501",
     "exception": false,
     "start_time": "2020-07-13T11:34:29.885208",
     "status": "completed"
    },
    "tags": []
   },
   "outputs": [
    {
     "data": {
      "text/markdown": [
       "API credentials have automatically been injected for your active subscriptions.  \n",
       "The following environment variables are now available:\n",
       "* `AWS_ACCESS_KEY_ID`, `AWS_BUCKET`, `AWS_SECRET_ACCESS_KEY`\n",
       "* `XCUBE_GEN_API_SERVER_PORT`, `XCUBE_GEN_API_SERVER_URL`, `XCUBE_GEN_AUTH_AUD`, `XCUBE_GEN_AUTH_CLIENT_ID`, `XCUBE_GEN_AUTH_CLIENT_SECRET`, `XCUBE_GEN_AUTH_DOMAIN`, `XCUBE_GEN_USER`\n",
       "\n",
       "The following additional environment variables have been loaded from `~/custom.env`:\n",
       "* `AWS_BUCKET`\n",
       "* `DAPA_URL`\n",
       "* `DB_HOST`, `DB_NAME`, `DB_PASSWORD`, `DB_USER`\n",
       "* `OGC_EDC_URL`\n",
       "* `REFERENCE_DATA`\n"
      ],
      "text/plain": [
       "<IPython.core.display.Markdown object>"
      ]
     },
     "metadata": {},
     "output_type": "display_data"
    }
   ],
   "source": [
    "from edc import setup_environment_variables\n",
    "setup_environment_variables()"
   ]
  },
  {
   "cell_type": "code",
   "execution_count": 2,
   "metadata": {
    "execution": {
     "iopub.execute_input": "2020-07-13T11:34:29.960283Z",
     "iopub.status.busy": "2020-07-13T11:34:29.959758Z",
     "iopub.status.idle": "2020-07-13T11:34:29.961869Z",
     "shell.execute_reply": "2020-07-13T11:34:29.961346Z"
    },
    "papermill": {
     "duration": 0.010354,
     "end_time": "2020-07-13T11:34:29.961953",
     "exception": false,
     "start_time": "2020-07-13T11:34:29.951599",
     "status": "completed"
    },
    "tags": []
   },
   "outputs": [],
   "source": [
    "import os\n",
    "os.environ[\"XCUBE_GEN_API_USER_NAME\"] = os.environ[\"XCUBE_GEN_USER\"]"
   ]
  },
  {
   "cell_type": "code",
   "execution_count": 3,
   "metadata": {
    "execution": {
     "iopub.execute_input": "2020-07-13T11:34:29.976282Z",
     "iopub.status.busy": "2020-07-13T11:34:29.975755Z",
     "iopub.status.idle": "2020-07-13T11:34:29.978313Z",
     "shell.execute_reply": "2020-07-13T11:34:29.977847Z"
    },
    "papermill": {
     "duration": 0.010746,
     "end_time": "2020-07-13T11:34:29.978405",
     "exception": false,
     "start_time": "2020-07-13T11:34:29.967659",
     "status": "completed"
    },
    "tags": []
   },
   "outputs": [
    {
     "data": {
      "text/markdown": [
       "This notebook is compatible with this base image version (user-0.19.4)."
      ],
      "text/plain": [
       "<IPython.core.display.Markdown object>"
      ]
     },
     "metadata": {},
     "output_type": "display_data"
    }
   ],
   "source": [
    "from edc import check_compatibility\n",
    "check_compatibility(\"user-0.19.4\")"
   ]
  },
  {
   "cell_type": "markdown",
   "metadata": {
    "papermill": {
     "duration": 0.006931,
     "end_time": "2020-07-13T11:34:29.991767",
     "exception": false,
     "start_time": "2020-07-13T11:34:29.984836",
     "status": "completed"
    },
    "tags": []
   },
   "source": [
    "## xcube Generator Python Access Library\n",
    "\n",
    "This notebook shows how to generate xcube cube using the xcube-gen web service [xcube-gen.brockmann-consult.de](https://xcube-gen.brockmann-consult.de).\n",
    "Please be aware, this notebook will not run unless you have access to the xcube-gen service as well as a bucket on AWS."
   ]
  },
  {
   "cell_type": "code",
   "execution_count": 4,
   "metadata": {
    "execution": {
     "iopub.execute_input": "2020-07-13T11:34:30.007194Z",
     "iopub.status.busy": "2020-07-13T11:34:30.006686Z",
     "iopub.status.idle": "2020-07-13T11:34:30.401592Z",
     "shell.execute_reply": "2020-07-13T11:34:30.401050Z"
    },
    "papermill": {
     "duration": 0.403624,
     "end_time": "2020-07-13T11:34:30.401679",
     "exception": false,
     "start_time": "2020-07-13T11:34:29.998055",
     "status": "completed"
    },
    "tags": []
   },
   "outputs": [
    {
     "data": {
      "text/plain": [
       "'hub@eox.at'"
      ]
     },
     "execution_count": 4,
     "metadata": {},
     "output_type": "execute_result"
    }
   ],
   "source": [
    "from job_api import JobApi\n",
    "api = JobApi()\n",
    "api.whoami"
   ]
  },
  {
   "cell_type": "markdown",
   "metadata": {
    "papermill": {
     "duration": 0.006118,
     "end_time": "2020-07-13T11:34:30.414049",
     "exception": false,
     "start_time": "2020-07-13T11:34:30.407931",
     "status": "completed"
    },
    "pycharm": {
     "name": "#%% md\n"
    },
    "tags": []
   },
   "source": [
    "## Generate a config"
   ]
  },
  {
   "cell_type": "code",
   "execution_count": 5,
   "metadata": {
    "execution": {
     "iopub.execute_input": "2020-07-13T11:34:30.432301Z",
     "iopub.status.busy": "2020-07-13T11:34:30.431751Z",
     "iopub.status.idle": "2020-07-13T11:34:30.433416Z",
     "shell.execute_reply": "2020-07-13T11:34:30.433756Z"
    },
    "papermill": {
     "duration": 0.013018,
     "end_time": "2020-07-13T11:34:30.433856",
     "exception": false,
     "start_time": "2020-07-13T11:34:30.420838",
     "status": "completed"
    },
    "tags": []
   },
   "outputs": [],
   "source": [
    "import os\n",
    "cfg = {\n",
    "  \"input_configs\": [\n",
    "    {\n",
    "      \"store_id\": \"@sentinelhub\",\n",
    "      \"data_id\": \"S2L2A\",\n",
    "      \"open_params\": {\n",
    "        \"tile_size\": [\n",
    "          1000,\n",
    "          1000\n",
    "        ]\n",
    "      }\n",
    "    }\n",
    "  ],\n",
    "  \"cube_config\": {\n",
    "    \"variable_names\": [\n",
    "      \"B01\",\n",
    "      \"B02\"\n",
    "    ],\n",
    "    \"bbox\": [\n",
    "      7,\n",
    "      53,\n",
    "      9,\n",
    "      55\n",
    "    ],\n",
    "    \"spatial_res\": 0.001,\n",
    "    \"crs\": \"WGS84\",\n",
    "    \"time_range\": [\n",
    "      \"2000-06-20\",\n",
    "      \"2000-06-22\"\n",
    "    ],\n",
    "    \"time_period\": \"1D\"\n",
    "  },\n",
    "  \"output_config\": {\n",
    "    \"store_id\": \"s3\",\n",
    "    \"store_params\": {\n",
    "      \"bucket_name\": os.environ[\"AWS_BUCKET\"],\n",
    "      \"aws_access_key_id\": os.environ[\"AWS_ACCESS_KEY_ID\"],\n",
    "      \"aws_secret_access_key\": os.environ[\"AWS_SECRET_ACCESS_KEY\"],\n",
    "    }\n",
    "  }\n",
    "}"
   ]
  },
  {
   "cell_type": "markdown",
   "metadata": {
    "papermill": {
     "duration": 0.007272,
     "end_time": "2020-07-13T11:34:30.447175",
     "exception": false,
     "start_time": "2020-07-13T11:34:30.439903",
     "status": "completed"
    },
    "pycharm": {
     "name": "#%% md\n"
    },
    "tags": []
   },
   "source": [
    "## Generating an xcube"
   ]
  },
  {
   "cell_type": "code",
   "execution_count": 6,
   "metadata": {
    "execution": {
     "iopub.execute_input": "2020-07-13T11:34:30.465181Z",
     "iopub.status.busy": "2020-07-13T11:34:30.464637Z",
     "iopub.status.idle": "2020-07-13T11:34:30.537477Z",
     "shell.execute_reply": "2020-07-13T11:34:30.537834Z"
    },
    "papermill": {
     "duration": 0.08462,
     "end_time": "2020-07-13T11:34:30.537942",
     "exception": false,
     "start_time": "2020-07-13T11:34:30.453322",
     "status": "completed"
    },
    "tags": []
   },
   "outputs": [
    {
     "data": {
      "text/plain": [
       "{'result': {'job_id': 'xcube-gen-81cbc435-0a2e-48cf-b021-13463c737379',\n",
       "  'status': {'active': None,\n",
       "   'completion_time': None,\n",
       "   'conditions': None,\n",
       "   'failed': None,\n",
       "   'start_time': None,\n",
       "   'succeeded': None}},\n",
       " 'status': 'ok'}"
      ]
     },
     "execution_count": 6,
     "metadata": {},
     "output_type": "execute_result"
    }
   ],
   "source": [
    "response = api.create(cfg=cfg)\n",
    "job_id = response['result']['job_id']\n",
    "response"
   ]
  },
  {
   "cell_type": "markdown",
   "metadata": {
    "papermill": {
     "duration": 0.0063,
     "end_time": "2020-07-13T11:34:30.550815",
     "exception": false,
     "start_time": "2020-07-13T11:34:30.544515",
     "status": "completed"
    },
    "pycharm": {
     "name": "#%% md\n"
    },
    "tags": []
   },
   "source": [
    "## Getting the Status of a Generation Job"
   ]
  },
  {
   "cell_type": "code",
   "execution_count": 7,
   "metadata": {
    "collapsed": false,
    "execution": {
     "iopub.execute_input": "2020-07-13T11:34:30.567408Z",
     "iopub.status.busy": "2020-07-13T11:34:30.566742Z",
     "iopub.status.idle": "2020-07-13T11:34:33.571424Z",
     "shell.execute_reply": "2020-07-13T11:34:33.570809Z"
    },
    "jupyter": {
     "outputs_hidden": false
    },
    "papermill": {
     "duration": 3.013704,
     "end_time": "2020-07-13T11:34:33.571534",
     "exception": false,
     "start_time": "2020-07-13T11:34:30.557830",
     "status": "completed"
    },
    "pycharm": {
     "name": "#%%\n"
    },
    "tags": []
   },
   "outputs": [],
   "source": [
    "# wait until job has been created\n",
    "import time\n",
    "time.sleep(3)"
   ]
  },
  {
   "cell_type": "code",
   "execution_count": 8,
   "metadata": {
    "execution": {
     "iopub.execute_input": "2020-07-13T11:34:33.590745Z",
     "iopub.status.busy": "2020-07-13T11:34:33.590073Z",
     "iopub.status.idle": "2020-07-13T11:34:33.689480Z",
     "shell.execute_reply": "2020-07-13T11:34:33.688955Z"
    },
    "papermill": {
     "duration": 0.11103,
     "end_time": "2020-07-13T11:34:33.689568",
     "exception": false,
     "start_time": "2020-07-13T11:34:33.578538",
     "status": "completed"
    },
    "tags": []
   },
   "outputs": [
    {
     "data": {
      "text/plain": [
       "{'result': {'job_id': 'xcube-gen-81cbc435-0a2e-48cf-b021-13463c737379',\n",
       "  'output': [],\n",
       "  'status': {'active': 1,\n",
       "   'completion_time': None,\n",
       "   'conditions': None,\n",
       "   'failed': None,\n",
       "   'start_time': 'Mon, 13 Jul 2020 11:34:30 GMT',\n",
       "   'succeeded': None}},\n",
       " 'status': 'ok'}"
      ]
     },
     "execution_count": 8,
     "metadata": {},
     "output_type": "execute_result"
    }
   ],
   "source": [
    "api.status(job_id)"
   ]
  },
  {
   "cell_type": "markdown",
   "metadata": {
    "papermill": {
     "duration": 0.008173,
     "end_time": "2020-07-13T11:34:33.704832",
     "exception": false,
     "start_time": "2020-07-13T11:34:33.696659",
     "status": "completed"
    },
    "pycharm": {
     "name": "#%% md\n"
    },
    "tags": []
   },
   "source": [
    "## Listing my Jobs"
   ]
  },
  {
   "cell_type": "code",
   "execution_count": 9,
   "metadata": {
    "collapsed": false,
    "execution": {
     "iopub.execute_input": "2020-07-13T11:34:33.725770Z",
     "iopub.status.busy": "2020-07-13T11:34:33.725238Z",
     "iopub.status.idle": "2020-07-13T11:34:33.782202Z",
     "shell.execute_reply": "2020-07-13T11:34:33.781747Z"
    },
    "jupyter": {
     "outputs_hidden": false
    },
    "papermill": {
     "duration": 0.069205,
     "end_time": "2020-07-13T11:34:33.782288",
     "exception": false,
     "start_time": "2020-07-13T11:34:33.713083",
     "status": "completed"
    },
    "pycharm": {
     "name": "#%%\n"
    },
    "tags": []
   },
   "outputs": [
    {
     "data": {
      "text/plain": [
       "{'result': [{'job_id': 'xcube-gen-2d35fa63-a104-4b14-b2a6-0dba7fa1d436',\n",
       "   'status': {'active': None,\n",
       "    'completion_time': 'Thu, 09 Jul 2020 09:02:51 GMT',\n",
       "    'failed': None,\n",
       "    'start_time': 'Thu, 09 Jul 2020 09:02:41 GMT',\n",
       "    'succeeded': 1}},\n",
       "  {'job_id': 'xcube-gen-38db633e-3703-433e-b3f1-8d22a0c5ac20',\n",
       "   'status': {'active': None,\n",
       "    'completion_time': None,\n",
       "    'failed': 2,\n",
       "    'start_time': 'Tue, 07 Jul 2020 12:10:32 GMT',\n",
       "    'succeeded': None}},\n",
       "  {'job_id': 'xcube-gen-81cbc435-0a2e-48cf-b021-13463c737379',\n",
       "   'status': {'active': 1,\n",
       "    'completion_time': None,\n",
       "    'failed': None,\n",
       "    'start_time': 'Mon, 13 Jul 2020 11:34:30 GMT',\n",
       "    'succeeded': None}}],\n",
       " 'status': 'ok'}"
      ]
     },
     "execution_count": 9,
     "metadata": {},
     "output_type": "execute_result"
    }
   ],
   "source": [
    "api.list()"
   ]
  },
  {
   "cell_type": "markdown",
   "metadata": {
    "papermill": {
     "duration": 0.00778,
     "end_time": "2020-07-13T11:34:33.797192",
     "exception": false,
     "start_time": "2020-07-13T11:34:33.789412",
     "status": "completed"
    },
    "pycharm": {
     "name": "#%% md\n"
    },
    "tags": []
   },
   "source": [
    "## Deleting a job"
   ]
  },
  {
   "cell_type": "code",
   "execution_count": 10,
   "metadata": {
    "collapsed": false,
    "execution": {
     "iopub.execute_input": "2020-07-13T11:34:33.816588Z",
     "iopub.status.busy": "2020-07-13T11:34:33.815979Z",
     "iopub.status.idle": "2020-07-13T11:34:33.911157Z",
     "shell.execute_reply": "2020-07-13T11:34:33.911509Z"
    },
    "jupyter": {
     "outputs_hidden": false
    },
    "papermill": {
     "duration": 0.107096,
     "end_time": "2020-07-13T11:34:33.911617",
     "exception": false,
     "start_time": "2020-07-13T11:34:33.804521",
     "status": "completed"
    },
    "pycharm": {
     "name": "#%%\n"
    },
    "tags": []
   },
   "outputs": [
    {
     "data": {
      "text/plain": [
       "{'result': 'Success', 'status': 'ok'}"
      ]
     },
     "execution_count": 10,
     "metadata": {},
     "output_type": "execute_result"
    }
   ],
   "source": [
    "api.delete(job_id)"
   ]
  }
 ],
 "metadata": {
  "kernelspec": {
   "display_name": "EuroDataCube 0.19.3 (Python 3)",
   "language": "python",
   "name": "eurodatacube-0.19.3"
  },
  "language_info": {
   "codemirror_mode": {
    "name": "ipython",
    "version": 3
   },
   "file_extension": ".py",
   "mimetype": "text/x-python",
   "name": "python",
   "nbconvert_exporter": "python",
   "pygments_lexer": "ipython3",
   "version": "3.8.3"
  },
  "papermill": {
   "duration": 5.020332,
   "end_time": "2020-07-13T11:34:34.125718",
   "environment_variables": {},
   "exception": null,
   "input_path": "/tmp/tmp9w1sa644",
   "output_path": "/tmp/notebook_output.ipynb",
   "parameters": {},
   "start_time": "2020-07-13T11:34:29.105386",
   "version": "2.1.0"
  },
  "properties": {
   "description": "xcube Generator Python Access Library ",
   "id": "f0a95ae8-27d0-4d0e-b5db-0a97e53926dd",
   "license": null,
   "name": "xcube Generator Python Access Library",
   "requirements": [
    "eurodatacube-xcube-gen"
   ],
   "tags": [
    "xcube"
   ],
   "tosAgree": true,
   "type": "Jupyter Notebook",
   "version": "0.0.1"
  }
 },
 "nbformat": 4,
 "nbformat_minor": 4
}