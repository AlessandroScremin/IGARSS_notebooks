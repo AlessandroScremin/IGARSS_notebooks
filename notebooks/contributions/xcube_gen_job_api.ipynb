{
 "cells": [
  {
   "cell_type": "markdown",
   "metadata": {},
   "source": [
    "<span style=\"color:red; font-family:Helvetica Neue, Helvetica, Arial, sans-serif; font-size:2em;\">An Exception was encountered at 'In [3]'.</span>"
   ]
  },
  {
   "cell_type": "markdown",
   "metadata": {
    "papermill": {
     "duration": 0.009796,
     "end_time": "2020-07-02T14:57:30.110578",
     "exception": false,
     "start_time": "2020-07-02T14:57:30.100782",
     "status": "completed"
    },
    "tags": []
   },
   "source": [
    "<span style=\"color:red; font-family:Helvetica Neue, Helvetica, Arial, sans-serif; font-size:2em;\">An Exception was encountered at 'In [3]'.</span>"
   ]
  },
  {
   "cell_type": "code",
   "execution_count": 1,
   "metadata": {
    "execution": {
     "iopub.execute_input": "2020-07-02T14:57:30.132612Z",
     "iopub.status.busy": "2020-07-02T14:57:30.131864Z",
     "iopub.status.idle": "2020-07-02T14:57:30.245248Z",
     "shell.execute_reply": "2020-07-02T14:57:30.244509Z"
    },
    "papermill": {
     "duration": 0.126146,
     "end_time": "2020-07-02T14:57:30.245409",
     "exception": false,
     "start_time": "2020-07-02T14:57:30.119263",
     "status": "completed"
    },
    "tags": []
   },
   "outputs": [
    {
     "data": {
      "text/markdown": [
       "API credentials have automatically been injected for your active subscriptions.  \n",
       "The following environment variables are now available:\n",
       "\n",
       "------\n"
      ],
      "text/plain": [
       "<IPython.core.display.Markdown object>"
      ]
     },
     "metadata": {},
     "output_type": "display_data"
    }
   ],
   "source": [
    "from edc import setup_environment_variables\n",
    "setup_environment_variables()"
   ]
  },
  {
   "cell_type": "code",
   "execution_count": 2,
   "metadata": {
    "execution": {
     "iopub.execute_input": "2020-07-02T14:57:30.273366Z",
     "iopub.status.busy": "2020-07-02T14:57:30.272590Z",
     "iopub.status.idle": "2020-07-02T14:57:30.275117Z",
     "shell.execute_reply": "2020-07-02T14:57:30.275662Z"
    },
    "papermill": {
     "duration": 0.017314,
     "end_time": "2020-07-02T14:57:30.275792",
     "exception": false,
     "start_time": "2020-07-02T14:57:30.258478",
     "status": "completed"
    },
    "tags": []
   },
   "outputs": [
    {
     "name": "stdout",
     "output_type": "stream",
     "text": [
      "Notebook is compatible\n"
     ]
    }
   ],
   "source": [
    "from edc import check_compatibility\n",
    "check_compatibility(\"v0.18.4\")"
   ]
  },
  {
   "cell_type": "markdown",
   "metadata": {
    "papermill": {
     "duration": 0.010369,
     "end_time": "2020-07-02T14:57:30.297032",
     "exception": false,
     "start_time": "2020-07-02T14:57:30.286663",
     "status": "completed"
    },
    "tags": []
   },
   "source": [
    "## xcube Generator Python Access Library\n",
    "\n",
    "This notebook shows how to generate xcube cube using the xcube-gen web service [xcube-gen.brockmann-consult.de](https://xcube-gen.brockmann-consult.de).\n",
    "Please be aware, this notebook will not run unless you have access to the xcube-gen service as well as a bucket on AWS."
   ]
  },
  {
   "cell_type": "code",
   "execution_count": 3,
   "metadata": {
    "execution": {
     "iopub.execute_input": "2020-07-02T14:57:30.323733Z",
     "iopub.status.busy": "2020-07-02T14:57:30.322585Z",
     "iopub.status.idle": "2020-07-02T14:57:30.388480Z",
     "shell.execute_reply": "2020-07-02T14:57:30.387420Z"
    },
    "papermill": {
     "duration": 0.080873,
     "end_time": "2020-07-02T14:57:30.388649",
     "exception": true,
     "start_time": "2020-07-02T14:57:30.307776",
     "status": "failed"
    },
    "tags": []
   },
   "outputs": [
    {
     "ename": "ModuleNotFoundError",
     "evalue": "No module named 'xcube_gen'",
     "output_type": "error",
     "traceback": [
      "\u001b[0;31m---------------------------------------------------------------------------\u001b[0m",
      "\u001b[0;31mModuleNotFoundError\u001b[0m                       Traceback (most recent call last)",
      "\u001b[0;32m<ipython-input-3-8b27a29fec2f>\u001b[0m in \u001b[0;36m<module>\u001b[0;34m\u001b[0m\n\u001b[0;32m----> 1\u001b[0;31m \u001b[0;32mfrom\u001b[0m \u001b[0mxcube_gen\u001b[0m\u001b[0;34m.\u001b[0m\u001b[0mjobapi\u001b[0m \u001b[0;32mimport\u001b[0m \u001b[0mJobApi\u001b[0m\u001b[0;34m\u001b[0m\u001b[0;34m\u001b[0m\u001b[0m\n\u001b[0m\u001b[1;32m      2\u001b[0m \u001b[0mapi\u001b[0m \u001b[0;34m=\u001b[0m \u001b[0mJobApi\u001b[0m\u001b[0;34m(\u001b[0m\u001b[0;34m)\u001b[0m\u001b[0;34m\u001b[0m\u001b[0;34m\u001b[0m\u001b[0m\n\u001b[1;32m      3\u001b[0m \u001b[0mapi\u001b[0m\u001b[0;34m.\u001b[0m\u001b[0mwhoami\u001b[0m\u001b[0;34m\u001b[0m\u001b[0;34m\u001b[0m\u001b[0m\n",
      "\u001b[0;31mModuleNotFoundError\u001b[0m: No module named 'xcube_gen'"
     ]
    }
   ],
   "source": [
    "from jobapi import JobApi\n",
    "api = JobApi()\n",
    "api.whoami"
   ]
  },
  {
   "cell_type": "markdown",
   "metadata": {
    "papermill": {
     "duration": null,
     "end_time": null,
     "exception": null,
     "start_time": null,
     "status": "pending"
    },
    "pycharm": {
     "name": "#%% md\n"
    },
    "tags": []
   },
   "source": [
    "## Generate a config"
   ]
  },
  {
   "cell_type": "code",
   "execution_count": null,
   "metadata": {
    "papermill": {
     "duration": null,
     "end_time": null,
     "exception": null,
     "start_time": null,
     "status": "pending"
    },
    "tags": []
   },
   "outputs": [],
   "source": [
    "import os\n",
    "cfg = {\n",
    "  \"input_configs\": [\n",
    "    {\n",
    "      \"store_id\": \"@sentinelhub\",\n",
    "      \"data_id\": \"S2L2A\",\n",
    "      \"open_params\": {\n",
    "        \"tile_size\": [\n",
    "          1000,\n",
    "          1000\n",
    "        ]\n",
    "      }\n",
    "    }\n",
    "  ],\n",
    "  \"cube_config\": {\n",
    "    \"variable_names\": [\n",
    "      \"B01\",\n",
    "      \"B02\"\n",
    "    ],\n",
    "    \"bbox\": [\n",
    "      7,\n",
    "      53,\n",
    "      9,\n",
    "      55\n",
    "    ],\n",
    "    \"spatial_res\": 0.001,\n",
    "    \"crs\": \"WGS84\",\n",
    "    \"time_range\": [\n",
    "      \"2000-06-20\",\n",
    "      \"2000-06-22\"\n",
    "    ],\n",
    "    \"time_period\": \"1D\"\n",
    "  },\n",
    "  \"output_config\": {\n",
    "    \"store_id\": \"s3\",\n",
    "    \"store_params\": {\n",
    "      \"bucket_name\": os.environ[\"AWS_BUCKET\"],\n",
    "      \"aws_access_key_id\": os.environ[\"AWS_ACCESS_KEY_ID\"],\n",
    "      \"aws_secret_access_key\": os.environ[\"AWS_SECRET_ACCESS_KEY\"],\n",
    "    }\n",
    "  }\n",
    "}"
   ]
  },
  {
   "cell_type": "markdown",
   "metadata": {
    "papermill": {
     "duration": null,
     "end_time": null,
     "exception": null,
     "start_time": null,
     "status": "pending"
    },
    "pycharm": {
     "name": "#%% md\n"
    },
    "tags": []
   },
   "source": [
    "## Generating an xcube"
   ]
  },
  {
   "cell_type": "code",
   "execution_count": null,
   "metadata": {
    "papermill": {
     "duration": null,
     "end_time": null,
     "exception": null,
     "start_time": null,
     "status": "pending"
    },
    "tags": []
   },
   "outputs": [],
   "source": [
    "api.create(cfg=cfg)"
   ]
  },
  {
   "cell_type": "markdown",
   "metadata": {
    "papermill": {
     "duration": null,
     "end_time": null,
     "exception": null,
     "start_time": null,
     "status": "pending"
    },
    "pycharm": {
     "name": "#%% md\n"
    },
    "tags": []
   },
   "source": [
    "## Getting the Status of a Generation Job"
   ]
  },
  {
   "cell_type": "code",
   "execution_count": null,
   "metadata": {
    "jupyter": {
     "outputs_hidden": false
    },
    "papermill": {
     "duration": null,
     "end_time": null,
     "exception": null,
     "start_time": null,
     "status": "pending"
    },
    "pycharm": {
     "name": "#%%\n"
    },
    "tags": []
   },
   "outputs": [],
   "source": [
    "api.status('xcube-gen-08bc03f4-c995-45d9-ae81-16e90fc03017')"
   ]
  },
  {
   "cell_type": "markdown",
   "metadata": {
    "papermill": {
     "duration": null,
     "end_time": null,
     "exception": null,
     "start_time": null,
     "status": "pending"
    },
    "pycharm": {
     "name": "#%% md\n"
    },
    "tags": []
   },
   "source": [
    "## Listing my Jobs"
   ]
  },
  {
   "cell_type": "code",
   "execution_count": null,
   "metadata": {
    "jupyter": {
     "outputs_hidden": false
    },
    "papermill": {
     "duration": null,
     "end_time": null,
     "exception": null,
     "start_time": null,
     "status": "pending"
    },
    "pycharm": {
     "name": "#%%\n"
    },
    "tags": []
   },
   "outputs": [],
   "source": [
    "api.list()"
   ]
  },
  {
   "cell_type": "markdown",
   "metadata": {
    "papermill": {
     "duration": null,
     "end_time": null,
     "exception": null,
     "start_time": null,
     "status": "pending"
    },
    "pycharm": {
     "name": "#%% md\n"
    },
    "tags": []
   },
   "source": [
    "## Deleting a job"
   ]
  },
  {
   "cell_type": "code",
   "execution_count": null,
   "metadata": {
    "jupyter": {
     "outputs_hidden": false
    },
    "papermill": {
     "duration": null,
     "end_time": null,
     "exception": null,
     "start_time": null,
     "status": "pending"
    },
    "pycharm": {
     "name": "#%%\n"
    },
    "tags": []
   },
   "outputs": [],
   "source": [
    "api.delete('xcube-gen-08bc03f4-c995-45d9-ae81-16e90fc03017')"
   ]
  }
 ],
 "metadata": {
  "kernelspec": {
   "display_name": "Python 3",
   "language": "python",
   "name": "python3"
  },
  "language_info": {
   "codemirror_mode": {
    "name": "ipython",
    "version": 3
   },
   "file_extension": ".py",
   "mimetype": "text/x-python",
   "name": "python",
   "nbconvert_exporter": "python",
   "pygments_lexer": "ipython3",
   "version": "3.7.6"
  },
  "papermill": {
   "duration": 1.354599,
   "end_time": "2020-07-02T14:57:30.592478",
   "environment_variables": {},
   "exception": true,
   "input_path": "/tmp/tmpdu1stq03",
   "output_path": "/tmp/notebook_output.ipynb",
   "parameters": {},
   "start_time": "2020-07-02T14:57:29.237879",
   "version": "2.1.0"
  },
  "properties": {
   "authors": [
    {
     "id": "eb7fa88c-36a4-4b5f-959f-c7869d5acda8",
     "name": "bernhard.mallinger@eox.at"
    }
   ],
   "description": "xcube Generator Python Access Library ",
   "id": "f0a95ae8-27d0-4d0e-b5db-0a97e53926dd",
   "license": null,
   "name": "xcube Generator Python Access Library",
   "requirements": [],
   "tags": [
    "xcube"
   ],
   "tosAgree": true,
   "type": "Jupyter Notebook",
   "version": "0.0.1"
  }
 },
 "nbformat": 4,
 "nbformat_minor": 4
}
