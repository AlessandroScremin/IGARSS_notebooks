{
 "cells": [
  {
   "cell_type": "code",
   "execution_count": 1,
   "metadata": {
    "execution": {
     "iopub.execute_input": "2020-08-31T12:38:13.699269Z",
     "iopub.status.busy": "2020-08-31T12:38:13.698169Z",
     "iopub.status.idle": "2020-08-31T12:38:13.767687Z",
     "shell.execute_reply": "2020-08-31T12:38:13.768253Z"
    },
    "papermill": {
     "duration": 0.085693,
     "end_time": "2020-08-31T12:38:13.768495",
     "exception": false,
     "start_time": "2020-08-31T12:38:13.682802",
     "status": "completed"
    },
    "tags": []
   },
   "outputs": [
    {
     "data": {
      "text/markdown": [
       "API credentials have automatically been injected for your active subscriptions.  \n",
       "The following environment variables are now available:\n",
       "* `AWS_ACCESS_KEY_ID`, `AWS_BUCKET`, `AWS_SECRET_ACCESS_KEY`\n",
       "* `XCUBE_GEN_API_SERVER_PORT`, `XCUBE_GEN_API_SERVER_URL`, `XCUBE_GEN_API_USER_NAME`, `XCUBE_GEN_AUTH_AUD`, `XCUBE_GEN_AUTH_CLIENT_ID`, `XCUBE_GEN_AUTH_CLIENT_SECRET`, `XCUBE_GEN_AUTH_DOMAIN`\n",
       "\n",
       "The following additional environment variables have been loaded from `~/custom.env`:\n",
       "* `AWS_BUCKET`\n",
       "* `DAPA_URL`\n",
       "* `DB_HOST`, `DB_NAME`, `DB_PASSWORD`, `DB_USER`\n",
       "* `OGC_EDC_URL`\n",
       "* `REFERENCE_DATA`\n"
      ],
      "text/plain": [
       "<IPython.core.display.Markdown object>"
      ]
     },
     "metadata": {},
     "output_type": "display_data"
    }
   ],
   "source": [
    "from edc import setup_environment_variables\n",
    "setup_environment_variables()"
   ]
  },
  {
   "cell_type": "code",
   "execution_count": 2,
   "metadata": {
    "execution": {
     "iopub.execute_input": "2020-08-31T12:38:13.797681Z",
     "iopub.status.busy": "2020-08-31T12:38:13.796157Z",
     "iopub.status.idle": "2020-08-31T12:38:13.801382Z",
     "shell.execute_reply": "2020-08-31T12:38:13.801920Z"
    },
    "papermill": {
     "duration": 0.022585,
     "end_time": "2020-08-31T12:38:13.802076",
     "exception": false,
     "start_time": "2020-08-31T12:38:13.779491",
     "status": "completed"
    },
    "tags": []
   },
   "outputs": [
    {
     "data": {
      "text/html": [
       "<script type=\"text/javascript\">\n",
       "        function toggle(id) {\n",
       "            el = document.getElementById(id);\n",
       "            el.style.display = el.style.display === \"none\" ? \"block\" : \"none\";\n",
       "        }\n",
       "    </script>"
      ],
      "text/plain": [
       "<IPython.core.display.HTML object>"
      ]
     },
     "metadata": {},
     "output_type": "display_data"
    },
    {
     "data": {
      "text/html": [
       "This notebook is compatible with this base image version (user-0.20.1)."
      ],
      "text/plain": [
       "<IPython.core.display.HTML object>"
      ]
     },
     "metadata": {},
     "output_type": "display_data"
    }
   ],
   "source": [
    "from edc import check_compatibility\n",
    "check_compatibility(\"user-0.20.1\")"
   ]
  },
  {
   "cell_type": "markdown",
   "metadata": {
    "papermill": {
     "duration": 0.012289,
     "end_time": "2020-08-31T12:38:13.826362",
     "exception": false,
     "start_time": "2020-08-31T12:38:13.814073",
     "status": "completed"
    },
    "tags": []
   },
   "source": [
    "## xcube Generator Python Access Library\n",
    "\n",
    "This notebook shows how to generate xcube cube using the xcube-gen web service [xcube-gen.brockmann-consult.de](https://xcube-gen.brockmann-consult.de).\n",
    "Please be aware, this notebook will not run unless you have access to the xcube-gen service as well as a bucket on AWS."
   ]
  },
  {
   "cell_type": "code",
   "execution_count": 3,
   "metadata": {
    "execution": {
     "iopub.execute_input": "2020-08-31T12:38:13.857338Z",
     "iopub.status.busy": "2020-08-31T12:38:13.855958Z",
     "iopub.status.idle": "2020-08-31T12:38:14.024916Z",
     "shell.execute_reply": "2020-08-31T12:38:14.023952Z"
    },
    "papermill": {
     "duration": 0.186589,
     "end_time": "2020-08-31T12:38:14.025116",
     "exception": false,
     "start_time": "2020-08-31T12:38:13.838527",
     "status": "completed"
    },
    "tags": []
   },
   "outputs": [
    {
     "data": {
      "text/plain": [
       "'hub@eox.at'"
      ]
     },
     "execution_count": 3,
     "metadata": {},
     "output_type": "execute_result"
    }
   ],
   "source": [
    "from job_api import JobApi\n",
    "api = JobApi()\n",
    "api.whoami"
   ]
  },
  {
   "cell_type": "markdown",
   "metadata": {
    "papermill": {
     "duration": 0.012674,
     "end_time": "2020-08-31T12:38:14.050514",
     "exception": false,
     "start_time": "2020-08-31T12:38:14.037840",
     "status": "completed"
    },
    "pycharm": {
     "name": "#%% md\n"
    },
    "tags": []
   },
   "source": [
    "## Generate a config"
   ]
  },
  {
   "cell_type": "code",
   "execution_count": 4,
   "metadata": {
    "execution": {
     "iopub.execute_input": "2020-08-31T12:38:14.084863Z",
     "iopub.status.busy": "2020-08-31T12:38:14.083473Z",
     "iopub.status.idle": "2020-08-31T12:38:14.087788Z",
     "shell.execute_reply": "2020-08-31T12:38:14.088449Z"
    },
    "papermill": {
     "duration": 0.025082,
     "end_time": "2020-08-31T12:38:14.088617",
     "exception": false,
     "start_time": "2020-08-31T12:38:14.063535",
     "status": "completed"
    },
    "tags": []
   },
   "outputs": [],
   "source": [
    "import os\n",
    "cfg = {\n",
    "  \"input_configs\": [\n",
    "    {\n",
    "      \"store_id\": \"@sentinelhub\",\n",
    "      \"data_id\": \"S2L2A\",\n",
    "      \"open_params\": {\n",
    "        \"tile_size\": [\n",
    "          1000,\n",
    "          1000\n",
    "        ]\n",
    "      }\n",
    "    }\n",
    "  ],\n",
    "  \"cube_config\": {\n",
    "    \"variable_names\": [\n",
    "      \"B01\",\n",
    "      \"B02\"\n",
    "    ],\n",
    "    \"bbox\": [\n",
    "      7,\n",
    "      53,\n",
    "      9,\n",
    "      55\n",
    "    ],\n",
    "    \"spatial_res\": 0.001,\n",
    "    \"crs\": \"WGS84\",\n",
    "    \"time_range\": [\n",
    "      \"2000-06-20\",\n",
    "      \"2000-06-22\"\n",
    "    ],\n",
    "    \"time_period\": \"1D\"\n",
    "  },\n",
    "  \"output_config\": {\n",
    "    \"store_id\": \"s3\",\n",
    "    \"store_params\": {\n",
    "      \"bucket_name\": os.environ[\"AWS_BUCKET\"],\n",
    "      \"aws_access_key_id\": os.environ[\"AWS_ACCESS_KEY_ID\"],\n",
    "      \"aws_secret_access_key\": os.environ[\"AWS_SECRET_ACCESS_KEY\"],\n",
    "    }\n",
    "  }\n",
    "}"
   ]
  },
  {
   "cell_type": "markdown",
   "metadata": {
    "papermill": {
     "duration": 0.012601,
     "end_time": "2020-08-31T12:38:14.114416",
     "exception": false,
     "start_time": "2020-08-31T12:38:14.101815",
     "status": "completed"
    },
    "pycharm": {
     "name": "#%% md\n"
    },
    "tags": []
   },
   "source": [
    "## Generating an xcube"
   ]
  },
  {
   "cell_type": "code",
   "execution_count": 5,
   "metadata": {
    "execution": {
     "iopub.execute_input": "2020-08-31T12:38:14.149188Z",
     "iopub.status.busy": "2020-08-31T12:38:14.147832Z",
     "iopub.status.idle": "2020-08-31T12:38:14.291957Z",
     "shell.execute_reply": "2020-08-31T12:38:14.292535Z"
    },
    "papermill": {
     "duration": 0.165315,
     "end_time": "2020-08-31T12:38:14.292703",
     "exception": false,
     "start_time": "2020-08-31T12:38:14.127388",
     "status": "completed"
    },
    "tags": []
   },
   "outputs": [
    {
     "data": {
      "text/plain": [
       "{'result': {'job_id': 'xcube-gen-6496e052-2ed5-47aa-857a-58eacde2ddde',\n",
       "  'status': {'active': None,\n",
       "   'completion_time': None,\n",
       "   'conditions': None,\n",
       "   'failed': None,\n",
       "   'start_time': None,\n",
       "   'succeeded': None}},\n",
       " 'status': 'ok'}"
      ]
     },
     "execution_count": 5,
     "metadata": {},
     "output_type": "execute_result"
    }
   ],
   "source": [
    "response = api.create(cfg=cfg)\n",
    "job_id = response['result']['job_id']\n",
    "response"
   ]
  },
  {
   "cell_type": "markdown",
   "metadata": {
    "papermill": {
     "duration": 0.012818,
     "end_time": "2020-08-31T12:38:14.318538",
     "exception": false,
     "start_time": "2020-08-31T12:38:14.305720",
     "status": "completed"
    },
    "pycharm": {
     "name": "#%% md\n"
    },
    "tags": []
   },
   "source": [
    "## Getting the Status of a Generation Job"
   ]
  },
  {
   "cell_type": "code",
   "execution_count": 6,
   "metadata": {
    "collapsed": false,
    "execution": {
     "iopub.execute_input": "2020-08-31T12:38:14.362864Z",
     "iopub.status.busy": "2020-08-31T12:38:14.361995Z",
     "iopub.status.idle": "2020-08-31T12:38:22.368627Z",
     "shell.execute_reply": "2020-08-31T12:38:22.369293Z"
    },
    "jupyter": {
     "outputs_hidden": false
    },
    "papermill": {
     "duration": 8.03385,
     "end_time": "2020-08-31T12:38:22.369517",
     "exception": false,
     "start_time": "2020-08-31T12:38:14.335667",
     "status": "completed"
    },
    "pycharm": {
     "name": "#%%\n"
    },
    "tags": []
   },
   "outputs": [],
   "source": [
    "# wait until job has been created\n",
    "import time\n",
    "time.sleep(8)"
   ]
  },
  {
   "cell_type": "code",
   "execution_count": 7,
   "metadata": {
    "execution": {
     "iopub.execute_input": "2020-08-31T12:38:22.406835Z",
     "iopub.status.busy": "2020-08-31T12:38:22.405812Z",
     "iopub.status.idle": "2020-08-31T12:38:22.529680Z",
     "shell.execute_reply": "2020-08-31T12:38:22.530233Z"
    },
    "papermill": {
     "duration": 0.146251,
     "end_time": "2020-08-31T12:38:22.530404",
     "exception": false,
     "start_time": "2020-08-31T12:38:22.384153",
     "status": "completed"
    },
    "tags": []
   },
   "outputs": [
    {
     "data": {
      "text/plain": [
       "{'result': {'job_id': 'xcube-gen-6496e052-2ed5-47aa-857a-58eacde2ddde',\n",
       "  'output': [],\n",
       "  'status': {'active': 1,\n",
       "   'completion_time': None,\n",
       "   'conditions': None,\n",
       "   'failed': None,\n",
       "   'start_time': 'Mon, 31 Aug 2020 12:38:14 GMT',\n",
       "   'succeeded': None}},\n",
       " 'status': 'ok'}"
      ]
     },
     "execution_count": 7,
     "metadata": {},
     "output_type": "execute_result"
    }
   ],
   "source": [
    "api.status(job_id)"
   ]
  },
  {
   "cell_type": "markdown",
   "metadata": {
    "papermill": {
     "duration": 0.013413,
     "end_time": "2020-08-31T12:38:22.557388",
     "exception": false,
     "start_time": "2020-08-31T12:38:22.543975",
     "status": "completed"
    },
    "pycharm": {
     "name": "#%% md\n"
    },
    "tags": []
   },
   "source": [
    "## Listing my Jobs"
   ]
  },
  {
   "cell_type": "code",
   "execution_count": 8,
   "metadata": {
    "collapsed": false,
    "execution": {
     "iopub.execute_input": "2020-08-31T12:38:22.601823Z",
     "iopub.status.busy": "2020-08-31T12:38:22.600924Z",
     "iopub.status.idle": "2020-08-31T12:38:22.708084Z",
     "shell.execute_reply": "2020-08-31T12:38:22.707175Z"
    },
    "jupyter": {
     "outputs_hidden": false
    },
    "papermill": {
     "duration": 0.136925,
     "end_time": "2020-08-31T12:38:22.708284",
     "exception": false,
     "start_time": "2020-08-31T12:38:22.571359",
     "status": "completed"
    },
    "pycharm": {
     "name": "#%%\n"
    },
    "tags": []
   },
   "outputs": [
    {
     "data": {
      "text/plain": [
       "{'result': [{'job_id': 'xcube-gen-2d35fa63-a104-4b14-b2a6-0dba7fa1d436',\n",
       "   'status': {'active': None,\n",
       "    'completion_time': 'Thu, 09 Jul 2020 09:02:51 GMT',\n",
       "    'failed': None,\n",
       "    'start_time': 'Thu, 09 Jul 2020 09:02:41 GMT',\n",
       "    'succeeded': 1}},\n",
       "  {'job_id': 'xcube-gen-38db633e-3703-433e-b3f1-8d22a0c5ac20',\n",
       "   'status': {'active': None,\n",
       "    'completion_time': None,\n",
       "    'failed': 2,\n",
       "    'start_time': 'Tue, 07 Jul 2020 12:10:32 GMT',\n",
       "    'succeeded': None}},\n",
       "  {'job_id': 'xcube-gen-6496e052-2ed5-47aa-857a-58eacde2ddde',\n",
       "   'status': {'active': 1,\n",
       "    'completion_time': None,\n",
       "    'failed': None,\n",
       "    'start_time': 'Mon, 31 Aug 2020 12:38:14 GMT',\n",
       "    'succeeded': None}},\n",
       "  {'job_id': 'xcube-gen-91d670d5-fd8a-42ab-9b31-4fe48e4353ea',\n",
       "   'status': {'active': None,\n",
       "    'completion_time': 'Mon, 13 Jul 2020 11:35:47 GMT',\n",
       "    'failed': None,\n",
       "    'start_time': 'Mon, 13 Jul 2020 11:35:32 GMT',\n",
       "    'succeeded': 1}}],\n",
       " 'status': 'ok'}"
      ]
     },
     "execution_count": 8,
     "metadata": {},
     "output_type": "execute_result"
    }
   ],
   "source": [
    "api.list()"
   ]
  },
  {
   "cell_type": "markdown",
   "metadata": {
    "papermill": {
     "duration": 0.013728,
     "end_time": "2020-08-31T12:38:22.736139",
     "exception": false,
     "start_time": "2020-08-31T12:38:22.722411",
     "status": "completed"
    },
    "pycharm": {
     "name": "#%% md\n"
    },
    "tags": []
   },
   "source": [
    "## Deleting a job"
   ]
  },
  {
   "cell_type": "code",
   "execution_count": 9,
   "metadata": {
    "collapsed": false,
    "execution": {
     "iopub.execute_input": "2020-08-31T12:38:22.768709Z",
     "iopub.status.busy": "2020-08-31T12:38:22.767522Z",
     "iopub.status.idle": "2020-08-31T12:38:22.865066Z",
     "shell.execute_reply": "2020-08-31T12:38:22.864240Z"
    },
    "jupyter": {
     "outputs_hidden": false
    },
    "papermill": {
     "duration": 0.115635,
     "end_time": "2020-08-31T12:38:22.865268",
     "exception": false,
     "start_time": "2020-08-31T12:38:22.749633",
     "status": "completed"
    },
    "pycharm": {
     "name": "#%%\n"
    },
    "tags": []
   },
   "outputs": [
    {
     "data": {
      "text/plain": [
       "{'result': 'Success', 'status': 'ok'}"
      ]
     },
     "execution_count": 9,
     "metadata": {},
     "output_type": "execute_result"
    }
   ],
   "source": [
    "api.delete(job_id)"
   ]
  }
 ],
 "metadata": {
  "kernelspec": {
   "display_name": "EDC 0.19.6 (Python 3)",
   "language": "python",
   "name": "eurodatacube-0.19.6"
  },
  "language_info": {
   "codemirror_mode": {
    "name": "ipython",
    "version": 3
   },
   "file_extension": ".py",
   "mimetype": "text/x-python",
   "name": "python",
   "nbconvert_exporter": "python",
   "pygments_lexer": "ipython3",
   "version": "3.7.8"
  },
  "papermill": {
   "duration": 10.320182,
   "end_time": "2020-08-31T12:38:23.186551",
   "environment_variables": {},
   "exception": null,
   "input_path": "/tmp/tmpygfu_8dt",
   "output_path": "/tmp/cur_notebook.ipynb",
   "parameters": {},
   "start_time": "2020-08-31T12:38:12.866369",
   "version": "2.1.0"
  },
  "properties": {
   "description": "xcube Generator Python Access Library ",
   "id": "f0a95ae8-27d0-4d0e-b5db-0a97e53926dd",
   "license": null,
   "name": "xcube Generator Python Access Library",
   "requirements": [
    "eurodatacube-xcube-gen"
   ],
   "tags": [
    "xcube"
   ],
   "tosAgree": true,
   "type": "Jupyter Notebook",
   "version": "0.0.1"
  }
 },
 "nbformat": 4,
 "nbformat_minor": 4
}