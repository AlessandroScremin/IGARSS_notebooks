{
 "cells": [
  {
   "cell_type": "markdown",
   "metadata": {
    "tags": [
     "papermill-error-cell-tag"
    ]
   },
   "source": [
    "<span style=\"color:red; font-family:Helvetica Neue, Helvetica, Arial, sans-serif; font-size:2em;\">An Exception was encountered at '<a href=\"#papermill-error-cell\">In [8]</a>'.</span>"
   ]
  },
  {
   "cell_type": "code",
   "execution_count": 1,
   "metadata": {
    "execution": {
     "iopub.execute_input": "2020-07-13T11:35:32.159220Z",
     "iopub.status.busy": "2020-07-13T11:35:32.158311Z",
     "iopub.status.idle": "2020-07-13T11:35:32.232360Z",
     "shell.execute_reply": "2020-07-13T11:35:32.231594Z"
    },
    "papermill": {
     "duration": 0.089919,
     "end_time": "2020-07-13T11:35:32.232490",
     "exception": false,
     "start_time": "2020-07-13T11:35:32.142571",
     "status": "completed"
    },
    "tags": []
   },
   "outputs": [
    {
     "data": {
      "text/markdown": [
       "API credentials have automatically been injected for your active subscriptions.  \n",
       "The following environment variables are now available:\n",
       "* `AWS_ACCESS_KEY_ID`, `AWS_BUCKET`, `AWS_SECRET_ACCESS_KEY`\n",
       "* `XCUBE_GEN_API_SERVER_PORT`, `XCUBE_GEN_API_SERVER_URL`, `XCUBE_GEN_AUTH_AUD`, `XCUBE_GEN_AUTH_CLIENT_ID`, `XCUBE_GEN_AUTH_CLIENT_SECRET`, `XCUBE_GEN_AUTH_DOMAIN`, `XCUBE_GEN_USER`\n",
       "\n",
       "The following additional environment variables have been loaded from `~/custom.env`:\n",
       "* `AWS_BUCKET`\n",
       "* `DAPA_URL`\n",
       "* `DB_HOST`, `DB_NAME`, `DB_PASSWORD`, `DB_USER`\n",
       "* `OGC_EDC_URL`\n",
       "* `REFERENCE_DATA`\n"
      ],
      "text/plain": [
       "<IPython.core.display.Markdown object>"
      ]
     },
     "metadata": {},
     "output_type": "display_data"
    }
   ],
   "source": [
    "from edc import setup_environment_variables\n",
    "setup_environment_variables()"
   ]
  },
  {
   "cell_type": "code",
   "execution_count": 2,
   "metadata": {
    "execution": {
     "iopub.execute_input": "2020-07-13T11:35:32.262813Z",
     "iopub.status.busy": "2020-07-13T11:35:32.261982Z",
     "iopub.status.idle": "2020-07-13T11:35:32.264570Z",
     "shell.execute_reply": "2020-07-13T11:35:32.263876Z"
    },
    "papermill": {
     "duration": 0.021617,
     "end_time": "2020-07-13T11:35:32.264697",
     "exception": false,
     "start_time": "2020-07-13T11:35:32.243080",
     "status": "completed"
    },
    "tags": []
   },
   "outputs": [],
   "source": [
    "import os\n",
    "os.environ[\"XCUBE_GEN_API_USER_NAME\"] = os.environ[\"XCUBE_GEN_USER\"]"
   ]
  },
  {
   "cell_type": "code",
   "execution_count": 3,
   "metadata": {
    "execution": {
     "iopub.execute_input": "2020-07-13T11:35:32.290294Z",
     "iopub.status.busy": "2020-07-13T11:35:32.289222Z",
     "iopub.status.idle": "2020-07-13T11:35:32.293863Z",
     "shell.execute_reply": "2020-07-13T11:35:32.293032Z"
    },
    "papermill": {
     "duration": 0.019133,
     "end_time": "2020-07-13T11:35:32.293997",
     "exception": false,
     "start_time": "2020-07-13T11:35:32.274864",
     "status": "completed"
    },
    "tags": []
   },
   "outputs": [
    {
     "data": {
      "text/markdown": [
       "This notebook is compatible with this base image version (user-0.19.4)."
      ],
      "text/plain": [
       "<IPython.core.display.Markdown object>"
      ]
     },
     "metadata": {},
     "output_type": "display_data"
    }
   ],
   "source": [
    "from edc import check_compatibility\n",
    "check_compatibility(\"user-0.19.4\")"
   ]
  },
  {
   "cell_type": "markdown",
   "metadata": {
    "papermill": {
     "duration": 0.011099,
     "end_time": "2020-07-13T11:35:32.316718",
     "exception": false,
     "start_time": "2020-07-13T11:35:32.305619",
     "status": "completed"
    },
    "tags": []
   },
   "source": [
    "## xcube Generator Python Access Library\n",
    "\n",
    "This notebook shows how to generate xcube cube using the xcube-gen web service [xcube-gen.brockmann-consult.de](https://xcube-gen.brockmann-consult.de).\n",
    "Please be aware, this notebook will not run unless you have access to the xcube-gen service as well as a bucket on AWS."
   ]
  },
  {
   "cell_type": "code",
   "execution_count": 4,
   "metadata": {
    "execution": {
     "iopub.execute_input": "2020-07-13T11:35:32.356098Z",
     "iopub.status.busy": "2020-07-13T11:35:32.355158Z",
     "iopub.status.idle": "2020-07-13T11:35:32.484116Z",
     "shell.execute_reply": "2020-07-13T11:35:32.483357Z"
    },
    "papermill": {
     "duration": 0.156432,
     "end_time": "2020-07-13T11:35:32.484239",
     "exception": false,
     "start_time": "2020-07-13T11:35:32.327807",
     "status": "completed"
    },
    "tags": []
   },
   "outputs": [
    {
     "data": {
      "text/plain": [
       "'hub@eox.at'"
      ]
     },
     "execution_count": 4,
     "metadata": {},
     "output_type": "execute_result"
    }
   ],
   "source": [
    "from job_api import JobApi\n",
    "api = JobApi()\n",
    "api.whoami"
   ]
  },
  {
   "cell_type": "markdown",
   "metadata": {
    "papermill": {
     "duration": 0.011885,
     "end_time": "2020-07-13T11:35:32.507969",
     "exception": false,
     "start_time": "2020-07-13T11:35:32.496084",
     "status": "completed"
    },
    "pycharm": {
     "name": "#%% md\n"
    },
    "tags": []
   },
   "source": [
    "## Generate a config"
   ]
  },
  {
   "cell_type": "code",
   "execution_count": 5,
   "metadata": {
    "execution": {
     "iopub.execute_input": "2020-07-13T11:35:32.538522Z",
     "iopub.status.busy": "2020-07-13T11:35:32.537664Z",
     "iopub.status.idle": "2020-07-13T11:35:32.540072Z",
     "shell.execute_reply": "2020-07-13T11:35:32.540552Z"
    },
    "papermill": {
     "duration": 0.020632,
     "end_time": "2020-07-13T11:35:32.540682",
     "exception": false,
     "start_time": "2020-07-13T11:35:32.520050",
     "status": "completed"
    },
    "tags": []
   },
   "outputs": [],
   "source": [
    "import os\n",
    "cfg = {\n",
    "  \"input_configs\": [\n",
    "    {\n",
    "      \"store_id\": \"@sentinelhub\",\n",
    "      \"data_id\": \"S2L2A\",\n",
    "      \"open_params\": {\n",
    "        \"tile_size\": [\n",
    "          1000,\n",
    "          1000\n",
    "        ]\n",
    "      }\n",
    "    }\n",
    "  ],\n",
    "  \"cube_config\": {\n",
    "    \"variable_names\": [\n",
    "      \"B01\",\n",
    "      \"B02\"\n",
    "    ],\n",
    "    \"bbox\": [\n",
    "      7,\n",
    "      53,\n",
    "      9,\n",
    "      55\n",
    "    ],\n",
    "    \"spatial_res\": 0.001,\n",
    "    \"crs\": \"WGS84\",\n",
    "    \"time_range\": [\n",
    "      \"2000-06-20\",\n",
    "      \"2000-06-22\"\n",
    "    ],\n",
    "    \"time_period\": \"1D\"\n",
    "  },\n",
    "  \"output_config\": {\n",
    "    \"store_id\": \"s3\",\n",
    "    \"store_params\": {\n",
    "      \"bucket_name\": os.environ[\"AWS_BUCKET\"],\n",
    "      \"aws_access_key_id\": os.environ[\"AWS_ACCESS_KEY_ID\"],\n",
    "      \"aws_secret_access_key\": os.environ[\"AWS_SECRET_ACCESS_KEY\"],\n",
    "    }\n",
    "  }\n",
    "}"
   ]
  },
  {
   "cell_type": "markdown",
   "metadata": {
    "papermill": {
     "duration": 0.011396,
     "end_time": "2020-07-13T11:35:32.563279",
     "exception": false,
     "start_time": "2020-07-13T11:35:32.551883",
     "status": "completed"
    },
    "pycharm": {
     "name": "#%% md\n"
    },
    "tags": []
   },
   "source": [
    "## Generating an xcube"
   ]
  },
  {
   "cell_type": "code",
   "execution_count": 6,
   "metadata": {
    "execution": {
     "iopub.execute_input": "2020-07-13T11:35:32.593016Z",
     "iopub.status.busy": "2020-07-13T11:35:32.592273Z",
     "iopub.status.idle": "2020-07-13T11:35:32.706634Z",
     "shell.execute_reply": "2020-07-13T11:35:32.706009Z"
    },
    "papermill": {
     "duration": 0.132317,
     "end_time": "2020-07-13T11:35:32.706794",
     "exception": false,
     "start_time": "2020-07-13T11:35:32.574477",
     "status": "completed"
    },
    "tags": []
   },
   "outputs": [
    {
     "data": {
      "text/plain": [
       "{'result': {'job_id': 'xcube-gen-91d670d5-fd8a-42ab-9b31-4fe48e4353ea',\n",
       "  'status': {'active': None,\n",
       "   'completion_time': None,\n",
       "   'conditions': None,\n",
       "   'failed': None,\n",
       "   'start_time': None,\n",
       "   'succeeded': None}},\n",
       " 'status': 'ok'}"
      ]
     },
     "execution_count": 6,
     "metadata": {},
     "output_type": "execute_result"
    }
   ],
   "source": [
    "response = api.create(cfg=cfg)\n",
    "job_id = response['result']['job_id']\n",
    "response"
   ]
  },
  {
   "cell_type": "markdown",
   "metadata": {
    "papermill": {
     "duration": 0.01156,
     "end_time": "2020-07-13T11:35:32.730347",
     "exception": false,
     "start_time": "2020-07-13T11:35:32.718787",
     "status": "completed"
    },
    "pycharm": {
     "name": "#%% md\n"
    },
    "tags": []
   },
   "source": [
    "## Getting the Status of a Generation Job"
   ]
  },
  {
   "cell_type": "code",
   "execution_count": 7,
   "metadata": {
    "collapsed": false,
    "execution": {
     "iopub.execute_input": "2020-07-13T11:35:32.762426Z",
     "iopub.status.busy": "2020-07-13T11:35:32.761683Z",
     "iopub.status.idle": "2020-07-13T11:35:35.767369Z",
     "shell.execute_reply": "2020-07-13T11:35:35.766391Z"
    },
    "jupyter": {
     "outputs_hidden": false
    },
    "papermill": {
     "duration": 3.023305,
     "end_time": "2020-07-13T11:35:35.767498",
     "exception": false,
     "start_time": "2020-07-13T11:35:32.744193",
     "status": "completed"
    },
    "pycharm": {
     "name": "#%%\n"
    },
    "tags": []
   },
   "outputs": [],
   "source": [
    "# wait until job has been created\n",
    "import time\n",
    "time.sleep(3)"
   ]
  },
  {
   "cell_type": "markdown",
   "metadata": {
    "tags": [
     "papermill-error-cell-tag"
    ]
   },
   "source": [
    "<span id=\"papermill-error-cell\" style=\"color:red; font-family:Helvetica Neue, Helvetica, Arial, sans-serif; font-size:2em;\">Execution using papermill encountered an exception here and stopped:</span>"
   ]
  },
  {
   "cell_type": "code",
   "execution_count": 8,
   "metadata": {
    "execution": {
     "iopub.execute_input": "2020-07-13T11:35:35.798992Z",
     "iopub.status.busy": "2020-07-13T11:35:35.798153Z",
     "iopub.status.idle": "2020-07-13T11:35:35.979604Z",
     "shell.execute_reply": "2020-07-13T11:35:35.978292Z"
    },
    "papermill": {
     "duration": 0.200056,
     "end_time": "2020-07-13T11:35:35.979756",
     "exception": true,
     "start_time": "2020-07-13T11:35:35.779700",
     "status": "failed"
    },
    "tags": []
   },
   "outputs": [
    {
     "ename": "HTTPError",
     "evalue": "400 Client Error: BAD REQUEST for url: https://xcube-gen.brockmann-consult.de:443/api/v1/jobs/afe36e3e76ff3e2e6bebd5a3f85498c78/xcube-gen-91d670d5-fd8a-42ab-9b31-4fe48e4353ea",
     "output_type": "error",
     "traceback": [
      "\u001b[0;31m---------------------------------------------------------------------------\u001b[0m",
      "\u001b[0;31mHTTPError\u001b[0m                                 Traceback (most recent call last)",
      "\u001b[0;32m<ipython-input-8-e0890146c97a>\u001b[0m in \u001b[0;36m<module>\u001b[0;34m\u001b[0m\n\u001b[0;32m----> 1\u001b[0;31m \u001b[0mapi\u001b[0m\u001b[0;34m.\u001b[0m\u001b[0mstatus\u001b[0m\u001b[0;34m(\u001b[0m\u001b[0mjob_id\u001b[0m\u001b[0;34m)\u001b[0m\u001b[0;34m\u001b[0m\u001b[0;34m\u001b[0m\u001b[0m\n\u001b[0m",
      "\u001b[0;32m/opt/conda/envs/eurodatacube-0.19.4/lib/python3.8/site-packages/job_api/jobapi.py\u001b[0m in \u001b[0;36mstatus\u001b[0;34m(self, job_id)\u001b[0m\n\u001b[1;32m    146\u001b[0m         \u001b[0;32mif\u001b[0m \u001b[0mres\u001b[0m\u001b[0;34m.\u001b[0m\u001b[0mstatus_code\u001b[0m \u001b[0;34m==\u001b[0m \u001b[0;36m404\u001b[0m\u001b[0;34m:\u001b[0m\u001b[0;34m\u001b[0m\u001b[0;34m\u001b[0m\u001b[0m\n\u001b[1;32m    147\u001b[0m             \u001b[0;32mreturn\u001b[0m \u001b[0;34m{\u001b[0m\u001b[0;34m'message'\u001b[0m\u001b[0;34m:\u001b[0m \u001b[0;34m'Job not found'\u001b[0m\u001b[0;34m}\u001b[0m\u001b[0;34m\u001b[0m\u001b[0;34m\u001b[0m\u001b[0m\n\u001b[0;32m--> 148\u001b[0;31m         \u001b[0mres\u001b[0m\u001b[0;34m.\u001b[0m\u001b[0mraise_for_status\u001b[0m\u001b[0;34m(\u001b[0m\u001b[0;34m)\u001b[0m\u001b[0;34m\u001b[0m\u001b[0;34m\u001b[0m\u001b[0m\n\u001b[0m\u001b[1;32m    149\u001b[0m         \u001b[0;32mreturn\u001b[0m \u001b[0mres\u001b[0m\u001b[0;34m.\u001b[0m\u001b[0mjson\u001b[0m\u001b[0;34m(\u001b[0m\u001b[0;34m)\u001b[0m\u001b[0;34m\u001b[0m\u001b[0;34m\u001b[0m\u001b[0m\n",
      "\u001b[0;32m/opt/conda/envs/eurodatacube-0.19.4/lib/python3.8/site-packages/requests/models.py\u001b[0m in \u001b[0;36mraise_for_status\u001b[0;34m(self)\u001b[0m\n\u001b[1;32m    939\u001b[0m \u001b[0;34m\u001b[0m\u001b[0m\n\u001b[1;32m    940\u001b[0m         \u001b[0;32mif\u001b[0m \u001b[0mhttp_error_msg\u001b[0m\u001b[0;34m:\u001b[0m\u001b[0;34m\u001b[0m\u001b[0;34m\u001b[0m\u001b[0m\n\u001b[0;32m--> 941\u001b[0;31m             \u001b[0;32mraise\u001b[0m \u001b[0mHTTPError\u001b[0m\u001b[0;34m(\u001b[0m\u001b[0mhttp_error_msg\u001b[0m\u001b[0;34m,\u001b[0m \u001b[0mresponse\u001b[0m\u001b[0;34m=\u001b[0m\u001b[0mself\u001b[0m\u001b[0;34m)\u001b[0m\u001b[0;34m\u001b[0m\u001b[0;34m\u001b[0m\u001b[0m\n\u001b[0m\u001b[1;32m    942\u001b[0m \u001b[0;34m\u001b[0m\u001b[0m\n\u001b[1;32m    943\u001b[0m     \u001b[0;32mdef\u001b[0m \u001b[0mclose\u001b[0m\u001b[0;34m(\u001b[0m\u001b[0mself\u001b[0m\u001b[0;34m)\u001b[0m\u001b[0;34m:\u001b[0m\u001b[0;34m\u001b[0m\u001b[0;34m\u001b[0m\u001b[0m\n",
      "\u001b[0;31mHTTPError\u001b[0m: 400 Client Error: BAD REQUEST for url: https://xcube-gen.brockmann-consult.de:443/api/v1/jobs/afe36e3e76ff3e2e6bebd5a3f85498c78/xcube-gen-91d670d5-fd8a-42ab-9b31-4fe48e4353ea"
     ]
    }
   ],
   "source": [
    "api.status(job_id)"
   ]
  },
  {
   "cell_type": "markdown",
   "metadata": {
    "papermill": {
     "duration": null,
     "end_time": null,
     "exception": null,
     "start_time": null,
     "status": "pending"
    },
    "pycharm": {
     "name": "#%% md\n"
    },
    "tags": []
   },
   "source": [
    "## Listing my Jobs"
   ]
  },
  {
   "cell_type": "code",
   "execution_count": null,
   "metadata": {
    "collapsed": false,
    "execution": {
     "iopub.execute_input": "2020-07-13T11:34:33.725770Z",
     "iopub.status.busy": "2020-07-13T11:34:33.725238Z",
     "iopub.status.idle": "2020-07-13T11:34:33.782202Z",
     "shell.execute_reply": "2020-07-13T11:34:33.781747Z"
    },
    "jupyter": {
     "outputs_hidden": false
    },
    "papermill": {
     "duration": null,
     "end_time": null,
     "exception": null,
     "start_time": null,
     "status": "pending"
    },
    "pycharm": {
     "name": "#%%\n"
    },
    "tags": []
   },
   "outputs": [],
   "source": [
    "api.list()"
   ]
  },
  {
   "cell_type": "markdown",
   "metadata": {
    "papermill": {
     "duration": null,
     "end_time": null,
     "exception": null,
     "start_time": null,
     "status": "pending"
    },
    "pycharm": {
     "name": "#%% md\n"
    },
    "tags": []
   },
   "source": [
    "## Deleting a job"
   ]
  },
  {
   "cell_type": "code",
   "execution_count": null,
   "metadata": {
    "collapsed": false,
    "execution": {
     "iopub.execute_input": "2020-07-13T11:34:33.816588Z",
     "iopub.status.busy": "2020-07-13T11:34:33.815979Z",
     "iopub.status.idle": "2020-07-13T11:34:33.911157Z",
     "shell.execute_reply": "2020-07-13T11:34:33.911509Z"
    },
    "jupyter": {
     "outputs_hidden": false
    },
    "papermill": {
     "duration": null,
     "end_time": null,
     "exception": null,
     "start_time": null,
     "status": "pending"
    },
    "pycharm": {
     "name": "#%%\n"
    },
    "tags": []
   },
   "outputs": [],
   "source": [
    "api.delete(job_id)"
   ]
  }
 ],
 "metadata": {
  "kernelspec": {
   "display_name": "EuroDataCube 0.19.3 (Python 3)",
   "language": "python",
   "name": "eurodatacube-0.19.3"
  },
  "language_info": {
   "codemirror_mode": {
    "name": "ipython",
    "version": 3
   },
   "file_extension": ".py",
   "mimetype": "text/x-python",
   "name": "python",
   "nbconvert_exporter": "python",
   "pygments_lexer": "ipython3",
   "version": "3.8.3"
  },
  "papermill": {
   "duration": 5.268359,
   "end_time": "2020-07-13T11:35:36.286063",
   "environment_variables": {},
   "exception": true,
   "input_path": "/tmp/tmpvnu6x625",
   "output_path": "/tmp/notebook_output.ipynb",
   "parameters": {},
   "start_time": "2020-07-13T11:35:31.017704",
   "version": "2.1.0"
  },
  "properties": {
   "description": "xcube Generator Python Access Library ",
   "id": "f0a95ae8-27d0-4d0e-b5db-0a97e53926dd",
   "license": null,
   "name": "xcube Generator Python Access Library",
   "requirements": [
    "eurodatacube-xcube-gen"
   ],
   "tags": [
    "xcube"
   ],
   "tosAgree": true,
   "type": "Jupyter Notebook",
   "version": "0.0.1"
  }
 },
 "nbformat": 4,
 "nbformat_minor": 4
}