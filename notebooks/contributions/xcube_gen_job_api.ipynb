{
 "cells": [
  {
   "cell_type": "code",
   "execution_count": 1,
   "metadata": {
    "execution": {
     "iopub.execute_input": "2020-07-09T09:02:41.055967Z",
     "iopub.status.busy": "2020-07-09T09:02:41.055458Z",
     "iopub.status.idle": "2020-07-09T09:02:41.105121Z",
     "shell.execute_reply": "2020-07-09T09:02:41.105477Z"
    },
    "papermill": {
     "duration": 0.059121,
     "end_time": "2020-07-09T09:02:41.105602",
     "exception": false,
     "start_time": "2020-07-09T09:02:41.046481",
     "status": "completed"
    },
    "tags": []
   },
   "outputs": [
    {
     "data": {
      "text/markdown": [
       "API credentials have automatically been injected for your active subscriptions.  \n",
       "The following environment variables are now available:\n",
       "* `AWS_ACCESS_KEY_ID`, `AWS_BUCKET`, `AWS_SECRET_ACCESS_KEY`\n",
       "* `XCUBE_GEN_API_SERVER_PORT`, `XCUBE_GEN_API_SERVER_URL`, `XCUBE_GEN_AUTH_AUD`, `XCUBE_GEN_AUTH_CLIENT_ID`, `XCUBE_GEN_AUTH_CLIENT_SECRET`, `XCUBE_GEN_AUTH_DOMAIN`, `XCUBE_GEN_USER`\n",
       "\n",
       "The following additional environment variables have been loaded from `~/custom.env`:\n",
       "* `AWS_BUCKET`\n",
       "* `DB_HOST`, `DB_NAME`, `DB_PASSWORD`, `DB_USER`\n",
       "* `OGC_EDC_URL`\n",
       "* `REFERENCE_DATA`\n"
      ],
      "text/plain": [
       "<IPython.core.display.Markdown object>"
      ]
     },
     "metadata": {},
     "output_type": "display_data"
    }
   ],
   "source": [
    "from edc import setup_environment_variables\n",
    "setup_environment_variables()"
   ]
  },
  {
   "cell_type": "code",
   "execution_count": 2,
   "metadata": {
    "execution": {
     "iopub.execute_input": "2020-07-09T09:02:41.121568Z",
     "iopub.status.busy": "2020-07-09T09:02:41.121046Z",
     "iopub.status.idle": "2020-07-09T09:02:41.122903Z",
     "shell.execute_reply": "2020-07-09T09:02:41.122476Z"
    },
    "papermill": {
     "duration": 0.010067,
     "end_time": "2020-07-09T09:02:41.122976",
     "exception": false,
     "start_time": "2020-07-09T09:02:41.112909",
     "status": "completed"
    },
    "tags": []
   },
   "outputs": [],
   "source": [
    "import os\n",
    "os.environ[\"XCUBE_GEN_API_USER_NAME\"] = os.environ[\"XCUBE_GEN_USER\"]"
   ]
  },
  {
   "cell_type": "code",
   "execution_count": 3,
   "metadata": {
    "execution": {
     "iopub.execute_input": "2020-07-09T09:02:41.137000Z",
     "iopub.status.busy": "2020-07-09T09:02:41.136484Z",
     "iopub.status.idle": "2020-07-09T09:02:41.138911Z",
     "shell.execute_reply": "2020-07-09T09:02:41.138479Z"
    },
    "papermill": {
     "duration": 0.010389,
     "end_time": "2020-07-09T09:02:41.138981",
     "exception": false,
     "start_time": "2020-07-09T09:02:41.128592",
     "status": "completed"
    },
    "tags": []
   },
   "outputs": [
    {
     "data": {
      "text/markdown": [
       "This notebook is compatible with this base image version (user-0.19.3)."
      ],
      "text/plain": [
       "<IPython.core.display.Markdown object>"
      ]
     },
     "metadata": {},
     "output_type": "display_data"
    }
   ],
   "source": [
    "from edc import check_compatibility\n",
    "check_compatibility(\"user-0.19.3\")"
   ]
  },
  {
   "cell_type": "markdown",
   "metadata": {
    "papermill": {
     "duration": 0.009846,
     "end_time": "2020-07-09T09:02:41.154749",
     "exception": false,
     "start_time": "2020-07-09T09:02:41.144903",
     "status": "completed"
    },
    "tags": []
   },
   "source": [
    "## xcube Generator Python Access Library\n",
    "\n",
    "This notebook shows how to generate xcube cube using the xcube-gen web service [xcube-gen.brockmann-consult.de](https://xcube-gen.brockmann-consult.de).\n",
    "Please be aware, this notebook will not run unless you have access to the xcube-gen service as well as a bucket on AWS."
   ]
  },
  {
   "cell_type": "code",
   "execution_count": 4,
   "metadata": {
    "execution": {
     "iopub.execute_input": "2020-07-09T09:02:41.169162Z",
     "iopub.status.busy": "2020-07-09T09:02:41.168650Z",
     "iopub.status.idle": "2020-07-09T09:02:41.295138Z",
     "shell.execute_reply": "2020-07-09T09:02:41.294629Z"
    },
    "papermill": {
     "duration": 0.134485,
     "end_time": "2020-07-09T09:02:41.295215",
     "exception": false,
     "start_time": "2020-07-09T09:02:41.160730",
     "status": "completed"
    },
    "tags": []
   },
   "outputs": [
    {
     "data": {
      "text/plain": [
       "'hub@eox.at'"
      ]
     },
     "execution_count": 4,
     "metadata": {},
     "output_type": "execute_result"
    }
   ],
   "source": [
    "from job_api import JobApi\n",
    "api = JobApi()\n",
    "api.whoami"
   ]
  },
  {
   "cell_type": "markdown",
   "metadata": {
    "papermill": {
     "duration": 0.00742,
     "end_time": "2020-07-09T09:02:41.309008",
     "exception": false,
     "start_time": "2020-07-09T09:02:41.301588",
     "status": "completed"
    },
    "pycharm": {
     "name": "#%% md\n"
    },
    "tags": []
   },
   "source": [
    "## Generate a config"
   ]
  },
  {
   "cell_type": "code",
   "execution_count": 5,
   "metadata": {
    "execution": {
     "iopub.execute_input": "2020-07-09T09:02:41.325552Z",
     "iopub.status.busy": "2020-07-09T09:02:41.325043Z",
     "iopub.status.idle": "2020-07-09T09:02:41.326814Z",
     "shell.execute_reply": "2020-07-09T09:02:41.326358Z"
    },
    "papermill": {
     "duration": 0.01196,
     "end_time": "2020-07-09T09:02:41.326884",
     "exception": false,
     "start_time": "2020-07-09T09:02:41.314924",
     "status": "completed"
    },
    "tags": []
   },
   "outputs": [],
   "source": [
    "import os\n",
    "cfg = {\n",
    "  \"input_configs\": [\n",
    "    {\n",
    "      \"store_id\": \"@sentinelhub\",\n",
    "      \"data_id\": \"S2L2A\",\n",
    "      \"open_params\": {\n",
    "        \"tile_size\": [\n",
    "          1000,\n",
    "          1000\n",
    "        ]\n",
    "      }\n",
    "    }\n",
    "  ],\n",
    "  \"cube_config\": {\n",
    "    \"variable_names\": [\n",
    "      \"B01\",\n",
    "      \"B02\"\n",
    "    ],\n",
    "    \"bbox\": [\n",
    "      7,\n",
    "      53,\n",
    "      9,\n",
    "      55\n",
    "    ],\n",
    "    \"spatial_res\": 0.001,\n",
    "    \"crs\": \"WGS84\",\n",
    "    \"time_range\": [\n",
    "      \"2000-06-20\",\n",
    "      \"2000-06-22\"\n",
    "    ],\n",
    "    \"time_period\": \"1D\"\n",
    "  },\n",
    "  \"output_config\": {\n",
    "    \"store_id\": \"s3\",\n",
    "    \"store_params\": {\n",
    "      \"bucket_name\": os.environ[\"AWS_BUCKET\"],\n",
    "      \"aws_access_key_id\": os.environ[\"AWS_ACCESS_KEY_ID\"],\n",
    "      \"aws_secret_access_key\": os.environ[\"AWS_SECRET_ACCESS_KEY\"],\n",
    "    }\n",
    "  }\n",
    "}"
   ]
  },
  {
   "cell_type": "markdown",
   "metadata": {
    "papermill": {
     "duration": 0.006328,
     "end_time": "2020-07-09T09:02:41.339444",
     "exception": false,
     "start_time": "2020-07-09T09:02:41.333116",
     "status": "completed"
    },
    "pycharm": {
     "name": "#%% md\n"
    },
    "tags": []
   },
   "source": [
    "## Generating an xcube"
   ]
  },
  {
   "cell_type": "code",
   "execution_count": 6,
   "metadata": {
    "execution": {
     "iopub.execute_input": "2020-07-09T09:02:41.355529Z",
     "iopub.status.busy": "2020-07-09T09:02:41.355054Z",
     "iopub.status.idle": "2020-07-09T09:02:41.438909Z",
     "shell.execute_reply": "2020-07-09T09:02:41.438395Z"
    },
    "papermill": {
     "duration": 0.093468,
     "end_time": "2020-07-09T09:02:41.438981",
     "exception": false,
     "start_time": "2020-07-09T09:02:41.345513",
     "status": "completed"
    },
    "tags": []
   },
   "outputs": [
    {
     "data": {
      "text/plain": [
       "{'result': {'job_id': 'xcube-gen-2d35fa63-a104-4b14-b2a6-0dba7fa1d436',\n",
       "  'status': {'active': None,\n",
       "   'completion_time': None,\n",
       "   'conditions': None,\n",
       "   'failed': None,\n",
       "   'start_time': None,\n",
       "   'succeeded': None}},\n",
       " 'status': 'ok'}"
      ]
     },
     "execution_count": 6,
     "metadata": {},
     "output_type": "execute_result"
    }
   ],
   "source": [
    "api.create(cfg=cfg)"
   ]
  },
  {
   "cell_type": "markdown",
   "metadata": {
    "papermill": {
     "duration": 0.006256,
     "end_time": "2020-07-09T09:02:41.451425",
     "exception": false,
     "start_time": "2020-07-09T09:02:41.445169",
     "status": "completed"
    },
    "pycharm": {
     "name": "#%% md\n"
    },
    "tags": []
   },
   "source": [
    "## Getting the Status of a Generation Job"
   ]
  },
  {
   "cell_type": "code",
   "execution_count": 7,
   "metadata": {
    "execution": {
     "iopub.execute_input": "2020-07-09T09:02:41.468011Z",
     "iopub.status.busy": "2020-07-09T09:02:41.467533Z",
     "iopub.status.idle": "2020-07-09T09:02:41.555218Z",
     "shell.execute_reply": "2020-07-09T09:02:41.554748Z"
    },
    "jupyter": {
     "outputs_hidden": false
    },
    "papermill": {
     "duration": 0.097754,
     "end_time": "2020-07-09T09:02:41.555296",
     "exception": false,
     "start_time": "2020-07-09T09:02:41.457542",
     "status": "completed"
    },
    "pycharm": {
     "name": "#%%\n"
    },
    "tags": []
   },
   "outputs": [
    {
     "data": {
      "text/plain": [
       "{'message': 'Job not found'}"
      ]
     },
     "execution_count": 7,
     "metadata": {},
     "output_type": "execute_result"
    }
   ],
   "source": [
    "api.status('xcube-gen-08bc03f4-c995-45d9-ae81-16e90fc03017')"
   ]
  },
  {
   "cell_type": "markdown",
   "metadata": {
    "papermill": {
     "duration": 0.006277,
     "end_time": "2020-07-09T09:02:41.568149",
     "exception": false,
     "start_time": "2020-07-09T09:02:41.561872",
     "status": "completed"
    },
    "pycharm": {
     "name": "#%% md\n"
    },
    "tags": []
   },
   "source": [
    "## Listing my Jobs"
   ]
  },
  {
   "cell_type": "code",
   "execution_count": 8,
   "metadata": {
    "execution": {
     "iopub.execute_input": "2020-07-09T09:02:41.585046Z",
     "iopub.status.busy": "2020-07-09T09:02:41.584366Z",
     "iopub.status.idle": "2020-07-09T09:02:41.655918Z",
     "shell.execute_reply": "2020-07-09T09:02:41.655443Z"
    },
    "jupyter": {
     "outputs_hidden": false
    },
    "papermill": {
     "duration": 0.081412,
     "end_time": "2020-07-09T09:02:41.656000",
     "exception": false,
     "start_time": "2020-07-09T09:02:41.574588",
     "status": "completed"
    },
    "pycharm": {
     "name": "#%%\n"
    },
    "tags": []
   },
   "outputs": [
    {
     "data": {
      "text/plain": [
       "{'result': [{'job_id': 'xcube-gen-2d35fa63-a104-4b14-b2a6-0dba7fa1d436',\n",
       "   'status': {'active': 1,\n",
       "    'completion_time': None,\n",
       "    'failed': None,\n",
       "    'start_time': 'Thu, 09 Jul 2020 09:02:41 GMT',\n",
       "    'succeeded': None}},\n",
       "  {'job_id': 'xcube-gen-38db633e-3703-433e-b3f1-8d22a0c5ac20',\n",
       "   'status': {'active': None,\n",
       "    'completion_time': None,\n",
       "    'failed': 2,\n",
       "    'start_time': 'Tue, 07 Jul 2020 12:10:32 GMT',\n",
       "    'succeeded': None}}],\n",
       " 'status': 'ok'}"
      ]
     },
     "execution_count": 8,
     "metadata": {},
     "output_type": "execute_result"
    }
   ],
   "source": [
    "api.list()"
   ]
  },
  {
   "cell_type": "markdown",
   "metadata": {
    "papermill": {
     "duration": 0.0066,
     "end_time": "2020-07-09T09:02:41.669464",
     "exception": false,
     "start_time": "2020-07-09T09:02:41.662864",
     "status": "completed"
    },
    "pycharm": {
     "name": "#%% md\n"
    },
    "tags": []
   },
   "source": [
    "## Deleting a job"
   ]
  },
  {
   "cell_type": "code",
   "execution_count": 9,
   "metadata": {
    "execution": {
     "iopub.execute_input": "2020-07-09T09:02:41.686346Z",
     "iopub.status.busy": "2020-07-09T09:02:41.685787Z",
     "iopub.status.idle": "2020-07-09T09:02:41.751365Z",
     "shell.execute_reply": "2020-07-09T09:02:41.750896Z"
    },
    "jupyter": {
     "outputs_hidden": false
    },
    "papermill": {
     "duration": 0.075457,
     "end_time": "2020-07-09T09:02:41.751437",
     "exception": false,
     "start_time": "2020-07-09T09:02:41.675980",
     "status": "completed"
    },
    "pycharm": {
     "name": "#%%\n"
    },
    "tags": []
   },
   "outputs": [
    {
     "data": {
      "text/plain": [
       "{'message': 'Job not found'}"
      ]
     },
     "execution_count": 9,
     "metadata": {},
     "output_type": "execute_result"
    }
   ],
   "source": [
    "api.delete('xcube-gen-08bc03f4-c995-45d9-ae81-16e90fc03017')"
   ]
  }
 ],
 "metadata": {
  "kernelspec": {
   "display_name": "Python 3",
   "language": "python",
   "name": "python3"
  },
  "language_info": {
   "codemirror_mode": {
    "name": "ipython",
    "version": 3
   },
   "file_extension": ".py",
   "mimetype": "text/x-python",
   "name": "python",
   "nbconvert_exporter": "python",
   "pygments_lexer": "ipython3",
   "version": "3.8.3"
  },
  "papermill": {
   "duration": 1.692052,
   "end_time": "2020-07-09T09:02:41.962614",
   "environment_variables": {},
   "exception": null,
   "input_path": "/tmp/tmp_vze3wp8",
   "output_path": "/tmp/notebook_output.ipynb",
   "parameters": {},
   "start_time": "2020-07-09T09:02:40.270562",
   "version": "2.1.0"
  },
  "properties": {
   "description": "xcube Generator Python Access Library ",
   "id": "f0a95ae8-27d0-4d0e-b5db-0a97e53926dd",
   "license": null,
   "name": "xcube Generator Python Access Library",
   "requirements": [
    "eurodatacube-xcube-gen"
   ],
   "tags": [
    "xcube"
   ],
   "tosAgree": true,
   "type": "Jupyter Notebook",
   "version": "0.0.1"
  }
 },
 "nbformat": 4,
 "nbformat_minor": 4
}