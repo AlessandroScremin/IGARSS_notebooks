{
 "cells": [
  {
   "cell_type": "code",
   "execution_count": 1,
   "metadata": {
    "execution": {
     "iopub.execute_input": "2020-07-07T09:23:18.750419Z",
     "iopub.status.busy": "2020-07-07T09:23:18.749016Z",
     "iopub.status.idle": "2020-07-07T09:23:18.839133Z",
     "shell.execute_reply": "2020-07-07T09:23:18.838047Z"
    },
    "papermill": {
     "duration": 0.107607,
     "end_time": "2020-07-07T09:23:18.839431",
     "exception": false,
     "start_time": "2020-07-07T09:23:18.731824",
     "status": "completed"
    },
    "tags": []
   },
   "outputs": [
    {
     "data": {
      "text/markdown": [
       "API credentials have automatically been injected for your active subscriptions.  \n",
       "The following environment variables are now available:\n",
       "* `AWS_ACCESS_KEY_ID`, `AWS_BUCKET`, `AWS_SECRET_ACCESS_KEY`\n",
       "* `XCUBE_GEN_API_SERVER_PORT`, `XCUBE_GEN_API_SERVER_URL`, `XCUBE_GEN_AUTH_AUD`, `XCUBE_GEN_AUTH_CLIENT_ID`, `XCUBE_GEN_AUTH_CLIENT_SECRET`, `XCUBE_GEN_AUTH_DOMAIN`, `XCUBE_GEN_USER`\n",
       "\n",
       "The following additional environment variables have been loaded from `~/custom.env`:\n",
       "* `AWS_BUCKET`\n",
       "* `DB_HOST`, `DB_NAME`, `DB_PASSWORD`, `DB_USER`\n",
       "* `OGC_EDC_URL`\n",
       "* `REFERENCE_DATA`\n"
      ],
      "text/plain": [
       "<IPython.core.display.Markdown object>"
      ]
     },
     "metadata": {},
     "output_type": "display_data"
    }
   ],
   "source": [
    "from edc import setup_environment_variables\n",
    "setup_environment_variables()"
   ]
  },
  {
   "cell_type": "code",
   "execution_count": 2,
   "metadata": {
    "execution": {
     "iopub.execute_input": "2020-07-07T09:23:18.871184Z",
     "iopub.status.busy": "2020-07-07T09:23:18.870185Z",
     "iopub.status.idle": "2020-07-07T09:23:18.874092Z",
     "shell.execute_reply": "2020-07-07T09:23:18.872831Z"
    },
    "papermill": {
     "duration": 0.020181,
     "end_time": "2020-07-07T09:23:18.874301",
     "exception": false,
     "start_time": "2020-07-07T09:23:18.854120",
     "status": "completed"
    },
    "tags": []
   },
   "outputs": [],
   "source": [
    "import os\n",
    "os.environ[\"XCUBE_GEN_API_USER_NAME\"] = os.environ[\"XCUBE_GEN_USER\"]"
   ]
  },
  {
   "cell_type": "code",
   "execution_count": 3,
   "metadata": {
    "execution": {
     "iopub.execute_input": "2020-07-07T09:23:18.911439Z",
     "iopub.status.busy": "2020-07-07T09:23:18.910313Z",
     "iopub.status.idle": "2020-07-07T09:23:18.918600Z",
     "shell.execute_reply": "2020-07-07T09:23:18.917352Z"
    },
    "papermill": {
     "duration": 0.029003,
     "end_time": "2020-07-07T09:23:18.918806",
     "exception": false,
     "start_time": "2020-07-07T09:23:18.889803",
     "status": "completed"
    },
    "tags": []
   },
   "outputs": [
    {
     "data": {
      "text/markdown": [
       "This notebook is compatible with this base image version (user-0.19.2)."
      ],
      "text/plain": [
       "<IPython.core.display.Markdown object>"
      ]
     },
     "metadata": {},
     "output_type": "display_data"
    }
   ],
   "source": [
    "from edc import check_compatibility\n",
    "check_compatibility(\"user-0.19.2\")"
   ]
  },
  {
   "cell_type": "markdown",
   "metadata": {
    "papermill": {
     "duration": 0.014702,
     "end_time": "2020-07-07T09:23:18.947808",
     "exception": false,
     "start_time": "2020-07-07T09:23:18.933106",
     "status": "completed"
    },
    "tags": []
   },
   "source": [
    "## xcube Generator Python Access Library\n",
    "\n",
    "This notebook shows how to generate xcube cube using the xcube-gen web service [xcube-gen.brockmann-consult.de](https://xcube-gen.brockmann-consult.de).\n",
    "Please be aware, this notebook will not run unless you have access to the xcube-gen service as well as a bucket on AWS."
   ]
  },
  {
   "cell_type": "code",
   "execution_count": 4,
   "metadata": {
    "execution": {
     "iopub.execute_input": "2020-07-07T09:23:18.978800Z",
     "iopub.status.busy": "2020-07-07T09:23:18.977617Z",
     "iopub.status.idle": "2020-07-07T09:23:19.116107Z",
     "shell.execute_reply": "2020-07-07T09:23:19.116756Z"
    },
    "papermill": {
     "duration": 0.156659,
     "end_time": "2020-07-07T09:23:19.116958",
     "exception": false,
     "start_time": "2020-07-07T09:23:18.960299",
     "status": "completed"
    },
    "tags": []
   },
   "outputs": [
    {
     "data": {
      "text/plain": [
       "'hub@eox.at'"
      ]
     },
     "execution_count": 4,
     "metadata": {},
     "output_type": "execute_result"
    }
   ],
   "source": [
    "from job_api import JobApi\n",
    "api = JobApi()\n",
    "api.whoami"
   ]
  },
  {
   "cell_type": "markdown",
   "metadata": {
    "papermill": {
     "duration": 0.011085,
     "end_time": "2020-07-07T09:23:19.142333",
     "exception": false,
     "start_time": "2020-07-07T09:23:19.131248",
     "status": "completed"
    },
    "pycharm": {
     "name": "#%% md\n"
    },
    "tags": []
   },
   "source": [
    "## Generate a config"
   ]
  },
  {
   "cell_type": "code",
   "execution_count": 5,
   "metadata": {
    "execution": {
     "iopub.execute_input": "2020-07-07T09:23:19.178543Z",
     "iopub.status.busy": "2020-07-07T09:23:19.177270Z",
     "iopub.status.idle": "2020-07-07T09:23:19.180733Z",
     "shell.execute_reply": "2020-07-07T09:23:19.181336Z"
    },
    "papermill": {
     "duration": 0.0273,
     "end_time": "2020-07-07T09:23:19.181518",
     "exception": false,
     "start_time": "2020-07-07T09:23:19.154218",
     "status": "completed"
    },
    "tags": []
   },
   "outputs": [],
   "source": [
    "import os\n",
    "cfg = {\n",
    "  \"input_configs\": [\n",
    "    {\n",
    "      \"store_id\": \"@sentinelhub\",\n",
    "      \"data_id\": \"S2L2A\",\n",
    "      \"open_params\": {\n",
    "        \"tile_size\": [\n",
    "          1000,\n",
    "          1000\n",
    "        ]\n",
    "      }\n",
    "    }\n",
    "  ],\n",
    "  \"cube_config\": {\n",
    "    \"variable_names\": [\n",
    "      \"B01\",\n",
    "      \"B02\"\n",
    "    ],\n",
    "    \"bbox\": [\n",
    "      7,\n",
    "      53,\n",
    "      9,\n",
    "      55\n",
    "    ],\n",
    "    \"spatial_res\": 0.001,\n",
    "    \"crs\": \"WGS84\",\n",
    "    \"time_range\": [\n",
    "      \"2000-06-20\",\n",
    "      \"2000-06-22\"\n",
    "    ],\n",
    "    \"time_period\": \"1D\"\n",
    "  },\n",
    "  \"output_config\": {\n",
    "    \"store_id\": \"s3\",\n",
    "    \"store_params\": {\n",
    "      \"bucket_name\": os.environ[\"AWS_BUCKET\"],\n",
    "      \"aws_access_key_id\": os.environ[\"AWS_ACCESS_KEY_ID\"],\n",
    "      \"aws_secret_access_key\": os.environ[\"AWS_SECRET_ACCESS_KEY\"],\n",
    "    }\n",
    "  }\n",
    "}"
   ]
  },
  {
   "cell_type": "markdown",
   "metadata": {
    "papermill": {
     "duration": 0.01314,
     "end_time": "2020-07-07T09:23:19.210294",
     "exception": false,
     "start_time": "2020-07-07T09:23:19.197154",
     "status": "completed"
    },
    "pycharm": {
     "name": "#%% md\n"
    },
    "tags": []
   },
   "source": [
    "## Generating an xcube"
   ]
  },
  {
   "cell_type": "code",
   "execution_count": 6,
   "metadata": {
    "execution": {
     "iopub.execute_input": "2020-07-07T09:23:19.249331Z",
     "iopub.status.busy": "2020-07-07T09:23:19.248059Z",
     "iopub.status.idle": "2020-07-07T09:23:19.376184Z",
     "shell.execute_reply": "2020-07-07T09:23:19.375181Z"
    },
    "papermill": {
     "duration": 0.149635,
     "end_time": "2020-07-07T09:23:19.376305",
     "exception": false,
     "start_time": "2020-07-07T09:23:19.226670",
     "status": "completed"
    },
    "tags": []
   },
   "outputs": [
    {
     "data": {
      "text/plain": [
       "{'message': 'User not found'}"
      ]
     },
     "execution_count": 6,
     "metadata": {},
     "output_type": "execute_result"
    }
   ],
   "source": [
    "api.create(cfg=cfg)"
   ]
  },
  {
   "cell_type": "markdown",
   "metadata": {
    "papermill": {
     "duration": 0.014514,
     "end_time": "2020-07-07T09:23:19.405161",
     "exception": false,
     "start_time": "2020-07-07T09:23:19.390647",
     "status": "completed"
    },
    "pycharm": {
     "name": "#%% md\n"
    },
    "tags": []
   },
   "source": [
    "## Getting the Status of a Generation Job"
   ]
  },
  {
   "cell_type": "code",
   "execution_count": 7,
   "metadata": {
    "execution": {
     "iopub.execute_input": "2020-07-07T09:23:19.440992Z",
     "iopub.status.busy": "2020-07-07T09:23:19.440111Z",
     "iopub.status.idle": "2020-07-07T09:23:19.532936Z",
     "shell.execute_reply": "2020-07-07T09:23:19.532137Z"
    },
    "jupyter": {
     "outputs_hidden": false
    },
    "papermill": {
     "duration": 0.114988,
     "end_time": "2020-07-07T09:23:19.533052",
     "exception": false,
     "start_time": "2020-07-07T09:23:19.418064",
     "status": "completed"
    },
    "pycharm": {
     "name": "#%%\n"
    },
    "tags": []
   },
   "outputs": [
    {
     "data": {
      "text/plain": [
       "{'message': 'Job not found'}"
      ]
     },
     "execution_count": 7,
     "metadata": {},
     "output_type": "execute_result"
    }
   ],
   "source": [
    "api.status('xcube-gen-08bc03f4-c995-45d9-ae81-16e90fc03017')"
   ]
  },
  {
   "cell_type": "markdown",
   "metadata": {
    "papermill": {
     "duration": 0.012828,
     "end_time": "2020-07-07T09:23:19.558088",
     "exception": false,
     "start_time": "2020-07-07T09:23:19.545260",
     "status": "completed"
    },
    "pycharm": {
     "name": "#%% md\n"
    },
    "tags": []
   },
   "source": [
    "## Listing my Jobs"
   ]
  },
  {
   "cell_type": "code",
   "execution_count": 8,
   "metadata": {
    "execution": {
     "iopub.execute_input": "2020-07-07T09:23:19.594030Z",
     "iopub.status.busy": "2020-07-07T09:23:19.593097Z",
     "iopub.status.idle": "2020-07-07T09:23:19.653752Z",
     "shell.execute_reply": "2020-07-07T09:23:19.652928Z"
    },
    "jupyter": {
     "outputs_hidden": false
    },
    "papermill": {
     "duration": 0.083273,
     "end_time": "2020-07-07T09:23:19.653921",
     "exception": false,
     "start_time": "2020-07-07T09:23:19.570648",
     "status": "completed"
    },
    "pycharm": {
     "name": "#%%\n"
    },
    "tags": []
   },
   "outputs": [
    {
     "data": {
      "text/plain": [
       "{'result': [], 'status': 'ok'}"
      ]
     },
     "execution_count": 8,
     "metadata": {},
     "output_type": "execute_result"
    }
   ],
   "source": [
    "api.list()"
   ]
  },
  {
   "cell_type": "markdown",
   "metadata": {
    "papermill": {
     "duration": 0.015679,
     "end_time": "2020-07-07T09:23:19.684402",
     "exception": false,
     "start_time": "2020-07-07T09:23:19.668723",
     "status": "completed"
    },
    "pycharm": {
     "name": "#%% md\n"
    },
    "tags": []
   },
   "source": [
    "## Deleting a job"
   ]
  },
  {
   "cell_type": "code",
   "execution_count": 9,
   "metadata": {
    "execution": {
     "iopub.execute_input": "2020-07-07T09:23:19.723914Z",
     "iopub.status.busy": "2020-07-07T09:23:19.722758Z",
     "iopub.status.idle": "2020-07-07T09:23:19.791123Z",
     "shell.execute_reply": "2020-07-07T09:23:19.789989Z"
    },
    "jupyter": {
     "outputs_hidden": false
    },
    "papermill": {
     "duration": 0.09102,
     "end_time": "2020-07-07T09:23:19.791310",
     "exception": false,
     "start_time": "2020-07-07T09:23:19.700290",
     "status": "completed"
    },
    "pycharm": {
     "name": "#%%\n"
    },
    "tags": []
   },
   "outputs": [
    {
     "data": {
      "text/plain": [
       "{'message': 'Job not found'}"
      ]
     },
     "execution_count": 9,
     "metadata": {},
     "output_type": "execute_result"
    }
   ],
   "source": [
    "api.delete('xcube-gen-08bc03f4-c995-45d9-ae81-16e90fc03017')"
   ]
  }
 ],
 "metadata": {
  "kernelspec": {
   "display_name": "Python 3",
   "language": "python",
   "name": "python3"
  },
  "language_info": {
   "codemirror_mode": {
    "name": "ipython",
    "version": 3
   },
   "file_extension": ".py",
   "mimetype": "text/x-python",
   "name": "python",
   "nbconvert_exporter": "python",
   "pygments_lexer": "ipython3",
   "version": "3.8.3"
  },
  "papermill": {
   "duration": 3.299736,
   "end_time": "2020-07-07T09:23:20.948172",
   "environment_variables": {},
   "exception": null,
   "input_path": "/tmp/tmpua39e99h",
   "output_path": "/tmp/notebook_output.ipynb",
   "parameters": {},
   "start_time": "2020-07-07T09:23:17.648436",
   "version": "2.1.0"
  },
  "properties": {
   "description": "xcube Generator Python Access Library ",
   "id": "f0a95ae8-27d0-4d0e-b5db-0a97e53926dd",
   "license": null,
   "name": "xcube Generator Python Access Library",
   "requirements": [
    "eurodatacube-xcube-gen"
   ],
   "tags": [
    "xcube"
   ],
   "tosAgree": true,
   "type": "Jupyter Notebook",
   "version": "0.0.1"
  }
 },
 "nbformat": 4,
 "nbformat_minor": 4
}