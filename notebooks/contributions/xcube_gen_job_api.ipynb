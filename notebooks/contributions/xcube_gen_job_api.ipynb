{
 "cells": [
  {
   "cell_type": "code",
   "execution_count": 1,
   "metadata": {
    "execution": {
     "iopub.execute_input": "2020-07-13T12:30:38.199640Z",
     "iopub.status.busy": "2020-07-13T12:30:38.198261Z",
     "iopub.status.idle": "2020-07-13T12:30:38.284887Z",
     "shell.execute_reply": "2020-07-13T12:30:38.283787Z"
    },
    "papermill": {
     "duration": 0.104116,
     "end_time": "2020-07-13T12:30:38.285084",
     "exception": false,
     "start_time": "2020-07-13T12:30:38.180968",
     "status": "completed"
    },
    "tags": []
   },
   "outputs": [
    {
     "data": {
      "text/markdown": [
       "API credentials have automatically been injected for your active subscriptions.  \n",
       "The following environment variables are now available:\n",
       "* `AWS_ACCESS_KEY_ID`, `AWS_BUCKET`, `AWS_SECRET_ACCESS_KEY`\n",
       "* `XCUBE_GEN_API_SERVER_PORT`, `XCUBE_GEN_API_SERVER_URL`, `XCUBE_GEN_API_USER_NAME`, `XCUBE_GEN_AUTH_AUD`, `XCUBE_GEN_AUTH_CLIENT_ID`, `XCUBE_GEN_AUTH_CLIENT_SECRET`, `XCUBE_GEN_AUTH_DOMAIN`\n",
       "\n",
       "The following additional environment variables have been loaded from `~/custom.env`:\n",
       "* `AWS_BUCKET`\n",
       "* `DAPA_URL`\n",
       "* `DB_HOST`, `DB_NAME`, `DB_PASSWORD`, `DB_USER`\n",
       "* `OGC_EDC_URL`\n",
       "* `REFERENCE_DATA`\n"
      ],
      "text/plain": [
       "<IPython.core.display.Markdown object>"
      ]
     },
     "metadata": {},
     "output_type": "display_data"
    }
   ],
   "source": [
    "from edc import setup_environment_variables\n",
    "setup_environment_variables()"
   ]
  },
  {
   "cell_type": "code",
   "execution_count": 2,
   "metadata": {
    "execution": {
     "iopub.execute_input": "2020-07-13T12:30:38.314255Z",
     "iopub.status.busy": "2020-07-13T12:30:38.313420Z",
     "iopub.status.idle": "2020-07-13T12:30:38.318214Z",
     "shell.execute_reply": "2020-07-13T12:30:38.317013Z"
    },
    "papermill": {
     "duration": 0.020767,
     "end_time": "2020-07-13T12:30:38.318386",
     "exception": false,
     "start_time": "2020-07-13T12:30:38.297619",
     "status": "completed"
    },
    "tags": []
   },
   "outputs": [
    {
     "data": {
      "text/markdown": [
       "This notebook is compatible with this base image version (user-0.19.4)."
      ],
      "text/plain": [
       "<IPython.core.display.Markdown object>"
      ]
     },
     "metadata": {},
     "output_type": "display_data"
    }
   ],
   "source": [
    "from edc import check_compatibility\n",
    "check_compatibility(\"user-0.19.4\")"
   ]
  },
  {
   "cell_type": "markdown",
   "metadata": {
    "papermill": {
     "duration": 0.012166,
     "end_time": "2020-07-13T12:30:38.344576",
     "exception": false,
     "start_time": "2020-07-13T12:30:38.332410",
     "status": "completed"
    },
    "tags": []
   },
   "source": [
    "## xcube Generator Python Access Library\n",
    "\n",
    "This notebook shows how to generate xcube cube using the xcube-gen web service [xcube-gen.brockmann-consult.de](https://xcube-gen.brockmann-consult.de).\n",
    "Please be aware, this notebook will not run unless you have access to the xcube-gen service as well as a bucket on AWS."
   ]
  },
  {
   "cell_type": "code",
   "execution_count": 3,
   "metadata": {
    "execution": {
     "iopub.execute_input": "2020-07-13T12:30:38.379343Z",
     "iopub.status.busy": "2020-07-13T12:30:38.378425Z",
     "iopub.status.idle": "2020-07-13T12:30:38.521413Z",
     "shell.execute_reply": "2020-07-13T12:30:38.520145Z"
    },
    "papermill": {
     "duration": 0.16307,
     "end_time": "2020-07-13T12:30:38.521647",
     "exception": false,
     "start_time": "2020-07-13T12:30:38.358577",
     "status": "completed"
    },
    "tags": []
   },
   "outputs": [
    {
     "data": {
      "text/plain": [
       "'hub@eox.at'"
      ]
     },
     "execution_count": 3,
     "metadata": {},
     "output_type": "execute_result"
    }
   ],
   "source": [
    "from job_api import JobApi\n",
    "api = JobApi()\n",
    "api.whoami"
   ]
  },
  {
   "cell_type": "markdown",
   "metadata": {
    "papermill": {
     "duration": 0.013724,
     "end_time": "2020-07-13T12:30:38.550811",
     "exception": false,
     "start_time": "2020-07-13T12:30:38.537087",
     "status": "completed"
    },
    "pycharm": {
     "name": "#%% md\n"
    },
    "tags": []
   },
   "source": [
    "## Generate a config"
   ]
  },
  {
   "cell_type": "code",
   "execution_count": 4,
   "metadata": {
    "execution": {
     "iopub.execute_input": "2020-07-13T12:30:38.584764Z",
     "iopub.status.busy": "2020-07-13T12:30:38.583785Z",
     "iopub.status.idle": "2020-07-13T12:30:38.586160Z",
     "shell.execute_reply": "2020-07-13T12:30:38.586709Z"
    },
    "papermill": {
     "duration": 0.023725,
     "end_time": "2020-07-13T12:30:38.586890",
     "exception": false,
     "start_time": "2020-07-13T12:30:38.563165",
     "status": "completed"
    },
    "tags": []
   },
   "outputs": [],
   "source": [
    "import os\n",
    "cfg = {\n",
    "  \"input_configs\": [\n",
    "    {\n",
    "      \"store_id\": \"@sentinelhub\",\n",
    "      \"data_id\": \"S2L2A\",\n",
    "      \"open_params\": {\n",
    "        \"tile_size\": [\n",
    "          1000,\n",
    "          1000\n",
    "        ]\n",
    "      }\n",
    "    }\n",
    "  ],\n",
    "  \"cube_config\": {\n",
    "    \"variable_names\": [\n",
    "      \"B01\",\n",
    "      \"B02\"\n",
    "    ],\n",
    "    \"bbox\": [\n",
    "      7,\n",
    "      53,\n",
    "      9,\n",
    "      55\n",
    "    ],\n",
    "    \"spatial_res\": 0.001,\n",
    "    \"crs\": \"WGS84\",\n",
    "    \"time_range\": [\n",
    "      \"2000-06-20\",\n",
    "      \"2000-06-22\"\n",
    "    ],\n",
    "    \"time_period\": \"1D\"\n",
    "  },\n",
    "  \"output_config\": {\n",
    "    \"store_id\": \"s3\",\n",
    "    \"store_params\": {\n",
    "      \"bucket_name\": os.environ[\"AWS_BUCKET\"],\n",
    "      \"aws_access_key_id\": os.environ[\"AWS_ACCESS_KEY_ID\"],\n",
    "      \"aws_secret_access_key\": os.environ[\"AWS_SECRET_ACCESS_KEY\"],\n",
    "    }\n",
    "  }\n",
    "}"
   ]
  },
  {
   "cell_type": "markdown",
   "metadata": {
    "papermill": {
     "duration": 0.012888,
     "end_time": "2020-07-13T12:30:38.614593",
     "exception": false,
     "start_time": "2020-07-13T12:30:38.601705",
     "status": "completed"
    },
    "pycharm": {
     "name": "#%% md\n"
    },
    "tags": []
   },
   "source": [
    "## Generating an xcube"
   ]
  },
  {
   "cell_type": "code",
   "execution_count": 5,
   "metadata": {
    "execution": {
     "iopub.execute_input": "2020-07-13T12:30:38.658454Z",
     "iopub.status.busy": "2020-07-13T12:30:38.646584Z",
     "iopub.status.idle": "2020-07-13T12:30:38.754631Z",
     "shell.execute_reply": "2020-07-13T12:30:38.753862Z"
    },
    "papermill": {
     "duration": 0.125691,
     "end_time": "2020-07-13T12:30:38.754802",
     "exception": false,
     "start_time": "2020-07-13T12:30:38.629111",
     "status": "completed"
    },
    "tags": []
   },
   "outputs": [
    {
     "data": {
      "text/plain": [
       "{'result': {'job_id': 'xcube-gen-46657fee-1b93-4b1b-83f1-b00a45aa7b41',\n",
       "  'status': {'active': None,\n",
       "   'completion_time': None,\n",
       "   'conditions': None,\n",
       "   'failed': None,\n",
       "   'start_time': None,\n",
       "   'succeeded': None}},\n",
       " 'status': 'ok'}"
      ]
     },
     "execution_count": 5,
     "metadata": {},
     "output_type": "execute_result"
    }
   ],
   "source": [
    "response = api.create(cfg=cfg)\n",
    "job_id = response['result']['job_id']\n",
    "response"
   ]
  },
  {
   "cell_type": "markdown",
   "metadata": {
    "papermill": {
     "duration": 0.012287,
     "end_time": "2020-07-13T12:30:38.778671",
     "exception": false,
     "start_time": "2020-07-13T12:30:38.766384",
     "status": "completed"
    },
    "pycharm": {
     "name": "#%% md\n"
    },
    "tags": []
   },
   "source": [
    "## Getting the Status of a Generation Job"
   ]
  },
  {
   "cell_type": "code",
   "execution_count": 6,
   "metadata": {
    "collapsed": false,
    "execution": {
     "iopub.execute_input": "2020-07-13T12:30:38.811041Z",
     "iopub.status.busy": "2020-07-13T12:30:38.810204Z",
     "iopub.status.idle": "2020-07-13T12:30:46.816625Z",
     "shell.execute_reply": "2020-07-13T12:30:46.815666Z"
    },
    "jupyter": {
     "outputs_hidden": false
    },
    "papermill": {
     "duration": 8.026501,
     "end_time": "2020-07-13T12:30:46.816784",
     "exception": false,
     "start_time": "2020-07-13T12:30:38.790283",
     "status": "completed"
    },
    "pycharm": {
     "name": "#%%\n"
    },
    "tags": []
   },
   "outputs": [],
   "source": [
    "# wait until job has been created\n",
    "import time\n",
    "time.sleep(8)"
   ]
  },
  {
   "cell_type": "code",
   "execution_count": 7,
   "metadata": {
    "execution": {
     "iopub.execute_input": "2020-07-13T12:30:46.854362Z",
     "iopub.status.busy": "2020-07-13T12:30:46.853526Z",
     "iopub.status.idle": "2020-07-13T12:30:46.951703Z",
     "shell.execute_reply": "2020-07-13T12:30:46.951089Z"
    },
    "papermill": {
     "duration": 0.119354,
     "end_time": "2020-07-13T12:30:46.951809",
     "exception": false,
     "start_time": "2020-07-13T12:30:46.832455",
     "status": "completed"
    },
    "tags": []
   },
   "outputs": [
    {
     "data": {
      "text/plain": [
       "{'result': {'job_id': 'xcube-gen-46657fee-1b93-4b1b-83f1-b00a45aa7b41',\n",
       "  'output': [],\n",
       "  'status': {'active': 1,\n",
       "   'completion_time': None,\n",
       "   'conditions': None,\n",
       "   'failed': None,\n",
       "   'start_time': 'Mon, 13 Jul 2020 12:30:38 GMT',\n",
       "   'succeeded': None}},\n",
       " 'status': 'ok'}"
      ]
     },
     "execution_count": 7,
     "metadata": {},
     "output_type": "execute_result"
    }
   ],
   "source": [
    "api.status(job_id)"
   ]
  },
  {
   "cell_type": "markdown",
   "metadata": {
    "papermill": {
     "duration": 0.016673,
     "end_time": "2020-07-13T12:30:46.982994",
     "exception": false,
     "start_time": "2020-07-13T12:30:46.966321",
     "status": "completed"
    },
    "pycharm": {
     "name": "#%% md\n"
    },
    "tags": []
   },
   "source": [
    "## Listing my Jobs"
   ]
  },
  {
   "cell_type": "code",
   "execution_count": 8,
   "metadata": {
    "collapsed": false,
    "execution": {
     "iopub.execute_input": "2020-07-13T12:30:47.029222Z",
     "iopub.status.busy": "2020-07-13T12:30:47.027785Z",
     "iopub.status.idle": "2020-07-13T12:30:47.119080Z",
     "shell.execute_reply": "2020-07-13T12:30:47.118266Z"
    },
    "jupyter": {
     "outputs_hidden": false
    },
    "papermill": {
     "duration": 0.116283,
     "end_time": "2020-07-13T12:30:47.119221",
     "exception": false,
     "start_time": "2020-07-13T12:30:47.002938",
     "status": "completed"
    },
    "pycharm": {
     "name": "#%%\n"
    },
    "tags": []
   },
   "outputs": [
    {
     "data": {
      "text/plain": [
       "{'result': [{'job_id': 'xcube-gen-2d35fa63-a104-4b14-b2a6-0dba7fa1d436',\n",
       "   'status': {'active': None,\n",
       "    'completion_time': 'Thu, 09 Jul 2020 09:02:51 GMT',\n",
       "    'failed': None,\n",
       "    'start_time': 'Thu, 09 Jul 2020 09:02:41 GMT',\n",
       "    'succeeded': 1}},\n",
       "  {'job_id': 'xcube-gen-38db633e-3703-433e-b3f1-8d22a0c5ac20',\n",
       "   'status': {'active': None,\n",
       "    'completion_time': None,\n",
       "    'failed': 2,\n",
       "    'start_time': 'Tue, 07 Jul 2020 12:10:32 GMT',\n",
       "    'succeeded': None}},\n",
       "  {'job_id': 'xcube-gen-46657fee-1b93-4b1b-83f1-b00a45aa7b41',\n",
       "   'status': {'active': 1,\n",
       "    'completion_time': None,\n",
       "    'failed': None,\n",
       "    'start_time': 'Mon, 13 Jul 2020 12:30:38 GMT',\n",
       "    'succeeded': None}},\n",
       "  {'job_id': 'xcube-gen-91d670d5-fd8a-42ab-9b31-4fe48e4353ea',\n",
       "   'status': {'active': None,\n",
       "    'completion_time': 'Mon, 13 Jul 2020 11:35:47 GMT',\n",
       "    'failed': None,\n",
       "    'start_time': 'Mon, 13 Jul 2020 11:35:32 GMT',\n",
       "    'succeeded': 1}}],\n",
       " 'status': 'ok'}"
      ]
     },
     "execution_count": 8,
     "metadata": {},
     "output_type": "execute_result"
    }
   ],
   "source": [
    "api.list()"
   ]
  },
  {
   "cell_type": "markdown",
   "metadata": {
    "papermill": {
     "duration": 0.019214,
     "end_time": "2020-07-13T12:30:47.154626",
     "exception": false,
     "start_time": "2020-07-13T12:30:47.135412",
     "status": "completed"
    },
    "pycharm": {
     "name": "#%% md\n"
    },
    "tags": []
   },
   "source": [
    "## Deleting a job"
   ]
  },
  {
   "cell_type": "code",
   "execution_count": 9,
   "metadata": {
    "collapsed": false,
    "execution": {
     "iopub.execute_input": "2020-07-13T12:30:47.194981Z",
     "iopub.status.busy": "2020-07-13T12:30:47.189530Z",
     "iopub.status.idle": "2020-07-13T12:30:47.287554Z",
     "shell.execute_reply": "2020-07-13T12:30:47.288436Z"
    },
    "jupyter": {
     "outputs_hidden": false
    },
    "papermill": {
     "duration": 0.117364,
     "end_time": "2020-07-13T12:30:47.288654",
     "exception": false,
     "start_time": "2020-07-13T12:30:47.171290",
     "status": "completed"
    },
    "pycharm": {
     "name": "#%%\n"
    },
    "tags": []
   },
   "outputs": [
    {
     "data": {
      "text/plain": [
       "{'result': 'Success', 'status': 'ok'}"
      ]
     },
     "execution_count": 9,
     "metadata": {},
     "output_type": "execute_result"
    }
   ],
   "source": [
    "api.delete(job_id)"
   ]
  }
 ],
 "metadata": {
  "kernelspec": {
   "display_name": "EDC 0.19.4 (Python 3)",
   "language": "python",
   "name": "eurodatacube-0.19.4"
  },
  "language_info": {
   "codemirror_mode": {
    "name": "ipython",
    "version": 3
   },
   "file_extension": ".py",
   "mimetype": "text/x-python",
   "name": "python",
   "nbconvert_exporter": "python",
   "pygments_lexer": "ipython3",
   "version": "3.8.3"
  },
  "papermill": {
   "duration": 10.558843,
   "end_time": "2020-07-13T12:30:47.618439",
   "environment_variables": {},
   "exception": null,
   "input_path": "/tmp/tmpzpl6jrqj",
   "output_path": "/tmp/notebook_output.ipynb",
   "parameters": {},
   "start_time": "2020-07-13T12:30:37.059596",
   "version": "2.1.0"
  },
  "properties": {
   "description": "xcube Generator Python Access Library ",
   "id": "f0a95ae8-27d0-4d0e-b5db-0a97e53926dd",
   "license": null,
   "name": "xcube Generator Python Access Library",
   "requirements": [
    "eurodatacube-xcube-gen"
   ],
   "tags": [
    "xcube"
   ],
   "tosAgree": true,
   "type": "Jupyter Notebook",
   "version": "0.0.1"
  }
 },
 "nbformat": 4,
 "nbformat_minor": 4
}