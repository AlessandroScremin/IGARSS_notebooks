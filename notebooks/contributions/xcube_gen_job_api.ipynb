{
 "cells": [
  {
   "cell_type": "code",
   "execution_count": 1,
   "metadata": {
    "execution": {
     "iopub.execute_input": "2020-09-29T12:36:26.048131Z",
     "iopub.status.busy": "2020-09-29T12:36:26.047549Z",
     "iopub.status.idle": "2020-09-29T12:36:26.099315Z",
     "shell.execute_reply": "2020-09-29T12:36:26.098674Z"
    },
    "papermill": {
     "duration": 0.06299,
     "end_time": "2020-09-29T12:36:26.099476",
     "exception": false,
     "start_time": "2020-09-29T12:36:26.036486",
     "status": "completed"
    },
    "tags": []
   },
   "outputs": [
    {
     "data": {
      "text/markdown": [
       "API credentials have automatically been injected for your active subscriptions.  \n",
       "The following environment variables are now available:\n",
       "* `AWS_ACCESS_KEY_ID`, `AWS_BUCKET`, `AWS_SECRET_ACCESS_KEY`\n",
       "* `XCUBE_GEN_API_SERVER_PORT`, `XCUBE_GEN_API_SERVER_URL`, `XCUBE_GEN_API_USER_NAME`, `XCUBE_GEN_AUTH_AUD`, `XCUBE_GEN_AUTH_CLIENT_ID`, `XCUBE_GEN_AUTH_CLIENT_SECRET`, `XCUBE_GEN_AUTH_DOMAIN`\n",
       "\n",
       "The following additional environment variables have been loaded from `~/custom.env`:\n",
       "* `AWS_BUCKET`\n",
       "* `DAPA_URL`\n",
       "* `DB_HOST`, `DB_NAME`, `DB_PASSWORD`, `DB_USER`\n",
       "* `OGC_EDC_URL`\n",
       "* `REFERENCE_DATA`\n"
      ],
      "text/plain": [
       "<IPython.core.display.Markdown object>"
      ]
     },
     "metadata": {},
     "output_type": "display_data"
    }
   ],
   "source": [
    "from edc import setup_environment_variables\n",
    "setup_environment_variables()"
   ]
  },
  {
   "cell_type": "code",
   "execution_count": 2,
   "metadata": {
    "execution": {
     "iopub.execute_input": "2020-09-29T12:36:26.116355Z",
     "iopub.status.busy": "2020-09-29T12:36:26.115777Z",
     "iopub.status.idle": "2020-09-29T12:36:26.119474Z",
     "shell.execute_reply": "2020-09-29T12:36:26.118940Z"
    },
    "papermill": {
     "duration": 0.013191,
     "end_time": "2020-09-29T12:36:26.119580",
     "exception": false,
     "start_time": "2020-09-29T12:36:26.106389",
     "status": "completed"
    },
    "tags": []
   },
   "outputs": [
    {
     "data": {
      "text/html": [
       "<script type=\"text/javascript\">\n",
       "        function toggle(id) {\n",
       "            el = document.getElementById(id);\n",
       "            el.style.display = el.style.display === \"none\" ? \"block\" : \"none\";\n",
       "        }\n",
       "    </script>"
      ],
      "text/plain": [
       "<IPython.core.display.HTML object>"
      ]
     },
     "metadata": {},
     "output_type": "display_data"
    },
    {
     "data": {
      "text/html": [
       "This notebook is compatible with this base image version (user-0.21.2)."
      ],
      "text/plain": [
       "<IPython.core.display.HTML object>"
      ]
     },
     "metadata": {},
     "output_type": "display_data"
    }
   ],
   "source": [
    "from edc import check_compatibility\n",
    "check_compatibility(\"user-0.21.2\")"
   ]
  },
  {
   "cell_type": "markdown",
   "metadata": {
    "papermill": {
     "duration": 0.007009,
     "end_time": "2020-09-29T12:36:26.133921",
     "exception": false,
     "start_time": "2020-09-29T12:36:26.126912",
     "status": "completed"
    },
    "tags": []
   },
   "source": [
    "## xcube Generator Python Access Library\n",
    "\n",
    "This notebook shows how to generate xcube cube using the xcube-gen web service [xcube-gen.brockmann-consult.de](https://xcube-gen.brockmann-consult.de).\n",
    "Please be aware, this notebook will not run unless you have access to the xcube-gen service as well as a bucket on AWS."
   ]
  },
  {
   "cell_type": "code",
   "execution_count": 3,
   "metadata": {
    "execution": {
     "iopub.execute_input": "2020-09-29T12:36:26.151719Z",
     "iopub.status.busy": "2020-09-29T12:36:26.151064Z",
     "iopub.status.idle": "2020-09-29T12:36:26.267110Z",
     "shell.execute_reply": "2020-09-29T12:36:26.266524Z"
    },
    "papermill": {
     "duration": 0.125935,
     "end_time": "2020-09-29T12:36:26.267229",
     "exception": false,
     "start_time": "2020-09-29T12:36:26.141294",
     "status": "completed"
    },
    "tags": []
   },
   "outputs": [
    {
     "data": {
      "text/plain": [
       "'hub@eox.at'"
      ]
     },
     "execution_count": 3,
     "metadata": {},
     "output_type": "execute_result"
    }
   ],
   "source": [
    "from job_api import JobApi\n",
    "api = JobApi()\n",
    "api.whoami"
   ]
  },
  {
   "cell_type": "markdown",
   "metadata": {
    "papermill": {
     "duration": 0.007259,
     "end_time": "2020-09-29T12:36:26.282582",
     "exception": false,
     "start_time": "2020-09-29T12:36:26.275323",
     "status": "completed"
    },
    "pycharm": {
     "name": "#%% md\n"
    },
    "tags": []
   },
   "source": [
    "## Generate a config"
   ]
  },
  {
   "cell_type": "code",
   "execution_count": 4,
   "metadata": {
    "execution": {
     "iopub.execute_input": "2020-09-29T12:36:26.307598Z",
     "iopub.status.busy": "2020-09-29T12:36:26.307005Z",
     "iopub.status.idle": "2020-09-29T12:36:26.309149Z",
     "shell.execute_reply": "2020-09-29T12:36:26.308654Z"
    },
    "papermill": {
     "duration": 0.01912,
     "end_time": "2020-09-29T12:36:26.309259",
     "exception": false,
     "start_time": "2020-09-29T12:36:26.290139",
     "status": "completed"
    },
    "tags": []
   },
   "outputs": [],
   "source": [
    "import os\n",
    "cfg = {\n",
    "  \"input_configs\": [\n",
    "    {\n",
    "      \"store_id\": \"@sentinelhub\",\n",
    "      \"data_id\": \"S2L2A\",\n",
    "      \"open_params\": {\n",
    "        \"tile_size\": [\n",
    "          1000,\n",
    "          1000\n",
    "        ]\n",
    "      }\n",
    "    }\n",
    "  ],\n",
    "  \"cube_config\": {\n",
    "    \"variable_names\": [\n",
    "      \"B01\",\n",
    "      \"B02\"\n",
    "    ],\n",
    "    \"bbox\": [\n",
    "      7,\n",
    "      53,\n",
    "      9,\n",
    "      55\n",
    "    ],\n",
    "    \"spatial_res\": 0.001,\n",
    "    \"crs\": \"WGS84\",\n",
    "    \"time_range\": [\n",
    "      \"2000-06-20\",\n",
    "      \"2000-06-22\"\n",
    "    ],\n",
    "    \"time_period\": \"1D\"\n",
    "  },\n",
    "  \"output_config\": {\n",
    "    \"store_id\": \"s3\",\n",
    "    \"store_params\": {\n",
    "      \"bucket_name\": os.environ[\"AWS_BUCKET\"],\n",
    "      \"aws_access_key_id\": os.environ[\"AWS_ACCESS_KEY_ID\"],\n",
    "      \"aws_secret_access_key\": os.environ[\"AWS_SECRET_ACCESS_KEY\"],\n",
    "    }\n",
    "  }\n",
    "}"
   ]
  },
  {
   "cell_type": "markdown",
   "metadata": {
    "papermill": {
     "duration": 0.007283,
     "end_time": "2020-09-29T12:36:26.324641",
     "exception": false,
     "start_time": "2020-09-29T12:36:26.317358",
     "status": "completed"
    },
    "pycharm": {
     "name": "#%% md\n"
    },
    "tags": []
   },
   "source": [
    "## Generating an xcube"
   ]
  },
  {
   "cell_type": "code",
   "execution_count": 5,
   "metadata": {
    "execution": {
     "iopub.execute_input": "2020-09-29T12:36:26.344765Z",
     "iopub.status.busy": "2020-09-29T12:36:26.344149Z",
     "iopub.status.idle": "2020-09-29T12:36:26.485164Z",
     "shell.execute_reply": "2020-09-29T12:36:26.484614Z"
    },
    "papermill": {
     "duration": 0.153529,
     "end_time": "2020-09-29T12:36:26.485281",
     "exception": false,
     "start_time": "2020-09-29T12:36:26.331752",
     "status": "completed"
    },
    "tags": []
   },
   "outputs": [
    {
     "data": {
      "text/plain": [
       "{'result': {'job_id': 'xcube-gen-9b5ea985-1e6f-46ea-ae97-f626c56c925e',\n",
       "  'status': {'active': None,\n",
       "   'completion_time': None,\n",
       "   'conditions': None,\n",
       "   'failed': None,\n",
       "   'start_time': None,\n",
       "   'succeeded': None}},\n",
       " 'status': 'ok'}"
      ]
     },
     "execution_count": 5,
     "metadata": {},
     "output_type": "execute_result"
    }
   ],
   "source": [
    "response = api.create(cfg=cfg)\n",
    "job_id = response['result']['job_id']\n",
    "response"
   ]
  },
  {
   "cell_type": "markdown",
   "metadata": {
    "papermill": {
     "duration": 0.00743,
     "end_time": "2020-09-29T12:36:26.500162",
     "exception": false,
     "start_time": "2020-09-29T12:36:26.492732",
     "status": "completed"
    },
    "pycharm": {
     "name": "#%% md\n"
    },
    "tags": []
   },
   "source": [
    "## Getting the Status of a Generation Job"
   ]
  },
  {
   "cell_type": "code",
   "execution_count": 6,
   "metadata": {
    "collapsed": false,
    "execution": {
     "iopub.execute_input": "2020-09-29T12:36:26.518758Z",
     "iopub.status.busy": "2020-09-29T12:36:26.518155Z",
     "iopub.status.idle": "2020-09-29T12:36:34.526813Z",
     "shell.execute_reply": "2020-09-29T12:36:34.526073Z"
    },
    "jupyter": {
     "outputs_hidden": false
    },
    "papermill": {
     "duration": 8.019453,
     "end_time": "2020-09-29T12:36:34.526943",
     "exception": false,
     "start_time": "2020-09-29T12:36:26.507490",
     "status": "completed"
    },
    "pycharm": {
     "name": "#%%\n"
    },
    "tags": []
   },
   "outputs": [],
   "source": [
    "# wait until job has been created\n",
    "import time\n",
    "time.sleep(8)"
   ]
  },
  {
   "cell_type": "code",
   "execution_count": 7,
   "metadata": {
    "execution": {
     "iopub.execute_input": "2020-09-29T12:36:34.550496Z",
     "iopub.status.busy": "2020-09-29T12:36:34.549624Z",
     "iopub.status.idle": "2020-09-29T12:36:34.745567Z",
     "shell.execute_reply": "2020-09-29T12:36:34.746236Z"
    },
    "papermill": {
     "duration": 0.210605,
     "end_time": "2020-09-29T12:36:34.746521",
     "exception": false,
     "start_time": "2020-09-29T12:36:34.535916",
     "status": "completed"
    },
    "tags": []
   },
   "outputs": [
    {
     "data": {
      "text/plain": [
       "{'result': {'job_id': 'xcube-gen-9b5ea985-1e6f-46ea-ae97-f626c56c925e',\n",
       "  'output': [],\n",
       "  'status': {'active': 1,\n",
       "   'completion_time': None,\n",
       "   'conditions': None,\n",
       "   'failed': None,\n",
       "   'start_time': 'Tue, 29 Sep 2020 12:36:26 GMT',\n",
       "   'succeeded': None}},\n",
       " 'status': 'ok'}"
      ]
     },
     "execution_count": 7,
     "metadata": {},
     "output_type": "execute_result"
    }
   ],
   "source": [
    "api.status(job_id)"
   ]
  },
  {
   "cell_type": "markdown",
   "metadata": {
    "papermill": {
     "duration": 0.007588,
     "end_time": "2020-09-29T12:36:34.763696",
     "exception": false,
     "start_time": "2020-09-29T12:36:34.756108",
     "status": "completed"
    },
    "pycharm": {
     "name": "#%% md\n"
    },
    "tags": []
   },
   "source": [
    "## Listing my Jobs"
   ]
  },
  {
   "cell_type": "code",
   "execution_count": 8,
   "metadata": {
    "collapsed": false,
    "execution": {
     "iopub.execute_input": "2020-09-29T12:36:34.784243Z",
     "iopub.status.busy": "2020-09-29T12:36:34.783696Z",
     "iopub.status.idle": "2020-09-29T12:36:34.903569Z",
     "shell.execute_reply": "2020-09-29T12:36:34.903997Z"
    },
    "jupyter": {
     "outputs_hidden": false
    },
    "papermill": {
     "duration": 0.132982,
     "end_time": "2020-09-29T12:36:34.904153",
     "exception": false,
     "start_time": "2020-09-29T12:36:34.771171",
     "status": "completed"
    },
    "pycharm": {
     "name": "#%%\n"
    },
    "tags": []
   },
   "outputs": [
    {
     "data": {
      "text/plain": [
       "{'result': [{'job_id': 'xcube-gen-2d35fa63-a104-4b14-b2a6-0dba7fa1d436',\n",
       "   'status': {'active': None,\n",
       "    'completion_time': 'Thu, 09 Jul 2020 09:02:51 GMT',\n",
       "    'failed': None,\n",
       "    'start_time': 'Thu, 09 Jul 2020 09:02:41 GMT',\n",
       "    'succeeded': 1}},\n",
       "  {'job_id': 'xcube-gen-91d670d5-fd8a-42ab-9b31-4fe48e4353ea',\n",
       "   'status': {'active': None,\n",
       "    'completion_time': 'Mon, 13 Jul 2020 11:35:47 GMT',\n",
       "    'failed': None,\n",
       "    'start_time': 'Mon, 13 Jul 2020 11:35:32 GMT',\n",
       "    'succeeded': 1}},\n",
       "  {'job_id': 'xcube-gen-9b5ea985-1e6f-46ea-ae97-f626c56c925e',\n",
       "   'status': {'active': 1,\n",
       "    'completion_time': None,\n",
       "    'failed': None,\n",
       "    'start_time': 'Tue, 29 Sep 2020 12:36:26 GMT',\n",
       "    'succeeded': None}}],\n",
       " 'status': 'ok'}"
      ]
     },
     "execution_count": 8,
     "metadata": {},
     "output_type": "execute_result"
    }
   ],
   "source": [
    "api.list()"
   ]
  },
  {
   "cell_type": "markdown",
   "metadata": {
    "papermill": {
     "duration": 0.007853,
     "end_time": "2020-09-29T12:36:34.920069",
     "exception": false,
     "start_time": "2020-09-29T12:36:34.912216",
     "status": "completed"
    },
    "pycharm": {
     "name": "#%% md\n"
    },
    "tags": []
   },
   "source": [
    "## Deleting a job"
   ]
  },
  {
   "cell_type": "code",
   "execution_count": 9,
   "metadata": {
    "collapsed": false,
    "execution": {
     "iopub.execute_input": "2020-09-29T12:36:34.942743Z",
     "iopub.status.busy": "2020-09-29T12:36:34.942044Z",
     "iopub.status.idle": "2020-09-29T12:36:35.062972Z",
     "shell.execute_reply": "2020-09-29T12:36:35.062382Z"
    },
    "jupyter": {
     "outputs_hidden": false
    },
    "papermill": {
     "duration": 0.135194,
     "end_time": "2020-09-29T12:36:35.063091",
     "exception": false,
     "start_time": "2020-09-29T12:36:34.927897",
     "status": "completed"
    },
    "pycharm": {
     "name": "#%%\n"
    },
    "tags": []
   },
   "outputs": [
    {
     "data": {
      "text/plain": [
       "{'result': 'Success', 'status': 'ok'}"
      ]
     },
     "execution_count": 9,
     "metadata": {},
     "output_type": "execute_result"
    }
   ],
   "source": [
    "api.delete(job_id)"
   ]
  }
 ],
 "metadata": {
  "kernelspec": {
   "display_name": "EDC 0.19.6 (Python 3)",
   "language": "python",
   "name": "eurodatacube-0.19.6"
  },
  "language_info": {
   "codemirror_mode": {
    "name": "ipython",
    "version": 3
   },
   "file_extension": ".py",
   "mimetype": "text/x-python",
   "name": "python",
   "nbconvert_exporter": "python",
   "pygments_lexer": "ipython3",
   "version": "3.7.8"
  },
  "papermill": {
   "duration": 9.822615,
   "end_time": "2020-09-29T12:36:35.278591",
   "environment_variables": {},
   "exception": null,
   "input_path": "/tmp/tmpn1y5jqcc",
   "output_path": "/tmp/cur_notebook.ipynb",
   "parameters": {},
   "start_time": "2020-09-29T12:36:25.455976",
   "version": "2.1.0"
  },
  "properties": {
   "description": "xcube Generator Python Access Library ",
   "id": "f0a95ae8-27d0-4d0e-b5db-0a97e53926dd",
   "license": null,
   "name": "xcube Generator Python Access Library",
   "requirements": [
    "eurodatacube-xcube-gen"
   ],
   "tags": [
    "xcube"
   ],
   "tosAgree": true,
   "type": "Jupyter Notebook",
   "version": "0.0.1"
  }
 },
 "nbformat": 4,
 "nbformat_minor": 4
}