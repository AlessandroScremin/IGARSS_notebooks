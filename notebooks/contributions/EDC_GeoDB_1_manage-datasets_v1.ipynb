{
 "cells": [
  {
   "cell_type": "code",
   "execution_count": 1,
   "id": "1bc2e278",
   "metadata": {
    "execution": {
     "iopub.execute_input": "2021-09-29T15:04:33.333950Z",
     "iopub.status.busy": "2021-09-29T15:04:33.333361Z",
     "iopub.status.idle": "2021-09-29T15:04:33.824535Z",
     "shell.execute_reply": "2021-09-29T15:04:33.823699Z"
    },
    "papermill": {
     "duration": 0.523456,
     "end_time": "2021-09-29T15:04:33.824688",
     "exception": false,
     "start_time": "2021-09-29T15:04:33.301232",
     "status": "completed"
    },
    "tags": []
   },
   "outputs": [
    {
     "data": {
      "text/markdown": [
       "\n",
       "***Notebook Title***  \n",
       "GeoDB: Manage Datasets\n",
       "\n",
       "***Notebook Description***  \n",
       "Euro Data Cube GeoDB: Manage Datasets\n",
       "\n",
       "\n",
       "***Notebook Dependencies***  \n",
       "This notebook requires an active subscription to:\n",
       "* EDC GeoDB\n"
      ],
      "text/plain": [
       "<IPython.core.display.Markdown object>"
      ]
     },
     "metadata": {},
     "output_type": "display_data"
    }
   ],
   "source": [
    "from edc import print_info \n",
    "print_info(\"geodb-manage\")"
   ]
  },
  {
   "cell_type": "code",
   "execution_count": 2,
   "id": "f1fdb01e",
   "metadata": {
    "execution": {
     "iopub.execute_input": "2021-09-29T15:04:33.875170Z",
     "iopub.status.busy": "2021-09-29T15:04:33.874366Z",
     "iopub.status.idle": "2021-09-29T15:04:33.879511Z",
     "shell.execute_reply": "2021-09-29T15:04:33.878993Z"
    },
    "papermill": {
     "duration": 0.031214,
     "end_time": "2021-09-29T15:04:33.879616",
     "exception": false,
     "start_time": "2021-09-29T15:04:33.848402",
     "status": "completed"
    },
    "tags": []
   },
   "outputs": [
    {
     "data": {
      "text/html": [
       "<script type=\"text/javascript\">\n",
       "        function toggle(id) {\n",
       "            el = document.getElementById(id);\n",
       "            el.style.display = el.style.display === \"none\" ? \"block\" : \"none\";\n",
       "        }\n",
       "    </script>"
      ],
      "text/plain": [
       "<IPython.core.display.HTML object>"
      ]
     },
     "metadata": {},
     "output_type": "display_data"
    },
    {
     "data": {
      "text/html": [
       "This notebook is compatible with this base image version (user-0.24.5)."
      ],
      "text/plain": [
       "<IPython.core.display.HTML object>"
      ]
     },
     "metadata": {},
     "output_type": "display_data"
    },
    {
     "data": {
      "text/markdown": [
       "\n",
       "\n",
       "---------\n",
       "\n",
       "The following environment variables are available:\n",
       "\n",
       "* `GEODB_AUTH_AUD`, `GEODB_AUTH_CLIENT_ID`, `GEODB_AUTH_DOMAIN`, `GEODB_API_SERVER_URL`, `GEODB_AUTH_CLIENT_SECRET`, `GEODB_API_SERVER_PORT`\n"
      ],
      "text/plain": [
       "<IPython.core.display.Markdown object>"
      ]
     },
     "metadata": {},
     "output_type": "display_data"
    }
   ],
   "source": [
    "from edc import check_compatibility\n",
    "check_compatibility(\"user-0.24.5\", dependencies=[\"GEODB\"])"
   ]
  },
  {
   "cell_type": "markdown",
   "id": "4589dc0f",
   "metadata": {
    "papermill": {
     "duration": 0.013749,
     "end_time": "2021-09-29T15:04:33.912073",
     "exception": false,
     "start_time": "2021-09-29T15:04:33.898324",
     "status": "completed"
    },
    "tags": []
   },
   "source": [
    "## Manage Collections in your GeoDB\n",
    "\n"
   ]
  },
  {
   "cell_type": "markdown",
   "id": "b700341c",
   "metadata": {
    "papermill": {
     "duration": 0.015024,
     "end_time": "2021-09-29T15:04:33.941140",
     "exception": false,
     "start_time": "2021-09-29T15:04:33.926116",
     "status": "completed"
    },
    "tags": []
   },
   "source": [
    "### Connecting to the GeoDB"
   ]
  },
  {
   "cell_type": "code",
   "execution_count": 3,
   "id": "baa87b49",
   "metadata": {
    "execution": {
     "iopub.execute_input": "2021-09-29T15:04:33.981902Z",
     "iopub.status.busy": "2021-09-29T15:04:33.981369Z",
     "iopub.status.idle": "2021-09-29T15:04:34.542687Z",
     "shell.execute_reply": "2021-09-29T15:04:34.542077Z"
    },
    "papermill": {
     "duration": 0.585858,
     "end_time": "2021-09-29T15:04:34.542799",
     "exception": false,
     "start_time": "2021-09-29T15:04:33.956941",
     "status": "completed"
    },
    "tags": []
   },
   "outputs": [],
   "source": [
    "from xcube_geodb.core.geodb import GeoDBClient"
   ]
  },
  {
   "cell_type": "code",
   "execution_count": 4,
   "id": "9baa3452",
   "metadata": {
    "execution": {
     "iopub.execute_input": "2021-09-29T15:04:34.588522Z",
     "iopub.status.busy": "2021-09-29T15:04:34.588010Z",
     "iopub.status.idle": "2021-09-29T15:04:34.590220Z",
     "shell.execute_reply": "2021-09-29T15:04:34.589787Z"
    },
    "papermill": {
     "duration": 0.019213,
     "end_time": "2021-09-29T15:04:34.590313",
     "exception": false,
     "start_time": "2021-09-29T15:04:34.571100",
     "status": "completed"
    },
    "tags": []
   },
   "outputs": [],
   "source": [
    "geodb = GeoDBClient()"
   ]
  },
  {
   "cell_type": "code",
   "execution_count": 5,
   "id": "a780e3fb",
   "metadata": {
    "execution": {
     "iopub.execute_input": "2021-09-29T15:04:34.630786Z",
     "iopub.status.busy": "2021-09-29T15:04:34.628723Z",
     "iopub.status.idle": "2021-09-29T15:04:35.384584Z",
     "shell.execute_reply": "2021-09-29T15:04:35.384958Z"
    },
    "papermill": {
     "duration": 0.773691,
     "end_time": "2021-09-29T15:04:35.385112",
     "exception": false,
     "start_time": "2021-09-29T15:04:34.611421",
     "status": "completed"
    },
    "tags": []
   },
   "outputs": [
    {
     "data": {
      "text/plain": [
       "'geodb_418dfeac-15f0-4606-9edb-fd9eb722bf04'"
      ]
     },
     "execution_count": 5,
     "metadata": {},
     "output_type": "execute_result"
    }
   ],
   "source": [
    "# If you are logged in, this will tell you what account the system currently uses\n",
    "geodb.whoami"
   ]
  },
  {
   "cell_type": "code",
   "execution_count": 6,
   "id": "f0b2b694",
   "metadata": {
    "execution": {
     "iopub.execute_input": "2021-09-29T15:04:35.419294Z",
     "iopub.status.busy": "2021-09-29T15:04:35.418756Z",
     "iopub.status.idle": "2021-09-29T15:04:35.879037Z",
     "shell.execute_reply": "2021-09-29T15:04:35.878577Z"
    },
    "papermill": {
     "duration": 0.47841,
     "end_time": "2021-09-29T15:04:35.879173",
     "exception": false,
     "start_time": "2021-09-29T15:04:35.400763",
     "status": "completed"
    },
    "tags": []
   },
   "outputs": [
    {
     "data": {
      "text/html": [
       "<div>\n",
       "<style scoped>\n",
       "    .dataframe tbody tr th:only-of-type {\n",
       "        vertical-align: middle;\n",
       "    }\n",
       "\n",
       "    .dataframe tbody tr th {\n",
       "        vertical-align: top;\n",
       "    }\n",
       "\n",
       "    .dataframe thead th {\n",
       "        text-align: right;\n",
       "    }\n",
       "</style>\n",
       "<table border=\"1\" class=\"dataframe\">\n",
       "  <thead>\n",
       "    <tr style=\"text-align: right;\">\n",
       "      <th></th>\n",
       "      <th>owner</th>\n",
       "      <th>database</th>\n",
       "      <th>collection</th>\n",
       "      <th>table_name</th>\n",
       "    </tr>\n",
       "  </thead>\n",
       "  <tbody>\n",
       "    <tr>\n",
       "      <th>0</th>\n",
       "      <td>geodb_0b01bfcd-2d09-46f8-84e8-cb5720fba14c</td>\n",
       "      <td>geodb_0b01bfcd-2d09-46f8-84e8-cb5720fba14c</td>\n",
       "      <td>delineated_parcels_s</td>\n",
       "      <td>delineated_parcels_s</td>\n",
       "    </tr>\n",
       "    <tr>\n",
       "      <th>1</th>\n",
       "      <td>geodb_0b01bfcd-2d09-46f8-84e8-cb5720fba14c</td>\n",
       "      <td>geodb_0b01bfcd-2d09-46f8-84e8-cb5720fba14c</td>\n",
       "      <td>test_batic</td>\n",
       "      <td>test_batic</td>\n",
       "    </tr>\n",
       "    <tr>\n",
       "      <th>2</th>\n",
       "      <td>geodb_0d6df427-8c09-41b9-abc9-64ce13a68125</td>\n",
       "      <td>geodb_0d6df427-8c09-41b9-abc9-64ce13a68125</td>\n",
       "      <td>land_use</td>\n",
       "      <td>land_use</td>\n",
       "    </tr>\n",
       "    <tr>\n",
       "      <th>3</th>\n",
       "      <td>geodb_0d6df427-8c09-41b9-abc9-64ce13a68125</td>\n",
       "      <td>geodb_0d6df427-8c09-41b9-abc9-64ce13a68125</td>\n",
       "      <td>lpis_aut</td>\n",
       "      <td>lpis_aut</td>\n",
       "    </tr>\n",
       "    <tr>\n",
       "      <th>4</th>\n",
       "      <td>geodb_0e5d743f-2134-4561-8946-a073b039176f</td>\n",
       "      <td>geodb_0e5d743f-2134-4561-8946-a073b039176f</td>\n",
       "      <td>ai4eo_bboxes</td>\n",
       "      <td>ai4eo_bboxes</td>\n",
       "    </tr>\n",
       "    <tr>\n",
       "      <th>...</th>\n",
       "      <td>...</td>\n",
       "      <td>...</td>\n",
       "      <td>...</td>\n",
       "      <td>...</td>\n",
       "    </tr>\n",
       "    <tr>\n",
       "      <th>875</th>\n",
       "      <td>geodb_geodb_ci</td>\n",
       "      <td>geodb_geodb_ci</td>\n",
       "      <td>land_use</td>\n",
       "      <td>land_use</td>\n",
       "    </tr>\n",
       "    <tr>\n",
       "      <th>876</th>\n",
       "      <td>geodb_lpis_iacs_admin</td>\n",
       "      <td>lpis_iacs</td>\n",
       "      <td>land_use_slo</td>\n",
       "      <td>land_use_slo</td>\n",
       "    </tr>\n",
       "    <tr>\n",
       "      <th>877</th>\n",
       "      <td>geodb_lpis_iacs_admin</td>\n",
       "      <td>lpis_iacs</td>\n",
       "      <td>lpis_aut</td>\n",
       "      <td>lpis_aut</td>\n",
       "    </tr>\n",
       "    <tr>\n",
       "      <th>878</th>\n",
       "      <td>geodb_lpis_iacs_admin</td>\n",
       "      <td>lpis_iacs</td>\n",
       "      <td>lpis_slo</td>\n",
       "      <td>lpis_slo</td>\n",
       "    </tr>\n",
       "    <tr>\n",
       "      <th>879</th>\n",
       "      <td>geodb_lpis_iacs_admin</td>\n",
       "      <td>lpis_iacs</td>\n",
       "      <td>metadata</td>\n",
       "      <td>metadata</td>\n",
       "    </tr>\n",
       "  </tbody>\n",
       "</table>\n",
       "<p>880 rows × 4 columns</p>\n",
       "</div>"
      ],
      "text/plain": [
       "                                          owner  \\\n",
       "0    geodb_0b01bfcd-2d09-46f8-84e8-cb5720fba14c   \n",
       "1    geodb_0b01bfcd-2d09-46f8-84e8-cb5720fba14c   \n",
       "2    geodb_0d6df427-8c09-41b9-abc9-64ce13a68125   \n",
       "3    geodb_0d6df427-8c09-41b9-abc9-64ce13a68125   \n",
       "4    geodb_0e5d743f-2134-4561-8946-a073b039176f   \n",
       "..                                          ...   \n",
       "875                              geodb_geodb_ci   \n",
       "876                       geodb_lpis_iacs_admin   \n",
       "877                       geodb_lpis_iacs_admin   \n",
       "878                       geodb_lpis_iacs_admin   \n",
       "879                       geodb_lpis_iacs_admin   \n",
       "\n",
       "                                       database            collection  \\\n",
       "0    geodb_0b01bfcd-2d09-46f8-84e8-cb5720fba14c  delineated_parcels_s   \n",
       "1    geodb_0b01bfcd-2d09-46f8-84e8-cb5720fba14c            test_batic   \n",
       "2    geodb_0d6df427-8c09-41b9-abc9-64ce13a68125              land_use   \n",
       "3    geodb_0d6df427-8c09-41b9-abc9-64ce13a68125              lpis_aut   \n",
       "4    geodb_0e5d743f-2134-4561-8946-a073b039176f          ai4eo_bboxes   \n",
       "..                                          ...                   ...   \n",
       "875                              geodb_geodb_ci              land_use   \n",
       "876                                   lpis_iacs          land_use_slo   \n",
       "877                                   lpis_iacs              lpis_aut   \n",
       "878                                   lpis_iacs              lpis_slo   \n",
       "879                                   lpis_iacs              metadata   \n",
       "\n",
       "               table_name  \n",
       "0    delineated_parcels_s  \n",
       "1              test_batic  \n",
       "2                land_use  \n",
       "3                lpis_aut  \n",
       "4            ai4eo_bboxes  \n",
       "..                    ...  \n",
       "875              land_use  \n",
       "876          land_use_slo  \n",
       "877              lpis_aut  \n",
       "878              lpis_slo  \n",
       "879              metadata  \n",
       "\n",
       "[880 rows x 4 columns]"
      ]
     },
     "execution_count": 6,
     "metadata": {},
     "output_type": "execute_result"
    }
   ],
   "source": [
    "# Lets get already existing collections\n",
    "ds = geodb.get_my_collections()\n",
    "ds\n"
   ]
  },
  {
   "cell_type": "code",
   "execution_count": 7,
   "id": "37731416-7f30-4284-89ff-f55cb7f3813e",
   "metadata": {
    "execution": {
     "iopub.execute_input": "2021-09-29T15:04:35.912918Z",
     "iopub.status.busy": "2021-09-29T15:04:35.912133Z",
     "iopub.status.idle": "2021-09-29T15:04:35.915035Z",
     "shell.execute_reply": "2021-09-29T15:04:35.915394Z"
    },
    "papermill": {
     "duration": 0.021577,
     "end_time": "2021-09-29T15:04:35.915497",
     "exception": false,
     "start_time": "2021-09-29T15:04:35.893920",
     "status": "completed"
    },
    "tags": []
   },
   "outputs": [
    {
     "data": {
      "text/plain": [
       "True"
      ]
     },
     "execution_count": 7,
     "metadata": {},
     "output_type": "execute_result"
    }
   ],
   "source": [
    "ds[(ds.database == 'geodb_geodb_ci') & (ds.collection == 'land_use')].table_name.count() == 1"
   ]
  },
  {
   "cell_type": "markdown",
   "id": "66a44538",
   "metadata": {
    "papermill": {
     "duration": 0.01457,
     "end_time": "2021-09-29T15:04:35.944677",
     "exception": false,
     "start_time": "2021-09-29T15:04:35.930107",
     "status": "completed"
    },
    "tags": []
   },
   "source": [
    "### Creating collections\n",
    "\n",
    "Once the connection has been established you will be able to create a collection. The collection will contain standard properties (fields) plus custom properties\n",
    "which you can add at your disgretion. Please use [PostGreSQL type definitions](https://www.postgresql.org/docs/11/datatype.html). We recommend stying simple with\n",
    "your data types as we have not tested every single type."
   ]
  },
  {
   "cell_type": "code",
   "execution_count": 8,
   "id": "16370ff2",
   "metadata": {
    "execution": {
     "iopub.execute_input": "2021-09-29T15:04:35.985119Z",
     "iopub.status.busy": "2021-09-29T15:04:35.984525Z",
     "iopub.status.idle": "2021-09-29T15:04:37.354057Z",
     "shell.execute_reply": "2021-09-29T15:04:37.354454Z"
    },
    "papermill": {
     "duration": 1.389508,
     "end_time": "2021-09-29T15:04:37.354583",
     "exception": false,
     "start_time": "2021-09-29T15:04:35.965075",
     "status": "completed"
    },
    "tags": []
   },
   "outputs": [],
   "source": [
    "ds = geodb.get_my_collections()\n",
    "\n",
    "if ds[(ds.database == geodb.whoami) & (ds.collection == 'land_use')].collection.count() == 0:\n",
    "    # Have a look at fiona feature schema\n",
    "    collections = {\n",
    "            \"land_use\": \n",
    "            {\n",
    "                \"crs\": 3794,\n",
    "                \"properties\": \n",
    "                {\n",
    "                    \"RABA_PID\": \"float\", \n",
    "                    \"RABA_ID\": \"float\", \n",
    "                    \"D_OD\": \"date\"\n",
    "                }\n",
    "            }\n",
    "        }\n",
    "\n",
    "\n",
    "    geodb.create_collections(collections)\n",
    "    import geopandas\n",
    "    import os\n",
    "    gdf = geopandas.read_file(os.path.expanduser(\"~/.shared/notebooks/eurodatacube/notebooks/getting-started/data/sample/land_use.shp\"))\n",
    "    geodb.insert_into_collection('land_use', gdf)"
   ]
  },
  {
   "cell_type": "code",
   "execution_count": 9,
   "id": "b916f81a",
   "metadata": {
    "execution": {
     "iopub.execute_input": "2021-09-29T15:04:37.388330Z",
     "iopub.status.busy": "2021-09-29T15:04:37.387804Z",
     "iopub.status.idle": "2021-09-29T15:04:37.835877Z",
     "shell.execute_reply": "2021-09-29T15:04:37.835426Z"
    },
    "papermill": {
     "duration": 0.466388,
     "end_time": "2021-09-29T15:04:37.835984",
     "exception": false,
     "start_time": "2021-09-29T15:04:37.369596",
     "status": "completed"
    },
    "tags": []
   },
   "outputs": [
    {
     "data": {
      "text/html": [
       "<div>\n",
       "<style scoped>\n",
       "    .dataframe tbody tr th:only-of-type {\n",
       "        vertical-align: middle;\n",
       "    }\n",
       "\n",
       "    .dataframe tbody tr th {\n",
       "        vertical-align: top;\n",
       "    }\n",
       "\n",
       "    .dataframe thead th {\n",
       "        text-align: right;\n",
       "    }\n",
       "</style>\n",
       "<table border=\"1\" class=\"dataframe\">\n",
       "  <thead>\n",
       "    <tr style=\"text-align: right;\">\n",
       "      <th></th>\n",
       "      <th>owner</th>\n",
       "      <th>database</th>\n",
       "      <th>collection</th>\n",
       "      <th>table_name</th>\n",
       "    </tr>\n",
       "  </thead>\n",
       "  <tbody>\n",
       "    <tr>\n",
       "      <th>0</th>\n",
       "      <td>geodb_0b01bfcd-2d09-46f8-84e8-cb5720fba14c</td>\n",
       "      <td>geodb_0b01bfcd-2d09-46f8-84e8-cb5720fba14c</td>\n",
       "      <td>delineated_parcels_s</td>\n",
       "      <td>delineated_parcels_s</td>\n",
       "    </tr>\n",
       "    <tr>\n",
       "      <th>1</th>\n",
       "      <td>geodb_0b01bfcd-2d09-46f8-84e8-cb5720fba14c</td>\n",
       "      <td>geodb_0b01bfcd-2d09-46f8-84e8-cb5720fba14c</td>\n",
       "      <td>test_batic</td>\n",
       "      <td>test_batic</td>\n",
       "    </tr>\n",
       "    <tr>\n",
       "      <th>2</th>\n",
       "      <td>geodb_0d6df427-8c09-41b9-abc9-64ce13a68125</td>\n",
       "      <td>geodb_0d6df427-8c09-41b9-abc9-64ce13a68125</td>\n",
       "      <td>land_use</td>\n",
       "      <td>land_use</td>\n",
       "    </tr>\n",
       "    <tr>\n",
       "      <th>3</th>\n",
       "      <td>geodb_0d6df427-8c09-41b9-abc9-64ce13a68125</td>\n",
       "      <td>geodb_0d6df427-8c09-41b9-abc9-64ce13a68125</td>\n",
       "      <td>lpis_aut</td>\n",
       "      <td>lpis_aut</td>\n",
       "    </tr>\n",
       "    <tr>\n",
       "      <th>4</th>\n",
       "      <td>geodb_0e5d743f-2134-4561-8946-a073b039176f</td>\n",
       "      <td>geodb_0e5d743f-2134-4561-8946-a073b039176f</td>\n",
       "      <td>ai4eo_bboxes</td>\n",
       "      <td>ai4eo_bboxes</td>\n",
       "    </tr>\n",
       "    <tr>\n",
       "      <th>...</th>\n",
       "      <td>...</td>\n",
       "      <td>...</td>\n",
       "      <td>...</td>\n",
       "      <td>...</td>\n",
       "    </tr>\n",
       "    <tr>\n",
       "      <th>875</th>\n",
       "      <td>geodb_geodb_ci</td>\n",
       "      <td>geodb_geodb_ci</td>\n",
       "      <td>land_use</td>\n",
       "      <td>land_use</td>\n",
       "    </tr>\n",
       "    <tr>\n",
       "      <th>876</th>\n",
       "      <td>geodb_lpis_iacs_admin</td>\n",
       "      <td>lpis_iacs</td>\n",
       "      <td>land_use_slo</td>\n",
       "      <td>land_use_slo</td>\n",
       "    </tr>\n",
       "    <tr>\n",
       "      <th>877</th>\n",
       "      <td>geodb_lpis_iacs_admin</td>\n",
       "      <td>lpis_iacs</td>\n",
       "      <td>lpis_aut</td>\n",
       "      <td>lpis_aut</td>\n",
       "    </tr>\n",
       "    <tr>\n",
       "      <th>878</th>\n",
       "      <td>geodb_lpis_iacs_admin</td>\n",
       "      <td>lpis_iacs</td>\n",
       "      <td>lpis_slo</td>\n",
       "      <td>lpis_slo</td>\n",
       "    </tr>\n",
       "    <tr>\n",
       "      <th>879</th>\n",
       "      <td>geodb_lpis_iacs_admin</td>\n",
       "      <td>lpis_iacs</td>\n",
       "      <td>metadata</td>\n",
       "      <td>metadata</td>\n",
       "    </tr>\n",
       "  </tbody>\n",
       "</table>\n",
       "<p>880 rows × 4 columns</p>\n",
       "</div>"
      ],
      "text/plain": [
       "                                          owner  \\\n",
       "0    geodb_0b01bfcd-2d09-46f8-84e8-cb5720fba14c   \n",
       "1    geodb_0b01bfcd-2d09-46f8-84e8-cb5720fba14c   \n",
       "2    geodb_0d6df427-8c09-41b9-abc9-64ce13a68125   \n",
       "3    geodb_0d6df427-8c09-41b9-abc9-64ce13a68125   \n",
       "4    geodb_0e5d743f-2134-4561-8946-a073b039176f   \n",
       "..                                          ...   \n",
       "875                              geodb_geodb_ci   \n",
       "876                       geodb_lpis_iacs_admin   \n",
       "877                       geodb_lpis_iacs_admin   \n",
       "878                       geodb_lpis_iacs_admin   \n",
       "879                       geodb_lpis_iacs_admin   \n",
       "\n",
       "                                       database            collection  \\\n",
       "0    geodb_0b01bfcd-2d09-46f8-84e8-cb5720fba14c  delineated_parcels_s   \n",
       "1    geodb_0b01bfcd-2d09-46f8-84e8-cb5720fba14c            test_batic   \n",
       "2    geodb_0d6df427-8c09-41b9-abc9-64ce13a68125              land_use   \n",
       "3    geodb_0d6df427-8c09-41b9-abc9-64ce13a68125              lpis_aut   \n",
       "4    geodb_0e5d743f-2134-4561-8946-a073b039176f          ai4eo_bboxes   \n",
       "..                                          ...                   ...   \n",
       "875                              geodb_geodb_ci              land_use   \n",
       "876                                   lpis_iacs          land_use_slo   \n",
       "877                                   lpis_iacs              lpis_aut   \n",
       "878                                   lpis_iacs              lpis_slo   \n",
       "879                                   lpis_iacs              metadata   \n",
       "\n",
       "               table_name  \n",
       "0    delineated_parcels_s  \n",
       "1              test_batic  \n",
       "2                land_use  \n",
       "3                lpis_aut  \n",
       "4            ai4eo_bboxes  \n",
       "..                    ...  \n",
       "875              land_use  \n",
       "876          land_use_slo  \n",
       "877              lpis_aut  \n",
       "878              lpis_slo  \n",
       "879              metadata  \n",
       "\n",
       "[880 rows x 4 columns]"
      ]
     },
     "execution_count": 9,
     "metadata": {},
     "output_type": "execute_result"
    }
   ],
   "source": [
    "ds = geodb.get_my_collections()\n",
    "ds"
   ]
  },
  {
   "cell_type": "markdown",
   "id": "454c4c30",
   "metadata": {
    "papermill": {
     "duration": 0.015085,
     "end_time": "2021-09-29T15:04:37.866287",
     "exception": false,
     "start_time": "2021-09-29T15:04:37.851202",
     "status": "completed"
    },
    "tags": []
   },
   "source": [
    "### Loading data into a dataset\n",
    "\n",
    "Once the table has been created, you can load data into the dataset. The example below loads a shapefile. The attributes of the shapefile correspond to the dataset's properties.\n"
   ]
  },
  {
   "cell_type": "code",
   "execution_count": 10,
   "id": "35ddeb73",
   "metadata": {
    "execution": {
     "iopub.execute_input": "2021-09-29T15:04:38.726630Z",
     "iopub.status.busy": "2021-09-29T15:04:38.723869Z",
     "iopub.status.idle": "2021-09-29T15:04:39.100944Z",
     "shell.execute_reply": "2021-09-29T15:04:39.100487Z"
    },
    "papermill": {
     "duration": 1.219532,
     "end_time": "2021-09-29T15:04:39.101073",
     "exception": false,
     "start_time": "2021-09-29T15:04:37.881541",
     "status": "completed"
    },
    "tags": []
   },
   "outputs": [
    {
     "data": {
      "text/html": [
       "<div>\n",
       "<style scoped>\n",
       "    .dataframe tbody tr th:only-of-type {\n",
       "        vertical-align: middle;\n",
       "    }\n",
       "\n",
       "    .dataframe tbody tr th {\n",
       "        vertical-align: top;\n",
       "    }\n",
       "\n",
       "    .dataframe thead th {\n",
       "        text-align: right;\n",
       "    }\n",
       "</style>\n",
       "<table border=\"1\" class=\"dataframe\">\n",
       "  <thead>\n",
       "    <tr style=\"text-align: right;\">\n",
       "      <th></th>\n",
       "      <th>RABA_PID</th>\n",
       "      <th>RABA_ID</th>\n",
       "      <th>D_OD</th>\n",
       "      <th>geometry</th>\n",
       "    </tr>\n",
       "  </thead>\n",
       "  <tbody>\n",
       "    <tr>\n",
       "      <th>0</th>\n",
       "      <td>4770326.0</td>\n",
       "      <td>1410</td>\n",
       "      <td>2019-03-26</td>\n",
       "      <td>POLYGON ((453952.629 91124.177, 453952.696 911...</td>\n",
       "    </tr>\n",
       "    <tr>\n",
       "      <th>1</th>\n",
       "      <td>4770325.0</td>\n",
       "      <td>1300</td>\n",
       "      <td>2019-03-26</td>\n",
       "      <td>POLYGON ((453810.376 91150.199, 453812.552 911...</td>\n",
       "    </tr>\n",
       "    <tr>\n",
       "      <th>2</th>\n",
       "      <td>2305689.0</td>\n",
       "      <td>7000</td>\n",
       "      <td>2019-02-25</td>\n",
       "      <td>POLYGON ((456099.635 97696.070, 456112.810 976...</td>\n",
       "    </tr>\n",
       "    <tr>\n",
       "      <th>3</th>\n",
       "      <td>2305596.0</td>\n",
       "      <td>1100</td>\n",
       "      <td>2019-02-25</td>\n",
       "      <td>POLYGON ((455929.405 97963.785, 455933.284 979...</td>\n",
       "    </tr>\n",
       "    <tr>\n",
       "      <th>4</th>\n",
       "      <td>2310160.0</td>\n",
       "      <td>1100</td>\n",
       "      <td>2019-03-11</td>\n",
       "      <td>POLYGON ((461561.512 96119.256, 461632.114 960...</td>\n",
       "    </tr>\n",
       "    <tr>\n",
       "      <th>...</th>\n",
       "      <td>...</td>\n",
       "      <td>...</td>\n",
       "      <td>...</td>\n",
       "      <td>...</td>\n",
       "    </tr>\n",
       "    <tr>\n",
       "      <th>9822</th>\n",
       "      <td>6253989.0</td>\n",
       "      <td>1600</td>\n",
       "      <td>2019-03-08</td>\n",
       "      <td>POLYGON ((460637.334 96865.891, 460647.927 969...</td>\n",
       "    </tr>\n",
       "    <tr>\n",
       "      <th>9823</th>\n",
       "      <td>6252044.0</td>\n",
       "      <td>1600</td>\n",
       "      <td>2019-03-26</td>\n",
       "      <td>POLYGON ((459467.868 96839.686, 459467.770 968...</td>\n",
       "    </tr>\n",
       "    <tr>\n",
       "      <th>9824</th>\n",
       "      <td>6245985.0</td>\n",
       "      <td>2000</td>\n",
       "      <td>2019-04-08</td>\n",
       "      <td>POLYGON ((459488.998 94066.248, 459498.145 940...</td>\n",
       "    </tr>\n",
       "    <tr>\n",
       "      <th>9825</th>\n",
       "      <td>6245986.0</td>\n",
       "      <td>2000</td>\n",
       "      <td>2019-02-20</td>\n",
       "      <td>POLYGON ((459676.680 94000.000, 459672.469 939...</td>\n",
       "    </tr>\n",
       "    <tr>\n",
       "      <th>9826</th>\n",
       "      <td>6245987.0</td>\n",
       "      <td>2000</td>\n",
       "      <td>2019-03-11</td>\n",
       "      <td>POLYGON ((459690.580 94042.607, 459686.872 940...</td>\n",
       "    </tr>\n",
       "  </tbody>\n",
       "</table>\n",
       "<p>9827 rows × 4 columns</p>\n",
       "</div>"
      ],
      "text/plain": [
       "       RABA_PID  RABA_ID        D_OD  \\\n",
       "0     4770326.0     1410  2019-03-26   \n",
       "1     4770325.0     1300  2019-03-26   \n",
       "2     2305689.0     7000  2019-02-25   \n",
       "3     2305596.0     1100  2019-02-25   \n",
       "4     2310160.0     1100  2019-03-11   \n",
       "...         ...      ...         ...   \n",
       "9822  6253989.0     1600  2019-03-08   \n",
       "9823  6252044.0     1600  2019-03-26   \n",
       "9824  6245985.0     2000  2019-04-08   \n",
       "9825  6245986.0     2000  2019-02-20   \n",
       "9826  6245987.0     2000  2019-03-11   \n",
       "\n",
       "                                               geometry  \n",
       "0     POLYGON ((453952.629 91124.177, 453952.696 911...  \n",
       "1     POLYGON ((453810.376 91150.199, 453812.552 911...  \n",
       "2     POLYGON ((456099.635 97696.070, 456112.810 976...  \n",
       "3     POLYGON ((455929.405 97963.785, 455933.284 979...  \n",
       "4     POLYGON ((461561.512 96119.256, 461632.114 960...  \n",
       "...                                                 ...  \n",
       "9822  POLYGON ((460637.334 96865.891, 460647.927 969...  \n",
       "9823  POLYGON ((459467.868 96839.686, 459467.770 968...  \n",
       "9824  POLYGON ((459488.998 94066.248, 459498.145 940...  \n",
       "9825  POLYGON ((459676.680 94000.000, 459672.469 939...  \n",
       "9826  POLYGON ((459690.580 94042.607, 459686.872 940...  \n",
       "\n",
       "[9827 rows x 4 columns]"
      ]
     },
     "execution_count": 10,
     "metadata": {},
     "output_type": "execute_result"
    }
   ],
   "source": [
    "import geopandas\n",
    "import os\n",
    "gdf = geopandas.read_file(os.path.expanduser(\"~/.shared/notebooks/eurodatacube/notebooks/getting-started/data/sample/land_use.shp\"))\n",
    "gdf"
   ]
  },
  {
   "cell_type": "code",
   "execution_count": 11,
   "id": "582ac5f4",
   "metadata": {
    "execution": {
     "iopub.execute_input": "2021-09-29T15:04:39.135924Z",
     "iopub.status.busy": "2021-09-29T15:04:39.134524Z",
     "iopub.status.idle": "2021-09-29T15:04:48.822025Z",
     "shell.execute_reply": "2021-09-29T15:04:48.821500Z"
    },
    "papermill": {
     "duration": 9.705426,
     "end_time": "2021-09-29T15:04:48.822130",
     "exception": false,
     "start_time": "2021-09-29T15:04:39.116704",
     "status": "completed"
    },
    "tags": []
   },
   "outputs": [
    {
     "name": "stdout",
     "output_type": "stream",
     "text": [
      "Processing rows from 0 to 999\n"
     ]
    },
    {
     "name": "stdout",
     "output_type": "stream",
     "text": [
      "Processing rows from 1000 to 1999\n"
     ]
    },
    {
     "name": "stdout",
     "output_type": "stream",
     "text": [
      "Processing rows from 2000 to 2999\n"
     ]
    },
    {
     "name": "stdout",
     "output_type": "stream",
     "text": [
      "Processing rows from 3000 to 3999\n"
     ]
    },
    {
     "name": "stdout",
     "output_type": "stream",
     "text": [
      "Processing rows from 4000 to 4999\n"
     ]
    },
    {
     "name": "stdout",
     "output_type": "stream",
     "text": [
      "Processing rows from 5000 to 5999\n"
     ]
    },
    {
     "name": "stdout",
     "output_type": "stream",
     "text": [
      "Processing rows from 6000 to 6999\n"
     ]
    },
    {
     "name": "stdout",
     "output_type": "stream",
     "text": [
      "Processing rows from 7000 to 7999\n"
     ]
    },
    {
     "name": "stdout",
     "output_type": "stream",
     "text": [
      "Processing rows from 8000 to 8999\n"
     ]
    },
    {
     "name": "stdout",
     "output_type": "stream",
     "text": [
      "Processing rows from 9000 to 9827\n"
     ]
    },
    {
     "data": {
      "text/plain": [
       "9827 rows inserted into land_use"
      ]
     },
     "execution_count": 11,
     "metadata": {},
     "output_type": "execute_result"
    }
   ],
   "source": [
    "geodb.insert_into_collection('land_use', gdf)"
   ]
  },
  {
   "cell_type": "code",
   "execution_count": 12,
   "id": "20127563",
   "metadata": {
    "execution": {
     "iopub.execute_input": "2021-09-29T15:04:48.862221Z",
     "iopub.status.busy": "2021-09-29T15:04:48.861711Z",
     "iopub.status.idle": "2021-09-29T15:04:51.530700Z",
     "shell.execute_reply": "2021-09-29T15:04:51.530244Z"
    },
    "papermill": {
     "duration": 2.690948,
     "end_time": "2021-09-29T15:04:51.530812",
     "exception": false,
     "start_time": "2021-09-29T15:04:48.839864",
     "status": "completed"
    },
    "tags": []
   },
   "outputs": [
    {
     "data": {
      "text/html": [
       "<div>\n",
       "<style scoped>\n",
       "    .dataframe tbody tr th:only-of-type {\n",
       "        vertical-align: middle;\n",
       "    }\n",
       "\n",
       "    .dataframe tbody tr th {\n",
       "        vertical-align: top;\n",
       "    }\n",
       "\n",
       "    .dataframe thead th {\n",
       "        text-align: right;\n",
       "    }\n",
       "</style>\n",
       "<table border=\"1\" class=\"dataframe\">\n",
       "  <thead>\n",
       "    <tr style=\"text-align: right;\">\n",
       "      <th></th>\n",
       "      <th>id</th>\n",
       "      <th>created_at</th>\n",
       "      <th>modified_at</th>\n",
       "      <th>geometry</th>\n",
       "      <th>raba_pid</th>\n",
       "      <th>raba_id</th>\n",
       "      <th>d_od</th>\n",
       "    </tr>\n",
       "  </thead>\n",
       "  <tbody>\n",
       "    <tr>\n",
       "      <th>0</th>\n",
       "      <td>3</td>\n",
       "      <td>2021-08-31T12:28:16.745304+00:00</td>\n",
       "      <td>None</td>\n",
       "      <td>POLYGON ((456099.635 97696.070, 456112.810 976...</td>\n",
       "      <td>2305689</td>\n",
       "      <td>7000</td>\n",
       "      <td>2019-02-25</td>\n",
       "    </tr>\n",
       "    <tr>\n",
       "      <th>1</th>\n",
       "      <td>26</td>\n",
       "      <td>2021-08-31T12:28:16.745304+00:00</td>\n",
       "      <td>None</td>\n",
       "      <td>POLYGON ((459898.930 100306.841, 459906.288 10...</td>\n",
       "      <td>2301992</td>\n",
       "      <td>7000</td>\n",
       "      <td>2019-04-06</td>\n",
       "    </tr>\n",
       "    <tr>\n",
       "      <th>2</th>\n",
       "      <td>95</td>\n",
       "      <td>2021-08-31T12:28:16.745304+00:00</td>\n",
       "      <td>None</td>\n",
       "      <td>POLYGON ((459591.248 92619.056, 459592.745 926...</td>\n",
       "      <td>2333229</td>\n",
       "      <td>7000</td>\n",
       "      <td>2019-02-20</td>\n",
       "    </tr>\n",
       "    <tr>\n",
       "      <th>3</th>\n",
       "      <td>115</td>\n",
       "      <td>2021-08-31T12:28:16.745304+00:00</td>\n",
       "      <td>None</td>\n",
       "      <td>POLYGON ((459013.303 100354.458, 459022.756 10...</td>\n",
       "      <td>2336738</td>\n",
       "      <td>7000</td>\n",
       "      <td>2019-03-15</td>\n",
       "    </tr>\n",
       "    <tr>\n",
       "      <th>4</th>\n",
       "      <td>129</td>\n",
       "      <td>2021-08-31T12:28:16.745304+00:00</td>\n",
       "      <td>None</td>\n",
       "      <td>POLYGON ((460851.200 93442.039, 460846.405 934...</td>\n",
       "      <td>6292562</td>\n",
       "      <td>7000</td>\n",
       "      <td>2019-02-21</td>\n",
       "    </tr>\n",
       "    <tr>\n",
       "      <th>...</th>\n",
       "      <td>...</td>\n",
       "      <td>...</td>\n",
       "      <td>...</td>\n",
       "      <td>...</td>\n",
       "      <td>...</td>\n",
       "      <td>...</td>\n",
       "      <td>...</td>\n",
       "    </tr>\n",
       "    <tr>\n",
       "      <th>763</th>\n",
       "      <td>19246</td>\n",
       "      <td>2021-09-29T15:04:48.588108+00:00</td>\n",
       "      <td>None</td>\n",
       "      <td>POLYGON ((456523.670 94000.000, 456550.368 939...</td>\n",
       "      <td>6187993</td>\n",
       "      <td>7000</td>\n",
       "      <td>2019-03-13</td>\n",
       "    </tr>\n",
       "    <tr>\n",
       "      <th>764</th>\n",
       "      <td>19373</td>\n",
       "      <td>2021-09-29T15:04:48.588108+00:00</td>\n",
       "      <td>None</td>\n",
       "      <td>POLYGON ((460793.279 94000.000, 460797.466 939...</td>\n",
       "      <td>6219403</td>\n",
       "      <td>7000</td>\n",
       "      <td>2019-02-21</td>\n",
       "    </tr>\n",
       "    <tr>\n",
       "      <th>765</th>\n",
       "      <td>19387</td>\n",
       "      <td>2021-09-29T15:04:48.588108+00:00</td>\n",
       "      <td>None</td>\n",
       "      <td>POLYGON ((461750.000 98434.292, 461750.000 984...</td>\n",
       "      <td>6219602</td>\n",
       "      <td>7000</td>\n",
       "      <td>2019-03-20</td>\n",
       "    </tr>\n",
       "    <tr>\n",
       "      <th>766</th>\n",
       "      <td>19451</td>\n",
       "      <td>2021-09-29T15:04:48.588108+00:00</td>\n",
       "      <td>None</td>\n",
       "      <td>POLYGON ((463628.912 97501.218, 463636.859 975...</td>\n",
       "      <td>6215237</td>\n",
       "      <td>7000</td>\n",
       "      <td>2019-03-20</td>\n",
       "    </tr>\n",
       "    <tr>\n",
       "      <th>767</th>\n",
       "      <td>19471</td>\n",
       "      <td>2021-09-29T15:04:48.588108+00:00</td>\n",
       "      <td>None</td>\n",
       "      <td>POLYGON ((462450.205 94000.000, 462457.333 940...</td>\n",
       "      <td>6213419</td>\n",
       "      <td>7000</td>\n",
       "      <td>2019-03-21</td>\n",
       "    </tr>\n",
       "  </tbody>\n",
       "</table>\n",
       "<p>768 rows × 7 columns</p>\n",
       "</div>"
      ],
      "text/plain": [
       "        id                        created_at modified_at  \\\n",
       "0        3  2021-08-31T12:28:16.745304+00:00        None   \n",
       "1       26  2021-08-31T12:28:16.745304+00:00        None   \n",
       "2       95  2021-08-31T12:28:16.745304+00:00        None   \n",
       "3      115  2021-08-31T12:28:16.745304+00:00        None   \n",
       "4      129  2021-08-31T12:28:16.745304+00:00        None   \n",
       "..     ...                               ...         ...   \n",
       "763  19246  2021-09-29T15:04:48.588108+00:00        None   \n",
       "764  19373  2021-09-29T15:04:48.588108+00:00        None   \n",
       "765  19387  2021-09-29T15:04:48.588108+00:00        None   \n",
       "766  19451  2021-09-29T15:04:48.588108+00:00        None   \n",
       "767  19471  2021-09-29T15:04:48.588108+00:00        None   \n",
       "\n",
       "                                              geometry  raba_pid  raba_id  \\\n",
       "0    POLYGON ((456099.635 97696.070, 456112.810 976...   2305689     7000   \n",
       "1    POLYGON ((459898.930 100306.841, 459906.288 10...   2301992     7000   \n",
       "2    POLYGON ((459591.248 92619.056, 459592.745 926...   2333229     7000   \n",
       "3    POLYGON ((459013.303 100354.458, 459022.756 10...   2336738     7000   \n",
       "4    POLYGON ((460851.200 93442.039, 460846.405 934...   6292562     7000   \n",
       "..                                                 ...       ...      ...   \n",
       "763  POLYGON ((456523.670 94000.000, 456550.368 939...   6187993     7000   \n",
       "764  POLYGON ((460793.279 94000.000, 460797.466 939...   6219403     7000   \n",
       "765  POLYGON ((461750.000 98434.292, 461750.000 984...   6219602     7000   \n",
       "766  POLYGON ((463628.912 97501.218, 463636.859 975...   6215237     7000   \n",
       "767  POLYGON ((462450.205 94000.000, 462457.333 940...   6213419     7000   \n",
       "\n",
       "           d_od  \n",
       "0    2019-02-25  \n",
       "1    2019-04-06  \n",
       "2    2019-02-20  \n",
       "3    2019-03-15  \n",
       "4    2019-02-21  \n",
       "..          ...  \n",
       "763  2019-03-13  \n",
       "764  2019-02-21  \n",
       "765  2019-03-20  \n",
       "766  2019-03-20  \n",
       "767  2019-03-21  \n",
       "\n",
       "[768 rows x 7 columns]"
      ]
     },
     "execution_count": 12,
     "metadata": {},
     "output_type": "execute_result"
    }
   ],
   "source": [
    "geodb.get_collection('land_use', query=\"raba_id=eq.7000\")"
   ]
  },
  {
   "cell_type": "markdown",
   "id": "1ae225fe",
   "metadata": {
    "papermill": {
     "duration": 0.01807,
     "end_time": "2021-09-29T15:04:51.566945",
     "exception": false,
     "start_time": "2021-09-29T15:04:51.548875",
     "status": "completed"
    },
    "tags": []
   },
   "source": [
    "### Delete from a Collection"
   ]
  },
  {
   "cell_type": "code",
   "execution_count": 13,
   "id": "ba7e7a44",
   "metadata": {
    "execution": {
     "iopub.execute_input": "2021-09-29T15:04:51.607371Z",
     "iopub.status.busy": "2021-09-29T15:04:51.606804Z",
     "iopub.status.idle": "2021-09-29T15:04:53.111212Z",
     "shell.execute_reply": "2021-09-29T15:04:53.110709Z"
    },
    "papermill": {
     "duration": 1.525851,
     "end_time": "2021-09-29T15:04:53.111317",
     "exception": false,
     "start_time": "2021-09-29T15:04:51.585466",
     "status": "completed"
    },
    "tags": []
   },
   "outputs": [
    {
     "data": {
      "text/plain": [
       "Data from land_use deleted"
      ]
     },
     "execution_count": 13,
     "metadata": {},
     "output_type": "execute_result"
    }
   ],
   "source": [
    "geodb.delete_from_collection('land_use', query=\"raba_id=eq.7000\")"
   ]
  },
  {
   "cell_type": "code",
   "execution_count": 14,
   "id": "b99b8942",
   "metadata": {
    "execution": {
     "iopub.execute_input": "2021-09-29T15:04:53.151285Z",
     "iopub.status.busy": "2021-09-29T15:04:53.150022Z",
     "iopub.status.idle": "2021-09-29T15:04:55.695042Z",
     "shell.execute_reply": "2021-09-29T15:04:55.695415Z"
    },
    "papermill": {
     "duration": 2.56602,
     "end_time": "2021-09-29T15:04:55.695542",
     "exception": false,
     "start_time": "2021-09-29T15:04:53.129522",
     "status": "completed"
    },
    "tags": []
   },
   "outputs": [
    {
     "data": {
      "text/html": [
       "<div>\n",
       "<style scoped>\n",
       "    .dataframe tbody tr th:only-of-type {\n",
       "        vertical-align: middle;\n",
       "    }\n",
       "\n",
       "    .dataframe tbody tr th {\n",
       "        vertical-align: top;\n",
       "    }\n",
       "\n",
       "    .dataframe thead th {\n",
       "        text-align: right;\n",
       "    }\n",
       "</style>\n",
       "<table border=\"1\" class=\"dataframe\">\n",
       "  <thead>\n",
       "    <tr style=\"text-align: right;\">\n",
       "      <th></th>\n",
       "      <th>Empty Result</th>\n",
       "    </tr>\n",
       "  </thead>\n",
       "  <tbody>\n",
       "  </tbody>\n",
       "</table>\n",
       "</div>"
      ],
      "text/plain": [
       "Empty DataFrame\n",
       "Columns: [Empty Result]\n",
       "Index: []"
      ]
     },
     "execution_count": 14,
     "metadata": {},
     "output_type": "execute_result"
    }
   ],
   "source": [
    "geodb.get_collection('land_use', query=\"raba_id=eq.7000\")"
   ]
  },
  {
   "cell_type": "markdown",
   "id": "1545a8f9",
   "metadata": {
    "papermill": {
     "duration": 0.019524,
     "end_time": "2021-09-29T15:04:55.733645",
     "exception": false,
     "start_time": "2021-09-29T15:04:55.714121",
     "status": "completed"
    },
    "tags": []
   },
   "source": [
    "### Updating a Collection"
   ]
  },
  {
   "cell_type": "code",
   "execution_count": 15,
   "id": "292b9530",
   "metadata": {
    "execution": {
     "iopub.execute_input": "2021-09-29T15:04:55.774922Z",
     "iopub.status.busy": "2021-09-29T15:04:55.774397Z",
     "iopub.status.idle": "2021-09-29T15:04:58.618191Z",
     "shell.execute_reply": "2021-09-29T15:04:58.617674Z"
    },
    "papermill": {
     "duration": 2.866118,
     "end_time": "2021-09-29T15:04:58.618293",
     "exception": false,
     "start_time": "2021-09-29T15:04:55.752175",
     "status": "completed"
    },
    "tags": []
   },
   "outputs": [
    {
     "data": {
      "text/html": [
       "<div>\n",
       "<style scoped>\n",
       "    .dataframe tbody tr th:only-of-type {\n",
       "        vertical-align: middle;\n",
       "    }\n",
       "\n",
       "    .dataframe tbody tr th {\n",
       "        vertical-align: top;\n",
       "    }\n",
       "\n",
       "    .dataframe thead th {\n",
       "        text-align: right;\n",
       "    }\n",
       "</style>\n",
       "<table border=\"1\" class=\"dataframe\">\n",
       "  <thead>\n",
       "    <tr style=\"text-align: right;\">\n",
       "      <th></th>\n",
       "      <th>id</th>\n",
       "      <th>created_at</th>\n",
       "      <th>modified_at</th>\n",
       "      <th>geometry</th>\n",
       "      <th>raba_pid</th>\n",
       "      <th>raba_id</th>\n",
       "      <th>d_od</th>\n",
       "    </tr>\n",
       "  </thead>\n",
       "  <tbody>\n",
       "    <tr>\n",
       "      <th>0</th>\n",
       "      <td>2</td>\n",
       "      <td>2021-08-31T12:28:16.745304+00:00</td>\n",
       "      <td>None</td>\n",
       "      <td>POLYGON ((453810.376 91150.199, 453812.552 911...</td>\n",
       "      <td>4770325</td>\n",
       "      <td>1300</td>\n",
       "      <td>2019-03-26</td>\n",
       "    </tr>\n",
       "    <tr>\n",
       "      <th>1</th>\n",
       "      <td>10</td>\n",
       "      <td>2021-08-31T12:28:16.745304+00:00</td>\n",
       "      <td>None</td>\n",
       "      <td>POLYGON ((456547.427 91543.640, 456544.255 915...</td>\n",
       "      <td>2318555</td>\n",
       "      <td>1300</td>\n",
       "      <td>2019-03-14</td>\n",
       "    </tr>\n",
       "    <tr>\n",
       "      <th>2</th>\n",
       "      <td>63</td>\n",
       "      <td>2021-08-31T12:28:16.745304+00:00</td>\n",
       "      <td>None</td>\n",
       "      <td>POLYGON ((456201.531 98685.274, 456199.109 986...</td>\n",
       "      <td>2304287</td>\n",
       "      <td>1300</td>\n",
       "      <td>2019-02-25</td>\n",
       "    </tr>\n",
       "    <tr>\n",
       "      <th>3</th>\n",
       "      <td>86</td>\n",
       "      <td>2021-08-31T12:28:16.745304+00:00</td>\n",
       "      <td>None</td>\n",
       "      <td>POLYGON ((454709.766 97354.278, 454704.878 973...</td>\n",
       "      <td>2331038</td>\n",
       "      <td>1300</td>\n",
       "      <td>2019-01-05</td>\n",
       "    </tr>\n",
       "    <tr>\n",
       "      <th>4</th>\n",
       "      <td>87</td>\n",
       "      <td>2021-08-31T12:28:16.745304+00:00</td>\n",
       "      <td>None</td>\n",
       "      <td>POLYGON ((453820.737 98574.017, 453816.740 985...</td>\n",
       "      <td>2357574</td>\n",
       "      <td>1300</td>\n",
       "      <td>2019-01-16</td>\n",
       "    </tr>\n",
       "    <tr>\n",
       "      <th>...</th>\n",
       "      <td>...</td>\n",
       "      <td>...</td>\n",
       "      <td>...</td>\n",
       "      <td>...</td>\n",
       "      <td>...</td>\n",
       "      <td>...</td>\n",
       "      <td>...</td>\n",
       "    </tr>\n",
       "    <tr>\n",
       "      <th>1785</th>\n",
       "      <td>19593</td>\n",
       "      <td>2021-09-29T15:04:48.588108+00:00</td>\n",
       "      <td>None</td>\n",
       "      <td>POLYGON ((458247.583 99746.065, 458245.202 997...</td>\n",
       "      <td>6268059</td>\n",
       "      <td>1300</td>\n",
       "      <td>2019-03-04</td>\n",
       "    </tr>\n",
       "    <tr>\n",
       "      <th>1786</th>\n",
       "      <td>19594</td>\n",
       "      <td>2021-09-29T15:04:48.588108+00:00</td>\n",
       "      <td>None</td>\n",
       "      <td>POLYGON ((461932.283 90520.703, 461931.619 905...</td>\n",
       "      <td>6263561</td>\n",
       "      <td>1300</td>\n",
       "      <td>2019-04-01</td>\n",
       "    </tr>\n",
       "    <tr>\n",
       "      <th>1787</th>\n",
       "      <td>19625</td>\n",
       "      <td>2021-09-29T15:04:48.588108+00:00</td>\n",
       "      <td>None</td>\n",
       "      <td>POLYGON ((457231.170 90902.256, 457234.861 909...</td>\n",
       "      <td>6264862</td>\n",
       "      <td>1300</td>\n",
       "      <td>2019-01-05</td>\n",
       "    </tr>\n",
       "    <tr>\n",
       "      <th>1788</th>\n",
       "      <td>19626</td>\n",
       "      <td>2021-09-29T15:04:48.588108+00:00</td>\n",
       "      <td>None</td>\n",
       "      <td>POLYGON ((461378.845 91124.318, 461490.224 911...</td>\n",
       "      <td>6264865</td>\n",
       "      <td>1300</td>\n",
       "      <td>2019-02-21</td>\n",
       "    </tr>\n",
       "    <tr>\n",
       "      <th>1789</th>\n",
       "      <td>19648</td>\n",
       "      <td>2021-09-29T15:04:48.588108+00:00</td>\n",
       "      <td>None</td>\n",
       "      <td>POLYGON ((457450.306 97213.244, 457490.521 972...</td>\n",
       "      <td>6263915</td>\n",
       "      <td>1300</td>\n",
       "      <td>2019-01-05</td>\n",
       "    </tr>\n",
       "  </tbody>\n",
       "</table>\n",
       "<p>1790 rows × 7 columns</p>\n",
       "</div>"
      ],
      "text/plain": [
       "         id                        created_at modified_at  \\\n",
       "0         2  2021-08-31T12:28:16.745304+00:00        None   \n",
       "1        10  2021-08-31T12:28:16.745304+00:00        None   \n",
       "2        63  2021-08-31T12:28:16.745304+00:00        None   \n",
       "3        86  2021-08-31T12:28:16.745304+00:00        None   \n",
       "4        87  2021-08-31T12:28:16.745304+00:00        None   \n",
       "...     ...                               ...         ...   \n",
       "1785  19593  2021-09-29T15:04:48.588108+00:00        None   \n",
       "1786  19594  2021-09-29T15:04:48.588108+00:00        None   \n",
       "1787  19625  2021-09-29T15:04:48.588108+00:00        None   \n",
       "1788  19626  2021-09-29T15:04:48.588108+00:00        None   \n",
       "1789  19648  2021-09-29T15:04:48.588108+00:00        None   \n",
       "\n",
       "                                               geometry  raba_pid  raba_id  \\\n",
       "0     POLYGON ((453810.376 91150.199, 453812.552 911...   4770325     1300   \n",
       "1     POLYGON ((456547.427 91543.640, 456544.255 915...   2318555     1300   \n",
       "2     POLYGON ((456201.531 98685.274, 456199.109 986...   2304287     1300   \n",
       "3     POLYGON ((454709.766 97354.278, 454704.878 973...   2331038     1300   \n",
       "4     POLYGON ((453820.737 98574.017, 453816.740 985...   2357574     1300   \n",
       "...                                                 ...       ...      ...   \n",
       "1785  POLYGON ((458247.583 99746.065, 458245.202 997...   6268059     1300   \n",
       "1786  POLYGON ((461932.283 90520.703, 461931.619 905...   6263561     1300   \n",
       "1787  POLYGON ((457231.170 90902.256, 457234.861 909...   6264862     1300   \n",
       "1788  POLYGON ((461378.845 91124.318, 461490.224 911...   6264865     1300   \n",
       "1789  POLYGON ((457450.306 97213.244, 457490.521 972...   6263915     1300   \n",
       "\n",
       "            d_od  \n",
       "0     2019-03-26  \n",
       "1     2019-03-14  \n",
       "2     2019-02-25  \n",
       "3     2019-01-05  \n",
       "4     2019-01-16  \n",
       "...          ...  \n",
       "1785  2019-03-04  \n",
       "1786  2019-04-01  \n",
       "1787  2019-01-05  \n",
       "1788  2019-02-21  \n",
       "1789  2019-01-05  \n",
       "\n",
       "[1790 rows x 7 columns]"
      ]
     },
     "execution_count": 15,
     "metadata": {},
     "output_type": "execute_result"
    }
   ],
   "source": [
    "geodb.get_collection('land_use', query=\"raba_id=eq.1300\")"
   ]
  },
  {
   "cell_type": "code",
   "execution_count": 16,
   "id": "8cfc5ba7",
   "metadata": {
    "execution": {
     "iopub.execute_input": "2021-09-29T15:04:58.665684Z",
     "iopub.status.busy": "2021-09-29T15:04:58.660326Z",
     "iopub.status.idle": "2021-09-29T15:05:01.554637Z",
     "shell.execute_reply": "2021-09-29T15:05:01.554155Z"
    },
    "papermill": {
     "duration": 2.917453,
     "end_time": "2021-09-29T15:05:01.554741",
     "exception": false,
     "start_time": "2021-09-29T15:04:58.637288",
     "status": "completed"
    },
    "tags": []
   },
   "outputs": [
    {
     "data": {
      "text/plain": [
       "land_use updated"
      ]
     },
     "execution_count": 16,
     "metadata": {},
     "output_type": "execute_result"
    }
   ],
   "source": [
    "geodb.update_collection('land_use', query=\"raba_id=eq.1300\", values={'d_od': '2000-01-01'})"
   ]
  },
  {
   "cell_type": "code",
   "execution_count": 17,
   "id": "b32cc2e6",
   "metadata": {
    "execution": {
     "iopub.execute_input": "2021-09-29T15:05:01.597808Z",
     "iopub.status.busy": "2021-09-29T15:05:01.597295Z",
     "iopub.status.idle": "2021-09-29T15:05:04.712640Z",
     "shell.execute_reply": "2021-09-29T15:05:04.711884Z"
    },
    "papermill": {
     "duration": 3.138288,
     "end_time": "2021-09-29T15:05:04.712775",
     "exception": false,
     "start_time": "2021-09-29T15:05:01.574487",
     "status": "completed"
    },
    "tags": []
   },
   "outputs": [
    {
     "data": {
      "text/html": [
       "<div>\n",
       "<style scoped>\n",
       "    .dataframe tbody tr th:only-of-type {\n",
       "        vertical-align: middle;\n",
       "    }\n",
       "\n",
       "    .dataframe tbody tr th {\n",
       "        vertical-align: top;\n",
       "    }\n",
       "\n",
       "    .dataframe thead th {\n",
       "        text-align: right;\n",
       "    }\n",
       "</style>\n",
       "<table border=\"1\" class=\"dataframe\">\n",
       "  <thead>\n",
       "    <tr style=\"text-align: right;\">\n",
       "      <th></th>\n",
       "      <th>id</th>\n",
       "      <th>created_at</th>\n",
       "      <th>modified_at</th>\n",
       "      <th>geometry</th>\n",
       "      <th>raba_pid</th>\n",
       "      <th>raba_id</th>\n",
       "      <th>d_od</th>\n",
       "    </tr>\n",
       "  </thead>\n",
       "  <tbody>\n",
       "    <tr>\n",
       "      <th>0</th>\n",
       "      <td>10</td>\n",
       "      <td>2021-08-31T12:28:16.745304+00:00</td>\n",
       "      <td>2021-09-29T15:05:01.317443+00:00</td>\n",
       "      <td>POLYGON ((456547.427 91543.640, 456544.255 915...</td>\n",
       "      <td>2318555</td>\n",
       "      <td>1300</td>\n",
       "      <td>2000-01-01</td>\n",
       "    </tr>\n",
       "    <tr>\n",
       "      <th>1</th>\n",
       "      <td>103</td>\n",
       "      <td>2021-08-31T12:28:16.745304+00:00</td>\n",
       "      <td>2021-09-29T15:05:01.317443+00:00</td>\n",
       "      <td>POLYGON ((456100.880 96973.323, 456111.084 969...</td>\n",
       "      <td>2332420</td>\n",
       "      <td>1300</td>\n",
       "      <td>2000-01-01</td>\n",
       "    </tr>\n",
       "    <tr>\n",
       "      <th>2</th>\n",
       "      <td>108</td>\n",
       "      <td>2021-08-31T12:28:16.745304+00:00</td>\n",
       "      <td>2021-09-29T15:05:01.317443+00:00</td>\n",
       "      <td>POLYGON ((454070.991 90528.946, 454064.259 905...</td>\n",
       "      <td>4674624</td>\n",
       "      <td>1300</td>\n",
       "      <td>2000-01-01</td>\n",
       "    </tr>\n",
       "    <tr>\n",
       "      <th>3</th>\n",
       "      <td>117</td>\n",
       "      <td>2021-08-31T12:28:16.745304+00:00</td>\n",
       "      <td>2021-09-29T15:05:01.317443+00:00</td>\n",
       "      <td>POLYGON ((454637.692 96679.827, 454630.584 966...</td>\n",
       "      <td>2336101</td>\n",
       "      <td>1300</td>\n",
       "      <td>2000-01-01</td>\n",
       "    </tr>\n",
       "    <tr>\n",
       "      <th>4</th>\n",
       "      <td>136</td>\n",
       "      <td>2021-08-31T12:28:16.745304+00:00</td>\n",
       "      <td>2021-09-29T15:05:01.317443+00:00</td>\n",
       "      <td>POLYGON ((462781.112 100486.430, 462803.178 10...</td>\n",
       "      <td>2334416</td>\n",
       "      <td>1300</td>\n",
       "      <td>2000-01-01</td>\n",
       "    </tr>\n",
       "    <tr>\n",
       "      <th>...</th>\n",
       "      <td>...</td>\n",
       "      <td>...</td>\n",
       "      <td>...</td>\n",
       "      <td>...</td>\n",
       "      <td>...</td>\n",
       "      <td>...</td>\n",
       "      <td>...</td>\n",
       "    </tr>\n",
       "    <tr>\n",
       "      <th>1785</th>\n",
       "      <td>19592</td>\n",
       "      <td>2021-09-29T15:04:48.588108+00:00</td>\n",
       "      <td>2021-09-29T15:05:01.317443+00:00</td>\n",
       "      <td>POLYGON ((458304.555 100146.103, 458306.726 10...</td>\n",
       "      <td>6268058</td>\n",
       "      <td>1300</td>\n",
       "      <td>2000-01-01</td>\n",
       "    </tr>\n",
       "    <tr>\n",
       "      <th>1786</th>\n",
       "      <td>19593</td>\n",
       "      <td>2021-09-29T15:04:48.588108+00:00</td>\n",
       "      <td>2021-09-29T15:05:01.317443+00:00</td>\n",
       "      <td>POLYGON ((458247.583 99746.065, 458245.202 997...</td>\n",
       "      <td>6268059</td>\n",
       "      <td>1300</td>\n",
       "      <td>2000-01-01</td>\n",
       "    </tr>\n",
       "    <tr>\n",
       "      <th>1787</th>\n",
       "      <td>19594</td>\n",
       "      <td>2021-09-29T15:04:48.588108+00:00</td>\n",
       "      <td>2021-09-29T15:05:01.317443+00:00</td>\n",
       "      <td>POLYGON ((461932.283 90520.703, 461931.619 905...</td>\n",
       "      <td>6263561</td>\n",
       "      <td>1300</td>\n",
       "      <td>2000-01-01</td>\n",
       "    </tr>\n",
       "    <tr>\n",
       "      <th>1788</th>\n",
       "      <td>19625</td>\n",
       "      <td>2021-09-29T15:04:48.588108+00:00</td>\n",
       "      <td>2021-09-29T15:05:01.317443+00:00</td>\n",
       "      <td>POLYGON ((457231.170 90902.256, 457234.861 909...</td>\n",
       "      <td>6264862</td>\n",
       "      <td>1300</td>\n",
       "      <td>2000-01-01</td>\n",
       "    </tr>\n",
       "    <tr>\n",
       "      <th>1789</th>\n",
       "      <td>19626</td>\n",
       "      <td>2021-09-29T15:04:48.588108+00:00</td>\n",
       "      <td>2021-09-29T15:05:01.317443+00:00</td>\n",
       "      <td>POLYGON ((461378.845 91124.318, 461490.224 911...</td>\n",
       "      <td>6264865</td>\n",
       "      <td>1300</td>\n",
       "      <td>2000-01-01</td>\n",
       "    </tr>\n",
       "  </tbody>\n",
       "</table>\n",
       "<p>1790 rows × 7 columns</p>\n",
       "</div>"
      ],
      "text/plain": [
       "         id                        created_at  \\\n",
       "0        10  2021-08-31T12:28:16.745304+00:00   \n",
       "1       103  2021-08-31T12:28:16.745304+00:00   \n",
       "2       108  2021-08-31T12:28:16.745304+00:00   \n",
       "3       117  2021-08-31T12:28:16.745304+00:00   \n",
       "4       136  2021-08-31T12:28:16.745304+00:00   \n",
       "...     ...                               ...   \n",
       "1785  19592  2021-09-29T15:04:48.588108+00:00   \n",
       "1786  19593  2021-09-29T15:04:48.588108+00:00   \n",
       "1787  19594  2021-09-29T15:04:48.588108+00:00   \n",
       "1788  19625  2021-09-29T15:04:48.588108+00:00   \n",
       "1789  19626  2021-09-29T15:04:48.588108+00:00   \n",
       "\n",
       "                           modified_at  \\\n",
       "0     2021-09-29T15:05:01.317443+00:00   \n",
       "1     2021-09-29T15:05:01.317443+00:00   \n",
       "2     2021-09-29T15:05:01.317443+00:00   \n",
       "3     2021-09-29T15:05:01.317443+00:00   \n",
       "4     2021-09-29T15:05:01.317443+00:00   \n",
       "...                                ...   \n",
       "1785  2021-09-29T15:05:01.317443+00:00   \n",
       "1786  2021-09-29T15:05:01.317443+00:00   \n",
       "1787  2021-09-29T15:05:01.317443+00:00   \n",
       "1788  2021-09-29T15:05:01.317443+00:00   \n",
       "1789  2021-09-29T15:05:01.317443+00:00   \n",
       "\n",
       "                                               geometry  raba_pid  raba_id  \\\n",
       "0     POLYGON ((456547.427 91543.640, 456544.255 915...   2318555     1300   \n",
       "1     POLYGON ((456100.880 96973.323, 456111.084 969...   2332420     1300   \n",
       "2     POLYGON ((454070.991 90528.946, 454064.259 905...   4674624     1300   \n",
       "3     POLYGON ((454637.692 96679.827, 454630.584 966...   2336101     1300   \n",
       "4     POLYGON ((462781.112 100486.430, 462803.178 10...   2334416     1300   \n",
       "...                                                 ...       ...      ...   \n",
       "1785  POLYGON ((458304.555 100146.103, 458306.726 10...   6268058     1300   \n",
       "1786  POLYGON ((458247.583 99746.065, 458245.202 997...   6268059     1300   \n",
       "1787  POLYGON ((461932.283 90520.703, 461931.619 905...   6263561     1300   \n",
       "1788  POLYGON ((457231.170 90902.256, 457234.861 909...   6264862     1300   \n",
       "1789  POLYGON ((461378.845 91124.318, 461490.224 911...   6264865     1300   \n",
       "\n",
       "            d_od  \n",
       "0     2000-01-01  \n",
       "1     2000-01-01  \n",
       "2     2000-01-01  \n",
       "3     2000-01-01  \n",
       "4     2000-01-01  \n",
       "...          ...  \n",
       "1785  2000-01-01  \n",
       "1786  2000-01-01  \n",
       "1787  2000-01-01  \n",
       "1788  2000-01-01  \n",
       "1789  2000-01-01  \n",
       "\n",
       "[1790 rows x 7 columns]"
      ]
     },
     "execution_count": 17,
     "metadata": {},
     "output_type": "execute_result"
    }
   ],
   "source": [
    "geodb.get_collection('land_use', query=\"raba_id=eq.1300\")"
   ]
  },
  {
   "cell_type": "markdown",
   "id": "3a0f67d3",
   "metadata": {
    "papermill": {
     "duration": 0.021435,
     "end_time": "2021-09-29T15:05:04.754105",
     "exception": false,
     "start_time": "2021-09-29T15:05:04.732670",
     "status": "completed"
    },
    "tags": []
   },
   "source": [
    "### Managing Properties of a Collection"
   ]
  },
  {
   "cell_type": "code",
   "execution_count": 18,
   "id": "c864fbd2",
   "metadata": {
    "execution": {
     "iopub.execute_input": "2021-09-29T15:05:04.797015Z",
     "iopub.status.busy": "2021-09-29T15:05:04.795642Z",
     "iopub.status.idle": "2021-09-29T15:05:05.386167Z",
     "shell.execute_reply": "2021-09-29T15:05:05.386528Z"
    },
    "papermill": {
     "duration": 0.612833,
     "end_time": "2021-09-29T15:05:05.386639",
     "exception": false,
     "start_time": "2021-09-29T15:05:04.773806",
     "status": "completed"
    },
    "tags": []
   },
   "outputs": [
    {
     "data": {
      "text/html": [
       "<div>\n",
       "<style scoped>\n",
       "    .dataframe tbody tr th:only-of-type {\n",
       "        vertical-align: middle;\n",
       "    }\n",
       "\n",
       "    .dataframe tbody tr th {\n",
       "        vertical-align: top;\n",
       "    }\n",
       "\n",
       "    .dataframe thead th {\n",
       "        text-align: right;\n",
       "    }\n",
       "</style>\n",
       "<table border=\"1\" class=\"dataframe\">\n",
       "  <thead>\n",
       "    <tr style=\"text-align: right;\">\n",
       "      <th></th>\n",
       "      <th>owner</th>\n",
       "      <th>database</th>\n",
       "      <th>collection</th>\n",
       "      <th>table_name</th>\n",
       "    </tr>\n",
       "  </thead>\n",
       "  <tbody>\n",
       "    <tr>\n",
       "      <th>0</th>\n",
       "      <td>geodb_0b01bfcd-2d09-46f8-84e8-cb5720fba14c</td>\n",
       "      <td>geodb_0b01bfcd-2d09-46f8-84e8-cb5720fba14c</td>\n",
       "      <td>delineated_parcels_s</td>\n",
       "      <td>delineated_parcels_s</td>\n",
       "    </tr>\n",
       "    <tr>\n",
       "      <th>1</th>\n",
       "      <td>geodb_0b01bfcd-2d09-46f8-84e8-cb5720fba14c</td>\n",
       "      <td>geodb_0b01bfcd-2d09-46f8-84e8-cb5720fba14c</td>\n",
       "      <td>test_batic</td>\n",
       "      <td>test_batic</td>\n",
       "    </tr>\n",
       "    <tr>\n",
       "      <th>2</th>\n",
       "      <td>geodb_0d6df427-8c09-41b9-abc9-64ce13a68125</td>\n",
       "      <td>geodb_0d6df427-8c09-41b9-abc9-64ce13a68125</td>\n",
       "      <td>land_use</td>\n",
       "      <td>land_use</td>\n",
       "    </tr>\n",
       "    <tr>\n",
       "      <th>3</th>\n",
       "      <td>geodb_0d6df427-8c09-41b9-abc9-64ce13a68125</td>\n",
       "      <td>geodb_0d6df427-8c09-41b9-abc9-64ce13a68125</td>\n",
       "      <td>lpis_aut</td>\n",
       "      <td>lpis_aut</td>\n",
       "    </tr>\n",
       "    <tr>\n",
       "      <th>4</th>\n",
       "      <td>geodb_0e5d743f-2134-4561-8946-a073b039176f</td>\n",
       "      <td>geodb_0e5d743f-2134-4561-8946-a073b039176f</td>\n",
       "      <td>ai4eo_bboxes</td>\n",
       "      <td>ai4eo_bboxes</td>\n",
       "    </tr>\n",
       "    <tr>\n",
       "      <th>...</th>\n",
       "      <td>...</td>\n",
       "      <td>...</td>\n",
       "      <td>...</td>\n",
       "      <td>...</td>\n",
       "    </tr>\n",
       "    <tr>\n",
       "      <th>875</th>\n",
       "      <td>geodb_geodb_ci</td>\n",
       "      <td>geodb_geodb_ci</td>\n",
       "      <td>land_use</td>\n",
       "      <td>land_use</td>\n",
       "    </tr>\n",
       "    <tr>\n",
       "      <th>876</th>\n",
       "      <td>geodb_lpis_iacs_admin</td>\n",
       "      <td>lpis_iacs</td>\n",
       "      <td>land_use_slo</td>\n",
       "      <td>land_use_slo</td>\n",
       "    </tr>\n",
       "    <tr>\n",
       "      <th>877</th>\n",
       "      <td>geodb_lpis_iacs_admin</td>\n",
       "      <td>lpis_iacs</td>\n",
       "      <td>lpis_aut</td>\n",
       "      <td>lpis_aut</td>\n",
       "    </tr>\n",
       "    <tr>\n",
       "      <th>878</th>\n",
       "      <td>geodb_lpis_iacs_admin</td>\n",
       "      <td>lpis_iacs</td>\n",
       "      <td>lpis_slo</td>\n",
       "      <td>lpis_slo</td>\n",
       "    </tr>\n",
       "    <tr>\n",
       "      <th>879</th>\n",
       "      <td>geodb_lpis_iacs_admin</td>\n",
       "      <td>lpis_iacs</td>\n",
       "      <td>metadata</td>\n",
       "      <td>metadata</td>\n",
       "    </tr>\n",
       "  </tbody>\n",
       "</table>\n",
       "<p>880 rows × 4 columns</p>\n",
       "</div>"
      ],
      "text/plain": [
       "                                          owner  \\\n",
       "0    geodb_0b01bfcd-2d09-46f8-84e8-cb5720fba14c   \n",
       "1    geodb_0b01bfcd-2d09-46f8-84e8-cb5720fba14c   \n",
       "2    geodb_0d6df427-8c09-41b9-abc9-64ce13a68125   \n",
       "3    geodb_0d6df427-8c09-41b9-abc9-64ce13a68125   \n",
       "4    geodb_0e5d743f-2134-4561-8946-a073b039176f   \n",
       "..                                          ...   \n",
       "875                              geodb_geodb_ci   \n",
       "876                       geodb_lpis_iacs_admin   \n",
       "877                       geodb_lpis_iacs_admin   \n",
       "878                       geodb_lpis_iacs_admin   \n",
       "879                       geodb_lpis_iacs_admin   \n",
       "\n",
       "                                       database            collection  \\\n",
       "0    geodb_0b01bfcd-2d09-46f8-84e8-cb5720fba14c  delineated_parcels_s   \n",
       "1    geodb_0b01bfcd-2d09-46f8-84e8-cb5720fba14c            test_batic   \n",
       "2    geodb_0d6df427-8c09-41b9-abc9-64ce13a68125              land_use   \n",
       "3    geodb_0d6df427-8c09-41b9-abc9-64ce13a68125              lpis_aut   \n",
       "4    geodb_0e5d743f-2134-4561-8946-a073b039176f          ai4eo_bboxes   \n",
       "..                                          ...                   ...   \n",
       "875                              geodb_geodb_ci              land_use   \n",
       "876                                   lpis_iacs          land_use_slo   \n",
       "877                                   lpis_iacs              lpis_aut   \n",
       "878                                   lpis_iacs              lpis_slo   \n",
       "879                                   lpis_iacs              metadata   \n",
       "\n",
       "               table_name  \n",
       "0    delineated_parcels_s  \n",
       "1              test_batic  \n",
       "2                land_use  \n",
       "3                lpis_aut  \n",
       "4            ai4eo_bboxes  \n",
       "..                    ...  \n",
       "875              land_use  \n",
       "876          land_use_slo  \n",
       "877              lpis_aut  \n",
       "878              lpis_slo  \n",
       "879              metadata  \n",
       "\n",
       "[880 rows x 4 columns]"
      ]
     },
     "execution_count": 18,
     "metadata": {},
     "output_type": "execute_result"
    }
   ],
   "source": [
    "geodb.get_my_collections()"
   ]
  },
  {
   "cell_type": "code",
   "execution_count": 19,
   "id": "8d33a09b",
   "metadata": {
    "execution": {
     "iopub.execute_input": "2021-09-29T15:05:05.431547Z",
     "iopub.status.busy": "2021-09-29T15:05:05.430503Z",
     "iopub.status.idle": "2021-09-29T15:05:06.661910Z",
     "shell.execute_reply": "2021-09-29T15:05:06.661370Z"
    },
    "papermill": {
     "duration": 1.255402,
     "end_time": "2021-09-29T15:05:06.662016",
     "exception": false,
     "start_time": "2021-09-29T15:05:05.406614",
     "status": "completed"
    },
    "tags": []
   },
   "outputs": [
    {
     "data": {
      "text/html": [
       "<div>\n",
       "<style scoped>\n",
       "    .dataframe tbody tr th:only-of-type {\n",
       "        vertical-align: middle;\n",
       "    }\n",
       "\n",
       "    .dataframe tbody tr th {\n",
       "        vertical-align: top;\n",
       "    }\n",
       "\n",
       "    .dataframe thead th {\n",
       "        text-align: right;\n",
       "    }\n",
       "</style>\n",
       "<table border=\"1\" class=\"dataframe\">\n",
       "  <thead>\n",
       "    <tr style=\"text-align: right;\">\n",
       "      <th></th>\n",
       "      <th>table_name</th>\n",
       "      <th>column_name</th>\n",
       "      <th>data_type</th>\n",
       "    </tr>\n",
       "  </thead>\n",
       "  <tbody>\n",
       "  </tbody>\n",
       "</table>\n",
       "</div>"
      ],
      "text/plain": [
       "Empty DataFrame\n",
       "Columns: [table_name, column_name, data_type]\n",
       "Index: []"
      ]
     },
     "execution_count": 19,
     "metadata": {},
     "output_type": "execute_result"
    }
   ],
   "source": [
    "geodb.get_properties('land_use')"
   ]
  },
  {
   "cell_type": "code",
   "execution_count": 20,
   "id": "41bf8173",
   "metadata": {
    "execution": {
     "iopub.execute_input": "2021-09-29T15:05:06.707080Z",
     "iopub.status.busy": "2021-09-29T15:05:06.706563Z",
     "iopub.status.idle": "2021-09-29T15:05:07.814996Z",
     "shell.execute_reply": "2021-09-29T15:05:07.814558Z"
    },
    "papermill": {
     "duration": 1.132436,
     "end_time": "2021-09-29T15:05:07.815094",
     "exception": false,
     "start_time": "2021-09-29T15:05:06.682658",
     "status": "completed"
    },
    "tags": []
   },
   "outputs": [
    {
     "data": {
      "text/plain": [
       "Properties added"
      ]
     },
     "execution_count": 20,
     "metadata": {},
     "output_type": "execute_result"
    }
   ],
   "source": [
    "geodb.add_property('land_use', \"test_prop\", 'integer')"
   ]
  },
  {
   "cell_type": "code",
   "execution_count": 21,
   "id": "f95a80bc",
   "metadata": {
    "execution": {
     "iopub.execute_input": "2021-09-29T15:05:07.859429Z",
     "iopub.status.busy": "2021-09-29T15:05:07.858393Z",
     "iopub.status.idle": "2021-09-29T15:05:08.948950Z",
     "shell.execute_reply": "2021-09-29T15:05:08.949327Z"
    },
    "papermill": {
     "duration": 1.113762,
     "end_time": "2021-09-29T15:05:08.949456",
     "exception": false,
     "start_time": "2021-09-29T15:05:07.835694",
     "status": "completed"
    },
    "tags": []
   },
   "outputs": [
    {
     "data": {
      "text/html": [
       "<div>\n",
       "<style scoped>\n",
       "    .dataframe tbody tr th:only-of-type {\n",
       "        vertical-align: middle;\n",
       "    }\n",
       "\n",
       "    .dataframe tbody tr th {\n",
       "        vertical-align: top;\n",
       "    }\n",
       "\n",
       "    .dataframe thead th {\n",
       "        text-align: right;\n",
       "    }\n",
       "</style>\n",
       "<table border=\"1\" class=\"dataframe\">\n",
       "  <thead>\n",
       "    <tr style=\"text-align: right;\">\n",
       "      <th></th>\n",
       "      <th>table_name</th>\n",
       "      <th>column_name</th>\n",
       "      <th>data_type</th>\n",
       "    </tr>\n",
       "  </thead>\n",
       "  <tbody>\n",
       "  </tbody>\n",
       "</table>\n",
       "</div>"
      ],
      "text/plain": [
       "Empty DataFrame\n",
       "Columns: [table_name, column_name, data_type]\n",
       "Index: []"
      ]
     },
     "execution_count": 21,
     "metadata": {},
     "output_type": "execute_result"
    }
   ],
   "source": [
    "geodb.get_properties('land_use')"
   ]
  },
  {
   "cell_type": "code",
   "execution_count": 22,
   "id": "489c6225",
   "metadata": {
    "execution": {
     "iopub.execute_input": "2021-09-29T15:05:08.995106Z",
     "iopub.status.busy": "2021-09-29T15:05:08.994605Z",
     "iopub.status.idle": "2021-09-29T15:05:14.373099Z",
     "shell.execute_reply": "2021-09-29T15:05:14.373476Z"
    },
    "papermill": {
     "duration": 5.403127,
     "end_time": "2021-09-29T15:05:14.373610",
     "exception": false,
     "start_time": "2021-09-29T15:05:08.970483",
     "status": "completed"
    },
    "tags": []
   },
   "outputs": [
    {
     "data": {
      "text/plain": [
       "Properties ['test_prop'] dropped from geodb_418dfeac-15f0-4606-9edb-fd9eb722bf04_land_use"
      ]
     },
     "execution_count": 22,
     "metadata": {},
     "output_type": "execute_result"
    }
   ],
   "source": [
    "geodb.drop_property('land_use', 'test_prop')"
   ]
  },
  {
   "cell_type": "code",
   "execution_count": 23,
   "id": "29ea7224",
   "metadata": {
    "execution": {
     "iopub.execute_input": "2021-09-29T15:05:14.419856Z",
     "iopub.status.busy": "2021-09-29T15:05:14.418633Z",
     "iopub.status.idle": "2021-09-29T15:05:15.713687Z",
     "shell.execute_reply": "2021-09-29T15:05:15.714042Z"
    },
    "papermill": {
     "duration": 1.319352,
     "end_time": "2021-09-29T15:05:15.714174",
     "exception": false,
     "start_time": "2021-09-29T15:05:14.394822",
     "status": "completed"
    },
    "tags": []
   },
   "outputs": [
    {
     "data": {
      "text/html": [
       "<div>\n",
       "<style scoped>\n",
       "    .dataframe tbody tr th:only-of-type {\n",
       "        vertical-align: middle;\n",
       "    }\n",
       "\n",
       "    .dataframe tbody tr th {\n",
       "        vertical-align: top;\n",
       "    }\n",
       "\n",
       "    .dataframe thead th {\n",
       "        text-align: right;\n",
       "    }\n",
       "</style>\n",
       "<table border=\"1\" class=\"dataframe\">\n",
       "  <thead>\n",
       "    <tr style=\"text-align: right;\">\n",
       "      <th></th>\n",
       "      <th>table_name</th>\n",
       "      <th>column_name</th>\n",
       "      <th>data_type</th>\n",
       "    </tr>\n",
       "  </thead>\n",
       "  <tbody>\n",
       "  </tbody>\n",
       "</table>\n",
       "</div>"
      ],
      "text/plain": [
       "Empty DataFrame\n",
       "Columns: [table_name, column_name, data_type]\n",
       "Index: []"
      ]
     },
     "execution_count": 23,
     "metadata": {},
     "output_type": "execute_result"
    }
   ],
   "source": [
    "geodb.get_properties('land_use')"
   ]
  },
  {
   "cell_type": "code",
   "execution_count": 24,
   "id": "5ac6b44c",
   "metadata": {
    "execution": {
     "iopub.execute_input": "2021-09-29T15:05:15.762365Z",
     "iopub.status.busy": "2021-09-29T15:05:15.761819Z",
     "iopub.status.idle": "2021-09-29T15:05:16.878490Z",
     "shell.execute_reply": "2021-09-29T15:05:16.878852Z"
    },
    "papermill": {
     "duration": 1.142944,
     "end_time": "2021-09-29T15:05:16.878977",
     "exception": false,
     "start_time": "2021-09-29T15:05:15.736033",
     "status": "completed"
    },
    "tags": []
   },
   "outputs": [
    {
     "data": {
      "text/plain": [
       "Properties added"
      ]
     },
     "execution_count": 24,
     "metadata": {},
     "output_type": "execute_result"
    }
   ],
   "source": [
    "geodb.add_properties('land_use', properties={'test1': 'integer', 'test2': 'date'})"
   ]
  },
  {
   "cell_type": "code",
   "execution_count": 25,
   "id": "ff58d13e",
   "metadata": {
    "execution": {
     "iopub.execute_input": "2021-09-29T15:05:16.925896Z",
     "iopub.status.busy": "2021-09-29T15:05:16.924618Z",
     "iopub.status.idle": "2021-09-29T15:05:18.047651Z",
     "shell.execute_reply": "2021-09-29T15:05:18.047190Z"
    },
    "papermill": {
     "duration": 1.146922,
     "end_time": "2021-09-29T15:05:18.047757",
     "exception": false,
     "start_time": "2021-09-29T15:05:16.900835",
     "status": "completed"
    },
    "tags": []
   },
   "outputs": [
    {
     "data": {
      "text/html": [
       "<div>\n",
       "<style scoped>\n",
       "    .dataframe tbody tr th:only-of-type {\n",
       "        vertical-align: middle;\n",
       "    }\n",
       "\n",
       "    .dataframe tbody tr th {\n",
       "        vertical-align: top;\n",
       "    }\n",
       "\n",
       "    .dataframe thead th {\n",
       "        text-align: right;\n",
       "    }\n",
       "</style>\n",
       "<table border=\"1\" class=\"dataframe\">\n",
       "  <thead>\n",
       "    <tr style=\"text-align: right;\">\n",
       "      <th></th>\n",
       "      <th>table_name</th>\n",
       "      <th>column_name</th>\n",
       "      <th>data_type</th>\n",
       "    </tr>\n",
       "  </thead>\n",
       "  <tbody>\n",
       "  </tbody>\n",
       "</table>\n",
       "</div>"
      ],
      "text/plain": [
       "Empty DataFrame\n",
       "Columns: [table_name, column_name, data_type]\n",
       "Index: []"
      ]
     },
     "execution_count": 25,
     "metadata": {},
     "output_type": "execute_result"
    }
   ],
   "source": [
    "geodb.get_properties('land_use')"
   ]
  },
  {
   "cell_type": "code",
   "execution_count": 26,
   "id": "d78c16c0",
   "metadata": {
    "execution": {
     "iopub.execute_input": "2021-09-29T15:05:18.096598Z",
     "iopub.status.busy": "2021-09-29T15:05:18.095313Z",
     "iopub.status.idle": "2021-09-29T15:05:22.463913Z",
     "shell.execute_reply": "2021-09-29T15:05:22.463400Z"
    },
    "papermill": {
     "duration": 4.394099,
     "end_time": "2021-09-29T15:05:22.464028",
     "exception": false,
     "start_time": "2021-09-29T15:05:18.069929",
     "status": "completed"
    },
    "tags": []
   },
   "outputs": [
    {
     "data": {
      "text/plain": [
       "Properties ['test1', 'test2'] dropped from geodb_418dfeac-15f0-4606-9edb-fd9eb722bf04_land_use"
      ]
     },
     "execution_count": 26,
     "metadata": {},
     "output_type": "execute_result"
    }
   ],
   "source": [
    "geodb.drop_properties('land_use', properties=['test1', 'test2'])"
   ]
  },
  {
   "cell_type": "code",
   "execution_count": 27,
   "id": "f065e1cd",
   "metadata": {
    "execution": {
     "iopub.execute_input": "2021-09-29T15:05:22.511857Z",
     "iopub.status.busy": "2021-09-29T15:05:22.511321Z",
     "iopub.status.idle": "2021-09-29T15:05:23.593596Z",
     "shell.execute_reply": "2021-09-29T15:05:23.593172Z"
    },
    "papermill": {
     "duration": 1.10762,
     "end_time": "2021-09-29T15:05:23.593694",
     "exception": false,
     "start_time": "2021-09-29T15:05:22.486074",
     "status": "completed"
    },
    "tags": []
   },
   "outputs": [
    {
     "data": {
      "text/html": [
       "<div>\n",
       "<style scoped>\n",
       "    .dataframe tbody tr th:only-of-type {\n",
       "        vertical-align: middle;\n",
       "    }\n",
       "\n",
       "    .dataframe tbody tr th {\n",
       "        vertical-align: top;\n",
       "    }\n",
       "\n",
       "    .dataframe thead th {\n",
       "        text-align: right;\n",
       "    }\n",
       "</style>\n",
       "<table border=\"1\" class=\"dataframe\">\n",
       "  <thead>\n",
       "    <tr style=\"text-align: right;\">\n",
       "      <th></th>\n",
       "      <th>table_name</th>\n",
       "      <th>column_name</th>\n",
       "      <th>data_type</th>\n",
       "    </tr>\n",
       "  </thead>\n",
       "  <tbody>\n",
       "  </tbody>\n",
       "</table>\n",
       "</div>"
      ],
      "text/plain": [
       "Empty DataFrame\n",
       "Columns: [table_name, column_name, data_type]\n",
       "Index: []"
      ]
     },
     "execution_count": 27,
     "metadata": {},
     "output_type": "execute_result"
    }
   ],
   "source": [
    "geodb.get_properties('land_use')"
   ]
  },
  {
   "cell_type": "code",
   "execution_count": 28,
   "id": "12bba166",
   "metadata": {
    "execution": {
     "iopub.execute_input": "2021-09-29T15:05:23.641666Z",
     "iopub.status.busy": "2021-09-29T15:05:23.641144Z",
     "iopub.status.idle": "2021-09-29T15:05:24.713414Z",
     "shell.execute_reply": "2021-09-29T15:05:24.712931Z"
    },
    "papermill": {
     "duration": 1.097622,
     "end_time": "2021-09-29T15:05:24.713526",
     "exception": false,
     "start_time": "2021-09-29T15:05:23.615904",
     "status": "completed"
    },
    "tags": []
   },
   "outputs": [
    {
     "data": {
      "text/plain": [
       "Collection ['geodb_418dfeac-15f0-4606-9edb-fd9eb722bf04_land_use'] deleted"
      ]
     },
     "execution_count": 28,
     "metadata": {},
     "output_type": "execute_result"
    }
   ],
   "source": [
    "geodb.drop_collection('land_use')"
   ]
  },
  {
   "cell_type": "code",
   "execution_count": null,
   "id": "93e62f0f",
   "metadata": {
    "papermill": {
     "duration": 0.023379,
     "end_time": "2021-09-29T15:05:24.759429",
     "exception": false,
     "start_time": "2021-09-29T15:05:24.736050",
     "status": "completed"
    },
    "tags": []
   },
   "outputs": [],
   "source": []
  }
 ],
 "metadata": {
  "kernelspec": {
   "display_name": "EDC 0.24.5 (Python3)",
   "language": "python",
   "name": "edc"
  },
  "language_info": {
   "codemirror_mode": {
    "name": "ipython",
    "version": 3
   },
   "file_extension": ".py",
   "mimetype": "text/x-python",
   "name": "python",
   "nbconvert_exporter": "python",
   "pygments_lexer": "ipython3",
   "version": "3.8.10"
  },
  "papermill": {
   "duration": 52.666669,
   "end_time": "2021-09-29T15:05:25.086397",
   "environment_variables": {},
   "exception": null,
   "input_path": "/tmp/tmppy5vnxxc",
   "output_path": "/tmp/notebook_output.ipynb",
   "parameters": {},
   "start_time": "2021-09-29T15:04:32.419728",
   "version": "2.1.2"
  },
  "properties": {
   "authors": [
    {
     "id": "139b9f28-6757-4ffa-8345-3f658eb33850",
     "name": "alicja.balfanz@brockmann-consult.de"
    }
   ],
   "description": "Euro Data Cube GeoDB: Manage Datasets",
   "id": "geodb-manage",
   "license": null,
   "name": "GeoDB: Manage Datasets",
   "requirements": [
    "eurodatacube-geodb",
    "eoxhub"
   ],
   "tags": [
    "Getting started",
    "GeoDB"
   ],
   "tosAgree": true,
   "type": "Jupyter Notebook",
   "version": "0.2.1"
  },
  "pycharm": {
   "stem_cell": {
    "cell_type": "raw",
    "metadata": {
     "collapsed": false
    },
    "source": []
   }
  }
 },
 "nbformat": 4,
 "nbformat_minor": 5
}