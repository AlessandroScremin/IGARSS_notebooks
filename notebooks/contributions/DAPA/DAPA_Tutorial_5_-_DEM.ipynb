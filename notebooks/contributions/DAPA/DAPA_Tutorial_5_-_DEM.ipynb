{
 "cells": [
  {
   "cell_type": "markdown",
   "id": "excess-syria",
   "metadata": {
    "papermill": {
     "duration": 0.029375,
     "end_time": "2021-03-15T09:16:13.660768",
     "exception": false,
     "start_time": "2021-03-15T09:16:13.631393",
     "status": "completed"
    },
    "tags": []
   },
   "source": [
    "# DAPA Tutorial #5: DEM"
   ]
  },
  {
   "cell_type": "markdown",
   "id": "appointed-google",
   "metadata": {
    "papermill": {
     "duration": 0.034294,
     "end_time": "2021-03-15T09:16:13.723466",
     "exception": false,
     "start_time": "2021-03-15T09:16:13.689172",
     "status": "completed"
    },
    "tags": []
   },
   "source": [
    "## Load environment variables\n",
    "Please make sure that the environment variable \"DAPA_URL\" is set in the `custom.env` file. You can check this by executing the following block. \n",
    "\n",
    "If DAPA_URL is not set, please create a text file named `custom.env` in your home directory with the following input: \n",
    ">DAPA_URL=YOUR-PERSONAL-DAPA-APP-URL"
   ]
  },
  {
   "cell_type": "code",
   "execution_count": 1,
   "id": "fuzzy-collaboration",
   "metadata": {
    "execution": {
     "iopub.execute_input": "2021-03-15T09:16:13.811248Z",
     "iopub.status.busy": "2021-03-15T09:16:13.809906Z",
     "iopub.status.idle": "2021-03-15T09:16:13.909865Z",
     "shell.execute_reply": "2021-03-15T09:16:13.908863Z"
    },
    "papermill": {
     "duration": 0.142309,
     "end_time": "2021-03-15T09:16:13.910054",
     "exception": false,
     "start_time": "2021-03-15T09:16:13.767745",
     "status": "completed"
    },
    "tags": []
   },
   "outputs": [
    {
     "data": {
      "text/markdown": [
       "API credentials have automatically been injected for your active subscriptions.  \n",
       "The following environment variables are now available:\n",
       "\n",
       "The following additional environment variables have been loaded from `~/custom.env`:\n",
       "* `AWS_BUCKET`\n",
       "* `DAPA_URL`\n",
       "* `DB_HOST`, `DB_NAME`, `DB_PASSWORD`, `DB_USER`\n",
       "* `OGC_EDC_URL`\n",
       "* `REFERENCE_DATA`\n"
      ],
      "text/plain": [
       "<IPython.core.display.Markdown object>"
      ]
     },
     "metadata": {},
     "output_type": "display_data"
    }
   ],
   "source": [
    "from edc import setup_environment_variables\n",
    "setup_environment_variables()"
   ]
  },
  {
   "cell_type": "markdown",
   "id": "genetic-extent",
   "metadata": {
    "papermill": {
     "duration": 0.035316,
     "end_time": "2021-03-15T09:16:13.975712",
     "exception": false,
     "start_time": "2021-03-15T09:16:13.940396",
     "status": "completed"
    },
    "tags": []
   },
   "source": [
    "## Check notebook compabtibility\n",
    "**Please note:** If you conduct this notebook again at a later time, the base image of this Jupyter Hub service can include newer versions of the libraries installed. Thus, the notebook execution can fail. This compatibility check is only necessary when something is broken. "
   ]
  },
  {
   "cell_type": "code",
   "execution_count": 2,
   "id": "hindu-timothy",
   "metadata": {
    "execution": {
     "iopub.execute_input": "2021-03-15T09:16:14.042471Z",
     "iopub.status.busy": "2021-03-15T09:16:14.041247Z",
     "iopub.status.idle": "2021-03-15T09:16:14.050004Z",
     "shell.execute_reply": "2021-03-15T09:16:14.049356Z"
    },
    "papermill": {
     "duration": 0.046677,
     "end_time": "2021-03-15T09:16:14.050177",
     "exception": false,
     "start_time": "2021-03-15T09:16:14.003500",
     "status": "completed"
    },
    "tags": []
   },
   "outputs": [
    {
     "data": {
      "text/html": [
       "<script type=\"text/javascript\">\n",
       "        function toggle(id) {\n",
       "            el = document.getElementById(id);\n",
       "            el.style.display = el.style.display === \"none\" ? \"block\" : \"none\";\n",
       "        }\n",
       "    </script>"
      ],
      "text/plain": [
       "<IPython.core.display.HTML object>"
      ]
     },
     "metadata": {},
     "output_type": "display_data"
    },
    {
     "data": {
      "text/html": [
       "This notebook is compatible with this base image version (user-0.23.2)."
      ],
      "text/plain": [
       "<IPython.core.display.HTML object>"
      ]
     },
     "metadata": {},
     "output_type": "display_data"
    }
   ],
   "source": [
    "from edc import check_compatibility\n",
    "check_compatibility(\"user-0.23.2\")"
   ]
  },
  {
   "cell_type": "markdown",
   "id": "parental-cleanup",
   "metadata": {
    "papermill": {
     "duration": 0.030384,
     "end_time": "2021-03-15T09:16:14.120711",
     "exception": false,
     "start_time": "2021-03-15T09:16:14.090327",
     "status": "completed"
    },
    "tags": []
   },
   "source": [
    "## Load libraries"
   ]
  },
  {
   "cell_type": "markdown",
   "id": "returning-testing",
   "metadata": {
    "papermill": {
     "duration": 0.032924,
     "end_time": "2021-03-15T09:16:14.183750",
     "exception": false,
     "start_time": "2021-03-15T09:16:14.150826",
     "status": "completed"
    },
    "tags": []
   },
   "source": [
    "Python libraries used in this tutorial will be loaded."
   ]
  },
  {
   "cell_type": "code",
   "execution_count": 3,
   "id": "seventh-netherlands",
   "metadata": {
    "execution": {
     "iopub.execute_input": "2021-03-15T09:16:14.261303Z",
     "iopub.status.busy": "2021-03-15T09:16:14.259873Z",
     "iopub.status.idle": "2021-03-15T09:16:16.753046Z",
     "shell.execute_reply": "2021-03-15T09:16:16.753724Z"
    },
    "papermill": {
     "duration": 2.536685,
     "end_time": "2021-03-15T09:16:16.753970",
     "exception": false,
     "start_time": "2021-03-15T09:16:14.217285",
     "status": "completed"
    },
    "tags": []
   },
   "outputs": [],
   "source": [
    "import os\n",
    "import xarray as xr\n",
    "import pandas as pd\n",
    "import requests\n",
    "import matplotlib\n",
    "import rasterio\n",
    "from rasterio.plot import show\n",
    "from ipyleaflet import Map, Rectangle, DrawControl, basemaps, basemap_to_tiles\n",
    "%matplotlib inline"
   ]
  },
  {
   "cell_type": "markdown",
   "id": "public-depth",
   "metadata": {
    "papermill": {
     "duration": 0.030703,
     "end_time": "2021-03-15T09:16:16.822444",
     "exception": false,
     "start_time": "2021-03-15T09:16:16.791741",
     "status": "completed"
    },
    "tags": []
   },
   "source": [
    "## Set DAPA endpoint\n",
    "Execute the following code to check if the DAPA_URL is available in the environment variable and to set the `/dapa` endpoint. "
   ]
  },
  {
   "cell_type": "code",
   "execution_count": 4,
   "id": "environmental-montana",
   "metadata": {
    "execution": {
     "iopub.execute_input": "2021-03-15T09:16:16.896248Z",
     "iopub.status.busy": "2021-03-15T09:16:16.891960Z",
     "iopub.status.idle": "2021-03-15T09:16:16.905387Z",
     "shell.execute_reply": "2021-03-15T09:16:16.904402Z"
    },
    "papermill": {
     "duration": 0.052051,
     "end_time": "2021-03-15T09:16:16.905526",
     "exception": false,
     "start_time": "2021-03-15T09:16:16.853475",
     "status": "completed"
    },
    "tags": []
   },
   "outputs": [
    {
     "name": "stdout",
     "output_type": "stream",
     "text": [
      "DAPA path: /oapi\n"
     ]
    }
   ],
   "source": [
    "service_url = None\n",
    "dapa_url = None\n",
    "\n",
    "if 'DAPA_URL' not in os.environ:\n",
    "    print('!! DAPA_URL does not exist as environment variable. Please make sure this is the case - see first block of this notebook! !!')\n",
    "else:    \n",
    "    service_url = os.environ['DAPA_URL']\n",
    "    dapa_url = '{}/{}'.format(service_url, 'oapi')\n",
    "    print('DAPA path: {}'.format(dapa_url.replace(service_url, '')))"
   ]
  },
  {
   "cell_type": "markdown",
   "id": "special-secretariat",
   "metadata": {
    "papermill": {
     "duration": 0.052935,
     "end_time": "2021-03-15T09:16:16.996935",
     "exception": false,
     "start_time": "2021-03-15T09:16:16.944000",
     "status": "completed"
    },
    "tags": []
   },
   "source": [
    "## Get collections supported by this endpoint\n",
    "This request provides a list of collections. The path of each collection is used as starting path of this service."
   ]
  },
  {
   "cell_type": "code",
   "execution_count": 5,
   "id": "historical-birth",
   "metadata": {
    "execution": {
     "iopub.execute_input": "2021-03-15T09:16:17.077470Z",
     "iopub.status.busy": "2021-03-15T09:16:17.076504Z",
     "iopub.status.idle": "2021-03-15T09:16:17.119617Z",
     "shell.execute_reply": "2021-03-15T09:16:17.118279Z"
    },
    "papermill": {
     "duration": 0.087738,
     "end_time": "2021-03-15T09:16:17.119791",
     "exception": false,
     "start_time": "2021-03-15T09:16:17.032053",
     "status": "completed"
    },
    "tags": []
   },
   "outputs": [
    {
     "name": "stdout",
     "output_type": "stream",
     "text": [
      "DAPA path: /oapi/collections\n"
     ]
    },
    {
     "data": {
      "text/plain": [
       "['/oapi/collections/DEM/',\n",
       " '/oapi/collections/L8L1C/',\n",
       " '/oapi/collections/S1GRD/',\n",
       " '/oapi/collections/S2L1C/',\n",
       " '/oapi/collections/S2L2A/',\n",
       " '/oapi/collections/S3OLCI/',\n",
       " '/oapi/collections/S3SLSTR/',\n",
       " '/oapi/collections/S5PL2/',\n",
       " '/oapi/collections/MODIS/']"
      ]
     },
     "execution_count": 5,
     "metadata": {},
     "output_type": "execute_result"
    }
   ],
   "source": [
    "collections_url = '{}/{}'.format(dapa_url, 'collections')\n",
    "collections = requests.get(collections_url, headers={'Accept': 'application/json'})\n",
    "\n",
    "print('DAPA path: {}'.format(collections.url.replace(service_url, '')))\n",
    "collections.json()"
   ]
  },
  {
   "cell_type": "markdown",
   "id": "processed-flood",
   "metadata": {
    "papermill": {
     "duration": 0.03251,
     "end_time": "2021-03-15T09:16:17.187590",
     "exception": false,
     "start_time": "2021-03-15T09:16:17.155080",
     "status": "completed"
    },
    "tags": []
   },
   "source": [
    "## Get fields of collection DEM\n",
    "The fields (or variables in other DAPA endpoints - these are the bands of the raster data) can be retrieved in all requests to the DAPA endpoint. In addition to the fixed set of fields, \"virtual\" fields can be used to conduct math operations (e.g., the calculation of indices). "
   ]
  },
  {
   "cell_type": "code",
   "execution_count": 6,
   "id": "different-intake",
   "metadata": {
    "execution": {
     "iopub.execute_input": "2021-03-15T09:16:17.264233Z",
     "iopub.status.busy": "2021-03-15T09:16:17.262251Z",
     "iopub.status.idle": "2021-03-15T09:16:17.301381Z",
     "shell.execute_reply": "2021-03-15T09:16:17.302015Z"
    },
    "papermill": {
     "duration": 0.08264,
     "end_time": "2021-03-15T09:16:17.302224",
     "exception": false,
     "start_time": "2021-03-15T09:16:17.219584",
     "status": "completed"
    },
    "tags": []
   },
   "outputs": [
    {
     "name": "stdout",
     "output_type": "stream",
     "text": [
      "DAPA path: /oapi/collections/DEM/dapa/fields\n"
     ]
    },
    {
     "data": {
      "text/plain": [
       "[{'id': 'DEM', 'wavelength': None}]"
      ]
     },
     "execution_count": 6,
     "metadata": {},
     "output_type": "execute_result"
    }
   ],
   "source": [
    "collection = 'DEM'\n",
    "\n",
    "fields_url = '{}/{}/{}/{}'.format(dapa_url, 'collections', collection, 'dapa/fields')\n",
    "fields = requests.get(fields_url, headers={'Accept': 'application/json'})\n",
    "\n",
    "print('DAPA path: {}'.format(fields.url.replace(service_url, '')))\n",
    "fields.json()"
   ]
  },
  {
   "cell_type": "markdown",
   "id": "increasing-blackjack",
   "metadata": {
    "papermill": {
     "duration": 0.032974,
     "end_time": "2021-03-15T09:16:17.368055",
     "exception": false,
     "start_time": "2021-03-15T09:16:17.335081",
     "status": "completed"
    },
    "tags": []
   },
   "source": [
    "## Retrieve a subset of an area of interest"
   ]
  },
  {
   "cell_type": "markdown",
   "id": "equivalent-lending",
   "metadata": {
    "papermill": {
     "duration": 0.031766,
     "end_time": "2021-03-15T09:16:17.435547",
     "exception": false,
     "start_time": "2021-03-15T09:16:17.403781",
     "status": "completed"
    },
    "tags": []
   },
   "source": [
    "### Set DAPA URL and parameters\n",
    "The output of this request is a single raster (`area` endpoint). As the input collection (DEM) is a single raster as well, only subsetting is done, no aggregation method needs to be specified.\n",
    "\n",
    "To retrieve a subset of an area of interest, a bounding box (`bbox`) or polygon geometry (`geom`) needs to be provided. Also the band (`field`) to be returned by DAPA needs to be specified."
   ]
  },
  {
   "cell_type": "code",
   "execution_count": 7,
   "id": "offshore-covering",
   "metadata": {
    "execution": {
     "iopub.execute_input": "2021-03-15T09:16:17.538408Z",
     "iopub.status.busy": "2021-03-15T09:16:17.530508Z",
     "iopub.status.idle": "2021-03-15T09:16:17.585310Z",
     "shell.execute_reply": "2021-03-15T09:16:17.578179Z"
    },
    "papermill": {
     "duration": 0.114345,
     "end_time": "2021-03-15T09:16:17.585475",
     "exception": false,
     "start_time": "2021-03-15T09:16:17.471130",
     "status": "completed"
    },
    "tags": []
   },
   "outputs": [
    {
     "data": {
      "application/vnd.jupyter.widget-view+json": {
       "model_id": "f57b8da7863a473e8e133c31571ce34e",
       "version_major": 2,
       "version_minor": 0
      },
      "text/plain": [
       "Map(center=[48.25, 11.5], controls=(ZoomControl(options=['position', 'zoom_in_text', 'zoom_in_title', 'zoom_ou…"
      ]
     },
     "metadata": {},
     "output_type": "display_data"
    }
   ],
   "source": [
    "# DAPA URL\n",
    "url = '{}/{}/{}/{}'.format(dapa_url, 'collections', collection, 'dapa/area')\n",
    "\n",
    "# Parameters for this request\n",
    "params = {\n",
    "    'bbox': '11,48,12,48.5',\n",
    "    'fields': 'DEM'\n",
    "}\n",
    "\n",
    "# show area in the map\n",
    "m = Map(\n",
    "    basemap=basemap_to_tiles(basemaps.OpenStreetMap.Mapnik),\n",
    "    center=(48.25, 11.5),\n",
    "    zoom=9\n",
    ")\n",
    "\n",
    "bbox = [float(coord) for coord in params['bbox'].split(',')]\n",
    "rectangle = Rectangle(bounds=((bbox[1], bbox[0]), (bbox[3], bbox[2])))\n",
    "m.add_layer(rectangle)\n",
    "m"
   ]
  },
  {
   "cell_type": "markdown",
   "id": "turned-supplement",
   "metadata": {
    "papermill": {
     "duration": 0.035262,
     "end_time": "2021-03-15T09:16:17.656668",
     "exception": false,
     "start_time": "2021-03-15T09:16:17.621406",
     "status": "completed"
    },
    "tags": []
   },
   "source": [
    "### Build request URL and conduct request"
   ]
  },
  {
   "cell_type": "code",
   "execution_count": 8,
   "id": "posted-threshold",
   "metadata": {
    "execution": {
     "iopub.execute_input": "2021-03-15T09:16:17.738497Z",
     "iopub.status.busy": "2021-03-15T09:16:17.737655Z",
     "iopub.status.idle": "2021-03-15T09:16:18.213842Z",
     "shell.execute_reply": "2021-03-15T09:16:18.215203Z"
    },
    "papermill": {
     "duration": 0.523984,
     "end_time": "2021-03-15T09:16:18.215530",
     "exception": false,
     "start_time": "2021-03-15T09:16:17.691546",
     "status": "completed"
    },
    "tags": []
   },
   "outputs": [
    {
     "name": "stdout",
     "output_type": "stream",
     "text": [
      "DAPA path: /oapi/collections/DEM/dapa/area?bbox=11,48,12,48.5&fields=DEM\n",
      "Status code: 200\n"
     ]
    }
   ],
   "source": [
    "params_str = \"&\".join(\"%s=%s\" % (k, v) for k,v in params.items())\n",
    "r = requests.get(url, params=params_str)\n",
    "\n",
    "print('DAPA path: {}'.format(r.url.replace(service_url, '')))\n",
    "print('Status code: {}'.format(r.status_code))"
   ]
  },
  {
   "cell_type": "markdown",
   "id": "alpha-foster",
   "metadata": {
    "papermill": {
     "duration": 0.039461,
     "end_time": "2021-03-15T09:16:18.290551",
     "exception": false,
     "start_time": "2021-03-15T09:16:18.251090",
     "status": "completed"
    },
    "tags": []
   },
   "source": [
    "### Write raster dataset to GeoTIFF file\n",
    "The response of the `area` endpoint is currently a GeoTIFF file, which can either be saved to disk or used directly in further processing."
   ]
  },
  {
   "cell_type": "code",
   "execution_count": 9,
   "id": "derived-british",
   "metadata": {
    "execution": {
     "iopub.execute_input": "2021-03-15T09:16:18.372819Z",
     "iopub.status.busy": "2021-03-15T09:16:18.371365Z",
     "iopub.status.idle": "2021-03-15T09:16:18.380708Z",
     "shell.execute_reply": "2021-03-15T09:16:18.381596Z"
    },
    "papermill": {
     "duration": 0.053051,
     "end_time": "2021-03-15T09:16:18.381852",
     "exception": false,
     "start_time": "2021-03-15T09:16:18.328801",
     "status": "completed"
    },
    "tags": []
   },
   "outputs": [],
   "source": [
    "with open('dem_subset.tif', 'wb') as filew:\n",
    "    filew.write(r.content)"
   ]
  },
  {
   "cell_type": "markdown",
   "id": "subsequent-wheat",
   "metadata": {
    "papermill": {
     "duration": 0.062139,
     "end_time": "2021-03-15T09:16:18.487309",
     "exception": false,
     "start_time": "2021-03-15T09:16:18.425170",
     "status": "completed"
    },
    "tags": []
   },
   "source": [
    "### Open raster dataset with xarray\n",
    "The GeoTIFF file can be opened with xarray. As the request only specified one field and no aggregation is needed, only one band is available."
   ]
  },
  {
   "cell_type": "code",
   "execution_count": 10,
   "id": "established-budget",
   "metadata": {
    "execution": {
     "iopub.execute_input": "2021-03-15T09:16:18.582120Z",
     "iopub.status.busy": "2021-03-15T09:16:18.581077Z",
     "iopub.status.idle": "2021-03-15T09:16:18.604249Z",
     "shell.execute_reply": "2021-03-15T09:16:18.604753Z"
    },
    "papermill": {
     "duration": 0.079738,
     "end_time": "2021-03-15T09:16:18.604970",
     "exception": false,
     "start_time": "2021-03-15T09:16:18.525232",
     "status": "completed"
    },
    "tags": []
   },
   "outputs": [
    {
     "data": {
      "text/html": [
       "<div><svg style=\"position: absolute; width: 0; height: 0; overflow: hidden\">\n",
       "<defs>\n",
       "<symbol id=\"icon-database\" viewBox=\"0 0 32 32\">\n",
       "<path d=\"M16 0c-8.837 0-16 2.239-16 5v4c0 2.761 7.163 5 16 5s16-2.239 16-5v-4c0-2.761-7.163-5-16-5z\"></path>\n",
       "<path d=\"M16 17c-8.837 0-16-2.239-16-5v6c0 2.761 7.163 5 16 5s16-2.239 16-5v-6c0 2.761-7.163 5-16 5z\"></path>\n",
       "<path d=\"M16 26c-8.837 0-16-2.239-16-5v6c0 2.761 7.163 5 16 5s16-2.239 16-5v-6c0 2.761-7.163 5-16 5z\"></path>\n",
       "</symbol>\n",
       "<symbol id=\"icon-file-text2\" viewBox=\"0 0 32 32\">\n",
       "<path d=\"M28.681 7.159c-0.694-0.947-1.662-2.053-2.724-3.116s-2.169-2.030-3.116-2.724c-1.612-1.182-2.393-1.319-2.841-1.319h-15.5c-1.378 0-2.5 1.121-2.5 2.5v27c0 1.378 1.122 2.5 2.5 2.5h23c1.378 0 2.5-1.122 2.5-2.5v-19.5c0-0.448-0.137-1.23-1.319-2.841zM24.543 5.457c0.959 0.959 1.712 1.825 2.268 2.543h-4.811v-4.811c0.718 0.556 1.584 1.309 2.543 2.268zM28 29.5c0 0.271-0.229 0.5-0.5 0.5h-23c-0.271 0-0.5-0.229-0.5-0.5v-27c0-0.271 0.229-0.5 0.5-0.5 0 0 15.499-0 15.5 0v7c0 0.552 0.448 1 1 1h7v19.5z\"></path>\n",
       "<path d=\"M23 26h-14c-0.552 0-1-0.448-1-1s0.448-1 1-1h14c0.552 0 1 0.448 1 1s-0.448 1-1 1z\"></path>\n",
       "<path d=\"M23 22h-14c-0.552 0-1-0.448-1-1s0.448-1 1-1h14c0.552 0 1 0.448 1 1s-0.448 1-1 1z\"></path>\n",
       "<path d=\"M23 18h-14c-0.552 0-1-0.448-1-1s0.448-1 1-1h14c0.552 0 1 0.448 1 1s-0.448 1-1 1z\"></path>\n",
       "</symbol>\n",
       "</defs>\n",
       "</svg>\n",
       "<style>/* CSS stylesheet for displaying xarray objects in jupyterlab.\n",
       " *\n",
       " */\n",
       "\n",
       ":root {\n",
       "  --xr-font-color0: var(--jp-content-font-color0, rgba(0, 0, 0, 1));\n",
       "  --xr-font-color2: var(--jp-content-font-color2, rgba(0, 0, 0, 0.54));\n",
       "  --xr-font-color3: var(--jp-content-font-color3, rgba(0, 0, 0, 0.38));\n",
       "  --xr-border-color: var(--jp-border-color2, #e0e0e0);\n",
       "  --xr-disabled-color: var(--jp-layout-color3, #bdbdbd);\n",
       "  --xr-background-color: var(--jp-layout-color0, white);\n",
       "  --xr-background-color-row-even: var(--jp-layout-color1, white);\n",
       "  --xr-background-color-row-odd: var(--jp-layout-color2, #eeeeee);\n",
       "}\n",
       "\n",
       "html[theme=dark],\n",
       "body.vscode-dark {\n",
       "  --xr-font-color0: rgba(255, 255, 255, 1);\n",
       "  --xr-font-color2: rgba(255, 255, 255, 0.54);\n",
       "  --xr-font-color3: rgba(255, 255, 255, 0.38);\n",
       "  --xr-border-color: #1F1F1F;\n",
       "  --xr-disabled-color: #515151;\n",
       "  --xr-background-color: #111111;\n",
       "  --xr-background-color-row-even: #111111;\n",
       "  --xr-background-color-row-odd: #313131;\n",
       "}\n",
       "\n",
       ".xr-wrap {\n",
       "  display: block;\n",
       "  min-width: 300px;\n",
       "  max-width: 700px;\n",
       "}\n",
       "\n",
       ".xr-text-repr-fallback {\n",
       "  /* fallback to plain text repr when CSS is not injected (untrusted notebook) */\n",
       "  display: none;\n",
       "}\n",
       "\n",
       ".xr-header {\n",
       "  padding-top: 6px;\n",
       "  padding-bottom: 6px;\n",
       "  margin-bottom: 4px;\n",
       "  border-bottom: solid 1px var(--xr-border-color);\n",
       "}\n",
       "\n",
       ".xr-header > div,\n",
       ".xr-header > ul {\n",
       "  display: inline;\n",
       "  margin-top: 0;\n",
       "  margin-bottom: 0;\n",
       "}\n",
       "\n",
       ".xr-obj-type,\n",
       ".xr-array-name {\n",
       "  margin-left: 2px;\n",
       "  margin-right: 10px;\n",
       "}\n",
       "\n",
       ".xr-obj-type {\n",
       "  color: var(--xr-font-color2);\n",
       "}\n",
       "\n",
       ".xr-sections {\n",
       "  padding-left: 0 !important;\n",
       "  display: grid;\n",
       "  grid-template-columns: 150px auto auto 1fr 20px 20px;\n",
       "}\n",
       "\n",
       ".xr-section-item {\n",
       "  display: contents;\n",
       "}\n",
       "\n",
       ".xr-section-item input {\n",
       "  display: none;\n",
       "}\n",
       "\n",
       ".xr-section-item input + label {\n",
       "  color: var(--xr-disabled-color);\n",
       "}\n",
       "\n",
       ".xr-section-item input:enabled + label {\n",
       "  cursor: pointer;\n",
       "  color: var(--xr-font-color2);\n",
       "}\n",
       "\n",
       ".xr-section-item input:enabled + label:hover {\n",
       "  color: var(--xr-font-color0);\n",
       "}\n",
       "\n",
       ".xr-section-summary {\n",
       "  grid-column: 1;\n",
       "  color: var(--xr-font-color2);\n",
       "  font-weight: 500;\n",
       "}\n",
       "\n",
       ".xr-section-summary > span {\n",
       "  display: inline-block;\n",
       "  padding-left: 0.5em;\n",
       "}\n",
       "\n",
       ".xr-section-summary-in:disabled + label {\n",
       "  color: var(--xr-font-color2);\n",
       "}\n",
       "\n",
       ".xr-section-summary-in + label:before {\n",
       "  display: inline-block;\n",
       "  content: '►';\n",
       "  font-size: 11px;\n",
       "  width: 15px;\n",
       "  text-align: center;\n",
       "}\n",
       "\n",
       ".xr-section-summary-in:disabled + label:before {\n",
       "  color: var(--xr-disabled-color);\n",
       "}\n",
       "\n",
       ".xr-section-summary-in:checked + label:before {\n",
       "  content: '▼';\n",
       "}\n",
       "\n",
       ".xr-section-summary-in:checked + label > span {\n",
       "  display: none;\n",
       "}\n",
       "\n",
       ".xr-section-summary,\n",
       ".xr-section-inline-details {\n",
       "  padding-top: 4px;\n",
       "  padding-bottom: 4px;\n",
       "}\n",
       "\n",
       ".xr-section-inline-details {\n",
       "  grid-column: 2 / -1;\n",
       "}\n",
       "\n",
       ".xr-section-details {\n",
       "  display: none;\n",
       "  grid-column: 1 / -1;\n",
       "  margin-bottom: 5px;\n",
       "}\n",
       "\n",
       ".xr-section-summary-in:checked ~ .xr-section-details {\n",
       "  display: contents;\n",
       "}\n",
       "\n",
       ".xr-array-wrap {\n",
       "  grid-column: 1 / -1;\n",
       "  display: grid;\n",
       "  grid-template-columns: 20px auto;\n",
       "}\n",
       "\n",
       ".xr-array-wrap > label {\n",
       "  grid-column: 1;\n",
       "  vertical-align: top;\n",
       "}\n",
       "\n",
       ".xr-preview {\n",
       "  color: var(--xr-font-color3);\n",
       "}\n",
       "\n",
       ".xr-array-preview,\n",
       ".xr-array-data {\n",
       "  padding: 0 5px !important;\n",
       "  grid-column: 2;\n",
       "}\n",
       "\n",
       ".xr-array-data,\n",
       ".xr-array-in:checked ~ .xr-array-preview {\n",
       "  display: none;\n",
       "}\n",
       "\n",
       ".xr-array-in:checked ~ .xr-array-data,\n",
       ".xr-array-preview {\n",
       "  display: inline-block;\n",
       "}\n",
       "\n",
       ".xr-dim-list {\n",
       "  display: inline-block !important;\n",
       "  list-style: none;\n",
       "  padding: 0 !important;\n",
       "  margin: 0;\n",
       "}\n",
       "\n",
       ".xr-dim-list li {\n",
       "  display: inline-block;\n",
       "  padding: 0;\n",
       "  margin: 0;\n",
       "}\n",
       "\n",
       ".xr-dim-list:before {\n",
       "  content: '(';\n",
       "}\n",
       "\n",
       ".xr-dim-list:after {\n",
       "  content: ')';\n",
       "}\n",
       "\n",
       ".xr-dim-list li:not(:last-child):after {\n",
       "  content: ',';\n",
       "  padding-right: 5px;\n",
       "}\n",
       "\n",
       ".xr-has-index {\n",
       "  font-weight: bold;\n",
       "}\n",
       "\n",
       ".xr-var-list,\n",
       ".xr-var-item {\n",
       "  display: contents;\n",
       "}\n",
       "\n",
       ".xr-var-item > div,\n",
       ".xr-var-item label,\n",
       ".xr-var-item > .xr-var-name span {\n",
       "  background-color: var(--xr-background-color-row-even);\n",
       "  margin-bottom: 0;\n",
       "}\n",
       "\n",
       ".xr-var-item > .xr-var-name:hover span {\n",
       "  padding-right: 5px;\n",
       "}\n",
       "\n",
       ".xr-var-list > li:nth-child(odd) > div,\n",
       ".xr-var-list > li:nth-child(odd) > label,\n",
       ".xr-var-list > li:nth-child(odd) > .xr-var-name span {\n",
       "  background-color: var(--xr-background-color-row-odd);\n",
       "}\n",
       "\n",
       ".xr-var-name {\n",
       "  grid-column: 1;\n",
       "}\n",
       "\n",
       ".xr-var-dims {\n",
       "  grid-column: 2;\n",
       "}\n",
       "\n",
       ".xr-var-dtype {\n",
       "  grid-column: 3;\n",
       "  text-align: right;\n",
       "  color: var(--xr-font-color2);\n",
       "}\n",
       "\n",
       ".xr-var-preview {\n",
       "  grid-column: 4;\n",
       "}\n",
       "\n",
       ".xr-var-name,\n",
       ".xr-var-dims,\n",
       ".xr-var-dtype,\n",
       ".xr-preview,\n",
       ".xr-attrs dt {\n",
       "  white-space: nowrap;\n",
       "  overflow: hidden;\n",
       "  text-overflow: ellipsis;\n",
       "  padding-right: 10px;\n",
       "}\n",
       "\n",
       ".xr-var-name:hover,\n",
       ".xr-var-dims:hover,\n",
       ".xr-var-dtype:hover,\n",
       ".xr-attrs dt:hover {\n",
       "  overflow: visible;\n",
       "  width: auto;\n",
       "  z-index: 1;\n",
       "}\n",
       "\n",
       ".xr-var-attrs,\n",
       ".xr-var-data {\n",
       "  display: none;\n",
       "  background-color: var(--xr-background-color) !important;\n",
       "  padding-bottom: 5px !important;\n",
       "}\n",
       "\n",
       ".xr-var-attrs-in:checked ~ .xr-var-attrs,\n",
       ".xr-var-data-in:checked ~ .xr-var-data {\n",
       "  display: block;\n",
       "}\n",
       "\n",
       ".xr-var-data > table {\n",
       "  float: right;\n",
       "}\n",
       "\n",
       ".xr-var-name span,\n",
       ".xr-var-data,\n",
       ".xr-attrs {\n",
       "  padding-left: 25px !important;\n",
       "}\n",
       "\n",
       ".xr-attrs,\n",
       ".xr-var-attrs,\n",
       ".xr-var-data {\n",
       "  grid-column: 1 / -1;\n",
       "}\n",
       "\n",
       "dl.xr-attrs {\n",
       "  padding: 0;\n",
       "  margin: 0;\n",
       "  display: grid;\n",
       "  grid-template-columns: 125px auto;\n",
       "}\n",
       "\n",
       ".xr-attrs dt,\n",
       ".xr-attrs dd {\n",
       "  padding: 0;\n",
       "  margin: 0;\n",
       "  float: left;\n",
       "  padding-right: 10px;\n",
       "  width: auto;\n",
       "}\n",
       "\n",
       ".xr-attrs dt {\n",
       "  font-weight: normal;\n",
       "  grid-column: 1;\n",
       "}\n",
       "\n",
       ".xr-attrs dt:hover span {\n",
       "  display: inline-block;\n",
       "  background: var(--xr-background-color);\n",
       "  padding-right: 10px;\n",
       "}\n",
       "\n",
       ".xr-attrs dd {\n",
       "  grid-column: 2;\n",
       "  white-space: pre-wrap;\n",
       "  word-break: break-all;\n",
       "}\n",
       "\n",
       ".xr-icon-database,\n",
       ".xr-icon-file-text2 {\n",
       "  display: inline-block;\n",
       "  vertical-align: middle;\n",
       "  width: 1em;\n",
       "  height: 1.5em !important;\n",
       "  stroke-width: 0;\n",
       "  stroke: currentColor;\n",
       "  fill: currentColor;\n",
       "}\n",
       "</style><pre class='xr-text-repr-fallback'>&lt;xarray.DataArray (band: 1, y: 512, x: 512)&gt;\n",
       "[262144 values with dtype=float32]\n",
       "Coordinates:\n",
       "  * band     (band) int64 1\n",
       "  * y        (y) float64 48.5 48.5 48.5 48.5 48.5 ... 48.0 48.0 48.0 48.0 48.0\n",
       "  * x        (x) float64 11.0 11.0 11.0 11.01 11.01 ... 11.99 12.0 12.0 12.0\n",
       "Attributes:\n",
       "    transform:               (0.001953125, 0.0, 11.0, 0.0, -0.0009765625, 48.5)\n",
       "    crs:                     +init=epsg:4326\n",
       "    res:                     (0.001953125, 0.0009765625)\n",
       "    is_tiled:                0\n",
       "    nodatavals:              (nan,)\n",
       "    scales:                  (1.0,)\n",
       "    offsets:                 (0.0,)\n",
       "    descriptions:            (&#x27;DEM&#x27;,)\n",
       "    AREA_OR_POINT:           Area\n",
       "    TIFFTAG_RESOLUTIONUNIT:  1 (unitless)\n",
       "    TIFFTAG_XRESOLUTION:     1\n",
       "    TIFFTAG_YRESOLUTION:     1</pre><div class='xr-wrap' hidden><div class='xr-header'><div class='xr-obj-type'>xarray.DataArray</div><div class='xr-array-name'></div><ul class='xr-dim-list'><li><span class='xr-has-index'>band</span>: 1</li><li><span class='xr-has-index'>y</span>: 512</li><li><span class='xr-has-index'>x</span>: 512</li></ul></div><ul class='xr-sections'><li class='xr-section-item'><div class='xr-array-wrap'><input id='section-0ff8ec3c-3aa5-44f1-b90d-5f5257c569bb' class='xr-array-in' type='checkbox' checked><label for='section-0ff8ec3c-3aa5-44f1-b90d-5f5257c569bb' title='Show/hide data repr'><svg class='icon xr-icon-database'><use xlink:href='#icon-database'></use></svg></label><div class='xr-array-preview xr-preview'><span>...</span></div><div class='xr-array-data'><pre>[262144 values with dtype=float32]</pre></div></div></li><li class='xr-section-item'><input id='section-67318e43-9093-4583-82af-4bcef455a791' class='xr-section-summary-in' type='checkbox'  checked><label for='section-67318e43-9093-4583-82af-4bcef455a791' class='xr-section-summary' >Coordinates: <span>(3)</span></label><div class='xr-section-inline-details'></div><div class='xr-section-details'><ul class='xr-var-list'><li class='xr-var-item'><div class='xr-var-name'><span class='xr-has-index'>band</span></div><div class='xr-var-dims'>(band)</div><div class='xr-var-dtype'>int64</div><div class='xr-var-preview xr-preview'>1</div><input id='attrs-cb98200a-f82f-47c7-a183-e29522bf569e' class='xr-var-attrs-in' type='checkbox' disabled><label for='attrs-cb98200a-f82f-47c7-a183-e29522bf569e' title='Show/Hide attributes'><svg class='icon xr-icon-file-text2'><use xlink:href='#icon-file-text2'></use></svg></label><input id='data-b03be5a9-e317-461a-9fe0-8fc2444372ab' class='xr-var-data-in' type='checkbox'><label for='data-b03be5a9-e317-461a-9fe0-8fc2444372ab' title='Show/Hide data repr'><svg class='icon xr-icon-database'><use xlink:href='#icon-database'></use></svg></label><div class='xr-var-attrs'><dl class='xr-attrs'></dl></div><div class='xr-var-data'><pre>array([1])</pre></div></li><li class='xr-var-item'><div class='xr-var-name'><span class='xr-has-index'>y</span></div><div class='xr-var-dims'>(y)</div><div class='xr-var-dtype'>float64</div><div class='xr-var-preview xr-preview'>48.5 48.5 48.5 ... 48.0 48.0 48.0</div><input id='attrs-f8eb8824-e74d-453f-a291-22ec0659774b' class='xr-var-attrs-in' type='checkbox' disabled><label for='attrs-f8eb8824-e74d-453f-a291-22ec0659774b' title='Show/Hide attributes'><svg class='icon xr-icon-file-text2'><use xlink:href='#icon-file-text2'></use></svg></label><input id='data-87477e44-5098-44bb-b40e-4358d75e998f' class='xr-var-data-in' type='checkbox'><label for='data-87477e44-5098-44bb-b40e-4358d75e998f' title='Show/Hide data repr'><svg class='icon xr-icon-database'><use xlink:href='#icon-database'></use></svg></label><div class='xr-var-attrs'><dl class='xr-attrs'></dl></div><div class='xr-var-data'><pre>array([48.499512, 48.498535, 48.497559, ..., 48.002441, 48.001465, 48.000488])</pre></div></li><li class='xr-var-item'><div class='xr-var-name'><span class='xr-has-index'>x</span></div><div class='xr-var-dims'>(x)</div><div class='xr-var-dtype'>float64</div><div class='xr-var-preview xr-preview'>11.0 11.0 11.0 ... 12.0 12.0 12.0</div><input id='attrs-e539777e-9629-459a-93d2-931e32f6e3f3' class='xr-var-attrs-in' type='checkbox' disabled><label for='attrs-e539777e-9629-459a-93d2-931e32f6e3f3' title='Show/Hide attributes'><svg class='icon xr-icon-file-text2'><use xlink:href='#icon-file-text2'></use></svg></label><input id='data-f2cd8135-5579-46cf-96ed-d8fdd4310e56' class='xr-var-data-in' type='checkbox'><label for='data-f2cd8135-5579-46cf-96ed-d8fdd4310e56' title='Show/Hide data repr'><svg class='icon xr-icon-database'><use xlink:href='#icon-database'></use></svg></label><div class='xr-var-attrs'><dl class='xr-attrs'></dl></div><div class='xr-var-data'><pre>array([11.000977, 11.00293 , 11.004883, ..., 11.995117, 11.99707 , 11.999023])</pre></div></li></ul></div></li><li class='xr-section-item'><input id='section-fd4c169a-e289-416b-8ea4-a18fe0aef1f0' class='xr-section-summary-in' type='checkbox'  ><label for='section-fd4c169a-e289-416b-8ea4-a18fe0aef1f0' class='xr-section-summary' >Attributes: <span>(12)</span></label><div class='xr-section-inline-details'></div><div class='xr-section-details'><dl class='xr-attrs'><dt><span>transform :</span></dt><dd>(0.001953125, 0.0, 11.0, 0.0, -0.0009765625, 48.5)</dd><dt><span>crs :</span></dt><dd>+init=epsg:4326</dd><dt><span>res :</span></dt><dd>(0.001953125, 0.0009765625)</dd><dt><span>is_tiled :</span></dt><dd>0</dd><dt><span>nodatavals :</span></dt><dd>(nan,)</dd><dt><span>scales :</span></dt><dd>(1.0,)</dd><dt><span>offsets :</span></dt><dd>(0.0,)</dd><dt><span>descriptions :</span></dt><dd>(&#x27;DEM&#x27;,)</dd><dt><span>AREA_OR_POINT :</span></dt><dd>Area</dd><dt><span>TIFFTAG_RESOLUTIONUNIT :</span></dt><dd>1 (unitless)</dd><dt><span>TIFFTAG_XRESOLUTION :</span></dt><dd>1</dd><dt><span>TIFFTAG_YRESOLUTION :</span></dt><dd>1</dd></dl></div></li></ul></div></div>"
      ],
      "text/plain": [
       "<xarray.DataArray (band: 1, y: 512, x: 512)>\n",
       "[262144 values with dtype=float32]\n",
       "Coordinates:\n",
       "  * band     (band) int64 1\n",
       "  * y        (y) float64 48.5 48.5 48.5 48.5 48.5 ... 48.0 48.0 48.0 48.0 48.0\n",
       "  * x        (x) float64 11.0 11.0 11.0 11.01 11.01 ... 11.99 12.0 12.0 12.0\n",
       "Attributes:\n",
       "    transform:               (0.001953125, 0.0, 11.0, 0.0, -0.0009765625, 48.5)\n",
       "    crs:                     +init=epsg:4326\n",
       "    res:                     (0.001953125, 0.0009765625)\n",
       "    is_tiled:                0\n",
       "    nodatavals:              (nan,)\n",
       "    scales:                  (1.0,)\n",
       "    offsets:                 (0.0,)\n",
       "    descriptions:            ('DEM',)\n",
       "    AREA_OR_POINT:           Area\n",
       "    TIFFTAG_RESOLUTIONUNIT:  1 (unitless)\n",
       "    TIFFTAG_XRESOLUTION:     1\n",
       "    TIFFTAG_YRESOLUTION:     1"
      ]
     },
     "execution_count": 10,
     "metadata": {},
     "output_type": "execute_result"
    }
   ],
   "source": [
    "ds = xr.open_rasterio('dem_subset.tif')\n",
    "ds"
   ]
  },
  {
   "cell_type": "markdown",
   "id": "static-latex",
   "metadata": {
    "papermill": {
     "duration": 0.040934,
     "end_time": "2021-03-15T09:16:18.689818",
     "exception": false,
     "start_time": "2021-03-15T09:16:18.648884",
     "status": "completed"
    },
    "tags": []
   },
   "source": [
    "### Plot DEM image"
   ]
  },
  {
   "cell_type": "code",
   "execution_count": 11,
   "id": "european-philadelphia",
   "metadata": {
    "execution": {
     "iopub.execute_input": "2021-03-15T09:16:18.777095Z",
     "iopub.status.busy": "2021-03-15T09:16:18.776023Z",
     "iopub.status.idle": "2021-03-15T09:16:19.480504Z",
     "shell.execute_reply": "2021-03-15T09:16:19.481133Z"
    },
    "papermill": {
     "duration": 0.753153,
     "end_time": "2021-03-15T09:16:19.481346",
     "exception": false,
     "start_time": "2021-03-15T09:16:18.728193",
     "status": "completed"
    },
    "tags": []
   },
   "outputs": [
    {
     "data": {
      "text/plain": [
       "<matplotlib.collections.QuadMesh at 0x7f73a9269f10>"
      ]
     },
     "execution_count": 11,
     "metadata": {},
     "output_type": "execute_result"
    },
    {
     "data": {
      "image/png": "[encoded data removed]",
      "text/plain": [
       "<Figure size 432x288 with 2 Axes>"
      ]
     },
     "metadata": {
      "needs_background": "light"
     },
     "output_type": "display_data"
    }
   ],
   "source": [
    "ds[0].plot()"
   ]
  },
  {
   "cell_type": "markdown",
   "id": "welsh-panama",
   "metadata": {
    "papermill": {
     "duration": 0.040409,
     "end_time": "2021-03-15T09:16:19.561756",
     "exception": false,
     "start_time": "2021-03-15T09:16:19.521347",
     "status": "completed"
    },
    "tags": []
   },
   "source": [
    "## Output gdalinfo"
   ]
  },
  {
   "cell_type": "code",
   "execution_count": 12,
   "id": "floppy-gender",
   "metadata": {
    "execution": {
     "iopub.execute_input": "2021-03-15T09:16:19.660894Z",
     "iopub.status.busy": "2021-03-15T09:16:19.659952Z",
     "iopub.status.idle": "2021-03-15T09:16:20.111626Z",
     "shell.execute_reply": "2021-03-15T09:16:20.110159Z"
    },
    "papermill": {
     "duration": 0.502982,
     "end_time": "2021-03-15T09:16:20.111847",
     "exception": false,
     "start_time": "2021-03-15T09:16:19.608865",
     "status": "completed"
    },
    "scrolled": true,
    "tags": []
   },
   "outputs": [
    {
     "name": "stdout",
     "output_type": "stream",
     "text": [
      "Driver: GTiff/GeoTIFF\r\n",
      "Files: dem_subset.tif\r\n",
      "Size is 512, 512\r\n",
      "Coordinate System is:\r\n",
      "GEOGCRS[\"WGS 84\",\r\n",
      "    DATUM[\"World Geodetic System 1984\",\r\n",
      "        ELLIPSOID[\"WGS 84\",6378137,298.257223563,\r\n",
      "            LENGTHUNIT[\"metre\",1]]],\r\n",
      "    PRIMEM[\"Greenwich\",0,\r\n",
      "        ANGLEUNIT[\"degree\",0.0174532925199433]],\r\n",
      "    CS[ellipsoidal,2],\r\n",
      "        AXIS[\"geodetic latitude (Lat)\",north,\r\n",
      "            ORDER[1],\r\n",
      "            ANGLEUNIT[\"degree\",0.0174532925199433]],\r\n",
      "        AXIS[\"geodetic longitude (Lon)\",east,\r\n",
      "            ORDER[2],\r\n",
      "            ANGLEUNIT[\"degree\",0.0174532925199433]],\r\n",
      "    ID[\"EPSG\",4326]]\r\n",
      "Data axis to CRS axis mapping: 2,1\r\n",
      "Origin = (11.000000000000000,48.500000000000000)\r\n",
      "Pixel Size = (0.001953125000000,-0.000976562500000)\r\n",
      "Metadata:\r\n",
      "  AREA_OR_POINT=Area\r\n",
      "  TIFFTAG_RESOLUTIONUNIT=1 (unitless)\r\n",
      "  TIFFTAG_XRESOLUTION=1\r\n",
      "  TIFFTAG_YRESOLUTION=1\r\n",
      "Image Structure Metadata:\r\n",
      "  COMPRESSION=DEFLATE\r\n",
      "  INTERLEAVE=BAND\r\n",
      "Corner Coordinates:\r\n",
      "Upper Left  (  11.0000000,  48.5000000) ( 11d 0' 0.00\"E, 48d30' 0.00\"N)\r\n",
      "Lower Left  (  11.0000000,  48.0000000) ( 11d 0' 0.00\"E, 48d 0' 0.00\"N)\r\n",
      "Upper Right (  12.0000000,  48.5000000) ( 12d 0' 0.00\"E, 48d30' 0.00\"N)\r\n",
      "Lower Right (  12.0000000,  48.0000000) ( 12d 0' 0.00\"E, 48d 0' 0.00\"N)\r\n",
      "Center      (  11.5000000,  48.2500000) ( 11d30' 0.00\"E, 48d15' 0.00\"N)\r\n",
      "Band 1 Block=512x8 Type=Float32, ColorInterp=Gray\r\n",
      "  Description = DEM\r\n"
     ]
    },
    {
     "name": "stdout",
     "output_type": "stream",
     "text": [
      "  Minimum=404.000, Maximum=706.000, Mean=515.058, StdDev=50.925\r\n",
      "  Metadata:\r\n",
      "    STATISTICS_MAXIMUM=706\r\n",
      "    STATISTICS_MEAN=515.05847167968\r\n",
      "    STATISTICS_MINIMUM=404\r\n",
      "    STATISTICS_STDDEV=50.925299661138\r\n",
      "    STATISTICS_VALID_PERCENT=100\r\n"
     ]
    }
   ],
   "source": [
    "!gdalinfo -stats dem_subset.tif"
   ]
  },
  {
   "cell_type": "markdown",
   "id": "absent-mercy",
   "metadata": {
    "papermill": {
     "duration": 0.040735,
     "end_time": "2021-03-15T09:16:20.193081",
     "exception": false,
     "start_time": "2021-03-15T09:16:20.152346",
     "status": "completed"
    },
    "tags": []
   },
   "source": [
    "## Retrieve DEM value within an area of interest aggregated spatially\n",
    "The output of this request is a single value requested from an area of interest (`value/area` endpoint). As the input collection (DEM) is a single raster, only spatial aggregation is conducted.\n",
    "\n",
    "To retrieve a single value of an area of interest, a bounding box (`bbox`) or polygon geometry (`geom`) needs to be provided together with the `aggregate` parameter, which specifies the aggregation methods being conducted. The band (`field`) to be returned by DAPA needs to be specified.\n",
    "\n",
    "The response of this request returns plain text with values splitted by comma. The order of the values relates to the order of the functions specified in the `aggregate` parameter. Additional output formats will be integrated within the testbed activtiy. "
   ]
  },
  {
   "cell_type": "code",
   "execution_count": 13,
   "id": "ready-administration",
   "metadata": {
    "execution": {
     "iopub.execute_input": "2021-03-15T09:16:20.289274Z",
     "iopub.status.busy": "2021-03-15T09:16:20.288045Z",
     "iopub.status.idle": "2021-03-15T09:16:20.858273Z",
     "shell.execute_reply": "2021-03-15T09:16:20.857401Z"
    },
    "papermill": {
     "duration": 0.625128,
     "end_time": "2021-03-15T09:16:20.858451",
     "exception": false,
     "start_time": "2021-03-15T09:16:20.233323",
     "status": "completed"
    },
    "tags": []
   },
   "outputs": [
    {
     "name": "stdout",
     "output_type": "stream",
     "text": [
      "DAPA path: /oapi/collections/DEM/dapa/value/area?bbox=11,48,12,48.5&fields=DEM&aggregate=min,max,avg\n",
      "Status code: 200\n"
     ]
    }
   ],
   "source": [
    "url = '{}/{}/{}/{}'.format(dapa_url, 'collections', collection, 'dapa/value/area')\n",
    "params = {\n",
    "    'bbox': '11,48,12,48.5',\n",
    "    'fields': 'DEM',\n",
    "    'aggregate': 'min,max,avg'\n",
    "}\n",
    "\n",
    "params_str = \"&\".join(\"%s=%s\" % (k, v) for k,v in params.items())\n",
    "r = requests.get(url, params=params_str)\n",
    "\n",
    "print('DAPA path: {}'.format(r.url.replace(service_url, '')))\n",
    "print('Status code: {}'.format(r.status_code))"
   ]
  },
  {
   "cell_type": "markdown",
   "id": "figured-blackberry",
   "metadata": {
    "papermill": {
     "duration": 0.047493,
     "end_time": "2021-03-15T09:16:20.949205",
     "exception": false,
     "start_time": "2021-03-15T09:16:20.901712",
     "status": "completed"
    },
    "tags": []
   },
   "source": [
    "Print values of the request"
   ]
  },
  {
   "cell_type": "code",
   "execution_count": 14,
   "id": "ambient-dining",
   "metadata": {
    "execution": {
     "iopub.execute_input": "2021-03-15T09:16:21.045276Z",
     "iopub.status.busy": "2021-03-15T09:16:21.044371Z",
     "iopub.status.idle": "2021-03-15T09:16:21.051485Z",
     "shell.execute_reply": "2021-03-15T09:16:21.049955Z"
    },
    "papermill": {
     "duration": 0.05607,
     "end_time": "2021-03-15T09:16:21.051722",
     "exception": false,
     "start_time": "2021-03-15T09:16:20.995652",
     "status": "completed"
    },
    "tags": []
   },
   "outputs": [
    {
     "name": "stdout",
     "output_type": "stream",
     "text": [
      "min: 404.0\n",
      "max: 706.0\n",
      "avg: 515.0584\n"
     ]
    }
   ],
   "source": [
    "values = r.text.split(',')\n",
    "print('min: %s' % values[0])\n",
    "print('max: %s' % values[1])\n",
    "print('avg: %s' % values[2])"
   ]
  },
  {
   "cell_type": "markdown",
   "id": "advanced-natural",
   "metadata": {
    "papermill": {
     "duration": 0.039782,
     "end_time": "2021-03-15T09:16:21.141397",
     "exception": false,
     "start_time": "2021-03-15T09:16:21.101615",
     "status": "completed"
    },
    "tags": []
   },
   "source": [
    "## Retrieve DEM value at a specific point\n",
    "The output of this request is a single value requested from a point of interest (`value/position` endpoint). As the input collection (DEM) is a single raster and the requested geometry is a point, no aggregation is needed.\n",
    "\n",
    "To retrieve a single value of a point, the parameter `point` needs to be provided. The band (`field`) to be returned by DAPA needs to be specified.\n",
    "\n",
    "The response of this request returns plain text with values splitted by comma. The order of the values relates to the order of the fields specified in the `fields` parameter. Additional output formats will be integrated within the testbed activtiy. "
   ]
  },
  {
   "cell_type": "code",
   "execution_count": 15,
   "id": "compact-washer",
   "metadata": {
    "execution": {
     "iopub.execute_input": "2021-03-15T09:16:21.241822Z",
     "iopub.status.busy": "2021-03-15T09:16:21.240790Z",
     "iopub.status.idle": "2021-03-15T09:16:21.533203Z",
     "shell.execute_reply": "2021-03-15T09:16:21.534176Z"
    },
    "papermill": {
     "duration": 0.351281,
     "end_time": "2021-03-15T09:16:21.534498",
     "exception": false,
     "start_time": "2021-03-15T09:16:21.183217",
     "status": "completed"
    },
    "tags": []
   },
   "outputs": [
    {
     "name": "stdout",
     "output_type": "stream",
     "text": [
      "DAPA path: /oapi/collections/DEM/dapa/value/position?point=11,48&fields=DEM\n",
      "Status code: 200\n",
      "Value: 648.0\n"
     ]
    }
   ],
   "source": [
    "url = '{}/{}/{}/{}'.format(dapa_url, 'collections', collection, 'dapa/value/position')\n",
    "params = {\n",
    "    'point': '11,48',\n",
    "    'fields': 'DEM'\n",
    "}\n",
    "\n",
    "params_str = \"&\".join(\"%s=%s\" % (k, v) for k,v in params.items())\n",
    "r = requests.get(url, params=params_str)\n",
    "\n",
    "print('DAPA path: {}'.format(r.url.replace(service_url, '')))\n",
    "print('Status code: {}'.format(r.status_code))\n",
    "print('Value: {}'.format(r.text))"
   ]
  },
  {
   "cell_type": "markdown",
   "id": "subject-penetration",
   "metadata": {
    "papermill": {
     "duration": 0.050771,
     "end_time": "2021-03-15T09:16:21.633344",
     "exception": false,
     "start_time": "2021-03-15T09:16:21.582573",
     "status": "completed"
    },
    "tags": []
   },
   "source": [
    "## Retrieve DEM value at a specific point calculated in feet\n",
    "You can do math operations in the `fields` parameter. To calculate from meter to feet you need only to specify a virtual field: \n",
    "> FEET=DEM/0.3048"
   ]
  },
  {
   "cell_type": "code",
   "execution_count": 16,
   "id": "studied-boost",
   "metadata": {
    "execution": {
     "iopub.execute_input": "2021-03-15T09:16:21.743625Z",
     "iopub.status.busy": "2021-03-15T09:16:21.742090Z",
     "iopub.status.idle": "2021-03-15T09:16:21.901232Z",
     "shell.execute_reply": "2021-03-15T09:16:21.900124Z"
    },
    "papermill": {
     "duration": 0.217405,
     "end_time": "2021-03-15T09:16:21.901457",
     "exception": false,
     "start_time": "2021-03-15T09:16:21.684052",
     "status": "completed"
    },
    "tags": []
   },
   "outputs": [
    {
     "name": "stdout",
     "output_type": "stream",
     "text": [
      "DAPA path: /oapi/collections/DEM/dapa/value/position?point=11,48&fields=FEET=DEM/0.3048\n",
      "Status code: 200\n",
      "Value: 2125.9841\n"
     ]
    }
   ],
   "source": [
    "url = '{}/{}/{}/{}'.format(dapa_url, 'collections', collection, 'dapa/value/position')\n",
    "params = {\n",
    "    'point': '11,48',\n",
    "    'fields': 'FEET=DEM/0.3048'\n",
    "}\n",
    "\n",
    "params_str = \"&\".join(\"%s=%s\" % (k, v) for k,v in params.items())\n",
    "r = requests.get(url, params=params_str)\n",
    "\n",
    "print('DAPA path: {}'.format(r.url.replace(service_url, '')))\n",
    "print('Status code: {}'.format(r.status_code))\n",
    "print('Value: {}'.format(r.text))"
   ]
  }
 ],
 "metadata": {
  "kernelspec": {
   "display_name": "EDC 0.19.6 (Python3)",
   "language": "python",
   "name": "edc"
  },
  "language_info": {
   "codemirror_mode": {
    "name": "ipython",
    "version": 3
   },
   "file_extension": ".py",
   "mimetype": "text/x-python",
   "name": "python",
   "nbconvert_exporter": "python",
   "pygments_lexer": "ipython3",
   "version": "3.8.8"
  },
  "papermill": {
   "duration": 11.083028,
   "end_time": "2021-03-15T09:16:23.471051",
   "environment_variables": {},
   "exception": null,
   "input_path": "/tmp/tmpwnxinzz0",
   "output_path": "/tmp/cur_notebook.ipynb",
   "parameters": {},
   "start_time": "2021-03-15T09:16:12.388023",
   "version": "2.1.2"
  },
  "properties": {
   "authors": [
    {
     "id": "47919774-57f5-4b2d-9f6c-570b91e23604",
     "name": "jonas.eberle@dlr.de"
    }
   ],
   "description": "DEM example based on DAPA experimental interface",
   "id": "819590ab-5711-493b-8875-4aefcad5acb1",
   "license": null,
   "name": "DAPA Tutorial #5: DEM example – OGC Testbed 16",
   "requirements": [
   ],
   "tags": [
    "DAPA"
   ],
   "tosAgree": true,
   "type": "Jupyter Notebook",
   "version": "0.3"
  },
  "widgets": {
   "application/vnd.jupyter.widget-state+json": {
    "state": {
     "067bf9739a9a44409578575404d13a5c": {
      "model_module": "@jupyter-widgets/base",
      "model_module_version": "1.2.0",
      "model_name": "LayoutModel",
      "state": {
       "_model_module": "@jupyter-widgets/base",
       "_model_module_version": "1.2.0",
       "_model_name": "LayoutModel",
       "_view_count": null,
       "_view_module": "@jupyter-widgets/base",
       "_view_module_version": "1.2.0",
       "_view_name": "LayoutView",
       "align_content": null,
       "align_items": null,
       "align_self": null,
       "border": null,
       "bottom": null,
       "display": null,
       "flex": null,
       "flex_flow": null,
       "grid_area": null,
       "grid_auto_columns": null,
       "grid_auto_flow": null,
       "grid_auto_rows": null,
       "grid_column": null,
       "grid_gap": null,
       "grid_row": null,
       "grid_template_areas": null,
       "grid_template_columns": null,
       "grid_template_rows": null,
       "height": null,
       "justify_content": null,
       "justify_items": null,
       "left": null,
       "margin": null,
       "max_height": null,
       "max_width": null,
       "min_height": null,
       "min_width": null,
       "object_fit": null,
       "object_position": null,
       "order": null,
       "overflow": null,
       "overflow_x": null,
       "overflow_y": null,
       "padding": null,
       "right": null,
       "top": null,
       "visibility": null,
       "width": null
      }
     },
     "344afa9c1e5a4df1ac385400f3176e14": {
      "model_module": "jupyter-leaflet",
      "model_module_version": "^0.13.5",
      "model_name": "LeafletMapStyleModel",
      "state": {
       "_model_module": "jupyter-leaflet",
       "_model_module_version": "^0.13.5",
       "_model_name": "LeafletMapStyleModel",
       "_view_count": null,
       "_view_module": "@jupyter-widgets/base",
       "_view_module_version": "1.2.0",
       "_view_name": "StyleView",
       "cursor": "grab"
      }
     },
     "4a26834bd91e45e28ffc57e39d9b8156": {
      "model_module": "jupyter-leaflet",
      "model_module_version": "^0.13.5",
      "model_name": "LeafletMapStyleModel",
      "state": {
       "_model_module": "jupyter-leaflet",
       "_model_module_version": "^0.13.5",
       "_model_name": "LeafletMapStyleModel",
       "_view_count": null,
       "_view_module": "@jupyter-widgets/base",
       "_view_module_version": "1.2.0",
       "_view_name": "StyleView",
       "cursor": "move"
      }
     },
     "52907db5ebbf460a8bbaa9afe261c097": {
      "model_module": "jupyter-leaflet",
      "model_module_version": "^0.13.5",
      "model_name": "LeafletZoomControlModel",
      "state": {
       "_model_module": "jupyter-leaflet",
       "_model_module_version": "^0.13.5",
       "_model_name": "LeafletZoomControlModel",
       "_view_count": null,
       "_view_module": "jupyter-leaflet",
       "_view_module_version": "^0.13.5",
       "_view_name": "LeafletZoomControlView",
       "options": [
        "position",
        "zoom_in_text",
        "zoom_in_title",
        "zoom_out_text",
        "zoom_out_title"
       ],
       "position": "topleft",
       "zoom_in_text": "+",
       "zoom_in_title": "Zoom in",
       "zoom_out_text": "-",
       "zoom_out_title": "Zoom out"
      }
     },
     "96b90007ea0a48888567a08f34686950": {
      "model_module": "jupyter-leaflet",
      "model_module_version": "^0.13.5",
      "model_name": "LeafletMapStyleModel",
      "state": {
       "_model_module": "jupyter-leaflet",
       "_model_module_version": "^0.13.5",
       "_model_name": "LeafletMapStyleModel",
       "_view_count": null,
       "_view_module": "@jupyter-widgets/base",
       "_view_module_version": "1.2.0",
       "_view_name": "StyleView",
       "cursor": "grab"
      }
     },
     "be4c4f459b4d49faa52a6b9ceafeb95e": {
      "model_module": "jupyter-leaflet",
      "model_module_version": "^0.13.5",
      "model_name": "LeafletAttributionControlModel",
      "state": {
       "_model_module": "jupyter-leaflet",
       "_model_module_version": "^0.13.5",
       "_model_name": "LeafletAttributionControlModel",
       "_view_count": null,
       "_view_module": "jupyter-leaflet",
       "_view_module_version": "^0.13.5",
       "_view_name": "LeafletAttributionControlView",
       "options": [
        "position",
        "prefix"
       ],
       "position": "bottomright",
       "prefix": "ipyleaflet"
      }
     },
     "c68300a12e6c460399550db9a476c514": {
      "model_module": "jupyter-leaflet",
      "model_module_version": "^0.13.5",
      "model_name": "LeafletRectangleModel",
      "state": {
       "_model_module": "jupyter-leaflet",
       "_model_module_version": "^0.13.5",
       "_model_name": "LeafletRectangleModel",
       "_view_count": null,
       "_view_module": "jupyter-leaflet",
       "_view_module_version": "^0.13.5",
       "_view_name": "LeafletRectangleView",
       "base": false,
       "bottom": false,
       "bounds": [
        [
         48.0,
         11.0
        ],
        [
         48.5,
         12.0
        ]
       ],
       "color": "#0033FF",
       "dash_array": null,
       "draggable": false,
       "fill": true,
       "fill_color": null,
       "fill_opacity": 0.2,
       "line_cap": "round",
       "line_join": "round",
       "locations": [],
       "name": "",
       "no_clip": true,
       "opacity": 1.0,
       "options": [
        "color",
        "dash_array",
        "draggable",
        "fill",
        "fill_color",
        "fill_opacity",
        "line_cap",
        "line_join",
        "no_clip",
        "opacity",
        "pointer_events",
        "smooth_factor",
        "stroke",
        "transform",
        "weight"
       ],
       "pointer_events": "",
       "popup": null,
       "popup_max_height": null,
       "popup_max_width": 300,
       "popup_min_width": 50,
       "rotation": true,
       "scaling": true,
       "smooth_factor": 1.0,
       "stroke": true,
       "transform": false,
       "uniform_scaling": false,
       "weight": 5
      }
     },
     "f57b8da7863a473e8e133c31571ce34e": {
      "model_module": "jupyter-leaflet",
      "model_module_version": "^0.13.5",
      "model_name": "LeafletMapModel",
      "state": {
       "_dom_classes": [],
       "_model_module": "jupyter-leaflet",
       "_model_module_version": "^0.13.5",
       "_model_name": "LeafletMapModel",
       "_view_count": null,
       "_view_module": "jupyter-leaflet",
       "_view_module_version": "^0.13.5",
       "_view_name": "LeafletMapView",
       "bottom": 0.0,
       "bounce_at_zoom_limits": true,
       "box_zoom": true,
       "center": [
        48.25,
        11.5
       ],
       "close_popup_on_click": true,
       "controls": [
        "IPY_MODEL_52907db5ebbf460a8bbaa9afe261c097",
        "IPY_MODEL_be4c4f459b4d49faa52a6b9ceafeb95e"
       ],
       "crs": {
        "custom": false,
        "name": "EPSG3857"
       },
       "default_style": "IPY_MODEL_344afa9c1e5a4df1ac385400f3176e14",
       "double_click_zoom": true,
       "dragging": true,
       "dragging_style": "IPY_MODEL_4a26834bd91e45e28ffc57e39d9b8156",
       "east": 0.0,
       "fullscreen": false,
       "inertia": true,
       "inertia_deceleration": 3000,
       "inertia_max_speed": 1500,
       "interpolation": "bilinear",
       "keyboard": true,
       "keyboard_pan_offset": 80,
       "keyboard_zoom_offset": 1,
       "layers": [
        "IPY_MODEL_ff54572b32724e009973cc01f2f025ac",
        "IPY_MODEL_c68300a12e6c460399550db9a476c514"
       ],
       "layout": "IPY_MODEL_067bf9739a9a44409578575404d13a5c",
       "left": 9007199254740991.0,
       "max_zoom": 18.0,
       "min_zoom": 1.0,
       "modisdate": "yesterday",
       "north": 0.0,
       "options": [
        "bounce_at_zoom_limits",
        "box_zoom",
        "center",
        "close_popup_on_click",
        "double_click_zoom",
        "dragging",
        "fullscreen",
        "inertia",
        "inertia_deceleration",
        "inertia_max_speed",
        "interpolation",
        "keyboard",
        "keyboard_pan_offset",
        "keyboard_zoom_offset",
        "max_zoom",
        "min_zoom",
        "scroll_wheel_zoom",
        "tap",
        "tap_tolerance",
        "touch_zoom",
        "world_copy_jump",
        "zoom",
        "zoom_animation_threshold",
        "zoom_delta",
        "zoom_snap",
        "zoom_start"
       ],
       "right": 0.0,
       "scroll_wheel_zoom": false,
       "south": 0.0,
       "style": "IPY_MODEL_96b90007ea0a48888567a08f34686950",
       "tap": true,
       "tap_tolerance": 15,
       "top": 9007199254740991.0,
       "touch_zoom": true,
       "west": 0.0,
       "window_url": "",
       "world_copy_jump": false,
       "zoom": 9.0,
       "zoom_animation_threshold": 4,
       "zoom_delta": 1.0,
       "zoom_snap": 1.0,
       "zoom_start": 12.0
      }
     },
     "ff54572b32724e009973cc01f2f025ac": {
      "model_module": "jupyter-leaflet",
      "model_module_version": "^0.13.5",
      "model_name": "LeafletTileLayerModel",
      "state": {
       "_model_module": "jupyter-leaflet",
       "_model_module_version": "^0.13.5",
       "_model_name": "LeafletTileLayerModel",
       "_view_count": null,
       "_view_module": "jupyter-leaflet",
       "_view_module_version": "^0.13.5",
       "_view_name": "LeafletTileLayerView",
       "attribution": "Map data (c) <a href=\"https://openstreetmap.org\">OpenStreetMap</a> contributors",
       "base": true,
       "bottom": true,
       "detect_retina": false,
       "loading": false,
       "max_native_zoom": 18,
       "max_zoom": 19,
       "min_native_zoom": 0,
       "min_zoom": 1,
       "name": "OpenStreetMap.Mapnik",
       "no_wrap": false,
       "opacity": 1.0,
       "options": [
        "attribution",
        "detect_retina",
        "max_native_zoom",
        "max_zoom",
        "min_native_zoom",
        "min_zoom",
        "no_wrap",
        "tile_size",
        "tms"
       ],
       "popup": null,
       "popup_max_height": null,
       "popup_max_width": 300,
       "popup_min_width": 50,
       "show_loading": false,
       "tile_size": 256,
       "tms": false,
       "url": "https://{s}.tile.openstreetmap.org/{z}/{x}/{y}.png",
       "visible": true
      }
     }
    },
    "version_major": 2,
    "version_minor": 0
   }
  }
 },
 "nbformat": 4,
 "nbformat_minor": 5
}
