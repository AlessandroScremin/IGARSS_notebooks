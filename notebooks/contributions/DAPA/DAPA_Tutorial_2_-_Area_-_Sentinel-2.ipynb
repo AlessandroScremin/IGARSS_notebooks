{
 "cells": [
  {
   "cell_type": "markdown",
   "id": "dominant-cream",
   "metadata": {
    "papermill": {
     "duration": 0.025782,
     "end_time": "2021-03-15T09:15:25.232295",
     "exception": false,
     "start_time": "2021-03-15T09:15:25.206513",
     "status": "completed"
    },
    "tags": []
   },
   "source": [
    "# DAPA Tutorial #2: Area - Sentinel-2"
   ]
  },
  {
   "cell_type": "markdown",
   "id": "freelance-tulsa",
   "metadata": {
    "papermill": {
     "duration": 0.024276,
     "end_time": "2021-03-15T09:15:25.280895",
     "exception": false,
     "start_time": "2021-03-15T09:15:25.256619",
     "status": "completed"
    },
    "tags": []
   },
   "source": [
    "## Load environment variables\n",
    "Please make sure that the environment variable \"DAPA_URL\" is set in the `custom.env` file. You can check this by executing the following block. \n",
    "\n",
    "If DAPA_URL is not set, please create a text file named `custom.env` in your home directory with the following input: \n",
    ">DAPA_URL=YOUR-PERSONAL-DAPA-APP-URL"
   ]
  },
  {
   "cell_type": "code",
   "execution_count": 1,
   "id": "computational-investor",
   "metadata": {
    "execution": {
     "iopub.execute_input": "2021-03-15T09:15:25.335581Z",
     "iopub.status.busy": "2021-03-15T09:15:25.333847Z",
     "iopub.status.idle": "2021-03-15T09:15:25.440510Z",
     "shell.execute_reply": "2021-03-15T09:15:25.439687Z"
    },
    "papermill": {
     "duration": 0.136923,
     "end_time": "2021-03-15T09:15:25.440692",
     "exception": false,
     "start_time": "2021-03-15T09:15:25.303769",
     "status": "completed"
    },
    "tags": []
   },
   "outputs": [
    {
     "data": {
      "text/markdown": [
       "API credentials have automatically been injected for your active subscriptions.  \n",
       "The following environment variables are now available:\n",
       "\n",
       "The following additional environment variables have been loaded from `~/custom.env`:\n",
       "* `AWS_BUCKET`\n",
       "* `DAPA_URL`\n",
       "* `DB_HOST`, `DB_NAME`, `DB_PASSWORD`, `DB_USER`\n",
       "* `OGC_EDC_URL`\n",
       "* `REFERENCE_DATA`\n"
      ],
      "text/plain": [
       "<IPython.core.display.Markdown object>"
      ]
     },
     "metadata": {},
     "output_type": "display_data"
    }
   ],
   "source": [
    "from edc import setup_environment_variables\n",
    "setup_environment_variables()"
   ]
  },
  {
   "cell_type": "markdown",
   "id": "norman-wichita",
   "metadata": {
    "papermill": {
     "duration": 0.028767,
     "end_time": "2021-03-15T09:15:25.490736",
     "exception": false,
     "start_time": "2021-03-15T09:15:25.461969",
     "status": "completed"
    },
    "tags": []
   },
   "source": [
    "## Check notebook compabtibility\n",
    "**Please note:** If you conduct this notebook again at a later time, the base image of this Jupyter Hub service can include newer versions of the libraries installed. Thus, the notebook execution can fail. This compatibility check is only necessary when something is broken. "
   ]
  },
  {
   "cell_type": "code",
   "execution_count": 2,
   "id": "lovely-integer",
   "metadata": {
    "execution": {
     "iopub.execute_input": "2021-03-15T09:15:25.546464Z",
     "iopub.status.busy": "2021-03-15T09:15:25.545380Z",
     "iopub.status.idle": "2021-03-15T09:15:25.555410Z",
     "shell.execute_reply": "2021-03-15T09:15:25.554070Z"
    },
    "papermill": {
     "duration": 0.042181,
     "end_time": "2021-03-15T09:15:25.555665",
     "exception": false,
     "start_time": "2021-03-15T09:15:25.513484",
     "status": "completed"
    },
    "tags": []
   },
   "outputs": [
    {
     "data": {
      "text/html": [
       "<script type=\"text/javascript\">\n",
       "        function toggle(id) {\n",
       "            el = document.getElementById(id);\n",
       "            el.style.display = el.style.display === \"none\" ? \"block\" : \"none\";\n",
       "        }\n",
       "    </script>"
      ],
      "text/plain": [
       "<IPython.core.display.HTML object>"
      ]
     },
     "metadata": {},
     "output_type": "display_data"
    },
    {
     "data": {
      "text/html": [
       "This notebook is compatible with this base image version (user-0.23.2)."
      ],
      "text/plain": [
       "<IPython.core.display.HTML object>"
      ]
     },
     "metadata": {},
     "output_type": "display_data"
    }
   ],
   "source": [
    "from edc import check_compatibility\n",
    "check_compatibility(\"user-0.23.2\")"
   ]
  },
  {
   "cell_type": "markdown",
   "id": "upper-pharmaceutical",
   "metadata": {
    "papermill": {
     "duration": 0.02671,
     "end_time": "2021-03-15T09:15:25.611937",
     "exception": false,
     "start_time": "2021-03-15T09:15:25.585227",
     "status": "completed"
    },
    "tags": []
   },
   "source": [
    "## Load libraries\n",
    "Python libraries used in this tutorial will be loaded."
   ]
  },
  {
   "cell_type": "code",
   "execution_count": 3,
   "id": "musical-quebec",
   "metadata": {
    "execution": {
     "iopub.execute_input": "2021-03-15T09:15:25.676083Z",
     "iopub.status.busy": "2021-03-15T09:15:25.673933Z",
     "iopub.status.idle": "2021-03-15T09:15:28.001397Z",
     "shell.execute_reply": "2021-03-15T09:15:28.000354Z"
    },
    "papermill": {
     "duration": 2.362253,
     "end_time": "2021-03-15T09:15:28.001632",
     "exception": false,
     "start_time": "2021-03-15T09:15:25.639379",
     "status": "completed"
    },
    "tags": []
   },
   "outputs": [],
   "source": [
    "import os\n",
    "import xarray as xr\n",
    "import pandas as pd\n",
    "import requests\n",
    "import matplotlib\n",
    "from ipyleaflet import Map, Rectangle, DrawControl, basemaps, basemap_to_tiles\n",
    "%matplotlib inline"
   ]
  },
  {
   "cell_type": "markdown",
   "id": "friendly-uncle",
   "metadata": {
    "papermill": {
     "duration": 0.025745,
     "end_time": "2021-03-15T09:15:28.056908",
     "exception": false,
     "start_time": "2021-03-15T09:15:28.031163",
     "status": "completed"
    },
    "tags": []
   },
   "source": [
    "## Set DAPA endpoint\n",
    "Execute the following code to check if the DAPA_URL is available in the environment variable and to set the `/dapa` endpoint. "
   ]
  },
  {
   "cell_type": "code",
   "execution_count": 4,
   "id": "expired-phrase",
   "metadata": {
    "execution": {
     "iopub.execute_input": "2021-03-15T09:15:28.118238Z",
     "iopub.status.busy": "2021-03-15T09:15:28.116572Z",
     "iopub.status.idle": "2021-03-15T09:15:28.123355Z",
     "shell.execute_reply": "2021-03-15T09:15:28.122057Z"
    },
    "papermill": {
     "duration": 0.039852,
     "end_time": "2021-03-15T09:15:28.123575",
     "exception": false,
     "start_time": "2021-03-15T09:15:28.083723",
     "status": "completed"
    },
    "tags": []
   },
   "outputs": [
    {
     "name": "stdout",
     "output_type": "stream",
     "text": [
      "DAPA path: /oapi\n"
     ]
    }
   ],
   "source": [
    "service_url = None\n",
    "dapa_url = None\n",
    "\n",
    "if 'DAPA_URL' not in os.environ:\n",
    "    print('!! DAPA_URL does not exist as environment variable. Please make sure this is the case - see first block of this notebook! !!')\n",
    "else:    \n",
    "    service_url = os.environ['DAPA_URL']\n",
    "    dapa_url = '{}/{}'.format(service_url, 'oapi')\n",
    "    print('DAPA path: {}'.format(dapa_url.replace(service_url, '')))"
   ]
  },
  {
   "cell_type": "markdown",
   "id": "educational-virtue",
   "metadata": {
    "papermill": {
     "duration": 0.036333,
     "end_time": "2021-03-15T09:15:28.188068",
     "exception": false,
     "start_time": "2021-03-15T09:15:28.151735",
     "status": "completed"
    },
    "tags": []
   },
   "source": [
    "## Get collections supported by this endpoint\n",
    "This request provides a list of collections. The path of each collection is used as starting path of this service."
   ]
  },
  {
   "cell_type": "code",
   "execution_count": 5,
   "id": "incorrect-mixer",
   "metadata": {
    "execution": {
     "iopub.execute_input": "2021-03-15T09:15:28.348648Z",
     "iopub.status.busy": "2021-03-15T09:15:28.245513Z",
     "iopub.status.idle": "2021-03-15T09:15:28.391859Z",
     "shell.execute_reply": "2021-03-15T09:15:28.392652Z"
    },
    "papermill": {
     "duration": 0.180788,
     "end_time": "2021-03-15T09:15:28.392892",
     "exception": false,
     "start_time": "2021-03-15T09:15:28.212104",
     "status": "completed"
    },
    "tags": []
   },
   "outputs": [
    {
     "name": "stdout",
     "output_type": "stream",
     "text": [
      "DAPA path: /oapi/collections\n"
     ]
    },
    {
     "data": {
      "text/plain": [
       "['/oapi/collections/DEM/',\n",
       " '/oapi/collections/L8L1C/',\n",
       " '/oapi/collections/S1GRD/',\n",
       " '/oapi/collections/S2L1C/',\n",
       " '/oapi/collections/S2L2A/',\n",
       " '/oapi/collections/S3OLCI/',\n",
       " '/oapi/collections/S3SLSTR/',\n",
       " '/oapi/collections/S5PL2/',\n",
       " '/oapi/collections/MODIS/']"
      ]
     },
     "execution_count": 5,
     "metadata": {},
     "output_type": "execute_result"
    }
   ],
   "source": [
    "collections_url = '{}/{}'.format(dapa_url, 'collections')\n",
    "collections = requests.get(collections_url, headers={'Accept': 'application/json'})\n",
    "\n",
    "print('DAPA path: {}'.format(collections.url.replace(service_url, '')))\n",
    "collections.json()"
   ]
  },
  {
   "cell_type": "markdown",
   "id": "average-trinidad",
   "metadata": {
    "papermill": {
     "duration": 0.034841,
     "end_time": "2021-03-15T09:15:28.458894",
     "exception": false,
     "start_time": "2021-03-15T09:15:28.424053",
     "status": "completed"
    },
    "tags": []
   },
   "source": [
    "## Get fields of collection Sentinel-2 L2A\n",
    "The fields (or variables in other DAPA endpoints - these are the bands of the raster data) can be retrieved in all requests to the DAPA endpoint. In addition to the fixed set of fields, \"virtual\" fields can be used to conduct math operations (e.g., the calculation of indices). "
   ]
  },
  {
   "cell_type": "code",
   "execution_count": 6,
   "id": "friendly-number",
   "metadata": {
    "execution": {
     "iopub.execute_input": "2021-03-15T09:15:28.537145Z",
     "iopub.status.busy": "2021-03-15T09:15:28.536006Z",
     "iopub.status.idle": "2021-03-15T09:15:28.582220Z",
     "shell.execute_reply": "2021-03-15T09:15:28.583580Z"
    },
    "papermill": {
     "duration": 0.088572,
     "end_time": "2021-03-15T09:15:28.583896",
     "exception": false,
     "start_time": "2021-03-15T09:15:28.495324",
     "status": "completed"
    },
    "tags": []
   },
   "outputs": [
    {
     "name": "stdout",
     "output_type": "stream",
     "text": [
      "DAPA path: /oapi/collections/S2L2A/dapa/fields\n"
     ]
    },
    {
     "data": {
      "text/plain": [
       "[{'id': 'B01', 'wavelength': 442.7},\n",
       " {'id': 'B02', 'wavelength': 492.4},\n",
       " {'id': 'B03', 'wavelength': 559.8},\n",
       " {'id': 'B04', 'wavelength': 664.6},\n",
       " {'id': 'B05', 'wavelength': 704.1},\n",
       " {'id': 'B06', 'wavelength': 740.5},\n",
       " {'id': 'B07', 'wavelength': 782.8},\n",
       " {'id': 'B08', 'wavelength': 832.8},\n",
       " {'id': 'B8A', 'wavelength': 864.7},\n",
       " {'id': 'B09', 'wavelength': 945.1},\n",
       " {'id': 'B11', 'wavelength': 1613.7},\n",
       " {'id': 'B12', 'wavelength': 2202.4},\n",
       " {'id': 'SCL', 'wavelength': None},\n",
       " {'id': 'SNW', 'wavelength': None},\n",
       " {'id': 'CLD', 'wavelength': None}]"
      ]
     },
     "execution_count": 6,
     "metadata": {},
     "output_type": "execute_result"
    }
   ],
   "source": [
    "collection = 'S2L2A'\n",
    "\n",
    "fields_url = '{}/{}/{}/{}'.format(dapa_url, 'collections', collection, 'dapa/fields')\n",
    "fields = requests.get(fields_url, headers={'Accept': 'application/json'})\n",
    "\n",
    "print('DAPA path: {}'.format(fields.url.replace(service_url, '')))\n",
    "fields.json()"
   ]
  },
  {
   "cell_type": "markdown",
   "id": "pharmaceutical-springer",
   "metadata": {
    "papermill": {
     "duration": 0.027952,
     "end_time": "2021-03-15T09:15:28.645633",
     "exception": false,
     "start_time": "2021-03-15T09:15:28.617681",
     "status": "completed"
    },
    "tags": []
   },
   "source": [
    "## Retrieve data as raster aggregated by time"
   ]
  },
  {
   "cell_type": "markdown",
   "id": "animated-equilibrium",
   "metadata": {
    "papermill": {
     "duration": 0.032203,
     "end_time": "2021-03-15T09:15:28.706338",
     "exception": false,
     "start_time": "2021-03-15T09:15:28.674135",
     "status": "completed"
    },
    "tags": []
   },
   "source": [
    "### Set DAPA URL and parameters\n",
    "The output of this request is a single raster (`area` endpoint). As the input collection (S2L2A) is a multi-temporal raster and the output format is an area, temporal aggregation is conducted for each pixel in the area.\n",
    "\n",
    "To retrieve a single raster, a bounding box (`bbox`) or polygon geometry (`geom`) needs to be provided. The `time` parameter allows to aggregate data only within a specific time span. Also the band (`field`) to be returned by DAPA needs to be specified as well. "
   ]
  },
  {
   "cell_type": "code",
   "execution_count": 7,
   "id": "million-contribution",
   "metadata": {
    "execution": {
     "iopub.execute_input": "2021-03-15T09:15:28.817292Z",
     "iopub.status.busy": "2021-03-15T09:15:28.812392Z",
     "iopub.status.idle": "2021-03-15T09:15:28.854508Z",
     "shell.execute_reply": "2021-03-15T09:15:28.853215Z"
    },
    "papermill": {
     "duration": 0.116341,
     "end_time": "2021-03-15T09:15:28.855339",
     "exception": false,
     "start_time": "2021-03-15T09:15:28.738998",
     "status": "completed"
    },
    "tags": []
   },
   "outputs": [
    {
     "data": {
      "application/vnd.jupyter.widget-view+json": {
       "model_id": "7c6b90e04d6f4d77a7bc115410b31861",
       "version_major": 2,
       "version_minor": 0
      },
      "text/plain": [
       "Map(center=[48.14, 11.56], controls=(ZoomControl(options=['position', 'zoom_in_text', 'zoom_in_title', 'zoom_o…"
      ]
     },
     "metadata": {},
     "output_type": "display_data"
    }
   ],
   "source": [
    "# DAPA URL\n",
    "url = '{}/{}/{}/{}'.format(dapa_url, 'collections', collection, 'dapa/area')\n",
    "\n",
    "# Parameters for this request\n",
    "params = {\n",
    "    'bbox': '11.49,48.05,11.66,48.22',\n",
    "    'time': '2018-05-07T10:00:00Z/2018-05-07T12:00:00Z',\n",
    "    'fields': 'NDVI=(B08-B04)/(B08%2BB04),NDBI=(B11-B08)/(B11%2BB08)', # Please note: + signs need to be URL encoded -> %2B\n",
    "    'aggregate': 'avg'\n",
    "}\n",
    "\n",
    "# show point in the map\n",
    "m = Map(\n",
    "    basemap=basemap_to_tiles(basemaps.OpenStreetMap.Mapnik),\n",
    "    center=(48.14, 11.56),\n",
    "    zoom=10\n",
    ")\n",
    "\n",
    "bbox = [float(coord) for coord in params['bbox'].split(',')]\n",
    "rectangle = Rectangle(bounds=((bbox[1], bbox[0]), (bbox[3], bbox[2])))\n",
    "m.add_layer(rectangle)\n",
    "\n",
    "m"
   ]
  },
  {
   "cell_type": "markdown",
   "id": "voluntary-network",
   "metadata": {
    "papermill": {
     "duration": 0.030316,
     "end_time": "2021-03-15T09:15:28.929539",
     "exception": false,
     "start_time": "2021-03-15T09:15:28.899223",
     "status": "completed"
    },
    "tags": []
   },
   "source": [
    "### Build request URL and conduct request"
   ]
  },
  {
   "cell_type": "code",
   "execution_count": 8,
   "id": "sharing-statement",
   "metadata": {
    "execution": {
     "iopub.execute_input": "2021-03-15T09:15:29.000789Z",
     "iopub.status.busy": "2021-03-15T09:15:28.999913Z",
     "iopub.status.idle": "2021-03-15T09:15:30.550134Z",
     "shell.execute_reply": "2021-03-15T09:15:30.549223Z"
    },
    "papermill": {
     "duration": 1.591899,
     "end_time": "2021-03-15T09:15:30.550298",
     "exception": false,
     "start_time": "2021-03-15T09:15:28.958399",
     "status": "completed"
    },
    "tags": []
   },
   "outputs": [
    {
     "name": "stdout",
     "output_type": "stream",
     "text": [
      "DAPA path: /oapi/collections/S2L2A/dapa/area?bbox=11.49,48.05,11.66,48.22&time=2018-05-07T10:00:00Z/2018-05-07T12:00:00Z&fields=NDVI=(B08-B04)/(B08%2BB04),NDBI=(B11-B08)/(B11%2BB08)&aggregate=avg\n",
      "Status code: 200\n"
     ]
    }
   ],
   "source": [
    "params_str = \"&\".join(\"%s=%s\" % (k, v) for k,v in params.items())\n",
    "r = requests.get(url, params=params_str)\n",
    "\n",
    "print('DAPA path: {}'.format(r.url.replace(service_url, '')))\n",
    "print('Status code: {}'.format(r.status_code))"
   ]
  },
  {
   "cell_type": "markdown",
   "id": "banned-quantum",
   "metadata": {
    "papermill": {
     "duration": 0.02923,
     "end_time": "2021-03-15T09:15:30.609042",
     "exception": false,
     "start_time": "2021-03-15T09:15:30.579812",
     "status": "completed"
    },
    "tags": []
   },
   "source": [
    "### Write raster dataset to GeoTIFF file\n",
    "The response of the `area` endpoint is currently a GeoTIFF file, which can either be saved to disk or used directly in further processing."
   ]
  },
  {
   "cell_type": "code",
   "execution_count": 9,
   "id": "geographic-zambia",
   "metadata": {
    "execution": {
     "iopub.execute_input": "2021-03-15T09:15:30.690331Z",
     "iopub.status.busy": "2021-03-15T09:15:30.689287Z",
     "iopub.status.idle": "2021-03-15T09:15:30.695330Z",
     "shell.execute_reply": "2021-03-15T09:15:30.694268Z"
    },
    "papermill": {
     "duration": 0.043947,
     "end_time": "2021-03-15T09:15:30.695592",
     "exception": false,
     "start_time": "2021-03-15T09:15:30.651645",
     "status": "completed"
    },
    "tags": []
   },
   "outputs": [],
   "source": [
    "with open('area_avg.tif', 'wb') as filew:\n",
    "    filew.write(r.content)"
   ]
  },
  {
   "cell_type": "markdown",
   "id": "utility-point",
   "metadata": {
    "papermill": {
     "duration": 0.031216,
     "end_time": "2021-03-15T09:15:30.755731",
     "exception": false,
     "start_time": "2021-03-15T09:15:30.724515",
     "status": "completed"
    },
    "tags": []
   },
   "source": [
    "### Open raster dataset with xarray\n",
    "The GeoTIFF file can be opened with xarray. The file consists of bands related to each `field` and each aggregation function (see descriptions attribute in the xarray output). "
   ]
  },
  {
   "cell_type": "code",
   "execution_count": 10,
   "id": "proprietary-worst",
   "metadata": {
    "execution": {
     "iopub.execute_input": "2021-03-15T09:15:30.819778Z",
     "iopub.status.busy": "2021-03-15T09:15:30.816775Z",
     "iopub.status.idle": "2021-03-15T09:15:31.079821Z",
     "shell.execute_reply": "2021-03-15T09:15:31.080827Z"
    },
    "papermill": {
     "duration": 0.295883,
     "end_time": "2021-03-15T09:15:31.081230",
     "exception": false,
     "start_time": "2021-03-15T09:15:30.785347",
     "status": "completed"
    },
    "tags": []
   },
   "outputs": [
    {
     "data": {
      "text/html": [
       "<div><svg style=\"position: absolute; width: 0; height: 0; overflow: hidden\">\n",
       "<defs>\n",
       "<symbol id=\"icon-database\" viewBox=\"0 0 32 32\">\n",
       "<path d=\"M16 0c-8.837 0-16 2.239-16 5v4c0 2.761 7.163 5 16 5s16-2.239 16-5v-4c0-2.761-7.163-5-16-5z\"></path>\n",
       "<path d=\"M16 17c-8.837 0-16-2.239-16-5v6c0 2.761 7.163 5 16 5s16-2.239 16-5v-6c0 2.761-7.163 5-16 5z\"></path>\n",
       "<path d=\"M16 26c-8.837 0-16-2.239-16-5v6c0 2.761 7.163 5 16 5s16-2.239 16-5v-6c0 2.761-7.163 5-16 5z\"></path>\n",
       "</symbol>\n",
       "<symbol id=\"icon-file-text2\" viewBox=\"0 0 32 32\">\n",
       "<path d=\"M28.681 7.159c-0.694-0.947-1.662-2.053-2.724-3.116s-2.169-2.030-3.116-2.724c-1.612-1.182-2.393-1.319-2.841-1.319h-15.5c-1.378 0-2.5 1.121-2.5 2.5v27c0 1.378 1.122 2.5 2.5 2.5h23c1.378 0 2.5-1.122 2.5-2.5v-19.5c0-0.448-0.137-1.23-1.319-2.841zM24.543 5.457c0.959 0.959 1.712 1.825 2.268 2.543h-4.811v-4.811c0.718 0.556 1.584 1.309 2.543 2.268zM28 29.5c0 0.271-0.229 0.5-0.5 0.5h-23c-0.271 0-0.5-0.229-0.5-0.5v-27c0-0.271 0.229-0.5 0.5-0.5 0 0 15.499-0 15.5 0v7c0 0.552 0.448 1 1 1h7v19.5z\"></path>\n",
       "<path d=\"M23 26h-14c-0.552 0-1-0.448-1-1s0.448-1 1-1h14c0.552 0 1 0.448 1 1s-0.448 1-1 1z\"></path>\n",
       "<path d=\"M23 22h-14c-0.552 0-1-0.448-1-1s0.448-1 1-1h14c0.552 0 1 0.448 1 1s-0.448 1-1 1z\"></path>\n",
       "<path d=\"M23 18h-14c-0.552 0-1-0.448-1-1s0.448-1 1-1h14c0.552 0 1 0.448 1 1s-0.448 1-1 1z\"></path>\n",
       "</symbol>\n",
       "</defs>\n",
       "</svg>\n",
       "<style>/* CSS stylesheet for displaying xarray objects in jupyterlab.\n",
       " *\n",
       " */\n",
       "\n",
       ":root {\n",
       "  --xr-font-color0: var(--jp-content-font-color0, rgba(0, 0, 0, 1));\n",
       "  --xr-font-color2: var(--jp-content-font-color2, rgba(0, 0, 0, 0.54));\n",
       "  --xr-font-color3: var(--jp-content-font-color3, rgba(0, 0, 0, 0.38));\n",
       "  --xr-border-color: var(--jp-border-color2, #e0e0e0);\n",
       "  --xr-disabled-color: var(--jp-layout-color3, #bdbdbd);\n",
       "  --xr-background-color: var(--jp-layout-color0, white);\n",
       "  --xr-background-color-row-even: var(--jp-layout-color1, white);\n",
       "  --xr-background-color-row-odd: var(--jp-layout-color2, #eeeeee);\n",
       "}\n",
       "\n",
       "html[theme=dark],\n",
       "body.vscode-dark {\n",
       "  --xr-font-color0: rgba(255, 255, 255, 1);\n",
       "  --xr-font-color2: rgba(255, 255, 255, 0.54);\n",
       "  --xr-font-color3: rgba(255, 255, 255, 0.38);\n",
       "  --xr-border-color: #1F1F1F;\n",
       "  --xr-disabled-color: #515151;\n",
       "  --xr-background-color: #111111;\n",
       "  --xr-background-color-row-even: #111111;\n",
       "  --xr-background-color-row-odd: #313131;\n",
       "}\n",
       "\n",
       ".xr-wrap {\n",
       "  display: block;\n",
       "  min-width: 300px;\n",
       "  max-width: 700px;\n",
       "}\n",
       "\n",
       ".xr-text-repr-fallback {\n",
       "  /* fallback to plain text repr when CSS is not injected (untrusted notebook) */\n",
       "  display: none;\n",
       "}\n",
       "\n",
       ".xr-header {\n",
       "  padding-top: 6px;\n",
       "  padding-bottom: 6px;\n",
       "  margin-bottom: 4px;\n",
       "  border-bottom: solid 1px var(--xr-border-color);\n",
       "}\n",
       "\n",
       ".xr-header > div,\n",
       ".xr-header > ul {\n",
       "  display: inline;\n",
       "  margin-top: 0;\n",
       "  margin-bottom: 0;\n",
       "}\n",
       "\n",
       ".xr-obj-type,\n",
       ".xr-array-name {\n",
       "  margin-left: 2px;\n",
       "  margin-right: 10px;\n",
       "}\n",
       "\n",
       ".xr-obj-type {\n",
       "  color: var(--xr-font-color2);\n",
       "}\n",
       "\n",
       ".xr-sections {\n",
       "  padding-left: 0 !important;\n",
       "  display: grid;\n",
       "  grid-template-columns: 150px auto auto 1fr 20px 20px;\n",
       "}\n",
       "\n",
       ".xr-section-item {\n",
       "  display: contents;\n",
       "}\n",
       "\n",
       ".xr-section-item input {\n",
       "  display: none;\n",
       "}\n",
       "\n",
       ".xr-section-item input + label {\n",
       "  color: var(--xr-disabled-color);\n",
       "}\n",
       "\n",
       ".xr-section-item input:enabled + label {\n",
       "  cursor: pointer;\n",
       "  color: var(--xr-font-color2);\n",
       "}\n",
       "\n",
       ".xr-section-item input:enabled + label:hover {\n",
       "  color: var(--xr-font-color0);\n",
       "}\n",
       "\n",
       ".xr-section-summary {\n",
       "  grid-column: 1;\n",
       "  color: var(--xr-font-color2);\n",
       "  font-weight: 500;\n",
       "}\n",
       "\n",
       ".xr-section-summary > span {\n",
       "  display: inline-block;\n",
       "  padding-left: 0.5em;\n",
       "}\n",
       "\n",
       ".xr-section-summary-in:disabled + label {\n",
       "  color: var(--xr-font-color2);\n",
       "}\n",
       "\n",
       ".xr-section-summary-in + label:before {\n",
       "  display: inline-block;\n",
       "  content: '►';\n",
       "  font-size: 11px;\n",
       "  width: 15px;\n",
       "  text-align: center;\n",
       "}\n",
       "\n",
       ".xr-section-summary-in:disabled + label:before {\n",
       "  color: var(--xr-disabled-color);\n",
       "}\n",
       "\n",
       ".xr-section-summary-in:checked + label:before {\n",
       "  content: '▼';\n",
       "}\n",
       "\n",
       ".xr-section-summary-in:checked + label > span {\n",
       "  display: none;\n",
       "}\n",
       "\n",
       ".xr-section-summary,\n",
       ".xr-section-inline-details {\n",
       "  padding-top: 4px;\n",
       "  padding-bottom: 4px;\n",
       "}\n",
       "\n",
       ".xr-section-inline-details {\n",
       "  grid-column: 2 / -1;\n",
       "}\n",
       "\n",
       ".xr-section-details {\n",
       "  display: none;\n",
       "  grid-column: 1 / -1;\n",
       "  margin-bottom: 5px;\n",
       "}\n",
       "\n",
       ".xr-section-summary-in:checked ~ .xr-section-details {\n",
       "  display: contents;\n",
       "}\n",
       "\n",
       ".xr-array-wrap {\n",
       "  grid-column: 1 / -1;\n",
       "  display: grid;\n",
       "  grid-template-columns: 20px auto;\n",
       "}\n",
       "\n",
       ".xr-array-wrap > label {\n",
       "  grid-column: 1;\n",
       "  vertical-align: top;\n",
       "}\n",
       "\n",
       ".xr-preview {\n",
       "  color: var(--xr-font-color3);\n",
       "}\n",
       "\n",
       ".xr-array-preview,\n",
       ".xr-array-data {\n",
       "  padding: 0 5px !important;\n",
       "  grid-column: 2;\n",
       "}\n",
       "\n",
       ".xr-array-data,\n",
       ".xr-array-in:checked ~ .xr-array-preview {\n",
       "  display: none;\n",
       "}\n",
       "\n",
       ".xr-array-in:checked ~ .xr-array-data,\n",
       ".xr-array-preview {\n",
       "  display: inline-block;\n",
       "}\n",
       "\n",
       ".xr-dim-list {\n",
       "  display: inline-block !important;\n",
       "  list-style: none;\n",
       "  padding: 0 !important;\n",
       "  margin: 0;\n",
       "}\n",
       "\n",
       ".xr-dim-list li {\n",
       "  display: inline-block;\n",
       "  padding: 0;\n",
       "  margin: 0;\n",
       "}\n",
       "\n",
       ".xr-dim-list:before {\n",
       "  content: '(';\n",
       "}\n",
       "\n",
       ".xr-dim-list:after {\n",
       "  content: ')';\n",
       "}\n",
       "\n",
       ".xr-dim-list li:not(:last-child):after {\n",
       "  content: ',';\n",
       "  padding-right: 5px;\n",
       "}\n",
       "\n",
       ".xr-has-index {\n",
       "  font-weight: bold;\n",
       "}\n",
       "\n",
       ".xr-var-list,\n",
       ".xr-var-item {\n",
       "  display: contents;\n",
       "}\n",
       "\n",
       ".xr-var-item > div,\n",
       ".xr-var-item label,\n",
       ".xr-var-item > .xr-var-name span {\n",
       "  background-color: var(--xr-background-color-row-even);\n",
       "  margin-bottom: 0;\n",
       "}\n",
       "\n",
       ".xr-var-item > .xr-var-name:hover span {\n",
       "  padding-right: 5px;\n",
       "}\n",
       "\n",
       ".xr-var-list > li:nth-child(odd) > div,\n",
       ".xr-var-list > li:nth-child(odd) > label,\n",
       ".xr-var-list > li:nth-child(odd) > .xr-var-name span {\n",
       "  background-color: var(--xr-background-color-row-odd);\n",
       "}\n",
       "\n",
       ".xr-var-name {\n",
       "  grid-column: 1;\n",
       "}\n",
       "\n",
       ".xr-var-dims {\n",
       "  grid-column: 2;\n",
       "}\n",
       "\n",
       ".xr-var-dtype {\n",
       "  grid-column: 3;\n",
       "  text-align: right;\n",
       "  color: var(--xr-font-color2);\n",
       "}\n",
       "\n",
       ".xr-var-preview {\n",
       "  grid-column: 4;\n",
       "}\n",
       "\n",
       ".xr-var-name,\n",
       ".xr-var-dims,\n",
       ".xr-var-dtype,\n",
       ".xr-preview,\n",
       ".xr-attrs dt {\n",
       "  white-space: nowrap;\n",
       "  overflow: hidden;\n",
       "  text-overflow: ellipsis;\n",
       "  padding-right: 10px;\n",
       "}\n",
       "\n",
       ".xr-var-name:hover,\n",
       ".xr-var-dims:hover,\n",
       ".xr-var-dtype:hover,\n",
       ".xr-attrs dt:hover {\n",
       "  overflow: visible;\n",
       "  width: auto;\n",
       "  z-index: 1;\n",
       "}\n",
       "\n",
       ".xr-var-attrs,\n",
       ".xr-var-data {\n",
       "  display: none;\n",
       "  background-color: var(--xr-background-color) !important;\n",
       "  padding-bottom: 5px !important;\n",
       "}\n",
       "\n",
       ".xr-var-attrs-in:checked ~ .xr-var-attrs,\n",
       ".xr-var-data-in:checked ~ .xr-var-data {\n",
       "  display: block;\n",
       "}\n",
       "\n",
       ".xr-var-data > table {\n",
       "  float: right;\n",
       "}\n",
       "\n",
       ".xr-var-name span,\n",
       ".xr-var-data,\n",
       ".xr-attrs {\n",
       "  padding-left: 25px !important;\n",
       "}\n",
       "\n",
       ".xr-attrs,\n",
       ".xr-var-attrs,\n",
       ".xr-var-data {\n",
       "  grid-column: 1 / -1;\n",
       "}\n",
       "\n",
       "dl.xr-attrs {\n",
       "  padding: 0;\n",
       "  margin: 0;\n",
       "  display: grid;\n",
       "  grid-template-columns: 125px auto;\n",
       "}\n",
       "\n",
       ".xr-attrs dt,\n",
       ".xr-attrs dd {\n",
       "  padding: 0;\n",
       "  margin: 0;\n",
       "  float: left;\n",
       "  padding-right: 10px;\n",
       "  width: auto;\n",
       "}\n",
       "\n",
       ".xr-attrs dt {\n",
       "  font-weight: normal;\n",
       "  grid-column: 1;\n",
       "}\n",
       "\n",
       ".xr-attrs dt:hover span {\n",
       "  display: inline-block;\n",
       "  background: var(--xr-background-color);\n",
       "  padding-right: 10px;\n",
       "}\n",
       "\n",
       ".xr-attrs dd {\n",
       "  grid-column: 2;\n",
       "  white-space: pre-wrap;\n",
       "  word-break: break-all;\n",
       "}\n",
       "\n",
       ".xr-icon-database,\n",
       ".xr-icon-file-text2 {\n",
       "  display: inline-block;\n",
       "  vertical-align: middle;\n",
       "  width: 1em;\n",
       "  height: 1.5em !important;\n",
       "  stroke-width: 0;\n",
       "  stroke: currentColor;\n",
       "  fill: currentColor;\n",
       "}\n",
       "</style><pre class='xr-text-repr-fallback'>&lt;xarray.DataArray (band: 2, y: 512, x: 512)&gt;\n",
       "[524288 values with dtype=float32]\n",
       "Coordinates:\n",
       "  * band     (band) int64 1 2\n",
       "  * y        (y) float64 48.22 48.22 48.22 48.22 ... 48.05 48.05 48.05 48.05\n",
       "  * x        (x) float64 11.49 11.49 11.49 11.49 ... 11.66 11.66 11.66 11.66\n",
       "Attributes:\n",
       "    transform:               (0.00033203124999999986, 0.0, 11.49, 0.0, -0.000...\n",
       "    crs:                     +init=epsg:4326\n",
       "    res:                     (0.00033203124999999986, 0.00033203125000000333)\n",
       "    is_tiled:                0\n",
       "    nodatavals:              (nan, nan)\n",
       "    scales:                  (1.0, 1.0)\n",
       "    offsets:                 (0.0, 0.0)\n",
       "    descriptions:            (&#x27;NDVI_avg&#x27;, &#x27;NDBI_avg&#x27;)\n",
       "    AREA_OR_POINT:           Area\n",
       "    TIFFTAG_RESOLUTIONUNIT:  1 (unitless)\n",
       "    TIFFTAG_XRESOLUTION:     1\n",
       "    TIFFTAG_YRESOLUTION:     1</pre><div class='xr-wrap' hidden><div class='xr-header'><div class='xr-obj-type'>xarray.DataArray</div><div class='xr-array-name'></div><ul class='xr-dim-list'><li><span class='xr-has-index'>band</span>: 2</li><li><span class='xr-has-index'>y</span>: 512</li><li><span class='xr-has-index'>x</span>: 512</li></ul></div><ul class='xr-sections'><li class='xr-section-item'><div class='xr-array-wrap'><input id='section-57cdef76-91a7-439a-81e0-cad2f9e29043' class='xr-array-in' type='checkbox' checked><label for='section-57cdef76-91a7-439a-81e0-cad2f9e29043' title='Show/hide data repr'><svg class='icon xr-icon-database'><use xlink:href='#icon-database'></use></svg></label><div class='xr-array-preview xr-preview'><span>...</span></div><div class='xr-array-data'><pre>[524288 values with dtype=float32]</pre></div></div></li><li class='xr-section-item'><input id='section-5d4bda83-be37-49c4-b875-6432207de547' class='xr-section-summary-in' type='checkbox'  checked><label for='section-5d4bda83-be37-49c4-b875-6432207de547' class='xr-section-summary' >Coordinates: <span>(3)</span></label><div class='xr-section-inline-details'></div><div class='xr-section-details'><ul class='xr-var-list'><li class='xr-var-item'><div class='xr-var-name'><span class='xr-has-index'>band</span></div><div class='xr-var-dims'>(band)</div><div class='xr-var-dtype'>int64</div><div class='xr-var-preview xr-preview'>1 2</div><input id='attrs-1a85d71e-d3e9-4917-a8cd-0e3a117dbda6' class='xr-var-attrs-in' type='checkbox' disabled><label for='attrs-1a85d71e-d3e9-4917-a8cd-0e3a117dbda6' title='Show/Hide attributes'><svg class='icon xr-icon-file-text2'><use xlink:href='#icon-file-text2'></use></svg></label><input id='data-00ca3bd2-c0c2-4ec5-9b9f-1dd61e499027' class='xr-var-data-in' type='checkbox'><label for='data-00ca3bd2-c0c2-4ec5-9b9f-1dd61e499027' title='Show/Hide data repr'><svg class='icon xr-icon-database'><use xlink:href='#icon-database'></use></svg></label><div class='xr-var-attrs'><dl class='xr-attrs'></dl></div><div class='xr-var-data'><pre>array([1, 2])</pre></div></li><li class='xr-var-item'><div class='xr-var-name'><span class='xr-has-index'>y</span></div><div class='xr-var-dims'>(y)</div><div class='xr-var-dtype'>float64</div><div class='xr-var-preview xr-preview'>48.22 48.22 48.22 ... 48.05 48.05</div><input id='attrs-f08f67ba-f24b-4b66-b55c-7fdf7cc8e27c' class='xr-var-attrs-in' type='checkbox' disabled><label for='attrs-f08f67ba-f24b-4b66-b55c-7fdf7cc8e27c' title='Show/Hide attributes'><svg class='icon xr-icon-file-text2'><use xlink:href='#icon-file-text2'></use></svg></label><input id='data-d07f5e22-50ee-4409-a28b-1fef1232e68d' class='xr-var-data-in' type='checkbox'><label for='data-d07f5e22-50ee-4409-a28b-1fef1232e68d' title='Show/Hide data repr'><svg class='icon xr-icon-database'><use xlink:href='#icon-database'></use></svg></label><div class='xr-var-attrs'><dl class='xr-attrs'></dl></div><div class='xr-var-data'><pre>array([48.219834, 48.219502, 48.21917 , ..., 48.05083 , 48.050498, 48.050166])</pre></div></li><li class='xr-var-item'><div class='xr-var-name'><span class='xr-has-index'>x</span></div><div class='xr-var-dims'>(x)</div><div class='xr-var-dtype'>float64</div><div class='xr-var-preview xr-preview'>11.49 11.49 11.49 ... 11.66 11.66</div><input id='attrs-2b152a0a-a19e-421d-83bf-1420aa3dceff' class='xr-var-attrs-in' type='checkbox' disabled><label for='attrs-2b152a0a-a19e-421d-83bf-1420aa3dceff' title='Show/Hide attributes'><svg class='icon xr-icon-file-text2'><use xlink:href='#icon-file-text2'></use></svg></label><input id='data-f4b64542-e63f-4a69-ac89-73a95c9e5327' class='xr-var-data-in' type='checkbox'><label for='data-f4b64542-e63f-4a69-ac89-73a95c9e5327' title='Show/Hide data repr'><svg class='icon xr-icon-database'><use xlink:href='#icon-database'></use></svg></label><div class='xr-var-attrs'><dl class='xr-attrs'></dl></div><div class='xr-var-data'><pre>array([11.490166, 11.490498, 11.49083 , ..., 11.65917 , 11.659502, 11.659834])</pre></div></li></ul></div></li><li class='xr-section-item'><input id='section-e0db0c1a-16c8-42ba-916e-db900666cb9e' class='xr-section-summary-in' type='checkbox'  ><label for='section-e0db0c1a-16c8-42ba-916e-db900666cb9e' class='xr-section-summary' >Attributes: <span>(12)</span></label><div class='xr-section-inline-details'></div><div class='xr-section-details'><dl class='xr-attrs'><dt><span>transform :</span></dt><dd>(0.00033203124999999986, 0.0, 11.49, 0.0, -0.00033203125000000333, 48.22)</dd><dt><span>crs :</span></dt><dd>+init=epsg:4326</dd><dt><span>res :</span></dt><dd>(0.00033203124999999986, 0.00033203125000000333)</dd><dt><span>is_tiled :</span></dt><dd>0</dd><dt><span>nodatavals :</span></dt><dd>(nan, nan)</dd><dt><span>scales :</span></dt><dd>(1.0, 1.0)</dd><dt><span>offsets :</span></dt><dd>(0.0, 0.0)</dd><dt><span>descriptions :</span></dt><dd>(&#x27;NDVI_avg&#x27;, &#x27;NDBI_avg&#x27;)</dd><dt><span>AREA_OR_POINT :</span></dt><dd>Area</dd><dt><span>TIFFTAG_RESOLUTIONUNIT :</span></dt><dd>1 (unitless)</dd><dt><span>TIFFTAG_XRESOLUTION :</span></dt><dd>1</dd><dt><span>TIFFTAG_YRESOLUTION :</span></dt><dd>1</dd></dl></div></li></ul></div></div>"
      ],
      "text/plain": [
       "<xarray.DataArray (band: 2, y: 512, x: 512)>\n",
       "[524288 values with dtype=float32]\n",
       "Coordinates:\n",
       "  * band     (band) int64 1 2\n",
       "  * y        (y) float64 48.22 48.22 48.22 48.22 ... 48.05 48.05 48.05 48.05\n",
       "  * x        (x) float64 11.49 11.49 11.49 11.49 ... 11.66 11.66 11.66 11.66\n",
       "Attributes:\n",
       "    transform:               (0.00033203124999999986, 0.0, 11.49, 0.0, -0.000...\n",
       "    crs:                     +init=epsg:4326\n",
       "    res:                     (0.00033203124999999986, 0.00033203125000000333)\n",
       "    is_tiled:                0\n",
       "    nodatavals:              (nan, nan)\n",
       "    scales:                  (1.0, 1.0)\n",
       "    offsets:                 (0.0, 0.0)\n",
       "    descriptions:            ('NDVI_avg', 'NDBI_avg')\n",
       "    AREA_OR_POINT:           Area\n",
       "    TIFFTAG_RESOLUTIONUNIT:  1 (unitless)\n",
       "    TIFFTAG_XRESOLUTION:     1\n",
       "    TIFFTAG_YRESOLUTION:     1"
      ]
     },
     "execution_count": 10,
     "metadata": {},
     "output_type": "execute_result"
    }
   ],
   "source": [
    "ds = xr.open_rasterio('area_avg.tif')\n",
    "ds"
   ]
  },
  {
   "cell_type": "markdown",
   "id": "vocational-native",
   "metadata": {
    "papermill": {
     "duration": 0.027525,
     "end_time": "2021-03-15T09:15:31.140631",
     "exception": false,
     "start_time": "2021-03-15T09:15:31.113106",
     "status": "completed"
    },
    "tags": []
   },
   "source": [
    "### Plot NDVI image (first band)"
   ]
  },
  {
   "cell_type": "code",
   "execution_count": 11,
   "id": "computational-group",
   "metadata": {
    "execution": {
     "iopub.execute_input": "2021-03-15T09:15:31.218220Z",
     "iopub.status.busy": "2021-03-15T09:15:31.217173Z",
     "iopub.status.idle": "2021-03-15T09:15:31.906273Z",
     "shell.execute_reply": "2021-03-15T09:15:31.907620Z"
    },
    "papermill": {
     "duration": 0.73573,
     "end_time": "2021-03-15T09:15:31.907898",
     "exception": false,
     "start_time": "2021-03-15T09:15:31.172168",
     "status": "completed"
    },
    "tags": []
   },
   "outputs": [
    {
     "data": {
      "text/plain": [
       "<matplotlib.collections.QuadMesh at 0x7f9713347c70>"
      ]
     },
     "execution_count": 11,
     "metadata": {},
     "output_type": "execute_result"
    },
    {
     "data": {
      "image/png": "[encoded data removed]",
      "text/plain": [
       "<Figure size 432x288 with 2 Axes>"
      ]
     },
     "metadata": {
      "needs_background": "light"
     },
     "output_type": "display_data"
    }
   ],
   "source": [
    "ds[0].plot(cmap=\"RdYlGn\")"
   ]
  },
  {
   "cell_type": "markdown",
   "id": "bulgarian-deviation",
   "metadata": {
    "papermill": {
     "duration": 0.048658,
     "end_time": "2021-03-15T09:15:31.993991",
     "exception": false,
     "start_time": "2021-03-15T09:15:31.945333",
     "status": "completed"
    },
    "tags": []
   },
   "source": [
    "## Output gdalinfo"
   ]
  },
  {
   "cell_type": "code",
   "execution_count": 12,
   "id": "manual-elimination",
   "metadata": {
    "execution": {
     "iopub.execute_input": "2021-03-15T09:15:32.092339Z",
     "iopub.status.busy": "2021-03-15T09:15:32.091283Z",
     "iopub.status.idle": "2021-03-15T09:15:32.593008Z",
     "shell.execute_reply": "2021-03-15T09:15:32.593590Z"
    },
    "papermill": {
     "duration": 0.564513,
     "end_time": "2021-03-15T09:15:32.593811",
     "exception": false,
     "start_time": "2021-03-15T09:15:32.029298",
     "status": "completed"
    },
    "scrolled": true,
    "tags": []
   },
   "outputs": [
    {
     "name": "stdout",
     "output_type": "stream",
     "text": [
      "Warning 1: area_avg.tif: TIFFReadDirectory:Sum of Photometric type-related color channels and ExtraSamples doesn't match SamplesPerPixel. Defining non-color channels as ExtraSamples.\r\n",
      "Driver: GTiff/GeoTIFF\r\n",
      "Files: area_avg.tif\r\n",
      "Size is 512, 512\r\n"
     ]
    },
    {
     "name": "stdout",
     "output_type": "stream",
     "text": [
      "Coordinate System is:\r\n",
      "GEOGCRS[\"WGS 84\",\r\n",
      "    DATUM[\"World Geodetic System 1984\",\r\n",
      "        ELLIPSOID[\"WGS 84\",6378137,298.257223563,\r\n",
      "            LENGTHUNIT[\"metre\",1]]],\r\n",
      "    PRIMEM[\"Greenwich\",0,\r\n",
      "        ANGLEUNIT[\"degree\",0.0174532925199433]],\r\n",
      "    CS[ellipsoidal,2],\r\n",
      "        AXIS[\"geodetic latitude (Lat)\",north,\r\n",
      "            ORDER[1],\r\n",
      "            ANGLEUNIT[\"degree\",0.0174532925199433]],\r\n",
      "        AXIS[\"geodetic longitude (Lon)\",east,\r\n",
      "            ORDER[2],\r\n",
      "            ANGLEUNIT[\"degree\",0.0174532925199433]],\r\n",
      "    ID[\"EPSG\",4326]]\r\n",
      "Data axis to CRS axis mapping: 2,1\r\n",
      "Origin = (11.490000000000000,48.219999999999999)\r\n",
      "Pixel Size = (0.000332031250000,-0.000332031250000)\r\n",
      "Metadata:\r\n",
      "  AREA_OR_POINT=Area\r\n",
      "  TIFFTAG_RESOLUTIONUNIT=1 (unitless)\r\n",
      "  TIFFTAG_XRESOLUTION=1\r\n",
      "  TIFFTAG_YRESOLUTION=1\r\n",
      "Image Structure Metadata:\r\n",
      "  COMPRESSION=DEFLATE\r\n",
      "  INTERLEAVE=PIXEL\r\n",
      "Warning 1: TIFFReadDirectory:Sum of Photometric type-related color channels and ExtraSamples doesn't match SamplesPerPixel. Defining non-color channels as ExtraSamples.\r\n",
      "Corner Coordinates:\r\n",
      "Upper Left  (  11.4900000,  48.2200000) ( 11d29'24.00\"E, 48d13'12.00\"N)\r\n",
      "Lower Left  (  11.4900000,  48.0500000) ( 11d29'24.00\"E, 48d 3' 0.00\"N)\r\n",
      "Upper Right (  11.6600000,  48.2200000) ( 11d39'36.00\"E, 48d13'12.00\"N)\r\n",
      "Lower Right (  11.6600000,  48.0500000) ( 11d39'36.00\"E, 48d 3' 0.00\"N)\r\n",
      "Center      (  11.5750000,  48.1350000) ( 11d34'30.00\"E, 48d 8' 6.00\"N)\r\n",
      "Band 1 Block=512x8 Type=Float32, ColorInterp=Gray\r\n",
      "  Description = NDVI_avg\r\n"
     ]
    },
    {
     "name": "stdout",
     "output_type": "stream",
     "text": [
      "  Minimum=-1.000, Maximum=1.000, Mean=0.527, StdDev=0.253\r\n",
      "  Metadata:\r\n",
      "    STATISTICS_MAXIMUM=1\r\n",
      "    STATISTICS_MEAN=0.52696186269059\r\n",
      "    STATISTICS_MINIMUM=-1\r\n",
      "    STATISTICS_STDDEV=0.25294857961659\r\n",
      "    STATISTICS_VALID_PERCENT=100\r\n",
      "Band 2 Block=512x8 Type=Float32, ColorInterp=Undefined\r\n",
      "  Description = NDBI_avg\r\n",
      "  Minimum=-0.655, Maximum=1.000, Mean=-0.134, StdDev=0.178\r\n",
      "  Metadata:\r\n",
      "    STATISTICS_MAXIMUM=1\r\n",
      "    STATISTICS_MEAN=-0.13420287323754\r\n",
      "    STATISTICS_MINIMUM=-0.65451771020889\r\n",
      "    STATISTICS_STDDEV=0.17816229549198\r\n",
      "    STATISTICS_VALID_PERCENT=100\r\n"
     ]
    }
   ],
   "source": [
    "!gdalinfo -stats area_avg.tif"
   ]
  }
 ],
 "metadata": {
  "kernelspec": {
   "display_name": "EDC 0.19.6 (Python3)",
   "language": "python",
   "name": "edc"
  },
  "language_info": {
   "codemirror_mode": {
    "name": "ipython",
    "version": 3
   },
   "file_extension": ".py",
   "mimetype": "text/x-python",
   "name": "python",
   "nbconvert_exporter": "python",
   "pygments_lexer": "ipython3",
   "version": "3.8.8"
  },
  "papermill": {
   "duration": 10.065025,
   "end_time": "2021-03-15T09:15:34.257373",
   "environment_variables": {},
   "exception": null,
   "input_path": "/tmp/tmpmxd9yge4",
   "output_path": "/tmp/cur_notebook.ipynb",
   "parameters": {},
   "start_time": "2021-03-15T09:15:24.192348",
   "version": "2.1.2"
  },
  "properties": {
   "authors": [
    {
     "id": "47919774-57f5-4b2d-9f6c-570b91e23604",
     "name": "jonas.eberle@dlr.de"
    }
   ],
   "description": "Area calculation based on DAPA experimental interface",
   "id": "75ce9790-2d64-4471-b407-b762c4839356",
   "license": null,
   "name": "DAPA Tutorial #2: Area - Sentinel-2 - OGC Testbed 16",
   "requirements": [
    "eoxhub"
   ],
   "tags": [
    "DAPA"
   ],
   "tosAgree": true,
   "type": "Jupyter Notebook",
   "version": "0.3"
  },
  "widgets": {
   "application/vnd.jupyter.widget-state+json": {
    "state": {
     "0938ec604b454a0990cb87c11dc31785": {
      "model_module": "jupyter-leaflet",
      "model_module_version": "^0.13.5",
      "model_name": "LeafletRectangleModel",
      "state": {
       "_model_module": "jupyter-leaflet",
       "_model_module_version": "^0.13.5",
       "_model_name": "LeafletRectangleModel",
       "_view_count": null,
       "_view_module": "jupyter-leaflet",
       "_view_module_version": "^0.13.5",
       "_view_name": "LeafletRectangleView",
       "base": false,
       "bottom": false,
       "bounds": [
        [
         48.05,
         11.49
        ],
        [
         48.22,
         11.66
        ]
       ],
       "color": "#0033FF",
       "dash_array": null,
       "draggable": false,
       "fill": true,
       "fill_color": null,
       "fill_opacity": 0.2,
       "line_cap": "round",
       "line_join": "round",
       "locations": [],
       "name": "",
       "no_clip": true,
       "opacity": 1.0,
       "options": [
        "color",
        "dash_array",
        "draggable",
        "fill",
        "fill_color",
        "fill_opacity",
        "line_cap",
        "line_join",
        "no_clip",
        "opacity",
        "pointer_events",
        "smooth_factor",
        "stroke",
        "transform",
        "weight"
       ],
       "pointer_events": "",
       "popup": null,
       "popup_max_height": null,
       "popup_max_width": 300,
       "popup_min_width": 50,
       "rotation": true,
       "scaling": true,
       "smooth_factor": 1.0,
       "stroke": true,
       "transform": false,
       "uniform_scaling": false,
       "weight": 5
      }
     },
     "0f3fbd92f66740e88ff58b635e1ce6d3": {
      "model_module": "jupyter-leaflet",
      "model_module_version": "^0.13.5",
      "model_name": "LeafletMapStyleModel",
      "state": {
       "_model_module": "jupyter-leaflet",
       "_model_module_version": "^0.13.5",
       "_model_name": "LeafletMapStyleModel",
       "_view_count": null,
       "_view_module": "@jupyter-widgets/base",
       "_view_module_version": "1.2.0",
       "_view_name": "StyleView",
       "cursor": "grab"
      }
     },
     "3b2b151257ec469f8fa360d2ac8f7e59": {
      "model_module": "jupyter-leaflet",
      "model_module_version": "^0.13.5",
      "model_name": "LeafletAttributionControlModel",
      "state": {
       "_model_module": "jupyter-leaflet",
       "_model_module_version": "^0.13.5",
       "_model_name": "LeafletAttributionControlModel",
       "_view_count": null,
       "_view_module": "jupyter-leaflet",
       "_view_module_version": "^0.13.5",
       "_view_name": "LeafletAttributionControlView",
       "options": [
        "position",
        "prefix"
       ],
       "position": "bottomright",
       "prefix": "ipyleaflet"
      }
     },
     "7c6b90e04d6f4d77a7bc115410b31861": {
      "model_module": "jupyter-leaflet",
      "model_module_version": "^0.13.5",
      "model_name": "LeafletMapModel",
      "state": {
       "_dom_classes": [],
       "_model_module": "jupyter-leaflet",
       "_model_module_version": "^0.13.5",
       "_model_name": "LeafletMapModel",
       "_view_count": null,
       "_view_module": "jupyter-leaflet",
       "_view_module_version": "^0.13.5",
       "_view_name": "LeafletMapView",
       "bottom": 0.0,
       "bounce_at_zoom_limits": true,
       "box_zoom": true,
       "center": [
        48.14,
        11.56
       ],
       "close_popup_on_click": true,
       "controls": [
        "IPY_MODEL_ae23f88726704289a78bbe94d1fdd8c8",
        "IPY_MODEL_3b2b151257ec469f8fa360d2ac8f7e59"
       ],
       "crs": {
        "custom": false,
        "name": "EPSG3857"
       },
       "default_style": "IPY_MODEL_9cab89a507c94172908817105dd47094",
       "double_click_zoom": true,
       "dragging": true,
       "dragging_style": "IPY_MODEL_a264ed893332479d84fb538ab4a4d26a",
       "east": 0.0,
       "fullscreen": false,
       "inertia": true,
       "inertia_deceleration": 3000,
       "inertia_max_speed": 1500,
       "interpolation": "bilinear",
       "keyboard": true,
       "keyboard_pan_offset": 80,
       "keyboard_zoom_offset": 1,
       "layers": [
        "IPY_MODEL_b8554981f4ae44ee8a689cbe28db14fc",
        "IPY_MODEL_0938ec604b454a0990cb87c11dc31785"
       ],
       "layout": "IPY_MODEL_f358551919a94511a3b4d73270475364",
       "left": 9007199254740991.0,
       "max_zoom": 18.0,
       "min_zoom": 1.0,
       "modisdate": "yesterday",
       "north": 0.0,
       "options": [
        "bounce_at_zoom_limits",
        "box_zoom",
        "center",
        "close_popup_on_click",
        "double_click_zoom",
        "dragging",
        "fullscreen",
        "inertia",
        "inertia_deceleration",
        "inertia_max_speed",
        "interpolation",
        "keyboard",
        "keyboard_pan_offset",
        "keyboard_zoom_offset",
        "max_zoom",
        "min_zoom",
        "scroll_wheel_zoom",
        "tap",
        "tap_tolerance",
        "touch_zoom",
        "world_copy_jump",
        "zoom",
        "zoom_animation_threshold",
        "zoom_delta",
        "zoom_snap",
        "zoom_start"
       ],
       "right": 0.0,
       "scroll_wheel_zoom": false,
       "south": 0.0,
       "style": "IPY_MODEL_0f3fbd92f66740e88ff58b635e1ce6d3",
       "tap": true,
       "tap_tolerance": 15,
       "top": 9007199254740991.0,
       "touch_zoom": true,
       "west": 0.0,
       "window_url": "",
       "world_copy_jump": false,
       "zoom": 10.0,
       "zoom_animation_threshold": 4,
       "zoom_delta": 1.0,
       "zoom_snap": 1.0,
       "zoom_start": 12.0
      }
     },
     "9cab89a507c94172908817105dd47094": {
      "model_module": "jupyter-leaflet",
      "model_module_version": "^0.13.5",
      "model_name": "LeafletMapStyleModel",
      "state": {
       "_model_module": "jupyter-leaflet",
       "_model_module_version": "^0.13.5",
       "_model_name": "LeafletMapStyleModel",
       "_view_count": null,
       "_view_module": "@jupyter-widgets/base",
       "_view_module_version": "1.2.0",
       "_view_name": "StyleView",
       "cursor": "grab"
      }
     },
     "a264ed893332479d84fb538ab4a4d26a": {
      "model_module": "jupyter-leaflet",
      "model_module_version": "^0.13.5",
      "model_name": "LeafletMapStyleModel",
      "state": {
       "_model_module": "jupyter-leaflet",
       "_model_module_version": "^0.13.5",
       "_model_name": "LeafletMapStyleModel",
       "_view_count": null,
       "_view_module": "@jupyter-widgets/base",
       "_view_module_version": "1.2.0",
       "_view_name": "StyleView",
       "cursor": "move"
      }
     },
     "ae23f88726704289a78bbe94d1fdd8c8": {
      "model_module": "jupyter-leaflet",
      "model_module_version": "^0.13.5",
      "model_name": "LeafletZoomControlModel",
      "state": {
       "_model_module": "jupyter-leaflet",
       "_model_module_version": "^0.13.5",
       "_model_name": "LeafletZoomControlModel",
       "_view_count": null,
       "_view_module": "jupyter-leaflet",
       "_view_module_version": "^0.13.5",
       "_view_name": "LeafletZoomControlView",
       "options": [
        "position",
        "zoom_in_text",
        "zoom_in_title",
        "zoom_out_text",
        "zoom_out_title"
       ],
       "position": "topleft",
       "zoom_in_text": "+",
       "zoom_in_title": "Zoom in",
       "zoom_out_text": "-",
       "zoom_out_title": "Zoom out"
      }
     },
     "b8554981f4ae44ee8a689cbe28db14fc": {
      "model_module": "jupyter-leaflet",
      "model_module_version": "^0.13.5",
      "model_name": "LeafletTileLayerModel",
      "state": {
       "_model_module": "jupyter-leaflet",
       "_model_module_version": "^0.13.5",
       "_model_name": "LeafletTileLayerModel",
       "_view_count": null,
       "_view_module": "jupyter-leaflet",
       "_view_module_version": "^0.13.5",
       "_view_name": "LeafletTileLayerView",
       "attribution": "Map data (c) <a href=\"https://openstreetmap.org\">OpenStreetMap</a> contributors",
       "base": true,
       "bottom": true,
       "detect_retina": false,
       "loading": false,
       "max_native_zoom": 18,
       "max_zoom": 19,
       "min_native_zoom": 0,
       "min_zoom": 1,
       "name": "OpenStreetMap.Mapnik",
       "no_wrap": false,
       "opacity": 1.0,
       "options": [
        "attribution",
        "detect_retina",
        "max_native_zoom",
        "max_zoom",
        "min_native_zoom",
        "min_zoom",
        "no_wrap",
        "tile_size",
        "tms"
       ],
       "popup": null,
       "popup_max_height": null,
       "popup_max_width": 300,
       "popup_min_width": 50,
       "show_loading": false,
       "tile_size": 256,
       "tms": false,
       "url": "https://{s}.tile.openstreetmap.org/{z}/{x}/{y}.png",
       "visible": true
      }
     },
     "f358551919a94511a3b4d73270475364": {
      "model_module": "@jupyter-widgets/base",
      "model_module_version": "1.2.0",
      "model_name": "LayoutModel",
      "state": {
       "_model_module": "@jupyter-widgets/base",
       "_model_module_version": "1.2.0",
       "_model_name": "LayoutModel",
       "_view_count": null,
       "_view_module": "@jupyter-widgets/base",
       "_view_module_version": "1.2.0",
       "_view_name": "LayoutView",
       "align_content": null,
       "align_items": null,
       "align_self": null,
       "border": null,
       "bottom": null,
       "display": null,
       "flex": null,
       "flex_flow": null,
       "grid_area": null,
       "grid_auto_columns": null,
       "grid_auto_flow": null,
       "grid_auto_rows": null,
       "grid_column": null,
       "grid_gap": null,
       "grid_row": null,
       "grid_template_areas": null,
       "grid_template_columns": null,
       "grid_template_rows": null,
       "height": null,
       "justify_content": null,
       "justify_items": null,
       "left": null,
       "margin": null,
       "max_height": null,
       "max_width": null,
       "min_height": null,
       "min_width": null,
       "object_fit": null,
       "object_position": null,
       "order": null,
       "overflow": null,
       "overflow_x": null,
       "overflow_y": null,
       "padding": null,
       "right": null,
       "top": null,
       "visibility": null,
       "width": null
      }
     }
    },
    "version_major": 2,
    "version_minor": 0
   }
  }
 },
 "nbformat": 4,
 "nbformat_minor": 5
}