{
 "cells": [
  {
   "cell_type": "markdown",
   "metadata": {
    "papermill": {
     "duration": 0.019138,
     "end_time": "2020-08-31T12:40:53.032937",
     "exception": false,
     "start_time": "2020-08-31T12:40:53.013799",
     "status": "completed"
    },
    "tags": []
   },
   "source": [
    "# DAPA Tutorial #4: Value - Sentinel-2"
   ]
  },
  {
   "cell_type": "markdown",
   "metadata": {
    "papermill": {
     "duration": 0.014635,
     "end_time": "2020-08-31T12:40:53.064917",
     "exception": false,
     "start_time": "2020-08-31T12:40:53.050282",
     "status": "completed"
    },
    "tags": []
   },
   "source": [
    "## Load environment variables\n",
    "Please make sure that the environment variable \"DAPA_URL\" is set in the `custom.env` file. You can check this by executing the following block. \n",
    "\n",
    "If DAPA_URL is not set, please create a text file named `custom.env` in your home directory with the following input: \n",
    ">DAPA_URL=YOUR-PERSONAL-DAPA-APP-URL"
   ]
  },
  {
   "cell_type": "code",
   "execution_count": 1,
   "metadata": {
    "execution": {
     "iopub.execute_input": "2020-08-31T12:40:53.101183Z",
     "iopub.status.busy": "2020-08-31T12:40:53.100088Z",
     "iopub.status.idle": "2020-08-31T12:40:53.183492Z",
     "shell.execute_reply": "2020-08-31T12:40:53.182145Z"
    },
    "papermill": {
     "duration": 0.101644,
     "end_time": "2020-08-31T12:40:53.183683",
     "exception": false,
     "start_time": "2020-08-31T12:40:53.082039",
     "status": "completed"
    },
    "tags": []
   },
   "outputs": [
    {
     "data": {
      "text/markdown": [
       "API credentials have automatically been injected for your active subscriptions.  \n",
       "The following environment variables are now available:\n",
       "\n",
       "The following additional environment variables have been loaded from `~/custom.env`:\n",
       "* `AWS_BUCKET`\n",
       "* `DAPA_URL`\n",
       "* `DB_HOST`, `DB_NAME`, `DB_PASSWORD`, `DB_USER`\n",
       "* `OGC_EDC_URL`\n",
       "* `REFERENCE_DATA`\n"
      ],
      "text/plain": [
       "<IPython.core.display.Markdown object>"
      ]
     },
     "metadata": {},
     "output_type": "display_data"
    }
   ],
   "source": [
    "from edc import setup_environment_variables\n",
    "setup_environment_variables()"
   ]
  },
  {
   "cell_type": "markdown",
   "metadata": {
    "papermill": {
     "duration": 0.015703,
     "end_time": "2020-08-31T12:40:53.218519",
     "exception": false,
     "start_time": "2020-08-31T12:40:53.202816",
     "status": "completed"
    },
    "tags": []
   },
   "source": [
    "## Check notebook compabtibility\n",
    "**Please note:** If you conduct this notebook again at a later time, the base image of this Jupyter Hub service can include newer versions of the libraries installed. Thus, the notebook execution can fail. This compatibility check is only necessary when something is broken. "
   ]
  },
  {
   "cell_type": "code",
   "execution_count": 2,
   "metadata": {
    "execution": {
     "iopub.execute_input": "2020-08-31T12:40:53.268345Z",
     "iopub.status.busy": "2020-08-31T12:40:53.265635Z",
     "iopub.status.idle": "2020-08-31T12:40:53.274925Z",
     "shell.execute_reply": "2020-08-31T12:40:53.269656Z"
    },
    "papermill": {
     "duration": 0.037857,
     "end_time": "2020-08-31T12:40:53.275123",
     "exception": false,
     "start_time": "2020-08-31T12:40:53.237266",
     "status": "completed"
    },
    "tags": []
   },
   "outputs": [
    {
     "data": {
      "text/html": [
       "<script type=\"text/javascript\">\n",
       "        function toggle(id) {\n",
       "            el = document.getElementById(id);\n",
       "            el.style.display = el.style.display === \"none\" ? \"block\" : \"none\";\n",
       "        }\n",
       "    </script>"
      ],
      "text/plain": [
       "<IPython.core.display.HTML object>"
      ]
     },
     "metadata": {},
     "output_type": "display_data"
    },
    {
     "data": {
      "text/html": [
       "This notebook is compatible with this base image version (user-0.20.1)."
      ],
      "text/plain": [
       "<IPython.core.display.HTML object>"
      ]
     },
     "metadata": {},
     "output_type": "display_data"
    }
   ],
   "source": [
    "from edc import check_compatibility\n",
    "check_compatibility(\"user-0.20.1\")"
   ]
  },
  {
   "cell_type": "markdown",
   "metadata": {
    "papermill": {
     "duration": 0.028596,
     "end_time": "2020-08-31T12:40:53.325426",
     "exception": false,
     "start_time": "2020-08-31T12:40:53.296830",
     "status": "completed"
    },
    "tags": []
   },
   "source": [
    "## Load libraries\n",
    "Python libraries used in this tutorial will be loaded."
   ]
  },
  {
   "cell_type": "code",
   "execution_count": 3,
   "metadata": {
    "execution": {
     "iopub.execute_input": "2020-08-31T12:40:53.376664Z",
     "iopub.status.busy": "2020-08-31T12:40:53.375321Z",
     "iopub.status.idle": "2020-08-31T12:40:54.699519Z",
     "shell.execute_reply": "2020-08-31T12:40:54.701140Z"
    },
    "papermill": {
     "duration": 1.352364,
     "end_time": "2020-08-31T12:40:54.701363",
     "exception": false,
     "start_time": "2020-08-31T12:40:53.348999",
     "status": "completed"
    },
    "tags": []
   },
   "outputs": [],
   "source": [
    "import os\n",
    "import xarray as xr\n",
    "import pandas as pd\n",
    "import requests\n",
    "import matplotlib\n",
    "from ipyleaflet import Map, Rectangle, Marker, DrawControl, basemaps, basemap_to_tiles\n",
    "%matplotlib inline"
   ]
  },
  {
   "cell_type": "markdown",
   "metadata": {
    "papermill": {
     "duration": 0.016472,
     "end_time": "2020-08-31T12:40:54.738988",
     "exception": false,
     "start_time": "2020-08-31T12:40:54.722516",
     "status": "completed"
    },
    "tags": []
   },
   "source": [
    "## Set DAPA endpoint\n",
    "Execute the following code to check if the DAPA_URL is available in the environment variable and to set the `/dapa` endpoint. "
   ]
  },
  {
   "cell_type": "code",
   "execution_count": 4,
   "metadata": {
    "execution": {
     "iopub.execute_input": "2020-08-31T12:40:54.785371Z",
     "iopub.status.busy": "2020-08-31T12:40:54.784100Z",
     "iopub.status.idle": "2020-08-31T12:40:54.788358Z",
     "shell.execute_reply": "2020-08-31T12:40:54.786192Z"
    },
    "papermill": {
     "duration": 0.030326,
     "end_time": "2020-08-31T12:40:54.788570",
     "exception": false,
     "start_time": "2020-08-31T12:40:54.758244",
     "status": "completed"
    },
    "tags": []
   },
   "outputs": [
    {
     "name": "stdout",
     "output_type": "stream",
     "text": [
      "DAPA path: /oapi\n"
     ]
    }
   ],
   "source": [
    "service_url = None\n",
    "dapa_url = None\n",
    "\n",
    "if 'DAPA_URL' not in os.environ:\n",
    "    print('!! DAPA_URL does not exist as environment variable. Please make sure this is the case - see first block of this notebook! !!')\n",
    "else:    \n",
    "    service_url = os.environ['DAPA_URL']\n",
    "    dapa_url = '{}/{}'.format(service_url, 'oapi')\n",
    "    print('DAPA path: {}'.format(dapa_url.replace(service_url, '')))"
   ]
  },
  {
   "cell_type": "markdown",
   "metadata": {
    "papermill": {
     "duration": 0.016735,
     "end_time": "2020-08-31T12:40:54.828088",
     "exception": false,
     "start_time": "2020-08-31T12:40:54.811353",
     "status": "completed"
    },
    "tags": []
   },
   "source": [
    "## Get collections supported by this endpoint\n",
    "This request provides a list of collections. The path of each collection is used as starting path of this service."
   ]
  },
  {
   "cell_type": "code",
   "execution_count": 5,
   "metadata": {
    "execution": {
     "iopub.execute_input": "2020-08-31T12:40:54.871168Z",
     "iopub.status.busy": "2020-08-31T12:40:54.869836Z",
     "iopub.status.idle": "2020-08-31T12:40:54.998481Z",
     "shell.execute_reply": "2020-08-31T12:40:54.999278Z"
    },
    "papermill": {
     "duration": 0.152188,
     "end_time": "2020-08-31T12:40:54.999537",
     "exception": false,
     "start_time": "2020-08-31T12:40:54.847349",
     "status": "completed"
    },
    "tags": []
   },
   "outputs": [
    {
     "name": "stdout",
     "output_type": "stream",
     "text": [
      "DAPA path: /oapi/collections\n"
     ]
    },
    {
     "data": {
      "text/plain": [
       "['/oapi/collections/DEM/',\n",
       " '/oapi/collections/L8L1C/',\n",
       " '/oapi/collections/S1GRD/',\n",
       " '/oapi/collections/S2L1C/',\n",
       " '/oapi/collections/S2L2A/',\n",
       " '/oapi/collections/S3OLCI/',\n",
       " '/oapi/collections/S3SLSTR/',\n",
       " '/oapi/collections/S5PL2/',\n",
       " '/oapi/collections/MODIS/']"
      ]
     },
     "execution_count": 5,
     "metadata": {},
     "output_type": "execute_result"
    }
   ],
   "source": [
    "collections_url = '{}/{}'.format(dapa_url, 'collections')\n",
    "collections = requests.get(collections_url, headers={'Accept': 'application/json'})\n",
    "\n",
    "print('DAPA path: {}'.format(collections.url.replace(service_url, '')))\n",
    "collections.json()"
   ]
  },
  {
   "cell_type": "markdown",
   "metadata": {
    "papermill": {
     "duration": 0.017593,
     "end_time": "2020-08-31T12:40:55.038575",
     "exception": false,
     "start_time": "2020-08-31T12:40:55.020982",
     "status": "completed"
    },
    "tags": []
   },
   "source": [
    "## Get fields of collection Sentinel-2 L2A\n",
    "The fields (or variables in other DAPA endpoints - these are the bands of the raster data) can be retrieved in all requests to the DAPA endpoint. In addition to the fixed set of fields, \"virtual\" fields can be used to conduct math operations (e.g., the calculation of indices). "
   ]
  },
  {
   "cell_type": "code",
   "execution_count": 6,
   "metadata": {
    "execution": {
     "iopub.execute_input": "2020-08-31T12:40:55.085641Z",
     "iopub.status.busy": "2020-08-31T12:40:55.084620Z",
     "iopub.status.idle": "2020-08-31T12:40:55.141250Z",
     "shell.execute_reply": "2020-08-31T12:40:55.139813Z"
    },
    "papermill": {
     "duration": 0.083082,
     "end_time": "2020-08-31T12:40:55.141442",
     "exception": false,
     "start_time": "2020-08-31T12:40:55.058360",
     "status": "completed"
    },
    "tags": []
   },
   "outputs": [
    {
     "name": "stdout",
     "output_type": "stream",
     "text": [
      "DAPA path: /oapi/collections/S2L2A/dapa/fields\n"
     ]
    },
    {
     "data": {
      "text/plain": [
       "[{'id': 'B01', 'wavelength': 442.7},\n",
       " {'id': 'B02', 'wavelength': 492.4},\n",
       " {'id': 'B03', 'wavelength': 559.8},\n",
       " {'id': 'B04', 'wavelength': 664.6},\n",
       " {'id': 'B05', 'wavelength': 704.1},\n",
       " {'id': 'B06', 'wavelength': 740.5},\n",
       " {'id': 'B07', 'wavelength': 782.8},\n",
       " {'id': 'B08', 'wavelength': 832.8},\n",
       " {'id': 'B8A', 'wavelength': 864.7},\n",
       " {'id': 'B09', 'wavelength': 945.1},\n",
       " {'id': 'B11', 'wavelength': 1613.7},\n",
       " {'id': 'B12', 'wavelength': 2202.4},\n",
       " {'id': 'SCL', 'wavelength': None},\n",
       " {'id': 'SNW', 'wavelength': None},\n",
       " {'id': 'CLD', 'wavelength': None}]"
      ]
     },
     "execution_count": 6,
     "metadata": {},
     "output_type": "execute_result"
    }
   ],
   "source": [
    "collection = 'S2L2A'\n",
    "\n",
    "fields_url = '{}/{}/{}/{}'.format(dapa_url, 'collections', collection, 'dapa/fields')\n",
    "fields = requests.get(fields_url, headers={'Accept': 'application/json'})\n",
    "\n",
    "print('DAPA path: {}'.format(fields.url.replace(service_url, '')))\n",
    "fields.json()"
   ]
  },
  {
   "cell_type": "markdown",
   "metadata": {
    "papermill": {
     "duration": 0.018728,
     "end_time": "2020-08-31T12:40:55.183538",
     "exception": false,
     "start_time": "2020-08-31T12:40:55.164810",
     "status": "completed"
    },
    "tags": []
   },
   "source": [
    "## Retrieve an NDVI value extraced for a single point"
   ]
  },
  {
   "cell_type": "markdown",
   "metadata": {
    "papermill": {
     "duration": 0.018142,
     "end_time": "2020-08-31T12:40:55.223461",
     "exception": false,
     "start_time": "2020-08-31T12:40:55.205319",
     "status": "completed"
    },
    "tags": []
   },
   "source": [
    "### Set DAPA URL and parameters\n",
    "The output of this request is a single value requested from a point of interest (`value/position` endpoint). As the input collection (S2L2A) is a multi-temporal raster and the requested geometry is a point, temporal aggregation is conducted.\n",
    "\n",
    "To retrieve a single value of a point, the parameter `point` needs to be provided. For the temporal aggregation, the parameter `aggregate` needs to include the aggregation functions splitted by comma. The `time` parameter allows to aggregate data only within a specific time span. The band (`field`) from which the point is being extracted needs to be specified as well."
   ]
  },
  {
   "cell_type": "code",
   "execution_count": 7,
   "metadata": {
    "execution": {
     "iopub.execute_input": "2020-08-31T12:40:55.283798Z",
     "iopub.status.busy": "2020-08-31T12:40:55.282048Z",
     "iopub.status.idle": "2020-08-31T12:40:55.341218Z",
     "shell.execute_reply": "2020-08-31T12:40:55.336732Z"
    },
    "papermill": {
     "duration": 0.090615,
     "end_time": "2020-08-31T12:40:55.341421",
     "exception": false,
     "start_time": "2020-08-31T12:40:55.250806",
     "status": "completed"
    },
    "tags": []
   },
   "outputs": [
    {
     "data": {
      "application/vnd.jupyter.widget-view+json": {
       "model_id": "14b25424236a44ef8d121fc836788f38",
       "version_major": 2,
       "version_minor": 0
      },
      "text/plain": [
       "Map(center=[48.05, 11.49], controls=(ZoomControl(options=['position', 'zoom_in_text', 'zoom_in_title', 'zoom_o…"
      ]
     },
     "metadata": {},
     "output_type": "display_data"
    }
   ],
   "source": [
    "# DAPA URL\n",
    "url = '{}/{}/{}/{}'.format(dapa_url, 'collections', collection, 'dapa/value/position')\n",
    "\n",
    "# Parameters for this request\n",
    "params = {\n",
    "    'point': '11.49,48.05',\n",
    "    'time': '2018-04-01T00:00:00Z/2018-07-01T00:00:00Z',\n",
    "    'fields': 'NDVI=(B04-B08)/(B04%2BB08)',\n",
    "    'aggregate': 'min,max,avg'\n",
    "}\n",
    "\n",
    "# show point in the map\n",
    "location = list(reversed([float(coord) for coord in params['point'].split(',')]))\n",
    "\n",
    "m = Map(\n",
    "    basemap=basemap_to_tiles(basemaps.OpenStreetMap.Mapnik),\n",
    "    center=location,\n",
    "    zoom=10\n",
    ")\n",
    "\n",
    "marker = Marker(location=location, draggable=False)\n",
    "m.add_layer(marker)\n",
    "\n",
    "m"
   ]
  },
  {
   "cell_type": "markdown",
   "metadata": {
    "papermill": {
     "duration": 0.028041,
     "end_time": "2020-08-31T12:40:55.395358",
     "exception": false,
     "start_time": "2020-08-31T12:40:55.367317",
     "status": "completed"
    },
    "tags": []
   },
   "source": [
    "### Build request URL and conduct request"
   ]
  },
  {
   "cell_type": "code",
   "execution_count": 8,
   "metadata": {
    "execution": {
     "iopub.execute_input": "2020-08-31T12:40:55.449785Z",
     "iopub.status.busy": "2020-08-31T12:40:55.448704Z",
     "iopub.status.idle": "2020-08-31T12:41:04.815928Z",
     "shell.execute_reply": "2020-08-31T12:41:04.816581Z"
    },
    "papermill": {
     "duration": 9.394851,
     "end_time": "2020-08-31T12:41:04.816742",
     "exception": false,
     "start_time": "2020-08-31T12:40:55.421891",
     "status": "completed"
    },
    "tags": []
   },
   "outputs": [
    {
     "name": "stdout",
     "output_type": "stream",
     "text": [
      "DAPA path: /oapi/collections/S2L2A/dapa/value/position?point=11.49,48.05&time=2018-04-01T00:00:00Z/2018-07-01T00:00:00Z&fields=NDVI=(B04-B08)/(B04%2BB08)&aggregate=min,max,avg\n",
      "Status code: 200\n"
     ]
    }
   ],
   "source": [
    "params_str = \"&\".join(\"%s=%s\" % (k, v) for k,v in params.items())\n",
    "r = requests.get(url, params=params_str)\n",
    "\n",
    "print('DAPA path: {}'.format(r.url.replace(service_url, '')))\n",
    "print('Status code: {}'.format(r.status_code))"
   ]
  },
  {
   "cell_type": "markdown",
   "metadata": {
    "papermill": {
     "duration": 0.019399,
     "end_time": "2020-08-31T12:41:04.860575",
     "exception": false,
     "start_time": "2020-08-31T12:41:04.841176",
     "status": "completed"
    },
    "tags": []
   },
   "source": [
    "### Show content (one value for each aggregation method)\n",
    "The response of this request returns plain text with values splitted by comma. The order of the values relates to the order of the fields specified in the `fields` parameter in combination with the order of the `aggregation` functions. Additional output formats (e.g., CSV with headers included) will be integrated within the testbed activtiy. "
   ]
  },
  {
   "cell_type": "code",
   "execution_count": 9,
   "metadata": {
    "execution": {
     "iopub.execute_input": "2020-08-31T12:41:04.906813Z",
     "iopub.status.busy": "2020-08-31T12:41:04.905709Z",
     "iopub.status.idle": "2020-08-31T12:41:04.909448Z",
     "shell.execute_reply": "2020-08-31T12:41:04.910220Z"
    },
    "papermill": {
     "duration": 0.028586,
     "end_time": "2020-08-31T12:41:04.910451",
     "exception": false,
     "start_time": "2020-08-31T12:41:04.881865",
     "status": "completed"
    },
    "tags": []
   },
   "outputs": [
    {
     "data": {
      "text/plain": [
       "'-0.8713367,0.039432675,-0.4004872'"
      ]
     },
     "execution_count": 9,
     "metadata": {},
     "output_type": "execute_result"
    }
   ],
   "source": [
    "values = r.text\n",
    "values"
   ]
  },
  {
   "cell_type": "code",
   "execution_count": 10,
   "metadata": {
    "execution": {
     "iopub.execute_input": "2020-08-31T12:41:04.973595Z",
     "iopub.status.busy": "2020-08-31T12:41:04.972354Z",
     "iopub.status.idle": "2020-08-31T12:41:04.976685Z",
     "shell.execute_reply": "2020-08-31T12:41:04.974379Z"
    },
    "papermill": {
     "duration": 0.035985,
     "end_time": "2020-08-31T12:41:04.976896",
     "exception": false,
     "start_time": "2020-08-31T12:41:04.940911",
     "status": "completed"
    },
    "tags": []
   },
   "outputs": [
    {
     "name": "stdout",
     "output_type": "stream",
     "text": [
      "min: -0.8713367\n",
      "max: 0.039432675\n",
      "avg: -0.4004872\n"
     ]
    }
   ],
   "source": [
    "print('%s: %s' % (params['aggregate'].split(',')[0], values.split(',')[0]))\n",
    "print('%s: %s' % (params['aggregate'].split(',')[1], values.split(',')[1]))\n",
    "print('%s: %s' % (params['aggregate'].split(',')[2], values.split(',')[2]))"
   ]
  }
 ],
 "metadata": {
  "kernelspec": {
   "display_name": "EDC 0.19.6 (Python3)",
   "language": "python",
   "name": "edc"
  },
  "language_info": {
   "codemirror_mode": {
    "name": "ipython",
    "version": 3
   },
   "file_extension": ".py",
   "mimetype": "text/x-python",
   "name": "python",
   "nbconvert_exporter": "python",
   "pygments_lexer": "ipython3",
   "version": "3.7.8"
  },
  "papermill": {
   "duration": 14.055991,
   "end_time": "2020-08-31T12:41:06.359349",
   "environment_variables": {},
   "exception": null,
   "input_path": "/tmp/tmps4f0lks4",
   "output_path": "/tmp/cur_notebook.ipynb",
   "parameters": {},
   "start_time": "2020-08-31T12:40:52.303358",
   "version": "2.1.2"
  },
  "properties": {
   "authors": [
    {
     "id": "47919774-57f5-4b2d-9f6c-570b91e23604",
     "name": "jonas.eberle@dlr.de"
    }
   ],
   "description": "Value extraction based on DAPA experimental interface",
   "id": "95e1bd19-f57f-491f-afb2-1b10fb2efed1",
   "license": null,
   "name": "DAPA Tutorial #4: Value - Sentinel-2 - OGC Testbed 16",
   "requirements": [],
   "tags": [
    "DAPA"
   ],
   "tosAgree": true,
   "type": "Jupyter Notebook",
   "version": "0.2"
  },
  "widgets": {
   "application/vnd.jupyter.widget-state+json": {
    "state": {
     "03b3f60061a041ecad488655f66e0399": {
      "model_module": "jupyter-leaflet",
      "model_module_version": "^0.13.2",
      "model_name": "LeafletZoomControlModel",
      "state": {
       "_model_module": "jupyter-leaflet",
       "_model_module_version": "^0.13.2",
       "_model_name": "LeafletZoomControlModel",
       "_view_count": null,
       "_view_module": "jupyter-leaflet",
       "_view_module_version": "^0.13.2",
       "_view_name": "LeafletZoomControlView",
       "options": [
        "position",
        "zoom_in_text",
        "zoom_in_title",
        "zoom_out_text",
        "zoom_out_title"
       ],
       "position": "topleft",
       "zoom_in_text": "+",
       "zoom_in_title": "Zoom in",
       "zoom_out_text": "-",
       "zoom_out_title": "Zoom out"
      }
     },
     "13eb9993af5d4fd1964c879ba87528e8": {
      "model_module": "jupyter-leaflet",
      "model_module_version": "^0.13.2",
      "model_name": "LeafletAttributionControlModel",
      "state": {
       "_model_module": "jupyter-leaflet",
       "_model_module_version": "^0.13.2",
       "_model_name": "LeafletAttributionControlModel",
       "_view_count": null,
       "_view_module": "jupyter-leaflet",
       "_view_module_version": "^0.13.2",
       "_view_name": "LeafletAttributionControlView",
       "options": [
        "position",
        "prefix"
       ],
       "position": "bottomright",
       "prefix": "ipyleaflet"
      }
     },
     "14b25424236a44ef8d121fc836788f38": {
      "model_module": "jupyter-leaflet",
      "model_module_version": "^0.13.2",
      "model_name": "LeafletMapModel",
      "state": {
       "_dom_classes": [],
       "_model_module": "jupyter-leaflet",
       "_model_module_version": "^0.13.2",
       "_model_name": "LeafletMapModel",
       "_view_count": null,
       "_view_module": "jupyter-leaflet",
       "_view_module_version": "^0.13.2",
       "_view_name": "LeafletMapView",
       "bottom": 0.0,
       "bounce_at_zoom_limits": true,
       "box_zoom": true,
       "center": [
        48.05,
        11.49
       ],
       "close_popup_on_click": true,
       "controls": [
        "IPY_MODEL_03b3f60061a041ecad488655f66e0399",
        "IPY_MODEL_13eb9993af5d4fd1964c879ba87528e8"
       ],
       "crs": {
        "custom": false,
        "name": "EPSG3857"
       },
       "default_style": "IPY_MODEL_5a77eabce35e4549ba597319a6d2f76e",
       "double_click_zoom": true,
       "dragging": true,
       "dragging_style": "IPY_MODEL_cc20bf8e30b5496b87125af91ff096cf",
       "east": 0.0,
       "fullscreen": false,
       "inertia": true,
       "inertia_deceleration": 3000,
       "inertia_max_speed": 1500,
       "interpolation": "bilinear",
       "keyboard": true,
       "keyboard_pan_offset": 80,
       "keyboard_zoom_offset": 1,
       "layers": [
        "IPY_MODEL_c0088b234eb4405e9d27d29e7cc68e3b",
        "IPY_MODEL_1e0bf6dd362444f2a4f52f6e467f9adc"
       ],
       "layout": "IPY_MODEL_e7e61bd216a446ff9047e66aa6b8045b",
       "left": 9007199254740991.0,
       "max_zoom": 18.0,
       "min_zoom": 1.0,
       "modisdate": "yesterday",
       "north": 0.0,
       "options": [
        "bounce_at_zoom_limits",
        "box_zoom",
        "center",
        "close_popup_on_click",
        "double_click_zoom",
        "dragging",
        "fullscreen",
        "inertia",
        "inertia_deceleration",
        "inertia_max_speed",
        "interpolation",
        "keyboard",
        "keyboard_pan_offset",
        "keyboard_zoom_offset",
        "max_zoom",
        "min_zoom",
        "scroll_wheel_zoom",
        "tap",
        "tap_tolerance",
        "touch_zoom",
        "world_copy_jump",
        "zoom",
        "zoom_animation_threshold",
        "zoom_delta",
        "zoom_snap",
        "zoom_start"
       ],
       "right": 0.0,
       "scroll_wheel_zoom": false,
       "south": 0.0,
       "style": "IPY_MODEL_7b1ae11026d04e339e3d2c32673d8dba",
       "tap": true,
       "tap_tolerance": 15,
       "top": 9007199254740991.0,
       "touch_zoom": true,
       "west": 0.0,
       "window_url": "",
       "world_copy_jump": false,
       "zoom": 10.0,
       "zoom_animation_threshold": 4,
       "zoom_delta": 1.0,
       "zoom_snap": 1.0,
       "zoom_start": 12.0
      }
     },
     "1e0bf6dd362444f2a4f52f6e467f9adc": {
      "model_module": "jupyter-leaflet",
      "model_module_version": "^0.13.2",
      "model_name": "LeafletMarkerModel",
      "state": {
       "_model_module": "jupyter-leaflet",
       "_model_module_version": "^0.13.2",
       "_model_name": "LeafletMarkerModel",
       "_view_count": null,
       "_view_module": "jupyter-leaflet",
       "_view_module_version": "^0.13.2",
       "_view_name": "LeafletMarkerView",
       "alt": "",
       "base": false,
       "bottom": false,
       "draggable": false,
       "icon": null,
       "keyboard": true,
       "location": [
        48.05,
        11.49
       ],
       "name": "",
       "opacity": 1.0,
       "options": [
        "alt",
        "draggable",
        "keyboard",
        "rise_offset",
        "rise_on_hover",
        "rotation_angle",
        "rotation_origin",
        "title",
        "z_index_offset"
       ],
       "popup": null,
       "popup_max_height": null,
       "popup_max_width": 300,
       "popup_min_width": 50,
       "rise_offset": 250,
       "rise_on_hover": false,
       "rotation_angle": 0.0,
       "rotation_origin": "",
       "title": "",
       "visible": true,
       "z_index_offset": 0
      }
     },
     "5a77eabce35e4549ba597319a6d2f76e": {
      "model_module": "jupyter-leaflet",
      "model_module_version": "^0.13.2",
      "model_name": "LeafletMapStyleModel",
      "state": {
       "_model_module": "jupyter-leaflet",
       "_model_module_version": "^0.13.2",
       "_model_name": "LeafletMapStyleModel",
       "_view_count": null,
       "_view_module": "@jupyter-widgets/base",
       "_view_module_version": "1.2.0",
       "_view_name": "StyleView",
       "cursor": "grab"
      }
     },
     "7b1ae11026d04e339e3d2c32673d8dba": {
      "model_module": "jupyter-leaflet",
      "model_module_version": "^0.13.2",
      "model_name": "LeafletMapStyleModel",
      "state": {
       "_model_module": "jupyter-leaflet",
       "_model_module_version": "^0.13.2",
       "_model_name": "LeafletMapStyleModel",
       "_view_count": null,
       "_view_module": "@jupyter-widgets/base",
       "_view_module_version": "1.2.0",
       "_view_name": "StyleView",
       "cursor": "grab"
      }
     },
     "c0088b234eb4405e9d27d29e7cc68e3b": {
      "model_module": "jupyter-leaflet",
      "model_module_version": "^0.13.2",
      "model_name": "LeafletTileLayerModel",
      "state": {
       "_model_module": "jupyter-leaflet",
       "_model_module_version": "^0.13.2",
       "_model_name": "LeafletTileLayerModel",
       "_view_count": null,
       "_view_module": "jupyter-leaflet",
       "_view_module_version": "^0.13.2",
       "_view_name": "LeafletTileLayerView",
       "attribution": "Map data (c) <a href=\"https://openstreetmap.org\">OpenStreetMap</a> contributors",
       "base": true,
       "bottom": true,
       "detect_retina": false,
       "loading": false,
       "max_native_zoom": 18,
       "max_zoom": 19,
       "min_native_zoom": 0,
       "min_zoom": 1,
       "name": "OpenStreetMap.Mapnik",
       "no_wrap": false,
       "opacity": 1.0,
       "options": [
        "attribution",
        "detect_retina",
        "max_native_zoom",
        "max_zoom",
        "min_native_zoom",
        "min_zoom",
        "no_wrap",
        "tile_size",
        "tms"
       ],
       "popup": null,
       "popup_max_height": null,
       "popup_max_width": 300,
       "popup_min_width": 50,
       "show_loading": false,
       "tile_size": 256,
       "tms": false,
       "url": "https://{s}.tile.openstreetmap.org/{z}/{x}/{y}.png",
       "visible": true
      }
     },
     "cc20bf8e30b5496b87125af91ff096cf": {
      "model_module": "jupyter-leaflet",
      "model_module_version": "^0.13.2",
      "model_name": "LeafletMapStyleModel",
      "state": {
       "_model_module": "jupyter-leaflet",
       "_model_module_version": "^0.13.2",
       "_model_name": "LeafletMapStyleModel",
       "_view_count": null,
       "_view_module": "@jupyter-widgets/base",
       "_view_module_version": "1.2.0",
       "_view_name": "StyleView",
       "cursor": "move"
      }
     },
     "e7e61bd216a446ff9047e66aa6b8045b": {
      "model_module": "@jupyter-widgets/base",
      "model_module_version": "1.2.0",
      "model_name": "LayoutModel",
      "state": {
       "_model_module": "@jupyter-widgets/base",
       "_model_module_version": "1.2.0",
       "_model_name": "LayoutModel",
       "_view_count": null,
       "_view_module": "@jupyter-widgets/base",
       "_view_module_version": "1.2.0",
       "_view_name": "LayoutView",
       "align_content": null,
       "align_items": null,
       "align_self": null,
       "border": null,
       "bottom": null,
       "display": null,
       "flex": null,
       "flex_flow": null,
       "grid_area": null,
       "grid_auto_columns": null,
       "grid_auto_flow": null,
       "grid_auto_rows": null,
       "grid_column": null,
       "grid_gap": null,
       "grid_row": null,
       "grid_template_areas": null,
       "grid_template_columns": null,
       "grid_template_rows": null,
       "height": null,
       "justify_content": null,
       "justify_items": null,
       "left": null,
       "margin": null,
       "max_height": null,
       "max_width": null,
       "min_height": null,
       "min_width": null,
       "object_fit": null,
       "object_position": null,
       "order": null,
       "overflow": null,
       "overflow_x": null,
       "overflow_y": null,
       "padding": null,
       "right": null,
       "top": null,
       "visibility": null,
       "width": null
      }
     }
    },
    "version_major": 2,
    "version_minor": 0
   }
  }
 },
 "nbformat": 4,
 "nbformat_minor": 4
}