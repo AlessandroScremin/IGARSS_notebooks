{
 "cells": [
  {
   "cell_type": "markdown",
   "metadata": {
    "papermill": {
     "duration": 0.009381,
     "end_time": "2020-09-29T12:37:11.348306",
     "exception": false,
     "start_time": "2020-09-29T12:37:11.338925",
     "status": "completed"
    },
    "tags": []
   },
   "source": [
    "# DAPA Tutorial #4: Value - Sentinel-2"
   ]
  },
  {
   "cell_type": "markdown",
   "metadata": {
    "papermill": {
     "duration": 0.008396,
     "end_time": "2020-09-29T12:37:11.365221",
     "exception": false,
     "start_time": "2020-09-29T12:37:11.356825",
     "status": "completed"
    },
    "tags": []
   },
   "source": [
    "## Load environment variables\n",
    "Please make sure that the environment variable \"DAPA_URL\" is set in the `custom.env` file. You can check this by executing the following block. \n",
    "\n",
    "If DAPA_URL is not set, please create a text file named `custom.env` in your home directory with the following input: \n",
    ">DAPA_URL=YOUR-PERSONAL-DAPA-APP-URL"
   ]
  },
  {
   "cell_type": "code",
   "execution_count": 1,
   "metadata": {
    "execution": {
     "iopub.execute_input": "2020-09-29T12:37:11.386723Z",
     "iopub.status.busy": "2020-09-29T12:37:11.385993Z",
     "iopub.status.idle": "2020-09-29T12:37:11.434490Z",
     "shell.execute_reply": "2020-09-29T12:37:11.434890Z"
    },
    "papermill": {
     "duration": 0.060912,
     "end_time": "2020-09-29T12:37:11.435099",
     "exception": false,
     "start_time": "2020-09-29T12:37:11.374187",
     "status": "completed"
    },
    "tags": []
   },
   "outputs": [
    {
     "data": {
      "text/markdown": [
       "API credentials have automatically been injected for your active subscriptions.  \n",
       "The following environment variables are now available:\n",
       "\n",
       "The following additional environment variables have been loaded from `~/custom.env`:\n",
       "* `AWS_BUCKET`\n",
       "* `DAPA_URL`\n",
       "* `DB_HOST`, `DB_NAME`, `DB_PASSWORD`, `DB_USER`\n",
       "* `OGC_EDC_URL`\n",
       "* `REFERENCE_DATA`\n"
      ],
      "text/plain": [
       "<IPython.core.display.Markdown object>"
      ]
     },
     "metadata": {},
     "output_type": "display_data"
    }
   ],
   "source": [
    "from edc import setup_environment_variables\n",
    "setup_environment_variables()"
   ]
  },
  {
   "cell_type": "markdown",
   "metadata": {
    "papermill": {
     "duration": 0.009174,
     "end_time": "2020-09-29T12:37:11.452993",
     "exception": false,
     "start_time": "2020-09-29T12:37:11.443819",
     "status": "completed"
    },
    "tags": []
   },
   "source": [
    "## Check notebook compabtibility\n",
    "**Please note:** If you conduct this notebook again at a later time, the base image of this Jupyter Hub service can include newer versions of the libraries installed. Thus, the notebook execution can fail. This compatibility check is only necessary when something is broken. "
   ]
  },
  {
   "cell_type": "code",
   "execution_count": 2,
   "metadata": {
    "execution": {
     "iopub.execute_input": "2020-09-29T12:37:11.474038Z",
     "iopub.status.busy": "2020-09-29T12:37:11.473469Z",
     "iopub.status.idle": "2020-09-29T12:37:11.477713Z",
     "shell.execute_reply": "2020-09-29T12:37:11.477094Z"
    },
    "papermill": {
     "duration": 0.01602,
     "end_time": "2020-09-29T12:37:11.477849",
     "exception": false,
     "start_time": "2020-09-29T12:37:11.461829",
     "status": "completed"
    },
    "tags": []
   },
   "outputs": [
    {
     "data": {
      "text/html": [
       "<script type=\"text/javascript\">\n",
       "        function toggle(id) {\n",
       "            el = document.getElementById(id);\n",
       "            el.style.display = el.style.display === \"none\" ? \"block\" : \"none\";\n",
       "        }\n",
       "    </script>"
      ],
      "text/plain": [
       "<IPython.core.display.HTML object>"
      ]
     },
     "metadata": {},
     "output_type": "display_data"
    },
    {
     "data": {
      "text/html": [
       "This notebook is compatible with this base image version (user-0.21.2)."
      ],
      "text/plain": [
       "<IPython.core.display.HTML object>"
      ]
     },
     "metadata": {},
     "output_type": "display_data"
    }
   ],
   "source": [
    "from edc import check_compatibility\n",
    "check_compatibility(\"user-0.21.2\")"
   ]
  },
  {
   "cell_type": "markdown",
   "metadata": {
    "papermill": {
     "duration": 0.009315,
     "end_time": "2020-09-29T12:37:11.497596",
     "exception": false,
     "start_time": "2020-09-29T12:37:11.488281",
     "status": "completed"
    },
    "tags": []
   },
   "source": [
    "## Load libraries\n",
    "Python libraries used in this tutorial will be loaded."
   ]
  },
  {
   "cell_type": "code",
   "execution_count": 3,
   "metadata": {
    "execution": {
     "iopub.execute_input": "2020-09-29T12:37:11.522110Z",
     "iopub.status.busy": "2020-09-29T12:37:11.521510Z",
     "iopub.status.idle": "2020-09-29T12:37:12.538739Z",
     "shell.execute_reply": "2020-09-29T12:37:12.537816Z"
    },
    "papermill": {
     "duration": 1.030929,
     "end_time": "2020-09-29T12:37:12.538894",
     "exception": false,
     "start_time": "2020-09-29T12:37:11.507965",
     "status": "completed"
    },
    "tags": []
   },
   "outputs": [],
   "source": [
    "import os\n",
    "import xarray as xr\n",
    "import pandas as pd\n",
    "import requests\n",
    "import matplotlib\n",
    "from ipyleaflet import Map, Rectangle, Marker, DrawControl, basemaps, basemap_to_tiles\n",
    "%matplotlib inline"
   ]
  },
  {
   "cell_type": "markdown",
   "metadata": {
    "papermill": {
     "duration": 0.010139,
     "end_time": "2020-09-29T12:37:12.559207",
     "exception": false,
     "start_time": "2020-09-29T12:37:12.549068",
     "status": "completed"
    },
    "tags": []
   },
   "source": [
    "## Set DAPA endpoint\n",
    "Execute the following code to check if the DAPA_URL is available in the environment variable and to set the `/dapa` endpoint. "
   ]
  },
  {
   "cell_type": "code",
   "execution_count": 4,
   "metadata": {
    "execution": {
     "iopub.execute_input": "2020-09-29T12:37:12.582519Z",
     "iopub.status.busy": "2020-09-29T12:37:12.581908Z",
     "iopub.status.idle": "2020-09-29T12:37:12.584194Z",
     "shell.execute_reply": "2020-09-29T12:37:12.584634Z"
    },
    "papermill": {
     "duration": 0.016209,
     "end_time": "2020-09-29T12:37:12.584768",
     "exception": false,
     "start_time": "2020-09-29T12:37:12.568559",
     "status": "completed"
    },
    "tags": []
   },
   "outputs": [
    {
     "name": "stdout",
     "output_type": "stream",
     "text": [
      "DAPA path: /oapi\n"
     ]
    }
   ],
   "source": [
    "service_url = None\n",
    "dapa_url = None\n",
    "\n",
    "if 'DAPA_URL' not in os.environ:\n",
    "    print('!! DAPA_URL does not exist as environment variable. Please make sure this is the case - see first block of this notebook! !!')\n",
    "else:    \n",
    "    service_url = os.environ['DAPA_URL']\n",
    "    dapa_url = '{}/{}'.format(service_url, 'oapi')\n",
    "    print('DAPA path: {}'.format(dapa_url.replace(service_url, '')))"
   ]
  },
  {
   "cell_type": "markdown",
   "metadata": {
    "papermill": {
     "duration": 0.009597,
     "end_time": "2020-09-29T12:37:12.604704",
     "exception": false,
     "start_time": "2020-09-29T12:37:12.595107",
     "status": "completed"
    },
    "tags": []
   },
   "source": [
    "## Get collections supported by this endpoint\n",
    "This request provides a list of collections. The path of each collection is used as starting path of this service."
   ]
  },
  {
   "cell_type": "code",
   "execution_count": 5,
   "metadata": {
    "execution": {
     "iopub.execute_input": "2020-09-29T12:37:12.629052Z",
     "iopub.status.busy": "2020-09-29T12:37:12.628383Z",
     "iopub.status.idle": "2020-09-29T12:37:12.705669Z",
     "shell.execute_reply": "2020-09-29T12:37:12.705175Z"
    },
    "papermill": {
     "duration": 0.0904,
     "end_time": "2020-09-29T12:37:12.705804",
     "exception": false,
     "start_time": "2020-09-29T12:37:12.615404",
     "status": "completed"
    },
    "tags": []
   },
   "outputs": [
    {
     "name": "stdout",
     "output_type": "stream",
     "text": [
      "DAPA path: /oapi/collections\n"
     ]
    },
    {
     "data": {
      "text/plain": [
       "['/oapi/collections/DEM/',\n",
       " '/oapi/collections/L8L1C/',\n",
       " '/oapi/collections/S1GRD/',\n",
       " '/oapi/collections/S2L1C/',\n",
       " '/oapi/collections/S2L2A/',\n",
       " '/oapi/collections/S3OLCI/',\n",
       " '/oapi/collections/S3SLSTR/',\n",
       " '/oapi/collections/S5PL2/',\n",
       " '/oapi/collections/MODIS/']"
      ]
     },
     "execution_count": 5,
     "metadata": {},
     "output_type": "execute_result"
    }
   ],
   "source": [
    "collections_url = '{}/{}'.format(dapa_url, 'collections')\n",
    "collections = requests.get(collections_url, headers={'Accept': 'application/json'})\n",
    "\n",
    "print('DAPA path: {}'.format(collections.url.replace(service_url, '')))\n",
    "collections.json()"
   ]
  },
  {
   "cell_type": "markdown",
   "metadata": {
    "papermill": {
     "duration": 0.010584,
     "end_time": "2020-09-29T12:37:12.726681",
     "exception": false,
     "start_time": "2020-09-29T12:37:12.716097",
     "status": "completed"
    },
    "tags": []
   },
   "source": [
    "## Get fields of collection Sentinel-2 L2A\n",
    "The fields (or variables in other DAPA endpoints - these are the bands of the raster data) can be retrieved in all requests to the DAPA endpoint. In addition to the fixed set of fields, \"virtual\" fields can be used to conduct math operations (e.g., the calculation of indices). "
   ]
  },
  {
   "cell_type": "code",
   "execution_count": 6,
   "metadata": {
    "execution": {
     "iopub.execute_input": "2020-09-29T12:37:12.752604Z",
     "iopub.status.busy": "2020-09-29T12:37:12.752049Z",
     "iopub.status.idle": "2020-09-29T12:37:12.781550Z",
     "shell.execute_reply": "2020-09-29T12:37:12.780982Z"
    },
    "papermill": {
     "duration": 0.044737,
     "end_time": "2020-09-29T12:37:12.781671",
     "exception": false,
     "start_time": "2020-09-29T12:37:12.736934",
     "status": "completed"
    },
    "tags": []
   },
   "outputs": [
    {
     "name": "stdout",
     "output_type": "stream",
     "text": [
      "DAPA path: /oapi/collections/S2L2A/dapa/fields\n"
     ]
    },
    {
     "data": {
      "text/plain": [
       "[{'id': 'B01', 'wavelength': 442.7},\n",
       " {'id': 'B02', 'wavelength': 492.4},\n",
       " {'id': 'B03', 'wavelength': 559.8},\n",
       " {'id': 'B04', 'wavelength': 664.6},\n",
       " {'id': 'B05', 'wavelength': 704.1},\n",
       " {'id': 'B06', 'wavelength': 740.5},\n",
       " {'id': 'B07', 'wavelength': 782.8},\n",
       " {'id': 'B08', 'wavelength': 832.8},\n",
       " {'id': 'B8A', 'wavelength': 864.7},\n",
       " {'id': 'B09', 'wavelength': 945.1},\n",
       " {'id': 'B11', 'wavelength': 1613.7},\n",
       " {'id': 'B12', 'wavelength': 2202.4},\n",
       " {'id': 'SCL', 'wavelength': None},\n",
       " {'id': 'SNW', 'wavelength': None},\n",
       " {'id': 'CLD', 'wavelength': None}]"
      ]
     },
     "execution_count": 6,
     "metadata": {},
     "output_type": "execute_result"
    }
   ],
   "source": [
    "collection = 'S2L2A'\n",
    "\n",
    "fields_url = '{}/{}/{}/{}'.format(dapa_url, 'collections', collection, 'dapa/fields')\n",
    "fields = requests.get(fields_url, headers={'Accept': 'application/json'})\n",
    "\n",
    "print('DAPA path: {}'.format(fields.url.replace(service_url, '')))\n",
    "fields.json()"
   ]
  },
  {
   "cell_type": "markdown",
   "metadata": {
    "papermill": {
     "duration": 0.011739,
     "end_time": "2020-09-29T12:37:12.804529",
     "exception": false,
     "start_time": "2020-09-29T12:37:12.792790",
     "status": "completed"
    },
    "tags": []
   },
   "source": [
    "## Retrieve an NDVI value extraced for a single point"
   ]
  },
  {
   "cell_type": "markdown",
   "metadata": {
    "papermill": {
     "duration": 0.010935,
     "end_time": "2020-09-29T12:37:12.826468",
     "exception": false,
     "start_time": "2020-09-29T12:37:12.815533",
     "status": "completed"
    },
    "tags": []
   },
   "source": [
    "### Set DAPA URL and parameters\n",
    "The output of this request is a single value requested from a point of interest (`value/position` endpoint). As the input collection (S2L2A) is a multi-temporal raster and the requested geometry is a point, temporal aggregation is conducted.\n",
    "\n",
    "To retrieve a single value of a point, the parameter `point` needs to be provided. For the temporal aggregation, the parameter `aggregate` needs to include the aggregation functions splitted by comma. The `time` parameter allows to aggregate data only within a specific time span. The band (`field`) from which the point is being extracted needs to be specified as well."
   ]
  },
  {
   "cell_type": "code",
   "execution_count": 7,
   "metadata": {
    "execution": {
     "iopub.execute_input": "2020-09-29T12:37:12.865784Z",
     "iopub.status.busy": "2020-09-29T12:37:12.863810Z",
     "iopub.status.idle": "2020-09-29T12:37:12.879773Z",
     "shell.execute_reply": "2020-09-29T12:37:12.874932Z"
    },
    "papermill": {
     "duration": 0.042391,
     "end_time": "2020-09-29T12:37:12.879886",
     "exception": false,
     "start_time": "2020-09-29T12:37:12.837495",
     "status": "completed"
    },
    "tags": []
   },
   "outputs": [
    {
     "data": {
      "application/vnd.jupyter.widget-view+json": {
       "model_id": "88a22614a27d4126aa999c00547ae390",
       "version_major": 2,
       "version_minor": 0
      },
      "text/plain": [
       "Map(center=[48.05, 11.49], controls=(ZoomControl(options=['position', 'zoom_in_text', 'zoom_in_title', 'zoom_o…"
      ]
     },
     "metadata": {},
     "output_type": "display_data"
    }
   ],
   "source": [
    "# DAPA URL\n",
    "url = '{}/{}/{}/{}'.format(dapa_url, 'collections', collection, 'dapa/value/position')\n",
    "\n",
    "# Parameters for this request\n",
    "params = {\n",
    "    'point': '11.49,48.05',\n",
    "    'time': '2018-04-01T00:00:00Z/2018-07-01T00:00:00Z',\n",
    "    'fields': 'NDVI=(B04-B08)/(B04%2BB08)',\n",
    "    'aggregate': 'min,max,avg'\n",
    "}\n",
    "\n",
    "# show point in the map\n",
    "location = list(reversed([float(coord) for coord in params['point'].split(',')]))\n",
    "\n",
    "m = Map(\n",
    "    basemap=basemap_to_tiles(basemaps.OpenStreetMap.Mapnik),\n",
    "    center=location,\n",
    "    zoom=10\n",
    ")\n",
    "\n",
    "marker = Marker(location=location, draggable=False)\n",
    "m.add_layer(marker)\n",
    "\n",
    "m"
   ]
  },
  {
   "cell_type": "markdown",
   "metadata": {
    "papermill": {
     "duration": 0.011308,
     "end_time": "2020-09-29T12:37:12.903057",
     "exception": false,
     "start_time": "2020-09-29T12:37:12.891749",
     "status": "completed"
    },
    "tags": []
   },
   "source": [
    "### Build request URL and conduct request"
   ]
  },
  {
   "cell_type": "code",
   "execution_count": 8,
   "metadata": {
    "execution": {
     "iopub.execute_input": "2020-09-29T12:37:12.930930Z",
     "iopub.status.busy": "2020-09-29T12:37:12.930366Z",
     "iopub.status.idle": "2020-09-29T12:37:18.594422Z",
     "shell.execute_reply": "2020-09-29T12:37:18.593851Z"
    },
    "papermill": {
     "duration": 5.680724,
     "end_time": "2020-09-29T12:37:18.594538",
     "exception": false,
     "start_time": "2020-09-29T12:37:12.913814",
     "status": "completed"
    },
    "tags": []
   },
   "outputs": [
    {
     "name": "stdout",
     "output_type": "stream",
     "text": [
      "DAPA path: /oapi/collections/S2L2A/dapa/value/position?point=11.49,48.05&time=2018-04-01T00:00:00Z/2018-07-01T00:00:00Z&fields=NDVI=(B04-B08)/(B04%2BB08)&aggregate=min,max,avg\n",
      "Status code: 200\n"
     ]
    }
   ],
   "source": [
    "params_str = \"&\".join(\"%s=%s\" % (k, v) for k,v in params.items())\n",
    "r = requests.get(url, params=params_str)\n",
    "\n",
    "print('DAPA path: {}'.format(r.url.replace(service_url, '')))\n",
    "print('Status code: {}'.format(r.status_code))"
   ]
  },
  {
   "cell_type": "markdown",
   "metadata": {
    "papermill": {
     "duration": 0.011208,
     "end_time": "2020-09-29T12:37:18.617042",
     "exception": false,
     "start_time": "2020-09-29T12:37:18.605834",
     "status": "completed"
    },
    "tags": []
   },
   "source": [
    "### Show content (one value for each aggregation method)\n",
    "The response of this request returns plain text with values splitted by comma. The order of the values relates to the order of the fields specified in the `fields` parameter in combination with the order of the `aggregation` functions. Additional output formats (e.g., CSV with headers included) will be integrated within the testbed activtiy. "
   ]
  },
  {
   "cell_type": "code",
   "execution_count": 9,
   "metadata": {
    "execution": {
     "iopub.execute_input": "2020-09-29T12:37:18.644142Z",
     "iopub.status.busy": "2020-09-29T12:37:18.643532Z",
     "iopub.status.idle": "2020-09-29T12:37:18.646384Z",
     "shell.execute_reply": "2020-09-29T12:37:18.645861Z"
    },
    "papermill": {
     "duration": 0.017534,
     "end_time": "2020-09-29T12:37:18.646509",
     "exception": false,
     "start_time": "2020-09-29T12:37:18.628975",
     "status": "completed"
    },
    "tags": []
   },
   "outputs": [
    {
     "data": {
      "text/plain": [
       "'-0.8713367,0.039432675,-0.4004872'"
      ]
     },
     "execution_count": 9,
     "metadata": {},
     "output_type": "execute_result"
    }
   ],
   "source": [
    "values = r.text\n",
    "values"
   ]
  },
  {
   "cell_type": "code",
   "execution_count": 10,
   "metadata": {
    "execution": {
     "iopub.execute_input": "2020-09-29T12:37:18.674958Z",
     "iopub.status.busy": "2020-09-29T12:37:18.674357Z",
     "iopub.status.idle": "2020-09-29T12:37:18.677178Z",
     "shell.execute_reply": "2020-09-29T12:37:18.676701Z"
    },
    "papermill": {
     "duration": 0.018744,
     "end_time": "2020-09-29T12:37:18.677282",
     "exception": false,
     "start_time": "2020-09-29T12:37:18.658538",
     "status": "completed"
    },
    "tags": []
   },
   "outputs": [
    {
     "name": "stdout",
     "output_type": "stream",
     "text": [
      "min: -0.8713367\n",
      "max: 0.039432675\n",
      "avg: -0.4004872\n"
     ]
    }
   ],
   "source": [
    "print('%s: %s' % (params['aggregate'].split(',')[0], values.split(',')[0]))\n",
    "print('%s: %s' % (params['aggregate'].split(',')[1], values.split(',')[1]))\n",
    "print('%s: %s' % (params['aggregate'].split(',')[2], values.split(',')[2]))"
   ]
  }
 ],
 "metadata": {
  "kernelspec": {
   "display_name": "EDC 0.19.6 (Python3)",
   "language": "python",
   "name": "edc"
  },
  "language_info": {
   "codemirror_mode": {
    "name": "ipython",
    "version": 3
   },
   "file_extension": ".py",
   "mimetype": "text/x-python",
   "name": "python",
   "nbconvert_exporter": "python",
   "pygments_lexer": "ipython3",
   "version": "3.7.8"
  },
  "papermill": {
   "duration": 8.33996,
   "end_time": "2020-09-29T12:37:19.094976",
   "environment_variables": {},
   "exception": null,
   "input_path": "/tmp/tmpr7kdw2kk",
   "output_path": "/tmp/cur_notebook.ipynb",
   "parameters": {},
   "start_time": "2020-09-29T12:37:10.755016",
   "version": "2.1.2"
  },
  "properties": {
   "authors": [
    {
     "id": "47919774-57f5-4b2d-9f6c-570b91e23604",
     "name": "jonas.eberle@dlr.de"
    }
   ],
   "description": "Value extraction based on DAPA experimental interface",
   "id": "95e1bd19-f57f-491f-afb2-1b10fb2efed1",
   "license": null,
   "name": "DAPA Tutorial #4: Value - Sentinel-2 - OGC Testbed 16",
   "requirements": [],
   "tags": [
    "DAPA"
   ],
   "tosAgree": true,
   "type": "Jupyter Notebook",
   "version": "0.2"
  },
  "widgets": {
   "application/vnd.jupyter.widget-state+json": {
    "state": {
     "3197d0bc2d924efe96301fc20d446462": {
      "model_module": "jupyter-leaflet",
      "model_module_version": "^0.13.2",
      "model_name": "LeafletMarkerModel",
      "state": {
       "_model_module": "jupyter-leaflet",
       "_model_module_version": "^0.13.2",
       "_model_name": "LeafletMarkerModel",
       "_view_count": null,
       "_view_module": "jupyter-leaflet",
       "_view_module_version": "^0.13.2",
       "_view_name": "LeafletMarkerView",
       "alt": "",
       "base": false,
       "bottom": false,
       "draggable": false,
       "icon": null,
       "keyboard": true,
       "location": [
        48.05,
        11.49
       ],
       "name": "",
       "opacity": 1.0,
       "options": [
        "alt",
        "draggable",
        "keyboard",
        "rise_offset",
        "rise_on_hover",
        "rotation_angle",
        "rotation_origin",
        "title",
        "z_index_offset"
       ],
       "popup": null,
       "popup_max_height": null,
       "popup_max_width": 300,
       "popup_min_width": 50,
       "rise_offset": 250,
       "rise_on_hover": false,
       "rotation_angle": 0.0,
       "rotation_origin": "",
       "title": "",
       "visible": true,
       "z_index_offset": 0
      }
     },
     "36147bd840b64510a8bf00871c97a04f": {
      "model_module": "jupyter-leaflet",
      "model_module_version": "^0.13.2",
      "model_name": "LeafletMapStyleModel",
      "state": {
       "_model_module": "jupyter-leaflet",
       "_model_module_version": "^0.13.2",
       "_model_name": "LeafletMapStyleModel",
       "_view_count": null,
       "_view_module": "@jupyter-widgets/base",
       "_view_module_version": "1.2.0",
       "_view_name": "StyleView",
       "cursor": "move"
      }
     },
     "4a6dccccc52a4083859841ac7101195c": {
      "model_module": "jupyter-leaflet",
      "model_module_version": "^0.13.2",
      "model_name": "LeafletZoomControlModel",
      "state": {
       "_model_module": "jupyter-leaflet",
       "_model_module_version": "^0.13.2",
       "_model_name": "LeafletZoomControlModel",
       "_view_count": null,
       "_view_module": "jupyter-leaflet",
       "_view_module_version": "^0.13.2",
       "_view_name": "LeafletZoomControlView",
       "options": [
        "position",
        "zoom_in_text",
        "zoom_in_title",
        "zoom_out_text",
        "zoom_out_title"
       ],
       "position": "topleft",
       "zoom_in_text": "+",
       "zoom_in_title": "Zoom in",
       "zoom_out_text": "-",
       "zoom_out_title": "Zoom out"
      }
     },
     "52e37c93426b462da5e4834feef529b2": {
      "model_module": "jupyter-leaflet",
      "model_module_version": "^0.13.2",
      "model_name": "LeafletAttributionControlModel",
      "state": {
       "_model_module": "jupyter-leaflet",
       "_model_module_version": "^0.13.2",
       "_model_name": "LeafletAttributionControlModel",
       "_view_count": null,
       "_view_module": "jupyter-leaflet",
       "_view_module_version": "^0.13.2",
       "_view_name": "LeafletAttributionControlView",
       "options": [
        "position",
        "prefix"
       ],
       "position": "bottomright",
       "prefix": "ipyleaflet"
      }
     },
     "5c604a0be96f4c7691b9717b3b262473": {
      "model_module": "@jupyter-widgets/base",
      "model_module_version": "1.2.0",
      "model_name": "LayoutModel",
      "state": {
       "_model_module": "@jupyter-widgets/base",
       "_model_module_version": "1.2.0",
       "_model_name": "LayoutModel",
       "_view_count": null,
       "_view_module": "@jupyter-widgets/base",
       "_view_module_version": "1.2.0",
       "_view_name": "LayoutView",
       "align_content": null,
       "align_items": null,
       "align_self": null,
       "border": null,
       "bottom": null,
       "display": null,
       "flex": null,
       "flex_flow": null,
       "grid_area": null,
       "grid_auto_columns": null,
       "grid_auto_flow": null,
       "grid_auto_rows": null,
       "grid_column": null,
       "grid_gap": null,
       "grid_row": null,
       "grid_template_areas": null,
       "grid_template_columns": null,
       "grid_template_rows": null,
       "height": null,
       "justify_content": null,
       "justify_items": null,
       "left": null,
       "margin": null,
       "max_height": null,
       "max_width": null,
       "min_height": null,
       "min_width": null,
       "object_fit": null,
       "object_position": null,
       "order": null,
       "overflow": null,
       "overflow_x": null,
       "overflow_y": null,
       "padding": null,
       "right": null,
       "top": null,
       "visibility": null,
       "width": null
      }
     },
     "679731d6dbd44372ad02cad6807dc44d": {
      "model_module": "jupyter-leaflet",
      "model_module_version": "^0.13.2",
      "model_name": "LeafletMapStyleModel",
      "state": {
       "_model_module": "jupyter-leaflet",
       "_model_module_version": "^0.13.2",
       "_model_name": "LeafletMapStyleModel",
       "_view_count": null,
       "_view_module": "@jupyter-widgets/base",
       "_view_module_version": "1.2.0",
       "_view_name": "StyleView",
       "cursor": "grab"
      }
     },
     "88a22614a27d4126aa999c00547ae390": {
      "model_module": "jupyter-leaflet",
      "model_module_version": "^0.13.2",
      "model_name": "LeafletMapModel",
      "state": {
       "_dom_classes": [],
       "_model_module": "jupyter-leaflet",
       "_model_module_version": "^0.13.2",
       "_model_name": "LeafletMapModel",
       "_view_count": null,
       "_view_module": "jupyter-leaflet",
       "_view_module_version": "^0.13.2",
       "_view_name": "LeafletMapView",
       "bottom": 0.0,
       "bounce_at_zoom_limits": true,
       "box_zoom": true,
       "center": [
        48.05,
        11.49
       ],
       "close_popup_on_click": true,
       "controls": [
        "IPY_MODEL_4a6dccccc52a4083859841ac7101195c",
        "IPY_MODEL_52e37c93426b462da5e4834feef529b2"
       ],
       "crs": {
        "custom": false,
        "name": "EPSG3857"
       },
       "default_style": "IPY_MODEL_c4b73ca2e2a1423bac195d730ae6fac0",
       "double_click_zoom": true,
       "dragging": true,
       "dragging_style": "IPY_MODEL_36147bd840b64510a8bf00871c97a04f",
       "east": 0.0,
       "fullscreen": false,
       "inertia": true,
       "inertia_deceleration": 3000,
       "inertia_max_speed": 1500,
       "interpolation": "bilinear",
       "keyboard": true,
       "keyboard_pan_offset": 80,
       "keyboard_zoom_offset": 1,
       "layers": [
        "IPY_MODEL_96a9cfb8ff9e4e978e767910f4c87b71",
        "IPY_MODEL_3197d0bc2d924efe96301fc20d446462"
       ],
       "layout": "IPY_MODEL_5c604a0be96f4c7691b9717b3b262473",
       "left": 9007199254740991.0,
       "max_zoom": 18.0,
       "min_zoom": 1.0,
       "modisdate": "yesterday",
       "north": 0.0,
       "options": [
        "bounce_at_zoom_limits",
        "box_zoom",
        "center",
        "close_popup_on_click",
        "double_click_zoom",
        "dragging",
        "fullscreen",
        "inertia",
        "inertia_deceleration",
        "inertia_max_speed",
        "interpolation",
        "keyboard",
        "keyboard_pan_offset",
        "keyboard_zoom_offset",
        "max_zoom",
        "min_zoom",
        "scroll_wheel_zoom",
        "tap",
        "tap_tolerance",
        "touch_zoom",
        "world_copy_jump",
        "zoom",
        "zoom_animation_threshold",
        "zoom_delta",
        "zoom_snap",
        "zoom_start"
       ],
       "right": 0.0,
       "scroll_wheel_zoom": false,
       "south": 0.0,
       "style": "IPY_MODEL_679731d6dbd44372ad02cad6807dc44d",
       "tap": true,
       "tap_tolerance": 15,
       "top": 9007199254740991.0,
       "touch_zoom": true,
       "west": 0.0,
       "window_url": "",
       "world_copy_jump": false,
       "zoom": 10.0,
       "zoom_animation_threshold": 4,
       "zoom_delta": 1.0,
       "zoom_snap": 1.0,
       "zoom_start": 12.0
      }
     },
     "96a9cfb8ff9e4e978e767910f4c87b71": {
      "model_module": "jupyter-leaflet",
      "model_module_version": "^0.13.2",
      "model_name": "LeafletTileLayerModel",
      "state": {
       "_model_module": "jupyter-leaflet",
       "_model_module_version": "^0.13.2",
       "_model_name": "LeafletTileLayerModel",
       "_view_count": null,
       "_view_module": "jupyter-leaflet",
       "_view_module_version": "^0.13.2",
       "_view_name": "LeafletTileLayerView",
       "attribution": "Map data (c) <a href=\"https://openstreetmap.org\">OpenStreetMap</a> contributors",
       "base": true,
       "bottom": true,
       "detect_retina": false,
       "loading": false,
       "max_native_zoom": 18,
       "max_zoom": 19,
       "min_native_zoom": 0,
       "min_zoom": 1,
       "name": "OpenStreetMap.Mapnik",
       "no_wrap": false,
       "opacity": 1.0,
       "options": [
        "attribution",
        "detect_retina",
        "max_native_zoom",
        "max_zoom",
        "min_native_zoom",
        "min_zoom",
        "no_wrap",
        "tile_size",
        "tms"
       ],
       "popup": null,
       "popup_max_height": null,
       "popup_max_width": 300,
       "popup_min_width": 50,
       "show_loading": false,
       "tile_size": 256,
       "tms": false,
       "url": "https://{s}.tile.openstreetmap.org/{z}/{x}/{y}.png",
       "visible": true
      }
     },
     "c4b73ca2e2a1423bac195d730ae6fac0": {
      "model_module": "jupyter-leaflet",
      "model_module_version": "^0.13.2",
      "model_name": "LeafletMapStyleModel",
      "state": {
       "_model_module": "jupyter-leaflet",
       "_model_module_version": "^0.13.2",
       "_model_name": "LeafletMapStyleModel",
       "_view_count": null,
       "_view_module": "@jupyter-widgets/base",
       "_view_module_version": "1.2.0",
       "_view_name": "StyleView",
       "cursor": "grab"
      }
     }
    },
    "version_major": 2,
    "version_minor": 0
   }
  }
 },
 "nbformat": 4,
 "nbformat_minor": 4
}