{
 "cells": [
  {
   "cell_type": "markdown",
   "id": "6f0419d8",
   "metadata": {
    "tags": [
     "papermill-error-cell-tag"
    ]
   },
   "source": [
    "<span style=\"color:red; font-family:Helvetica Neue, Helvetica, Arial, sans-serif; font-size:2em;\">An Exception was encountered at '<a href=\"#papermill-error-cell\">In [4]</a>'.</span>"
   ]
  },
  {
   "cell_type": "code",
   "execution_count": 1,
   "id": "2f2e24c4",
   "metadata": {
    "execution": {
     "iopub.execute_input": "2022-06-28T12:15:35.720919Z",
     "iopub.status.busy": "2022-06-28T12:15:35.720208Z",
     "iopub.status.idle": "2022-06-28T12:15:35.798816Z",
     "shell.execute_reply": "2022-06-28T12:15:35.798226Z"
    },
    "papermill": {
     "duration": 0.218057,
     "end_time": "2022-06-28T12:15:35.800696",
     "exception": false,
     "start_time": "2022-06-28T12:15:35.582639",
     "status": "completed"
    },
    "tags": []
   },
   "outputs": [
    {
     "data": {
      "text/html": [
       "<script type=\"text/javascript\">\n",
       "        function toggle(id) {\n",
       "            el = document.getElementById(id);\n",
       "            el.style.display = el.style.display === \"none\" ? \"block\" : \"none\";\n",
       "        }\n",
       "    </script>"
      ],
      "text/plain": [
       "<IPython.core.display.HTML object>"
      ]
     },
     "metadata": {},
     "output_type": "display_data"
    },
    {
     "data": {
      "text/html": [
       "This notebook is compatible with this base image version (user-2022.02)."
      ],
      "text/plain": [
       "<IPython.core.display.HTML object>"
      ]
     },
     "metadata": {},
     "output_type": "display_data"
    },
    {
     "data": {
      "text/markdown": [
       "\n",
       "\n",
       "---------\n",
       "\n",
       "The following environment variables are available:\n",
       "\n",
       "* `SH_CLIENT_ID`, `SH_INSTANCE_ID`, `SH_CLIENT_NAME`, `SH_CLIENT_SECRET`\n"
      ],
      "text/plain": [
       "<IPython.core.display.Markdown object>"
      ]
     },
     "metadata": {},
     "output_type": "display_data"
    }
   ],
   "source": [
    "from edc import check_compatibility\n",
    "check_compatibility(\"user-2022.02\", dependencies=[\"SH\"])"
   ]
  },
  {
   "cell_type": "markdown",
   "id": "451675a0-3257-4655-8ecc-90357656783f",
   "metadata": {
    "papermill": {
     "duration": 0.154035,
     "end_time": "2022-06-28T12:15:36.109579",
     "exception": false,
     "start_time": "2022-06-28T12:15:35.955544",
     "status": "completed"
    },
    "tags": []
   },
   "source": [
    "![Banner](https://www.sentinel-hub.com/develop/community/contest/resources/img/contest2_image_collection.jpg)"
   ]
  },
  {
   "cell_type": "markdown",
   "id": "regulated-liberal",
   "metadata": {
    "papermill": {
     "duration": 0.137427,
     "end_time": "2022-06-28T12:15:36.401677",
     "exception": false,
     "start_time": "2022-06-28T12:15:36.264250",
     "status": "completed"
    },
    "tags": []
   },
   "source": [
    "# Custom Script Contest – Urban Growth in Africa\n",
    "---\n",
    "Prepared by: _William Ray, Maxim Lamare, and Max Kampen; Sentinel Hub._\n",
    "\n",
    "**We are pleased to present the next special edition of the Sentinel Hub Custom Script Contest – [Urban Growth in Africa](https://www.sentinel-hub.com/develop/community/contest/#urban-growth-in-africa) – with a focus on observing change detection and growth of urban areas. The Contest started on 3rd May 2021.**\n",
    "\n",
    "## Getting started with data\n",
    "\n",
    "In this demonstration Jupyter Notebook, steps to access all the multi-temporal and multi-resolution data available for the contest will be detailed, along with basic processing examples."
   ]
  },
  {
   "cell_type": "markdown",
   "id": "narrow-money",
   "metadata": {
    "papermill": {
     "duration": 0.132207,
     "end_time": "2022-06-28T12:15:36.681598",
     "exception": false,
     "start_time": "2022-06-28T12:15:36.549391",
     "status": "completed"
    },
    "tags": []
   },
   "source": [
    "## Available datasets\n",
    "\n",
    "Data from the following satellite products are available for this contest. To jump directly to the section of interest, just click on one of the following products:\n",
    "\n",
    "- Sentinel-1 [CARD4L](#Sentinel-1-CARD4L)\n",
    "\n",
    "- Sentinel-1 [GRD](#Sentinel-1-GRD)\n",
    "\n",
    "- Sentinel-2 [L1C](#Sentinel-2-L1C) & [L2A](#Sentinel-2-L2A)\n",
    "\n",
    "- Landsat-8 [Collection 2](#Landsat-8-Collection-2) Level 1 & 2\n",
    "\n",
    "- Airbus [SPOT 6/7](#AIRBUS-SPOT-6/7)\n",
    "\n",
    "- Airbus [Pléiades](#AIRBUS-Pleiades)\n",
    "\n",
    "- Planet [PlanetScope](#Planet-PlanetScope)\n",
    "\n",
    "- Maxar [Worldview & GeoEye](#Maxar-WorldView-/-GeoEye)"
   ]
  },
  {
   "cell_type": "markdown",
   "id": "heard-matthew",
   "metadata": {
    "papermill": {
     "duration": 0.137305,
     "end_time": "2022-06-28T12:15:36.953293",
     "exception": false,
     "start_time": "2022-06-28T12:15:36.815988",
     "status": "completed"
    },
    "tags": []
   },
   "source": [
    "## Configuration\n",
    "\n",
    "Before accessing the data, we will start by importing the necessary Python libraries (already configured in your EDC workspace), and generate credentials automatically to access the services."
   ]
  },
  {
   "cell_type": "code",
   "execution_count": 2,
   "id": "overall-venice",
   "metadata": {
    "execution": {
     "iopub.execute_input": "2022-06-28T12:15:37.216840Z",
     "iopub.status.busy": "2022-06-28T12:15:37.216123Z",
     "iopub.status.idle": "2022-06-28T12:15:41.611832Z",
     "shell.execute_reply": "2022-06-28T12:15:41.610880Z"
    },
    "papermill": {
     "duration": 4.531064,
     "end_time": "2022-06-28T12:15:41.614879",
     "exception": false,
     "start_time": "2022-06-28T12:15:37.083815",
     "status": "completed"
    },
    "tags": []
   },
   "outputs": [],
   "source": [
    "# EDC libraries\n",
    "from edc import setup_environment_variables\n",
    "from xcube_sh.config import CubeConfig\n",
    "from xcube_sh.cube import open_cube\n",
    "from xcube_sh.sentinelhub import SentinelHub\n",
    "from xcube.core.geom import mask_dataset_by_geometry\n",
    "\n",
    "# Sentinel Hub\n",
    "from sentinelhub import BBox, SentinelHubRequest, bbox_to_dimensions, DataCollection, MimeType, SHConfig, geometry\n",
    "\n",
    "# Utilities\n",
    "import IPython.display\n",
    "from os import environ\n",
    "import matplotlib.pyplot as plt\n",
    "import datetime as dt\n",
    "\n",
    "# Numerical computation\n",
    "import xarray as xr\n",
    "import numpy as np\n",
    "import scipy.ndimage as ndi"
   ]
  },
  {
   "cell_type": "markdown",
   "id": "secret-spiritual",
   "metadata": {
    "papermill": {
     "duration": 0.122248,
     "end_time": "2022-06-28T12:15:41.876098",
     "exception": false,
     "start_time": "2022-06-28T12:15:41.753850",
     "status": "completed"
    },
    "tags": []
   },
   "source": [
    "\n",
    "### BYOC access points\n",
    "\n",
    "Sentinel-1 CARD4L and the Very High Resolution Commercial collections are provided as pre-processed [BYOC](https://docs.sentinel-hub.com/api/latest/data/byoc/#accessing-data) collections. These collections are accessible via a `collectionID` that will be provided to participants after the registration process.\n",
    "\n",
    "To be used in this Jupyter Notebook the `collectionID`s need to be set in the `custom.env` file. You can check if the variables are set by executing the next code cell.\n",
    "\n",
    "If the following env variables are not set, please create a text file named `custom.env` in your home directory with the following input:\n",
    "\n",
    "```\n",
    "pleiades_collection = \"<collectionIDstring>\"\n",
    "s1grd_collection = \"<collectionIDstring>\"\n",
    "spot_collection = \"<collectionIDstring>\"\n",
    "planet_collection = \"<collectionIDstring>\"\n",
    "maxar_collection = \"<collectionIDstring>\"\n",
    "```\n",
    "\n",
    "In the text file, the `<collectionIDstring>` should be replaced by the `collectionID` of the BYOC dataset that will be provided to you. "
   ]
  },
  {
   "cell_type": "markdown",
   "id": "coral-emission",
   "metadata": {
    "papermill": {
     "duration": 0.123703,
     "end_time": "2022-06-28T12:15:42.123916",
     "exception": false,
     "start_time": "2022-06-28T12:15:42.000213",
     "status": "completed"
    },
    "tags": []
   },
   "source": [
    "### Credentials generation\n",
    "\n",
    "The credentials for Sentinel Hub services are automatically set by the Euro Data Cube libraries in the following cell."
   ]
  },
  {
   "cell_type": "code",
   "execution_count": 3,
   "id": "earlier-walter",
   "metadata": {
    "execution": {
     "iopub.execute_input": "2022-06-28T12:15:42.372257Z",
     "iopub.status.busy": "2022-06-28T12:15:42.371560Z",
     "iopub.status.idle": "2022-06-28T12:15:42.380228Z",
     "shell.execute_reply": "2022-06-28T12:15:42.379613Z"
    },
    "papermill": {
     "duration": 0.130018,
     "end_time": "2022-06-28T12:15:42.382135",
     "exception": false,
     "start_time": "2022-06-28T12:15:42.252117",
     "status": "completed"
    },
    "tags": []
   },
   "outputs": [
    {
     "data": {
      "text/markdown": [
       "API credentials have automatically been injected for your active subscriptions.  \n",
       "The following environment variables are now available:\n",
       "\n",
       "The following additional environment variables have been loaded from `~/custom.env`:\n",
       "* `AWS_BUCKET`\n",
       "* `DAPA_URL`\n",
       "* `DB_HOST`, `DB_NAME`, `DB_PASSWORD`, `DB_USER`\n",
       "* `OGC_EDC_URL`\n",
       "* `REFERENCE_DATA`\n"
      ],
      "text/plain": [
       "<IPython.core.display.Markdown object>"
      ]
     },
     "metadata": {},
     "output_type": "display_data"
    }
   ],
   "source": [
    "# Fetch credentials as environement variables\n",
    "setup_environment_variables()\n",
    "\n",
    "# Pass Sentinel Hub credentials to dictionnary\n",
    "sh_credentials = dict(client_id=environ[\"SH_CLIENT_ID\"],\n",
    "                      client_secret=environ[\"SH_CLIENT_SECRET\"])"
   ]
  },
  {
   "cell_type": "markdown",
   "id": "899f90b0",
   "metadata": {
    "tags": [
     "papermill-error-cell-tag"
    ]
   },
   "source": [
    "<span id=\"papermill-error-cell\" style=\"color:red; font-family:Helvetica Neue, Helvetica, Arial, sans-serif; font-size:2em;\">Execution using papermill encountered an exception here and stopped:</span>"
   ]
  },
  {
   "cell_type": "code",
   "execution_count": 4,
   "id": "qualified-settlement",
   "metadata": {
    "execution": {
     "iopub.execute_input": "2022-06-28T12:15:42.637460Z",
     "iopub.status.busy": "2022-06-28T12:15:42.636911Z",
     "iopub.status.idle": "2022-06-28T12:15:43.455975Z",
     "shell.execute_reply": "2022-06-28T12:15:43.454837Z"
    },
    "papermill": {
     "duration": 0.944143,
     "end_time": "2022-06-28T12:15:43.457769",
     "exception": true,
     "start_time": "2022-06-28T12:15:42.513626",
     "status": "failed"
    },
    "tags": []
   },
   "outputs": [
    {
     "ename": "KeyError",
     "evalue": "'pleiades_collection'",
     "output_type": "error",
     "traceback": [
      "\u001b[0;31m---------------------------------------------------------------------------\u001b[0m",
      "\u001b[0;31mKeyError\u001b[0m                                  Traceback (most recent call last)",
      "Input \u001b[0;32mIn [4]\u001b[0m, in \u001b[0;36m<module>\u001b[0;34m\u001b[0m\n\u001b[1;32m      1\u001b[0m \u001b[38;5;66;03m# Assign BYOC env variables to variables\u001b[39;00m\n\u001b[0;32m----> 2\u001b[0m pleiades_collection \u001b[38;5;241m=\u001b[39m \u001b[43menviron\u001b[49m\u001b[43m[\u001b[49m\u001b[38;5;124;43m\"\u001b[39;49m\u001b[38;5;124;43mpleiades_collection\u001b[39;49m\u001b[38;5;124;43m\"\u001b[39;49m\u001b[43m]\u001b[49m\n\u001b[1;32m      3\u001b[0m s1grd_collection \u001b[38;5;241m=\u001b[39m environ[\u001b[38;5;124m\"\u001b[39m\u001b[38;5;124ms1grd_collection\u001b[39m\u001b[38;5;124m\"\u001b[39m]\n\u001b[1;32m      4\u001b[0m spot_collection \u001b[38;5;241m=\u001b[39m environ[\u001b[38;5;124m\"\u001b[39m\u001b[38;5;124mspot_collection\u001b[39m\u001b[38;5;124m\"\u001b[39m]\n",
      "File \u001b[0;32m/opt/conda/envs/eurodatacube-2022.02/lib/python3.8/os.py:675\u001b[0m, in \u001b[0;36m_Environ.__getitem__\u001b[0;34m(self, key)\u001b[0m\n\u001b[1;32m    672\u001b[0m     value \u001b[38;5;241m=\u001b[39m \u001b[38;5;28mself\u001b[39m\u001b[38;5;241m.\u001b[39m_data[\u001b[38;5;28mself\u001b[39m\u001b[38;5;241m.\u001b[39mencodekey(key)]\n\u001b[1;32m    673\u001b[0m \u001b[38;5;28;01mexcept\u001b[39;00m \u001b[38;5;167;01mKeyError\u001b[39;00m:\n\u001b[1;32m    674\u001b[0m     \u001b[38;5;66;03m# raise KeyError with the original key value\u001b[39;00m\n\u001b[0;32m--> 675\u001b[0m     \u001b[38;5;28;01mraise\u001b[39;00m \u001b[38;5;167;01mKeyError\u001b[39;00m(key) \u001b[38;5;28;01mfrom\u001b[39;00m \u001b[38;5;28mNone\u001b[39m\n\u001b[1;32m    676\u001b[0m \u001b[38;5;28;01mreturn\u001b[39;00m \u001b[38;5;28mself\u001b[39m\u001b[38;5;241m.\u001b[39mdecodevalue(value)\n",
      "\u001b[0;31mKeyError\u001b[0m: 'pleiades_collection'"
     ]
    }
   ],
   "source": [
    "# Assign BYOC env variables to variables\n",
    "pleiades_collection = environ[\"pleiades_collection\"]\n",
    "s1grd_collection = environ[\"s1grd_collection\"]\n",
    "spot_collection = environ[\"spot_collection\"]\n",
    "planet_collection = environ[\"planet_collection\"]\n",
    "maxar_collection = environ[\"maxar_collection\"]"
   ]
  },
  {
   "cell_type": "markdown",
   "id": "outside-booth",
   "metadata": {
    "papermill": {
     "duration": null,
     "end_time": null,
     "exception": null,
     "start_time": null,
     "status": "pending"
    },
    "tags": []
   },
   "source": [
    "## Sentinel-1-CARD4L\n",
    "\n",
    "Sentinel-1 images are offered as CARD4L datasets, as well as being accessible as standard datasets (see following [section](#Sentinel-1-GRD)).\n",
    "\n",
    "**CARD4L** stands for \"CEOS Analysis Ready Data for Land\", and offers satellite data “processed to a minimum set of requirements and organized into a form that allows immediate analysis with a minimum of additional user effort and interoperability both through time and with other datasets” (https://ceos.org/ard/). \n",
    "\n",
    "**Mission information**\n",
    "\n",
    "The Sentinel-1 imagery is provided by two polar-orbiting satellites, operating day and night performing C-band synthetic aperture radar imaging, enabling them to acquire imagery regardless of the weather. More information about the sensor and its characteristics can be found on the [Sentinel Hub documentation page](https://docs.sentinel-hub.com/api/latest/data/sentinel-1-grd/).\n",
    "\n",
    "The bands available in the Sentinel-1 CARD4L product are the following:\n",
    "\n",
    "| Name | Description | Resolution |\n",
    "|-|-|-|\n",
    "| VH | VV polarisation | 20m |\n",
    "| VV | VH polarisation | 20m |\n",
    "| AREA | The normalized scattering area for each output pixel. | 20m |\n",
    "| MASK | Flags output pixels which are in or near radar shadow. | 20m |\n",
    "| ANGLE | The local incidence angle for each output pixel. | 20m |\n",
    "\n",
    "**Data availability**\n",
    "\n",
    "For practical reasons, the Sentinel-1 CARD4L datasets have been pre-processed and ingested as a [BYOC collection](https://docs.sentinel-hub.com/api/latest/data/byoc/#accessing-data).\n",
    "\n",
    "Data were ingested for the time-range: 2017-01-01 to 2021-04-15."
   ]
  },
  {
   "cell_type": "markdown",
   "id": "beginning-gender",
   "metadata": {
    "papermill": {
     "duration": null,
     "end_time": null,
     "exception": null,
     "start_time": null,
     "status": "pending"
    },
    "tags": []
   },
   "source": [
    "### Define area of interest\n",
    "\n",
    "In the following example, we will set our AOI (covering the Mbeubeuss pond, Dakar, Senegal) using a bounding box expressed as [min_x, min_y, max_x, max_y]. Here the coordinates are in [WGS 84](https://epsg.io/4326) (EPSG **4326**), with units in degrees."
   ]
  },
  {
   "cell_type": "code",
   "execution_count": null,
   "id": "after-picking",
   "metadata": {
    "papermill": {
     "duration": null,
     "end_time": null,
     "exception": null,
     "start_time": null,
     "status": "pending"
    },
    "tags": []
   },
   "outputs": [],
   "source": [
    "# Bbox\n",
    "dakar_large_bbox = [-17.336723, 14.792808, -17.288553, 14.823096]\n",
    "\n",
    "# Bbox EPSG number\n",
    "dakar_epsg = 4326"
   ]
  },
  {
   "cell_type": "code",
   "execution_count": null,
   "id": "concrete-addition",
   "metadata": {
    "papermill": {
     "duration": null,
     "end_time": null,
     "exception": null,
     "start_time": null,
     "status": "pending"
    },
    "tags": []
   },
   "outputs": [],
   "source": [
    "# Plot the geometry on a map\n",
    "IPython.display.GeoJSON(BBox(dakar_large_bbox, crs=dakar_epsg).get_geojson())"
   ]
  },
  {
   "cell_type": "markdown",
   "id": "technological-heading",
   "metadata": {
    "papermill": {
     "duration": null,
     "end_time": null,
     "exception": null,
     "start_time": null,
     "status": "pending"
    },
    "tags": []
   },
   "source": [
    "### Build xcube\n",
    "\n",
    "In the following cell we will specify the input parameters needed to build the `xcube` array. The following parameters are specified:\n",
    "\n",
    "- _dataset_name_: the Sentinel Hub identification of the dataset. Here we will call `CUSTOM` because Sentinel-1 CARD4L images are available as a BYOC collection.\n",
    "\n",
    "- _band_names_: the band names to be used in the xcube array. Here, we will call the VV and Incidence angle bands (`VV` and `ANGLE` respectively).\n",
    "\n",
    "- _bbox_: the bounding box that sets the extent of the AOI. Because we are using the default WGS84 coordinate system here, the CRS parameter doesn't need to be set.\n",
    "\n",
    "- _spatial_res_: the spatial resolution of the rasters contained in the xcube array. The spatial resolution is expressed in the units of the coordinate system used. Therefore, in this example, the spatial resolution is set in degrees. For an approximate pixel size of 20 meters, we set the resolution to 0.00018 degrees.\n",
    "\n",
    "- _time_range_: a list of two dates [start_date, end_date] forming a time period for which all acquisitions will be returned.\n",
    "\n",
    "- _time_period_: Necessary when requesting a BYOC collection. The Time period string denotes the temporal aggregation period to be used. Here `1d` means that if several images are available for 1 given date, they will be aggregated.\n",
    "\n",
    "- _collection_id_: the Sentinel Hub BYOC collection ID for Sentinel-1 CARD4L."
   ]
  },
  {
   "cell_type": "code",
   "execution_count": null,
   "id": "modified-reconstruction",
   "metadata": {
    "papermill": {
     "duration": null,
     "end_time": null,
     "exception": null,
     "start_time": null,
     "status": "pending"
    },
    "tags": []
   },
   "outputs": [],
   "source": [
    "# Setup xcube for S1-CARD4L\n",
    "cube_config = CubeConfig(dataset_name='CUSTOM',\n",
    "                         band_names=['VV', 'ANGLE'],\n",
    "                         bbox=dakar_large_bbox,\n",
    "                         spatial_res=0.00018,\n",
    "                         time_range=['2021-01-01', '2021-04-15'],\n",
    "                         time_period=\"1d\",\n",
    "                         collection_id=s1grd_collection)"
   ]
  },
  {
   "cell_type": "markdown",
   "id": "every-thanks",
   "metadata": {
    "papermill": {
     "duration": null,
     "end_time": null,
     "exception": null,
     "start_time": null,
     "status": "pending"
    },
    "tags": []
   },
   "source": [
    "### Open the xcube\n",
    "\n",
    "In the following cell we open the cube, then filter out the dates that do not contain any data (this is not performed automatically for BYOC datasets in the current version of `xcube`).\n",
    "\n",
    "_Note:_ Given the large number of acquisitions, this step takes around 1 minute 30."
   ]
  },
  {
   "cell_type": "code",
   "execution_count": null,
   "id": "addressed-crown",
   "metadata": {
    "papermill": {
     "duration": null,
     "end_time": null,
     "exception": null,
     "start_time": null,
     "status": "pending"
    },
    "tags": []
   },
   "outputs": [],
   "source": [
    "%%time\n",
    "# Open cube\n",
    "S1_cube = open_cube(cube_config, **sh_credentials)\n",
    "\n",
    "# Drop empty time slices\n",
    "S1_cube = S1_cube.dropna(dim=\"time\")"
   ]
  },
  {
   "cell_type": "markdown",
   "id": "improved-engineer",
   "metadata": {
    "papermill": {
     "duration": null,
     "end_time": null,
     "exception": null,
     "start_time": null,
     "status": "pending"
    },
    "tags": []
   },
   "source": [
    "### Explore the xcube\n",
    "\n",
    "We will first explore the variables and metadata contained in the `xcube` by printing its contents. You can explore the attributes by clicking on the buttons to the right (in the executed version)."
   ]
  },
  {
   "cell_type": "code",
   "execution_count": null,
   "id": "confident-murray",
   "metadata": {
    "papermill": {
     "duration": null,
     "end_time": null,
     "exception": null,
     "start_time": null,
     "status": "pending"
    },
    "tags": []
   },
   "outputs": [],
   "source": [
    "S1_cube"
   ]
  },
  {
   "cell_type": "markdown",
   "id": "neutral-blogger",
   "metadata": {
    "papermill": {
     "duration": null,
     "end_time": null,
     "exception": null,
     "start_time": null,
     "status": "pending"
    },
    "tags": []
   },
   "source": [
    "### Plot a timeslice from the xcube\n",
    "\n",
    "In a second step we will plot the `ANGLE` band (local incidence angle) for a time slice by specifying the desired date. If you are not sure of the exact acquisition date, you can fetch the closest time slice to a given date, as shown below.\n",
    "\n",
    "_Note_: The format of your date string can be a bit tricky. Here we are matching the format of the dates in the cube for the command to work without having to use `datetime`."
   ]
  },
  {
   "cell_type": "code",
   "execution_count": null,
   "id": "senior-acoustic",
   "metadata": {
    "papermill": {
     "duration": null,
     "end_time": null,
     "exception": null,
     "start_time": null,
     "status": "pending"
    },
    "tags": []
   },
   "outputs": [],
   "source": [
    "S1_cube.ANGLE.sel(time='2021-02-01T12:00:00.000000000', method='nearest').plot.imshow(figsize=(12,8), cmap=\"Greys_r\")\n",
    "plt.show()"
   ]
  },
  {
   "cell_type": "markdown",
   "id": "handed-peace",
   "metadata": {
    "papermill": {
     "duration": null,
     "end_time": null,
     "exception": null,
     "start_time": null,
     "status": "pending"
    },
    "tags": []
   },
   "source": [
    "### Extract a subset to work on a smaller region\n",
    "\n",
    "If you would like to work on a subset, e.g. because the region of interest is smaller than the specified bounding box, you can use a WKT polygon or Shapefile to mask the region of interest. Please note however that the WKT / shapefile must be in the same coordinate reference system as the existing `xcube`.\n",
    "\n",
    "Two methods of selection are possible:\n",
    "\n",
    "- By masking - this keeps only the data of the WKT Polygon or shapefile\n",
    "\n",
    "- By clipping - this creates a new bounding box, which ensures that the area of interest is within the subset but keeps the surrounding data.\n",
    "\n",
    "In this example, we will mask our cube, using the geometry of the Mbeubeuss dump specified in the cell below.\n",
    "\n",
    "_Note: http://geojson.io/ is a useful tool to extract geometries from a map._"
   ]
  },
  {
   "cell_type": "code",
   "execution_count": null,
   "id": "interpreted-yellow",
   "metadata": {
    "papermill": {
     "duration": null,
     "end_time": null,
     "exception": null,
     "start_time": null,
     "status": "pending"
    },
    "tags": []
   },
   "outputs": [],
   "source": [
    "mbeubeuss_dump_coordinates = {\n",
    "  \"type\": \"Polygon\",\n",
    "  \"coordinates\": [[[-17.321186, 14.799613], [-17.321068, 14.79856], [-17.320848, 14.798166], [-17.320107, 14.797798],\n",
    "                   [-17.319863, 14.797461], [-17.319952, 14.797059], [-17.320483, 14.796498], [-17.320354, 14.795941],\n",
    "                   [-17.319777, 14.795313], [-17.315692, 14.79981], [-17.314877, 14.799753], [-17.3139, 14.800282], [-17.312661, 14.800168],\n",
    "                   [-17.312505, 14.800422], [-17.311535, 14.800461], [-17.31044, 14.801169], [-17.310301, 14.802082], [-17.309753, 14.801926],\n",
    "                   [-17.308949, 14.802144], [-17.308542, 14.802476], [-17.308499, 14.802637], [-17.308402, 14.80273], [-17.308198, 14.802733],\n",
    "                   [-17.308064, 14.802792], [-17.307911, 14.802743], [-17.307823, 14.80286], [-17.307925, 14.802963], [-17.307833, 14.803306],\n",
    "                   [-17.307882, 14.803409], [-17.308316, 14.804696], [-17.308112, 14.804779],[-17.307898, 14.804862], [-17.307565, 14.805816],\n",
    "                   [-17.308038, 14.8065], [-17.308596, 14.806521], [-17.309154, 14.806729], [-17.309905, 14.806231], [-17.310742, 14.806314],\n",
    "                   [-17.311407, 14.806521], [-17.312051, 14.806272], [-17.312244, 14.805795], [-17.312953, 14.806065], [-17.313339, 14.8065],\n",
    "                   [-17.314412, 14.806853], [-17.314927, 14.806957], [-17.315291, 14.806832 ], [-17.315656,  14.806169], [-17.31645, 14.805691],\n",
    "                   [-17.316922, 14.804675], [-17.317394, 14.804654], [-17.318231,14.804322],[-17.31851,14.803077],\n",
    "                   [-17.318854, 14.802974], [-17.319304, 14.8026], [-17.319314,14.80204],\n",
    "                   [-17.319057, 14.801833], [-17.319218, 14.801522], [-17.319743, 14.801304], [-17.319914, 14.801122],\n",
    "                   [-17.320038, 14.800567], [-17.320612, 14.800422], [-17.321186, 14.799613]]]}"
   ]
  },
  {
   "cell_type": "code",
   "execution_count": null,
   "id": "published-location",
   "metadata": {
    "papermill": {
     "duration": null,
     "end_time": null,
     "exception": null,
     "start_time": null,
     "status": "pending"
    },
    "tags": []
   },
   "outputs": [],
   "source": [
    "# Mask the cube\n",
    "Mbeubeuss_dump = mask_dataset_by_geometry(S1_cube, geometry=mbeubeuss_dump_coordinates)"
   ]
  },
  {
   "cell_type": "markdown",
   "id": "incorrect-fairy",
   "metadata": {
    "papermill": {
     "duration": null,
     "end_time": null,
     "exception": null,
     "start_time": null,
     "status": "pending"
    },
    "tags": []
   },
   "source": [
    "### Plot the masked cube\n",
    "\n",
    "In the cell below, we will check the output of the previous operation by plotting the VV band for the first time slice `isel(time=0)`."
   ]
  },
  {
   "cell_type": "code",
   "execution_count": null,
   "id": "informal-silence",
   "metadata": {
    "papermill": {
     "duration": null,
     "end_time": null,
     "exception": null,
     "start_time": null,
     "status": "pending"
    },
    "tags": []
   },
   "outputs": [],
   "source": [
    "# Plot the masked cube\n",
    "Mbeubeuss_dump.VV.isel(time=0).plot.imshow(cmap='Greys', vmin=0, vmax=1, figsize=(10, 10))\n",
    "plt.show()"
   ]
  },
  {
   "cell_type": "markdown",
   "id": "absolute-island",
   "metadata": {
    "papermill": {
     "duration": null,
     "end_time": null,
     "exception": null,
     "start_time": null,
     "status": "pending"
    },
    "tags": []
   },
   "source": [
    "### VV change over time for a given area of interest\n",
    "\n",
    "In the following cells, the change in VV backscatter will be assessed (for demonstration purposes only) by showing the boxplots of the Mbeubeuss dump for 3 different dates.\n",
    "\n",
    "The following cell contains a function to convert the long timestamps from the `xcube` to a more readable format."
   ]
  },
  {
   "cell_type": "code",
   "execution_count": null,
   "id": "worse-eagle",
   "metadata": {
    "papermill": {
     "duration": null,
     "end_time": null,
     "exception": null,
     "start_time": null,
     "status": "pending"
    },
    "tags": []
   },
   "outputs": [],
   "source": [
    "def to_datetime(datestring):\n",
    "    \"\"\"Convert string to datetime.\n",
    "    Takes a date in the form of a string and returns a datetime object.\n",
    "    The string should be in the format YYYY-MM-DD.\n",
    "    \"\"\"\n",
    "    return dt.datetime.strptime(datestring, \"%Y-%m-%d\")    "
   ]
  },
  {
   "cell_type": "markdown",
   "id": "rental-affairs",
   "metadata": {
    "papermill": {
     "duration": null,
     "end_time": null,
     "exception": null,
     "start_time": null,
     "status": "pending"
    },
    "tags": []
   },
   "source": [
    "### Data preparation\n",
    "\n",
    "In the following cell, we will prepare the data for plotting in 3 steps:\n",
    "\n",
    "- we will extract the data from 3 acquisitions that are the closest to 1st January 2021, 1st February 2021 and 1st March 2021.\n",
    "- we remove the `nan` values from the arrays.\n",
    "- the timestamps are extracted and converted to a more readable format."
   ]
  },
  {
   "cell_type": "code",
   "execution_count": null,
   "id": "b8e075a4-0e84-46db-ada9-b4aaee5a7b0c",
   "metadata": {
    "papermill": {
     "duration": null,
     "end_time": null,
     "exception": null,
     "start_time": null,
     "status": "pending"
    },
    "tags": []
   },
   "outputs": [],
   "source": [
    "# Make a list of 3 different dates of interest.\n",
    "dates_of_interest = [to_datetime(\"2021-01-01\"), to_datetime(\"2021-01-01\"), to_datetime(\"2021-03-01\")]\n",
    "\n",
    "# Fetch a cube based on the dates\n",
    "Mbeubeuss_sub_dates = Mbeubeuss_dump.VV.sel(time=dates_of_interest, method=\"nearest\")\n",
    "\n",
    "# Convert to list for plotting\n",
    "boxplot_data = [Mbeubeuss_sub_dates.compute().data[0, :, :], Mbeubeuss_sub_dates.compute().data[1, :, :], Mbeubeuss_sub_dates.compute().data[2, :, :]]\n",
    "\n",
    "# Remove nan values from the data for plotting\n",
    "boxplot_data = [x[~np.isnan(x)] for x in boxplot_data]"
   ]
  },
  {
   "cell_type": "markdown",
   "id": "electoral-bread",
   "metadata": {
    "papermill": {
     "duration": null,
     "end_time": null,
     "exception": null,
     "start_time": null,
     "status": "pending"
    },
    "tags": []
   },
   "source": [
    "### Data plotting\n",
    "\n",
    "In the following cell, we will plot the VV backscatter distribution over the Mbeubeuss dump for 3 selected dates as [boxplots](https://towardsdatascience.com/understanding-boxplots-5e2df7bcbd51)."
   ]
  },
  {
   "cell_type": "code",
   "execution_count": null,
   "id": "editorial-interim",
   "metadata": {
    "papermill": {
     "duration": null,
     "end_time": null,
     "exception": null,
     "start_time": null,
     "status": "pending"
    },
    "tags": []
   },
   "outputs": [],
   "source": [
    "# Create figure\n",
    "fig, ax = plt.subplots(1, figsize=(12,8))\n",
    "\n",
    "# Plot boxplots\n",
    "ax.boxplot(boxplot_data)\n",
    "\n",
    "# Set ticks to times\n",
    "plt.xticks([1, 2, 3], Mbeubeuss_sub_dates.time.values.astype('datetime64[D]'))\n",
    "\n",
    "# Plot setup\n",
    "ax.set_ylabel(\"VV backscatter\")\n",
    "ax.set_ylim(0, 1)\n",
    "plt.suptitle(\"VV backscatter evolution for Mbeubeuss dump, 2021.\")\n",
    "plt.draw()\n",
    "plt.show()"
   ]
  },
  {
   "cell_type": "markdown",
   "id": "blocked-demonstration",
   "metadata": {
    "papermill": {
     "duration": null,
     "end_time": null,
     "exception": null,
     "start_time": null,
     "status": "pending"
    },
    "tags": []
   },
   "source": [
    "---"
   ]
  },
  {
   "cell_type": "markdown",
   "id": "indie-thumb",
   "metadata": {
    "papermill": {
     "duration": null,
     "end_time": null,
     "exception": null,
     "start_time": null,
     "status": "pending"
    },
    "tags": []
   },
   "source": [
    "## Sentinel-1 GRD\n",
    "\n",
    "**Mission information**\n",
    "\n",
    "The Sentinel-1 imagery is provided by two polar-orbiting satellites, operating day and night performing C-band synthetic aperture radar imaging, enabling them to acquire imagery regardless of the weather. Main applications are for monitoring sea ice, oil spills, marine winds, waves & currents, land-use change, land deformation among others, and to respond to emergencies such as floods and earthquakes.\n",
    "\n",
    "**S1 GRD**\n",
    "\n",
    "Sentinel Hub currently supports Sentinel-1 Level-1 GRD (Ground Range Detected) products only. For more information about the sensor's properties and the data available, you can visit the [Sentinel Hub documentation page](https://docs.sentinel-hub.com/api/latest/data/sentinel-1-grd/).\n",
    "\n",
    "**Data availability**\n",
    "\n",
    "February 2015 to today.\n",
    "\n",
    "### Define area of interest\n",
    "\n",
    "In the following example, we will set our AOI (covering a large part of Dakar, Senegal) using a bounding box expressed as [min_x, min_y, max_x, max_y]. Here the coordinates are in [WGS 84](https://epsg.io/4326) (EPSG **4326**), with units in degrees."
   ]
  },
  {
   "cell_type": "code",
   "execution_count": null,
   "id": "swedish-library",
   "metadata": {
    "papermill": {
     "duration": null,
     "end_time": null,
     "exception": null,
     "start_time": null,
     "status": "pending"
    },
    "tags": []
   },
   "outputs": [],
   "source": [
    "# Bbox\n",
    "dakar_bbox = [-17.546573, 14.645375, -17.392724, 14.783846]\n",
    "\n",
    "# Bbox EPSG\n",
    "dakar_epsg = 4326"
   ]
  },
  {
   "cell_type": "code",
   "execution_count": null,
   "id": "cordless-chess",
   "metadata": {
    "papermill": {
     "duration": null,
     "end_time": null,
     "exception": null,
     "start_time": null,
     "status": "pending"
    },
    "tags": []
   },
   "outputs": [],
   "source": [
    "# Plot the bounding box on a map\n",
    "IPython.display.GeoJSON(BBox(dakar_bbox,crs=dakar_epsg).get_geojson())"
   ]
  },
  {
   "cell_type": "markdown",
   "id": "serious-profile",
   "metadata": {
    "papermill": {
     "duration": null,
     "end_time": null,
     "exception": null,
     "start_time": null,
     "status": "pending"
    },
    "tags": []
   },
   "source": [
    "### Check Sentinel-1 GRD available bands\n",
    "\n",
    "Using EDC inbuilt functions that query Sentinel Hub services, we can easily list the available bands for a given dataset."
   ]
  },
  {
   "cell_type": "code",
   "execution_count": null,
   "id": "consistent-identification",
   "metadata": {
    "papermill": {
     "duration": null,
     "end_time": null,
     "exception": null,
     "start_time": null,
     "status": "pending"
    },
    "tags": []
   },
   "outputs": [],
   "source": [
    "# Create a Sentinel Hub class, using our Sentinel Hub credentials\n",
    "SH = SentinelHub(**sh_credentials)\n",
    "\n",
    "# List bands for S1-GRD\n",
    "SH.band_names('S1GRD')"
   ]
  },
  {
   "cell_type": "markdown",
   "id": "supported-imaging",
   "metadata": {
    "papermill": {
     "duration": null,
     "end_time": null,
     "exception": null,
     "start_time": null,
     "status": "pending"
    },
    "tags": []
   },
   "source": [
    "### Build an xcube\n",
    "\n",
    "In the following cell we will specify the input parameters needed to build an xcube array. The following parameters are specified:\n",
    "\n",
    "- _dataset_name_: the Sentinel Hub identification of the dataset. Here we will call `S1GRD` for Sentinel-1 GRD. All available dataset can be listed with `SH.dataset_names`\n",
    "\n",
    "- _band_names_: the band names to be used in the xcube array (see previous code cell). Here, we will call the VV, HH, VH and HV polarisation bands.\n",
    "\n",
    "- _bbox_: the bounding box that sets the extent of the AOI. Because we are using the default WGS84 coordinate system here, the CRS parameter doesn't need to be set.\n",
    "\n",
    "- _spatial_res_: the spatial resolution of the rasters contained in the xcube array. The spatial resolution is expressed in the units of the coordinate system used. Therefore, in this example, the spatial resolution is set in degrees. For an approximate pixel size of 10 meters, we set the resolution to 0.000089 degrees.\n",
    "\n",
    "- _time_range_: a list of two dates [start_date, end_date] forming a time period for which all acquisitions will be returned. Sentinel-1 GRD data is available from February 2015 onwards. In this example, we will fetch data for all of 2019.\n",
    "\n",
    "- _time_tolerance_: The tolerance used to identify whether a dataset should still be included within a time period. Here, `30M` corresponds to 30 minutes, thus avoiding duplicate datasets.\n",
    "\n",
    "_Note: the `return _coerce_scalar_to_timedelta_type(arg, unit=unit, errors=errors)` warning can be safely ignored._"
   ]
  },
  {
   "cell_type": "code",
   "execution_count": null,
   "id": "assigned-conjunction",
   "metadata": {
    "papermill": {
     "duration": null,
     "end_time": null,
     "exception": null,
     "start_time": null,
     "status": "pending"
    },
    "tags": []
   },
   "outputs": [],
   "source": [
    "# Setup xcube\n",
    "cube_config = CubeConfig(dataset_name='S1GRD',\n",
    "                         band_names=['VV', 'VH'],\n",
    "                         bbox=dakar_bbox,\n",
    "                         spatial_res=0.000089,\n",
    "                         time_range=['2019-01-01', '2019-12-31'],\n",
    "                         time_tolerance='30M')"
   ]
  },
  {
   "cell_type": "markdown",
   "id": "annual-prophet",
   "metadata": {
    "papermill": {
     "duration": null,
     "end_time": null,
     "exception": null,
     "start_time": null,
     "status": "pending"
    },
    "tags": []
   },
   "source": [
    "### Open the xcube\n",
    "\n",
    "In the following cell we open the cube and display it's contents. The automatically generated credentials obtained earlier in this Jupyter Notebook are specified as a parameter when opening the cube."
   ]
  },
  {
   "cell_type": "code",
   "execution_count": null,
   "id": "exceptional-inspection",
   "metadata": {
    "papermill": {
     "duration": null,
     "end_time": null,
     "exception": null,
     "start_time": null,
     "status": "pending"
    },
    "tags": []
   },
   "outputs": [],
   "source": [
    "# Open cube (on the fly)\n",
    "cube = open_cube(cube_config, **sh_credentials)\n",
    "\n",
    "# Display contents\n",
    "cube"
   ]
  },
  {
   "cell_type": "markdown",
   "id": "celtic-crime",
   "metadata": {
    "papermill": {
     "duration": null,
     "end_time": null,
     "exception": null,
     "start_time": null,
     "status": "pending"
    },
    "tags": []
   },
   "source": [
    "### Visualising Urban areas using SAR\n",
    "\n",
    "We are going to base the visualisation of the Sentinel-1 GRD data on this [custom script](https://custom-scripts.sentinel-hub.com/sentinel-1/urban_areas/) authored by Monja Šebela. Firstly, new variables need to be defined and generated. A specific date can then be called, and then stacked and visualised in a plot. \n",
    "\n",
    "Next, to produce the visualisation we need to define and generate Red, Green and Blue channels in the visualisation, calling the VH and VV bands in the cube and adapting them to highlight certain features for visualisation purposes. We do this by defining the new variable and attributing it a \"long_name\" and \"units\"."
   ]
  },
  {
   "cell_type": "code",
   "execution_count": null,
   "id": "verbal-validation",
   "metadata": {
    "papermill": {
     "duration": null,
     "end_time": null,
     "exception": null,
     "start_time": null,
     "status": "pending"
    },
    "tags": []
   },
   "outputs": [],
   "source": [
    "# Define the Red visualisation\n",
    "cube['Red'] = 5.5 * cube.VH\n",
    "cube['Red'].attrs['long_name']='Red'\n",
    "cube['Red'].attrs['units']='unitless'\n",
    "\n",
    "# Define the Green visualisation\n",
    "cube['Green'] = cube.VV\n",
    "cube['Green'].attrs['long_name']='Green'\n",
    "cube['Green'].attrs['units']='unitless'\n",
    "\n",
    "# Define the Blue visualisation\n",
    "cube['Blue'] = 8 * cube.VH\n",
    "cube['Blue'].attrs['long_name']='Blue'\n",
    "cube['Blue'].attrs['units']='unitless'"
   ]
  },
  {
   "cell_type": "markdown",
   "id": "demonstrated-stranger",
   "metadata": {
    "papermill": {
     "duration": null,
     "end_time": null,
     "exception": null,
     "start_time": null,
     "status": "pending"
    },
    "tags": []
   },
   "source": [
    "Secondly, we want to call the new variables that we have named as Red, Green and Blue and stack them into an array that we can then plot. In the example below, we are selecting the time slice closest to the time stamp of \"2019-05-23 10:00:00\". Lastly, we define the plot and visualise it.\n",
    "\n",
    "_Note_: The plotting is slow because until you use the data, xcube doesn't perform any computations. A nifty feature to save processing time! As it was the case for the previous data collection, please note that the `time` parameter has to match the format of that found in the xcube."
   ]
  },
  {
   "cell_type": "code",
   "execution_count": null,
   "id": "higher-intermediate",
   "metadata": {
    "papermill": {
     "duration": null,
     "end_time": null,
     "exception": null,
     "start_time": null,
     "status": "pending"
    },
    "tags": []
   },
   "outputs": [],
   "source": [
    "# Select the bands and stack them\n",
    "Green = cube.Green.sel(time='2019-05-23 10:00:00', method='nearest')\n",
    "Red = cube.Red.sel(time='2019-05-23 10:00:00', method='nearest')\n",
    "Blue = cube.Blue.sel(time='2019-05-23 10:00:00', method='nearest')\n",
    "\n",
    "# Stack the three arrays into an RGB image\n",
    "rgb = np.dstack((Green, Red, Blue))\n",
    "\n",
    "# Create plot\n",
    "fig, ax = plt.subplots(1, figsize=(12,8))\n",
    "ax.imshow(rgb)\n",
    "ax.set_title(f\"Visualisation using False color SAR to map urban areas: {str(cube.time.sel(time='2019-05-23 10:00:00', method='nearest').data).split('T')[0]}\")\n",
    "plt.show()"
   ]
  },
  {
   "cell_type": "markdown",
   "id": "brief-portfolio",
   "metadata": {
    "papermill": {
     "duration": null,
     "end_time": null,
     "exception": null,
     "start_time": null,
     "status": "pending"
    },
    "tags": []
   },
   "source": [
    "---"
   ]
  },
  {
   "cell_type": "markdown",
   "id": "adult-creator",
   "metadata": {
    "papermill": {
     "duration": null,
     "end_time": null,
     "exception": null,
     "start_time": null,
     "status": "pending"
    },
    "tags": []
   },
   "source": [
    "## Sentinel-2 L1C\n",
    "**Mission information**\n",
    "\n",
    "SENTINEL-2 is a European wide-swath, high-resolution, multi-spectral imaging mission. Its high-resolution optical images have many applications, including land monitoring, emergency response and security services assistance. The satellite's multispectral imager provides a versatile set of 13 spectral bands spanning from the visible and near infrared to the shortwave infrared.\n",
    "\n",
    "\n",
    "**Level 1C**\n",
    "\n",
    "Level 1C offers Top of the atmosphere (TOA) reflectance data. For more information about the sensor's properties and the data available, you can visit the [Sentinel Hub documentation page](https://docs.sentinel-hub.com/api/latest/data/sentinel-2-l1c/).\n",
    "\n",
    "**Data availability**\n",
    "\n",
    "June 2015 to today."
   ]
  },
  {
   "cell_type": "markdown",
   "id": "devoted-beatles",
   "metadata": {
    "papermill": {
     "duration": null,
     "end_time": null,
     "exception": null,
     "start_time": null,
     "status": "pending"
    },
    "tags": []
   },
   "source": [
    "### Define area of interest\n",
    "\n",
    "In the following example, we will set our AOI (covering a large part of Dakar, Senegal) using a bounding box expressed as [min_x, min_y, max_x, max_y]. Here the coordinates are in [WGS 84](https://epsg.io/4326) (EPSG **4326**), with units in degrees."
   ]
  },
  {
   "cell_type": "code",
   "execution_count": null,
   "id": "cubic-plumbing",
   "metadata": {
    "papermill": {
     "duration": null,
     "end_time": null,
     "exception": null,
     "start_time": null,
     "status": "pending"
    },
    "tags": []
   },
   "outputs": [],
   "source": [
    "# Bbox\n",
    "dakar_bbox = [-17.546573, 14.645375, -17.392724, 14.783846]\n",
    "\n",
    "# Bbox EPSG\n",
    "dakar_epsg = 4326"
   ]
  },
  {
   "cell_type": "code",
   "execution_count": null,
   "id": "consolidated-stockholm",
   "metadata": {
    "papermill": {
     "duration": null,
     "end_time": null,
     "exception": null,
     "start_time": null,
     "status": "pending"
    },
    "tags": []
   },
   "outputs": [],
   "source": [
    "# Plot the bounding box on a map\n",
    "IPython.display.GeoJSON(BBox(dakar_bbox,crs=dakar_epsg).get_geojson())"
   ]
  },
  {
   "cell_type": "markdown",
   "id": "indoor-greene",
   "metadata": {
    "papermill": {
     "duration": null,
     "end_time": null,
     "exception": null,
     "start_time": null,
     "status": "pending"
    },
    "tags": []
   },
   "source": [
    "### Check Sentinel-2 L1C available bands\n",
    "\n",
    "Using EDC inbuilt functions that query Sentinel Hub services, we can list the available bands for a given dataset."
   ]
  },
  {
   "cell_type": "code",
   "execution_count": null,
   "id": "pressing-transition",
   "metadata": {
    "papermill": {
     "duration": null,
     "end_time": null,
     "exception": null,
     "start_time": null,
     "status": "pending"
    },
    "tags": []
   },
   "outputs": [],
   "source": [
    "# Create a Sentinel Hub class\n",
    "SH = SentinelHub(**sh_credentials)\n",
    "\n",
    "# List bands for S2-L1C\n",
    "SH.band_names('S2L1C')"
   ]
  },
  {
   "cell_type": "markdown",
   "id": "expanded-electric",
   "metadata": {
    "papermill": {
     "duration": null,
     "end_time": null,
     "exception": null,
     "start_time": null,
     "status": "pending"
    },
    "tags": []
   },
   "source": [
    "### Build xcube\n",
    "\n",
    "In the following cell we will specify the input parameters needed to build an xcube array. The following parameters are specified:\n",
    "\n",
    "- _dataset_name_: the Sentinel Hub identification of the dataset. Here we will call `S2L1C` for Sentinel-2 Level 1C. All available datasets can be listed with `SH.dataset_names`\n",
    "\n",
    "- _band_names_: the band names to be used in the xcube array (see previous code cell). Here, we will call the Red and Near Infrared bands (B04 and B08 respectively).\n",
    "\n",
    "- _bbox_: the bounding box that sets the extent of the AOI. Because we are using the default WGS84 coordinate system here, the CRS parameter doesn't need to be set.\n",
    "\n",
    "- _spatial_res_: the spatial resolution of the rasters contained in the xcube array. The spatial resolution is expressed in the units of the coordinate system used. Therefore, in this example, the spatial resolution is set in degrees. For an approximate pixel size of 10 meters, we set the resolution to 0.000089 degrees.\n",
    "\n",
    "- _time_range_: a list of two dates [start_date, end_date] forming a time period for which all acquisitions will be returned. Sentinel-2 L1C data is available from November 2015 onwards. In this example, we will fetch data from June to August 2019.\n",
    "\n",
    "- _time_tolerance_: The tolerance used to identify whether a dataset should still be included within a time period. Here, `30M` corresponds to 30 minutes, thus avoiding duplicate datasets.\n",
    "\n",
    "_Note: the `return _coerce_scalar_to_timedelta_type(arg, unit=unit, errors=errors)` warning can be safely ignored._"
   ]
  },
  {
   "cell_type": "code",
   "execution_count": null,
   "id": "purple-sunrise",
   "metadata": {
    "papermill": {
     "duration": null,
     "end_time": null,
     "exception": null,
     "start_time": null,
     "status": "pending"
    },
    "tags": []
   },
   "outputs": [],
   "source": [
    "# Setup xcube\n",
    "cube_config = CubeConfig(dataset_name='S2L1C',\n",
    "                         band_names=['B04', 'B08'],\n",
    "                         bbox=dakar_bbox,\n",
    "                         spatial_res=0.000089,\n",
    "                         time_range=['2019-06-01', '2019-08-31'],\n",
    "                         time_tolerance='30M')"
   ]
  },
  {
   "cell_type": "markdown",
   "id": "front-local",
   "metadata": {
    "papermill": {
     "duration": null,
     "end_time": null,
     "exception": null,
     "start_time": null,
     "status": "pending"
    },
    "tags": []
   },
   "source": [
    "### Open the xcube\n",
    "\n",
    "In the following cell we open the cube and display its contents. The automatically generated credentials obtained earlier in this Jupyter Notebook are specified as a parameter when opening the cube."
   ]
  },
  {
   "cell_type": "code",
   "execution_count": null,
   "id": "maritime-gregory",
   "metadata": {
    "papermill": {
     "duration": null,
     "end_time": null,
     "exception": null,
     "start_time": null,
     "status": "pending"
    },
    "tags": []
   },
   "outputs": [],
   "source": [
    "# Open cube (on the fly)\n",
    "cube = open_cube(cube_config, **sh_credentials)\n",
    "\n",
    "# Display contents\n",
    "cube"
   ]
  },
  {
   "cell_type": "markdown",
   "id": "described-intervention",
   "metadata": {
    "papermill": {
     "duration": null,
     "end_time": null,
     "exception": null,
     "start_time": null,
     "status": "pending"
    },
    "tags": []
   },
   "source": [
    "### Compute an additional band\n",
    "\n",
    "In the following cell we will compute a new band based on existing bands in the xcube. In this example we will compute the Normalized difference vegetation index (NDVI) for each existing timestamp. [NDVI](https://custom-scripts.sentinel-hub.com/sentinel-2/ndvi/) is a commonly used index to quantify green vegetation, and is derived from Sentinel-2 bands 4 and 8.\n",
    "\n",
    "Firstly, we define the NDVI formula:"
   ]
  },
  {
   "cell_type": "code",
   "execution_count": null,
   "id": "selective-personality",
   "metadata": {
    "papermill": {
     "duration": null,
     "end_time": null,
     "exception": null,
     "start_time": null,
     "status": "pending"
    },
    "tags": []
   },
   "outputs": [],
   "source": [
    "# Define NDVI equation\n",
    "cube['NDVI'] = (cube.B08 - cube.B04) / (cube.B04 + cube.B08)\n",
    "\n",
    "# Set band attributes\n",
    "cube['NDVI'].attrs['long_name'] = 'Normalized Difference Vegetation Index'\n",
    "cube['NDVI'].attrs['units'] = 'unitless'"
   ]
  },
  {
   "cell_type": "code",
   "execution_count": null,
   "id": "dietary-example",
   "metadata": {
    "papermill": {
     "duration": null,
     "end_time": null,
     "exception": null,
     "start_time": null,
     "status": "pending"
    },
    "tags": []
   },
   "outputs": [],
   "source": [
    "# Display the calculated NDVI band\n",
    "cube.NDVI"
   ]
  },
  {
   "cell_type": "markdown",
   "id": "answering-concept",
   "metadata": {
    "papermill": {
     "duration": null,
     "end_time": null,
     "exception": null,
     "start_time": null,
     "status": "pending"
    },
    "tags": []
   },
   "source": [
    "Now we have generated this new band, let's visualise the values for a pixel over the time period. In this example, the coordinates of a point located in an Urban reserve (Réserve Naturelle Urbaine de la Grande Niaye de Pikine et Dépendance) were selected. \n",
    "\n",
    "_Note:_ Because the function goes through all the time slices, it may take some time to compute the data."
   ]
  },
  {
   "cell_type": "code",
   "execution_count": null,
   "id": "furnished-brand",
   "metadata": {
    "papermill": {
     "duration": null,
     "end_time": null,
     "exception": null,
     "start_time": null,
     "status": "pending"
    },
    "tags": []
   },
   "outputs": [],
   "source": [
    "%%time\n",
    "# Set latitude and longitude of point to query\n",
    "point_lat = 14.7678\n",
    "point_lon = -17.4023\n",
    "\n",
    "# Get timeseries\n",
    "timeseriesNDVI = cube.NDVI.sel(lat=point_lat, lon=point_lon, method='nearest').to_series()"
   ]
  },
  {
   "cell_type": "markdown",
   "id": "focused-destruction",
   "metadata": {
    "papermill": {
     "duration": null,
     "end_time": null,
     "exception": null,
     "start_time": null,
     "status": "pending"
    },
    "tags": []
   },
   "source": [
    "### Plot NDVI timeseries for a given location\n",
    "Using matplotlib we can visualise how NDVI changes over time."
   ]
  },
  {
   "cell_type": "code",
   "execution_count": null,
   "id": "mediterranean-compromise",
   "metadata": {
    "papermill": {
     "duration": null,
     "end_time": null,
     "exception": null,
     "start_time": null,
     "status": "pending"
    },
    "tags": []
   },
   "outputs": [],
   "source": [
    "# Plot NDVI timeseries\n",
    "fig, ax = plt.subplots(1, figsize=(15, 6))\n",
    "ax.plot(timeseriesNDVI, color=\"green\", marker=\"o\", linewidth=0.5)\n",
    "ax.set_title(f\"NDVI timeseries. Latitude: {point_lat}, Longitude: {point_lon}.\")\n",
    "plt.show()"
   ]
  },
  {
   "cell_type": "markdown",
   "id": "forced-fields",
   "metadata": {
    "papermill": {
     "duration": null,
     "end_time": null,
     "exception": null,
     "start_time": null,
     "status": "pending"
    },
    "tags": []
   },
   "source": [
    "---"
   ]
  },
  {
   "cell_type": "markdown",
   "id": "suspected-canon",
   "metadata": {
    "papermill": {
     "duration": null,
     "end_time": null,
     "exception": null,
     "start_time": null,
     "status": "pending"
    },
    "tags": []
   },
   "source": [
    "## Sentinel-2 L2A\n",
    "**Mission information**\n",
    "\n",
    "SENTINEL-2 is a European wide-swath, high-resolution, multi-spectral imaging mission. Its high-resolution optical images have many applications, including land monitoring, emergency response and security services assistance. The satellite's multispectral imager provides a versatile set of 13 spectral bands spanning from the visible and near infrared to the shortwave infrared.\n",
    "\n",
    "\n",
    "**Level 2A**\n",
    "\n",
    "Level 2A offers Bottom of the atmosphere (BOA) reflectance data. For more information about the sensor's properties and the data available, you can visit the [Sentinel Hub documentation page](https://docs.sentinel-hub.com/api/latest/data/sentinel-2-l2a/).\n",
    "\n",
    "**Data availability**\n",
    "\n",
    "January 2017 to today.\n",
    "\n",
    "### Define area of interest\n",
    "\n",
    "In the following example, we will set our AOI (covering a large part of Dakar, Senegal) using a bounding box expressed as [min_x, min_y, max_x, max_y]. Here the coordinates are in [WGS 84](https://epsg.io/4326) (EPSG **4326**), with units in degrees."
   ]
  },
  {
   "cell_type": "code",
   "execution_count": null,
   "id": "white-narrative",
   "metadata": {
    "papermill": {
     "duration": null,
     "end_time": null,
     "exception": null,
     "start_time": null,
     "status": "pending"
    },
    "tags": []
   },
   "outputs": [],
   "source": [
    "# Bbox\n",
    "dakar_bbox = [-17.546573, 14.645375, -17.392724, 14.783846]\n",
    "\n",
    "# Bbox EPSG\n",
    "dakar_epsg = 4326"
   ]
  },
  {
   "cell_type": "code",
   "execution_count": null,
   "id": "waiting-mailman",
   "metadata": {
    "papermill": {
     "duration": null,
     "end_time": null,
     "exception": null,
     "start_time": null,
     "status": "pending"
    },
    "tags": []
   },
   "outputs": [],
   "source": [
    "# Plot the bounding box on a map\n",
    "IPython.display.GeoJSON(BBox(dakar_bbox,crs=dakar_epsg).get_geojson())"
   ]
  },
  {
   "cell_type": "markdown",
   "id": "derived-scotland",
   "metadata": {
    "papermill": {
     "duration": null,
     "end_time": null,
     "exception": null,
     "start_time": null,
     "status": "pending"
    },
    "tags": []
   },
   "source": [
    "### Check Sentinel-2 L2A available bands\n",
    "\n",
    "Using EDC inbuilt functions that query Sentinel Hub services, we can list the available bands for a given dataset."
   ]
  },
  {
   "cell_type": "code",
   "execution_count": null,
   "id": "animal-cedar",
   "metadata": {
    "papermill": {
     "duration": null,
     "end_time": null,
     "exception": null,
     "start_time": null,
     "status": "pending"
    },
    "tags": []
   },
   "outputs": [],
   "source": [
    "# Create a Sentinel Hub class\n",
    "SH = SentinelHub(**sh_credentials)\n",
    "\n",
    "# List bands for S2-L2A\n",
    "SH.band_names('S2L2A')"
   ]
  },
  {
   "cell_type": "markdown",
   "id": "wooden-lease",
   "metadata": {
    "papermill": {
     "duration": null,
     "end_time": null,
     "exception": null,
     "start_time": null,
     "status": "pending"
    },
    "tags": []
   },
   "source": [
    "### Build xcube\n",
    "\n",
    "In the following cell we will specify the input parameters needed to build an xcube array. The following parameters are specified:\n",
    "\n",
    "- _dataset_name_: the Sentinel Hub identification of the dataset. Here we will call `S2L2A` for Sentinel-2 Level 2A. All available dataset can be listed with `SH.dataset_names`\n",
    "\n",
    "- _band_names_: the band names to be used in the xcube array (see previous code cell). Here, we will call the Red and Near Infrared bands (B04 and B08 respectively).\n",
    "\n",
    "- _bbox_: the bounding box that sets the extent of the AOI. Because we are using the default WGS84 coordinate system here, the CRS parameter doesn't need to be set. For an example with a different coordinate system, see the section for [Airbus SPOT 6/7](#AIRBUS-SPOT-6/7).\n",
    "\n",
    "- _spatial_res_: the spatial resolution of the rasters contained in the xcube array. The spatial resolution is expressed in the units of the coordinate system used. Therefore, in this example, the spatial resolution is set in degrees. For an approximate pixel size of 10 meters, we set the resolution to 0.000089 degrees.\n",
    "\n",
    "- _time_range_: a list of two dates [start_date, end_date] forming a time period for which all acquisitions will be returned. Sentinel-2 L2A data is available from January 2017 onwards. In this example, we will fetch data for May 2019.\n",
    "\n",
    "- _time_tolerance_: The tolerance used to identify whether a dataset should still be included within a time period. Here, `30M` corresponds to 30 minutes, thus avoiding duplicate datasets.\n",
    "\n",
    "_Note: the `return _coerce_scalar_to_timedelta_type(arg, unit=unit, errors=errors)` warning can be safely ignored._"
   ]
  },
  {
   "cell_type": "code",
   "execution_count": null,
   "id": "elementary-circus",
   "metadata": {
    "papermill": {
     "duration": null,
     "end_time": null,
     "exception": null,
     "start_time": null,
     "status": "pending"
    },
    "tags": []
   },
   "outputs": [],
   "source": [
    "# Setup xcube\n",
    "cube_config = CubeConfig(dataset_name='S2L2A',\n",
    "                         band_names=['B04', 'B08'],\n",
    "                         bbox=dakar_bbox,\n",
    "                         spatial_res=0.000089,\n",
    "                         time_range=['2019-05-01', '2019-05-31'],\n",
    "                         time_tolerance='30M')"
   ]
  },
  {
   "cell_type": "markdown",
   "id": "wanted-influence",
   "metadata": {
    "papermill": {
     "duration": null,
     "end_time": null,
     "exception": null,
     "start_time": null,
     "status": "pending"
    },
    "tags": []
   },
   "source": [
    "### Open the xcube\n",
    "\n",
    "In the following cell we open the cube and display its contents. The automatically generated credentials obtained earlier in this Jupyter Notebook are specified as a parameter when opening the cube."
   ]
  },
  {
   "cell_type": "code",
   "execution_count": null,
   "id": "stuffed-bumper",
   "metadata": {
    "papermill": {
     "duration": null,
     "end_time": null,
     "exception": null,
     "start_time": null,
     "status": "pending"
    },
    "tags": []
   },
   "outputs": [],
   "source": [
    "# Open cube (on the fly)\n",
    "cube = open_cube(cube_config, **sh_credentials)\n",
    "\n",
    "# Display contents\n",
    "cube"
   ]
  },
  {
   "cell_type": "markdown",
   "id": "phantom-helena",
   "metadata": {
    "papermill": {
     "duration": null,
     "end_time": null,
     "exception": null,
     "start_time": null,
     "status": "pending"
    },
    "tags": []
   },
   "source": [
    "### Compute and visualise an additional band\n",
    "\n",
    "In the following cell we will compute a new band based on existing bands in the xcube. In this example we will compute the Normalized difference vegetation index (NDVI) for each existing timestamp. [NDVI](https://custom-scripts.sentinel-hub.com/sentinel-2/ndvi/) is a commonly used index to quantify green vegetation, and is derived from Sentinel-2 bands 4 and 8.\n",
    "\n",
    "Firstly, we define the NDVI formula and create a new variable attributing a \"long_name\" and \"units\"."
   ]
  },
  {
   "cell_type": "code",
   "execution_count": null,
   "id": "saving-stack",
   "metadata": {
    "papermill": {
     "duration": null,
     "end_time": null,
     "exception": null,
     "start_time": null,
     "status": "pending"
    },
    "tags": []
   },
   "outputs": [],
   "source": [
    "# Define NDVI equation and set as band\n",
    "cube['NDVI'] = (cube.B08 - cube.B04) / (cube.B04 + cube.B08)\n",
    "cube['NDVI'].attrs['long_name'] = 'Normalized Difference Vegetation Index'\n",
    "cube['NDVI'].attrs['units'] = 'unitless'"
   ]
  },
  {
   "cell_type": "markdown",
   "id": "shared-absorption",
   "metadata": {
    "papermill": {
     "duration": null,
     "end_time": null,
     "exception": null,
     "start_time": null,
     "status": "pending"
    },
    "tags": []
   },
   "source": [
    "Secondly, we will call this variable for a specific date and then visualise it. In this example, we will specify a date of interest and fetch the closest acquisition in time available. We also filter out values smaller than 0, using the `where` function."
   ]
  },
  {
   "cell_type": "code",
   "execution_count": null,
   "id": "likely-attitude",
   "metadata": {
    "papermill": {
     "duration": null,
     "end_time": null,
     "exception": null,
     "start_time": null,
     "status": "pending"
    },
    "tags": []
   },
   "outputs": [],
   "source": [
    "# Plot NDVI in shades of Green where NDVI is greater than 0. \n",
    "cube.NDVI.sel(time='2019-05-23 10:00:00', method='nearest').where(cube.NDVI.sel(time='2019-05-23 10:00:00', method='nearest') > 0).plot.imshow(vmin=0, vmax=1, cmap='Greens', figsize=(18, 15))\n",
    "plt.show()"
   ]
  },
  {
   "cell_type": "markdown",
   "id": "charitable-scientist",
   "metadata": {
    "papermill": {
     "duration": null,
     "end_time": null,
     "exception": null,
     "start_time": null,
     "status": "pending"
    },
    "tags": []
   },
   "source": [
    "---"
   ]
  },
  {
   "cell_type": "markdown",
   "id": "subsequent-marketing",
   "metadata": {
    "papermill": {
     "duration": null,
     "end_time": null,
     "exception": null,
     "start_time": null,
     "status": "pending"
    },
    "tags": []
   },
   "source": [
    "## Landsat-8 Collection 2\n",
    "\n",
    "**Mission information**\n",
    "\n",
    "Landsat 8 is the most recently launched Landsat satellite (provided by NASA/USGS) and carries the Operational Land Imager (OLI) and the Thermal Infrared Sensor (TIRS) instruments. These two sensors provide seasonal coverage of the global landmass. Landsat-8 Level-1 provides global top-of-atmosphere reflectance and brightness-temperature, whereas Level-2 provides global surface reflectance and surface temperature science products. Landsat Level-2 science products are generated from Collection 2 Level-1 inputs that meet the <76 degrees Solar Zenith Angle constraint and include the required auxiliary data inputs to generate a scientifically viable product.\n",
    "\n",
    "**Collection 2**\n",
    "\n",
    "For more information about the sensor's properties and the data available, you can visit the Sentinel Hub documentation pages for [Level 1](https://docs.sentinel-hub.com/api/latest/data/landsat-8/) and [Level2](https://docs.sentinel-hub.com/api/latest/data/landsat-8-l2/). Additional information about Collection 2 can be found on the [dedicated USGS page](https://www.usgs.gov/core-science-systems/nli/landsat/landsat-collection-2-level-2-science-products).\n",
    "\n",
    "**Data availability**\n",
    "\n",
    "Since February 2013.\n"
   ]
  },
  {
   "cell_type": "markdown",
   "id": "emotional-kinase",
   "metadata": {
    "papermill": {
     "duration": null,
     "end_time": null,
     "exception": null,
     "start_time": null,
     "status": "pending"
    },
    "tags": []
   },
   "source": [
    "### Fetch an image from Landsat-8 Collection 2 Level 1 and Level 2\n",
    "\n",
    "Below we define the cells to retrieve data for Landsat 8 Collection 2. \n",
    "\n",
    "First, we need to set the input parameters. Currently, Collection 2 data is not available through the `xcube` package. Therefore, in this example, we will access the data from Sentinel Hub using the [sentinelhub-py library](https://sentinelhub-py.readthedocs.io/en/latest/index.html)."
   ]
  },
  {
   "cell_type": "code",
   "execution_count": null,
   "id": "equipped-associate",
   "metadata": {
    "papermill": {
     "duration": null,
     "end_time": null,
     "exception": null,
     "start_time": null,
     "status": "pending"
    },
    "tags": []
   },
   "outputs": [],
   "source": [
    "# Sentinel Hub configuration for the Python package\n",
    "config = SHConfig()\n",
    "config.sh_client_id = environ[\"SH_CLIENT_ID\"]\n",
    "config.sh_client_secret = environ[\"SH_CLIENT_SECRET\"]"
   ]
  },
  {
   "cell_type": "markdown",
   "id": "matched-religion",
   "metadata": {
    "papermill": {
     "duration": null,
     "end_time": null,
     "exception": null,
     "start_time": null,
     "status": "pending"
    },
    "tags": []
   },
   "source": [
    "The Collection 2 is only recently available through Sentinel Hub services and the `sentinelhub-py` package has not yet been updated to contain the settings for the Collection 2 by default. This means that the `DataCollection` object has to be specified manually, as shown below."
   ]
  },
  {
   "cell_type": "code",
   "execution_count": null,
   "id": "explicit-argentina",
   "metadata": {
    "papermill": {
     "duration": null,
     "end_time": null,
     "exception": null,
     "start_time": null,
     "status": "pending"
    },
    "tags": []
   },
   "outputs": [],
   "source": [
    "# Define a new DataCollection for Level-1 data\n",
    "DataCollection.define_from(\n",
    "            DataCollection.LANDSAT8,\n",
    "            \"LOTL1\",\n",
    "            service_url=\"https://services-uswest2.sentinel-hub.com\",\n",
    "            wfs_id=\"DSS12\",  # https://www.sentinel-hub.com/develop/api/ogc/standard-parameters/wfs/\n",
    "            api_id=\"LOTL1\",\n",
    "            catalog_id=\"landsat-8-l1c\",\n",
    "            processing_level=\"L1C\",\n",
    "            bands=(\"B01\", \"B02\", \"B03\", \"B04\", \"B05\", \"B06\", \"B07\", \"B08\", \"B09\", \"B10\", \"B11\", \"BQA\", \"QA_RADSAT\", \"VAA\", \"VZA\", \"SAA\", \"SZA\", \"dataMask\"),\n",
    ")"
   ]
  },
  {
   "cell_type": "code",
   "execution_count": null,
   "id": "postal-weekend",
   "metadata": {
    "papermill": {
     "duration": null,
     "end_time": null,
     "exception": null,
     "start_time": null,
     "status": "pending"
    },
    "tags": []
   },
   "outputs": [],
   "source": [
    "# Define a new DataCollection for Level-2 data\n",
    "DataCollection.define_from(\n",
    "            DataCollection.LANDSAT8,\n",
    "            \"LOTL2\",\n",
    "            service_url=\"https://services-uswest2.sentinel-hub.com\",\n",
    "            wfs_id=\"DSS13\",  # https://www.sentinel-hub.com/develop/api/ogc/standard-parameters/wfs/\n",
    "            api_id=\"LOTL2\",\n",
    "            catalog_id=\"landsat-8-l2a\",\n",
    "            processing_level=\"L2A\",\n",
    "            bands=(\"B01\", \"B02\", \"B03\", \"B04\", \"B05\", \"B06\", \"B07\", \"B10\", \"BQA\", \"QA_RADSAT\", \"SR_QA_AEROSOL\", \"ST_QA\", \n",
    "                   \"ST_TRAD\", \"ST_URAD\", \"ST_DRAD\", \"ST_ATRAN\", \"ST_EMIS\", \"ST_EMSD\", \"ST_CDIST\", \"dataMask\"),\n",
    ")"
   ]
  },
  {
   "cell_type": "markdown",
   "id": "rising-turkish",
   "metadata": {
    "papermill": {
     "duration": null,
     "end_time": null,
     "exception": null,
     "start_time": null,
     "status": "pending"
    },
    "tags": []
   },
   "source": [
    "### Define area of interest\n",
    "\n",
    "In the following example, we will set our AOI (covering a large part of Dakar, Senegal) using a bounding box expressed as [min_x, min_y, max_x, max_y]. Here the coordinates are in [WGS 84](https://epsg.io/4326) (EPSG **4326**), with units in degrees. We also calculate the AOI in pixels based upon the resolution of Landsat 8 which is 30m.\n",
    "\n",
    "_Note: with `sentinelhub-py` , the size of the image cannot be more than 2500px * 2500px, else the request will fail._"
   ]
  },
  {
   "cell_type": "code",
   "execution_count": null,
   "id": "strong-level",
   "metadata": {
    "papermill": {
     "duration": null,
     "end_time": null,
     "exception": null,
     "start_time": null,
     "status": "pending"
    },
    "tags": []
   },
   "outputs": [],
   "source": [
    "dakar_bbox = [-17.546573, 14.645375, -17.392724, 14.783846]\n",
    "dakar_epsg = 4326\n",
    "\n",
    "resolution = 30\n",
    "dakar_bbox = BBox(bbox=dakar_bbox, crs=dakar_epsg)\n",
    "dakar_size = bbox_to_dimensions(dakar_bbox, resolution=resolution)\n",
    "\n",
    "print(f'Image shape at {resolution} m resolution: {dakar_size} pixels')"
   ]
  },
  {
   "cell_type": "markdown",
   "id": "several-chinese",
   "metadata": {
    "papermill": {
     "duration": null,
     "end_time": null,
     "exception": null,
     "start_time": null,
     "status": "pending"
    },
    "tags": []
   },
   "source": [
    "### Define an evalscript\n",
    "\n",
    "Now that the input parameters are defined we will use an [evalscript](https://docs.sentinel-hub.com/api/latest/evalscript/) to visualise the data that we are requesting. In this example, we are requesting Band 3, 4 & 5 (Green, Red, NIR) and returning them in a 3-band image. "
   ]
  },
  {
   "cell_type": "code",
   "execution_count": null,
   "id": "polyphonic-scanning",
   "metadata": {
    "papermill": {
     "duration": null,
     "end_time": null,
     "exception": null,
     "start_time": null,
     "status": "pending"
    },
    "tags": []
   },
   "outputs": [],
   "source": [
    "evalscript_false_color = \"\"\"\n",
    "    //VERSION=3\n",
    "\n",
    "    function setup() {\n",
    "        return {\n",
    "            input: [{\n",
    "                bands: [\"B05\", \"B04\", \"B03\"]\n",
    "            }],\n",
    "            output: {\n",
    "                bands: 3\n",
    "            }\n",
    "        };\n",
    "    }\n",
    "\n",
    "    function evaluatePixel(sample) {\n",
    "        return [sample.B05, sample.B04, sample.B03];\n",
    "    }\n",
    "\"\"\""
   ]
  },
  {
   "cell_type": "markdown",
   "id": "composite-texture",
   "metadata": {
    "papermill": {
     "duration": null,
     "end_time": null,
     "exception": null,
     "start_time": null,
     "status": "pending"
    },
    "tags": []
   },
   "source": [
    "### Create a Sentinel Hub request for Level 1 and Level 2 data\n",
    "\n",
    "Based on the parameters set in the previous cells, we will build a Sentinel Hub request for Landsat-8 Collection 2 Level 1 and Level 2, that will return False Colour RGB png images. For more information on using `sentinelhub-py`, you can refer to the [documentation](https://sentinelhub-py.readthedocs.io/en/latest/)."
   ]
  },
  {
   "cell_type": "code",
   "execution_count": null,
   "id": "earned-oasis",
   "metadata": {
    "papermill": {
     "duration": null,
     "end_time": null,
     "exception": null,
     "start_time": null,
     "status": "pending"
    },
    "tags": []
   },
   "outputs": [],
   "source": [
    "l8_l1c = SentinelHubRequest(\n",
    "    evalscript=evalscript_false_color,\n",
    "    input_data=[\n",
    "        SentinelHubRequest.input_data(\n",
    "            data_collection=DataCollection.LOTL1,\n",
    "            time_interval=('2020-05-01', '2020-08-30'),\n",
    "            other_args = {\"dataFilter\":{\"mosaickingOrder\":\"leastCC\"}}\n",
    "        )\n",
    "    ],\n",
    "    responses=[\n",
    "        SentinelHubRequest.output_response('default', MimeType.PNG)\n",
    "    ],\n",
    "    bbox=dakar_bbox,\n",
    "    size=dakar_size,\n",
    "    config=config\n",
    ")\n",
    "\n",
    "l8_l2a = SentinelHubRequest(\n",
    "    evalscript=evalscript_false_color,\n",
    "    input_data=[\n",
    "        SentinelHubRequest.input_data(\n",
    "            data_collection=DataCollection.LOTL2,\n",
    "            time_interval=('2020-05-01', '2020-08-30'),\n",
    "            other_args = {\"dataFilter\":{\"mosaickingOrder\":\"leastCC\"}}\n",
    "        )\n",
    "    ],\n",
    "    responses=[\n",
    "        SentinelHubRequest.output_response('default', MimeType.PNG)\n",
    "    ],\n",
    "    bbox=dakar_bbox,\n",
    "    size=dakar_size,\n",
    "    config=config\n",
    ")"
   ]
  },
  {
   "cell_type": "markdown",
   "id": "hollywood-greene",
   "metadata": {
    "papermill": {
     "duration": null,
     "end_time": null,
     "exception": null,
     "start_time": null,
     "status": "pending"
    },
    "tags": []
   },
   "source": [
    "### Run the requests"
   ]
  },
  {
   "cell_type": "code",
   "execution_count": null,
   "id": "eight-french",
   "metadata": {
    "papermill": {
     "duration": null,
     "end_time": null,
     "exception": null,
     "start_time": null,
     "status": "pending"
    },
    "tags": []
   },
   "outputs": [],
   "source": [
    "false_colour_l1c = l8_l1c.get_data()\n",
    "false_colour_l2a = l8_l2a.get_data()"
   ]
  },
  {
   "cell_type": "markdown",
   "id": "prescribed-parks",
   "metadata": {
    "papermill": {
     "duration": null,
     "end_time": null,
     "exception": null,
     "start_time": null,
     "status": "pending"
    },
    "tags": []
   },
   "source": [
    "### Plot the false colour RGB images\n",
    "\n",
    "In the next cell, we will use a plotting function for the request results (https://github.com/sentinel-hub/sentinelhub-py/blob/master/examples/utils.py)."
   ]
  },
  {
   "cell_type": "code",
   "execution_count": null,
   "id": "usual-punishment",
   "metadata": {
    "papermill": {
     "duration": null,
     "end_time": null,
     "exception": null,
     "start_time": null,
     "status": "pending"
    },
    "tags": []
   },
   "outputs": [],
   "source": [
    "def plot_image(image, factor=1.0, clip_range = None, **kwargs):\n",
    "    \"\"\"\n",
    "    Utility function for plotting RGB images.\n",
    "    \"\"\"\n",
    "    fig, ax = plt.subplots(nrows=1, ncols=1, figsize=(12, 12))\n",
    "    if clip_range is not None:\n",
    "        ax.imshow(np.clip(image * factor, *clip_range), **kwargs)\n",
    "    else:\n",
    "        ax.imshow(image * factor, **kwargs)\n",
    "    ax.set_xticks([])\n",
    "    ax.set_yticks([])\n",
    "    plt.show()"
   ]
  },
  {
   "cell_type": "markdown",
   "id": "considered-separation",
   "metadata": {
    "papermill": {
     "duration": null,
     "end_time": null,
     "exception": null,
     "start_time": null,
     "status": "pending"
    },
    "tags": []
   },
   "source": [
    "Lastly, let's visualise the Level 1 and 2 images! The image type is UINT8 which means that the image bands have values of 0-255. To visualise them on a scale of 0 to 1 we need to divide by 255 first. You can also adjust the factor to brighten the image if you wish. "
   ]
  },
  {
   "cell_type": "code",
   "execution_count": null,
   "id": "general-relations",
   "metadata": {
    "papermill": {
     "duration": null,
     "end_time": null,
     "exception": null,
     "start_time": null,
     "status": "pending"
    },
    "tags": []
   },
   "outputs": [],
   "source": [
    "# Level 1\n",
    "image_l1c = false_colour_l1c[0]\n",
    "\n",
    "# plot function\n",
    "# factor 1/255 to scale between 0-1\n",
    "# factor 2.5 to increase brightness\n",
    "plot_image(image_l1c, factor=2.5/255, clip_range=(0,1))"
   ]
  },
  {
   "cell_type": "code",
   "execution_count": null,
   "id": "textile-stanley",
   "metadata": {
    "papermill": {
     "duration": null,
     "end_time": null,
     "exception": null,
     "start_time": null,
     "status": "pending"
    },
    "tags": []
   },
   "outputs": [],
   "source": [
    "# Level 2\n",
    "image_l2a = false_colour_l2a[0]\n",
    "\n",
    "# plot function\n",
    "# factor 1/255 to scale between 0-1\n",
    "# factor 2.5 to increase brightness\n",
    "plot_image(image_l2a, factor=2.5/255, clip_range=(0,1))"
   ]
  },
  {
   "cell_type": "markdown",
   "id": "vital-recruitment",
   "metadata": {
    "papermill": {
     "duration": null,
     "end_time": null,
     "exception": null,
     "start_time": null,
     "status": "pending"
    },
    "tags": []
   },
   "source": [
    "---"
   ]
  },
  {
   "cell_type": "markdown",
   "id": "provincial-statement",
   "metadata": {
    "papermill": {
     "duration": null,
     "end_time": null,
     "exception": null,
     "start_time": null,
     "status": "pending"
    },
    "tags": []
   },
   "source": [
    "## AIRBUS SPOT 6/7\n",
    "\n",
    "![Airbus](https://docs.sentinel-hub.com/api/latest/static/e5660ba66c215f7378a8843ac68b5743/logo.png)\n",
    "\n",
    "SPOT 6/7 is a satellite constellation providing very high-resolution optical imagery and is owned by [Airbus](https://www.intelligence-airbusds.com/en/8693-spot-67).\n",
    "\n",
    "**Mission information**\n",
    "\n",
    "SPOT 6/7 is composed of two twin satellites orbiting the Earth 180° apart. The following table lists the bands available through Sentinel Hub services and their resolution:\n",
    "\n",
    "| Name | Description | Resolution |\n",
    "|-|-|-|\n",
    "| B0 | Blue, 454-519 nm | 6m |\n",
    "| B1 | Green, 527-587 nm | 6m |\n",
    "| B2 | Red, 624-694 nm | 6m |\n",
    "| B3 | Near Infrared, 756-880 nm | 6m |\n",
    "| PAN | Panchromatic, 455-744 nm | 1.5m |\n",
    "| dataMask | The mask of data/no data pixels | N/A |\n",
    "\n",
    "\n",
    "**Data availability**\n",
    "\n",
    "SPOT 6/7 data can be accessed as a [BYOC collection](https://docs.sentinel-hub.com/api/latest/data/byoc/#accessing-data), i.e. by specifying a `collection_ID`.\n",
    "\n",
    "Images acquired on the following dates are available within the collection:\n",
    "\n",
    "- 2012-10-17\n",
    "- 2012-10-27\n",
    "- 2012-12-06\n",
    "- 2012-12-08\n",
    "- 2012-12-15\n",
    "- 2012-12-18\n",
    "- 2012-12-20\n",
    "- 2012-12-27\n",
    "- 2013-03-13\n",
    "- 2014-10-19\n",
    "- 2015-02-21\n",
    "- 2015-04-20\n",
    "- 2015-12-23\n",
    "- 2016-04-24\n",
    "- 2017-03-22\n",
    "- 2017-04-17\n",
    "- 2018-03-01\n",
    "- 2018-10-22\n",
    "- 2019-10-20\n",
    "- 2020-10-18\n",
    "- 2021-02-25"
   ]
  },
  {
   "cell_type": "markdown",
   "id": "representative-accent",
   "metadata": {
    "papermill": {
     "duration": null,
     "end_time": null,
     "exception": null,
     "start_time": null,
     "status": "pending"
    },
    "tags": []
   },
   "source": [
    "### Define area of interest\n",
    "\n",
    "In the following example, we will set our AOI (covering the port of Dakar) using a GeoJSON polygon geometry. Here the coordinates are in [WGS 84 / Pseudo-Mercator](https://epsg.io/3857) (EPSG **3857**), with units in meters."
   ]
  },
  {
   "cell_type": "code",
   "execution_count": null,
   "id": "egyptian-document",
   "metadata": {
    "papermill": {
     "duration": null,
     "end_time": null,
     "exception": null,
     "start_time": null,
     "status": "pending"
    },
    "tags": []
   },
   "outputs": [],
   "source": [
    "# Bbox\n",
    "dakar_geometry = {\n",
    "  \"type\": \"Polygon\",\n",
    "  \"coordinates\": [\n",
    "    [\n",
    "      [\n",
    "        -1939522.159759,\n",
    "        1654269.238697\n",
    "      ],\n",
    "      [\n",
    "        -1939187.64469,\n",
    "        1653887.045024\n",
    "      ],\n",
    "      [\n",
    "        -1939331.024194,\n",
    "        1653724.663382\n",
    "      ],\n",
    "      [\n",
    "        -1939206.791642,\n",
    "        1653437.99502\n",
    "      ],\n",
    "      [\n",
    "        -1939025.229553,\n",
    "        1652922.092265\n",
    "      ],\n",
    "      [\n",
    "        -1939178.405172,\n",
    "        1651173.533333\n",
    "      ],\n",
    "      [\n",
    "        -1940544.740602,\n",
    "        1651555.800865\n",
    "      ],\n",
    "      [\n",
    "        -1940994.026067,\n",
    "        1652434.969169\n",
    "      ],\n",
    "      [\n",
    "        -1941127.720775,\n",
    "        1652883.886191\n",
    "      ],\n",
    "      [\n",
    "        -1940410.934574,\n",
    "        1654020.886953\n",
    "      ],\n",
    "      [\n",
    "        -1939503.012807,\n",
    "        1654718.303547\n",
    "      ],\n",
    "      [\n",
    "        -1939455.256746,\n",
    "        1654555.916536\n",
    "      ],\n",
    "      [\n",
    "        -1939522.159759,\n",
    "        1654269.238697\n",
    "      ]\n",
    "    ]\n",
    "  ]\n",
    "}\n",
    "\n",
    "# Bbox EPSG number and code (see https://docs.sentinel-hub.com/api/latest/api/process/crs/)\n",
    "dakar_epsg= 3857\n",
    "dakar_projection = \"http://www.opengis.net/def/crs/EPSG/0/3857\"\n",
    "\n",
    "# Build a Sentinel Hub geometry object from the input polygon\n",
    "dakar_geom = geometry.Geometry(dakar_geometry,crs=dakar_epsg)"
   ]
  },
  {
   "cell_type": "code",
   "execution_count": null,
   "id": "regulated-release",
   "metadata": {
    "papermill": {
     "duration": null,
     "end_time": null,
     "exception": null,
     "start_time": null,
     "status": "pending"
    },
    "tags": []
   },
   "outputs": [],
   "source": [
    "# Plot the geometry on a map\n",
    "IPython.display.GeoJSON(dakar_geom.transform(4326).get_geojson())"
   ]
  },
  {
   "cell_type": "markdown",
   "id": "9d17e087-84e8-4649-b68e-e1aa74b519ef",
   "metadata": {
    "papermill": {
     "duration": null,
     "end_time": null,
     "exception": null,
     "start_time": null,
     "status": "pending"
    },
    "tags": []
   },
   "source": [
    "### Query two images using Sentinel Hub services\n",
    "\n",
    "In addition to `xcube`, you can also use Sentinel Hub services to query images and analyse them. This approach is recommended if you want to compare a small amount of images spread over a large period of time.\n",
    "\n",
    "In the following example, we will retrieve RGB images for 2 dates, on the 17th October 2012 and on 25th February 2021 over Dakar's industrial harbour.\n",
    "\n",
    "#### Input parameters\n",
    "\n",
    "To call a BYOC collection, we first need to setup the input parameters for the request:\n",
    "\n",
    "- we start by defining the `DataCollection` based on the `collectionID`\n",
    "\n",
    "- we set the [Evalscript](https://docs.sentinel-hub.com/api/latest/evalscript/), which tells Sentinel Hub services how to process the data and what product to return: here we will return the R,G,B product (B2, B1, B0 bands) as UINT16 images and a fourth band (`dataMask`) representing the nodata values (outside our area of interest) and plotted as an alpha band.\n",
    "\n",
    "- we build a SentinelHubRequest for each acquisition, that also include:\n",
    "\n",
    "    - The date that interest us in the `time_interval` parameter\n",
    "    - The output file format (not important here as we will not save the data)\n",
    "    - The geometry set previously\n",
    "    - The resolution (in the units of the CRS)\n",
    "    - A config file that contains credentials (reused from the Landsat example, so make sure the cells above are executed first)."
   ]
  },
  {
   "cell_type": "code",
   "execution_count": null,
   "id": "f723b4be-2161-4807-bc87-316f8f6087b4",
   "metadata": {
    "papermill": {
     "duration": null,
     "end_time": null,
     "exception": null,
     "start_time": null,
     "status": "pending"
    },
    "tags": []
   },
   "outputs": [],
   "source": [
    "# Define DataCollection\n",
    "spot_col = DataCollection.define_byoc(spot_collection)\n",
    "\n",
    "# Evalscript to return RGB True Color\n",
    "tc_eval = \"\"\"\n",
    "//VERSION=3\n",
    "function setup() {\n",
    "  return {\n",
    "    input: [\"B0\", \"B1\", \"B2\", \"dataMask\"],\n",
    "    output: { bands: 4, sampleType: \"UINT16\" }, \n",
    "  };\n",
    "}\n",
    "\n",
    "function evaluatePixel(sample) {\n",
    "  return [sample.B2, sample.B1, sample.B0, sample.dataMask * 65535];\n",
    "}\n",
    "\"\"\"\n",
    "\n",
    "# Build request for the first time step\n",
    "request_t1 = SentinelHubRequest(\n",
    "    evalscript=tc_eval,\n",
    "    input_data=[\n",
    "        SentinelHubRequest.input_data(\n",
    "            data_collection=spot_col,\n",
    "            time_interval=('2012-10-17')\n",
    "        )],\n",
    "    responses=[SentinelHubRequest.output_response('default', MimeType.TIFF)],\n",
    "    geometry=dakar_geom,\n",
    "    resolution=(6, 6),\n",
    "    config=config\n",
    "    )\n",
    "\n",
    "# Build a request for the second time step\n",
    "request_t2 = SentinelHubRequest(\n",
    "    evalscript=tc_eval,\n",
    "    input_data=[\n",
    "        SentinelHubRequest.input_data(\n",
    "            data_collection=spot_col,\n",
    "            time_interval=('2021-02-25')\n",
    "        )],\n",
    "    responses=[SentinelHubRequest.output_response('default', MimeType.TIFF)],\n",
    "    geometry=dakar_geom,\n",
    "    resolution=(6, 6),\n",
    "    config=config\n",
    "    )"
   ]
  },
  {
   "cell_type": "code",
   "execution_count": null,
   "id": "d3b0e074-5360-44eb-b787-2c05a2d8c9ea",
   "metadata": {
    "papermill": {
     "duration": null,
     "end_time": null,
     "exception": null,
     "start_time": null,
     "status": "pending"
    },
    "tags": []
   },
   "outputs": [],
   "source": [
    "# Run the requests\n",
    "t1_rgb = request_t1.get_data()[0]\n",
    "t2_rgb = request_t2.get_data()[0]"
   ]
  },
  {
   "cell_type": "markdown",
   "id": "photographic-taiwan",
   "metadata": {
    "papermill": {
     "duration": null,
     "end_time": null,
     "exception": null,
     "start_time": null,
     "status": "pending"
    },
    "tags": []
   },
   "source": [
    "## Basic processing example: NDWI change\n",
    "\n",
    "In the following cells, the change in Normalized Difference Water Index ([NDWI](https://custom-scripts.sentinel-hub.com/sentinel-2/ndwi/)) will be assessed (for demonstration purposes only).\n",
    "\n",
    "### Plot RGB images\n",
    "\n",
    "In a first step we will plot the True Color RGB of Dakar harbor for each date side-by-side. \n",
    "\n",
    "To visualise RGB images, we need to normalise the bands between 0 and 1. SPOT data are expressed in `DN` as `DN = reflectance * 10000`. The typical range for a SPOT image is 0 - 4000. Therefore we will normalise 0 - 4000 to 0 - 1 for visualisation purposes."
   ]
  },
  {
   "cell_type": "code",
   "execution_count": null,
   "id": "herbal-duration",
   "metadata": {
    "papermill": {
     "duration": null,
     "end_time": null,
     "exception": null,
     "start_time": null,
     "status": "pending"
    },
    "tags": []
   },
   "outputs": [],
   "source": [
    "# Plot RGB images together\n",
    "fig, (ax, ax2) = plt.subplots(1,2, figsize=(12,8))\n",
    "\n",
    "# Set ticks to times\n",
    "ax.imshow(t1_rgb / 4000)\n",
    "ax2.imshow(t2_rgb / 4000)\n",
    "\n",
    "# Set dates as titles\n",
    "ax.set_title(\"Date: 2012-10-17\")\n",
    "ax2.set_title(\"Date: 2021-02-25\")\n",
    "\n",
    "plt.show()"
   ]
  },
  {
   "cell_type": "markdown",
   "id": "chemical-virginia",
   "metadata": {
    "papermill": {
     "duration": null,
     "end_time": null,
     "exception": null,
     "start_time": null,
     "status": "pending"
    },
    "tags": []
   },
   "source": [
    "### Plot change in NDWI\n",
    "\n",
    "To monitor change in NDWI, and potentially detect areas encroached on the ocean, we will plot the difference in NDWI between the two available dates. Looking at the RGB images and the NDWI change map (large red zone), we can see a new area in the port that was built out over the ocean."
   ]
  },
  {
   "cell_type": "code",
   "execution_count": null,
   "id": "31fa1115-082a-4fbf-b3f5-59ab0e70f480",
   "metadata": {
    "papermill": {
     "duration": null,
     "end_time": null,
     "exception": null,
     "start_time": null,
     "status": "pending"
    },
    "tags": []
   },
   "outputs": [],
   "source": [
    "# Evalscript to return NDWI\n",
    "ndwi_eval = \"\"\"\n",
    "//VERSION=3\n",
    "function setup() {\n",
    "  return {\n",
    "    input: [\"B1\", \"B3\"],\n",
    "    output: { bands: 1, sampleType: \"FLOAT32\" }, \n",
    "  };\n",
    "}\n",
    "\n",
    "function evaluatePixel(sample) {\n",
    "  let ndwi = (sample.B1 - sample.B3) / (sample.B1 + sample.B3)\n",
    "  return [ndwi];\n",
    "}\n",
    "\"\"\"\n",
    "\n",
    "# Build request for the first time step\n",
    "request_t1_ndwi = SentinelHubRequest(\n",
    "    evalscript=ndwi_eval,\n",
    "    input_data=[\n",
    "        SentinelHubRequest.input_data(\n",
    "            data_collection=spot_col,\n",
    "            time_interval=('2012-10-17')\n",
    "        )],\n",
    "    responses=[SentinelHubRequest.output_response('default', MimeType.TIFF)],\n",
    "    geometry=dakar_geom,\n",
    "    resolution=(6, 6),\n",
    "    config=config\n",
    "    )\n",
    "\n",
    "# Build a request for the second time step\n",
    "request_t2_ndwi = SentinelHubRequest(\n",
    "    evalscript=ndwi_eval,\n",
    "    input_data=[\n",
    "        SentinelHubRequest.input_data(\n",
    "            data_collection=spot_col,\n",
    "            time_interval=('2021-02-25')\n",
    "        )],\n",
    "    responses=[SentinelHubRequest.output_response('default', MimeType.TIFF)],\n",
    "    geometry=dakar_geom,\n",
    "    resolution=(6, 6),\n",
    "    config=config\n",
    "    )"
   ]
  },
  {
   "cell_type": "code",
   "execution_count": null,
   "id": "handmade-venice",
   "metadata": {
    "papermill": {
     "duration": null,
     "end_time": null,
     "exception": null,
     "start_time": null,
     "status": "pending"
    },
    "tags": []
   },
   "outputs": [],
   "source": [
    "# Calculate NDWI\n",
    "ndwi_t1 = request_t1_ndwi.get_data()[0]\n",
    "ndwi_t2 = request_t2_ndwi.get_data()[0]\n",
    "\n",
    "# Compute change between two dates\n",
    "ndwi_change = ndwi_t2 - ndwi_t1"
   ]
  },
  {
   "cell_type": "code",
   "execution_count": null,
   "id": "defensive-blackjack",
   "metadata": {
    "papermill": {
     "duration": null,
     "end_time": null,
     "exception": null,
     "start_time": null,
     "status": "pending"
    },
    "tags": []
   },
   "outputs": [],
   "source": [
    "# Plot NDWI change\n",
    "fig, ax = plt.subplots(1, figsize=(12,8))\n",
    "\n",
    "# Set ticks to times\n",
    "change = ax.imshow(ndwi_change[:,:], cmap=\"RdBu\",) #vmin=-0.5, vmax=0.5)\n",
    "plt.colorbar(change)\n",
    "ax.set_title(\"NDWI change between 2012 and 2021\")\n",
    "\n",
    "plt.show()"
   ]
  },
  {
   "cell_type": "markdown",
   "id": "motivated-recognition",
   "metadata": {
    "papermill": {
     "duration": null,
     "end_time": null,
     "exception": null,
     "start_time": null,
     "status": "pending"
    },
    "tags": []
   },
   "source": [
    "---"
   ]
  },
  {
   "cell_type": "markdown",
   "id": "sunset-chain",
   "metadata": {
    "papermill": {
     "duration": null,
     "end_time": null,
     "exception": null,
     "start_time": null,
     "status": "pending"
    },
    "tags": []
   },
   "source": [
    "## AIRBUS Pleiades\n",
    "\n",
    "![Airbus](https://docs.sentinel-hub.com/api/latest/static/e5660ba66c215f7378a8843ac68b5743/logo.png)\n",
    "\n",
    "Pléiades is a satellite constellation providing very high-resolution optical imagery and is owned by [Airbus](https://www.intelligence-airbusds.com/en/8693-spot-67).\n",
    "\n",
    "**Mission information**\n",
    "\n",
    "Pléiades is composed of two twin satellites orbiting the Earth 180° apart. The satellites deliver 0.5 m optical imagery and offer a daily revisit capability to any point on the globe. The following table lists the bands available through Sentinel Hub services and their resolution:\n",
    "\n",
    "| Name | Description | Resolution |\n",
    "|-|-|-|\n",
    "| B0 | Blue, 430-550 nm | 2m |\n",
    "| B1 | Green, 490-610 nm | 2m |\n",
    "| B2 | Red, 600-720 nm | 2m |\n",
    "| B3 | Near Infrared, 750-950 nm | 2m |\n",
    "| PAN | Panchromatic, 480-830 nm | 0.5m |\n",
    "| dataMask | The mask of data/no data pixels | N/A |\n",
    "\n",
    "\n",
    "**Data availability**\n",
    "\n",
    "Pléiades data can be accessed as a [BYOC collection](https://docs.sentinel-hub.com/api/latest/data/byoc/#accessing-data), i.e. by specifying a `collection_ID`.\n",
    "\n",
    "Images acquired on the following dates are available within the collection:\n",
    "\n",
    "- 2012-03-13\n",
    "- 2012-05-06\n",
    "- 2012-10-02\n",
    "- 2013-02-23\n",
    "- 2013-10-20\n",
    "- 2014-10-14\n",
    "- 2015-11-07\n",
    "- 2016-03-10\n",
    "- 2016-12-08\n",
    "- 2017-10-09\n",
    "- 2017-10-15\n",
    "- 2019-03-06\n",
    "- 2019-12-24\n",
    "- 2020-06-24\n",
    "- 2020-10-18\n",
    "\n",
    "More acquisitions will be added during the contest, stay tuned for news!"
   ]
  },
  {
   "cell_type": "markdown",
   "id": "seasonal-supply",
   "metadata": {
    "papermill": {
     "duration": null,
     "end_time": null,
     "exception": null,
     "start_time": null,
     "status": "pending"
    },
    "tags": []
   },
   "source": [
    "### Define area of interest\n",
    "\n",
    "In the following example, we will set our AOI (covering the Mbao industrial area, Dakar, Senegal - see http://www.sar.sn/) using a GeoJSON polygon geometry. Here the coordinates are in [WGS 84 / UTM zone 28N](https://epsg.io/32628) (EPSG **32628**), with units in meters."
   ]
  },
  {
   "cell_type": "code",
   "execution_count": null,
   "id": "fantastic-difficulty",
   "metadata": {
    "papermill": {
     "duration": null,
     "end_time": null,
     "exception": null,
     "start_time": null,
     "status": "pending"
    },
    "tags": []
   },
   "outputs": [],
   "source": [
    "# Bbox\n",
    "mbao_geometry = {\n",
    "  \"type\": \"Polygon\",\n",
    "  \"coordinates\": [\n",
    "    [\n",
    "      [\n",
    "        246910.013036,\n",
    "        1630461.326004\n",
    "      ],\n",
    "      [\n",
    "        246752.787159,\n",
    "        1631786.114943\n",
    "      ],\n",
    "      [\n",
    "        248484.369728,\n",
    "        1631997.760134\n",
    "      ],\n",
    "      [\n",
    "        248751.899486,\n",
    "        1631930.66922\n",
    "      ],\n",
    "      [\n",
    "        248656.087821,\n",
    "        1631614.745376\n",
    "      ],\n",
    "      [\n",
    "        248804.78545,\n",
    "        1630340.550845\n",
    "      ],\n",
    "      [\n",
    "        248371.768609,\n",
    "        1630501.232138\n",
    "      ],\n",
    "      [\n",
    "        248252.122139,\n",
    "        1630121.242429\n",
    "      ],\n",
    "      [\n",
    "        246910.013036,\n",
    "        1630461.326004\n",
    "      ]\n",
    "    ]\n",
    "  ]\n",
    "}\n",
    "\n",
    "# Bbox EPSG number and code (see https://docs.sentinel-hub.com/api/latest/api/process/crs/)\n",
    "mbao_epsg = 32628\n",
    "mbao_projection= \"http://www.opengis.net/def/crs/EPSG/0/32628\"\n",
    "\n",
    "# Build a Sentinel Hub geometry object from the input polygon\n",
    "mbao_geom = geometry.Geometry(mbao_geometry,crs=mbao_epsg)"
   ]
  },
  {
   "cell_type": "code",
   "execution_count": null,
   "id": "burning-motor",
   "metadata": {
    "papermill": {
     "duration": null,
     "end_time": null,
     "exception": null,
     "start_time": null,
     "status": "pending"
    },
    "tags": []
   },
   "outputs": [],
   "source": [
    "# Plot the geometry on a map\n",
    "IPython.display.GeoJSON(mbao_geom.transform(4326).get_geojson())"
   ]
  },
  {
   "cell_type": "markdown",
   "id": "understood-humidity",
   "metadata": {
    "papermill": {
     "duration": null,
     "end_time": null,
     "exception": null,
     "start_time": null,
     "status": "pending"
    },
    "tags": []
   },
   "source": [
    "### Build xcube\n",
    "\n",
    "In the following cell we will specify the input parameters needed to build an xcube array. The following parameters are specified:\n",
    "\n",
    "- _dataset_name_: the Sentinel Hub identification of the dataset. Here we will call `CUSTOM` because Pléiades images are available as a BYOC collection.\n",
    "\n",
    "- _band_names_: the band names to be used in the xcube array. Here, we will call the Blue, Green, Red and Panchromatic bands (B0, B1, B2, PAN respectively).\n",
    "\n",
    "- _bbox_: the bounding box that sets the extent of the AOI. The bounding box covering the input geometry can be directly called from the `sentinelhub.geometry` object created above.\n",
    "\n",
    "- _crs_: if the coordinate reference system isn't in WGS84 (EPSG:4326) as the default value, it is specified using an [opengis URL](https://docs.sentinel-hub.com/api/latest/api/process/crs/). Here, we are using EPSG:32628.\n",
    "\n",
    "- _spatial_res_: the spatial resolution of the rasters contained in the xcube array. The spatial resolution is expressed in the units of the coordinate system used. Therefore, in this example, the spatial resolution is set in meters. Since we are also requesting the panchromatic band, and will perform pan-sharpening, we will request the cube at 0.5 meters resolution.\n",
    "\n",
    "- _time_range_: a list of two dates [start_date, end_date] forming a time period for which all acquisitions will be returned. For this example, we will request a single date.\n",
    "\n",
    "- _time_period_: Necessary when requesting a BYOC collection. The time period string denotes the temporal aggregation period to be used. Here `1d` means that if several images are available for 1 given date (not the case), they will be aggregated.\n",
    "\n",
    "- _collection_id_: the Sentinel Hub BYOC collection ID for Airbus Pléiades."
   ]
  },
  {
   "cell_type": "code",
   "execution_count": null,
   "id": "innocent-operation",
   "metadata": {
    "papermill": {
     "duration": null,
     "end_time": null,
     "exception": null,
     "start_time": null,
     "status": "pending"
    },
    "tags": []
   },
   "outputs": [],
   "source": [
    "# Setup xcube for Pléiades\n",
    "cube_config = CubeConfig(dataset_name='CUSTOM',\n",
    "                         band_names=['B0', 'B1', 'B2', 'PAN'],\n",
    "                         bbox=mbao_geom.bbox,\n",
    "                         crs=mbao_projection,\n",
    "                         spatial_res=0.5,\n",
    "                         time_range=['2019-12-24', '2019-12-24'],\n",
    "                         time_period=\"1d\",\n",
    "                         collection_id=pleiades_collection)"
   ]
  },
  {
   "cell_type": "markdown",
   "id": "exotic-cancer",
   "metadata": {
    "papermill": {
     "duration": null,
     "end_time": null,
     "exception": null,
     "start_time": null,
     "status": "pending"
    },
    "tags": []
   },
   "source": [
    "### Open cube"
   ]
  },
  {
   "cell_type": "code",
   "execution_count": null,
   "id": "suffering-radar",
   "metadata": {
    "papermill": {
     "duration": null,
     "end_time": null,
     "exception": null,
     "start_time": null,
     "status": "pending"
    },
    "tags": []
   },
   "outputs": [],
   "source": [
    "Pleiades_cube = open_cube(cube_config, **sh_credentials)"
   ]
  },
  {
   "cell_type": "markdown",
   "id": "secondary-chain",
   "metadata": {
    "papermill": {
     "duration": null,
     "end_time": null,
     "exception": null,
     "start_time": null,
     "status": "pending"
    },
    "tags": []
   },
   "source": [
    "### Explore the `xcube`\n",
    "\n",
    "We will first explore the variables and metadata contained in the `xcube` by printing its contents."
   ]
  },
  {
   "cell_type": "code",
   "execution_count": null,
   "id": "disciplinary-purple",
   "metadata": {
    "papermill": {
     "duration": null,
     "end_time": null,
     "exception": null,
     "start_time": null,
     "status": "pending"
    },
    "tags": []
   },
   "outputs": [],
   "source": [
    "Pleiades_cube"
   ]
  },
  {
   "cell_type": "markdown",
   "id": "indian-coordination",
   "metadata": {
    "papermill": {
     "duration": null,
     "end_time": null,
     "exception": null,
     "start_time": null,
     "status": "pending"
    },
    "tags": []
   },
   "source": [
    "### Plot a timeslice from the xcube\n",
    "\n",
    "In a second step we will plot Band PAN (panchromatic) for a time slice by selecting it's number (0...n; 0 being the first slice and n the last). Here we only have 1 date in our cube, so we will plot `time=0`. Please note that in this step the cube is being requested on the fly for the first time, therefore this step will be a bit slow."
   ]
  },
  {
   "cell_type": "code",
   "execution_count": null,
   "id": "oriental-bachelor",
   "metadata": {
    "papermill": {
     "duration": null,
     "end_time": null,
     "exception": null,
     "start_time": null,
     "status": "pending"
    },
    "tags": []
   },
   "outputs": [],
   "source": [
    "%%time\n",
    "Pleiades_cube.PAN.isel(time=0).plot.imshow(cmap='Greys_r', vmin=0, vmax=4000, figsize=(10, 10))\n",
    "plt.show()"
   ]
  },
  {
   "cell_type": "markdown",
   "id": "liberal-relevance",
   "metadata": {
    "papermill": {
     "duration": null,
     "end_time": null,
     "exception": null,
     "start_time": null,
     "status": "pending"
    },
    "tags": []
   },
   "source": [
    "## Extract a subset to work on a smaller region\n",
    "\n",
    "If you would like to work on a subset, e.g. because the region of interest is smaller than the specified bounding box, you can use a WKT polygon or Shapefile to mask the region of interest. Please note however that the WKT / shapefile must be in the same coordinate reference system as the existing `xcube`.\n",
    "\n",
    "Two methods of selection are possible:\n",
    "\n",
    "- By masking - this keeps only the data of the WKT Polygon or shapefile\n",
    "\n",
    "- By clipping - this creates a new bounding box, which ensures that the area of interest is within the subset but keeps the surrounding data.\n",
    "\n",
    "In this example, we will mask our cube, using the geometry specified earlier."
   ]
  },
  {
   "cell_type": "code",
   "execution_count": null,
   "id": "prescribed-attention",
   "metadata": {
    "papermill": {
     "duration": null,
     "end_time": null,
     "exception": null,
     "start_time": null,
     "status": "pending"
    },
    "tags": []
   },
   "outputs": [],
   "source": [
    "# Mask the cube\n",
    "Mbao_cube = mask_dataset_by_geometry(Pleiades_cube, geometry=mbao_geom.get_geojson())"
   ]
  },
  {
   "cell_type": "code",
   "execution_count": null,
   "id": "special-thinking",
   "metadata": {
    "papermill": {
     "duration": null,
     "end_time": null,
     "exception": null,
     "start_time": null,
     "status": "pending"
    },
    "tags": []
   },
   "outputs": [],
   "source": [
    "# Plot the masked cube\n",
    "Mbao_cube.PAN.isel(time=0).plot.imshow(cmap='Greys_r', vmin=0, vmax=4000, figsize=(12, 10))\n",
    "plt.show()"
   ]
  },
  {
   "cell_type": "markdown",
   "id": "liberal-milwaukee",
   "metadata": {
    "papermill": {
     "duration": null,
     "end_time": null,
     "exception": null,
     "start_time": null,
     "status": "pending"
    },
    "tags": []
   },
   "source": [
    "## Basic processing example: create a pan-sharpened RGB visualisation\n",
    "\n",
    "The Red, Green and Blue bands of Pléiades have a resolution of 2m, whereas the panchromatic band has a resolution of 0.5m. By combining the bands, using a method called [pan-sharpening](https://www.geosage.com/highview/imagefusion.html), we can visualise a \"sharpened\" RGB True Color image at a resolution of 0.5 meters. \n",
    "\n",
    "Several methods can be used to pan-sharpen a Pléiades RGB image. In this example, we will use the Brovey algorithm (eq.2-3 in this [paper](http://jurnal.lapan.go.id/index.php/ijreses/article/view/2609))."
   ]
  },
  {
   "cell_type": "markdown",
   "id": "fourth-caution",
   "metadata": {
    "papermill": {
     "duration": null,
     "end_time": null,
     "exception": null,
     "start_time": null,
     "status": "pending"
    },
    "tags": []
   },
   "source": [
    "### Calculate pansharpened R, G, and B bands\n",
    "\n",
    "In a first step we will calculate pan-sharpened bands for the Red, Green and Blue channels, using the panchromatic band as input. The bands will be stored in the cube for later re-use if needed. Note that the bands are not computed until use, meaning that this step is very fast."
   ]
  },
  {
   "cell_type": "code",
   "execution_count": null,
   "id": "complete-buyer",
   "metadata": {
    "papermill": {
     "duration": null,
     "end_time": null,
     "exception": null,
     "start_time": null,
     "status": "pending"
    },
    "tags": []
   },
   "outputs": [],
   "source": [
    "Mbao_cube[\"PAN_RED\"] = (Mbao_cube.B2 / (Mbao_cube.B0 + Mbao_cube.B1 + Mbao_cube.B2)) * Mbao_cube.PAN;\n",
    "Mbao_cube[\"PAN_GREEN\"] = (Mbao_cube.B1 / (Mbao_cube.B0 + Mbao_cube.B1 + Mbao_cube.B2)) * Mbao_cube.PAN\n",
    "Mbao_cube[\"PAN_BLUE\"] = (Mbao_cube.B0 / (Mbao_cube.B0 + Mbao_cube.B1 + Mbao_cube.B2)) * Mbao_cube.PAN"
   ]
  },
  {
   "cell_type": "markdown",
   "id": "familiar-mechanics",
   "metadata": {
    "papermill": {
     "duration": null,
     "end_time": null,
     "exception": null,
     "start_time": null,
     "status": "pending"
    },
    "tags": []
   },
   "source": [
    "### Plot pan-sharpened RGB true color of Pléiades\n",
    "\n",
    "In the following cell, the bands calculated above are used for the first time, and therefore only computed in this step. The first execution of this cell will be thus be slower than the previous steps."
   ]
  },
  {
   "cell_type": "code",
   "execution_count": null,
   "id": "timely-reach",
   "metadata": {
    "papermill": {
     "duration": null,
     "end_time": null,
     "exception": null,
     "start_time": null,
     "status": "pending"
    },
    "tags": []
   },
   "outputs": [],
   "source": [
    "# Plot RGB images together\n",
    "fig, ax = plt.subplots(1, figsize=(12,10))\n",
    "\n",
    "# Build rgb combination and plot\n",
    "rgb_tc = np.dstack((Mbao_cube.PAN_RED.isel(time=0), Mbao_cube.PAN_GREEN.isel(time=0), Mbao_cube.PAN_BLUE.isel(time=0)))\n",
    "ax.imshow(rgb_tc / 2000)\n",
    "\n",
    "# Set date as title\n",
    "ax.set_title(f\"Date: {str(Mbao_cube.time[0].data).split('T')[0]}\")\n",
    "\n",
    "plt.show()"
   ]
  },
  {
   "cell_type": "markdown",
   "id": "1f9ccece-6579-4d5f-aaab-5d00c2b3c718",
   "metadata": {
    "papermill": {
     "duration": null,
     "end_time": null,
     "exception": null,
     "start_time": null,
     "status": "pending"
    },
    "tags": []
   },
   "source": [
    "---"
   ]
  },
  {
   "cell_type": "markdown",
   "id": "09586904-0153-46b2-ada3-c259b875803a",
   "metadata": {
    "papermill": {
     "duration": null,
     "end_time": null,
     "exception": null,
     "start_time": null,
     "status": "pending"
    },
    "tags": []
   },
   "source": [
    "## Planet PlanetScope\n",
    "\n",
    "![Planet logo](https://docs.sentinel-hub.com/api/latest/static/fd3d797a803db45fe5dd5a4d1490315a/logo.png)\n",
    "\n",
    "The PlanetScope satellite constellation consists of more than 130 small satellites called Doves. Each Dove satellite is a CubeSat made of three cubic units and thus measures only 10 cm x 10 cm x 30 cm. \n",
    "\n",
    "**Mission information**\n",
    "\n",
    "PlanetScope satellite deliver optical imagery with an almost daily coverage worldwide at a spatial resolution of 3.7-4.1 m. The following table lists the bands available through Sentinel Hub services and their resolution:\n",
    "\n",
    "| Name | Description | Resolution |\n",
    "|-|-|-|\n",
    "| B1 | Blue, 455 - 515 nm | 3m (resampled) |\n",
    "| B2 | Green, 500 - 590 nm | 3m (resampled) |\n",
    "| B3 | Red, 590 - 670 nm | 3m (resampled) |\n",
    "| B4 | Near Infrared, 780 - 860 nm | 3m (resampled) |\n",
    "| UDM | Unusable Data Mask (see [docs](https://assets.planet.com/docs/Planet_Combined_Imagery_Product_Specs_letter_screen.pdf#page=91)) | 3m (resampled) |\n",
    "| dataMask | The mask of data/no data pixels | N/A |\n",
    "\n",
    "\n",
    "**Data availability**\n",
    "\n",
    "Pléiades data can be accessed as a [BYOC collection](https://docs.sentinel-hub.com/api/latest/data/byoc/#accessing-data), i.e. by specifying a `collection_ID`.\n",
    "\n",
    "The images available for this contest were obtained under the “Hectares under management” model, meaning that you will have access to all images between **1st January 2017 and mid-May 2021** covering the eastern part of Dakar (of interest for Urban expansion)."
   ]
  },
  {
   "cell_type": "markdown",
   "id": "8c2358ab-7374-4174-b3fe-ab70a08efd3d",
   "metadata": {
    "papermill": {
     "duration": null,
     "end_time": null,
     "exception": null,
     "start_time": null,
     "status": "pending"
    },
    "tags": []
   },
   "source": [
    "### Define area of interest\n",
    "\n",
    "In the following example, we will set our AOI (north of Rufisque) using a bounding box expressed as [min_x, min_y, max_x, max_y]. Here the coordinates are in [UTM Zone 28 N](https://epsg.io/326328) (EPSG **32628**), with units in meters."
   ]
  },
  {
   "cell_type": "code",
   "execution_count": null,
   "id": "1d020f36-380e-42fb-8a1f-e8585c43f74a",
   "metadata": {
    "papermill": {
     "duration": null,
     "end_time": null,
     "exception": null,
     "start_time": null,
     "status": "pending"
    },
    "tags": []
   },
   "outputs": [],
   "source": [
    "# Bbox\n",
    "dakar_large_bbox = [249984, 1636430, 251910, 1638457]\n",
    "\n",
    "# Bbox EPSG number\n",
    "dakar_epsg = 32628"
   ]
  },
  {
   "cell_type": "code",
   "execution_count": null,
   "id": "0fcd7574-dfa8-4646-84ab-0447444a461c",
   "metadata": {
    "papermill": {
     "duration": null,
     "end_time": null,
     "exception": null,
     "start_time": null,
     "status": "pending"
    },
    "tags": []
   },
   "outputs": [],
   "source": [
    "# Plot the geometry on a map\n",
    "IPython.display.GeoJSON(BBox(dakar_large_bbox, crs=dakar_epsg).transform(4326).get_geojson())"
   ]
  },
  {
   "cell_type": "markdown",
   "id": "973ad38a-b578-4a43-bf6a-e413d0f94bc5",
   "metadata": {
    "papermill": {
     "duration": null,
     "end_time": null,
     "exception": null,
     "start_time": null,
     "status": "pending"
    },
    "tags": []
   },
   "source": [
    "### Build xcube\n",
    "\n",
    "In the following cell we will specify the input parameters needed to build the `xcube` array. The following parameters are specified:\n",
    "\n",
    "- _dataset_name_: the Sentinel Hub identification of the dataset. Here we will call `CUSTOM` because PlanetScope images are available as a BYOC collection.\n",
    "\n",
    "- _band_names_: the band names to be used in the xcube array. Here, we will call the 4 bands: Blue, Green, Red, Near Infrared (`B1`, `B2`, `B3`, and `B4` respectively).\n",
    "\n",
    "- _bbox_: the bounding box that sets the extent of the AOI. Because we are using a UTM coordinate system here, the CRS parameter will have to be set.\n",
    "\n",
    "- _crs_: if the coordinate reference system isn't in WGS84 (EPSG:4326) as the default value, it is specified using an [opengis URL](https://docs.sentinel-hub.com/api/latest/api/process/crs/). Here, we are using EPSG:32628. \n",
    "\n",
    "- _spatial_res_: the spatial resolution of the rasters contained in the xcube array. The spatial resolution is expressed in the units of the coordinate system used. Therefore, in this example, the spatial resolution is set in meters.\n",
    "\n",
    "- _time_range_: a list of two dates [start_date, end_date] forming a time period for which all acquisitions will be returned.\n",
    "\n",
    "- _time_period_: Necessary when requesting a BYOC collection. The Time period string denotes the temporal aggregation period to be used. Here `1d` means that if several images are available for 1 given date, they will be aggregated.\n",
    "\n",
    "- _collection_id_: the Sentinel Hub BYOC collection ID for PlanetScope."
   ]
  },
  {
   "cell_type": "code",
   "execution_count": null,
   "id": "408c2239-7c9c-41a2-8a24-e4be605bb53a",
   "metadata": {
    "papermill": {
     "duration": null,
     "end_time": null,
     "exception": null,
     "start_time": null,
     "status": "pending"
    },
    "tags": []
   },
   "outputs": [],
   "source": [
    "# Setup xcube for S1-CARD4L\n",
    "cube_config = CubeConfig(dataset_name='CUSTOM',\n",
    "                         band_names=['B1', 'B2', 'B3', 'B4'],\n",
    "                         bbox=dakar_large_bbox,\n",
    "                         crs=\"http://www.opengis.net/def/crs/EPSG/0/32628\",\n",
    "                         spatial_res=3,\n",
    "                         time_range=['2017-04-21', '2017-04-24'],\n",
    "                         time_period=\"1d\",\n",
    "                         collection_id=planet_collection)"
   ]
  },
  {
   "cell_type": "markdown",
   "id": "484c7b6f-e129-4189-9cce-5fa6594386e9",
   "metadata": {
    "papermill": {
     "duration": null,
     "end_time": null,
     "exception": null,
     "start_time": null,
     "status": "pending"
    },
    "tags": []
   },
   "source": [
    "### Open the xcube\n",
    "\n",
    "In the following cell we open the cube and explore its contents."
   ]
  },
  {
   "cell_type": "code",
   "execution_count": null,
   "id": "19eed47d-7eed-4128-94f8-a6abf84273d3",
   "metadata": {
    "papermill": {
     "duration": null,
     "end_time": null,
     "exception": null,
     "start_time": null,
     "status": "pending"
    },
    "tags": []
   },
   "outputs": [],
   "source": [
    "# Open cube\n",
    "Planet_cube = open_cube(cube_config, **sh_credentials)\n",
    "\n",
    "# Drop empty time slices\n",
    "Planet_cube"
   ]
  },
  {
   "cell_type": "markdown",
   "id": "51c8ea8d-ab12-457a-991f-fa8d4c4167f0",
   "metadata": {
    "papermill": {
     "duration": null,
     "end_time": null,
     "exception": null,
     "start_time": null,
     "status": "pending"
    },
    "tags": []
   },
   "source": [
    "### Plot two acquisitions within the xcube\n",
    "\n",
    "In the following cell we will compare the acquisitions of two dates contained within the xcube, that show rubbish-burning events occuring in the Mbeubeuss dump. To plot the False Colour composite, we will stack the NIR, Red and Green bands (divided by 10000 to obtain reflectance and multiplied by a factor of 3 for better visualisation)."
   ]
  },
  {
   "cell_type": "code",
   "execution_count": null,
   "id": "706b5e06-3f05-4f59-a5e5-b3cec7da2a73",
   "metadata": {
    "papermill": {
     "duration": null,
     "end_time": null,
     "exception": null,
     "start_time": null,
     "status": "pending"
    },
    "tags": []
   },
   "outputs": [],
   "source": [
    "# Define factor for viewing the reflectance\n",
    "f = 10000 / 3\n",
    "\n",
    "# Stack bands for each acquisition\n",
    "rgb_t1 = np.dstack((Planet_cube.B4.isel(time=0) / f, Planet_cube.B3.isel(time=0)  / f, Planet_cube.B2.isel(time=0) / f))\n",
    "rgb_t2 = np.dstack((Planet_cube.B4.isel(time=3) / f, Planet_cube.B3.isel(time=3)  / f, Planet_cube.B2.isel(time=3) / f))\n",
    "\n",
    "# Create plot\n",
    "fig, (ax, ax2) = plt.subplots(1, 2, figsize=(10, 10))\n",
    "ax.imshow(rgb_t1)\n",
    "ax2.imshow(rgb_t2)\n",
    "\n",
    "# Plot options\n",
    "ax.set_xticks([])\n",
    "ax.set_yticks([])\n",
    "ax.set_title(Planet_cube.time.isel(time=0).values.astype('datetime64[D]'))\n",
    "ax2.set_xticks([])\n",
    "ax2.set_yticks([])\n",
    "ax2.set_title(Planet_cube.time.isel(time=3).values.astype('datetime64[D]'))\n",
    "fig.suptitle(\"Planetscope False Colour Composite\", y=0.75)\n",
    "plt.show()"
   ]
  },
  {
   "cell_type": "markdown",
   "id": "90e8c6b7-948a-4d0c-80a1-b0abe7c1e280",
   "metadata": {
    "papermill": {
     "duration": null,
     "end_time": null,
     "exception": null,
     "start_time": null,
     "status": "pending"
    },
    "tags": []
   },
   "source": [
    "### Compute a mask and overlay on the RGB False Colour Composite\n",
    "\n",
    "For demonstration purposes, the following cells will show how to perform morphological operations and apply masks on an image. A simple approach will be used to identify the smoke plume in the images: since smoke scatters light strongly in the blue wavelengths of the light spectrum, we will first attempt to identify the smoke plume by applying an empirical threshold to Band 1.\n"
   ]
  },
  {
   "cell_type": "code",
   "execution_count": null,
   "id": "5efd040e-3e7a-484a-8441-0f11bd6fb5e7",
   "metadata": {
    "papermill": {
     "duration": null,
     "end_time": null,
     "exception": null,
     "start_time": null,
     "status": "pending"
    },
    "tags": []
   },
   "outputs": [],
   "source": [
    "# Set threshold\n",
    "thresh = 1800\n",
    "\n",
    "# Create a mask by first setting 0 where the threshold insn't met, \n",
    "# then setting 1 where the threshold is met\n",
    "Planet_cube[\"bright\"] = Planet_cube.B1.where(Planet_cube.B1 > thresh, 0)\n",
    "Planet_cube[\"bright\"] = Planet_cube[\"bright\"].where(Planet_cube[\"bright\"] == 0 , 1)"
   ]
  },
  {
   "cell_type": "code",
   "execution_count": null,
   "id": "675c15a7-6a16-4e7b-a6c5-3250d0e2f5d2",
   "metadata": {
    "papermill": {
     "duration": null,
     "end_time": null,
     "exception": null,
     "start_time": null,
     "status": "pending"
    },
    "tags": []
   },
   "outputs": [],
   "source": [
    "Planet_cube[\"bright\"].isel(time=0).plot.imshow()\n",
    "plt.show()"
   ]
  },
  {
   "cell_type": "markdown",
   "id": "75f78d75-fecb-4e31-bbe4-6bdf02c2d147",
   "metadata": {
    "papermill": {
     "duration": null,
     "end_time": null,
     "exception": null,
     "start_time": null,
     "status": "pending"
    },
    "tags": []
   },
   "source": [
    "The simple thresholding seems to perform quite well on the first image, as shown in the plot above. However a number of smaller false positive patches appear. To remove them, we can apply an [erosion-dilation](https://docs.opencv.org/3.4/db/df6/tutorial_erosion_dilatation.html) step (also called binary opening) to the image using the `scipy` libraries."
   ]
  },
  {
   "cell_type": "code",
   "execution_count": null,
   "id": "ee046c6b-d816-4074-b4a5-ebc885a12701",
   "metadata": {
    "papermill": {
     "duration": null,
     "end_time": null,
     "exception": null,
     "start_time": null,
     "status": "pending"
    },
    "tags": []
   },
   "outputs": [],
   "source": [
    "# Generate a structure for the filter\n",
    "struct = np.ones((5,5))\n",
    "\n",
    "# Perform cleaning step on each time step\n",
    "clean_t1 = ndi.morphology.binary_opening(Planet_cube[\"bright\"].isel(time=0), struct)\n",
    "clean_t2 = ndi.morphology.binary_opening(Planet_cube[\"bright\"].isel(time=3), struct)"
   ]
  },
  {
   "cell_type": "code",
   "execution_count": null,
   "id": "db5727d9-f3eb-4969-b1b6-3ec36c22c7e9",
   "metadata": {
    "papermill": {
     "duration": null,
     "end_time": null,
     "exception": null,
     "start_time": null,
     "status": "pending"
    },
    "tags": []
   },
   "outputs": [],
   "source": [
    "# Plot the masks\n",
    "fig, (ax, ax2) = plt.subplots(1,2, figsize=(10, 10))\n",
    "ax.imshow(clean_t1)\n",
    "ax2.imshow(clean_t2)\n",
    "plt.show()"
   ]
  },
  {
   "cell_type": "markdown",
   "id": "68777016-2d10-4c24-8ac4-678cb738b083",
   "metadata": {
    "papermill": {
     "duration": null,
     "end_time": null,
     "exception": null,
     "start_time": null,
     "status": "pending"
    },
    "tags": []
   },
   "source": [
    "## Plot masked image\n",
    "\n",
    "In the last step we plot the masked False Colour composite, using the cleaned smoke layer."
   ]
  },
  {
   "cell_type": "code",
   "execution_count": null,
   "id": "69f4a16d-f432-4c76-bce7-75f4510eb032",
   "metadata": {
    "papermill": {
     "duration": null,
     "end_time": null,
     "exception": null,
     "start_time": null,
     "status": "pending"
    },
    "tags": []
   },
   "outputs": [],
   "source": [
    "fig, (ax, ax2) = plt.subplots(1,2, figsize=(10, 10))\n",
    "\n",
    "ax.imshow(rgb_t1)\n",
    "ax.imshow(np.ma.masked_where(clean_t1!=1, clean_t1), cmap=\"YlGn\")\n",
    "ax2.imshow(rgb_t2)\n",
    "ax2.imshow(np.ma.masked_where(clean_t2!=1, clean_t2), cmap=\"YlGn\")\n",
    "plt.show()"
   ]
  },
  {
   "cell_type": "markdown",
   "id": "0fa374b9-430b-4658-8d9b-6523c050bd7e",
   "metadata": {
    "papermill": {
     "duration": null,
     "end_time": null,
     "exception": null,
     "start_time": null,
     "status": "pending"
    },
    "tags": []
   },
   "source": [
    "### Conclusions \n",
    "\n",
    "The approach shown here is too simplistic to be used for any analysis. Indeed, the darker (grey) parts of the smoke plume are not detected, and some bright surfaces are misinterpreted as smoke. However, large parts of the smoke plume are detected, and the method could be refined to perform in a more robust manner."
   ]
  },
  {
   "cell_type": "markdown",
   "id": "d69c920c-b3ae-4b3d-a1ab-2bf7ca3a0938",
   "metadata": {
    "papermill": {
     "duration": null,
     "end_time": null,
     "exception": null,
     "start_time": null,
     "status": "pending"
    },
    "tags": []
   },
   "source": [
    "---"
   ]
  },
  {
   "cell_type": "markdown",
   "id": "a48fb390-1388-4bdd-8a50-e04804b383c8",
   "metadata": {
    "papermill": {
     "duration": null,
     "end_time": null,
     "exception": null,
     "start_time": null,
     "status": "pending"
    },
    "tags": []
   },
   "source": [
    "## Maxar WorldView / GeoEye\n",
    "\n",
    "![Maxar](https://docs.sentinel-hub.com/api/latest/static/f078cb7581036c9400e466b13a65e296/logo.png)\n",
    "\n",
    "The WorldView constellations consists of four active satellites: WorldView-1 (data not available in Sentinel Hub), GeoEye-1 (GE01), WorldView-2 (WV02), and WorldView-3 (WV03). The WorldView-4 (WV04) satellite was operational from November 2016 to January 2019 and the data it acquired is available in Sentinel Hub.\n",
    "\n",
    "**Mission information**\n",
    "\n",
    "Worldview satellites deliver optical imagery with a revisit time of 1 day to 3 days depending on the satellite. Note that the data is in general not acquired systematically. Archive data is available sporadically over an area of interest. The resolution of images available in Sentinel Hub is 0.5 m for the panchromatic band and 2 m for multispectral bands. The following table lists the bands available through Sentinel Hub services and their resolution:\n",
    "\n",
    "| Name | Description | Resolution |\n",
    "|-|-|-|\n",
    "| Blue | Blue, 450 - 510 nm | 2m |\n",
    "| Green | Green, 510 - 580 nm | 2m |\n",
    "| Red | Red, 630 - 690 nm for WV02 and WV03, 655 - 690 nm for GE01 and WV04 | 2m |\n",
    "| NearIR1 | Near Infrared, 770 - 895 nm for WV02 and WV03, 780 - 920 nm for GE01 and WV04 | 2m |\n",
    "| PAN | Panchromatic, 450 - 800 nm | 0.5m |\n",
    "| dataMask | The mask of data/no data pixels | N/A |\n",
    "\n",
    "\n",
    "**Data availability**\n",
    "\n",
    "Maxar data can be accessed as a [BYOC collection](https://docs.sentinel-hub.com/api/latest/data/byoc/#accessing-data), i.e. by specifying a `collection_ID`.\n",
    "\n",
    "Data is available for the following dates / date ranges:\n",
    "\n",
    "- 2013-02-26\n",
    "\n",
    "- 2015-03-04 \n",
    "\n",
    "- 2017-04-15 / 2017-04-25\n",
    "\n",
    "- 2019-03-01 / 2019-03-03\n",
    "\n",
    "- 2021-04-09 / 2021-04-23"
   ]
  },
  {
   "cell_type": "markdown",
   "id": "2d9f598a-853b-4f0b-b0d6-78861665c502",
   "metadata": {
    "papermill": {
     "duration": null,
     "end_time": null,
     "exception": null,
     "start_time": null,
     "status": "pending"
    },
    "tags": []
   },
   "source": [
    "### Define area of interest\n",
    "\n",
    "In the following example, we will set our AOI (Keur Ndiaye Lo, north of Rufisque) using a bounding box expressed as [min_x, min_y, max_x, max_y]. Here the coordinates are in [UTM Zone 28 N](https://epsg.io/326328) (EPSG **32628**), with units in meters."
   ]
  },
  {
   "cell_type": "code",
   "execution_count": null,
   "id": "9fb6a5b4-6e1e-4021-a2b4-1c655a201a53",
   "metadata": {
    "papermill": {
     "duration": null,
     "end_time": null,
     "exception": null,
     "start_time": null,
     "status": "pending"
    },
    "tags": []
   },
   "outputs": [],
   "source": [
    "# Bbox\n",
    "Keur_Ndiaye = [259051, 1631160, 259563, 1631603]\n",
    "\n",
    "# Bbox EPSG number\n",
    "dakar_epsg = 32628"
   ]
  },
  {
   "cell_type": "code",
   "execution_count": null,
   "id": "dbc2365f-6ad7-4b03-8530-e8c22e920a8b",
   "metadata": {
    "papermill": {
     "duration": null,
     "end_time": null,
     "exception": null,
     "start_time": null,
     "status": "pending"
    },
    "tags": []
   },
   "outputs": [],
   "source": [
    "# Plot the geometry on a map\n",
    "IPython.display.GeoJSON(BBox(Keur_Ndiaye, crs=dakar_epsg).transform(4326).get_geojson())"
   ]
  },
  {
   "cell_type": "markdown",
   "id": "5505fa50-1b32-4dcd-8407-cde823fd83dc",
   "metadata": {
    "papermill": {
     "duration": null,
     "end_time": null,
     "exception": null,
     "start_time": null,
     "status": "pending"
    },
    "tags": []
   },
   "source": [
    "### Build xcube\n",
    "\n",
    "In the following cell we will specify the input parameters needed to build the `xcube` array. The following parameters are specified:\n",
    "\n",
    "- _dataset_name_: the Sentinel Hub identification of the dataset. Here we will call `CUSTOM` because Maxar images are available as a BYOC collection.\n",
    "\n",
    "- _band_names_: the band names to be used in the xcube array. Here, we will call the panchromatic band (`PAN`).\n",
    "\n",
    "- _bbox_: the bounding box that sets the extent of the AOI. Because we are using a UTM coordinate system here, the CRS parameter will have to be set.\n",
    "\n",
    "- _crs_: if the coordinate reference system isn't in WGS84 (EPSG:4326) as the default value, it is specified using an [opengis URL](https://docs.sentinel-hub.com/api/latest/api/process/crs/). Here, we are using EPSG:32628. \n",
    "\n",
    "- _spatial_res_: the spatial resolution of the rasters contained in the xcube array. The spatial resolution is expressed in the units of the coordinate system used. Therefore, in this example, the spatial resolution is set in meters.\n",
    "\n",
    "- _time_range_: a list of two dates [start_date, end_date] forming a time period for which all acquisitions will be returned.\n",
    "\n",
    "- _time_period_: Necessary when requesting a BYOC collection. The Time period string denotes the temporal aggregation period to be used. Here `1d` means that if several images are available for 1 given date, they will be aggregated.\n",
    "\n",
    "- _collection_id_: the Sentinel Hub BYOC collection ID for Maxar."
   ]
  },
  {
   "cell_type": "code",
   "execution_count": null,
   "id": "a5e95b32-f2e9-4dbe-9152-8072f4a6ac1a",
   "metadata": {
    "papermill": {
     "duration": null,
     "end_time": null,
     "exception": null,
     "start_time": null,
     "status": "pending"
    },
    "tags": []
   },
   "outputs": [],
   "source": [
    "# Setup xcube for S1-CARD4L\n",
    "cube_config = CubeConfig(dataset_name='CUSTOM',\n",
    "                         band_names=['PAN'],\n",
    "                         bbox=Keur_Ndiaye,\n",
    "                         crs=\"http://www.opengis.net/def/crs/EPSG/0/32628\",\n",
    "                         spatial_res=0.5,\n",
    "                         time_range=['2013-02-26', '2021-04-09'],\n",
    "                         time_period=\"1d\",\n",
    "                         collection_id=maxar_collection)"
   ]
  },
  {
   "cell_type": "markdown",
   "id": "2f7cfb3a-ca62-42d1-bf6c-a5857a4abea9",
   "metadata": {
    "papermill": {
     "duration": null,
     "end_time": null,
     "exception": null,
     "start_time": null,
     "status": "pending"
    },
    "tags": []
   },
   "source": [
    "### Open the xcube\n",
    "\n",
    "In the following cell we open the cube and explore its contents."
   ]
  },
  {
   "cell_type": "code",
   "execution_count": null,
   "id": "2428718c-5816-486e-b09e-9dd957ef24c7",
   "metadata": {
    "papermill": {
     "duration": null,
     "end_time": null,
     "exception": null,
     "start_time": null,
     "status": "pending"
    },
    "tags": []
   },
   "outputs": [],
   "source": [
    "# Open cube\n",
    "maxar_cube = open_cube(cube_config, **sh_credentials)\n",
    "\n",
    "# Drop empty time slices\n",
    "maxar_cube"
   ]
  },
  {
   "cell_type": "markdown",
   "id": "8d814b86-c5d8-4387-9c03-9fce189f6ac3",
   "metadata": {
    "papermill": {
     "duration": null,
     "end_time": null,
     "exception": null,
     "start_time": null,
     "status": "pending"
    },
    "tags": []
   },
   "source": [
    "## Filter the cube\n",
    "\n",
    "If we look at the cube in the cell above, we can see 2964 time slices (many of which are empty). Since we know the dates that we would like to keep in our xcube, we will create a subset based on the list of dates and overwrite our cube on the fly."
   ]
  },
  {
   "cell_type": "code",
   "execution_count": null,
   "id": "8a8044d3-bd13-4738-a1c9-315087cc9b70",
   "metadata": {
    "papermill": {
     "duration": null,
     "end_time": null,
     "exception": null,
     "start_time": null,
     "status": "pending"
    },
    "tags": []
   },
   "outputs": [],
   "source": [
    "# List of dates of interest\n",
    "dates_of_interest = [\"2013-02-26\", \"2015-03-04\", \"2017-04-15\", \"2019-03-01\", \"2021-04-09\"]\n",
    "\n",
    "# Subset\n",
    "maxar_cube = maxar_cube.where(maxar_cube.time.dt.date.isin(np.array(dates_of_interest, dtype='datetime64')), drop=True)"
   ]
  },
  {
   "cell_type": "code",
   "execution_count": null,
   "id": "848a072b-7a60-4ff3-b2b3-b14dedf58a83",
   "metadata": {
    "papermill": {
     "duration": null,
     "end_time": null,
     "exception": null,
     "start_time": null,
     "status": "pending"
    },
    "tags": []
   },
   "outputs": [],
   "source": [
    "# Check the cube again\n",
    "maxar_cube"
   ]
  },
  {
   "cell_type": "markdown",
   "id": "b83e6e37-5257-419b-956a-ea8755e0f9b6",
   "metadata": {
    "papermill": {
     "duration": null,
     "end_time": null,
     "exception": null,
     "start_time": null,
     "status": "pending"
    },
    "tags": []
   },
   "source": [
    "## Plot the panchromatic band for each time stamp\n",
    "\n",
    "Now we have our subset determined, we will make an RGB image for each timestamp and plot the urban expansion over the years using the automatic plotting funtion over time."
   ]
  },
  {
   "cell_type": "code",
   "execution_count": null,
   "id": "59beb0a2-2662-4e26-936c-417befc622d3",
   "metadata": {
    "papermill": {
     "duration": null,
     "end_time": null,
     "exception": null,
     "start_time": null,
     "status": "pending"
    },
    "tags": []
   },
   "outputs": [],
   "source": [
    "# Stack bands for each acquisition\n",
    "pan_plot = maxar_cube[\"PAN\"].plot.imshow(figsize=(12,8), x=\"x\", y=\"y\", col=\"time\", col_wrap=3, cmap=\"Greys_r\", vmin=500, vmax=4000)\n",
    "plt.show()"
   ]
  },
  {
   "cell_type": "markdown",
   "id": "c22ece81-e780-40b9-85bb-32e2184e68f4",
   "metadata": {
    "papermill": {
     "duration": null,
     "end_time": null,
     "exception": null,
     "start_time": null,
     "status": "pending"
    },
    "tags": []
   },
   "source": [
    "---"
   ]
  },
  {
   "cell_type": "markdown",
   "id": "adapted-glossary",
   "metadata": {
    "papermill": {
     "duration": null,
     "end_time": null,
     "exception": null,
     "start_time": null,
     "status": "pending"
    },
    "tags": []
   },
   "source": [
    "### Now it's your turn...\n",
    "\n",
    "With the examples provided above, you should have all the elements needed to access the data and start coding away. We look forward to your results!"
   ]
  }
 ],
 "metadata": {
  "kernelspec": {
   "display_name": "EDC 2022.02 (Python3)",
   "language": "python",
   "name": "edc"
  },
  "language_info": {
   "codemirror_mode": {
    "name": "ipython",
    "version": 3
   },
   "file_extension": ".py",
   "mimetype": "text/x-python",
   "name": "python",
   "nbconvert_exporter": "python",
   "pygments_lexer": "ipython3",
   "version": "3.8.12"
  },
  "papermill": {
   "default_parameters": {},
   "duration": 10.354976,
   "end_time": "2022-06-28T12:15:44.297926",
   "environment_variables": {},
   "exception": true,
   "input_path": "/tmp/tmp2_8oz1sx",
   "output_path": "/tmp/notebook_output.ipynb",
   "parameters": {},
   "start_time": "2022-06-28T12:15:33.942950",
   "version": "2.3.4"
  },
  "properties": {
   "authors": [
    {
     "id": "a2b85af8-6b99-4fa2-acf6-e87d74e40431",
     "name": "maxim.lamare@sinergise.com"
    },
    {
     "id": "84ffd9e5-7b17-4608-8346-5f29f1ce711f",
     "name": "chung.horng@sinergise.com"
    }
   ],
   "description": "Access free and commercial datasets through EDC",
   "id": "7747fa5e-9611-4e47-8d8f-101f3b2da9d9",
   "license": null,
   "name": "Custom Script Contest – Urban Growth in Africa",
   "requirements": [
    "eurodatacube",
    "eoxhub"
   ],
   "tags": [
    "EO Data",
    "Jupyter",
    "On-the-fly",
    "Sentinel Data",
    "Sentinel Hub",
    "xcube"
   ],
   "tosAgree": true,
   "type": "Jupyter Notebook",
   "version": "0.1.3"
  }
 },
 "nbformat": 4,
 "nbformat_minor": 5
}