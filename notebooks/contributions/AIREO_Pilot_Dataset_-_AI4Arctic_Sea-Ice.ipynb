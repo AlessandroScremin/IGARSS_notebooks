{
 "cells": [
  {
   "cell_type": "markdown",
   "id": "a7305f6f",
   "metadata": {
    "tags": [
     "papermill-error-cell-tag"
    ]
   },
   "source": [
    "<span style=\"color:red; font-family:Helvetica Neue, Helvetica, Arial, sans-serif; font-size:2em;\">An Exception was encountered at '<a href=\"#papermill-error-cell\">In [12]</a>'.</span>"
   ]
  },
  {
   "cell_type": "code",
   "execution_count": 1,
   "id": "e84b2741",
   "metadata": {
    "execution": {
     "iopub.execute_input": "2021-08-11T14:31:15.585898Z",
     "iopub.status.busy": "2021-08-11T14:31:15.585347Z",
     "iopub.status.idle": "2021-08-11T14:31:15.638897Z",
     "shell.execute_reply": "2021-08-11T14:31:15.638325Z"
    },
    "papermill": {
     "duration": 0.076769,
     "end_time": "2021-08-11T14:31:15.639015",
     "exception": false,
     "start_time": "2021-08-11T14:31:15.562246",
     "status": "completed"
    },
    "tags": []
   },
   "outputs": [
    {
     "data": {
      "text/html": [
       "<script type=\"text/javascript\">\n",
       "        function toggle(id) {\n",
       "            el = document.getElementById(id);\n",
       "            el.style.display = el.style.display === \"none\" ? \"block\" : \"none\";\n",
       "        }\n",
       "    </script>"
      ],
      "text/plain": [
       "<IPython.core.display.HTML object>"
      ]
     },
     "metadata": {},
     "output_type": "display_data"
    },
    {
     "data": {
      "text/html": [
       "This notebook is compatible with this base image version (user-0.24.5)."
      ],
      "text/plain": [
       "<IPython.core.display.HTML object>"
      ]
     },
     "metadata": {},
     "output_type": "display_data"
    },
    {
     "data": {
      "text/markdown": [
       "\n",
       "\n",
       "---------\n",
       "\n",
       "The following environment variables are available:\n",
       "\n",
       "* `SH_CLIENT_ID`, `SH_INSTANCE_ID`, `SH_CLIENT_NAME`, `SH_CLIENT_SECRET`\n"
      ],
      "text/plain": [
       "<IPython.core.display.Markdown object>"
      ]
     },
     "metadata": {},
     "output_type": "display_data"
    }
   ],
   "source": [
    "from edc import check_compatibility\n",
    "check_compatibility(\"user-0.24.5\", dependencies=[\"SH\"])"
   ]
  },
  {
   "cell_type": "code",
   "execution_count": 2,
   "id": "e91a9a6f-cff1-48d4-96b2-29ed7ccd72f9",
   "metadata": {
    "execution": {
     "iopub.execute_input": "2021-08-11T14:31:15.680059Z",
     "iopub.status.busy": "2021-08-11T14:31:15.679515Z",
     "iopub.status.idle": "2021-08-11T14:31:24.437734Z",
     "shell.execute_reply": "2021-08-11T14:31:24.437194Z"
    },
    "papermill": {
     "duration": 8.780368,
     "end_time": "2021-08-11T14:31:24.437856",
     "exception": false,
     "start_time": "2021-08-11T14:31:15.657488",
     "status": "completed"
    },
    "tags": []
   },
   "outputs": [
    {
     "name": "stdout",
     "output_type": "stream",
     "text": [
      "Collecting git+https://github.com/aireo-project/aireo_lib\r\n",
      "  Cloning https://github.com/aireo-project/aireo_lib to /tmp/pip-req-build-pyzfq6ie\r\n",
      "  Running command git clone -q https://github.com/aireo-project/aireo_lib /tmp/pip-req-build-pyzfq6ie\r\n"
     ]
    },
    {
     "name": "stdout",
     "output_type": "stream",
     "text": [
      "  Installing build dependencies ... \u001b[?25l-"
     ]
    },
    {
     "name": "stdout",
     "output_type": "stream",
     "text": [
      "\b \b\\"
     ]
    },
    {
     "name": "stdout",
     "output_type": "stream",
     "text": [
      "\b \b|"
     ]
    },
    {
     "name": "stdout",
     "output_type": "stream",
     "text": [
      "\b \b/"
     ]
    },
    {
     "name": "stdout",
     "output_type": "stream",
     "text": [
      "\b \bdone\r\n"
     ]
    },
    {
     "name": "stdout",
     "output_type": "stream",
     "text": [
      "\u001b[?25h  Getting requirements to build wheel ... \u001b[?25l-"
     ]
    },
    {
     "name": "stdout",
     "output_type": "stream",
     "text": [
      "\b \bdone\r\n"
     ]
    },
    {
     "name": "stdout",
     "output_type": "stream",
     "text": [
      "\u001b[?25h    Preparing wheel metadata ... \u001b[?25l-"
     ]
    },
    {
     "name": "stdout",
     "output_type": "stream",
     "text": [
      "\b \bdone\r\n",
      "\u001b[?25hRequirement already satisfied: geopandas in /opt/conda/envs/eurodatacube-0.24.5/lib/python3.8/site-packages (from aireo-library==0.0.post1.dev5+gd20a604) (0.9.0)\r\n"
     ]
    },
    {
     "name": "stdout",
     "output_type": "stream",
     "text": [
      "Collecting stac-pydantic==1.3.9\r\n"
     ]
    },
    {
     "name": "stdout",
     "output_type": "stream",
     "text": [
      "  Downloading stac_pydantic-1.3.9-py3-none-any.whl (25 kB)\r\n"
     ]
    },
    {
     "name": "stdout",
     "output_type": "stream",
     "text": [
      "Requirement already satisfied: xarray in /opt/conda/envs/eurodatacube-0.24.5/lib/python3.8/site-packages (from aireo-library==0.0.post1.dev5+gd20a604) (0.18.0)\r\n",
      "Collecting pyaml\r\n",
      "  Downloading pyaml-21.8.3-py2.py3-none-any.whl (17 kB)\r\n",
      "Requirement already satisfied: numpy in /opt/conda/envs/eurodatacube-0.24.5/lib/python3.8/site-packages (from aireo-library==0.0.post1.dev5+gd20a604) (1.20.2)\r\n"
     ]
    },
    {
     "name": "stdout",
     "output_type": "stream",
     "text": [
      "Collecting loguru\r\n",
      "  Downloading loguru-0.5.3-py3-none-any.whl (57 kB)\r\n",
      "\u001b[?25l\r",
      "\u001b[K     |█████▊                          | 10 kB 46.6 MB/s eta 0:00:01\r",
      "\u001b[K     |███████████▌                    | 20 kB 13.8 MB/s eta 0:00:01\r",
      "\u001b[K     |█████████████████▏              | 30 kB 10.3 MB/s eta 0:00:01\r",
      "\u001b[K     |███████████████████████         | 40 kB 10.8 MB/s eta 0:00:01\r",
      "\u001b[K     |████████████████████████████▋   | 51 kB 13.1 MB/s eta 0:00:01\r",
      "\u001b[K     |████████████████████████████████| 57 kB 6.1 MB/s \r\n",
      "\u001b[?25hRequirement already satisfied: matplotlib in /opt/conda/envs/eurodatacube-0.24.5/lib/python3.8/site-packages (from aireo-library==0.0.post1.dev5+gd20a604) (3.4.2)\r\n",
      "Requirement already satisfied: click in /opt/conda/envs/eurodatacube-0.24.5/lib/python3.8/site-packages (from stac-pydantic==1.3.9->aireo-library==0.0.post1.dev5+gd20a604) (7.1.2)\r\n"
     ]
    },
    {
     "name": "stdout",
     "output_type": "stream",
     "text": [
      "Collecting geojson-pydantic\r\n",
      "  Downloading geojson-pydantic-0.3.1.tar.gz (8.4 kB)\r\n"
     ]
    },
    {
     "name": "stdout",
     "output_type": "stream",
     "text": [
      "Collecting pydantic>=1.6\r\n",
      "  Downloading pydantic-1.8.2-cp38-cp38-manylinux2014_x86_64.whl (13.7 MB)\r\n",
      "\u001b[?25l\r",
      "\u001b[K     |                                | 10 kB 32.2 MB/s eta 0:00:01\r",
      "\u001b[K     |                                | 20 kB 43.3 MB/s eta 0:00:01\r",
      "\u001b[K     |                                | 30 kB 56.2 MB/s eta 0:00:01\r",
      "\u001b[K     |                                | 40 kB 65.4 MB/s eta 0:00:01\r",
      "\u001b[K     |▏                               | 51 kB 40.5 MB/s eta 0:00:01\r",
      "\u001b[K     |▏                               | 61 kB 45.1 MB/s eta 0:00:01\r",
      "\u001b[K     |▏                               | 71 kB 46.0 MB/s eta 0:00:01\r",
      "\u001b[K     |▏                               | 81 kB 50.1 MB/s eta 0:00:01\r",
      "\u001b[K     |▏                               | 92 kB 43.5 MB/s eta 0:00:01\r",
      "\u001b[K     |▎                               | 102 kB 46.4 MB/s eta 0:00:01\r",
      "\u001b[K     |▎                               | 112 kB 46.4 MB/s eta 0:00:01\r",
      "\u001b[K     |▎                               | 122 kB 46.4 MB/s eta 0:00:01\r",
      "\u001b[K     |▎                               | 133 kB 46.4 MB/s eta 0:00:01\r",
      "\u001b[K     |▍                               | 143 kB 46.4 MB/s eta 0:00:01\r",
      "\u001b[K     |▍                               | 153 kB 46.4 MB/s eta 0:00:01\r",
      "\u001b[K     |▍                               | 163 kB 46.4 MB/s eta 0:00:01\r",
      "\u001b[K     |▍                               | 174 kB 46.4 MB/s eta 0:00:01\r",
      "\u001b[K     |▍                               | 184 kB 46.4 MB/s eta 0:00:01\r",
      "\u001b[K     |▌                               | 194 kB 46.4 MB/s eta 0:00:01\r",
      "\u001b[K     |▌                               | 204 kB 46.4 MB/s eta 0:00:01\r",
      "\u001b[K     |▌                               | 215 kB 46.4 MB/s eta 0:00:01\r",
      "\u001b[K     |▌                               | 225 kB 46.4 MB/s eta 0:00:01\r",
      "\u001b[K     |▌                               | 235 kB 46.4 MB/s eta 0:00:01\r",
      "\u001b[K     |▋                               | 245 kB 46.4 MB/s eta 0:00:01\r",
      "\u001b[K     |▋                               | 256 kB 46.4 MB/s eta 0:00:01\r",
      "\u001b[K     |▋                               | 266 kB 46.4 MB/s eta 0:00:01\r",
      "\u001b[K     |▋                               | 276 kB 46.4 MB/s eta 0:00:01\r",
      "\u001b[K     |▊                               | 286 kB 46.4 MB/s eta 0:00:01\r",
      "\u001b[K     |▊                               | 296 kB 46.4 MB/s eta 0:00:01\r",
      "\u001b[K     |▊                               | 307 kB 46.4 MB/s eta 0:00:01\r",
      "\u001b[K     |▊                               | 317 kB 46.4 MB/s eta 0:00:01\r",
      "\u001b[K     |▊                               | 327 kB 46.4 MB/s eta 0:00:01\r",
      "\u001b[K     |▉                               | 337 kB 46.4 MB/s eta 0:00:01\r",
      "\u001b[K     |▉                               | 348 kB 46.4 MB/s eta 0:00:01\r",
      "\u001b[K     |▉                               | 358 kB 46.4 MB/s eta 0:00:01\r",
      "\u001b[K     |▉                               | 368 kB 46.4 MB/s eta 0:00:01\r",
      "\u001b[K     |▉                               | 378 kB 46.4 MB/s eta 0:00:01\r",
      "\u001b[K     |█                               | 389 kB 46.4 MB/s eta 0:00:01\r",
      "\u001b[K     |█                               | 399 kB 46.4 MB/s eta 0:00:01\r",
      "\u001b[K     |█                               | 409 kB 46.4 MB/s eta 0:00:01\r",
      "\u001b[K     |█                               | 419 kB 46.4 MB/s eta 0:00:01\r",
      "\u001b[K     |█                               | 430 kB 46.4 MB/s eta 0:00:01\r",
      "\u001b[K     |█                               | 440 kB 46.4 MB/s eta 0:00:01\r",
      "\u001b[K     |█                               | 450 kB 46.4 MB/s eta 0:00:01\r",
      "\u001b[K     |█                               | 460 kB 46.4 MB/s eta 0:00:01\r",
      "\u001b[K     |█                               | 471 kB 46.4 MB/s eta 0:00:01\r",
      "\u001b[K     |█▏                              | 481 kB 46.4 MB/s eta 0:00:01\r",
      "\u001b[K     |█▏                              | 491 kB 46.4 MB/s eta 0:00:01\r",
      "\u001b[K     |█▏                              | 501 kB 46.4 MB/s eta 0:00:01\r",
      "\u001b[K     |█▏                              | 512 kB 46.4 MB/s eta 0:00:01\r",
      "\u001b[K     |█▏                              | 522 kB 46.4 MB/s eta 0:00:01\r",
      "\u001b[K     |█▎                              | 532 kB 46.4 MB/s eta 0:00:01\r",
      "\u001b[K     |█▎                              | 542 kB 46.4 MB/s eta 0:00:01\r",
      "\u001b[K     |█▎                              | 552 kB 46.4 MB/s eta 0:00:01\r",
      "\u001b[K     |█▎                              | 563 kB 46.4 MB/s eta 0:00:01\r",
      "\u001b[K     |█▍                              | 573 kB 46.4 MB/s eta 0:00:01\r",
      "\u001b[K     |█▍                              | 583 kB 46.4 MB/s eta 0:00:01\r",
      "\u001b[K     |█▍                              | 593 kB 46.4 MB/s eta 0:00:01\r",
      "\u001b[K     |█▍                              | 604 kB 46.4 MB/s eta 0:00:01\r",
      "\u001b[K     |█▍                              | 614 kB 46.4 MB/s eta 0:00:01\r",
      "\u001b[K     |█▌                              | 624 kB 46.4 MB/s eta 0:00:01\r",
      "\u001b[K     |█▌                              | 634 kB 46.4 MB/s eta 0:00:01\r",
      "\u001b[K     |█▌                              | 645 kB 46.4 MB/s eta 0:00:01\r",
      "\u001b[K     |█▌                              | 655 kB 46.4 MB/s eta 0:00:01\r",
      "\u001b[K     |█▌                              | 665 kB 46.4 MB/s eta 0:00:01\r",
      "\u001b[K     |█▋                              | 675 kB 46.4 MB/s eta 0:00:01\r",
      "\u001b[K     |█▋                              | 686 kB 46.4 MB/s eta 0:00:01\r",
      "\u001b[K     |█▋                              | 696 kB 46.4 MB/s eta 0:00:01\r",
      "\u001b[K     |█▋                              | 706 kB 46.4 MB/s eta 0:00:01\r",
      "\u001b[K     |█▊                              | 716 kB 46.4 MB/s eta 0:00:01\r",
      "\u001b[K     |█▊                              | 727 kB 46.4 MB/s eta 0:00:01\r",
      "\u001b[K     |█▊                              | 737 kB 46.4 MB/s eta 0:00:01\r",
      "\u001b[K     |█▊                              | 747 kB 46.4 MB/s eta 0:00:01\r",
      "\u001b[K     |█▊                              | 757 kB 46.4 MB/s eta 0:00:01\r",
      "\u001b[K     |█▉                              | 768 kB 46.4 MB/s eta 0:00:01\r",
      "\u001b[K     |█▉                              | 778 kB 46.4 MB/s eta 0:00:01\r",
      "\u001b[K     |█▉                              | 788 kB 46.4 MB/s eta 0:00:01\r",
      "\u001b[K     |█▉                              | 798 kB 46.4 MB/s eta 0:00:01\r",
      "\u001b[K     |██                              | 808 kB 46.4 MB/s eta 0:00:01\r",
      "\u001b[K     |██                              | 819 kB 46.4 MB/s eta 0:00:01\r",
      "\u001b[K     |██                              | 829 kB 46.4 MB/s eta 0:00:01\r",
      "\u001b[K     |██                              | 839 kB 46.4 MB/s eta 0:00:01\r",
      "\u001b[K     |██                              | 849 kB 46.4 MB/s eta 0:00:01\r",
      "\u001b[K     |██                              | 860 kB 46.4 MB/s eta 0:00:01\r",
      "\u001b[K     |██                              | 870 kB 46.4 MB/s eta 0:00:01\r",
      "\u001b[K     |██                              | 880 kB 46.4 MB/s eta 0:00:01\r",
      "\u001b[K     |██                              | 890 kB 46.4 MB/s eta 0:00:01\r",
      "\u001b[K     |██                              | 901 kB 46.4 MB/s eta 0:00:01\r",
      "\u001b[K     |██▏                             | 911 kB 46.4 MB/s eta 0:00:01\r",
      "\u001b[K     |██▏                             | 921 kB 46.4 MB/s eta 0:00:01\r",
      "\u001b[K     |██▏                             | 931 kB 46.4 MB/s eta 0:00:01\r",
      "\u001b[K     |██▏                             | 942 kB 46.4 MB/s eta 0:00:01\r",
      "\u001b[K     |██▎                             | 952 kB 46.4 MB/s eta 0:00:01\r",
      "\u001b[K     |██▎                             | 962 kB 46.4 MB/s eta 0:00:01\r",
      "\u001b[K     |██▎                             | 972 kB 46.4 MB/s eta 0:00:01\r",
      "\u001b[K     |██▎                             | 983 kB 46.4 MB/s eta 0:00:01\r",
      "\u001b[K     |██▎                             | 993 kB 46.4 MB/s eta 0:00:01\r",
      "\u001b[K     |██▍                             | 1.0 MB 46.4 MB/s eta 0:00:01\r",
      "\u001b[K     |██▍                             | 1.0 MB 46.4 MB/s eta 0:00:01\r",
      "\u001b[K     |██▍                             | 1.0 MB 46.4 MB/s eta 0:00:01\r",
      "\u001b[K     |██▍                             | 1.0 MB 46.4 MB/s eta 0:00:01\r",
      "\u001b[K     |██▍                             | 1.0 MB 46.4 MB/s eta 0:00:01\r",
      "\u001b[K     |██▌                             | 1.1 MB 46.4 MB/s eta 0:00:01\r",
      "\u001b[K     |██▌                             | 1.1 MB 46.4 MB/s eta 0:00:01\r",
      "\u001b[K     |██▌                             | 1.1 MB 46.4 MB/s eta 0:00:01\r",
      "\u001b[K     |██▌                             | 1.1 MB 46.4 MB/s eta 0:00:01\r",
      "\u001b[K     |██▋                             | 1.1 MB 46.4 MB/s eta 0:00:01\r",
      "\u001b[K     |██▋                             | 1.1 MB 46.4 MB/s eta 0:00:01\r",
      "\u001b[K     |██▋                             | 1.1 MB 46.4 MB/s eta 0:00:01\r",
      "\u001b[K     |██▋                             | 1.1 MB 46.4 MB/s eta 0:00:01\r",
      "\u001b[K     |██▋                             | 1.1 MB 46.4 MB/s eta 0:00:01\r",
      "\u001b[K     |██▊                             | 1.1 MB 46.4 MB/s eta 0:00:01\r",
      "\u001b[K     |██▊                             | 1.2 MB 46.4 MB/s eta 0:00:01\r",
      "\u001b[K     |██▊                             | 1.2 MB 46.4 MB/s eta 0:00:01\r",
      "\u001b[K     |██▊                             | 1.2 MB 46.4 MB/s eta 0:00:01\r",
      "\u001b[K     |██▊                             | 1.2 MB 46.4 MB/s eta 0:00:01\r",
      "\u001b[K     |██▉                             | 1.2 MB 46.4 MB/s eta 0:00:01\r",
      "\u001b[K     |██▉                             | 1.2 MB 46.4 MB/s eta 0:00:01\r",
      "\u001b[K     |██▉                             | 1.2 MB 46.4 MB/s eta 0:00:01\r",
      "\u001b[K     |██▉                             | 1.2 MB 46.4 MB/s eta 0:00:01\r",
      "\u001b[K     |███                             | 1.2 MB 46.4 MB/s eta 0:00:01\r",
      "\u001b[K     |███                             | 1.2 MB 46.4 MB/s eta 0:00:01\r",
      "\u001b[K     |███                             | 1.3 MB 46.4 MB/s eta 0:00:01\r",
      "\u001b[K     |███                             | 1.3 MB 46.4 MB/s eta 0:00:01\r",
      "\u001b[K     |███                             | 1.3 MB 46.4 MB/s eta 0:00:01\r",
      "\u001b[K     |███                             | 1.3 MB 46.4 MB/s eta 0:00:01\r",
      "\u001b[K     |███                             | 1.3 MB 46.4 MB/s eta 0:00:01\r",
      "\u001b[K     |███                             | 1.3 MB 46.4 MB/s eta 0:00:01\r",
      "\u001b[K     |███                             | 1.3 MB 46.4 MB/s eta 0:00:01\r",
      "\u001b[K     |███                             | 1.3 MB 46.4 MB/s eta 0:00:01\r",
      "\u001b[K     |███▏                            | 1.3 MB 46.4 MB/s eta 0:00:01\r",
      "\u001b[K     |███▏                            | 1.4 MB 46.4 MB/s eta 0:00:01\r",
      "\u001b[K     |███▏                            | 1.4 MB 46.4 MB/s eta 0:00:01\r",
      "\u001b[K     |███▏                            | 1.4 MB 46.4 MB/s eta 0:00:01\r",
      "\u001b[K     |███▎                            | 1.4 MB 46.4 MB/s eta 0:00:01\r",
      "\u001b[K     |███▎                            | 1.4 MB 46.4 MB/s eta 0:00:01\r",
      "\u001b[K     |███▎                            | 1.4 MB 46.4 MB/s eta 0:00:01\r",
      "\u001b[K     |███▎                            | 1.4 MB 46.4 MB/s eta 0:00:01\r",
      "\u001b[K     |███▎                            | 1.4 MB 46.4 MB/s eta 0:00:01\r",
      "\u001b[K     |███▍                            | 1.4 MB 46.4 MB/s eta 0:00:01\r",
      "\u001b[K     |███▍                            | 1.4 MB 46.4 MB/s eta 0:00:01\r",
      "\u001b[K     |███▍                            | 1.5 MB 46.4 MB/s eta 0:00:01\r",
      "\u001b[K     |███▍                            | 1.5 MB 46.4 MB/s eta 0:00:01\r",
      "\u001b[K     |███▍                            | 1.5 MB 46.4 MB/s eta 0:00:01\r",
      "\u001b[K     |███▌                            | 1.5 MB 46.4 MB/s eta 0:00:01\r",
      "\u001b[K     |███▌                            | 1.5 MB 46.4 MB/s eta 0:00:01\r",
      "\u001b[K     |███▌                            | 1.5 MB 46.4 MB/s eta 0:00:01\r",
      "\u001b[K     |███▌                            | 1.5 MB 46.4 MB/s eta 0:00:01\r",
      "\u001b[K     |███▋                            | 1.5 MB 46.4 MB/s eta 0:00:01\r",
      "\u001b[K     |███▋                            | 1.5 MB 46.4 MB/s eta 0:00:01\r",
      "\u001b[K     |███▋                            | 1.5 MB 46.4 MB/s eta 0:00:01\r",
      "\u001b[K     |███▋                            | 1.6 MB 46.4 MB/s eta 0:00:01\r",
      "\u001b[K     |███▋                            | 1.6 MB 46.4 MB/s eta 0:00:01\r",
      "\u001b[K     |███▊                            | 1.6 MB 46.4 MB/s eta 0:00:01\r",
      "\u001b[K     |███▊                            | 1.6 MB 46.4 MB/s eta 0:00:01\r",
      "\u001b[K     |███▊                            | 1.6 MB 46.4 MB/s eta 0:00:01\r",
      "\u001b[K     |███▊                            | 1.6 MB 46.4 MB/s eta 0:00:01\r",
      "\u001b[K     |███▉                            | 1.6 MB 46.4 MB/s eta 0:00:01\r",
      "\u001b[K     |███▉                            | 1.6 MB 46.4 MB/s eta 0:00:01\r",
      "\u001b[K     |███▉                            | 1.6 MB 46.4 MB/s eta 0:00:01\r",
      "\u001b[K     |███▉                            | 1.6 MB 46.4 MB/s eta 0:00:01\r",
      "\u001b[K     |███▉                            | 1.7 MB 46.4 MB/s eta 0:00:01\r",
      "\u001b[K     |████                            | 1.7 MB 46.4 MB/s eta 0:00:01\r",
      "\u001b[K     |████                            | 1.7 MB 46.4 MB/s eta 0:00:01\r",
      "\u001b[K     |████                            | 1.7 MB 46.4 MB/s eta 0:00:01\r",
      "\u001b[K     |████                            | 1.7 MB 46.4 MB/s eta 0:00:01\r",
      "\u001b[K     |████                            | 1.7 MB 46.4 MB/s eta 0:00:01\r",
      "\u001b[K     |████                            | 1.7 MB 46.4 MB/s eta 0:00:01\r",
      "\u001b[K     |████                            | 1.7 MB 46.4 MB/s eta 0:00:01\r",
      "\u001b[K     |████                            | 1.7 MB 46.4 MB/s eta 0:00:01\r",
      "\u001b[K     |████                            | 1.8 MB 46.4 MB/s eta 0:00:01\r",
      "\u001b[K     |████▏                           | 1.8 MB 46.4 MB/s eta 0:00:01\r",
      "\u001b[K     |████▏                           | 1.8 MB 46.4 MB/s eta 0:00:01\r",
      "\u001b[K     |████▏                           | 1.8 MB 46.4 MB/s eta 0:00:01\r",
      "\u001b[K     |████▏                           | 1.8 MB 46.4 MB/s eta 0:00:01\r",
      "\u001b[K     |████▏                           | 1.8 MB 46.4 MB/s eta 0:00:01\r",
      "\u001b[K     |████▎                           | 1.8 MB 46.4 MB/s eta 0:00:01\r",
      "\u001b[K     |████▎                           | 1.8 MB 46.4 MB/s eta 0:00:01\r",
      "\u001b[K     |████▎                           | 1.8 MB 46.4 MB/s eta 0:00:01\r",
      "\u001b[K     |████▎                           | 1.8 MB 46.4 MB/s eta 0:00:01\r",
      "\u001b[K     |████▎                           | 1.9 MB 46.4 MB/s eta 0:00:01\r",
      "\u001b[K     |████▍                           | 1.9 MB 46.4 MB/s eta 0:00:01\r",
      "\u001b[K     |████▍                           | 1.9 MB 46.4 MB/s eta 0:00:01\r",
      "\u001b[K     |████▍                           | 1.9 MB 46.4 MB/s eta 0:00:01\r",
      "\u001b[K     |████▍                           | 1.9 MB 46.4 MB/s eta 0:00:01\r",
      "\u001b[K     |████▌                           | 1.9 MB 46.4 MB/s eta 0:00:01\r",
      "\u001b[K     |████▌                           | 1.9 MB 46.4 MB/s eta 0:00:01\r",
      "\u001b[K     |████▌                           | 1.9 MB 46.4 MB/s eta 0:00:01\r",
      "\u001b[K     |████▌                           | 1.9 MB 46.4 MB/s eta 0:00:01\r",
      "\u001b[K     |████▌                           | 1.9 MB 46.4 MB/s eta 0:00:01\r",
      "\u001b[K     |████▋                           | 2.0 MB 46.4 MB/s eta 0:00:01\r",
      "\u001b[K     |████▋                           | 2.0 MB 46.4 MB/s eta 0:00:01\r",
      "\u001b[K     |████▋                           | 2.0 MB 46.4 MB/s eta 0:00:01\r",
      "\u001b[K     |████▋                           | 2.0 MB 46.4 MB/s eta 0:00:01\r",
      "\u001b[K     |████▋                           | 2.0 MB 46.4 MB/s eta 0:00:01\r",
      "\u001b[K     |████▊                           | 2.0 MB 46.4 MB/s eta 0:00:01\r",
      "\u001b[K     |████▊                           | 2.0 MB 46.4 MB/s eta 0:00:01\r",
      "\u001b[K     |████▊                           | 2.0 MB 46.4 MB/s eta 0:00:01\r",
      "\u001b[K     |████▊                           | 2.0 MB 46.4 MB/s eta 0:00:01\r",
      "\u001b[K     |████▉                           | 2.0 MB 46.4 MB/s eta 0:00:01\r",
      "\u001b[K     |████▉                           | 2.1 MB 46.4 MB/s eta 0:00:01\r",
      "\u001b[K     |████▉                           | 2.1 MB 46.4 MB/s eta 0:00:01\r",
      "\u001b[K     |████▉                           | 2.1 MB 46.4 MB/s eta 0:00:01\r",
      "\u001b[K     |████▉                           | 2.1 MB 46.4 MB/s eta 0:00:01\r",
      "\u001b[K     |█████                           | 2.1 MB 46.4 MB/s eta 0:00:01\r",
      "\u001b[K     |█████                           | 2.1 MB 46.4 MB/s eta 0:00:01\r",
      "\u001b[K     |█████                           | 2.1 MB 46.4 MB/s eta 0:00:01\r",
      "\u001b[K     |█████                           | 2.1 MB 46.4 MB/s eta 0:00:01\r",
      "\u001b[K     |█████                           | 2.1 MB 46.4 MB/s eta 0:00:01\r",
      "\u001b[K     |█████                           | 2.2 MB 46.4 MB/s eta 0:00:01\r",
      "\u001b[K     |█████                           | 2.2 MB 46.4 MB/s eta 0:00:01\r",
      "\u001b[K     |█████                           | 2.2 MB 46.4 MB/s eta 0:00:01\r",
      "\u001b[K     |█████                           | 2.2 MB 46.4 MB/s eta 0:00:01\r",
      "\u001b[K     |█████▏                          | 2.2 MB 46.4 MB/s eta 0:00:01\r",
      "\u001b[K     |█████▏                          | 2.2 MB 46.4 MB/s eta 0:00:01\r",
      "\u001b[K     |█████▏                          | 2.2 MB 46.4 MB/s eta 0:00:01\r",
      "\u001b[K     |█████▏                          | 2.2 MB 46.4 MB/s eta 0:00:01\r",
      "\u001b[K     |█████▏                          | 2.2 MB 46.4 MB/s eta 0:00:01\r",
      "\u001b[K     |█████▎                          | 2.2 MB 46.4 MB/s eta 0:00:01\r",
      "\u001b[K     |█████▎                          | 2.3 MB 46.4 MB/s eta 0:00:01\r",
      "\u001b[K     |█████▎                          | 2.3 MB 46.4 MB/s eta 0:00:01\r",
      "\u001b[K     |█████▎                          | 2.3 MB 46.4 MB/s eta 0:00:01\r",
      "\u001b[K     |█████▎                          | 2.3 MB 46.4 MB/s eta 0:00:01\r",
      "\u001b[K     |█████▍                          | 2.3 MB 46.4 MB/s eta 0:00:01\r",
      "\u001b[K     |█████▍                          | 2.3 MB 46.4 MB/s eta 0:00:01\r",
      "\u001b[K     |█████▍                          | 2.3 MB 46.4 MB/s eta 0:00:01\r",
      "\u001b[K     |█████▍                          | 2.3 MB 46.4 MB/s eta 0:00:01\r",
      "\u001b[K     |█████▌                          | 2.3 MB 46.4 MB/s eta 0:00:01\r",
      "\u001b[K     |█████▌                          | 2.3 MB 46.4 MB/s eta 0:00:01\r",
      "\u001b[K     |█████▌                          | 2.4 MB 46.4 MB/s eta 0:00:01\r",
      "\u001b[K     |█████▌                          | 2.4 MB 46.4 MB/s eta 0:00:01\r",
      "\u001b[K     |█████▌                          | 2.4 MB 46.4 MB/s eta 0:00:01\r",
      "\u001b[K     |█████▋                          | 2.4 MB 46.4 MB/s eta 0:00:01\r",
      "\u001b[K     |█████▋                          | 2.4 MB 46.4 MB/s eta 0:00:01\r",
      "\u001b[K     |█████▋                          | 2.4 MB 46.4 MB/s eta 0:00:01\r",
      "\u001b[K     |█████▋                          | 2.4 MB 46.4 MB/s eta 0:00:01\r",
      "\u001b[K     |█████▊                          | 2.4 MB 46.4 MB/s eta 0:00:01\r",
      "\u001b[K     |█████▊                          | 2.4 MB 46.4 MB/s eta 0:00:01\r",
      "\u001b[K     |█████▊                          | 2.4 MB 46.4 MB/s eta 0:00:01\r",
      "\u001b[K     |█████▊                          | 2.5 MB 46.4 MB/s eta 0:00:01\r",
      "\u001b[K     |█████▊                          | 2.5 MB 46.4 MB/s eta 0:00:01\r",
      "\u001b[K     |█████▉                          | 2.5 MB 46.4 MB/s eta 0:00:01\r",
      "\u001b[K     |█████▉                          | 2.5 MB 46.4 MB/s eta 0:00:01\r",
      "\u001b[K     |█████▉                          | 2.5 MB 46.4 MB/s eta 0:00:01\r",
      "\u001b[K     |█████▉                          | 2.5 MB 46.4 MB/s eta 0:00:01\r",
      "\u001b[K     |█████▉                          | 2.5 MB 46.4 MB/s eta 0:00:01\r",
      "\u001b[K     |██████                          | 2.5 MB 46.4 MB/s eta 0:00:01\r",
      "\u001b[K     |██████                          | 2.5 MB 46.4 MB/s eta 0:00:01\r",
      "\u001b[K     |██████                          | 2.5 MB 46.4 MB/s eta 0:00:01\r",
      "\u001b[K     |██████                          | 2.6 MB 46.4 MB/s eta 0:00:01\r",
      "\u001b[K     |██████                          | 2.6 MB 46.4 MB/s eta 0:00:01\r",
      "\u001b[K     |██████                          | 2.6 MB 46.4 MB/s eta 0:00:01\r",
      "\u001b[K     |██████                          | 2.6 MB 46.4 MB/s eta 0:00:01\r",
      "\u001b[K     |██████                          | 2.6 MB 46.4 MB/s eta 0:00:01\r",
      "\u001b[K     |██████                          | 2.6 MB 46.4 MB/s eta 0:00:01\r",
      "\u001b[K     |██████▏                         | 2.6 MB 46.4 MB/s eta 0:00:01\r",
      "\u001b[K     |██████▏                         | 2.6 MB 46.4 MB/s eta 0:00:01\r",
      "\u001b[K     |██████▏                         | 2.6 MB 46.4 MB/s eta 0:00:01\r",
      "\u001b[K     |██████▏                         | 2.7 MB 46.4 MB/s eta 0:00:01\r",
      "\u001b[K     |██████▏                         | 2.7 MB 46.4 MB/s eta 0:00:01\r",
      "\u001b[K     |██████▎                         | 2.7 MB 46.4 MB/s eta 0:00:01\r",
      "\u001b[K     |██████▎                         | 2.7 MB 46.4 MB/s eta 0:00:01\r",
      "\u001b[K     |██████▎                         | 2.7 MB 46.4 MB/s eta 0:00:01\r",
      "\u001b[K     |██████▎                         | 2.7 MB 46.4 MB/s eta 0:00:01\r",
      "\u001b[K     |██████▍                         | 2.7 MB 46.4 MB/s eta 0:00:01\r",
      "\u001b[K     |██████▍                         | 2.7 MB 46.4 MB/s eta 0:00:01\r",
      "\u001b[K     |██████▍                         | 2.7 MB 46.4 MB/s eta 0:00:01\r",
      "\u001b[K     |██████▍                         | 2.7 MB 46.4 MB/s eta 0:00:01\r",
      "\u001b[K     |██████▍                         | 2.8 MB 46.4 MB/s eta 0:00:01\r",
      "\u001b[K     |██████▌                         | 2.8 MB 46.4 MB/s eta 0:00:01\r",
      "\u001b[K     |██████▌                         | 2.8 MB 46.4 MB/s eta 0:00:01\r",
      "\u001b[K     |██████▌                         | 2.8 MB 46.4 MB/s eta 0:00:01\r",
      "\u001b[K     |██████▌                         | 2.8 MB 46.4 MB/s eta 0:00:01\r",
      "\u001b[K     |██████▌                         | 2.8 MB 46.4 MB/s eta 0:00:01\r",
      "\u001b[K     |██████▋                         | 2.8 MB 46.4 MB/s eta 0:00:01\r",
      "\u001b[K     |██████▋                         | 2.8 MB 46.4 MB/s eta 0:00:01\r",
      "\u001b[K     |██████▋                         | 2.8 MB 46.4 MB/s eta 0:00:01\r",
      "\u001b[K     |██████▋                         | 2.8 MB 46.4 MB/s eta 0:00:01\r",
      "\u001b[K     |██████▊                         | 2.9 MB 46.4 MB/s eta 0:00:01\r",
      "\u001b[K     |██████▊                         | 2.9 MB 46.4 MB/s eta 0:00:01\r",
      "\u001b[K     |██████▊                         | 2.9 MB 46.4 MB/s eta 0:00:01\r",
      "\u001b[K     |██████▊                         | 2.9 MB 46.4 MB/s eta 0:00:01\r",
      "\u001b[K     |██████▊                         | 2.9 MB 46.4 MB/s eta 0:00:01\r",
      "\u001b[K     |██████▉                         | 2.9 MB 46.4 MB/s eta 0:00:01\r",
      "\u001b[K     |██████▉                         | 2.9 MB 46.4 MB/s eta 0:00:01\r",
      "\u001b[K     |██████▉                         | 2.9 MB 46.4 MB/s eta 0:00:01\r",
      "\u001b[K     |██████▉                         | 2.9 MB 46.4 MB/s eta 0:00:01\r",
      "\u001b[K     |██████▉                         | 2.9 MB 46.4 MB/s eta 0:00:01\r",
      "\u001b[K     |███████                         | 3.0 MB 46.4 MB/s eta 0:00:01\r",
      "\u001b[K     |███████                         | 3.0 MB 46.4 MB/s eta 0:00:01\r",
      "\u001b[K     |███████                         | 3.0 MB 46.4 MB/s eta 0:00:01\r",
      "\u001b[K     |███████                         | 3.0 MB 46.4 MB/s eta 0:00:01\r",
      "\u001b[K     |███████                         | 3.0 MB 46.4 MB/s eta 0:00:01\r",
      "\u001b[K     |███████                         | 3.0 MB 46.4 MB/s eta 0:00:01\r",
      "\u001b[K     |███████                         | 3.0 MB 46.4 MB/s eta 0:00:01\r",
      "\u001b[K     |███████                         | 3.0 MB 46.4 MB/s eta 0:00:01\r",
      "\u001b[K     |███████                         | 3.0 MB 46.4 MB/s eta 0:00:01\r",
      "\u001b[K     |███████▏                        | 3.1 MB 46.4 MB/s eta 0:00:01\r",
      "\u001b[K     |███████▏                        | 3.1 MB 46.4 MB/s eta 0:00:01\r",
      "\u001b[K     |███████▏                        | 3.1 MB 46.4 MB/s eta 0:00:01\r",
      "\u001b[K     |███████▏                        | 3.1 MB 46.4 MB/s eta 0:00:01\r",
      "\u001b[K     |███████▏                        | 3.1 MB 46.4 MB/s eta 0:00:01\r",
      "\u001b[K     |███████▎                        | 3.1 MB 46.4 MB/s eta 0:00:01\r",
      "\u001b[K     |███████▎                        | 3.1 MB 46.4 MB/s eta 0:00:01\r",
      "\u001b[K     |███████▎                        | 3.1 MB 46.4 MB/s eta 0:00:01\r",
      "\u001b[K     |███████▎                        | 3.1 MB 46.4 MB/s eta 0:00:01\r",
      "\u001b[K     |███████▍                        | 3.1 MB 46.4 MB/s eta 0:00:01\r",
      "\u001b[K     |███████▍                        | 3.2 MB 46.4 MB/s eta 0:00:01\r",
      "\u001b[K     |███████▍                        | 3.2 MB 46.4 MB/s eta 0:00:01\r",
      "\u001b[K     |███████▍                        | 3.2 MB 46.4 MB/s eta 0:00:01\r",
      "\u001b[K     |███████▍                        | 3.2 MB 46.4 MB/s eta 0:00:01\r",
      "\u001b[K     |███████▌                        | 3.2 MB 46.4 MB/s eta 0:00:01\r",
      "\u001b[K     |███████▌                        | 3.2 MB 46.4 MB/s eta 0:00:01\r",
      "\u001b[K     |███████▌                        | 3.2 MB 46.4 MB/s eta 0:00:01\r",
      "\u001b[K     |███████▌                        | 3.2 MB 46.4 MB/s eta 0:00:01\r",
      "\u001b[K     |███████▋                        | 3.2 MB 46.4 MB/s eta 0:00:01\r",
      "\u001b[K     |███████▋                        | 3.2 MB 46.4 MB/s eta 0:00:01\r",
      "\u001b[K     |███████▋                        | 3.3 MB 46.4 MB/s eta 0:00:01\r",
      "\u001b[K     |███████▋                        | 3.3 MB 46.4 MB/s eta 0:00:01\r",
      "\u001b[K     |███████▋                        | 3.3 MB 46.4 MB/s eta 0:00:01\r",
      "\u001b[K     |███████▊                        | 3.3 MB 46.4 MB/s eta 0:00:01\r",
      "\u001b[K     |███████▊                        | 3.3 MB 46.4 MB/s eta 0:00:01\r",
      "\u001b[K     |███████▊                        | 3.3 MB 46.4 MB/s eta 0:00:01\r",
      "\u001b[K     |███████▊                        | 3.3 MB 46.4 MB/s eta 0:00:01\r",
      "\u001b[K     |███████▊                        | 3.3 MB 46.4 MB/s eta 0:00:01\r",
      "\u001b[K     |███████▉                        | 3.3 MB 46.4 MB/s eta 0:00:01\r",
      "\u001b[K     |███████▉                        | 3.3 MB 46.4 MB/s eta 0:00:01\r",
      "\u001b[K     |███████▉                        | 3.4 MB 46.4 MB/s eta 0:00:01\r",
      "\u001b[K     |███████▉                        | 3.4 MB 46.4 MB/s eta 0:00:01\r",
      "\u001b[K     |████████                        | 3.4 MB 46.4 MB/s eta 0:00:01\r",
      "\u001b[K     |████████                        | 3.4 MB 46.4 MB/s eta 0:00:01\r",
      "\u001b[K     |████████                        | 3.4 MB 46.4 MB/s eta 0:00:01\r",
      "\u001b[K     |████████                        | 3.4 MB 46.4 MB/s eta 0:00:01\r",
      "\u001b[K     |████████                        | 3.4 MB 46.4 MB/s eta 0:00:01\r",
      "\u001b[K     |████████                        | 3.4 MB 46.4 MB/s eta 0:00:01\r",
      "\u001b[K     |████████                        | 3.4 MB 46.4 MB/s eta 0:00:01\r",
      "\u001b[K     |████████                        | 3.5 MB 46.4 MB/s eta 0:00:01\r",
      "\u001b[K     |████████                        | 3.5 MB 46.4 MB/s eta 0:00:01\r",
      "\u001b[K     |████████                        | 3.5 MB 46.4 MB/s eta 0:00:01\r",
      "\u001b[K     |████████▏                       | 3.5 MB 46.4 MB/s eta 0:00:01\r",
      "\u001b[K     |████████▏                       | 3.5 MB 46.4 MB/s eta 0:00:01\r",
      "\u001b[K     |████████▏                       | 3.5 MB 46.4 MB/s eta 0:00:01\r",
      "\u001b[K     |████████▏                       | 3.5 MB 46.4 MB/s eta 0:00:01\r",
      "\u001b[K     |████████▎                       | 3.5 MB 46.4 MB/s eta 0:00:01\r",
      "\u001b[K     |████████▎                       | 3.5 MB 46.4 MB/s eta 0:00:01\r",
      "\u001b[K     |████████▎                       | 3.5 MB 46.4 MB/s eta 0:00:01\r",
      "\u001b[K     |████████▎                       | 3.6 MB 46.4 MB/s eta 0:00:01\r",
      "\u001b[K     |████████▎                       | 3.6 MB 46.4 MB/s eta 0:00:01\r",
      "\u001b[K     |████████▍                       | 3.6 MB 46.4 MB/s eta 0:00:01\r",
      "\u001b[K     |████████▍                       | 3.6 MB 46.4 MB/s eta 0:00:01\r",
      "\u001b[K     |████████▍                       | 3.6 MB 46.4 MB/s eta 0:00:01\r",
      "\u001b[K     |████████▍                       | 3.6 MB 46.4 MB/s eta 0:00:01\r",
      "\u001b[K     |████████▍                       | 3.6 MB 46.4 MB/s eta 0:00:01\r",
      "\u001b[K     |████████▌                       | 3.6 MB 46.4 MB/s eta 0:00:01\r",
      "\u001b[K     |████████▌                       | 3.6 MB 46.4 MB/s eta 0:00:01\r",
      "\u001b[K     |████████▌                       | 3.6 MB 46.4 MB/s eta 0:00:01\r",
      "\u001b[K     |████████▌                       | 3.7 MB 46.4 MB/s eta 0:00:01\r",
      "\u001b[K     |████████▋                       | 3.7 MB 46.4 MB/s eta 0:00:01\r",
      "\u001b[K     |████████▋                       | 3.7 MB 46.4 MB/s eta 0:00:01\r",
      "\u001b[K     |████████▋                       | 3.7 MB 46.4 MB/s eta 0:00:01\r",
      "\u001b[K     |████████▋                       | 3.7 MB 46.4 MB/s eta 0:00:01\r",
      "\u001b[K     |████████▋                       | 3.7 MB 46.4 MB/s eta 0:00:01\r",
      "\u001b[K     |████████▊                       | 3.7 MB 46.4 MB/s eta 0:00:01\r",
      "\u001b[K     |████████▊                       | 3.7 MB 46.4 MB/s eta 0:00:01\r",
      "\u001b[K     |████████▊                       | 3.7 MB 46.4 MB/s eta 0:00:01\r",
      "\u001b[K     |████████▊                       | 3.7 MB 46.4 MB/s eta 0:00:01\r",
      "\u001b[K     |████████▊                       | 3.8 MB 46.4 MB/s eta 0:00:01\r",
      "\u001b[K     |████████▉                       | 3.8 MB 46.4 MB/s eta 0:00:01\r",
      "\u001b[K     |████████▉                       | 3.8 MB 46.4 MB/s eta 0:00:01\r",
      "\u001b[K     |████████▉                       | 3.8 MB 46.4 MB/s eta 0:00:01\r",
      "\u001b[K     |████████▉                       | 3.8 MB 46.4 MB/s eta 0:00:01\r",
      "\u001b[K     |█████████                       | 3.8 MB 46.4 MB/s eta 0:00:01\r",
      "\u001b[K     |█████████                       | 3.8 MB 46.4 MB/s eta 0:00:01\r",
      "\u001b[K     |█████████                       | 3.8 MB 46.4 MB/s eta 0:00:01\r",
      "\u001b[K     |█████████                       | 3.8 MB 46.4 MB/s eta 0:00:01\r",
      "\u001b[K     |█████████                       | 3.9 MB 46.4 MB/s eta 0:00:01\r",
      "\u001b[K     |█████████                       | 3.9 MB 46.4 MB/s eta 0:00:01\r",
      "\u001b[K     |█████████                       | 3.9 MB 46.4 MB/s eta 0:00:01\r",
      "\u001b[K     |█████████                       | 3.9 MB 46.4 MB/s eta 0:00:01\r",
      "\u001b[K     |█████████                       | 3.9 MB 46.4 MB/s eta 0:00:01\r",
      "\u001b[K     |█████████▏                      | 3.9 MB 46.4 MB/s eta 0:00:01\r",
      "\u001b[K     |█████████▏                      | 3.9 MB 46.4 MB/s eta 0:00:01\r",
      "\u001b[K     |█████████▏                      | 3.9 MB 46.4 MB/s eta 0:00:01\r",
      "\u001b[K     |█████████▏                      | 3.9 MB 46.4 MB/s eta 0:00:01\r",
      "\u001b[K     |█████████▏                      | 3.9 MB 46.4 MB/s eta 0:00:01\r",
      "\u001b[K     |█████████▎                      | 4.0 MB 46.4 MB/s eta 0:00:01\r",
      "\u001b[K     |█████████▎                      | 4.0 MB 46.4 MB/s eta 0:00:01\r",
      "\u001b[K     |█████████▎                      | 4.0 MB 46.4 MB/s eta 0:00:01\r",
      "\u001b[K     |█████████▎                      | 4.0 MB 46.4 MB/s eta 0:00:01\r",
      "\u001b[K     |█████████▎                      | 4.0 MB 46.4 MB/s eta 0:00:01\r",
      "\u001b[K     |█████████▍                      | 4.0 MB 46.4 MB/s eta 0:00:01"
     ]
    },
    {
     "name": "stdout",
     "output_type": "stream",
     "text": [
      "\r",
      "\u001b[K     |█████████▍                      | 4.0 MB 46.4 MB/s eta 0:00:01\r",
      "\u001b[K     |█████████▍                      | 4.0 MB 46.4 MB/s eta 0:00:01\r",
      "\u001b[K     |█████████▍                      | 4.0 MB 46.4 MB/s eta 0:00:01\r",
      "\u001b[K     |█████████▌                      | 4.0 MB 46.4 MB/s eta 0:00:01\r",
      "\u001b[K     |█████████▌                      | 4.1 MB 46.4 MB/s eta 0:00:01\r",
      "\u001b[K     |█████████▌                      | 4.1 MB 46.4 MB/s eta 0:00:01\r",
      "\u001b[K     |█████████▌                      | 4.1 MB 46.4 MB/s eta 0:00:01\r",
      "\u001b[K     |█████████▌                      | 4.1 MB 46.4 MB/s eta 0:00:01\r",
      "\u001b[K     |█████████▋                      | 4.1 MB 46.4 MB/s eta 0:00:01\r",
      "\u001b[K     |█████████▋                      | 4.1 MB 46.4 MB/s eta 0:00:01\r",
      "\u001b[K     |█████████▋                      | 4.1 MB 46.4 MB/s eta 0:00:01\r",
      "\u001b[K     |█████████▋                      | 4.1 MB 46.4 MB/s eta 0:00:01\r",
      "\u001b[K     |█████████▋                      | 4.1 MB 46.4 MB/s eta 0:00:01\r",
      "\u001b[K     |█████████▊                      | 4.1 MB 46.4 MB/s eta 0:00:01\r",
      "\u001b[K     |█████████▊                      | 4.2 MB 46.4 MB/s eta 0:00:01\r",
      "\u001b[K     |█████████▊                      | 4.2 MB 46.4 MB/s eta 0:00:01\r",
      "\u001b[K     |█████████▊                      | 4.2 MB 46.4 MB/s eta 0:00:01\r",
      "\u001b[K     |█████████▉                      | 4.2 MB 46.4 MB/s eta 0:00:01\r",
      "\u001b[K     |█████████▉                      | 4.2 MB 46.4 MB/s eta 0:00:01\r",
      "\u001b[K     |█████████▉                      | 4.2 MB 46.4 MB/s eta 0:00:01\r",
      "\u001b[K     |█████████▉                      | 4.2 MB 46.4 MB/s eta 0:00:01\r",
      "\u001b[K     |█████████▉                      | 4.2 MB 46.4 MB/s eta 0:00:01\r",
      "\u001b[K     |██████████                      | 4.2 MB 46.4 MB/s eta 0:00:01\r",
      "\u001b[K     |██████████                      | 4.2 MB 46.4 MB/s eta 0:00:01\r",
      "\u001b[K     |██████████                      | 4.3 MB 46.4 MB/s eta 0:00:01\r",
      "\u001b[K     |██████████                      | 4.3 MB 46.4 MB/s eta 0:00:01\r",
      "\u001b[K     |██████████                      | 4.3 MB 46.4 MB/s eta 0:00:01\r",
      "\u001b[K     |██████████                      | 4.3 MB 46.4 MB/s eta 0:00:01\r",
      "\u001b[K     |██████████                      | 4.3 MB 46.4 MB/s eta 0:00:01\r",
      "\u001b[K     |██████████                      | 4.3 MB 46.4 MB/s eta 0:00:01\r",
      "\u001b[K     |██████████                      | 4.3 MB 46.4 MB/s eta 0:00:01\r",
      "\u001b[K     |██████████▏                     | 4.3 MB 46.4 MB/s eta 0:00:01\r",
      "\u001b[K     |██████████▏                     | 4.3 MB 46.4 MB/s eta 0:00:01\r",
      "\u001b[K     |██████████▏                     | 4.4 MB 46.4 MB/s eta 0:00:01\r",
      "\u001b[K     |██████████▏                     | 4.4 MB 46.4 MB/s eta 0:00:01\r",
      "\u001b[K     |██████████▏                     | 4.4 MB 46.4 MB/s eta 0:00:01\r",
      "\u001b[K     |██████████▎                     | 4.4 MB 46.4 MB/s eta 0:00:01\r",
      "\u001b[K     |██████████▎                     | 4.4 MB 46.4 MB/s eta 0:00:01\r",
      "\u001b[K     |██████████▎                     | 4.4 MB 46.4 MB/s eta 0:00:01\r",
      "\u001b[K     |██████████▎                     | 4.4 MB 46.4 MB/s eta 0:00:01\r",
      "\u001b[K     |██████████▎                     | 4.4 MB 46.4 MB/s eta 0:00:01\r",
      "\u001b[K     |██████████▍                     | 4.4 MB 46.4 MB/s eta 0:00:01\r",
      "\u001b[K     |██████████▍                     | 4.4 MB 46.4 MB/s eta 0:00:01\r",
      "\u001b[K     |██████████▍                     | 4.5 MB 46.4 MB/s eta 0:00:01\r",
      "\u001b[K     |██████████▍                     | 4.5 MB 46.4 MB/s eta 0:00:01\r",
      "\u001b[K     |██████████▌                     | 4.5 MB 46.4 MB/s eta 0:00:01\r",
      "\u001b[K     |██████████▌                     | 4.5 MB 46.4 MB/s eta 0:00:01\r",
      "\u001b[K     |██████████▌                     | 4.5 MB 46.4 MB/s eta 0:00:01\r",
      "\u001b[K     |██████████▌                     | 4.5 MB 46.4 MB/s eta 0:00:01\r",
      "\u001b[K     |██████████▌                     | 4.5 MB 46.4 MB/s eta 0:00:01\r",
      "\u001b[K     |██████████▋                     | 4.5 MB 46.4 MB/s eta 0:00:01\r",
      "\u001b[K     |██████████▋                     | 4.5 MB 46.4 MB/s eta 0:00:01\r",
      "\u001b[K     |██████████▋                     | 4.5 MB 46.4 MB/s eta 0:00:01\r",
      "\u001b[K     |██████████▋                     | 4.6 MB 46.4 MB/s eta 0:00:01\r",
      "\u001b[K     |██████████▋                     | 4.6 MB 46.4 MB/s eta 0:00:01\r",
      "\u001b[K     |██████████▊                     | 4.6 MB 46.4 MB/s eta 0:00:01\r",
      "\u001b[K     |██████████▊                     | 4.6 MB 46.4 MB/s eta 0:00:01\r",
      "\u001b[K     |██████████▊                     | 4.6 MB 46.4 MB/s eta 0:00:01\r",
      "\u001b[K     |██████████▊                     | 4.6 MB 46.4 MB/s eta 0:00:01\r",
      "\u001b[K     |██████████▉                     | 4.6 MB 46.4 MB/s eta 0:00:01\r",
      "\u001b[K     |██████████▉                     | 4.6 MB 46.4 MB/s eta 0:00:01\r",
      "\u001b[K     |██████████▉                     | 4.6 MB 46.4 MB/s eta 0:00:01\r",
      "\u001b[K     |██████████▉                     | 4.6 MB 46.4 MB/s eta 0:00:01\r",
      "\u001b[K     |██████████▉                     | 4.7 MB 46.4 MB/s eta 0:00:01\r",
      "\u001b[K     |███████████                     | 4.7 MB 46.4 MB/s eta 0:00:01\r",
      "\u001b[K     |███████████                     | 4.7 MB 46.4 MB/s eta 0:00:01\r",
      "\u001b[K     |███████████                     | 4.7 MB 46.4 MB/s eta 0:00:01\r",
      "\u001b[K     |███████████                     | 4.7 MB 46.4 MB/s eta 0:00:01\r",
      "\u001b[K     |███████████                     | 4.7 MB 46.4 MB/s eta 0:00:01\r",
      "\u001b[K     |███████████                     | 4.7 MB 46.4 MB/s eta 0:00:01\r",
      "\u001b[K     |███████████                     | 4.7 MB 46.4 MB/s eta 0:00:01\r",
      "\u001b[K     |███████████                     | 4.7 MB 46.4 MB/s eta 0:00:01\r",
      "\u001b[K     |███████████                     | 4.8 MB 46.4 MB/s eta 0:00:01\r",
      "\u001b[K     |███████████▏                    | 4.8 MB 46.4 MB/s eta 0:00:01\r",
      "\u001b[K     |███████████▏                    | 4.8 MB 46.4 MB/s eta 0:00:01\r",
      "\u001b[K     |███████████▏                    | 4.8 MB 46.4 MB/s eta 0:00:01\r",
      "\u001b[K     |███████████▏                    | 4.8 MB 46.4 MB/s eta 0:00:01\r",
      "\u001b[K     |███████████▏                    | 4.8 MB 46.4 MB/s eta 0:00:01\r",
      "\u001b[K     |███████████▎                    | 4.8 MB 46.4 MB/s eta 0:00:01\r",
      "\u001b[K     |███████████▎                    | 4.8 MB 46.4 MB/s eta 0:00:01\r",
      "\u001b[K     |███████████▎                    | 4.8 MB 46.4 MB/s eta 0:00:01\r",
      "\u001b[K     |███████████▎                    | 4.8 MB 46.4 MB/s eta 0:00:01\r",
      "\u001b[K     |███████████▍                    | 4.9 MB 46.4 MB/s eta 0:00:01\r",
      "\u001b[K     |███████████▍                    | 4.9 MB 46.4 MB/s eta 0:00:01\r",
      "\u001b[K     |███████████▍                    | 4.9 MB 46.4 MB/s eta 0:00:01\r",
      "\u001b[K     |███████████▍                    | 4.9 MB 46.4 MB/s eta 0:00:01\r",
      "\u001b[K     |███████████▍                    | 4.9 MB 46.4 MB/s eta 0:00:01\r",
      "\u001b[K     |███████████▌                    | 4.9 MB 46.4 MB/s eta 0:00:01\r",
      "\u001b[K     |███████████▌                    | 4.9 MB 46.4 MB/s eta 0:00:01\r",
      "\u001b[K     |███████████▌                    | 4.9 MB 46.4 MB/s eta 0:00:01\r",
      "\u001b[K     |███████████▌                    | 4.9 MB 46.4 MB/s eta 0:00:01\r",
      "\u001b[K     |███████████▌                    | 4.9 MB 46.4 MB/s eta 0:00:01\r",
      "\u001b[K     |███████████▋                    | 5.0 MB 46.4 MB/s eta 0:00:01\r",
      "\u001b[K     |███████████▋                    | 5.0 MB 46.4 MB/s eta 0:00:01\r",
      "\u001b[K     |███████████▋                    | 5.0 MB 46.4 MB/s eta 0:00:01\r",
      "\u001b[K     |███████████▋                    | 5.0 MB 46.4 MB/s eta 0:00:01\r",
      "\u001b[K     |███████████▊                    | 5.0 MB 46.4 MB/s eta 0:00:01\r",
      "\u001b[K     |███████████▊                    | 5.0 MB 46.4 MB/s eta 0:00:01\r",
      "\u001b[K     |███████████▊                    | 5.0 MB 46.4 MB/s eta 0:00:01\r",
      "\u001b[K     |███████████▊                    | 5.0 MB 46.4 MB/s eta 0:00:01\r",
      "\u001b[K     |███████████▊                    | 5.0 MB 46.4 MB/s eta 0:00:01\r",
      "\u001b[K     |███████████▉                    | 5.0 MB 46.4 MB/s eta 0:00:01\r",
      "\u001b[K     |███████████▉                    | 5.1 MB 46.4 MB/s eta 0:00:01\r",
      "\u001b[K     |███████████▉                    | 5.1 MB 46.4 MB/s eta 0:00:01\r",
      "\u001b[K     |███████████▉                    | 5.1 MB 46.4 MB/s eta 0:00:01\r",
      "\u001b[K     |███████████▉                    | 5.1 MB 46.4 MB/s eta 0:00:01\r",
      "\u001b[K     |████████████                    | 5.1 MB 46.4 MB/s eta 0:00:01\r",
      "\u001b[K     |████████████                    | 5.1 MB 46.4 MB/s eta 0:00:01\r",
      "\u001b[K     |████████████                    | 5.1 MB 46.4 MB/s eta 0:00:01\r",
      "\u001b[K     |████████████                    | 5.1 MB 46.4 MB/s eta 0:00:01\r",
      "\u001b[K     |████████████                    | 5.1 MB 46.4 MB/s eta 0:00:01\r",
      "\u001b[K     |████████████                    | 5.2 MB 46.4 MB/s eta 0:00:01\r",
      "\u001b[K     |████████████                    | 5.2 MB 46.4 MB/s eta 0:00:01\r",
      "\u001b[K     |████████████                    | 5.2 MB 46.4 MB/s eta 0:00:01\r",
      "\u001b[K     |████████████                    | 5.2 MB 46.4 MB/s eta 0:00:01\r",
      "\u001b[K     |████████████▏                   | 5.2 MB 46.4 MB/s eta 0:00:01\r",
      "\u001b[K     |████████████▏                   | 5.2 MB 46.4 MB/s eta 0:00:01\r",
      "\u001b[K     |████████████▏                   | 5.2 MB 46.4 MB/s eta 0:00:01\r",
      "\u001b[K     |████████████▏                   | 5.2 MB 46.4 MB/s eta 0:00:01\r",
      "\u001b[K     |████████████▏                   | 5.2 MB 46.4 MB/s eta 0:00:01\r",
      "\u001b[K     |████████████▎                   | 5.2 MB 46.4 MB/s eta 0:00:01\r",
      "\u001b[K     |████████████▎                   | 5.3 MB 46.4 MB/s eta 0:00:01\r",
      "\u001b[K     |████████████▎                   | 5.3 MB 46.4 MB/s eta 0:00:01\r",
      "\u001b[K     |████████████▎                   | 5.3 MB 46.4 MB/s eta 0:00:01\r",
      "\u001b[K     |████████████▍                   | 5.3 MB 46.4 MB/s eta 0:00:01\r",
      "\u001b[K     |████████████▍                   | 5.3 MB 46.4 MB/s eta 0:00:01\r",
      "\u001b[K     |████████████▍                   | 5.3 MB 46.4 MB/s eta 0:00:01\r",
      "\u001b[K     |████████████▍                   | 5.3 MB 46.4 MB/s eta 0:00:01\r",
      "\u001b[K     |████████████▍                   | 5.3 MB 46.4 MB/s eta 0:00:01\r",
      "\u001b[K     |████████████▌                   | 5.3 MB 46.4 MB/s eta 0:00:01\r",
      "\u001b[K     |████████████▌                   | 5.3 MB 46.4 MB/s eta 0:00:01\r",
      "\u001b[K     |████████████▌                   | 5.4 MB 46.4 MB/s eta 0:00:01\r",
      "\u001b[K     |████████████▌                   | 5.4 MB 46.4 MB/s eta 0:00:01\r",
      "\u001b[K     |████████████▌                   | 5.4 MB 46.4 MB/s eta 0:00:01\r",
      "\u001b[K     |████████████▋                   | 5.4 MB 46.4 MB/s eta 0:00:01\r",
      "\u001b[K     |████████████▋                   | 5.4 MB 46.4 MB/s eta 0:00:01\r",
      "\u001b[K     |████████████▋                   | 5.4 MB 46.4 MB/s eta 0:00:01\r",
      "\u001b[K     |████████████▋                   | 5.4 MB 46.4 MB/s eta 0:00:01\r",
      "\u001b[K     |████████████▊                   | 5.4 MB 46.4 MB/s eta 0:00:01\r",
      "\u001b[K     |████████████▊                   | 5.4 MB 46.4 MB/s eta 0:00:01\r",
      "\u001b[K     |████████████▊                   | 5.4 MB 46.4 MB/s eta 0:00:01\r",
      "\u001b[K     |████████████▊                   | 5.5 MB 46.4 MB/s eta 0:00:01\r",
      "\u001b[K     |████████████▊                   | 5.5 MB 46.4 MB/s eta 0:00:01\r",
      "\u001b[K     |████████████▉                   | 5.5 MB 46.4 MB/s eta 0:00:01\r",
      "\u001b[K     |████████████▉                   | 5.5 MB 46.4 MB/s eta 0:00:01\r",
      "\u001b[K     |████████████▉                   | 5.5 MB 46.4 MB/s eta 0:00:01\r",
      "\u001b[K     |████████████▉                   | 5.5 MB 46.4 MB/s eta 0:00:01\r",
      "\u001b[K     |█████████████                   | 5.5 MB 46.4 MB/s eta 0:00:01\r",
      "\u001b[K     |█████████████                   | 5.5 MB 46.4 MB/s eta 0:00:01\r",
      "\u001b[K     |█████████████                   | 5.5 MB 46.4 MB/s eta 0:00:01\r",
      "\u001b[K     |█████████████                   | 5.6 MB 46.4 MB/s eta 0:00:01\r",
      "\u001b[K     |█████████████                   | 5.6 MB 46.4 MB/s eta 0:00:01\r",
      "\u001b[K     |█████████████                   | 5.6 MB 46.4 MB/s eta 0:00:01\r",
      "\u001b[K     |█████████████                   | 5.6 MB 46.4 MB/s eta 0:00:01\r",
      "\u001b[K     |█████████████                   | 5.6 MB 46.4 MB/s eta 0:00:01\r",
      "\u001b[K     |█████████████                   | 5.6 MB 46.4 MB/s eta 0:00:01\r",
      "\u001b[K     |█████████████                   | 5.6 MB 46.4 MB/s eta 0:00:01\r",
      "\u001b[K     |█████████████▏                  | 5.6 MB 46.4 MB/s eta 0:00:01\r",
      "\u001b[K     |█████████████▏                  | 5.6 MB 46.4 MB/s eta 0:00:01\r",
      "\u001b[K     |█████████████▏                  | 5.6 MB 46.4 MB/s eta 0:00:01\r",
      "\u001b[K     |█████████████▏                  | 5.7 MB 46.4 MB/s eta 0:00:01\r",
      "\u001b[K     |█████████████▎                  | 5.7 MB 46.4 MB/s eta 0:00:01\r",
      "\u001b[K     |█████████████▎                  | 5.7 MB 46.4 MB/s eta 0:00:01\r",
      "\u001b[K     |█████████████▎                  | 5.7 MB 46.4 MB/s eta 0:00:01\r",
      "\u001b[K     |█████████████▎                  | 5.7 MB 46.4 MB/s eta 0:00:01\r",
      "\u001b[K     |█████████████▎                  | 5.7 MB 46.4 MB/s eta 0:00:01\r",
      "\u001b[K     |█████████████▍                  | 5.7 MB 46.4 MB/s eta 0:00:01\r",
      "\u001b[K     |█████████████▍                  | 5.7 MB 46.4 MB/s eta 0:00:01\r",
      "\u001b[K     |█████████████▍                  | 5.7 MB 46.4 MB/s eta 0:00:01\r",
      "\u001b[K     |█████████████▍                  | 5.7 MB 46.4 MB/s eta 0:00:01\r",
      "\u001b[K     |█████████████▍                  | 5.8 MB 46.4 MB/s eta 0:00:01\r",
      "\u001b[K     |█████████████▌                  | 5.8 MB 46.4 MB/s eta 0:00:01\r",
      "\u001b[K     |█████████████▌                  | 5.8 MB 46.4 MB/s eta 0:00:01\r",
      "\u001b[K     |█████████████▌                  | 5.8 MB 46.4 MB/s eta 0:00:01\r",
      "\u001b[K     |█████████████▌                  | 5.8 MB 46.4 MB/s eta 0:00:01\r",
      "\u001b[K     |█████████████▋                  | 5.8 MB 46.4 MB/s eta 0:00:01\r",
      "\u001b[K     |█████████████▋                  | 5.8 MB 46.4 MB/s eta 0:00:01\r",
      "\u001b[K     |█████████████▋                  | 5.8 MB 46.4 MB/s eta 0:00:01\r",
      "\u001b[K     |█████████████▋                  | 5.8 MB 46.4 MB/s eta 0:00:01\r",
      "\u001b[K     |█████████████▋                  | 5.8 MB 46.4 MB/s eta 0:00:01\r",
      "\u001b[K     |█████████████▊                  | 5.9 MB 46.4 MB/s eta 0:00:01\r",
      "\u001b[K     |█████████████▊                  | 5.9 MB 46.4 MB/s eta 0:00:01\r",
      "\u001b[K     |█████████████▊                  | 5.9 MB 46.4 MB/s eta 0:00:01\r",
      "\u001b[K     |█████████████▊                  | 5.9 MB 46.4 MB/s eta 0:00:01\r",
      "\u001b[K     |█████████████▊                  | 5.9 MB 46.4 MB/s eta 0:00:01\r",
      "\u001b[K     |█████████████▉                  | 5.9 MB 46.4 MB/s eta 0:00:01\r",
      "\u001b[K     |█████████████▉                  | 5.9 MB 46.4 MB/s eta 0:00:01\r",
      "\u001b[K     |█████████████▉                  | 5.9 MB 46.4 MB/s eta 0:00:01\r",
      "\u001b[K     |█████████████▉                  | 5.9 MB 46.4 MB/s eta 0:00:01\r",
      "\u001b[K     |██████████████                  | 5.9 MB 46.4 MB/s eta 0:00:01\r",
      "\u001b[K     |██████████████                  | 6.0 MB 46.4 MB/s eta 0:00:01\r",
      "\u001b[K     |██████████████                  | 6.0 MB 46.4 MB/s eta 0:00:01\r",
      "\u001b[K     |██████████████                  | 6.0 MB 46.4 MB/s eta 0:00:01\r",
      "\u001b[K     |██████████████                  | 6.0 MB 46.4 MB/s eta 0:00:01\r",
      "\u001b[K     |██████████████                  | 6.0 MB 46.4 MB/s eta 0:00:01\r",
      "\u001b[K     |██████████████                  | 6.0 MB 46.4 MB/s eta 0:00:01\r",
      "\u001b[K     |██████████████                  | 6.0 MB 46.4 MB/s eta 0:00:01\r",
      "\u001b[K     |██████████████                  | 6.0 MB 46.4 MB/s eta 0:00:01\r",
      "\u001b[K     |██████████████                  | 6.0 MB 46.4 MB/s eta 0:00:01\r",
      "\u001b[K     |██████████████▏                 | 6.1 MB 46.4 MB/s eta 0:00:01\r",
      "\u001b[K     |██████████████▏                 | 6.1 MB 46.4 MB/s eta 0:00:01\r",
      "\u001b[K     |██████████████▏                 | 6.1 MB 46.4 MB/s eta 0:00:01\r",
      "\u001b[K     |██████████████▏                 | 6.1 MB 46.4 MB/s eta 0:00:01\r",
      "\u001b[K     |██████████████▎                 | 6.1 MB 46.4 MB/s eta 0:00:01\r",
      "\u001b[K     |██████████████▎                 | 6.1 MB 46.4 MB/s eta 0:00:01\r",
      "\u001b[K     |██████████████▎                 | 6.1 MB 46.4 MB/s eta 0:00:01\r",
      "\u001b[K     |██████████████▎                 | 6.1 MB 46.4 MB/s eta 0:00:01\r",
      "\u001b[K     |██████████████▎                 | 6.1 MB 46.4 MB/s eta 0:00:01\r",
      "\u001b[K     |██████████████▍                 | 6.1 MB 46.4 MB/s eta 0:00:01\r",
      "\u001b[K     |██████████████▍                 | 6.2 MB 46.4 MB/s eta 0:00:01\r",
      "\u001b[K     |██████████████▍                 | 6.2 MB 46.4 MB/s eta 0:00:01\r",
      "\u001b[K     |██████████████▍                 | 6.2 MB 46.4 MB/s eta 0:00:01\r",
      "\u001b[K     |██████████████▍                 | 6.2 MB 46.4 MB/s eta 0:00:01\r",
      "\u001b[K     |██████████████▌                 | 6.2 MB 46.4 MB/s eta 0:00:01\r",
      "\u001b[K     |██████████████▌                 | 6.2 MB 46.4 MB/s eta 0:00:01\r",
      "\u001b[K     |██████████████▌                 | 6.2 MB 46.4 MB/s eta 0:00:01\r",
      "\u001b[K     |██████████████▌                 | 6.2 MB 46.4 MB/s eta 0:00:01\r",
      "\u001b[K     |██████████████▋                 | 6.2 MB 46.4 MB/s eta 0:00:01\r",
      "\u001b[K     |██████████████▋                 | 6.2 MB 46.4 MB/s eta 0:00:01\r",
      "\u001b[K     |██████████████▋                 | 6.3 MB 46.4 MB/s eta 0:00:01\r",
      "\u001b[K     |██████████████▋                 | 6.3 MB 46.4 MB/s eta 0:00:01\r",
      "\u001b[K     |██████████████▋                 | 6.3 MB 46.4 MB/s eta 0:00:01\r",
      "\u001b[K     |██████████████▊                 | 6.3 MB 46.4 MB/s eta 0:00:01\r",
      "\u001b[K     |██████████████▊                 | 6.3 MB 46.4 MB/s eta 0:00:01\r",
      "\u001b[K     |██████████████▊                 | 6.3 MB 46.4 MB/s eta 0:00:01\r",
      "\u001b[K     |██████████████▊                 | 6.3 MB 46.4 MB/s eta 0:00:01\r",
      "\u001b[K     |██████████████▉                 | 6.3 MB 46.4 MB/s eta 0:00:01\r",
      "\u001b[K     |██████████████▉                 | 6.3 MB 46.4 MB/s eta 0:00:01\r",
      "\u001b[K     |██████████████▉                 | 6.3 MB 46.4 MB/s eta 0:00:01\r",
      "\u001b[K     |██████████████▉                 | 6.4 MB 46.4 MB/s eta 0:00:01\r",
      "\u001b[K     |██████████████▉                 | 6.4 MB 46.4 MB/s eta 0:00:01\r",
      "\u001b[K     |███████████████                 | 6.4 MB 46.4 MB/s eta 0:00:01\r",
      "\u001b[K     |███████████████                 | 6.4 MB 46.4 MB/s eta 0:00:01\r",
      "\u001b[K     |███████████████                 | 6.4 MB 46.4 MB/s eta 0:00:01\r",
      "\u001b[K     |███████████████                 | 6.4 MB 46.4 MB/s eta 0:00:01\r",
      "\u001b[K     |███████████████                 | 6.4 MB 46.4 MB/s eta 0:00:01\r",
      "\u001b[K     |███████████████                 | 6.4 MB 46.4 MB/s eta 0:00:01\r",
      "\u001b[K     |███████████████                 | 6.4 MB 46.4 MB/s eta 0:00:01\r",
      "\u001b[K     |███████████████                 | 6.5 MB 46.4 MB/s eta 0:00:01\r",
      "\u001b[K     |███████████████                 | 6.5 MB 46.4 MB/s eta 0:00:01\r",
      "\u001b[K     |███████████████▏                | 6.5 MB 46.4 MB/s eta 0:00:01\r",
      "\u001b[K     |███████████████▏                | 6.5 MB 46.4 MB/s eta 0:00:01\r",
      "\u001b[K     |███████████████▏                | 6.5 MB 46.4 MB/s eta 0:00:01\r",
      "\u001b[K     |███████████████▏                | 6.5 MB 46.4 MB/s eta 0:00:01\r",
      "\u001b[K     |███████████████▏                | 6.5 MB 46.4 MB/s eta 0:00:01\r",
      "\u001b[K     |███████████████▎                | 6.5 MB 46.4 MB/s eta 0:00:01\r",
      "\u001b[K     |███████████████▎                | 6.5 MB 46.4 MB/s eta 0:00:01\r",
      "\u001b[K     |███████████████▎                | 6.5 MB 46.4 MB/s eta 0:00:01\r",
      "\u001b[K     |███████████████▎                | 6.6 MB 46.4 MB/s eta 0:00:01\r",
      "\u001b[K     |███████████████▎                | 6.6 MB 46.4 MB/s eta 0:00:01\r",
      "\u001b[K     |███████████████▍                | 6.6 MB 46.4 MB/s eta 0:00:01\r",
      "\u001b[K     |███████████████▍                | 6.6 MB 46.4 MB/s eta 0:00:01\r",
      "\u001b[K     |███████████████▍                | 6.6 MB 46.4 MB/s eta 0:00:01\r",
      "\u001b[K     |███████████████▍                | 6.6 MB 46.4 MB/s eta 0:00:01\r",
      "\u001b[K     |███████████████▌                | 6.6 MB 46.4 MB/s eta 0:00:01\r",
      "\u001b[K     |███████████████▌                | 6.6 MB 46.4 MB/s eta 0:00:01\r",
      "\u001b[K     |███████████████▌                | 6.6 MB 46.4 MB/s eta 0:00:01\r",
      "\u001b[K     |███████████████▌                | 6.6 MB 46.4 MB/s eta 0:00:01\r",
      "\u001b[K     |███████████████▌                | 6.7 MB 46.4 MB/s eta 0:00:01\r",
      "\u001b[K     |███████████████▋                | 6.7 MB 46.4 MB/s eta 0:00:01\r",
      "\u001b[K     |███████████████▋                | 6.7 MB 46.4 MB/s eta 0:00:01\r",
      "\u001b[K     |███████████████▋                | 6.7 MB 46.4 MB/s eta 0:00:01\r",
      "\u001b[K     |███████████████▋                | 6.7 MB 46.4 MB/s eta 0:00:01\r",
      "\u001b[K     |███████████████▋                | 6.7 MB 46.4 MB/s eta 0:00:01\r",
      "\u001b[K     |███████████████▊                | 6.7 MB 46.4 MB/s eta 0:00:01\r",
      "\u001b[K     |███████████████▊                | 6.7 MB 46.4 MB/s eta 0:00:01\r",
      "\u001b[K     |███████████████▊                | 6.7 MB 46.4 MB/s eta 0:00:01\r",
      "\u001b[K     |███████████████▊                | 6.7 MB 46.4 MB/s eta 0:00:01\r",
      "\u001b[K     |███████████████▉                | 6.8 MB 46.4 MB/s eta 0:00:01\r",
      "\u001b[K     |███████████████▉                | 6.8 MB 46.4 MB/s eta 0:00:01\r",
      "\u001b[K     |███████████████▉                | 6.8 MB 46.4 MB/s eta 0:00:01\r",
      "\u001b[K     |███████████████▉                | 6.8 MB 46.4 MB/s eta 0:00:01\r",
      "\u001b[K     |███████████████▉                | 6.8 MB 46.4 MB/s eta 0:00:01\r",
      "\u001b[K     |████████████████                | 6.8 MB 46.4 MB/s eta 0:00:01\r",
      "\u001b[K     |████████████████                | 6.8 MB 46.4 MB/s eta 0:00:01\r",
      "\u001b[K     |████████████████                | 6.8 MB 46.4 MB/s eta 0:00:01\r",
      "\u001b[K     |████████████████                | 6.8 MB 46.4 MB/s eta 0:00:01\r",
      "\u001b[K     |████████████████                | 6.9 MB 46.4 MB/s eta 0:00:01\r",
      "\u001b[K     |████████████████                | 6.9 MB 46.4 MB/s eta 0:00:01\r",
      "\u001b[K     |████████████████                | 6.9 MB 46.4 MB/s eta 0:00:01\r",
      "\u001b[K     |████████████████                | 6.9 MB 46.4 MB/s eta 0:00:01\r",
      "\u001b[K     |████████████████                | 6.9 MB 46.4 MB/s eta 0:00:01\r",
      "\u001b[K     |████████████████▏               | 6.9 MB 46.4 MB/s eta 0:00:01\r",
      "\u001b[K     |████████████████▏               | 6.9 MB 46.4 MB/s eta 0:00:01\r",
      "\u001b[K     |████████████████▏               | 6.9 MB 46.4 MB/s eta 0:00:01\r",
      "\u001b[K     |████████████████▏               | 6.9 MB 46.4 MB/s eta 0:00:01\r",
      "\u001b[K     |████████████████▏               | 6.9 MB 46.4 MB/s eta 0:00:01\r",
      "\u001b[K     |████████████████▎               | 7.0 MB 46.4 MB/s eta 0:00:01\r",
      "\u001b[K     |████████████████▎               | 7.0 MB 46.4 MB/s eta 0:00:01\r",
      "\u001b[K     |████████████████▎               | 7.0 MB 46.4 MB/s eta 0:00:01\r",
      "\u001b[K     |████████████████▎               | 7.0 MB 46.4 MB/s eta 0:00:01\r",
      "\u001b[K     |████████████████▍               | 7.0 MB 46.4 MB/s eta 0:00:01\r",
      "\u001b[K     |████████████████▍               | 7.0 MB 46.4 MB/s eta 0:00:01\r",
      "\u001b[K     |████████████████▍               | 7.0 MB 46.4 MB/s eta 0:00:01\r",
      "\u001b[K     |████████████████▍               | 7.0 MB 46.4 MB/s eta 0:00:01\r",
      "\u001b[K     |████████████████▍               | 7.0 MB 46.4 MB/s eta 0:00:01\r",
      "\u001b[K     |████████████████▌               | 7.0 MB 46.4 MB/s eta 0:00:01\r",
      "\u001b[K     |████████████████▌               | 7.1 MB 46.4 MB/s eta 0:00:01\r",
      "\u001b[K     |████████████████▌               | 7.1 MB 46.4 MB/s eta 0:00:01\r",
      "\u001b[K     |████████████████▌               | 7.1 MB 46.4 MB/s eta 0:00:01\r",
      "\u001b[K     |████████████████▌               | 7.1 MB 46.4 MB/s eta 0:00:01\r",
      "\u001b[K     |████████████████▋               | 7.1 MB 46.4 MB/s eta 0:00:01\r",
      "\u001b[K     |████████████████▋               | 7.1 MB 46.4 MB/s eta 0:00:01\r",
      "\u001b[K     |████████████████▋               | 7.1 MB 46.4 MB/s eta 0:00:01\r",
      "\u001b[K     |████████████████▋               | 7.1 MB 46.4 MB/s eta 0:00:01\r",
      "\u001b[K     |████████████████▊               | 7.1 MB 46.4 MB/s eta 0:00:01\r",
      "\u001b[K     |████████████████▊               | 7.1 MB 46.4 MB/s eta 0:00:01\r",
      "\u001b[K     |████████████████▊               | 7.2 MB 46.4 MB/s eta 0:00:01\r",
      "\u001b[K     |████████████████▊               | 7.2 MB 46.4 MB/s eta 0:00:01\r",
      "\u001b[K     |████████████████▊               | 7.2 MB 46.4 MB/s eta 0:00:01\r",
      "\u001b[K     |████████████████▉               | 7.2 MB 46.4 MB/s eta 0:00:01\r",
      "\u001b[K     |████████████████▉               | 7.2 MB 46.4 MB/s eta 0:00:01\r",
      "\u001b[K     |████████████████▉               | 7.2 MB 46.4 MB/s eta 0:00:01\r",
      "\u001b[K     |████████████████▉               | 7.2 MB 46.4 MB/s eta 0:00:01\r",
      "\u001b[K     |████████████████▉               | 7.2 MB 46.4 MB/s eta 0:00:01\r",
      "\u001b[K     |█████████████████               | 7.2 MB 46.4 MB/s eta 0:00:01\r",
      "\u001b[K     |█████████████████               | 7.2 MB 46.4 MB/s eta 0:00:01\r",
      "\u001b[K     |█████████████████               | 7.3 MB 46.4 MB/s eta 0:00:01\r",
      "\u001b[K     |█████████████████               | 7.3 MB 46.4 MB/s eta 0:00:01\r",
      "\u001b[K     |█████████████████               | 7.3 MB 46.4 MB/s eta 0:00:01\r",
      "\u001b[K     |█████████████████               | 7.3 MB 46.4 MB/s eta 0:00:01\r",
      "\u001b[K     |█████████████████               | 7.3 MB 46.4 MB/s eta 0:00:01\r",
      "\u001b[K     |█████████████████               | 7.3 MB 46.4 MB/s eta 0:00:01\r",
      "\u001b[K     |█████████████████               | 7.3 MB 46.4 MB/s eta 0:00:01\r",
      "\u001b[K     |█████████████████▏              | 7.3 MB 46.4 MB/s eta 0:00:01\r",
      "\u001b[K     |█████████████████▏              | 7.3 MB 46.4 MB/s eta 0:00:01\r",
      "\u001b[K     |█████████████████▏              | 7.4 MB 46.4 MB/s eta 0:00:01\r",
      "\u001b[K     |█████████████████▏              | 7.4 MB 46.4 MB/s eta 0:00:01\r",
      "\u001b[K     |█████████████████▏              | 7.4 MB 46.4 MB/s eta 0:00:01\r",
      "\u001b[K     |█████████████████▎              | 7.4 MB 46.4 MB/s eta 0:00:01\r",
      "\u001b[K     |█████████████████▎              | 7.4 MB 46.4 MB/s eta 0:00:01\r",
      "\u001b[K     |█████████████████▎              | 7.4 MB 46.4 MB/s eta 0:00:01\r",
      "\u001b[K     |█████████████████▎              | 7.4 MB 46.4 MB/s eta 0:00:01\r",
      "\u001b[K     |█████████████████▍              | 7.4 MB 46.4 MB/s eta 0:00:01\r",
      "\u001b[K     |█████████████████▍              | 7.4 MB 46.4 MB/s eta 0:00:01\r",
      "\u001b[K     |█████████████████▍              | 7.4 MB 46.4 MB/s eta 0:00:01\r",
      "\u001b[K     |█████████████████▍              | 7.5 MB 46.4 MB/s eta 0:00:01\r",
      "\u001b[K     |█████████████████▍              | 7.5 MB 46.4 MB/s eta 0:00:01\r",
      "\u001b[K     |█████████████████▌              | 7.5 MB 46.4 MB/s eta 0:00:01\r",
      "\u001b[K     |█████████████████▌              | 7.5 MB 46.4 MB/s eta 0:00:01\r",
      "\u001b[K     |█████████████████▌              | 7.5 MB 46.4 MB/s eta 0:00:01\r",
      "\u001b[K     |█████████████████▌              | 7.5 MB 46.4 MB/s eta 0:00:01\r",
      "\u001b[K     |█████████████████▌              | 7.5 MB 46.4 MB/s eta 0:00:01\r",
      "\u001b[K     |█████████████████▋              | 7.5 MB 46.4 MB/s eta 0:00:01\r",
      "\u001b[K     |█████████████████▋              | 7.5 MB 46.4 MB/s eta 0:00:01\r",
      "\u001b[K     |█████████████████▋              | 7.5 MB 46.4 MB/s eta 0:00:01\r",
      "\u001b[K     |█████████████████▋              | 7.6 MB 46.4 MB/s eta 0:00:01\r",
      "\u001b[K     |█████████████████▊              | 7.6 MB 46.4 MB/s eta 0:00:01\r",
      "\u001b[K     |█████████████████▊              | 7.6 MB 46.4 MB/s eta 0:00:01\r",
      "\u001b[K     |█████████████████▊              | 7.6 MB 46.4 MB/s eta 0:00:01\r",
      "\u001b[K     |█████████████████▊              | 7.6 MB 46.4 MB/s eta 0:00:01\r",
      "\u001b[K     |█████████████████▊              | 7.6 MB 46.4 MB/s eta 0:00:01\r",
      "\u001b[K     |█████████████████▉              | 7.6 MB 46.4 MB/s eta 0:00:01\r",
      "\u001b[K     |█████████████████▉              | 7.6 MB 46.4 MB/s eta 0:00:01\r",
      "\u001b[K     |█████████████████▉              | 7.6 MB 46.4 MB/s eta 0:00:01\r",
      "\u001b[K     |█████████████████▉              | 7.6 MB 46.4 MB/s eta 0:00:01\r",
      "\u001b[K     |█████████████████▉              | 7.7 MB 46.4 MB/s eta 0:00:01\r",
      "\u001b[K     |██████████████████              | 7.7 MB 46.4 MB/s eta 0:00:01\r",
      "\u001b[K     |██████████████████              | 7.7 MB 46.4 MB/s eta 0:00:01\r",
      "\u001b[K     |██████████████████              | 7.7 MB 46.4 MB/s eta 0:00:01\r",
      "\u001b[K     |██████████████████              | 7.7 MB 46.4 MB/s eta 0:00:01\r",
      "\u001b[K     |██████████████████              | 7.7 MB 46.4 MB/s eta 0:00:01\r",
      "\u001b[K     |██████████████████              | 7.7 MB 46.4 MB/s eta 0:00:01\r",
      "\u001b[K     |██████████████████              | 7.7 MB 46.4 MB/s eta 0:00:01\r",
      "\u001b[K     |██████████████████              | 7.7 MB 46.4 MB/s eta 0:00:01\r",
      "\u001b[K     |██████████████████              | 7.8 MB 46.4 MB/s eta 0:00:01\r",
      "\u001b[K     |██████████████████▏             | 7.8 MB 46.4 MB/s eta 0:00:01\r",
      "\u001b[K     |██████████████████▏             | 7.8 MB 46.4 MB/s eta 0:00:01\r",
      "\u001b[K     |██████████████████▏             | 7.8 MB 46.4 MB/s eta 0:00:01\r",
      "\u001b[K     |██████████████████▏             | 7.8 MB 46.4 MB/s eta 0:00:01\r",
      "\u001b[K     |██████████████████▎             | 7.8 MB 46.4 MB/s eta 0:00:01\r",
      "\u001b[K     |██████████████████▎             | 7.8 MB 46.4 MB/s eta 0:00:01\r",
      "\u001b[K     |██████████████████▎             | 7.8 MB 46.4 MB/s eta 0:00:01\r",
      "\u001b[K     |██████████████████▎             | 7.8 MB 46.4 MB/s eta 0:00:01\r",
      "\u001b[K     |██████████████████▎             | 7.8 MB 46.4 MB/s eta 0:00:01\r",
      "\u001b[K     |██████████████████▍             | 7.9 MB 46.4 MB/s eta 0:00:01\r",
      "\u001b[K     |██████████████████▍             | 7.9 MB 46.4 MB/s eta 0:00:01\r",
      "\u001b[K     |██████████████████▍             | 7.9 MB 46.4 MB/s eta 0:00:01\r",
      "\u001b[K     |██████████████████▍             | 7.9 MB 46.4 MB/s eta 0:00:01\r",
      "\u001b[K     |██████████████████▍             | 7.9 MB 46.4 MB/s eta 0:00:01\r",
      "\u001b[K     |██████████████████▌             | 7.9 MB 46.4 MB/s eta 0:00:01\r",
      "\u001b[K     |██████████████████▌             | 7.9 MB 46.4 MB/s eta 0:00:01\r",
      "\u001b[K     |██████████████████▌             | 7.9 MB 46.4 MB/s eta 0:00:01\r",
      "\u001b[K     |██████████████████▌             | 7.9 MB 46.4 MB/s eta 0:00:01\r",
      "\u001b[K     |██████████████████▋             | 7.9 MB 46.4 MB/s eta 0:00:01\r",
      "\u001b[K     |██████████████████▋             | 8.0 MB 46.4 MB/s eta 0:00:01\r",
      "\u001b[K     |██████████████████▋             | 8.0 MB 46.4 MB/s eta 0:00:01\r",
      "\u001b[K     |██████████████████▋             | 8.0 MB 46.4 MB/s eta 0:00:01\r",
      "\u001b[K     |██████████████████▋             | 8.0 MB 46.4 MB/s eta 0:00:01\r",
      "\u001b[K     |██████████████████▊             | 8.0 MB 46.4 MB/s eta 0:00:01\r",
      "\u001b[K     |██████████████████▊             | 8.0 MB 46.4 MB/s eta 0:00:01\r",
      "\u001b[K     |██████████████████▊             | 8.0 MB 46.4 MB/s eta 0:00:01\r",
      "\u001b[K     |██████████████████▊             | 8.0 MB 46.4 MB/s eta 0:00:01\r",
      "\u001b[K     |██████████████████▊             | 8.0 MB 46.4 MB/s eta 0:00:01\r",
      "\u001b[K     |██████████████████▉             | 8.0 MB 46.4 MB/s eta 0:00:01\r",
      "\u001b[K     |██████████████████▉             | 8.1 MB 46.4 MB/s eta 0:00:01\r",
      "\u001b[K     |██████████████████▉             | 8.1 MB 46.4 MB/s eta 0:00:01\r",
      "\u001b[K     |██████████████████▉             | 8.1 MB 46.4 MB/s eta 0:00:01\r",
      "\u001b[K     |███████████████████             | 8.1 MB 46.4 MB/s eta 0:00:01\r",
      "\u001b[K     |███████████████████             | 8.1 MB 46.4 MB/s eta 0:00:01\r",
      "\u001b[K     |███████████████████             | 8.1 MB 46.4 MB/s eta 0:00:01\r",
      "\u001b[K     |███████████████████             | 8.1 MB 46.4 MB/s eta 0:00:01\r",
      "\u001b[K     |███████████████████             | 8.1 MB 46.4 MB/s eta 0:00:01\r",
      "\u001b[K     |███████████████████             | 8.1 MB 46.4 MB/s eta 0:00:01\r",
      "\u001b[K     |███████████████████             | 8.2 MB 46.4 MB/s eta 0:00:01\r",
      "\u001b[K     |███████████████████             | 8.2 MB 46.4 MB/s eta 0:00:01\r",
      "\u001b[K     |███████████████████             | 8.2 MB 46.4 MB/s eta 0:00:01\r",
      "\u001b[K     |███████████████████             | 8.2 MB 46.4 MB/s eta 0:00:01\r",
      "\u001b[K     |███████████████████▏            | 8.2 MB 46.4 MB/s eta 0:00:01\r",
      "\u001b[K     |███████████████████▏            | 8.2 MB 46.4 MB/s eta 0:00:01\r",
      "\u001b[K     |███████████████████▏            | 8.2 MB 46.4 MB/s eta 0:00:01\r",
      "\u001b[K     |███████████████████▏            | 8.2 MB 46.4 MB/s eta 0:00:01\r",
      "\u001b[K     |███████████████████▎            | 8.2 MB 46.4 MB/s eta 0:00:01\r",
      "\u001b[K     |███████████████████▎            | 8.2 MB 46.4 MB/s eta 0:00:01\r",
      "\u001b[K     |███████████████████▎            | 8.3 MB 46.4 MB/s eta 0:00:01\r",
      "\u001b[K     |███████████████████▎            | 8.3 MB 46.4 MB/s eta 0:00:01\r",
      "\u001b[K     |███████████████████▎            | 8.3 MB 46.4 MB/s eta 0:00:01\r",
      "\u001b[K     |███████████████████▍            | 8.3 MB 46.4 MB/s eta 0:00:01\r",
      "\u001b[K     |███████████████████▍            | 8.3 MB 46.4 MB/s eta 0:00:01\r",
      "\u001b[K     |███████████████████▍            | 8.3 MB 46.4 MB/s eta 0:00:01\r",
      "\u001b[K     |███████████████████▍            | 8.3 MB 46.4 MB/s eta 0:00:01\r",
      "\u001b[K     |███████████████████▍            | 8.3 MB 46.4 MB/s eta 0:00:01\r",
      "\u001b[K     |███████████████████▌            | 8.3 MB 46.4 MB/s eta 0:00:01\r",
      "\u001b[K     |███████████████████▌            | 8.3 MB 46.4 MB/s eta 0:00:01\r",
      "\u001b[K     |███████████████████▌            | 8.4 MB 46.4 MB/s eta 0:00:01\r",
      "\u001b[K     |███████████████████▌            | 8.4 MB 46.4 MB/s eta 0:00:01\r",
      "\u001b[K     |███████████████████▋            | 8.4 MB 46.4 MB/s eta 0:00:01\r",
      "\u001b[K     |███████████████████▋            | 8.4 MB 46.4 MB/s eta 0:00:01\r",
      "\u001b[K     |███████████████████▋            | 8.4 MB 46.4 MB/s eta 0:00:01\r",
      "\u001b[K     |███████████████████▋            | 8.4 MB 46.4 MB/s eta 0:00:01\r",
      "\u001b[K     |███████████████████▋            | 8.4 MB 46.4 MB/s eta 0:00:01\r",
      "\u001b[K     |███████████████████▊            | 8.4 MB 46.4 MB/s eta 0:00:01\r",
      "\u001b[K     |███████████████████▊            | 8.4 MB 46.4 MB/s eta 0:00:01\r",
      "\u001b[K     |███████████████████▊            | 8.4 MB 46.4 MB/s eta 0:00:01\r",
      "\u001b[K     |███████████████████▊            | 8.5 MB 46.4 MB/s eta 0:00:01\r",
      "\u001b[K     |███████████████████▊            | 8.5 MB 46.4 MB/s eta 0:00:01\r",
      "\u001b[K     |███████████████████▉            | 8.5 MB 46.4 MB/s eta 0:00:01\r",
      "\u001b[K     |███████████████████▉            | 8.5 MB 46.4 MB/s eta 0:00:01\r",
      "\u001b[K     |███████████████████▉            | 8.5 MB 46.4 MB/s eta 0:00:01\r",
      "\u001b[K     |███████████████████▉            | 8.5 MB 46.4 MB/s eta 0:00:01\r",
      "\u001b[K     |████████████████████            | 8.5 MB 46.4 MB/s eta 0:00:01\r",
      "\u001b[K     |████████████████████            | 8.5 MB 46.4 MB/s eta 0:00:01\r",
      "\u001b[K     |████████████████████            | 8.5 MB 46.4 MB/s eta 0:00:01\r",
      "\u001b[K     |████████████████████            | 8.6 MB 46.4 MB/s eta 0:00:01\r",
      "\u001b[K     |████████████████████            | 8.6 MB 46.4 MB/s eta 0:00:01\r",
      "\u001b[K     |████████████████████            | 8.6 MB 46.4 MB/s eta 0:00:01\r",
      "\u001b[K     |████████████████████            | 8.6 MB 46.4 MB/s eta 0:00:01\r",
      "\u001b[K     |████████████████████            | 8.6 MB 46.4 MB/s eta 0:00:01\r",
      "\u001b[K     |████████████████████            | 8.6 MB 46.4 MB/s eta 0:00:01\r",
      "\u001b[K     |████████████████████▏           | 8.6 MB 46.4 MB/s eta 0:00:01\r",
      "\u001b[K     |████████████████████▏           | 8.6 MB 46.4 MB/s eta 0:00:01\r",
      "\u001b[K     |████████████████████▏           | 8.6 MB 46.4 MB/s eta 0:00:01\r",
      "\u001b[K     |████████████████████▏           | 8.6 MB 46.4 MB/s eta 0:00:01\r",
      "\u001b[K     |████████████████████▏           | 8.7 MB 46.4 MB/s eta 0:00:01\r",
      "\u001b[K     |████████████████████▎           | 8.7 MB 46.4 MB/s eta 0:00:01\r",
      "\u001b[K     |████████████████████▎           | 8.7 MB 46.4 MB/s eta 0:00:01\r",
      "\u001b[K     |████████████████████▎           | 8.7 MB 46.4 MB/s eta 0:00:01\r",
      "\u001b[K     |████████████████████▎           | 8.7 MB 46.4 MB/s eta 0:00:01\r",
      "\u001b[K     |████████████████████▎           | 8.7 MB 46.4 MB/s eta 0:00:01\r",
      "\u001b[K     |████████████████████▍           | 8.7 MB 46.4 MB/s eta 0:00:01\r",
      "\u001b[K     |████████████████████▍           | 8.7 MB 46.4 MB/s eta 0:00:01\r",
      "\u001b[K     |████████████████████▍           | 8.7 MB 46.4 MB/s eta 0:00:01\r",
      "\u001b[K     |████████████████████▍           | 8.7 MB 46.4 MB/s eta 0:00:01\r",
      "\u001b[K     |████████████████████▌           | 8.8 MB 46.4 MB/s eta 0:00:01\r",
      "\u001b[K     |████████████████████▌           | 8.8 MB 46.4 MB/s eta 0:00:01\r",
      "\u001b[K     |████████████████████▌           | 8.8 MB 46.4 MB/s eta 0:00:01\r",
      "\u001b[K     |████████████████████▌           | 8.8 MB 46.4 MB/s eta 0:00:01\r",
      "\u001b[K     |████████████████████▌           | 8.8 MB 46.4 MB/s eta 0:00:01\r",
      "\u001b[K     |████████████████████▋           | 8.8 MB 46.4 MB/s eta 0:00:01\r",
      "\u001b[K     |████████████████████▋           | 8.8 MB 46.4 MB/s eta 0:00:01\r",
      "\u001b[K     |████████████████████▋           | 8.8 MB 46.4 MB/s eta 0:00:01\r",
      "\u001b[K     |████████████████████▋           | 8.8 MB 46.4 MB/s eta 0:00:01\r",
      "\u001b[K     |████████████████████▋           | 8.8 MB 46.4 MB/s eta 0:00:01\r",
      "\u001b[K     |████████████████████▊           | 8.9 MB 46.4 MB/s eta 0:00:01\r",
      "\u001b[K     |████████████████████▊           | 8.9 MB 46.4 MB/s eta 0:00:01\r",
      "\u001b[K     |████████████████████▊           | 8.9 MB 46.4 MB/s eta 0:00:01\r",
      "\u001b[K     |████████████████████▊           | 8.9 MB 46.4 MB/s eta 0:00:01\r",
      "\u001b[K     |████████████████████▉           | 8.9 MB 46.4 MB/s eta 0:00:01\r",
      "\u001b[K     |████████████████████▉           | 8.9 MB 46.4 MB/s eta 0:00:01\r",
      "\u001b[K     |████████████████████▉           | 8.9 MB 46.4 MB/s eta 0:00:01\r",
      "\u001b[K     |████████████████████▉           | 8.9 MB 46.4 MB/s eta 0:00:01\r",
      "\u001b[K     |████████████████████▉           | 8.9 MB 46.4 MB/s eta 0:00:01\r",
      "\u001b[K     |█████████████████████           | 8.9 MB 46.4 MB/s eta 0:00:01\r",
      "\u001b[K     |█████████████████████           | 9.0 MB 46.4 MB/s eta 0:00:01\r",
      "\u001b[K     |█████████████████████           | 9.0 MB 46.4 MB/s eta 0:00:01\r",
      "\u001b[K     |█████████████████████           | 9.0 MB 46.4 MB/s eta 0:00:01\r",
      "\u001b[K     |█████████████████████           | 9.0 MB 46.4 MB/s eta 0:00:01\r",
      "\u001b[K     |█████████████████████           | 9.0 MB 46.4 MB/s eta 0:00:01\r",
      "\u001b[K     |█████████████████████           | 9.0 MB 46.4 MB/s eta 0:00:01\r",
      "\u001b[K     |█████████████████████           | 9.0 MB 46.4 MB/s eta 0:00:01\r",
      "\u001b[K     |█████████████████████           | 9.0 MB 46.4 MB/s eta 0:00:01\r",
      "\u001b[K     |█████████████████████▏          | 9.0 MB 46.4 MB/s eta 0:00:01\r",
      "\u001b[K     |█████████████████████▏          | 9.1 MB 46.4 MB/s eta 0:00:01\r",
      "\u001b[K     |█████████████████████▏          | 9.1 MB 46.4 MB/s eta 0:00:01\r",
      "\u001b[K     |█████████████████████▏          | 9.1 MB 46.4 MB/s eta 0:00:01\r",
      "\u001b[K     |█████████████████████▏          | 9.1 MB 46.4 MB/s eta 0:00:01\r",
      "\u001b[K     |█████████████████████▎          | 9.1 MB 46.4 MB/s eta 0:00:01\r",
      "\u001b[K     |█████████████████████▎          | 9.1 MB 46.4 MB/s eta 0:00:01\r",
      "\u001b[K     |█████████████████████▎          | 9.1 MB 46.4 MB/s eta 0:00:01\r",
      "\u001b[K     |█████████████████████▎          | 9.1 MB 46.4 MB/s eta 0:00:01\r",
      "\u001b[K     |█████████████████████▎          | 9.1 MB 46.4 MB/s eta 0:00:01\r",
      "\u001b[K     |█████████████████████▍          | 9.1 MB 46.4 MB/s eta 0:00:01\r",
      "\u001b[K     |█████████████████████▍          | 9.2 MB 46.4 MB/s eta 0:00:01\r",
      "\u001b[K     |█████████████████████▍          | 9.2 MB 46.4 MB/s eta 0:00:01\r",
      "\u001b[K     |█████████████████████▍          | 9.2 MB 46.4 MB/s eta 0:00:01\r",
      "\u001b[K     |█████████████████████▌          | 9.2 MB 46.4 MB/s eta 0:00:01\r",
      "\u001b[K     |█████████████████████▌          | 9.2 MB 46.4 MB/s eta 0:00:01\r",
      "\u001b[K     |█████████████████████▌          | 9.2 MB 46.4 MB/s eta 0:00:01\r",
      "\u001b[K     |█████████████████████▌          | 9.2 MB 46.4 MB/s eta 0:00:01\r",
      "\u001b[K     |█████████████████████▌          | 9.2 MB 46.4 MB/s eta 0:00:01\r",
      "\u001b[K     |█████████████████████▋          | 9.2 MB 46.4 MB/s eta 0:00:01\r",
      "\u001b[K     |█████████████████████▋          | 9.2 MB 46.4 MB/s eta 0:00:01\r",
      "\u001b[K     |█████████████████████▋          | 9.3 MB 46.4 MB/s eta 0:00:01\r",
      "\u001b[K     |█████████████████████▋          | 9.3 MB 46.4 MB/s eta 0:00:01\r",
      "\u001b[K     |█████████████████████▋          | 9.3 MB 46.4 MB/s eta 0:00:01\r",
      "\u001b[K     |█████████████████████▊          | 9.3 MB 46.4 MB/s eta 0:00:01\r",
      "\u001b[K     |█████████████████████▊          | 9.3 MB 46.4 MB/s eta 0:00:01\r",
      "\u001b[K     |█████████████████████▊          | 9.3 MB 46.4 MB/s eta 0:00:01\r",
      "\u001b[K     |█████████████████████▊          | 9.3 MB 46.4 MB/s eta 0:00:01\r",
      "\u001b[K     |█████████████████████▉          | 9.3 MB 46.4 MB/s eta 0:00:01\r",
      "\u001b[K     |█████████████████████▉          | 9.3 MB 46.4 MB/s eta 0:00:01\r",
      "\u001b[K     |█████████████████████▉          | 9.3 MB 46.4 MB/s eta 0:00:01\r",
      "\u001b[K     |█████████████████████▉          | 9.4 MB 46.4 MB/s eta 0:00:01\r",
      "\u001b[K     |█████████████████████▉          | 9.4 MB 46.4 MB/s eta 0:00:01\r",
      "\u001b[K     |██████████████████████          | 9.4 MB 46.4 MB/s eta 0:00:01\r",
      "\u001b[K     |██████████████████████          | 9.4 MB 46.4 MB/s eta 0:00:01\r",
      "\u001b[K     |██████████████████████          | 9.4 MB 46.4 MB/s eta 0:00:01\r",
      "\u001b[K     |██████████████████████          | 9.4 MB 46.4 MB/s eta 0:00:01\r",
      "\u001b[K     |██████████████████████          | 9.4 MB 46.4 MB/s eta 0:00:01\r",
      "\u001b[K     |██████████████████████          | 9.4 MB 46.4 MB/s eta 0:00:01\r",
      "\u001b[K     |██████████████████████          | 9.4 MB 46.4 MB/s eta 0:00:01\r",
      "\u001b[K     |██████████████████████          | 9.5 MB 46.4 MB/s eta 0:00:01\r",
      "\u001b[K     |██████████████████████          | 9.5 MB 46.4 MB/s eta 0:00:01\r",
      "\u001b[K     |██████████████████████▏         | 9.5 MB 46.4 MB/s eta 0:00:01\r",
      "\u001b[K     |██████████████████████▏         | 9.5 MB 46.4 MB/s eta 0:00:01\r",
      "\u001b[K     |██████████████████████▏         | 9.5 MB 46.4 MB/s eta 0:00:01\r",
      "\u001b[K     |██████████████████████▏         | 9.5 MB 46.4 MB/s eta 0:00:01\r",
      "\u001b[K     |██████████████████████▏         | 9.5 MB 46.4 MB/s eta 0:00:01\r",
      "\u001b[K     |██████████████████████▎         | 9.5 MB 46.4 MB/s eta 0:00:01\r",
      "\u001b[K     |██████████████████████▎         | 9.5 MB 46.4 MB/s eta 0:00:01\r",
      "\u001b[K     |██████████████████████▎         | 9.5 MB 46.4 MB/s eta 0:00:01\r",
      "\u001b[K     |██████████████████████▎         | 9.6 MB 46.4 MB/s eta 0:00:01\r",
      "\u001b[K     |██████████████████████▍         | 9.6 MB 46.4 MB/s eta 0:00:01\r",
      "\u001b[K     |██████████████████████▍         | 9.6 MB 46.4 MB/s eta 0:00:01\r",
      "\u001b[K     |██████████████████████▍         | 9.6 MB 46.4 MB/s eta 0:00:01\r",
      "\u001b[K     |██████████████████████▍         | 9.6 MB 46.4 MB/s eta 0:00:01\r",
      "\u001b[K     |██████████████████████▍         | 9.6 MB 46.4 MB/s eta 0:00:01\r",
      "\u001b[K     |██████████████████████▌         | 9.6 MB 46.4 MB/s eta 0:00:01\r",
      "\u001b[K     |██████████████████████▌         | 9.6 MB 46.4 MB/s eta 0:00:01\r",
      "\u001b[K     |██████████████████████▌         | 9.6 MB 46.4 MB/s eta 0:00:01\r",
      "\u001b[K     |██████████████████████▌         | 9.6 MB 46.4 MB/s eta 0:00:01\r",
      "\u001b[K     |██████████████████████▌         | 9.7 MB 46.4 MB/s eta 0:00:01\r",
      "\u001b[K     |██████████████████████▋         | 9.7 MB 46.4 MB/s eta 0:00:01\r",
      "\u001b[K     |██████████████████████▋         | 9.7 MB 46.4 MB/s eta 0:00:01\r",
      "\u001b[K     |██████████████████████▋         | 9.7 MB 46.4 MB/s eta 0:00:01\r",
      "\u001b[K     |██████████████████████▋         | 9.7 MB 46.4 MB/s eta 0:00:01\r",
      "\u001b[K     |██████████████████████▊         | 9.7 MB 46.4 MB/s eta 0:00:01\r",
      "\u001b[K     |██████████████████████▊         | 9.7 MB 46.4 MB/s eta 0:00:01\r",
      "\u001b[K     |██████████████████████▊         | 9.7 MB 46.4 MB/s eta 0:00:01\r",
      "\u001b[K     |██████████████████████▊         | 9.7 MB 46.4 MB/s eta 0:00:01\r",
      "\u001b[K     |██████████████████████▊         | 9.7 MB 46.4 MB/s eta 0:00:01\r",
      "\u001b[K     |██████████████████████▉         | 9.8 MB 46.4 MB/s eta 0:00:01\r",
      "\u001b[K     |██████████████████████▉         | 9.8 MB 46.4 MB/s eta 0:00:01\r",
      "\u001b[K     |██████████████████████▉         | 9.8 MB 46.4 MB/s eta 0:00:01\r",
      "\u001b[K     |██████████████████████▉         | 9.8 MB 46.4 MB/s eta 0:00:01\r",
      "\u001b[K     |██████████████████████▉         | 9.8 MB 46.4 MB/s eta 0:00:01\r",
      "\u001b[K     |███████████████████████         | 9.8 MB 46.4 MB/s eta 0:00:01\r",
      "\u001b[K     |███████████████████████         | 9.8 MB 46.4 MB/s eta 0:00:01\r",
      "\u001b[K     |███████████████████████         | 9.8 MB 46.4 MB/s eta 0:00:01\r",
      "\u001b[K     |███████████████████████         | 9.8 MB 46.4 MB/s eta 0:00:01\r",
      "\u001b[K     |███████████████████████         | 9.9 MB 46.4 MB/s eta 0:00:01\r",
      "\u001b[K     |███████████████████████         | 9.9 MB 46.4 MB/s eta 0:00:01\r",
      "\u001b[K     |███████████████████████         | 9.9 MB 46.4 MB/s eta 0:00:01\r",
      "\u001b[K     |███████████████████████         | 9.9 MB 46.4 MB/s eta 0:00:01\r",
      "\u001b[K     |███████████████████████         | 9.9 MB 46.4 MB/s eta 0:00:01\r",
      "\u001b[K     |███████████████████████▏        | 9.9 MB 46.4 MB/s eta 0:00:01\r",
      "\u001b[K     |███████████████████████▏        | 9.9 MB 46.4 MB/s eta 0:00:01\r",
      "\u001b[K     |███████████████████████▏        | 9.9 MB 46.4 MB/s eta 0:00:01\r",
      "\u001b[K     |███████████████████████▏        | 9.9 MB 46.4 MB/s eta 0:00:01\r",
      "\u001b[K     |███████████████████████▏        | 9.9 MB 46.4 MB/s eta 0:00:01\r",
      "\u001b[K     |███████████████████████▎        | 10.0 MB 46.4 MB/s eta 0:00:01\r",
      "\u001b[K     |███████████████████████▎        | 10.0 MB 46.4 MB/s eta 0:00:01\r",
      "\u001b[K     |███████████████████████▎        | 10.0 MB 46.4 MB/s eta 0:00:01\r",
      "\u001b[K     |███████████████████████▎        | 10.0 MB 46.4 MB/s eta 0:00:01\r",
      "\u001b[K     |███████████████████████▍        | 10.0 MB 46.4 MB/s eta 0:00:01\r",
      "\u001b[K     |███████████████████████▍        | 10.0 MB 46.4 MB/s eta 0:00:01\r",
      "\u001b[K     |███████████████████████▍        | 10.0 MB 46.4 MB/s eta 0:00:01\r",
      "\u001b[K     |███████████████████████▍        | 10.0 MB 46.4 MB/s eta 0:00:01\r",
      "\u001b[K     |███████████████████████▍        | 10.0 MB 46.4 MB/s eta 0:00:01\r",
      "\u001b[K     |███████████████████████▌        | 10.0 MB 46.4 MB/s eta 0:00:01\r",
      "\u001b[K     |███████████████████████▌        | 10.1 MB 46.4 MB/s eta 0:00:01\r",
      "\u001b[K     |███████████████████████▌        | 10.1 MB 46.4 MB/s eta 0:00:01\r",
      "\u001b[K     |███████████████████████▌        | 10.1 MB 46.4 MB/s eta 0:00:01\r",
      "\u001b[K     |███████████████████████▋        | 10.1 MB 46.4 MB/s eta 0:00:01\r",
      "\u001b[K     |███████████████████████▋        | 10.1 MB 46.4 MB/s eta 0:00:01\r",
      "\u001b[K     |███████████████████████▋        | 10.1 MB 46.4 MB/s eta 0:00:01\r",
      "\u001b[K     |███████████████████████▋        | 10.1 MB 46.4 MB/s eta 0:00:01\r",
      "\u001b[K     |███████████████████████▋        | 10.1 MB 46.4 MB/s eta 0:00:01\r",
      "\u001b[K     |███████████████████████▊        | 10.1 MB 46.4 MB/s eta 0:00:01\r",
      "\u001b[K     |███████████████████████▊        | 10.1 MB 46.4 MB/s eta 0:00:01\r",
      "\u001b[K     |███████████████████████▊        | 10.2 MB 46.4 MB/s eta 0:00:01\r",
      "\u001b[K     |███████████████████████▊        | 10.2 MB 46.4 MB/s eta 0:00:01\r",
      "\u001b[K     |███████████████████████▊        | 10.2 MB 46.4 MB/s eta 0:00:01\r",
      "\u001b[K     |███████████████████████▉        | 10.2 MB 46.4 MB/s eta 0:00:01\r",
      "\u001b[K     |███████████████████████▉        | 10.2 MB 46.4 MB/s eta 0:00:01\r",
      "\u001b[K     |███████████████████████▉        | 10.2 MB 46.4 MB/s eta 0:00:01"
     ]
    },
    {
     "name": "stdout",
     "output_type": "stream",
     "text": [
      "\r",
      "\u001b[K     |███████████████████████▉        | 10.2 MB 46.4 MB/s eta 0:00:01\r",
      "\u001b[K     |████████████████████████        | 10.2 MB 46.4 MB/s eta 0:00:01\r",
      "\u001b[K     |████████████████████████        | 10.2 MB 46.4 MB/s eta 0:00:01\r",
      "\u001b[K     |████████████████████████        | 10.3 MB 46.4 MB/s eta 0:00:01\r",
      "\u001b[K     |████████████████████████        | 10.3 MB 46.4 MB/s eta 0:00:01\r",
      "\u001b[K     |████████████████████████        | 10.3 MB 46.4 MB/s eta 0:00:01\r",
      "\u001b[K     |████████████████████████        | 10.3 MB 46.4 MB/s eta 0:00:01\r",
      "\u001b[K     |████████████████████████        | 10.3 MB 46.4 MB/s eta 0:00:01\r",
      "\u001b[K     |████████████████████████        | 10.3 MB 46.4 MB/s eta 0:00:01\r",
      "\u001b[K     |████████████████████████        | 10.3 MB 46.4 MB/s eta 0:00:01\r",
      "\u001b[K     |████████████████████████        | 10.3 MB 46.4 MB/s eta 0:00:01\r",
      "\u001b[K     |████████████████████████▏       | 10.3 MB 46.4 MB/s eta 0:00:01\r",
      "\u001b[K     |████████████████████████▏       | 10.3 MB 46.4 MB/s eta 0:00:01\r",
      "\u001b[K     |████████████████████████▏       | 10.4 MB 46.4 MB/s eta 0:00:01\r",
      "\u001b[K     |████████████████████████▏       | 10.4 MB 46.4 MB/s eta 0:00:01\r",
      "\u001b[K     |████████████████████████▎       | 10.4 MB 46.4 MB/s eta 0:00:01\r",
      "\u001b[K     |████████████████████████▎       | 10.4 MB 46.4 MB/s eta 0:00:01\r",
      "\u001b[K     |████████████████████████▎       | 10.4 MB 46.4 MB/s eta 0:00:01\r",
      "\u001b[K     |████████████████████████▎       | 10.4 MB 46.4 MB/s eta 0:00:01\r",
      "\u001b[K     |████████████████████████▎       | 10.4 MB 46.4 MB/s eta 0:00:01\r",
      "\u001b[K     |████████████████████████▍       | 10.4 MB 46.4 MB/s eta 0:00:01\r",
      "\u001b[K     |████████████████████████▍       | 10.4 MB 46.4 MB/s eta 0:00:01\r",
      "\u001b[K     |████████████████████████▍       | 10.4 MB 46.4 MB/s eta 0:00:01\r",
      "\u001b[K     |████████████████████████▍       | 10.5 MB 46.4 MB/s eta 0:00:01\r",
      "\u001b[K     |████████████████████████▍       | 10.5 MB 46.4 MB/s eta 0:00:01\r",
      "\u001b[K     |████████████████████████▌       | 10.5 MB 46.4 MB/s eta 0:00:01\r",
      "\u001b[K     |████████████████████████▌       | 10.5 MB 46.4 MB/s eta 0:00:01\r",
      "\u001b[K     |████████████████████████▌       | 10.5 MB 46.4 MB/s eta 0:00:01\r",
      "\u001b[K     |████████████████████████▌       | 10.5 MB 46.4 MB/s eta 0:00:01\r",
      "\u001b[K     |████████████████████████▋       | 10.5 MB 46.4 MB/s eta 0:00:01\r",
      "\u001b[K     |████████████████████████▋       | 10.5 MB 46.4 MB/s eta 0:00:01\r",
      "\u001b[K     |████████████████████████▋       | 10.5 MB 46.4 MB/s eta 0:00:01\r",
      "\u001b[K     |████████████████████████▋       | 10.5 MB 46.4 MB/s eta 0:00:01\r",
      "\u001b[K     |████████████████████████▋       | 10.6 MB 46.4 MB/s eta 0:00:01\r",
      "\u001b[K     |████████████████████████▊       | 10.6 MB 46.4 MB/s eta 0:00:01\r",
      "\u001b[K     |████████████████████████▊       | 10.6 MB 46.4 MB/s eta 0:00:01\r",
      "\u001b[K     |████████████████████████▊       | 10.6 MB 46.4 MB/s eta 0:00:01\r",
      "\u001b[K     |████████████████████████▊       | 10.6 MB 46.4 MB/s eta 0:00:01\r",
      "\u001b[K     |████████████████████████▊       | 10.6 MB 46.4 MB/s eta 0:00:01\r",
      "\u001b[K     |████████████████████████▉       | 10.6 MB 46.4 MB/s eta 0:00:01\r",
      "\u001b[K     |████████████████████████▉       | 10.6 MB 46.4 MB/s eta 0:00:01\r",
      "\u001b[K     |████████████████████████▉       | 10.6 MB 46.4 MB/s eta 0:00:01\r",
      "\u001b[K     |████████████████████████▉       | 10.6 MB 46.4 MB/s eta 0:00:01\r",
      "\u001b[K     |█████████████████████████       | 10.7 MB 46.4 MB/s eta 0:00:01\r",
      "\u001b[K     |█████████████████████████       | 10.7 MB 46.4 MB/s eta 0:00:01\r",
      "\u001b[K     |█████████████████████████       | 10.7 MB 46.4 MB/s eta 0:00:01\r",
      "\u001b[K     |█████████████████████████       | 10.7 MB 46.4 MB/s eta 0:00:01\r",
      "\u001b[K     |█████████████████████████       | 10.7 MB 46.4 MB/s eta 0:00:01\r",
      "\u001b[K     |█████████████████████████       | 10.7 MB 46.4 MB/s eta 0:00:01\r",
      "\u001b[K     |█████████████████████████       | 10.7 MB 46.4 MB/s eta 0:00:01\r",
      "\u001b[K     |█████████████████████████       | 10.7 MB 46.4 MB/s eta 0:00:01\r",
      "\u001b[K     |█████████████████████████       | 10.7 MB 46.4 MB/s eta 0:00:01\r",
      "\u001b[K     |█████████████████████████       | 10.8 MB 46.4 MB/s eta 0:00:01\r",
      "\u001b[K     |█████████████████████████▏      | 10.8 MB 46.4 MB/s eta 0:00:01\r",
      "\u001b[K     |█████████████████████████▏      | 10.8 MB 46.4 MB/s eta 0:00:01\r",
      "\u001b[K     |█████████████████████████▏      | 10.8 MB 46.4 MB/s eta 0:00:01\r",
      "\u001b[K     |█████████████████████████▏      | 10.8 MB 46.4 MB/s eta 0:00:01\r",
      "\u001b[K     |█████████████████████████▎      | 10.8 MB 46.4 MB/s eta 0:00:01\r",
      "\u001b[K     |█████████████████████████▎      | 10.8 MB 46.4 MB/s eta 0:00:01\r",
      "\u001b[K     |█████████████████████████▎      | 10.8 MB 46.4 MB/s eta 0:00:01\r",
      "\u001b[K     |█████████████████████████▎      | 10.8 MB 46.4 MB/s eta 0:00:01\r",
      "\u001b[K     |█████████████████████████▎      | 10.8 MB 46.4 MB/s eta 0:00:01\r",
      "\u001b[K     |█████████████████████████▍      | 10.9 MB 46.4 MB/s eta 0:00:01\r",
      "\u001b[K     |█████████████████████████▍      | 10.9 MB 46.4 MB/s eta 0:00:01\r",
      "\u001b[K     |█████████████████████████▍      | 10.9 MB 46.4 MB/s eta 0:00:01\r",
      "\u001b[K     |█████████████████████████▍      | 10.9 MB 46.4 MB/s eta 0:00:01\r",
      "\u001b[K     |█████████████████████████▌      | 10.9 MB 46.4 MB/s eta 0:00:01\r",
      "\u001b[K     |█████████████████████████▌      | 10.9 MB 46.4 MB/s eta 0:00:01\r",
      "\u001b[K     |█████████████████████████▌      | 10.9 MB 46.4 MB/s eta 0:00:01\r",
      "\u001b[K     |█████████████████████████▌      | 10.9 MB 46.4 MB/s eta 0:00:01\r",
      "\u001b[K     |█████████████████████████▌      | 10.9 MB 46.4 MB/s eta 0:00:01\r",
      "\u001b[K     |█████████████████████████▋      | 10.9 MB 46.4 MB/s eta 0:00:01\r",
      "\u001b[K     |█████████████████████████▋      | 11.0 MB 46.4 MB/s eta 0:00:01\r",
      "\u001b[K     |█████████████████████████▋      | 11.0 MB 46.4 MB/s eta 0:00:01\r",
      "\u001b[K     |█████████████████████████▋      | 11.0 MB 46.4 MB/s eta 0:00:01\r",
      "\u001b[K     |█████████████████████████▋      | 11.0 MB 46.4 MB/s eta 0:00:01\r",
      "\u001b[K     |█████████████████████████▊      | 11.0 MB 46.4 MB/s eta 0:00:01\r",
      "\u001b[K     |█████████████████████████▊      | 11.0 MB 46.4 MB/s eta 0:00:01\r",
      "\u001b[K     |█████████████████████████▊      | 11.0 MB 46.4 MB/s eta 0:00:01\r",
      "\u001b[K     |█████████████████████████▊      | 11.0 MB 46.4 MB/s eta 0:00:01\r",
      "\u001b[K     |█████████████████████████▉      | 11.0 MB 46.4 MB/s eta 0:00:01\r",
      "\u001b[K     |█████████████████████████▉      | 11.0 MB 46.4 MB/s eta 0:00:01\r",
      "\u001b[K     |█████████████████████████▉      | 11.1 MB 46.4 MB/s eta 0:00:01\r",
      "\u001b[K     |█████████████████████████▉      | 11.1 MB 46.4 MB/s eta 0:00:01\r",
      "\u001b[K     |█████████████████████████▉      | 11.1 MB 46.4 MB/s eta 0:00:01\r",
      "\u001b[K     |██████████████████████████      | 11.1 MB 46.4 MB/s eta 0:00:01\r",
      "\u001b[K     |██████████████████████████      | 11.1 MB 46.4 MB/s eta 0:00:01\r",
      "\u001b[K     |██████████████████████████      | 11.1 MB 46.4 MB/s eta 0:00:01\r",
      "\u001b[K     |██████████████████████████      | 11.1 MB 46.4 MB/s eta 0:00:01\r",
      "\u001b[K     |██████████████████████████      | 11.1 MB 46.4 MB/s eta 0:00:01\r",
      "\u001b[K     |██████████████████████████      | 11.1 MB 46.4 MB/s eta 0:00:01\r",
      "\u001b[K     |██████████████████████████      | 11.2 MB 46.4 MB/s eta 0:00:01\r",
      "\u001b[K     |██████████████████████████      | 11.2 MB 46.4 MB/s eta 0:00:01\r",
      "\u001b[K     |██████████████████████████      | 11.2 MB 46.4 MB/s eta 0:00:01\r",
      "\u001b[K     |██████████████████████████▏     | 11.2 MB 46.4 MB/s eta 0:00:01\r",
      "\u001b[K     |██████████████████████████▏     | 11.2 MB 46.4 MB/s eta 0:00:01\r",
      "\u001b[K     |██████████████████████████▏     | 11.2 MB 46.4 MB/s eta 0:00:01\r",
      "\u001b[K     |██████████████████████████▏     | 11.2 MB 46.4 MB/s eta 0:00:01\r",
      "\u001b[K     |██████████████████████████▏     | 11.2 MB 46.4 MB/s eta 0:00:01\r",
      "\u001b[K     |██████████████████████████▎     | 11.2 MB 46.4 MB/s eta 0:00:01\r",
      "\u001b[K     |██████████████████████████▎     | 11.2 MB 46.4 MB/s eta 0:00:01\r",
      "\u001b[K     |██████████████████████████▎     | 11.3 MB 46.4 MB/s eta 0:00:01\r",
      "\u001b[K     |██████████████████████████▎     | 11.3 MB 46.4 MB/s eta 0:00:01\r",
      "\u001b[K     |██████████████████████████▎     | 11.3 MB 46.4 MB/s eta 0:00:01\r",
      "\u001b[K     |██████████████████████████▍     | 11.3 MB 46.4 MB/s eta 0:00:01\r",
      "\u001b[K     |██████████████████████████▍     | 11.3 MB 46.4 MB/s eta 0:00:01\r",
      "\u001b[K     |██████████████████████████▍     | 11.3 MB 46.4 MB/s eta 0:00:01\r",
      "\u001b[K     |██████████████████████████▍     | 11.3 MB 46.4 MB/s eta 0:00:01\r",
      "\u001b[K     |██████████████████████████▌     | 11.3 MB 46.4 MB/s eta 0:00:01\r",
      "\u001b[K     |██████████████████████████▌     | 11.3 MB 46.4 MB/s eta 0:00:01\r",
      "\u001b[K     |██████████████████████████▌     | 11.3 MB 46.4 MB/s eta 0:00:01\r",
      "\u001b[K     |██████████████████████████▌     | 11.4 MB 46.4 MB/s eta 0:00:01\r",
      "\u001b[K     |██████████████████████████▌     | 11.4 MB 46.4 MB/s eta 0:00:01\r",
      "\u001b[K     |██████████████████████████▋     | 11.4 MB 46.4 MB/s eta 0:00:01\r",
      "\u001b[K     |██████████████████████████▋     | 11.4 MB 46.4 MB/s eta 0:00:01\r",
      "\u001b[K     |██████████████████████████▋     | 11.4 MB 46.4 MB/s eta 0:00:01\r",
      "\u001b[K     |██████████████████████████▋     | 11.4 MB 46.4 MB/s eta 0:00:01\r",
      "\u001b[K     |██████████████████████████▋     | 11.4 MB 46.4 MB/s eta 0:00:01\r",
      "\u001b[K     |██████████████████████████▊     | 11.4 MB 46.4 MB/s eta 0:00:01\r",
      "\u001b[K     |██████████████████████████▊     | 11.4 MB 46.4 MB/s eta 0:00:01\r",
      "\u001b[K     |██████████████████████████▊     | 11.4 MB 46.4 MB/s eta 0:00:01\r",
      "\u001b[K     |██████████████████████████▊     | 11.5 MB 46.4 MB/s eta 0:00:01\r",
      "\u001b[K     |██████████████████████████▉     | 11.5 MB 46.4 MB/s eta 0:00:01\r",
      "\u001b[K     |██████████████████████████▉     | 11.5 MB 46.4 MB/s eta 0:00:01\r",
      "\u001b[K     |██████████████████████████▉     | 11.5 MB 46.4 MB/s eta 0:00:01\r",
      "\u001b[K     |██████████████████████████▉     | 11.5 MB 46.4 MB/s eta 0:00:01\r",
      "\u001b[K     |██████████████████████████▉     | 11.5 MB 46.4 MB/s eta 0:00:01\r",
      "\u001b[K     |███████████████████████████     | 11.5 MB 46.4 MB/s eta 0:00:01\r",
      "\u001b[K     |███████████████████████████     | 11.5 MB 46.4 MB/s eta 0:00:01\r",
      "\u001b[K     |███████████████████████████     | 11.5 MB 46.4 MB/s eta 0:00:01\r",
      "\u001b[K     |███████████████████████████     | 11.6 MB 46.4 MB/s eta 0:00:01\r",
      "\u001b[K     |███████████████████████████     | 11.6 MB 46.4 MB/s eta 0:00:01\r",
      "\u001b[K     |███████████████████████████     | 11.6 MB 46.4 MB/s eta 0:00:01\r",
      "\u001b[K     |███████████████████████████     | 11.6 MB 46.4 MB/s eta 0:00:01\r",
      "\u001b[K     |███████████████████████████     | 11.6 MB 46.4 MB/s eta 0:00:01\r",
      "\u001b[K     |███████████████████████████     | 11.6 MB 46.4 MB/s eta 0:00:01\r",
      "\u001b[K     |███████████████████████████▏    | 11.6 MB 46.4 MB/s eta 0:00:01\r",
      "\u001b[K     |███████████████████████████▏    | 11.6 MB 46.4 MB/s eta 0:00:01\r",
      "\u001b[K     |███████████████████████████▏    | 11.6 MB 46.4 MB/s eta 0:00:01\r",
      "\u001b[K     |███████████████████████████▏    | 11.6 MB 46.4 MB/s eta 0:00:01\r",
      "\u001b[K     |███████████████████████████▏    | 11.7 MB 46.4 MB/s eta 0:00:01\r",
      "\u001b[K     |███████████████████████████▎    | 11.7 MB 46.4 MB/s eta 0:00:01\r",
      "\u001b[K     |███████████████████████████▎    | 11.7 MB 46.4 MB/s eta 0:00:01\r",
      "\u001b[K     |███████████████████████████▎    | 11.7 MB 46.4 MB/s eta 0:00:01\r",
      "\u001b[K     |███████████████████████████▎    | 11.7 MB 46.4 MB/s eta 0:00:01\r",
      "\u001b[K     |███████████████████████████▍    | 11.7 MB 46.4 MB/s eta 0:00:01\r",
      "\u001b[K     |███████████████████████████▍    | 11.7 MB 46.4 MB/s eta 0:00:01\r",
      "\u001b[K     |███████████████████████████▍    | 11.7 MB 46.4 MB/s eta 0:00:01\r",
      "\u001b[K     |███████████████████████████▍    | 11.7 MB 46.4 MB/s eta 0:00:01\r",
      "\u001b[K     |███████████████████████████▍    | 11.7 MB 46.4 MB/s eta 0:00:01\r",
      "\u001b[K     |███████████████████████████▌    | 11.8 MB 46.4 MB/s eta 0:00:01\r",
      "\u001b[K     |███████████████████████████▌    | 11.8 MB 46.4 MB/s eta 0:00:01\r",
      "\u001b[K     |███████████████████████████▌    | 11.8 MB 46.4 MB/s eta 0:00:01\r",
      "\u001b[K     |███████████████████████████▌    | 11.8 MB 46.4 MB/s eta 0:00:01\r",
      "\u001b[K     |███████████████████████████▌    | 11.8 MB 46.4 MB/s eta 0:00:01\r",
      "\u001b[K     |███████████████████████████▋    | 11.8 MB 46.4 MB/s eta 0:00:01\r",
      "\u001b[K     |███████████████████████████▋    | 11.8 MB 46.4 MB/s eta 0:00:01\r",
      "\u001b[K     |███████████████████████████▋    | 11.8 MB 46.4 MB/s eta 0:00:01\r",
      "\u001b[K     |███████████████████████████▋    | 11.8 MB 46.4 MB/s eta 0:00:01\r",
      "\u001b[K     |███████████████████████████▊    | 11.8 MB 46.4 MB/s eta 0:00:01\r",
      "\u001b[K     |███████████████████████████▊    | 11.9 MB 46.4 MB/s eta 0:00:01\r",
      "\u001b[K     |███████████████████████████▊    | 11.9 MB 46.4 MB/s eta 0:00:01\r",
      "\u001b[K     |███████████████████████████▊    | 11.9 MB 46.4 MB/s eta 0:00:01\r",
      "\u001b[K     |███████████████████████████▊    | 11.9 MB 46.4 MB/s eta 0:00:01\r",
      "\u001b[K     |███████████████████████████▉    | 11.9 MB 46.4 MB/s eta 0:00:01\r",
      "\u001b[K     |███████████████████████████▉    | 11.9 MB 46.4 MB/s eta 0:00:01\r",
      "\u001b[K     |███████████████████████████▉    | 11.9 MB 46.4 MB/s eta 0:00:01\r",
      "\u001b[K     |███████████████████████████▉    | 11.9 MB 46.4 MB/s eta 0:00:01\r",
      "\u001b[K     |███████████████████████████▉    | 11.9 MB 46.4 MB/s eta 0:00:01\r",
      "\u001b[K     |████████████████████████████    | 12.0 MB 46.4 MB/s eta 0:00:01\r",
      "\u001b[K     |████████████████████████████    | 12.0 MB 46.4 MB/s eta 0:00:01\r",
      "\u001b[K     |████████████████████████████    | 12.0 MB 46.4 MB/s eta 0:00:01\r",
      "\u001b[K     |████████████████████████████    | 12.0 MB 46.4 MB/s eta 0:00:01\r",
      "\u001b[K     |████████████████████████████    | 12.0 MB 46.4 MB/s eta 0:00:01\r",
      "\u001b[K     |████████████████████████████    | 12.0 MB 46.4 MB/s eta 0:00:01\r",
      "\u001b[K     |████████████████████████████    | 12.0 MB 46.4 MB/s eta 0:00:01\r",
      "\u001b[K     |████████████████████████████    | 12.0 MB 46.4 MB/s eta 0:00:01\r",
      "\u001b[K     |████████████████████████████    | 12.0 MB 46.4 MB/s eta 0:00:01\r",
      "\u001b[K     |████████████████████████████▏   | 12.0 MB 46.4 MB/s eta 0:00:01\r",
      "\u001b[K     |████████████████████████████▏   | 12.1 MB 46.4 MB/s eta 0:00:01\r",
      "\u001b[K     |████████████████████████████▏   | 12.1 MB 46.4 MB/s eta 0:00:01\r",
      "\u001b[K     |████████████████████████████▏   | 12.1 MB 46.4 MB/s eta 0:00:01\r",
      "\u001b[K     |████████████████████████████▏   | 12.1 MB 46.4 MB/s eta 0:00:01\r",
      "\u001b[K     |████████████████████████████▎   | 12.1 MB 46.4 MB/s eta 0:00:01\r",
      "\u001b[K     |████████████████████████████▎   | 12.1 MB 46.4 MB/s eta 0:00:01\r",
      "\u001b[K     |████████████████████████████▎   | 12.1 MB 46.4 MB/s eta 0:00:01\r",
      "\u001b[K     |████████████████████████████▎   | 12.1 MB 46.4 MB/s eta 0:00:01\r",
      "\u001b[K     |████████████████████████████▍   | 12.1 MB 46.4 MB/s eta 0:00:01\r",
      "\u001b[K     |████████████████████████████▍   | 12.1 MB 46.4 MB/s eta 0:00:01\r",
      "\u001b[K     |████████████████████████████▍   | 12.2 MB 46.4 MB/s eta 0:00:01\r",
      "\u001b[K     |████████████████████████████▍   | 12.2 MB 46.4 MB/s eta 0:00:01\r",
      "\u001b[K     |████████████████████████████▍   | 12.2 MB 46.4 MB/s eta 0:00:01\r",
      "\u001b[K     |████████████████████████████▌   | 12.2 MB 46.4 MB/s eta 0:00:01\r",
      "\u001b[K     |████████████████████████████▌   | 12.2 MB 46.4 MB/s eta 0:00:01\r",
      "\u001b[K     |████████████████████████████▌   | 12.2 MB 46.4 MB/s eta 0:00:01\r",
      "\u001b[K     |████████████████████████████▌   | 12.2 MB 46.4 MB/s eta 0:00:01\r",
      "\u001b[K     |████████████████████████████▌   | 12.2 MB 46.4 MB/s eta 0:00:01\r",
      "\u001b[K     |████████████████████████████▋   | 12.2 MB 46.4 MB/s eta 0:00:01\r",
      "\u001b[K     |████████████████████████████▋   | 12.2 MB 46.4 MB/s eta 0:00:01\r",
      "\u001b[K     |████████████████████████████▋   | 12.3 MB 46.4 MB/s eta 0:00:01\r",
      "\u001b[K     |████████████████████████████▋   | 12.3 MB 46.4 MB/s eta 0:00:01\r",
      "\u001b[K     |████████████████████████████▊   | 12.3 MB 46.4 MB/s eta 0:00:01\r",
      "\u001b[K     |████████████████████████████▊   | 12.3 MB 46.4 MB/s eta 0:00:01\r",
      "\u001b[K     |████████████████████████████▊   | 12.3 MB 46.4 MB/s eta 0:00:01\r",
      "\u001b[K     |████████████████████████████▊   | 12.3 MB 46.4 MB/s eta 0:00:01\r",
      "\u001b[K     |████████████████████████████▊   | 12.3 MB 46.4 MB/s eta 0:00:01\r",
      "\u001b[K     |████████████████████████████▉   | 12.3 MB 46.4 MB/s eta 0:00:01\r",
      "\u001b[K     |████████████████████████████▉   | 12.3 MB 46.4 MB/s eta 0:00:01\r",
      "\u001b[K     |████████████████████████████▉   | 12.3 MB 46.4 MB/s eta 0:00:01\r",
      "\u001b[K     |████████████████████████████▉   | 12.4 MB 46.4 MB/s eta 0:00:01\r",
      "\u001b[K     |████████████████████████████▉   | 12.4 MB 46.4 MB/s eta 0:00:01\r",
      "\u001b[K     |█████████████████████████████   | 12.4 MB 46.4 MB/s eta 0:00:01\r",
      "\u001b[K     |█████████████████████████████   | 12.4 MB 46.4 MB/s eta 0:00:01\r",
      "\u001b[K     |█████████████████████████████   | 12.4 MB 46.4 MB/s eta 0:00:01\r",
      "\u001b[K     |█████████████████████████████   | 12.4 MB 46.4 MB/s eta 0:00:01\r",
      "\u001b[K     |█████████████████████████████   | 12.4 MB 46.4 MB/s eta 0:00:01\r",
      "\u001b[K     |█████████████████████████████   | 12.4 MB 46.4 MB/s eta 0:00:01\r",
      "\u001b[K     |█████████████████████████████   | 12.4 MB 46.4 MB/s eta 0:00:01\r",
      "\u001b[K     |█████████████████████████████   | 12.5 MB 46.4 MB/s eta 0:00:01\r",
      "\u001b[K     |█████████████████████████████   | 12.5 MB 46.4 MB/s eta 0:00:01\r",
      "\u001b[K     |█████████████████████████████▏  | 12.5 MB 46.4 MB/s eta 0:00:01\r",
      "\u001b[K     |█████████████████████████████▏  | 12.5 MB 46.4 MB/s eta 0:00:01\r",
      "\u001b[K     |█████████████████████████████▏  | 12.5 MB 46.4 MB/s eta 0:00:01\r",
      "\u001b[K     |█████████████████████████████▏  | 12.5 MB 46.4 MB/s eta 0:00:01\r",
      "\u001b[K     |█████████████████████████████▎  | 12.5 MB 46.4 MB/s eta 0:00:01\r",
      "\u001b[K     |█████████████████████████████▎  | 12.5 MB 46.4 MB/s eta 0:00:01\r",
      "\u001b[K     |█████████████████████████████▎  | 12.5 MB 46.4 MB/s eta 0:00:01\r",
      "\u001b[K     |█████████████████████████████▎  | 12.5 MB 46.4 MB/s eta 0:00:01\r",
      "\u001b[K     |█████████████████████████████▎  | 12.6 MB 46.4 MB/s eta 0:00:01\r",
      "\u001b[K     |█████████████████████████████▍  | 12.6 MB 46.4 MB/s eta 0:00:01\r",
      "\u001b[K     |█████████████████████████████▍  | 12.6 MB 46.4 MB/s eta 0:00:01\r",
      "\u001b[K     |█████████████████████████████▍  | 12.6 MB 46.4 MB/s eta 0:00:01\r",
      "\u001b[K     |█████████████████████████████▍  | 12.6 MB 46.4 MB/s eta 0:00:01\r",
      "\u001b[K     |█████████████████████████████▍  | 12.6 MB 46.4 MB/s eta 0:00:01\r",
      "\u001b[K     |█████████████████████████████▌  | 12.6 MB 46.4 MB/s eta 0:00:01\r",
      "\u001b[K     |█████████████████████████████▌  | 12.6 MB 46.4 MB/s eta 0:00:01\r",
      "\u001b[K     |█████████████████████████████▌  | 12.6 MB 46.4 MB/s eta 0:00:01\r",
      "\u001b[K     |█████████████████████████████▌  | 12.6 MB 46.4 MB/s eta 0:00:01\r",
      "\u001b[K     |█████████████████████████████▋  | 12.7 MB 46.4 MB/s eta 0:00:01\r",
      "\u001b[K     |█████████████████████████████▋  | 12.7 MB 46.4 MB/s eta 0:00:01\r",
      "\u001b[K     |█████████████████████████████▋  | 12.7 MB 46.4 MB/s eta 0:00:01\r",
      "\u001b[K     |█████████████████████████████▋  | 12.7 MB 46.4 MB/s eta 0:00:01\r",
      "\u001b[K     |█████████████████████████████▋  | 12.7 MB 46.4 MB/s eta 0:00:01\r",
      "\u001b[K     |█████████████████████████████▊  | 12.7 MB 46.4 MB/s eta 0:00:01\r",
      "\u001b[K     |█████████████████████████████▊  | 12.7 MB 46.4 MB/s eta 0:00:01\r",
      "\u001b[K     |█████████████████████████████▊  | 12.7 MB 46.4 MB/s eta 0:00:01\r",
      "\u001b[K     |█████████████████████████████▊  | 12.7 MB 46.4 MB/s eta 0:00:01\r",
      "\u001b[K     |█████████████████████████████▊  | 12.7 MB 46.4 MB/s eta 0:00:01\r",
      "\u001b[K     |█████████████████████████████▉  | 12.8 MB 46.4 MB/s eta 0:00:01\r",
      "\u001b[K     |█████████████████████████████▉  | 12.8 MB 46.4 MB/s eta 0:00:01\r",
      "\u001b[K     |█████████████████████████████▉  | 12.8 MB 46.4 MB/s eta 0:00:01\r",
      "\u001b[K     |█████████████████████████████▉  | 12.8 MB 46.4 MB/s eta 0:00:01\r",
      "\u001b[K     |██████████████████████████████  | 12.8 MB 46.4 MB/s eta 0:00:01\r",
      "\u001b[K     |██████████████████████████████  | 12.8 MB 46.4 MB/s eta 0:00:01\r",
      "\u001b[K     |██████████████████████████████  | 12.8 MB 46.4 MB/s eta 0:00:01\r",
      "\u001b[K     |██████████████████████████████  | 12.8 MB 46.4 MB/s eta 0:00:01\r",
      "\u001b[K     |██████████████████████████████  | 12.8 MB 46.4 MB/s eta 0:00:01\r",
      "\u001b[K     |██████████████████████████████  | 12.9 MB 46.4 MB/s eta 0:00:01\r",
      "\u001b[K     |██████████████████████████████  | 12.9 MB 46.4 MB/s eta 0:00:01\r",
      "\u001b[K     |██████████████████████████████  | 12.9 MB 46.4 MB/s eta 0:00:01\r",
      "\u001b[K     |██████████████████████████████  | 12.9 MB 46.4 MB/s eta 0:00:01\r",
      "\u001b[K     |██████████████████████████████  | 12.9 MB 46.4 MB/s eta 0:00:01\r",
      "\u001b[K     |██████████████████████████████▏ | 12.9 MB 46.4 MB/s eta 0:00:01\r",
      "\u001b[K     |██████████████████████████████▏ | 12.9 MB 46.4 MB/s eta 0:00:01\r",
      "\u001b[K     |██████████████████████████████▏ | 12.9 MB 46.4 MB/s eta 0:00:01\r",
      "\u001b[K     |██████████████████████████████▏ | 12.9 MB 46.4 MB/s eta 0:00:01\r",
      "\u001b[K     |██████████████████████████████▎ | 12.9 MB 46.4 MB/s eta 0:00:01\r",
      "\u001b[K     |██████████████████████████████▎ | 13.0 MB 46.4 MB/s eta 0:00:01\r",
      "\u001b[K     |██████████████████████████████▎ | 13.0 MB 46.4 MB/s eta 0:00:01\r",
      "\u001b[K     |██████████████████████████████▎ | 13.0 MB 46.4 MB/s eta 0:00:01\r",
      "\u001b[K     |██████████████████████████████▎ | 13.0 MB 46.4 MB/s eta 0:00:01\r",
      "\u001b[K     |██████████████████████████████▍ | 13.0 MB 46.4 MB/s eta 0:00:01\r",
      "\u001b[K     |██████████████████████████████▍ | 13.0 MB 46.4 MB/s eta 0:00:01\r",
      "\u001b[K     |██████████████████████████████▍ | 13.0 MB 46.4 MB/s eta 0:00:01\r",
      "\u001b[K     |██████████████████████████████▍ | 13.0 MB 46.4 MB/s eta 0:00:01\r",
      "\u001b[K     |██████████████████████████████▍ | 13.0 MB 46.4 MB/s eta 0:00:01\r",
      "\u001b[K     |██████████████████████████████▌ | 13.0 MB 46.4 MB/s eta 0:00:01\r",
      "\u001b[K     |██████████████████████████████▌ | 13.1 MB 46.4 MB/s eta 0:00:01\r",
      "\u001b[K     |██████████████████████████████▌ | 13.1 MB 46.4 MB/s eta 0:00:01\r",
      "\u001b[K     |██████████████████████████████▌ | 13.1 MB 46.4 MB/s eta 0:00:01\r",
      "\u001b[K     |██████████████████████████████▋ | 13.1 MB 46.4 MB/s eta 0:00:01\r",
      "\u001b[K     |██████████████████████████████▋ | 13.1 MB 46.4 MB/s eta 0:00:01\r",
      "\u001b[K     |██████████████████████████████▋ | 13.1 MB 46.4 MB/s eta 0:00:01\r",
      "\u001b[K     |██████████████████████████████▋ | 13.1 MB 46.4 MB/s eta 0:00:01\r",
      "\u001b[K     |██████████████████████████████▋ | 13.1 MB 46.4 MB/s eta 0:00:01\r",
      "\u001b[K     |██████████████████████████████▊ | 13.1 MB 46.4 MB/s eta 0:00:01\r",
      "\u001b[K     |██████████████████████████████▊ | 13.1 MB 46.4 MB/s eta 0:00:01\r",
      "\u001b[K     |██████████████████████████████▊ | 13.2 MB 46.4 MB/s eta 0:00:01\r",
      "\u001b[K     |██████████████████████████████▊ | 13.2 MB 46.4 MB/s eta 0:00:01\r",
      "\u001b[K     |██████████████████████████████▊ | 13.2 MB 46.4 MB/s eta 0:00:01\r",
      "\u001b[K     |██████████████████████████████▉ | 13.2 MB 46.4 MB/s eta 0:00:01\r",
      "\u001b[K     |██████████████████████████████▉ | 13.2 MB 46.4 MB/s eta 0:00:01\r",
      "\u001b[K     |██████████████████████████████▉ | 13.2 MB 46.4 MB/s eta 0:00:01\r",
      "\u001b[K     |██████████████████████████████▉ | 13.2 MB 46.4 MB/s eta 0:00:01\r",
      "\u001b[K     |███████████████████████████████ | 13.2 MB 46.4 MB/s eta 0:00:01\r",
      "\u001b[K     |███████████████████████████████ | 13.2 MB 46.4 MB/s eta 0:00:01\r",
      "\u001b[K     |███████████████████████████████ | 13.3 MB 46.4 MB/s eta 0:00:01\r",
      "\u001b[K     |███████████████████████████████ | 13.3 MB 46.4 MB/s eta 0:00:01\r",
      "\u001b[K     |███████████████████████████████ | 13.3 MB 46.4 MB/s eta 0:00:01\r",
      "\u001b[K     |███████████████████████████████ | 13.3 MB 46.4 MB/s eta 0:00:01\r",
      "\u001b[K     |███████████████████████████████ | 13.3 MB 46.4 MB/s eta 0:00:01\r",
      "\u001b[K     |███████████████████████████████ | 13.3 MB 46.4 MB/s eta 0:00:01\r",
      "\u001b[K     |███████████████████████████████ | 13.3 MB 46.4 MB/s eta 0:00:01\r",
      "\u001b[K     |███████████████████████████████▏| 13.3 MB 46.4 MB/s eta 0:00:01\r",
      "\u001b[K     |███████████████████████████████▏| 13.3 MB 46.4 MB/s eta 0:00:01\r",
      "\u001b[K     |███████████████████████████████▏| 13.3 MB 46.4 MB/s eta 0:00:01\r",
      "\u001b[K     |███████████████████████████████▏| 13.4 MB 46.4 MB/s eta 0:00:01\r",
      "\u001b[K     |███████████████████████████████▏| 13.4 MB 46.4 MB/s eta 0:00:01\r",
      "\u001b[K     |███████████████████████████████▎| 13.4 MB 46.4 MB/s eta 0:00:01\r",
      "\u001b[K     |███████████████████████████████▎| 13.4 MB 46.4 MB/s eta 0:00:01\r",
      "\u001b[K     |███████████████████████████████▎| 13.4 MB 46.4 MB/s eta 0:00:01\r",
      "\u001b[K     |███████████████████████████████▎| 13.4 MB 46.4 MB/s eta 0:00:01\r",
      "\u001b[K     |███████████████████████████████▎| 13.4 MB 46.4 MB/s eta 0:00:01\r",
      "\u001b[K     |███████████████████████████████▍| 13.4 MB 46.4 MB/s eta 0:00:01\r",
      "\u001b[K     |███████████████████████████████▍| 13.4 MB 46.4 MB/s eta 0:00:01\r",
      "\u001b[K     |███████████████████████████████▍| 13.4 MB 46.4 MB/s eta 0:00:01\r",
      "\u001b[K     |███████████████████████████████▍| 13.5 MB 46.4 MB/s eta 0:00:01\r",
      "\u001b[K     |███████████████████████████████▌| 13.5 MB 46.4 MB/s eta 0:00:01\r",
      "\u001b[K     |███████████████████████████████▌| 13.5 MB 46.4 MB/s eta 0:00:01\r",
      "\u001b[K     |███████████████████████████████▌| 13.5 MB 46.4 MB/s eta 0:00:01\r",
      "\u001b[K     |███████████████████████████████▌| 13.5 MB 46.4 MB/s eta 0:00:01\r",
      "\u001b[K     |███████████████████████████████▌| 13.5 MB 46.4 MB/s eta 0:00:01\r",
      "\u001b[K     |███████████████████████████████▋| 13.5 MB 46.4 MB/s eta 0:00:01\r",
      "\u001b[K     |███████████████████████████████▋| 13.5 MB 46.4 MB/s eta 0:00:01\r",
      "\u001b[K     |███████████████████████████████▋| 13.5 MB 46.4 MB/s eta 0:00:01\r",
      "\u001b[K     |███████████████████████████████▋| 13.5 MB 46.4 MB/s eta 0:00:01\r",
      "\u001b[K     |███████████████████████████████▋| 13.6 MB 46.4 MB/s eta 0:00:01\r",
      "\u001b[K     |███████████████████████████████▊| 13.6 MB 46.4 MB/s eta 0:00:01\r",
      "\u001b[K     |███████████████████████████████▊| 13.6 MB 46.4 MB/s eta 0:00:01\r",
      "\u001b[K     |███████████████████████████████▊| 13.6 MB 46.4 MB/s eta 0:00:01\r",
      "\u001b[K     |███████████████████████████████▊| 13.6 MB 46.4 MB/s eta 0:00:01\r",
      "\u001b[K     |███████████████████████████████▉| 13.6 MB 46.4 MB/s eta 0:00:01\r",
      "\u001b[K     |███████████████████████████████▉| 13.6 MB 46.4 MB/s eta 0:00:01\r",
      "\u001b[K     |███████████████████████████████▉| 13.6 MB 46.4 MB/s eta 0:00:01\r",
      "\u001b[K     |███████████████████████████████▉| 13.6 MB 46.4 MB/s eta 0:00:01\r",
      "\u001b[K     |███████████████████████████████▉| 13.6 MB 46.4 MB/s eta 0:00:01\r",
      "\u001b[K     |████████████████████████████████| 13.7 MB 46.4 MB/s eta 0:00:01\r",
      "\u001b[K     |████████████████████████████████| 13.7 MB 46.4 MB/s eta 0:00:01\r",
      "\u001b[K     |████████████████████████████████| 13.7 MB 46.4 MB/s eta 0:00:01\r",
      "\u001b[K     |████████████████████████████████| 13.7 MB 46.4 MB/s eta 0:00:01\r",
      "\u001b[K     |████████████████████████████████| 13.7 MB 46.4 MB/s eta 0:00:01"
     ]
    },
    {
     "name": "stdout",
     "output_type": "stream",
     "text": [
      "\r",
      "\u001b[K     |████████████████████████████████| 13.7 MB 46.4 MB/s \r\n"
     ]
    },
    {
     "name": "stdout",
     "output_type": "stream",
     "text": [
      "\u001b[?25hRequirement already satisfied: typing-extensions>=3.7.4.3 in /opt/conda/envs/eurodatacube-0.24.5/lib/python3.8/site-packages (from pydantic>=1.6->stac-pydantic==1.3.9->aireo-library==0.0.post1.dev5+gd20a604) (3.7.4.3)\r\n"
     ]
    },
    {
     "name": "stdout",
     "output_type": "stream",
     "text": [
      "Requirement already satisfied: pyproj>=2.2.0 in /opt/conda/envs/eurodatacube-0.24.5/lib/python3.8/site-packages (from geopandas->aireo-library==0.0.post1.dev5+gd20a604) (3.0.1)\r\n",
      "Requirement already satisfied: shapely>=1.6 in /opt/conda/envs/eurodatacube-0.24.5/lib/python3.8/site-packages (from geopandas->aireo-library==0.0.post1.dev5+gd20a604) (1.7.1)\r\n",
      "Requirement already satisfied: pandas>=0.24.0 in /opt/conda/envs/eurodatacube-0.24.5/lib/python3.8/site-packages (from geopandas->aireo-library==0.0.post1.dev5+gd20a604) (1.2.4)\r\n",
      "Requirement already satisfied: fiona>=1.8 in /opt/conda/envs/eurodatacube-0.24.5/lib/python3.8/site-packages (from geopandas->aireo-library==0.0.post1.dev5+gd20a604) (1.8.18)\r\n",
      "Requirement already satisfied: attrs>=17 in /opt/conda/envs/eurodatacube-0.24.5/lib/python3.8/site-packages (from fiona>=1.8->geopandas->aireo-library==0.0.post1.dev5+gd20a604) (21.2.0)\r\n",
      "Requirement already satisfied: certifi in /opt/conda/envs/eurodatacube-0.24.5/lib/python3.8/site-packages (from fiona>=1.8->geopandas->aireo-library==0.0.post1.dev5+gd20a604) (2020.12.5)\r\n",
      "Requirement already satisfied: cligj>=0.5 in /opt/conda/envs/eurodatacube-0.24.5/lib/python3.8/site-packages (from fiona>=1.8->geopandas->aireo-library==0.0.post1.dev5+gd20a604) (0.7.1)\r\n",
      "Requirement already satisfied: click-plugins>=1.0 in /opt/conda/envs/eurodatacube-0.24.5/lib/python3.8/site-packages (from fiona>=1.8->geopandas->aireo-library==0.0.post1.dev5+gd20a604) (1.1.1)\r\n",
      "Requirement already satisfied: six>=1.7 in /opt/conda/envs/eurodatacube-0.24.5/lib/python3.8/site-packages (from fiona>=1.8->geopandas->aireo-library==0.0.post1.dev5+gd20a604) (1.16.0)\r\n",
      "Requirement already satisfied: munch in /opt/conda/envs/eurodatacube-0.24.5/lib/python3.8/site-packages (from fiona>=1.8->geopandas->aireo-library==0.0.post1.dev5+gd20a604) (2.5.0)\r\n",
      "Requirement already satisfied: python-dateutil>=2.7.3 in /opt/conda/envs/eurodatacube-0.24.5/lib/python3.8/site-packages (from pandas>=0.24.0->geopandas->aireo-library==0.0.post1.dev5+gd20a604) (2.8.1)\r\n"
     ]
    },
    {
     "name": "stdout",
     "output_type": "stream",
     "text": [
      "Requirement already satisfied: pytz>=2017.3 in /opt/conda/envs/eurodatacube-0.24.5/lib/python3.8/site-packages (from pandas>=0.24.0->geopandas->aireo-library==0.0.post1.dev5+gd20a604) (2021.1)\r\n",
      "Requirement already satisfied: cycler>=0.10 in /opt/conda/envs/eurodatacube-0.24.5/lib/python3.8/site-packages (from matplotlib->aireo-library==0.0.post1.dev5+gd20a604) (0.10.0)\r\n",
      "Requirement already satisfied: pyparsing>=2.2.1 in /opt/conda/envs/eurodatacube-0.24.5/lib/python3.8/site-packages (from matplotlib->aireo-library==0.0.post1.dev5+gd20a604) (2.4.7)\r\n",
      "Requirement already satisfied: pillow>=6.2.0 in /opt/conda/envs/eurodatacube-0.24.5/lib/python3.8/site-packages (from matplotlib->aireo-library==0.0.post1.dev5+gd20a604) (8.1.2)\r\n",
      "Requirement already satisfied: kiwisolver>=1.0.1 in /opt/conda/envs/eurodatacube-0.24.5/lib/python3.8/site-packages (from matplotlib->aireo-library==0.0.post1.dev5+gd20a604) (1.3.1)\r\n"
     ]
    },
    {
     "name": "stdout",
     "output_type": "stream",
     "text": [
      "Requirement already satisfied: PyYAML in /opt/conda/envs/eurodatacube-0.24.5/lib/python3.8/site-packages (from pyaml->aireo-library==0.0.post1.dev5+gd20a604) (5.4.1)\r\n",
      "Requirement already satisfied: setuptools>=40.4 in /opt/conda/envs/eurodatacube-0.24.5/lib/python3.8/site-packages (from xarray->aireo-library==0.0.post1.dev5+gd20a604) (49.6.0.post20210108)\r\n"
     ]
    },
    {
     "name": "stdout",
     "output_type": "stream",
     "text": [
      "Building wheels for collected packages: aireo-library, geojson-pydantic\r\n"
     ]
    },
    {
     "name": "stdout",
     "output_type": "stream",
     "text": [
      "  Building wheel for aireo-library (PEP 517) ... \u001b[?25l-"
     ]
    },
    {
     "name": "stdout",
     "output_type": "stream",
     "text": [
      "\b \bdone\r\n",
      "\u001b[?25h  Created wheel for aireo-library: filename=aireo_library-0.0.post1.dev5+gd20a604-py2.py3-none-any.whl size=32437 sha256=c6e196e75a2b8a6dd9cee8c75ada76813516dcc1f142d02e8cb9d4aaf2563b10\r\n",
      "  Stored in directory: /tmp/pip-ephem-wheel-cache-mfs84jd6/wheels/21/0d/e3/5070de6a55fd86816588bdec861c04e5854a778bdc27889fa4\r\n"
     ]
    },
    {
     "name": "stdout",
     "output_type": "stream",
     "text": [
      "  Building wheel for geojson-pydantic (setup.py) ... \u001b[?25l-"
     ]
    },
    {
     "name": "stdout",
     "output_type": "stream",
     "text": [
      "\b \bdone\r\n",
      "\u001b[?25h  Created wheel for geojson-pydantic: filename=geojson_pydantic-0.3.1-py3-none-any.whl size=6939 sha256=86fbee665add05f6c1629e0e72c3963a6695c50646108cc17d45f88515844169\r\n",
      "  Stored in directory: /home/jovyan/true/wheels/ef/c4/15/441ebb8276a98d23e3ea91a7724f583b1a1602ad9a5e8b3f94\r\n",
      "Successfully built aireo-library geojson-pydantic\r\n"
     ]
    },
    {
     "name": "stdout",
     "output_type": "stream",
     "text": [
      "Installing collected packages: pydantic, geojson-pydantic, stac-pydantic, pyaml, loguru, aireo-library\r\n"
     ]
    },
    {
     "name": "stdout",
     "output_type": "stream",
     "text": [
      "Successfully installed aireo-library-0.0.post1.dev5+gd20a604 geojson-pydantic-0.3.1 loguru-0.5.3 pyaml-21.8.3 pydantic-1.8.2 stac-pydantic-1.3.9\r\n"
     ]
    }
   ],
   "source": [
    "!python3 -m pip install git+https://github.com/aireo-project/aireo_lib"
   ]
  },
  {
   "cell_type": "markdown",
   "id": "fa8de0c7",
   "metadata": {
    "papermill": {
     "duration": 0.026227,
     "end_time": "2021-08-11T14:31:24.490954",
     "exception": false,
     "start_time": "2021-08-11T14:31:24.464727",
     "status": "completed"
    },
    "tags": []
   },
   "source": [
    "## Introduction\n",
    "\n",
    "The notebook demonstrates the use of <b> aireo_lib </b>, a python library created as a part of the [AIREO](https://aireo.net/) (Artificial Intelligence Ready Earth Observation training datasets) project. The project aims to make EO datasets easily accessible for the ML (Machine Learning) community. As such, AIREO specifications (shorthand specs) which define metadata elements to be included with the training dataset are proposed, supplemented by a best-practices document which suggests how to fill those metadata elements. Finally, the library takes all into account and implements specs, best-practices and offers an easy-to-use pythonic interface bridging the gap between EO and ML community.\n",
    "\n",
    "Therefore, this notebook is divided into two sections, one for the training dataset creator (usually from the EO community) and the other for its user (usually from the ML community). The structure of the notebook is the following:\n",
    "\n",
    "\n",
    "1) For Creator \n",
    "\n",
    "    - Create a [STAC](https://stacspec.org/) catalog object using the library\n",
    "    \n",
    "    - Populate metadata elements prescribed by the AIREO specs\n",
    "    \n",
    "    - Generate a STAC metadata directory using the library\n",
    "\n",
    "    - Check AIREO compliance level and metadata completeness\n",
    "\n",
    "   \n",
    "2) For User \n",
    "\n",
    "    - Create a training dataset object as defined in the library using only the STAC metadata\n",
    "    \n",
    "    - Get example instances from the object and other dataset variables like the number of instances, etc.\n",
    "    \n",
    "    - Use library's functions to plot the data\n",
    "    \n",
    "    - Investigate statistics using the library"
   ]
  },
  {
   "cell_type": "markdown",
   "id": "b7e42d4d",
   "metadata": {
    "papermill": {
     "duration": 0.030596,
     "end_time": "2021-08-11T14:31:24.547835",
     "exception": false,
     "start_time": "2021-08-11T14:31:24.517239",
     "status": "completed"
    },
    "tags": []
   },
   "source": [
    "#### About the training dataset\n",
    "\n",
    "The AI4Artic ASIP Sea Ice Dataset contains 461 files in network Common Data Form (netCDF), coming from Sentinel 1 SAR and AMSR2 microwave radiometer imagery with corresponding ice charts from Danish Meteorological Institute of the Arctic area.\n",
    "\n",
    "Data is in netCDF format with over 300 GB of it accompanied by a well written manual. Sentinel 1 data is 90m resolution with 40 x 40m pixel spacing and AMSR2 data is resmpled to its pixels. Each satellite image comes with a timestamp and the data is acquired between 2018-2019. It also contains excel sheet where it can be found all images IDs along with the percentage of water and ice present per image. Finally it contains as well a shapefile with all S1 scenes bounding boxes."
   ]
  },
  {
   "cell_type": "markdown",
   "id": "b30ee6c0",
   "metadata": {
    "papermill": {
     "duration": 0.028142,
     "end_time": "2021-08-11T14:31:24.602143",
     "exception": false,
     "start_time": "2021-08-11T14:31:24.574001",
     "status": "completed"
    },
    "tags": []
   },
   "source": [
    "## TDS Description"
   ]
  },
  {
   "cell_type": "markdown",
   "id": "a546b7d8",
   "metadata": {
    "papermill": {
     "duration": 0.026373,
     "end_time": "2021-08-11T14:31:24.655657",
     "exception": false,
     "start_time": "2021-08-11T14:31:24.629284",
     "status": "completed"
    },
    "tags": []
   },
   "source": [
    "## AIREO STAC Catalog basics"
   ]
  },
  {
   "cell_type": "markdown",
   "id": "65e5c942",
   "metadata": {
    "papermill": {
     "duration": 0.026868,
     "end_time": "2021-08-11T14:31:24.708515",
     "exception": false,
     "start_time": "2021-08-11T14:31:24.681647",
     "status": "completed"
    },
    "tags": []
   },
   "source": [
    "The AIREO specs propose a hierarchical structure for STAC metadata. It is a two level structure where the dataset is represented by a collection of AOIs (Area Of Interests), hence, the dataset and AOI being the two levels.\n",
    "\n",
    "1. At the dataset level we have a dataset catalog whose metadata elements are the core elements proposed in the AIREO spec. In addition to it, the common metadata elements across each AOI are also at the dataset level, which we shall call root level henceforth. Here, for each data variable there is a separate json which is a STAC Item by definition and is named using the field_schema metadata element. Additionally, there is also a datasheet file in markdown format at the root level which contains human readable information about the key elements of the dataset.\n",
    "\n",
    "2. Each AOI has a separate folder within the root level. And in each AOI folder there is a STAC collection representing that AOI and additional json files for each data variable. The additional json files here too, are STAC Items and follow a similar naming convention to the ones at the root level. The assets for each AOI, i.e. the files containing actual data are also in the folder.\n",
    "\n",
    "The diagram below summarises this hierarchical structure:\n",
    "\n",
    "\n",
    "```\n",
    "Root level (dataset)\n",
    "│\n",
    "│   DatasetCatalog.json\n",
    "│   datasheet.md\n",
    "│   references_output1.json\n",
    "│   features_input1.json\n",
    "│   ...\n",
    "│\n",
    "│\n",
    "└───AOI 1\n",
    "│      1.json (AOI Collection)\n",
    "│      feature_input1.json\n",
    "│      reference_output1.json\n",
    "│      <reference_asset>\n",
    "│      <feature_asseet>\n",
    "│   \n",
    "│   \n",
    "└───AOI 2\n",
    "│      ...\n",
    "│   \n",
    "│\n",
    "└───AOI 3\n",
    "│      ...\n",
    "│   \n",
    "...     \n",
    "```"
   ]
  },
  {
   "cell_type": "markdown",
   "id": "0806e025",
   "metadata": {
    "papermill": {
     "duration": 0.026215,
     "end_time": "2021-08-11T14:31:24.760591",
     "exception": false,
     "start_time": "2021-08-11T14:31:24.734376",
     "status": "completed"
    },
    "tags": []
   },
   "source": [
    "## Creating a STAC catalog with aireo_lib\n",
    "\n",
    "The aireo_lib library makes it easier to generate the STAC metadata directory as defined above. Some of the useful functionalities in the library are:\n",
    "-  Define python dictionaries for metadata at the root level and use a simple function to add it to the STAC catalog. The library validates the data automatically when it is added.\n",
    "\n",
    "- Similarly, python dictionaries can be defined for each AOI and are also validated automatically.\n",
    "\n",
    "- Links and assets for all the json files are automatically generated.\n",
    "\n",
    "- Datasheet is also generated automatically.\n",
    "\n",
    "- The directory structure is created by the library and assets copied to their respective locations in the hierarchy.\n",
    "\n",
    "- Evaluating metadata completeness and compliance level.\n",
    "\n",
    "\n",
    "Follow the code and comments below to understand the steps needed to generate STAC metadata with the library."
   ]
  },
  {
   "cell_type": "code",
   "execution_count": 3,
   "id": "308e3bbf",
   "metadata": {
    "execution": {
     "iopub.execute_input": "2021-08-11T14:31:24.817823Z",
     "iopub.status.busy": "2021-08-11T14:31:24.817274Z",
     "iopub.status.idle": "2021-08-11T14:31:26.309614Z",
     "shell.execute_reply": "2021-08-11T14:31:26.309147Z"
    },
    "papermill": {
     "duration": 1.522398,
     "end_time": "2021-08-11T14:31:26.309718",
     "exception": false,
     "start_time": "2021-08-11T14:31:24.787320",
     "status": "completed"
    },
    "tags": []
   },
   "outputs": [
    {
     "data": {
      "text/plain": [
       "<module 'aireo_lib.core' from '/opt/conda/envs/eurodatacube-0.24.5/lib/python3.8/site-packages/aireo_lib/core.py'>"
      ]
     },
     "execution_count": 3,
     "metadata": {},
     "output_type": "execute_result"
    }
   ],
   "source": [
    "import aireo_lib.core\n",
    "import os\n",
    "import json\n",
    "import numpy as np\n",
    "from osgeo import gdal\n",
    "from shapely import geometry\n",
    "import rioxarray\n",
    "import xarray as xr\n",
    "from pathlib import Path\n",
    "import pandas as pd\n",
    "import geopandas as gp\n",
    "import glob\n",
    "\n",
    "from importlib import reload\n",
    "reload(aireo_lib.core)\n"
   ]
  },
  {
   "cell_type": "code",
   "execution_count": 4,
   "id": "760d0dfc",
   "metadata": {
    "execution": {
     "iopub.execute_input": "2021-08-11T14:31:26.367779Z",
     "iopub.status.busy": "2021-08-11T14:31:26.367209Z",
     "iopub.status.idle": "2021-08-11T14:31:26.368780Z",
     "shell.execute_reply": "2021-08-11T14:31:26.369164Z"
    },
    "papermill": {
     "duration": 0.033011,
     "end_time": "2021-08-11T14:31:26.369284",
     "exception": false,
     "start_time": "2021-08-11T14:31:26.336273",
     "status": "completed"
    },
    "tags": []
   },
   "outputs": [],
   "source": [
    "\n",
    "# Path to write the STAC root metadata file too\n",
    "catalog_fn_w_path = os.environ['EDC_PATH']  +'/data/Sea-Ice/sea-ice_stac_generated/EO_TDS.json'\n",
    "\n",
    "# Creating an empty STAC Catalog object\n",
    "new_tds_ctl_o = aireo_lib.core.tds_stac_io.DatasetSTACCatalog()"
   ]
  },
  {
   "cell_type": "code",
   "execution_count": 5,
   "id": "5a7ff0fc",
   "metadata": {
    "execution": {
     "iopub.execute_input": "2021-08-11T14:31:27.039636Z",
     "iopub.status.busy": "2021-08-11T14:31:27.029529Z",
     "iopub.status.idle": "2021-08-11T14:31:29.754688Z",
     "shell.execute_reply": "2021-08-11T14:31:29.754135Z"
    },
    "papermill": {
     "duration": 3.358759,
     "end_time": "2021-08-11T14:31:29.754796",
     "exception": false,
     "start_time": "2021-08-11T14:31:26.396037",
     "status": "completed"
    },
    "tags": []
   },
   "outputs": [
    {
     "name": "stderr",
     "output_type": "stream",
     "text": [
      "<ipython-input-5-b8219908e2dd>:7: FutureWarning: Your version of xlrd is 1.2.0. In xlrd >= 2.0, only the xls format is supported. As a result, the openpyxl engine will be used if it is installed and the engine argument is not specified. Install openpyxl instead.\n",
      "  df = pd.read_excel(reference_path)\n"
     ]
    },
    {
     "data": {
      "text/plain": [
       "['20180327T104059_S1B_AMSR2_Icechart-Greenland-CentralWest',\n",
       " '20180404T205505_S1B_AMSR2_Icechart-Greenland-CentralWest',\n",
       " '20180410T084537_S1B_AMSR2_Icechart-Greenland-SouthEast',\n",
       " '20180413T202620_S1B_AMSR2_Icechart-Greenland-CapeFarewell']"
      ]
     },
     "execution_count": 5,
     "metadata": {},
     "output_type": "execute_result"
    }
   ],
   "source": [
    "#Gather some metadata files to be used to create the STAC catalog\n",
    "\n",
    "url = os.environ['EDC_PATH'] + \"/data/Sea-Ice/dataset/S1_frames.shp\"\n",
    "fgdf = gp.read_file(url)\n",
    "\n",
    "reference_path = os.environ['EDC_PATH'] + '/data/Sea-Ice/dataset/Data_ice_water.xlsx'\n",
    "df = pd.read_excel(reference_path)\n",
    "\n",
    "# Get AOI list for the TDS\n",
    "\n",
    "aoi_path = os.environ['EDC_PATH'] + '/data/Sea-Ice/dataset/sea-ice_nc/'\n",
    "aoi_ids = glob.glob(aoi_path + '/*')\n",
    "aoi_ids = [x.split('/')[-1].split('.')[0] for x in aoi_ids]\n",
    "aoi_ids"
   ]
  },
  {
   "cell_type": "code",
   "execution_count": 6,
   "id": "24670163",
   "metadata": {
    "execution": {
     "iopub.execute_input": "2021-08-11T14:31:29.814841Z",
     "iopub.status.busy": "2021-08-11T14:31:29.814219Z",
     "iopub.status.idle": "2021-08-11T14:31:29.816294Z",
     "shell.execute_reply": "2021-08-11T14:31:29.815853Z"
    },
    "papermill": {
     "duration": 0.034914,
     "end_time": "2021-08-11T14:31:29.816393",
     "exception": false,
     "start_time": "2021-08-11T14:31:29.781479",
     "status": "completed"
    },
    "tags": []
   },
   "outputs": [],
   "source": [
    "# Creating root metadata dictionary\n",
    "\n",
    "tds_root_core_metadata_d = {}\n",
    "tds_root_core_metadata_d['aireo_version'] = \"0.0.1-alpha.1\"\n",
    "tds_root_core_metadata_d['title'] = \"AI4Artic ASIP Sea Ice Dataset\"\n",
    "tds_root_core_metadata_d['description'] = \"AI4Artic ASIP Sea Ice Dataset contains 461 files in network Common Data Form (netCDF), coming from Sentinel 1 SAR and AMSR2 microwave radiometer imagery with corresponding ice charts from Danish Meteorological Institute of the Arctic area.\"\n",
    "tds_root_core_metadata_d['created'] = \"Null\"\n",
    "tds_root_core_metadata_d['license_url_list'] = 'https://creativecommons.org/licenses/by/4.0/deed.de' \n",
    "tds_root_core_metadata_d['license'] = \"CC-BY-4.0\"\n",
    "tds_root_core_metadata_d[\"providers_name\"]= \"[Danish Meteorological Institute (DMI), the Technical University of Denmark (DTU) and Nansen Environmen-tal Remote Sensing Center (NERSC), AIREO]\"\n",
    "tds_root_core_metadata_d[\"providers_description\"] = \"Danish Meteorological Institute (DMI), the Technical University of Denmark (DTU) and Nansen Environmen-tal Remote Sensing Center (NERSC)\"\n",
    "tds_root_core_metadata_d[\"providers_roles\"] = {'AIREO':[\"producer\", \"processor\" , \"host\"],'DMI, DTU, NERSC':[\"producer\", \"processor\" ]}\n",
    "tds_root_core_metadata_d[\"providers_url\"]= {'DMI':'https://www.dmi.dk/', 'DTU':'https://www.dtu.dk', 'NERSC':'https://www.nersc.no/', 'AIREO': 'https://aireo.net/'}                         \n",
    "tds_root_core_metadata_d['id'] =  \"270460aa-7835-11eb-9439-0242ac130002\"\n",
    "tds_root_core_metadata_d['type'] = \"Collection\"\n",
    "tds_root_core_metadata_d['stac_version'] = '1.0.0-beta.2'\n",
    "tds_root_core_metadata_d['provenance'] = 'The AI4Arctic sea ice dataset –version 2, ASID-v2, includes 461 files in netCDF format; two channel dual polarized(HH and HV) Sentinel-1 Extra WideSwath (EW) images, withboth ESA and NERSC noise correction;auxiliary Sentinel-1 image parameters,microwave radiometer measurements from the AMSR2 sensor on board the JAXA GCOM-W satellite, the corresponding DMI ice chart based on that Sentinel-1 image,'\n",
    "tds_root_core_metadata_d['purpose'] = \"Data is in netCDF format with over 300 GB of it accompanied by a well written manual. Sentinel 1 data is 90m resolution with 40 x 40m pixel spacing and AMSR2 data is resmpled to its pixels. Each satellite image comes with a timestamp and the data is acquired between 2018-2019. These can be used to perform semantic segmentation to infer sea ice level.\"\n",
    "tds_root_core_metadata_d['tasks'] =  ['Semantic Segmentation']\n",
    "tds_root_core_metadata_d['data_preprocessing'] = {'type':'free-text', 'recipe':\"Null\"}\n",
    "tds_root_core_metadata_d['funding_info'] = \"The AIREO project is funded by ESA, the AI4Arctiv sea ice dataset was funded by ESA Contract No. 4000129762/20/I-NB and Innovation Fund Denmark, Grant: 7049-00008B\"\n",
    "tds_root_core_metadata_d['field_schema'] = {'features': {'input1': ['georeferenced_eo_image']}, 'references': {'output1': ['reference_data']}}\n",
    "tds_root_core_metadata_d['example_definition'] = \"An example for ML training would be one satellite image with various bands as features and the mask as reference data. This can be used for predicting sea ice levels.\"\n",
    "tds_root_core_metadata_d['example_window_size'] = 256\n",
    "tds_root_core_metadata_d['example_stride'] = 26\n",
    "                                                 \n",
    "tds_root_core_metadata_d['data_completeness'] = \"The dataset contains 461 netCDF files covering a large area with corresponding masks for sea-ice level for all areas.\"\n",
    "tds_root_core_metadata_d['data_split'] = \"The dataset can be split in a number of different ways but a standard way is to take 70% of the aoi's for training, 10% for validation and the remaining 20% as a test set.\"\n",
    "tds_root_core_metadata_d['data_sharing'] = \"The dataset will be shared on Euro Data Cube (EDC) and can be accessed through jupyter notebooks on EDC.\"\n",
    "tds_root_core_metadata_d['compliance_level'] = 'level 1'\n",
    "tds_root_core_metadata_d['links'] =  []\n"
   ]
  },
  {
   "cell_type": "code",
   "execution_count": 7,
   "id": "b6ae182e",
   "metadata": {
    "execution": {
     "iopub.execute_input": "2021-08-11T14:31:29.878163Z",
     "iopub.status.busy": "2021-08-11T14:31:29.877526Z",
     "iopub.status.idle": "2021-08-11T14:31:29.880201Z",
     "shell.execute_reply": "2021-08-11T14:31:29.879663Z"
    },
    "papermill": {
     "duration": 0.037596,
     "end_time": "2021-08-11T14:31:29.880317",
     "exception": false,
     "start_time": "2021-08-11T14:31:29.842721",
     "status": "completed"
    },
    "tags": []
   },
   "outputs": [],
   "source": [
    "#Creating common predictive feature metadata dictionary\n",
    "\n",
    "g_feature_metadata_d = {}\n",
    "g_feature_metadata_d['type'] = \"Feature\"\n",
    "g_feature_metadata_d['stac_version'] = \"1.0.0-beta.2\"\n",
    "g_feature_metadata_d['stac_extensions'] = [\"georeferenced_eo_image\"]\n",
    "g_feature_metadata_d['id'] = f'common_predictive_feature_metadata'\n",
    "g_feature_metadata_d['collection'] = \"270460aa-7835-11eb-9439-0242ac130002\"\n",
    "\n",
    "geom = np.array(fgdf[fgdf['filename'] == '20180521T103156_S1B_AMSR2_Icechart-Greenland-NorthWest.nc']['geometry'][0].exterior.coords.xy)\n",
    "xs = geom[0]\n",
    "ys = geom[1]\n",
    "xys = zip(xs,ys)\n",
    "arr = []\n",
    "for x, y in xys:\n",
    "    arr.append([x,y])\n",
    "g_feature_metadata_d['geometry'] = {'type': 'Polygon', 'coordinates': [arr]}\n",
    "g_feature_metadata_d['bbox'] = [min(xs),min(ys), max(xs), max(ys)]\n",
    "g_feature_metadata_d['properties'] = {}\n",
    "g_feature_metadata_d[\"properties\"][\"status\"]= \"Null\"\n",
    "g_feature_metadata_d[\"properties\"]['parent_identifier'] = \"270460aa-7835-11eb-9439-0242ac130002\"\n",
    "g_feature_metadata_d[\"properties\"]['acquisition_type'] = \"Null\"\n",
    "g_feature_metadata_d[\"properties\"]['product_type']  = \"Null\"\n",
    "g_feature_metadata_d[\"properties\"]['processing_level'] = 1.0\n",
    "g_feature_metadata_d[\"properties\"]['platform_short_name'] = \"Sentinel 2\"\n",
    "g_feature_metadata_d[\"properties\"]['sensor_type'] = \"SAR\"\n",
    "g_feature_metadata_d[\"properties\"]['sensor_resolution'] = \"10m\"\n",
    "g_feature_metadata_d[\"properties\"]['gsd'] = 10\n",
    "g_feature_metadata_d['properties']['datetime'] = \"2019\"\n",
    "g_feature_metadata_d[\"properties\"]['identifier'] = \"Null\"\n",
    "g_feature_metadata_d['links'] = []\n",
    "g_feature_metadata_d[\"assets\"] =  {}\n",
    "feature_metadata_d = {}\n",
    "feature_metadata_d['input1'] = g_feature_metadata_d"
   ]
  },
  {
   "cell_type": "code",
   "execution_count": 8,
   "id": "dc4fa480",
   "metadata": {
    "execution": {
     "iopub.execute_input": "2021-08-11T14:31:29.945693Z",
     "iopub.status.busy": "2021-08-11T14:31:29.939169Z",
     "iopub.status.idle": "2021-08-11T14:31:29.948449Z",
     "shell.execute_reply": "2021-08-11T14:31:29.947999Z"
    },
    "papermill": {
     "duration": 0.041761,
     "end_time": "2021-08-11T14:31:29.948552",
     "exception": false,
     "start_time": "2021-08-11T14:31:29.906791",
     "status": "completed"
    },
    "tags": []
   },
   "outputs": [],
   "source": [
    "#Creating common reference metadata dictionary\n",
    "\n",
    "g_ref_data_metadata_d = {}\n",
    "\n",
    "g_ref_data_metadata_d['id'] = f'common_reference_metadata'\n",
    "g_ref_data_metadata_d['type'] = \"Feature\"\n",
    "g_ref_data_metadata_d['stac_version'] = \"1.0.0-beta.2\"\n",
    "g_ref_data_metadata_d['stac_extensions'] = [\"reference_data\"]\n",
    "g_ref_data_metadata_d['collection'] = \"270460aa-7835-11eb-9439-0242ac130002\"\n",
    "\n",
    "geom = np.array(fgdf[fgdf['filename'] == '20180521T103156_S1B_AMSR2_Icechart-Greenland-NorthWest.nc']['geometry'][0].exterior.coords.xy)\n",
    "xs = geom[0]\n",
    "ys = geom[1]\n",
    "xys = zip(xs,ys)\n",
    "arr = []\n",
    "for x, y in xys:\n",
    "    arr.append([x,y])\n",
    "g_ref_data_metadata_d['geometry'] = {'type': 'Polygon', 'coordinates': [arr]}\n",
    "g_ref_data_metadata_d['bbox'] = [min(xs),min(ys), max(xs), max(ys)]\n",
    "g_ref_data_metadata_d['properties'] = {}\n",
    "g_ref_data_metadata_d[\"properties\"]['name'] = \" Reference metadata\"\n",
    "g_ref_data_metadata_d['properties']['description'] = \"The reference data consists of polygons with the percentage of sea ice for a given mask.\"\n",
    "g_ref_data_metadata_d['properties']['type'] = \"Raster\"\n",
    "g_ref_data_metadata_d['properties']['task'] = \"Semantic Segmentation\"\n",
    "g_ref_data_metadata_d['properties']['classes'] = [[{'pct_ice': 416, 'pct_water': 416, 'pct_nodata': 416}]]\n",
    "g_ref_data_metadata_d['properties']['overviews'] = []\n",
    "g_ref_data_metadata_d['properties']['collection_method'] = \"Sentinel-1 Synthetic Aperture Radar (SAR) scenes matched with sea ice charts produced by the Danish Meteorological Institute in 2018-2019.\"\n",
    "g_ref_data_metadata_d['properties']['data_preprocessing'] = {'type':'free-text', 'recipe':\"Null\"}\n",
    "g_ref_data_metadata_d['properties']['CRS'] = 'EPSG:32631'\n",
    "g_ref_data_metadata_d['properties']['time_range'] = '2018-2019'\n",
    "\n",
    "g_ref_data_metadata_d[\"properties\"]['value'] = 0\n",
    "g_ref_data_metadata_d['properties'][\"orientation\"]= \"Null\"\n",
    "g_ref_data_metadata_d[\"properties\"]['datetime'] = \"2019\"\n",
    "g_ref_data_metadata_d['links'] = []\n",
    "g_ref_data_metadata_d[\"assets\"] = {}\n",
    "\n",
    "ref_metadata_d = {}\n",
    "ref_metadata_d['output1'] = g_ref_data_metadata_d"
   ]
  },
  {
   "cell_type": "code",
   "execution_count": 9,
   "id": "efb58c1e",
   "metadata": {
    "execution": {
     "iopub.execute_input": "2021-08-11T14:31:30.005002Z",
     "iopub.status.busy": "2021-08-11T14:31:30.004413Z",
     "iopub.status.idle": "2021-08-11T14:31:30.007827Z",
     "shell.execute_reply": "2021-08-11T14:31:30.007343Z"
    },
    "papermill": {
     "duration": 0.032839,
     "end_time": "2021-08-11T14:31:30.007928",
     "exception": false,
     "start_time": "2021-08-11T14:31:29.975089",
     "status": "completed"
    },
    "tags": []
   },
   "outputs": [
    {
     "name": "stderr",
     "output_type": "stream",
     "text": [
      "2021-08-11 14:31:30.003 | ERROR    | aireo_lib.tds_stac_io:validate_tds_root_dict:172 - 1 validation error for AIREOTDSCatalog\n",
      "data_preprocessing\n",
      "  str type expected (type=type_error.str)\n"
     ]
    },
    {
     "data": {
      "text/plain": [
       "False"
      ]
     },
     "execution_count": 9,
     "metadata": {},
     "output_type": "execute_result"
    }
   ],
   "source": [
    "# Add TDS global core elements metadata, and add global level profile metadata to the catalog object.\n",
    "\n",
    "new_tds_ctl_o.add_tds_root_metadata(tds_root_core_metadata_d, feature_metadata_d, ref_metadata_d)\n"
   ]
  },
  {
   "cell_type": "code",
   "execution_count": 10,
   "id": "ca73371a",
   "metadata": {
    "execution": {
     "iopub.execute_input": "2021-08-11T14:31:30.083709Z",
     "iopub.status.busy": "2021-08-11T14:31:30.080502Z",
     "iopub.status.idle": "2021-08-11T14:31:30.157085Z",
     "shell.execute_reply": "2021-08-11T14:31:30.156571Z"
    },
    "papermill": {
     "duration": 0.113965,
     "end_time": "2021-08-11T14:31:30.157191",
     "exception": false,
     "start_time": "2021-08-11T14:31:30.043226",
     "status": "completed"
    },
    "tags": []
   },
   "outputs": [
    {
     "name": "stdout",
     "output_type": "stream",
     "text": [
      "True\n",
      "True\n",
      "True\n",
      "True\n"
     ]
    }
   ],
   "source": [
    "# Adding metadata for each AOI\n",
    "\n",
    "for idx, aoi_id in enumerate(aoi_ids):\n",
    "    # Dictionary for each AOI collection metadata\n",
    "    aoi_metadata_d = {}\n",
    "    aoi_metadata_d['type'] = \"Collection\"\n",
    "    aoi_metadata_d[\"id\"] = f\"{aoi_id}\"\n",
    "    aoi_metadata_d['stac_version'] = '1.0.0-beta.2'\n",
    "    aoi_metadata_d['title'] = f\"{aoi_id} Collection\"\n",
    "    aoi_metadata_d['description'] = \"Each AOI contains satellite images with crop masks.\"\n",
    "    aoi_metadata_d[\"license\"] = \"CC-BY-4.0\"\n",
    "    mask = aoi_id + '.nc'\n",
    "    #aoi_metadata_d['geometry'] = fgdf[fgdf['filename'] == '20180521T103156_S1B_AMSR2_Icechart-Greenland-NorthWest.nc']['geometry'][0]\n",
    "    geom = np.array(fgdf[fgdf['filename'] == mask]['geometry'].values[0].exterior.coords.xy)\n",
    "    xs = geom[0]\n",
    "    ys = geom[1]\n",
    "    minx = min(xs)\n",
    "    miny = min(ys)\n",
    "    maxx = max(xs)\n",
    "    maxy = max(ys)\n",
    "    aoi_metadata_d['bbox'] = [minx, miny, maxx, maxy]\n",
    "    #aoi_metadata_d[\"bbox\"]= [minx, miny, maxx, maxy]\n",
    "    aoi_metadata_d['geometry'] = geometry.mapping(geometry.box(*aoi_metadata_d[\"bbox\"]))\n",
    "    aoi_metadata_d[\"extent\"] = {\"spatial\" : {\"bbox\":[[minx, miny, maxx, maxy]]}, \n",
    "                      \"temporal\": {\"interval\":[[aoi_id[:4]]]}}\n",
    "    aoi_metadata_d['time_range'] = '2019'\n",
    "    aoi_metadata_d['links'] = []\n",
    "    aoi_metadata_d[\"assets\"] = {}\n",
    "    \n",
    "    \n",
    "    # Dictionary for each AOI's predictive feature metadata\n",
    "    aoi_feature_metadata_d = {}\n",
    "    aoi_feature_metadata_d['id'] = f'reference_metadata_AOI_{aoi_id}'\n",
    "    aoi_feature_metadata_d['type'] = \"Feature\"\n",
    "    aoi_feature_metadata_d['stac_version'] = \"1.0.0-beta.2\"\n",
    "    aoi_feature_metadata_d['stac_extensions'] = [\"reference_data\"]\n",
    "    aoi_feature_metadata_d['collection'] = \"270460aa-7835-11eb-9439-0242ac130002\"\n",
    "    aoi_feature_metadata_d['bbox'] = aoi_metadata_d[\"bbox\"]\n",
    "    aoi_feature_metadata_d['geometry'] = aoi_metadata_d[\"geometry\"]\n",
    "    aoi_feature_metadata_d['properties'] = {}\n",
    "    aoi_feature_metadata_d[\"properties\"]['name'] = str(aoi_id) + \" Reference metadata\"\n",
    "    aoi_feature_metadata_d['properties']['description'] = \"AI4Artic ASIP Sea Ice Dataset contains 461 files in network Common Data Form (netCDF), coming from Sentinel 1 SAR and AMSR2 microwave radiometer imagery with corresponding ice charts from Danish Meteorological Institute of the Arctic area.\"\n",
    "    aoi_feature_metadata_d['properties']['type'] = \"Raster\"\n",
    "    aoi_feature_metadata_d['properties']['task'] = \"Semantic Segmentation\"\n",
    "    aoi_feature_metadata_d['properties']['classes'] = [[{'pct_ice': 416, 'pct_water': 416, 'pct_nodata': 416}]]\n",
    "    aoi_feature_metadata_d['properties']['overviews'] = []\n",
    "    aoi_feature_metadata_d['properties']['collection_method'] = \"Sentinel-1 Synthetic Aperture Radar (SAR) scenes matched with sea ice charts produced by the Danish Meteorological Institute in 2018-2019.\"\n",
    "    aoi_feature_metadata_d['properties']['data_preprocessing'] = \"Null\"\n",
    "    aoi_feature_metadata_d['properties']['CRS'] = 'EPSG:32631'\n",
    "    aoi_feature_metadata_d['properties']['time_range'] = aoi_id[:4]\n",
    "    aoi_feature_metadata_d[\"properties\"]['value'] = 0\n",
    "    aoi_feature_metadata_d['properties'][\"orientation\"]= \"null\"\n",
    "    aoi_feature_metadata_d[\"properties\"]['datetime'] = \"2020-03-09T14:53:23.262208+00:00\"\n",
    "\n",
    "    aoi_feature_metadata_d['links'] = []  \n",
    "    aoi_feature_metadata_d[\"assets\"] = {}\n",
    "\n",
    "    aoi_feature_d = {}\n",
    "    aoi_feature_d['input1'] = aoi_feature_metadata_d\n",
    "    \n",
    "    # Dictionary for each AOI's reference metadata\n",
    "    aoi_ref_data_metadata_d = {}\n",
    "    aoi_ref_data_metadata_d['type'] = \"Feature\"\n",
    "    aoi_ref_data_metadata_d['stac_version'] = \"1.0.0-beta.2\"\n",
    "    aoi_ref_data_metadata_d['stac_extensions'] = [\"georeferenced_eo_image\"]\n",
    "    aoi_ref_data_metadata_d['id'] = f'predictive_feature_metadata_AOI_{aoi_id}'\n",
    "    aoi_ref_data_metadata_d['collection'] = \"270460aa-7835-11eb-9439-0242ac130002\"\n",
    "    aoi_ref_data_metadata_d[\"bbox\"]= aoi_metadata_d[\"bbox\"]\n",
    "    aoi_ref_data_metadata_d['geometry'] = aoi_metadata_d[\"geometry\"]\n",
    "    aoi_ref_data_metadata_d[\"properties\"] = {}\n",
    "    aoi_ref_data_metadata_d[\"properties\"][\"status\"]= \"Null\"\n",
    "    aoi_ref_data_metadata_d[\"properties\"]['parent_identifier'] = \"270460aa-7835-11eb-9439-0242ac130002\"\n",
    "    aoi_ref_data_metadata_d[\"properties\"]['acquisition_type'] = \"Null\"\n",
    "    aoi_ref_data_metadata_d[\"properties\"]['product_type']  = \"Null\"\n",
    "    aoi_ref_data_metadata_d[\"properties\"]['processing_level'] = 1.0\n",
    "    aoi_ref_data_metadata_d[\"properties\"]['platform_short_name'] = \"Sentinel 2\"\n",
    "    aoi_ref_data_metadata_d[\"properties\"]['sensor_type'] = \"SAR\"\n",
    "    aoi_ref_data_metadata_d[\"properties\"]['sensor_resolution'] = \"10m\"\n",
    "    aoi_ref_data_metadata_d[\"properties\"]['gsd'] = 10\n",
    "    aoi_ref_data_metadata_d[\"properties\"]['identifier'] = str(aoi_id)\n",
    "    aoi_ref_data_metadata_d[\"properties\"]['acquisition_date'] = '2019'\n",
    "    aoi_ref_data_metadata_d[\"properties\"]['datetime'] = \"2019\"\n",
    "    aoi_ref_data_metadata_d['links'] = []\n",
    "    aoi_ref_data_metadata_d[\"assets\"] = {}\n",
    "    aoi_ref_d = {}\n",
    "    aoi_ref_d['output1'] = aoi_ref_data_metadata_d\n",
    "    \n",
    "    \n",
    "    output_path = os.path.join(os.environ['EDC_PATH'] + '/data/Sea-Ice/dataset/sea-ice_mask')\n",
    "    input_path = os.path.join(os.environ['EDC_PATH'] + '/data/Sea-Ice/dataset/sea-ice_tiff')\n",
    "    aoi_ref_data_asset_path_d = {'output1':os.path.join(output_path, f'patch_mask_{aoi_id}.json')}\n",
    "    aoi_feature_asset_path_d = {'input1':os.path.join(input_path, f'patch_{aoi_id}.tif')}\n",
    "                                            \n",
    "    print(new_tds_ctl_o.add_aoi_metadata(aoi_metadata_d=aoi_metadata_d,\n",
    "                                   aoi_feature_metadata_d=aoi_feature_d,\n",
    "                                   aoi_ref_data_metadata_d=aoi_ref_d,\n",
    "                                   aoi_feature_asset_path_d=aoi_feature_asset_path_d,\n",
    "                                   aoi_ref_data_asset_path_d=aoi_ref_data_asset_path_d))\n"
   ]
  },
  {
   "cell_type": "markdown",
   "id": "8c13234b-ba38-4504-ad72-677b88571774",
   "metadata": {
    "papermill": {
     "duration": 0.026952,
     "end_time": "2021-08-11T14:31:30.211215",
     "exception": false,
     "start_time": "2021-08-11T14:31:30.184263",
     "status": "completed"
    },
    "tags": []
   },
   "source": [
    "#### stac_generated folder"
   ]
  },
  {
   "cell_type": "markdown",
   "id": "e9292cc3-7433-464a-9889-45023ed216f4",
   "metadata": {
    "papermill": {
     "duration": 0.027024,
     "end_time": "2021-08-11T14:31:30.265782",
     "exception": false,
     "start_time": "2021-08-11T14:31:30.238758",
     "status": "completed"
    },
    "tags": []
   },
   "source": [
    "Prior to this step, you will need to create a folder called 'biomass_stac_generated' in your environment and leave it empty"
   ]
  },
  {
   "cell_type": "code",
   "execution_count": 11,
   "id": "1782063d",
   "metadata": {
    "execution": {
     "iopub.execute_input": "2021-08-11T14:31:30.324254Z",
     "iopub.status.busy": "2021-08-11T14:31:30.323691Z",
     "iopub.status.idle": "2021-08-11T14:31:30.325639Z",
     "shell.execute_reply": "2021-08-11T14:31:30.325196Z"
    },
    "papermill": {
     "duration": 0.033268,
     "end_time": "2021-08-11T14:31:30.325743",
     "exception": false,
     "start_time": "2021-08-11T14:31:30.292475",
     "status": "completed"
    },
    "tags": []
   },
   "outputs": [],
   "source": [
    "# If a STAC catalog has already been generated remove it before re generating the catalog below\n",
    "\n",
    "import shutil\n",
    "stac_generated_path = os.path.join('./Sea-ice_stac_generated_')\n",
    "if os.path.exists(stac_generated_path):\n",
    "    shutil.rmtree(stac_generated_path)\n",
    "\n",
    "#import shutil\n",
    "#shutil.rmtree('sea-ice_stac_generated')"
   ]
  },
  {
   "cell_type": "markdown",
   "id": "05300328",
   "metadata": {
    "tags": [
     "papermill-error-cell-tag"
    ]
   },
   "source": [
    "<span id=\"papermill-error-cell\" style=\"color:red; font-family:Helvetica Neue, Helvetica, Arial, sans-serif; font-size:2em;\">Execution using papermill encountered an exception here and stopped:</span>"
   ]
  },
  {
   "cell_type": "code",
   "execution_count": 12,
   "id": "8c31125e",
   "metadata": {
    "execution": {
     "iopub.execute_input": "2021-08-11T14:31:30.385710Z",
     "iopub.status.busy": "2021-08-11T14:31:30.382603Z",
     "iopub.status.idle": "2021-08-11T14:31:30.392057Z",
     "shell.execute_reply": "2021-08-11T14:31:30.391282Z"
    },
    "papermill": {
     "duration": 0.0393,
     "end_time": "2021-08-11T14:31:30.392263",
     "exception": true,
     "start_time": "2021-08-11T14:31:30.352963",
     "status": "failed"
    },
    "tags": []
   },
   "outputs": [
    {
     "ename": "AssertionError",
     "evalue": "",
     "output_type": "error",
     "traceback": [
      "\u001b[0;31m---------------------------------------------------------------------------\u001b[0m",
      "\u001b[0;31mAssertionError\u001b[0m                            Traceback (most recent call last)",
      "\u001b[0;32m<ipython-input-12-fc137291ced4>\u001b[0m in \u001b[0;36m<module>\u001b[0;34m\u001b[0m\n\u001b[1;32m      2\u001b[0m \u001b[0;31m#A datasheet is also generated\u001b[0m\u001b[0;34m\u001b[0m\u001b[0;34m\u001b[0m\u001b[0;34m\u001b[0m\u001b[0m\n\u001b[1;32m      3\u001b[0m \u001b[0mcatalog_fn_w_path\u001b[0m \u001b[0;34m=\u001b[0m \u001b[0;34m'./Sea-ice_stac_generated_/TDS.json'\u001b[0m\u001b[0;34m\u001b[0m\u001b[0;34m\u001b[0m\u001b[0m\n\u001b[0;32m----> 4\u001b[0;31m \u001b[0mnew_tds_ctl_o\u001b[0m\u001b[0;34m.\u001b[0m\u001b[0mwrite_TDS_STAC_Catalog\u001b[0m\u001b[0;34m(\u001b[0m\u001b[0mcatalog_fn_w_path\u001b[0m\u001b[0;34m)\u001b[0m\u001b[0;34m\u001b[0m\u001b[0;34m\u001b[0m\u001b[0m\n\u001b[0m",
      "\u001b[0;32m/opt/conda/envs/eurodatacube-0.24.5/lib/python3.8/site-packages/aireo_lib/tds_stac_io.py\u001b[0m in \u001b[0;36mwrite_TDS_STAC_Catalog\u001b[0;34m(self, catalog_fn_w_path)\u001b[0m\n\u001b[1;32m    750\u001b[0m             \u001b[0;32mreturn\u001b[0m \u001b[0maoi_collection_metadata_d\u001b[0m\u001b[0;34m\u001b[0m\u001b[0;34m\u001b[0m\u001b[0m\n\u001b[1;32m    751\u001b[0m \u001b[0;34m\u001b[0m\u001b[0m\n\u001b[0;32m--> 752\u001b[0;31m         \u001b[0;32massert\u001b[0m \u001b[0mself\u001b[0m\u001b[0;34m.\u001b[0m\u001b[0mvalid_tds\u001b[0m\u001b[0;34m\u001b[0m\u001b[0;34m\u001b[0m\u001b[0m\n\u001b[0m\u001b[1;32m    753\u001b[0m \u001b[0;34m\u001b[0m\u001b[0m\n\u001b[1;32m    754\u001b[0m         \u001b[0mcatalog_fn_w_path\u001b[0m \u001b[0;34m=\u001b[0m \u001b[0mPath\u001b[0m\u001b[0;34m(\u001b[0m\u001b[0mcatalog_fn_w_path\u001b[0m\u001b[0;34m)\u001b[0m\u001b[0;34m\u001b[0m\u001b[0;34m\u001b[0m\u001b[0m\n",
      "\u001b[0;31mAssertionError\u001b[0m: "
     ]
    }
   ],
   "source": [
    "# Writing the STAC metadata. The directory along with its structure is generated, with correct links and assets defined. \n",
    "#A datasheet is also generated\n",
    "catalog_fn_w_path = './Sea-ice_stac_generated_/TDS.json'\n",
    "new_tds_ctl_o.write_TDS_STAC_Catalog(catalog_fn_w_path)"
   ]
  },
  {
   "cell_type": "markdown",
   "id": "c14fb4c3",
   "metadata": {
    "papermill": {
     "duration": null,
     "end_time": null,
     "exception": null,
     "start_time": null,
     "status": "pending"
    },
    "tags": []
   },
   "source": [
    "##### Checking AIREO compiance level"
   ]
  },
  {
   "cell_type": "code",
   "execution_count": null,
   "id": "8cd44794",
   "metadata": {
    "execution": {
     "iopub.execute_input": "2021-06-15T07:39:30.585797Z",
     "iopub.status.busy": "2021-06-15T07:39:30.585055Z",
     "iopub.status.idle": "2021-06-15T07:39:30.591795Z",
     "shell.execute_reply": "2021-06-15T07:39:30.592245Z"
    },
    "papermill": {
     "duration": null,
     "end_time": null,
     "exception": null,
     "start_time": null,
     "status": "pending"
    },
    "tags": []
   },
   "outputs": [],
   "source": [
    "catalog_fn_w_path = os.path.join('./Sea-ice_stac_generated_/TDS.json')\n",
    "new_tds_ctl_o = aireo_lib.core.tds_stac_io.DatasetSTACCatalog.from_TDSCatalog(catalog_fn_w_path)\n",
    "new_tds_ctl_o.compute_compliance_level()"
   ]
  },
  {
   "cell_type": "markdown",
   "id": "153beef7",
   "metadata": {
    "papermill": {
     "duration": null,
     "end_time": null,
     "exception": null,
     "start_time": null,
     "status": "pending"
    },
    "tags": []
   },
   "source": [
    "##### Checking metadata completeness"
   ]
  },
  {
   "cell_type": "code",
   "execution_count": null,
   "id": "cba1359a",
   "metadata": {
    "execution": {
     "iopub.execute_input": "2021-06-15T07:39:30.760075Z",
     "iopub.status.busy": "2021-06-15T07:39:30.759330Z",
     "iopub.status.idle": "2021-06-15T07:39:30.763509Z",
     "shell.execute_reply": "2021-06-15T07:39:30.762925Z"
    },
    "papermill": {
     "duration": null,
     "end_time": null,
     "exception": null,
     "start_time": null,
     "status": "pending"
    },
    "tags": []
   },
   "outputs": [],
   "source": [
    "new_tds_ctl_o.report_metadata_completeness()"
   ]
  },
  {
   "cell_type": "markdown",
   "id": "afad7180",
   "metadata": {
    "papermill": {
     "duration": null,
     "end_time": null,
     "exception": null,
     "start_time": null,
     "status": "pending"
    },
    "tags": []
   },
   "source": [
    "#### Defining AOI class"
   ]
  },
  {
   "cell_type": "code",
   "execution_count": null,
   "id": "8ad002c9",
   "metadata": {
    "execution": {
     "iopub.execute_input": "2021-06-15T07:39:30.970658Z",
     "iopub.status.busy": "2021-06-15T07:39:30.969937Z",
     "iopub.status.idle": "2021-06-15T07:39:31.320848Z",
     "shell.execute_reply": "2021-06-15T07:39:31.320181Z"
    },
    "papermill": {
     "duration": null,
     "end_time": null,
     "exception": null,
     "start_time": null,
     "status": "pending"
    },
    "tags": []
   },
   "outputs": [],
   "source": [
    "file = os.environ['EDC_PATH']+'/data/Sea-Ice/sea-ice_stac_generated/20180327T104059_S1B_AMSR2_Icechart-Greenland-CentralWest/patch_mask_20180327T104059_S1B_AMSR2_Icechart-Greenland-CentralWest.json'\n",
    "\n",
    "with open(file, 'r') as f:\n",
    "        #print(f.read())\n",
    "        data = json.load(f)\n",
    "        print(data)\n",
    "print(data['pct_ice'])\n",
    "#xr.Dataset.to_dict(dictio)\n",
    "t = [data['pct_ice']]\n",
    "x = [1,2]\n",
    "y = [1,2]\n",
    "d = {\n",
    "    \"pct_ice\": {\"dims\": (\"t\"), \"data\": t},\n",
    "}\n",
    "\n",
    "xr.Dataset.from_dict(d)"
   ]
  },
  {
   "cell_type": "code",
   "execution_count": null,
   "id": "7da2a6b3",
   "metadata": {
    "execution": {
     "iopub.execute_input": "2021-06-15T07:39:31.422044Z",
     "iopub.status.busy": "2021-06-15T07:39:31.421326Z",
     "iopub.status.idle": "2021-06-15T07:39:31.430698Z",
     "shell.execute_reply": "2021-06-15T07:39:31.429955Z"
    },
    "papermill": {
     "duration": null,
     "end_time": null,
     "exception": null,
     "start_time": null,
     "status": "pending"
    },
    "tags": []
   },
   "outputs": [],
   "source": [
    "#should inherit AOIDataset\n",
    "\n",
    "from aireo_lib.core import AOIDataset\n",
    "\n",
    "class AOIDatasetSeaIce(AOIDataset):\n",
    "\n",
    "    def __init__(self, AOI_STAC_collection, TDS_STAC_catalog):\n",
    "\n",
    "        self.AOI_STAC_collection = AOI_STAC_collection\n",
    "        self.TDS_STAC_catalog = TDS_STAC_catalog\n",
    "        self.stride = self.TDS_STAC_catalog.tds_ctl_root_info.tds_root_metadata_d['example_stride']\n",
    "        self.window_size = self.TDS_STAC_catalog.tds_ctl_root_info.tds_root_metadata_d['example_window_size']\n",
    "        \n",
    "        _first = True\n",
    "        \n",
    "        for eo_feature in self.AOI_STAC_collection.aoi_all_field_metadata.features:\n",
    "            aoi_feature_asset_path_d = self.AOI_STAC_collection.aoi_all_field_metadata.features[eo_feature].data_asset_w_path\n",
    "            self.feature_var_name = 'features_' + eo_feature\n",
    "            if _first:\n",
    "                self.data = rioxarray.open_rasterio(aoi_feature_asset_path_d).to_dataset(name = self.feature_var_name)\n",
    "                _first = False\n",
    "            else:\n",
    "                self.data[self.feature_var_name] = rioxarray.open_rasterio(aoi_feature_asset_path_d)\n",
    "        \n",
    "        for reference_data in self.AOI_STAC_collection.aoi_all_field_metadata.references:\n",
    "            aoi_ref_data_asset_path_d = self.AOI_STAC_collection.aoi_all_field_metadata.references[reference_data].data_asset_w_path\n",
    "            self.ref_var_name = 'references_'+ reference_data\n",
    "            if _first:\n",
    "                with open(aoi_ref_data_asset_path_d, 'r') as f:\n",
    "                    data = json.load(f)\n",
    "                t = [data['pct_ice']]\n",
    "                x = [data['pct_water']]\n",
    "                y = [data['pct_nodata']]\n",
    "                d = {\n",
    "                    \"pct_ice\": {\"dims\": (\"t\"), \"data\": t},\n",
    "                    \"pct_ice\": {\"dims\": (\"t\"), \"data\": x},\n",
    "                    \"pct_ice\": {\"dims\": (\"t\"), \"data\": y},\n",
    "                }\n",
    "                self.data = xr.Dataset.from_dict(d).to_dataset(name = self.ref_var_name).to_array()\n",
    "                print(self.data)\n",
    "                _first = False\n",
    "            else:\n",
    "                with open(aoi_ref_data_asset_path_d, 'r') as f:\n",
    "                    data = json.load(f)\n",
    "                t = [data['pct_ice']]\n",
    "                x = [data['pct_water']]\n",
    "                y = [data['pct_nodata']]\n",
    "                d = {\n",
    "                    \"pct_ice\": {\"dims\": (\"t\"), \"data\": t},\n",
    "                    \"pct_ice\": {\"dims\": (\"t\"), \"data\": x},\n",
    "                    \"pct_ice\": {\"dims\": (\"t\"), \"data\": y},\n",
    "                }\n",
    "                self.data[self.ref_var_name] = xr.Dataset.from_dict(d).to_array().rename({'t':'mask'})\n",
    "        \n",
    "\n",
    "\n",
    "    def __getitem__(self, index):\n",
    "        \n",
    "        along_x = int((self.data[self.feature_var_name].shape[1] - self.window_size)/self.stride)\n",
    "        along_y = int((self.data[self.feature_var_name].shape[-1] - self.window_size)/self.stride)\n",
    "        x1 = self.stride * int(index % along_x)\n",
    "        y1 = self.stride * int(index / along_y)\n",
    "        x2 = x1 + self.window_size\n",
    "        y2 = y1 + self.window_size\n",
    "        \n",
    "        #store feature and reference data in same xarray, name the axes\n",
    "        ds = self.data.isel(band=[0], mask=[0], x=slice(x1,x2), y=slice(y1, y2))        \n",
    "        return ds\n",
    "    \n",
    "\n",
    "    def __len__(self):\n",
    "        \n",
    "        along_x = int((self.data[self.feature_var_name].shape[1] - self.window_size)/self.stride) + 1\n",
    "        along_y = int((self.data[self.feature_var_name].shape[-1] - self.window_size)/self.stride) + 1\n",
    "        return along_x * along_y\n",
    "    \n",
    "    def get_length(self):\n",
    "        return self.__len__()"
   ]
  },
  {
   "cell_type": "markdown",
   "id": "efbb7867",
   "metadata": {
    "papermill": {
     "duration": null,
     "end_time": null,
     "exception": null,
     "start_time": null,
     "status": "pending"
    },
    "tags": []
   },
   "source": [
    "## TDS user\n",
    "\n",
    "The user of the dataset can access most of what is offered by the dataset using just its STAC catalog. All he/she needs to do is create a dataset object by passing to it the path to the STAC catalog at the root level. The library automatically reads in all the metadata and loads the assets into the dataset object. Some of the functionalities that a dataset object offers through aireo_lib are:\n",
    "\n",
    "- Can access an example instance from the dataset which serves as an input-output pair for a Machine Learning algorithm.\n",
    "\n",
    "- Xarrays are used to store data and give examples.\n",
    "\n",
    "- Dataset can also return each AOI independently\n",
    "\n",
    "- Offer basic plotting functions for each variable in the dataset and AOI.\n",
    "\n",
    "- Some statistics can also be calculated at both the AOI level and whole dataset level."
   ]
  },
  {
   "cell_type": "markdown",
   "id": "5cc92e12",
   "metadata": {
    "papermill": {
     "duration": null,
     "end_time": null,
     "exception": null,
     "start_time": null,
     "status": "pending"
    },
    "tags": []
   },
   "source": [
    "### Parsing TDS"
   ]
  },
  {
   "cell_type": "code",
   "execution_count": null,
   "id": "e35db0a2",
   "metadata": {
    "execution": {
     "iopub.execute_input": "2021-06-15T07:39:31.713532Z",
     "iopub.status.busy": "2021-06-15T07:39:31.712888Z",
     "iopub.status.idle": "2021-06-15T07:39:32.441506Z",
     "shell.execute_reply": "2021-06-15T07:39:32.440865Z"
    },
    "papermill": {
     "duration": null,
     "end_time": null,
     "exception": null,
     "start_time": null,
     "status": "pending"
    },
    "tags": []
   },
   "outputs": [],
   "source": [
    "from aireo_lib.core import EOTrainingDataset\n",
    "\n",
    "cap_tds_ctl_fn = Path(catalog_fn_w_path)\n",
    "\n",
    "eo_tds_obj = EOTrainingDataset(cap_tds_ctl_fn, AOIDatasetSeaIce)"
   ]
  },
  {
   "cell_type": "code",
   "execution_count": null,
   "id": "b59f0259",
   "metadata": {
    "execution": {
     "iopub.execute_input": "2021-06-15T07:39:32.540245Z",
     "iopub.status.busy": "2021-06-15T07:39:32.539327Z",
     "iopub.status.idle": "2021-06-15T07:39:32.543279Z",
     "shell.execute_reply": "2021-06-15T07:39:32.542421Z"
    },
    "papermill": {
     "duration": null,
     "end_time": null,
     "exception": null,
     "start_time": null,
     "status": "pending"
    },
    "tags": []
   },
   "outputs": [],
   "source": [
    "len(eo_tds_obj)"
   ]
  },
  {
   "cell_type": "code",
   "execution_count": null,
   "id": "94c2f3a6",
   "metadata": {
    "execution": {
     "iopub.execute_input": "2021-06-15T07:39:32.644974Z",
     "iopub.status.busy": "2021-06-15T07:39:32.637828Z",
     "iopub.status.idle": "2021-06-15T07:39:32.666987Z",
     "shell.execute_reply": "2021-06-15T07:39:32.666280Z"
    },
    "papermill": {
     "duration": null,
     "end_time": null,
     "exception": null,
     "start_time": null,
     "status": "pending"
    },
    "tags": []
   },
   "outputs": [],
   "source": [
    "eo_tds_obj[0]"
   ]
  },
  {
   "cell_type": "code",
   "execution_count": null,
   "id": "702c9a07",
   "metadata": {
    "execution": {
     "iopub.execute_input": "2021-06-15T07:39:32.768924Z",
     "iopub.status.busy": "2021-06-15T07:39:32.768239Z",
     "iopub.status.idle": "2021-06-15T07:39:32.777250Z",
     "shell.execute_reply": "2021-06-15T07:39:32.776555Z"
    },
    "papermill": {
     "duration": null,
     "end_time": null,
     "exception": null,
     "start_time": null,
     "status": "pending"
    },
    "tags": []
   },
   "outputs": [],
   "source": [
    "eo_tds_obj.get_subset([19,1121], data_type='numpy')"
   ]
  },
  {
   "cell_type": "code",
   "execution_count": null,
   "id": "e1f41144",
   "metadata": {
    "execution": {
     "iopub.execute_input": "2021-06-15T07:39:32.888147Z",
     "iopub.status.busy": "2021-06-15T07:39:32.887496Z",
     "iopub.status.idle": "2021-06-15T07:39:32.890613Z",
     "shell.execute_reply": "2021-06-15T07:39:32.891129Z"
    },
    "papermill": {
     "duration": null,
     "end_time": null,
     "exception": null,
     "start_time": null,
     "status": "pending"
    },
    "tags": []
   },
   "outputs": [],
   "source": [
    "aoi_objs = eo_tds_obj.get_aoi_datasets()\n",
    "len(aoi_objs[1])"
   ]
  },
  {
   "cell_type": "markdown",
   "id": "54c3ecda",
   "metadata": {
    "papermill": {
     "duration": null,
     "end_time": null,
     "exception": null,
     "start_time": null,
     "status": "pending"
    },
    "tags": []
   },
   "source": [
    "### Plotting"
   ]
  },
  {
   "cell_type": "code",
   "execution_count": null,
   "id": "107aee96",
   "metadata": {
    "execution": {
     "iopub.execute_input": "2021-06-15T07:39:33.081506Z",
     "iopub.status.busy": "2021-06-15T07:39:33.080852Z",
     "iopub.status.idle": "2021-06-15T07:39:35.371883Z",
     "shell.execute_reply": "2021-06-15T07:39:35.371048Z"
    },
    "papermill": {
     "duration": null,
     "end_time": null,
     "exception": null,
     "start_time": null,
     "status": "pending"
    },
    "tags": []
   },
   "outputs": [],
   "source": [
    "import aireo_lib.plotting \n",
    "#import matplotlib.pyplot as plt\n",
    "from importlib import reload\n",
    "reload(aireo_lib.plotting)\n"
   ]
  },
  {
   "cell_type": "code",
   "execution_count": null,
   "id": "6e89d002",
   "metadata": {
    "execution": {
     "iopub.execute_input": "2021-06-15T07:39:35.478065Z",
     "iopub.status.busy": "2021-06-15T07:39:35.477294Z",
     "iopub.status.idle": "2021-06-15T07:39:35.715383Z",
     "shell.execute_reply": "2021-06-15T07:39:35.715802Z"
    },
    "papermill": {
     "duration": null,
     "end_time": null,
     "exception": null,
     "start_time": null,
     "status": "pending"
    },
    "tags": []
   },
   "outputs": [],
   "source": [
    "plot_d = aireo_lib.plotting.EOTDSPlot.plot_example(EOTDS=eo_tds_obj, \n",
    "                       ex_index=123, \n",
    "                       field_names=['features_input1', 'references_output1'])\n",
    "plot_d"
   ]
  },
  {
   "cell_type": "code",
   "execution_count": null,
   "id": "505f14cb-c288-414d-921d-de1cb3bf23ed",
   "metadata": {
    "execution": {
     "iopub.execute_input": "2021-06-15T07:39:35.820894Z",
     "iopub.status.busy": "2021-06-15T07:39:35.818304Z",
     "iopub.status.idle": "2021-06-15T07:39:35.940976Z",
     "shell.execute_reply": "2021-06-15T07:39:35.941385Z"
    },
    "papermill": {
     "duration": null,
     "end_time": null,
     "exception": null,
     "start_time": null,
     "status": "pending"
    },
    "tags": []
   },
   "outputs": [],
   "source": [
    "plot_d['references_output1']"
   ]
  },
  {
   "cell_type": "code",
   "execution_count": null,
   "id": "8286c50b-33c9-4fd0-b620-7f96945a19a4",
   "metadata": {
    "execution": {
     "iopub.execute_input": "2021-06-15T07:39:36.040819Z",
     "iopub.status.busy": "2021-06-15T07:39:36.039969Z",
     "iopub.status.idle": "2021-06-15T07:39:36.301948Z",
     "shell.execute_reply": "2021-06-15T07:39:36.302368Z"
    },
    "papermill": {
     "duration": null,
     "end_time": null,
     "exception": null,
     "start_time": null,
     "status": "pending"
    },
    "tags": []
   },
   "outputs": [],
   "source": [
    "plot_d['features_input1']"
   ]
  },
  {
   "cell_type": "code",
   "execution_count": null,
   "id": "453ff0b6",
   "metadata": {
    "execution": {
     "iopub.execute_input": "2021-06-15T07:39:36.417849Z",
     "iopub.status.busy": "2021-06-15T07:39:36.417135Z",
     "iopub.status.idle": "2021-06-15T07:39:36.419698Z",
     "shell.execute_reply": "2021-06-15T07:39:36.419127Z"
    },
    "papermill": {
     "duration": null,
     "end_time": null,
     "exception": null,
     "start_time": null,
     "status": "pending"
    },
    "tags": []
   },
   "outputs": [],
   "source": [
    "aoi_obj = eo_tds_obj.get_aoi_dataset(2)"
   ]
  },
  {
   "cell_type": "code",
   "execution_count": null,
   "id": "0fc52b64",
   "metadata": {
    "execution": {
     "iopub.execute_input": "2021-06-15T07:39:36.528853Z",
     "iopub.status.busy": "2021-06-15T07:39:36.528199Z",
     "iopub.status.idle": "2021-06-15T07:39:36.530843Z",
     "shell.execute_reply": "2021-06-15T07:39:36.530241Z"
    },
    "papermill": {
     "duration": null,
     "end_time": null,
     "exception": null,
     "start_time": null,
     "status": "pending"
    },
    "tags": []
   },
   "outputs": [],
   "source": [
    "# aoi_plots_d = aireo_lib.plotting.EOTDSPlot.plot_aoi_dataset(aoi_obj)\n",
    "# aoi_plots_d"
   ]
  },
  {
   "cell_type": "markdown",
   "id": "6bb59b87",
   "metadata": {
    "papermill": {
     "duration": null,
     "end_time": null,
     "exception": null,
     "start_time": null,
     "status": "pending"
    },
    "tags": []
   },
   "source": [
    "### Statistics\n"
   ]
  },
  {
   "cell_type": "code",
   "execution_count": null,
   "id": "ec6e91b8",
   "metadata": {
    "execution": {
     "iopub.execute_input": "2021-06-15T07:39:36.739407Z",
     "iopub.status.busy": "2021-06-15T07:39:36.738711Z",
     "iopub.status.idle": "2021-06-15T07:39:36.744872Z",
     "shell.execute_reply": "2021-06-15T07:39:36.744271Z"
    },
    "papermill": {
     "duration": null,
     "end_time": null,
     "exception": null,
     "start_time": null,
     "status": "pending"
    },
    "tags": []
   },
   "outputs": [],
   "source": [
    "import aireo_lib.statistics\n",
    "from importlib import reload\n",
    "reload(aireo_lib.statistics)"
   ]
  },
  {
   "cell_type": "code",
   "execution_count": null,
   "id": "1e4602a8",
   "metadata": {
    "execution": {
     "iopub.execute_input": "2021-06-15T07:39:36.861655Z",
     "iopub.status.busy": "2021-06-15T07:39:36.860933Z",
     "iopub.status.idle": "2021-06-15T07:40:46.578532Z",
     "shell.execute_reply": "2021-06-15T07:40:46.579008Z"
    },
    "papermill": {
     "duration": null,
     "end_time": null,
     "exception": null,
     "start_time": null,
     "status": "pending"
    },
    "tags": []
   },
   "outputs": [],
   "source": [
    "aireo_lib.statistics.EOTDSStatistics.feature_data_statistics(eo_tds_obj)"
   ]
  },
  {
   "cell_type": "code",
   "execution_count": null,
   "id": "8d104844",
   "metadata": {
    "execution": {
     "iopub.execute_input": "2021-06-15T07:40:46.688355Z",
     "iopub.status.busy": "2021-06-15T07:40:46.687660Z",
     "iopub.status.idle": "2021-06-15T07:40:46.690599Z",
     "shell.execute_reply": "2021-06-15T07:40:46.691068Z"
    },
    "papermill": {
     "duration": null,
     "end_time": null,
     "exception": null,
     "start_time": null,
     "status": "pending"
    },
    "tags": []
   },
   "outputs": [],
   "source": [
    "aireo_lib.statistics.EOTDSStatistics.reference_data_statistics(eo_tds_obj)"
   ]
  }
 ],
 "metadata": {
  "kernelspec": {
   "display_name": "EDC-GPU 0.24.5 (Python3)",
   "language": "python",
   "name": "edc-gpu"
  },
  "language_info": {
   "codemirror_mode": {
    "name": "ipython",
    "version": 3
   },
   "file_extension": ".py",
   "mimetype": "text/x-python",
   "name": "python",
   "nbconvert_exporter": "python",
   "pygments_lexer": "ipython3",
   "version": "3.8.10"
  },
  "papermill": {
   "default_parameters": {},
   "duration": 17.25248,
   "end_time": "2021-08-11T14:31:31.799043",
   "environment_variables": {},
   "exception": true,
   "input_path": "/tmp/tmphc2a_xca",
   "output_path": "/tmp/notebook_output.ipynb",
   "parameters": {},
   "start_time": "2021-08-11T14:31:14.546563",
   "version": "2.3.3"
  },
  "properties": {
   "authors": [
    {
     "id": "a7f80638-e89a-4349-9cc7-7ed6ec2d79b7",
     "name": "AIREO team"
    }
   ],
   "description": "Use of aireo_lib library as part of AIREO project",
   "id": "58bc3c6a-7caa-484f-8748-01716857eefe",
   "license": null,
   "name": "AIREO pilot dataset - AI4Arctic Sea-Ice",
   "requirements": [
    "eurodatacube",
    "eoxhub"
   ],
   "tags": [
    "Analysis-Ready Data",
    "Jupyter",
    "Machine Learning"
   ],
   "tosAgree": true,
   "type": "Jupyter Notebook",
   "version": "0.1.3"
  }
 },
 "nbformat": 4,
 "nbformat_minor": 5
}