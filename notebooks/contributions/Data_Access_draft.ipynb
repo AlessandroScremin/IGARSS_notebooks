{
 "cells": [
  {
   "cell_type": "markdown",
   "id": "c4591d94",
   "metadata": {
    "tags": [
     "papermill-error-cell-tag"
    ]
   },
   "source": [
    "<span style=\"color:red; font-family:Helvetica Neue, Helvetica, Arial, sans-serif; font-size:2em;\">An Exception was encountered at '<a href=\"#papermill-error-cell\">In [15]</a>'.</span>"
   ]
  },
  {
   "cell_type": "code",
   "execution_count": 1,
   "id": "e063ca76",
   "metadata": {
    "execution": {
     "iopub.execute_input": "2022-06-15T13:13:20.886292Z",
     "iopub.status.busy": "2022-06-15T13:13:20.885863Z",
     "iopub.status.idle": "2022-06-15T13:13:20.958627Z",
     "shell.execute_reply": "2022-06-15T13:13:20.957926Z"
    },
    "papermill": {
     "duration": 0.1068,
     "end_time": "2022-06-15T13:13:20.960419",
     "exception": false,
     "start_time": "2022-06-15T13:13:20.853619",
     "status": "completed"
    },
    "tags": []
   },
   "outputs": [
    {
     "data": {
      "text/html": [
       "<script type=\"text/javascript\">\n",
       "        function toggle(id) {\n",
       "            el = document.getElementById(id);\n",
       "            el.style.display = el.style.display === \"none\" ? \"block\" : \"none\";\n",
       "        }\n",
       "    </script>"
      ],
      "text/plain": [
       "<IPython.core.display.HTML object>"
      ]
     },
     "metadata": {},
     "output_type": "display_data"
    },
    {
     "data": {
      "text/html": [
       "This notebook is compatible with this base image version (user-2022.02)."
      ],
      "text/plain": [
       "<IPython.core.display.HTML object>"
      ]
     },
     "metadata": {},
     "output_type": "display_data"
    },
    {
     "data": {
      "text/markdown": [
       "\n",
       "\n",
       "---------\n",
       "\n",
       "The following environment variables are available:\n",
       "\n",
       "* `GEODB_AUTH_AUD`, `GEODB_AUTH_CLIENT_ID`, `GEODB_AUTH_DOMAIN`, `GEODB_API_SERVER_URL`, `GEODB_AUTH_CLIENT_SECRET`, `GEODB_API_SERVER_PORT`\n",
       "* `SH_CLIENT_ID`, `SH_INSTANCE_ID`, `SH_CLIENT_NAME`, `SH_CLIENT_SECRET`\n"
      ],
      "text/plain": [
       "<IPython.core.display.Markdown object>"
      ]
     },
     "metadata": {},
     "output_type": "display_data"
    }
   ],
   "source": [
    "from edc import check_compatibility\n",
    "check_compatibility(\"user-2022.02\", dependencies=[\"GEODB\", \"SH\"])"
   ]
  },
  {
   "cell_type": "markdown",
   "id": "67253235-8502-4d00-84b1-fe8dd50ed7ee",
   "metadata": {
    "papermill": {
     "duration": 0.031677,
     "end_time": "2022-06-15T13:13:21.023545",
     "exception": false,
     "start_time": "2022-06-15T13:13:20.991868",
     "status": "completed"
    },
    "tags": []
   },
   "source": [
    "# Data Access"
   ]
  },
  {
   "cell_type": "markdown",
   "id": "651e6209-928a-4ad8-87c1-6f24b674722f",
   "metadata": {
    "papermill": {
     "duration": 0.029421,
     "end_time": "2022-06-15T13:13:21.083635",
     "exception": false,
     "start_time": "2022-06-15T13:13:21.054214",
     "status": "completed"
    },
    "tags": []
   },
   "source": [
    "This notebook provides information on how to access the data collected from NASA, ESA and JAXA. There is a large amount of data that you can access through the EuroDataCube in both raster and vector format. In this notebook we will show you how to access the different datasets. We split this up into a number of different sections based on the data format. Of course the advantage of such a range of data in one notebook is the ability to combine them to create new layers/ anaylsis with ease. The datasets provided from the different organisations will be processed in different API's ([NASA](https://nasa-impact.github.io/veda-documentation/), [ESA](https://docs.sentinel-hub.com/api/latest/)), this should be taken into account when mixing data sourses."
   ]
  },
  {
   "cell_type": "markdown",
   "id": "7189ed6c-ab61-4700-b826-132230c1aefe",
   "metadata": {
    "jp-MarkdownHeadingCollapsed": true,
    "papermill": {
     "duration": 0.030077,
     "end_time": "2022-06-15T13:13:21.146997",
     "exception": false,
     "start_time": "2022-06-15T13:13:21.116920",
     "status": "completed"
    },
    "tags": []
   },
   "source": [
    "There is both vector data and ranster layers which you can make use of, they have different ways to access them. Below we list of global indicators the [available](https://collections.eurodatacube.com) from the [EO Dashboard](https://eodashboard.org/explore) and the [RACE COVID Dashboard](https://race.esa.int/):\n",
    "\n",
    "\n",
    "Economic\n",
    "- Activity (cars/containers)\n",
    "- Nightlights\n",
    "- Recovery Proxy Maps\n",
    "- Slowdown Proxy Maps\n",
    "- Airports\n",
    "- Border crossings\n",
    "- Commercial activity\n",
    "- Crude Oil Storage\n",
    "- Goods Production\n",
    "- Mobilility Data\n",
    "- Number of Trucks\n",
    "- Oil Storage Volume\n",
    "- Population\n",
    "- Ports and Shipping\n",
    "- Vessel Density\n",
    "- Parking Activtiy\n",
    "- World Settlement Footprint\n",
    "\n",
    "Agriculture\n",
    "- Aboveground Biomass\n",
    "- Activity Indicator \n",
    "- Crop Conditions\n",
    "- Global NDVI\n",
    "- Harvesting Activity\n",
    "- Harvesting Evolution\n",
    "- Planting Activity\n",
    "- Productive Area\n",
    "- Productive Area Change\n",
    "- Regional Cropland\n",
    "- Soil Moisture\n",
    "- Solar Induced Chlorophyll Fluorescense\n",
    "- Agricultural Workers\n",
    "\n",
    "Health\n",
    "- Covid-19 Cases\n",
    "- Covid-19 Vaccinations\n",
    "\n",
    "Atmosphere\n",
    "- Air Quality\n",
    "- Greenhouse Gases\n",
    "\n",
    "Water\n",
    "- Ocean Primary Productivity\n",
    "- Precipitation Anomoly\n",
    "- Sea Ice Concentration\n",
    "- Sea Ice Thickness\n",
    "- Water Quality Regional Maps\n",
    "- Water Quality Time Series"
   ]
  },
  {
   "cell_type": "markdown",
   "id": "946c5268-9920-4387-9929-84aa80a80439",
   "metadata": {
    "papermill": {
     "duration": 0.031452,
     "end_time": "2022-06-15T13:13:21.209158",
     "exception": false,
     "start_time": "2022-06-15T13:13:21.177706",
     "status": "completed"
    },
    "tags": []
   },
   "source": [
    "All the avaialable raster data can be explored in the [EuroDataCube collection archive](https://collections.eurodatacube.com/) where you can easily search for data. The vector data, stored in the GeoDB is listed below."
   ]
  },
  {
   "cell_type": "markdown",
   "id": "68a013d0-6c3b-405f-b8bf-488787f37784",
   "metadata": {
    "papermill": {
     "duration": 0.031655,
     "end_time": "2022-06-15T13:13:21.271490",
     "exception": false,
     "start_time": "2022-06-15T13:13:21.239835",
     "status": "completed"
    },
    "tags": []
   },
   "source": [
    "### How do I access the data?"
   ]
  },
  {
   "cell_type": "markdown",
   "id": "54873d42-ab16-4fcd-984f-3908452b641c",
   "metadata": {
    "papermill": {
     "duration": 0.029268,
     "end_time": "2022-06-15T13:13:21.331462",
     "exception": false,
     "start_time": "2022-06-15T13:13:21.302194",
     "status": "completed"
    },
    "tags": []
   },
   "source": [
    "The vector data is stored in the GeoDB, you can access it using the following steps:"
   ]
  },
  {
   "cell_type": "markdown",
   "id": "7672f93e-ce0b-4538-9a89-05b0ecd5504a",
   "metadata": {
    "papermill": {
     "duration": 0.0303,
     "end_time": "2022-06-15T13:13:21.391631",
     "exception": false,
     "start_time": "2022-06-15T13:13:21.361331",
     "status": "completed"
    },
    "tags": []
   },
   "source": [
    "### 1. Accessing vector data with [GeoDB](https://xcube-geodb.readthedocs.io/en/latest/)"
   ]
  },
  {
   "cell_type": "markdown",
   "id": "bb1c50e0-e92f-4a4c-badc-b767e94ba25b",
   "metadata": {
    "papermill": {
     "duration": 0.030793,
     "end_time": "2022-06-15T13:13:21.452834",
     "exception": false,
     "start_time": "2022-06-15T13:13:21.422041",
     "status": "completed"
    },
    "tags": []
   },
   "source": [
    "This first cell is just checking the appropriate permissions are in place"
   ]
  },
  {
   "cell_type": "code",
   "execution_count": 2,
   "id": "644bcbf5-4377-4ff7-9893-110a57bcb6bc",
   "metadata": {
    "execution": {
     "iopub.execute_input": "2022-06-15T13:13:21.515551Z",
     "iopub.status.busy": "2022-06-15T13:13:21.514856Z",
     "iopub.status.idle": "2022-06-15T13:13:24.261081Z",
     "shell.execute_reply": "2022-06-15T13:13:24.260258Z"
    },
    "papermill": {
     "duration": 2.778896,
     "end_time": "2022-06-15T13:13:24.262732",
     "exception": false,
     "start_time": "2022-06-15T13:13:21.483836",
     "status": "completed"
    },
    "tags": []
   },
   "outputs": [
    {
     "data": {
      "text/plain": [
       "'geodb_418dfeac-15f0-4606-9edb-fd9eb722bf04'"
      ]
     },
     "execution_count": 2,
     "metadata": {},
     "output_type": "execute_result"
    }
   ],
   "source": [
    "from edc import check_compatibility\n",
    "from xcube_geodb.core.geodb import GeoDBClient\n",
    "geodb = GeoDBClient()\n",
    "geodb.whoami"
   ]
  },
  {
   "cell_type": "markdown",
   "id": "fee86636-21d9-42e5-8a46-43881f4c5bf4",
   "metadata": {
    "papermill": {
     "duration": 0.032331,
     "end_time": "2022-06-15T13:13:24.326651",
     "exception": false,
     "start_time": "2022-06-15T13:13:24.294320",
     "status": "completed"
    },
    "tags": []
   },
   "source": [
    "Each indicator has a code which can be used to query the data, we need to define the indicator of interest and the database we are going to query. A full list of the indicators available through the GeoDB is shown bellow. JSON files describing each indicator are available [here](https://github.com/eurodatacube/eodash/tree/master/app/public/data/internal)."
   ]
  },
  {
   "cell_type": "markdown",
   "id": "67796ddf-69ca-4f60-b82a-b960494e783e",
   "metadata": {
    "papermill": {
     "duration": 0.031321,
     "end_time": "2022-06-15T13:13:24.390277",
     "exception": false,
     "start_time": "2022-06-15T13:13:24.358956",
     "status": "completed"
    },
    "tags": []
   },
   "source": [
    " | Name                                                    | Collection Code        | Available Locations |\n",
    "  | ------------------------------------------------------- | ---------------------- | ------------ |\n",
    "  | Import/production sites: status of metallic ores        |   E1                   | Port of Genoa, Gdynia, Gdansk, Gijon, Genova, Hamburg, Dunkirk, Dunkirque, Ghent |\n",
    "  | Productive area                                         |  E10a1_tri             | Brandenburg        |\n",
    "  | Activity Indicator                                      |  E10a2_tri             | Brandenburg        |\n",
    "  | Productive area change                                  |  E10a3_tri             | Brandenburg        |\n",
    "  | Number of berry trucks in 2018-2019                     |   E10a5                | Laguna de las Madres        |\n",
    "  | Regional Harvesting Evolution                           |   E10a6                | Regions of Spain        |\n",
    "  | Harvesting activity: cumulative harvested area          |   E10a8                | Regions of Spain        |\n",
    "  | National Harvesting Evolution                           |   E10a10               | Europe        | \n",
    "  | Commercial centres: volume of activity                  |   E11                  | Warsaw, Brussels, Athens, Milan, Rome, Bucharest       |\n",
    "  | Border crossing points: volume of activity              |   E12b                 | GB Border        |\n",
    "  | Airports: throughput                                    | E13b, E13b_tri         | European Airports      |\n",
    "  | Airports: airplane traffic                              | E13d                   | European Airports        |\n",
    "  | Ports and Shipping - Major Harbours                     | E13c_tri               | Hamburg, Ghent, Gdynia, Dunkirk, Genoa, Suez\n",
    "  | Maritime Traffic                                        | E13e,f,g,h,i,l,m,n     | Gioia Tauro, Genoa        |\n",
    "  | Changes in commertial fluxes                            |   E13n                 | Gijon        |\n",
    "  | Ports and Shipping - Major Harbours                     |   E200                 | Hamburg, Ghent, Gdynia, Dunkirk, Genoa, Suez   |\n",
    "  | Finished goods production: output inventory level       |   E8                   | Swindon, Cassino, Ghent, Mioveni, Russelsheim, Leipzig, Craiova, Nosovice, Martorell, Barcelona, Emden, Ingolstadt, Kvasiny        |\n",
    "  | Activity (cars/containers)                              |   E9_tri               | Beijing, Singapore, Palm Springs, Los Angeles, Arcadia, Nagoya        |\n",
    "  | Air Quality (tropomi NO2)                               |   N1, N1_tri           | European Cities & Major World Cities        |\n",
    "  | CAMS Air Quality (PM 2.5)                               |   N1a                  | European Cities        |\n",
    "  | CAMS Air Quality (NO2)                                  |   N1b                  | European Cities        |\n",
    "  | CAMS Air Quality (PM10)                                 |   N1c                  | European Cities        |\n",
    "  | CAMS Air Quality (O3)                                   |   N1d                  | European Cities        |\n",
    "  | Greenhouse Gas                                          |   N2_tri               | Major World Cities        |\n",
    "  | Water Quality Time Series                               |   N3, N3b_tri          | Barcelona, Marseilles, Venice Lagoon & Major World Ports       |\n"
   ]
  },
  {
   "cell_type": "markdown",
   "id": "2fc3415b-b2ad-4841-be62-f077f5e1b1ea",
   "metadata": {
    "papermill": {
     "duration": 0.031731,
     "end_time": "2022-06-15T13:13:24.454229",
     "exception": false,
     "start_time": "2022-06-15T13:13:24.422498",
     "status": "completed"
    },
    "tags": []
   },
   "source": [
    "Please feel free to change the value of `geodb_collection` and use other indicators."
   ]
  },
  {
   "cell_type": "code",
   "execution_count": 3,
   "id": "dc1b901d-6ee5-4cc4-9f64-921fa2c11dfd",
   "metadata": {
    "execution": {
     "iopub.execute_input": "2022-06-15T13:13:24.523095Z",
     "iopub.status.busy": "2022-06-15T13:13:24.522669Z",
     "iopub.status.idle": "2022-06-15T13:13:24.526671Z",
     "shell.execute_reply": "2022-06-15T13:13:24.525931Z"
    },
    "papermill": {
     "duration": 0.042817,
     "end_time": "2022-06-15T13:13:24.528323",
     "exception": false,
     "start_time": "2022-06-15T13:13:24.485506",
     "status": "completed"
    },
    "tags": []
   },
   "outputs": [],
   "source": [
    "geodb_database = \"eodash\"\n",
    "geodb_collection = \"E13c_tri\""
   ]
  },
  {
   "cell_type": "markdown",
   "id": "5326708f-7018-420f-9b94-cae205e9ea43",
   "metadata": {
    "papermill": {
     "duration": 0.029449,
     "end_time": "2022-06-15T13:13:24.589642",
     "exception": false,
     "start_time": "2022-06-15T13:13:24.560193",
     "status": "completed"
    },
    "tags": []
   },
   "source": [
    "To get an overview over the data we can get the first rows of the dataset. \n",
    "\n",
    "The data contains measured values during a measurement period categorised as \"low\", \"medium\", \"high\" under \"indicator_value\" heading."
   ]
  },
  {
   "cell_type": "code",
   "execution_count": 4,
   "id": "baf38698-bf60-4588-b8dd-25d4bd3f9d74",
   "metadata": {
    "execution": {
     "iopub.execute_input": "2022-06-15T13:13:24.652014Z",
     "iopub.status.busy": "2022-06-15T13:13:24.651353Z",
     "iopub.status.idle": "2022-06-15T13:13:27.528873Z",
     "shell.execute_reply": "2022-06-15T13:13:27.528085Z"
    },
    "papermill": {
     "duration": 2.909735,
     "end_time": "2022-06-15T13:13:27.530630",
     "exception": false,
     "start_time": "2022-06-15T13:13:24.620895",
     "status": "completed"
    },
    "tags": []
   },
   "outputs": [
    {
     "data": {
      "text/html": [
       "<div>\n",
       "<style scoped>\n",
       "    .dataframe tbody tr th:only-of-type {\n",
       "        vertical-align: middle;\n",
       "    }\n",
       "\n",
       "    .dataframe tbody tr th {\n",
       "        vertical-align: top;\n",
       "    }\n",
       "\n",
       "    .dataframe thead th {\n",
       "        text-align: right;\n",
       "    }\n",
       "</style>\n",
       "<table border=\"1\" class=\"dataframe\">\n",
       "  <thead>\n",
       "    <tr style=\"text-align: right;\">\n",
       "      <th></th>\n",
       "      <th>id</th>\n",
       "      <th>created_at</th>\n",
       "      <th>modified_at</th>\n",
       "      <th>geometry</th>\n",
       "      <th>aoi</th>\n",
       "      <th>country</th>\n",
       "      <th>region</th>\n",
       "      <th>city</th>\n",
       "      <th>site_name</th>\n",
       "      <th>description</th>\n",
       "      <th>...</th>\n",
       "      <th>reference_value</th>\n",
       "      <th>rule</th>\n",
       "      <th>indicator_value</th>\n",
       "      <th>sub_aoi</th>\n",
       "      <th>y_axis</th>\n",
       "      <th>indicator_name</th>\n",
       "      <th>color_code</th>\n",
       "      <th>data_provider</th>\n",
       "      <th>aoi_id</th>\n",
       "      <th>update_frequency</th>\n",
       "    </tr>\n",
       "  </thead>\n",
       "  <tbody>\n",
       "    <tr>\n",
       "      <th>0</th>\n",
       "      <td>449</td>\n",
       "      <td>2021-12-14T14:05:59.974126+00:00</td>\n",
       "      <td>2022-02-24T11:16:06.935296+00:00</td>\n",
       "      <td>POINT (18.51089 54.53786)</td>\n",
       "      <td>54.537859,18.510887</td>\n",
       "      <td>PL</td>\n",
       "      <td>/</td>\n",
       "      <td>Gdynia</td>\n",
       "      <td>Port of Gdynia/Gdansk</td>\n",
       "      <td>Ports and Shipping - Major Harbours</td>\n",
       "      <td>...</td>\n",
       "      <td>5</td>\n",
       "      <td>X is the Measurement value. If X&lt;(ref_value-30...</td>\n",
       "      <td>Low</td>\n",
       "      <td>MULTIPOLYGON(((18.56179820666602 54.5171532394...</td>\n",
       "      <td>Number of ships in Port</td>\n",
       "      <td>Changes in Ships traffic within the Port</td>\n",
       "      <td>RED</td>\n",
       "      <td>PLES</td>\n",
       "      <td>PL1</td>\n",
       "      <td>Weekly</td>\n",
       "    </tr>\n",
       "    <tr>\n",
       "      <th>1</th>\n",
       "      <td>450</td>\n",
       "      <td>2021-12-14T14:05:59.974126+00:00</td>\n",
       "      <td>2022-02-24T11:16:06.935296+00:00</td>\n",
       "      <td>POINT (2.28537 51.03614)</td>\n",
       "      <td>51.036138,2.285374</td>\n",
       "      <td>FR</td>\n",
       "      <td>/</td>\n",
       "      <td>Dunkirk</td>\n",
       "      <td>Port of Dunkirk</td>\n",
       "      <td>Ports and Shipping - Major Harbours</td>\n",
       "      <td>...</td>\n",
       "      <td>7</td>\n",
       "      <td>X is the Measurement value. If X&lt;(ref_value-30...</td>\n",
       "      <td>Low</td>\n",
       "      <td>MULTIPOLYGON(((2.1499827079701284 51.034478942...</td>\n",
       "      <td>Number of ships in Port</td>\n",
       "      <td>Changes in Ships traffic within the Port</td>\n",
       "      <td>RED</td>\n",
       "      <td>PLES</td>\n",
       "      <td>FR3</td>\n",
       "      <td>Weekly</td>\n",
       "    </tr>\n",
       "    <tr>\n",
       "      <th>2</th>\n",
       "      <td>453</td>\n",
       "      <td>2021-12-14T14:05:59.974126+00:00</td>\n",
       "      <td>2022-02-24T11:16:06.935296+00:00</td>\n",
       "      <td>POINT (32.31492 30.93955)</td>\n",
       "      <td>30.939554,32.314923</td>\n",
       "      <td>EG</td>\n",
       "      <td>/</td>\n",
       "      <td>Suez</td>\n",
       "      <td>Suez Canal</td>\n",
       "      <td>Ports and Shipping - Major Harbours</td>\n",
       "      <td>...</td>\n",
       "      <td>28</td>\n",
       "      <td>X is the Measurement value. If X&lt;(ref_value-30...</td>\n",
       "      <td>Low</td>\n",
       "      <td>MULTIPOLYGON(((32.2245676834261 31.36554628042...</td>\n",
       "      <td>Number of ships in Port</td>\n",
       "      <td>Changes in Ships traffic within the Port</td>\n",
       "      <td>RED</td>\n",
       "      <td>PLES</td>\n",
       "      <td>EG1</td>\n",
       "      <td>Weekly</td>\n",
       "    </tr>\n",
       "    <tr>\n",
       "      <th>3</th>\n",
       "      <td>463</td>\n",
       "      <td>2022-01-18T10:23:23.995343+00:00</td>\n",
       "      <td>2022-02-24T11:16:06.935296+00:00</td>\n",
       "      <td>POINT (8.88585 44.40814)</td>\n",
       "      <td>44.408142,8.885851</td>\n",
       "      <td>IT</td>\n",
       "      <td>/</td>\n",
       "      <td>Genoa</td>\n",
       "      <td>Port of Genoa and surrounding industrial areas</td>\n",
       "      <td>Ports and Shipping - Major Harbours</td>\n",
       "      <td>...</td>\n",
       "      <td>14</td>\n",
       "      <td>X is the Measurement value. If X&lt;(ref_value-30...</td>\n",
       "      <td>Low</td>\n",
       "      <td>MULTIPOLYGON(((8.917566076705773 44.4026124064...</td>\n",
       "      <td>Number of ships in Port</td>\n",
       "      <td>Changes in Ships traffic within the Port</td>\n",
       "      <td>RED</td>\n",
       "      <td>PLES</td>\n",
       "      <td>IT3</td>\n",
       "      <td>Weekly</td>\n",
       "    </tr>\n",
       "    <tr>\n",
       "      <th>4</th>\n",
       "      <td>467</td>\n",
       "      <td>2022-01-26T22:11:17.719758+00:00</td>\n",
       "      <td>2022-02-24T11:16:06.935296+00:00</td>\n",
       "      <td>POINT (2.28537 51.03614)</td>\n",
       "      <td>51.036138,2.285374</td>\n",
       "      <td>FR</td>\n",
       "      <td>/</td>\n",
       "      <td>Dunkirk</td>\n",
       "      <td>Port of Dunkirk</td>\n",
       "      <td>Ports and Shipping - Major Harbours</td>\n",
       "      <td>...</td>\n",
       "      <td>7</td>\n",
       "      <td>X is the Measurement value. If X&lt;(ref_value-30...</td>\n",
       "      <td>Low</td>\n",
       "      <td>MULTIPOLYGON(((2.1499827079701284 51.034478942...</td>\n",
       "      <td>Number of ships in Port</td>\n",
       "      <td>Changes in Ships traffic within the Port</td>\n",
       "      <td>RED</td>\n",
       "      <td>PLES</td>\n",
       "      <td>FR3</td>\n",
       "      <td>Weekly</td>\n",
       "    </tr>\n",
       "  </tbody>\n",
       "</table>\n",
       "<p>5 rows × 28 columns</p>\n",
       "</div>"
      ],
      "text/plain": [
       "    id                        created_at                       modified_at  \\\n",
       "0  449  2021-12-14T14:05:59.974126+00:00  2022-02-24T11:16:06.935296+00:00   \n",
       "1  450  2021-12-14T14:05:59.974126+00:00  2022-02-24T11:16:06.935296+00:00   \n",
       "2  453  2021-12-14T14:05:59.974126+00:00  2022-02-24T11:16:06.935296+00:00   \n",
       "3  463  2022-01-18T10:23:23.995343+00:00  2022-02-24T11:16:06.935296+00:00   \n",
       "4  467  2022-01-26T22:11:17.719758+00:00  2022-02-24T11:16:06.935296+00:00   \n",
       "\n",
       "                    geometry                  aoi country region     city  \\\n",
       "0  POINT (18.51089 54.53786)  54.537859,18.510887      PL      /   Gdynia   \n",
       "1   POINT (2.28537 51.03614)   51.036138,2.285374      FR      /  Dunkirk   \n",
       "2  POINT (32.31492 30.93955)  30.939554,32.314923      EG      /    Suez    \n",
       "3   POINT (8.88585 44.40814)   44.408142,8.885851      IT      /    Genoa   \n",
       "4   POINT (2.28537 51.03614)   51.036138,2.285374      FR      /  Dunkirk   \n",
       "\n",
       "                                        site_name  \\\n",
       "0                           Port of Gdynia/Gdansk   \n",
       "1                                 Port of Dunkirk   \n",
       "2                                      Suez Canal   \n",
       "3  Port of Genoa and surrounding industrial areas   \n",
       "4                                 Port of Dunkirk   \n",
       "\n",
       "                           description  ... reference_value  \\\n",
       "0  Ports and Shipping - Major Harbours  ...               5   \n",
       "1  Ports and Shipping - Major Harbours  ...               7   \n",
       "2  Ports and Shipping - Major Harbours  ...              28   \n",
       "3  Ports and Shipping - Major Harbours  ...              14   \n",
       "4  Ports and Shipping - Major Harbours  ...               7   \n",
       "\n",
       "                                                rule indicator_value  \\\n",
       "0  X is the Measurement value. If X<(ref_value-30...             Low   \n",
       "1  X is the Measurement value. If X<(ref_value-30...             Low   \n",
       "2  X is the Measurement value. If X<(ref_value-30...             Low   \n",
       "3  X is the Measurement value. If X<(ref_value-30...             Low   \n",
       "4  X is the Measurement value. If X<(ref_value-30...             Low   \n",
       "\n",
       "                                             sub_aoi                   y_axis  \\\n",
       "0  MULTIPOLYGON(((18.56179820666602 54.5171532394...  Number of ships in Port   \n",
       "1  MULTIPOLYGON(((2.1499827079701284 51.034478942...  Number of ships in Port   \n",
       "2  MULTIPOLYGON(((32.2245676834261 31.36554628042...  Number of ships in Port   \n",
       "3  MULTIPOLYGON(((8.917566076705773 44.4026124064...  Number of ships in Port   \n",
       "4  MULTIPOLYGON(((2.1499827079701284 51.034478942...  Number of ships in Port   \n",
       "\n",
       "                             indicator_name color_code data_provider aoi_id  \\\n",
       "0  Changes in Ships traffic within the Port        RED          PLES    PL1   \n",
       "1  Changes in Ships traffic within the Port        RED          PLES    FR3   \n",
       "2  Changes in Ships traffic within the Port        RED          PLES    EG1   \n",
       "3  Changes in Ships traffic within the Port        RED          PLES    IT3   \n",
       "4  Changes in Ships traffic within the Port        RED          PLES    FR3   \n",
       "\n",
       "  update_frequency  \n",
       "0           Weekly  \n",
       "1           Weekly  \n",
       "2           Weekly  \n",
       "3           Weekly  \n",
       "4           Weekly  \n",
       "\n",
       "[5 rows x 28 columns]"
      ]
     },
     "execution_count": 4,
     "metadata": {},
     "output_type": "execute_result"
    }
   ],
   "source": [
    "data = geodb.get_collection(collection=geodb_collection, database=geodb_database)\n",
    "data.head()"
   ]
  },
  {
   "cell_type": "markdown",
   "id": "64891b79-e729-4beb-a03c-8072162022c6",
   "metadata": {
    "papermill": {
     "duration": 0.032175,
     "end_time": "2022-06-15T13:13:27.594069",
     "exception": false,
     "start_time": "2022-06-15T13:13:27.561894",
     "status": "completed"
    },
    "tags": []
   },
   "source": [
    "A valid header line for a CSV uses the strings in bold and looks like this:\n",
    "\n",
    "`AOI,Country,Region,City,Site Name,Description,Method,EO Sensor,Input Data,Indicator code,Time,Measurement Value,Reference Description,Reference time,Reference value,Rule,Indicator Value,Sub-AOI,Y axis,Indicator Name,Color code,Data Provider,AOI_ID,Update Frequency`"
   ]
  },
  {
   "cell_type": "markdown",
   "id": "b19e5f79-8423-4bb6-ac99-ba4432f108e0",
   "metadata": {
    "papermill": {
     "duration": 0.03022,
     "end_time": "2022-06-15T13:13:27.655770",
     "exception": false,
     "start_time": "2022-06-15T13:13:27.625550",
     "status": "completed"
    },
    "tags": []
   },
   "source": [
    "### 2. Accessing Raster Data [(SentinelHub)](https://docs.sentinel-hub.com/api/latest/reference/#tag/process)"
   ]
  },
  {
   "cell_type": "markdown",
   "id": "59612477-5567-4f09-b59f-198fd4810482",
   "metadata": {
    "papermill": {
     "duration": 0.031475,
     "end_time": "2022-06-15T13:13:27.719076",
     "exception": false,
     "start_time": "2022-06-15T13:13:27.687601",
     "status": "completed"
    },
    "tags": []
   },
   "source": [
    "### BYOC Datasets "
   ]
  },
  {
   "cell_type": "markdown",
   "id": "86439e97-e59f-4af5-adb2-73afee386bec",
   "metadata": {
    "papermill": {
     "duration": 0.030929,
     "end_time": "2022-06-15T13:13:27.780973",
     "exception": false,
     "start_time": "2022-06-15T13:13:27.750044",
     "status": "completed"
    },
    "tags": []
   },
   "source": [
    "These datasets are loaded into the sentinelhub and are accessed using their specific code."
   ]
  },
  {
   "cell_type": "markdown",
   "id": "dea2a186-3e17-4b38-b542-d06e9928464a",
   "metadata": {
    "papermill": {
     "duration": 0.029962,
     "end_time": "2022-06-15T13:13:27.843488",
     "exception": false,
     "start_time": "2022-06-15T13:13:27.813526",
     "status": "completed"
    },
    "tags": []
   },
   "source": [
    "First the permissions:"
   ]
  },
  {
   "cell_type": "code",
   "execution_count": 5,
   "id": "9f9bf71b-c6d2-43e7-b53a-cc72f608fc10",
   "metadata": {
    "execution": {
     "iopub.execute_input": "2022-06-15T13:13:27.909262Z",
     "iopub.status.busy": "2022-06-15T13:13:27.908410Z",
     "iopub.status.idle": "2022-06-15T13:13:28.060863Z",
     "shell.execute_reply": "2022-06-15T13:13:28.059939Z"
    },
    "papermill": {
     "duration": 0.1882,
     "end_time": "2022-06-15T13:13:28.062934",
     "exception": false,
     "start_time": "2022-06-15T13:13:27.874734",
     "status": "completed"
    },
    "tags": []
   },
   "outputs": [],
   "source": [
    "import os\n",
    "from oauthlib.oauth2 import BackendApplicationClient\n",
    "from requests_oauthlib import OAuth2Session\n",
    "\n",
    "# Your client credentials\n",
    "client_id = os.environ['SH_CLIENT_ID']\n",
    "client_secret = os.environ['SH_CLIENT_SECRET']\n",
    "\n",
    "# Create a session\n",
    "client = BackendApplicationClient(client_id=client_id)\n",
    "oauth = OAuth2Session(client=client)\n",
    "\n",
    "# Get token for the session\n",
    "token = oauth.fetch_token(token_url='https://services.sentinel-hub.com/oauth/token',\n",
    "                          client_id=client_id, client_secret=client_secret)\n",
    "\n",
    "# All requests using this session will have an access token automatically added\n",
    "resp = oauth.get(\"https://services.sentinel-hub.com/oauth/tokeninfo\")"
   ]
  },
  {
   "cell_type": "markdown",
   "id": "b833d682-ecff-4f66-9685-4d00d695749f",
   "metadata": {
    "papermill": {
     "duration": 0.032072,
     "end_time": "2022-06-15T13:13:28.128151",
     "exception": false,
     "start_time": "2022-06-15T13:13:28.096079",
     "status": "completed"
    },
    "tags": []
   },
   "source": [
    "\n",
    "As an example, here we access the population density information for a specific country (Austria).\n",
    "We use the [NUTS Tool](https://ec.europa.eu/eurostat/web/gisco/geodata/reference-data/administrative-units-statistical-units/nuts) to help."
   ]
  },
  {
   "cell_type": "code",
   "execution_count": 6,
   "id": "abafa32a-f8c0-405f-af95-7fb0c4cbbe28",
   "metadata": {
    "execution": {
     "iopub.execute_input": "2022-06-15T13:13:28.193588Z",
     "iopub.status.busy": "2022-06-15T13:13:28.193173Z",
     "iopub.status.idle": "2022-06-15T13:13:28.665194Z",
     "shell.execute_reply": "2022-06-15T13:13:28.664367Z"
    },
    "papermill": {
     "duration": 0.50636,
     "end_time": "2022-06-15T13:13:28.667285",
     "exception": false,
     "start_time": "2022-06-15T13:13:28.160925",
     "status": "completed"
    },
    "tags": []
   },
   "outputs": [],
   "source": [
    "import requests\n",
    "# First let us get the area information of the country from the administratives zones\n",
    "# You can find all the different NUTS levels, resolution here: https://gisco-services.ec.europa.eu/distribution/v2/nuts/nuts-2021-files.html\n",
    "\n",
    "response = requests.get(\n",
    "    \"https://gisco-services.ec.europa.eu/distribution/v2/nuts/geojson/NUTS_RG_10M_2021_4326_LEVL_0.geojson\"\n",
    ")\n",
    "\n",
    "data = response.json()\n",
    "\n",
    "# Now lets find the geometry information for one country\n",
    "match = [x for x in data[\"features\"] if x[\"properties\"][\"CNTR_CODE\"] == 'AT'][0]"
   ]
  },
  {
   "cell_type": "markdown",
   "id": "3999dafe-e0d3-41a0-b005-aa8c7ea8d3a4",
   "metadata": {
    "papermill": {
     "duration": 0.032332,
     "end_time": "2022-06-15T13:13:28.734626",
     "exception": false,
     "start_time": "2022-06-15T13:13:28.702294",
     "status": "completed"
    },
    "tags": []
   },
   "source": [
    "Here we see how to access specifically loaded datasets, for learning how to access default datasets look further down in this tutorial notebook. You have access to a number of [datasets](https://collections.eurodatacube.com/). We display display the syntax using population data:\n",
    "- Population density - collection id: `a9743257-ef21-4fd3-999d-15c5c7fcacbd`"
   ]
  },
  {
   "cell_type": "code",
   "execution_count": 7,
   "id": "5c64c1fe-af22-40a4-a39a-9e7fb5cccf55",
   "metadata": {
    "execution": {
     "iopub.execute_input": "2022-06-15T13:13:28.802626Z",
     "iopub.status.busy": "2022-06-15T13:13:28.802194Z",
     "iopub.status.idle": "2022-06-15T13:13:29.730900Z",
     "shell.execute_reply": "2022-06-15T13:13:29.730172Z"
    },
    "papermill": {
     "duration": 0.965478,
     "end_time": "2022-06-15T13:13:29.732954",
     "exception": false,
     "start_time": "2022-06-15T13:13:28.767476",
     "status": "completed"
    },
    "tags": []
   },
   "outputs": [],
   "source": [
    "\n",
    "response = requests.post('https://shservices.mundiwebservices.com/api/v1/process',\n",
    "  headers={\"Authorization\" : \"Bearer %s\"%(token['access_token'])},\n",
    "  json={\n",
    "    \"input\": {\n",
    "        \"bounds\": {\n",
    "            \"geometry\": match[\"geometry\"]\n",
    "        },\n",
    "        \"data\": [{\n",
    "            \"type\": \"byoc-a9743257-ef21-4fd3-999d-15c5c7fcacbd\"\n",
    "        }]\n",
    "    },\n",
    "    \"output\": {\n",
    "        \"width\": 800,\n",
    "        \"height\": 400,\n",
    "    },\n",
    "    \"evalscript\": \"\"\"\n",
    "    //VERSION=3\n",
    "    function setup() {\n",
    "      return {\n",
    "        input: [{\n",
    "          bands: [\"populationDensity\", \"dataMask\"], // this sets which bands to use\n",
    "        }],\n",
    "        output: { // this defines the output image type\n",
    "          bands: 4,\n",
    "          sampleType: \"UINT8\"\n",
    "        }\n",
    "      };\n",
    "    }\n",
    "\n",
    "    function evaluatePixel(sample) {\n",
    "      var arr = colorBlend(\n",
    "          sample.populationDensity,\n",
    "          [1, 5, 25, 250, 1000, 10000],\n",
    "          [[255,242,209],[255,218,166],[250,184,85],[253,141,60],[240,59,32],[189,0,38]]\n",
    "      ); \n",
    "      if (sample.dataMask==1)  arr.push(255);\n",
    "      else arr.push(0);\n",
    "      return arr;\n",
    "    }\n",
    "    \"\"\"\n",
    "})"
   ]
  },
  {
   "cell_type": "markdown",
   "id": "88ede812-e1fc-41e0-a3f7-a860ec1d17b5",
   "metadata": {
    "papermill": {
     "duration": 0.032957,
     "end_time": "2022-06-15T13:13:29.799819",
     "exception": false,
     "start_time": "2022-06-15T13:13:29.766862",
     "status": "completed"
    },
    "tags": []
   },
   "source": [
    "#### Satellite Imagery \n",
    "Now that we have the necessary token we can access the data through the processing API.  \n",
    "As described in the documentation we can access multiple datasets, but for this challenge we consider the following the most relevant:  \n",
    "- [S1GRD](https://docs.sentinel-hub.com/api/latest/data/sentinel-1-grd/)\n",
    "- [S2L1C](https://docs.sentinel-hub.com/api/latest/data/sentinel-2-l1c/#available-bands-and-data)\n",
    "- [S2L2A](https://docs.sentinel-hub.com/api/latest/data/sentinel-2-l2a/#available-bands-and-data)\n",
    "- [S3OLCI](https://docs.sentinel-hub.com/api/latest/data/sentinel-3-olci-l1b/#available-bands-and-data)\n",
    "- [S3SLSTR](https://docs.sentinel-hub.com/api/latest/data/sentinel-3-slstr-l1b/#available-bands-and-data)\n",
    "- [S5PL2](https://docs.sentinel-hub.com/api/latest/data/sentinel-5p-l2/#available-bands-and-data)  \n",
    "\n",
    "Have also a look at the linked references of the list as they also show available bands for the datasets.\n",
    "This identifier can then be used in the data type definition of the request.  \n",
    "The example that follows is taken from the API documentation, we are selecting a bounding box, which bands will be used and a function of how the pixel will be evaluated.   "
   ]
  },
  {
   "cell_type": "code",
   "execution_count": 8,
   "id": "6974c8fb-a80c-4452-bdb5-316eef059933",
   "metadata": {
    "execution": {
     "iopub.execute_input": "2022-06-15T13:13:29.868357Z",
     "iopub.status.busy": "2022-06-15T13:13:29.867769Z",
     "iopub.status.idle": "2022-06-15T13:13:30.791578Z",
     "shell.execute_reply": "2022-06-15T13:13:30.790853Z"
    },
    "papermill": {
     "duration": 0.960515,
     "end_time": "2022-06-15T13:13:30.793478",
     "exception": false,
     "start_time": "2022-06-15T13:13:29.832963",
     "status": "completed"
    },
    "tags": []
   },
   "outputs": [],
   "source": [
    "import requests\n",
    "\n",
    "available_datasets = ['S2L1C', 'S2L2A']\n",
    "responses = {}\n",
    "\n",
    "for ds in available_datasets:\n",
    "    responses[ds] = requests.post('https://services.sentinel-hub.com/api/v1/process',\n",
    "      headers={\"Authorization\" : \"Bearer %s\"%(token['access_token'])},\n",
    "      json={\n",
    "        \"input\": {\n",
    "            \"bounds\": {\n",
    "                \"bbox\": [ 13.45, 45.4, 13.55,45.5 ]\n",
    "            },\n",
    "            \"data\": [{\n",
    "                \"type\": ds\n",
    "            }]\n",
    "        },\n",
    "        \"evalscript\": \"\"\"\n",
    "        //VERSION=3\n",
    "\n",
    "        function setup() {\n",
    "          return {\n",
    "            input: [\"B02\", \"B03\", \"B04\"],\n",
    "            output: {\n",
    "              bands: 3\n",
    "            }\n",
    "          };\n",
    "        }\n",
    "\n",
    "        function evaluatePixel(\n",
    "          sample,\n",
    "          scenes,\n",
    "          inputMetadata,\n",
    "          customData,\n",
    "          outputMetadata\n",
    "        ) {\n",
    "          return [2.5 * sample.B04, 2.5 * sample.B03, 2.5 * sample.B02];\n",
    "        }\n",
    "        \"\"\"\n",
    "    })"
   ]
  },
  {
   "cell_type": "markdown",
   "id": "e95a7d3f-cab0-4740-ac95-5a0828712cc7",
   "metadata": {
    "papermill": {
     "duration": 0.032579,
     "end_time": "2022-06-15T13:13:30.857428",
     "exception": false,
     "start_time": "2022-06-15T13:13:30.824849",
     "status": "completed"
    },
    "tags": []
   },
   "source": [
    "### 2. Accessing Raster Data [(NASA API)](https://nasa-impact.github.io/veda-documentation/)"
   ]
  },
  {
   "cell_type": "markdown",
   "id": "6d106ad6-5dc7-4c5d-9301-d5a977ae7ba1",
   "metadata": {
    "papermill": {
     "duration": 0.032631,
     "end_time": "2022-06-15T13:13:30.923408",
     "exception": false,
     "start_time": "2022-06-15T13:13:30.890777",
     "status": "completed"
    },
    "tags": []
   },
   "source": [
    "Data is accessed using a [STAC endpoint](https://staging-stac.delta-backend.xyz/docs) "
   ]
  },
  {
   "cell_type": "code",
   "execution_count": 9,
   "id": "a9fe829d-2abf-4e27-a781-ded84b5f8bf7",
   "metadata": {
    "execution": {
     "iopub.execute_input": "2022-06-15T13:13:30.990649Z",
     "iopub.status.busy": "2022-06-15T13:13:30.989978Z",
     "iopub.status.idle": "2022-06-15T13:13:34.037285Z",
     "shell.execute_reply": "2022-06-15T13:13:34.036568Z"
    },
    "papermill": {
     "duration": 3.083529,
     "end_time": "2022-06-15T13:13:34.039517",
     "exception": false,
     "start_time": "2022-06-15T13:13:30.955988",
     "status": "completed"
    },
    "tags": []
   },
   "outputs": [
    {
     "name": "stdout",
     "output_type": "stream",
     "text": [
      "Collecting pystac\r\n",
      "  Downloading pystac-1.4.0-py3-none-any.whl (137 kB)\r\n",
      "\u001b[?25l     \u001b[90m━━━━━━━━━━━━━━━━━━━━━━━━━━━━━━━━━━━━━━━━\u001b[0m \u001b[32m0.0/137.4 KB\u001b[0m \u001b[31m?\u001b[0m eta \u001b[36m-:--:--\u001b[0m\r",
      "\u001b[2K     \u001b[90m━━━━━━━━━━━━━━━━━━━━━━━━━━━━━━━━━━━━━━\u001b[0m \u001b[32m137.4/137.4 KB\u001b[0m \u001b[31m17.6 MB/s\u001b[0m eta \u001b[36m0:00:00\u001b[0m\r\n",
      "\u001b[?25h"
     ]
    },
    {
     "name": "stdout",
     "output_type": "stream",
     "text": [
      "Requirement already satisfied: python-dateutil>=2.7.0 in /opt/conda/envs/eurodatacube-2022.02/lib/python3.8/site-packages (from pystac) (2.8.2)\r\n",
      "Requirement already satisfied: six>=1.5 in /opt/conda/envs/eurodatacube-2022.02/lib/python3.8/site-packages (from python-dateutil>=2.7.0->pystac) (1.16.0)\r\n"
     ]
    },
    {
     "name": "stdout",
     "output_type": "stream",
     "text": [
      "Installing collected packages: pystac\r\n"
     ]
    },
    {
     "name": "stdout",
     "output_type": "stream",
     "text": [
      "Successfully installed pystac-1.4.0\r\n"
     ]
    }
   ],
   "source": [
    "!pip install pystac"
   ]
  },
  {
   "cell_type": "code",
   "execution_count": 10,
   "id": "6088a136-270d-48bd-a1c7-7469ebea7fde",
   "metadata": {
    "execution": {
     "iopub.execute_input": "2022-06-15T13:13:34.108635Z",
     "iopub.status.busy": "2022-06-15T13:13:34.108220Z",
     "iopub.status.idle": "2022-06-15T13:13:36.018351Z",
     "shell.execute_reply": "2022-06-15T13:13:36.017598Z"
    },
    "papermill": {
     "duration": 1.946897,
     "end_time": "2022-06-15T13:13:36.020516",
     "exception": false,
     "start_time": "2022-06-15T13:13:34.073619",
     "status": "completed"
    },
    "tags": []
   },
   "outputs": [],
   "source": [
    "from pystac import Catalog\n",
    "import concurrent.futures\n",
    "import datetime as dt\n",
    "from ipyleaflet import basemaps, Map, GeoJSON\n",
    "import json\n",
    "import requests as re\n",
    "import matplotlib.pyplot as plt\n",
    "import pprint\n",
    "import time\n",
    "\n",
    "STAC_ENDPOINT_URL = \"https://staging-stac.delta-backend.xyz\""
   ]
  },
  {
   "cell_type": "code",
   "execution_count": 11,
   "id": "7fd4ad2a-651f-49a8-a811-040238e7e865",
   "metadata": {
    "execution": {
     "iopub.execute_input": "2022-06-15T13:13:36.094467Z",
     "iopub.status.busy": "2022-06-15T13:13:36.093739Z",
     "iopub.status.idle": "2022-06-15T13:13:39.143284Z",
     "shell.execute_reply": "2022-06-15T13:13:39.142565Z"
    },
    "papermill": {
     "duration": 3.087625,
     "end_time": "2022-06-15T13:13:39.145371",
     "exception": false,
     "start_time": "2022-06-15T13:13:36.057746",
     "status": "completed"
    },
    "tags": []
   },
   "outputs": [],
   "source": [
    "stac_api_url = 'https://staging-stac.delta-backend.xyz/'\n",
    "catalog = Catalog.from_file(stac_api_url)"
   ]
  },
  {
   "cell_type": "markdown",
   "id": "0c2fa293-03b1-4dff-90ad-2c10cae8bf0f",
   "metadata": {
    "papermill": {
     "duration": 0.0479,
     "end_time": "2022-06-15T13:13:39.227737",
     "exception": false,
     "start_time": "2022-06-15T13:13:39.179837",
     "status": "completed"
    },
    "tags": []
   },
   "source": [
    "Below we list the availabe datasets."
   ]
  },
  {
   "cell_type": "code",
   "execution_count": 12,
   "id": "c1ea64b2-77a8-4f63-8cda-0a8b4f9a2735",
   "metadata": {
    "execution": {
     "iopub.execute_input": "2022-06-15T13:13:39.299880Z",
     "iopub.status.busy": "2022-06-15T13:13:39.299150Z",
     "iopub.status.idle": "2022-06-15T13:14:12.563344Z",
     "shell.execute_reply": "2022-06-15T13:14:12.562577Z"
    },
    "papermill": {
     "duration": 33.302514,
     "end_time": "2022-06-15T13:14:12.565269",
     "exception": false,
     "start_time": "2022-06-15T13:13:39.262755",
     "status": "completed"
    },
    "tags": []
   },
   "outputs": [
    {
     "name": "stdout",
     "output_type": "stream",
     "text": [
      "nightlights-hd-1band\n"
     ]
    },
    {
     "name": "stdout",
     "output_type": "stream",
     "text": [
      "social-vulnerability-index-housing-nopop\n"
     ]
    },
    {
     "name": "stdout",
     "output_type": "stream",
     "text": [
      "grdi-v1-built\n"
     ]
    },
    {
     "name": "stdout",
     "output_type": "stream",
     "text": [
      "MO_NPP_npp_vgpm\n"
     ]
    },
    {
     "name": "stdout",
     "output_type": "stream",
     "text": [
      "nightlights-hd-monthly\n"
     ]
    },
    {
     "name": "stdout",
     "output_type": "stream",
     "text": [
      "HLSS30.002\n"
     ]
    },
    {
     "name": "stdout",
     "output_type": "stream",
     "text": [
      "HLSL30.002\n"
     ]
    },
    {
     "name": "stdout",
     "output_type": "stream",
     "text": [
      "social-vulnerability-index-household\n"
     ]
    },
    {
     "name": "stdout",
     "output_type": "stream",
     "text": [
      "grdi-v1-raster\n"
     ]
    },
    {
     "name": "stdout",
     "output_type": "stream",
     "text": [
      "grdi-shdi-raster\n"
     ]
    },
    {
     "name": "stdout",
     "output_type": "stream",
     "text": [
      "facebook_population_density\n"
     ]
    },
    {
     "name": "stdout",
     "output_type": "stream",
     "text": [
      "grdi-vnl-slope-raster\n"
     ]
    },
    {
     "name": "stdout",
     "output_type": "stream",
     "text": [
      "social-vulnerability-index-socioeconomic\n"
     ]
    },
    {
     "name": "stdout",
     "output_type": "stream",
     "text": [
      "social-vulnerability-index-socioeconomic-nopop\n"
     ]
    },
    {
     "name": "stdout",
     "output_type": "stream",
     "text": [
      "grdi-filled-missing-values-count\n"
     ]
    },
    {
     "name": "stdout",
     "output_type": "stream",
     "text": [
      "grdi-vnl-raster\n"
     ]
    },
    {
     "name": "stdout",
     "output_type": "stream",
     "text": [
      "grdi-cdr-raster\n"
     ]
    },
    {
     "name": "stdout",
     "output_type": "stream",
     "text": [
      "blue-tarp-planetscope\n"
     ]
    },
    {
     "name": "stdout",
     "output_type": "stream",
     "text": [
      "IS2SITMOGR4-cog\n"
     ]
    },
    {
     "name": "stdout",
     "output_type": "stream",
     "text": [
      "social-vulnerability-index-household-nopop\n"
     ]
    },
    {
     "name": "stdout",
     "output_type": "stream",
     "text": [
      "social-vulnerability-index-minority\n"
     ]
    },
    {
     "name": "stdout",
     "output_type": "stream",
     "text": [
      "social-vulnerability-index-overall-nopop\n"
     ]
    },
    {
     "name": "stdout",
     "output_type": "stream",
     "text": [
      "OMSO2PCA-COG\n"
     ]
    },
    {
     "name": "stdout",
     "output_type": "stream",
     "text": [
      "OMI_trno2-COG\n"
     ]
    },
    {
     "name": "stdout",
     "output_type": "stream",
     "text": [
      "social-vulnerability-index-overall\n"
     ]
    },
    {
     "name": "stdout",
     "output_type": "stream",
     "text": [
      "no2-monthly-diff\n"
     ]
    },
    {
     "name": "stdout",
     "output_type": "stream",
     "text": [
      "no2-monthly\n"
     ]
    },
    {
     "name": "stdout",
     "output_type": "stream",
     "text": [
      "social-vulnerability-index-housing\n"
     ]
    },
    {
     "name": "stdout",
     "output_type": "stream",
     "text": [
      "nightlights-500m-daily\n"
     ]
    },
    {
     "name": "stdout",
     "output_type": "stream",
     "text": [
      "blue-tarp-detection\n"
     ]
    },
    {
     "name": "stdout",
     "output_type": "stream",
     "text": [
      "social-vulnerability-index-minority-nopop\n"
     ]
    },
    {
     "name": "stdout",
     "output_type": "stream",
     "text": [
      "nceo_africa_2017\n"
     ]
    },
    {
     "name": "stdout",
     "output_type": "stream",
     "text": [
      "geoglam\n"
     ]
    },
    {
     "name": "stdout",
     "output_type": "stream",
     "text": [
      "grdi-imr-raster\n"
     ]
    }
   ],
   "source": [
    "for root, subcatalogs, items in catalog.walk():\n",
    "    # subcats represents any catalogs or collections owned by root\n",
    "    for cat in subcatalogs:\n",
    "        print(cat.id)"
   ]
  },
  {
   "cell_type": "markdown",
   "id": "10e8ea1e-cc44-4e86-8858-ff6e1b7231e1",
   "metadata": {
    "papermill": {
     "duration": 0.053899,
     "end_time": "2022-06-15T13:14:12.671980",
     "exception": false,
     "start_time": "2022-06-15T13:14:12.618081",
     "status": "completed"
    },
    "tags": []
   },
   "source": [
    "Select an indicator of interesting and load as a json."
   ]
  },
  {
   "cell_type": "code",
   "execution_count": 13,
   "id": "7cec08fa-dd1a-4009-9350-d4596d29c41c",
   "metadata": {
    "execution": {
     "iopub.execute_input": "2022-06-15T13:14:12.778834Z",
     "iopub.status.busy": "2022-06-15T13:14:12.778138Z",
     "iopub.status.idle": "2022-06-15T13:14:13.846024Z",
     "shell.execute_reply": "2022-06-15T13:14:13.845380Z"
    },
    "papermill": {
     "duration": 1.125164,
     "end_time": "2022-06-15T13:14:13.847741",
     "exception": false,
     "start_time": "2022-06-15T13:14:12.722577",
     "status": "completed"
    },
    "tags": []
   },
   "outputs": [
    {
     "data": {
      "text/plain": [
       "{'id': 'no2-monthly',\n",
       " 'type': 'Collection',\n",
       " 'links': [{'rel': 'items',\n",
       "   'type': 'application/geo+json',\n",
       "   'href': 'https://staging-stac.delta-backend.xyz/collections/no2-monthly/items'},\n",
       "  {'rel': 'parent',\n",
       "   'type': 'application/json',\n",
       "   'href': 'https://staging-stac.delta-backend.xyz/'},\n",
       "  {'rel': 'root',\n",
       "   'type': 'application/json',\n",
       "   'href': 'https://staging-stac.delta-backend.xyz/'},\n",
       "  {'rel': 'self',\n",
       "   'type': 'application/json',\n",
       "   'href': 'https://staging-stac.delta-backend.xyz/collections/no2-monthly'}],\n",
       " 'title': 'NO₂',\n",
       " 'extent': {'spatial': {'bbox': [[-180, -90, 180, 90]]},\n",
       "  'temporal': {'interval': [['2016-01-01T00:00:00Z',\n",
       "     '2022-01-01T00:00:00Z']]}},\n",
       " 'license': 'MIT',\n",
       " 'description': 'Darker colors indicate higher nitrogen dioxide (NO₂) levels and more activity. Lighter colors indicate lower levels of NO₂ and less activity. Missing pixels indicate areas of no data most likely associated with cloud cover or snow.',\n",
       " 'item_assets': {'cog_default': {'type': 'image/tiff; application=geotiff; profile=cloud-optimized',\n",
       "   'roles': ['data', 'layer'],\n",
       "   'title': 'Default COG Layer',\n",
       "   'description': 'Cloud optimized default layer to display on map'}},\n",
       " 'stac_version': '1.0.0',\n",
       " 'stac_extensions': ['https://stac-extensions.github.io/item-assets/v1.0.0/schema.json'],\n",
       " 'dashboard:is_periodic': True,\n",
       " 'dashboard:time_density': 'month'}"
      ]
     },
     "execution_count": 13,
     "metadata": {},
     "output_type": "execute_result"
    }
   ],
   "source": [
    "re.get(f\"{STAC_ENDPOINT_URL}/collections/no2-monthly\").json()"
   ]
  },
  {
   "cell_type": "markdown",
   "id": "abc88039-e6f4-413d-ba17-fa96f9e395f6",
   "metadata": {
    "papermill": {
     "duration": 0.060451,
     "end_time": "2022-06-15T13:14:13.960954",
     "exception": false,
     "start_time": "2022-06-15T13:14:13.900503",
     "status": "completed"
    },
    "tags": []
   },
   "source": [
    "Find the periodicy of the data."
   ]
  },
  {
   "cell_type": "code",
   "execution_count": 14,
   "id": "1c239079-a873-42d7-9ca5-8aaa4dc33166",
   "metadata": {
    "execution": {
     "iopub.execute_input": "2022-06-15T13:14:14.067034Z",
     "iopub.status.busy": "2022-06-15T13:14:14.066509Z",
     "iopub.status.idle": "2022-06-15T13:14:15.063175Z",
     "shell.execute_reply": "2022-06-15T13:14:15.062467Z"
    },
    "papermill": {
     "duration": 1.053977,
     "end_time": "2022-06-15T13:14:15.065139",
     "exception": false,
     "start_time": "2022-06-15T13:14:14.011162",
     "status": "completed"
    },
    "tags": []
   },
   "outputs": [
    {
     "name": "stdout",
     "output_type": "stream",
     "text": [
      "{'dashboard:is_periodic': True, 'dashboard:time_density': 'month'}\n"
     ]
    }
   ],
   "source": [
    "pprint.pprint({\n",
    "    k:v for k,v in re.get(f\"{STAC_ENDPOINT_URL}/collections/no2-monthly\").json().items()\n",
    "    if k in [\"dashboard:is_periodic\", \"dashboard:time_density\", \"summaries\"]\n",
    "})"
   ]
  },
  {
   "cell_type": "markdown",
   "id": "51342733-4cf1-4ec2-b089-8e77f796f1f2",
   "metadata": {
    "papermill": {
     "duration": 0.048901,
     "end_time": "2022-06-15T13:14:15.164085",
     "exception": false,
     "start_time": "2022-06-15T13:14:15.115184",
     "status": "completed"
    },
    "tags": []
   },
   "source": [
    "Inspect one of the monthly measurments."
   ]
  },
  {
   "cell_type": "markdown",
   "id": "b12e691f",
   "metadata": {
    "tags": [
     "papermill-error-cell-tag"
    ]
   },
   "source": [
    "<span id=\"papermill-error-cell\" style=\"color:red; font-family:Helvetica Neue, Helvetica, Arial, sans-serif; font-size:2em;\">Execution using papermill encountered an exception here and stopped:</span>"
   ]
  },
  {
   "cell_type": "code",
   "execution_count": 15,
   "id": "c3e365e7-15ae-4397-8349-061ed3b4d718",
   "metadata": {
    "execution": {
     "iopub.execute_input": "2022-06-15T13:14:15.269752Z",
     "iopub.status.busy": "2022-06-15T13:14:15.269233Z",
     "iopub.status.idle": "2022-06-15T13:14:17.027509Z",
     "shell.execute_reply": "2022-06-15T13:14:17.026591Z"
    },
    "papermill": {
     "duration": 1.815872,
     "end_time": "2022-06-15T13:14:17.029137",
     "exception": true,
     "start_time": "2022-06-15T13:14:15.213265",
     "status": "failed"
    },
    "tags": []
   },
   "outputs": [
    {
     "ename": "IndexError",
     "evalue": "list index out of range",
     "output_type": "error",
     "traceback": [
      "\u001b[0;31m---------------------------------------------------------------------------\u001b[0m",
      "\u001b[0;31mIndexError\u001b[0m                                Traceback (most recent call last)",
      "Input \u001b[0;32mIn [15]\u001b[0m, in \u001b[0;36m<module>\u001b[0;34m\u001b[0m\n\u001b[1;32m      1\u001b[0m items \u001b[38;5;241m=\u001b[39m re\u001b[38;5;241m.\u001b[39mget(\u001b[38;5;124mf\u001b[39m\u001b[38;5;124m\"\u001b[39m\u001b[38;5;132;01m{\u001b[39;00mSTAC_ENDPOINT_URL\u001b[38;5;132;01m}\u001b[39;00m\u001b[38;5;124m/collections/no2-monthly/items?limit=100\u001b[39m\u001b[38;5;124m\"\u001b[39m)\u001b[38;5;241m.\u001b[39mjson()[\u001b[38;5;124m\"\u001b[39m\u001b[38;5;124mfeatures\u001b[39m\u001b[38;5;124m\"\u001b[39m]\n\u001b[0;32m----> 2\u001b[0m \u001b[43mitems\u001b[49m\u001b[43m[\u001b[49m\u001b[38;5;241;43m0\u001b[39;49m\u001b[43m]\u001b[49m\n",
      "\u001b[0;31mIndexError\u001b[0m: list index out of range"
     ]
    }
   ],
   "source": [
    "items = re.get(f\"{STAC_ENDPOINT_URL}/collections/no2-monthly/items?limit=100\").json()[\"features\"]\n",
    "items[0]"
   ]
  },
  {
   "cell_type": "code",
   "execution_count": null,
   "id": "dea87c11-2641-42fc-b547-cdcf62086289",
   "metadata": {
    "papermill": {
     "duration": null,
     "end_time": null,
     "exception": null,
     "start_time": null,
     "status": "pending"
    },
    "tags": []
   },
   "outputs": [],
   "source": []
  }
 ],
 "metadata": {
  "kernelspec": {
   "display_name": "EDC 2022.02 (Python3)",
   "language": "python",
   "name": "edc"
  },
  "language_info": {
   "codemirror_mode": {
    "name": "ipython",
    "version": 3
   },
   "file_extension": ".py",
   "mimetype": "text/x-python",
   "name": "python",
   "nbconvert_exporter": "python",
   "pygments_lexer": "ipython3",
   "version": "3.8.12"
  },
  "papermill": {
   "default_parameters": {},
   "duration": 58.048699,
   "end_time": "2022-06-15T13:14:17.599231",
   "environment_variables": {},
   "exception": true,
   "input_path": "/tmp/tmp9terpftd",
   "output_path": "/tmp/notebook_output.ipynb",
   "parameters": {},
   "start_time": "2022-06-15T13:13:19.550532",
   "version": "2.3.4"
  },
  "properties": {
   "authors": [
    {
     "id": "e204932b-e0b3-49fb-ac5c-2711ab5d79a7",
     "name": "stephan.meissl@eox.at"
    }
   ],
   "description": "How to access the data collected from NASA, ESA, and JAXA.",
   "id": "116a6935-723d-4672-ba70-1febc5e66c4c",
   "license": null,
   "name": "Data Access",
   "requirements": [
    "eurodatacube-geodb",
    "eurodatacube"
   ],
   "tags": [
    "IGARSS2022",
    "EO Dashboard"
   ],
   "tosAgree": true,
   "type": "Jupyter Notebook",
   "version": "0.0.1"
  }
 },
 "nbformat": 4,
 "nbformat_minor": 5
}
