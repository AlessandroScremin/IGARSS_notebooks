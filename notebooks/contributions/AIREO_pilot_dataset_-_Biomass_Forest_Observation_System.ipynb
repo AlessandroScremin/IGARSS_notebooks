{
 "cells": [
  {
   "cell_type": "markdown",
   "id": "ba478dcb",
   "metadata": {
    "tags": [
     "papermill-error-cell-tag"
    ]
   },
   "source": [
    "<span style=\"color:red; font-family:Helvetica Neue, Helvetica, Arial, sans-serif; font-size:2em;\">An Exception was encountered at '<a href=\"#papermill-error-cell\">In [4]</a>'.</span>"
   ]
  },
  {
   "cell_type": "code",
   "execution_count": 1,
   "id": "758743aa",
   "metadata": {
    "execution": {
     "iopub.execute_input": "2021-08-19T08:24:19.178505Z",
     "iopub.status.busy": "2021-08-19T08:24:19.177795Z",
     "iopub.status.idle": "2021-08-19T08:24:19.232383Z",
     "shell.execute_reply": "2021-08-19T08:24:19.232741Z"
    },
    "papermill": {
     "duration": 0.080369,
     "end_time": "2021-08-19T08:24:19.232929",
     "exception": false,
     "start_time": "2021-08-19T08:24:19.152560",
     "status": "completed"
    },
    "tags": []
   },
   "outputs": [
    {
     "data": {
      "text/html": [
       "<script type=\"text/javascript\">\n",
       "        function toggle(id) {\n",
       "            el = document.getElementById(id);\n",
       "            el.style.display = el.style.display === \"none\" ? \"block\" : \"none\";\n",
       "        }\n",
       "    </script>"
      ],
      "text/plain": [
       "<IPython.core.display.HTML object>"
      ]
     },
     "metadata": {},
     "output_type": "display_data"
    },
    {
     "data": {
      "text/html": [
       "This notebook is compatible with this base image version (user-0.24.5)."
      ],
      "text/plain": [
       "<IPython.core.display.HTML object>"
      ]
     },
     "metadata": {},
     "output_type": "display_data"
    },
    {
     "data": {
      "text/markdown": [
       "\n",
       "\n",
       "---------\n",
       "\n",
       "The following environment variables are available:\n",
       "\n",
       "* `SH_CLIENT_ID`, `SH_INSTANCE_ID`, `SH_CLIENT_NAME`, `SH_CLIENT_SECRET`\n"
      ],
      "text/plain": [
       "<IPython.core.display.Markdown object>"
      ]
     },
     "metadata": {},
     "output_type": "display_data"
    }
   ],
   "source": [
    "from edc import check_compatibility\n",
    "check_compatibility(\"user-0.24.5\", dependencies=[\"SH\"])"
   ]
  },
  {
   "cell_type": "code",
   "execution_count": 2,
   "id": "9d221b52",
   "metadata": {
    "execution": {
     "iopub.execute_input": "2021-08-19T08:24:19.276847Z",
     "iopub.status.busy": "2021-08-19T08:24:19.276259Z",
     "iopub.status.idle": "2021-08-19T08:24:28.448950Z",
     "shell.execute_reply": "2021-08-19T08:24:28.448313Z"
    },
    "papermill": {
     "duration": 9.195178,
     "end_time": "2021-08-19T08:24:28.449072",
     "exception": false,
     "start_time": "2021-08-19T08:24:19.253894",
     "status": "completed"
    },
    "tags": []
   },
   "outputs": [
    {
     "name": "stdout",
     "output_type": "stream",
     "text": [
      "Collecting git+https://github.com/aireo-project/aireo_lib\r\n",
      "  Cloning https://github.com/aireo-project/aireo_lib to /tmp/pip-req-build-ei40_xlu\r\n",
      "  Running command git clone -q https://github.com/aireo-project/aireo_lib /tmp/pip-req-build-ei40_xlu\r\n"
     ]
    },
    {
     "name": "stdout",
     "output_type": "stream",
     "text": [
      "  Installing build dependencies ... \u001b[?25l-"
     ]
    },
    {
     "name": "stdout",
     "output_type": "stream",
     "text": [
      "\b \b\\"
     ]
    },
    {
     "name": "stdout",
     "output_type": "stream",
     "text": [
      "\b \b|"
     ]
    },
    {
     "name": "stdout",
     "output_type": "stream",
     "text": [
      "\b \b/"
     ]
    },
    {
     "name": "stdout",
     "output_type": "stream",
     "text": [
      "\b \b-"
     ]
    },
    {
     "name": "stdout",
     "output_type": "stream",
     "text": [
      "\b \bdone\r\n"
     ]
    },
    {
     "name": "stdout",
     "output_type": "stream",
     "text": [
      "\u001b[?25h  Getting requirements to build wheel ... \u001b[?25l-\b \bdone\r\n"
     ]
    },
    {
     "name": "stdout",
     "output_type": "stream",
     "text": [
      "\u001b[?25h    Preparing wheel metadata ... \u001b[?25l-"
     ]
    },
    {
     "name": "stdout",
     "output_type": "stream",
     "text": [
      "\b \bdone\r\n",
      "\u001b[?25hRequirement already satisfied: numpy in /opt/conda/envs/eurodatacube-0.24.5/lib/python3.8/site-packages (from aireo-library==0.0.post1.dev6+gba53c4a) (1.20.2)\r\n"
     ]
    },
    {
     "name": "stdout",
     "output_type": "stream",
     "text": [
      "Collecting stac-pydantic==1.3.9\r\n",
      "  Downloading stac_pydantic-1.3.9-py3-none-any.whl (25 kB)\r\n"
     ]
    },
    {
     "name": "stdout",
     "output_type": "stream",
     "text": [
      "Collecting pyaml\r\n",
      "  Downloading pyaml-21.8.3-py2.py3-none-any.whl (17 kB)\r\n"
     ]
    },
    {
     "name": "stdout",
     "output_type": "stream",
     "text": [
      "Collecting loguru\r\n",
      "  Downloading loguru-0.5.3-py3-none-any.whl (57 kB)\r\n",
      "\u001b[?25l\r",
      "\u001b[K     |█████▊                          | 10 kB 49.4 MB/s eta 0:00:01\r",
      "\u001b[K     |███████████▌                    | 20 kB 54.4 MB/s eta 0:00:01\r",
      "\u001b[K     |█████████████████▏              | 30 kB 62.0 MB/s eta 0:00:01\r",
      "\u001b[K     |███████████████████████         | 40 kB 71.5 MB/s eta 0:00:01\r",
      "\u001b[K     |████████████████████████████▋   | 51 kB 80.2 MB/s eta 0:00:01"
     ]
    },
    {
     "name": "stdout",
     "output_type": "stream",
     "text": [
      "\r",
      "\u001b[K     |████████████████████████████████| 57 kB 955 kB/s \r\n",
      "\u001b[?25hRequirement already satisfied: matplotlib in /opt/conda/envs/eurodatacube-0.24.5/lib/python3.8/site-packages (from aireo-library==0.0.post1.dev6+gba53c4a) (3.4.2)\r\n",
      "Requirement already satisfied: geopandas in /opt/conda/envs/eurodatacube-0.24.5/lib/python3.8/site-packages (from aireo-library==0.0.post1.dev6+gba53c4a) (0.9.0)\r\n",
      "Requirement already satisfied: xarray in /opt/conda/envs/eurodatacube-0.24.5/lib/python3.8/site-packages (from aireo-library==0.0.post1.dev6+gba53c4a) (0.18.0)\r\n"
     ]
    },
    {
     "name": "stdout",
     "output_type": "stream",
     "text": [
      "Collecting geojson-pydantic\r\n",
      "  Downloading geojson-pydantic-0.3.1.tar.gz (8.4 kB)\r\n"
     ]
    },
    {
     "name": "stdout",
     "output_type": "stream",
     "text": [
      "Requirement already satisfied: click in /opt/conda/envs/eurodatacube-0.24.5/lib/python3.8/site-packages (from stac-pydantic==1.3.9->aireo-library==0.0.post1.dev6+gba53c4a) (7.1.2)\r\n"
     ]
    },
    {
     "name": "stdout",
     "output_type": "stream",
     "text": [
      "Collecting pydantic>=1.6\r\n",
      "  Downloading pydantic-1.8.2-cp38-cp38-manylinux2014_x86_64.whl (13.7 MB)\r\n",
      "\u001b[?25l\r",
      "\u001b[K     |                                | 10 kB 40.1 MB/s eta 0:00:01\r",
      "\u001b[K     |                                | 20 kB 52.5 MB/s eta 0:00:01\r",
      "\u001b[K     |                                | 30 kB 67.7 MB/s eta 0:00:01\r",
      "\u001b[K     |                                | 40 kB 78.5 MB/s eta 0:00:01\r",
      "\u001b[K     |▏                               | 51 kB 86.0 MB/s eta 0:00:01\r",
      "\u001b[K     |▏                               | 61 kB 83.4 MB/s eta 0:00:01\r",
      "\u001b[K     |▏                               | 71 kB 88.0 MB/s eta 0:00:01\r",
      "\u001b[K     |▏                               | 81 kB 93.6 MB/s eta 0:00:01\r",
      "\u001b[K     |▏                               | 92 kB 97.8 MB/s eta 0:00:01\r",
      "\u001b[K     |▎                               | 102 kB 69.0 MB/s eta 0:00:01\r",
      "\u001b[K     |▎                               | 112 kB 69.0 MB/s eta 0:00:01\r",
      "\u001b[K     |▎                               | 122 kB 69.0 MB/s eta 0:00:01\r",
      "\u001b[K     |▎                               | 133 kB 69.0 MB/s eta 0:00:01\r",
      "\u001b[K     |▍                               | 143 kB 69.0 MB/s eta 0:00:01\r",
      "\u001b[K     |▍                               | 153 kB 69.0 MB/s eta 0:00:01\r",
      "\u001b[K     |▍                               | 163 kB 69.0 MB/s eta 0:00:01\r",
      "\u001b[K     |▍                               | 174 kB 69.0 MB/s eta 0:00:01\r",
      "\u001b[K     |▍                               | 184 kB 69.0 MB/s eta 0:00:01\r",
      "\u001b[K     |▌                               | 194 kB 69.0 MB/s eta 0:00:01\r",
      "\u001b[K     |▌                               | 204 kB 69.0 MB/s eta 0:00:01\r",
      "\u001b[K     |▌                               | 215 kB 69.0 MB/s eta 0:00:01\r",
      "\u001b[K     |▌                               | 225 kB 69.0 MB/s eta 0:00:01\r",
      "\u001b[K     |▌                               | 235 kB 69.0 MB/s eta 0:00:01\r",
      "\u001b[K     |▋                               | 245 kB 69.0 MB/s eta 0:00:01\r",
      "\u001b[K     |▋                               | 256 kB 69.0 MB/s eta 0:00:01\r",
      "\u001b[K     |▋                               | 266 kB 69.0 MB/s eta 0:00:01\r",
      "\u001b[K     |▋                               | 276 kB 69.0 MB/s eta 0:00:01\r",
      "\u001b[K     |▊                               | 286 kB 69.0 MB/s eta 0:00:01\r",
      "\u001b[K     |▊                               | 296 kB 69.0 MB/s eta 0:00:01\r",
      "\u001b[K     |▊                               | 307 kB 69.0 MB/s eta 0:00:01\r",
      "\u001b[K     |▊                               | 317 kB 69.0 MB/s eta 0:00:01\r",
      "\u001b[K     |▊                               | 327 kB 69.0 MB/s eta 0:00:01\r",
      "\u001b[K     |▉                               | 337 kB 69.0 MB/s eta 0:00:01\r",
      "\u001b[K     |▉                               | 348 kB 69.0 MB/s eta 0:00:01\r",
      "\u001b[K     |▉                               | 358 kB 69.0 MB/s eta 0:00:01\r",
      "\u001b[K     |▉                               | 368 kB 69.0 MB/s eta 0:00:01\r",
      "\u001b[K     |▉                               | 378 kB 69.0 MB/s eta 0:00:01\r",
      "\u001b[K     |█                               | 389 kB 69.0 MB/s eta 0:00:01\r",
      "\u001b[K     |█                               | 399 kB 69.0 MB/s eta 0:00:01\r",
      "\u001b[K     |█                               | 409 kB 69.0 MB/s eta 0:00:01\r",
      "\u001b[K     |█                               | 419 kB 69.0 MB/s eta 0:00:01\r",
      "\u001b[K     |█                               | 430 kB 69.0 MB/s eta 0:00:01\r",
      "\u001b[K     |█                               | 440 kB 69.0 MB/s eta 0:00:01\r",
      "\u001b[K     |█                               | 450 kB 69.0 MB/s eta 0:00:01\r",
      "\u001b[K     |█                               | 460 kB 69.0 MB/s eta 0:00:01\r",
      "\u001b[K     |█                               | 471 kB 69.0 MB/s eta 0:00:01\r",
      "\u001b[K     |█▏                              | 481 kB 69.0 MB/s eta 0:00:01\r",
      "\u001b[K     |█▏                              | 491 kB 69.0 MB/s eta 0:00:01\r",
      "\u001b[K     |█▏                              | 501 kB 69.0 MB/s eta 0:00:01\r",
      "\u001b[K     |█▏                              | 512 kB 69.0 MB/s eta 0:00:01\r",
      "\u001b[K     |█▏                              | 522 kB 69.0 MB/s eta 0:00:01\r",
      "\u001b[K     |█▎                              | 532 kB 69.0 MB/s eta 0:00:01\r",
      "\u001b[K     |█▎                              | 542 kB 69.0 MB/s eta 0:00:01\r",
      "\u001b[K     |█▎                              | 552 kB 69.0 MB/s eta 0:00:01\r",
      "\u001b[K     |█▎                              | 563 kB 69.0 MB/s eta 0:00:01\r",
      "\u001b[K     |█▍                              | 573 kB 69.0 MB/s eta 0:00:01\r",
      "\u001b[K     |█▍                              | 583 kB 69.0 MB/s eta 0:00:01\r",
      "\u001b[K     |█▍                              | 593 kB 69.0 MB/s eta 0:00:01\r",
      "\u001b[K     |█▍                              | 604 kB 69.0 MB/s eta 0:00:01\r",
      "\u001b[K     |█▍                              | 614 kB 69.0 MB/s eta 0:00:01\r",
      "\u001b[K     |█▌                              | 624 kB 69.0 MB/s eta 0:00:01\r",
      "\u001b[K     |█▌                              | 634 kB 69.0 MB/s eta 0:00:01\r",
      "\u001b[K     |█▌                              | 645 kB 69.0 MB/s eta 0:00:01\r",
      "\u001b[K     |█▌                              | 655 kB 69.0 MB/s eta 0:00:01\r",
      "\u001b[K     |█▌                              | 665 kB 69.0 MB/s eta 0:00:01\r",
      "\u001b[K     |█▋                              | 675 kB 69.0 MB/s eta 0:00:01\r",
      "\u001b[K     |█▋                              | 686 kB 69.0 MB/s eta 0:00:01\r",
      "\u001b[K     |█▋                              | 696 kB 69.0 MB/s eta 0:00:01\r",
      "\u001b[K     |█▋                              | 706 kB 69.0 MB/s eta 0:00:01\r",
      "\u001b[K     |█▊                              | 716 kB 69.0 MB/s eta 0:00:01\r",
      "\u001b[K     |█▊                              | 727 kB 69.0 MB/s eta 0:00:01\r",
      "\u001b[K     |█▊                              | 737 kB 69.0 MB/s eta 0:00:01\r",
      "\u001b[K     |█▊                              | 747 kB 69.0 MB/s eta 0:00:01\r",
      "\u001b[K     |█▊                              | 757 kB 69.0 MB/s eta 0:00:01\r",
      "\u001b[K     |█▉                              | 768 kB 69.0 MB/s eta 0:00:01\r",
      "\u001b[K     |█▉                              | 778 kB 69.0 MB/s eta 0:00:01\r",
      "\u001b[K     |█▉                              | 788 kB 69.0 MB/s eta 0:00:01\r",
      "\u001b[K     |█▉                              | 798 kB 69.0 MB/s eta 0:00:01\r",
      "\u001b[K     |██                              | 808 kB 69.0 MB/s eta 0:00:01\r",
      "\u001b[K     |██                              | 819 kB 69.0 MB/s eta 0:00:01\r",
      "\u001b[K     |██                              | 829 kB 69.0 MB/s eta 0:00:01\r",
      "\u001b[K     |██                              | 839 kB 69.0 MB/s eta 0:00:01\r",
      "\u001b[K     |██                              | 849 kB 69.0 MB/s eta 0:00:01\r",
      "\u001b[K     |██                              | 860 kB 69.0 MB/s eta 0:00:01\r",
      "\u001b[K     |██                              | 870 kB 69.0 MB/s eta 0:00:01\r",
      "\u001b[K     |██                              | 880 kB 69.0 MB/s eta 0:00:01\r",
      "\u001b[K     |██                              | 890 kB 69.0 MB/s eta 0:00:01\r",
      "\u001b[K     |██                              | 901 kB 69.0 MB/s eta 0:00:01\r",
      "\u001b[K     |██▏                             | 911 kB 69.0 MB/s eta 0:00:01\r",
      "\u001b[K     |██▏                             | 921 kB 69.0 MB/s eta 0:00:01\r",
      "\u001b[K     |██▏                             | 931 kB 69.0 MB/s eta 0:00:01\r",
      "\u001b[K     |██▏                             | 942 kB 69.0 MB/s eta 0:00:01\r",
      "\u001b[K     |██▎                             | 952 kB 69.0 MB/s eta 0:00:01\r",
      "\u001b[K     |██▎                             | 962 kB 69.0 MB/s eta 0:00:01\r",
      "\u001b[K     |██▎                             | 972 kB 69.0 MB/s eta 0:00:01\r",
      "\u001b[K     |██▎                             | 983 kB 69.0 MB/s eta 0:00:01\r",
      "\u001b[K     |██▎                             | 993 kB 69.0 MB/s eta 0:00:01\r",
      "\u001b[K     |██▍                             | 1.0 MB 69.0 MB/s eta 0:00:01\r",
      "\u001b[K     |██▍                             | 1.0 MB 69.0 MB/s eta 0:00:01\r",
      "\u001b[K     |██▍                             | 1.0 MB 69.0 MB/s eta 0:00:01\r",
      "\u001b[K     |██▍                             | 1.0 MB 69.0 MB/s eta 0:00:01\r",
      "\u001b[K     |██▍                             | 1.0 MB 69.0 MB/s eta 0:00:01\r",
      "\u001b[K     |██▌                             | 1.1 MB 69.0 MB/s eta 0:00:01\r",
      "\u001b[K     |██▌                             | 1.1 MB 69.0 MB/s eta 0:00:01\r",
      "\u001b[K     |██▌                             | 1.1 MB 69.0 MB/s eta 0:00:01\r",
      "\u001b[K     |██▌                             | 1.1 MB 69.0 MB/s eta 0:00:01\r",
      "\u001b[K     |██▋                             | 1.1 MB 69.0 MB/s eta 0:00:01\r",
      "\u001b[K     |██▋                             | 1.1 MB 69.0 MB/s eta 0:00:01\r",
      "\u001b[K     |██▋                             | 1.1 MB 69.0 MB/s eta 0:00:01\r",
      "\u001b[K     |██▋                             | 1.1 MB 69.0 MB/s eta 0:00:01\r",
      "\u001b[K     |██▋                             | 1.1 MB 69.0 MB/s eta 0:00:01\r",
      "\u001b[K     |██▊                             | 1.1 MB 69.0 MB/s eta 0:00:01\r",
      "\u001b[K     |██▊                             | 1.2 MB 69.0 MB/s eta 0:00:01\r",
      "\u001b[K     |██▊                             | 1.2 MB 69.0 MB/s eta 0:00:01\r",
      "\u001b[K     |██▊                             | 1.2 MB 69.0 MB/s eta 0:00:01\r",
      "\u001b[K     |██▊                             | 1.2 MB 69.0 MB/s eta 0:00:01\r",
      "\u001b[K     |██▉                             | 1.2 MB 69.0 MB/s eta 0:00:01\r",
      "\u001b[K     |██▉                             | 1.2 MB 69.0 MB/s eta 0:00:01\r",
      "\u001b[K     |██▉                             | 1.2 MB 69.0 MB/s eta 0:00:01\r",
      "\u001b[K     |██▉                             | 1.2 MB 69.0 MB/s eta 0:00:01\r",
      "\u001b[K     |███                             | 1.2 MB 69.0 MB/s eta 0:00:01\r",
      "\u001b[K     |███                             | 1.2 MB 69.0 MB/s eta 0:00:01\r",
      "\u001b[K     |███                             | 1.3 MB 69.0 MB/s eta 0:00:01\r",
      "\u001b[K     |███                             | 1.3 MB 69.0 MB/s eta 0:00:01\r",
      "\u001b[K     |███                             | 1.3 MB 69.0 MB/s eta 0:00:01\r",
      "\u001b[K     |███                             | 1.3 MB 69.0 MB/s eta 0:00:01\r",
      "\u001b[K     |███                             | 1.3 MB 69.0 MB/s eta 0:00:01\r",
      "\u001b[K     |███                             | 1.3 MB 69.0 MB/s eta 0:00:01\r",
      "\u001b[K     |███                             | 1.3 MB 69.0 MB/s eta 0:00:01\r",
      "\u001b[K     |███                             | 1.3 MB 69.0 MB/s eta 0:00:01\r",
      "\u001b[K     |███▏                            | 1.3 MB 69.0 MB/s eta 0:00:01\r",
      "\u001b[K     |███▏                            | 1.4 MB 69.0 MB/s eta 0:00:01\r",
      "\u001b[K     |███▏                            | 1.4 MB 69.0 MB/s eta 0:00:01\r",
      "\u001b[K     |███▏                            | 1.4 MB 69.0 MB/s eta 0:00:01\r",
      "\u001b[K     |███▎                            | 1.4 MB 69.0 MB/s eta 0:00:01\r",
      "\u001b[K     |███▎                            | 1.4 MB 69.0 MB/s eta 0:00:01\r",
      "\u001b[K     |███▎                            | 1.4 MB 69.0 MB/s eta 0:00:01\r",
      "\u001b[K     |███▎                            | 1.4 MB 69.0 MB/s eta 0:00:01\r",
      "\u001b[K     |███▎                            | 1.4 MB 69.0 MB/s eta 0:00:01\r",
      "\u001b[K     |███▍                            | 1.4 MB 69.0 MB/s eta 0:00:01\r",
      "\u001b[K     |███▍                            | 1.4 MB 69.0 MB/s eta 0:00:01\r",
      "\u001b[K     |███▍                            | 1.5 MB 69.0 MB/s eta 0:00:01\r",
      "\u001b[K     |███▍                            | 1.5 MB 69.0 MB/s eta 0:00:01\r",
      "\u001b[K     |███▍                            | 1.5 MB 69.0 MB/s eta 0:00:01\r",
      "\u001b[K     |███▌                            | 1.5 MB 69.0 MB/s eta 0:00:01\r",
      "\u001b[K     |███▌                            | 1.5 MB 69.0 MB/s eta 0:00:01\r",
      "\u001b[K     |███▌                            | 1.5 MB 69.0 MB/s eta 0:00:01\r",
      "\u001b[K     |███▌                            | 1.5 MB 69.0 MB/s eta 0:00:01\r",
      "\u001b[K     |███▋                            | 1.5 MB 69.0 MB/s eta 0:00:01\r",
      "\u001b[K     |███▋                            | 1.5 MB 69.0 MB/s eta 0:00:01\r",
      "\u001b[K     |███▋                            | 1.5 MB 69.0 MB/s eta 0:00:01\r",
      "\u001b[K     |███▋                            | 1.6 MB 69.0 MB/s eta 0:00:01\r",
      "\u001b[K     |███▋                            | 1.6 MB 69.0 MB/s eta 0:00:01\r",
      "\u001b[K     |███▊                            | 1.6 MB 69.0 MB/s eta 0:00:01\r",
      "\u001b[K     |███▊                            | 1.6 MB 69.0 MB/s eta 0:00:01\r",
      "\u001b[K     |███▊                            | 1.6 MB 69.0 MB/s eta 0:00:01\r",
      "\u001b[K     |███▊                            | 1.6 MB 69.0 MB/s eta 0:00:01\r",
      "\u001b[K     |███▉                            | 1.6 MB 69.0 MB/s eta 0:00:01\r",
      "\u001b[K     |███▉                            | 1.6 MB 69.0 MB/s eta 0:00:01\r",
      "\u001b[K     |███▉                            | 1.6 MB 69.0 MB/s eta 0:00:01\r",
      "\u001b[K     |███▉                            | 1.6 MB 69.0 MB/s eta 0:00:01\r",
      "\u001b[K     |███▉                            | 1.7 MB 69.0 MB/s eta 0:00:01\r",
      "\u001b[K     |████                            | 1.7 MB 69.0 MB/s eta 0:00:01\r",
      "\u001b[K     |████                            | 1.7 MB 69.0 MB/s eta 0:00:01\r",
      "\u001b[K     |████                            | 1.7 MB 69.0 MB/s eta 0:00:01\r",
      "\u001b[K     |████                            | 1.7 MB 69.0 MB/s eta 0:00:01\r",
      "\u001b[K     |████                            | 1.7 MB 69.0 MB/s eta 0:00:01\r",
      "\u001b[K     |████                            | 1.7 MB 69.0 MB/s eta 0:00:01\r",
      "\u001b[K     |████                            | 1.7 MB 69.0 MB/s eta 0:00:01\r",
      "\u001b[K     |████                            | 1.7 MB 69.0 MB/s eta 0:00:01\r",
      "\u001b[K     |████                            | 1.8 MB 69.0 MB/s eta 0:00:01\r",
      "\u001b[K     |████▏                           | 1.8 MB 69.0 MB/s eta 0:00:01\r",
      "\u001b[K     |████▏                           | 1.8 MB 69.0 MB/s eta 0:00:01\r",
      "\u001b[K     |████▏                           | 1.8 MB 69.0 MB/s eta 0:00:01\r",
      "\u001b[K     |████▏                           | 1.8 MB 69.0 MB/s eta 0:00:01\r",
      "\u001b[K     |████▏                           | 1.8 MB 69.0 MB/s eta 0:00:01\r",
      "\u001b[K     |████▎                           | 1.8 MB 69.0 MB/s eta 0:00:01\r",
      "\u001b[K     |████▎                           | 1.8 MB 69.0 MB/s eta 0:00:01\r",
      "\u001b[K     |████▎                           | 1.8 MB 69.0 MB/s eta 0:00:01\r",
      "\u001b[K     |████▎                           | 1.8 MB 69.0 MB/s eta 0:00:01\r",
      "\u001b[K     |████▎                           | 1.9 MB 69.0 MB/s eta 0:00:01\r",
      "\u001b[K     |████▍                           | 1.9 MB 69.0 MB/s eta 0:00:01\r",
      "\u001b[K     |████▍                           | 1.9 MB 69.0 MB/s eta 0:00:01\r",
      "\u001b[K     |████▍                           | 1.9 MB 69.0 MB/s eta 0:00:01\r",
      "\u001b[K     |████▍                           | 1.9 MB 69.0 MB/s eta 0:00:01\r",
      "\u001b[K     |████▌                           | 1.9 MB 69.0 MB/s eta 0:00:01\r",
      "\u001b[K     |████▌                           | 1.9 MB 69.0 MB/s eta 0:00:01\r",
      "\u001b[K     |████▌                           | 1.9 MB 69.0 MB/s eta 0:00:01\r",
      "\u001b[K     |████▌                           | 1.9 MB 69.0 MB/s eta 0:00:01\r",
      "\u001b[K     |████▌                           | 1.9 MB 69.0 MB/s eta 0:00:01\r",
      "\u001b[K     |████▋                           | 2.0 MB 69.0 MB/s eta 0:00:01\r",
      "\u001b[K     |████▋                           | 2.0 MB 69.0 MB/s eta 0:00:01\r",
      "\u001b[K     |████▋                           | 2.0 MB 69.0 MB/s eta 0:00:01\r",
      "\u001b[K     |████▋                           | 2.0 MB 69.0 MB/s eta 0:00:01\r",
      "\u001b[K     |████▋                           | 2.0 MB 69.0 MB/s eta 0:00:01\r",
      "\u001b[K     |████▊                           | 2.0 MB 69.0 MB/s eta 0:00:01\r",
      "\u001b[K     |████▊                           | 2.0 MB 69.0 MB/s eta 0:00:01\r",
      "\u001b[K     |████▊                           | 2.0 MB 69.0 MB/s eta 0:00:01\r",
      "\u001b[K     |████▊                           | 2.0 MB 69.0 MB/s eta 0:00:01\r",
      "\u001b[K     |████▉                           | 2.0 MB 69.0 MB/s eta 0:00:01\r",
      "\u001b[K     |████▉                           | 2.1 MB 69.0 MB/s eta 0:00:01\r",
      "\u001b[K     |████▉                           | 2.1 MB 69.0 MB/s eta 0:00:01\r",
      "\u001b[K     |████▉                           | 2.1 MB 69.0 MB/s eta 0:00:01\r",
      "\u001b[K     |████▉                           | 2.1 MB 69.0 MB/s eta 0:00:01\r",
      "\u001b[K     |█████                           | 2.1 MB 69.0 MB/s eta 0:00:01\r",
      "\u001b[K     |█████                           | 2.1 MB 69.0 MB/s eta 0:00:01\r",
      "\u001b[K     |█████                           | 2.1 MB 69.0 MB/s eta 0:00:01\r",
      "\u001b[K     |█████                           | 2.1 MB 69.0 MB/s eta 0:00:01\r",
      "\u001b[K     |█████                           | 2.1 MB 69.0 MB/s eta 0:00:01\r",
      "\u001b[K     |█████                           | 2.2 MB 69.0 MB/s eta 0:00:01\r",
      "\u001b[K     |█████                           | 2.2 MB 69.0 MB/s eta 0:00:01\r",
      "\u001b[K     |█████                           | 2.2 MB 69.0 MB/s eta 0:00:01\r",
      "\u001b[K     |█████                           | 2.2 MB 69.0 MB/s eta 0:00:01\r",
      "\u001b[K     |█████▏                          | 2.2 MB 69.0 MB/s eta 0:00:01\r",
      "\u001b[K     |█████▏                          | 2.2 MB 69.0 MB/s eta 0:00:01\r",
      "\u001b[K     |█████▏                          | 2.2 MB 69.0 MB/s eta 0:00:01\r",
      "\u001b[K     |█████▏                          | 2.2 MB 69.0 MB/s eta 0:00:01\r",
      "\u001b[K     |█████▏                          | 2.2 MB 69.0 MB/s eta 0:00:01\r",
      "\u001b[K     |█████▎                          | 2.2 MB 69.0 MB/s eta 0:00:01\r",
      "\u001b[K     |█████▎                          | 2.3 MB 69.0 MB/s eta 0:00:01\r",
      "\u001b[K     |█████▎                          | 2.3 MB 69.0 MB/s eta 0:00:01\r",
      "\u001b[K     |█████▎                          | 2.3 MB 69.0 MB/s eta 0:00:01\r",
      "\u001b[K     |█████▎                          | 2.3 MB 69.0 MB/s eta 0:00:01\r",
      "\u001b[K     |█████▍                          | 2.3 MB 69.0 MB/s eta 0:00:01\r",
      "\u001b[K     |█████▍                          | 2.3 MB 69.0 MB/s eta 0:00:01\r",
      "\u001b[K     |█████▍                          | 2.3 MB 69.0 MB/s eta 0:00:01\r",
      "\u001b[K     |█████▍                          | 2.3 MB 69.0 MB/s eta 0:00:01\r",
      "\u001b[K     |█████▌                          | 2.3 MB 69.0 MB/s eta 0:00:01\r",
      "\u001b[K     |█████▌                          | 2.3 MB 69.0 MB/s eta 0:00:01\r",
      "\u001b[K     |█████▌                          | 2.4 MB 69.0 MB/s eta 0:00:01\r",
      "\u001b[K     |█████▌                          | 2.4 MB 69.0 MB/s eta 0:00:01\r",
      "\u001b[K     |█████▌                          | 2.4 MB 69.0 MB/s eta 0:00:01\r",
      "\u001b[K     |█████▋                          | 2.4 MB 69.0 MB/s eta 0:00:01\r",
      "\u001b[K     |█████▋                          | 2.4 MB 69.0 MB/s eta 0:00:01\r",
      "\u001b[K     |█████▋                          | 2.4 MB 69.0 MB/s eta 0:00:01\r",
      "\u001b[K     |█████▋                          | 2.4 MB 69.0 MB/s eta 0:00:01\r",
      "\u001b[K     |█████▊                          | 2.4 MB 69.0 MB/s eta 0:00:01\r",
      "\u001b[K     |█████▊                          | 2.4 MB 69.0 MB/s eta 0:00:01\r",
      "\u001b[K     |█████▊                          | 2.4 MB 69.0 MB/s eta 0:00:01\r",
      "\u001b[K     |█████▊                          | 2.5 MB 69.0 MB/s eta 0:00:01\r",
      "\u001b[K     |█████▊                          | 2.5 MB 69.0 MB/s eta 0:00:01\r",
      "\u001b[K     |█████▉                          | 2.5 MB 69.0 MB/s eta 0:00:01\r",
      "\u001b[K     |█████▉                          | 2.5 MB 69.0 MB/s eta 0:00:01\r",
      "\u001b[K     |█████▉                          | 2.5 MB 69.0 MB/s eta 0:00:01\r",
      "\u001b[K     |█████▉                          | 2.5 MB 69.0 MB/s eta 0:00:01\r",
      "\u001b[K     |█████▉                          | 2.5 MB 69.0 MB/s eta 0:00:01\r",
      "\u001b[K     |██████                          | 2.5 MB 69.0 MB/s eta 0:00:01\r",
      "\u001b[K     |██████                          | 2.5 MB 69.0 MB/s eta 0:00:01\r",
      "\u001b[K     |██████                          | 2.5 MB 69.0 MB/s eta 0:00:01\r",
      "\u001b[K     |██████                          | 2.6 MB 69.0 MB/s eta 0:00:01\r",
      "\u001b[K     |██████                          | 2.6 MB 69.0 MB/s eta 0:00:01\r",
      "\u001b[K     |██████                          | 2.6 MB 69.0 MB/s eta 0:00:01\r",
      "\u001b[K     |██████                          | 2.6 MB 69.0 MB/s eta 0:00:01\r",
      "\u001b[K     |██████                          | 2.6 MB 69.0 MB/s eta 0:00:01\r",
      "\u001b[K     |██████                          | 2.6 MB 69.0 MB/s eta 0:00:01\r",
      "\u001b[K     |██████▏                         | 2.6 MB 69.0 MB/s eta 0:00:01\r",
      "\u001b[K     |██████▏                         | 2.6 MB 69.0 MB/s eta 0:00:01\r",
      "\u001b[K     |██████▏                         | 2.6 MB 69.0 MB/s eta 0:00:01\r",
      "\u001b[K     |██████▏                         | 2.7 MB 69.0 MB/s eta 0:00:01\r",
      "\u001b[K     |██████▏                         | 2.7 MB 69.0 MB/s eta 0:00:01\r",
      "\u001b[K     |██████▎                         | 2.7 MB 69.0 MB/s eta 0:00:01\r",
      "\u001b[K     |██████▎                         | 2.7 MB 69.0 MB/s eta 0:00:01\r",
      "\u001b[K     |██████▎                         | 2.7 MB 69.0 MB/s eta 0:00:01\r",
      "\u001b[K     |██████▎                         | 2.7 MB 69.0 MB/s eta 0:00:01\r",
      "\u001b[K     |██████▍                         | 2.7 MB 69.0 MB/s eta 0:00:01\r",
      "\u001b[K     |██████▍                         | 2.7 MB 69.0 MB/s eta 0:00:01\r",
      "\u001b[K     |██████▍                         | 2.7 MB 69.0 MB/s eta 0:00:01\r",
      "\u001b[K     |██████▍                         | 2.7 MB 69.0 MB/s eta 0:00:01\r",
      "\u001b[K     |██████▍                         | 2.8 MB 69.0 MB/s eta 0:00:01\r",
      "\u001b[K     |██████▌                         | 2.8 MB 69.0 MB/s eta 0:00:01\r",
      "\u001b[K     |██████▌                         | 2.8 MB 69.0 MB/s eta 0:00:01\r",
      "\u001b[K     |██████▌                         | 2.8 MB 69.0 MB/s eta 0:00:01\r",
      "\u001b[K     |██████▌                         | 2.8 MB 69.0 MB/s eta 0:00:01\r",
      "\u001b[K     |██████▌                         | 2.8 MB 69.0 MB/s eta 0:00:01\r",
      "\u001b[K     |██████▋                         | 2.8 MB 69.0 MB/s eta 0:00:01\r",
      "\u001b[K     |██████▋                         | 2.8 MB 69.0 MB/s eta 0:00:01\r",
      "\u001b[K     |██████▋                         | 2.8 MB 69.0 MB/s eta 0:00:01\r",
      "\u001b[K     |██████▋                         | 2.8 MB 69.0 MB/s eta 0:00:01\r",
      "\u001b[K     |██████▊                         | 2.9 MB 69.0 MB/s eta 0:00:01\r",
      "\u001b[K     |██████▊                         | 2.9 MB 69.0 MB/s eta 0:00:01\r",
      "\u001b[K     |██████▊                         | 2.9 MB 69.0 MB/s eta 0:00:01\r",
      "\u001b[K     |██████▊                         | 2.9 MB 69.0 MB/s eta 0:00:01\r",
      "\u001b[K     |██████▊                         | 2.9 MB 69.0 MB/s eta 0:00:01\r",
      "\u001b[K     |██████▉                         | 2.9 MB 69.0 MB/s eta 0:00:01\r",
      "\u001b[K     |██████▉                         | 2.9 MB 69.0 MB/s eta 0:00:01\r",
      "\u001b[K     |██████▉                         | 2.9 MB 69.0 MB/s eta 0:00:01\r",
      "\u001b[K     |██████▉                         | 2.9 MB 69.0 MB/s eta 0:00:01\r",
      "\u001b[K     |██████▉                         | 2.9 MB 69.0 MB/s eta 0:00:01\r",
      "\u001b[K     |███████                         | 3.0 MB 69.0 MB/s eta 0:00:01\r",
      "\u001b[K     |███████                         | 3.0 MB 69.0 MB/s eta 0:00:01\r",
      "\u001b[K     |███████                         | 3.0 MB 69.0 MB/s eta 0:00:01\r",
      "\u001b[K     |███████                         | 3.0 MB 69.0 MB/s eta 0:00:01\r",
      "\u001b[K     |███████                         | 3.0 MB 69.0 MB/s eta 0:00:01\r",
      "\u001b[K     |███████                         | 3.0 MB 69.0 MB/s eta 0:00:01\r",
      "\u001b[K     |███████                         | 3.0 MB 69.0 MB/s eta 0:00:01\r",
      "\u001b[K     |███████                         | 3.0 MB 69.0 MB/s eta 0:00:01\r",
      "\u001b[K     |███████                         | 3.0 MB 69.0 MB/s eta 0:00:01\r",
      "\u001b[K     |███████▏                        | 3.1 MB 69.0 MB/s eta 0:00:01\r",
      "\u001b[K     |███████▏                        | 3.1 MB 69.0 MB/s eta 0:00:01\r",
      "\u001b[K     |███████▏                        | 3.1 MB 69.0 MB/s eta 0:00:01\r",
      "\u001b[K     |███████▏                        | 3.1 MB 69.0 MB/s eta 0:00:01\r",
      "\u001b[K     |███████▏                        | 3.1 MB 69.0 MB/s eta 0:00:01\r",
      "\u001b[K     |███████▎                        | 3.1 MB 69.0 MB/s eta 0:00:01\r",
      "\u001b[K     |███████▎                        | 3.1 MB 69.0 MB/s eta 0:00:01\r",
      "\u001b[K     |███████▎                        | 3.1 MB 69.0 MB/s eta 0:00:01\r",
      "\u001b[K     |███████▎                        | 3.1 MB 69.0 MB/s eta 0:00:01\r",
      "\u001b[K     |███████▍                        | 3.1 MB 69.0 MB/s eta 0:00:01\r",
      "\u001b[K     |███████▍                        | 3.2 MB 69.0 MB/s eta 0:00:01\r",
      "\u001b[K     |███████▍                        | 3.2 MB 69.0 MB/s eta 0:00:01\r",
      "\u001b[K     |███████▍                        | 3.2 MB 69.0 MB/s eta 0:00:01\r",
      "\u001b[K     |███████▍                        | 3.2 MB 69.0 MB/s eta 0:00:01\r",
      "\u001b[K     |███████▌                        | 3.2 MB 69.0 MB/s eta 0:00:01\r",
      "\u001b[K     |███████▌                        | 3.2 MB 69.0 MB/s eta 0:00:01\r",
      "\u001b[K     |███████▌                        | 3.2 MB 69.0 MB/s eta 0:00:01\r",
      "\u001b[K     |███████▌                        | 3.2 MB 69.0 MB/s eta 0:00:01\r",
      "\u001b[K     |███████▋                        | 3.2 MB 69.0 MB/s eta 0:00:01\r",
      "\u001b[K     |███████▋                        | 3.2 MB 69.0 MB/s eta 0:00:01\r",
      "\u001b[K     |███████▋                        | 3.3 MB 69.0 MB/s eta 0:00:01\r",
      "\u001b[K     |███████▋                        | 3.3 MB 69.0 MB/s eta 0:00:01\r",
      "\u001b[K     |███████▋                        | 3.3 MB 69.0 MB/s eta 0:00:01\r",
      "\u001b[K     |███████▊                        | 3.3 MB 69.0 MB/s eta 0:00:01\r",
      "\u001b[K     |███████▊                        | 3.3 MB 69.0 MB/s eta 0:00:01\r",
      "\u001b[K     |███████▊                        | 3.3 MB 69.0 MB/s eta 0:00:01\r",
      "\u001b[K     |███████▊                        | 3.3 MB 69.0 MB/s eta 0:00:01\r",
      "\u001b[K     |███████▊                        | 3.3 MB 69.0 MB/s eta 0:00:01\r",
      "\u001b[K     |███████▉                        | 3.3 MB 69.0 MB/s eta 0:00:01\r",
      "\u001b[K     |███████▉                        | 3.3 MB 69.0 MB/s eta 0:00:01\r",
      "\u001b[K     |███████▉                        | 3.4 MB 69.0 MB/s eta 0:00:01\r",
      "\u001b[K     |███████▉                        | 3.4 MB 69.0 MB/s eta 0:00:01\r",
      "\u001b[K     |████████                        | 3.4 MB 69.0 MB/s eta 0:00:01\r",
      "\u001b[K     |████████                        | 3.4 MB 69.0 MB/s eta 0:00:01\r",
      "\u001b[K     |████████                        | 3.4 MB 69.0 MB/s eta 0:00:01\r",
      "\u001b[K     |████████                        | 3.4 MB 69.0 MB/s eta 0:00:01\r",
      "\u001b[K     |████████                        | 3.4 MB 69.0 MB/s eta 0:00:01\r",
      "\u001b[K     |████████                        | 3.4 MB 69.0 MB/s eta 0:00:01\r",
      "\u001b[K     |████████                        | 3.4 MB 69.0 MB/s eta 0:00:01\r",
      "\u001b[K     |████████                        | 3.5 MB 69.0 MB/s eta 0:00:01\r",
      "\u001b[K     |████████                        | 3.5 MB 69.0 MB/s eta 0:00:01\r",
      "\u001b[K     |████████                        | 3.5 MB 69.0 MB/s eta 0:00:01\r",
      "\u001b[K     |████████▏                       | 3.5 MB 69.0 MB/s eta 0:00:01\r",
      "\u001b[K     |████████▏                       | 3.5 MB 69.0 MB/s eta 0:00:01\r",
      "\u001b[K     |████████▏                       | 3.5 MB 69.0 MB/s eta 0:00:01\r",
      "\u001b[K     |████████▏                       | 3.5 MB 69.0 MB/s eta 0:00:01\r",
      "\u001b[K     |████████▎                       | 3.5 MB 69.0 MB/s eta 0:00:01\r",
      "\u001b[K     |████████▎                       | 3.5 MB 69.0 MB/s eta 0:00:01\r",
      "\u001b[K     |████████▎                       | 3.5 MB 69.0 MB/s eta 0:00:01\r",
      "\u001b[K     |████████▎                       | 3.6 MB 69.0 MB/s eta 0:00:01\r",
      "\u001b[K     |████████▎                       | 3.6 MB 69.0 MB/s eta 0:00:01\r",
      "\u001b[K     |████████▍                       | 3.6 MB 69.0 MB/s eta 0:00:01\r",
      "\u001b[K     |████████▍                       | 3.6 MB 69.0 MB/s eta 0:00:01\r",
      "\u001b[K     |████████▍                       | 3.6 MB 69.0 MB/s eta 0:00:01\r",
      "\u001b[K     |████████▍                       | 3.6 MB 69.0 MB/s eta 0:00:01\r",
      "\u001b[K     |████████▍                       | 3.6 MB 69.0 MB/s eta 0:00:01\r",
      "\u001b[K     |████████▌                       | 3.6 MB 69.0 MB/s eta 0:00:01\r",
      "\u001b[K     |████████▌                       | 3.6 MB 69.0 MB/s eta 0:00:01\r",
      "\u001b[K     |████████▌                       | 3.6 MB 69.0 MB/s eta 0:00:01\r",
      "\u001b[K     |████████▌                       | 3.7 MB 69.0 MB/s eta 0:00:01\r",
      "\u001b[K     |████████▋                       | 3.7 MB 69.0 MB/s eta 0:00:01\r",
      "\u001b[K     |████████▋                       | 3.7 MB 69.0 MB/s eta 0:00:01\r",
      "\u001b[K     |████████▋                       | 3.7 MB 69.0 MB/s eta 0:00:01\r",
      "\u001b[K     |████████▋                       | 3.7 MB 69.0 MB/s eta 0:00:01\r",
      "\u001b[K     |████████▋                       | 3.7 MB 69.0 MB/s eta 0:00:01\r",
      "\u001b[K     |████████▊                       | 3.7 MB 69.0 MB/s eta 0:00:01\r",
      "\u001b[K     |████████▊                       | 3.7 MB 69.0 MB/s eta 0:00:01\r",
      "\u001b[K     |████████▊                       | 3.7 MB 69.0 MB/s eta 0:00:01\r",
      "\u001b[K     |████████▊                       | 3.7 MB 69.0 MB/s eta 0:00:01\r",
      "\u001b[K     |████████▊                       | 3.8 MB 69.0 MB/s eta 0:00:01\r",
      "\u001b[K     |████████▉                       | 3.8 MB 69.0 MB/s eta 0:00:01\r",
      "\u001b[K     |████████▉                       | 3.8 MB 69.0 MB/s eta 0:00:01\r",
      "\u001b[K     |████████▉                       | 3.8 MB 69.0 MB/s eta 0:00:01\r",
      "\u001b[K     |████████▉                       | 3.8 MB 69.0 MB/s eta 0:00:01\r",
      "\u001b[K     |█████████                       | 3.8 MB 69.0 MB/s eta 0:00:01\r",
      "\u001b[K     |█████████                       | 3.8 MB 69.0 MB/s eta 0:00:01\r",
      "\u001b[K     |█████████                       | 3.8 MB 69.0 MB/s eta 0:00:01\r",
      "\u001b[K     |█████████                       | 3.8 MB 69.0 MB/s eta 0:00:01\r",
      "\u001b[K     |█████████                       | 3.9 MB 69.0 MB/s eta 0:00:01\r",
      "\u001b[K     |█████████                       | 3.9 MB 69.0 MB/s eta 0:00:01\r",
      "\u001b[K     |█████████                       | 3.9 MB 69.0 MB/s eta 0:00:01\r",
      "\u001b[K     |█████████                       | 3.9 MB 69.0 MB/s eta 0:00:01\r",
      "\u001b[K     |█████████                       | 3.9 MB 69.0 MB/s eta 0:00:01\r",
      "\u001b[K     |█████████▏                      | 3.9 MB 69.0 MB/s eta 0:00:01\r",
      "\u001b[K     |█████████▏                      | 3.9 MB 69.0 MB/s eta 0:00:01\r",
      "\u001b[K     |█████████▏                      | 3.9 MB 69.0 MB/s eta 0:00:01\r",
      "\u001b[K     |█████████▏                      | 3.9 MB 69.0 MB/s eta 0:00:01\r",
      "\u001b[K     |█████████▏                      | 3.9 MB 69.0 MB/s eta 0:00:01\r",
      "\u001b[K     |█████████▎                      | 4.0 MB 69.0 MB/s eta 0:00:01\r",
      "\u001b[K     |█████████▎                      | 4.0 MB 69.0 MB/s eta 0:00:01\r",
      "\u001b[K     |█████████▎                      | 4.0 MB 69.0 MB/s eta 0:00:01\r",
      "\u001b[K     |█████████▎                      | 4.0 MB 69.0 MB/s eta 0:00:01\r",
      "\u001b[K     |█████████▎                      | 4.0 MB 69.0 MB/s eta 0:00:01\r",
      "\u001b[K     |█████████▍                      | 4.0 MB 69.0 MB/s eta 0:00:01\r",
      "\u001b[K     |█████████▍                      | 4.0 MB 69.0 MB/s eta 0:00:01\r",
      "\u001b[K     |█████████▍                      | 4.0 MB 69.0 MB/s eta 0:00:01\r",
      "\u001b[K     |█████████▍                      | 4.0 MB 69.0 MB/s eta 0:00:01\r",
      "\u001b[K     |█████████▌                      | 4.0 MB 69.0 MB/s eta 0:00:01\r",
      "\u001b[K     |█████████▌                      | 4.1 MB 69.0 MB/s eta 0:00:01\r",
      "\u001b[K     |█████████▌                      | 4.1 MB 69.0 MB/s eta 0:00:01\r",
      "\u001b[K     |█████████▌                      | 4.1 MB 69.0 MB/s eta 0:00:01\r",
      "\u001b[K     |█████████▌                      | 4.1 MB 69.0 MB/s eta 0:00:01\r",
      "\u001b[K     |█████████▋                      | 4.1 MB 69.0 MB/s eta 0:00:01\r",
      "\u001b[K     |█████████▋                      | 4.1 MB 69.0 MB/s eta 0:00:01\r",
      "\u001b[K     |█████████▋                      | 4.1 MB 69.0 MB/s eta 0:00:01\r",
      "\u001b[K     |█████████▋                      | 4.1 MB 69.0 MB/s eta 0:00:01\r",
      "\u001b[K     |█████████▋                      | 4.1 MB 69.0 MB/s eta 0:00:01\r",
      "\u001b[K     |█████████▊                      | 4.1 MB 69.0 MB/s eta 0:00:01\r",
      "\u001b[K     |█████████▊                      | 4.2 MB 69.0 MB/s eta 0:00:01\r",
      "\u001b[K     |█████████▊                      | 4.2 MB 69.0 MB/s eta 0:00:01\r",
      "\u001b[K     |█████████▊                      | 4.2 MB 69.0 MB/s eta 0:00:01\r",
      "\u001b[K     |█████████▉                      | 4.2 MB 69.0 MB/s eta 0:00:01\r",
      "\u001b[K     |█████████▉                      | 4.2 MB 69.0 MB/s eta 0:00:01\r",
      "\u001b[K     |█████████▉                      | 4.2 MB 69.0 MB/s eta 0:00:01\r",
      "\u001b[K     |█████████▉                      | 4.2 MB 69.0 MB/s eta 0:00:01\r",
      "\u001b[K     |█████████▉                      | 4.2 MB 69.0 MB/s eta 0:00:01\r",
      "\u001b[K     |██████████                      | 4.2 MB 69.0 MB/s eta 0:00:01\r",
      "\u001b[K     |██████████                      | 4.2 MB 69.0 MB/s eta 0:00:01\r",
      "\u001b[K     |██████████                      | 4.3 MB 69.0 MB/s eta 0:00:01\r",
      "\u001b[K     |██████████                      | 4.3 MB 69.0 MB/s eta 0:00:01\r",
      "\u001b[K     |██████████                      | 4.3 MB 69.0 MB/s eta 0:00:01\r",
      "\u001b[K     |██████████                      | 4.3 MB 69.0 MB/s eta 0:00:01\r",
      "\u001b[K     |██████████                      | 4.3 MB 69.0 MB/s eta 0:00:01\r",
      "\u001b[K     |██████████                      | 4.3 MB 69.0 MB/s eta 0:00:01\r",
      "\u001b[K     |██████████                      | 4.3 MB 69.0 MB/s eta 0:00:01\r",
      "\u001b[K     |██████████▏                     | 4.3 MB 69.0 MB/s eta 0:00:01\r",
      "\u001b[K     |██████████▏                     | 4.3 MB 69.0 MB/s eta 0:00:01\r",
      "\u001b[K     |██████████▏                     | 4.4 MB 69.0 MB/s eta 0:00:01\r",
      "\u001b[K     |██████████▏                     | 4.4 MB 69.0 MB/s eta 0:00:01\r",
      "\u001b[K     |██████████▏                     | 4.4 MB 69.0 MB/s eta 0:00:01\r",
      "\u001b[K     |██████████▎                     | 4.4 MB 69.0 MB/s eta 0:00:01\r",
      "\u001b[K     |██████████▎                     | 4.4 MB 69.0 MB/s eta 0:00:01\r",
      "\u001b[K     |██████████▎                     | 4.4 MB 69.0 MB/s eta 0:00:01\r",
      "\u001b[K     |██████████▎                     | 4.4 MB 69.0 MB/s eta 0:00:01\r",
      "\u001b[K     |██████████▎                     | 4.4 MB 69.0 MB/s eta 0:00:01\r",
      "\u001b[K     |██████████▍                     | 4.4 MB 69.0 MB/s eta 0:00:01\r",
      "\u001b[K     |██████████▍                     | 4.4 MB 69.0 MB/s eta 0:00:01\r",
      "\u001b[K     |██████████▍                     | 4.5 MB 69.0 MB/s eta 0:00:01\r",
      "\u001b[K     |██████████▍                     | 4.5 MB 69.0 MB/s eta 0:00:01\r",
      "\u001b[K     |██████████▌                     | 4.5 MB 69.0 MB/s eta 0:00:01\r",
      "\u001b[K     |██████████▌                     | 4.5 MB 69.0 MB/s eta 0:00:01\r",
      "\u001b[K     |██████████▌                     | 4.5 MB 69.0 MB/s eta 0:00:01\r",
      "\u001b[K     |██████████▌                     | 4.5 MB 69.0 MB/s eta 0:00:01\r",
      "\u001b[K     |██████████▌                     | 4.5 MB 69.0 MB/s eta 0:00:01\r",
      "\u001b[K     |██████████▋                     | 4.5 MB 69.0 MB/s eta 0:00:01\r",
      "\u001b[K     |██████████▋                     | 4.5 MB 69.0 MB/s eta 0:00:01\r",
      "\u001b[K     |██████████▋                     | 4.5 MB 69.0 MB/s eta 0:00:01\r",
      "\u001b[K     |██████████▋                     | 4.6 MB 69.0 MB/s eta 0:00:01\r",
      "\u001b[K     |██████████▋                     | 4.6 MB 69.0 MB/s eta 0:00:01\r",
      "\u001b[K     |██████████▊                     | 4.6 MB 69.0 MB/s eta 0:00:01\r",
      "\u001b[K     |██████████▊                     | 4.6 MB 69.0 MB/s eta 0:00:01\r",
      "\u001b[K     |██████████▊                     | 4.6 MB 69.0 MB/s eta 0:00:01\r",
      "\u001b[K     |██████████▊                     | 4.6 MB 69.0 MB/s eta 0:00:01\r",
      "\u001b[K     |██████████▉                     | 4.6 MB 69.0 MB/s eta 0:00:01\r",
      "\u001b[K     |██████████▉                     | 4.6 MB 69.0 MB/s eta 0:00:01\r",
      "\u001b[K     |██████████▉                     | 4.6 MB 69.0 MB/s eta 0:00:01\r",
      "\u001b[K     |██████████▉                     | 4.6 MB 69.0 MB/s eta 0:00:01\r",
      "\u001b[K     |██████████▉                     | 4.7 MB 69.0 MB/s eta 0:00:01\r",
      "\u001b[K     |███████████                     | 4.7 MB 69.0 MB/s eta 0:00:01\r",
      "\u001b[K     |███████████                     | 4.7 MB 69.0 MB/s eta 0:00:01\r",
      "\u001b[K     |███████████                     | 4.7 MB 69.0 MB/s eta 0:00:01\r",
      "\u001b[K     |███████████                     | 4.7 MB 69.0 MB/s eta 0:00:01\r",
      "\u001b[K     |███████████                     | 4.7 MB 69.0 MB/s eta 0:00:01\r",
      "\u001b[K     |███████████                     | 4.7 MB 69.0 MB/s eta 0:00:01\r",
      "\u001b[K     |███████████                     | 4.7 MB 69.0 MB/s eta 0:00:01\r",
      "\u001b[K     |███████████                     | 4.7 MB 69.0 MB/s eta 0:00:01\r",
      "\u001b[K     |███████████                     | 4.8 MB 69.0 MB/s eta 0:00:01\r",
      "\u001b[K     |███████████▏                    | 4.8 MB 69.0 MB/s eta 0:00:01\r",
      "\u001b[K     |███████████▏                    | 4.8 MB 69.0 MB/s eta 0:00:01\r",
      "\u001b[K     |███████████▏                    | 4.8 MB 69.0 MB/s eta 0:00:01\r",
      "\u001b[K     |███████████▏                    | 4.8 MB 69.0 MB/s eta 0:00:01\r",
      "\u001b[K     |███████████▏                    | 4.8 MB 69.0 MB/s eta 0:00:01\r",
      "\u001b[K     |███████████▎                    | 4.8 MB 69.0 MB/s eta 0:00:01\r",
      "\u001b[K     |███████████▎                    | 4.8 MB 69.0 MB/s eta 0:00:01\r",
      "\u001b[K     |███████████▎                    | 4.8 MB 69.0 MB/s eta 0:00:01\r",
      "\u001b[K     |███████████▎                    | 4.8 MB 69.0 MB/s eta 0:00:01\r",
      "\u001b[K     |███████████▍                    | 4.9 MB 69.0 MB/s eta 0:00:01\r",
      "\u001b[K     |███████████▍                    | 4.9 MB 69.0 MB/s eta 0:00:01\r",
      "\u001b[K     |███████████▍                    | 4.9 MB 69.0 MB/s eta 0:00:01\r",
      "\u001b[K     |███████████▍                    | 4.9 MB 69.0 MB/s eta 0:00:01"
     ]
    },
    {
     "name": "stdout",
     "output_type": "stream",
     "text": [
      "\r",
      "\u001b[K     |███████████▍                    | 4.9 MB 69.0 MB/s eta 0:00:01\r",
      "\u001b[K     |███████████▌                    | 4.9 MB 69.0 MB/s eta 0:00:01\r",
      "\u001b[K     |███████████▌                    | 4.9 MB 69.0 MB/s eta 0:00:01\r",
      "\u001b[K     |███████████▌                    | 4.9 MB 69.0 MB/s eta 0:00:01\r",
      "\u001b[K     |███████████▌                    | 4.9 MB 69.0 MB/s eta 0:00:01\r",
      "\u001b[K     |███████████▌                    | 4.9 MB 69.0 MB/s eta 0:00:01\r",
      "\u001b[K     |███████████▋                    | 5.0 MB 69.0 MB/s eta 0:00:01\r",
      "\u001b[K     |███████████▋                    | 5.0 MB 69.0 MB/s eta 0:00:01\r",
      "\u001b[K     |███████████▋                    | 5.0 MB 69.0 MB/s eta 0:00:01\r",
      "\u001b[K     |███████████▋                    | 5.0 MB 69.0 MB/s eta 0:00:01\r",
      "\u001b[K     |███████████▊                    | 5.0 MB 69.0 MB/s eta 0:00:01\r",
      "\u001b[K     |███████████▊                    | 5.0 MB 69.0 MB/s eta 0:00:01\r",
      "\u001b[K     |███████████▊                    | 5.0 MB 69.0 MB/s eta 0:00:01\r",
      "\u001b[K     |███████████▊                    | 5.0 MB 69.0 MB/s eta 0:00:01\r",
      "\u001b[K     |███████████▊                    | 5.0 MB 69.0 MB/s eta 0:00:01\r",
      "\u001b[K     |███████████▉                    | 5.0 MB 69.0 MB/s eta 0:00:01\r",
      "\u001b[K     |███████████▉                    | 5.1 MB 69.0 MB/s eta 0:00:01\r",
      "\u001b[K     |███████████▉                    | 5.1 MB 69.0 MB/s eta 0:00:01\r",
      "\u001b[K     |███████████▉                    | 5.1 MB 69.0 MB/s eta 0:00:01\r",
      "\u001b[K     |███████████▉                    | 5.1 MB 69.0 MB/s eta 0:00:01\r",
      "\u001b[K     |████████████                    | 5.1 MB 69.0 MB/s eta 0:00:01\r",
      "\u001b[K     |████████████                    | 5.1 MB 69.0 MB/s eta 0:00:01\r",
      "\u001b[K     |████████████                    | 5.1 MB 69.0 MB/s eta 0:00:01\r",
      "\u001b[K     |████████████                    | 5.1 MB 69.0 MB/s eta 0:00:01\r",
      "\u001b[K     |████████████                    | 5.1 MB 69.0 MB/s eta 0:00:01\r",
      "\u001b[K     |████████████                    | 5.2 MB 69.0 MB/s eta 0:00:01\r",
      "\u001b[K     |████████████                    | 5.2 MB 69.0 MB/s eta 0:00:01\r",
      "\u001b[K     |████████████                    | 5.2 MB 69.0 MB/s eta 0:00:01\r",
      "\u001b[K     |████████████                    | 5.2 MB 69.0 MB/s eta 0:00:01\r",
      "\u001b[K     |████████████▏                   | 5.2 MB 69.0 MB/s eta 0:00:01\r",
      "\u001b[K     |████████████▏                   | 5.2 MB 69.0 MB/s eta 0:00:01\r",
      "\u001b[K     |████████████▏                   | 5.2 MB 69.0 MB/s eta 0:00:01\r",
      "\u001b[K     |████████████▏                   | 5.2 MB 69.0 MB/s eta 0:00:01\r",
      "\u001b[K     |████████████▏                   | 5.2 MB 69.0 MB/s eta 0:00:01\r",
      "\u001b[K     |████████████▎                   | 5.2 MB 69.0 MB/s eta 0:00:01\r",
      "\u001b[K     |████████████▎                   | 5.3 MB 69.0 MB/s eta 0:00:01\r",
      "\u001b[K     |████████████▎                   | 5.3 MB 69.0 MB/s eta 0:00:01\r",
      "\u001b[K     |████████████▎                   | 5.3 MB 69.0 MB/s eta 0:00:01\r",
      "\u001b[K     |████████████▍                   | 5.3 MB 69.0 MB/s eta 0:00:01\r",
      "\u001b[K     |████████████▍                   | 5.3 MB 69.0 MB/s eta 0:00:01\r",
      "\u001b[K     |████████████▍                   | 5.3 MB 69.0 MB/s eta 0:00:01\r",
      "\u001b[K     |████████████▍                   | 5.3 MB 69.0 MB/s eta 0:00:01\r",
      "\u001b[K     |████████████▍                   | 5.3 MB 69.0 MB/s eta 0:00:01\r",
      "\u001b[K     |████████████▌                   | 5.3 MB 69.0 MB/s eta 0:00:01\r",
      "\u001b[K     |████████████▌                   | 5.3 MB 69.0 MB/s eta 0:00:01\r",
      "\u001b[K     |████████████▌                   | 5.4 MB 69.0 MB/s eta 0:00:01\r",
      "\u001b[K     |████████████▌                   | 5.4 MB 69.0 MB/s eta 0:00:01\r",
      "\u001b[K     |████████████▌                   | 5.4 MB 69.0 MB/s eta 0:00:01\r",
      "\u001b[K     |████████████▋                   | 5.4 MB 69.0 MB/s eta 0:00:01\r",
      "\u001b[K     |████████████▋                   | 5.4 MB 69.0 MB/s eta 0:00:01\r",
      "\u001b[K     |████████████▋                   | 5.4 MB 69.0 MB/s eta 0:00:01\r",
      "\u001b[K     |████████████▋                   | 5.4 MB 69.0 MB/s eta 0:00:01\r",
      "\u001b[K     |████████████▊                   | 5.4 MB 69.0 MB/s eta 0:00:01\r",
      "\u001b[K     |████████████▊                   | 5.4 MB 69.0 MB/s eta 0:00:01\r",
      "\u001b[K     |████████████▊                   | 5.4 MB 69.0 MB/s eta 0:00:01\r",
      "\u001b[K     |████████████▊                   | 5.5 MB 69.0 MB/s eta 0:00:01\r",
      "\u001b[K     |████████████▊                   | 5.5 MB 69.0 MB/s eta 0:00:01\r",
      "\u001b[K     |████████████▉                   | 5.5 MB 69.0 MB/s eta 0:00:01\r",
      "\u001b[K     |████████████▉                   | 5.5 MB 69.0 MB/s eta 0:00:01\r",
      "\u001b[K     |████████████▉                   | 5.5 MB 69.0 MB/s eta 0:00:01\r",
      "\u001b[K     |████████████▉                   | 5.5 MB 69.0 MB/s eta 0:00:01\r",
      "\u001b[K     |█████████████                   | 5.5 MB 69.0 MB/s eta 0:00:01\r",
      "\u001b[K     |█████████████                   | 5.5 MB 69.0 MB/s eta 0:00:01\r",
      "\u001b[K     |█████████████                   | 5.5 MB 69.0 MB/s eta 0:00:01\r",
      "\u001b[K     |█████████████                   | 5.6 MB 69.0 MB/s eta 0:00:01\r",
      "\u001b[K     |█████████████                   | 5.6 MB 69.0 MB/s eta 0:00:01\r",
      "\u001b[K     |█████████████                   | 5.6 MB 69.0 MB/s eta 0:00:01\r",
      "\u001b[K     |█████████████                   | 5.6 MB 69.0 MB/s eta 0:00:01\r",
      "\u001b[K     |█████████████                   | 5.6 MB 69.0 MB/s eta 0:00:01\r",
      "\u001b[K     |█████████████                   | 5.6 MB 69.0 MB/s eta 0:00:01\r",
      "\u001b[K     |█████████████                   | 5.6 MB 69.0 MB/s eta 0:00:01\r",
      "\u001b[K     |█████████████▏                  | 5.6 MB 69.0 MB/s eta 0:00:01\r",
      "\u001b[K     |█████████████▏                  | 5.6 MB 69.0 MB/s eta 0:00:01\r",
      "\u001b[K     |█████████████▏                  | 5.6 MB 69.0 MB/s eta 0:00:01\r",
      "\u001b[K     |█████████████▏                  | 5.7 MB 69.0 MB/s eta 0:00:01\r",
      "\u001b[K     |█████████████▎                  | 5.7 MB 69.0 MB/s eta 0:00:01\r",
      "\u001b[K     |█████████████▎                  | 5.7 MB 69.0 MB/s eta 0:00:01\r",
      "\u001b[K     |█████████████▎                  | 5.7 MB 69.0 MB/s eta 0:00:01\r",
      "\u001b[K     |█████████████▎                  | 5.7 MB 69.0 MB/s eta 0:00:01\r",
      "\u001b[K     |█████████████▎                  | 5.7 MB 69.0 MB/s eta 0:00:01\r",
      "\u001b[K     |█████████████▍                  | 5.7 MB 69.0 MB/s eta 0:00:01\r",
      "\u001b[K     |█████████████▍                  | 5.7 MB 69.0 MB/s eta 0:00:01\r",
      "\u001b[K     |█████████████▍                  | 5.7 MB 69.0 MB/s eta 0:00:01\r",
      "\u001b[K     |█████████████▍                  | 5.7 MB 69.0 MB/s eta 0:00:01\r",
      "\u001b[K     |█████████████▍                  | 5.8 MB 69.0 MB/s eta 0:00:01\r",
      "\u001b[K     |█████████████▌                  | 5.8 MB 69.0 MB/s eta 0:00:01\r",
      "\u001b[K     |█████████████▌                  | 5.8 MB 69.0 MB/s eta 0:00:01\r",
      "\u001b[K     |█████████████▌                  | 5.8 MB 69.0 MB/s eta 0:00:01\r",
      "\u001b[K     |█████████████▌                  | 5.8 MB 69.0 MB/s eta 0:00:01\r",
      "\u001b[K     |█████████████▋                  | 5.8 MB 69.0 MB/s eta 0:00:01\r",
      "\u001b[K     |█████████████▋                  | 5.8 MB 69.0 MB/s eta 0:00:01\r",
      "\u001b[K     |█████████████▋                  | 5.8 MB 69.0 MB/s eta 0:00:01\r",
      "\u001b[K     |█████████████▋                  | 5.8 MB 69.0 MB/s eta 0:00:01\r",
      "\u001b[K     |█████████████▋                  | 5.8 MB 69.0 MB/s eta 0:00:01\r",
      "\u001b[K     |█████████████▊                  | 5.9 MB 69.0 MB/s eta 0:00:01\r",
      "\u001b[K     |█████████████▊                  | 5.9 MB 69.0 MB/s eta 0:00:01\r",
      "\u001b[K     |█████████████▊                  | 5.9 MB 69.0 MB/s eta 0:00:01\r",
      "\u001b[K     |█████████████▊                  | 5.9 MB 69.0 MB/s eta 0:00:01\r",
      "\u001b[K     |█████████████▊                  | 5.9 MB 69.0 MB/s eta 0:00:01\r",
      "\u001b[K     |█████████████▉                  | 5.9 MB 69.0 MB/s eta 0:00:01\r",
      "\u001b[K     |█████████████▉                  | 5.9 MB 69.0 MB/s eta 0:00:01\r",
      "\u001b[K     |█████████████▉                  | 5.9 MB 69.0 MB/s eta 0:00:01\r",
      "\u001b[K     |█████████████▉                  | 5.9 MB 69.0 MB/s eta 0:00:01\r",
      "\u001b[K     |██████████████                  | 5.9 MB 69.0 MB/s eta 0:00:01\r",
      "\u001b[K     |██████████████                  | 6.0 MB 69.0 MB/s eta 0:00:01\r",
      "\u001b[K     |██████████████                  | 6.0 MB 69.0 MB/s eta 0:00:01\r",
      "\u001b[K     |██████████████                  | 6.0 MB 69.0 MB/s eta 0:00:01\r",
      "\u001b[K     |██████████████                  | 6.0 MB 69.0 MB/s eta 0:00:01\r",
      "\u001b[K     |██████████████                  | 6.0 MB 69.0 MB/s eta 0:00:01\r",
      "\u001b[K     |██████████████                  | 6.0 MB 69.0 MB/s eta 0:00:01\r",
      "\u001b[K     |██████████████                  | 6.0 MB 69.0 MB/s eta 0:00:01\r",
      "\u001b[K     |██████████████                  | 6.0 MB 69.0 MB/s eta 0:00:01\r",
      "\u001b[K     |██████████████                  | 6.0 MB 69.0 MB/s eta 0:00:01\r",
      "\u001b[K     |██████████████▏                 | 6.1 MB 69.0 MB/s eta 0:00:01\r",
      "\u001b[K     |██████████████▏                 | 6.1 MB 69.0 MB/s eta 0:00:01\r",
      "\u001b[K     |██████████████▏                 | 6.1 MB 69.0 MB/s eta 0:00:01\r",
      "\u001b[K     |██████████████▏                 | 6.1 MB 69.0 MB/s eta 0:00:01\r",
      "\u001b[K     |██████████████▎                 | 6.1 MB 69.0 MB/s eta 0:00:01\r",
      "\u001b[K     |██████████████▎                 | 6.1 MB 69.0 MB/s eta 0:00:01\r",
      "\u001b[K     |██████████████▎                 | 6.1 MB 69.0 MB/s eta 0:00:01\r",
      "\u001b[K     |██████████████▎                 | 6.1 MB 69.0 MB/s eta 0:00:01\r",
      "\u001b[K     |██████████████▎                 | 6.1 MB 69.0 MB/s eta 0:00:01\r",
      "\u001b[K     |██████████████▍                 | 6.1 MB 69.0 MB/s eta 0:00:01\r",
      "\u001b[K     |██████████████▍                 | 6.2 MB 69.0 MB/s eta 0:00:01\r",
      "\u001b[K     |██████████████▍                 | 6.2 MB 69.0 MB/s eta 0:00:01\r",
      "\u001b[K     |██████████████▍                 | 6.2 MB 69.0 MB/s eta 0:00:01\r",
      "\u001b[K     |██████████████▍                 | 6.2 MB 69.0 MB/s eta 0:00:01\r",
      "\u001b[K     |██████████████▌                 | 6.2 MB 69.0 MB/s eta 0:00:01\r",
      "\u001b[K     |██████████████▌                 | 6.2 MB 69.0 MB/s eta 0:00:01\r",
      "\u001b[K     |██████████████▌                 | 6.2 MB 69.0 MB/s eta 0:00:01\r",
      "\u001b[K     |██████████████▌                 | 6.2 MB 69.0 MB/s eta 0:00:01\r",
      "\u001b[K     |██████████████▋                 | 6.2 MB 69.0 MB/s eta 0:00:01\r",
      "\u001b[K     |██████████████▋                 | 6.2 MB 69.0 MB/s eta 0:00:01\r",
      "\u001b[K     |██████████████▋                 | 6.3 MB 69.0 MB/s eta 0:00:01\r",
      "\u001b[K     |██████████████▋                 | 6.3 MB 69.0 MB/s eta 0:00:01\r",
      "\u001b[K     |██████████████▋                 | 6.3 MB 69.0 MB/s eta 0:00:01\r",
      "\u001b[K     |██████████████▊                 | 6.3 MB 69.0 MB/s eta 0:00:01\r",
      "\u001b[K     |██████████████▊                 | 6.3 MB 69.0 MB/s eta 0:00:01\r",
      "\u001b[K     |██████████████▊                 | 6.3 MB 69.0 MB/s eta 0:00:01\r",
      "\u001b[K     |██████████████▊                 | 6.3 MB 69.0 MB/s eta 0:00:01\r",
      "\u001b[K     |██████████████▉                 | 6.3 MB 69.0 MB/s eta 0:00:01\r",
      "\u001b[K     |██████████████▉                 | 6.3 MB 69.0 MB/s eta 0:00:01\r",
      "\u001b[K     |██████████████▉                 | 6.3 MB 69.0 MB/s eta 0:00:01\r",
      "\u001b[K     |██████████████▉                 | 6.4 MB 69.0 MB/s eta 0:00:01\r",
      "\u001b[K     |██████████████▉                 | 6.4 MB 69.0 MB/s eta 0:00:01\r",
      "\u001b[K     |███████████████                 | 6.4 MB 69.0 MB/s eta 0:00:01\r",
      "\u001b[K     |███████████████                 | 6.4 MB 69.0 MB/s eta 0:00:01\r",
      "\u001b[K     |███████████████                 | 6.4 MB 69.0 MB/s eta 0:00:01\r",
      "\u001b[K     |███████████████                 | 6.4 MB 69.0 MB/s eta 0:00:01\r",
      "\u001b[K     |███████████████                 | 6.4 MB 69.0 MB/s eta 0:00:01\r",
      "\u001b[K     |███████████████                 | 6.4 MB 69.0 MB/s eta 0:00:01\r",
      "\u001b[K     |███████████████                 | 6.4 MB 69.0 MB/s eta 0:00:01\r",
      "\u001b[K     |███████████████                 | 6.5 MB 69.0 MB/s eta 0:00:01\r",
      "\u001b[K     |███████████████                 | 6.5 MB 69.0 MB/s eta 0:00:01\r",
      "\u001b[K     |███████████████▏                | 6.5 MB 69.0 MB/s eta 0:00:01\r",
      "\u001b[K     |███████████████▏                | 6.5 MB 69.0 MB/s eta 0:00:01\r",
      "\u001b[K     |███████████████▏                | 6.5 MB 69.0 MB/s eta 0:00:01\r",
      "\u001b[K     |███████████████▏                | 6.5 MB 69.0 MB/s eta 0:00:01\r",
      "\u001b[K     |███████████████▏                | 6.5 MB 69.0 MB/s eta 0:00:01\r",
      "\u001b[K     |███████████████▎                | 6.5 MB 69.0 MB/s eta 0:00:01\r",
      "\u001b[K     |███████████████▎                | 6.5 MB 69.0 MB/s eta 0:00:01\r",
      "\u001b[K     |███████████████▎                | 6.5 MB 69.0 MB/s eta 0:00:01\r",
      "\u001b[K     |███████████████▎                | 6.6 MB 69.0 MB/s eta 0:00:01\r",
      "\u001b[K     |███████████████▎                | 6.6 MB 69.0 MB/s eta 0:00:01\r",
      "\u001b[K     |███████████████▍                | 6.6 MB 69.0 MB/s eta 0:00:01\r",
      "\u001b[K     |███████████████▍                | 6.6 MB 69.0 MB/s eta 0:00:01\r",
      "\u001b[K     |███████████████▍                | 6.6 MB 69.0 MB/s eta 0:00:01\r",
      "\u001b[K     |███████████████▍                | 6.6 MB 69.0 MB/s eta 0:00:01\r",
      "\u001b[K     |███████████████▌                | 6.6 MB 69.0 MB/s eta 0:00:01\r",
      "\u001b[K     |███████████████▌                | 6.6 MB 69.0 MB/s eta 0:00:01\r",
      "\u001b[K     |███████████████▌                | 6.6 MB 69.0 MB/s eta 0:00:01\r",
      "\u001b[K     |███████████████▌                | 6.6 MB 69.0 MB/s eta 0:00:01\r",
      "\u001b[K     |███████████████▌                | 6.7 MB 69.0 MB/s eta 0:00:01\r",
      "\u001b[K     |███████████████▋                | 6.7 MB 69.0 MB/s eta 0:00:01\r",
      "\u001b[K     |███████████████▋                | 6.7 MB 69.0 MB/s eta 0:00:01\r",
      "\u001b[K     |███████████████▋                | 6.7 MB 69.0 MB/s eta 0:00:01\r",
      "\u001b[K     |███████████████▋                | 6.7 MB 69.0 MB/s eta 0:00:01\r",
      "\u001b[K     |███████████████▋                | 6.7 MB 69.0 MB/s eta 0:00:01\r",
      "\u001b[K     |███████████████▊                | 6.7 MB 69.0 MB/s eta 0:00:01\r",
      "\u001b[K     |███████████████▊                | 6.7 MB 69.0 MB/s eta 0:00:01\r",
      "\u001b[K     |███████████████▊                | 6.7 MB 69.0 MB/s eta 0:00:01\r",
      "\u001b[K     |███████████████▊                | 6.7 MB 69.0 MB/s eta 0:00:01\r",
      "\u001b[K     |███████████████▉                | 6.8 MB 69.0 MB/s eta 0:00:01\r",
      "\u001b[K     |███████████████▉                | 6.8 MB 69.0 MB/s eta 0:00:01\r",
      "\u001b[K     |███████████████▉                | 6.8 MB 69.0 MB/s eta 0:00:01\r",
      "\u001b[K     |███████████████▉                | 6.8 MB 69.0 MB/s eta 0:00:01\r",
      "\u001b[K     |███████████████▉                | 6.8 MB 69.0 MB/s eta 0:00:01\r",
      "\u001b[K     |████████████████                | 6.8 MB 69.0 MB/s eta 0:00:01\r",
      "\u001b[K     |████████████████                | 6.8 MB 69.0 MB/s eta 0:00:01\r",
      "\u001b[K     |████████████████                | 6.8 MB 69.0 MB/s eta 0:00:01\r",
      "\u001b[K     |████████████████                | 6.8 MB 69.0 MB/s eta 0:00:01\r",
      "\u001b[K     |████████████████                | 6.9 MB 69.0 MB/s eta 0:00:01\r",
      "\u001b[K     |████████████████                | 6.9 MB 69.0 MB/s eta 0:00:01\r",
      "\u001b[K     |████████████████                | 6.9 MB 69.0 MB/s eta 0:00:01\r",
      "\u001b[K     |████████████████                | 6.9 MB 69.0 MB/s eta 0:00:01\r",
      "\u001b[K     |████████████████                | 6.9 MB 69.0 MB/s eta 0:00:01\r",
      "\u001b[K     |████████████████▏               | 6.9 MB 69.0 MB/s eta 0:00:01\r",
      "\u001b[K     |████████████████▏               | 6.9 MB 69.0 MB/s eta 0:00:01\r",
      "\u001b[K     |████████████████▏               | 6.9 MB 69.0 MB/s eta 0:00:01\r",
      "\u001b[K     |████████████████▏               | 6.9 MB 69.0 MB/s eta 0:00:01\r",
      "\u001b[K     |████████████████▏               | 6.9 MB 69.0 MB/s eta 0:00:01\r",
      "\u001b[K     |████████████████▎               | 7.0 MB 69.0 MB/s eta 0:00:01\r",
      "\u001b[K     |████████████████▎               | 7.0 MB 69.0 MB/s eta 0:00:01\r",
      "\u001b[K     |████████████████▎               | 7.0 MB 69.0 MB/s eta 0:00:01\r",
      "\u001b[K     |████████████████▎               | 7.0 MB 69.0 MB/s eta 0:00:01\r",
      "\u001b[K     |████████████████▍               | 7.0 MB 69.0 MB/s eta 0:00:01\r",
      "\u001b[K     |████████████████▍               | 7.0 MB 69.0 MB/s eta 0:00:01\r",
      "\u001b[K     |████████████████▍               | 7.0 MB 69.0 MB/s eta 0:00:01\r",
      "\u001b[K     |████████████████▍               | 7.0 MB 69.0 MB/s eta 0:00:01\r",
      "\u001b[K     |████████████████▍               | 7.0 MB 69.0 MB/s eta 0:00:01\r",
      "\u001b[K     |████████████████▌               | 7.0 MB 69.0 MB/s eta 0:00:01\r",
      "\u001b[K     |████████████████▌               | 7.1 MB 69.0 MB/s eta 0:00:01\r",
      "\u001b[K     |████████████████▌               | 7.1 MB 69.0 MB/s eta 0:00:01\r",
      "\u001b[K     |████████████████▌               | 7.1 MB 69.0 MB/s eta 0:00:01\r",
      "\u001b[K     |████████████████▌               | 7.1 MB 69.0 MB/s eta 0:00:01\r",
      "\u001b[K     |████████████████▋               | 7.1 MB 69.0 MB/s eta 0:00:01\r",
      "\u001b[K     |████████████████▋               | 7.1 MB 69.0 MB/s eta 0:00:01\r",
      "\u001b[K     |████████████████▋               | 7.1 MB 69.0 MB/s eta 0:00:01\r",
      "\u001b[K     |████████████████▋               | 7.1 MB 69.0 MB/s eta 0:00:01\r",
      "\u001b[K     |████████████████▊               | 7.1 MB 69.0 MB/s eta 0:00:01\r",
      "\u001b[K     |████████████████▊               | 7.1 MB 69.0 MB/s eta 0:00:01\r",
      "\u001b[K     |████████████████▊               | 7.2 MB 69.0 MB/s eta 0:00:01\r",
      "\u001b[K     |████████████████▊               | 7.2 MB 69.0 MB/s eta 0:00:01\r",
      "\u001b[K     |████████████████▊               | 7.2 MB 69.0 MB/s eta 0:00:01\r",
      "\u001b[K     |████████████████▉               | 7.2 MB 69.0 MB/s eta 0:00:01\r",
      "\u001b[K     |████████████████▉               | 7.2 MB 69.0 MB/s eta 0:00:01\r",
      "\u001b[K     |████████████████▉               | 7.2 MB 69.0 MB/s eta 0:00:01\r",
      "\u001b[K     |████████████████▉               | 7.2 MB 69.0 MB/s eta 0:00:01\r",
      "\u001b[K     |████████████████▉               | 7.2 MB 69.0 MB/s eta 0:00:01\r",
      "\u001b[K     |█████████████████               | 7.2 MB 69.0 MB/s eta 0:00:01\r",
      "\u001b[K     |█████████████████               | 7.2 MB 69.0 MB/s eta 0:00:01\r",
      "\u001b[K     |█████████████████               | 7.3 MB 69.0 MB/s eta 0:00:01\r",
      "\u001b[K     |█████████████████               | 7.3 MB 69.0 MB/s eta 0:00:01\r",
      "\u001b[K     |█████████████████               | 7.3 MB 69.0 MB/s eta 0:00:01\r",
      "\u001b[K     |█████████████████               | 7.3 MB 69.0 MB/s eta 0:00:01\r",
      "\u001b[K     |█████████████████               | 7.3 MB 69.0 MB/s eta 0:00:01\r",
      "\u001b[K     |█████████████████               | 7.3 MB 69.0 MB/s eta 0:00:01\r",
      "\u001b[K     |█████████████████               | 7.3 MB 69.0 MB/s eta 0:00:01\r",
      "\u001b[K     |█████████████████▏              | 7.3 MB 69.0 MB/s eta 0:00:01\r",
      "\u001b[K     |█████████████████▏              | 7.3 MB 69.0 MB/s eta 0:00:01\r",
      "\u001b[K     |█████████████████▏              | 7.4 MB 69.0 MB/s eta 0:00:01\r",
      "\u001b[K     |█████████████████▏              | 7.4 MB 69.0 MB/s eta 0:00:01\r",
      "\u001b[K     |█████████████████▏              | 7.4 MB 69.0 MB/s eta 0:00:01\r",
      "\u001b[K     |█████████████████▎              | 7.4 MB 69.0 MB/s eta 0:00:01\r",
      "\u001b[K     |█████████████████▎              | 7.4 MB 69.0 MB/s eta 0:00:01\r",
      "\u001b[K     |█████████████████▎              | 7.4 MB 69.0 MB/s eta 0:00:01\r",
      "\u001b[K     |█████████████████▎              | 7.4 MB 69.0 MB/s eta 0:00:01\r",
      "\u001b[K     |█████████████████▍              | 7.4 MB 69.0 MB/s eta 0:00:01\r",
      "\u001b[K     |█████████████████▍              | 7.4 MB 69.0 MB/s eta 0:00:01\r",
      "\u001b[K     |█████████████████▍              | 7.4 MB 69.0 MB/s eta 0:00:01\r",
      "\u001b[K     |█████████████████▍              | 7.5 MB 69.0 MB/s eta 0:00:01\r",
      "\u001b[K     |█████████████████▍              | 7.5 MB 69.0 MB/s eta 0:00:01\r",
      "\u001b[K     |█████████████████▌              | 7.5 MB 69.0 MB/s eta 0:00:01\r",
      "\u001b[K     |█████████████████▌              | 7.5 MB 69.0 MB/s eta 0:00:01\r",
      "\u001b[K     |█████████████████▌              | 7.5 MB 69.0 MB/s eta 0:00:01\r",
      "\u001b[K     |█████████████████▌              | 7.5 MB 69.0 MB/s eta 0:00:01\r",
      "\u001b[K     |█████████████████▌              | 7.5 MB 69.0 MB/s eta 0:00:01\r",
      "\u001b[K     |█████████████████▋              | 7.5 MB 69.0 MB/s eta 0:00:01\r",
      "\u001b[K     |█████████████████▋              | 7.5 MB 69.0 MB/s eta 0:00:01\r",
      "\u001b[K     |█████████████████▋              | 7.5 MB 69.0 MB/s eta 0:00:01\r",
      "\u001b[K     |█████████████████▋              | 7.6 MB 69.0 MB/s eta 0:00:01\r",
      "\u001b[K     |█████████████████▊              | 7.6 MB 69.0 MB/s eta 0:00:01\r",
      "\u001b[K     |█████████████████▊              | 7.6 MB 69.0 MB/s eta 0:00:01\r",
      "\u001b[K     |█████████████████▊              | 7.6 MB 69.0 MB/s eta 0:00:01\r",
      "\u001b[K     |█████████████████▊              | 7.6 MB 69.0 MB/s eta 0:00:01\r",
      "\u001b[K     |█████████████████▊              | 7.6 MB 69.0 MB/s eta 0:00:01\r",
      "\u001b[K     |█████████████████▉              | 7.6 MB 69.0 MB/s eta 0:00:01\r",
      "\u001b[K     |█████████████████▉              | 7.6 MB 69.0 MB/s eta 0:00:01\r",
      "\u001b[K     |█████████████████▉              | 7.6 MB 69.0 MB/s eta 0:00:01\r",
      "\u001b[K     |█████████████████▉              | 7.6 MB 69.0 MB/s eta 0:00:01\r",
      "\u001b[K     |█████████████████▉              | 7.7 MB 69.0 MB/s eta 0:00:01\r",
      "\u001b[K     |██████████████████              | 7.7 MB 69.0 MB/s eta 0:00:01\r",
      "\u001b[K     |██████████████████              | 7.7 MB 69.0 MB/s eta 0:00:01\r",
      "\u001b[K     |██████████████████              | 7.7 MB 69.0 MB/s eta 0:00:01\r",
      "\u001b[K     |██████████████████              | 7.7 MB 69.0 MB/s eta 0:00:01\r",
      "\u001b[K     |██████████████████              | 7.7 MB 69.0 MB/s eta 0:00:01\r",
      "\u001b[K     |██████████████████              | 7.7 MB 69.0 MB/s eta 0:00:01\r",
      "\u001b[K     |██████████████████              | 7.7 MB 69.0 MB/s eta 0:00:01\r",
      "\u001b[K     |██████████████████              | 7.7 MB 69.0 MB/s eta 0:00:01\r",
      "\u001b[K     |██████████████████              | 7.8 MB 69.0 MB/s eta 0:00:01\r",
      "\u001b[K     |██████████████████▏             | 7.8 MB 69.0 MB/s eta 0:00:01\r",
      "\u001b[K     |██████████████████▏             | 7.8 MB 69.0 MB/s eta 0:00:01\r",
      "\u001b[K     |██████████████████▏             | 7.8 MB 69.0 MB/s eta 0:00:01\r",
      "\u001b[K     |██████████████████▏             | 7.8 MB 69.0 MB/s eta 0:00:01\r",
      "\u001b[K     |██████████████████▎             | 7.8 MB 69.0 MB/s eta 0:00:01\r",
      "\u001b[K     |██████████████████▎             | 7.8 MB 69.0 MB/s eta 0:00:01\r",
      "\u001b[K     |██████████████████▎             | 7.8 MB 69.0 MB/s eta 0:00:01\r",
      "\u001b[K     |██████████████████▎             | 7.8 MB 69.0 MB/s eta 0:00:01\r",
      "\u001b[K     |██████████████████▎             | 7.8 MB 69.0 MB/s eta 0:00:01\r",
      "\u001b[K     |██████████████████▍             | 7.9 MB 69.0 MB/s eta 0:00:01\r",
      "\u001b[K     |██████████████████▍             | 7.9 MB 69.0 MB/s eta 0:00:01\r",
      "\u001b[K     |██████████████████▍             | 7.9 MB 69.0 MB/s eta 0:00:01\r",
      "\u001b[K     |██████████████████▍             | 7.9 MB 69.0 MB/s eta 0:00:01\r",
      "\u001b[K     |██████████████████▍             | 7.9 MB 69.0 MB/s eta 0:00:01\r",
      "\u001b[K     |██████████████████▌             | 7.9 MB 69.0 MB/s eta 0:00:01\r",
      "\u001b[K     |██████████████████▌             | 7.9 MB 69.0 MB/s eta 0:00:01\r",
      "\u001b[K     |██████████████████▌             | 7.9 MB 69.0 MB/s eta 0:00:01\r",
      "\u001b[K     |██████████████████▌             | 7.9 MB 69.0 MB/s eta 0:00:01\r",
      "\u001b[K     |██████████████████▋             | 7.9 MB 69.0 MB/s eta 0:00:01\r",
      "\u001b[K     |██████████████████▋             | 8.0 MB 69.0 MB/s eta 0:00:01\r",
      "\u001b[K     |██████████████████▋             | 8.0 MB 69.0 MB/s eta 0:00:01\r",
      "\u001b[K     |██████████████████▋             | 8.0 MB 69.0 MB/s eta 0:00:01\r",
      "\u001b[K     |██████████████████▋             | 8.0 MB 69.0 MB/s eta 0:00:01\r",
      "\u001b[K     |██████████████████▊             | 8.0 MB 69.0 MB/s eta 0:00:01\r",
      "\u001b[K     |██████████████████▊             | 8.0 MB 69.0 MB/s eta 0:00:01\r",
      "\u001b[K     |██████████████████▊             | 8.0 MB 69.0 MB/s eta 0:00:01\r",
      "\u001b[K     |██████████████████▊             | 8.0 MB 69.0 MB/s eta 0:00:01\r",
      "\u001b[K     |██████████████████▊             | 8.0 MB 69.0 MB/s eta 0:00:01\r",
      "\u001b[K     |██████████████████▉             | 8.0 MB 69.0 MB/s eta 0:00:01\r",
      "\u001b[K     |██████████████████▉             | 8.1 MB 69.0 MB/s eta 0:00:01\r",
      "\u001b[K     |██████████████████▉             | 8.1 MB 69.0 MB/s eta 0:00:01\r",
      "\u001b[K     |██████████████████▉             | 8.1 MB 69.0 MB/s eta 0:00:01\r",
      "\u001b[K     |███████████████████             | 8.1 MB 69.0 MB/s eta 0:00:01\r",
      "\u001b[K     |███████████████████             | 8.1 MB 69.0 MB/s eta 0:00:01\r",
      "\u001b[K     |███████████████████             | 8.1 MB 69.0 MB/s eta 0:00:01\r",
      "\u001b[K     |███████████████████             | 8.1 MB 69.0 MB/s eta 0:00:01\r",
      "\u001b[K     |███████████████████             | 8.1 MB 69.0 MB/s eta 0:00:01\r",
      "\u001b[K     |███████████████████             | 8.1 MB 69.0 MB/s eta 0:00:01\r",
      "\u001b[K     |███████████████████             | 8.2 MB 69.0 MB/s eta 0:00:01\r",
      "\u001b[K     |███████████████████             | 8.2 MB 69.0 MB/s eta 0:00:01\r",
      "\u001b[K     |███████████████████             | 8.2 MB 69.0 MB/s eta 0:00:01\r",
      "\u001b[K     |███████████████████             | 8.2 MB 69.0 MB/s eta 0:00:01\r",
      "\u001b[K     |███████████████████▏            | 8.2 MB 69.0 MB/s eta 0:00:01\r",
      "\u001b[K     |███████████████████▏            | 8.2 MB 69.0 MB/s eta 0:00:01\r",
      "\u001b[K     |███████████████████▏            | 8.2 MB 69.0 MB/s eta 0:00:01\r",
      "\u001b[K     |███████████████████▏            | 8.2 MB 69.0 MB/s eta 0:00:01\r",
      "\u001b[K     |███████████████████▎            | 8.2 MB 69.0 MB/s eta 0:00:01\r",
      "\u001b[K     |███████████████████▎            | 8.2 MB 69.0 MB/s eta 0:00:01\r",
      "\u001b[K     |███████████████████▎            | 8.3 MB 69.0 MB/s eta 0:00:01\r",
      "\u001b[K     |███████████████████▎            | 8.3 MB 69.0 MB/s eta 0:00:01\r",
      "\u001b[K     |███████████████████▎            | 8.3 MB 69.0 MB/s eta 0:00:01\r",
      "\u001b[K     |███████████████████▍            | 8.3 MB 69.0 MB/s eta 0:00:01\r",
      "\u001b[K     |███████████████████▍            | 8.3 MB 69.0 MB/s eta 0:00:01\r",
      "\u001b[K     |███████████████████▍            | 8.3 MB 69.0 MB/s eta 0:00:01\r",
      "\u001b[K     |███████████████████▍            | 8.3 MB 69.0 MB/s eta 0:00:01\r",
      "\u001b[K     |███████████████████▍            | 8.3 MB 69.0 MB/s eta 0:00:01\r",
      "\u001b[K     |███████████████████▌            | 8.3 MB 69.0 MB/s eta 0:00:01\r",
      "\u001b[K     |███████████████████▌            | 8.3 MB 69.0 MB/s eta 0:00:01\r",
      "\u001b[K     |███████████████████▌            | 8.4 MB 69.0 MB/s eta 0:00:01\r",
      "\u001b[K     |███████████████████▌            | 8.4 MB 69.0 MB/s eta 0:00:01\r",
      "\u001b[K     |███████████████████▋            | 8.4 MB 69.0 MB/s eta 0:00:01\r",
      "\u001b[K     |███████████████████▋            | 8.4 MB 69.0 MB/s eta 0:00:01\r",
      "\u001b[K     |███████████████████▋            | 8.4 MB 69.0 MB/s eta 0:00:01\r",
      "\u001b[K     |███████████████████▋            | 8.4 MB 69.0 MB/s eta 0:00:01\r",
      "\u001b[K     |███████████████████▋            | 8.4 MB 69.0 MB/s eta 0:00:01\r",
      "\u001b[K     |███████████████████▊            | 8.4 MB 69.0 MB/s eta 0:00:01\r",
      "\u001b[K     |███████████████████▊            | 8.4 MB 69.0 MB/s eta 0:00:01\r",
      "\u001b[K     |███████████████████▊            | 8.4 MB 69.0 MB/s eta 0:00:01\r",
      "\u001b[K     |███████████████████▊            | 8.5 MB 69.0 MB/s eta 0:00:01\r",
      "\u001b[K     |███████████████████▊            | 8.5 MB 69.0 MB/s eta 0:00:01\r",
      "\u001b[K     |███████████████████▉            | 8.5 MB 69.0 MB/s eta 0:00:01\r",
      "\u001b[K     |███████████████████▉            | 8.5 MB 69.0 MB/s eta 0:00:01\r",
      "\u001b[K     |███████████████████▉            | 8.5 MB 69.0 MB/s eta 0:00:01\r",
      "\u001b[K     |███████████████████▉            | 8.5 MB 69.0 MB/s eta 0:00:01\r",
      "\u001b[K     |████████████████████            | 8.5 MB 69.0 MB/s eta 0:00:01\r",
      "\u001b[K     |████████████████████            | 8.5 MB 69.0 MB/s eta 0:00:01\r",
      "\u001b[K     |████████████████████            | 8.5 MB 69.0 MB/s eta 0:00:01\r",
      "\u001b[K     |████████████████████            | 8.6 MB 69.0 MB/s eta 0:00:01\r",
      "\u001b[K     |████████████████████            | 8.6 MB 69.0 MB/s eta 0:00:01\r",
      "\u001b[K     |████████████████████            | 8.6 MB 69.0 MB/s eta 0:00:01\r",
      "\u001b[K     |████████████████████            | 8.6 MB 69.0 MB/s eta 0:00:01\r",
      "\u001b[K     |████████████████████            | 8.6 MB 69.0 MB/s eta 0:00:01\r",
      "\u001b[K     |████████████████████            | 8.6 MB 69.0 MB/s eta 0:00:01\r",
      "\u001b[K     |████████████████████▏           | 8.6 MB 69.0 MB/s eta 0:00:01\r",
      "\u001b[K     |████████████████████▏           | 8.6 MB 69.0 MB/s eta 0:00:01\r",
      "\u001b[K     |████████████████████▏           | 8.6 MB 69.0 MB/s eta 0:00:01\r",
      "\u001b[K     |████████████████████▏           | 8.6 MB 69.0 MB/s eta 0:00:01\r",
      "\u001b[K     |████████████████████▏           | 8.7 MB 69.0 MB/s eta 0:00:01\r",
      "\u001b[K     |████████████████████▎           | 8.7 MB 69.0 MB/s eta 0:00:01\r",
      "\u001b[K     |████████████████████▎           | 8.7 MB 69.0 MB/s eta 0:00:01\r",
      "\u001b[K     |████████████████████▎           | 8.7 MB 69.0 MB/s eta 0:00:01\r",
      "\u001b[K     |████████████████████▎           | 8.7 MB 69.0 MB/s eta 0:00:01\r",
      "\u001b[K     |████████████████████▎           | 8.7 MB 69.0 MB/s eta 0:00:01\r",
      "\u001b[K     |████████████████████▍           | 8.7 MB 69.0 MB/s eta 0:00:01\r",
      "\u001b[K     |████████████████████▍           | 8.7 MB 69.0 MB/s eta 0:00:01\r",
      "\u001b[K     |████████████████████▍           | 8.7 MB 69.0 MB/s eta 0:00:01\r",
      "\u001b[K     |████████████████████▍           | 8.7 MB 69.0 MB/s eta 0:00:01\r",
      "\u001b[K     |████████████████████▌           | 8.8 MB 69.0 MB/s eta 0:00:01\r",
      "\u001b[K     |████████████████████▌           | 8.8 MB 69.0 MB/s eta 0:00:01\r",
      "\u001b[K     |████████████████████▌           | 8.8 MB 69.0 MB/s eta 0:00:01\r",
      "\u001b[K     |████████████████████▌           | 8.8 MB 69.0 MB/s eta 0:00:01\r",
      "\u001b[K     |████████████████████▌           | 8.8 MB 69.0 MB/s eta 0:00:01\r",
      "\u001b[K     |████████████████████▋           | 8.8 MB 69.0 MB/s eta 0:00:01\r",
      "\u001b[K     |████████████████████▋           | 8.8 MB 69.0 MB/s eta 0:00:01\r",
      "\u001b[K     |████████████████████▋           | 8.8 MB 69.0 MB/s eta 0:00:01\r",
      "\u001b[K     |████████████████████▋           | 8.8 MB 69.0 MB/s eta 0:00:01\r",
      "\u001b[K     |████████████████████▋           | 8.8 MB 69.0 MB/s eta 0:00:01\r",
      "\u001b[K     |████████████████████▊           | 8.9 MB 69.0 MB/s eta 0:00:01\r",
      "\u001b[K     |████████████████████▊           | 8.9 MB 69.0 MB/s eta 0:00:01\r",
      "\u001b[K     |████████████████████▊           | 8.9 MB 69.0 MB/s eta 0:00:01\r",
      "\u001b[K     |████████████████████▊           | 8.9 MB 69.0 MB/s eta 0:00:01\r",
      "\u001b[K     |████████████████████▉           | 8.9 MB 69.0 MB/s eta 0:00:01\r",
      "\u001b[K     |████████████████████▉           | 8.9 MB 69.0 MB/s eta 0:00:01\r",
      "\u001b[K     |████████████████████▉           | 8.9 MB 69.0 MB/s eta 0:00:01\r",
      "\u001b[K     |████████████████████▉           | 8.9 MB 69.0 MB/s eta 0:00:01\r",
      "\u001b[K     |████████████████████▉           | 8.9 MB 69.0 MB/s eta 0:00:01\r",
      "\u001b[K     |█████████████████████           | 8.9 MB 69.0 MB/s eta 0:00:01\r",
      "\u001b[K     |█████████████████████           | 9.0 MB 69.0 MB/s eta 0:00:01\r",
      "\u001b[K     |█████████████████████           | 9.0 MB 69.0 MB/s eta 0:00:01\r",
      "\u001b[K     |█████████████████████           | 9.0 MB 69.0 MB/s eta 0:00:01\r",
      "\u001b[K     |█████████████████████           | 9.0 MB 69.0 MB/s eta 0:00:01\r",
      "\u001b[K     |█████████████████████           | 9.0 MB 69.0 MB/s eta 0:00:01\r",
      "\u001b[K     |█████████████████████           | 9.0 MB 69.0 MB/s eta 0:00:01\r",
      "\u001b[K     |█████████████████████           | 9.0 MB 69.0 MB/s eta 0:00:01\r",
      "\u001b[K     |█████████████████████           | 9.0 MB 69.0 MB/s eta 0:00:01\r",
      "\u001b[K     |█████████████████████▏          | 9.0 MB 69.0 MB/s eta 0:00:01\r",
      "\u001b[K     |█████████████████████▏          | 9.1 MB 69.0 MB/s eta 0:00:01\r",
      "\u001b[K     |█████████████████████▏          | 9.1 MB 69.0 MB/s eta 0:00:01\r",
      "\u001b[K     |█████████████████████▏          | 9.1 MB 69.0 MB/s eta 0:00:01\r",
      "\u001b[K     |█████████████████████▏          | 9.1 MB 69.0 MB/s eta 0:00:01\r",
      "\u001b[K     |█████████████████████▎          | 9.1 MB 69.0 MB/s eta 0:00:01\r",
      "\u001b[K     |█████████████████████▎          | 9.1 MB 69.0 MB/s eta 0:00:01\r",
      "\u001b[K     |█████████████████████▎          | 9.1 MB 69.0 MB/s eta 0:00:01\r",
      "\u001b[K     |█████████████████████▎          | 9.1 MB 69.0 MB/s eta 0:00:01\r",
      "\u001b[K     |█████████████████████▎          | 9.1 MB 69.0 MB/s eta 0:00:01\r",
      "\u001b[K     |█████████████████████▍          | 9.1 MB 69.0 MB/s eta 0:00:01\r",
      "\u001b[K     |█████████████████████▍          | 9.2 MB 69.0 MB/s eta 0:00:01\r",
      "\u001b[K     |█████████████████████▍          | 9.2 MB 69.0 MB/s eta 0:00:01\r",
      "\u001b[K     |█████████████████████▍          | 9.2 MB 69.0 MB/s eta 0:00:01\r",
      "\u001b[K     |█████████████████████▌          | 9.2 MB 69.0 MB/s eta 0:00:01\r",
      "\u001b[K     |█████████████████████▌          | 9.2 MB 69.0 MB/s eta 0:00:01\r",
      "\u001b[K     |█████████████████████▌          | 9.2 MB 69.0 MB/s eta 0:00:01\r",
      "\u001b[K     |█████████████████████▌          | 9.2 MB 69.0 MB/s eta 0:00:01\r",
      "\u001b[K     |█████████████████████▌          | 9.2 MB 69.0 MB/s eta 0:00:01\r",
      "\u001b[K     |█████████████████████▋          | 9.2 MB 69.0 MB/s eta 0:00:01\r",
      "\u001b[K     |█████████████████████▋          | 9.2 MB 69.0 MB/s eta 0:00:01\r",
      "\u001b[K     |█████████████████████▋          | 9.3 MB 69.0 MB/s eta 0:00:01\r",
      "\u001b[K     |█████████████████████▋          | 9.3 MB 69.0 MB/s eta 0:00:01\r",
      "\u001b[K     |█████████████████████▋          | 9.3 MB 69.0 MB/s eta 0:00:01\r",
      "\u001b[K     |█████████████████████▊          | 9.3 MB 69.0 MB/s eta 0:00:01\r",
      "\u001b[K     |█████████████████████▊          | 9.3 MB 69.0 MB/s eta 0:00:01\r",
      "\u001b[K     |█████████████████████▊          | 9.3 MB 69.0 MB/s eta 0:00:01\r",
      "\u001b[K     |█████████████████████▊          | 9.3 MB 69.0 MB/s eta 0:00:01\r",
      "\u001b[K     |█████████████████████▉          | 9.3 MB 69.0 MB/s eta 0:00:01\r",
      "\u001b[K     |█████████████████████▉          | 9.3 MB 69.0 MB/s eta 0:00:01\r",
      "\u001b[K     |█████████████████████▉          | 9.3 MB 69.0 MB/s eta 0:00:01\r",
      "\u001b[K     |█████████████████████▉          | 9.4 MB 69.0 MB/s eta 0:00:01\r",
      "\u001b[K     |█████████████████████▉          | 9.4 MB 69.0 MB/s eta 0:00:01\r",
      "\u001b[K     |██████████████████████          | 9.4 MB 69.0 MB/s eta 0:00:01\r",
      "\u001b[K     |██████████████████████          | 9.4 MB 69.0 MB/s eta 0:00:01\r",
      "\u001b[K     |██████████████████████          | 9.4 MB 69.0 MB/s eta 0:00:01\r",
      "\u001b[K     |██████████████████████          | 9.4 MB 69.0 MB/s eta 0:00:01\r",
      "\u001b[K     |██████████████████████          | 9.4 MB 69.0 MB/s eta 0:00:01\r",
      "\u001b[K     |██████████████████████          | 9.4 MB 69.0 MB/s eta 0:00:01\r",
      "\u001b[K     |██████████████████████          | 9.4 MB 69.0 MB/s eta 0:00:01\r",
      "\u001b[K     |██████████████████████          | 9.5 MB 69.0 MB/s eta 0:00:01\r",
      "\u001b[K     |██████████████████████          | 9.5 MB 69.0 MB/s eta 0:00:01\r",
      "\u001b[K     |██████████████████████▏         | 9.5 MB 69.0 MB/s eta 0:00:01\r",
      "\u001b[K     |██████████████████████▏         | 9.5 MB 69.0 MB/s eta 0:00:01\r",
      "\u001b[K     |██████████████████████▏         | 9.5 MB 69.0 MB/s eta 0:00:01\r",
      "\u001b[K     |██████████████████████▏         | 9.5 MB 69.0 MB/s eta 0:00:01\r",
      "\u001b[K     |██████████████████████▏         | 9.5 MB 69.0 MB/s eta 0:00:01\r",
      "\u001b[K     |██████████████████████▎         | 9.5 MB 69.0 MB/s eta 0:00:01\r",
      "\u001b[K     |██████████████████████▎         | 9.5 MB 69.0 MB/s eta 0:00:01\r",
      "\u001b[K     |██████████████████████▎         | 9.5 MB 69.0 MB/s eta 0:00:01\r",
      "\u001b[K     |██████████████████████▎         | 9.6 MB 69.0 MB/s eta 0:00:01\r",
      "\u001b[K     |██████████████████████▍         | 9.6 MB 69.0 MB/s eta 0:00:01\r",
      "\u001b[K     |██████████████████████▍         | 9.6 MB 69.0 MB/s eta 0:00:01\r",
      "\u001b[K     |██████████████████████▍         | 9.6 MB 69.0 MB/s eta 0:00:01\r",
      "\u001b[K     |██████████████████████▍         | 9.6 MB 69.0 MB/s eta 0:00:01\r",
      "\u001b[K     |██████████████████████▍         | 9.6 MB 69.0 MB/s eta 0:00:01\r",
      "\u001b[K     |██████████████████████▌         | 9.6 MB 69.0 MB/s eta 0:00:01\r",
      "\u001b[K     |██████████████████████▌         | 9.6 MB 69.0 MB/s eta 0:00:01\r",
      "\u001b[K     |██████████████████████▌         | 9.6 MB 69.0 MB/s eta 0:00:01\r",
      "\u001b[K     |██████████████████████▌         | 9.6 MB 69.0 MB/s eta 0:00:01\r",
      "\u001b[K     |██████████████████████▌         | 9.7 MB 69.0 MB/s eta 0:00:01\r",
      "\u001b[K     |██████████████████████▋         | 9.7 MB 69.0 MB/s eta 0:00:01\r",
      "\u001b[K     |██████████████████████▋         | 9.7 MB 69.0 MB/s eta 0:00:01\r",
      "\u001b[K     |██████████████████████▋         | 9.7 MB 69.0 MB/s eta 0:00:01\r",
      "\u001b[K     |██████████████████████▋         | 9.7 MB 69.0 MB/s eta 0:00:01\r",
      "\u001b[K     |██████████████████████▊         | 9.7 MB 69.0 MB/s eta 0:00:01\r",
      "\u001b[K     |██████████████████████▊         | 9.7 MB 69.0 MB/s eta 0:00:01\r",
      "\u001b[K     |██████████████████████▊         | 9.7 MB 69.0 MB/s eta 0:00:01\r",
      "\u001b[K     |██████████████████████▊         | 9.7 MB 69.0 MB/s eta 0:00:01\r",
      "\u001b[K     |██████████████████████▊         | 9.7 MB 69.0 MB/s eta 0:00:01\r",
      "\u001b[K     |██████████████████████▉         | 9.8 MB 69.0 MB/s eta 0:00:01\r",
      "\u001b[K     |██████████████████████▉         | 9.8 MB 69.0 MB/s eta 0:00:01\r",
      "\u001b[K     |██████████████████████▉         | 9.8 MB 69.0 MB/s eta 0:00:01\r",
      "\u001b[K     |██████████████████████▉         | 9.8 MB 69.0 MB/s eta 0:00:01\r",
      "\u001b[K     |██████████████████████▉         | 9.8 MB 69.0 MB/s eta 0:00:01\r",
      "\u001b[K     |███████████████████████         | 9.8 MB 69.0 MB/s eta 0:00:01\r",
      "\u001b[K     |███████████████████████         | 9.8 MB 69.0 MB/s eta 0:00:01\r",
      "\u001b[K     |███████████████████████         | 9.8 MB 69.0 MB/s eta 0:00:01\r",
      "\u001b[K     |███████████████████████         | 9.8 MB 69.0 MB/s eta 0:00:01\r",
      "\u001b[K     |███████████████████████         | 9.9 MB 69.0 MB/s eta 0:00:01\r",
      "\u001b[K     |███████████████████████         | 9.9 MB 69.0 MB/s eta 0:00:01\r",
      "\u001b[K     |███████████████████████         | 9.9 MB 69.0 MB/s eta 0:00:01\r",
      "\u001b[K     |███████████████████████         | 9.9 MB 69.0 MB/s eta 0:00:01\r",
      "\u001b[K     |███████████████████████         | 9.9 MB 69.0 MB/s eta 0:00:01\r",
      "\u001b[K     |███████████████████████▏        | 9.9 MB 69.0 MB/s eta 0:00:01\r",
      "\u001b[K     |███████████████████████▏        | 9.9 MB 69.0 MB/s eta 0:00:01\r",
      "\u001b[K     |███████████████████████▏        | 9.9 MB 69.0 MB/s eta 0:00:01\r",
      "\u001b[K     |███████████████████████▏        | 9.9 MB 69.0 MB/s eta 0:00:01\r",
      "\u001b[K     |███████████████████████▏        | 9.9 MB 69.0 MB/s eta 0:00:01\r",
      "\u001b[K     |███████████████████████▎        | 10.0 MB 69.0 MB/s eta 0:00:01\r",
      "\u001b[K     |███████████████████████▎        | 10.0 MB 69.0 MB/s eta 0:00:01\r",
      "\u001b[K     |███████████████████████▎        | 10.0 MB 69.0 MB/s eta 0:00:01\r",
      "\u001b[K     |███████████████████████▎        | 10.0 MB 69.0 MB/s eta 0:00:01\r",
      "\u001b[K     |███████████████████████▍        | 10.0 MB 69.0 MB/s eta 0:00:01\r",
      "\u001b[K     |███████████████████████▍        | 10.0 MB 69.0 MB/s eta 0:00:01\r",
      "\u001b[K     |███████████████████████▍        | 10.0 MB 69.0 MB/s eta 0:00:01\r",
      "\u001b[K     |███████████████████████▍        | 10.0 MB 69.0 MB/s eta 0:00:01\r",
      "\u001b[K     |███████████████████████▍        | 10.0 MB 69.0 MB/s eta 0:00:01\r",
      "\u001b[K     |███████████████████████▌        | 10.0 MB 69.0 MB/s eta 0:00:01\r",
      "\u001b[K     |███████████████████████▌        | 10.1 MB 69.0 MB/s eta 0:00:01\r",
      "\u001b[K     |███████████████████████▌        | 10.1 MB 69.0 MB/s eta 0:00:01\r",
      "\u001b[K     |███████████████████████▌        | 10.1 MB 69.0 MB/s eta 0:00:01\r",
      "\u001b[K     |███████████████████████▋        | 10.1 MB 69.0 MB/s eta 0:00:01\r",
      "\u001b[K     |███████████████████████▋        | 10.1 MB 69.0 MB/s eta 0:00:01\r",
      "\u001b[K     |███████████████████████▋        | 10.1 MB 69.0 MB/s eta 0:00:01\r",
      "\u001b[K     |███████████████████████▋        | 10.1 MB 69.0 MB/s eta 0:00:01\r",
      "\u001b[K     |███████████████████████▋        | 10.1 MB 69.0 MB/s eta 0:00:01\r",
      "\u001b[K     |███████████████████████▊        | 10.1 MB 69.0 MB/s eta 0:00:01\r",
      "\u001b[K     |███████████████████████▊        | 10.1 MB 69.0 MB/s eta 0:00:01\r",
      "\u001b[K     |███████████████████████▊        | 10.2 MB 69.0 MB/s eta 0:00:01\r",
      "\u001b[K     |███████████████████████▊        | 10.2 MB 69.0 MB/s eta 0:00:01\r",
      "\u001b[K     |███████████████████████▊        | 10.2 MB 69.0 MB/s eta 0:00:01\r",
      "\u001b[K     |███████████████████████▉        | 10.2 MB 69.0 MB/s eta 0:00:01\r",
      "\u001b[K     |███████████████████████▉        | 10.2 MB 69.0 MB/s eta 0:00:01\r",
      "\u001b[K     |███████████████████████▉        | 10.2 MB 69.0 MB/s eta 0:00:01\r",
      "\u001b[K     |███████████████████████▉        | 10.2 MB 69.0 MB/s eta 0:00:01\r",
      "\u001b[K     |████████████████████████        | 10.2 MB 69.0 MB/s eta 0:00:01\r",
      "\u001b[K     |████████████████████████        | 10.2 MB 69.0 MB/s eta 0:00:01\r",
      "\u001b[K     |████████████████████████        | 10.3 MB 69.0 MB/s eta 0:00:01\r",
      "\u001b[K     |████████████████████████        | 10.3 MB 69.0 MB/s eta 0:00:01\r",
      "\u001b[K     |████████████████████████        | 10.3 MB 69.0 MB/s eta 0:00:01\r",
      "\u001b[K     |████████████████████████        | 10.3 MB 69.0 MB/s eta 0:00:01\r",
      "\u001b[K     |████████████████████████        | 10.3 MB 69.0 MB/s eta 0:00:01\r",
      "\u001b[K     |████████████████████████        | 10.3 MB 69.0 MB/s eta 0:00:01\r",
      "\u001b[K     |████████████████████████        | 10.3 MB 69.0 MB/s eta 0:00:01\r",
      "\u001b[K     |████████████████████████        | 10.3 MB 69.0 MB/s eta 0:00:01\r",
      "\u001b[K     |████████████████████████▏       | 10.3 MB 69.0 MB/s eta 0:00:01\r",
      "\u001b[K     |████████████████████████▏       | 10.3 MB 69.0 MB/s eta 0:00:01\r",
      "\u001b[K     |████████████████████████▏       | 10.4 MB 69.0 MB/s eta 0:00:01\r",
      "\u001b[K     |████████████████████████▏       | 10.4 MB 69.0 MB/s eta 0:00:01\r",
      "\u001b[K     |████████████████████████▎       | 10.4 MB 69.0 MB/s eta 0:00:01\r",
      "\u001b[K     |████████████████████████▎       | 10.4 MB 69.0 MB/s eta 0:00:01\r",
      "\u001b[K     |████████████████████████▎       | 10.4 MB 69.0 MB/s eta 0:00:01\r",
      "\u001b[K     |████████████████████████▎       | 10.4 MB 69.0 MB/s eta 0:00:01\r",
      "\u001b[K     |████████████████████████▎       | 10.4 MB 69.0 MB/s eta 0:00:01\r",
      "\u001b[K     |████████████████████████▍       | 10.4 MB 69.0 MB/s eta 0:00:01\r",
      "\u001b[K     |████████████████████████▍       | 10.4 MB 69.0 MB/s eta 0:00:01\r",
      "\u001b[K     |████████████████████████▍       | 10.4 MB 69.0 MB/s eta 0:00:01\r",
      "\u001b[K     |████████████████████████▍       | 10.5 MB 69.0 MB/s eta 0:00:01\r",
      "\u001b[K     |████████████████████████▍       | 10.5 MB 69.0 MB/s eta 0:00:01\r",
      "\u001b[K     |████████████████████████▌       | 10.5 MB 69.0 MB/s eta 0:00:01\r",
      "\u001b[K     |████████████████████████▌       | 10.5 MB 69.0 MB/s eta 0:00:01\r",
      "\u001b[K     |████████████████████████▌       | 10.5 MB 69.0 MB/s eta 0:00:01\r",
      "\u001b[K     |████████████████████████▌       | 10.5 MB 69.0 MB/s eta 0:00:01\r",
      "\u001b[K     |████████████████████████▋       | 10.5 MB 69.0 MB/s eta 0:00:01\r",
      "\u001b[K     |████████████████████████▋       | 10.5 MB 69.0 MB/s eta 0:00:01\r",
      "\u001b[K     |████████████████████████▋       | 10.5 MB 69.0 MB/s eta 0:00:01\r",
      "\u001b[K     |████████████████████████▋       | 10.5 MB 69.0 MB/s eta 0:00:01\r",
      "\u001b[K     |████████████████████████▋       | 10.6 MB 69.0 MB/s eta 0:00:01\r",
      "\u001b[K     |████████████████████████▊       | 10.6 MB 69.0 MB/s eta 0:00:01\r",
      "\u001b[K     |████████████████████████▊       | 10.6 MB 69.0 MB/s eta 0:00:01\r",
      "\u001b[K     |████████████████████████▊       | 10.6 MB 69.0 MB/s eta 0:00:01\r",
      "\u001b[K     |████████████████████████▊       | 10.6 MB 69.0 MB/s eta 0:00:01\r",
      "\u001b[K     |████████████████████████▊       | 10.6 MB 69.0 MB/s eta 0:00:01\r",
      "\u001b[K     |████████████████████████▉       | 10.6 MB 69.0 MB/s eta 0:00:01\r",
      "\u001b[K     |████████████████████████▉       | 10.6 MB 69.0 MB/s eta 0:00:01\r",
      "\u001b[K     |████████████████████████▉       | 10.6 MB 69.0 MB/s eta 0:00:01\r",
      "\u001b[K     |████████████████████████▉       | 10.6 MB 69.0 MB/s eta 0:00:01\r",
      "\u001b[K     |█████████████████████████       | 10.7 MB 69.0 MB/s eta 0:00:01\r",
      "\u001b[K     |█████████████████████████       | 10.7 MB 69.0 MB/s eta 0:00:01\r",
      "\u001b[K     |█████████████████████████       | 10.7 MB 69.0 MB/s eta 0:00:01\r",
      "\u001b[K     |█████████████████████████       | 10.7 MB 69.0 MB/s eta 0:00:01\r",
      "\u001b[K     |█████████████████████████       | 10.7 MB 69.0 MB/s eta 0:00:01\r",
      "\u001b[K     |█████████████████████████       | 10.7 MB 69.0 MB/s eta 0:00:01\r",
      "\u001b[K     |█████████████████████████       | 10.7 MB 69.0 MB/s eta 0:00:01\r",
      "\u001b[K     |█████████████████████████       | 10.7 MB 69.0 MB/s eta 0:00:01\r",
      "\u001b[K     |█████████████████████████       | 10.7 MB 69.0 MB/s eta 0:00:01\r",
      "\u001b[K     |█████████████████████████       | 10.8 MB 69.0 MB/s eta 0:00:01\r",
      "\u001b[K     |█████████████████████████▏      | 10.8 MB 69.0 MB/s eta 0:00:01\r",
      "\u001b[K     |█████████████████████████▏      | 10.8 MB 69.0 MB/s eta 0:00:01\r",
      "\u001b[K     |█████████████████████████▏      | 10.8 MB 69.0 MB/s eta 0:00:01\r",
      "\u001b[K     |█████████████████████████▏      | 10.8 MB 69.0 MB/s eta 0:00:01\r",
      "\u001b[K     |█████████████████████████▎      | 10.8 MB 69.0 MB/s eta 0:00:01\r",
      "\u001b[K     |█████████████████████████▎      | 10.8 MB 69.0 MB/s eta 0:00:01\r",
      "\u001b[K     |█████████████████████████▎      | 10.8 MB 69.0 MB/s eta 0:00:01\r",
      "\u001b[K     |█████████████████████████▎      | 10.8 MB 69.0 MB/s eta 0:00:01\r",
      "\u001b[K     |█████████████████████████▎      | 10.8 MB 69.0 MB/s eta 0:00:01\r",
      "\u001b[K     |█████████████████████████▍      | 10.9 MB 69.0 MB/s eta 0:00:01\r",
      "\u001b[K     |█████████████████████████▍      | 10.9 MB 69.0 MB/s eta 0:00:01\r",
      "\u001b[K     |█████████████████████████▍      | 10.9 MB 69.0 MB/s eta 0:00:01\r",
      "\u001b[K     |█████████████████████████▍      | 10.9 MB 69.0 MB/s eta 0:00:01\r",
      "\u001b[K     |█████████████████████████▌      | 10.9 MB 69.0 MB/s eta 0:00:01\r",
      "\u001b[K     |█████████████████████████▌      | 10.9 MB 69.0 MB/s eta 0:00:01\r",
      "\u001b[K     |█████████████████████████▌      | 10.9 MB 69.0 MB/s eta 0:00:01\r",
      "\u001b[K     |█████████████████████████▌      | 10.9 MB 69.0 MB/s eta 0:00:01\r",
      "\u001b[K     |█████████████████████████▌      | 10.9 MB 69.0 MB/s eta 0:00:01\r",
      "\u001b[K     |█████████████████████████▋      | 10.9 MB 69.0 MB/s eta 0:00:01\r",
      "\u001b[K     |█████████████████████████▋      | 11.0 MB 69.0 MB/s eta 0:00:01\r",
      "\u001b[K     |█████████████████████████▋      | 11.0 MB 69.0 MB/s eta 0:00:01\r",
      "\u001b[K     |█████████████████████████▋      | 11.0 MB 69.0 MB/s eta 0:00:01\r",
      "\u001b[K     |█████████████████████████▋      | 11.0 MB 69.0 MB/s eta 0:00:01\r",
      "\u001b[K     |█████████████████████████▊      | 11.0 MB 69.0 MB/s eta 0:00:01\r",
      "\u001b[K     |█████████████████████████▊      | 11.0 MB 69.0 MB/s eta 0:00:01\r",
      "\u001b[K     |█████████████████████████▊      | 11.0 MB 69.0 MB/s eta 0:00:01\r",
      "\u001b[K     |█████████████████████████▊      | 11.0 MB 69.0 MB/s eta 0:00:01\r",
      "\u001b[K     |█████████████████████████▉      | 11.0 MB 69.0 MB/s eta 0:00:01\r",
      "\u001b[K     |█████████████████████████▉      | 11.0 MB 69.0 MB/s eta 0:00:01\r",
      "\u001b[K     |█████████████████████████▉      | 11.1 MB 69.0 MB/s eta 0:00:01\r",
      "\u001b[K     |█████████████████████████▉      | 11.1 MB 69.0 MB/s eta 0:00:01\r",
      "\u001b[K     |█████████████████████████▉      | 11.1 MB 69.0 MB/s eta 0:00:01\r",
      "\u001b[K     |██████████████████████████      | 11.1 MB 69.0 MB/s eta 0:00:01\r",
      "\u001b[K     |██████████████████████████      | 11.1 MB 69.0 MB/s eta 0:00:01\r",
      "\u001b[K     |██████████████████████████      | 11.1 MB 69.0 MB/s eta 0:00:01\r",
      "\u001b[K     |██████████████████████████      | 11.1 MB 69.0 MB/s eta 0:00:01\r",
      "\u001b[K     |██████████████████████████      | 11.1 MB 69.0 MB/s eta 0:00:01\r",
      "\u001b[K     |██████████████████████████      | 11.1 MB 69.0 MB/s eta 0:00:01\r",
      "\u001b[K     |██████████████████████████      | 11.2 MB 69.0 MB/s eta 0:00:01\r",
      "\u001b[K     |██████████████████████████      | 11.2 MB 69.0 MB/s eta 0:00:01\r",
      "\u001b[K     |██████████████████████████      | 11.2 MB 69.0 MB/s eta 0:00:01\r",
      "\u001b[K     |██████████████████████████▏     | 11.2 MB 69.0 MB/s eta 0:00:01\r",
      "\u001b[K     |██████████████████████████▏     | 11.2 MB 69.0 MB/s eta 0:00:01"
     ]
    },
    {
     "name": "stdout",
     "output_type": "stream",
     "text": [
      "\r",
      "\u001b[K     |██████████████████████████▏     | 11.2 MB 69.0 MB/s eta 0:00:01\r",
      "\u001b[K     |██████████████████████████▏     | 11.2 MB 69.0 MB/s eta 0:00:01\r",
      "\u001b[K     |██████████████████████████▏     | 11.2 MB 69.0 MB/s eta 0:00:01\r",
      "\u001b[K     |██████████████████████████▎     | 11.2 MB 69.0 MB/s eta 0:00:01\r",
      "\u001b[K     |██████████████████████████▎     | 11.2 MB 69.0 MB/s eta 0:00:01\r",
      "\u001b[K     |██████████████████████████▎     | 11.3 MB 69.0 MB/s eta 0:00:01\r",
      "\u001b[K     |██████████████████████████▎     | 11.3 MB 69.0 MB/s eta 0:00:01\r",
      "\u001b[K     |██████████████████████████▎     | 11.3 MB 69.0 MB/s eta 0:00:01\r",
      "\u001b[K     |██████████████████████████▍     | 11.3 MB 69.0 MB/s eta 0:00:01\r",
      "\u001b[K     |██████████████████████████▍     | 11.3 MB 69.0 MB/s eta 0:00:01\r",
      "\u001b[K     |██████████████████████████▍     | 11.3 MB 69.0 MB/s eta 0:00:01\r",
      "\u001b[K     |██████████████████████████▍     | 11.3 MB 69.0 MB/s eta 0:00:01\r",
      "\u001b[K     |██████████████████████████▌     | 11.3 MB 69.0 MB/s eta 0:00:01\r",
      "\u001b[K     |██████████████████████████▌     | 11.3 MB 69.0 MB/s eta 0:00:01\r",
      "\u001b[K     |██████████████████████████▌     | 11.3 MB 69.0 MB/s eta 0:00:01\r",
      "\u001b[K     |██████████████████████████▌     | 11.4 MB 69.0 MB/s eta 0:00:01\r",
      "\u001b[K     |██████████████████████████▌     | 11.4 MB 69.0 MB/s eta 0:00:01\r",
      "\u001b[K     |██████████████████████████▋     | 11.4 MB 69.0 MB/s eta 0:00:01\r",
      "\u001b[K     |██████████████████████████▋     | 11.4 MB 69.0 MB/s eta 0:00:01\r",
      "\u001b[K     |██████████████████████████▋     | 11.4 MB 69.0 MB/s eta 0:00:01\r",
      "\u001b[K     |██████████████████████████▋     | 11.4 MB 69.0 MB/s eta 0:00:01\r",
      "\u001b[K     |██████████████████████████▋     | 11.4 MB 69.0 MB/s eta 0:00:01\r",
      "\u001b[K     |██████████████████████████▊     | 11.4 MB 69.0 MB/s eta 0:00:01\r",
      "\u001b[K     |██████████████████████████▊     | 11.4 MB 69.0 MB/s eta 0:00:01\r",
      "\u001b[K     |██████████████████████████▊     | 11.4 MB 69.0 MB/s eta 0:00:01\r",
      "\u001b[K     |██████████████████████████▊     | 11.5 MB 69.0 MB/s eta 0:00:01\r",
      "\u001b[K     |██████████████████████████▉     | 11.5 MB 69.0 MB/s eta 0:00:01\r",
      "\u001b[K     |██████████████████████████▉     | 11.5 MB 69.0 MB/s eta 0:00:01\r",
      "\u001b[K     |██████████████████████████▉     | 11.5 MB 69.0 MB/s eta 0:00:01\r",
      "\u001b[K     |██████████████████████████▉     | 11.5 MB 69.0 MB/s eta 0:00:01\r",
      "\u001b[K     |██████████████████████████▉     | 11.5 MB 69.0 MB/s eta 0:00:01\r",
      "\u001b[K     |███████████████████████████     | 11.5 MB 69.0 MB/s eta 0:00:01\r",
      "\u001b[K     |███████████████████████████     | 11.5 MB 69.0 MB/s eta 0:00:01\r",
      "\u001b[K     |███████████████████████████     | 11.5 MB 69.0 MB/s eta 0:00:01\r",
      "\u001b[K     |███████████████████████████     | 11.6 MB 69.0 MB/s eta 0:00:01\r",
      "\u001b[K     |███████████████████████████     | 11.6 MB 69.0 MB/s eta 0:00:01\r",
      "\u001b[K     |███████████████████████████     | 11.6 MB 69.0 MB/s eta 0:00:01\r",
      "\u001b[K     |███████████████████████████     | 11.6 MB 69.0 MB/s eta 0:00:01\r",
      "\u001b[K     |███████████████████████████     | 11.6 MB 69.0 MB/s eta 0:00:01\r",
      "\u001b[K     |███████████████████████████     | 11.6 MB 69.0 MB/s eta 0:00:01\r",
      "\u001b[K     |███████████████████████████▏    | 11.6 MB 69.0 MB/s eta 0:00:01\r",
      "\u001b[K     |███████████████████████████▏    | 11.6 MB 69.0 MB/s eta 0:00:01\r",
      "\u001b[K     |███████████████████████████▏    | 11.6 MB 69.0 MB/s eta 0:00:01\r",
      "\u001b[K     |███████████████████████████▏    | 11.6 MB 69.0 MB/s eta 0:00:01\r",
      "\u001b[K     |███████████████████████████▏    | 11.7 MB 69.0 MB/s eta 0:00:01\r",
      "\u001b[K     |███████████████████████████▎    | 11.7 MB 69.0 MB/s eta 0:00:01\r",
      "\u001b[K     |███████████████████████████▎    | 11.7 MB 69.0 MB/s eta 0:00:01\r",
      "\u001b[K     |███████████████████████████▎    | 11.7 MB 69.0 MB/s eta 0:00:01\r",
      "\u001b[K     |███████████████████████████▎    | 11.7 MB 69.0 MB/s eta 0:00:01\r",
      "\u001b[K     |███████████████████████████▍    | 11.7 MB 69.0 MB/s eta 0:00:01\r",
      "\u001b[K     |███████████████████████████▍    | 11.7 MB 69.0 MB/s eta 0:00:01\r",
      "\u001b[K     |███████████████████████████▍    | 11.7 MB 69.0 MB/s eta 0:00:01\r",
      "\u001b[K     |███████████████████████████▍    | 11.7 MB 69.0 MB/s eta 0:00:01\r",
      "\u001b[K     |███████████████████████████▍    | 11.7 MB 69.0 MB/s eta 0:00:01\r",
      "\u001b[K     |███████████████████████████▌    | 11.8 MB 69.0 MB/s eta 0:00:01\r",
      "\u001b[K     |███████████████████████████▌    | 11.8 MB 69.0 MB/s eta 0:00:01\r",
      "\u001b[K     |███████████████████████████▌    | 11.8 MB 69.0 MB/s eta 0:00:01\r",
      "\u001b[K     |███████████████████████████▌    | 11.8 MB 69.0 MB/s eta 0:00:01\r",
      "\u001b[K     |███████████████████████████▌    | 11.8 MB 69.0 MB/s eta 0:00:01\r",
      "\u001b[K     |███████████████████████████▋    | 11.8 MB 69.0 MB/s eta 0:00:01\r",
      "\u001b[K     |███████████████████████████▋    | 11.8 MB 69.0 MB/s eta 0:00:01\r",
      "\u001b[K     |███████████████████████████▋    | 11.8 MB 69.0 MB/s eta 0:00:01\r",
      "\u001b[K     |███████████████████████████▋    | 11.8 MB 69.0 MB/s eta 0:00:01\r",
      "\u001b[K     |███████████████████████████▊    | 11.8 MB 69.0 MB/s eta 0:00:01\r",
      "\u001b[K     |███████████████████████████▊    | 11.9 MB 69.0 MB/s eta 0:00:01\r",
      "\u001b[K     |███████████████████████████▊    | 11.9 MB 69.0 MB/s eta 0:00:01\r",
      "\u001b[K     |███████████████████████████▊    | 11.9 MB 69.0 MB/s eta 0:00:01\r",
      "\u001b[K     |███████████████████████████▊    | 11.9 MB 69.0 MB/s eta 0:00:01\r",
      "\u001b[K     |███████████████████████████▉    | 11.9 MB 69.0 MB/s eta 0:00:01\r",
      "\u001b[K     |███████████████████████████▉    | 11.9 MB 69.0 MB/s eta 0:00:01\r",
      "\u001b[K     |███████████████████████████▉    | 11.9 MB 69.0 MB/s eta 0:00:01\r",
      "\u001b[K     |███████████████████████████▉    | 11.9 MB 69.0 MB/s eta 0:00:01\r",
      "\u001b[K     |███████████████████████████▉    | 11.9 MB 69.0 MB/s eta 0:00:01\r",
      "\u001b[K     |████████████████████████████    | 12.0 MB 69.0 MB/s eta 0:00:01\r",
      "\u001b[K     |████████████████████████████    | 12.0 MB 69.0 MB/s eta 0:00:01\r",
      "\u001b[K     |████████████████████████████    | 12.0 MB 69.0 MB/s eta 0:00:01\r",
      "\u001b[K     |████████████████████████████    | 12.0 MB 69.0 MB/s eta 0:00:01\r",
      "\u001b[K     |████████████████████████████    | 12.0 MB 69.0 MB/s eta 0:00:01\r",
      "\u001b[K     |████████████████████████████    | 12.0 MB 69.0 MB/s eta 0:00:01\r",
      "\u001b[K     |████████████████████████████    | 12.0 MB 69.0 MB/s eta 0:00:01\r",
      "\u001b[K     |████████████████████████████    | 12.0 MB 69.0 MB/s eta 0:00:01\r",
      "\u001b[K     |████████████████████████████    | 12.0 MB 69.0 MB/s eta 0:00:01\r",
      "\u001b[K     |████████████████████████████▏   | 12.0 MB 69.0 MB/s eta 0:00:01\r",
      "\u001b[K     |████████████████████████████▏   | 12.1 MB 69.0 MB/s eta 0:00:01\r",
      "\u001b[K     |████████████████████████████▏   | 12.1 MB 69.0 MB/s eta 0:00:01\r",
      "\u001b[K     |████████████████████████████▏   | 12.1 MB 69.0 MB/s eta 0:00:01\r",
      "\u001b[K     |████████████████████████████▏   | 12.1 MB 69.0 MB/s eta 0:00:01\r",
      "\u001b[K     |████████████████████████████▎   | 12.1 MB 69.0 MB/s eta 0:00:01\r",
      "\u001b[K     |████████████████████████████▎   | 12.1 MB 69.0 MB/s eta 0:00:01\r",
      "\u001b[K     |████████████████████████████▎   | 12.1 MB 69.0 MB/s eta 0:00:01\r",
      "\u001b[K     |████████████████████████████▎   | 12.1 MB 69.0 MB/s eta 0:00:01\r",
      "\u001b[K     |████████████████████████████▍   | 12.1 MB 69.0 MB/s eta 0:00:01\r",
      "\u001b[K     |████████████████████████████▍   | 12.1 MB 69.0 MB/s eta 0:00:01\r",
      "\u001b[K     |████████████████████████████▍   | 12.2 MB 69.0 MB/s eta 0:00:01\r",
      "\u001b[K     |████████████████████████████▍   | 12.2 MB 69.0 MB/s eta 0:00:01\r",
      "\u001b[K     |████████████████████████████▍   | 12.2 MB 69.0 MB/s eta 0:00:01\r",
      "\u001b[K     |████████████████████████████▌   | 12.2 MB 69.0 MB/s eta 0:00:01\r",
      "\u001b[K     |████████████████████████████▌   | 12.2 MB 69.0 MB/s eta 0:00:01\r",
      "\u001b[K     |████████████████████████████▌   | 12.2 MB 69.0 MB/s eta 0:00:01\r",
      "\u001b[K     |████████████████████████████▌   | 12.2 MB 69.0 MB/s eta 0:00:01\r",
      "\u001b[K     |████████████████████████████▌   | 12.2 MB 69.0 MB/s eta 0:00:01\r",
      "\u001b[K     |████████████████████████████▋   | 12.2 MB 69.0 MB/s eta 0:00:01\r",
      "\u001b[K     |████████████████████████████▋   | 12.2 MB 69.0 MB/s eta 0:00:01\r",
      "\u001b[K     |████████████████████████████▋   | 12.3 MB 69.0 MB/s eta 0:00:01\r",
      "\u001b[K     |████████████████████████████▋   | 12.3 MB 69.0 MB/s eta 0:00:01\r",
      "\u001b[K     |████████████████████████████▊   | 12.3 MB 69.0 MB/s eta 0:00:01\r",
      "\u001b[K     |████████████████████████████▊   | 12.3 MB 69.0 MB/s eta 0:00:01\r",
      "\u001b[K     |████████████████████████████▊   | 12.3 MB 69.0 MB/s eta 0:00:01\r",
      "\u001b[K     |████████████████████████████▊   | 12.3 MB 69.0 MB/s eta 0:00:01\r",
      "\u001b[K     |████████████████████████████▊   | 12.3 MB 69.0 MB/s eta 0:00:01\r",
      "\u001b[K     |████████████████████████████▉   | 12.3 MB 69.0 MB/s eta 0:00:01\r",
      "\u001b[K     |████████████████████████████▉   | 12.3 MB 69.0 MB/s eta 0:00:01\r",
      "\u001b[K     |████████████████████████████▉   | 12.3 MB 69.0 MB/s eta 0:00:01\r",
      "\u001b[K     |████████████████████████████▉   | 12.4 MB 69.0 MB/s eta 0:00:01\r",
      "\u001b[K     |████████████████████████████▉   | 12.4 MB 69.0 MB/s eta 0:00:01\r",
      "\u001b[K     |█████████████████████████████   | 12.4 MB 69.0 MB/s eta 0:00:01\r",
      "\u001b[K     |█████████████████████████████   | 12.4 MB 69.0 MB/s eta 0:00:01\r",
      "\u001b[K     |█████████████████████████████   | 12.4 MB 69.0 MB/s eta 0:00:01\r",
      "\u001b[K     |█████████████████████████████   | 12.4 MB 69.0 MB/s eta 0:00:01\r",
      "\u001b[K     |█████████████████████████████   | 12.4 MB 69.0 MB/s eta 0:00:01\r",
      "\u001b[K     |█████████████████████████████   | 12.4 MB 69.0 MB/s eta 0:00:01\r",
      "\u001b[K     |█████████████████████████████   | 12.4 MB 69.0 MB/s eta 0:00:01\r",
      "\u001b[K     |█████████████████████████████   | 12.5 MB 69.0 MB/s eta 0:00:01\r",
      "\u001b[K     |█████████████████████████████   | 12.5 MB 69.0 MB/s eta 0:00:01\r",
      "\u001b[K     |█████████████████████████████▏  | 12.5 MB 69.0 MB/s eta 0:00:01\r",
      "\u001b[K     |█████████████████████████████▏  | 12.5 MB 69.0 MB/s eta 0:00:01\r",
      "\u001b[K     |█████████████████████████████▏  | 12.5 MB 69.0 MB/s eta 0:00:01\r",
      "\u001b[K     |█████████████████████████████▏  | 12.5 MB 69.0 MB/s eta 0:00:01\r",
      "\u001b[K     |█████████████████████████████▎  | 12.5 MB 69.0 MB/s eta 0:00:01\r",
      "\u001b[K     |█████████████████████████████▎  | 12.5 MB 69.0 MB/s eta 0:00:01\r",
      "\u001b[K     |█████████████████████████████▎  | 12.5 MB 69.0 MB/s eta 0:00:01\r",
      "\u001b[K     |█████████████████████████████▎  | 12.5 MB 69.0 MB/s eta 0:00:01\r",
      "\u001b[K     |█████████████████████████████▎  | 12.6 MB 69.0 MB/s eta 0:00:01\r",
      "\u001b[K     |█████████████████████████████▍  | 12.6 MB 69.0 MB/s eta 0:00:01\r",
      "\u001b[K     |█████████████████████████████▍  | 12.6 MB 69.0 MB/s eta 0:00:01\r",
      "\u001b[K     |█████████████████████████████▍  | 12.6 MB 69.0 MB/s eta 0:00:01\r",
      "\u001b[K     |█████████████████████████████▍  | 12.6 MB 69.0 MB/s eta 0:00:01\r",
      "\u001b[K     |█████████████████████████████▍  | 12.6 MB 69.0 MB/s eta 0:00:01\r",
      "\u001b[K     |█████████████████████████████▌  | 12.6 MB 69.0 MB/s eta 0:00:01\r",
      "\u001b[K     |█████████████████████████████▌  | 12.6 MB 69.0 MB/s eta 0:00:01\r",
      "\u001b[K     |█████████████████████████████▌  | 12.6 MB 69.0 MB/s eta 0:00:01\r",
      "\u001b[K     |█████████████████████████████▌  | 12.6 MB 69.0 MB/s eta 0:00:01\r",
      "\u001b[K     |█████████████████████████████▋  | 12.7 MB 69.0 MB/s eta 0:00:01\r",
      "\u001b[K     |█████████████████████████████▋  | 12.7 MB 69.0 MB/s eta 0:00:01\r",
      "\u001b[K     |█████████████████████████████▋  | 12.7 MB 69.0 MB/s eta 0:00:01\r",
      "\u001b[K     |█████████████████████████████▋  | 12.7 MB 69.0 MB/s eta 0:00:01\r",
      "\u001b[K     |█████████████████████████████▋  | 12.7 MB 69.0 MB/s eta 0:00:01\r",
      "\u001b[K     |█████████████████████████████▊  | 12.7 MB 69.0 MB/s eta 0:00:01\r",
      "\u001b[K     |█████████████████████████████▊  | 12.7 MB 69.0 MB/s eta 0:00:01\r",
      "\u001b[K     |█████████████████████████████▊  | 12.7 MB 69.0 MB/s eta 0:00:01\r",
      "\u001b[K     |█████████████████████████████▊  | 12.7 MB 69.0 MB/s eta 0:00:01\r",
      "\u001b[K     |█████████████████████████████▊  | 12.7 MB 69.0 MB/s eta 0:00:01\r",
      "\u001b[K     |█████████████████████████████▉  | 12.8 MB 69.0 MB/s eta 0:00:01\r",
      "\u001b[K     |█████████████████████████████▉  | 12.8 MB 69.0 MB/s eta 0:00:01\r",
      "\u001b[K     |█████████████████████████████▉  | 12.8 MB 69.0 MB/s eta 0:00:01\r",
      "\u001b[K     |█████████████████████████████▉  | 12.8 MB 69.0 MB/s eta 0:00:01\r",
      "\u001b[K     |██████████████████████████████  | 12.8 MB 69.0 MB/s eta 0:00:01\r",
      "\u001b[K     |██████████████████████████████  | 12.8 MB 69.0 MB/s eta 0:00:01\r",
      "\u001b[K     |██████████████████████████████  | 12.8 MB 69.0 MB/s eta 0:00:01\r",
      "\u001b[K     |██████████████████████████████  | 12.8 MB 69.0 MB/s eta 0:00:01\r",
      "\u001b[K     |██████████████████████████████  | 12.8 MB 69.0 MB/s eta 0:00:01\r",
      "\u001b[K     |██████████████████████████████  | 12.9 MB 69.0 MB/s eta 0:00:01\r",
      "\u001b[K     |██████████████████████████████  | 12.9 MB 69.0 MB/s eta 0:00:01\r",
      "\u001b[K     |██████████████████████████████  | 12.9 MB 69.0 MB/s eta 0:00:01\r",
      "\u001b[K     |██████████████████████████████  | 12.9 MB 69.0 MB/s eta 0:00:01\r",
      "\u001b[K     |██████████████████████████████  | 12.9 MB 69.0 MB/s eta 0:00:01\r",
      "\u001b[K     |██████████████████████████████▏ | 12.9 MB 69.0 MB/s eta 0:00:01\r",
      "\u001b[K     |██████████████████████████████▏ | 12.9 MB 69.0 MB/s eta 0:00:01\r",
      "\u001b[K     |██████████████████████████████▏ | 12.9 MB 69.0 MB/s eta 0:00:01\r",
      "\u001b[K     |██████████████████████████████▏ | 12.9 MB 69.0 MB/s eta 0:00:01\r",
      "\u001b[K     |██████████████████████████████▎ | 12.9 MB 69.0 MB/s eta 0:00:01\r",
      "\u001b[K     |██████████████████████████████▎ | 13.0 MB 69.0 MB/s eta 0:00:01\r",
      "\u001b[K     |██████████████████████████████▎ | 13.0 MB 69.0 MB/s eta 0:00:01\r",
      "\u001b[K     |██████████████████████████████▎ | 13.0 MB 69.0 MB/s eta 0:00:01\r",
      "\u001b[K     |██████████████████████████████▎ | 13.0 MB 69.0 MB/s eta 0:00:01\r",
      "\u001b[K     |██████████████████████████████▍ | 13.0 MB 69.0 MB/s eta 0:00:01\r",
      "\u001b[K     |██████████████████████████████▍ | 13.0 MB 69.0 MB/s eta 0:00:01\r",
      "\u001b[K     |██████████████████████████████▍ | 13.0 MB 69.0 MB/s eta 0:00:01\r",
      "\u001b[K     |██████████████████████████████▍ | 13.0 MB 69.0 MB/s eta 0:00:01\r",
      "\u001b[K     |██████████████████████████████▍ | 13.0 MB 69.0 MB/s eta 0:00:01\r",
      "\u001b[K     |██████████████████████████████▌ | 13.0 MB 69.0 MB/s eta 0:00:01\r",
      "\u001b[K     |██████████████████████████████▌ | 13.1 MB 69.0 MB/s eta 0:00:01\r",
      "\u001b[K     |██████████████████████████████▌ | 13.1 MB 69.0 MB/s eta 0:00:01\r",
      "\u001b[K     |██████████████████████████████▌ | 13.1 MB 69.0 MB/s eta 0:00:01\r",
      "\u001b[K     |██████████████████████████████▋ | 13.1 MB 69.0 MB/s eta 0:00:01\r",
      "\u001b[K     |██████████████████████████████▋ | 13.1 MB 69.0 MB/s eta 0:00:01\r",
      "\u001b[K     |██████████████████████████████▋ | 13.1 MB 69.0 MB/s eta 0:00:01\r",
      "\u001b[K     |██████████████████████████████▋ | 13.1 MB 69.0 MB/s eta 0:00:01\r",
      "\u001b[K     |██████████████████████████████▋ | 13.1 MB 69.0 MB/s eta 0:00:01\r",
      "\u001b[K     |██████████████████████████████▊ | 13.1 MB 69.0 MB/s eta 0:00:01\r",
      "\u001b[K     |██████████████████████████████▊ | 13.1 MB 69.0 MB/s eta 0:00:01\r",
      "\u001b[K     |██████████████████████████████▊ | 13.2 MB 69.0 MB/s eta 0:00:01\r",
      "\u001b[K     |██████████████████████████████▊ | 13.2 MB 69.0 MB/s eta 0:00:01\r",
      "\u001b[K     |██████████████████████████████▊ | 13.2 MB 69.0 MB/s eta 0:00:01\r",
      "\u001b[K     |██████████████████████████████▉ | 13.2 MB 69.0 MB/s eta 0:00:01\r",
      "\u001b[K     |██████████████████████████████▉ | 13.2 MB 69.0 MB/s eta 0:00:01\r",
      "\u001b[K     |██████████████████████████████▉ | 13.2 MB 69.0 MB/s eta 0:00:01\r",
      "\u001b[K     |██████████████████████████████▉ | 13.2 MB 69.0 MB/s eta 0:00:01\r",
      "\u001b[K     |███████████████████████████████ | 13.2 MB 69.0 MB/s eta 0:00:01\r",
      "\u001b[K     |███████████████████████████████ | 13.2 MB 69.0 MB/s eta 0:00:01\r",
      "\u001b[K     |███████████████████████████████ | 13.3 MB 69.0 MB/s eta 0:00:01\r",
      "\u001b[K     |███████████████████████████████ | 13.3 MB 69.0 MB/s eta 0:00:01\r",
      "\u001b[K     |███████████████████████████████ | 13.3 MB 69.0 MB/s eta 0:00:01\r",
      "\u001b[K     |███████████████████████████████ | 13.3 MB 69.0 MB/s eta 0:00:01\r",
      "\u001b[K     |███████████████████████████████ | 13.3 MB 69.0 MB/s eta 0:00:01\r",
      "\u001b[K     |███████████████████████████████ | 13.3 MB 69.0 MB/s eta 0:00:01\r",
      "\u001b[K     |███████████████████████████████ | 13.3 MB 69.0 MB/s eta 0:00:01\r",
      "\u001b[K     |███████████████████████████████▏| 13.3 MB 69.0 MB/s eta 0:00:01\r",
      "\u001b[K     |███████████████████████████████▏| 13.3 MB 69.0 MB/s eta 0:00:01\r",
      "\u001b[K     |███████████████████████████████▏| 13.3 MB 69.0 MB/s eta 0:00:01\r",
      "\u001b[K     |███████████████████████████████▏| 13.4 MB 69.0 MB/s eta 0:00:01\r",
      "\u001b[K     |███████████████████████████████▏| 13.4 MB 69.0 MB/s eta 0:00:01\r",
      "\u001b[K     |███████████████████████████████▎| 13.4 MB 69.0 MB/s eta 0:00:01\r",
      "\u001b[K     |███████████████████████████████▎| 13.4 MB 69.0 MB/s eta 0:00:01\r",
      "\u001b[K     |███████████████████████████████▎| 13.4 MB 69.0 MB/s eta 0:00:01\r",
      "\u001b[K     |███████████████████████████████▎| 13.4 MB 69.0 MB/s eta 0:00:01\r",
      "\u001b[K     |███████████████████████████████▎| 13.4 MB 69.0 MB/s eta 0:00:01\r",
      "\u001b[K     |███████████████████████████████▍| 13.4 MB 69.0 MB/s eta 0:00:01\r",
      "\u001b[K     |███████████████████████████████▍| 13.4 MB 69.0 MB/s eta 0:00:01\r",
      "\u001b[K     |███████████████████████████████▍| 13.4 MB 69.0 MB/s eta 0:00:01\r",
      "\u001b[K     |███████████████████████████████▍| 13.5 MB 69.0 MB/s eta 0:00:01\r",
      "\u001b[K     |███████████████████████████████▌| 13.5 MB 69.0 MB/s eta 0:00:01\r",
      "\u001b[K     |███████████████████████████████▌| 13.5 MB 69.0 MB/s eta 0:00:01\r",
      "\u001b[K     |███████████████████████████████▌| 13.5 MB 69.0 MB/s eta 0:00:01\r",
      "\u001b[K     |███████████████████████████████▌| 13.5 MB 69.0 MB/s eta 0:00:01\r",
      "\u001b[K     |███████████████████████████████▌| 13.5 MB 69.0 MB/s eta 0:00:01\r",
      "\u001b[K     |███████████████████████████████▋| 13.5 MB 69.0 MB/s eta 0:00:01\r",
      "\u001b[K     |███████████████████████████████▋| 13.5 MB 69.0 MB/s eta 0:00:01\r",
      "\u001b[K     |███████████████████████████████▋| 13.5 MB 69.0 MB/s eta 0:00:01\r",
      "\u001b[K     |███████████████████████████████▋| 13.5 MB 69.0 MB/s eta 0:00:01\r",
      "\u001b[K     |███████████████████████████████▋| 13.6 MB 69.0 MB/s eta 0:00:01\r",
      "\u001b[K     |███████████████████████████████▊| 13.6 MB 69.0 MB/s eta 0:00:01\r",
      "\u001b[K     |███████████████████████████████▊| 13.6 MB 69.0 MB/s eta 0:00:01\r",
      "\u001b[K     |███████████████████████████████▊| 13.6 MB 69.0 MB/s eta 0:00:01\r",
      "\u001b[K     |███████████████████████████████▊| 13.6 MB 69.0 MB/s eta 0:00:01\r",
      "\u001b[K     |███████████████████████████████▉| 13.6 MB 69.0 MB/s eta 0:00:01\r",
      "\u001b[K     |███████████████████████████████▉| 13.6 MB 69.0 MB/s eta 0:00:01\r",
      "\u001b[K     |███████████████████████████████▉| 13.6 MB 69.0 MB/s eta 0:00:01\r",
      "\u001b[K     |███████████████████████████████▉| 13.6 MB 69.0 MB/s eta 0:00:01\r",
      "\u001b[K     |███████████████████████████████▉| 13.6 MB 69.0 MB/s eta 0:00:01\r",
      "\u001b[K     |████████████████████████████████| 13.7 MB 69.0 MB/s eta 0:00:01\r",
      "\u001b[K     |████████████████████████████████| 13.7 MB 69.0 MB/s eta 0:00:01\r",
      "\u001b[K     |████████████████████████████████| 13.7 MB 69.0 MB/s eta 0:00:01\r",
      "\u001b[K     |████████████████████████████████| 13.7 MB 69.0 MB/s eta 0:00:01\r",
      "\u001b[K     |████████████████████████████████| 13.7 MB 69.0 MB/s eta 0:00:01"
     ]
    },
    {
     "name": "stdout",
     "output_type": "stream",
     "text": [
      "\r",
      "\u001b[K     |████████████████████████████████| 13.7 MB 69.0 MB/s \r\n"
     ]
    },
    {
     "name": "stdout",
     "output_type": "stream",
     "text": [
      "\u001b[?25hRequirement already satisfied: typing-extensions>=3.7.4.3 in /opt/conda/envs/eurodatacube-0.24.5/lib/python3.8/site-packages (from pydantic>=1.6->stac-pydantic==1.3.9->aireo-library==0.0.post1.dev6+gba53c4a) (3.7.4.3)\r\n",
      "Requirement already satisfied: pyproj>=2.2.0 in /opt/conda/envs/eurodatacube-0.24.5/lib/python3.8/site-packages (from geopandas->aireo-library==0.0.post1.dev6+gba53c4a) (3.0.1)\r\n",
      "Requirement already satisfied: fiona>=1.8 in /opt/conda/envs/eurodatacube-0.24.5/lib/python3.8/site-packages (from geopandas->aireo-library==0.0.post1.dev6+gba53c4a) (1.8.18)\r\n",
      "Requirement already satisfied: pandas>=0.24.0 in /opt/conda/envs/eurodatacube-0.24.5/lib/python3.8/site-packages (from geopandas->aireo-library==0.0.post1.dev6+gba53c4a) (1.2.4)\r\n",
      "Requirement already satisfied: shapely>=1.6 in /opt/conda/envs/eurodatacube-0.24.5/lib/python3.8/site-packages (from geopandas->aireo-library==0.0.post1.dev6+gba53c4a) (1.7.1)\r\n",
      "Requirement already satisfied: attrs>=17 in /opt/conda/envs/eurodatacube-0.24.5/lib/python3.8/site-packages (from fiona>=1.8->geopandas->aireo-library==0.0.post1.dev6+gba53c4a) (21.2.0)\r\n",
      "Requirement already satisfied: certifi in /opt/conda/envs/eurodatacube-0.24.5/lib/python3.8/site-packages (from fiona>=1.8->geopandas->aireo-library==0.0.post1.dev6+gba53c4a) (2020.12.5)\r\n",
      "Requirement already satisfied: cligj>=0.5 in /opt/conda/envs/eurodatacube-0.24.5/lib/python3.8/site-packages (from fiona>=1.8->geopandas->aireo-library==0.0.post1.dev6+gba53c4a) (0.7.1)\r\n",
      "Requirement already satisfied: click-plugins>=1.0 in /opt/conda/envs/eurodatacube-0.24.5/lib/python3.8/site-packages (from fiona>=1.8->geopandas->aireo-library==0.0.post1.dev6+gba53c4a) (1.1.1)\r\n",
      "Requirement already satisfied: six>=1.7 in /opt/conda/envs/eurodatacube-0.24.5/lib/python3.8/site-packages (from fiona>=1.8->geopandas->aireo-library==0.0.post1.dev6+gba53c4a) (1.16.0)\r\n",
      "Requirement already satisfied: munch in /opt/conda/envs/eurodatacube-0.24.5/lib/python3.8/site-packages (from fiona>=1.8->geopandas->aireo-library==0.0.post1.dev6+gba53c4a) (2.5.0)\r\n"
     ]
    },
    {
     "name": "stdout",
     "output_type": "stream",
     "text": [
      "Requirement already satisfied: python-dateutil>=2.7.3 in /opt/conda/envs/eurodatacube-0.24.5/lib/python3.8/site-packages (from pandas>=0.24.0->geopandas->aireo-library==0.0.post1.dev6+gba53c4a) (2.8.1)\r\n",
      "Requirement already satisfied: pytz>=2017.3 in /opt/conda/envs/eurodatacube-0.24.5/lib/python3.8/site-packages (from pandas>=0.24.0->geopandas->aireo-library==0.0.post1.dev6+gba53c4a) (2021.1)\r\n"
     ]
    },
    {
     "name": "stdout",
     "output_type": "stream",
     "text": [
      "Requirement already satisfied: pillow>=6.2.0 in /opt/conda/envs/eurodatacube-0.24.5/lib/python3.8/site-packages (from matplotlib->aireo-library==0.0.post1.dev6+gba53c4a) (8.1.2)\r\n",
      "Requirement already satisfied: pyparsing>=2.2.1 in /opt/conda/envs/eurodatacube-0.24.5/lib/python3.8/site-packages (from matplotlib->aireo-library==0.0.post1.dev6+gba53c4a) (2.4.7)\r\n",
      "Requirement already satisfied: kiwisolver>=1.0.1 in /opt/conda/envs/eurodatacube-0.24.5/lib/python3.8/site-packages (from matplotlib->aireo-library==0.0.post1.dev6+gba53c4a) (1.3.1)\r\n",
      "Requirement already satisfied: cycler>=0.10 in /opt/conda/envs/eurodatacube-0.24.5/lib/python3.8/site-packages (from matplotlib->aireo-library==0.0.post1.dev6+gba53c4a) (0.10.0)\r\n",
      "Requirement already satisfied: PyYAML in /opt/conda/envs/eurodatacube-0.24.5/lib/python3.8/site-packages (from pyaml->aireo-library==0.0.post1.dev6+gba53c4a) (5.4.1)\r\n"
     ]
    },
    {
     "name": "stdout",
     "output_type": "stream",
     "text": [
      "Requirement already satisfied: setuptools>=40.4 in /opt/conda/envs/eurodatacube-0.24.5/lib/python3.8/site-packages (from xarray->aireo-library==0.0.post1.dev6+gba53c4a) (49.6.0.post20210108)\r\n",
      "Building wheels for collected packages: aireo-library, geojson-pydantic\r\n"
     ]
    },
    {
     "name": "stdout",
     "output_type": "stream",
     "text": [
      "  Building wheel for aireo-library (PEP 517) ... \u001b[?25l-"
     ]
    },
    {
     "name": "stdout",
     "output_type": "stream",
     "text": [
      "\b \b\\"
     ]
    },
    {
     "name": "stdout",
     "output_type": "stream",
     "text": [
      "\b \bdone\r\n",
      "\u001b[?25h  Created wheel for aireo-library: filename=aireo_library-0.0.post1.dev6+gba53c4a-py2.py3-none-any.whl size=32595 sha256=9ee763acb31ab2fa586c51b3763b78accaa082e73d413897314d167393f1e9cd\r\n",
      "  Stored in directory: /tmp/pip-ephem-wheel-cache-ig6q0lt1/wheels/21/0d/e3/5070de6a55fd86816588bdec861c04e5854a778bdc27889fa4\r\n"
     ]
    },
    {
     "name": "stdout",
     "output_type": "stream",
     "text": [
      "  Building wheel for geojson-pydantic (setup.py) ... \u001b[?25l-"
     ]
    },
    {
     "name": "stdout",
     "output_type": "stream",
     "text": [
      "\b \b\\"
     ]
    },
    {
     "name": "stdout",
     "output_type": "stream",
     "text": [
      "\b \bdone\r\n",
      "\u001b[?25h  Created wheel for geojson-pydantic: filename=geojson_pydantic-0.3.1-py3-none-any.whl size=6939 sha256=059c86d8e35ab20d82729ebf3ec9a35774a11bcf37e08ef0f538e5f9e3e943e7\r\n",
      "  Stored in directory: /home/jovyan/true/wheels/ef/c4/15/441ebb8276a98d23e3ea91a7724f583b1a1602ad9a5e8b3f94\r\n",
      "Successfully built aireo-library geojson-pydantic\r\n"
     ]
    },
    {
     "name": "stdout",
     "output_type": "stream",
     "text": [
      "Installing collected packages: pydantic, geojson-pydantic, stac-pydantic, pyaml, loguru, aireo-library\r\n"
     ]
    },
    {
     "name": "stdout",
     "output_type": "stream",
     "text": [
      "Successfully installed aireo-library-0.0.post1.dev6+gba53c4a geojson-pydantic-0.3.1 loguru-0.5.3 pyaml-21.8.3 pydantic-1.8.2 stac-pydantic-1.3.9\r\n"
     ]
    }
   ],
   "source": [
    "#Install aireo library\n",
    "!python3 -m pip install git+https://github.com/aireo-project/aireo_lib"
   ]
  },
  {
   "cell_type": "markdown",
   "id": "a42b5654",
   "metadata": {
    "papermill": {
     "duration": 0.031223,
     "end_time": "2021-08-19T08:24:28.511637",
     "exception": false,
     "start_time": "2021-08-19T08:24:28.480414",
     "status": "completed"
    },
    "tags": []
   },
   "source": [
    "# AIREO pilot dataset - Biomass (Forest Observation System)\n"
   ]
  },
  {
   "cell_type": "markdown",
   "id": "2a61c9eb",
   "metadata": {
    "papermill": {
     "duration": 0.032684,
     "end_time": "2021-08-19T08:24:28.578314",
     "exception": false,
     "start_time": "2021-08-19T08:24:28.545630",
     "status": "completed"
    },
    "tags": []
   },
   "source": [
    "Forest Observation System [FOS](https://forest-observation-system.net) is an international cooperation aiming to establish an in-situ forest biomass database in order to support Earth Observation with reliable, up to date, representative and comparable data for validation (Schepaschenko, D. et al. 2019)."
   ]
  },
  {
   "cell_type": "markdown",
   "id": "be6010c0",
   "metadata": {
    "papermill": {
     "duration": 0.040159,
     "end_time": "2021-08-19T08:24:28.654097",
     "exception": false,
     "start_time": "2021-08-19T08:24:28.613938",
     "status": "completed"
    },
    "tags": []
   },
   "source": [
    "## Introduction\n",
    "\n",
    "The notebook demonstrates the use of <b> aireo_lib </b>, a python library created as a part of the [AIREO](https://aireo.net/) (Artificial Intelligence Ready Earth Observation training datasets) project. The project aims to make EO datasets easily accessible for the ML (Machine Learning) community. As such, AIREO specifications (shorthand specs) which define metadata elements to be included with the training dataset are proposed, supplemented by a best-practices document which suggests how to fill those metadata elements. Finally, the library takes all into account and implements specs, best-practices and offers an easy-to-use pythonic interface bridging the gap between EO and ML community.\n",
    "\n",
    "Therefore, this notebook is divided into two sections, one for the training dataset creator (usually from the EO community) and the other for its user (usually from the ML community). The structure of the notebook is the following:\n",
    "\n",
    "\n",
    "1) For Creator \n",
    "\n",
    "    - Create a [STAC](https://stacspec.org/) catalog object using the library\n",
    "    \n",
    "    - Populate metadata elements prescribed by the AIREO specs\n",
    "    \n",
    "    - Generate a STAC metadata directory using the library\n",
    "\n",
    "    - Check AIREO compliance level and metadata completeness\n",
    "\n",
    "   \n",
    "2) For User \n",
    "\n",
    "    - Create a training dataset object as defined in the library using only the STAC metadata\n",
    "    \n",
    "    - Get example instances from the object and other dataset variables like the number of instances, etc.\n",
    "    \n",
    "    - Use library's functions to plot the data\n",
    "    \n",
    "    - Investigate statistics using the library"
   ]
  },
  {
   "cell_type": "markdown",
   "id": "b0401fc4",
   "metadata": {
    "papermill": {
     "duration": 0.035136,
     "end_time": "2021-08-19T08:24:28.723251",
     "exception": false,
     "start_time": "2021-08-19T08:24:28.688115",
     "status": "completed"
    },
    "tags": []
   },
   "source": [
    "## AIREO STAC Catalog basics"
   ]
  },
  {
   "cell_type": "markdown",
   "id": "c06dc39b",
   "metadata": {
    "papermill": {
     "duration": 0.038459,
     "end_time": "2021-08-19T08:24:28.797874",
     "exception": false,
     "start_time": "2021-08-19T08:24:28.759415",
     "status": "completed"
    },
    "tags": []
   },
   "source": [
    "The AIREO specs propose a hierarchical structure for STAC metadata. It is a two level structure where the dataset is represented by a collection of AOIs (Area Of Interests), hence, the dataset and AOI being the two levels.\n",
    "\n",
    "1. At the dataset level we have a dataset catalog whose metadata elements are the core elements proposed in the AIREO spec. In addition to it, the common metadata elements across each AOI are also at the dataset level, which we shall call root level henceforth. Here, for each data variable there is a separate json which is a STAC Item by definition and is named using the field_schema metadata element. Additionally, there is also a datasheet file in markdown format at the root level which contains human readable information about the key elements of the dataset.\n",
    "\n",
    "2. Each AOI has a separate folder within the root level. And in each AOI folder there is a STAC collection representing that AOI and additional json files for each data variable. The additional json files here too, are STAC Items and follow a similar naming convention to the ones at the root level. The assets for each AOI, i.e. the files containing actual data are also in the folder.\n",
    "\n",
    "The diagram below summarises this hierarchical structure:\n",
    "\n",
    "\n",
    "```\n",
    "Root level (dataset)\n",
    "│\n",
    "│   DatasetCatalog.json\n",
    "│   datasheet.md\n",
    "│   references_output1.json\n",
    "│   features_input1.json\n",
    "│   ...\n",
    "│\n",
    "│\n",
    "└───AOI 1\n",
    "│      1.json (AOI Collection)\n",
    "│      feature_input1.json\n",
    "│      reference_output1.json\n",
    "│      <reference_asset>\n",
    "│      <feature_asseet>\n",
    "│   \n",
    "│   \n",
    "└───AOI 2\n",
    "│      ...\n",
    "│   \n",
    "│\n",
    "└───AOI 3\n",
    "│      ...\n",
    "│   \n",
    "...     \n",
    "```"
   ]
  },
  {
   "cell_type": "markdown",
   "id": "0a1a0229",
   "metadata": {
    "papermill": {
     "duration": 0.042806,
     "end_time": "2021-08-19T08:24:28.871693",
     "exception": false,
     "start_time": "2021-08-19T08:24:28.828887",
     "status": "completed"
    },
    "tags": []
   },
   "source": [
    "## Creator perpsective"
   ]
  },
  {
   "cell_type": "code",
   "execution_count": 3,
   "id": "5414382b",
   "metadata": {
    "execution": {
     "iopub.execute_input": "2021-08-19T08:24:28.933914Z",
     "iopub.status.busy": "2021-08-19T08:24:28.933331Z",
     "iopub.status.idle": "2021-08-19T08:24:30.595288Z",
     "shell.execute_reply": "2021-08-19T08:24:30.594698Z"
    },
    "papermill": {
     "duration": 1.693639,
     "end_time": "2021-08-19T08:24:30.595398",
     "exception": false,
     "start_time": "2021-08-19T08:24:28.901759",
     "status": "completed"
    },
    "tags": []
   },
   "outputs": [],
   "source": [
    "import aireo_lib.core\n",
    "import os\n",
    "import json\n",
    "import numpy as np\n",
    "from osgeo import gdal\n",
    "from tqdm.notebook import tqdm\n",
    "from shapely import geometry\n",
    "import shutil\n",
    "import rioxarray\n",
    "import xarray as xr\n",
    "from pathlib import Path\n",
    "from sentinelhub import (SHConfig, BBox, bbox_to_dimensions, CRS,SentinelHubBatch, SentinelHubRequest, DataCollection, MimeType, FisRequest)\n",
    "from sentinelhub.geometry import Geometry\n",
    "import PIL.Image as Image\n",
    "import pandas as pd\n",
    "pd.set_option('display.max_rows', None)\n",
    "import geopandas as gp"
   ]
  },
  {
   "cell_type": "markdown",
   "id": "ee155d0b",
   "metadata": {
    "tags": [
     "papermill-error-cell-tag"
    ]
   },
   "source": [
    "<span id=\"papermill-error-cell\" style=\"color:red; font-family:Helvetica Neue, Helvetica, Arial, sans-serif; font-size:2em;\">Execution using papermill encountered an exception here and stopped:</span>"
   ]
  },
  {
   "cell_type": "code",
   "execution_count": 4,
   "id": "25f2707c",
   "metadata": {
    "execution": {
     "iopub.execute_input": "2021-08-19T08:24:30.731430Z",
     "iopub.status.busy": "2021-08-19T08:24:30.730841Z",
     "iopub.status.idle": "2021-08-19T08:24:30.943251Z",
     "shell.execute_reply": "2021-08-19T08:24:30.942649Z"
    },
    "papermill": {
     "duration": 0.284765,
     "end_time": "2021-08-19T08:24:30.943481",
     "exception": true,
     "start_time": "2021-08-19T08:24:30.658716",
     "status": "failed"
    },
    "tags": []
   },
   "outputs": [
    {
     "ename": "URLError",
     "evalue": "<urlopen error [SSL: CERTIFICATE_VERIFY_FAILED] certificate verify failed: certificate has expired (_ssl.c:1131)>",
     "output_type": "error",
     "traceback": [
      "\u001b[0;31m---------------------------------------------------------------------------\u001b[0m",
      "\u001b[0;31mSSLCertVerificationError\u001b[0m                  Traceback (most recent call last)",
      "\u001b[0;32m/opt/conda/envs/eurodatacube-0.24.5/lib/python3.8/urllib/request.py\u001b[0m in \u001b[0;36mdo_open\u001b[0;34m(self, http_class, req, **http_conn_args)\u001b[0m\n\u001b[1;32m   1353\u001b[0m             \u001b[0;32mtry\u001b[0m\u001b[0;34m:\u001b[0m\u001b[0;34m\u001b[0m\u001b[0;34m\u001b[0m\u001b[0m\n\u001b[0;32m-> 1354\u001b[0;31m                 h.request(req.get_method(), req.selector, req.data, headers,\n\u001b[0m\u001b[1;32m   1355\u001b[0m                           encode_chunked=req.has_header('Transfer-encoding'))\n",
      "\u001b[0;32m/opt/conda/envs/eurodatacube-0.24.5/lib/python3.8/http/client.py\u001b[0m in \u001b[0;36mrequest\u001b[0;34m(self, method, url, body, headers, encode_chunked)\u001b[0m\n\u001b[1;32m   1251\u001b[0m         \u001b[0;34m\"\"\"Send a complete request to the server.\"\"\"\u001b[0m\u001b[0;34m\u001b[0m\u001b[0;34m\u001b[0m\u001b[0m\n\u001b[0;32m-> 1252\u001b[0;31m         \u001b[0mself\u001b[0m\u001b[0;34m.\u001b[0m\u001b[0m_send_request\u001b[0m\u001b[0;34m(\u001b[0m\u001b[0mmethod\u001b[0m\u001b[0;34m,\u001b[0m \u001b[0murl\u001b[0m\u001b[0;34m,\u001b[0m \u001b[0mbody\u001b[0m\u001b[0;34m,\u001b[0m \u001b[0mheaders\u001b[0m\u001b[0;34m,\u001b[0m \u001b[0mencode_chunked\u001b[0m\u001b[0;34m)\u001b[0m\u001b[0;34m\u001b[0m\u001b[0;34m\u001b[0m\u001b[0m\n\u001b[0m\u001b[1;32m   1253\u001b[0m \u001b[0;34m\u001b[0m\u001b[0m\n",
      "\u001b[0;32m/opt/conda/envs/eurodatacube-0.24.5/lib/python3.8/http/client.py\u001b[0m in \u001b[0;36m_send_request\u001b[0;34m(self, method, url, body, headers, encode_chunked)\u001b[0m\n\u001b[1;32m   1297\u001b[0m             \u001b[0mbody\u001b[0m \u001b[0;34m=\u001b[0m \u001b[0m_encode\u001b[0m\u001b[0;34m(\u001b[0m\u001b[0mbody\u001b[0m\u001b[0;34m,\u001b[0m \u001b[0;34m'body'\u001b[0m\u001b[0;34m)\u001b[0m\u001b[0;34m\u001b[0m\u001b[0;34m\u001b[0m\u001b[0m\n\u001b[0;32m-> 1298\u001b[0;31m         \u001b[0mself\u001b[0m\u001b[0;34m.\u001b[0m\u001b[0mendheaders\u001b[0m\u001b[0;34m(\u001b[0m\u001b[0mbody\u001b[0m\u001b[0;34m,\u001b[0m \u001b[0mencode_chunked\u001b[0m\u001b[0;34m=\u001b[0m\u001b[0mencode_chunked\u001b[0m\u001b[0;34m)\u001b[0m\u001b[0;34m\u001b[0m\u001b[0;34m\u001b[0m\u001b[0m\n\u001b[0m\u001b[1;32m   1299\u001b[0m \u001b[0;34m\u001b[0m\u001b[0m\n",
      "\u001b[0;32m/opt/conda/envs/eurodatacube-0.24.5/lib/python3.8/http/client.py\u001b[0m in \u001b[0;36mendheaders\u001b[0;34m(self, message_body, encode_chunked)\u001b[0m\n\u001b[1;32m   1246\u001b[0m             \u001b[0;32mraise\u001b[0m \u001b[0mCannotSendHeader\u001b[0m\u001b[0;34m(\u001b[0m\u001b[0;34m)\u001b[0m\u001b[0;34m\u001b[0m\u001b[0;34m\u001b[0m\u001b[0m\n\u001b[0;32m-> 1247\u001b[0;31m         \u001b[0mself\u001b[0m\u001b[0;34m.\u001b[0m\u001b[0m_send_output\u001b[0m\u001b[0;34m(\u001b[0m\u001b[0mmessage_body\u001b[0m\u001b[0;34m,\u001b[0m \u001b[0mencode_chunked\u001b[0m\u001b[0;34m=\u001b[0m\u001b[0mencode_chunked\u001b[0m\u001b[0;34m)\u001b[0m\u001b[0;34m\u001b[0m\u001b[0;34m\u001b[0m\u001b[0m\n\u001b[0m\u001b[1;32m   1248\u001b[0m \u001b[0;34m\u001b[0m\u001b[0m\n",
      "\u001b[0;32m/opt/conda/envs/eurodatacube-0.24.5/lib/python3.8/http/client.py\u001b[0m in \u001b[0;36m_send_output\u001b[0;34m(self, message_body, encode_chunked)\u001b[0m\n\u001b[1;32m   1006\u001b[0m         \u001b[0;32mdel\u001b[0m \u001b[0mself\u001b[0m\u001b[0;34m.\u001b[0m\u001b[0m_buffer\u001b[0m\u001b[0;34m[\u001b[0m\u001b[0;34m:\u001b[0m\u001b[0;34m]\u001b[0m\u001b[0;34m\u001b[0m\u001b[0;34m\u001b[0m\u001b[0m\n\u001b[0;32m-> 1007\u001b[0;31m         \u001b[0mself\u001b[0m\u001b[0;34m.\u001b[0m\u001b[0msend\u001b[0m\u001b[0;34m(\u001b[0m\u001b[0mmsg\u001b[0m\u001b[0;34m)\u001b[0m\u001b[0;34m\u001b[0m\u001b[0;34m\u001b[0m\u001b[0m\n\u001b[0m\u001b[1;32m   1008\u001b[0m \u001b[0;34m\u001b[0m\u001b[0m\n",
      "\u001b[0;32m/opt/conda/envs/eurodatacube-0.24.5/lib/python3.8/http/client.py\u001b[0m in \u001b[0;36msend\u001b[0;34m(self, data)\u001b[0m\n\u001b[1;32m    946\u001b[0m             \u001b[0;32mif\u001b[0m \u001b[0mself\u001b[0m\u001b[0;34m.\u001b[0m\u001b[0mauto_open\u001b[0m\u001b[0;34m:\u001b[0m\u001b[0;34m\u001b[0m\u001b[0;34m\u001b[0m\u001b[0m\n\u001b[0;32m--> 947\u001b[0;31m                 \u001b[0mself\u001b[0m\u001b[0;34m.\u001b[0m\u001b[0mconnect\u001b[0m\u001b[0;34m(\u001b[0m\u001b[0;34m)\u001b[0m\u001b[0;34m\u001b[0m\u001b[0;34m\u001b[0m\u001b[0m\n\u001b[0m\u001b[1;32m    948\u001b[0m             \u001b[0;32melse\u001b[0m\u001b[0;34m:\u001b[0m\u001b[0;34m\u001b[0m\u001b[0;34m\u001b[0m\u001b[0m\n",
      "\u001b[0;32m/opt/conda/envs/eurodatacube-0.24.5/lib/python3.8/http/client.py\u001b[0m in \u001b[0;36mconnect\u001b[0;34m(self)\u001b[0m\n\u001b[1;32m   1420\u001b[0m \u001b[0;34m\u001b[0m\u001b[0m\n\u001b[0;32m-> 1421\u001b[0;31m             self.sock = self._context.wrap_socket(self.sock,\n\u001b[0m\u001b[1;32m   1422\u001b[0m                                                   server_hostname=server_hostname)\n",
      "\u001b[0;32m/opt/conda/envs/eurodatacube-0.24.5/lib/python3.8/ssl.py\u001b[0m in \u001b[0;36mwrap_socket\u001b[0;34m(self, sock, server_side, do_handshake_on_connect, suppress_ragged_eofs, server_hostname, session)\u001b[0m\n\u001b[1;32m    499\u001b[0m         \u001b[0;31m# ctx._wrap_socket()\u001b[0m\u001b[0;34m\u001b[0m\u001b[0;34m\u001b[0m\u001b[0;34m\u001b[0m\u001b[0m\n\u001b[0;32m--> 500\u001b[0;31m         return self.sslsocket_class._create(\n\u001b[0m\u001b[1;32m    501\u001b[0m             \u001b[0msock\u001b[0m\u001b[0;34m=\u001b[0m\u001b[0msock\u001b[0m\u001b[0;34m,\u001b[0m\u001b[0;34m\u001b[0m\u001b[0;34m\u001b[0m\u001b[0m\n",
      "\u001b[0;32m/opt/conda/envs/eurodatacube-0.24.5/lib/python3.8/ssl.py\u001b[0m in \u001b[0;36m_create\u001b[0;34m(cls, sock, server_side, do_handshake_on_connect, suppress_ragged_eofs, server_hostname, context, session)\u001b[0m\n\u001b[1;32m   1039\u001b[0m                         \u001b[0;32mraise\u001b[0m \u001b[0mValueError\u001b[0m\u001b[0;34m(\u001b[0m\u001b[0;34m\"do_handshake_on_connect should not be specified for non-blocking sockets\"\u001b[0m\u001b[0;34m)\u001b[0m\u001b[0;34m\u001b[0m\u001b[0;34m\u001b[0m\u001b[0m\n\u001b[0;32m-> 1040\u001b[0;31m                     \u001b[0mself\u001b[0m\u001b[0;34m.\u001b[0m\u001b[0mdo_handshake\u001b[0m\u001b[0;34m(\u001b[0m\u001b[0;34m)\u001b[0m\u001b[0;34m\u001b[0m\u001b[0;34m\u001b[0m\u001b[0m\n\u001b[0m\u001b[1;32m   1041\u001b[0m             \u001b[0;32mexcept\u001b[0m \u001b[0;34m(\u001b[0m\u001b[0mOSError\u001b[0m\u001b[0;34m,\u001b[0m \u001b[0mValueError\u001b[0m\u001b[0;34m)\u001b[0m\u001b[0;34m:\u001b[0m\u001b[0;34m\u001b[0m\u001b[0;34m\u001b[0m\u001b[0m\n",
      "\u001b[0;32m/opt/conda/envs/eurodatacube-0.24.5/lib/python3.8/ssl.py\u001b[0m in \u001b[0;36mdo_handshake\u001b[0;34m(self, block)\u001b[0m\n\u001b[1;32m   1308\u001b[0m                 \u001b[0mself\u001b[0m\u001b[0;34m.\u001b[0m\u001b[0msettimeout\u001b[0m\u001b[0;34m(\u001b[0m\u001b[0;32mNone\u001b[0m\u001b[0;34m)\u001b[0m\u001b[0;34m\u001b[0m\u001b[0;34m\u001b[0m\u001b[0m\n\u001b[0;32m-> 1309\u001b[0;31m             \u001b[0mself\u001b[0m\u001b[0;34m.\u001b[0m\u001b[0m_sslobj\u001b[0m\u001b[0;34m.\u001b[0m\u001b[0mdo_handshake\u001b[0m\u001b[0;34m(\u001b[0m\u001b[0;34m)\u001b[0m\u001b[0;34m\u001b[0m\u001b[0;34m\u001b[0m\u001b[0m\n\u001b[0m\u001b[1;32m   1310\u001b[0m         \u001b[0;32mfinally\u001b[0m\u001b[0;34m:\u001b[0m\u001b[0;34m\u001b[0m\u001b[0;34m\u001b[0m\u001b[0m\n",
      "\u001b[0;31mSSLCertVerificationError\u001b[0m: [SSL: CERTIFICATE_VERIFY_FAILED] certificate verify failed: certificate has expired (_ssl.c:1131)",
      "\nDuring handling of the above exception, another exception occurred:\n",
      "\u001b[0;31mURLError\u001b[0m                                  Traceback (most recent call last)",
      "\u001b[0;32m<ipython-input-4-5b595d75abc1>\u001b[0m in \u001b[0;36m<module>\u001b[0;34m\u001b[0m\n\u001b[1;32m      1\u001b[0m \u001b[0;31m#Pull Biomass excel sheet\u001b[0m\u001b[0;34m\u001b[0m\u001b[0;34m\u001b[0m\u001b[0;34m\u001b[0m\u001b[0m\n\u001b[1;32m      2\u001b[0m \u001b[0mpath\u001b[0m \u001b[0;34m=\u001b[0m \u001b[0;34m(\u001b[0m\u001b[0;34m'https://forest-observation-system.net/Data/FOS_Plots_v2019.04.10.xlsx'\u001b[0m\u001b[0;34m)\u001b[0m\u001b[0;34m\u001b[0m\u001b[0;34m\u001b[0m\u001b[0m\n\u001b[0;32m----> 3\u001b[0;31m \u001b[0mdf\u001b[0m \u001b[0;34m=\u001b[0m \u001b[0mpd\u001b[0m\u001b[0;34m.\u001b[0m\u001b[0mread_excel\u001b[0m \u001b[0;34m(\u001b[0m\u001b[0mpath\u001b[0m\u001b[0;34m)\u001b[0m\u001b[0;34m\u001b[0m\u001b[0;34m\u001b[0m\u001b[0m\n\u001b[0m\u001b[1;32m      4\u001b[0m \u001b[0mdf\u001b[0m\u001b[0;34m.\u001b[0m\u001b[0mkeys\u001b[0m\u001b[0;34m(\u001b[0m\u001b[0;34m)\u001b[0m\u001b[0;34m\u001b[0m\u001b[0;34m\u001b[0m\u001b[0m\n\u001b[1;32m      5\u001b[0m gdf = gp.GeoDataFrame(\n",
      "\u001b[0;32m/opt/conda/envs/eurodatacube-0.24.5/lib/python3.8/site-packages/pandas/util/_decorators.py\u001b[0m in \u001b[0;36mwrapper\u001b[0;34m(*args, **kwargs)\u001b[0m\n\u001b[1;32m    297\u001b[0m                 )\n\u001b[1;32m    298\u001b[0m                 \u001b[0mwarnings\u001b[0m\u001b[0;34m.\u001b[0m\u001b[0mwarn\u001b[0m\u001b[0;34m(\u001b[0m\u001b[0mmsg\u001b[0m\u001b[0;34m,\u001b[0m \u001b[0mFutureWarning\u001b[0m\u001b[0;34m,\u001b[0m \u001b[0mstacklevel\u001b[0m\u001b[0;34m=\u001b[0m\u001b[0mstacklevel\u001b[0m\u001b[0;34m)\u001b[0m\u001b[0;34m\u001b[0m\u001b[0;34m\u001b[0m\u001b[0m\n\u001b[0;32m--> 299\u001b[0;31m             \u001b[0;32mreturn\u001b[0m \u001b[0mfunc\u001b[0m\u001b[0;34m(\u001b[0m\u001b[0;34m*\u001b[0m\u001b[0margs\u001b[0m\u001b[0;34m,\u001b[0m \u001b[0;34m**\u001b[0m\u001b[0mkwargs\u001b[0m\u001b[0;34m)\u001b[0m\u001b[0;34m\u001b[0m\u001b[0;34m\u001b[0m\u001b[0m\n\u001b[0m\u001b[1;32m    300\u001b[0m \u001b[0;34m\u001b[0m\u001b[0m\n\u001b[1;32m    301\u001b[0m         \u001b[0;32mreturn\u001b[0m \u001b[0mwrapper\u001b[0m\u001b[0;34m\u001b[0m\u001b[0;34m\u001b[0m\u001b[0m\n",
      "\u001b[0;32m/opt/conda/envs/eurodatacube-0.24.5/lib/python3.8/site-packages/pandas/io/excel/_base.py\u001b[0m in \u001b[0;36mread_excel\u001b[0;34m(io, sheet_name, header, names, index_col, usecols, squeeze, dtype, engine, converters, true_values, false_values, skiprows, nrows, na_values, keep_default_na, na_filter, verbose, parse_dates, date_parser, thousands, comment, skipfooter, convert_float, mangle_dupe_cols, storage_options)\u001b[0m\n\u001b[1;32m    334\u001b[0m     \u001b[0;32mif\u001b[0m \u001b[0;32mnot\u001b[0m \u001b[0misinstance\u001b[0m\u001b[0;34m(\u001b[0m\u001b[0mio\u001b[0m\u001b[0;34m,\u001b[0m \u001b[0mExcelFile\u001b[0m\u001b[0;34m)\u001b[0m\u001b[0;34m:\u001b[0m\u001b[0;34m\u001b[0m\u001b[0;34m\u001b[0m\u001b[0m\n\u001b[1;32m    335\u001b[0m         \u001b[0mshould_close\u001b[0m \u001b[0;34m=\u001b[0m \u001b[0;32mTrue\u001b[0m\u001b[0;34m\u001b[0m\u001b[0;34m\u001b[0m\u001b[0m\n\u001b[0;32m--> 336\u001b[0;31m         \u001b[0mio\u001b[0m \u001b[0;34m=\u001b[0m \u001b[0mExcelFile\u001b[0m\u001b[0;34m(\u001b[0m\u001b[0mio\u001b[0m\u001b[0;34m,\u001b[0m \u001b[0mstorage_options\u001b[0m\u001b[0;34m=\u001b[0m\u001b[0mstorage_options\u001b[0m\u001b[0;34m,\u001b[0m \u001b[0mengine\u001b[0m\u001b[0;34m=\u001b[0m\u001b[0mengine\u001b[0m\u001b[0;34m)\u001b[0m\u001b[0;34m\u001b[0m\u001b[0;34m\u001b[0m\u001b[0m\n\u001b[0m\u001b[1;32m    337\u001b[0m     \u001b[0;32melif\u001b[0m \u001b[0mengine\u001b[0m \u001b[0;32mand\u001b[0m \u001b[0mengine\u001b[0m \u001b[0;34m!=\u001b[0m \u001b[0mio\u001b[0m\u001b[0;34m.\u001b[0m\u001b[0mengine\u001b[0m\u001b[0;34m:\u001b[0m\u001b[0;34m\u001b[0m\u001b[0;34m\u001b[0m\u001b[0m\n\u001b[1;32m    338\u001b[0m         raise ValueError(\n",
      "\u001b[0;32m/opt/conda/envs/eurodatacube-0.24.5/lib/python3.8/site-packages/pandas/io/excel/_base.py\u001b[0m in \u001b[0;36m__init__\u001b[0;34m(self, path_or_buffer, engine, storage_options)\u001b[0m\n\u001b[1;32m   1069\u001b[0m                 \u001b[0mext\u001b[0m \u001b[0;34m=\u001b[0m \u001b[0;34m\"xls\"\u001b[0m\u001b[0;34m\u001b[0m\u001b[0;34m\u001b[0m\u001b[0m\n\u001b[1;32m   1070\u001b[0m             \u001b[0;32melse\u001b[0m\u001b[0;34m:\u001b[0m\u001b[0;34m\u001b[0m\u001b[0;34m\u001b[0m\u001b[0m\n\u001b[0;32m-> 1071\u001b[0;31m                 ext = inspect_excel_format(\n\u001b[0m\u001b[1;32m   1072\u001b[0m                     \u001b[0mcontent\u001b[0m\u001b[0;34m=\u001b[0m\u001b[0mpath_or_buffer\u001b[0m\u001b[0;34m,\u001b[0m \u001b[0mstorage_options\u001b[0m\u001b[0;34m=\u001b[0m\u001b[0mstorage_options\u001b[0m\u001b[0;34m\u001b[0m\u001b[0;34m\u001b[0m\u001b[0m\n\u001b[1;32m   1073\u001b[0m                 )\n",
      "\u001b[0;32m/opt/conda/envs/eurodatacube-0.24.5/lib/python3.8/site-packages/pandas/io/excel/_base.py\u001b[0m in \u001b[0;36minspect_excel_format\u001b[0;34m(path, content, storage_options)\u001b[0m\n\u001b[1;32m    947\u001b[0m     \u001b[0;32massert\u001b[0m \u001b[0mcontent_or_path\u001b[0m \u001b[0;32mis\u001b[0m \u001b[0;32mnot\u001b[0m \u001b[0;32mNone\u001b[0m\u001b[0;34m\u001b[0m\u001b[0;34m\u001b[0m\u001b[0m\n\u001b[1;32m    948\u001b[0m \u001b[0;34m\u001b[0m\u001b[0m\n\u001b[0;32m--> 949\u001b[0;31m     with get_handle(\n\u001b[0m\u001b[1;32m    950\u001b[0m         \u001b[0mcontent_or_path\u001b[0m\u001b[0;34m,\u001b[0m \u001b[0;34m\"rb\"\u001b[0m\u001b[0;34m,\u001b[0m \u001b[0mstorage_options\u001b[0m\u001b[0;34m=\u001b[0m\u001b[0mstorage_options\u001b[0m\u001b[0;34m,\u001b[0m \u001b[0mis_text\u001b[0m\u001b[0;34m=\u001b[0m\u001b[0;32mFalse\u001b[0m\u001b[0;34m\u001b[0m\u001b[0;34m\u001b[0m\u001b[0m\n\u001b[1;32m    951\u001b[0m     ) as handle:\n",
      "\u001b[0;32m/opt/conda/envs/eurodatacube-0.24.5/lib/python3.8/site-packages/pandas/io/common.py\u001b[0m in \u001b[0;36mget_handle\u001b[0;34m(path_or_buf, mode, encoding, compression, memory_map, is_text, errors, storage_options)\u001b[0m\n\u001b[1;32m    556\u001b[0m \u001b[0;34m\u001b[0m\u001b[0m\n\u001b[1;32m    557\u001b[0m     \u001b[0;31m# open URLs\u001b[0m\u001b[0;34m\u001b[0m\u001b[0;34m\u001b[0m\u001b[0;34m\u001b[0m\u001b[0m\n\u001b[0;32m--> 558\u001b[0;31m     ioargs = _get_filepath_or_buffer(\n\u001b[0m\u001b[1;32m    559\u001b[0m         \u001b[0mpath_or_buf\u001b[0m\u001b[0;34m,\u001b[0m\u001b[0;34m\u001b[0m\u001b[0;34m\u001b[0m\u001b[0m\n\u001b[1;32m    560\u001b[0m         \u001b[0mencoding\u001b[0m\u001b[0;34m=\u001b[0m\u001b[0mencoding\u001b[0m\u001b[0;34m,\u001b[0m\u001b[0;34m\u001b[0m\u001b[0;34m\u001b[0m\u001b[0m\n",
      "\u001b[0;32m/opt/conda/envs/eurodatacube-0.24.5/lib/python3.8/site-packages/pandas/io/common.py\u001b[0m in \u001b[0;36m_get_filepath_or_buffer\u001b[0;34m(filepath_or_buffer, encoding, compression, mode, storage_options)\u001b[0m\n\u001b[1;32m    287\u001b[0m                 \u001b[0;34m\"storage_options passed with file object or non-fsspec file path\"\u001b[0m\u001b[0;34m\u001b[0m\u001b[0;34m\u001b[0m\u001b[0m\n\u001b[1;32m    288\u001b[0m             )\n\u001b[0;32m--> 289\u001b[0;31m         \u001b[0mreq\u001b[0m \u001b[0;34m=\u001b[0m \u001b[0murlopen\u001b[0m\u001b[0;34m(\u001b[0m\u001b[0mfilepath_or_buffer\u001b[0m\u001b[0;34m)\u001b[0m\u001b[0;34m\u001b[0m\u001b[0;34m\u001b[0m\u001b[0m\n\u001b[0m\u001b[1;32m    290\u001b[0m         \u001b[0mcontent_encoding\u001b[0m \u001b[0;34m=\u001b[0m \u001b[0mreq\u001b[0m\u001b[0;34m.\u001b[0m\u001b[0mheaders\u001b[0m\u001b[0;34m.\u001b[0m\u001b[0mget\u001b[0m\u001b[0;34m(\u001b[0m\u001b[0;34m\"Content-Encoding\"\u001b[0m\u001b[0;34m,\u001b[0m \u001b[0;32mNone\u001b[0m\u001b[0;34m)\u001b[0m\u001b[0;34m\u001b[0m\u001b[0;34m\u001b[0m\u001b[0m\n\u001b[1;32m    291\u001b[0m         \u001b[0;32mif\u001b[0m \u001b[0mcontent_encoding\u001b[0m \u001b[0;34m==\u001b[0m \u001b[0;34m\"gzip\"\u001b[0m\u001b[0;34m:\u001b[0m\u001b[0;34m\u001b[0m\u001b[0;34m\u001b[0m\u001b[0m\n",
      "\u001b[0;32m/opt/conda/envs/eurodatacube-0.24.5/lib/python3.8/site-packages/pandas/io/common.py\u001b[0m in \u001b[0;36murlopen\u001b[0;34m(*args, **kwargs)\u001b[0m\n\u001b[1;32m    193\u001b[0m     \u001b[0;32mimport\u001b[0m \u001b[0murllib\u001b[0m\u001b[0;34m.\u001b[0m\u001b[0mrequest\u001b[0m\u001b[0;34m\u001b[0m\u001b[0;34m\u001b[0m\u001b[0m\n\u001b[1;32m    194\u001b[0m \u001b[0;34m\u001b[0m\u001b[0m\n\u001b[0;32m--> 195\u001b[0;31m     \u001b[0;32mreturn\u001b[0m \u001b[0murllib\u001b[0m\u001b[0;34m.\u001b[0m\u001b[0mrequest\u001b[0m\u001b[0;34m.\u001b[0m\u001b[0murlopen\u001b[0m\u001b[0;34m(\u001b[0m\u001b[0;34m*\u001b[0m\u001b[0margs\u001b[0m\u001b[0;34m,\u001b[0m \u001b[0;34m**\u001b[0m\u001b[0mkwargs\u001b[0m\u001b[0;34m)\u001b[0m\u001b[0;34m\u001b[0m\u001b[0;34m\u001b[0m\u001b[0m\n\u001b[0m\u001b[1;32m    196\u001b[0m \u001b[0;34m\u001b[0m\u001b[0m\n\u001b[1;32m    197\u001b[0m \u001b[0;34m\u001b[0m\u001b[0m\n",
      "\u001b[0;32m/opt/conda/envs/eurodatacube-0.24.5/lib/python3.8/urllib/request.py\u001b[0m in \u001b[0;36murlopen\u001b[0;34m(url, data, timeout, cafile, capath, cadefault, context)\u001b[0m\n\u001b[1;32m    220\u001b[0m     \u001b[0;32melse\u001b[0m\u001b[0;34m:\u001b[0m\u001b[0;34m\u001b[0m\u001b[0;34m\u001b[0m\u001b[0m\n\u001b[1;32m    221\u001b[0m         \u001b[0mopener\u001b[0m \u001b[0;34m=\u001b[0m \u001b[0m_opener\u001b[0m\u001b[0;34m\u001b[0m\u001b[0;34m\u001b[0m\u001b[0m\n\u001b[0;32m--> 222\u001b[0;31m     \u001b[0;32mreturn\u001b[0m \u001b[0mopener\u001b[0m\u001b[0;34m.\u001b[0m\u001b[0mopen\u001b[0m\u001b[0;34m(\u001b[0m\u001b[0murl\u001b[0m\u001b[0;34m,\u001b[0m \u001b[0mdata\u001b[0m\u001b[0;34m,\u001b[0m \u001b[0mtimeout\u001b[0m\u001b[0;34m)\u001b[0m\u001b[0;34m\u001b[0m\u001b[0;34m\u001b[0m\u001b[0m\n\u001b[0m\u001b[1;32m    223\u001b[0m \u001b[0;34m\u001b[0m\u001b[0m\n\u001b[1;32m    224\u001b[0m \u001b[0;32mdef\u001b[0m \u001b[0minstall_opener\u001b[0m\u001b[0;34m(\u001b[0m\u001b[0mopener\u001b[0m\u001b[0;34m)\u001b[0m\u001b[0;34m:\u001b[0m\u001b[0;34m\u001b[0m\u001b[0;34m\u001b[0m\u001b[0m\n",
      "\u001b[0;32m/opt/conda/envs/eurodatacube-0.24.5/lib/python3.8/urllib/request.py\u001b[0m in \u001b[0;36mopen\u001b[0;34m(self, fullurl, data, timeout)\u001b[0m\n\u001b[1;32m    523\u001b[0m \u001b[0;34m\u001b[0m\u001b[0m\n\u001b[1;32m    524\u001b[0m         \u001b[0msys\u001b[0m\u001b[0;34m.\u001b[0m\u001b[0maudit\u001b[0m\u001b[0;34m(\u001b[0m\u001b[0;34m'urllib.Request'\u001b[0m\u001b[0;34m,\u001b[0m \u001b[0mreq\u001b[0m\u001b[0;34m.\u001b[0m\u001b[0mfull_url\u001b[0m\u001b[0;34m,\u001b[0m \u001b[0mreq\u001b[0m\u001b[0;34m.\u001b[0m\u001b[0mdata\u001b[0m\u001b[0;34m,\u001b[0m \u001b[0mreq\u001b[0m\u001b[0;34m.\u001b[0m\u001b[0mheaders\u001b[0m\u001b[0;34m,\u001b[0m \u001b[0mreq\u001b[0m\u001b[0;34m.\u001b[0m\u001b[0mget_method\u001b[0m\u001b[0;34m(\u001b[0m\u001b[0;34m)\u001b[0m\u001b[0;34m)\u001b[0m\u001b[0;34m\u001b[0m\u001b[0;34m\u001b[0m\u001b[0m\n\u001b[0;32m--> 525\u001b[0;31m         \u001b[0mresponse\u001b[0m \u001b[0;34m=\u001b[0m \u001b[0mself\u001b[0m\u001b[0;34m.\u001b[0m\u001b[0m_open\u001b[0m\u001b[0;34m(\u001b[0m\u001b[0mreq\u001b[0m\u001b[0;34m,\u001b[0m \u001b[0mdata\u001b[0m\u001b[0;34m)\u001b[0m\u001b[0;34m\u001b[0m\u001b[0;34m\u001b[0m\u001b[0m\n\u001b[0m\u001b[1;32m    526\u001b[0m \u001b[0;34m\u001b[0m\u001b[0m\n\u001b[1;32m    527\u001b[0m         \u001b[0;31m# post-process response\u001b[0m\u001b[0;34m\u001b[0m\u001b[0;34m\u001b[0m\u001b[0;34m\u001b[0m\u001b[0m\n",
      "\u001b[0;32m/opt/conda/envs/eurodatacube-0.24.5/lib/python3.8/urllib/request.py\u001b[0m in \u001b[0;36m_open\u001b[0;34m(self, req, data)\u001b[0m\n\u001b[1;32m    540\u001b[0m \u001b[0;34m\u001b[0m\u001b[0m\n\u001b[1;32m    541\u001b[0m         \u001b[0mprotocol\u001b[0m \u001b[0;34m=\u001b[0m \u001b[0mreq\u001b[0m\u001b[0;34m.\u001b[0m\u001b[0mtype\u001b[0m\u001b[0;34m\u001b[0m\u001b[0;34m\u001b[0m\u001b[0m\n\u001b[0;32m--> 542\u001b[0;31m         result = self._call_chain(self.handle_open, protocol, protocol +\n\u001b[0m\u001b[1;32m    543\u001b[0m                                   '_open', req)\n\u001b[1;32m    544\u001b[0m         \u001b[0;32mif\u001b[0m \u001b[0mresult\u001b[0m\u001b[0;34m:\u001b[0m\u001b[0;34m\u001b[0m\u001b[0;34m\u001b[0m\u001b[0m\n",
      "\u001b[0;32m/opt/conda/envs/eurodatacube-0.24.5/lib/python3.8/urllib/request.py\u001b[0m in \u001b[0;36m_call_chain\u001b[0;34m(self, chain, kind, meth_name, *args)\u001b[0m\n\u001b[1;32m    500\u001b[0m         \u001b[0;32mfor\u001b[0m \u001b[0mhandler\u001b[0m \u001b[0;32min\u001b[0m \u001b[0mhandlers\u001b[0m\u001b[0;34m:\u001b[0m\u001b[0;34m\u001b[0m\u001b[0;34m\u001b[0m\u001b[0m\n\u001b[1;32m    501\u001b[0m             \u001b[0mfunc\u001b[0m \u001b[0;34m=\u001b[0m \u001b[0mgetattr\u001b[0m\u001b[0;34m(\u001b[0m\u001b[0mhandler\u001b[0m\u001b[0;34m,\u001b[0m \u001b[0mmeth_name\u001b[0m\u001b[0;34m)\u001b[0m\u001b[0;34m\u001b[0m\u001b[0;34m\u001b[0m\u001b[0m\n\u001b[0;32m--> 502\u001b[0;31m             \u001b[0mresult\u001b[0m \u001b[0;34m=\u001b[0m \u001b[0mfunc\u001b[0m\u001b[0;34m(\u001b[0m\u001b[0;34m*\u001b[0m\u001b[0margs\u001b[0m\u001b[0;34m)\u001b[0m\u001b[0;34m\u001b[0m\u001b[0;34m\u001b[0m\u001b[0m\n\u001b[0m\u001b[1;32m    503\u001b[0m             \u001b[0;32mif\u001b[0m \u001b[0mresult\u001b[0m \u001b[0;32mis\u001b[0m \u001b[0;32mnot\u001b[0m \u001b[0;32mNone\u001b[0m\u001b[0;34m:\u001b[0m\u001b[0;34m\u001b[0m\u001b[0;34m\u001b[0m\u001b[0m\n\u001b[1;32m    504\u001b[0m                 \u001b[0;32mreturn\u001b[0m \u001b[0mresult\u001b[0m\u001b[0;34m\u001b[0m\u001b[0;34m\u001b[0m\u001b[0m\n",
      "\u001b[0;32m/opt/conda/envs/eurodatacube-0.24.5/lib/python3.8/urllib/request.py\u001b[0m in \u001b[0;36mhttps_open\u001b[0;34m(self, req)\u001b[0m\n\u001b[1;32m   1395\u001b[0m \u001b[0;34m\u001b[0m\u001b[0m\n\u001b[1;32m   1396\u001b[0m         \u001b[0;32mdef\u001b[0m \u001b[0mhttps_open\u001b[0m\u001b[0;34m(\u001b[0m\u001b[0mself\u001b[0m\u001b[0;34m,\u001b[0m \u001b[0mreq\u001b[0m\u001b[0;34m)\u001b[0m\u001b[0;34m:\u001b[0m\u001b[0;34m\u001b[0m\u001b[0;34m\u001b[0m\u001b[0m\n\u001b[0;32m-> 1397\u001b[0;31m             return self.do_open(http.client.HTTPSConnection, req,\n\u001b[0m\u001b[1;32m   1398\u001b[0m                 context=self._context, check_hostname=self._check_hostname)\n\u001b[1;32m   1399\u001b[0m \u001b[0;34m\u001b[0m\u001b[0m\n",
      "\u001b[0;32m/opt/conda/envs/eurodatacube-0.24.5/lib/python3.8/urllib/request.py\u001b[0m in \u001b[0;36mdo_open\u001b[0;34m(self, http_class, req, **http_conn_args)\u001b[0m\n\u001b[1;32m   1355\u001b[0m                           encode_chunked=req.has_header('Transfer-encoding'))\n\u001b[1;32m   1356\u001b[0m             \u001b[0;32mexcept\u001b[0m \u001b[0mOSError\u001b[0m \u001b[0;32mas\u001b[0m \u001b[0merr\u001b[0m\u001b[0;34m:\u001b[0m \u001b[0;31m# timeout error\u001b[0m\u001b[0;34m\u001b[0m\u001b[0;34m\u001b[0m\u001b[0m\n\u001b[0;32m-> 1357\u001b[0;31m                 \u001b[0;32mraise\u001b[0m \u001b[0mURLError\u001b[0m\u001b[0;34m(\u001b[0m\u001b[0merr\u001b[0m\u001b[0;34m)\u001b[0m\u001b[0;34m\u001b[0m\u001b[0;34m\u001b[0m\u001b[0m\n\u001b[0m\u001b[1;32m   1358\u001b[0m             \u001b[0mr\u001b[0m \u001b[0;34m=\u001b[0m \u001b[0mh\u001b[0m\u001b[0;34m.\u001b[0m\u001b[0mgetresponse\u001b[0m\u001b[0;34m(\u001b[0m\u001b[0;34m)\u001b[0m\u001b[0;34m\u001b[0m\u001b[0;34m\u001b[0m\u001b[0m\n\u001b[1;32m   1359\u001b[0m         \u001b[0;32mexcept\u001b[0m\u001b[0;34m:\u001b[0m\u001b[0;34m\u001b[0m\u001b[0;34m\u001b[0m\u001b[0m\n",
      "\u001b[0;31mURLError\u001b[0m: <urlopen error [SSL: CERTIFICATE_VERIFY_FAILED] certificate verify failed: certificate has expired (_ssl.c:1131)>"
     ]
    }
   ],
   "source": [
    "#Pull Biomass excel sheet\n",
    "path = ('https://forest-observation-system.net/Data/FOS_Plots_v2019.04.10.xlsx')\n",
    "df = pd.read_excel (path)\n",
    "df.keys()\n",
    "gdf = gp.GeoDataFrame(\n",
    "    df, geometry=gp.points_from_xy(df.Lon_cnt, df.Lat_cnt))"
   ]
  },
  {
   "cell_type": "code",
   "execution_count": null,
   "id": "7313774a",
   "metadata": {
    "execution": {
     "iopub.execute_input": "2021-06-09T12:31:14.226993Z",
     "iopub.status.busy": "2021-06-09T12:31:14.226312Z",
     "iopub.status.idle": "2021-06-09T12:31:14.228549Z",
     "shell.execute_reply": "2021-06-09T12:31:14.229194Z"
    },
    "papermill": {
     "duration": null,
     "end_time": null,
     "exception": null,
     "start_time": null,
     "status": "pending"
    },
    "tags": []
   },
   "outputs": [],
   "source": [
    "# Path to write the STAC root metadata file too\n",
    "catalog_fn_w_path = os.environ['EDC_PATH']+'/data/biomass/Biomass_stac_generated/EO_TDS.json'\n",
    "\n",
    "# Creating an empty STAC Catalog object\n",
    "new_tds_ctl_o = aireo_lib.core.tds_stac_io.DatasetSTACCatalog()\n"
   ]
  },
  {
   "cell_type": "code",
   "execution_count": null,
   "id": "4621e3ce",
   "metadata": {
    "execution": {
     "iopub.execute_input": "2021-06-09T12:31:14.325439Z",
     "iopub.status.busy": "2021-06-09T12:31:14.324389Z",
     "iopub.status.idle": "2021-06-09T12:31:27.366832Z",
     "shell.execute_reply": "2021-06-09T12:31:27.366095Z"
    },
    "papermill": {
     "duration": null,
     "end_time": null,
     "exception": null,
     "start_time": null,
     "status": "pending"
    },
    "scrolled": true,
    "tags": []
   },
   "outputs": [],
   "source": [
    "# Get AOI list for the TDS\n",
    "\n",
    "reference_path = os.environ['EDC_PATH']  + '/data/biomass/Biomass_tiff/'\n",
    "#print(os.listdir(reference_path))\n",
    "aoi_ids = [i.replace('.tif','').replace('patch_', '') for i in os.listdir(reference_path) if '.tif' in i]\n",
    "aoi_ids = ['ALP-02_0_3',\n",
    " 'ALP-02_0_2',\n",
    " 'ASN-02_0_0',\n",
    " 'ALP-02_0_0',\n",
    " 'ALP-02_0_1']"
   ]
  },
  {
   "cell_type": "code",
   "execution_count": null,
   "id": "3ecd575f",
   "metadata": {
    "execution": {
     "iopub.execute_input": "2021-06-09T12:31:27.464388Z",
     "iopub.status.busy": "2021-06-09T12:31:27.463584Z",
     "iopub.status.idle": "2021-06-09T12:31:27.466653Z",
     "shell.execute_reply": "2021-06-09T12:31:27.465910Z"
    },
    "papermill": {
     "duration": null,
     "end_time": null,
     "exception": null,
     "start_time": null,
     "status": "pending"
    },
    "tags": []
   },
   "outputs": [],
   "source": [
    "# Creating root metadata dictionary\n",
    "\n",
    "tds_root_core_metadata_d = {}\n",
    "tds_root_core_metadata_d['aireo_version'] = \"0.0.1-alpha.1\"\n",
    "tds_root_core_metadata_d['title'] = \"Aireo Pilot datasets - Forest Observatory System - Biomass\"\n",
    "tds_root_core_metadata_d['description'] = \"Above ground biomass split in 260 plots of 50 x 50 m.\"\n",
    "tds_root_core_metadata_d['created'] = 'Null'\n",
    "tds_root_core_metadata_d['license_url_list'] = 'https://creativecommons.org/licenses/by/4.0/deed.de' \n",
    "tds_root_core_metadata_d['license'] = \"CC-BY-4.0\"\n",
    "tds_root_core_metadata_d[\"providers_name\"]= \"[FOS, RAINFOR, AfriTRON]\"\n",
    "tds_root_core_metadata_d[\"providers_description\"] = \"international cooperation to establish a global in-situ forest biomass database to support earth observation and to encourage investment in relevant field-based observations and science.\"\n",
    "tds_root_core_metadata_d[\"providers_roles\"] = {'FOS': [\"licensor\", \"host\"], 'RAINFOR':[\"producer\", \"processor\" , \"host\"],'AfriTRON':[\"producer\", \"processor\" ]}\n",
    "tds_root_core_metadata_d[\"providers_url\"]= {'FOS':'https://forest-observation-system.net', 'RAINFOR': 'https://www.rainfor.org/', \n",
    "                        'AfriTRON': 'https://www.afritron.org/'}                         \n",
    "tds_root_core_metadata_d['id'] =  \"aa24c994-e8a9-4175-9a16-7def23bf762b\" #changed UUID\n",
    "tds_root_core_metadata_d['type'] = \"Collection\"\n",
    "tds_root_core_metadata_d['stac_version'] = '1.0.0-beta.2'\n",
    "tds_root_core_metadata_d['provenance'] = 'The dataset was fed by providers based on ground field measurements (see providers) and the accompanying satellite images were provided by Sentinel Hub (see links in providers) using Sentinel 2 images.'\n",
    "tds_root_core_metadata_d['purpose'] = \"The dataset has sentinel 2 images matching the location of each plotID in order to add remote sensing imagery to in-situ data taken from dataset  \"\n",
    "tds_root_core_metadata_d['tasks'] =  ['regression']\n",
    "tds_root_core_metadata_d['data_preprocessing'] = {'type':'free-text', 'recipe':'Only satellite images with cloud cover less than 20% are considered'}\n",
    "tds_root_core_metadata_d['funding_info'] = \"The AIREO project is funded by ESA, the underlying fields and crop data are funded by Agricultural Market Austria and the satellite imagery used is through funds from ESA.\"\n",
    "tds_root_core_metadata_d['field_schema'] = {'features': {'input1': ['georeferenced_eo_image']}, 'references': {'output1': ['reference_data']}}\n",
    "tds_root_core_metadata_d['example_definition'] = \"An example for ML training would be a satellite imagery with its biomass associated as referece. That could be used to predict Biomass measurements in other parts of the planet using regression method\"\n",
    "\n",
    "tds_root_core_metadata_d['example_window_size'] = 256 #do you need these twofor biomass? they are for sampling\n",
    "tds_root_core_metadata_d['example_stride'] = 26\n",
    "                                                 \n",
    "tds_root_core_metadata_d['data_completeness'] = \"Data has lots of entries in different languages. Not all entries are completed\"\n",
    "tds_root_core_metadata_d['data_split'] = \"It should be split in wide acceptance proportion 80%-20%\"\n",
    "tds_root_core_metadata_d['data_sharing'] = \"The dataset will be shared on Euro Data Cube (EDC) and can be accessed through jupyter notebooks on EDC.\"\n",
    "tds_root_core_metadata_d['compliance_level'] = 'level 1'\n",
    "tds_root_core_metadata_d['links'] =  []\n"
   ]
  },
  {
   "cell_type": "code",
   "execution_count": null,
   "id": "773f09c1",
   "metadata": {
    "execution": {
     "iopub.execute_input": "2021-06-09T12:31:27.568099Z",
     "iopub.status.busy": "2021-06-09T12:31:27.564174Z",
     "iopub.status.idle": "2021-06-09T12:31:27.626185Z",
     "shell.execute_reply": "2021-06-09T12:31:27.625445Z"
    },
    "papermill": {
     "duration": null,
     "end_time": null,
     "exception": null,
     "start_time": null,
     "status": "pending"
    },
    "tags": []
   },
   "outputs": [],
   "source": [
    "#Creating common predictive feature metadata dictionary\n",
    "\n",
    "g_feature_metadata_d = {}\n",
    "g_feature_metadata_d['type'] = \"Feature\"\n",
    "g_feature_metadata_d['stac_version'] = \"1.0.0-beta.2\"\n",
    "g_feature_metadata_d['stac_extensions'] = [\"georeferenced_eo_image\"]\n",
    "g_feature_metadata_d['id'] = f'common_predictive_feature_metadata'\n",
    "g_feature_metadata_d['collection'] = \"aa24c994-e8a9-4175-9a16-7def23bf762b\"\n",
    "\n",
    "shape = gdf.geometry\n",
    "geom = np.array(shape[0])\n",
    "coords = [\"x\",\"y\"]\n",
    "\n",
    "lon = df['Lon_cnt'][1]\n",
    "lat = df['Lat_cnt'][1]\n",
    "LON = round(lon+0.05,2)\n",
    "LAT = round(lat+0.05,1)\n",
    "roi_bbox = BBox(bbox=[ lon,lat,LON, LAT], crs=CRS.WGS84)\n",
    "\n",
    "from shapely import geometry\n",
    "g_feature_metadata_d['geometry'] = geometry.mapping(geometry.MultiPoint(shape))\n",
    "g_feature_metadata_d['bbox'] = list(roi_bbox)\n",
    "g_feature_metadata_d['properties'] = {}\n",
    "g_feature_metadata_d[\"properties\"][\"status\"]= \"Null\"\n",
    "g_feature_metadata_d[\"properties\"]['parent_identifier'] = \"aa24c994-e8a9-4175-9a16-7def23bf762b\"\n",
    "g_feature_metadata_d[\"properties\"]['acquisition_type'] = \"Null\"\n",
    "g_feature_metadata_d[\"properties\"]['product_type']  = \"Null\"\n",
    "g_feature_metadata_d[\"properties\"]['processing_level'] = 1.0\n",
    "g_feature_metadata_d[\"properties\"]['platform_short_name'] = \"Sentinel 2\"\n",
    "g_feature_metadata_d[\"properties\"]['sensor_type'] = \"OPTICAL\"\n",
    "g_feature_metadata_d[\"properties\"]['sensor_resolution'] = \"10m\"\n",
    "g_feature_metadata_d[\"properties\"]['gsd'] = 10\n",
    "g_feature_metadata_d['properties']['datetime'] = \"2019\" #change as per biomass\n",
    "g_feature_metadata_d[\"properties\"]['identifier'] = \"Null\"\n",
    "g_feature_metadata_d['links'] = []\n",
    "g_feature_metadata_d[\"assets\"] =  {}\n",
    "feature_metadata_d = {}\n",
    "feature_metadata_d['input1'] = g_feature_metadata_d"
   ]
  },
  {
   "cell_type": "code",
   "execution_count": null,
   "id": "29f01a7e",
   "metadata": {
    "execution": {
     "iopub.execute_input": "2021-06-09T12:31:27.733991Z",
     "iopub.status.busy": "2021-06-09T12:31:27.732098Z",
     "iopub.status.idle": "2021-06-09T12:31:27.791721Z",
     "shell.execute_reply": "2021-06-09T12:31:27.791086Z"
    },
    "papermill": {
     "duration": null,
     "end_time": null,
     "exception": null,
     "start_time": null,
     "status": "pending"
    },
    "tags": []
   },
   "outputs": [],
   "source": [
    "#Creating common reference metadata dictionary\n",
    "\n",
    "g_ref_data_metadata_d = {}\n",
    "\n",
    "g_ref_data_metadata_d['id'] = f'common_reference_metadata'\n",
    "g_ref_data_metadata_d['type'] = \"Feature\"\n",
    "g_ref_data_metadata_d['stac_version'] = \"1.0.0-beta.2\"\n",
    "g_ref_data_metadata_d['stac_extensions'] = [\"reference_data\"]\n",
    "g_ref_data_metadata_d['collection'] = \"aa24c994-e8a9-4175-9a16-7def23bf762b\"\n",
    "shape = gdf.geometry\n",
    "geom = np.array(shape[0])\n",
    "coords = [\"x\",\"y\"]\n",
    "\n",
    "from shapely import geometry\n",
    "g_ref_data_metadata_d['geometry'] = geometry.mapping(geometry.MultiPoint(shape))\n",
    "\n",
    "g_ref_data_metadata_d['bbox'] = list(roi_bbox)\n",
    "#[min(xs),min(ys), max(xs), max(ys)]\n",
    "g_ref_data_metadata_d['properties'] = {}\n",
    "g_ref_data_metadata_d[\"properties\"]['name'] = \" Reference metadata\"\n",
    "g_ref_data_metadata_d['properties']['description'] = \"The reference data \"\n",
    "g_ref_data_metadata_d['properties']['type'] = \"Raster\"\n",
    "g_ref_data_metadata_d['properties']['task'] = \"regression\"\n",
    "g_ref_data_metadata_d['properties']['classes']=[]\n",
    "g_ref_data_metadata_d['properties']['overviews']=[]\n",
    "g_ref_data_metadata_d['properties']['collection_method'] = \"The reference data was collected by Agricultural Market Austria for the year 2019 for Common Agriculture Practices for EU to process agriculture subsidies, etc. The exact method for ground surveys was not clearly documented and the only info available is that \\\"all field uses were recorded by the applicants\\\".\"\n",
    "g_ref_data_metadata_d['properties']['data_preprocessing'] = {'type':'free-text', 'recipe':\"The polygons in the original reference data were converted into rasters overlayed on satellite image of 10m resoltuion. As such no other changes were made to the fields or the crop types themselves.\"}\n",
    "g_ref_data_metadata_d['properties']['CRS'] = 'EPSG:4326'\n",
    "g_ref_data_metadata_d['properties']['time_range'] = '2018'\n",
    "g_ref_data_metadata_d[\"properties\"]['value'] = 0.663\n",
    "g_ref_data_metadata_d['properties'][\"orientation\"]= \"Null\"\n",
    "g_ref_data_metadata_d[\"properties\"]['datetime'] = \"2019\"\n",
    "g_ref_data_metadata_d['links'] = []\n",
    "g_ref_data_metadata_d[\"assets\"] = {}\n",
    "\n",
    "ref_metadata_d = {}\n",
    "ref_metadata_d['output1'] = g_ref_data_metadata_d"
   ]
  },
  {
   "cell_type": "code",
   "execution_count": null,
   "id": "d89e42ab",
   "metadata": {
    "execution": {
     "iopub.execute_input": "2021-06-09T12:31:27.931916Z",
     "iopub.status.busy": "2021-06-09T12:31:27.911777Z",
     "iopub.status.idle": "2021-06-09T12:31:27.982333Z",
     "shell.execute_reply": "2021-06-09T12:31:27.981690Z"
    },
    "papermill": {
     "duration": null,
     "end_time": null,
     "exception": null,
     "start_time": null,
     "status": "pending"
    },
    "tags": []
   },
   "outputs": [],
   "source": [
    "# Add TDS global core elements metadata, and add global level profile metadata to the catalog object.\n",
    "\n",
    "new_tds_ctl_o.add_tds_root_metadata(tds_root_core_metadata_d, feature_metadata_d, ref_metadata_d)\n"
   ]
  },
  {
   "cell_type": "code",
   "execution_count": null,
   "id": "2749af8f",
   "metadata": {
    "execution": {
     "iopub.execute_input": "2021-06-09T12:31:28.094490Z",
     "iopub.status.busy": "2021-06-09T12:31:28.093267Z",
     "iopub.status.idle": "2021-06-09T12:31:28.836057Z",
     "shell.execute_reply": "2021-06-09T12:31:28.835342Z"
    },
    "papermill": {
     "duration": null,
     "end_time": null,
     "exception": null,
     "start_time": null,
     "status": "pending"
    },
    "tags": []
   },
   "outputs": [],
   "source": [
    "# Adding metadata for each AOI\n",
    "\n",
    "for aoi_id in aoi_ids[:5]:\n",
    "    # Dictionary for each AOI collection metadata\n",
    "    aoi_metadata_d = {}\n",
    "    aoi_metadata_d['type'] = \"Collection\"\n",
    "    aoi_metadata_d[\"id\"] = f\"{aoi_id}\"\n",
    "    aoi_metadata_d['stac_version'] = '1.0.0-beta.2'\n",
    "    aoi_metadata_d['title'] = f\"{aoi_id} Collection\"\n",
    "    aoi_metadata_d['description'] = \"Each AOI contains satellite images \"\n",
    "    aoi_metadata_d[\"license\"] = \"CC-BY-4.0\"\n",
    "    shape = gdf.geometry\n",
    "    geom = np.array(shape[0])\n",
    "    coords = [\"x\",\"y\"]\n",
    "    \n",
    "    aoi_metadata_d[\"bbox\"]= list(roi_bbox)\n",
    "    aoi_metadata_d['geometry'] = geometry.mapping(geometry.MultiPoint(shape))\n",
    "    aoi_metadata_d[\"extent\"] = {\"spatial\" : {\"bbox\":[[geom[0], geom[1], geom[0], geom[1]]]}, \n",
    "                      \"temporal\": {\"interval\": [['2019']]}}\n",
    "    aoi_metadata_d['time_range'] = '2019'\n",
    "    aoi_metadata_d['links'] = []\n",
    "    aoi_metadata_d[\"assets\"] = {}\n",
    "    \n",
    "    \n",
    "    # Dictionary for each AOI's predictive feature metadata\n",
    "    aoi_feature_metadata_d = {}\n",
    "    aoi_feature_metadata_d['id'] = f'reference_metadata_AOI_{aoi_id}'\n",
    "    aoi_feature_metadata_d['type'] = \"Feature\"\n",
    "    aoi_feature_metadata_d['stac_version'] = \"1.0.0-beta.2\"\n",
    "    aoi_feature_metadata_d['stac_extensions'] = [\"reference_data\"]\n",
    "    aoi_feature_metadata_d['collection'] = \"970460aa-7835-11eb-9439-0242ac130002\"\n",
    "    aoi_feature_metadata_d['bbox'] = aoi_metadata_d[\"bbox\"]\n",
    "    aoi_feature_metadata_d['geometry'] = aoi_metadata_d[\"geometry\"]\n",
    "    aoi_feature_metadata_d['properties'] = {}\n",
    "    aoi_feature_metadata_d[\"properties\"]['name'] = str(aoi_id)+ \" Reference metadata\"\n",
    "    aoi_feature_metadata_d['properties']['description'] = \"The reference data consists in different data from biomass dataset\"\n",
    "    aoi_feature_metadata_d['properties']['type'] = \"Raster\"\n",
    "    aoi_feature_metadata_d['properties']['task'] = \"regression\"\n",
    "    aoi_feature_metadata_d['properties']['classes'] = []\n",
    "    aoi_feature_metadata_d['properties']['overviews'] = []\n",
    "    aoi_feature_metadata_d['properties']['collection_method'] = \"The reference data consists in varios in-situ measurements taken by providers in different plots distributed worldwide.\"\n",
    "    aoi_feature_metadata_d['properties']['data_preprocessing'] = \"Null\"\n",
    "    aoi_feature_metadata_d['properties']['CRS'] = 'EPSG:4326'\n",
    "    aoi_feature_metadata_d['properties']['time_range'] = '2019'\n",
    "    aoi_feature_metadata_d[\"properties\"]['value'] = 0\n",
    "    aoi_feature_metadata_d['properties'][\"orientation\"]= \"null\"\n",
    "    aoi_feature_metadata_d[\"properties\"]['datetime'] = \"2020-03-09T14:53:23.262208+00:00\"\n",
    "\n",
    "    aoi_feature_metadata_d['links'] = []  \n",
    "    aoi_feature_metadata_d[\"assets\"] = {}\n",
    "\n",
    "    aoi_feature_d = {}\n",
    "    aoi_feature_d['input1'] = aoi_feature_metadata_d\n",
    "    \n",
    "    # Dictionary for each AOI's reference metadata\n",
    "    aoi_ref_data_metadata_d = {}\n",
    "    aoi_ref_data_metadata_d['type'] = \"Feature\"\n",
    "    aoi_ref_data_metadata_d['stac_version'] = \"1.0.0-beta.2\"\n",
    "    aoi_ref_data_metadata_d['stac_extensions'] = [\"georeferenced_eo_image\"]\n",
    "    aoi_ref_data_metadata_d['id'] = f'predictive_feature_metadata_AOI_{aoi_id}'\n",
    "    aoi_ref_data_metadata_d['collection'] = \"970460aa-7835-11eb-9439-0242ac130002\"\n",
    "    aoi_ref_data_metadata_d[\"bbox\"]= aoi_metadata_d[\"bbox\"]\n",
    "    aoi_ref_data_metadata_d['geometry'] = aoi_metadata_d[\"geometry\"]\n",
    "    aoi_ref_data_metadata_d[\"properties\"] = {}\n",
    "    aoi_ref_data_metadata_d[\"properties\"][\"status\"]= \"Null\"\n",
    "    aoi_ref_data_metadata_d[\"properties\"]['parent_identifier'] = \"970460aa-7835-11eb-9439-0242ac130002\"\n",
    "    aoi_ref_data_metadata_d[\"properties\"]['acquisition_type'] = \"Null\"\n",
    "    aoi_ref_data_metadata_d[\"properties\"]['product_type']  = \"Null\"\n",
    "    aoi_ref_data_metadata_d[\"properties\"]['processing_level'] = 1.0\n",
    "    aoi_ref_data_metadata_d[\"properties\"]['platform_short_name'] = \"Sentinel 2\"\n",
    "    aoi_ref_data_metadata_d[\"properties\"]['sensor_type'] = \"OPTICAL\"\n",
    "    aoi_ref_data_metadata_d[\"properties\"]['sensor_resolution'] = \"10m\"\n",
    "    aoi_ref_data_metadata_d[\"properties\"]['gsd'] = 10\n",
    "    aoi_ref_data_metadata_d[\"properties\"]['identifier'] = str(aoi_id)\n",
    "    aoi_ref_data_metadata_d[\"properties\"]['acquisition_date'] = '2018'\n",
    "    aoi_ref_data_metadata_d[\"properties\"]['datetime'] = \"2018\"\n",
    "    aoi_ref_data_metadata_d['links'] = []\n",
    "    aoi_ref_data_metadata_d[\"assets\"] = {}\n",
    "    aoi_ref_d = {}\n",
    "    aoi_ref_d['output1'] = aoi_ref_data_metadata_d\n",
    "    \n",
    "    output_path = os.path.join(os.environ['EDC_PATH'] + '/data/biomass/Biomass_mask')\n",
    "    input_path = os.path.join(os.environ['EDC_PATH'] + '/data/biomass/Biomass_tiff')\n",
    "    aoi_ref_data_asset_path_d = {'output1':os.path.join(output_path, f'patch_mask_{aoi_id}.json')}\n",
    "    aoi_feature_asset_path_d = {'input1':os.path.join(input_path, f'patch_{aoi_id}.tif')}\n",
    "                                            \n",
    "    print(new_tds_ctl_o.add_aoi_metadata(aoi_metadata_d=aoi_metadata_d,\n",
    "                                   aoi_feature_metadata_d=aoi_feature_d,\n",
    "                                   aoi_ref_data_metadata_d=aoi_ref_d,\n",
    "                                   aoi_feature_asset_path_d=aoi_feature_asset_path_d,\n",
    "                                   aoi_ref_data_asset_path_d=aoi_ref_data_asset_path_d))"
   ]
  },
  {
   "cell_type": "markdown",
   "id": "efa1dfb5",
   "metadata": {
    "papermill": {
     "duration": null,
     "end_time": null,
     "exception": null,
     "start_time": null,
     "status": "pending"
    },
    "tags": []
   },
   "source": [
    "#### stac_generated folder creation"
   ]
  },
  {
   "cell_type": "markdown",
   "id": "f300e37b",
   "metadata": {
    "papermill": {
     "duration": null,
     "end_time": null,
     "exception": null,
     "start_time": null,
     "status": "pending"
    },
    "tags": []
   },
   "source": [
    "Prior to this step, you will need to create a folder called 'biomass_stac_generated' in your environment and leave it empty"
   ]
  },
  {
   "cell_type": "code",
   "execution_count": null,
   "id": "bc9496fd",
   "metadata": {
    "execution": {
     "iopub.execute_input": "2021-06-09T12:31:29.125613Z",
     "iopub.status.busy": "2021-06-09T12:31:29.124641Z",
     "iopub.status.idle": "2021-06-09T12:31:29.127773Z",
     "shell.execute_reply": "2021-06-09T12:31:29.126983Z"
    },
    "papermill": {
     "duration": null,
     "end_time": null,
     "exception": null,
     "start_time": null,
     "status": "pending"
    },
    "tags": []
   },
   "outputs": [],
   "source": [
    "# If a STAC catalog has already been generated remove it before re generating the catalog below\n",
    "\n",
    "import shutil\n",
    "stac_generated_path = os.path.join('./biomass_stac_generated')\n",
    "if os.path.exists(stac_generated_path):\n",
    "    shutil.rmtree(stac_generated_path)"
   ]
  },
  {
   "cell_type": "code",
   "execution_count": null,
   "id": "bb562694",
   "metadata": {
    "execution": {
     "iopub.execute_input": "2021-06-09T12:31:29.234188Z",
     "iopub.status.busy": "2021-06-09T12:31:29.233191Z",
     "iopub.status.idle": "2021-06-09T12:31:30.981982Z",
     "shell.execute_reply": "2021-06-09T12:31:30.981208Z"
    },
    "papermill": {
     "duration": null,
     "end_time": null,
     "exception": null,
     "start_time": null,
     "status": "pending"
    },
    "tags": []
   },
   "outputs": [],
   "source": [
    "catalog_fn_w_path = './biomass_stac_generated/TDS.json'\n",
    "new_tds_ctl_o.write_TDS_STAC_Catalog(catalog_fn_w_path)"
   ]
  },
  {
   "cell_type": "markdown",
   "id": "b88c0c1c",
   "metadata": {
    "papermill": {
     "duration": null,
     "end_time": null,
     "exception": null,
     "start_time": null,
     "status": "pending"
    },
    "tags": []
   },
   "source": [
    "#### Checking Compliance Level"
   ]
  },
  {
   "cell_type": "code",
   "execution_count": null,
   "id": "5b84ab73",
   "metadata": {
    "execution": {
     "iopub.execute_input": "2021-06-09T12:31:31.168175Z",
     "iopub.status.busy": "2021-06-09T12:31:31.167316Z",
     "iopub.status.idle": "2021-06-09T12:31:31.195690Z",
     "shell.execute_reply": "2021-06-09T12:31:31.195019Z"
    },
    "papermill": {
     "duration": null,
     "end_time": null,
     "exception": null,
     "start_time": null,
     "status": "pending"
    },
    "tags": []
   },
   "outputs": [],
   "source": [
    "catalog_fn_w_path = os.path.join('./biomass_stac_generated/TDS.json')\n",
    "new_tds_ctl_o = aireo_lib.core.tds_stac_io.DatasetSTACCatalog.from_TDSCatalog(catalog_fn_w_path)\n",
    "new_tds_ctl_o.compute_compliance_level()"
   ]
  },
  {
   "cell_type": "markdown",
   "id": "b27d6f84",
   "metadata": {
    "papermill": {
     "duration": null,
     "end_time": null,
     "exception": null,
     "start_time": null,
     "status": "pending"
    },
    "tags": []
   },
   "source": [
    "##### Checking metadata completeness"
   ]
  },
  {
   "cell_type": "code",
   "execution_count": null,
   "id": "7ce9ad2e",
   "metadata": {
    "execution": {
     "iopub.execute_input": "2021-06-09T12:31:31.388843Z",
     "iopub.status.busy": "2021-06-09T12:31:31.388131Z",
     "iopub.status.idle": "2021-06-09T12:31:31.397211Z",
     "shell.execute_reply": "2021-06-09T12:31:31.397906Z"
    },
    "papermill": {
     "duration": null,
     "end_time": null,
     "exception": null,
     "start_time": null,
     "status": "pending"
    },
    "tags": []
   },
   "outputs": [],
   "source": [
    "new_tds_ctl_o.report_metadata_completeness()"
   ]
  },
  {
   "cell_type": "markdown",
   "id": "81b9ec41",
   "metadata": {
    "papermill": {
     "duration": null,
     "end_time": null,
     "exception": null,
     "start_time": null,
     "status": "pending"
    },
    "tags": []
   },
   "source": [
    "#### Defining AOI class"
   ]
  },
  {
   "cell_type": "code",
   "execution_count": null,
   "id": "c26ef88e",
   "metadata": {
    "execution": {
     "iopub.execute_input": "2021-06-09T12:31:31.599667Z",
     "iopub.status.busy": "2021-06-09T12:31:31.596313Z",
     "iopub.status.idle": "2021-06-09T12:31:31.602435Z",
     "shell.execute_reply": "2021-06-09T12:31:31.601813Z"
    },
    "papermill": {
     "duration": null,
     "end_time": null,
     "exception": null,
     "start_time": null,
     "status": "pending"
    },
    "tags": []
   },
   "outputs": [],
   "source": [
    "#should inherit AOIDataset\n",
    "\n",
    "from aireo_lib.core import AOIDataset\n",
    "\n",
    "class AOIDatasetBiomass(AOIDataset):\n",
    "\n",
    "    def __init__(self, AOI_STAC_collection, TDS_STAC_catalog):\n",
    "\n",
    "        self.AOI_STAC_collection = AOI_STAC_collection\n",
    "        self.TDS_STAC_catalog = TDS_STAC_catalog\n",
    "        self.stride = self.TDS_STAC_catalog.tds_ctl_root_info.tds_root_metadata_d['example_stride']\n",
    "        self.window_size = self.TDS_STAC_catalog.tds_ctl_root_info.tds_root_metadata_d['example_window_size']\n",
    "        \n",
    "        _first = True\n",
    "        \n",
    "        for eo_feature in self.AOI_STAC_collection.aoi_all_field_metadata.features:\n",
    "            aoi_feature_asset_path_d = self.AOI_STAC_collection.aoi_all_field_metadata.features[eo_feature].data_asset_w_path\n",
    "            self.feature_var_name = 'features_' + eo_feature\n",
    "            if _first:\n",
    "                self.data = rioxarray.open_rasterio(aoi_feature_asset_path_d).to_dataset(name = self.feature_var_name)\n",
    "                _first = False\n",
    "            else:\n",
    "                self.data[self.feature_var_name] = rioxarray.open_rasterio(aoi_feature_asset_path_d)\n",
    "        \n",
    "        for reference_data in self.AOI_STAC_collection.aoi_all_field_metadata.references:\n",
    "            aoi_ref_data_asset_path_d = self.AOI_STAC_collection.aoi_all_field_metadata.references[reference_data].data_asset_w_path\n",
    "            self.ref_var_name = 'references_'+reference_data\n",
    "            if _first:\n",
    "                with open(aoi_ref_data_asset_path_d, 'r') as f:\n",
    "                    data = json.load(f)\n",
    "                t = [data['Wood density']]\n",
    "                d = {\n",
    "                    \"Wood density\": {\"dims\": (\"t\"), \"data\": t},\n",
    "                }\n",
    "                self.data = xr.Dataset.from_dict(d).to_dataset(name = self.ref_var_name).to_array()\n",
    "            else:\n",
    "                with open(aoi_ref_data_asset_path_d, 'r') as f:\n",
    "                    data = json.load(f)\n",
    "                t = [data['Wood density']]\n",
    "                d = {\n",
    "                    \"Wood density\": {\"dims\": (\"t\"), \"data\": t},\n",
    "                }\n",
    "                self.data[self.ref_var_name] = xr.Dataset.from_dict(d).to_array().rename({'t':'mask'})\n",
    "        \n",
    "\n",
    "\n",
    "    def __getitem__(self, index):\n",
    "        \n",
    "        along_x = int((self.data[self.feature_var_name].shape[1] - self.window_size)/self.stride)\n",
    "        along_y = int((self.data[self.feature_var_name].shape[-1] - self.window_size)/self.stride)\n",
    "        x1 = self.stride * int(index % along_x)\n",
    "        y1 = self.stride * int(index / along_y)\n",
    "        x2 = x1 + self.window_size\n",
    "        y2 = y1 + self.window_size\n",
    "        \n",
    "        #store feature and reference data in same xarray, name the axes\n",
    "        ds = self.data.isel(band=[0], mask=[0], x=slice(x1,x2), y=slice(y1, y2))        \n",
    "        return ds\n",
    "    \n",
    "\n",
    "    def __len__(self):\n",
    "        \n",
    "        along_x = int((self.data[self.feature_var_name].shape[1] - self.window_size)/self.stride) + 1\n",
    "        along_y = int((self.data[self.feature_var_name].shape[-1] - self.window_size)/self.stride) + 1\n",
    "        return along_x * along_y\n",
    "    \n",
    "    def get_length(self):\n",
    "        return self.__len__()"
   ]
  },
  {
   "cell_type": "markdown",
   "id": "d5badace",
   "metadata": {
    "papermill": {
     "duration": null,
     "end_time": null,
     "exception": null,
     "start_time": null,
     "status": "pending"
    },
    "tags": []
   },
   "source": [
    "## TDS user"
   ]
  },
  {
   "cell_type": "markdown",
   "id": "02c78948",
   "metadata": {
    "papermill": {
     "duration": null,
     "end_time": null,
     "exception": null,
     "start_time": null,
     "status": "pending"
    },
    "tags": []
   },
   "source": [
    "### Parsing TDS"
   ]
  },
  {
   "cell_type": "code",
   "execution_count": null,
   "id": "83a6b4d0",
   "metadata": {
    "execution": {
     "iopub.execute_input": "2021-06-09T12:31:31.889972Z",
     "iopub.status.busy": "2021-06-09T12:31:31.888277Z",
     "iopub.status.idle": "2021-06-09T12:31:32.028196Z",
     "shell.execute_reply": "2021-06-09T12:31:32.027364Z"
    },
    "papermill": {
     "duration": null,
     "end_time": null,
     "exception": null,
     "start_time": null,
     "status": "pending"
    },
    "tags": []
   },
   "outputs": [],
   "source": [
    "from aireo_lib.core import EOTrainingDataset\n",
    "\n",
    "cap_tds_ctl_fn = Path(catalog_fn_w_path)\n",
    "\n",
    "eo_tds_obj = EOTrainingDataset(cap_tds_ctl_fn, AOIDatasetBiomass)"
   ]
  },
  {
   "cell_type": "code",
   "execution_count": null,
   "id": "7a0ba711",
   "metadata": {
    "execution": {
     "iopub.execute_input": "2021-06-09T12:31:32.147484Z",
     "iopub.status.busy": "2021-06-09T12:31:32.146579Z",
     "iopub.status.idle": "2021-06-09T12:31:32.150318Z",
     "shell.execute_reply": "2021-06-09T12:31:32.149707Z"
    },
    "papermill": {
     "duration": null,
     "end_time": null,
     "exception": null,
     "start_time": null,
     "status": "pending"
    },
    "tags": []
   },
   "outputs": [],
   "source": [
    "len(eo_tds_obj)"
   ]
  },
  {
   "cell_type": "code",
   "execution_count": null,
   "id": "d2745947",
   "metadata": {
    "execution": {
     "iopub.execute_input": "2021-06-09T12:31:32.255358Z",
     "iopub.status.busy": "2021-06-09T12:31:32.254464Z",
     "iopub.status.idle": "2021-06-09T12:31:32.276583Z",
     "shell.execute_reply": "2021-06-09T12:31:32.275977Z"
    },
    "papermill": {
     "duration": null,
     "end_time": null,
     "exception": null,
     "start_time": null,
     "status": "pending"
    },
    "tags": []
   },
   "outputs": [],
   "source": [
    "eo_tds_obj[0]"
   ]
  },
  {
   "cell_type": "code",
   "execution_count": null,
   "id": "8024a05d",
   "metadata": {
    "execution": {
     "iopub.execute_input": "2021-06-09T12:31:32.389852Z",
     "iopub.status.busy": "2021-06-09T12:31:32.388827Z",
     "iopub.status.idle": "2021-06-09T12:31:32.398254Z",
     "shell.execute_reply": "2021-06-09T12:31:32.397529Z"
    },
    "papermill": {
     "duration": null,
     "end_time": null,
     "exception": null,
     "start_time": null,
     "status": "pending"
    },
    "tags": []
   },
   "outputs": [],
   "source": [
    "eo_tds_obj.get_subset([19,1121], data_type='numpy')"
   ]
  },
  {
   "cell_type": "code",
   "execution_count": null,
   "id": "97379190",
   "metadata": {
    "execution": {
     "iopub.execute_input": "2021-06-09T12:31:32.523182Z",
     "iopub.status.busy": "2021-06-09T12:31:32.522245Z",
     "iopub.status.idle": "2021-06-09T12:31:32.526768Z",
     "shell.execute_reply": "2021-06-09T12:31:32.525965Z"
    },
    "papermill": {
     "duration": null,
     "end_time": null,
     "exception": null,
     "start_time": null,
     "status": "pending"
    },
    "tags": []
   },
   "outputs": [],
   "source": [
    "aoi_objs = eo_tds_obj.get_aoi_datasets()\n",
    "len(aoi_objs[1])"
   ]
  },
  {
   "cell_type": "code",
   "execution_count": null,
   "id": "4b6eebc0",
   "metadata": {
    "execution": {
     "iopub.execute_input": "2021-06-09T12:31:32.638960Z",
     "iopub.status.busy": "2021-06-09T12:31:32.637833Z",
     "iopub.status.idle": "2021-06-09T12:31:36.030829Z",
     "shell.execute_reply": "2021-06-09T12:31:36.030181Z"
    },
    "papermill": {
     "duration": null,
     "end_time": null,
     "exception": null,
     "start_time": null,
     "status": "pending"
    },
    "tags": []
   },
   "outputs": [],
   "source": [
    "import aireo_lib.plotting \n",
    "#import matplotlib.pyplot as plt\n",
    "from importlib import reload\n",
    "reload(aireo_lib.plotting)"
   ]
  },
  {
   "cell_type": "code",
   "execution_count": null,
   "id": "ca162267",
   "metadata": {
    "execution": {
     "iopub.execute_input": "2021-06-09T12:31:36.139730Z",
     "iopub.status.busy": "2021-06-09T12:31:36.137750Z",
     "iopub.status.idle": "2021-06-09T12:31:36.503233Z",
     "shell.execute_reply": "2021-06-09T12:31:36.503765Z"
    },
    "papermill": {
     "duration": null,
     "end_time": null,
     "exception": null,
     "start_time": null,
     "status": "pending"
    },
    "tags": []
   },
   "outputs": [],
   "source": [
    "plot_d = aireo_lib.plotting.EOTDSPlot.plot_example(EOTDS=eo_tds_obj, \n",
    "                       ex_index=1, \n",
    "                       field_names=['features_input1', 'references_output1'])\n",
    "plot_d['references_output1']"
   ]
  },
  {
   "cell_type": "code",
   "execution_count": null,
   "id": "b38467e0",
   "metadata": {
    "execution": {
     "iopub.execute_input": "2021-06-09T12:31:36.613036Z",
     "iopub.status.busy": "2021-06-09T12:31:36.612039Z",
     "iopub.status.idle": "2021-06-09T12:31:36.859848Z",
     "shell.execute_reply": "2021-06-09T12:31:36.859085Z"
    },
    "papermill": {
     "duration": null,
     "end_time": null,
     "exception": null,
     "start_time": null,
     "status": "pending"
    },
    "tags": []
   },
   "outputs": [],
   "source": [
    "plot_d['features_input1']"
   ]
  },
  {
   "cell_type": "code",
   "execution_count": null,
   "id": "d0fcc65c",
   "metadata": {
    "execution": {
     "iopub.execute_input": "2021-06-09T12:31:36.969867Z",
     "iopub.status.busy": "2021-06-09T12:31:36.968558Z",
     "iopub.status.idle": "2021-06-09T12:31:36.971177Z",
     "shell.execute_reply": "2021-06-09T12:31:36.970523Z"
    },
    "papermill": {
     "duration": null,
     "end_time": null,
     "exception": null,
     "start_time": null,
     "status": "pending"
    },
    "tags": []
   },
   "outputs": [],
   "source": [
    "aoi_obj = eo_tds_obj.get_aoi_dataset(2)"
   ]
  },
  {
   "cell_type": "code",
   "execution_count": null,
   "id": "7ba11a13",
   "metadata": {
    "execution": {
     "iopub.execute_input": "2021-06-09T12:31:37.083593Z",
     "iopub.status.busy": "2021-06-09T12:31:37.082744Z",
     "iopub.status.idle": "2021-06-09T12:31:37.284852Z",
     "shell.execute_reply": "2021-06-09T12:31:37.284186Z"
    },
    "papermill": {
     "duration": null,
     "end_time": null,
     "exception": null,
     "start_time": null,
     "status": "pending"
    },
    "tags": []
   },
   "outputs": [],
   "source": [
    "aoi_plots_d = aireo_lib.plotting.EOTDSPlot.plot_aoi_dataset(aoi_obj)\n",
    "aoi_plots_d"
   ]
  },
  {
   "cell_type": "markdown",
   "id": "3398538e",
   "metadata": {
    "papermill": {
     "duration": null,
     "end_time": null,
     "exception": null,
     "start_time": null,
     "status": "pending"
    },
    "tags": []
   },
   "source": [
    "### Statistics"
   ]
  },
  {
   "cell_type": "code",
   "execution_count": null,
   "id": "dd2df228",
   "metadata": {
    "execution": {
     "iopub.execute_input": "2021-06-09T12:31:37.492208Z",
     "iopub.status.busy": "2021-06-09T12:31:37.491395Z",
     "iopub.status.idle": "2021-06-09T12:31:37.496848Z",
     "shell.execute_reply": "2021-06-09T12:31:37.496247Z"
    },
    "papermill": {
     "duration": null,
     "end_time": null,
     "exception": null,
     "start_time": null,
     "status": "pending"
    },
    "tags": []
   },
   "outputs": [],
   "source": [
    "import aireo_lib.statistics\n",
    "from importlib import reload\n",
    "reload(aireo_lib.statistics)"
   ]
  },
  {
   "cell_type": "code",
   "execution_count": null,
   "id": "5d6f208d",
   "metadata": {
    "execution": {
     "iopub.execute_input": "2021-06-09T12:31:37.615728Z",
     "iopub.status.busy": "2021-06-09T12:31:37.614846Z",
     "iopub.status.idle": "2021-06-09T12:31:40.321207Z",
     "shell.execute_reply": "2021-06-09T12:31:40.320359Z"
    },
    "papermill": {
     "duration": null,
     "end_time": null,
     "exception": null,
     "start_time": null,
     "status": "pending"
    },
    "scrolled": true,
    "tags": []
   },
   "outputs": [],
   "source": [
    "aireo_lib.statistics.EOTDSStatistics.feature_data_statistics(eo_tds_obj)"
   ]
  },
  {
   "cell_type": "code",
   "execution_count": null,
   "id": "26b5c4b2",
   "metadata": {
    "execution": {
     "iopub.execute_input": "2021-06-09T12:31:40.434078Z",
     "iopub.status.busy": "2021-06-09T12:31:40.433177Z",
     "iopub.status.idle": "2021-06-09T12:31:40.436465Z",
     "shell.execute_reply": "2021-06-09T12:31:40.445983Z"
    },
    "papermill": {
     "duration": null,
     "end_time": null,
     "exception": null,
     "start_time": null,
     "status": "pending"
    },
    "tags": []
   },
   "outputs": [],
   "source": [
    "aireo_lib.statistics.EOTDSStatistics.reference_data_statistics(eo_tds_obj)"
   ]
  },
  {
   "cell_type": "markdown",
   "id": "e2deb36f",
   "metadata": {
    "papermill": {
     "duration": null,
     "end_time": null,
     "exception": null,
     "start_time": null,
     "status": "pending"
    },
    "tags": []
   },
   "source": [
    "## Format"
   ]
  },
  {
   "cell_type": "markdown",
   "id": "0dd990f4",
   "metadata": {
    "papermill": {
     "duration": null,
     "end_time": null,
     "exception": null,
     "start_time": null,
     "status": "pending"
    },
    "tags": []
   },
   "source": [
    "The dataset is in spreadsheet format (.xlsx)"
   ]
  },
  {
   "cell_type": "markdown",
   "id": "343b024f",
   "metadata": {
    "papermill": {
     "duration": null,
     "end_time": null,
     "exception": null,
     "start_time": null,
     "status": "pending"
    },
    "tags": []
   },
   "source": [
    "## Version"
   ]
  },
  {
   "cell_type": "markdown",
   "id": "9dfbbfe5",
   "metadata": {
    "papermill": {
     "duration": null,
     "end_time": null,
     "exception": null,
     "start_time": null,
     "status": "pending"
    },
    "tags": []
   },
   "source": [
    "FOS plot data v2019.04.10"
   ]
  },
  {
   "cell_type": "markdown",
   "id": "a9fe6b37",
   "metadata": {
    "papermill": {
     "duration": null,
     "end_time": null,
     "exception": null,
     "start_time": null,
     "status": "pending"
    },
    "tags": []
   },
   "source": [
    "## License"
   ]
  },
  {
   "cell_type": "markdown",
   "id": "e1eef508",
   "metadata": {
    "papermill": {
     "duration": null,
     "end_time": null,
     "exception": null,
     "start_time": null,
     "status": "pending"
    },
    "tags": []
   },
   "source": [
    "This dataset is licensed under a [Creative Commons Attribution 4.0 International License (CC-BY 4.0).](https://creativecommons.org/licenses/by/4.0/)"
   ]
  },
  {
   "cell_type": "markdown",
   "id": "faf8ba48",
   "metadata": {
    "papermill": {
     "duration": null,
     "end_time": null,
     "exception": null,
     "start_time": null,
     "status": "pending"
    },
    "tags": []
   },
   "source": [
    "## References"
   ]
  },
  {
   "cell_type": "markdown",
   "id": "887ddc05",
   "metadata": {
    "papermill": {
     "duration": null,
     "end_time": null,
     "exception": null,
     "start_time": null,
     "status": "pending"
    },
    "tags": []
   },
   "source": [
    "Schepaschenko, D., Chave, J., Phillips, O. L., Lewis, S. L., Davies, S. J., Réjou-Méchain, M., ... & Labrière, N. (2019). The Forest Observation System, building a global reference dataset for remote sensing of forest biomass. Scientific data, 6(1), 1-11."
   ]
  }
 ],
 "metadata": {
  "kernelspec": {
   "display_name": "EDC-GPU 0.24.5 (Python3)",
   "language": "python",
   "name": "edc-gpu"
  },
  "language_info": {
   "codemirror_mode": {
    "name": "ipython",
    "version": 3
   },
   "file_extension": ".py",
   "mimetype": "text/x-python",
   "name": "python",
   "nbconvert_exporter": "python",
   "pygments_lexer": "ipython3",
   "version": "3.8.10"
  },
  "papermill": {
   "default_parameters": {},
   "duration": 14.258795,
   "end_time": "2021-08-19T08:24:32.526110",
   "environment_variables": {},
   "exception": true,
   "input_path": "/tmp/tmp0kc0meed",
   "output_path": "/tmp/notebook_output.ipynb",
   "parameters": {},
   "start_time": "2021-08-19T08:24:18.267315",
   "version": "2.3.3"
  },
  "properties": {
   "authors": [
    {
     "id": "a7f80638-e89a-4349-9cc7-7ed6ec2d79b7",
     "name": "AIREO team"
    }
   ],
   "description": "Use of aireo_lib library as part of AIREO project",
   "id": "a8f41fdb-b43b-428b-9919-5616ec0420bb",
   "license": null,
   "name": "AIREO pilot dataset - Biomass (Forest Observation System)",
   "requirements": [
    "eurodatacube",
    "eoxhub"
   ],
   "tags": [
    "Analysis-Ready Data",
    "EO Data",
    "Jupyter",
    "Machine Learning",
    "Sentinel Data",
    "Sentinel Hub"
   ],
   "tosAgree": true,
   "type": "Jupyter Notebook",
   "version": "0.1.3"
  }
 },
 "nbformat": 4,
 "nbformat_minor": 5
}