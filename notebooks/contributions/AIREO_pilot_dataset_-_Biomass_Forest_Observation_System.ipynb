{
 "cells": [
  {
   "cell_type": "code",
   "execution_count": 1,
   "id": "758743aa",
   "metadata": {
    "execution": {
     "iopub.execute_input": "2021-06-09T12:13:15.580120Z",
     "iopub.status.busy": "2021-06-09T12:13:15.579174Z",
     "iopub.status.idle": "2021-06-09T12:13:15.659313Z",
     "shell.execute_reply": "2021-06-09T12:13:15.658610Z"
    },
    "papermill": {
     "duration": 0.117607,
     "end_time": "2021-06-09T12:13:15.659461",
     "exception": false,
     "start_time": "2021-06-09T12:13:15.541854",
     "status": "completed"
    },
    "tags": []
   },
   "outputs": [
    {
     "data": {
      "text/html": [
       "<script type=\"text/javascript\">\n",
       "        function toggle(id) {\n",
       "            el = document.getElementById(id);\n",
       "            el.style.display = el.style.display === \"none\" ? \"block\" : \"none\";\n",
       "        }\n",
       "    </script>"
      ],
      "text/plain": [
       "<IPython.core.display.HTML object>"
      ]
     },
     "metadata": {},
     "output_type": "display_data"
    },
    {
     "data": {
      "text/html": [
       "This notebook is compatible with this base image version (user-0.24.5)."
      ],
      "text/plain": [
       "<IPython.core.display.HTML object>"
      ]
     },
     "metadata": {},
     "output_type": "display_data"
    },
    {
     "data": {
      "text/markdown": [
       "\n",
       "\n",
       "---------\n",
       "\n",
       "The following environment variables are available:\n",
       "\n",
       "* `SH_CLIENT_ID`, `SH_INSTANCE_ID`, `SH_CLIENT_NAME`, `SH_CLIENT_SECRET`\n"
      ],
      "text/plain": [
       "<IPython.core.display.Markdown object>"
      ]
     },
     "metadata": {},
     "output_type": "display_data"
    }
   ],
   "source": [
    "from edc import check_compatibility\n",
    "check_compatibility(\"user-0.24.5\", dependencies=[\"SH\"])"
   ]
  },
  {
   "cell_type": "code",
   "execution_count": 2,
   "id": "9d221b52",
   "metadata": {
    "execution": {
     "iopub.execute_input": "2021-06-09T12:13:15.731981Z",
     "iopub.status.busy": "2021-06-09T12:13:15.730796Z",
     "iopub.status.idle": "2021-06-09T12:13:27.549965Z",
     "shell.execute_reply": "2021-06-09T12:13:27.549099Z"
    },
    "papermill": {
     "duration": 11.859302,
     "end_time": "2021-06-09T12:13:27.550140",
     "exception": false,
     "start_time": "2021-06-09T12:13:15.690838",
     "status": "completed"
    },
    "tags": []
   },
   "outputs": [
    {
     "name": "stdout",
     "output_type": "stream",
     "text": [
      "Collecting git+https://github.com/aireo-project/aireo_lib\n",
      "  Cloning https://github.com/aireo-project/aireo_lib to /tmp/pip-req-build-b33u18vs\n",
      "  Running command git clone -q https://github.com/aireo-project/aireo_lib /tmp/pip-req-build-b33u18vs\n",
      "  Installing build dependencies ... \u001b[?25ldone\n",
      "\u001b[?25h  Getting requirements to build wheel ... \u001b[?25ldone\n",
      "\u001b[?25h    Preparing wheel metadata ... \u001b[?25ldone\n",
      "\u001b[?25hRequirement already satisfied: matplotlib in /opt/conda/envs/eurodatacube-0.24.5/lib/python3.8/site-packages (from aireo-library==0.0.post1.dev3+g946df44) (3.4.2)\n",
      "Requirement already satisfied: xarray in /opt/conda/envs/eurodatacube-0.24.5/lib/python3.8/site-packages (from aireo-library==0.0.post1.dev3+g946df44) (0.18.0)\n",
      "Collecting pyaml\n",
      "  Downloading pyaml-20.4.0-py2.py3-none-any.whl (17 kB)\n",
      "Collecting stac-pydantic\n",
      "  Downloading stac_pydantic-1.3.9-py3-none-any.whl (25 kB)\n",
      "Requirement already satisfied: numpy in /opt/conda/envs/eurodatacube-0.24.5/lib/python3.8/site-packages (from aireo-library==0.0.post1.dev3+g946df44) (1.20.2)\n",
      "Collecting loguru\n",
      "  Downloading loguru-0.5.3-py3-none-any.whl (57 kB)\n",
      "\u001b[K     |████████████████████████████████| 57 kB 5.6 MB/s eta 0:00:011\n",
      "\u001b[?25hRequirement already satisfied: pillow>=6.2.0 in /opt/conda/envs/eurodatacube-0.24.5/lib/python3.8/site-packages (from matplotlib->aireo-library==0.0.post1.dev3+g946df44) (8.1.2)\n",
      "Requirement already satisfied: cycler>=0.10 in /opt/conda/envs/eurodatacube-0.24.5/lib/python3.8/site-packages (from matplotlib->aireo-library==0.0.post1.dev3+g946df44) (0.10.0)\n",
      "Requirement already satisfied: pyparsing>=2.2.1 in /opt/conda/envs/eurodatacube-0.24.5/lib/python3.8/site-packages (from matplotlib->aireo-library==0.0.post1.dev3+g946df44) (2.4.7)\n",
      "Requirement already satisfied: python-dateutil>=2.7 in /opt/conda/envs/eurodatacube-0.24.5/lib/python3.8/site-packages (from matplotlib->aireo-library==0.0.post1.dev3+g946df44) (2.8.1)\n",
      "Requirement already satisfied: kiwisolver>=1.0.1 in /opt/conda/envs/eurodatacube-0.24.5/lib/python3.8/site-packages (from matplotlib->aireo-library==0.0.post1.dev3+g946df44) (1.3.1)\n",
      "Requirement already satisfied: six in /opt/conda/envs/eurodatacube-0.24.5/lib/python3.8/site-packages (from cycler>=0.10->matplotlib->aireo-library==0.0.post1.dev3+g946df44) (1.16.0)\n",
      "Requirement already satisfied: PyYAML in /opt/conda/envs/eurodatacube-0.24.5/lib/python3.8/site-packages (from pyaml->aireo-library==0.0.post1.dev3+g946df44) (5.4.1)\n",
      "Collecting pydantic>=1.6\n",
      "  Downloading pydantic-1.8.2-cp38-cp38-manylinux2014_x86_64.whl (13.7 MB)\n",
      "\u001b[K     |████████████████████████████████| 13.7 MB 26.3 MB/s eta 0:00:01\n",
      "\u001b[?25hCollecting geojson-pydantic\n",
      "  Downloading geojson-pydantic-0.3.0.tar.gz (8.0 kB)\n",
      "Requirement already satisfied: click in /opt/conda/envs/eurodatacube-0.24.5/lib/python3.8/site-packages (from stac-pydantic->aireo-library==0.0.post1.dev3+g946df44) (7.1.2)\n",
      "Requirement already satisfied: typing-extensions>=3.7.4.3 in /opt/conda/envs/eurodatacube-0.24.5/lib/python3.8/site-packages (from pydantic>=1.6->stac-pydantic->aireo-library==0.0.post1.dev3+g946df44) (3.7.4.3)\n",
      "Requirement already satisfied: pandas>=1.0 in /opt/conda/envs/eurodatacube-0.24.5/lib/python3.8/site-packages (from xarray->aireo-library==0.0.post1.dev3+g946df44) (1.2.4)\n",
      "Requirement already satisfied: setuptools>=40.4 in /opt/conda/envs/eurodatacube-0.24.5/lib/python3.8/site-packages (from xarray->aireo-library==0.0.post1.dev3+g946df44) (49.6.0.post20210108)\n",
      "Requirement already satisfied: pytz>=2017.3 in /opt/conda/envs/eurodatacube-0.24.5/lib/python3.8/site-packages (from pandas>=1.0->xarray->aireo-library==0.0.post1.dev3+g946df44) (2021.1)\n",
      "Building wheels for collected packages: aireo-library, geojson-pydantic\n",
      "  Building wheel for aireo-library (PEP 517) ... \u001b[?25ldone\n",
      "\u001b[?25h  Created wheel for aireo-library: filename=aireo_library-0.0.post1.dev3+g946df44-py2.py3-none-any.whl size=32421 sha256=2349ca3af47388e788e042a5b5b3e55e752a8fa5dc275dc3c212180b1e1fa8a2\n",
      "  Stored in directory: /tmp/pip-ephem-wheel-cache-k5o0wcwc/wheels/21/0d/e3/5070de6a55fd86816588bdec861c04e5854a778bdc27889fa4\n",
      "  Building wheel for geojson-pydantic (setup.py) ... \u001b[?25ldone\n",
      "\u001b[?25h  Created wheel for geojson-pydantic: filename=geojson_pydantic-0.3.0-py3-none-any.whl size=6738 sha256=08a75aae3efa752208cc9ecae90d46dfa8d72869a2f3d1ba01213f7fa1ea6bb1\n",
      "  Stored in directory: /home/jovyan/true/wheels/64/6e/04/1e8ec4d219290bc3aca4e47e1505f06bae14f584b568a75659\n",
      "Successfully built aireo-library geojson-pydantic\n",
      "Installing collected packages: pydantic, geojson-pydantic, stac-pydantic, pyaml, loguru, aireo-library\n",
      "Successfully installed aireo-library-0.0.post1.dev3+g946df44 geojson-pydantic-0.3.0 loguru-0.5.3 pyaml-20.4.0 pydantic-1.8.2 stac-pydantic-1.3.9\n"
     ]
    }
   ],
   "source": [
    "#Install aireo library\n",
    "!python3 -m pip install git+https://github.com/aireo-project/aireo_lib"
   ]
  },
  {
   "cell_type": "markdown",
   "id": "a42b5654",
   "metadata": {
    "papermill": {
     "duration": 0.04361,
     "end_time": "2021-06-09T12:13:27.733215",
     "exception": false,
     "start_time": "2021-06-09T12:13:27.689605",
     "status": "completed"
    },
    "tags": []
   },
   "source": [
    "# AIREO pilot dataset - Biomass (Forest Observation System)\n"
   ]
  },
  {
   "cell_type": "markdown",
   "id": "2a61c9eb",
   "metadata": {
    "papermill": {
     "duration": 0.043451,
     "end_time": "2021-06-09T12:13:27.823171",
     "exception": false,
     "start_time": "2021-06-09T12:13:27.779720",
     "status": "completed"
    },
    "tags": []
   },
   "source": [
    "Forest Observation System [FOS](https://forest-observation-system.net) is an international cooperation aiming to establish an in-situ forest biomass database in order to support Earth Observation with reliable, up to date, representative and comparable data for validation (Schepaschenko, D. et al. 2019)."
   ]
  },
  {
   "cell_type": "markdown",
   "id": "be6010c0",
   "metadata": {
    "papermill": {
     "duration": 0.042792,
     "end_time": "2021-06-09T12:13:27.917562",
     "exception": false,
     "start_time": "2021-06-09T12:13:27.874770",
     "status": "completed"
    },
    "tags": []
   },
   "source": [
    "## Introduction\n",
    "\n",
    "The notebook demonstrates the use of <b> aireo_lib </b>, a python library created as a part of the [AIREO](https://aireo.net/) (Artificial Intelligence Ready Earth Observation training datasets) project. The project aims to make EO datasets easily accessible for the ML (Machine Learning) community. As such, AIREO specifications (shorthand specs) which define metadata elements to be included with the training dataset are proposed, supplemented by a best-practices document which suggests how to fill those metadata elements. Finally, the library takes all into account and implements specs, best-practices and offers an easy-to-use pythonic interface bridging the gap between EO and ML community.\n",
    "\n",
    "Therefore, this notebook is divided into two sections, one for the training dataset creator (usually from the EO community) and the other for its user (usually from the ML community). The structure of the notebook is the following:\n",
    "\n",
    "\n",
    "1) For Creator \n",
    "\n",
    "    - Create a [STAC](https://stacspec.org/) catalog object using the library\n",
    "    \n",
    "    - Populate metadata elements prescribed by the AIREO specs\n",
    "    \n",
    "    - Generate a STAC metadata directory using the library\n",
    "\n",
    "    - Check AIREO compliance level and metadata completeness\n",
    "\n",
    "   \n",
    "2) For User \n",
    "\n",
    "    - Create a training dataset object as defined in the library using only the STAC metadata\n",
    "    \n",
    "    - Get example instances from the object and other dataset variables like the number of instances, etc.\n",
    "    \n",
    "    - Use library's functions to plot the data\n",
    "    \n",
    "    - Investigate statistics using the library"
   ]
  },
  {
   "cell_type": "markdown",
   "id": "b0401fc4",
   "metadata": {
    "papermill": {
     "duration": 0.043336,
     "end_time": "2021-06-09T12:13:28.004858",
     "exception": false,
     "start_time": "2021-06-09T12:13:27.961522",
     "status": "completed"
    },
    "tags": []
   },
   "source": [
    "## AIREO STAC Catalog basics"
   ]
  },
  {
   "cell_type": "markdown",
   "id": "c06dc39b",
   "metadata": {
    "papermill": {
     "duration": 0.043104,
     "end_time": "2021-06-09T12:13:28.090454",
     "exception": false,
     "start_time": "2021-06-09T12:13:28.047350",
     "status": "completed"
    },
    "tags": []
   },
   "source": [
    "The AIREO specs propose a hierarchical structure for STAC metadata. It is a two level structure where the dataset is represented by a collection of AOIs (Area Of Interests), hence, the dataset and AOI being the two levels.\n",
    "\n",
    "1. At the dataset level we have a dataset catalog whose metadata elements are the core elements proposed in the AIREO spec. In addition to it, the common metadata elements across each AOI are also at the dataset level, which we shall call root level henceforth. Here, for each data variable there is a separate json which is a STAC Item by definition and is named using the field_schema metadata element. Additionally, there is also a datasheet file in markdown format at the root level which contains human readable information about the key elements of the dataset.\n",
    "\n",
    "2. Each AOI has a separate folder within the root level. And in each AOI folder there is a STAC collection representing that AOI and additional json files for each data variable. The additional json files here too, are STAC Items and follow a similar naming convention to the ones at the root level. The assets for each AOI, i.e. the files containing actual data are also in the folder.\n",
    "\n",
    "The diagram below summarises this hierarchical structure:\n",
    "\n",
    "\n",
    "```\n",
    "Root level (dataset)\n",
    "│\n",
    "│   DatasetCatalog.json\n",
    "│   datasheet.md\n",
    "│   references_output1.json\n",
    "│   features_input1.json\n",
    "│   ...\n",
    "│\n",
    "│\n",
    "└───AOI 1\n",
    "│      1.json (AOI Collection)\n",
    "│      feature_input1.json\n",
    "│      reference_output1.json\n",
    "│      <reference_asset>\n",
    "│      <feature_asseet>\n",
    "│   \n",
    "│   \n",
    "└───AOI 2\n",
    "│      ...\n",
    "│   \n",
    "│\n",
    "└───AOI 3\n",
    "│      ...\n",
    "│   \n",
    "...     \n",
    "```"
   ]
  },
  {
   "cell_type": "markdown",
   "id": "0a1a0229",
   "metadata": {
    "papermill": {
     "duration": 0.045093,
     "end_time": "2021-06-09T12:13:28.177147",
     "exception": false,
     "start_time": "2021-06-09T12:13:28.132054",
     "status": "completed"
    },
    "tags": []
   },
   "source": [
    "## Creator perpsective"
   ]
  },
  {
   "cell_type": "code",
   "execution_count": 4,
   "id": "5414382b",
   "metadata": {
    "execution": {
     "iopub.execute_input": "2021-06-09T12:13:28.272507Z",
     "iopub.status.busy": "2021-06-09T12:13:28.271451Z",
     "iopub.status.idle": "2021-06-09T12:13:30.403939Z",
     "shell.execute_reply": "2021-06-09T12:13:30.403208Z"
    },
    "papermill": {
     "duration": 2.182804,
     "end_time": "2021-06-09T12:13:30.404057",
     "exception": false,
     "start_time": "2021-06-09T12:13:28.221253",
     "status": "completed"
    },
    "tags": []
   },
   "outputs": [],
   "source": [
    "import aireo_lib.core\n",
    "import os\n",
    "import json\n",
    "import numpy as np\n",
    "from osgeo import gdal\n",
    "from tqdm.notebook import tqdm\n",
    "from shapely import geometry\n",
    "import shutil\n",
    "import rioxarray\n",
    "import xarray as xr\n",
    "from pathlib import Path\n",
    "from sentinelhub import (SHConfig, BBox, bbox_to_dimensions, CRS,SentinelHubBatch, SentinelHubRequest, DataCollection, MimeType, FisRequest)\n",
    "from sentinelhub.geometry import Geometry\n",
    "import PIL.Image as Image\n",
    "import pandas as pd\n",
    "pd.set_option('display.max_rows', None)\n",
    "import geopandas as gp"
   ]
  },
  {
   "cell_type": "code",
   "execution_count": 5,
   "id": "25f2707c",
   "metadata": {
    "execution": {
     "iopub.execute_input": "2021-06-09T12:13:30.501504Z",
     "iopub.status.busy": "2021-06-09T12:13:30.500752Z",
     "iopub.status.idle": "2021-06-09T12:13:31.704579Z",
     "shell.execute_reply": "2021-06-09T12:13:31.703921Z"
    },
    "papermill": {
     "duration": 1.254198,
     "end_time": "2021-06-09T12:13:31.704698",
     "exception": false,
     "start_time": "2021-06-09T12:13:30.450500",
     "status": "completed"
    },
    "tags": []
   },
   "outputs": [
    {
     "name": "stderr",
     "output_type": "stream",
     "text": [
      "<ipython-input-5-5b595d75abc1>:3: FutureWarning: Your version of xlrd is 1.2.0. In xlrd >= 2.0, only the xls format is supported. As a result, the openpyxl engine will be used if it is installed and the engine argument is not specified. Install openpyxl instead.\n",
      "  df = pd.read_excel (path)\n"
     ]
    }
   ],
   "source": [
    "#Pull Biomass excel sheet\n",
    "path = ('https://forest-observation-system.net/Data/FOS_Plots_v2019.04.10.xlsx')\n",
    "df = pd.read_excel (path)\n",
    "df.keys()\n",
    "gdf = gp.GeoDataFrame(\n",
    "    df, geometry=gp.points_from_xy(df.Lon_cnt, df.Lat_cnt))"
   ]
  },
  {
   "cell_type": "code",
   "execution_count": 6,
   "id": "7313774a",
   "metadata": {
    "execution": {
     "iopub.execute_input": "2021-06-09T12:13:31.805956Z",
     "iopub.status.busy": "2021-06-09T12:13:31.805192Z",
     "iopub.status.idle": "2021-06-09T12:13:31.816560Z",
     "shell.execute_reply": "2021-06-09T12:13:31.815227Z"
    },
    "papermill": {
     "duration": 0.068169,
     "end_time": "2021-06-09T12:13:31.816793",
     "exception": true,
     "start_time": "2021-06-09T12:13:31.748624",
     "status": "failed"
    },
    "tags": []
   },
   "outputs": [
    {
     "ename": "KeyError",
     "evalue": "'EDC_PATH'",
     "output_type": "error",
     "traceback": [
      "\u001b[0;31m---------------------------------------------------------------------------\u001b[0m",
      "\u001b[0;31mKeyError\u001b[0m                                  Traceback (most recent call last)",
      "\u001b[0;32m<ipython-input-6-60d5efd8798e>\u001b[0m in \u001b[0;36m<module>\u001b[0;34m\u001b[0m\n\u001b[1;32m      1\u001b[0m \u001b[0;31m# Path to write the STAC root metadata file too\u001b[0m\u001b[0;34m\u001b[0m\u001b[0;34m\u001b[0m\u001b[0;34m\u001b[0m\u001b[0m\n\u001b[0;32m----> 2\u001b[0;31m \u001b[0mcatalog_fn_w_path\u001b[0m \u001b[0;34m=\u001b[0m \u001b[0mos\u001b[0m\u001b[0;34m.\u001b[0m\u001b[0menviron\u001b[0m\u001b[0;34m[\u001b[0m\u001b[0;34m'EDC_PATH'\u001b[0m\u001b[0;34m]\u001b[0m\u001b[0;34m+\u001b[0m\u001b[0;34m'/data/biomass/Biomass_stac_generated/EO_TDS.json'\u001b[0m\u001b[0;34m\u001b[0m\u001b[0;34m\u001b[0m\u001b[0m\n\u001b[0m\u001b[1;32m      3\u001b[0m \u001b[0;34m\u001b[0m\u001b[0m\n\u001b[1;32m      4\u001b[0m \u001b[0;31m# Creating an empty STAC Catalog object\u001b[0m\u001b[0;34m\u001b[0m\u001b[0;34m\u001b[0m\u001b[0;34m\u001b[0m\u001b[0m\n\u001b[1;32m      5\u001b[0m \u001b[0mnew_tds_ctl_o\u001b[0m \u001b[0;34m=\u001b[0m \u001b[0maireo_lib\u001b[0m\u001b[0;34m.\u001b[0m\u001b[0mcore\u001b[0m\u001b[0;34m.\u001b[0m\u001b[0mtds_stac_io\u001b[0m\u001b[0;34m.\u001b[0m\u001b[0mDatasetSTACCatalog\u001b[0m\u001b[0;34m(\u001b[0m\u001b[0;34m)\u001b[0m\u001b[0;34m\u001b[0m\u001b[0;34m\u001b[0m\u001b[0m\n",
      "\u001b[0;32m/opt/conda/envs/eurodatacube-0.24.5/lib/python3.8/os.py\u001b[0m in \u001b[0;36m__getitem__\u001b[0;34m(self, key)\u001b[0m\n\u001b[1;32m    673\u001b[0m         \u001b[0;32mexcept\u001b[0m \u001b[0mKeyError\u001b[0m\u001b[0;34m:\u001b[0m\u001b[0;34m\u001b[0m\u001b[0;34m\u001b[0m\u001b[0m\n\u001b[1;32m    674\u001b[0m             \u001b[0;31m# raise KeyError with the original key value\u001b[0m\u001b[0;34m\u001b[0m\u001b[0;34m\u001b[0m\u001b[0;34m\u001b[0m\u001b[0m\n\u001b[0;32m--> 675\u001b[0;31m             \u001b[0;32mraise\u001b[0m \u001b[0mKeyError\u001b[0m\u001b[0;34m(\u001b[0m\u001b[0mkey\u001b[0m\u001b[0;34m)\u001b[0m \u001b[0;32mfrom\u001b[0m \u001b[0;32mNone\u001b[0m\u001b[0;34m\u001b[0m\u001b[0;34m\u001b[0m\u001b[0m\n\u001b[0m\u001b[1;32m    676\u001b[0m         \u001b[0;32mreturn\u001b[0m \u001b[0mself\u001b[0m\u001b[0;34m.\u001b[0m\u001b[0mdecodevalue\u001b[0m\u001b[0;34m(\u001b[0m\u001b[0mvalue\u001b[0m\u001b[0;34m)\u001b[0m\u001b[0;34m\u001b[0m\u001b[0;34m\u001b[0m\u001b[0m\n\u001b[1;32m    677\u001b[0m \u001b[0;34m\u001b[0m\u001b[0m\n",
      "\u001b[0;31mKeyError\u001b[0m: 'EDC_PATH'"
     ]
    }
   ],
   "source": [
    "# Path to write the STAC root metadata file too\n",
    "catalog_fn_w_path = os.environ['EDC_PATH']+'/data/biomass/Biomass_stac_generated/EO_TDS.json'\n",
    "\n",
    "# Creating an empty STAC Catalog object\n",
    "new_tds_ctl_o = aireo_lib.core.tds_stac_io.DatasetSTACCatalog()\n"
   ]
  },
  {
   "cell_type": "code",
   "execution_count": null,
   "id": "4621e3ce",
   "metadata": {
    "papermill": {
     "duration": null,
     "end_time": null,
     "exception": null,
     "start_time": null,
     "status": "pending"
    },
    "scrolled": true,
    "tags": []
   },
   "outputs": [],
   "source": [
    "# Get AOI list for the TDS\n",
    "\n",
    "reference_path = os.environ['EDC_PATH']  + '/data/biomass/Biomass_tiff/'\n",
    "#print(os.listdir(reference_path))\n",
    "aoi_ids = [i.replace('.tif','').replace('patch_', '') for i in os.listdir(reference_path) if '.tif' in i]\n",
    "aoi_ids = ['ALP-02_0_3',\n",
    " 'ALP-02_0_2',\n",
    " 'ASN-02_0_0',\n",
    " 'ALP-02_0_0',\n",
    " 'ALP-02_0_1']"
   ]
  },
  {
   "cell_type": "code",
   "execution_count": null,
   "id": "3ecd575f",
   "metadata": {
    "papermill": {
     "duration": null,
     "end_time": null,
     "exception": null,
     "start_time": null,
     "status": "pending"
    },
    "tags": []
   },
   "outputs": [],
   "source": [
    "# Creating root metadata dictionary\n",
    "\n",
    "tds_root_core_metadata_d = {}\n",
    "tds_root_core_metadata_d['aireo_version'] = \"0.0.1-alpha.1\"\n",
    "tds_root_core_metadata_d['title'] = \"Aireo Pilot datasets - Forest Observatory System - Biomass\"\n",
    "tds_root_core_metadata_d['description'] = \"Above ground biomass split in 260 plots of 50 x 50 m.\"\n",
    "tds_root_core_metadata_d['created'] = 'Null'\n",
    "tds_root_core_metadata_d['license_url_list'] = 'https://creativecommons.org/licenses/by/4.0/deed.de' \n",
    "tds_root_core_metadata_d['license'] = \"CC-BY-4.0\"\n",
    "tds_root_core_metadata_d[\"providers_name\"]= \"[FOS, RAINFOR, AfriTRON]\"\n",
    "tds_root_core_metadata_d[\"providers_description\"] = \"international cooperation to establish a global in-situ forest biomass database to support earth observation and to encourage investment in relevant field-based observations and science.\"\n",
    "tds_root_core_metadata_d[\"providers_roles\"] = {'FOS': [\"licensor\", \"host\"], 'RAINFOR':[\"producer\", \"processor\" , \"host\"],'AfriTRON':[\"producer\", \"processor\" ]}\n",
    "tds_root_core_metadata_d[\"providers_url\"]= {'FOS':'https://forest-observation-system.net', 'RAINFOR': 'https://www.rainfor.org/', \n",
    "                        'AfriTRON': 'https://www.afritron.org/'}                         \n",
    "tds_root_core_metadata_d['id'] =  \"aa24c994-e8a9-4175-9a16-7def23bf762b\" #changed UUID\n",
    "tds_root_core_metadata_d['type'] = \"Collection\"\n",
    "tds_root_core_metadata_d['stac_version'] = '1.0.0-beta.2'\n",
    "tds_root_core_metadata_d['provenance'] = 'The dataset was fed by providers based on ground field measurements (see providers) and the accompanying satellite images were provided by Sentinel Hub (see links in providers) using Sentinel 2 images.'\n",
    "tds_root_core_metadata_d['purpose'] = \"The dataset has sentinel 2 images matching the location of each plotID in order to add remote sensing imagery to in-situ data taken from dataset  \"\n",
    "tds_root_core_metadata_d['tasks'] =  ['regression']\n",
    "tds_root_core_metadata_d['data_preprocessing'] = 'Only satellite images with cloud cover less than 20% are considered'\n",
    "tds_root_core_metadata_d['funding_info'] = \"The AIREO project is funded by ESA, the underlying fields and crop data are funded by Agricultural Market Austria and the satellite imagery used is through funds from ESA.\"\n",
    "tds_root_core_metadata_d['field_schema'] = {'features': {'input1': ['georeferenced_eo_image']}, 'references': {'output1': ['reference_data']}}\n",
    "tds_root_core_metadata_d['example_definition'] = \"An example for ML training would be a satellite imagery with its biomass associated as referece. That could be used to predict Biomass measurements in other parts of the planet using regression method\"\n",
    "\n",
    "tds_root_core_metadata_d['example_window_size'] = 256 #do you need these twofor biomass? they are for sampling\n",
    "tds_root_core_metadata_d['example_stride'] = 26\n",
    "                                                 \n",
    "tds_root_core_metadata_d['data_completeness'] = \"Data has lots of entries in different languages. Not all entries are completed\"\n",
    "tds_root_core_metadata_d['data_split'] = \"It should be split in wide acceptance proportion 80%-20%\"\n",
    "tds_root_core_metadata_d['data_sharing'] = \"The dataset will be shared on Euro Data Cube (EDC) and can be accessed through jupyter notebooks on EDC.\"\n",
    "tds_root_core_metadata_d['compliance_level'] = 'level 1'\n",
    "tds_root_core_metadata_d['links'] =  []\n"
   ]
  },
  {
   "cell_type": "code",
   "execution_count": null,
   "id": "773f09c1",
   "metadata": {
    "papermill": {
     "duration": null,
     "end_time": null,
     "exception": null,
     "start_time": null,
     "status": "pending"
    },
    "tags": []
   },
   "outputs": [],
   "source": [
    "#Creating common predictive feature metadata dictionary\n",
    "\n",
    "g_feature_metadata_d = {}\n",
    "g_feature_metadata_d['type'] = \"Feature\"\n",
    "g_feature_metadata_d['stac_version'] = \"1.0.0-beta.2\"\n",
    "g_feature_metadata_d['stac_extensions'] = [\"georeferenced_eo_image\"]\n",
    "g_feature_metadata_d['id'] = f'common_predictive_feature_metadata'\n",
    "g_feature_metadata_d['collection'] = \"aa24c994-e8a9-4175-9a16-7def23bf762b\"\n",
    "\n",
    "shape = gdf.geometry\n",
    "geom = np.array(shape[0])\n",
    "coords = [\"x\",\"y\"]\n",
    "\n",
    "lon = df['Lon_cnt'][1]\n",
    "lat = df['Lat_cnt'][1]\n",
    "LON = round(lon+0.05,2)\n",
    "LAT = round(lat+0.05,1)\n",
    "roi_bbox = BBox(bbox=[ lon,lat,LON, LAT], crs=CRS.WGS84)\n",
    "\n",
    "from shapely import geometry\n",
    "g_feature_metadata_d['geometry'] = geometry.mapping(geometry.MultiPoint(shape))\n",
    "g_feature_metadata_d['bbox'] = list(roi_bbox)\n",
    "g_feature_metadata_d['properties'] = {}\n",
    "g_feature_metadata_d[\"properties\"][\"status\"]= \"Null\"\n",
    "g_feature_metadata_d[\"properties\"]['parent_identifier'] = \"aa24c994-e8a9-4175-9a16-7def23bf762b\"\n",
    "g_feature_metadata_d[\"properties\"]['acquisition_type'] = \"Null\"\n",
    "g_feature_metadata_d[\"properties\"]['product_type']  = \"Null\"\n",
    "g_feature_metadata_d[\"properties\"]['processing_level'] = 1.0\n",
    "g_feature_metadata_d[\"properties\"]['platform_short_name'] = \"Sentinel 2\"\n",
    "g_feature_metadata_d[\"properties\"]['sensor_type'] = \"OPTICAL\"\n",
    "g_feature_metadata_d[\"properties\"]['sensor_resolution'] = \"10m\"\n",
    "g_feature_metadata_d[\"properties\"]['gsd'] = 10\n",
    "g_feature_metadata_d['properties']['datetime'] = \"2019\" #change as per biomass\n",
    "g_feature_metadata_d[\"properties\"]['identifier'] = \"Null\"\n",
    "g_feature_metadata_d['links'] = []\n",
    "g_feature_metadata_d[\"assets\"] =  {}\n",
    "feature_metadata_d = {}\n",
    "feature_metadata_d['input1'] = g_feature_metadata_d"
   ]
  },
  {
   "cell_type": "code",
   "execution_count": null,
   "id": "29f01a7e",
   "metadata": {
    "papermill": {
     "duration": null,
     "end_time": null,
     "exception": null,
     "start_time": null,
     "status": "pending"
    },
    "tags": []
   },
   "outputs": [],
   "source": [
    "#Creating common reference metadata dictionary\n",
    "\n",
    "g_ref_data_metadata_d = {}\n",
    "\n",
    "g_ref_data_metadata_d['id'] = f'common_reference_metadata'\n",
    "g_ref_data_metadata_d['type'] = \"Feature\"\n",
    "g_ref_data_metadata_d['stac_version'] = \"1.0.0-beta.2\"\n",
    "g_ref_data_metadata_d['stac_extensions'] = [\"reference_data\"]\n",
    "g_ref_data_metadata_d['collection'] = \"aa24c994-e8a9-4175-9a16-7def23bf762b\"\n",
    "shape = gdf.geometry\n",
    "geom = np.array(shape[0])\n",
    "coords = [\"x\",\"y\"]\n",
    "\n",
    "from shapely import geometry\n",
    "g_ref_data_metadata_d['geometry'] = geometry.mapping(geometry.MultiPoint(shape))\n",
    "\n",
    "g_ref_data_metadata_d['bbox'] = list(roi_bbox)\n",
    "#[min(xs),min(ys), max(xs), max(ys)]\n",
    "g_ref_data_metadata_d['properties'] = {}\n",
    "g_ref_data_metadata_d[\"properties\"]['name'] = \" Reference metadata\"\n",
    "g_ref_data_metadata_d['properties']['description'] = \"The reference data \"\n",
    "g_ref_data_metadata_d['properties']['type'] = \"Raster\"\n",
    "g_ref_data_metadata_d['properties']['task'] = \"regression\"\n",
    "g_ref_data_metadata_d['properties']['classes']=[]\n",
    "g_ref_data_metadata_d['properties']['overviews']=[]\n",
    "g_ref_data_metadata_d['properties']['collection_method'] = \"The reference data was collected by Agricultural Market Austria for the year 2019 for Common Agriculture Practices for EU to process agriculture subsidies, etc. The exact method for ground surveys was not clearly documented and the only info available is that \\\"all field uses were recorded by the applicants\\\".\"\n",
    "g_ref_data_metadata_d['properties']['data_preprocessing'] = \"The polygons in the original reference data were converted into rasters overlayed on satellite image of 10m resoltuion. As such no other changes were made to the fields or the crop types themselves.\"\n",
    "g_ref_data_metadata_d['properties']['CRS'] = 'EPSG:4326'\n",
    "g_ref_data_metadata_d['properties']['time_range'] = '2018'\n",
    "g_ref_data_metadata_d[\"properties\"]['value'] = 0.663\n",
    "g_ref_data_metadata_d['properties'][\"orientation\"]= \"Null\"\n",
    "g_ref_data_metadata_d[\"properties\"]['datetime'] = \"2019\"\n",
    "g_ref_data_metadata_d['links'] = []\n",
    "g_ref_data_metadata_d[\"assets\"] = {}\n",
    "\n",
    "ref_metadata_d = {}\n",
    "ref_metadata_d['output1'] = g_ref_data_metadata_d"
   ]
  },
  {
   "cell_type": "code",
   "execution_count": null,
   "id": "d89e42ab",
   "metadata": {
    "papermill": {
     "duration": null,
     "end_time": null,
     "exception": null,
     "start_time": null,
     "status": "pending"
    },
    "tags": []
   },
   "outputs": [],
   "source": [
    "# Add TDS global core elements metadata, and add global level profile metadata to the catalog object.\n",
    "\n",
    "new_tds_ctl_o.add_tds_root_metadata(tds_root_core_metadata_d, feature_metadata_d, ref_metadata_d)\n"
   ]
  },
  {
   "cell_type": "code",
   "execution_count": null,
   "id": "2749af8f",
   "metadata": {
    "papermill": {
     "duration": null,
     "end_time": null,
     "exception": null,
     "start_time": null,
     "status": "pending"
    },
    "tags": []
   },
   "outputs": [],
   "source": [
    "# Adding metadata for each AOI\n",
    "\n",
    "for aoi_id in aoi_ids[:5]:\n",
    "    # Dictionary for each AOI collection metadata\n",
    "    aoi_metadata_d = {}\n",
    "    aoi_metadata_d['type'] = \"Collection\"\n",
    "    aoi_metadata_d[\"id\"] = f\"{aoi_id}\"\n",
    "    aoi_metadata_d['stac_version'] = '1.0.0-beta.2'\n",
    "    aoi_metadata_d['title'] = f\"{aoi_id} Collection\"\n",
    "    aoi_metadata_d['description'] = \"Each AOI contains satellite images \"\n",
    "    aoi_metadata_d[\"license\"] = \"CC-BY-4.0\"\n",
    "    shape = gdf.geometry\n",
    "    geom = np.array(shape[0])\n",
    "    coords = [\"x\",\"y\"]\n",
    "    \n",
    "    aoi_metadata_d[\"bbox\"]= list(roi_bbox)\n",
    "    aoi_metadata_d['geometry'] = geometry.mapping(geometry.MultiPoint(shape))\n",
    "    aoi_metadata_d[\"extent\"] = {\"spatial\" : {\"bbox\":[[geom[0], geom[1], geom[0], geom[1]]]}, \n",
    "                      \"temporal\": {\"interval\": [['2019']]}}\n",
    "    aoi_metadata_d['time_range'] = '2019'\n",
    "    aoi_metadata_d['links'] = []\n",
    "    aoi_metadata_d[\"assets\"] = {}\n",
    "    \n",
    "    \n",
    "    # Dictionary for each AOI's predictive feature metadata\n",
    "    aoi_feature_metadata_d = {}\n",
    "    aoi_feature_metadata_d['id'] = f'reference_metadata_AOI_{aoi_id}'\n",
    "    aoi_feature_metadata_d['type'] = \"Feature\"\n",
    "    aoi_feature_metadata_d['stac_version'] = \"1.0.0-beta.2\"\n",
    "    aoi_feature_metadata_d['stac_extensions'] = [\"reference_data\"]\n",
    "    aoi_feature_metadata_d['collection'] = \"970460aa-7835-11eb-9439-0242ac130002\"\n",
    "    aoi_feature_metadata_d['bbox'] = aoi_metadata_d[\"bbox\"]\n",
    "    aoi_feature_metadata_d['geometry'] = aoi_metadata_d[\"geometry\"]\n",
    "    aoi_feature_metadata_d['properties'] = {}\n",
    "    aoi_feature_metadata_d[\"properties\"]['name'] = str(aoi_id)+ \" Reference metadata\"\n",
    "    aoi_feature_metadata_d['properties']['description'] = \"The reference data consists in different data from biomass dataset\"\n",
    "    aoi_feature_metadata_d['properties']['type'] = \"Raster\"\n",
    "    aoi_feature_metadata_d['properties']['task'] = \"regression\"\n",
    "    aoi_feature_metadata_d['properties']['classes'] = []\n",
    "    aoi_feature_metadata_d['properties']['overviews'] = []\n",
    "    aoi_feature_metadata_d['properties']['collection_method'] = \"The reference data consists in varios in-situ measurements taken by providers in different plots distributed worldwide.\"\n",
    "    aoi_feature_metadata_d['properties']['data_preprocessing'] = \"Null\"\n",
    "    aoi_feature_metadata_d['properties']['CRS'] = 'EPSG:4326'\n",
    "    aoi_feature_metadata_d['properties']['time_range'] = '2019'\n",
    "    aoi_feature_metadata_d[\"properties\"]['value'] = 0\n",
    "    aoi_feature_metadata_d['properties'][\"orientation\"]= \"null\"\n",
    "    aoi_feature_metadata_d[\"properties\"]['datetime'] = \"2020-03-09T14:53:23.262208+00:00\"\n",
    "\n",
    "    aoi_feature_metadata_d['links'] = []  \n",
    "    aoi_feature_metadata_d[\"assets\"] = {}\n",
    "\n",
    "    aoi_feature_d = {}\n",
    "    aoi_feature_d['input1'] = aoi_feature_metadata_d\n",
    "    \n",
    "    # Dictionary for each AOI's reference metadata\n",
    "    aoi_ref_data_metadata_d = {}\n",
    "    aoi_ref_data_metadata_d['type'] = \"Feature\"\n",
    "    aoi_ref_data_metadata_d['stac_version'] = \"1.0.0-beta.2\"\n",
    "    aoi_ref_data_metadata_d['stac_extensions'] = [\"georeferenced_eo_image\"]\n",
    "    aoi_ref_data_metadata_d['id'] = f'predictive_feature_metadata_AOI_{aoi_id}'\n",
    "    aoi_ref_data_metadata_d['collection'] = \"970460aa-7835-11eb-9439-0242ac130002\"\n",
    "    aoi_ref_data_metadata_d[\"bbox\"]= aoi_metadata_d[\"bbox\"]\n",
    "    aoi_ref_data_metadata_d['geometry'] = aoi_metadata_d[\"geometry\"]\n",
    "    aoi_ref_data_metadata_d[\"properties\"] = {}\n",
    "    aoi_ref_data_metadata_d[\"properties\"][\"status\"]= \"Null\"\n",
    "    aoi_ref_data_metadata_d[\"properties\"]['parent_identifier'] = \"970460aa-7835-11eb-9439-0242ac130002\"\n",
    "    aoi_ref_data_metadata_d[\"properties\"]['acquisition_type'] = \"Null\"\n",
    "    aoi_ref_data_metadata_d[\"properties\"]['product_type']  = \"Null\"\n",
    "    aoi_ref_data_metadata_d[\"properties\"]['processing_level'] = 1.0\n",
    "    aoi_ref_data_metadata_d[\"properties\"]['platform_short_name'] = \"Sentinel 2\"\n",
    "    aoi_ref_data_metadata_d[\"properties\"]['sensor_type'] = \"OPTICAL\"\n",
    "    aoi_ref_data_metadata_d[\"properties\"]['sensor_resolution'] = \"10m\"\n",
    "    aoi_ref_data_metadata_d[\"properties\"]['gsd'] = 10\n",
    "    aoi_ref_data_metadata_d[\"properties\"]['identifier'] = str(aoi_id)\n",
    "    aoi_ref_data_metadata_d[\"properties\"]['acquisition_date'] = '2018'\n",
    "    aoi_ref_data_metadata_d[\"properties\"]['datetime'] = \"2018\"\n",
    "    aoi_ref_data_metadata_d['links'] = []\n",
    "    aoi_ref_data_metadata_d[\"assets\"] = {}\n",
    "    aoi_ref_d = {}\n",
    "    aoi_ref_d['output1'] = aoi_ref_data_metadata_d\n",
    "    \n",
    "    output_path = os.path.join(os.environ['EDC_PATH'] + '/data/biomass/Biomass_mask')\n",
    "    input_path = os.path.join(os.environ['EDC_PATH'] + '/data/biomass/Biomass_tiff')\n",
    "    aoi_ref_data_asset_path_d = {'output1':os.path.join(output_path, f'patch_mask_{aoi_id}.json')}\n",
    "    aoi_feature_asset_path_d = {'input1':os.path.join(input_path, f'patch_{aoi_id}.tif')}\n",
    "                                            \n",
    "    print(new_tds_ctl_o.add_aoi_metadata(aoi_metadata_d=aoi_metadata_d,\n",
    "                                   aoi_feature_metadata_d=aoi_feature_d,\n",
    "                                   aoi_ref_data_metadata_d=aoi_ref_d,\n",
    "                                   aoi_feature_asset_path_d=aoi_feature_asset_path_d,\n",
    "                                   aoi_ref_data_asset_path_d=aoi_ref_data_asset_path_d))"
   ]
  },
  {
   "cell_type": "markdown",
   "id": "efa1dfb5",
   "metadata": {
    "papermill": {
     "duration": null,
     "end_time": null,
     "exception": null,
     "start_time": null,
     "status": "pending"
    },
    "tags": []
   },
   "source": [
    "#### stac_generated folder creation"
   ]
  },
  {
   "cell_type": "markdown",
   "id": "f300e37b",
   "metadata": {
    "papermill": {
     "duration": null,
     "end_time": null,
     "exception": null,
     "start_time": null,
     "status": "pending"
    },
    "tags": []
   },
   "source": [
    "Prior to this step, you will need to create a folder called 'biomass_stac_generated' in your environment and leave it empty"
   ]
  },
  {
   "cell_type": "code",
   "execution_count": null,
   "id": "bc9496fd",
   "metadata": {
    "papermill": {
     "duration": null,
     "end_time": null,
     "exception": null,
     "start_time": null,
     "status": "pending"
    },
    "tags": []
   },
   "outputs": [],
   "source": [
    "# If a STAC catalog has already been generated remove it before re generating the catalog below\n",
    "\n",
    "import shutil\n",
    "stac_generated_path = os.path.join('./biomass_stac_generated')\n",
    "if os.path.exists(stac_generated_path):\n",
    "    shutil.rmtree(stac_generated_path)"
   ]
  },
  {
   "cell_type": "code",
   "execution_count": null,
   "id": "bb562694",
   "metadata": {
    "papermill": {
     "duration": null,
     "end_time": null,
     "exception": null,
     "start_time": null,
     "status": "pending"
    },
    "tags": []
   },
   "outputs": [],
   "source": [
    "catalog_fn_w_path = './biomass_stac_generated/TDS.json'\n",
    "new_tds_ctl_o.write_TDS_STAC_Catalog(catalog_fn_w_path)"
   ]
  },
  {
   "cell_type": "markdown",
   "id": "b88c0c1c",
   "metadata": {
    "papermill": {
     "duration": null,
     "end_time": null,
     "exception": null,
     "start_time": null,
     "status": "pending"
    },
    "tags": []
   },
   "source": [
    "#### Checking Compliance Level"
   ]
  },
  {
   "cell_type": "code",
   "execution_count": null,
   "id": "5b84ab73",
   "metadata": {
    "papermill": {
     "duration": null,
     "end_time": null,
     "exception": null,
     "start_time": null,
     "status": "pending"
    },
    "tags": []
   },
   "outputs": [],
   "source": [
    "catalog_fn_w_path = os.path.join('./biomass_stac_generated/TDS.json')\n",
    "new_tds_ctl_o = aireo_lib.core.tds_stac_io.DatasetSTACCatalog.from_TDSCatalog(catalog_fn_w_path)\n",
    "new_tds_ctl_o.compute_compliance_level()"
   ]
  },
  {
   "cell_type": "markdown",
   "id": "b27d6f84",
   "metadata": {
    "papermill": {
     "duration": null,
     "end_time": null,
     "exception": null,
     "start_time": null,
     "status": "pending"
    },
    "tags": []
   },
   "source": [
    "##### Checking metadata completeness"
   ]
  },
  {
   "cell_type": "code",
   "execution_count": null,
   "id": "7ce9ad2e",
   "metadata": {
    "papermill": {
     "duration": null,
     "end_time": null,
     "exception": null,
     "start_time": null,
     "status": "pending"
    },
    "tags": []
   },
   "outputs": [],
   "source": [
    "new_tds_ctl_o.report_metadata_completeness()"
   ]
  },
  {
   "cell_type": "markdown",
   "id": "81b9ec41",
   "metadata": {
    "papermill": {
     "duration": null,
     "end_time": null,
     "exception": null,
     "start_time": null,
     "status": "pending"
    },
    "tags": []
   },
   "source": [
    "#### Defining AOI class"
   ]
  },
  {
   "cell_type": "code",
   "execution_count": null,
   "id": "c26ef88e",
   "metadata": {
    "papermill": {
     "duration": null,
     "end_time": null,
     "exception": null,
     "start_time": null,
     "status": "pending"
    },
    "tags": []
   },
   "outputs": [],
   "source": [
    "#should inherit AOIDataset\n",
    "\n",
    "from aireo_lib.core import AOIDataset\n",
    "\n",
    "class AOIDatasetBiomass(AOIDataset):\n",
    "\n",
    "    def __init__(self, AOI_STAC_collection, TDS_STAC_catalog):\n",
    "\n",
    "        self.AOI_STAC_collection = AOI_STAC_collection\n",
    "        self.TDS_STAC_catalog = TDS_STAC_catalog\n",
    "        self.stride = self.TDS_STAC_catalog.tds_ctl_root_info.tds_root_metadata_d['example_stride']\n",
    "        self.window_size = self.TDS_STAC_catalog.tds_ctl_root_info.tds_root_metadata_d['example_window_size']\n",
    "        \n",
    "        _first = True\n",
    "        \n",
    "        for eo_feature in self.AOI_STAC_collection.aoi_all_field_metadata.features:\n",
    "            aoi_feature_asset_path_d = self.AOI_STAC_collection.aoi_all_field_metadata.features[eo_feature].data_asset_w_path\n",
    "            self.feature_var_name = 'features_' + eo_feature\n",
    "            if _first:\n",
    "                self.data = rioxarray.open_rasterio(aoi_feature_asset_path_d).to_dataset(name = self.feature_var_name)\n",
    "                _first = False\n",
    "            else:\n",
    "                self.data[self.feature_var_name] = rioxarray.open_rasterio(aoi_feature_asset_path_d)\n",
    "        \n",
    "        for reference_data in self.AOI_STAC_collection.aoi_all_field_metadata.references:\n",
    "            aoi_ref_data_asset_path_d = self.AOI_STAC_collection.aoi_all_field_metadata.references[reference_data].data_asset_w_path\n",
    "            self.ref_var_name = 'references_'+reference_data\n",
    "            if _first:\n",
    "                with open(aoi_ref_data_asset_path_d, 'r') as f:\n",
    "                    data = json.load(f)\n",
    "                t = [data['Wood density']]\n",
    "                d = {\n",
    "                    \"Wood density\": {\"dims\": (\"t\"), \"data\": t},\n",
    "                }\n",
    "                self.data = xr.Dataset.from_dict(d).to_dataset(name = self.ref_var_name).to_array()\n",
    "            else:\n",
    "                with open(aoi_ref_data_asset_path_d, 'r') as f:\n",
    "                    data = json.load(f)\n",
    "                t = [data['Wood density']]\n",
    "                d = {\n",
    "                    \"Wood density\": {\"dims\": (\"t\"), \"data\": t},\n",
    "                }\n",
    "                self.data[self.ref_var_name] = xr.Dataset.from_dict(d).to_array().rename({'t':'mask'})\n",
    "        \n",
    "\n",
    "\n",
    "    def __getitem__(self, index):\n",
    "        \n",
    "        along_x = int((self.data[self.feature_var_name].shape[1] - self.window_size)/self.stride)\n",
    "        along_y = int((self.data[self.feature_var_name].shape[-1] - self.window_size)/self.stride)\n",
    "        x1 = self.stride * int(index % along_x)\n",
    "        y1 = self.stride * int(index / along_y)\n",
    "        x2 = x1 + self.window_size\n",
    "        y2 = y1 + self.window_size\n",
    "        \n",
    "        #store feature and reference data in same xarray, name the axes\n",
    "        ds = self.data.isel(band=[0], mask=[0], x=slice(x1,x2), y=slice(y1, y2))        \n",
    "        return ds\n",
    "    \n",
    "\n",
    "    def __len__(self):\n",
    "        \n",
    "        along_x = int((self.data[self.feature_var_name].shape[1] - self.window_size)/self.stride) + 1\n",
    "        along_y = int((self.data[self.feature_var_name].shape[-1] - self.window_size)/self.stride) + 1\n",
    "        return along_x * along_y\n",
    "    \n",
    "    def get_length(self):\n",
    "        return self.__len__()"
   ]
  },
  {
   "cell_type": "markdown",
   "id": "d5badace",
   "metadata": {
    "papermill": {
     "duration": null,
     "end_time": null,
     "exception": null,
     "start_time": null,
     "status": "pending"
    },
    "tags": []
   },
   "source": [
    "## TDS user"
   ]
  },
  {
   "cell_type": "markdown",
   "id": "02c78948",
   "metadata": {
    "papermill": {
     "duration": null,
     "end_time": null,
     "exception": null,
     "start_time": null,
     "status": "pending"
    },
    "tags": []
   },
   "source": [
    "### Parsing TDS"
   ]
  },
  {
   "cell_type": "code",
   "execution_count": null,
   "id": "83a6b4d0",
   "metadata": {
    "papermill": {
     "duration": null,
     "end_time": null,
     "exception": null,
     "start_time": null,
     "status": "pending"
    },
    "tags": []
   },
   "outputs": [],
   "source": [
    "from aireo_lib.core import EOTrainingDataset\n",
    "\n",
    "cap_tds_ctl_fn = Path(catalog_fn_w_path)\n",
    "\n",
    "eo_tds_obj = EOTrainingDataset(cap_tds_ctl_fn, AOIDatasetBiomass)"
   ]
  },
  {
   "cell_type": "code",
   "execution_count": null,
   "id": "7a0ba711",
   "metadata": {
    "papermill": {
     "duration": null,
     "end_time": null,
     "exception": null,
     "start_time": null,
     "status": "pending"
    },
    "tags": []
   },
   "outputs": [],
   "source": [
    "len(eo_tds_obj)"
   ]
  },
  {
   "cell_type": "code",
   "execution_count": null,
   "id": "d2745947",
   "metadata": {
    "papermill": {
     "duration": null,
     "end_time": null,
     "exception": null,
     "start_time": null,
     "status": "pending"
    },
    "tags": []
   },
   "outputs": [],
   "source": [
    "eo_tds_obj[0]"
   ]
  },
  {
   "cell_type": "code",
   "execution_count": null,
   "id": "8024a05d",
   "metadata": {
    "papermill": {
     "duration": null,
     "end_time": null,
     "exception": null,
     "start_time": null,
     "status": "pending"
    },
    "tags": []
   },
   "outputs": [],
   "source": [
    "eo_tds_obj.get_subset([19,1121], data_type='numpy')"
   ]
  },
  {
   "cell_type": "code",
   "execution_count": null,
   "id": "97379190",
   "metadata": {
    "papermill": {
     "duration": null,
     "end_time": null,
     "exception": null,
     "start_time": null,
     "status": "pending"
    },
    "tags": []
   },
   "outputs": [],
   "source": [
    "aoi_objs = eo_tds_obj.get_aoi_datasets()\n",
    "len(aoi_objs[1])"
   ]
  },
  {
   "cell_type": "code",
   "execution_count": null,
   "id": "4b6eebc0",
   "metadata": {
    "papermill": {
     "duration": null,
     "end_time": null,
     "exception": null,
     "start_time": null,
     "status": "pending"
    },
    "tags": []
   },
   "outputs": [],
   "source": [
    "import aireo_lib.plotting \n",
    "#import matplotlib.pyplot as plt\n",
    "from importlib import reload\n",
    "reload(aireo_lib.plotting)"
   ]
  },
  {
   "cell_type": "code",
   "execution_count": null,
   "id": "ca162267",
   "metadata": {
    "papermill": {
     "duration": null,
     "end_time": null,
     "exception": null,
     "start_time": null,
     "status": "pending"
    },
    "tags": []
   },
   "outputs": [],
   "source": [
    "plot_d = aireo_lib.plotting.EOTDSPlot.plot_example(EOTDS=eo_tds_obj, \n",
    "                       ex_index=1, \n",
    "                       field_names=['features_input1', 'references_output1'])\n",
    "plot_d['references_output1']"
   ]
  },
  {
   "cell_type": "code",
   "execution_count": null,
   "id": "b38467e0",
   "metadata": {
    "papermill": {
     "duration": null,
     "end_time": null,
     "exception": null,
     "start_time": null,
     "status": "pending"
    },
    "tags": []
   },
   "outputs": [],
   "source": [
    "plot_d['features_input1']"
   ]
  },
  {
   "cell_type": "code",
   "execution_count": null,
   "id": "d0fcc65c",
   "metadata": {
    "papermill": {
     "duration": null,
     "end_time": null,
     "exception": null,
     "start_time": null,
     "status": "pending"
    },
    "tags": []
   },
   "outputs": [],
   "source": [
    "aoi_obj = eo_tds_obj.get_aoi_dataset(2)"
   ]
  },
  {
   "cell_type": "code",
   "execution_count": null,
   "id": "7ba11a13",
   "metadata": {
    "papermill": {
     "duration": null,
     "end_time": null,
     "exception": null,
     "start_time": null,
     "status": "pending"
    },
    "tags": []
   },
   "outputs": [],
   "source": [
    "aoi_plots_d = aireo_lib.plotting.EOTDSPlot.plot_aoi_dataset(aoi_obj)\n",
    "aoi_plots_d"
   ]
  },
  {
   "cell_type": "markdown",
   "id": "3398538e",
   "metadata": {
    "papermill": {
     "duration": null,
     "end_time": null,
     "exception": null,
     "start_time": null,
     "status": "pending"
    },
    "tags": []
   },
   "source": [
    "### Statistics"
   ]
  },
  {
   "cell_type": "code",
   "execution_count": null,
   "id": "dd2df228",
   "metadata": {
    "papermill": {
     "duration": null,
     "end_time": null,
     "exception": null,
     "start_time": null,
     "status": "pending"
    },
    "tags": []
   },
   "outputs": [],
   "source": [
    "import aireo_lib.statistics\n",
    "from importlib import reload\n",
    "reload(aireo_lib.statistics)"
   ]
  },
  {
   "cell_type": "code",
   "execution_count": null,
   "id": "5d6f208d",
   "metadata": {
    "papermill": {
     "duration": null,
     "end_time": null,
     "exception": null,
     "start_time": null,
     "status": "pending"
    },
    "scrolled": true,
    "tags": []
   },
   "outputs": [],
   "source": [
    "aireo_lib.statistics.EOTDSStatistics.feature_data_statistics(eo_tds_obj)"
   ]
  },
  {
   "cell_type": "code",
   "execution_count": null,
   "id": "26b5c4b2",
   "metadata": {
    "papermill": {
     "duration": null,
     "end_time": null,
     "exception": null,
     "start_time": null,
     "status": "pending"
    },
    "tags": []
   },
   "outputs": [],
   "source": [
    "aireo_lib.statistics.EOTDSStatistics.reference_data_statistics(eo_tds_obj)"
   ]
  },
  {
   "cell_type": "markdown",
   "id": "e2deb36f",
   "metadata": {
    "papermill": {
     "duration": null,
     "end_time": null,
     "exception": null,
     "start_time": null,
     "status": "pending"
    },
    "tags": []
   },
   "source": [
    "## Format"
   ]
  },
  {
   "cell_type": "markdown",
   "id": "0dd990f4",
   "metadata": {
    "papermill": {
     "duration": null,
     "end_time": null,
     "exception": null,
     "start_time": null,
     "status": "pending"
    },
    "tags": []
   },
   "source": [
    "The dataset is in spreadsheet format (.xlsx)"
   ]
  },
  {
   "cell_type": "markdown",
   "id": "343b024f",
   "metadata": {
    "papermill": {
     "duration": null,
     "end_time": null,
     "exception": null,
     "start_time": null,
     "status": "pending"
    },
    "tags": []
   },
   "source": [
    "## Version"
   ]
  },
  {
   "cell_type": "markdown",
   "id": "9dfbbfe5",
   "metadata": {
    "papermill": {
     "duration": null,
     "end_time": null,
     "exception": null,
     "start_time": null,
     "status": "pending"
    },
    "tags": []
   },
   "source": [
    "FOS plot data v2019.04.10"
   ]
  },
  {
   "cell_type": "markdown",
   "id": "a9fe6b37",
   "metadata": {
    "papermill": {
     "duration": null,
     "end_time": null,
     "exception": null,
     "start_time": null,
     "status": "pending"
    },
    "tags": []
   },
   "source": [
    "## License"
   ]
  },
  {
   "cell_type": "markdown",
   "id": "e1eef508",
   "metadata": {
    "papermill": {
     "duration": null,
     "end_time": null,
     "exception": null,
     "start_time": null,
     "status": "pending"
    },
    "tags": []
   },
   "source": [
    "This dataset is licensed under a [Creative Commons Attribution 4.0 International License (CC-BY 4.0).](https://creativecommons.org/licenses/by/4.0/)"
   ]
  },
  {
   "cell_type": "markdown",
   "id": "faf8ba48",
   "metadata": {
    "papermill": {
     "duration": null,
     "end_time": null,
     "exception": null,
     "start_time": null,
     "status": "pending"
    },
    "tags": []
   },
   "source": [
    "## References"
   ]
  },
  {
   "cell_type": "markdown",
   "id": "887ddc05",
   "metadata": {
    "papermill": {
     "duration": null,
     "end_time": null,
     "exception": null,
     "start_time": null,
     "status": "pending"
    },
    "tags": []
   },
   "source": [
    "Schepaschenko, D., Chave, J., Phillips, O. L., Lewis, S. L., Davies, S. J., Réjou-Méchain, M., ... & Labrière, N. (2019). The Forest Observation System, building a global reference dataset for remote sensing of forest biomass. Scientific data, 6(1), 1-11."
   ]
  }
 ],
 "metadata": {
  "kernelspec": {
   "display_name": "EDC 0.24.5 (Python3)",
   "language": "python",
   "name": "edc"
  },
  "language_info": {
   "codemirror_mode": {
    "name": "ipython",
    "version": 3
   },
   "file_extension": ".py",
   "mimetype": "text/x-python",
   "name": "python",
   "nbconvert_exporter": "python",
   "pygments_lexer": "ipython3",
   "version": "3.8.10"
  },
  "papermill": {
   "default_parameters": {},
   "duration": 18.056161,
   "end_time": "2021-06-09T12:13:32.524092",
   "environment_variables": {},
   "exception": true,
   "input_path": "/tmp/tmpehqa_lev",
   "output_path": "/tmp/notebook_output.ipynb",
   "parameters": {},
   "start_time": "2021-06-09T12:13:14.467931",
   "version": "2.3.3"
  },
  "properties": {
   "authors": [
    {
     "id": "a7f80638-e89a-4349-9cc7-7ed6ec2d79b7",
     "name": "manuel.fernandez@nuigalway.ie"
    }
   ],
   "description": "Use of aireo_lib library as part of AIREO project",
   "id": "a8f41fdb-b43b-428b-9919-5616ec0420bb",
   "license": null,
   "name": "AIREO pilot dataset - Biomass (Forest Observation System)",
   "requirements": [
    "eurodatacube"
   ],
   "tags": [
    "Analysis-Ready Data",
    "EO Data",
    "Getting started",
    "Jupyter",
    "Machine Learning",
    "Sentinel Data",
    "Sentinel Hub"
   ],
   "tosAgree": true,
   "type": "Jupyter Notebook",
   "version": "0.1.2"
  }
 },
 "nbformat": 4,
 "nbformat_minor": 5
}
