{
 "cells": [
  {
   "cell_type": "markdown",
   "id": "ca4c875f",
   "metadata": {
    "tags": [
     "papermill-error-cell-tag"
    ]
   },
   "source": [
    "<span style=\"color:red; font-family:Helvetica Neue, Helvetica, Arial, sans-serif; font-size:2em;\">An Exception was encountered at '<a href=\"#papermill-error-cell\">In [7]</a>'.</span>"
   ]
  },
  {
   "cell_type": "code",
   "execution_count": 1,
   "id": "ee016b50",
   "metadata": {
    "execution": {
     "iopub.execute_input": "2022-05-10T13:07:24.829741Z",
     "iopub.status.busy": "2022-05-10T13:07:24.828859Z",
     "iopub.status.idle": "2022-05-10T13:07:24.915446Z",
     "shell.execute_reply": "2022-05-10T13:07:24.914688Z"
    },
    "papermill": {
     "duration": 0.115082,
     "end_time": "2022-05-10T13:07:24.917699",
     "exception": false,
     "start_time": "2022-05-10T13:07:24.802617",
     "status": "completed"
    },
    "tags": []
   },
   "outputs": [
    {
     "data": {
      "text/html": [
       "<script type=\"text/javascript\">\n",
       "        function toggle(id) {\n",
       "            el = document.getElementById(id);\n",
       "            el.style.display = el.style.display === \"none\" ? \"block\" : \"none\";\n",
       "        }\n",
       "    </script>"
      ],
      "text/plain": [
       "<IPython.core.display.HTML object>"
      ]
     },
     "metadata": {},
     "output_type": "display_data"
    },
    {
     "data": {
      "text/html": [
       "This notebook is compatible with this base image version (user-2022.02)."
      ],
      "text/plain": [
       "<IPython.core.display.HTML object>"
      ]
     },
     "metadata": {},
     "output_type": "display_data"
    },
    {
     "data": {
      "text/markdown": [
       "\n",
       "\n",
       "---------\n",
       "\n",
       "The following environment variables are available:\n",
       "\n",
       "* `SH_CLIENT_ID`, `SH_INSTANCE_ID`, `SH_CLIENT_NAME`, `SH_CLIENT_SECRET`\n"
      ],
      "text/plain": [
       "<IPython.core.display.Markdown object>"
      ]
     },
     "metadata": {},
     "output_type": "display_data"
    }
   ],
   "source": [
    "from edc import check_compatibility\n",
    "check_compatibility(\"user-2022.02\", dependencies=[\"SH\"])"
   ]
  },
  {
   "cell_type": "markdown",
   "id": "07017028",
   "metadata": {
    "papermill": {
     "duration": 0.020452,
     "end_time": "2022-05-10T13:07:24.959176",
     "exception": false,
     "start_time": "2022-05-10T13:07:24.938724",
     "status": "completed"
    },
    "tags": []
   },
   "source": [
    "# Sentinel-2 based object detection (ships and parked planes)"
   ]
  },
  {
   "cell_type": "markdown",
   "id": "2722adf3",
   "metadata": {
    "papermill": {
     "duration": 0.023001,
     "end_time": "2022-05-10T13:07:25.001933",
     "exception": false,
     "start_time": "2022-05-10T13:07:24.978932",
     "status": "completed"
    },
    "tags": []
   },
   "source": [
    "This Jupyter notebook aims at showing the steps implemented to run teh Ships and Airplanes detection algorithm.\n",
    "The detection algorithms are base on AI neural network and have been trained with more than 200 dedicated training datasets. Then they have been implemented as Headless notebook, and thus it has the following characteristics:\n",
    "\n",
    "Stateless execution (no need of having a stable connection all the time while the script is running)\n",
    "Easy to share the algorithm progress without having to share the source code \n",
    "Run via postman specifying script path and parameters\n",
    "Easy to run complex scripts that take long time to run such as AI training algorithms\n",
    "\n",
    "In this context the Ship detection and Airplane detection agorithms are under service licence, thus the complete workflow is not executable. For this reason we are showing here the necessary steps and parameters to interact with the Headless notebook, without the possibility to run the detections.\n",
    "\n",
    "The approach implemented for this type of computation is based on the following 2 main step of workflow:\n",
    "\n",
    "STEP 1: Set-up and input acquisition\n",
    "- Import of necessary libraries\n",
    "- set up of generic input parameters\n",
    "    - Area of Interest - AOI (wkt polygon)\n",
    "    - indicator code\n",
    "    - sensor\n",
    "    - overalpping AOI %\n",
    "    - Cloud coverage % (global, over the entire image)\n",
    "    - time range of interest\n",
    "- set up of credentials for accessing and using EDC services\n",
    "- core for generating the parameters necessary for triggering the AI algorithm:\n",
    "    - generic input parameters\n",
    "    - filtering of S2 images\n",
    "        - covering the specific time range\n",
    "        - over defined AOI with overlapping %\n",
    "        - with defined Cloud Coverage % (global, over the entire image)\n",
    "        - sensor\n",
    "\n",
    "STEP 2: Pre-processing and object detection task execution\n",
    "- Filtering S2 images according to cloudiness over AOI\n",
    "- Send the encoded package to WPS endpoint for triggering the object detection algorithm (DL-based)\n",
    "    - creation of CSV ready for timeseries ingestion into GeoDB\n",
    "    - creation of geojson file with detection polygons\n",
    "- Removing cloud-covered detected objects\n",
    "      "
   ]
  },
  {
   "cell_type": "markdown",
   "id": "4253a6cb",
   "metadata": {
    "papermill": {
     "duration": 0.021907,
     "end_time": "2022-05-10T13:07:25.046577",
     "exception": false,
     "start_time": "2022-05-10T13:07:25.024670",
     "status": "completed"
    },
    "tags": []
   },
   "source": [
    "The Following JN will cover and demonstrate the STEP 1 for the preparation fo the necessary parameters and the filtering of the Sentinel 2 Images that match the requirements specified in the generic input parameters"
   ]
  },
  {
   "cell_type": "markdown",
   "id": "214c8a5a",
   "metadata": {
    "papermill": {
     "duration": 0.021172,
     "end_time": "2022-05-10T13:07:25.090762",
     "exception": false,
     "start_time": "2022-05-10T13:07:25.069590",
     "status": "completed"
    },
    "tags": []
   },
   "source": [
    "# STEP 1: Set-up and input acquisition"
   ]
  },
  {
   "cell_type": "markdown",
   "id": "432cada7",
   "metadata": {
    "papermill": {
     "duration": 0.01979,
     "end_time": "2022-05-10T13:07:25.139384",
     "exception": false,
     "start_time": "2022-05-10T13:07:25.119594",
     "status": "completed"
    },
    "tags": []
   },
   "source": [
    "# Import of necessary libraries"
   ]
  },
  {
   "cell_type": "code",
   "execution_count": 2,
   "id": "1825630a",
   "metadata": {
    "execution": {
     "iopub.execute_input": "2022-05-10T13:07:25.187087Z",
     "iopub.status.busy": "2022-05-10T13:07:25.186346Z",
     "iopub.status.idle": "2022-05-10T13:07:25.547175Z",
     "shell.execute_reply": "2022-05-10T13:07:25.546487Z"
    },
    "papermill": {
     "duration": 0.384975,
     "end_time": "2022-05-10T13:07:25.549582",
     "exception": false,
     "start_time": "2022-05-10T13:07:25.164607",
     "status": "completed"
    },
    "tags": []
   },
   "outputs": [],
   "source": [
    "# Import packages\n",
    "from oauthlib.oauth2 import BackendApplicationClient\n",
    "from requests_oauthlib import OAuth2Session\n",
    "import requests\n",
    "import csv\n",
    "import base64\n",
    "import datetime\n",
    "from shapely import wkt, geometry\n",
    "#from shapely.geometry import shape, polygon\n",
    "from shapely.geometry.multipolygon import MultiPolygon\n",
    "from collections.abc import Iterable\n",
    "from xml.etree import ElementTree\n",
    "from IPython.display import clear_output\n",
    "import geojson"
   ]
  },
  {
   "cell_type": "markdown",
   "id": "c1e8bee6",
   "metadata": {
    "papermill": {
     "duration": 0.020014,
     "end_time": "2022-05-10T13:07:25.589887",
     "exception": false,
     "start_time": "2022-05-10T13:07:25.569873",
     "status": "completed"
    },
    "tags": []
   },
   "source": [
    "# set up of credentials for accessing and using EDC services\n",
    "- <ins>aoisfile</ins>: is a csv file with information about extended name of the Location (text), the AOI_ID (is a text with the identified code specific for that location), the economic indicator code (is a text with the identified code for the specific indicator), AOI Polygon (is a simplified polygon for intersecting the Sentinel 2 images covering the AOI, since there is a limitation on the points to be used for this computation, it is reccomended to use a rectangular or very simplified polygon), AOI subPolygon is the exact polygon of the AOI in which the algorithm will detect the features, it is reccomended to provide a polygon as much detailed as possible in order to reduce false positive outside the AOI).\n",
    "- <ins>indicator</ins>: The indicator code that shall match one of the indicator code avaialbe in the aoisfile\n",
    "- <ins>sensor</ins>: currently it has been implemented for Sentinel 2\n",
    "- <ins>SENTINEL_2_L2A_collection_id</ins>: the collection ID as in sentinel HUB (default value = DSS2)\n",
    "- <ins>overlap_perc</ins>: percetange of overalpping between Senteinel 2 image and the AOI polygon\n",
    "- <ins>max_cc</ins>: the max cloud coverage over which the Sentinel 2 scene will be discarded \n",
    "- <ins>fromdate</ins>: start of the Time range for which we want to select Sentienl 2 scenese\n",
    "- <ins>todate</ins>: end of the Time range for which we want to select Sentienl 2 scenese"
   ]
  },
  {
   "cell_type": "code",
   "execution_count": 3,
   "id": "c164a7ce",
   "metadata": {
    "execution": {
     "iopub.execute_input": "2022-05-10T13:07:25.636793Z",
     "iopub.status.busy": "2022-05-10T13:07:25.636094Z",
     "iopub.status.idle": "2022-05-10T13:07:25.640722Z",
     "shell.execute_reply": "2022-05-10T13:07:25.640081Z"
    },
    "papermill": {
     "duration": 0.027569,
     "end_time": "2022-05-10T13:07:25.642513",
     "exception": false,
     "start_time": "2022-05-10T13:07:25.614944",
     "status": "completed"
    },
    "tags": []
   },
   "outputs": [],
   "source": [
    "# Parameters\n",
    "aoisfile = \"./Inputs/ships/Ships_Input_for_WPS_call.csv\"\n",
    "indicator = 'E200'\n",
    "sensor = 'sentinel2'\n",
    "SENTINEL_2_L2A_collection_id = \"DSS2\"\n",
    "overlap_perc = 80\n",
    "max_cc = 20\n",
    "fromdate = \"2022-01-01T00:00:00\"\n",
    "todate = \"2022-04-20T23:59:05\""
   ]
  },
  {
   "cell_type": "markdown",
   "id": "1dcf7692",
   "metadata": {
    "papermill": {
     "duration": 0.019122,
     "end_time": "2022-05-10T13:07:25.681037",
     "exception": false,
     "start_time": "2022-05-10T13:07:25.661915",
     "status": "completed"
    },
    "tags": []
   },
   "source": [
    "# Set UP of the EDC credentials"
   ]
  },
  {
   "cell_type": "code",
   "execution_count": 4,
   "id": "1d80bfd3",
   "metadata": {
    "execution": {
     "iopub.execute_input": "2022-05-10T13:07:25.731525Z",
     "iopub.status.busy": "2022-05-10T13:07:25.730900Z",
     "iopub.status.idle": "2022-05-10T13:07:25.735280Z",
     "shell.execute_reply": "2022-05-10T13:07:25.734505Z"
    },
    "papermill": {
     "duration": 0.031071,
     "end_time": "2022-05-10T13:07:25.737437",
     "exception": false,
     "start_time": "2022-05-10T13:07:25.706366",
     "status": "completed"
    },
    "tags": []
   },
   "outputs": [],
   "source": [
    "import os\n",
    "\n",
    "client_id = os.environ['SH_CLIENT_ID']\n",
    "client_secret = os.environ['SH_CLIENT_SECRET']"
   ]
  },
  {
   "cell_type": "code",
   "execution_count": 5,
   "id": "62f80736",
   "metadata": {
    "execution": {
     "iopub.execute_input": "2022-05-10T13:07:25.781513Z",
     "iopub.status.busy": "2022-05-10T13:07:25.780623Z",
     "iopub.status.idle": "2022-05-10T13:07:25.988765Z",
     "shell.execute_reply": "2022-05-10T13:07:25.988032Z"
    },
    "papermill": {
     "duration": 0.231374,
     "end_time": "2022-05-10T13:07:25.990981",
     "exception": false,
     "start_time": "2022-05-10T13:07:25.759607",
     "status": "completed"
    },
    "tags": []
   },
   "outputs": [],
   "source": [
    "token_url ='https://services.sentinel-hub.com/oauth/token'\n",
    "token_info = \"https://services.sentinel-hub.com/oauth/tokeninfo\"\n",
    "\n",
    "def get_token (client_id, client_secret, token_url, token_info):\n",
    "    client = BackendApplicationClient(client_id=client_id)\n",
    "    oauth = OAuth2Session(client=client)\n",
    "    token = oauth.fetch_token(token_url=token_url,\n",
    "                              client_id=client_id, client_secret=client_secret)\n",
    "    resp = oauth.get(token_info)\n",
    "    return oauth\n",
    "\n",
    "oauth = get_token (client_id, client_secret, token_url, token_info)"
   ]
  },
  {
   "cell_type": "code",
   "execution_count": 6,
   "id": "e03810e3",
   "metadata": {
    "execution": {
     "iopub.execute_input": "2022-05-10T13:07:26.039776Z",
     "iopub.status.busy": "2022-05-10T13:07:26.039270Z",
     "iopub.status.idle": "2022-05-10T13:07:26.043241Z",
     "shell.execute_reply": "2022-05-10T13:07:26.042507Z"
    },
    "papermill": {
     "duration": 0.029326,
     "end_time": "2022-05-10T13:07:26.044884",
     "exception": false,
     "start_time": "2022-05-10T13:07:26.015558",
     "status": "completed"
    },
    "tags": []
   },
   "outputs": [],
   "source": [
    "# Input file\n",
    "# aoisfile = \"./Inputs/ships/Ships_Input_for_WPS_call.csv\"\n",
    "# TODO: creating a pull request on https://github.com/eurodatacube/notebooks/tree/master/notebooks/contributions/example_data\n",
    "aoisfile = os.environ['EDC_PATH'] +  \"notebooks/contributions/example_data/Ships_Input_for_WPS_call.csv\""
   ]
  },
  {
   "cell_type": "markdown",
   "id": "685632c0",
   "metadata": {
    "papermill": {
     "duration": 0.019962,
     "end_time": "2022-05-10T13:07:26.085481",
     "exception": false,
     "start_time": "2022-05-10T13:07:26.065519",
     "status": "completed"
    },
    "tags": []
   },
   "source": [
    "# Core for generating the parameters necessary for triggering the AI algorithm\n",
    "\n",
    "The following code will filter Sentinel 2 scenes according to paramters, displaying information of the AOI_ID, the overlapping percentage, the Cloud Coverage percentage and then providing the dates corresponding to avaialbe Sentienl 2 scenes matching the set parameters.\n",
    "\n",
    "The output list could contains duplicated dates for which 2 sentinel images with two different UTM zones. In this case it is filtered on the first image with lowest cloud coverage. This approach has been implemented since the AI algortihm run on each provided image, that if not filtered, will cause duplicated counts on the same AOI and date but with different time.  "
   ]
  },
  {
   "cell_type": "markdown",
   "id": "a4f5d742",
   "metadata": {
    "tags": [
     "papermill-error-cell-tag"
    ]
   },
   "source": [
    "<span id=\"papermill-error-cell\" style=\"color:red; font-family:Helvetica Neue, Helvetica, Arial, sans-serif; font-size:2em;\">Execution using papermill encountered an exception here and stopped:</span>"
   ]
  },
  {
   "cell_type": "code",
   "execution_count": 7,
   "id": "e6777665",
   "metadata": {
    "execution": {
     "iopub.execute_input": "2022-05-10T13:07:26.130784Z",
     "iopub.status.busy": "2022-05-10T13:07:26.130442Z",
     "iopub.status.idle": "2022-05-10T13:07:26.849353Z",
     "shell.execute_reply": "2022-05-10T13:07:26.848369Z"
    },
    "papermill": {
     "duration": 0.743132,
     "end_time": "2022-05-10T13:07:26.850852",
     "exception": true,
     "start_time": "2022-05-10T13:07:26.107720",
     "status": "failed"
    },
    "tags": []
   },
   "outputs": [
    {
     "ename": "FileNotFoundError",
     "evalue": "[Errno 2] No such file or directory: '/home/jovyan/.shared/notebooks/eurodatacubenotebooks/contributions/example_data/Ships_Input_for_WPS_call.csv'",
     "output_type": "error",
     "traceback": [
      "\u001b[0;31m---------------------------------------------------------------------------\u001b[0m",
      "\u001b[0;31mFileNotFoundError\u001b[0m                         Traceback (most recent call last)",
      "Input \u001b[0;32mIn [7]\u001b[0m, in \u001b[0;36m<module>\u001b[0;34m\u001b[0m\n\u001b[1;32m      1\u001b[0m basesearch_url \u001b[38;5;241m=\u001b[39m \u001b[38;5;124mf\u001b[39m\u001b[38;5;124m\"\u001b[39m\u001b[38;5;124mhttps://creodias.sentinel-hub.com/ogc/wfs/e85faeeb-72ce-4de6-984c-c6dd0ede3ee0?\u001b[39m\u001b[38;5;124m\"\u001b[39m\n\u001b[0;32m----> 2\u001b[0m \u001b[38;5;28;01mwith\u001b[39;00m \u001b[38;5;28;43mopen\u001b[39;49m\u001b[43m(\u001b[49m\u001b[43maoisfile\u001b[49m\u001b[43m,\u001b[49m\u001b[43m \u001b[49m\u001b[38;5;124;43m\"\u001b[39;49m\u001b[38;5;124;43mr\u001b[39;49m\u001b[38;5;124;43m\"\u001b[39;49m\u001b[43m)\u001b[49m \u001b[38;5;28;01mas\u001b[39;00m f:\n\u001b[1;32m      3\u001b[0m     csv_reader \u001b[38;5;241m=\u001b[39m csv\u001b[38;5;241m.\u001b[39mreader(f, delimiter\u001b[38;5;241m=\u001b[39m\u001b[38;5;124m\"\u001b[39m\u001b[38;5;124m,\u001b[39m\u001b[38;5;124m\"\u001b[39m)\n\u001b[1;32m      4\u001b[0m     \u001b[38;5;28;01mfor\u001b[39;00m i,line \u001b[38;5;129;01min\u001b[39;00m \u001b[38;5;28menumerate\u001b[39m(csv_reader):\n",
      "\u001b[0;31mFileNotFoundError\u001b[0m: [Errno 2] No such file or directory: '/home/jovyan/.shared/notebooks/eurodatacubenotebooks/contributions/example_data/Ships_Input_for_WPS_call.csv'"
     ]
    }
   ],
   "source": [
    "basesearch_url = f\"https://creodias.sentinel-hub.com/ogc/wfs/e85faeeb-72ce-4de6-984c-c6dd0ede3ee0?\"\n",
    "with open(aoisfile, \"r\") as f:\n",
    "    csv_reader = csv.reader(f, delimiter=\",\")\n",
    "    for i,line in enumerate(csv_reader):\n",
    "        count = 0\n",
    "        if i == 0:\n",
    "            continue\n",
    "        dates=[]\n",
    "        indicator_from_file = line[2]\n",
    "        if indicator == indicator_from_file:\n",
    "            aoiid = line[1]\n",
    "            #print(line[1])\n",
    "\n",
    "            pol = wkt.loads(str(line[3]))\n",
    "            pol_subAOI = wkt.loads(str(line[4]))\n",
    "            #Multipolyg to Polyg\n",
    "            if isinstance(pol, Iterable):\n",
    "                polyg = list(pol)[0].wkt\n",
    "            else:\n",
    "                polyg = pol.wkt\n",
    "            g1 = wkt.loads(polyg)\n",
    "            geom1 = geometry.shape(g1)\n",
    "            offset=0\n",
    "   \n",
    "            multi_poly = str(MultiPolygon([geom1]))\n",
    "            print('AoI id:', aoiid)\n",
    "            if aoiid == 'EG1':\n",
    "                overlap_perc = 30\n",
    "            while True:\n",
    "                search_url = f\"{basesearch_url}\\\n",
    "service=WFS&version=1.0.0&request=GetFeature&\\\n",
    "typenames={SENTINEL_2_L2A_collection_id}&\\\n",
    "outputformat=application/json&\\\n",
    "FEATURE_OFFSET={offset}&\\\n",
    "GEOMETRY={polyg}&\\\n",
    "time={fromdate}/{todate}&srsname=EPSG:4326&\\\n",
    "maxcc={max_cc}\"\n",
    "\n",
    "                try:\n",
    "                    response = oauth.get(search_url)\n",
    "                    response.raise_for_status()\n",
    "                    results = response.json()\n",
    "                except requests.exceptions.HTTPError as e:\n",
    "                    print (f\"Error {e.response.content}\")\n",
    "                    break      \n",
    "                feats = len(results['features'])\n",
    "                if feats == 0:\n",
    "                    break\n",
    "                    #pagination\n",
    "                count = count+feats\n",
    "                offset = offset+100\n",
    "                for subfeature in results['features']:\n",
    "                    geom2 = geometry.shape(subfeature['geometry'])\n",
    "                    overlap = geom1.intersection(geom2).area/geom1.area*100\n",
    "                    ftime_out = subfeature['properties']['time']\n",
    "                    print('overlap: ', overlap)\n",
    "                    if overlap >= overlap_perc:\n",
    "                        fdate = subfeature['properties']['date']\n",
    "                        if fdate in dates and aoiid != \"EG1\" and aoiid != \"EG2\":\n",
    "                            print (\"Found duplicate\")\n",
    "                            continue\n",
    "                        dates.append(fdate)\n",
    "                        ftime = subfeature['properties']['time']\n",
    "                        \n",
    "\n",
    "print('\\nFiltered dates:\\n', dates)"
   ]
  },
  {
   "cell_type": "markdown",
   "id": "8405dd92",
   "metadata": {
    "papermill": {
     "duration": null,
     "end_time": null,
     "exception": null,
     "start_time": null,
     "status": "pending"
    },
    "tags": []
   },
   "source": [
    "# STEP 2: Pre-processing and object detection task examples"
   ]
  },
  {
   "cell_type": "markdown",
   "id": "8327bdfa",
   "metadata": {
    "papermill": {
     "duration": null,
     "end_time": null,
     "exception": null,
     "start_time": null,
     "status": "pending"
    },
    "tags": []
   },
   "source": [
    "As previously mentioned, the cloud and object detection (ships and airplanes) algorithm is under service licence and the complete workflow is thus not executable.\n",
    "For this reason we are showing here some representative examples of the outputs generated by these algorithms. "
   ]
  },
  {
   "cell_type": "markdown",
   "id": "62399f4f",
   "metadata": {
    "papermill": {
     "duration": null,
     "end_time": null,
     "exception": null,
     "start_time": null,
     "status": "pending"
    },
    "tags": []
   },
   "source": [
    "# Cloud detection module\n",
    "Features\n",
    "- Performing cloud detection over AOI\n",
    "- Assessing percentage of clouds (PoC) and filtering out cloudy images (above a specified cloudiness threshold)\n",
    "- Removing cloud-covered detected objects (post-processing step)"
   ]
  },
  {
   "cell_type": "code",
   "execution_count": null,
   "id": "c7fd7b5e",
   "metadata": {
    "papermill": {
     "duration": null,
     "end_time": null,
     "exception": null,
     "start_time": null,
     "status": "pending"
    },
    "tags": []
   },
   "outputs": [],
   "source": [
    "# import image module\n",
    "from IPython.display import Image\n",
    "  \n",
    "# get the image\n",
    "Image(url=\"images/Ghent_cloud_detection.jpg\", width=600, height=600)"
   ]
  },
  {
   "cell_type": "code",
   "execution_count": null,
   "id": "bac9bb7e",
   "metadata": {
    "papermill": {
     "duration": null,
     "end_time": null,
     "exception": null,
     "start_time": null,
     "status": "pending"
    },
    "tags": []
   },
   "outputs": [],
   "source": [
    "# get the image\n",
    "Image(url=\"images/Suez_cloud_detection.jpg\", width=600, height=600)"
   ]
  },
  {
   "cell_type": "markdown",
   "id": "c8155272",
   "metadata": {
    "papermill": {
     "duration": null,
     "end_time": null,
     "exception": null,
     "start_time": null,
     "status": "pending"
    },
    "tags": []
   },
   "source": [
    "# Object detection module"
   ]
  },
  {
   "cell_type": "code",
   "execution_count": null,
   "id": "a51e0e00",
   "metadata": {
    "papermill": {
     "duration": null,
     "end_time": null,
     "exception": null,
     "start_time": null,
     "status": "pending"
    },
    "tags": []
   },
   "outputs": [],
   "source": [
    "# get the image\n",
    "Image(url=\"images/Ghent.jpg\", width=600, height=600)"
   ]
  },
  {
   "cell_type": "code",
   "execution_count": null,
   "id": "92cc47f8",
   "metadata": {
    "papermill": {
     "duration": null,
     "end_time": null,
     "exception": null,
     "start_time": null,
     "status": "pending"
    },
    "tags": []
   },
   "outputs": [],
   "source": [
    "Image(url=\"images/Dunkirque_1.jpg\", width=600, height=600)"
   ]
  },
  {
   "cell_type": "code",
   "execution_count": null,
   "id": "e36b887f",
   "metadata": {
    "papermill": {
     "duration": null,
     "end_time": null,
     "exception": null,
     "start_time": null,
     "status": "pending"
    },
    "tags": []
   },
   "outputs": [],
   "source": []
  }
 ],
 "metadata": {
  "kernelspec": {
   "display_name": "dashboard no2ts (Python3)",
   "language": "python",
   "name": "no2ts"
  },
  "language_info": {
   "codemirror_mode": {
    "name": "ipython",
    "version": 3
   },
   "file_extension": ".py",
   "mimetype": "text/x-python",
   "name": "python",
   "nbconvert_exporter": "python",
   "pygments_lexer": "ipython3",
   "version": "3.8.12"
  },
  "papermill": {
   "default_parameters": {},
   "duration": 4.205915,
   "end_time": "2022-05-10T13:07:27.291826",
   "environment_variables": {},
   "exception": true,
   "input_path": "/tmp/tmpuqoge9qf",
   "output_path": "/tmp/notebook_output.ipynb",
   "parameters": {},
   "start_time": "2022-05-10T13:07:23.085911",
   "version": "2.3.4"
  },
  "properties": {
   "authors": [
    {
     "id": "3d76fe8a-ecd3-4736-b462-38f98f1f605e",
     "name": "d.moglioni@rheagroup.com"
    }
   ],
   "description": "Object detection task using deep learning.",
   "id": "eb05cc18-5f1d-4632-8133-c4847a260223",
   "license": null,
   "name": "Sentinel-2 based object detection",
   "requirements": [
    "eurodatacube"
   ],
   "tags": [
    "Machine Learning",
    "Sentinel Data",
    "EO Data"
   ],
   "tosAgree": true,
   "type": "Jupyter Notebook",
   "version": "0.0.1"
  }
 },
 "nbformat": 4,
 "nbformat_minor": 5
}