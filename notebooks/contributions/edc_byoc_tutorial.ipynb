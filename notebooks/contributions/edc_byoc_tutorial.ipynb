{
 "cells": [
  {
   "cell_type": "markdown",
   "id": "1025bfc6",
   "metadata": {
    "tags": [
     "papermill-error-cell-tag"
    ]
   },
   "source": [
    "<span style=\"color:red; font-family:Helvetica Neue, Helvetica, Arial, sans-serif; font-size:2em;\">An Exception was encountered at '<a href=\"#papermill-error-cell\">In [27]</a>'.</span>"
   ]
  },
  {
   "cell_type": "code",
   "execution_count": 1,
   "id": "ac251f72",
   "metadata": {
    "execution": {
     "iopub.execute_input": "2022-06-28T08:12:34.339182Z",
     "iopub.status.busy": "2022-06-28T08:12:34.338592Z",
     "iopub.status.idle": "2022-06-28T08:12:34.410939Z",
     "shell.execute_reply": "2022-06-28T08:12:34.410261Z"
    },
    "papermill": {
     "duration": 0.14059,
     "end_time": "2022-06-28T08:12:34.412767",
     "exception": false,
     "start_time": "2022-06-28T08:12:34.272177",
     "status": "completed"
    },
    "tags": []
   },
   "outputs": [
    {
     "data": {
      "text/html": [
       "<script type=\"text/javascript\">\n",
       "        function toggle(id) {\n",
       "            el = document.getElementById(id);\n",
       "            el.style.display = el.style.display === \"none\" ? \"block\" : \"none\";\n",
       "        }\n",
       "    </script>"
      ],
      "text/plain": [
       "<IPython.core.display.HTML object>"
      ]
     },
     "metadata": {},
     "output_type": "display_data"
    },
    {
     "data": {
      "text/html": [
       "This notebook is compatible with this base image version (user-2022.02)."
      ],
      "text/plain": [
       "<IPython.core.display.HTML object>"
      ]
     },
     "metadata": {},
     "output_type": "display_data"
    },
    {
     "data": {
      "text/markdown": [
       "\n",
       "\n",
       "---------\n",
       "\n",
       "The following environment variables are available:\n",
       "\n",
       "* `SH_CLIENT_ID`, `SH_INSTANCE_ID`, `SH_CLIENT_NAME`, `SH_CLIENT_SECRET`\n"
      ],
      "text/plain": [
       "<IPython.core.display.Markdown object>"
      ]
     },
     "metadata": {},
     "output_type": "display_data"
    }
   ],
   "source": [
    "from edc import check_compatibility\n",
    "check_compatibility(\"user-2022.02\", dependencies=[\"SH\"])"
   ]
  },
  {
   "cell_type": "markdown",
   "id": "6d37ff44-7d14-427b-8a43-1c2f31782255",
   "metadata": {
    "papermill": {
     "duration": 0.064775,
     "end_time": "2022-06-28T08:12:34.548634",
     "exception": false,
     "start_time": "2022-06-28T08:12:34.483859",
     "status": "completed"
    },
    "tags": []
   },
   "source": [
    "# How to bring your own data to EDC: Using Sentinel Hub Python package\n",
    "---\n",
    "Source: [Bring Your Own COG documentation](https://sentinelhub-py.readthedocs.io/en/latest/examples/byoc_request.html)\n",
    "\n",
    "## Getting started with Bring Your Own COG(BYOC)\n",
    "Sentinel Hub allows you to access your own data stored in your S3 bucket with the powerful Sentinel Hub API. Since data remains on your bucket, you keep full control over it. This functionality requires no replication of data and allows you to exercise the full power of the Sentinel Hub service including Custom algorithms. [More information here!](https://www.sentinel-hub.com/bring-your-own-data/).\n",
    "\n",
    "The [Sentinel Hub Dashboard](https://apps.sentinel-hub.com/dashboard/) has a very user-friendly “Bring your own COG” tab. If you are not going to be creating collections, adding/updating collection tiles, etc. daily, the Dashboard tool is your friend. For the rest, this tutorial is a simple walk-through on creating, updating, listing, and deleting your BYOC collections through Python using `sentinelhub-py`.\n",
    "\n",
    "## Outline\n",
    "In this demonstration Jupyter Notebook, based on the [Sentinel Hub Python package BYOC examples](https://sentinelhub-py.readthedocs.io/en/latest/examples/byoc_request.html#), we will learn how to:\n",
    "- [Set up for prerequisites](#Set-up-for-prerequisites)\n",
    "  - [Imports](#Imports)\n",
    "  - [Credentials](#Credentials)\n",
    "- [Manage BYOC collections](#Manage-BYOC-collections)\n",
    "  - [Create new collection](#Create-new-collection)\n",
    "  - [Get a list of your collections](#Get-a-list-of-your-collections)\n",
    "  - [Update existing collection](#Update-existing-collection)\n",
    "  - [Delete collection](#Delete-collection)\n",
    "- [Manage BYOC tiles (cogs in the collection)](#Manage-BYOC-tiles-(cogs-in-the-collection))\n",
    "  - [Creating a new tile (and ingesting it to collection)](#Creating-a-new-tile-(and-ingesting-it-to-collection))\n",
    "  - [Add multiple tiles to a single collection](#Add-multiple-tiles-to-a-single-collection)\n",
    "  - [Get tiles from your collection](#Get-tiles-from-your-collection)\n",
    "  - [Visualize the tiles in your collection](#Visualize-the-tiles-in-your-collection)\n",
    "  - [Update and delete a tile](#Updating-and-deleting-a-tile)\n",
    "- [Retrieve data from collection](#Retrieve-data-from-collection)"
   ]
  },
  {
   "cell_type": "markdown",
   "id": "deb3000f-15d9-4d56-944c-fa5889dab11c",
   "metadata": {
    "papermill": {
     "duration": 0.065118,
     "end_time": "2022-06-28T08:12:34.678454",
     "exception": false,
     "start_time": "2022-06-28T08:12:34.613336",
     "status": "completed"
    },
    "tags": []
   },
   "source": [
    "## Set up for prerequisites\n",
    "Before accessing the data, we will start by importing the necessary Python libraries (already configured in your EDC workspace) and generate credentials automatically to access the services.\n",
    "\n",
    "### Imports"
   ]
  },
  {
   "cell_type": "code",
   "execution_count": 2,
   "id": "c847691b-06bb-4c3c-bb4f-57c04d131659",
   "metadata": {
    "execution": {
     "iopub.execute_input": "2022-06-28T08:12:34.810456Z",
     "iopub.status.busy": "2022-06-28T08:12:34.810016Z",
     "iopub.status.idle": "2022-06-28T08:12:34.813440Z",
     "shell.execute_reply": "2022-06-28T08:12:34.812862Z"
    },
    "papermill": {
     "duration": 0.071696,
     "end_time": "2022-06-28T08:12:34.814992",
     "exception": false,
     "start_time": "2022-06-28T08:12:34.743296",
     "status": "completed"
    },
    "tags": []
   },
   "outputs": [],
   "source": [
    "# Upgrade to the latest version of sentinelhub-py\n",
    "# !pip install sentinelhub --upgrade"
   ]
  },
  {
   "cell_type": "code",
   "execution_count": 3,
   "id": "8e0d4995-6d68-4410-b07a-2b5026872623",
   "metadata": {
    "execution": {
     "iopub.execute_input": "2022-06-28T08:12:34.950361Z",
     "iopub.status.busy": "2022-06-28T08:12:34.949695Z",
     "iopub.status.idle": "2022-06-28T08:12:37.602086Z",
     "shell.execute_reply": "2022-06-28T08:12:37.601352Z"
    },
    "papermill": {
     "duration": 2.720791,
     "end_time": "2022-06-28T08:12:37.604258",
     "exception": false,
     "start_time": "2022-06-28T08:12:34.883467",
     "status": "completed"
    },
    "tags": []
   },
   "outputs": [],
   "source": [
    "# EDC libraries\n",
    "from edc import setup_environment_variables\n",
    "\n",
    "# Utilities\n",
    "import os\n",
    "import boto3\n",
    "import numpy as np\n",
    "import datetime as dt\n",
    "import pandas as pd\n",
    "import geopandas as gpd\n",
    "import matplotlib.pyplot as plt\n",
    "\n",
    "# Sentinel Hub\n",
    "from sentinelhub import (SHConfig, DataCollection, Geometry, BBox, CRS, \n",
    "                         SentinelHubRequest, filter_times, bbox_to_dimensions, MimeType, \n",
    "                         SentinelHubBYOC, ByocCollection, ByocTile, ByocCollectionAdditionalData,\n",
    "                         DownloadFailedException)"
   ]
  },
  {
   "cell_type": "code",
   "execution_count": 4,
   "id": "09bfb247-bc1b-4e43-b3bc-306893aee588",
   "metadata": {
    "execution": {
     "iopub.execute_input": "2022-06-28T08:12:37.745194Z",
     "iopub.status.busy": "2022-06-28T08:12:37.744673Z",
     "iopub.status.idle": "2022-06-28T08:12:37.749679Z",
     "shell.execute_reply": "2022-06-28T08:12:37.748998Z"
    },
    "papermill": {
     "duration": 0.077661,
     "end_time": "2022-06-28T08:12:37.751406",
     "exception": false,
     "start_time": "2022-06-28T08:12:37.673745",
     "status": "completed"
    },
    "tags": []
   },
   "outputs": [],
   "source": [
    "# Configure plots for inline use in Jupyter Notebook\n",
    "%matplotlib inline"
   ]
  },
  {
   "cell_type": "markdown",
   "id": "c048b053-1d97-47be-b3fe-1eeac4211dae",
   "metadata": {
    "papermill": {
     "duration": 0.066642,
     "end_time": "2022-06-28T08:12:37.884616",
     "exception": false,
     "start_time": "2022-06-28T08:12:37.817974",
     "status": "completed"
    },
    "tags": []
   },
   "source": [
    "### Credentials\n",
    "Credentials for Sentinel Hub services are automatically injected as environement variables. It is therefore easy to populate Sentinel Hub's credential manager with the values."
   ]
  },
  {
   "cell_type": "code",
   "execution_count": 5,
   "id": "24dbc23e-e120-410e-885a-cacc9bb0ad10",
   "metadata": {
    "execution": {
     "iopub.execute_input": "2022-06-28T08:12:38.017597Z",
     "iopub.status.busy": "2022-06-28T08:12:38.016932Z",
     "iopub.status.idle": "2022-06-28T08:12:38.021824Z",
     "shell.execute_reply": "2022-06-28T08:12:38.021130Z"
    },
    "papermill": {
     "duration": 0.073654,
     "end_time": "2022-06-28T08:12:38.023488",
     "exception": false,
     "start_time": "2022-06-28T08:12:37.949834",
     "status": "completed"
    },
    "tags": []
   },
   "outputs": [],
   "source": [
    "# Pass Sentinel Hub credentials to SHConfig\n",
    "config = SHConfig()\n",
    "config.sh_client_id = os.environ[\"SH_CLIENT_ID\"]\n",
    "config.sh_client_secret = os.environ[\"SH_CLIENT_SECRET\"]"
   ]
  },
  {
   "cell_type": "markdown",
   "id": "ac129e1d-3ee5-407b-ab8b-64380d640ea0",
   "metadata": {
    "papermill": {
     "duration": 0.067924,
     "end_time": "2022-06-28T08:12:38.160518",
     "exception": false,
     "start_time": "2022-06-28T08:12:38.092594",
     "status": "completed"
    },
    "tags": []
   },
   "source": [
    "This example notebook will demonstrate how to ingest tiles from AWS S3 bucket taking [Sentinel-2 L2A 120m Mosaic data](https://registry.opendata.aws/sentinel-s2-l2a-mosaic-120/) as an example. You will need aws credentials to access data on AWS S3 bucket."
   ]
  },
  {
   "cell_type": "code",
   "execution_count": 6,
   "id": "98a6a078-35f1-4f38-a796-a89987769084",
   "metadata": {
    "execution": {
     "iopub.execute_input": "2022-06-28T08:12:38.298706Z",
     "iopub.status.busy": "2022-06-28T08:12:38.298404Z",
     "iopub.status.idle": "2022-06-28T08:12:38.302234Z",
     "shell.execute_reply": "2022-06-28T08:12:38.301525Z"
    },
    "papermill": {
     "duration": 0.074298,
     "end_time": "2022-06-28T08:12:38.303916",
     "exception": false,
     "start_time": "2022-06-28T08:12:38.229618",
     "status": "completed"
    },
    "tags": []
   },
   "outputs": [],
   "source": [
    "config.aws_access_key_id = '<your aws access key id>'\n",
    "config.aws_secret_access_key = '<your aws secret access key>'"
   ]
  },
  {
   "cell_type": "markdown",
   "id": "301cfb8b-47dd-4b2f-a346-c84ec0db2638",
   "metadata": {
    "papermill": {
     "duration": 0.065669,
     "end_time": "2022-06-28T08:12:38.442205",
     "exception": false,
     "start_time": "2022-06-28T08:12:38.376536",
     "status": "completed"
    },
    "tags": []
   },
   "source": [
    "## Manage BYOC collections\n",
    "`SentinelHubBYOC` class holds the methods for interacting with Sentinel-Hub services. Let’s initialize it with our `config`:"
   ]
  },
  {
   "cell_type": "code",
   "execution_count": 7,
   "id": "eb7c4b64-7b85-4488-abe1-15fd65ab5866",
   "metadata": {
    "execution": {
     "iopub.execute_input": "2022-06-28T08:12:38.581192Z",
     "iopub.status.busy": "2022-06-28T08:12:38.580713Z",
     "iopub.status.idle": "2022-06-28T08:12:38.584460Z",
     "shell.execute_reply": "2022-06-28T08:12:38.583647Z"
    },
    "papermill": {
     "duration": 0.075292,
     "end_time": "2022-06-28T08:12:38.586118",
     "exception": false,
     "start_time": "2022-06-28T08:12:38.510826",
     "status": "completed"
    },
    "tags": []
   },
   "outputs": [],
   "source": [
    "# Initialize SentinelHubBYOC class\n",
    "byoc = SentinelHubBYOC(config=config)"
   ]
  },
  {
   "cell_type": "markdown",
   "id": "d4c8bb8f-fdb0-431c-b6c4-ef8586cd8a99",
   "metadata": {
    "papermill": {
     "duration": 0.068586,
     "end_time": "2022-06-28T08:12:38.720107",
     "exception": false,
     "start_time": "2022-06-28T08:12:38.651521",
     "status": "completed"
    },
    "tags": []
   },
   "source": [
    "### Create new collection\n",
    "The easiest way to create a collection is to use its dataclass:"
   ]
  },
  {
   "cell_type": "code",
   "execution_count": 8,
   "id": "f7ea3658-db4d-447d-b018-70cc9365e096",
   "metadata": {
    "execution": {
     "iopub.execute_input": "2022-06-28T08:12:38.858222Z",
     "iopub.status.busy": "2022-06-28T08:12:38.857706Z",
     "iopub.status.idle": "2022-06-28T08:12:38.861904Z",
     "shell.execute_reply": "2022-06-28T08:12:38.861151Z"
    },
    "papermill": {
     "duration": 0.074221,
     "end_time": "2022-06-28T08:12:38.863584",
     "exception": false,
     "start_time": "2022-06-28T08:12:38.789363",
     "status": "completed"
    },
    "tags": []
   },
   "outputs": [],
   "source": [
    "new_collection = ByocCollection(name='new collection', s3_bucket='my-s3-bucket')"
   ]
  },
  {
   "cell_type": "markdown",
   "id": "46f1d531-e867-4a5c-af41-50f03a30894b",
   "metadata": {
    "papermill": {
     "duration": 0.071899,
     "end_time": "2022-06-28T08:12:39.002698",
     "exception": false,
     "start_time": "2022-06-28T08:12:38.930799",
     "status": "completed"
    },
    "tags": []
   },
   "source": [
    "The `new collection` is accessible on `my-s3-bucket` s3 bucket (please see how to configure your bucket for Sentinel-Hub service [here](https://docs.sentinel-hub.com/api/latest/data/byoc/#aws-bucket-settings)).\n"
   ]
  },
  {
   "cell_type": "code",
   "execution_count": 9,
   "id": "af8581a6-4e0f-4225-9c16-6e58732319b4",
   "metadata": {
    "execution": {
     "iopub.execute_input": "2022-06-28T08:12:39.138007Z",
     "iopub.status.busy": "2022-06-28T08:12:39.137354Z",
     "iopub.status.idle": "2022-06-28T08:12:39.413365Z",
     "shell.execute_reply": "2022-06-28T08:12:39.412668Z"
    },
    "papermill": {
     "duration": 0.345726,
     "end_time": "2022-06-28T08:12:39.415377",
     "exception": false,
     "start_time": "2022-06-28T08:12:39.069651",
     "status": "completed"
    },
    "tags": []
   },
   "outputs": [],
   "source": [
    "created_collection = byoc.create_collection(new_collection)"
   ]
  },
  {
   "cell_type": "code",
   "execution_count": 10,
   "id": "7ecef340-601a-4cf7-aca1-fa157c77f9f9",
   "metadata": {
    "execution": {
     "iopub.execute_input": "2022-06-28T08:12:39.555342Z",
     "iopub.status.busy": "2022-06-28T08:12:39.554686Z",
     "iopub.status.idle": "2022-06-28T08:12:39.560066Z",
     "shell.execute_reply": "2022-06-28T08:12:39.559228Z"
    },
    "papermill": {
     "duration": 0.076103,
     "end_time": "2022-06-28T08:12:39.561685",
     "exception": false,
     "start_time": "2022-06-28T08:12:39.485582",
     "status": "completed"
    },
    "tags": []
   },
   "outputs": [
    {
     "name": "stdout",
     "output_type": "stream",
     "text": [
      "name: new collection\n",
      "id: 4a15b442-d1b1-4a77-a7a5-ea3d5c6f7f8a\n"
     ]
    }
   ],
   "source": [
    "created_collection_name = created_collection['name']\n",
    "created_collection_id = created_collection['id']\n",
    "print('name:', created_collection_name)\n",
    "print('id:', created_collection_id)"
   ]
  },
  {
   "cell_type": "markdown",
   "id": "9b75058c-1f64-4c0a-a38d-ec905cf2ff6b",
   "metadata": {
    "papermill": {
     "duration": 0.071497,
     "end_time": "2022-06-28T08:12:39.700406",
     "exception": false,
     "start_time": "2022-06-28T08:12:39.628909",
     "status": "completed"
    },
    "tags": []
   },
   "source": [
    "### Get a list of your collections\n",
    "Now we have created a data collection named `new collection`, we can retrieve it with the following code."
   ]
  },
  {
   "cell_type": "code",
   "execution_count": 11,
   "id": "2f936f2d-d4d8-40a6-97be-6cf7e30c1905",
   "metadata": {
    "execution": {
     "iopub.execute_input": "2022-06-28T08:12:39.834428Z",
     "iopub.status.busy": "2022-06-28T08:12:39.833805Z",
     "iopub.status.idle": "2022-06-28T08:12:39.883424Z",
     "shell.execute_reply": "2022-06-28T08:12:39.882755Z"
    },
    "papermill": {
     "duration": 0.11814,
     "end_time": "2022-06-28T08:12:39.885332",
     "exception": false,
     "start_time": "2022-06-28T08:12:39.767192",
     "status": "completed"
    },
    "tags": []
   },
   "outputs": [],
   "source": [
    "my_collection = byoc.get_collection(created_collection_id)"
   ]
  },
  {
   "cell_type": "markdown",
   "id": "45ef31fc-1579-4044-8e79-47830eba0e8d",
   "metadata": {
    "papermill": {
     "duration": 0.066795,
     "end_time": "2022-06-28T08:12:40.020831",
     "exception": false,
     "start_time": "2022-06-28T08:12:39.954036",
     "status": "completed"
    },
    "tags": []
   },
   "source": [
    "Let's have a look at the collection we just created."
   ]
  },
  {
   "cell_type": "code",
   "execution_count": 12,
   "id": "8a125875-77ba-4218-9ac3-bc6859ec2b7d",
   "metadata": {
    "execution": {
     "iopub.execute_input": "2022-06-28T08:12:40.156632Z",
     "iopub.status.busy": "2022-06-28T08:12:40.155978Z",
     "iopub.status.idle": "2022-06-28T08:12:40.164054Z",
     "shell.execute_reply": "2022-06-28T08:12:40.163011Z"
    },
    "papermill": {
     "duration": 0.078871,
     "end_time": "2022-06-28T08:12:40.165997",
     "exception": false,
     "start_time": "2022-06-28T08:12:40.087126",
     "status": "completed"
    },
    "tags": []
   },
   "outputs": [
    {
     "data": {
      "text/plain": [
       "{'id': '4a15b442-d1b1-4a77-a7a5-ea3d5c6f7f8a',\n",
       " 'userId': '0d14e730-7697-4cb0-9e88-7b65bd291480',\n",
       " 'name': 'new collection',\n",
       " 's3Bucket': 'my-s3-bucket',\n",
       " 'created': '2022-06-28T08:12:39.307452Z',\n",
       " 'requiresMetadataUpdate': False,\n",
       " 'isConfigured': False}"
      ]
     },
     "execution_count": 12,
     "metadata": {},
     "output_type": "execute_result"
    }
   ],
   "source": [
    "my_collection"
   ]
  },
  {
   "cell_type": "markdown",
   "id": "edb82149-52f3-498d-a933-092e2868f107",
   "metadata": {
    "papermill": {
     "duration": 0.0729,
     "end_time": "2022-06-28T08:12:40.306220",
     "exception": false,
     "start_time": "2022-06-28T08:12:40.233320",
     "status": "completed"
    },
    "tags": []
   },
   "source": [
    "In cases where you have a large amount of collections and you would only like to load collection info for a few collections, the following code would be a good option for you:"
   ]
  },
  {
   "cell_type": "code",
   "execution_count": 13,
   "id": "cfa9a292-6da6-43ab-b602-b5f20efdb98e",
   "metadata": {
    "execution": {
     "iopub.execute_input": "2022-06-28T08:12:40.449885Z",
     "iopub.status.busy": "2022-06-28T08:12:40.449101Z",
     "iopub.status.idle": "2022-06-28T08:12:40.453282Z",
     "shell.execute_reply": "2022-06-28T08:12:40.452636Z"
    },
    "papermill": {
     "duration": 0.078031,
     "end_time": "2022-06-28T08:12:40.454960",
     "exception": false,
     "start_time": "2022-06-28T08:12:40.376929",
     "status": "completed"
    },
    "tags": []
   },
   "outputs": [],
   "source": [
    "collections_iterator = byoc.iter_collections()"
   ]
  },
  {
   "cell_type": "code",
   "execution_count": 14,
   "id": "e22e103c-6ce6-422b-a921-77d228fe4905",
   "metadata": {
    "execution": {
     "iopub.execute_input": "2022-06-28T08:12:40.593661Z",
     "iopub.status.busy": "2022-06-28T08:12:40.592901Z",
     "iopub.status.idle": "2022-06-28T08:12:40.632317Z",
     "shell.execute_reply": "2022-06-28T08:12:40.631454Z"
    },
    "papermill": {
     "duration": 0.11196,
     "end_time": "2022-06-28T08:12:40.633958",
     "exception": false,
     "start_time": "2022-06-28T08:12:40.521998",
     "status": "completed"
    },
    "tags": []
   },
   "outputs": [
    {
     "name": "stdout",
     "output_type": "stream",
     "text": [
      "name: test\n",
      "id: 28db228e-0c94-427b-b1a4-b618bfe2fabb\n"
     ]
    }
   ],
   "source": [
    "my_collection_using_next = next(collections_iterator)\n",
    "my_collection_using_next\n",
    "print('name:', my_collection_using_next['name'])\n",
    "print('id:', my_collection_using_next['id'])"
   ]
  },
  {
   "cell_type": "markdown",
   "id": "4d80ab8f-575b-4845-bb11-4ecd12cd8d94",
   "metadata": {
    "papermill": {
     "duration": 0.068308,
     "end_time": "2022-06-28T08:12:40.770259",
     "exception": false,
     "start_time": "2022-06-28T08:12:40.701951",
     "status": "completed"
    },
    "tags": []
   },
   "source": [
    "**Note:** `next()` will only show the first collection on its first execution, the second collection for its second execution, and so on. if you already have collections the code below won't necessarily show the one we just created."
   ]
  },
  {
   "cell_type": "markdown",
   "id": "0ead317c-d91d-40f5-a8e8-e856f7a10375",
   "metadata": {
    "papermill": {
     "duration": 0.06659,
     "end_time": "2022-06-28T08:12:40.904016",
     "exception": false,
     "start_time": "2022-06-28T08:12:40.837426",
     "status": "completed"
    },
    "tags": []
   },
   "source": [
    "If you prefer to work with dataclasses, you can also run the following code:\n",
    "\n",
    "```python\n",
    "my_collection = ByocCollection.from_dict(next(collections_iterator))\n",
    "```"
   ]
  },
  {
   "cell_type": "markdown",
   "id": "13b87258-45fb-4eba-bcab-99a3f83296fc",
   "metadata": {
    "papermill": {
     "duration": 0.068622,
     "end_time": "2022-06-28T08:12:41.040909",
     "exception": false,
     "start_time": "2022-06-28T08:12:40.972287",
     "status": "completed"
    },
    "tags": []
   },
   "source": [
    "One can of course retrieve all of them in one go like so:"
   ]
  },
  {
   "cell_type": "code",
   "execution_count": 15,
   "id": "3dd23856-c705-4d43-84ff-42c1201d6c9a",
   "metadata": {
    "execution": {
     "iopub.execute_input": "2022-06-28T08:12:41.177440Z",
     "iopub.status.busy": "2022-06-28T08:12:41.176848Z",
     "iopub.status.idle": "2022-06-28T08:12:41.185020Z",
     "shell.execute_reply": "2022-06-28T08:12:41.184373Z"
    },
    "papermill": {
     "duration": 0.078508,
     "end_time": "2022-06-28T08:12:41.186750",
     "exception": false,
     "start_time": "2022-06-28T08:12:41.108242",
     "status": "completed"
    },
    "tags": []
   },
   "outputs": [
    {
     "name": "stdout",
     "output_type": "stream",
     "text": [
      "('test', '28db228e-0c94-427b-b1a4-b618bfe2fabb')\n",
      "('EOxcloudless_Vienna2019_z10', '46284a40-9b34-435c-983c-97e952e00e12')\n",
      "('new collection', '4a15b442-d1b1-4a77-a7a5-ea3d5c6f7f8a')\n",
      "('upperaustria-400', '546b479d-d6c5-49f4-abe3-d03d0e237fb7')\n",
      "('0c0a0ef4-8d0d-4e70-b002-033c7cbb41fd-40d45b', '58b69e69-77bf-4dda-a12a-22e4ccddc053')\n",
      "('0c0a0ef4-8d0d-4e70-b002-033c7cbb41fd-ef392d', '73fbf740-3145-4239-a7eb-fa416cc6645b')\n",
      "('vienna-1', '938ee483-b908-4591-9d79-11c1f1cd9b36')\n",
      "('landsat-copy', '9d643c7d-5df5-4425-9e5f-d5b9e2385bb0')\n",
      "('byoc-tool', 'a145ae82-7b84-40d9-9ee4-23c2ded703ed')\n",
      "('byoc-s2l2a-120m-mosaic', 'b4b83911-227a-4e93-8cf0-6f967c95c8db')\n",
      "('0c0a0ef4-8d0d-4e70-b002-033c7cbb41fd-03bb01', 'b6943252-5d24-4dcf-8907-54eb069be1c3')\n",
      "('EOxcloudless_Vienna2019', 'c05288c7-58de-48f6-a7e6-6bc8d0ca335f')\n",
      "('byoc-s2l2a-120m-mosaic', 'cd052eea-6583-401e-a2be-f92f6088105d')\n",
      "('a18f635e-aeb6-4379-9339-68ae3e08edc7-bc6846', 'da1d9278-3223-4b26-9782-17c826abec98')\n",
      "('byod1', 'dbeaa4f4-db00-4b00-b51f-8e00c701d37b')\n",
      "('landsat-vrt', 'e23d9277-afd2-4092-ab1c-518112f8fc6c')\n",
      "('austria_l', 'e9b8f2b4-a085-4797-b823-5c972d0d00fd')\n",
      "('a18f635e-aeb6-4379-9339-68ae3e08edc7-02db9b', 'f0c9550b-b533-4959-bd9c-c8d7247109ad')\n"
     ]
    }
   ],
   "source": [
    "my_collections = list(collections_iterator)\n",
    "\n",
    "for collection in my_collections:\n",
    "    print((collection['name'], collection['id']))"
   ]
  },
  {
   "cell_type": "markdown",
   "id": "c0f40586-1275-4e51-af00-39124b9d90b1",
   "metadata": {
    "papermill": {
     "duration": 0.068202,
     "end_time": "2022-06-28T08:12:41.331517",
     "exception": false,
     "start_time": "2022-06-28T08:12:41.263315",
     "status": "completed"
    },
    "tags": []
   },
   "source": [
    "A useful way for managing your collections is `pandas.DataFrame` you can create like so:"
   ]
  },
  {
   "cell_type": "code",
   "execution_count": 16,
   "id": "1b0db79e-a0f0-42da-84bc-2c03b92e9cfe",
   "metadata": {
    "execution": {
     "iopub.execute_input": "2022-06-28T08:12:41.476162Z",
     "iopub.status.busy": "2022-06-28T08:12:41.475583Z",
     "iopub.status.idle": "2022-06-28T08:12:41.522413Z",
     "shell.execute_reply": "2022-06-28T08:12:41.521627Z"
    },
    "papermill": {
     "duration": 0.123139,
     "end_time": "2022-06-28T08:12:41.524290",
     "exception": false,
     "start_time": "2022-06-28T08:12:41.401151",
     "status": "completed"
    },
    "tags": []
   },
   "outputs": [
    {
     "data": {
      "text/html": [
       "<div>\n",
       "<style scoped>\n",
       "    .dataframe tbody tr th:only-of-type {\n",
       "        vertical-align: middle;\n",
       "    }\n",
       "\n",
       "    .dataframe tbody tr th {\n",
       "        vertical-align: top;\n",
       "    }\n",
       "\n",
       "    .dataframe thead th {\n",
       "        text-align: right;\n",
       "    }\n",
       "</style>\n",
       "<table border=\"1\" class=\"dataframe\">\n",
       "  <thead>\n",
       "    <tr style=\"text-align: right;\">\n",
       "      <th></th>\n",
       "      <th>id</th>\n",
       "      <th>name</th>\n",
       "      <th>created</th>\n",
       "    </tr>\n",
       "  </thead>\n",
       "  <tbody>\n",
       "    <tr>\n",
       "      <th>0</th>\n",
       "      <td>28db228e-0c94-427b-b1a4-b618bfe2fabb</td>\n",
       "      <td>test</td>\n",
       "      <td>2021-04-19T14:17:32.254295Z</td>\n",
       "    </tr>\n",
       "    <tr>\n",
       "      <th>1</th>\n",
       "      <td>46284a40-9b34-435c-983c-97e952e00e12</td>\n",
       "      <td>EOxcloudless_Vienna2019_z10</td>\n",
       "      <td>NaN</td>\n",
       "    </tr>\n",
       "    <tr>\n",
       "      <th>2</th>\n",
       "      <td>4a15b442-d1b1-4a77-a7a5-ea3d5c6f7f8a</td>\n",
       "      <td>new collection</td>\n",
       "      <td>2022-06-28T08:12:39.307452Z</td>\n",
       "    </tr>\n",
       "    <tr>\n",
       "      <th>3</th>\n",
       "      <td>546b479d-d6c5-49f4-abe3-d03d0e237fb7</td>\n",
       "      <td>upperaustria-400</td>\n",
       "      <td>NaN</td>\n",
       "    </tr>\n",
       "    <tr>\n",
       "      <th>4</th>\n",
       "      <td>58b69e69-77bf-4dda-a12a-22e4ccddc053</td>\n",
       "      <td>0c0a0ef4-8d0d-4e70-b002-033c7cbb41fd-40d45b</td>\n",
       "      <td>2021-06-24T16:44:48.913008Z</td>\n",
       "    </tr>\n",
       "  </tbody>\n",
       "</table>\n",
       "</div>"
      ],
      "text/plain": [
       "                                     id  \\\n",
       "0  28db228e-0c94-427b-b1a4-b618bfe2fabb   \n",
       "1  46284a40-9b34-435c-983c-97e952e00e12   \n",
       "2  4a15b442-d1b1-4a77-a7a5-ea3d5c6f7f8a   \n",
       "3  546b479d-d6c5-49f4-abe3-d03d0e237fb7   \n",
       "4  58b69e69-77bf-4dda-a12a-22e4ccddc053   \n",
       "\n",
       "                                          name                      created  \n",
       "0                                         test  2021-04-19T14:17:32.254295Z  \n",
       "1                  EOxcloudless_Vienna2019_z10                          NaN  \n",
       "2                               new collection  2022-06-28T08:12:39.307452Z  \n",
       "3                             upperaustria-400                          NaN  \n",
       "4  0c0a0ef4-8d0d-4e70-b002-033c7cbb41fd-40d45b  2021-06-24T16:44:48.913008Z  "
      ]
     },
     "execution_count": 16,
     "metadata": {},
     "output_type": "execute_result"
    }
   ],
   "source": [
    "my_collections_df = pd.DataFrame(data=list(byoc.iter_collections()))\n",
    "my_collections_df[['id','name','created']].head()"
   ]
  },
  {
   "cell_type": "markdown",
   "id": "8ea9b456-be13-484d-b86b-9653ac9474dc",
   "metadata": {
    "papermill": {
     "duration": 0.069237,
     "end_time": "2022-06-28T08:12:41.663018",
     "exception": false,
     "start_time": "2022-06-28T08:12:41.593781",
     "status": "completed"
    },
    "tags": []
   },
   "source": [
    "### Update existing collection\n",
    "\n",
    "Anything you can do on Dashboard, Bring your own COG tab, you can do programmatically as well. Below we're going to rename the 'byoc-tutorial' collection to 'byoc-tutorial-renamed':"
   ]
  },
  {
   "cell_type": "code",
   "execution_count": 17,
   "id": "01515c25-1b42-4235-88c9-c279d0a68c57",
   "metadata": {
    "execution": {
     "iopub.execute_input": "2022-06-28T08:12:41.804188Z",
     "iopub.status.busy": "2022-06-28T08:12:41.803458Z",
     "iopub.status.idle": "2022-06-28T08:12:41.807670Z",
     "shell.execute_reply": "2022-06-28T08:12:41.806918Z"
    },
    "papermill": {
     "duration": 0.076679,
     "end_time": "2022-06-28T08:12:41.809528",
     "exception": false,
     "start_time": "2022-06-28T08:12:41.732849",
     "status": "completed"
    },
    "tags": []
   },
   "outputs": [],
   "source": [
    "my_collection['name'] = 'renamed new collection'"
   ]
  },
  {
   "cell_type": "markdown",
   "id": "931f82ab-33a2-4cce-8e99-cb0a0caed15a",
   "metadata": {
    "papermill": {
     "duration": 0.072959,
     "end_time": "2022-06-28T08:12:41.953591",
     "exception": false,
     "start_time": "2022-06-28T08:12:41.880632",
     "status": "completed"
    },
    "tags": []
   },
   "source": [
    "When using `next()`, run the following code:\n",
    "\n",
    "```python\n",
    "my_collection['name'] = 'renamed new collection'\n",
    "```\n",
    "\n",
    "When using dataclass, run the following code:\n",
    "```python\n",
    "my_collection.name = 'renamed new collection'\n",
    "```\n",
    "\n",
    "When using `list`, run the following code:\n",
    "```python\n",
    "collection_to_be_updated = [x for x in my_collections if x['name']=='new collection'][0]\n",
    "collection_to_be_updated['name'] = 'renamed new collection'\n",
    "```"
   ]
  },
  {
   "cell_type": "markdown",
   "id": "2a657833-10cf-48e7-b89c-c88eb66f03e4",
   "metadata": {
    "papermill": {
     "duration": 0.069371,
     "end_time": "2022-06-28T08:12:42.091607",
     "exception": false,
     "start_time": "2022-06-28T08:12:42.022236",
     "status": "completed"
    },
    "tags": []
   },
   "source": [
    "**Note:** While you can change other fields as well, `s3_bucket` cannot be changed, and the `bitDepth` of bands in the collection is something that is pertinent to the COGs themselves and populated during the ingestion."
   ]
  },
  {
   "cell_type": "markdown",
   "id": "e2d29b0d-77e1-4207-9cd3-878e673da7b1",
   "metadata": {
    "papermill": {
     "duration": 0.068838,
     "end_time": "2022-06-28T08:12:42.233841",
     "exception": false,
     "start_time": "2022-06-28T08:12:42.165003",
     "status": "completed"
    },
    "tags": []
   },
   "source": [
    "To update the collection, call:"
   ]
  },
  {
   "cell_type": "code",
   "execution_count": 18,
   "id": "344dc0cd-3bd3-4c79-bd24-358149bf3e6d",
   "metadata": {
    "execution": {
     "iopub.execute_input": "2022-06-28T08:12:42.416767Z",
     "iopub.status.busy": "2022-06-28T08:12:42.416162Z",
     "iopub.status.idle": "2022-06-28T08:12:42.496709Z",
     "shell.execute_reply": "2022-06-28T08:12:42.495857Z"
    },
    "papermill": {
     "duration": 0.152121,
     "end_time": "2022-06-28T08:12:42.498361",
     "exception": false,
     "start_time": "2022-06-28T08:12:42.346240",
     "status": "completed"
    },
    "tags": []
   },
   "outputs": [
    {
     "data": {
      "text/plain": [
       "''"
      ]
     },
     "execution_count": 18,
     "metadata": {},
     "output_type": "execute_result"
    }
   ],
   "source": [
    "byoc.update_collection(my_collection)"
   ]
  },
  {
   "cell_type": "markdown",
   "id": "6d0ba6ce-7827-493c-b5c7-20918b27b345",
   "metadata": {
    "papermill": {
     "duration": 0.07008,
     "end_time": "2022-06-28T08:12:42.636336",
     "exception": false,
     "start_time": "2022-06-28T08:12:42.566256",
     "status": "completed"
    },
    "tags": []
   },
   "source": [
    "Now we can see that the `new collection` collection has been renamed as `renamed new collection`."
   ]
  },
  {
   "cell_type": "code",
   "execution_count": 19,
   "id": "bef54756-6ab2-4e1e-9b33-8a1ac7dca47d",
   "metadata": {
    "execution": {
     "iopub.execute_input": "2022-06-28T08:12:42.778340Z",
     "iopub.status.busy": "2022-06-28T08:12:42.777676Z",
     "iopub.status.idle": "2022-06-28T08:12:42.807670Z",
     "shell.execute_reply": "2022-06-28T08:12:42.806912Z"
    },
    "papermill": {
     "duration": 0.103556,
     "end_time": "2022-06-28T08:12:42.809632",
     "exception": false,
     "start_time": "2022-06-28T08:12:42.706076",
     "status": "completed"
    },
    "tags": []
   },
   "outputs": [
    {
     "name": "stdout",
     "output_type": "stream",
     "text": [
      "name: renamed new collection\n",
      "id: 4a15b442-d1b1-4a77-a7a5-ea3d5c6f7f8a\n"
     ]
    }
   ],
   "source": [
    "get_renamed_collection = byoc.get_collection(created_collection_id)\n",
    "print(\"name:\", get_renamed_collection['name'])\n",
    "print(\"id:\", get_renamed_collection['id'])"
   ]
  },
  {
   "cell_type": "markdown",
   "id": "647e1d43-9adc-4c0d-b42d-46882c52d5fd",
   "metadata": {
    "papermill": {
     "duration": 0.071899,
     "end_time": "2022-06-28T08:12:42.952155",
     "exception": false,
     "start_time": "2022-06-28T08:12:42.880256",
     "status": "completed"
    },
    "tags": []
   },
   "source": [
    "### Delete collection\n",
    "\n",
    "If you are the owner of the collection, you can also delete it. Let's delete the `renamed new collection` collection we just created.\n",
    "\n",
    "<div class=\"alert alert-warning\">\n",
    "\n",
    "**Warning:**\n",
    "    \n",
    "Beware! Deleting the collection will also delete all its tiles!\n",
    "</div>"
   ]
  },
  {
   "cell_type": "code",
   "execution_count": 20,
   "id": "d9a483a5-6119-4f37-ae57-6f139e6d5018",
   "metadata": {
    "execution": {
     "iopub.execute_input": "2022-06-28T08:12:43.094927Z",
     "iopub.status.busy": "2022-06-28T08:12:43.094245Z",
     "iopub.status.idle": "2022-06-28T08:12:43.204142Z",
     "shell.execute_reply": "2022-06-28T08:12:43.203210Z"
    },
    "papermill": {
     "duration": 0.182663,
     "end_time": "2022-06-28T08:12:43.205857",
     "exception": false,
     "start_time": "2022-06-28T08:12:43.023194",
     "status": "completed"
    },
    "tags": []
   },
   "outputs": [
    {
     "data": {
      "text/plain": [
       "''"
      ]
     },
     "execution_count": 20,
     "metadata": {},
     "output_type": "execute_result"
    }
   ],
   "source": [
    "byoc.delete_collection(my_collection)"
   ]
  },
  {
   "cell_type": "markdown",
   "id": "a08a5a31-f771-4a51-8fe8-510abc2fc637",
   "metadata": {
    "papermill": {
     "duration": 0.070471,
     "end_time": "2022-06-28T08:12:43.347465",
     "exception": false,
     "start_time": "2022-06-28T08:12:43.276994",
     "status": "completed"
    },
    "tags": []
   },
   "source": [
    "The collection can also be deleted via passing its id to `byoc.delete_collection()` as shown below:\n",
    "```python\n",
    "byoc.delete_collection(my_collection['id'])\n",
    "```"
   ]
  },
  {
   "cell_type": "markdown",
   "id": "3349a79e-8350-4ad8-96e3-9e9fa42bf3fc",
   "metadata": {
    "papermill": {
     "duration": 0.074278,
     "end_time": "2022-06-28T08:12:43.491969",
     "exception": false,
     "start_time": "2022-06-28T08:12:43.417691",
     "status": "completed"
    },
    "tags": []
   },
   "source": [
    "Trying to access this collection now will fali."
   ]
  },
  {
   "cell_type": "code",
   "execution_count": 21,
   "id": "4eed49ee-d298-45cc-81c7-3fdfe55d7b55",
   "metadata": {
    "execution": {
     "iopub.execute_input": "2022-06-28T08:12:43.636339Z",
     "iopub.status.busy": "2022-06-28T08:12:43.635717Z",
     "iopub.status.idle": "2022-06-28T08:12:43.681538Z",
     "shell.execute_reply": "2022-06-28T08:12:43.680835Z"
    },
    "papermill": {
     "duration": 0.118721,
     "end_time": "2022-06-28T08:12:43.683157",
     "exception": false,
     "start_time": "2022-06-28T08:12:43.564436",
     "status": "completed"
    },
    "tags": []
   },
   "outputs": [
    {
     "name": "stdout",
     "output_type": "stream",
     "text": [
      "Failed to download from:\n",
      "https://services.sentinel-hub.com/api/v1/byoc/collections/4a15b442-d1b1-4a77-a7a5-ea3d5c6f7f8a\n",
      "with HTTPError:\n",
      "404 Client Error: Not Found for url: https://services.sentinel-hub.com/api/v1/byoc/collections/4a15b442-d1b1-4a77-a7a5-ea3d5c6f7f8a\n",
      "Server response: \"{\"error\":{\"status\":404,\"reason\":\"Not Found\",\"message\":\"Collection 4a15b442-d1b1-4a77-a7a5-ea3d5c6f7f8a not found.\",\"code\":\"COMMON_NOT_FOUND\"}}\"\n"
     ]
    }
   ],
   "source": [
    "try:\n",
    "    deleted_collection = byoc.get_collection([x for x in my_collections if x['id']==created_collection_id][0])\n",
    "except DownloadFailedException as e:\n",
    "    print(e)"
   ]
  },
  {
   "cell_type": "markdown",
   "id": "4a6e7c96-4b52-4cc1-ad49-bdf05b0671ae",
   "metadata": {
    "papermill": {
     "duration": 0.073035,
     "end_time": "2022-06-28T08:12:43.827501",
     "exception": false,
     "start_time": "2022-06-28T08:12:43.754466",
     "status": "completed"
    },
    "tags": []
   },
   "source": [
    "## Manage BYOC tiles (cogs in the collection)\n",
    "Your data needs to be organized into collections of tiles. Each tile needs to contain a set of bands and (optionally) an acquisition date and time. Tiles with the same bands can be grouped into collections. Think of the Sentinel-2 data source as a collection of Sentinel-2 tiles.\n",
    "\n",
    "Tiles have to be on an s3 bucket and need to be in COG format. We will not go into details about the COGification process; users can have a look at the documentation or use the BYOC tool that will take care of creating a collection and ingesting the tiles for you."
   ]
  },
  {
   "cell_type": "markdown",
   "id": "16ea6af2-6106-4c49-8983-617169274fa1",
   "metadata": {
    "papermill": {
     "duration": 0.070697,
     "end_time": "2022-06-28T08:12:43.968335",
     "exception": false,
     "start_time": "2022-06-28T08:12:43.897638",
     "status": "completed"
    },
    "tags": []
   },
   "source": [
    "### Creating a new tile (and ingesting it to collection)\n",
    "When we create a new tile and add it to the collection, the ingestion process on the Sentinel-Hub side will happen, checking if the tile corresponds to the COG specifications as well as if it conforms to the collection. For more information refer to the [Bring Your Own COG API documentation](https://docs.sentinel-hub.com/api/latest/api/byoc/).\n",
    "\n",
    "The simplest way to create a new tile is by using the `ByocTile` dataclass, which will complain if the required fields are missing. In the following cell we will show how to ingest [Sentinel-2 L2A 120m Mosaic](https://registry.opendata.aws/sentinel-s2-l2a-mosaic-120/) data listed on open registry data on AWS."
   ]
  },
  {
   "cell_type": "code",
   "execution_count": 22,
   "id": "9c9ff29a-cc6c-4c3c-9635-e5466de6b947",
   "metadata": {
    "execution": {
     "iopub.execute_input": "2022-06-28T08:12:44.111800Z",
     "iopub.status.busy": "2022-06-28T08:12:44.111144Z",
     "iopub.status.idle": "2022-06-28T08:12:44.115940Z",
     "shell.execute_reply": "2022-06-28T08:12:44.115113Z"
    },
    "papermill": {
     "duration": 0.078299,
     "end_time": "2022-06-28T08:12:44.117669",
     "exception": false,
     "start_time": "2022-06-28T08:12:44.039370",
     "status": "completed"
    },
    "tags": []
   },
   "outputs": [],
   "source": [
    "new_tile = ByocTile(path='2019/11/27/28V/(BAND).tif',\n",
    "                    sensing_time=dt.datetime(2019, 11, 27, 0, 0, 0)\n",
    "                   )"
   ]
  },
  {
   "cell_type": "markdown",
   "id": "80cc9dd0-ba43-43e2-ab28-8fb783c1dd9f",
   "metadata": {
    "papermill": {
     "duration": 0.078857,
     "end_time": "2022-06-28T08:12:44.275207",
     "exception": false,
     "start_time": "2022-06-28T08:12:44.196350",
     "status": "completed"
    },
    "tags": []
   },
   "source": [
    "**Note:** \n",
    "- The most important field of the tile is its `path` on an s3 bucket. For example, if your band files are stored in `s3://bucket-name/folder/`, then set `folder` as the tile path. In this case, the band names will equal the file names. For example, the band B1 corresponds to the file `s3://bucket-name/folder/B1.tiff`. If your file names have something other than just the band name, such as a prefix, this is fine as long as the prefix is the same for all files. In this case, the path needs to include this prefix and also the band placeholder: `(BAND)`. Adding the extension is optional. For example, this is what would happen if you would use the following path `folder/tile_1_(BAND)_2019.tiff` for the following files:\n",
    "  - `s3://bucket-name/folder/tile_1_B1_2019.tiff` - the file would be used, the band name would be B1\n",
    "  - `s3://bucket-name/folder/tile_1_B2_2019.tiff` - the file would be used, the band name would be B2\n",
    "  - `s3://bucket-name/folder/tile_2_B1_2019.tiff` - the file would not be used\n",
    "  - `s3://bucket-name/folder/tile_2_B2_2019.tiff` - the file would not be used\n",
    "- `ByocTile` takes `sensing_time` as optional parameters, but setting the `sensing_time` is highly recommended since it makes the collection “temporal” and help you search for the data with Sentinel Hub services. \n",
    "- `tile_geometry` is optional as it is the bounding box of the tile and will be read from COG file. \n",
    "- `cover_geometry` is the geometry of where the data (within the bounding box) is and can be useful for optimized search as an optional parameter. For a good explanation of the `coverGeometry` please see [docs](https://docs.sentinel-hub.com/api/latest/data/byoc/#a-note-about-cover-geometries). "
   ]
  },
  {
   "cell_type": "markdown",
   "id": "9a271beb-07a1-4355-b5ad-aecba880d173",
   "metadata": {
    "papermill": {
     "duration": 0.072192,
     "end_time": "2022-06-28T08:12:44.423358",
     "exception": false,
     "start_time": "2022-06-28T08:12:44.351166",
     "status": "completed"
    },
    "tags": []
   },
   "source": [
    "Let's [create a new collection](#Create-new-collection) for these tiles."
   ]
  },
  {
   "cell_type": "code",
   "execution_count": 23,
   "id": "1b928126-23e8-482f-846d-703064933dff",
   "metadata": {
    "execution": {
     "iopub.execute_input": "2022-06-28T08:12:44.571384Z",
     "iopub.status.busy": "2022-06-28T08:12:44.570698Z",
     "iopub.status.idle": "2022-06-28T08:12:44.698328Z",
     "shell.execute_reply": "2022-06-28T08:12:44.697657Z"
    },
    "papermill": {
     "duration": 0.203503,
     "end_time": "2022-06-28T08:12:44.700392",
     "exception": false,
     "start_time": "2022-06-28T08:12:44.496889",
     "status": "completed"
    },
    "tags": []
   },
   "outputs": [],
   "source": [
    "new_collection = ByocCollection(name='byoc-s2l2a-120m-mosaic', s3_bucket='sentinel-s2-l2a-mosaic-120')\n",
    "created_collection = byoc.create_collection(new_collection)"
   ]
  },
  {
   "cell_type": "code",
   "execution_count": 24,
   "id": "08cca359-f7c1-4377-9afd-aaefb13677e1",
   "metadata": {
    "execution": {
     "iopub.execute_input": "2022-06-28T08:12:44.845627Z",
     "iopub.status.busy": "2022-06-28T08:12:44.845041Z",
     "iopub.status.idle": "2022-06-28T08:12:44.897292Z",
     "shell.execute_reply": "2022-06-28T08:12:44.896624Z"
    },
    "papermill": {
     "duration": 0.126843,
     "end_time": "2022-06-28T08:12:44.899294",
     "exception": false,
     "start_time": "2022-06-28T08:12:44.772451",
     "status": "completed"
    },
    "tags": []
   },
   "outputs": [],
   "source": [
    "created_tile = byoc.create_tile(created_collection, new_tile)"
   ]
  },
  {
   "cell_type": "markdown",
   "id": "596237d3-363b-4652-941e-4ca66fbb86b6",
   "metadata": {
    "papermill": {
     "duration": 0.072519,
     "end_time": "2022-06-28T08:12:45.043776",
     "exception": false,
     "start_time": "2022-06-28T08:12:44.971257",
     "status": "completed"
    },
    "tags": []
   },
   "source": [
    "The response from `byoc.create_tile` has a valid `id`, and its `status` is set to `WAITING`. Checking the tile `status` after a while (by [requesting this tile](#Get-tiles-from-your-collection)) will tell you if it has been `INGESTED` or if the ingestion procedure `FAILED`. In case of failure, additional information (with the cause of failure) will be available in the tile `additional_data`."
   ]
  },
  {
   "cell_type": "code",
   "execution_count": 25,
   "id": "b0518c6f-f0ab-4dbc-8f20-0ae7e416aece",
   "metadata": {
    "execution": {
     "iopub.execute_input": "2022-06-28T08:12:45.194013Z",
     "iopub.status.busy": "2022-06-28T08:12:45.193405Z",
     "iopub.status.idle": "2022-06-28T08:12:45.198796Z",
     "shell.execute_reply": "2022-06-28T08:12:45.198072Z"
    },
    "papermill": {
     "duration": 0.081572,
     "end_time": "2022-06-28T08:12:45.200912",
     "exception": false,
     "start_time": "2022-06-28T08:12:45.119340",
     "status": "completed"
    },
    "tags": []
   },
   "outputs": [
    {
     "data": {
      "text/plain": [
       "{'id': 'a5037127-e602-41ef-afad-a5dc90ad0484',\n",
       " 'created': '2022-06-28T08:12:44.869462Z',\n",
       " 'sensingTime': '2019-11-27T00:00:00Z',\n",
       " 'path': '2019/11/27/28V/(BAND).tif',\n",
       " 'status': 'WAITING'}"
      ]
     },
     "execution_count": 25,
     "metadata": {},
     "output_type": "execute_result"
    }
   ],
   "source": [
    "created_tile"
   ]
  },
  {
   "cell_type": "markdown",
   "id": "9654cb0a-97d2-41e3-9331-125abef7dccd",
   "metadata": {
    "papermill": {
     "duration": 0.071169,
     "end_time": "2022-06-28T08:12:45.349837",
     "exception": false,
     "start_time": "2022-06-28T08:12:45.278668",
     "status": "completed"
    },
    "tags": []
   },
   "source": [
    "### Add multiple tiles to a single collection\n",
    "A data collection can for sure contain multiple tiles. It is important to know that adding multiple tiles will work only if these tiles have the same bands. Let's add more tiles from the [Sentinel-2 L2A 120m Mosaic](https://registry.opendata.aws/sentinel-s2-l2a-mosaic-120/) listed on the open data registry on AWS to the collection.\n",
    "\n",
    "We first define a function to get a list of paths for each tile:"
   ]
  },
  {
   "cell_type": "code",
   "execution_count": 26,
   "id": "8c08703e-27d1-4367-a11a-8238bd20f8e8",
   "metadata": {
    "execution": {
     "iopub.execute_input": "2022-06-28T08:12:45.499421Z",
     "iopub.status.busy": "2022-06-28T08:12:45.498795Z",
     "iopub.status.idle": "2022-06-28T08:12:45.506429Z",
     "shell.execute_reply": "2022-06-28T08:12:45.505764Z"
    },
    "papermill": {
     "duration": 0.08237,
     "end_time": "2022-06-28T08:12:45.508025",
     "exception": false,
     "start_time": "2022-06-28T08:12:45.425655",
     "status": "completed"
    },
    "tags": []
   },
   "outputs": [],
   "source": [
    "def list_objects_path(bucket, aws_access_key_id, aws_secret_access_key, y=None, m=None, d=None):\n",
    "    tiles_path = []\n",
    "    client = boto3.client('s3', aws_access_key_id=aws_access_key_id, aws_secret_access_key=aws_secret_access_key)\n",
    "    result = client.list_objects(Bucket=bucket, Delimiter='/')\n",
    "    for year in result.get('CommonPrefixes')[:y]:\n",
    "        year_result = client.list_objects(Bucket=bucket, Delimiter='/', Prefix=year.get('Prefix'))\n",
    "        for month in year_result.get('CommonPrefixes')[:m]:\n",
    "            month_result = client.list_objects(Bucket=bucket, Delimiter='/', Prefix=month.get('Prefix'))\n",
    "            for day in month_result.get('CommonPrefixes')[:d]:\n",
    "                day_result = client.list_objects(Bucket=bucket, Delimiter='/', Prefix=day.get('Prefix'))\n",
    "                for tile in day_result.get('CommonPrefixes'):\n",
    "                    tiles_path.append(tile.get('Prefix'))\n",
    "    return tiles_path"
   ]
  },
  {
   "cell_type": "markdown",
   "id": "22c5ecd7-6ce3-4079-9419-58de1e7d6984",
   "metadata": {
    "papermill": {
     "duration": 0.073639,
     "end_time": "2022-06-28T08:12:45.661208",
     "exception": false,
     "start_time": "2022-06-28T08:12:45.587569",
     "status": "completed"
    },
    "tags": []
   },
   "source": [
    "Next we obtain a list of paths for tiles available on `s3://sentinel-s2-l2a-mosaic-120/2019/1/1/`."
   ]
  },
  {
   "cell_type": "markdown",
   "id": "6f30e420",
   "metadata": {
    "tags": [
     "papermill-error-cell-tag"
    ]
   },
   "source": [
    "<span id=\"papermill-error-cell\" style=\"color:red; font-family:Helvetica Neue, Helvetica, Arial, sans-serif; font-size:2em;\">Execution using papermill encountered an exception here and stopped:</span>"
   ]
  },
  {
   "cell_type": "code",
   "execution_count": 27,
   "id": "e8aaf9a6-6850-4d04-a13f-574292c8609e",
   "metadata": {
    "execution": {
     "iopub.execute_input": "2022-06-28T08:12:45.812411Z",
     "iopub.status.busy": "2022-06-28T08:12:45.811708Z",
     "iopub.status.idle": "2022-06-28T08:12:46.788190Z",
     "shell.execute_reply": "2022-06-28T08:12:46.787271Z"
    },
    "papermill": {
     "duration": 1.052711,
     "end_time": "2022-06-28T08:12:46.789655",
     "exception": true,
     "start_time": "2022-06-28T08:12:45.736944",
     "status": "failed"
    },
    "tags": []
   },
   "outputs": [
    {
     "ename": "ClientError",
     "evalue": "An error occurred (InvalidAccessKeyId) when calling the ListObjects operation: The AWS Access Key Id you provided does not exist in our records.",
     "output_type": "error",
     "traceback": [
      "\u001b[0;31m---------------------------------------------------------------------------\u001b[0m",
      "\u001b[0;31mClientError\u001b[0m                               Traceback (most recent call last)",
      "Input \u001b[0;32mIn [27]\u001b[0m, in \u001b[0;36m<module>\u001b[0;34m\u001b[0m\n\u001b[0;32m----> 1\u001b[0m tiles_path \u001b[38;5;241m=\u001b[39m \u001b[43mlist_objects_path\u001b[49m\u001b[43m(\u001b[49m\u001b[38;5;124;43m'\u001b[39;49m\u001b[38;5;124;43msentinel-s2-l2a-mosaic-120\u001b[39;49m\u001b[38;5;124;43m'\u001b[39;49m\u001b[43m,\u001b[49m\u001b[43m \u001b[49m\u001b[43mconfig\u001b[49m\u001b[38;5;241;43m.\u001b[39;49m\u001b[43maws_access_key_id\u001b[49m\u001b[43m,\u001b[49m\u001b[43m \u001b[49m\u001b[43mconfig\u001b[49m\u001b[38;5;241;43m.\u001b[39;49m\u001b[43maws_secret_access_key\u001b[49m\u001b[43m,\u001b[49m\u001b[43m \u001b[49m\u001b[43my\u001b[49m\u001b[38;5;241;43m=\u001b[39;49m\u001b[38;5;241;43m1\u001b[39;49m\u001b[43m,\u001b[49m\u001b[43m \u001b[49m\u001b[43mm\u001b[49m\u001b[38;5;241;43m=\u001b[39;49m\u001b[38;5;241;43m1\u001b[39;49m\u001b[43m,\u001b[49m\u001b[43m \u001b[49m\u001b[43md\u001b[49m\u001b[38;5;241;43m=\u001b[39;49m\u001b[38;5;241;43m1\u001b[39;49m\u001b[43m)\u001b[49m\n",
      "Input \u001b[0;32mIn [26]\u001b[0m, in \u001b[0;36mlist_objects_path\u001b[0;34m(bucket, aws_access_key_id, aws_secret_access_key, y, m, d)\u001b[0m\n\u001b[1;32m      2\u001b[0m tiles_path \u001b[38;5;241m=\u001b[39m []\n\u001b[1;32m      3\u001b[0m client \u001b[38;5;241m=\u001b[39m boto3\u001b[38;5;241m.\u001b[39mclient(\u001b[38;5;124m'\u001b[39m\u001b[38;5;124ms3\u001b[39m\u001b[38;5;124m'\u001b[39m, aws_access_key_id\u001b[38;5;241m=\u001b[39maws_access_key_id, aws_secret_access_key\u001b[38;5;241m=\u001b[39maws_secret_access_key)\n\u001b[0;32m----> 4\u001b[0m result \u001b[38;5;241m=\u001b[39m \u001b[43mclient\u001b[49m\u001b[38;5;241;43m.\u001b[39;49m\u001b[43mlist_objects\u001b[49m\u001b[43m(\u001b[49m\u001b[43mBucket\u001b[49m\u001b[38;5;241;43m=\u001b[39;49m\u001b[43mbucket\u001b[49m\u001b[43m,\u001b[49m\u001b[43m \u001b[49m\u001b[43mDelimiter\u001b[49m\u001b[38;5;241;43m=\u001b[39;49m\u001b[38;5;124;43m'\u001b[39;49m\u001b[38;5;124;43m/\u001b[39;49m\u001b[38;5;124;43m'\u001b[39;49m\u001b[43m)\u001b[49m\n\u001b[1;32m      5\u001b[0m \u001b[38;5;28;01mfor\u001b[39;00m year \u001b[38;5;129;01min\u001b[39;00m result\u001b[38;5;241m.\u001b[39mget(\u001b[38;5;124m'\u001b[39m\u001b[38;5;124mCommonPrefixes\u001b[39m\u001b[38;5;124m'\u001b[39m)[:y]:\n\u001b[1;32m      6\u001b[0m     year_result \u001b[38;5;241m=\u001b[39m client\u001b[38;5;241m.\u001b[39mlist_objects(Bucket\u001b[38;5;241m=\u001b[39mbucket, Delimiter\u001b[38;5;241m=\u001b[39m\u001b[38;5;124m'\u001b[39m\u001b[38;5;124m/\u001b[39m\u001b[38;5;124m'\u001b[39m, Prefix\u001b[38;5;241m=\u001b[39myear\u001b[38;5;241m.\u001b[39mget(\u001b[38;5;124m'\u001b[39m\u001b[38;5;124mPrefix\u001b[39m\u001b[38;5;124m'\u001b[39m))\n",
      "File \u001b[0;32m/opt/conda/envs/eurodatacube-2022.02/lib/python3.8/site-packages/botocore/client.py:391\u001b[0m, in \u001b[0;36mClientCreator._create_api_method.<locals>._api_call\u001b[0;34m(self, *args, **kwargs)\u001b[0m\n\u001b[1;32m    388\u001b[0m     \u001b[38;5;28;01mraise\u001b[39;00m \u001b[38;5;167;01mTypeError\u001b[39;00m(\n\u001b[1;32m    389\u001b[0m         \u001b[38;5;124m\"\u001b[39m\u001b[38;5;132;01m%s\u001b[39;00m\u001b[38;5;124m() only accepts keyword arguments.\u001b[39m\u001b[38;5;124m\"\u001b[39m \u001b[38;5;241m%\u001b[39m py_operation_name)\n\u001b[1;32m    390\u001b[0m \u001b[38;5;66;03m# The \"self\" in this scope is referring to the BaseClient.\u001b[39;00m\n\u001b[0;32m--> 391\u001b[0m \u001b[38;5;28;01mreturn\u001b[39;00m \u001b[38;5;28;43mself\u001b[39;49m\u001b[38;5;241;43m.\u001b[39;49m\u001b[43m_make_api_call\u001b[49m\u001b[43m(\u001b[49m\u001b[43moperation_name\u001b[49m\u001b[43m,\u001b[49m\u001b[43m \u001b[49m\u001b[43mkwargs\u001b[49m\u001b[43m)\u001b[49m\n",
      "File \u001b[0;32m/opt/conda/envs/eurodatacube-2022.02/lib/python3.8/site-packages/botocore/client.py:719\u001b[0m, in \u001b[0;36mBaseClient._make_api_call\u001b[0;34m(self, operation_name, api_params)\u001b[0m\n\u001b[1;32m    717\u001b[0m     error_code \u001b[38;5;241m=\u001b[39m parsed_response\u001b[38;5;241m.\u001b[39mget(\u001b[38;5;124m\"\u001b[39m\u001b[38;5;124mError\u001b[39m\u001b[38;5;124m\"\u001b[39m, {})\u001b[38;5;241m.\u001b[39mget(\u001b[38;5;124m\"\u001b[39m\u001b[38;5;124mCode\u001b[39m\u001b[38;5;124m\"\u001b[39m)\n\u001b[1;32m    718\u001b[0m     error_class \u001b[38;5;241m=\u001b[39m \u001b[38;5;28mself\u001b[39m\u001b[38;5;241m.\u001b[39mexceptions\u001b[38;5;241m.\u001b[39mfrom_code(error_code)\n\u001b[0;32m--> 719\u001b[0m     \u001b[38;5;28;01mraise\u001b[39;00m error_class(parsed_response, operation_name)\n\u001b[1;32m    720\u001b[0m \u001b[38;5;28;01melse\u001b[39;00m:\n\u001b[1;32m    721\u001b[0m     \u001b[38;5;28;01mreturn\u001b[39;00m parsed_response\n",
      "\u001b[0;31mClientError\u001b[0m: An error occurred (InvalidAccessKeyId) when calling the ListObjects operation: The AWS Access Key Id you provided does not exist in our records."
     ]
    }
   ],
   "source": [
    "tiles_path = list_objects_path('sentinel-s2-l2a-mosaic-120', config.aws_access_key_id, config.aws_secret_access_key, y=1, m=1, d=1)"
   ]
  },
  {
   "cell_type": "markdown",
   "id": "9b9c089e-85d0-4ea0-a343-43957d87fb61",
   "metadata": {
    "papermill": {
     "duration": null,
     "end_time": null,
     "exception": null,
     "start_time": null,
     "status": "pending"
    },
    "tags": []
   },
   "source": [
    "Then we can add tiles to the collection with a `for` loop."
   ]
  },
  {
   "cell_type": "code",
   "execution_count": null,
   "id": "db9a4cab-c83c-4cb4-803d-e498ac3b6a30",
   "metadata": {
    "papermill": {
     "duration": null,
     "end_time": null,
     "exception": null,
     "start_time": null,
     "status": "pending"
    },
    "tags": []
   },
   "outputs": [],
   "source": [
    "for tile in tiles_path:\n",
    "    byoc_tile = ByocTile(path=f'{tile}(BAND).tif', \n",
    "                         sensing_time=dt.datetime(int(tile.split('/')[0]), \n",
    "                                                  int(tile.split('/')[1]), \n",
    "                                                  int(tile.split('/')[2]), \n",
    "                                                  0, \n",
    "                                                  0, \n",
    "                                                  0)\n",
    "                        )\n",
    "    byoc.create_tile(created_collection, byoc_tile)"
   ]
  },
  {
   "cell_type": "markdown",
   "id": "8908630c-12a3-42a2-b3c1-f374bb0beeb6",
   "metadata": {
    "papermill": {
     "duration": null,
     "end_time": null,
     "exception": null,
     "start_time": null,
     "status": "pending"
    },
    "tags": []
   },
   "source": [
    "**Note:** The tile ingesting process could take some time, please wait a few more minutes after the cell has done running before heading to the next step."
   ]
  },
  {
   "cell_type": "markdown",
   "id": "f9f1f345-d474-4ed2-bc11-b19656fd521a",
   "metadata": {
    "papermill": {
     "duration": null,
     "end_time": null,
     "exception": null,
     "start_time": null,
     "status": "pending"
    },
    "tags": []
   },
   "source": [
    "### Get tiles from your collection\n",
    "After `byoc.create_tile` being executed, we can request the tile from the collection where it is ingested. To request one specific tile in the collection, you can do it by passing the collection id and the tile id to the `get_tile` method."
   ]
  },
  {
   "cell_type": "code",
   "execution_count": null,
   "id": "c150ab14-7fc1-493c-a723-c706fbd4b086",
   "metadata": {
    "papermill": {
     "duration": null,
     "end_time": null,
     "exception": null,
     "start_time": null,
     "status": "pending"
    },
    "tags": []
   },
   "outputs": [],
   "source": [
    "tile = byoc.get_tile(collection=created_collection['id'], tile=created_tile['id'])"
   ]
  },
  {
   "cell_type": "code",
   "execution_count": null,
   "id": "c2968326-acb0-47a1-8380-354988638e16",
   "metadata": {
    "papermill": {
     "duration": null,
     "end_time": null,
     "exception": null,
     "start_time": null,
     "status": "pending"
    },
    "tags": []
   },
   "outputs": [],
   "source": [
    "tile"
   ]
  },
  {
   "cell_type": "markdown",
   "id": "4e8c03ae-50fb-4192-8d9a-843c9675482a",
   "metadata": {
    "papermill": {
     "duration": null,
     "end_time": null,
     "exception": null,
     "start_time": null,
     "status": "pending"
    },
    "tags": []
   },
   "source": [
    "You can of course retrieve all tiles into a list."
   ]
  },
  {
   "cell_type": "code",
   "execution_count": null,
   "id": "f7cc85f8-f036-4f17-aed9-e8d24667d604",
   "metadata": {
    "papermill": {
     "duration": null,
     "end_time": null,
     "exception": null,
     "start_time": null,
     "status": "pending"
    },
    "tags": []
   },
   "outputs": [],
   "source": [
    "tiles = list(byoc.iter_tiles(created_collection))"
   ]
  },
  {
   "cell_type": "markdown",
   "id": "8f8da9d5-b75e-429d-a475-132a1628d394",
   "metadata": {
    "papermill": {
     "duration": null,
     "end_time": null,
     "exception": null,
     "start_time": null,
     "status": "pending"
    },
    "tags": []
   },
   "source": [
    "In cases where you have a large collection with a lot of tiles and you would only like to load tile info for a few tiles, the following code using `next()` would be a good option for you:\n",
    "```python\n",
    "tile = next(byoc.iter_tiles(created_collection))\n",
    "```\n",
    "\n",
    "To convert it to ByocTile dataclass using the code below:\n",
    "```python\n",
    "tile = ByocTile.from_dict(next(byoc.iter_tiles(created_collection)))\n",
    "```"
   ]
  },
  {
   "cell_type": "markdown",
   "id": "938c59ad-ed8a-48d0-b8dd-5347b683827d",
   "metadata": {
    "papermill": {
     "duration": null,
     "end_time": null,
     "exception": null,
     "start_time": null,
     "status": "pending"
    },
    "tags": []
   },
   "source": [
    "Let's take a look at the keys of the first dictionary, which contains the info of the first tile, in the returned list."
   ]
  },
  {
   "cell_type": "code",
   "execution_count": null,
   "id": "80a84d4b-94fe-46e9-a37c-d8921bd88adb",
   "metadata": {
    "papermill": {
     "duration": null,
     "end_time": null,
     "exception": null,
     "start_time": null,
     "status": "pending"
    },
    "tags": []
   },
   "outputs": [],
   "source": [
    "list(tiles[0].keys())"
   ]
  },
  {
   "cell_type": "markdown",
   "id": "c663fbb0-b72f-47e4-adf0-4c9d87bd5ca9",
   "metadata": {
    "papermill": {
     "duration": null,
     "end_time": null,
     "exception": null,
     "start_time": null,
     "status": "pending"
    },
    "tags": []
   },
   "source": [
    "To check if there's any tile failed to be ingested, run the code below:"
   ]
  },
  {
   "cell_type": "code",
   "execution_count": null,
   "id": "99863458-b87a-4a2a-845f-68c4f6fe34e0",
   "metadata": {
    "papermill": {
     "duration": null,
     "end_time": null,
     "exception": null,
     "start_time": null,
     "status": "pending"
    },
    "tags": []
   },
   "outputs": [],
   "source": [
    "tiles_failed_to_be_ingested = [x['path'] for x in tiles if x['status']=='FAILED']\n",
    "tiles_failed_to_be_ingested"
   ]
  },
  {
   "cell_type": "markdown",
   "id": "71a60d6d-b1b5-4272-a11c-1a0a5545ccfa",
   "metadata": {
    "papermill": {
     "duration": null,
     "end_time": null,
     "exception": null,
     "start_time": null,
     "status": "pending"
    },
    "tags": []
   },
   "source": [
    "### Visualize the tiles in your collection\n",
    "Using `ByocTile` dataclass, which will properly parse tile geometries, date-time strings, etc., one can create a `geopandas.GeoDataFrame`.\n",
    "\n",
    "**Note:** the geometries can be in different coordinate reference systems, so a transform to a common CRS might be needed."
   ]
  },
  {
   "cell_type": "code",
   "execution_count": null,
   "id": "6f855f50-d592-45a2-8ea8-97b55bb00847",
   "metadata": {
    "papermill": {
     "duration": null,
     "end_time": null,
     "exception": null,
     "start_time": null,
     "status": "pending"
    },
    "tags": []
   },
   "outputs": [],
   "source": [
    "tile_iterator = byoc.iter_tiles(created_collection)"
   ]
  },
  {
   "cell_type": "code",
   "execution_count": null,
   "id": "44835391-56a9-49f4-824d-ecc804350220",
   "metadata": {
    "papermill": {
     "duration": null,
     "end_time": null,
     "exception": null,
     "start_time": null,
     "status": "pending"
    },
    "tags": []
   },
   "outputs": [],
   "source": [
    "tiles_for_visualized = []\n",
    "for i in range(100):\n",
    "    tiles_for_visualized.append(ByocTile.from_dict(next(tile_iterator)))\n",
    "\n",
    "tiles_gdf = gpd.GeoDataFrame(tiles_for_visualized, geometry=[t.cover_geometry.transform(CRS.WGS84).geometry for t in tiles_for_visualized], crs='epsg:4326')\n",
    "tiles_gdf.head()"
   ]
  },
  {
   "cell_type": "code",
   "execution_count": null,
   "id": "91f643c1-6df6-4826-800c-1a698380020a",
   "metadata": {
    "papermill": {
     "duration": null,
     "end_time": null,
     "exception": null,
     "start_time": null,
     "status": "pending"
    },
    "tags": []
   },
   "outputs": [],
   "source": [
    "fig, ax = plt.subplots(figsize=(17,8))\n",
    "tiles_gdf.plot(ax=ax);"
   ]
  },
  {
   "cell_type": "markdown",
   "id": "9627ff4f-f53a-4cac-8855-0783669d1252",
   "metadata": {
    "papermill": {
     "duration": null,
     "end_time": null,
     "exception": null,
     "start_time": null,
     "status": "pending"
    },
    "tags": []
   },
   "source": [
    "In the above example, the ingested tiles are 100 tiles from the pull out from the [Sentinel-2 L2A 120m Mosaic](https://registry.opendata.aws/sentinel-s2-l2a-mosaic-120/) which contains 19869 tiles around the globe, hence the tiles are so sparse in the image above."
   ]
  },
  {
   "cell_type": "markdown",
   "id": "f70c03b0-6b60-4192-92bd-4dac169ced2a",
   "metadata": {
    "papermill": {
     "duration": null,
     "end_time": null,
     "exception": null,
     "start_time": null,
     "status": "pending"
    },
    "tags": []
   },
   "source": [
    "### Updating and deleting a tile"
   ]
  },
  {
   "cell_type": "markdown",
   "id": "6aa7e542-82aa-45eb-8ade-2ea0b0434a53",
   "metadata": {
    "papermill": {
     "duration": null,
     "end_time": null,
     "exception": null,
     "start_time": null,
     "status": "pending"
    },
    "tags": []
   },
   "source": [
    "Updating and deleting a tile follow the same logic as updating/deleting a collection:\n",
    "- To updatea tile:"
   ]
  },
  {
   "cell_type": "code",
   "execution_count": null,
   "id": "b1522315-1960-4466-bb51-2e0335b4dcc1",
   "metadata": {
    "papermill": {
     "duration": null,
     "end_time": null,
     "exception": null,
     "start_time": null,
     "status": "pending"
    },
    "tags": []
   },
   "outputs": [],
   "source": [
    "tile_to_be_updated = byoc.get_tile(collection=created_collection['id'], tile=created_tile['id'])\n",
    "tile_to_be_updated['sensingTime'] = '2021-06-29T18:02:34'\n",
    "byoc.update_tile(created_collection, tile_to_be_updated)"
   ]
  },
  {
   "cell_type": "markdown",
   "id": "e72dfbfb-a958-46c9-8a65-caec11086ded",
   "metadata": {
    "papermill": {
     "duration": null,
     "end_time": null,
     "exception": null,
     "start_time": null,
     "status": "pending"
    },
    "tags": []
   },
   "source": [
    "After updating we can see that the `sensingTime` has been changed."
   ]
  },
  {
   "cell_type": "code",
   "execution_count": null,
   "id": "4a26b268-8104-4cfd-b992-dc3f176a1bfd",
   "metadata": {
    "papermill": {
     "duration": null,
     "end_time": null,
     "exception": null,
     "start_time": null,
     "status": "pending"
    },
    "tags": []
   },
   "outputs": [],
   "source": [
    "byoc.get_tile(collection=created_collection['id'], tile=created_tile['id'])['sensingTime']"
   ]
  },
  {
   "cell_type": "markdown",
   "id": "10a64850-49e3-4fb3-afdf-348502cadf73",
   "metadata": {
    "papermill": {
     "duration": null,
     "end_time": null,
     "exception": null,
     "start_time": null,
     "status": "pending"
    },
    "tags": []
   },
   "source": [
    "- To delete a tile:"
   ]
  },
  {
   "cell_type": "code",
   "execution_count": null,
   "id": "3eb48b4e-2e99-4992-ae3a-4e1839e740c3",
   "metadata": {
    "papermill": {
     "duration": null,
     "end_time": null,
     "exception": null,
     "start_time": null,
     "status": "pending"
    },
    "tags": []
   },
   "outputs": [],
   "source": [
    "tile_to_be_deleted = byoc.get_tile(collection=created_collection['id'], tile=created_tile['id'])\n",
    "byoc.delete_tile(created_collection, tile_to_be_deleted)"
   ]
  },
  {
   "cell_type": "markdown",
   "id": "003d6c75-42cc-4489-a1b2-d2e892a8e325",
   "metadata": {
    "papermill": {
     "duration": null,
     "end_time": null,
     "exception": null,
     "start_time": null,
     "status": "pending"
    },
    "tags": []
   },
   "source": [
    "Now the tile is gone forever."
   ]
  },
  {
   "cell_type": "code",
   "execution_count": null,
   "id": "383961a4-80c6-4add-97f3-a7cf32768562",
   "metadata": {
    "papermill": {
     "duration": null,
     "end_time": null,
     "exception": null,
     "start_time": null,
     "status": "pending"
    },
    "tags": []
   },
   "outputs": [],
   "source": [
    "tiles = list(byoc.iter_tiles(created_collection))\n",
    "[x for x in tiles if x['id']==created_tile['id']]"
   ]
  },
  {
   "cell_type": "markdown",
   "id": "a481983f-e1a1-4711-aad8-2a64ab9890cc",
   "metadata": {
    "papermill": {
     "duration": null,
     "end_time": null,
     "exception": null,
     "start_time": null,
     "status": "pending"
    },
    "tags": []
   },
   "source": [
    "## Retrieve data from collection\n",
    "Once we have a collection created and its tiles ingested, we can retrieve the data from said collection.\n",
    "We will be using ProcessAPI for this."
   ]
  },
  {
   "cell_type": "code",
   "execution_count": null,
   "id": "98e63e80-7dd4-4f37-a647-a82a9acd993b",
   "metadata": {
    "papermill": {
     "duration": null,
     "end_time": null,
     "exception": null,
     "start_time": null,
     "status": "pending"
    },
    "tags": []
   },
   "outputs": [],
   "source": [
    "data_collection = DataCollection.define_byoc(created_collection['id'])"
   ]
  },
  {
   "cell_type": "markdown",
   "id": "c63024c2-d26c-47bf-9d27-c438710b7e65",
   "metadata": {
    "papermill": {
     "duration": null,
     "end_time": null,
     "exception": null,
     "start_time": null,
     "status": "pending"
    },
    "tags": []
   },
   "source": [
    "Alternatively using dataclasee:\n",
    "```python\n",
    "data_collection = my_collection_dataclass.to_data_collection()\n",
    "```"
   ]
  },
  {
   "cell_type": "code",
   "execution_count": null,
   "id": "57a4f311-6ca7-4f5c-b054-66309a9682d6",
   "metadata": {
    "papermill": {
     "duration": null,
     "end_time": null,
     "exception": null,
     "start_time": null,
     "status": "pending"
    },
    "tags": []
   },
   "outputs": [],
   "source": [
    "tile_time = dt.datetime.fromisoformat(tiles[0]['sensingTime'].split(\"T\")[0])"
   ]
  },
  {
   "cell_type": "markdown",
   "id": "b7b58bd1-8b10-4df0-aef6-ecaf46b12a86",
   "metadata": {
    "papermill": {
     "duration": null,
     "end_time": null,
     "exception": null,
     "start_time": null,
     "status": "pending"
    },
    "tags": []
   },
   "source": [
    "If using dataclass run:\n",
    "```python\n",
    "tile_time = tile_dataclass.sensing_time\n",
    "```"
   ]
  },
  {
   "cell_type": "code",
   "execution_count": null,
   "id": "29863d38-32dd-47d6-83bc-33caad1fa372",
   "metadata": {
    "papermill": {
     "duration": null,
     "end_time": null,
     "exception": null,
     "start_time": null,
     "status": "pending"
    },
    "tags": []
   },
   "outputs": [],
   "source": [
    "tiles[0]['sensingTime']"
   ]
  },
  {
   "cell_type": "markdown",
   "id": "2d378a68-6e4b-40ae-b6f4-759d0597bdd0",
   "metadata": {
    "papermill": {
     "duration": null,
     "end_time": null,
     "exception": null,
     "start_time": null,
     "status": "pending"
    },
    "tags": []
   },
   "source": [
    "Below we're going to request a false color image of Caspian Sea."
   ]
  },
  {
   "cell_type": "code",
   "execution_count": null,
   "id": "5e932742-a7b5-48a8-b21d-49e11a79816d",
   "metadata": {
    "papermill": {
     "duration": null,
     "end_time": null,
     "exception": null,
     "start_time": null,
     "status": "pending"
    },
    "tags": []
   },
   "outputs": [],
   "source": [
    "caspian_sea_bbox = BBox([49.9604, 44.7176, 51.0481, 45.2324], crs=CRS.WGS84)"
   ]
  },
  {
   "cell_type": "code",
   "execution_count": null,
   "id": "8d14d885-7145-4ee2-b0bd-7635c7460fa8",
   "metadata": {
    "papermill": {
     "duration": null,
     "end_time": null,
     "exception": null,
     "start_time": null,
     "status": "pending"
    },
    "tags": []
   },
   "outputs": [],
   "source": [
    "false_color_evalscript = \"\"\"\n",
    "//VERSION=3\n",
    "function setup() {\n",
    "  return {\n",
    "    input: [\"B08\",\"B04\",\"B03\", \"dataMask\"],\n",
    "    output: { bands: 4 },\n",
    "  };\n",
    "}\n",
    "\n",
    "var f = 2.5/10000;\n",
    "function evaluatePixel(sample) {\n",
    "  return [f*sample.B08, f*sample.B04, f*sample.B03, sample.dataMask];\n",
    "}\n",
    "\"\"\"\n",
    "\n",
    "request = SentinelHubRequest(\n",
    "        evalscript=false_color_evalscript,\n",
    "        input_data=[\n",
    "            SentinelHubRequest.input_data(\n",
    "                data_collection=data_collection,\n",
    "                time_interval=tile_time\n",
    "            )\n",
    "        ],\n",
    "        responses=[\n",
    "            SentinelHubRequest.output_response('default', MimeType.PNG)\n",
    "        ],\n",
    "        bbox=caspian_sea_bbox,\n",
    "        size=bbox_to_dimensions(caspian_sea_bbox, 100),\n",
    "        config=config\n",
    "    )"
   ]
  },
  {
   "cell_type": "code",
   "execution_count": null,
   "id": "fe7e12e7-a10b-4f3a-a1d1-a53daeb5e59f",
   "metadata": {
    "papermill": {
     "duration": null,
     "end_time": null,
     "exception": null,
     "start_time": null,
     "status": "pending"
    },
    "tags": []
   },
   "outputs": [],
   "source": [
    "data = request.get_data()[0]"
   ]
  },
  {
   "cell_type": "code",
   "execution_count": null,
   "id": "d8d57e05-5d3d-40bd-9953-64858d998732",
   "metadata": {
    "papermill": {
     "duration": null,
     "end_time": null,
     "exception": null,
     "start_time": null,
     "status": "pending"
    },
    "tags": []
   },
   "outputs": [],
   "source": [
    "fig, ax = plt.subplots(figsize=(15, 10))\n",
    "\n",
    "ax.imshow(data)\n",
    "ax.set_title(tile_time.date().isoformat(), fontsize=10)\n",
    "\n",
    "plt.tight_layout()"
   ]
  },
  {
   "cell_type": "code",
   "execution_count": null,
   "id": "821059dd-c1fa-40ec-b28c-3d958bc2a4b7",
   "metadata": {
    "papermill": {
     "duration": null,
     "end_time": null,
     "exception": null,
     "start_time": null,
     "status": "pending"
    },
    "tags": []
   },
   "outputs": [],
   "source": []
  }
 ],
 "metadata": {
  "kernelspec": {
   "display_name": "EDC 2022.02 (Python3)",
   "language": "python",
   "name": "edc"
  },
  "language_info": {
   "codemirror_mode": {
    "name": "ipython",
    "version": 3
   },
   "file_extension": ".py",
   "mimetype": "text/x-python",
   "name": "python",
   "nbconvert_exporter": "python",
   "pygments_lexer": "ipython3",
   "version": "3.8.12"
  },
  "papermill": {
   "default_parameters": {},
   "duration": 14.452439,
   "end_time": "2022-06-28T08:12:47.383400",
   "environment_variables": {},
   "exception": true,
   "input_path": "/tmp/tmp77fp7u9s",
   "output_path": "/tmp/notebook_output.ipynb",
   "parameters": {},
   "start_time": "2022-06-28T08:12:32.930961",
   "version": "2.3.4"
  },
  "properties": {
   "authors": [
    {
     "id": "84ffd9e5-7b17-4608-8346-5f29f1ce711f",
     "name": "chung.horng@sinergise.com"
    }
   ],
   "description": "A BYOC tutorial using Sentinel Hub Python package",
   "id": "95a4fc78-bc7e-4dc8-b4f2-fdc1f8559a03",
   "license": null,
   "name": "How to bring your own data to EDC: Using Sentinel Hub Python package",
   "requirements": [
    "eurodatacube",
    "eoxhub"
   ],
   "tags": [
    "Jupyter",
    "On-the-fly",
    "Sentinel Hub",
    "Sentinel Data",
    "EO Data"
   ],
   "tosAgree": true,
   "type": "Jupyter Notebook",
   "version": "0.0.2"
  }
 },
 "nbformat": 4,
 "nbformat_minor": 5
}