{
 "cells": [
  {
   "cell_type": "markdown",
   "metadata": {},
   "source": [
    "<span style=\"color:red; font-family:Helvetica Neue, Helvetica, Arial, sans-serif; font-size:2em;\">An Exception was encountered at 'In [6]'.</span>"
   ]
  },
  {
   "cell_type": "code",
   "execution_count": 1,
   "metadata": {
    "execution": {
     "iopub.execute_input": "2020-05-29T20:48:28.283419Z",
     "iopub.status.busy": "2020-05-29T20:48:28.282586Z",
     "iopub.status.idle": "2020-05-29T20:48:28.397130Z",
     "shell.execute_reply": "2020-05-29T20:48:28.397640Z"
    },
    "papermill": {
     "duration": 0.13186,
     "end_time": "2020-05-29T20:48:28.397810",
     "exception": false,
     "start_time": "2020-05-29T20:48:28.265950",
     "status": "completed"
    },
    "tags": []
   },
   "outputs": [
    {
     "data": {
      "text/markdown": [
       "API credentials have automatically been injected for your active subscriptions.  \n",
       "The following environment variables are now available:\n",
       "* `SH_INSTANCE_ID`\n",
       "* `SH_CLIENT_ID`\n",
       "* `SH_CLIENT_SECRET`\n",
       "* `SH_CLIENT_NAME`\n",
       "\n",
       "------\n"
      ],
      "text/plain": [
       "<IPython.core.display.Markdown object>"
      ]
     },
     "metadata": {},
     "output_type": "display_data"
    }
   ],
   "source": [
    "from edc import setup_environment_variables\n",
    "setup_environment_variables()"
   ]
  },
  {
   "cell_type": "code",
   "execution_count": 2,
   "metadata": {
    "execution": {
     "iopub.execute_input": "2020-05-29T20:48:28.424592Z",
     "iopub.status.busy": "2020-05-29T20:48:28.423653Z",
     "iopub.status.idle": "2020-05-29T20:48:28.426473Z",
     "shell.execute_reply": "2020-05-29T20:48:28.426935Z"
    },
    "papermill": {
     "duration": 0.018304,
     "end_time": "2020-05-29T20:48:28.427066",
     "exception": false,
     "start_time": "2020-05-29T20:48:28.408762",
     "status": "completed"
    },
    "tags": []
   },
   "outputs": [
    {
     "name": "stdout",
     "output_type": "stream",
     "text": [
      "Notebook is compatible\n"
     ]
    }
   ],
   "source": [
    "from edc import check_compatibility\n",
    "check_compatibility(\"v0.18.4\")"
   ]
  },
  {
   "cell_type": "markdown",
   "metadata": {
    "papermill": {
     "duration": 0.010556,
     "end_time": "2020-05-29T20:48:28.448102",
     "exception": false,
     "start_time": "2020-05-29T20:48:28.437546",
     "status": "completed"
    },
    "tags": []
   },
   "source": [
    "# Impact of Covid19 induced lockdown on NO2 levels \n",
    "\n"
   ]
  },
  {
   "cell_type": "markdown",
   "metadata": {
    "papermill": {
     "duration": 0.010806,
     "end_time": "2020-05-29T20:48:28.469344",
     "exception": false,
     "start_time": "2020-05-29T20:48:28.458538",
     "status": "completed"
    },
    "tags": []
   },
   "source": [
    "## Load required dependencies & credentials"
   ]
  },
  {
   "cell_type": "code",
   "execution_count": 3,
   "metadata": {
    "execution": {
     "iopub.execute_input": "2020-05-29T20:48:28.496945Z",
     "iopub.status.busy": "2020-05-29T20:48:28.496043Z",
     "iopub.status.idle": "2020-05-29T20:48:30.193206Z",
     "shell.execute_reply": "2020-05-29T20:48:30.192160Z"
    },
    "papermill": {
     "duration": 1.713631,
     "end_time": "2020-05-29T20:48:30.193381",
     "exception": false,
     "start_time": "2020-05-29T20:48:28.479750",
     "status": "completed"
    },
    "tags": []
   },
   "outputs": [],
   "source": [
    "# Import required packages\n",
    "\n",
    "from xcube_sh.config import CubeConfig\n",
    "from xcube_sh.cube import open_cube\n",
    "from xcube_sh.sentinelhub import SentinelHub\n",
    "import xarray as xr\n",
    "\n",
    "from sentinelhub import BBox, WmsRequest, DataSource, SHConfig\n",
    "from functools import partial\n",
    "\n",
    "import os\n",
    "import numpy as np\n",
    "import pandas as pd\n",
    "\n",
    "from matplotlib import pyplot as plt\n"
   ]
  },
  {
   "cell_type": "code",
   "execution_count": 4,
   "metadata": {
    "execution": {
     "iopub.execute_input": "2020-05-29T20:48:30.224011Z",
     "iopub.status.busy": "2020-05-29T20:48:30.222913Z",
     "iopub.status.idle": "2020-05-29T20:48:30.225044Z",
     "shell.execute_reply": "2020-05-29T20:48:30.225665Z"
    },
    "papermill": {
     "duration": 0.019611,
     "end_time": "2020-05-29T20:48:30.225840",
     "exception": false,
     "start_time": "2020-05-29T20:48:30.206229",
     "status": "completed"
    },
    "tags": []
   },
   "outputs": [],
   "source": [
    "# Set Sentinel Hub credentials\n",
    "\n",
    "sh_credentials = dict(client_id='<your Oauth client id>',\n",
    "                      client_secret='<client secret >') # This is only provided when the Oauth credentials are created\n",
    "\n",
    "# Sentinel-3 OLCI, Sentinel-3 SLSTR and Sentinel-5 layers are processed on different infrastructure, \n",
    "# which requires to used different end-point\n",
    "\n",
    "sh_credentials.update(api_url='https://creodias.sentinel-hub.com/api/v1') "
   ]
  },
  {
   "cell_type": "markdown",
   "metadata": {
    "papermill": {
     "duration": 0.011387,
     "end_time": "2020-05-29T20:48:30.250227",
     "exception": false,
     "start_time": "2020-05-29T20:48:30.238840",
     "status": "completed"
    },
    "tags": []
   },
   "source": [
    "## Core function to calculate NO2 values\n",
    "\n",
    "NO2 values are calculated over the given period (Jan -May) for 2020 & 2019"
   ]
  },
  {
   "cell_type": "code",
   "execution_count": 5,
   "metadata": {
    "execution": {
     "iopub.execute_input": "2020-05-29T20:48:30.285188Z",
     "iopub.status.busy": "2020-05-29T20:48:30.284217Z",
     "iopub.status.idle": "2020-05-29T20:48:30.286922Z",
     "shell.execute_reply": "2020-05-29T20:48:30.286295Z"
    },
    "papermill": {
     "duration": 0.025881,
     "end_time": "2020-05-29T20:48:30.287049",
     "exception": false,
     "start_time": "2020-05-29T20:48:30.261168",
     "status": "completed"
    },
    "tags": []
   },
   "outputs": [],
   "source": [
    "def caculateNO2(geometry, year):\n",
    "    \"\"\"\n",
    "    parameters:\n",
    "    geometry: BBox object to be passed. This contains the bounding box for the area of interest (AOI)\n",
    "    year: string object with the year for which we are calculating the data YYYY\n",
    "    \n",
    "    return:\n",
    "    a dataframe with two columns: Mean NO2 and Timestamp\n",
    "    NO2 mean values for the time span between Jan 01 to May 29th of the given ''year''\n",
    "    \n",
    "    \"\"\"\n",
    "    cube_config = CubeConfig(dataset_name='S5PL2',\n",
    "                         band_names=['NO2'],\n",
    "                         tile_size=[512, 512],\n",
    "                         geometry=geometry,\n",
    "                         spatial_res=abs(bbox[2]-bbox[0])/512,\n",
    "                         time_range=[year+'-01-01', year+'-05-29'],\n",
    "                         time_period='3D') \n",
    "    cube = open_cube(cube_config, **sh_credentials)\n",
    "\n",
    "    no2_values = list() \n",
    "    timestamp = list()\n",
    "\n",
    "    for i in range(cube.time.shape[0]):\n",
    "        no2_values.append(np.nanmean(cube.NO2.isel(time=i).values[0]))\n",
    "        timestamp.append(cube.NO2.isel(time=i).time.values)\n",
    "        \n",
    "    assert len(no2_values) == len(timestamp)\n",
    "    \n",
    "    return pd.DataFrame({'DateTime': timestamp, 'Mean NO2': no2_values})"
   ]
  },
  {
   "cell_type": "markdown",
   "metadata": {
    "papermill": {
     "duration": 0.011157,
     "end_time": "2020-05-29T20:48:30.309050",
     "exception": false,
     "start_time": "2020-05-29T20:48:30.297893",
     "status": "completed"
    },
    "tags": []
   },
   "source": [
    "## Read area of interest as a csv file\n",
    "The file has the following columns:\n",
    "Country: Name of country/territory of interest\n",
    "x1, y1 : Upper left corner co-ordinates (lat/lon)\n",
    "x2, y2 : Lower right corner co-ordinates\n"
   ]
  },
  {
   "cell_type": "code",
   "execution_count": 6,
   "metadata": {
    "execution": {
     "iopub.execute_input": "2020-05-29T20:48:30.335679Z",
     "iopub.status.busy": "2020-05-29T20:48:30.334880Z",
     "iopub.status.idle": "2020-05-29T20:48:30.503897Z",
     "shell.execute_reply": "2020-05-29T20:48:30.502920Z"
    },
    "papermill": {
     "duration": 0.184317,
     "end_time": "2020-05-29T20:48:30.504079",
     "exception": true,
     "start_time": "2020-05-29T20:48:30.319762",
     "status": "failed"
    },
    "tags": []
   },
   "outputs": [
    {
     "ename": "FileNotFoundError",
     "evalue": "[Errno 2] File AOI.csv does not exist: 'AOI.csv'",
     "output_type": "error",
     "traceback": [
      "\u001b[0;31m---------------------------------------------------------------------------\u001b[0m",
      "\u001b[0;31mFileNotFoundError\u001b[0m                         Traceback (most recent call last)",
      "\u001b[0;32m<ipython-input-6-c494b3a94e8f>\u001b[0m in \u001b[0;36m<module>\u001b[0;34m\u001b[0m\n\u001b[0;32m----> 1\u001b[0;31m \u001b[0maoi\u001b[0m \u001b[0;34m=\u001b[0m \u001b[0mpd\u001b[0m\u001b[0;34m.\u001b[0m\u001b[0mread_csv\u001b[0m\u001b[0;34m(\u001b[0m\u001b[0;34m'AOI.csv'\u001b[0m\u001b[0;34m)\u001b[0m\u001b[0;34m\u001b[0m\u001b[0;34m\u001b[0m\u001b[0m\n\u001b[0m\u001b[1;32m      2\u001b[0m \u001b[0mprint\u001b[0m\u001b[0;34m(\u001b[0m\u001b[0maoi\u001b[0m\u001b[0;34m.\u001b[0m\u001b[0mshape\u001b[0m\u001b[0;34m)\u001b[0m\u001b[0;34m\u001b[0m\u001b[0;34m\u001b[0m\u001b[0m\n\u001b[1;32m      3\u001b[0m \u001b[0maoi\u001b[0m\u001b[0;34m.\u001b[0m\u001b[0mhead\u001b[0m\u001b[0;34m(\u001b[0m\u001b[0;36m8\u001b[0m\u001b[0;34m)\u001b[0m\u001b[0;34m\u001b[0m\u001b[0;34m\u001b[0m\u001b[0m\n",
      "\u001b[0;32m/opt/conda/lib/python3.7/site-packages/pandas/io/parsers.py\u001b[0m in \u001b[0;36mparser_f\u001b[0;34m(filepath_or_buffer, sep, delimiter, header, names, index_col, usecols, squeeze, prefix, mangle_dupe_cols, dtype, engine, converters, true_values, false_values, skipinitialspace, skiprows, skipfooter, nrows, na_values, keep_default_na, na_filter, verbose, skip_blank_lines, parse_dates, infer_datetime_format, keep_date_col, date_parser, dayfirst, cache_dates, iterator, chunksize, compression, thousands, decimal, lineterminator, quotechar, quoting, doublequote, escapechar, comment, encoding, dialect, error_bad_lines, warn_bad_lines, delim_whitespace, low_memory, memory_map, float_precision)\u001b[0m\n\u001b[1;32m    674\u001b[0m         )\n\u001b[1;32m    675\u001b[0m \u001b[0;34m\u001b[0m\u001b[0m\n\u001b[0;32m--> 676\u001b[0;31m         \u001b[0;32mreturn\u001b[0m \u001b[0m_read\u001b[0m\u001b[0;34m(\u001b[0m\u001b[0mfilepath_or_buffer\u001b[0m\u001b[0;34m,\u001b[0m \u001b[0mkwds\u001b[0m\u001b[0;34m)\u001b[0m\u001b[0;34m\u001b[0m\u001b[0;34m\u001b[0m\u001b[0m\n\u001b[0m\u001b[1;32m    677\u001b[0m \u001b[0;34m\u001b[0m\u001b[0m\n\u001b[1;32m    678\u001b[0m     \u001b[0mparser_f\u001b[0m\u001b[0;34m.\u001b[0m\u001b[0m__name__\u001b[0m \u001b[0;34m=\u001b[0m \u001b[0mname\u001b[0m\u001b[0;34m\u001b[0m\u001b[0;34m\u001b[0m\u001b[0m\n",
      "\u001b[0;32m/opt/conda/lib/python3.7/site-packages/pandas/io/parsers.py\u001b[0m in \u001b[0;36m_read\u001b[0;34m(filepath_or_buffer, kwds)\u001b[0m\n\u001b[1;32m    446\u001b[0m \u001b[0;34m\u001b[0m\u001b[0m\n\u001b[1;32m    447\u001b[0m     \u001b[0;31m# Create the parser.\u001b[0m\u001b[0;34m\u001b[0m\u001b[0;34m\u001b[0m\u001b[0;34m\u001b[0m\u001b[0m\n\u001b[0;32m--> 448\u001b[0;31m     \u001b[0mparser\u001b[0m \u001b[0;34m=\u001b[0m \u001b[0mTextFileReader\u001b[0m\u001b[0;34m(\u001b[0m\u001b[0mfp_or_buf\u001b[0m\u001b[0;34m,\u001b[0m \u001b[0;34m**\u001b[0m\u001b[0mkwds\u001b[0m\u001b[0;34m)\u001b[0m\u001b[0;34m\u001b[0m\u001b[0;34m\u001b[0m\u001b[0m\n\u001b[0m\u001b[1;32m    449\u001b[0m \u001b[0;34m\u001b[0m\u001b[0m\n\u001b[1;32m    450\u001b[0m     \u001b[0;32mif\u001b[0m \u001b[0mchunksize\u001b[0m \u001b[0;32mor\u001b[0m \u001b[0miterator\u001b[0m\u001b[0;34m:\u001b[0m\u001b[0;34m\u001b[0m\u001b[0;34m\u001b[0m\u001b[0m\n",
      "\u001b[0;32m/opt/conda/lib/python3.7/site-packages/pandas/io/parsers.py\u001b[0m in \u001b[0;36m__init__\u001b[0;34m(self, f, engine, **kwds)\u001b[0m\n\u001b[1;32m    878\u001b[0m             \u001b[0mself\u001b[0m\u001b[0;34m.\u001b[0m\u001b[0moptions\u001b[0m\u001b[0;34m[\u001b[0m\u001b[0;34m\"has_index_names\"\u001b[0m\u001b[0;34m]\u001b[0m \u001b[0;34m=\u001b[0m \u001b[0mkwds\u001b[0m\u001b[0;34m[\u001b[0m\u001b[0;34m\"has_index_names\"\u001b[0m\u001b[0;34m]\u001b[0m\u001b[0;34m\u001b[0m\u001b[0;34m\u001b[0m\u001b[0m\n\u001b[1;32m    879\u001b[0m \u001b[0;34m\u001b[0m\u001b[0m\n\u001b[0;32m--> 880\u001b[0;31m         \u001b[0mself\u001b[0m\u001b[0;34m.\u001b[0m\u001b[0m_make_engine\u001b[0m\u001b[0;34m(\u001b[0m\u001b[0mself\u001b[0m\u001b[0;34m.\u001b[0m\u001b[0mengine\u001b[0m\u001b[0;34m)\u001b[0m\u001b[0;34m\u001b[0m\u001b[0;34m\u001b[0m\u001b[0m\n\u001b[0m\u001b[1;32m    881\u001b[0m \u001b[0;34m\u001b[0m\u001b[0m\n\u001b[1;32m    882\u001b[0m     \u001b[0;32mdef\u001b[0m \u001b[0mclose\u001b[0m\u001b[0;34m(\u001b[0m\u001b[0mself\u001b[0m\u001b[0;34m)\u001b[0m\u001b[0;34m:\u001b[0m\u001b[0;34m\u001b[0m\u001b[0;34m\u001b[0m\u001b[0m\n",
      "\u001b[0;32m/opt/conda/lib/python3.7/site-packages/pandas/io/parsers.py\u001b[0m in \u001b[0;36m_make_engine\u001b[0;34m(self, engine)\u001b[0m\n\u001b[1;32m   1112\u001b[0m     \u001b[0;32mdef\u001b[0m \u001b[0m_make_engine\u001b[0m\u001b[0;34m(\u001b[0m\u001b[0mself\u001b[0m\u001b[0;34m,\u001b[0m \u001b[0mengine\u001b[0m\u001b[0;34m=\u001b[0m\u001b[0;34m\"c\"\u001b[0m\u001b[0;34m)\u001b[0m\u001b[0;34m:\u001b[0m\u001b[0;34m\u001b[0m\u001b[0;34m\u001b[0m\u001b[0m\n\u001b[1;32m   1113\u001b[0m         \u001b[0;32mif\u001b[0m \u001b[0mengine\u001b[0m \u001b[0;34m==\u001b[0m \u001b[0;34m\"c\"\u001b[0m\u001b[0;34m:\u001b[0m\u001b[0;34m\u001b[0m\u001b[0;34m\u001b[0m\u001b[0m\n\u001b[0;32m-> 1114\u001b[0;31m             \u001b[0mself\u001b[0m\u001b[0;34m.\u001b[0m\u001b[0m_engine\u001b[0m \u001b[0;34m=\u001b[0m \u001b[0mCParserWrapper\u001b[0m\u001b[0;34m(\u001b[0m\u001b[0mself\u001b[0m\u001b[0;34m.\u001b[0m\u001b[0mf\u001b[0m\u001b[0;34m,\u001b[0m \u001b[0;34m**\u001b[0m\u001b[0mself\u001b[0m\u001b[0;34m.\u001b[0m\u001b[0moptions\u001b[0m\u001b[0;34m)\u001b[0m\u001b[0;34m\u001b[0m\u001b[0;34m\u001b[0m\u001b[0m\n\u001b[0m\u001b[1;32m   1115\u001b[0m         \u001b[0;32melse\u001b[0m\u001b[0;34m:\u001b[0m\u001b[0;34m\u001b[0m\u001b[0;34m\u001b[0m\u001b[0m\n\u001b[1;32m   1116\u001b[0m             \u001b[0;32mif\u001b[0m \u001b[0mengine\u001b[0m \u001b[0;34m==\u001b[0m \u001b[0;34m\"python\"\u001b[0m\u001b[0;34m:\u001b[0m\u001b[0;34m\u001b[0m\u001b[0;34m\u001b[0m\u001b[0m\n",
      "\u001b[0;32m/opt/conda/lib/python3.7/site-packages/pandas/io/parsers.py\u001b[0m in \u001b[0;36m__init__\u001b[0;34m(self, src, **kwds)\u001b[0m\n\u001b[1;32m   1889\u001b[0m         \u001b[0mkwds\u001b[0m\u001b[0;34m[\u001b[0m\u001b[0;34m\"usecols\"\u001b[0m\u001b[0;34m]\u001b[0m \u001b[0;34m=\u001b[0m \u001b[0mself\u001b[0m\u001b[0;34m.\u001b[0m\u001b[0musecols\u001b[0m\u001b[0;34m\u001b[0m\u001b[0;34m\u001b[0m\u001b[0m\n\u001b[1;32m   1890\u001b[0m \u001b[0;34m\u001b[0m\u001b[0m\n\u001b[0;32m-> 1891\u001b[0;31m         \u001b[0mself\u001b[0m\u001b[0;34m.\u001b[0m\u001b[0m_reader\u001b[0m \u001b[0;34m=\u001b[0m \u001b[0mparsers\u001b[0m\u001b[0;34m.\u001b[0m\u001b[0mTextReader\u001b[0m\u001b[0;34m(\u001b[0m\u001b[0msrc\u001b[0m\u001b[0;34m,\u001b[0m \u001b[0;34m**\u001b[0m\u001b[0mkwds\u001b[0m\u001b[0;34m)\u001b[0m\u001b[0;34m\u001b[0m\u001b[0;34m\u001b[0m\u001b[0m\n\u001b[0m\u001b[1;32m   1892\u001b[0m         \u001b[0mself\u001b[0m\u001b[0;34m.\u001b[0m\u001b[0munnamed_cols\u001b[0m \u001b[0;34m=\u001b[0m \u001b[0mself\u001b[0m\u001b[0;34m.\u001b[0m\u001b[0m_reader\u001b[0m\u001b[0;34m.\u001b[0m\u001b[0munnamed_cols\u001b[0m\u001b[0;34m\u001b[0m\u001b[0;34m\u001b[0m\u001b[0m\n\u001b[1;32m   1893\u001b[0m \u001b[0;34m\u001b[0m\u001b[0m\n",
      "\u001b[0;32mpandas/_libs/parsers.pyx\u001b[0m in \u001b[0;36mpandas._libs.parsers.TextReader.__cinit__\u001b[0;34m()\u001b[0m\n",
      "\u001b[0;32mpandas/_libs/parsers.pyx\u001b[0m in \u001b[0;36mpandas._libs.parsers.TextReader._setup_parser_source\u001b[0;34m()\u001b[0m\n",
      "\u001b[0;31mFileNotFoundError\u001b[0m: [Errno 2] File AOI.csv does not exist: 'AOI.csv'"
     ]
    }
   ],
   "source": [
    "aoi = pd.read_csv(os.path.expanduser('~/.shared/notebooks/artifacts/NO2_Analysis_Covid19_Lockdowns-AOI.csv')\n",
    "print(aoi.shape)\n",
    "aoi.head(8)"
   ]
  },
  {
   "cell_type": "code",
   "execution_count": null,
   "metadata": {
    "papermill": {
     "duration": null,
     "end_time": null,
     "exception": null,
     "start_time": null,
     "status": "pending"
    },
    "tags": []
   },
   "outputs": [],
   "source": [
    "shape = aoi.shape\n",
    "nullCount = sum(aoi.isna().sum())\n",
    "print(f\"Shape of 2020 DF: {shape}, Count of Null values: {nullCount}\".format(shape , nullCount ))"
   ]
  },
  {
   "cell_type": "markdown",
   "metadata": {
    "papermill": {
     "duration": null,
     "end_time": null,
     "exception": null,
     "start_time": null,
     "status": "pending"
    },
    "tags": []
   },
   "source": [
    "## Main loop \n",
    "\n",
    "We iterate over each row in the `aoi.csv` file \n",
    "\n",
    "Sentinel-5P data for each defined AOI cube is extracted \n",
    "\n",
    "NO2 values for each tile is then averaged & stored in a list"
   ]
  },
  {
   "cell_type": "code",
   "execution_count": null,
   "metadata": {
    "papermill": {
     "duration": null,
     "end_time": null,
     "exception": null,
     "start_time": null,
     "status": "pending"
    },
    "tags": []
   },
   "outputs": [],
   "source": [
    "import time \n",
    "\n",
    "start = time.time()\n",
    "aoi_no2 = list()\n",
    "for idx, row in aoi[7:].iterrows():\n",
    "    aoi_dict = dict()\n",
    "    aoi_dict['Country_BBox'] = row['Country']\n",
    "    print(\"Processing: \", aoi_dict['Country_BBox'])\n",
    "    x1 = row['x1']  # degree \n",
    "    y1 = row['y1']  # degree\n",
    "    x2 = row['x2']  # degree\n",
    "    y2 = row['y2']  # degree\n",
    "\n",
    "    bbox = x1, y1, x2, y2\n",
    "    aoi_dict['NO2_2020'] = caculateNO2(bbox, '2020')\n",
    "    shape = aoi_dict['NO2_2020'].shape\n",
    "    nullCount = sum(aoi_dict['NO2_2020'].isna().sum())\n",
    "    print(f\"Shape of 2020 DF: {shape}, Count of Null values: {nullCount}\".format(shape , nullCount ))    \n",
    "    \n",
    "    aoi_dict['NO2_2019'] = caculateNO2(bbox, '2019')\n",
    "    shape = aoi_dict['NO2_2019'].shape\n",
    "    nullCount = sum(aoi_dict['NO2_2019'].isna().sum())\n",
    "    print(f\"Shape of 2019 DF: {shape}, Count of Null values: {nullCount}\".format(shape , nullCount ))\n",
    "    \n",
    "    aoi_no2.append(aoi_dict)\n",
    "\n",
    "end = time.time()\n",
    "print(len(aoi_no2))\n",
    "print(end-start)"
   ]
  },
  {
   "cell_type": "markdown",
   "metadata": {
    "papermill": {
     "duration": null,
     "end_time": null,
     "exception": null,
     "start_time": null,
     "status": "pending"
    },
    "tags": []
   },
   "source": [
    "The list is then pickled so that the information can then be reused in another run"
   ]
  },
  {
   "cell_type": "code",
   "execution_count": null,
   "metadata": {
    "papermill": {
     "duration": null,
     "end_time": null,
     "exception": null,
     "start_time": null,
     "status": "pending"
    },
    "tags": []
   },
   "outputs": [],
   "source": [
    "import pickle \n",
    "print(len(aoi_no2))\n",
    "with open('aoi_list_7.pkl', 'wb') as f:\n",
    "    pickle.dump(aoi_no2, f)"
   ]
  },
  {
   "cell_type": "markdown",
   "metadata": {
    "papermill": {
     "duration": null,
     "end_time": null,
     "exception": null,
     "start_time": null,
     "status": "pending"
    },
    "tags": []
   },
   "source": [
    "## Plotting function\n",
    "\n",
    "This plots the NO2 values over time"
   ]
  },
  {
   "cell_type": "code",
   "execution_count": null,
   "metadata": {
    "papermill": {
     "duration": null,
     "end_time": null,
     "exception": null,
     "start_time": null,
     "status": "pending"
    },
    "tags": []
   },
   "outputs": [],
   "source": [
    "import matplotlib as plt\n",
    "\n",
    "def plot_no2(idx):\n",
    "    \"\"\"\n",
    "    parameters:\n",
    "    idx: Input id for accessing NO2 data \n",
    "    \n",
    "    return:\n",
    "    None\n",
    "    line plots for NO2 (2020 vs 2019) are generated\n",
    "    \"\"\"\n",
    "\n",
    "    plt.plot(aoi_no2[idx]['NO2_2020']['DateTime'], aoi_no2[idx]['NO2_2020']['Mean NO2'],  label = 'NO2 levels (2020)')\n",
    "    plt.plot(aoi_no2[idx]['NO2_2020']['DateTime'], aoi_no2[idx]['NO2_2019']['Mean NO2'], label = 'NO2 levels (2019)')\n",
    "    plt.ylabel('NO2 Levels')\n",
    "    plt.xlabel('Month')\n",
    "    plt.title('NO2 levels for '+ aoi_no2[idx]['Country_BBox'])\n",
    "    plt.legend()\n",
    "    plt.savefig(aoi_no2[idx]['Country_BBox']+'.png')\n",
    "    plt.show()"
   ]
  },
  {
   "cell_type": "code",
   "execution_count": null,
   "metadata": {
    "papermill": {
     "duration": null,
     "end_time": null,
     "exception": null,
     "start_time": null,
     "status": "pending"
    },
    "tags": []
   },
   "outputs": [],
   "source": [
    "for idx in range(len(aoi_no2)):\n",
    "    plot_no2(idx)\n"
   ]
  }
 ],
 "metadata": {
  "kernelspec": {
   "display_name": "Python 3",
   "language": "python",
   "name": "python3"
  },
  "language_info": {
   "codemirror_mode": {
    "name": "ipython",
    "version": 3
   },
   "file_extension": ".py",
   "mimetype": "text/x-python",
   "name": "python",
   "nbconvert_exporter": "python",
   "pygments_lexer": "ipython3",
   "version": "3.7.6"
  },
  "papermill": {
   "duration": 3.49563,
   "end_time": "2020-05-29T20:48:30.709434",
   "environment_variables": {},
   "exception": true,
   "input_path": "/tmp/tmpgqsoe0t5",
   "output_path": "/tmp/notebook_output.ipynb",
   "parameters": {},
   "start_time": "2020-05-29T20:48:27.213804",
   "version": "2.1.0"
  },
  "properties": {
   "description": "NO2 levels are used to assess success of pandemic lockdowns",
   "id": "1022d3c7-728e-484c-bce8-05b414282acc",
   "license": null,
   "name": "Covid19 Lockdown and Pollution (NO2)",
   "requirements": [
    "eurodatacube"
   ],
   "tags": [
    "COVID-19",
    "Analysis-Ready Data",
    "EO Data",
    "Getting started",
    "Jupyter",
    "Sentinel Data",
    "xcube"
   ],
   "tosAgree": true,
   "type": "Jupyter Notebook",
   "user_id": "efb05e9b-9eec-4e72-9b8d-ec1e782e7f23",
   "version": "1.0"
  }
 },
 "nbformat": 4,
 "nbformat_minor": 4
}