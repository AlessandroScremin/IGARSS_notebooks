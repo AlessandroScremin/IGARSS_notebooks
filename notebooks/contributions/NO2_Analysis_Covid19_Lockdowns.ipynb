{
 "cells": [
  {
   "cell_type": "markdown",
   "metadata": {},
   "source": [
    "<span style=\"color:red; font-family:Helvetica Neue, Helvetica, Arial, sans-serif; font-size:2em;\">An Exception was encountered at 'In [6]'.</span>"
   ]
  },
  {
   "cell_type": "markdown",
   "metadata": {
    "papermill": {
     "duration": 0.008572,
     "end_time": "2020-06-02T10:58:30.858933",
     "exception": false,
     "start_time": "2020-06-02T10:58:30.850361",
     "status": "completed"
    },
    "tags": []
   },
   "source": [
    "<span style=\"color:red; font-family:Helvetica Neue, Helvetica, Arial, sans-serif; font-size:2em;\">An Exception was encountered at 'In [6]'.</span>"
   ]
  },
  {
   "cell_type": "code",
   "execution_count": 1,
   "metadata": {
    "execution": {
     "iopub.execute_input": "2020-06-02T10:58:30.877555Z",
     "iopub.status.busy": "2020-06-02T10:58:30.876917Z",
     "iopub.status.idle": "2020-06-02T10:58:30.967041Z",
     "shell.execute_reply": "2020-06-02T10:58:30.967456Z"
    },
    "papermill": {
     "duration": 0.101203,
     "end_time": "2020-06-02T10:58:30.967598",
     "exception": false,
     "start_time": "2020-06-02T10:58:30.866395",
     "status": "completed"
    },
    "tags": []
   },
   "outputs": [
    {
     "data": {
      "text/markdown": [
       "API credentials have automatically been injected for your active subscriptions.  \n",
       "The following environment variables are now available:\n",
       "* `SH_INSTANCE_ID`\n",
       "* `SH_CLIENT_ID`\n",
       "* `SH_CLIENT_SECRET`\n",
       "* `SH_CLIENT_NAME`\n",
       "\n",
       "------\n"
      ],
      "text/plain": [
       "<IPython.core.display.Markdown object>"
      ]
     },
     "metadata": {},
     "output_type": "display_data"
    }
   ],
   "source": [
    "from edc import setup_environment_variables\n",
    "setup_environment_variables()"
   ]
  },
  {
   "cell_type": "code",
   "execution_count": 2,
   "metadata": {
    "execution": {
     "iopub.execute_input": "2020-06-02T10:58:30.986517Z",
     "iopub.status.busy": "2020-06-02T10:58:30.985910Z",
     "iopub.status.idle": "2020-06-02T10:58:30.988208Z",
     "shell.execute_reply": "2020-06-02T10:58:30.988648Z"
    },
    "papermill": {
     "duration": 0.013154,
     "end_time": "2020-06-02T10:58:30.988748",
     "exception": false,
     "start_time": "2020-06-02T10:58:30.975594",
     "status": "completed"
    },
    "tags": []
   },
   "outputs": [
    {
     "name": "stdout",
     "output_type": "stream",
     "text": [
      "Notebook is compatible\n"
     ]
    }
   ],
   "source": [
    "from edc import check_compatibility\n",
    "check_compatibility(\"v0.18.4\")"
   ]
  },
  {
   "cell_type": "markdown",
   "metadata": {
    "papermill": {
     "duration": 0.00797,
     "end_time": "2020-06-02T10:58:31.004555",
     "exception": false,
     "start_time": "2020-06-02T10:58:30.996585",
     "status": "completed"
    },
    "tags": []
   },
   "source": [
    "# Impact of Covid19 induced lockdown on NO2 levels \n",
    "\n"
   ]
  },
  {
   "cell_type": "markdown",
   "metadata": {
    "papermill": {
     "duration": 0.007865,
     "end_time": "2020-06-02T10:58:31.020240",
     "exception": false,
     "start_time": "2020-06-02T10:58:31.012375",
     "status": "completed"
    },
    "tags": []
   },
   "source": [
    "## Load required dependencies & credentials"
   ]
  },
  {
   "cell_type": "code",
   "execution_count": 3,
   "metadata": {
    "execution": {
     "iopub.execute_input": "2020-06-02T10:58:31.040178Z",
     "iopub.status.busy": "2020-06-02T10:58:31.039518Z",
     "iopub.status.idle": "2020-06-02T10:58:32.967620Z",
     "shell.execute_reply": "2020-06-02T10:58:32.967026Z"
    },
    "papermill": {
     "duration": 1.939646,
     "end_time": "2020-06-02T10:58:32.967741",
     "exception": false,
     "start_time": "2020-06-02T10:58:31.028095",
     "status": "completed"
    },
    "tags": []
   },
   "outputs": [],
   "source": [
    "# Import required packages\n",
    "\n",
    "from xcube_sh.config import CubeConfig\n",
    "from xcube_sh.cube import open_cube\n",
    "from xcube_sh.sentinelhub import SentinelHub\n",
    "import xarray as xr\n",
    "\n",
    "from sentinelhub import BBox, WmsRequest, DataSource, SHConfig\n",
    "from functools import partial\n",
    "\n",
    "import os\n",
    "import numpy as np\n",
    "import pandas as pd\n",
    "\n",
    "from matplotlib import pyplot as plt\n"
   ]
  },
  {
   "cell_type": "code",
   "execution_count": 4,
   "metadata": {
    "execution": {
     "iopub.execute_input": "2020-06-02T10:58:32.987676Z",
     "iopub.status.busy": "2020-06-02T10:58:32.987029Z",
     "iopub.status.idle": "2020-06-02T10:58:32.988940Z",
     "shell.execute_reply": "2020-06-02T10:58:32.989349Z"
    },
    "papermill": {
     "duration": 0.013631,
     "end_time": "2020-06-02T10:58:32.989455",
     "exception": false,
     "start_time": "2020-06-02T10:58:32.975824",
     "status": "completed"
    },
    "tags": []
   },
   "outputs": [],
   "source": [
    "# Set Sentinel Hub credentials\n",
    "\n",
    "sh_credentials = dict(client_id='<your Oauth client id>',\n",
    "                      client_secret='<client secret >') # This is only provided when the Oauth credentials are created\n",
    "\n",
    "# Sentinel-3 OLCI, Sentinel-3 SLSTR and Sentinel-5 layers are processed on different infrastructure, \n",
    "# which requires to used different end-point\n",
    "\n",
    "sh_credentials.update(api_url='https://creodias.sentinel-hub.com/api/v1') "
   ]
  },
  {
   "cell_type": "markdown",
   "metadata": {
    "papermill": {
     "duration": 0.00793,
     "end_time": "2020-06-02T10:58:33.005252",
     "exception": false,
     "start_time": "2020-06-02T10:58:32.997322",
     "status": "completed"
    },
    "tags": []
   },
   "source": [
    "## Core function to calculate NO2 values\n",
    "\n",
    "NO2 values are calculated over the given period (Jan -May) for 2020 & 2019"
   ]
  },
  {
   "cell_type": "code",
   "execution_count": 5,
   "metadata": {
    "execution": {
     "iopub.execute_input": "2020-06-02T10:58:33.029288Z",
     "iopub.status.busy": "2020-06-02T10:58:33.028666Z",
     "iopub.status.idle": "2020-06-02T10:58:33.030485Z",
     "shell.execute_reply": "2020-06-02T10:58:33.030877Z"
    },
    "papermill": {
     "duration": 0.016735,
     "end_time": "2020-06-02T10:58:33.030975",
     "exception": false,
     "start_time": "2020-06-02T10:58:33.014240",
     "status": "completed"
    },
    "tags": []
   },
   "outputs": [],
   "source": [
    "def caculateNO2(geometry, year):\n",
    "    \"\"\"\n",
    "    parameters:\n",
    "    geometry: BBox object to be passed. This contains the bounding box for the area of interest (AOI)\n",
    "    year: string object with the year for which we are calculating the data YYYY\n",
    "    \n",
    "    return:\n",
    "    a dataframe with two columns: Mean NO2 and Timestamp\n",
    "    NO2 mean values for the time span between Jan 01 to May 29th of the given ''year''\n",
    "    \n",
    "    \"\"\"\n",
    "    cube_config = CubeConfig(dataset_name='S5PL2',\n",
    "                         band_names=['NO2'],\n",
    "                         tile_size=[512, 512],\n",
    "                         geometry=geometry,\n",
    "                         spatial_res=abs(bbox[2]-bbox[0])/512,\n",
    "                         time_range=[year+'-01-01', year+'-05-29'],\n",
    "                         time_period='3D') \n",
    "    cube = open_cube(cube_config, **sh_credentials)\n",
    "\n",
    "    no2_values = list() \n",
    "    timestamp = list()\n",
    "\n",
    "    for i in range(cube.time.shape[0]):\n",
    "        no2_values.append(np.nanmean(cube.NO2.isel(time=i).values[0]))\n",
    "        timestamp.append(cube.NO2.isel(time=i).time.values)\n",
    "        \n",
    "    assert len(no2_values) == len(timestamp)\n",
    "    \n",
    "    return pd.DataFrame({'DateTime': timestamp, 'Mean NO2': no2_values})"
   ]
  },
  {
   "cell_type": "markdown",
   "metadata": {
    "papermill": {
     "duration": 0.007848,
     "end_time": "2020-06-02T10:58:33.046668",
     "exception": false,
     "start_time": "2020-06-02T10:58:33.038820",
     "status": "completed"
    },
    "tags": []
   },
   "source": [
    "## Read area of interest as a csv file\n",
    "The file has the following columns:\n",
    "Country: Name of country/territory of interest\n",
    "x1, y1 : Upper left corner co-ordinates (lat/lon)\n",
    "x2, y2 : Lower right corner co-ordinates\n"
   ]
  },
  {
   "cell_type": "code",
   "execution_count": 6,
   "metadata": {
    "execution": {
     "iopub.execute_input": "2020-06-02T10:58:33.065831Z",
     "iopub.status.busy": "2020-06-02T10:58:33.065211Z",
     "iopub.status.idle": "2020-06-02T10:58:33.067925Z",
     "shell.execute_reply": "2020-06-02T10:58:33.067056Z"
    },
    "papermill": {
     "duration": 0.013485,
     "end_time": "2020-06-02T10:58:33.068067",
     "exception": true,
     "start_time": "2020-06-02T10:58:33.054582",
     "status": "failed"
    },
    "tags": []
   },
   "outputs": [
    {
     "ename": "SyntaxError",
     "evalue": "invalid syntax (<ipython-input-6-6e7a93d5beba>, line 2)",
     "output_type": "error",
     "traceback": [
      "\u001b[0;36m  File \u001b[0;32m\"<ipython-input-6-6e7a93d5beba>\"\u001b[0;36m, line \u001b[0;32m2\u001b[0m\n\u001b[0;31m    print(aoi.shape)\u001b[0m\n\u001b[0m        ^\u001b[0m\n\u001b[0;31mSyntaxError\u001b[0m\u001b[0;31m:\u001b[0m invalid syntax\n"
     ]
    }
   ],
   "source": [
    "aoi = pd.read_csv(os.path.expanduser('~/.shared/notebooks/artifacts/NO2_Analysis_Covid19_Lockdowns-AOI.csv')\n",
    "print(aoi.shape)\n",
    "aoi.head(8)"
   ]
  },
  {
   "cell_type": "code",
   "execution_count": null,
   "metadata": {
    "papermill": {
     "duration": null,
     "end_time": null,
     "exception": null,
     "start_time": null,
     "status": "pending"
    },
    "tags": []
   },
   "outputs": [],
   "source": [
    "shape = aoi.shape\n",
    "nullCount = sum(aoi.isna().sum())\n",
    "print(f\"Shape of 2020 DF: {shape}, Count of Null values: {nullCount}\".format(shape , nullCount ))"
   ]
  },
  {
   "cell_type": "markdown",
   "metadata": {
    "papermill": {
     "duration": null,
     "end_time": null,
     "exception": null,
     "start_time": null,
     "status": "pending"
    },
    "tags": []
   },
   "source": [
    "## Main loop \n",
    "\n",
    "We iterate over each row in the `aoi.csv` file \n",
    "\n",
    "Sentinel-5P data for each defined AOI cube is extracted \n",
    "\n",
    "NO2 values for each tile is then averaged & stored in a list"
   ]
  },
  {
   "cell_type": "code",
   "execution_count": null,
   "metadata": {
    "papermill": {
     "duration": null,
     "end_time": null,
     "exception": null,
     "start_time": null,
     "status": "pending"
    },
    "tags": []
   },
   "outputs": [],
   "source": [
    "import time \n",
    "\n",
    "start = time.time()\n",
    "aoi_no2 = list()\n",
    "for idx, row in aoi[7:].iterrows():\n",
    "    aoi_dict = dict()\n",
    "    aoi_dict['Country_BBox'] = row['Country']\n",
    "    print(\"Processing: \", aoi_dict['Country_BBox'])\n",
    "    x1 = row['x1']  # degree \n",
    "    y1 = row['y1']  # degree\n",
    "    x2 = row['x2']  # degree\n",
    "    y2 = row['y2']  # degree\n",
    "\n",
    "    bbox = x1, y1, x2, y2\n",
    "    aoi_dict['NO2_2020'] = caculateNO2(bbox, '2020')\n",
    "    shape = aoi_dict['NO2_2020'].shape\n",
    "    nullCount = sum(aoi_dict['NO2_2020'].isna().sum())\n",
    "    print(f\"Shape of 2020 DF: {shape}, Count of Null values: {nullCount}\".format(shape , nullCount ))    \n",
    "    \n",
    "    aoi_dict['NO2_2019'] = caculateNO2(bbox, '2019')\n",
    "    shape = aoi_dict['NO2_2019'].shape\n",
    "    nullCount = sum(aoi_dict['NO2_2019'].isna().sum())\n",
    "    print(f\"Shape of 2019 DF: {shape}, Count of Null values: {nullCount}\".format(shape , nullCount ))\n",
    "    \n",
    "    aoi_no2.append(aoi_dict)\n",
    "\n",
    "end = time.time()\n",
    "print(len(aoi_no2))\n",
    "print(end-start)"
   ]
  },
  {
   "cell_type": "markdown",
   "metadata": {
    "papermill": {
     "duration": null,
     "end_time": null,
     "exception": null,
     "start_time": null,
     "status": "pending"
    },
    "tags": []
   },
   "source": [
    "The list is then pickled so that the information can then be reused in another run"
   ]
  },
  {
   "cell_type": "code",
   "execution_count": null,
   "metadata": {
    "papermill": {
     "duration": null,
     "end_time": null,
     "exception": null,
     "start_time": null,
     "status": "pending"
    },
    "tags": []
   },
   "outputs": [],
   "source": [
    "import pickle \n",
    "print(len(aoi_no2))\n",
    "with open('aoi_list_7.pkl', 'wb') as f:\n",
    "    pickle.dump(aoi_no2, f)"
   ]
  },
  {
   "cell_type": "markdown",
   "metadata": {
    "papermill": {
     "duration": null,
     "end_time": null,
     "exception": null,
     "start_time": null,
     "status": "pending"
    },
    "tags": []
   },
   "source": [
    "## Plotting function\n",
    "\n",
    "This plots the NO2 values over time"
   ]
  },
  {
   "cell_type": "code",
   "execution_count": null,
   "metadata": {
    "papermill": {
     "duration": null,
     "end_time": null,
     "exception": null,
     "start_time": null,
     "status": "pending"
    },
    "tags": []
   },
   "outputs": [],
   "source": [
    "import matplotlib as plt\n",
    "\n",
    "def plot_no2(idx):\n",
    "    \"\"\"\n",
    "    parameters:\n",
    "    idx: Input id for accessing NO2 data \n",
    "    \n",
    "    return:\n",
    "    None\n",
    "    line plots for NO2 (2020 vs 2019) are generated\n",
    "    \"\"\"\n",
    "\n",
    "    plt.plot(aoi_no2[idx]['NO2_2020']['DateTime'], aoi_no2[idx]['NO2_2020']['Mean NO2'],  label = 'NO2 levels (2020)')\n",
    "    plt.plot(aoi_no2[idx]['NO2_2020']['DateTime'], aoi_no2[idx]['NO2_2019']['Mean NO2'], label = 'NO2 levels (2019)')\n",
    "    plt.ylabel('NO2 Levels')\n",
    "    plt.xlabel('Month')\n",
    "    plt.title('NO2 levels for '+ aoi_no2[idx]['Country_BBox'])\n",
    "    plt.legend()\n",
    "    plt.savefig(aoi_no2[idx]['Country_BBox']+'.png')\n",
    "    plt.show()"
   ]
  },
  {
   "cell_type": "code",
   "execution_count": null,
   "metadata": {
    "papermill": {
     "duration": null,
     "end_time": null,
     "exception": null,
     "start_time": null,
     "status": "pending"
    },
    "tags": []
   },
   "outputs": [],
   "source": [
    "for idx in range(len(aoi_no2)):\n",
    "    plot_no2(idx)\n"
   ]
  }
 ],
 "metadata": {
  "kernelspec": {
   "display_name": "Python 3",
   "language": "python",
   "name": "python3"
  },
  "language_info": {
   "codemirror_mode": {
    "name": "ipython",
    "version": 3
   },
   "file_extension": ".py",
   "mimetype": "text/x-python",
   "name": "python",
   "nbconvert_exporter": "python",
   "pygments_lexer": "ipython3",
   "version": "3.7.6"
  },
  "papermill": {
   "duration": 4.477294,
   "end_time": "2020-06-02T10:58:34.265113",
   "environment_variables": {},
   "exception": true,
   "input_path": "/tmp/tmpq4nyr5sw",
   "output_path": "/tmp/notebook_output.ipynb",
   "parameters": {},
   "start_time": "2020-06-02T10:58:29.787819",
   "version": "2.1.0"
  },
  "properties": {
   "description": "NO2 levels are used to assess success of pandemic lockdowns",
   "id": "1022d3c7-728e-484c-bce8-05b414282acc",
   "license": null,
   "name": "Covid19 Lockdown and Pollution (NO2)",
   "requirements": [
    "eurodatacube"
   ],
   "tags": [
    "COVID-19",
    "Analysis-Ready Data",
    "EO Data",
    "Getting started",
    "Jupyter",
    "Sentinel Data",
    "xcube"
   ],
   "tosAgree": true,
   "type": "Jupyter Notebook",
   "user_id": "efb05e9b-9eec-4e72-9b8d-ec1e782e7f23",
   "version": "1.0"
  }
 },
 "nbformat": 4,
 "nbformat_minor": 4
}