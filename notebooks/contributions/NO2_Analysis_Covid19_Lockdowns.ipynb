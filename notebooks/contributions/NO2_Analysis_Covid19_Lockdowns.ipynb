{
 "cells": [
  {
   "cell_type": "code",
   "execution_count": 1,
   "id": "brazilian-express",
   "metadata": {
    "execution": {
     "iopub.execute_input": "2021-03-15T09:14:05.416887Z",
     "iopub.status.busy": "2021-03-15T09:14:05.415715Z",
     "iopub.status.idle": "2021-03-15T09:14:05.516782Z",
     "shell.execute_reply": "2021-03-15T09:14:05.515496Z"
    },
    "papermill": {
     "duration": 0.127322,
     "end_time": "2021-03-15T09:14:05.516995",
     "exception": false,
     "start_time": "2021-03-15T09:14:05.389673",
     "status": "completed"
    },
    "tags": []
   },
   "outputs": [
    {
     "data": {
      "text/markdown": [
       "API credentials have automatically been injected for your active subscriptions.  \n",
       "The following environment variables are now available:\n",
       "* `SH_CLIENT_ID`, `SH_CLIENT_NAME`, `SH_CLIENT_SECRET`, `SH_INSTANCE_ID`\n",
       "\n",
       "The following additional environment variables have been loaded from `~/custom.env`:\n",
       "* `AWS_BUCKET`\n",
       "* `DAPA_URL`\n",
       "* `DB_HOST`, `DB_NAME`, `DB_PASSWORD`, `DB_USER`\n",
       "* `OGC_EDC_URL`\n",
       "* `REFERENCE_DATA`\n"
      ],
      "text/plain": [
       "<IPython.core.display.Markdown object>"
      ]
     },
     "metadata": {},
     "output_type": "display_data"
    }
   ],
   "source": [
    "from edc import setup_environment_variables\n",
    "setup_environment_variables()"
   ]
  },
  {
   "cell_type": "code",
   "execution_count": 2,
   "id": "international-party",
   "metadata": {
    "execution": {
     "iopub.execute_input": "2021-03-15T09:14:05.565335Z",
     "iopub.status.busy": "2021-03-15T09:14:05.564090Z",
     "iopub.status.idle": "2021-03-15T09:14:05.580612Z",
     "shell.execute_reply": "2021-03-15T09:14:05.579572Z"
    },
    "papermill": {
     "duration": 0.044187,
     "end_time": "2021-03-15T09:14:05.580777",
     "exception": false,
     "start_time": "2021-03-15T09:14:05.536590",
     "status": "completed"
    },
    "tags": []
   },
   "outputs": [
    {
     "data": {
      "text/html": [
       "<script type=\"text/javascript\">\n",
       "        function toggle(id) {\n",
       "            el = document.getElementById(id);\n",
       "            el.style.display = el.style.display === \"none\" ? \"block\" : \"none\";\n",
       "        }\n",
       "    </script>"
      ],
      "text/plain": [
       "<IPython.core.display.HTML object>"
      ]
     },
     "metadata": {},
     "output_type": "display_data"
    },
    {
     "data": {
      "text/html": [
       "This notebook is compatible with this base image version (user-0.23.1)."
      ],
      "text/plain": [
       "<IPython.core.display.HTML object>"
      ]
     },
     "metadata": {},
     "output_type": "display_data"
    }
   ],
   "source": [
    "from edc import check_compatibility\n",
    "check_compatibility(\"user-0.23.1\")"
   ]
  },
  {
   "cell_type": "markdown",
   "id": "collective-mortality",
   "metadata": {
    "papermill": {
     "duration": 0.021271,
     "end_time": "2021-03-15T09:14:05.621066",
     "exception": false,
     "start_time": "2021-03-15T09:14:05.599795",
     "status": "completed"
    },
    "tags": []
   },
   "source": [
    "# Impact of Covid19 induced lockdown on NO2 levels \n",
    "\n",
    "- Countries have initiated lockdown measures to control the spread of the disease \n",
    "- Not all of the measures were successful (Italy) \n",
    "- Countries (Germany) which successful implemented a lockdown showed a marked decrease in NO2 levels \n",
    "\n",
    "- NO2 is produced when fossil fuels are burned, as during transportation (cars, trucks etc. ) or \n",
    "- due to other economic activities (like factories )\n"
   ]
  },
  {
   "cell_type": "markdown",
   "id": "cloudy-visibility",
   "metadata": {
    "papermill": {
     "duration": 0.021782,
     "end_time": "2021-03-15T09:14:05.662237",
     "exception": false,
     "start_time": "2021-03-15T09:14:05.640455",
     "status": "completed"
    },
    "tags": []
   },
   "source": [
    "## Load required dependencies & credentials"
   ]
  },
  {
   "cell_type": "code",
   "execution_count": 3,
   "id": "simplified-hughes",
   "metadata": {
    "execution": {
     "iopub.execute_input": "2021-03-15T09:14:05.740774Z",
     "iopub.status.busy": "2021-03-15T09:14:05.739449Z",
     "iopub.status.idle": "2021-03-15T09:14:08.238139Z",
     "shell.execute_reply": "2021-03-15T09:14:08.236621Z"
    },
    "papermill": {
     "duration": 2.532847,
     "end_time": "2021-03-15T09:14:08.238411",
     "exception": false,
     "start_time": "2021-03-15T09:14:05.705564",
     "status": "completed"
    },
    "tags": []
   },
   "outputs": [],
   "source": [
    "# Import required packages\n",
    "\n",
    "from xcube_sh.config import CubeConfig\n",
    "from xcube_sh.cube import open_cube\n",
    "from xcube_sh.sentinelhub import SentinelHub\n",
    "import xarray as xr\n",
    "\n",
    "from sentinelhub import BBox, WmsRequest, DataSource, SHConfig\n",
    "from functools import partial\n",
    "\n",
    "import numpy as np\n",
    "import pandas as pd\n",
    "\n",
    "from matplotlib import pyplot as plt\n"
   ]
  },
  {
   "cell_type": "code",
   "execution_count": 4,
   "id": "molecular-identification",
   "metadata": {
    "execution": {
     "iopub.execute_input": "2021-03-15T09:14:08.297159Z",
     "iopub.status.busy": "2021-03-15T09:14:08.295993Z",
     "iopub.status.idle": "2021-03-15T09:14:08.300080Z",
     "shell.execute_reply": "2021-03-15T09:14:08.299196Z"
    },
    "papermill": {
     "duration": 0.038465,
     "end_time": "2021-03-15T09:14:08.300258",
     "exception": false,
     "start_time": "2021-03-15T09:14:08.261793",
     "status": "completed"
    },
    "tags": []
   },
   "outputs": [],
   "source": [
    "# Set Sentinel Hub credentials\n",
    "\n",
    "import os\n",
    "sh_credentials = dict(client_id=os.environ['SH_CLIENT_ID'],\n",
    "                      client_secret=os.environ['SH_CLIENT_SECRET']) # This is only provided when the Oauth credentials are created\n",
    "\n",
    "# Sentinel-3 OLCI, Sentinel-3 SLSTR and Sentinel-5 layers are processed on different infrastructure, \n",
    "# which requires to used different end-point\n",
    "\n",
    "sh_credentials.update(api_url='https://creodias.sentinel-hub.com') "
   ]
  },
  {
   "cell_type": "markdown",
   "id": "speaking-space",
   "metadata": {
    "papermill": {
     "duration": 0.020298,
     "end_time": "2021-03-15T09:14:08.340938",
     "exception": false,
     "start_time": "2021-03-15T09:14:08.320640",
     "status": "completed"
    },
    "tags": []
   },
   "source": [
    "## Core function to calculate NO2 values\n",
    "\n",
    "NO2 values are calculated over the given period (Jan -May) for 2020 & 2019"
   ]
  },
  {
   "cell_type": "code",
   "execution_count": 5,
   "id": "periodic-camel",
   "metadata": {
    "execution": {
     "iopub.execute_input": "2021-03-15T09:14:08.398026Z",
     "iopub.status.busy": "2021-03-15T09:14:08.396426Z",
     "iopub.status.idle": "2021-03-15T09:14:08.400121Z",
     "shell.execute_reply": "2021-03-15T09:14:08.400831Z"
    },
    "papermill": {
     "duration": 0.037689,
     "end_time": "2021-03-15T09:14:08.401093",
     "exception": false,
     "start_time": "2021-03-15T09:14:08.363404",
     "status": "completed"
    },
    "tags": []
   },
   "outputs": [],
   "source": [
    "def caculateNO2(geometry, timerange):\n",
    "    \"\"\"\n",
    "    parameters:\n",
    "    geometry: BBox object to be passed. This contains the bounding box for the area of interest (AOI)\n",
    "    timerange: list giving the start & end of the time range format: YYYY-mm-dd\n",
    "    \n",
    "    return:\n",
    "    a dataframe with two columns: Mean NO2 and Timestamp\n",
    "    NO2 mean values for the time span between given timerange \n",
    "    \n",
    "    \"\"\"\n",
    "    cube_config = CubeConfig(dataset_name='S5PL2',\n",
    "                         band_names=['NO2'],\n",
    "                         tile_size=[512, 512],\n",
    "                         geometry=geometry,\n",
    "                         spatial_res=abs(bbox[2]-bbox[0])/512,\n",
    "                         time_range= timerange,\n",
    "                         time_period='3D') \n",
    "    cube = open_cube(cube_config, **sh_credentials)\n",
    "\n",
    "    no2_values = list() \n",
    "    timestamp = list()\n",
    "\n",
    "    for i in range(cube.time.shape[0]):\n",
    "        no2_values.append(np.nanmean(cube.NO2.isel(time=i).values[0]))\n",
    "        timestamp.append(cube.NO2.isel(time=i).time.values)\n",
    "        \n",
    "    assert len(no2_values) == len(timestamp)\n",
    "    \n",
    "    return pd.DataFrame({'DateTime': timestamp, 'Mean NO2': no2_values})"
   ]
  },
  {
   "cell_type": "markdown",
   "id": "surrounded-spine",
   "metadata": {
    "papermill": {
     "duration": 0.026025,
     "end_time": "2021-03-15T09:14:08.449623",
     "exception": false,
     "start_time": "2021-03-15T09:14:08.423598",
     "status": "completed"
    },
    "tags": []
   },
   "source": [
    "## Read area of interest as a csv file\n",
    "*Uncomment the next code block if you want to read the AOI from a csv file*\n",
    "\n",
    "File has the following columns:\n",
    "- Country: Name of country/territory of interest\n",
    "- x1, y1 : Upper left corner co-ordinates (lat/lon)\n",
    "- x2, y2 : Lower right corner co-ordinates"
   ]
  },
  {
   "cell_type": "code",
   "execution_count": 6,
   "id": "smooth-quick",
   "metadata": {
    "execution": {
     "iopub.execute_input": "2021-03-15T09:14:08.519653Z",
     "iopub.status.busy": "2021-03-15T09:14:08.518024Z",
     "iopub.status.idle": "2021-03-15T09:14:08.525312Z",
     "shell.execute_reply": "2021-03-15T09:14:08.524265Z"
    },
    "papermill": {
     "duration": 0.037154,
     "end_time": "2021-03-15T09:14:08.525505",
     "exception": false,
     "start_time": "2021-03-15T09:14:08.488351",
     "status": "completed"
    },
    "tags": []
   },
   "outputs": [],
   "source": [
    "# aoi = pd.read_csv('AOI.csv')\n",
    "# print(aoi.shape)\n",
    "# print(aoi.head(8))\n",
    "\n",
    "# shape = aoi.shape\n",
    "# nullCount = sum(aoi.isna().sum())\n",
    "# print(f\"Shape of 2020 DF: {shape}, Count of Null values: {nullCount}\".format(shape , nullCount ))"
   ]
  },
  {
   "cell_type": "markdown",
   "id": "duplicate-christopher",
   "metadata": {
    "papermill": {
     "duration": 0.019685,
     "end_time": "2021-03-15T09:14:08.567681",
     "exception": false,
     "start_time": "2021-03-15T09:14:08.547996",
     "status": "completed"
    },
    "tags": []
   },
   "source": [
    "## Define AOI as a list\n",
    "\n",
    "*This is a list of dictionaries with the required information*\n",
    "\n",
    "Each dict has the following keys:\n",
    "\n",
    "- Country: Name of country/territory of interest\n",
    "- x1, y1 : Upper left corner co-ordinates (lat/lon)\n",
    "- x2, y2 : Lower right corner co-ordinates"
   ]
  },
  {
   "cell_type": "code",
   "execution_count": 7,
   "id": "hybrid-virginia",
   "metadata": {
    "execution": {
     "iopub.execute_input": "2021-03-15T09:14:08.625806Z",
     "iopub.status.busy": "2021-03-15T09:14:08.624491Z",
     "iopub.status.idle": "2021-03-15T09:14:08.629189Z",
     "shell.execute_reply": "2021-03-15T09:14:08.628496Z"
    },
    "papermill": {
     "duration": 0.037002,
     "end_time": "2021-03-15T09:14:08.629326",
     "exception": false,
     "start_time": "2021-03-15T09:14:08.592324",
     "status": "completed"
    },
    "tags": []
   },
   "outputs": [],
   "source": [
    "aoi = list()\n",
    "\n",
    "#Define two dicts\n",
    "country1 = dict()\n",
    "country1['Country'] = 'Italy'\n",
    "country1['x1'] = 46.28 \n",
    "country1['y1'] = 6.42\n",
    "country1['x2'] = 37.25\n",
    "country1['y2'] = 19.73\n",
    "aoi.append(country1)\n",
    "\n",
    "country2 = dict()\n",
    "country2['Country'] = 'Germany'\n",
    "country2['x1'] = 54.77 \n",
    "country2['y1'] = 4.70\n",
    "country2['x2'] = 47.63\n",
    "country2['y2'] = 15.73\n",
    "aoi.append(country2)\n",
    "\n",
    "#print(len(aoi))"
   ]
  },
  {
   "cell_type": "markdown",
   "id": "opposed-suffering",
   "metadata": {
    "papermill": {
     "duration": 0.031003,
     "end_time": "2021-03-15T09:14:08.681479",
     "exception": false,
     "start_time": "2021-03-15T09:14:08.650476",
     "status": "completed"
    },
    "tags": []
   },
   "source": [
    "## Main loop \n",
    "\n",
    "We iterate over each row in the `aoi.csv` file \n",
    "\n",
    "Sentinel-5P data for each defined AOI cube is extracted \n",
    "\n",
    "NO2 values for each tile is then averaged & stored in a list\n",
    "\n",
    "For the purpose of this demo we will calculate the NO2 values for one AOI and for one month \n",
    "(*That will ensure that we don't exceed the timelimit of 10mins!*)"
   ]
  },
  {
   "cell_type": "code",
   "execution_count": 8,
   "id": "colored-agent",
   "metadata": {
    "execution": {
     "iopub.execute_input": "2021-03-15T09:14:08.744954Z",
     "iopub.status.busy": "2021-03-15T09:14:08.739562Z",
     "iopub.status.idle": "2021-03-15T09:14:59.885873Z",
     "shell.execute_reply": "2021-03-15T09:14:59.886623Z"
    },
    "papermill": {
     "duration": 51.183381,
     "end_time": "2021-03-15T09:14:59.886861",
     "exception": false,
     "start_time": "2021-03-15T09:14:08.703480",
     "status": "completed"
    },
    "tags": []
   },
   "outputs": [
    {
     "name": "stderr",
     "output_type": "stream",
     "text": [
      "/opt/conda/envs/eurodatacube-0.23.1/lib/python3.8/site-packages/xcube_sh/config.py:96: UserWarning: the geometry parameter is no longer supported, use bbox instead\n",
      "  warnings.warn('the geometry parameter is no longer supported, use bbox instead')\n"
     ]
    },
    {
     "name": "stdout",
     "output_type": "stream",
     "text": [
      "Shape of 2020 DF: (11, 2), Count of Null values: 0\n"
     ]
    },
    {
     "name": "stderr",
     "output_type": "stream",
     "text": [
      "/opt/conda/envs/eurodatacube-0.23.1/lib/python3.8/site-packages/xcube_sh/config.py:96: UserWarning: the geometry parameter is no longer supported, use bbox instead\n",
      "  warnings.warn('the geometry parameter is no longer supported, use bbox instead')\n"
     ]
    },
    {
     "name": "stdout",
     "output_type": "stream",
     "text": [
      "Shape of 2019 DF: (11, 2), Count of Null values: 0\n"
     ]
    }
   ],
   "source": [
    "import time \n",
    "\n",
    "start = time.time()\n",
    "aoi_no2 = list()\n",
    "\n",
    "# Check length of provided aoi list OR dataframe\n",
    "len_aoi = len(aoi)\n",
    "\n",
    "# Define how many AOIs you want to process. For the demo we will use only one \n",
    "counter = 1\n",
    "\n",
    "for idx in range(counter):\n",
    "    aoi_dict = dict()\n",
    "    \n",
    "    # Check if aoi is passed as a list or a dataframe\n",
    "    if isinstance(aoi, list):\n",
    "        aoi_dict['Country_BBox'] = aoi[idx]['Country']\n",
    "        x1 = int(aoi[idx]['x1'])  # degree \n",
    "        y1 = int(aoi[idx]['y1'])  # degree\n",
    "        x2 = int(aoi[idx]['x2'])  # degree\n",
    "        y2 = int(aoi[idx]['y2'])  # degree\n",
    "                \n",
    "    else:\n",
    "        aoi_dict['Country_BBox'] = aoi.loc[idx]['Country']\n",
    "        print(\"Processing: \", aoi_dict['Country_BBox'])\n",
    "        x1 = int(aoi.loc[idx]['x1'])  # degree \n",
    "        y1 = int(aoi.loc[idx]['y1'])  # degree\n",
    "        x2 = int(aoi.loc[idx]['x2'])  # degree\n",
    "        y2 = int(aoi.loc[idx]['y2'])  # degree\n",
    "\n",
    "    bbox = x1, y1, x2, y2\n",
    "    timerange = ['2020-01-01', '2020-01-31']\n",
    "    aoi_dict['NO2_2020'] = caculateNO2(bbox, timerange)\n",
    "    shape = aoi_dict['NO2_2020'].shape\n",
    "    nullCount = sum(aoi_dict['NO2_2020'].isna().sum())\n",
    "    print(f\"Shape of 2020 DF: {shape}, Count of Null values: {nullCount}\".format(shape , nullCount ))    \n",
    "    \n",
    "    timerange = ['2019-01-01', '2019-01-31']\n",
    "    aoi_dict['NO2_2019'] = caculateNO2(bbox, timerange)\n",
    "    shape = aoi_dict['NO2_2019'].shape\n",
    "    nullCount = sum(aoi_dict['NO2_2019'].isna().sum())\n",
    "    print(f\"Shape of 2019 DF: {shape}, Count of Null values: {nullCount}\".format(shape , nullCount ))\n",
    "\n",
    "    aoi_no2.append(aoi_dict)\n",
    "\n",
    "end = time.time()\n",
    "#print(len(aoi_no2))\n"
   ]
  },
  {
   "cell_type": "code",
   "execution_count": 9,
   "id": "prime-interstate",
   "metadata": {
    "execution": {
     "iopub.execute_input": "2021-03-15T09:14:59.941075Z",
     "iopub.status.busy": "2021-03-15T09:14:59.939735Z",
     "iopub.status.idle": "2021-03-15T09:14:59.945543Z",
     "shell.execute_reply": "2021-03-15T09:14:59.946205Z"
    },
    "papermill": {
     "duration": 0.037593,
     "end_time": "2021-03-15T09:14:59.946439",
     "exception": false,
     "start_time": "2021-03-15T09:14:59.908846",
     "status": "completed"
    },
    "tags": []
   },
   "outputs": [
    {
     "name": "stdout",
     "output_type": "stream",
     "text": [
      "Total processing time: 0.85 mins\n"
     ]
    }
   ],
   "source": [
    "print(\"Total processing time: {:.2} mins\".format((end-start)/60)) "
   ]
  },
  {
   "cell_type": "markdown",
   "id": "modern-patent",
   "metadata": {
    "papermill": {
     "duration": 0.025562,
     "end_time": "2021-03-15T09:15:00.006440",
     "exception": false,
     "start_time": "2021-03-15T09:14:59.980878",
     "status": "completed"
    },
    "tags": []
   },
   "source": [
    "The list is then pickled so that the information can then be reused in another run"
   ]
  },
  {
   "cell_type": "code",
   "execution_count": 10,
   "id": "musical-nature",
   "metadata": {
    "execution": {
     "iopub.execute_input": "2021-03-15T09:15:00.063811Z",
     "iopub.status.busy": "2021-03-15T09:15:00.061934Z",
     "iopub.status.idle": "2021-03-15T09:15:00.066394Z",
     "shell.execute_reply": "2021-03-15T09:15:00.067721Z"
    },
    "papermill": {
     "duration": 0.035157,
     "end_time": "2021-03-15T09:15:00.067983",
     "exception": false,
     "start_time": "2021-03-15T09:15:00.032826",
     "status": "completed"
    },
    "tags": []
   },
   "outputs": [],
   "source": [
    "import pickle \n",
    "#print(len(aoi_no2))\n",
    "with open('aoi_list_no2.pkl', 'wb') as f:\n",
    "    pickle.dump(aoi_no2, f)"
   ]
  },
  {
   "cell_type": "markdown",
   "id": "stuffed-silence",
   "metadata": {
    "papermill": {
     "duration": 0.024261,
     "end_time": "2021-03-15T09:15:00.120442",
     "exception": false,
     "start_time": "2021-03-15T09:15:00.096181",
     "status": "completed"
    },
    "tags": []
   },
   "source": [
    "## Plotting function\n",
    "\n",
    "This plots the NO2 values over time"
   ]
  },
  {
   "cell_type": "code",
   "execution_count": 11,
   "id": "hungarian-chart",
   "metadata": {
    "execution": {
     "iopub.execute_input": "2021-03-15T09:15:00.179507Z",
     "iopub.status.busy": "2021-03-15T09:15:00.177757Z",
     "iopub.status.idle": "2021-03-15T09:15:00.183918Z",
     "shell.execute_reply": "2021-03-15T09:15:00.182031Z"
    },
    "papermill": {
     "duration": 0.039828,
     "end_time": "2021-03-15T09:15:00.184139",
     "exception": false,
     "start_time": "2021-03-15T09:15:00.144311",
     "status": "completed"
    },
    "tags": []
   },
   "outputs": [],
   "source": [
    "import matplotlib.pyplot as plt\n",
    "\n",
    "def plot_no2(idx):\n",
    "    \"\"\"\n",
    "    parameters:\n",
    "    idx: Input id for accessing NO2 data \n",
    "    \n",
    "    return:\n",
    "    None\n",
    "    line plots for NO2 (2020 vs 2019) are generated\n",
    "    \"\"\"\n",
    "\n",
    "    plt.plot(aoi_no2[idx]['NO2_2020']['DateTime'], aoi_no2[idx]['NO2_2020']['Mean NO2'],  label = 'NO2 levels (2020)')\n",
    "    plt.plot(aoi_no2[idx]['NO2_2020']['DateTime'], aoi_no2[idx]['NO2_2019']['Mean NO2'], label = 'NO2 levels (2019)')\n",
    "    plt.ylabel('NO2 Levels')\n",
    "    plt.xlabel('Month')\n",
    "    plt.title('NO2 levels for '+ aoi_no2[idx]['Country_BBox'])\n",
    "    plt.legend()\n",
    "    plt.savefig(aoi_no2[idx]['Country_BBox']+'.png')\n",
    "    plt.show()"
   ]
  },
  {
   "cell_type": "code",
   "execution_count": 12,
   "id": "proud-chuck",
   "metadata": {
    "execution": {
     "iopub.execute_input": "2021-03-15T09:15:00.260271Z",
     "iopub.status.busy": "2021-03-15T09:15:00.241849Z",
     "iopub.status.idle": "2021-03-15T09:15:00.880847Z",
     "shell.execute_reply": "2021-03-15T09:15:00.879267Z"
    },
    "papermill": {
     "duration": 0.675421,
     "end_time": "2021-03-15T09:15:00.881082",
     "exception": false,
     "start_time": "2021-03-15T09:15:00.205661",
     "status": "completed"
    },
    "tags": []
   },
   "outputs": [
    {
     "data": {
      "image/png": "[encoded data removed]",
      "text/plain": [
       "<Figure size 432x288 with 1 Axes>"
      ]
     },
     "metadata": {
      "needs_background": "light"
     },
     "output_type": "display_data"
    }
   ],
   "source": [
    "for idx in range(len(aoi_no2)):\n",
    "    plot_no2(idx)\n"
   ]
  },
  {
   "cell_type": "code",
   "execution_count": null,
   "id": "arctic-retro",
   "metadata": {
    "papermill": {
     "duration": 0.02606,
     "end_time": "2021-03-15T09:15:00.941855",
     "exception": false,
     "start_time": "2021-03-15T09:15:00.915795",
     "status": "completed"
    },
    "tags": []
   },
   "outputs": [],
   "source": []
  }
 ],
 "metadata": {
  "kernelspec": {
   "display_name": "Python 3",
   "language": "python",
   "name": "python3"
  },
  "language_info": {
   "codemirror_mode": {
    "name": "ipython",
    "version": 3
   },
   "file_extension": ".py",
   "mimetype": "text/x-python",
   "name": "python",
   "nbconvert_exporter": "python",
   "pygments_lexer": "ipython3",
   "version": "3.8.8"
  },
  "papermill": {
   "duration": 58.077682,
   "end_time": "2021-03-15T09:15:02.437126",
   "environment_variables": {},
   "exception": null,
   "input_path": "/tmp/tmp7d0nunbz",
   "output_path": "/tmp/cur_notebook.ipynb",
   "parameters": {},
   "start_time": "2021-03-15T09:14:04.359444",
   "version": "2.1.0"
  },
  "properties": {
   "authors": [
    {
     "id": "efb05e9b-9eec-4e72-9b8d-ec1e782e7f23",
     "name": "aakashg80@gmail.com"
    }
   ],
   "description": "NO2 levels are used to assess success of pandemic lockdowns",
   "id": "1022d3c7-728e-484c-bce8-05b414282acc",
   "license": null,
   "name": "Covid19 Lockdown and Pollution (NO2)",
   "requirements": [
    "eurodatacube"
   ],
   "tags": [
    "COVID-19",
    "Analysis-Ready Data",
    "EO Data",
    "Jupyter",
    "Sentinel Data",
    "xcube"
   ],
   "tosAgree": true,
   "type": "Jupyter Notebook",
   "version": "1.0"
  }
 },
 "nbformat": 4,
 "nbformat_minor": 5
}