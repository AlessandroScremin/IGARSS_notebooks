{
 "cells": [
  {
   "cell_type": "markdown",
   "metadata": {},
   "source": [
    "<span style=\"color:red; font-family:Helvetica Neue, Helvetica, Arial, sans-serif; font-size:2em;\">An Exception was encountered at 'In [8]'.</span>"
   ]
  },
  {
   "cell_type": "markdown",
   "metadata": {
    "papermill": {
     "duration": 0.009017,
     "end_time": "2020-06-02T11:04:25.408969",
     "exception": false,
     "start_time": "2020-06-02T11:04:25.399952",
     "status": "completed"
    },
    "tags": []
   },
   "source": [
    "<span style=\"color:red; font-family:Helvetica Neue, Helvetica, Arial, sans-serif; font-size:2em;\">An Exception was encountered at 'In [6]'.</span>"
   ]
  },
  {
   "cell_type": "markdown",
   "metadata": {
    "papermill": {
     "duration": 0.007977,
     "end_time": "2020-06-02T11:04:25.424949",
     "exception": false,
     "start_time": "2020-06-02T11:04:25.416972",
     "status": "completed"
    },
    "tags": []
   },
   "source": [
    "<span style=\"color:red; font-family:Helvetica Neue, Helvetica, Arial, sans-serif; font-size:2em;\">An Exception was encountered at 'In [6]'.</span>"
   ]
  },
  {
   "cell_type": "markdown",
   "metadata": {
    "papermill": {
     "duration": 0.007844,
     "end_time": "2020-06-02T11:04:25.440608",
     "exception": false,
     "start_time": "2020-06-02T11:04:25.432764",
     "status": "completed"
    },
    "tags": []
   },
   "source": [
    "<span style=\"color:red; font-family:Helvetica Neue, Helvetica, Arial, sans-serif; font-size:2em;\">An Exception was encountered at 'In [6]'.</span>"
   ]
  },
  {
   "cell_type": "code",
   "execution_count": 1,
   "metadata": {
    "execution": {
     "iopub.execute_input": "2020-06-02T11:04:25.461405Z",
     "iopub.status.busy": "2020-06-02T11:04:25.460496Z",
     "iopub.status.idle": "2020-06-02T11:04:25.549069Z",
     "shell.execute_reply": "2020-06-02T11:04:25.549530Z"
    },
    "papermill": {
     "duration": 0.101194,
     "end_time": "2020-06-02T11:04:25.549675",
     "exception": false,
     "start_time": "2020-06-02T11:04:25.448481",
     "status": "completed"
    },
    "tags": []
   },
   "outputs": [
    {
     "data": {
      "text/markdown": [
       "API credentials have automatically been injected for your active subscriptions.  \n",
       "The following environment variables are now available:\n",
       "* `SH_INSTANCE_ID`\n",
       "* `SH_CLIENT_ID`\n",
       "* `SH_CLIENT_SECRET`\n",
       "* `SH_CLIENT_NAME`\n",
       "\n",
       "------\n"
      ],
      "text/plain": [
       "<IPython.core.display.Markdown object>"
      ]
     },
     "metadata": {},
     "output_type": "display_data"
    }
   ],
   "source": [
    "from edc import setup_environment_variables\n",
    "setup_environment_variables()"
   ]
  },
  {
   "cell_type": "code",
   "execution_count": 2,
   "metadata": {
    "execution": {
     "iopub.execute_input": "2020-06-02T11:04:25.570056Z",
     "iopub.status.busy": "2020-06-02T11:04:25.569380Z",
     "iopub.status.idle": "2020-06-02T11:04:25.571615Z",
     "shell.execute_reply": "2020-06-02T11:04:25.572044Z"
    },
    "papermill": {
     "duration": 0.014088,
     "end_time": "2020-06-02T11:04:25.572153",
     "exception": false,
     "start_time": "2020-06-02T11:04:25.558065",
     "status": "completed"
    },
    "tags": []
   },
   "outputs": [
    {
     "name": "stdout",
     "output_type": "stream",
     "text": [
      "Notebook is compatible\n"
     ]
    }
   ],
   "source": [
    "from edc import check_compatibility\n",
    "check_compatibility(\"v0.18.4\")"
   ]
  },
  {
   "cell_type": "markdown",
   "metadata": {
    "papermill": {
     "duration": 0.00844,
     "end_time": "2020-06-02T11:04:25.593151",
     "exception": false,
     "start_time": "2020-06-02T11:04:25.584711",
     "status": "completed"
    },
    "tags": []
   },
   "source": [
    "# Impact of Covid19 induced lockdown on NO2 levels \n",
    "\n"
   ]
  },
  {
   "cell_type": "markdown",
   "metadata": {
    "papermill": {
     "duration": 0.009274,
     "end_time": "2020-06-02T11:04:25.610859",
     "exception": false,
     "start_time": "2020-06-02T11:04:25.601585",
     "status": "completed"
    },
    "tags": []
   },
   "source": [
    "## Load required dependencies & credentials"
   ]
  },
  {
   "cell_type": "code",
   "execution_count": 3,
   "metadata": {
    "execution": {
     "iopub.execute_input": "2020-06-02T11:04:25.632599Z",
     "iopub.status.busy": "2020-06-02T11:04:25.631671Z",
     "iopub.status.idle": "2020-06-02T11:04:26.755739Z",
     "shell.execute_reply": "2020-06-02T11:04:26.756199Z"
    },
    "papermill": {
     "duration": 1.137122,
     "end_time": "2020-06-02T11:04:26.756364",
     "exception": false,
     "start_time": "2020-06-02T11:04:25.619242",
     "status": "completed"
    },
    "tags": []
   },
   "outputs": [],
   "source": [
    "# Import required packages\n",
    "\n",
    "from xcube_sh.config import CubeConfig\n",
    "from xcube_sh.cube import open_cube\n",
    "from xcube_sh.sentinelhub import SentinelHub\n",
    "import xarray as xr\n",
    "\n",
    "from sentinelhub import BBox, WmsRequest, DataSource, SHConfig\n",
    "from functools import partial\n",
    "\n",
    "import os\n",
    "import numpy as np\n",
    "import pandas as pd\n",
    "\n",
    "from matplotlib import pyplot as plt\n"
   ]
  },
  {
   "cell_type": "code",
   "execution_count": 4,
   "metadata": {
    "execution": {
     "iopub.execute_input": "2020-06-02T11:04:26.778698Z",
     "iopub.status.busy": "2020-06-02T11:04:26.777865Z",
     "iopub.status.idle": "2020-06-02T11:04:26.779611Z",
     "shell.execute_reply": "2020-06-02T11:04:26.780196Z"
    },
    "papermill": {
     "duration": 0.015459,
     "end_time": "2020-06-02T11:04:26.780381",
     "exception": false,
     "start_time": "2020-06-02T11:04:26.764922",
     "status": "completed"
    },
    "tags": []
   },
   "outputs": [],
   "source": [
    "# Set Sentinel Hub credentials\n",
    "\n",
    "sh_credentials = dict(client_id='<your Oauth client id>',\n",
    "                      client_secret='<client secret >') # This is only provided when the Oauth credentials are created\n",
    "\n",
    "# Sentinel-3 OLCI, Sentinel-3 SLSTR and Sentinel-5 layers are processed on different infrastructure, \n",
    "# which requires to used different end-point\n",
    "\n",
    "sh_credentials.update(api_url='https://creodias.sentinel-hub.com/api/v1') "
   ]
  },
  {
   "cell_type": "markdown",
   "metadata": {
    "papermill": {
     "duration": 0.009171,
     "end_time": "2020-06-02T11:04:26.802066",
     "exception": false,
     "start_time": "2020-06-02T11:04:26.792895",
     "status": "completed"
    },
    "tags": []
   },
   "source": [
    "## Core function to calculate NO2 values\n",
    "\n",
    "NO2 values are calculated over the given period (Jan -May) for 2020 & 2019"
   ]
  },
  {
   "cell_type": "code",
   "execution_count": 5,
   "metadata": {
    "execution": {
     "iopub.execute_input": "2020-06-02T11:04:26.826579Z",
     "iopub.status.busy": "2020-06-02T11:04:26.825776Z",
     "iopub.status.idle": "2020-06-02T11:04:26.828032Z",
     "shell.execute_reply": "2020-06-02T11:04:26.827541Z"
    },
    "papermill": {
     "duration": 0.01758,
     "end_time": "2020-06-02T11:04:26.828134",
     "exception": false,
     "start_time": "2020-06-02T11:04:26.810554",
     "status": "completed"
    },
    "tags": []
   },
   "outputs": [],
   "source": [
    "def caculateNO2(geometry, year):\n",
    "    \"\"\"\n",
    "    parameters:\n",
    "    geometry: BBox object to be passed. This contains the bounding box for the area of interest (AOI)\n",
    "    year: string object with the year for which we are calculating the data YYYY\n",
    "    \n",
    "    return:\n",
    "    a dataframe with two columns: Mean NO2 and Timestamp\n",
    "    NO2 mean values for the time span between Jan 01 to May 29th of the given ''year''\n",
    "    \n",
    "    \"\"\"\n",
    "    cube_config = CubeConfig(dataset_name='S5PL2',\n",
    "                         band_names=['NO2'],\n",
    "                         tile_size=[512, 512],\n",
    "                         geometry=geometry,\n",
    "                         spatial_res=abs(bbox[2]-bbox[0])/512,\n",
    "                         time_range=[year+'-01-01', year+'-05-29'],\n",
    "                         time_period='3D') \n",
    "    cube = open_cube(cube_config, **sh_credentials)\n",
    "\n",
    "    no2_values = list() \n",
    "    timestamp = list()\n",
    "\n",
    "    for i in range(cube.time.shape[0]):\n",
    "        no2_values.append(np.nanmean(cube.NO2.isel(time=i).values[0]))\n",
    "        timestamp.append(cube.NO2.isel(time=i).time.values)\n",
    "        \n",
    "    assert len(no2_values) == len(timestamp)\n",
    "    \n",
    "    return pd.DataFrame({'DateTime': timestamp, 'Mean NO2': no2_values})"
   ]
  },
  {
   "cell_type": "markdown",
   "metadata": {
    "papermill": {
     "duration": 0.008462,
     "end_time": "2020-06-02T11:04:26.844947",
     "exception": false,
     "start_time": "2020-06-02T11:04:26.836485",
     "status": "completed"
    },
    "tags": []
   },
   "source": [
    "## Read area of interest as a csv file\n",
    "The file has the following columns:\n",
    "Country: Name of country/territory of interest\n",
    "x1, y1 : Upper left corner co-ordinates (lat/lon)\n",
    "x2, y2 : Lower right corner co-ordinates\n"
   ]
  },
  {
   "cell_type": "code",
   "execution_count": 6,
   "metadata": {
    "execution": {
     "iopub.execute_input": "2020-06-02T11:04:26.879419Z",
     "iopub.status.busy": "2020-06-02T11:04:26.878803Z",
     "iopub.status.idle": "2020-06-02T11:04:26.898010Z",
     "shell.execute_reply": "2020-06-02T11:04:26.898431Z"
    },
    "papermill": {
     "duration": 0.045205,
     "end_time": "2020-06-02T11:04:26.898529",
     "exception": false,
     "start_time": "2020-06-02T11:04:26.853324",
     "status": "completed"
    },
    "tags": []
   },
   "outputs": [
    {
     "name": "stdout",
     "output_type": "stream",
     "text": [
      "(16, 5)\n"
     ]
    },
    {
     "data": {
      "text/html": [
       "<div>\n",
       "<style scoped>\n",
       "    .dataframe tbody tr th:only-of-type {\n",
       "        vertical-align: middle;\n",
       "    }\n",
       "\n",
       "    .dataframe tbody tr th {\n",
       "        vertical-align: top;\n",
       "    }\n",
       "\n",
       "    .dataframe thead th {\n",
       "        text-align: right;\n",
       "    }\n",
       "</style>\n",
       "<table border=\"1\" class=\"dataframe\">\n",
       "  <thead>\n",
       "    <tr style=\"text-align: right;\">\n",
       "      <th></th>\n",
       "      <th>Country</th>\n",
       "      <th>x1</th>\n",
       "      <th>y1</th>\n",
       "      <th>x2</th>\n",
       "      <th>y2</th>\n",
       "    </tr>\n",
       "  </thead>\n",
       "  <tbody>\n",
       "    <tr>\n",
       "      <th>0</th>\n",
       "      <td>Austria</td>\n",
       "      <td>48.622</td>\n",
       "      <td>11.821</td>\n",
       "      <td>46.561</td>\n",
       "      <td>16.963</td>\n",
       "    </tr>\n",
       "    <tr>\n",
       "      <th>1</th>\n",
       "      <td>Belgium</td>\n",
       "      <td>51.544</td>\n",
       "      <td>2.661</td>\n",
       "      <td>49.831</td>\n",
       "      <td>6.550</td>\n",
       "    </tr>\n",
       "    <tr>\n",
       "      <th>2</th>\n",
       "      <td>Bulgaria</td>\n",
       "      <td>44.099</td>\n",
       "      <td>22.421</td>\n",
       "      <td>41.503</td>\n",
       "      <td>28.332</td>\n",
       "    </tr>\n",
       "    <tr>\n",
       "      <th>3</th>\n",
       "      <td>Crotia</td>\n",
       "      <td>46.619</td>\n",
       "      <td>13.250</td>\n",
       "      <td>42.647</td>\n",
       "      <td>18.600</td>\n",
       "    </tr>\n",
       "    <tr>\n",
       "      <th>4</th>\n",
       "      <td>Czech</td>\n",
       "      <td>51.096</td>\n",
       "      <td>12.338</td>\n",
       "      <td>48.573</td>\n",
       "      <td>18.622</td>\n",
       "    </tr>\n",
       "    <tr>\n",
       "      <th>5</th>\n",
       "      <td>France</td>\n",
       "      <td>50.720</td>\n",
       "      <td>-4.110</td>\n",
       "      <td>42.770</td>\n",
       "      <td>8.260</td>\n",
       "    </tr>\n",
       "    <tr>\n",
       "      <th>6</th>\n",
       "      <td>Germany</td>\n",
       "      <td>54.770</td>\n",
       "      <td>4.700</td>\n",
       "      <td>47.630</td>\n",
       "      <td>15.730</td>\n",
       "    </tr>\n",
       "    <tr>\n",
       "      <th>7</th>\n",
       "      <td>Greece</td>\n",
       "      <td>41.500</td>\n",
       "      <td>18.460</td>\n",
       "      <td>35.010</td>\n",
       "      <td>27.910</td>\n",
       "    </tr>\n",
       "  </tbody>\n",
       "</table>\n",
       "</div>"
      ],
      "text/plain": [
       "    Country      x1      y1      x2      y2\n",
       "0   Austria  48.622  11.821  46.561  16.963\n",
       "1   Belgium  51.544   2.661  49.831   6.550\n",
       "2  Bulgaria  44.099  22.421  41.503  28.332\n",
       "3    Crotia  46.619  13.250  42.647  18.600\n",
       "4     Czech  51.096  12.338  48.573  18.622\n",
       "5    France  50.720  -4.110  42.770   8.260\n",
       "6   Germany  54.770   4.700  47.630  15.730\n",
       "7    Greece  41.500  18.460  35.010  27.910"
      ]
     },
     "execution_count": 6,
     "metadata": {},
     "output_type": "execute_result"
    }
   ],
   "source": [
    "aoi = pd.read_csv(os.path.expanduser('~/.shared/artifacts/NO2_Analysis_Covid19_Lockdowns-AOI.csv'))\n",
    "print(aoi.shape)\n",
    "aoi.head(8)"
   ]
  },
  {
   "cell_type": "code",
   "execution_count": 7,
   "metadata": {
    "execution": {
     "iopub.execute_input": "2020-06-02T11:04:26.920553Z",
     "iopub.status.busy": "2020-06-02T11:04:26.919514Z",
     "iopub.status.idle": "2020-06-02T11:04:26.923021Z",
     "shell.execute_reply": "2020-06-02T11:04:26.922460Z"
    },
    "papermill": {
     "duration": 0.015675,
     "end_time": "2020-06-02T11:04:26.923115",
     "exception": false,
     "start_time": "2020-06-02T11:04:26.907440",
     "status": "completed"
    },
    "tags": []
   },
   "outputs": [
    {
     "name": "stdout",
     "output_type": "stream",
     "text": [
      "Shape of 2020 DF: (16, 5), Count of Null values: 0\n"
     ]
    }
   ],
   "source": [
    "shape = aoi.shape\n",
    "nullCount = sum(aoi.isna().sum())\n",
    "print(f\"Shape of 2020 DF: {shape}, Count of Null values: {nullCount}\".format(shape , nullCount ))"
   ]
  },
  {
   "cell_type": "markdown",
   "metadata": {
    "papermill": {
     "duration": 0.009228,
     "end_time": "2020-06-02T11:04:26.941543",
     "exception": false,
     "start_time": "2020-06-02T11:04:26.932315",
     "status": "completed"
    },
    "tags": []
   },
   "source": [
    "## Main loop \n",
    "\n",
    "We iterate over each row in the `aoi.csv` file \n",
    "\n",
    "Sentinel-5P data for each defined AOI cube is extracted \n",
    "\n",
    "NO2 values for each tile is then averaged & stored in a list"
   ]
  },
  {
   "cell_type": "code",
   "execution_count": 8,
   "metadata": {
    "execution": {
     "iopub.execute_input": "2020-06-02T11:04:26.972260Z",
     "iopub.status.busy": "2020-06-02T11:04:26.971588Z",
     "iopub.status.idle": "2020-06-02T11:04:27.117794Z",
     "shell.execute_reply": "2020-06-02T11:04:27.117055Z"
    },
    "papermill": {
     "duration": 0.167191,
     "end_time": "2020-06-02T11:04:27.117946",
     "exception": true,
     "start_time": "2020-06-02T11:04:26.950755",
     "status": "failed"
    },
    "tags": []
   },
   "outputs": [
    {
     "name": "stdout",
     "output_type": "stream",
     "text": [
      "Processing:  Greece\n"
     ]
    },
    {
     "ename": "CustomOAuth2Error",
     "evalue": "({'status': 400, 'reason': 'Bad Request', 'message': 'Illegal client_id', 'code': 'OAUTH_ERROR'}) ",
     "output_type": "error",
     "traceback": [
      "\u001b[0;31m---------------------------------------------------------------------------\u001b[0m",
      "\u001b[0;31mCustomOAuth2Error\u001b[0m                         Traceback (most recent call last)",
      "\u001b[0;32m<ipython-input-8-47e795d3c188>\u001b[0m in \u001b[0;36m<module>\u001b[0;34m\u001b[0m\n\u001b[1;32m     13\u001b[0m \u001b[0;34m\u001b[0m\u001b[0m\n\u001b[1;32m     14\u001b[0m     \u001b[0mbbox\u001b[0m \u001b[0;34m=\u001b[0m \u001b[0mx1\u001b[0m\u001b[0;34m,\u001b[0m \u001b[0my1\u001b[0m\u001b[0;34m,\u001b[0m \u001b[0mx2\u001b[0m\u001b[0;34m,\u001b[0m \u001b[0my2\u001b[0m\u001b[0;34m\u001b[0m\u001b[0;34m\u001b[0m\u001b[0m\n\u001b[0;32m---> 15\u001b[0;31m     \u001b[0maoi_dict\u001b[0m\u001b[0;34m[\u001b[0m\u001b[0;34m'NO2_2020'\u001b[0m\u001b[0;34m]\u001b[0m \u001b[0;34m=\u001b[0m \u001b[0mcaculateNO2\u001b[0m\u001b[0;34m(\u001b[0m\u001b[0mbbox\u001b[0m\u001b[0;34m,\u001b[0m \u001b[0;34m'2020'\u001b[0m\u001b[0;34m)\u001b[0m\u001b[0;34m\u001b[0m\u001b[0;34m\u001b[0m\u001b[0m\n\u001b[0m\u001b[1;32m     16\u001b[0m     \u001b[0mshape\u001b[0m \u001b[0;34m=\u001b[0m \u001b[0maoi_dict\u001b[0m\u001b[0;34m[\u001b[0m\u001b[0;34m'NO2_2020'\u001b[0m\u001b[0;34m]\u001b[0m\u001b[0;34m.\u001b[0m\u001b[0mshape\u001b[0m\u001b[0;34m\u001b[0m\u001b[0;34m\u001b[0m\u001b[0m\n\u001b[1;32m     17\u001b[0m     \u001b[0mnullCount\u001b[0m \u001b[0;34m=\u001b[0m \u001b[0msum\u001b[0m\u001b[0;34m(\u001b[0m\u001b[0maoi_dict\u001b[0m\u001b[0;34m[\u001b[0m\u001b[0;34m'NO2_2020'\u001b[0m\u001b[0;34m]\u001b[0m\u001b[0;34m.\u001b[0m\u001b[0misna\u001b[0m\u001b[0;34m(\u001b[0m\u001b[0;34m)\u001b[0m\u001b[0;34m.\u001b[0m\u001b[0msum\u001b[0m\u001b[0;34m(\u001b[0m\u001b[0;34m)\u001b[0m\u001b[0;34m)\u001b[0m\u001b[0;34m\u001b[0m\u001b[0;34m\u001b[0m\u001b[0m\n",
      "\u001b[0;32m<ipython-input-5-e44ce2ebf49d>\u001b[0m in \u001b[0;36mcaculateNO2\u001b[0;34m(geometry, year)\u001b[0m\n\u001b[1;32m     17\u001b[0m                          \u001b[0mtime_range\u001b[0m\u001b[0;34m=\u001b[0m\u001b[0;34m[\u001b[0m\u001b[0myear\u001b[0m\u001b[0;34m+\u001b[0m\u001b[0;34m'-01-01'\u001b[0m\u001b[0;34m,\u001b[0m \u001b[0myear\u001b[0m\u001b[0;34m+\u001b[0m\u001b[0;34m'-05-29'\u001b[0m\u001b[0;34m]\u001b[0m\u001b[0;34m,\u001b[0m\u001b[0;34m\u001b[0m\u001b[0;34m\u001b[0m\u001b[0m\n\u001b[1;32m     18\u001b[0m                          time_period='3D') \n\u001b[0;32m---> 19\u001b[0;31m     \u001b[0mcube\u001b[0m \u001b[0;34m=\u001b[0m \u001b[0mopen_cube\u001b[0m\u001b[0;34m(\u001b[0m\u001b[0mcube_config\u001b[0m\u001b[0;34m,\u001b[0m \u001b[0;34m**\u001b[0m\u001b[0msh_credentials\u001b[0m\u001b[0;34m)\u001b[0m\u001b[0;34m\u001b[0m\u001b[0;34m\u001b[0m\u001b[0m\n\u001b[0m\u001b[1;32m     20\u001b[0m \u001b[0;34m\u001b[0m\u001b[0m\n\u001b[1;32m     21\u001b[0m     \u001b[0mno2_values\u001b[0m \u001b[0;34m=\u001b[0m \u001b[0mlist\u001b[0m\u001b[0;34m(\u001b[0m\u001b[0;34m)\u001b[0m\u001b[0;34m\u001b[0m\u001b[0;34m\u001b[0m\u001b[0m\n",
      "\u001b[0;32m/opt/conda/lib/python3.7/site-packages/xcube_sh/cube.py\u001b[0m in \u001b[0;36mopen_cube\u001b[0;34m(cube_config, observer, trace_store_calls, max_cache_size, **sh_kwargs)\u001b[0m\n\u001b[1;32m     47\u001b[0m     \u001b[0;34m:\u001b[0m\u001b[0;32mreturn\u001b[0m\u001b[0;34m:\u001b[0m \u001b[0mthe\u001b[0m \u001b[0mdata\u001b[0m \u001b[0mcube\u001b[0m \u001b[0mrepresented\u001b[0m \u001b[0mby\u001b[0m \u001b[0man\u001b[0m \u001b[0mxarray\u001b[0m \u001b[0mDataset\u001b[0m \u001b[0mobject\u001b[0m\u001b[0;34m.\u001b[0m\u001b[0;34m\u001b[0m\u001b[0;34m\u001b[0m\u001b[0m\n\u001b[1;32m     48\u001b[0m     \"\"\"\n\u001b[0;32m---> 49\u001b[0;31m     \u001b[0msentinel_hub\u001b[0m \u001b[0;34m=\u001b[0m \u001b[0mSentinelHub\u001b[0m\u001b[0;34m(\u001b[0m\u001b[0;34m**\u001b[0m\u001b[0msh_kwargs\u001b[0m\u001b[0;34m)\u001b[0m\u001b[0;34m\u001b[0m\u001b[0;34m\u001b[0m\u001b[0m\n\u001b[0m\u001b[1;32m     50\u001b[0m     \u001b[0mcube_store\u001b[0m \u001b[0;34m=\u001b[0m \u001b[0mSentinelHubStore\u001b[0m\u001b[0;34m(\u001b[0m\u001b[0msentinel_hub\u001b[0m\u001b[0;34m,\u001b[0m \u001b[0mcube_config\u001b[0m\u001b[0;34m,\u001b[0m \u001b[0mobserver\u001b[0m\u001b[0;34m=\u001b[0m\u001b[0mobserver\u001b[0m\u001b[0;34m,\u001b[0m \u001b[0mtrace_store_calls\u001b[0m\u001b[0;34m=\u001b[0m\u001b[0mtrace_store_calls\u001b[0m\u001b[0;34m)\u001b[0m\u001b[0;34m\u001b[0m\u001b[0;34m\u001b[0m\u001b[0m\n\u001b[1;32m     51\u001b[0m     \u001b[0;32mif\u001b[0m \u001b[0mmax_cache_size\u001b[0m\u001b[0;34m:\u001b[0m\u001b[0;34m\u001b[0m\u001b[0;34m\u001b[0m\u001b[0m\n",
      "\u001b[0;32m/opt/conda/lib/python3.7/site-packages/xcube_sh/sentinelhub.py\u001b[0m in \u001b[0;36m__init__\u001b[0;34m(self, client_id, client_secret, instance_id, api_url, oauth2_url, enable_warnings, error_policy, error_handler, num_retries, retry_backoff_max, retry_backoff_base, session)\u001b[0m\n\u001b[1;32m    102\u001b[0m             self.token = self.session.fetch_token(token_url=self.oauth2_url + '/token',\n\u001b[1;32m    103\u001b[0m                                                   \u001b[0mclient_id\u001b[0m\u001b[0;34m=\u001b[0m\u001b[0mclient_id\u001b[0m\u001b[0;34m,\u001b[0m\u001b[0;34m\u001b[0m\u001b[0;34m\u001b[0m\u001b[0m\n\u001b[0;32m--> 104\u001b[0;31m                                                   client_secret=client_secret)\n\u001b[0m\u001b[1;32m    105\u001b[0m             \u001b[0mself\u001b[0m\u001b[0;34m.\u001b[0m\u001b[0mclient_id\u001b[0m \u001b[0;34m=\u001b[0m \u001b[0mclient_id\u001b[0m\u001b[0;34m\u001b[0m\u001b[0;34m\u001b[0m\u001b[0m\n\u001b[1;32m    106\u001b[0m         \u001b[0;32melse\u001b[0m\u001b[0;34m:\u001b[0m\u001b[0;34m\u001b[0m\u001b[0;34m\u001b[0m\u001b[0m\n",
      "\u001b[0;32m/opt/conda/lib/python3.7/site-packages/requests_oauthlib/oauth2_session.py\u001b[0m in \u001b[0;36mfetch_token\u001b[0;34m(self, token_url, code, authorization_response, body, auth, username, password, method, timeout, headers, verify, proxies, include_client_id, client_secret, **kwargs)\u001b[0m\n\u001b[1;32m    305\u001b[0m             \u001b[0mr\u001b[0m \u001b[0;34m=\u001b[0m \u001b[0mhook\u001b[0m\u001b[0;34m(\u001b[0m\u001b[0mr\u001b[0m\u001b[0;34m)\u001b[0m\u001b[0;34m\u001b[0m\u001b[0;34m\u001b[0m\u001b[0m\n\u001b[1;32m    306\u001b[0m \u001b[0;34m\u001b[0m\u001b[0m\n\u001b[0;32m--> 307\u001b[0;31m         \u001b[0mself\u001b[0m\u001b[0;34m.\u001b[0m\u001b[0m_client\u001b[0m\u001b[0;34m.\u001b[0m\u001b[0mparse_request_body_response\u001b[0m\u001b[0;34m(\u001b[0m\u001b[0mr\u001b[0m\u001b[0;34m.\u001b[0m\u001b[0mtext\u001b[0m\u001b[0;34m,\u001b[0m \u001b[0mscope\u001b[0m\u001b[0;34m=\u001b[0m\u001b[0mself\u001b[0m\u001b[0;34m.\u001b[0m\u001b[0mscope\u001b[0m\u001b[0;34m)\u001b[0m\u001b[0;34m\u001b[0m\u001b[0;34m\u001b[0m\u001b[0m\n\u001b[0m\u001b[1;32m    308\u001b[0m         \u001b[0mself\u001b[0m\u001b[0;34m.\u001b[0m\u001b[0mtoken\u001b[0m \u001b[0;34m=\u001b[0m \u001b[0mself\u001b[0m\u001b[0;34m.\u001b[0m\u001b[0m_client\u001b[0m\u001b[0;34m.\u001b[0m\u001b[0mtoken\u001b[0m\u001b[0;34m\u001b[0m\u001b[0;34m\u001b[0m\u001b[0m\n\u001b[1;32m    309\u001b[0m         \u001b[0mlog\u001b[0m\u001b[0;34m.\u001b[0m\u001b[0mdebug\u001b[0m\u001b[0;34m(\u001b[0m\u001b[0;34m'Obtained token %s.'\u001b[0m\u001b[0;34m,\u001b[0m \u001b[0mself\u001b[0m\u001b[0;34m.\u001b[0m\u001b[0mtoken\u001b[0m\u001b[0;34m)\u001b[0m\u001b[0;34m\u001b[0m\u001b[0;34m\u001b[0m\u001b[0m\n",
      "\u001b[0;32m/opt/conda/lib/python3.7/site-packages/oauthlib/oauth2/rfc6749/clients/base.py\u001b[0m in \u001b[0;36mparse_request_body_response\u001b[0;34m(self, body, scope, **kwargs)\u001b[0m\n\u001b[1;32m    413\u001b[0m         \u001b[0;34m.\u001b[0m\u001b[0;34m.\u001b[0m \u001b[0m_\u001b[0m\u001b[0;31m`\u001b[0m\u001b[0mSection\u001b[0m \u001b[0;36m7.1\u001b[0m\u001b[0;31m`\u001b[0m\u001b[0;34m:\u001b[0m \u001b[0mhttps\u001b[0m\u001b[0;34m:\u001b[0m\u001b[0;34m//\u001b[0m\u001b[0mtools\u001b[0m\u001b[0;34m.\u001b[0m\u001b[0mietf\u001b[0m\u001b[0;34m.\u001b[0m\u001b[0morg\u001b[0m\u001b[0;34m/\u001b[0m\u001b[0mhtml\u001b[0m\u001b[0;34m/\u001b[0m\u001b[0mrfc6749\u001b[0m\u001b[0;31m#section-7.1\u001b[0m\u001b[0;34m\u001b[0m\u001b[0;34m\u001b[0m\u001b[0m\n\u001b[1;32m    414\u001b[0m         \"\"\"\n\u001b[0;32m--> 415\u001b[0;31m         \u001b[0mself\u001b[0m\u001b[0;34m.\u001b[0m\u001b[0mtoken\u001b[0m \u001b[0;34m=\u001b[0m \u001b[0mparse_token_response\u001b[0m\u001b[0;34m(\u001b[0m\u001b[0mbody\u001b[0m\u001b[0;34m,\u001b[0m \u001b[0mscope\u001b[0m\u001b[0;34m=\u001b[0m\u001b[0mscope\u001b[0m\u001b[0;34m)\u001b[0m\u001b[0;34m\u001b[0m\u001b[0;34m\u001b[0m\u001b[0m\n\u001b[0m\u001b[1;32m    416\u001b[0m         \u001b[0mself\u001b[0m\u001b[0;34m.\u001b[0m\u001b[0mpopulate_token_attributes\u001b[0m\u001b[0;34m(\u001b[0m\u001b[0mself\u001b[0m\u001b[0;34m.\u001b[0m\u001b[0mtoken\u001b[0m\u001b[0;34m)\u001b[0m\u001b[0;34m\u001b[0m\u001b[0;34m\u001b[0m\u001b[0m\n\u001b[1;32m    417\u001b[0m         \u001b[0;32mreturn\u001b[0m \u001b[0mself\u001b[0m\u001b[0;34m.\u001b[0m\u001b[0mtoken\u001b[0m\u001b[0;34m\u001b[0m\u001b[0;34m\u001b[0m\u001b[0m\n",
      "\u001b[0;32m/opt/conda/lib/python3.7/site-packages/oauthlib/oauth2/rfc6749/parameters.py\u001b[0m in \u001b[0;36mparse_token_response\u001b[0;34m(body, scope)\u001b[0m\n\u001b[1;32m    423\u001b[0m \u001b[0;34m\u001b[0m\u001b[0m\n\u001b[1;32m    424\u001b[0m     \u001b[0mparams\u001b[0m \u001b[0;34m=\u001b[0m \u001b[0mOAuth2Token\u001b[0m\u001b[0;34m(\u001b[0m\u001b[0mparams\u001b[0m\u001b[0;34m,\u001b[0m \u001b[0mold_scope\u001b[0m\u001b[0;34m=\u001b[0m\u001b[0mscope\u001b[0m\u001b[0;34m)\u001b[0m\u001b[0;34m\u001b[0m\u001b[0;34m\u001b[0m\u001b[0m\n\u001b[0;32m--> 425\u001b[0;31m     \u001b[0mvalidate_token_parameters\u001b[0m\u001b[0;34m(\u001b[0m\u001b[0mparams\u001b[0m\u001b[0;34m)\u001b[0m\u001b[0;34m\u001b[0m\u001b[0;34m\u001b[0m\u001b[0m\n\u001b[0m\u001b[1;32m    426\u001b[0m     \u001b[0;32mreturn\u001b[0m \u001b[0mparams\u001b[0m\u001b[0;34m\u001b[0m\u001b[0;34m\u001b[0m\u001b[0m\n\u001b[1;32m    427\u001b[0m \u001b[0;34m\u001b[0m\u001b[0m\n",
      "\u001b[0;32m/opt/conda/lib/python3.7/site-packages/oauthlib/oauth2/rfc6749/parameters.py\u001b[0m in \u001b[0;36mvalidate_token_parameters\u001b[0;34m(params)\u001b[0m\n\u001b[1;32m    430\u001b[0m     \u001b[0;34m\"\"\"Ensures token precence, token type, expiration and scope in params.\"\"\"\u001b[0m\u001b[0;34m\u001b[0m\u001b[0;34m\u001b[0m\u001b[0m\n\u001b[1;32m    431\u001b[0m     \u001b[0;32mif\u001b[0m \u001b[0;34m'error'\u001b[0m \u001b[0;32min\u001b[0m \u001b[0mparams\u001b[0m\u001b[0;34m:\u001b[0m\u001b[0;34m\u001b[0m\u001b[0;34m\u001b[0m\u001b[0m\n\u001b[0;32m--> 432\u001b[0;31m         \u001b[0mraise_from_error\u001b[0m\u001b[0;34m(\u001b[0m\u001b[0mparams\u001b[0m\u001b[0;34m.\u001b[0m\u001b[0mget\u001b[0m\u001b[0;34m(\u001b[0m\u001b[0;34m'error'\u001b[0m\u001b[0;34m)\u001b[0m\u001b[0;34m,\u001b[0m \u001b[0mparams\u001b[0m\u001b[0;34m)\u001b[0m\u001b[0;34m\u001b[0m\u001b[0;34m\u001b[0m\u001b[0m\n\u001b[0m\u001b[1;32m    433\u001b[0m \u001b[0;34m\u001b[0m\u001b[0m\n\u001b[1;32m    434\u001b[0m     \u001b[0;32mif\u001b[0m \u001b[0;32mnot\u001b[0m \u001b[0;34m'access_token'\u001b[0m \u001b[0;32min\u001b[0m \u001b[0mparams\u001b[0m\u001b[0;34m:\u001b[0m\u001b[0;34m\u001b[0m\u001b[0;34m\u001b[0m\u001b[0m\n",
      "\u001b[0;32m/opt/conda/lib/python3.7/site-packages/oauthlib/oauth2/rfc6749/errors.py\u001b[0m in \u001b[0;36mraise_from_error\u001b[0;34m(error, params)\u001b[0m\n\u001b[1;32m    404\u001b[0m         \u001b[0;32mif\u001b[0m \u001b[0mcls\u001b[0m\u001b[0;34m.\u001b[0m\u001b[0merror\u001b[0m \u001b[0;34m==\u001b[0m \u001b[0merror\u001b[0m\u001b[0;34m:\u001b[0m\u001b[0;34m\u001b[0m\u001b[0;34m\u001b[0m\u001b[0m\n\u001b[1;32m    405\u001b[0m             \u001b[0;32mraise\u001b[0m \u001b[0mcls\u001b[0m\u001b[0;34m(\u001b[0m\u001b[0;34m**\u001b[0m\u001b[0mkwargs\u001b[0m\u001b[0;34m)\u001b[0m\u001b[0;34m\u001b[0m\u001b[0;34m\u001b[0m\u001b[0m\n\u001b[0;32m--> 406\u001b[0;31m     \u001b[0;32mraise\u001b[0m \u001b[0mCustomOAuth2Error\u001b[0m\u001b[0;34m(\u001b[0m\u001b[0merror\u001b[0m\u001b[0;34m=\u001b[0m\u001b[0merror\u001b[0m\u001b[0;34m,\u001b[0m \u001b[0;34m**\u001b[0m\u001b[0mkwargs\u001b[0m\u001b[0;34m)\u001b[0m\u001b[0;34m\u001b[0m\u001b[0;34m\u001b[0m\u001b[0m\n\u001b[0m",
      "\u001b[0;31mCustomOAuth2Error\u001b[0m: ({'status': 400, 'reason': 'Bad Request', 'message': 'Illegal client_id', 'code': 'OAUTH_ERROR'}) "
     ]
    }
   ],
   "source": [
    "import time \n",
    "\n",
    "start = time.time()\n",
    "aoi_no2 = list()\n",
    "for idx, row in aoi[7:].iterrows():\n",
    "    aoi_dict = dict()\n",
    "    aoi_dict['Country_BBox'] = row['Country']\n",
    "    print(\"Processing: \", aoi_dict['Country_BBox'])\n",
    "    x1 = row['x1']  # degree \n",
    "    y1 = row['y1']  # degree\n",
    "    x2 = row['x2']  # degree\n",
    "    y2 = row['y2']  # degree\n",
    "\n",
    "    bbox = x1, y1, x2, y2\n",
    "    aoi_dict['NO2_2020'] = caculateNO2(bbox, '2020')\n",
    "    shape = aoi_dict['NO2_2020'].shape\n",
    "    nullCount = sum(aoi_dict['NO2_2020'].isna().sum())\n",
    "    print(f\"Shape of 2020 DF: {shape}, Count of Null values: {nullCount}\".format(shape , nullCount ))    \n",
    "    \n",
    "    aoi_dict['NO2_2019'] = caculateNO2(bbox, '2019')\n",
    "    shape = aoi_dict['NO2_2019'].shape\n",
    "    nullCount = sum(aoi_dict['NO2_2019'].isna().sum())\n",
    "    print(f\"Shape of 2019 DF: {shape}, Count of Null values: {nullCount}\".format(shape , nullCount ))\n",
    "    \n",
    "    aoi_no2.append(aoi_dict)\n",
    "\n",
    "end = time.time()\n",
    "print(len(aoi_no2))\n",
    "print(end-start)"
   ]
  },
  {
   "cell_type": "markdown",
   "metadata": {
    "papermill": {
     "duration": null,
     "end_time": null,
     "exception": null,
     "start_time": null,
     "status": "pending"
    },
    "tags": []
   },
   "source": [
    "The list is then pickled so that the information can then be reused in another run"
   ]
  },
  {
   "cell_type": "code",
   "execution_count": null,
   "metadata": {
    "papermill": {
     "duration": null,
     "end_time": null,
     "exception": null,
     "start_time": null,
     "status": "pending"
    },
    "tags": []
   },
   "outputs": [],
   "source": [
    "import pickle \n",
    "print(len(aoi_no2))\n",
    "with open('aoi_list_7.pkl', 'wb') as f:\n",
    "    pickle.dump(aoi_no2, f)"
   ]
  },
  {
   "cell_type": "markdown",
   "metadata": {
    "papermill": {
     "duration": null,
     "end_time": null,
     "exception": null,
     "start_time": null,
     "status": "pending"
    },
    "tags": []
   },
   "source": [
    "## Plotting function\n",
    "\n",
    "This plots the NO2 values over time"
   ]
  },
  {
   "cell_type": "code",
   "execution_count": null,
   "metadata": {
    "papermill": {
     "duration": null,
     "end_time": null,
     "exception": null,
     "start_time": null,
     "status": "pending"
    },
    "tags": []
   },
   "outputs": [],
   "source": [
    "import matplotlib as plt\n",
    "\n",
    "def plot_no2(idx):\n",
    "    \"\"\"\n",
    "    parameters:\n",
    "    idx: Input id for accessing NO2 data \n",
    "    \n",
    "    return:\n",
    "    None\n",
    "    line plots for NO2 (2020 vs 2019) are generated\n",
    "    \"\"\"\n",
    "\n",
    "    plt.plot(aoi_no2[idx]['NO2_2020']['DateTime'], aoi_no2[idx]['NO2_2020']['Mean NO2'],  label = 'NO2 levels (2020)')\n",
    "    plt.plot(aoi_no2[idx]['NO2_2020']['DateTime'], aoi_no2[idx]['NO2_2019']['Mean NO2'], label = 'NO2 levels (2019)')\n",
    "    plt.ylabel('NO2 Levels')\n",
    "    plt.xlabel('Month')\n",
    "    plt.title('NO2 levels for '+ aoi_no2[idx]['Country_BBox'])\n",
    "    plt.legend()\n",
    "    plt.savefig(aoi_no2[idx]['Country_BBox']+'.png')\n",
    "    plt.show()"
   ]
  },
  {
   "cell_type": "code",
   "execution_count": null,
   "metadata": {
    "papermill": {
     "duration": null,
     "end_time": null,
     "exception": null,
     "start_time": null,
     "status": "pending"
    },
    "tags": []
   },
   "outputs": [],
   "source": [
    "for idx in range(len(aoi_no2)):\n",
    "    plot_no2(idx)\n"
   ]
  }
 ],
 "metadata": {
  "kernelspec": {
   "display_name": "Python 3",
   "language": "python",
   "name": "python3"
  },
  "language_info": {
   "codemirror_mode": {
    "name": "ipython",
    "version": 3
   },
   "file_extension": ".py",
   "mimetype": "text/x-python",
   "name": "python",
   "nbconvert_exporter": "python",
   "pygments_lexer": "ipython3",
   "version": "3.7.6"
  },
  "papermill": {
   "duration": 2.728308,
   "end_time": "2020-06-02T11:04:27.326294",
   "environment_variables": {},
   "exception": true,
   "input_path": "/tmp/tmp02ltdgo0",
   "output_path": "/tmp/notebook_output.ipynb",
   "parameters": {},
   "start_time": "2020-06-02T11:04:24.597986",
   "version": "2.1.0"
  },
  "properties": {
   "description": "NO2 levels are used to assess success of pandemic lockdowns",
   "id": "1022d3c7-728e-484c-bce8-05b414282acc",
   "license": null,
   "name": "Covid19 Lockdown and Pollution (NO2)",
   "requirements": [
    "eurodatacube"
   ],
   "tags": [
    "COVID-19",
    "Analysis-Ready Data",
    "EO Data",
    "Getting started",
    "Jupyter",
    "Sentinel Data",
    "xcube"
   ],
   "tosAgree": true,
   "type": "Jupyter Notebook",
   "user_id": "efb05e9b-9eec-4e72-9b8d-ec1e782e7f23",
   "version": "1.0"
  }
 },
 "nbformat": 4,
 "nbformat_minor": 4
}