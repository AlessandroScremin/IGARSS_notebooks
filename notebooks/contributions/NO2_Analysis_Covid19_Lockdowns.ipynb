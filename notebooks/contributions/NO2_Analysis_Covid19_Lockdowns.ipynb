{
 "cells": [
  {
   "cell_type": "markdown",
   "metadata": {},
   "source": [
    "<span style=\"color:red; font-family:Helvetica Neue, Helvetica, Arial, sans-serif; font-size:2em;\">An Exception was encountered at 'In [9]'.</span>"
   ]
  },
  {
   "cell_type": "code",
   "execution_count": 1,
   "metadata": {
    "execution": {
     "iopub.execute_input": "2020-06-04T07:25:59.676290Z",
     "iopub.status.busy": "2020-06-04T07:25:59.675499Z",
     "iopub.status.idle": "2020-06-04T07:25:59.798139Z",
     "shell.execute_reply": "2020-06-04T07:25:59.797428Z"
    },
    "papermill": {
     "duration": 0.139835,
     "end_time": "2020-06-04T07:25:59.798253",
     "exception": false,
     "start_time": "2020-06-04T07:25:59.658418",
     "status": "completed"
    },
    "tags": []
   },
   "outputs": [
    {
     "data": {
      "text/markdown": [
       "API credentials have automatically been injected for your active subscriptions.  \n",
       "The following environment variables are now available:\n",
       "* `SH_INSTANCE_ID`\n",
       "* `SH_CLIENT_ID`\n",
       "* `SH_CLIENT_SECRET`\n",
       "* `SH_CLIENT_NAME`\n",
       "\n",
       "------\n"
      ],
      "text/plain": [
       "<IPython.core.display.Markdown object>"
      ]
     },
     "metadata": {},
     "output_type": "display_data"
    }
   ],
   "source": [
    "from edc import setup_environment_variables\n",
    "setup_environment_variables()"
   ]
  },
  {
   "cell_type": "code",
   "execution_count": 2,
   "metadata": {
    "execution": {
     "iopub.execute_input": "2020-06-04T07:25:59.838992Z",
     "iopub.status.busy": "2020-06-04T07:25:59.838192Z",
     "iopub.status.idle": "2020-06-04T07:25:59.840828Z",
     "shell.execute_reply": "2020-06-04T07:25:59.841364Z"
    },
    "papermill": {
     "duration": 0.022815,
     "end_time": "2020-06-04T07:25:59.841503",
     "exception": false,
     "start_time": "2020-06-04T07:25:59.818688",
     "status": "completed"
    },
    "tags": []
   },
   "outputs": [
    {
     "name": "stdout",
     "output_type": "stream",
     "text": [
      "Notebook is compatible\n"
     ]
    }
   ],
   "source": [
    "from edc import check_compatibility\n",
    "check_compatibility(\"v0.18.4\")"
   ]
  },
  {
   "cell_type": "markdown",
   "metadata": {
    "papermill": {
     "duration": 0.015491,
     "end_time": "2020-06-04T07:25:59.872656",
     "exception": false,
     "start_time": "2020-06-04T07:25:59.857165",
     "status": "completed"
    },
    "tags": []
   },
   "source": [
    "# Impact of Covid19 induced lockdown on NO2 levels \n",
    "\n",
    "- Countries have initiated lockdown measures to control the spread of the disease \n",
    "- Not all of the measures were successful (Italy) \n",
    "- Countries (Germany) which successful implemented a lockdown showed a marked decrease in NO2 levels \n",
    "\n",
    "- NO2 is produced when fossil fuels are burned, as during transportation (cars, trucks etc. ) or \n",
    "- due to other economic activities (like factories )\n"
   ]
  },
  {
   "cell_type": "markdown",
   "metadata": {
    "papermill": {
     "duration": 0.023325,
     "end_time": "2020-06-04T07:25:59.910231",
     "exception": false,
     "start_time": "2020-06-04T07:25:59.886906",
     "status": "completed"
    },
    "tags": []
   },
   "source": [
    "## Load required dependencies & credentials"
   ]
  },
  {
   "cell_type": "code",
   "execution_count": 3,
   "metadata": {
    "execution": {
     "iopub.execute_input": "2020-06-04T07:25:59.947498Z",
     "iopub.status.busy": "2020-06-04T07:25:59.946755Z",
     "iopub.status.idle": "2020-06-04T07:26:02.722480Z",
     "shell.execute_reply": "2020-06-04T07:26:02.721466Z"
    },
    "papermill": {
     "duration": 2.794137,
     "end_time": "2020-06-04T07:26:02.722678",
     "exception": false,
     "start_time": "2020-06-04T07:25:59.928541",
     "status": "completed"
    },
    "tags": []
   },
   "outputs": [],
   "source": [
    "# Import required packages\n",
    "\n",
    "from xcube_sh.config import CubeConfig\n",
    "from xcube_sh.cube import open_cube\n",
    "from xcube_sh.sentinelhub import SentinelHub\n",
    "import xarray as xr\n",
    "\n",
    "from sentinelhub import BBox, WmsRequest, DataSource, SHConfig\n",
    "from functools import partial\n",
    "\n",
    "import numpy as np\n",
    "import pandas as pd\n",
    "\n",
    "from matplotlib import pyplot as plt\n"
   ]
  },
  {
   "cell_type": "code",
   "execution_count": 4,
   "metadata": {
    "execution": {
     "iopub.execute_input": "2020-06-04T07:26:02.763269Z",
     "iopub.status.busy": "2020-06-04T07:26:02.762169Z",
     "iopub.status.idle": "2020-06-04T07:26:02.764514Z",
     "shell.execute_reply": "2020-06-04T07:26:02.765038Z"
    },
    "papermill": {
     "duration": 0.024817,
     "end_time": "2020-06-04T07:26:02.765189",
     "exception": false,
     "start_time": "2020-06-04T07:26:02.740372",
     "status": "completed"
    },
    "tags": []
   },
   "outputs": [],
   "source": [
    "# Set Sentinel Hub credentials\n",
    "\n",
    "sh_credentials = dict(client_id='13ab261c-97ca-43ce-b84e-6ac1ee185b74',\n",
    "                      client_secret='bo7+O[b)5v*fz>6W$|c02m>sI7b?_xu0)eZgl;/_') # This is only provided when the Oauth credentials are created\n",
    "\n",
    "# Sentinel-3 OLCI, Sentinel-3 SLSTR and Sentinel-5 layers are processed on different infrastructure, \n",
    "# which requires to used different end-point\n",
    "\n",
    "sh_credentials.update(api_url='https://creodias.sentinel-hub.com/api/v1') "
   ]
  },
  {
   "cell_type": "markdown",
   "metadata": {
    "papermill": {
     "duration": 0.014943,
     "end_time": "2020-06-04T07:26:02.796288",
     "exception": false,
     "start_time": "2020-06-04T07:26:02.781345",
     "status": "completed"
    },
    "tags": []
   },
   "source": [
    "## Core function to calculate NO2 values\n",
    "\n",
    "NO2 values are calculated over the given period (Jan -May) for 2020 & 2019"
   ]
  },
  {
   "cell_type": "code",
   "execution_count": 5,
   "metadata": {
    "execution": {
     "iopub.execute_input": "2020-06-04T07:26:02.850271Z",
     "iopub.status.busy": "2020-06-04T07:26:02.849355Z",
     "iopub.status.idle": "2020-06-04T07:26:02.852563Z",
     "shell.execute_reply": "2020-06-04T07:26:02.851512Z"
    },
    "papermill": {
     "duration": 0.035334,
     "end_time": "2020-06-04T07:26:02.852722",
     "exception": false,
     "start_time": "2020-06-04T07:26:02.817388",
     "status": "completed"
    },
    "tags": []
   },
   "outputs": [],
   "source": [
    "def caculateNO2(geometry, timerange):\n",
    "    \"\"\"\n",
    "    parameters:\n",
    "    geometry: BBox object to be passed. This contains the bounding box for the area of interest (AOI)\n",
    "    timerange: list giving the start & end of the time range format: YYYY-mm-dd\n",
    "    \n",
    "    return:\n",
    "    a dataframe with two columns: Mean NO2 and Timestamp\n",
    "    NO2 mean values for the time span between given timerange \n",
    "    \n",
    "    \"\"\"\n",
    "    cube_config = CubeConfig(dataset_name='S5PL2',\n",
    "                         band_names=['NO2'],\n",
    "                         tile_size=[512, 512],\n",
    "                         geometry=geometry,\n",
    "                         spatial_res=abs(bbox[2]-bbox[0])/512,\n",
    "                         time_range= timerange,\n",
    "                         time_period='3D') \n",
    "    cube = open_cube(cube_config, **sh_credentials)\n",
    "\n",
    "    no2_values = list() \n",
    "    timestamp = list()\n",
    "\n",
    "    for i in range(cube.time.shape[0]):\n",
    "        no2_values.append(np.nanmean(cube.NO2.isel(time=i).values[0]))\n",
    "        timestamp.append(cube.NO2.isel(time=i).time.values)\n",
    "        \n",
    "    assert len(no2_values) == len(timestamp)\n",
    "    \n",
    "    return pd.DataFrame({'DateTime': timestamp, 'Mean NO2': no2_values})"
   ]
  },
  {
   "cell_type": "markdown",
   "metadata": {
    "papermill": {
     "duration": 0.016408,
     "end_time": "2020-06-04T07:26:02.885651",
     "exception": false,
     "start_time": "2020-06-04T07:26:02.869243",
     "status": "completed"
    },
    "tags": []
   },
   "source": [
    "## Read area of interest as a csv file\n",
    "*Uncomment the next code block if you want to read the AOI from a csv file*\n",
    "\n",
    "File has the following columns:\n",
    "- Country: Name of country/territory of interest\n",
    "- x1, y1 : Upper left corner co-ordinates (lat/lon)\n",
    "- x2, y2 : Lower right corner co-ordinates"
   ]
  },
  {
   "cell_type": "code",
   "execution_count": 6,
   "metadata": {
    "execution": {
     "iopub.execute_input": "2020-06-04T07:26:02.927284Z",
     "iopub.status.busy": "2020-06-04T07:26:02.926228Z",
     "iopub.status.idle": "2020-06-04T07:26:02.929258Z",
     "shell.execute_reply": "2020-06-04T07:26:02.928568Z"
    },
    "papermill": {
     "duration": 0.02817,
     "end_time": "2020-06-04T07:26:02.929378",
     "exception": false,
     "start_time": "2020-06-04T07:26:02.901208",
     "status": "completed"
    },
    "tags": []
   },
   "outputs": [],
   "source": [
    "# aoi = pd.read_csv('AOI.csv')\n",
    "# print(aoi.shape)\n",
    "# print(aoi.head(8))\n",
    "\n",
    "# shape = aoi.shape\n",
    "# nullCount = sum(aoi.isna().sum())\n",
    "# print(f\"Shape of 2020 DF: {shape}, Count of Null values: {nullCount}\".format(shape , nullCount ))"
   ]
  },
  {
   "cell_type": "markdown",
   "metadata": {
    "papermill": {
     "duration": 0.01654,
     "end_time": "2020-06-04T07:26:02.964791",
     "exception": false,
     "start_time": "2020-06-04T07:26:02.948251",
     "status": "completed"
    },
    "tags": []
   },
   "source": [
    "## Define AOI as a list\n",
    "\n",
    "*This is a list of dictionaries with the required information*\n",
    "\n",
    "Each dict has the following keys:\n",
    "\n",
    "- Country: Name of country/territory of interest\n",
    "- x1, y1 : Upper left corner co-ordinates (lat/lon)\n",
    "- x2, y2 : Lower right corner co-ordinates"
   ]
  },
  {
   "cell_type": "code",
   "execution_count": 7,
   "metadata": {
    "execution": {
     "iopub.execute_input": "2020-06-04T07:26:03.006842Z",
     "iopub.status.busy": "2020-06-04T07:26:03.005747Z",
     "iopub.status.idle": "2020-06-04T07:26:03.009651Z",
     "shell.execute_reply": "2020-06-04T07:26:03.008702Z"
    },
    "papermill": {
     "duration": 0.030107,
     "end_time": "2020-06-04T07:26:03.009816",
     "exception": false,
     "start_time": "2020-06-04T07:26:02.979709",
     "status": "completed"
    },
    "tags": []
   },
   "outputs": [],
   "source": [
    "aoi = list()\n",
    "\n",
    "#Define two dicts\n",
    "country1 = dict()\n",
    "country1['Country'] = 'Italy'\n",
    "country1['x1'] = 46.28 \n",
    "country1['y1'] = 6.42\n",
    "country1['x2'] = 37.25\n",
    "country1['y2'] = 19.73\n",
    "aoi.append(country1)\n",
    "\n",
    "country2 = dict()\n",
    "country2['Country'] = 'Germany'\n",
    "country2['x1'] = 54.77 \n",
    "country2['y1'] = 4.70\n",
    "country2['x2'] = 47.63\n",
    "country2['y2'] = 15.73\n",
    "aoi.append(country2)\n",
    "\n",
    "#print(len(aoi))"
   ]
  },
  {
   "cell_type": "markdown",
   "metadata": {
    "papermill": {
     "duration": 0.016831,
     "end_time": "2020-06-04T07:26:03.046784",
     "exception": false,
     "start_time": "2020-06-04T07:26:03.029953",
     "status": "completed"
    },
    "tags": []
   },
   "source": [
    "## Main loop \n",
    "\n",
    "We iterate over each row in the `aoi.csv` file \n",
    "\n",
    "Sentinel-5P data for each defined AOI cube is extracted \n",
    "\n",
    "NO2 values for each tile is then averaged & stored in a list\n",
    "\n",
    "For the purpose of this demo we will calculate the NO2 values for one AOI and for one month \n",
    "(*That will ensure that we don't exceed the timelimit of 10mins!*)"
   ]
  },
  {
   "cell_type": "code",
   "execution_count": 8,
   "metadata": {
    "execution": {
     "iopub.execute_input": "2020-06-04T07:26:03.097386Z",
     "iopub.status.busy": "2020-06-04T07:26:03.091301Z",
     "iopub.status.idle": "2020-06-04T07:28:38.740117Z",
     "shell.execute_reply": "2020-06-04T07:28:38.740831Z"
    },
    "papermill": {
     "duration": 155.677391,
     "end_time": "2020-06-04T07:28:38.740987",
     "exception": false,
     "start_time": "2020-06-04T07:26:03.063596",
     "status": "completed"
    },
    "tags": []
   },
   "outputs": [
    {
     "name": "stdout",
     "output_type": "stream",
     "text": [
      "Shape of 2020 DF: (11, 2), Count of Null values: 0\n"
     ]
    },
    {
     "name": "stdout",
     "output_type": "stream",
     "text": [
      "Shape of 2019 DF: (11, 2), Count of Null values: 0\n"
     ]
    }
   ],
   "source": [
    "import time \n",
    "\n",
    "start = time.time()\n",
    "aoi_no2 = list()\n",
    "\n",
    "# Check length of provided aoi list OR dataframe\n",
    "len_aoi = len(aoi)\n",
    "\n",
    "# Define how many AOIs you want to process. For the demo we will use only one \n",
    "counter = 1\n",
    "\n",
    "for idx in range(counter):\n",
    "    aoi_dict = dict()\n",
    "    \n",
    "    # Check if aoi is passed as a list or a dataframe\n",
    "    if isinstance(aoi, list):\n",
    "        aoi_dict['Country_BBox'] = aoi[idx]['Country']\n",
    "        x1 = int(aoi[idx]['x1'])  # degree \n",
    "        y1 = int(aoi[idx]['y1'])  # degree\n",
    "        x2 = int(aoi[idx]['x2'])  # degree\n",
    "        y2 = int(aoi[idx]['y2'])  # degree\n",
    "                \n",
    "    else:\n",
    "        aoi_dict['Country_BBox'] = aoi.loc[idx]['Country']\n",
    "        print(\"Processing: \", aoi_dict['Country_BBox'])\n",
    "        x1 = int(aoi.loc[idx]['x1'])  # degree \n",
    "        y1 = int(aoi.loc[idx]['y1'])  # degree\n",
    "        x2 = int(aoi.loc[idx]['x2'])  # degree\n",
    "        y2 = int(aoi.loc[idx]['y2'])  # degree\n",
    "\n",
    "    bbox = x1, y1, x2, y2\n",
    "    timerange = ['2020-01-01', '2020-01-31']\n",
    "    aoi_dict['NO2_2020'] = caculateNO2(bbox, timerange)\n",
    "    shape = aoi_dict['NO2_2020'].shape\n",
    "    nullCount = sum(aoi_dict['NO2_2020'].isna().sum())\n",
    "    print(f\"Shape of 2020 DF: {shape}, Count of Null values: {nullCount}\".format(shape , nullCount ))    \n",
    "    \n",
    "    timerange = ['2019-01-01', '2019-01-31']\n",
    "    aoi_dict['NO2_2019'] = caculateNO2(bbox, timerange)\n",
    "    shape = aoi_dict['NO2_2019'].shape\n",
    "    nullCount = sum(aoi_dict['NO2_2019'].isna().sum())\n",
    "    print(f\"Shape of 2019 DF: {shape}, Count of Null values: {nullCount}\".format(shape , nullCount ))\n",
    "\n",
    "    aoi_no2.append(aoi_dict)\n",
    "\n",
    "end = time.time()\n",
    "#print(len(aoi_no2))\n"
   ]
  },
  {
   "cell_type": "code",
   "execution_count": 9,
   "metadata": {
    "execution": {
     "iopub.execute_input": "2020-06-04T07:28:38.779365Z",
     "iopub.status.busy": "2020-06-04T07:28:38.778380Z",
     "iopub.status.idle": "2020-06-04T07:28:38.943980Z",
     "shell.execute_reply": "2020-06-04T07:28:38.942563Z"
    },
    "papermill": {
     "duration": 0.186231,
     "end_time": "2020-06-04T07:28:38.944241",
     "exception": true,
     "start_time": "2020-06-04T07:28:38.758010",
     "status": "failed"
    },
    "tags": []
   },
   "outputs": [
    {
     "ename": "ValueError",
     "evalue": "Unknown format code 'd' for object of type 'float'",
     "output_type": "error",
     "traceback": [
      "\u001b[0;31m---------------------------------------------------------------------------\u001b[0m",
      "\u001b[0;31mValueError\u001b[0m                                Traceback (most recent call last)",
      "\u001b[0;32m<ipython-input-9-73d0c5255135>\u001b[0m in \u001b[0;36m<module>\u001b[0;34m\u001b[0m\n\u001b[0;32m----> 1\u001b[0;31m \u001b[0mprint\u001b[0m\u001b[0;34m(\u001b[0m\u001b[0;34m\"Total processing time: {:.2d} mins\"\u001b[0m\u001b[0;34m.\u001b[0m\u001b[0mformat\u001b[0m\u001b[0;34m(\u001b[0m\u001b[0;34m(\u001b[0m\u001b[0mend\u001b[0m\u001b[0;34m-\u001b[0m\u001b[0mstart\u001b[0m\u001b[0;34m)\u001b[0m\u001b[0;34m/\u001b[0m\u001b[0;36m60\u001b[0m\u001b[0;34m)\u001b[0m\u001b[0;34m)\u001b[0m\u001b[0;34m\u001b[0m\u001b[0;34m\u001b[0m\u001b[0m\n\u001b[0m",
      "\u001b[0;31mValueError\u001b[0m: Unknown format code 'd' for object of type 'float'"
     ]
    }
   ],
   "source": [
    "print(\"Total processing time: {:.2} mins\".format((end-start)/60)) "
   ]
  },
  {
   "cell_type": "markdown",
   "metadata": {
    "papermill": {
     "duration": null,
     "end_time": null,
     "exception": null,
     "start_time": null,
     "status": "pending"
    },
    "tags": []
   },
   "source": [
    "The list is then pickled so that the information can then be reused in another run"
   ]
  },
  {
   "cell_type": "code",
   "execution_count": null,
   "metadata": {
    "papermill": {
     "duration": null,
     "end_time": null,
     "exception": null,
     "start_time": null,
     "status": "pending"
    },
    "tags": []
   },
   "outputs": [],
   "source": [
    "import pickle \n",
    "#print(len(aoi_no2))\n",
    "with open('aoi_list_no2.pkl', 'wb') as f:\n",
    "    pickle.dump(aoi_no2, f)"
   ]
  },
  {
   "cell_type": "markdown",
   "metadata": {
    "papermill": {
     "duration": null,
     "end_time": null,
     "exception": null,
     "start_time": null,
     "status": "pending"
    },
    "tags": []
   },
   "source": [
    "## Plotting function\n",
    "\n",
    "This plots the NO2 values over time"
   ]
  },
  {
   "cell_type": "code",
   "execution_count": null,
   "metadata": {
    "papermill": {
     "duration": null,
     "end_time": null,
     "exception": null,
     "start_time": null,
     "status": "pending"
    },
    "tags": []
   },
   "outputs": [],
   "source": [
    "import matplotlib.pyplot as plt\n",
    "\n",
    "def plot_no2(idx):\n",
    "    \"\"\"\n",
    "    parameters:\n",
    "    idx: Input id for accessing NO2 data \n",
    "    \n",
    "    return:\n",
    "    None\n",
    "    line plots for NO2 (2020 vs 2019) are generated\n",
    "    \"\"\"\n",
    "\n",
    "    plt.plot(aoi_no2[idx]['NO2_2020']['DateTime'], aoi_no2[idx]['NO2_2020']['Mean NO2'],  label = 'NO2 levels (2020)')\n",
    "    plt.plot(aoi_no2[idx]['NO2_2020']['DateTime'], aoi_no2[idx]['NO2_2019']['Mean NO2'], label = 'NO2 levels (2019)')\n",
    "    plt.ylabel('NO2 Levels')\n",
    "    plt.xlabel('Month')\n",
    "    plt.title('NO2 levels for '+ aoi_no2[idx]['Country_BBox'])\n",
    "    plt.legend()\n",
    "    plt.savefig(aoi_no2[idx]['Country_BBox']+'.png')\n",
    "    plt.show()"
   ]
  },
  {
   "cell_type": "code",
   "execution_count": null,
   "metadata": {
    "papermill": {
     "duration": null,
     "end_time": null,
     "exception": null,
     "start_time": null,
     "status": "pending"
    },
    "tags": []
   },
   "outputs": [],
   "source": [
    "for idx in range(len(aoi_no2)):\n",
    "    plot_no2(idx)\n"
   ]
  },
  {
   "cell_type": "code",
   "execution_count": null,
   "metadata": {
    "papermill": {
     "duration": null,
     "end_time": null,
     "exception": null,
     "start_time": null,
     "status": "pending"
    },
    "tags": []
   },
   "outputs": [],
   "source": []
  }
 ],
 "metadata": {
  "kernelspec": {
   "display_name": "Python 3",
   "language": "python",
   "name": "python3"
  },
  "language_info": {
   "codemirror_mode": {
    "name": "ipython",
    "version": 3
   },
   "file_extension": ".py",
   "mimetype": "text/x-python",
   "name": "python",
   "nbconvert_exporter": "python",
   "pygments_lexer": "ipython3",
   "version": "3.7.6"
  },
  "papermill": {
   "duration": 160.546075,
   "end_time": "2020-06-04T07:28:39.149512",
   "environment_variables": {},
   "exception": true,
   "input_path": "/tmp/tmpq_yizjh6",
   "output_path": "/tmp/notebook_output.ipynb",
   "parameters": {},
   "start_time": "2020-06-04T07:25:58.603437",
   "version": "2.1.0"
  },
  "properties": {
   "description": "NO2 levels are used to assess success of pandemic lockdowns",
   "id": "1022d3c7-728e-484c-bce8-05b414282acc",
   "license": null,
   "name": "Covid19 Lockdown and Pollution (NO2)",
   "requirements": [
    "eurodatacube"
   ],
   "tags": [
    "COVID-19",
    "Analysis-Ready Data",
    "EO Data",
    "Jupyter",
    "Sentinel Data",
    "xcube"
   ],
   "tosAgree": true,
   "type": "Jupyter Notebook",
   "user_id": "efb05e9b-9eec-4e72-9b8d-ec1e782e7f23",
   "version": "1.0"
  }
 },
 "nbformat": 4,
 "nbformat_minor": 4
}
